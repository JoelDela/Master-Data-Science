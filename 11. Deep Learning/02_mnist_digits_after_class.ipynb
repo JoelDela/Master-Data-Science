{
  "nbformat": 4,
  "nbformat_minor": 0,
  "metadata": {
    "kernelspec": {
      "name": "python3",
      "display_name": "Python 3"
    },
    "language_info": {
      "codemirror_mode": {
        "name": "ipython",
        "version": 3
      },
      "file_extension": ".py",
      "mimetype": "text/x-python",
      "name": "python",
      "nbconvert_exporter": "python",
      "pygments_lexer": "ipython3",
      "version": "3.6.6"
    },
    "colab": {
      "name": "02_mnist_digits_before_class.ipynb",
      "provenance": []
    },
    "accelerator": "GPU"
  },
  "cells": [
    {
      "cell_type": "code",
      "metadata": {
        "id": "6n94gwqFEWG6",
        "colab_type": "code",
        "colab": {
          "base_uri": "https://localhost:8080/",
          "height": 34
        },
        "outputId": "6ac95c1a-704f-4906-f32f-1697116e4f8a"
      },
      "source": [
        "%pylab inline\n",
        "plt.style.use('seaborn-talk')"
      ],
      "execution_count": 98,
      "outputs": [
        {
          "output_type": "stream",
          "text": [
            "Populating the interactive namespace from numpy and matplotlib\n"
          ],
          "name": "stdout"
        }
      ]
    },
    {
      "cell_type": "code",
      "metadata": {
        "id": "JLFg7b7QGbWD",
        "colab_type": "code",
        "colab": {}
      },
      "source": [
        "%tensorflow_version 2.x"
      ],
      "execution_count": 0,
      "outputs": []
    },
    {
      "cell_type": "markdown",
      "metadata": {
        "id": "1l0cjU2GEWHE",
        "colab_type": "text"
      },
      "source": [
        "We will use this function to plot the metrics of our training process, to help in choosing the best model"
      ]
    },
    {
      "cell_type": "code",
      "metadata": {
        "id": "-LvEzK5OEWHF",
        "colab_type": "code",
        "colab": {}
      },
      "source": [
        "def plot_metric(history, metric):\n",
        "    history_dict = history.history\n",
        "    values = history_dict[metric]\n",
        "    if 'val_' + metric in history_dict.keys():  \n",
        "        val_values = history_dict['val_' + metric]\n",
        "\n",
        "    epochs = range(1, len(values) + 1)\n",
        "\n",
        "    if 'val_' + metric in history_dict.keys():  \n",
        "        plt.plot(epochs, val_values, label='Validation')\n",
        "    plt.semilogy(epochs, values, label='Training')\n",
        "\n",
        "    if 'val_' + metric in history_dict.keys():  \n",
        "        plt.title('Training and validation %s' % metric)\n",
        "    else:\n",
        "        plt.title('Training %s' % metric)\n",
        "    plt.xlabel('Epochs')\n",
        "    plt.ylabel(metric.capitalize())\n",
        "    plt.legend()\n",
        "    plt.grid()\n",
        "\n",
        "    plt.show()  "
      ],
      "execution_count": 0,
      "outputs": []
    },
    {
      "cell_type": "markdown",
      "metadata": {
        "id": "F0C6SHxdEWHJ",
        "colab_type": "text"
      },
      "source": [
        "We will use this function to explore the data"
      ]
    },
    {
      "cell_type": "code",
      "metadata": {
        "id": "7CfV_k-hEWHK",
        "colab_type": "code",
        "colab": {}
      },
      "source": [
        "def plot_mnist_image(N, imgs, labels):\n",
        "  print(\"The image below should show the number %d\" % labels[N])\n",
        "  plt.imshow(imgs[N,], cmap=plt.cm.binary)\n",
        "  plt.grid(True)"
      ],
      "execution_count": 0,
      "outputs": []
    },
    {
      "cell_type": "markdown",
      "metadata": {
        "id": "112CsoalEWHP",
        "colab_type": "text"
      },
      "source": [
        "# The problem\n",
        "\n",
        "We will recognize handwritten digits. For an image containing a number between 0 and 9, we will recognize the number and will produce an int as output"
      ]
    },
    {
      "cell_type": "code",
      "metadata": {
        "id": "l_YnC13FEWHR",
        "colab_type": "code",
        "colab": {}
      },
      "source": [
        "from keras.datasets import mnist"
      ],
      "execution_count": 0,
      "outputs": []
    },
    {
      "cell_type": "code",
      "metadata": {
        "id": "_Eu7JtlFEWHW",
        "colab_type": "code",
        "colab": {}
      },
      "source": [
        "# Run this to download the data prior to the lecture\n",
        "train_orig_data, test_orig_data = mnist.load_data()"
      ],
      "execution_count": 0,
      "outputs": []
    },
    {
      "cell_type": "code",
      "metadata": {
        "id": "w42brjE-EWHd",
        "colab_type": "code",
        "colab": {
          "base_uri": "https://localhost:8080/",
          "height": 34
        },
        "outputId": "12a8c08e-f075-41b7-8b13-f38113bc2192"
      },
      "source": [
        "# Aquí tenemos los datos (X)\n",
        "train_orig_data[0].shape"
      ],
      "execution_count": 104,
      "outputs": [
        {
          "output_type": "execute_result",
          "data": {
            "text/plain": [
              "(60000, 28, 28)"
            ]
          },
          "metadata": {
            "tags": []
          },
          "execution_count": 104
        }
      ]
    },
    {
      "cell_type": "markdown",
      "metadata": {
        "id": "q2MTPHooIU5O",
        "colab_type": "text"
      },
      "source": [
        "Tiene 60.000 imágenes de 28x28"
      ]
    },
    {
      "cell_type": "code",
      "metadata": {
        "id": "dF0QOOxHIdsS",
        "colab_type": "code",
        "colab": {
          "base_uri": "https://localhost:8080/",
          "height": 34
        },
        "outputId": "df94d2e8-a607-4ab0-9990-8d75e669be2e"
      },
      "source": [
        "# Aquí tenemos las etiquetas (y)\n",
        "train_orig_data[1].shape"
      ],
      "execution_count": 105,
      "outputs": [
        {
          "output_type": "execute_result",
          "data": {
            "text/plain": [
              "(60000,)"
            ]
          },
          "metadata": {
            "tags": []
          },
          "execution_count": 105
        }
      ]
    },
    {
      "cell_type": "code",
      "metadata": {
        "id": "z9dT8oqCIdxL",
        "colab_type": "code",
        "colab": {
          "base_uri": "https://localhost:8080/",
          "height": 462
        },
        "outputId": "952f3874-071d-4754-e218-1034ae0cc4a5"
      },
      "source": [
        "idx=np.random.randint(low=0,high=train_orig_data[0].shape[0],size=1)[0]\n",
        "plot_mnist_image(idx, train_orig_data[0], train_orig_data[1])"
      ],
      "execution_count": 106,
      "outputs": [
        {
          "output_type": "stream",
          "text": [
            "The image below should show the number 4\n"
          ],
          "name": "stdout"
        },
        {
          "output_type": "display_data",
          "data": {
            "image/png": "[encoded data removed]",
            "text/plain": [
              "<Figure size 748.8x514.8 with 1 Axes>"
            ]
          },
          "metadata": {
            "tags": []
          }
        }
      ]
    },
    {
      "cell_type": "code",
      "metadata": {
        "id": "4YqwtlAJIeBB",
        "colab_type": "code",
        "colab": {}
      },
      "source": [
        "train_imgs=train_orig_data[0]\n",
        "train_labels=train_orig_data[1]\n",
        "\n",
        "test_imgs=test_orig_data[0]\n",
        "test_labels=test_orig_data[1]"
      ],
      "execution_count": 0,
      "outputs": []
    },
    {
      "cell_type": "code",
      "metadata": {
        "id": "6QjDJpXfIeEl",
        "colab_type": "code",
        "colab": {
          "base_uri": "https://localhost:8080/",
          "height": 462
        },
        "outputId": "d5ed2fe4-d566-47e5-ca42-448f3de6de13"
      },
      "source": [
        "idx=np.random.randint(low=0,high=test_orig_data[0].shape[0],size=1)[0]\n",
        "plot_mnist_image(idx, test_orig_data[0], test_orig_data[1])"
      ],
      "execution_count": 108,
      "outputs": [
        {
          "output_type": "stream",
          "text": [
            "The image below should show the number 1\n"
          ],
          "name": "stdout"
        },
        {
          "output_type": "display_data",
          "data": {
            "image/png": "[encoded data removed]",
            "text/plain": [
              "<Figure size 748.8x514.8 with 1 Axes>"
            ]
          },
          "metadata": {
            "tags": []
          }
        }
      ]
    },
    {
      "cell_type": "markdown",
      "metadata": {
        "id": "gfQCivC7EWHg",
        "colab_type": "text"
      },
      "source": [
        "We will design a network that will be able to recognize that the image is showing the number 7 (for all the images in the test set)"
      ]
    },
    {
      "cell_type": "markdown",
      "metadata": {
        "id": "GDyf9N2EEWHh",
        "colab_type": "text"
      },
      "source": [
        "## Data transform\n",
        "\n",
        "We need to change the shape of the data, so it can be fed to the network more easily"
      ]
    },
    {
      "cell_type": "code",
      "metadata": {
        "id": "Tzz0WOdyEWHi",
        "colab_type": "code",
        "colab": {
          "base_uri": "https://localhost:8080/",
          "height": 34
        },
        "outputId": "3337c12e-1b0c-4185-d668-bd33d0d3929a"
      },
      "source": [
        "train_imgs.max(),train_imgs.min(),test_imgs.max(),test_imgs.min()"
      ],
      "execution_count": 109,
      "outputs": [
        {
          "output_type": "execute_result",
          "data": {
            "text/plain": [
              "(255, 0, 255, 0)"
            ]
          },
          "metadata": {
            "tags": []
          },
          "execution_count": 109
        }
      ]
    },
    {
      "cell_type": "code",
      "metadata": {
        "id": "hHPp0vLJKvHM",
        "colab_type": "code",
        "colab": {
          "base_uri": "https://localhost:8080/",
          "height": 34
        },
        "outputId": "f756e6e9-1e28-4b87-b596-fef27d8bb785"
      },
      "source": [
        "train_imgs_n=train_imgs/255.0  #Normalizamos, pero aquí es más fácil porque min=0\n",
        "test_imgs_n=test_imgs/255.0\n",
        "train_imgs_n.max(),train_imgs_n.min(),test_imgs_n.max(),test_imgs_n.min()"
      ],
      "execution_count": 110,
      "outputs": [
        {
          "output_type": "execute_result",
          "data": {
            "text/plain": [
              "(1.0, 0.0, 1.0, 0.0)"
            ]
          },
          "metadata": {
            "tags": []
          },
          "execution_count": 110
        }
      ]
    },
    {
      "cell_type": "markdown",
      "metadata": {
        "id": "Jb84FavPEWHl",
        "colab_type": "text"
      },
      "source": [
        "All the images are 28x28 matrices, with values between 0 and 255. Let's normalize the images, to avoid problems in the numerical computations using large numbers.\n",
        "\n",
        "We will convert the matrix to a vector with 28x28 components, stacking columns on top of each other. This will make the design of the network.\n",
        "* Alternatively, we could add a `Flatten(input_shape=(28,28))` layer to the model"
      ]
    },
    {
      "cell_type": "markdown",
      "metadata": {
        "id": "BkK3yeZDLdDF",
        "colab_type": "text"
      },
      "source": [
        "La entrada de una capa densa es un vector: y= f(W*x+b)"
      ]
    },
    {
      "cell_type": "code",
      "metadata": {
        "id": "BahTSvZzEWHn",
        "colab_type": "code",
        "colab": {
          "base_uri": "https://localhost:8080/",
          "height": 34
        },
        "outputId": "8a455444-d58f-460b-c09e-90262cef5619"
      },
      "source": [
        "train_imgs[0].shape"
      ],
      "execution_count": 111,
      "outputs": [
        {
          "output_type": "execute_result",
          "data": {
            "text/plain": [
              "(28, 28)"
            ]
          },
          "metadata": {
            "tags": []
          },
          "execution_count": 111
        }
      ]
    },
    {
      "cell_type": "markdown",
      "metadata": {
        "id": "bi9EYV3gEWHq",
        "colab_type": "text"
      },
      "source": [
        "Because we want to assign a *category* to each image, we need to transform the output to categorical format"
      ]
    },
    {
      "cell_type": "code",
      "metadata": {
        "id": "u3kL-pobEWHs",
        "colab_type": "code",
        "colab": {
          "base_uri": "https://localhost:8080/",
          "height": 34
        },
        "outputId": "73eec901-d66d-4579-e429-2c38d3bd1993"
      },
      "source": [
        "train_labels"
      ],
      "execution_count": 112,
      "outputs": [
        {
          "output_type": "execute_result",
          "data": {
            "text/plain": [
              "array([5, 0, 4, ..., 5, 6, 8], dtype=uint8)"
            ]
          },
          "metadata": {
            "tags": []
          },
          "execution_count": 112
        }
      ]
    },
    {
      "cell_type": "markdown",
      "metadata": {
        "id": "k3eP7bmMEWHw",
        "colab_type": "text"
      },
      "source": [
        "Initially, our target data is just a set of numbers"
      ]
    },
    {
      "cell_type": "code",
      "metadata": {
        "id": "ZMN4CLBTEWHx",
        "colab_type": "code",
        "colab": {
          "base_uri": "https://localhost:8080/",
          "height": 34
        },
        "outputId": "9cc940ae-c908-4de6-d6af-7902ae313c17"
      },
      "source": [
        "train_labels.shape"
      ],
      "execution_count": 113,
      "outputs": [
        {
          "output_type": "execute_result",
          "data": {
            "text/plain": [
              "(60000,)"
            ]
          },
          "metadata": {
            "tags": []
          },
          "execution_count": 113
        }
      ]
    },
    {
      "cell_type": "markdown",
      "metadata": {
        "id": "XbJrS7knEWH3",
        "colab_type": "text"
      },
      "source": [
        "We are going to transform it to **1-HOT encoding format**"
      ]
    },
    {
      "cell_type": "markdown",
      "metadata": {
        "id": "Q_XbIHFfMHss",
        "colab_type": "text"
      },
      "source": [
        "One-hot encoding de 3 clases (0,1,2):\n",
        "\n",
        "1 -> [0,1,0]\n",
        "\n",
        "0 -> [1,0,0]\n",
        "\n",
        "2 -> [0,0,1]\n",
        "\n",
        "Para nuestro caso tenemos 10 categorías (del 0 al 9):\n",
        "\n",
        "4 -> [0,0,0,0,1,0,0,0,0,0]\n",
        "\n",
        "Queremos que nuestro predictor nos dé la mayor probabilidad en la posición de ese número"
      ]
    },
    {
      "cell_type": "code",
      "metadata": {
        "id": "tonHXeAMEWH6",
        "colab_type": "code",
        "colab": {}
      },
      "source": [
        "from tensorflow.keras.utils import to_categorical"
      ],
      "execution_count": 0,
      "outputs": []
    },
    {
      "cell_type": "markdown",
      "metadata": {
        "id": "wxc1UG2REWIB",
        "colab_type": "text"
      },
      "source": [
        "We have to repeat the same process with the test data"
      ]
    },
    {
      "cell_type": "code",
      "metadata": {
        "id": "mCLVi2RbEWIC",
        "colab_type": "code",
        "colab": {
          "base_uri": "https://localhost:8080/",
          "height": 34
        },
        "outputId": "567c78a3-b7de-4ec4-ca73-6141fcf2e0ed"
      },
      "source": [
        "to_categorical(9,num_classes=10)"
      ],
      "execution_count": 115,
      "outputs": [
        {
          "output_type": "execute_result",
          "data": {
            "text/plain": [
              "array([0., 0., 0., 0., 0., 0., 0., 0., 0., 1.], dtype=float32)"
            ]
          },
          "metadata": {
            "tags": []
          },
          "execution_count": 115
        }
      ]
    },
    {
      "cell_type": "code",
      "metadata": {
        "id": "5srpFXSJNnim",
        "colab_type": "code",
        "colab": {}
      },
      "source": [
        "train_labels_1hot=to_categorical(train_labels,num_classes=10)\n",
        "test_labels_1hot=to_categorical(test_labels,num_classes=10)"
      ],
      "execution_count": 0,
      "outputs": []
    },
    {
      "cell_type": "code",
      "metadata": {
        "id": "umftBKhzN8Jx",
        "colab_type": "code",
        "colab": {
          "base_uri": "https://localhost:8080/",
          "height": 34
        },
        "outputId": "ff7e7c52-498c-4ffe-9a37-17c7ce0821aa"
      },
      "source": [
        "train_labels_1hot.shape, test_labels_1hot.shape"
      ],
      "execution_count": 117,
      "outputs": [
        {
          "output_type": "execute_result",
          "data": {
            "text/plain": [
              "((60000, 10), (10000, 10))"
            ]
          },
          "metadata": {
            "tags": []
          },
          "execution_count": 117
        }
      ]
    },
    {
      "cell_type": "markdown",
      "metadata": {
        "id": "yeU5dhjbEWIG",
        "colab_type": "text"
      },
      "source": [
        "## Let's build the model"
      ]
    },
    {
      "cell_type": "code",
      "metadata": {
        "id": "j2khrZftOVbl",
        "colab_type": "code",
        "colab": {}
      },
      "source": [
        "from tensorflow.keras.models import Sequential\n",
        "from tensorflow.keras.layers import Dense, Flatten, Dropout"
      ],
      "execution_count": 0,
      "outputs": []
    },
    {
      "cell_type": "code",
      "metadata": {
        "id": "yDuYURMBEWIH",
        "colab_type": "code",
        "colab": {}
      },
      "source": [
        "def build_model():\n",
        "  #Creamos el modelo\n",
        "  m = Sequential()\n",
        "  #Aplanamos las imágenes\n",
        "  m.add(Flatten(input_shape=(28,28)))\n",
        "  #Definimos las capas ocultas\n",
        "  m.add((Dense(units=128,activation='relu')))\n",
        "  m.add((Dense(units=64,activation='relu')))\n",
        "  m.add((Dense(units=32,activation='relu')))\n",
        "  #Definimos la capa de salida. Esta activación nos permite obtener la probabilidad\n",
        "  #Tenemos que darle la salida del 1-hot\n",
        "  m.add((Dense(units=10,activation='softmax')))\n",
        "  m.summary()  \n",
        "\n",
        "  return m"
      ],
      "execution_count": 0,
      "outputs": []
    },
    {
      "cell_type": "code",
      "metadata": {
        "id": "KbQrG2GzRod_",
        "colab_type": "code",
        "colab": {
          "base_uri": "https://localhost:8080/",
          "height": 323
        },
        "outputId": "18855fa5-2ef5-4b3c-be5f-61db1b3e5caf"
      },
      "source": [
        "m=build_model()"
      ],
      "execution_count": 69,
      "outputs": [
        {
          "output_type": "stream",
          "text": [
            "Model: \"sequential_1\"\n",
            "_________________________________________________________________\n",
            "Layer (type)                 Output Shape              Param #   \n",
            "=================================================================\n",
            "flatten (Flatten)            (None, 784)               0         \n",
            "_________________________________________________________________\n",
            "dense (Dense)                (None, 128)               100480    \n",
            "_________________________________________________________________\n",
            "dense_1 (Dense)              (None, 64)                8256      \n",
            "_________________________________________________________________\n",
            "dense_2 (Dense)              (None, 32)                2080      \n",
            "_________________________________________________________________\n",
            "dense_3 (Dense)              (None, 10)                330       \n",
            "=================================================================\n",
            "Total params: 111,146\n",
            "Trainable params: 111,146\n",
            "Non-trainable params: 0\n",
            "_________________________________________________________________\n"
          ],
          "name": "stdout"
        }
      ]
    },
    {
      "cell_type": "markdown",
      "metadata": {
        "id": "hKOL0ZbLR16v",
        "colab_type": "text"
      },
      "source": [
        "Contamos parámetros:\n",
        "\n",
        "y = f*(W*x+b)\n",
        "\n",
        "[y]=128, [W]=128x784, [x]=784, [b] = 128"
      ]
    },
    {
      "cell_type": "code",
      "metadata": {
        "id": "H5PZVALfXiG4",
        "colab_type": "code",
        "colab": {}
      },
      "source": [
        "from tensorflow.keras import optimizers"
      ],
      "execution_count": 0,
      "outputs": []
    },
    {
      "cell_type": "code",
      "metadata": {
        "id": "6MQl_hPIXKSE",
        "colab_type": "code",
        "colab": {
          "base_uri": "https://localhost:8080/",
          "height": 34
        },
        "outputId": "351ab627-83f7-4e64-e80d-f0ed2c80d263"
      },
      "source": [
        "# Buscamos optimizadores\n",
        "optimizers.Adam(learning_rate=5e-4)\n",
        "optimizers.RMSprop(learning_rate=1e-3)"
      ],
      "execution_count": 71,
      "outputs": [
        {
          "output_type": "execute_result",
          "data": {
            "text/plain": [
              "<tensorflow.python.keras.optimizer_v2.rmsprop.RMSprop at 0x7fa5c0516320>"
            ]
          },
          "metadata": {
            "tags": []
          },
          "execution_count": 71
        }
      ]
    },
    {
      "cell_type": "code",
      "metadata": {
        "id": "pYns-07FXin2",
        "colab_type": "code",
        "colab": {}
      },
      "source": [
        "# De losses cogeríamos 'categorical_crossentropy'\n",
        "from tensorflow.keras import losses"
      ],
      "execution_count": 0,
      "outputs": []
    },
    {
      "cell_type": "markdown",
      "metadata": {
        "id": "3Kja8U9TX3Qb",
        "colab_type": "text"
      },
      "source": [
        "Ejemplo de crossentropy para dos clases:\n",
        "\n",
        " -label_c1 * log (predic_c1) + -label_c2 * log(predic_c2)\n",
        "\n",
        " Supongamos que me viene una imagen de clase 1:\n",
        "\n",
        " - label_c1=1, label_c2=0\n",
        "\n",
        "- loss = -log(predic_c1)\n",
        "\n",
        "por lo que loss tiene que valer 0 para minimizar el loss, por lo que la predic_c1 tiene que ser 1\n",
        "\n",
        "Como usamos probabilidades:\n",
        "\n",
        "prediction_c2=1-prediction_c1=0"
      ]
    },
    {
      "cell_type": "code",
      "metadata": {
        "id": "aHM4C0bmXvHS",
        "colab_type": "code",
        "colab": {}
      },
      "source": [
        "# De la metrics cogeríamos 'categorical_accuracy'\n",
        "from tensorflow.keras import metrics"
      ],
      "execution_count": 0,
      "outputs": []
    },
    {
      "cell_type": "markdown",
      "metadata": {
        "id": "om8XASqvEWIK",
        "colab_type": "text"
      },
      "source": [
        "Here we will make some decisions about how to train our model.\n",
        "\n",
        "The **objective function**, called **loss function** in Deep Learning, will be *categorical crossentropy*. This is because we are trying to predict discrete classes. If we choose a different function, the solution will be different. This is the function that will tell us when we have found the *solution*. Different functions will point to different *solutions*.\n",
        "\n",
        "The **optimizer** is the method that we will use to find the minimum of the **loss function**. In general, we will not find the global minimum of the loss function, but a minimum that is good enough. *RMSProp* is one the variants of gradient descent. But there are many more:\n",
        " - http://ruder.io/optimizing-gradient-descent/\n",
        " \n",
        "These two settings will define what solution we will find during the training process.\n",
        "\n",
        "The other parameter, the **metrics**, is only for information purposes. In each step of the training (called **epoch**), Keras will report the value of the metrics. But whether we choose one metric or another will not influence the training process. It is only for reporting how the training is going. That information will be useful for the validation of the model, that is, for the **hyperparameters tuning**.\n"
      ]
    },
    {
      "cell_type": "markdown",
      "metadata": {
        "id": "j9qL4ABmEWIM",
        "colab_type": "text"
      },
      "source": [
        "Now let's fit the neural network. We will keep the results in a *history* object to plot some parameters after the training, and use that information for improving our model (changing layers, activation functions, etc). This process is called **hyperparameters tuning** or hypeparameters search.\n",
        "\n",
        "Here we need to set two parameters: the number of **epochs** and the **batch size**.\n",
        "\n",
        "In previous cells, I have said that the training process is an optimization problem: we try to find the minimum.\n",
        "\n",
        "That's actually not entirely true. In practice, we don't keep searching for a minimum. Instead, we train for a preset number of epochs. Then we analyze the output using the validation set. If we detect overfit, then we reduce the number of epochs. If we don't detect it, then maybe we can keep going for some more epochs to find a better model. The number of epochs is another hyperparameter. In general, we should stop the training as early as possible. Any further epoch can make our model overfit, and therefore generalize poorly.\n",
        "\n",
        "The batch size is another hyperparameter. The network is not updated item by item, vector by vector. We can actually calculate the weights for a batch of several items, forming a matrix or a tensor. The batch size will affect the granularity of the calculations and the performance. A larger batch size will probably result in a slightly worse accuracy, but in a better performance. As long as the batch size is not so huge that it cannot be kept in memory. Because we are running on a GPU, it is a good idea to use a power of 2 for the batch size. It will probably make a better use of the GPU. But again, the effect of the batch size must be tested using the validation set, and adjusted until we find a good value for that parameter.\n",
        "\n",
        "An epoch is a full pass over the training dataset. At the end of each epoch, Keras will calculate the value of the metrics for the training set, and the loss function and metrics for the validation set. The loss and metrics of the validation set are useful for the hyperparameters tuning process.\n",
        "\n"
      ]
    },
    {
      "cell_type": "code",
      "metadata": {
        "id": "cem7CSBVEWIN",
        "colab_type": "code",
        "colab": {}
      },
      "source": [
        "#Compilamos el modelo\n",
        "m.compile(optimizer=optimizers.Adam(learning_rate=0.001),loss=losses.categorical_crossentropy,metrics=[metrics.categorical_accuracy])"
      ],
      "execution_count": 0,
      "outputs": []
    },
    {
      "cell_type": "markdown",
      "metadata": {
        "id": "5r4z0UQUbywh",
        "colab_type": "text"
      },
      "source": [
        "Resumimos todo:"
      ]
    },
    {
      "cell_type": "code",
      "metadata": {
        "id": "cPOBvEQJdCYv",
        "colab_type": "code",
        "colab": {}
      },
      "source": [
        "from tensorflow.keras.models import Sequential\n",
        "from tensorflow.keras import layers\n",
        "from tensorflow.keras import optimizers\n",
        "from tensorflow.keras import losses\n",
        "from tensorflow.keras import metrics"
      ],
      "execution_count": 0,
      "outputs": []
    },
    {
      "cell_type": "code",
      "metadata": {
        "id": "0PsZAh3YbyBv",
        "colab_type": "code",
        "colab": {}
      },
      "source": [
        "def build_model():\n",
        "  #Creamos el modelo\n",
        "  m = Sequential()\n",
        "  #Aplanamos las imágenes\n",
        "  m.add(layers.Flatten(input_shape=(28,28)))\n",
        "  #Definimos las capas ocultas\n",
        "  m.add(layers.Dense(units=1024,activation='softplus'))\n",
        "  m.add(layers.Dense(units=512,activation='softplus'))\n",
        "  m.add(layers.Dense(units=256,activation='softplus'))\n",
        "  m.add(layers.Dense(units=128,activation='softplus'))\n",
        "  m.add(layers.Dropout(rate=0.2))\n",
        "  m.add(layers.Dense(units=64,activation='softplus'))\n",
        "  m.add(layers.Dropout(rate=0.2))\n",
        "  m.add(layers.Dense(units=32,activation='softplus'))\n",
        "  #Definimos la capa de salida. Esta activación nos permite obtener la probabilidad\n",
        "  #Tenemos que darle la salida del 1-hot\n",
        "  m.add(layers.Dense(units=10,activation='softmax'))\n",
        "  m.summary()  \n",
        "\n",
        "  return m"
      ],
      "execution_count": 0,
      "outputs": []
    },
    {
      "cell_type": "code",
      "metadata": {
        "id": "8E9GFkegaAxy",
        "colab_type": "code",
        "colab": {
          "base_uri": "https://localhost:8080/",
          "height": 1000
        },
        "outputId": "4237c8c9-0730-4efb-b483-a8a4a16ca9ba"
      },
      "source": [
        "#Construimos el modelo\n",
        "m=build_model()\n",
        "#Compilamos el modelo\n",
        "m.compile(optimizer=optimizers.Adam(learning_rate=0.0005),loss=losses.categorical_crossentropy,metrics=[metrics.categorical_accuracy])\n",
        "#Entrenamos el modelo\n",
        "h=m.fit(x=train_imgs_n,y=train_labels_1hot,batch_size=50,epochs=40,validation_split=0.2)\n",
        "plot_metric(h,'loss')\n",
        "plot_metric(h,'categorical_accuracy')"
      ],
      "execution_count": 92,
      "outputs": [
        {
          "output_type": "stream",
          "text": [
            "Model: \"sequential_8\"\n",
            "_________________________________________________________________\n",
            "Layer (type)                 Output Shape              Param #   \n",
            "=================================================================\n",
            "flatten_7 (Flatten)          (None, 784)               0         \n",
            "_________________________________________________________________\n",
            "dense_38 (Dense)             (None, 1024)              803840    \n",
            "_________________________________________________________________\n",
            "dense_39 (Dense)             (None, 512)               524800    \n",
            "_________________________________________________________________\n",
            "dense_40 (Dense)             (None, 256)               131328    \n",
            "_________________________________________________________________\n",
            "dense_41 (Dense)             (None, 128)               32896     \n",
            "_________________________________________________________________\n",
            "dropout_1 (Dropout)          (None, 128)               0         \n",
            "_________________________________________________________________\n",
            "dense_42 (Dense)             (None, 64)                8256      \n",
            "_________________________________________________________________\n",
            "dropout_2 (Dropout)          (None, 64)                0         \n",
            "_________________________________________________________________\n",
            "dense_43 (Dense)             (None, 32)                2080      \n",
            "_________________________________________________________________\n",
            "dense_44 (Dense)             (None, 10)                330       \n",
            "=================================================================\n",
            "Total params: 1,503,530\n",
            "Trainable params: 1,503,530\n",
            "Non-trainable params: 0\n",
            "_________________________________________________________________\n",
            "Train on 48000 samples, validate on 12000 samples\n",
            "Epoch 1/40\n",
            "48000/48000 [==============================] - 7s 153us/sample - loss: 0.6472 - categorical_accuracy: 0.7934 - val_loss: 0.2600 - val_categorical_accuracy: 0.9189\n",
            "Epoch 2/40\n",
            "48000/48000 [==============================] - 7s 140us/sample - loss: 0.2512 - categorical_accuracy: 0.9280 - val_loss: 0.1524 - val_categorical_accuracy: 0.9553\n",
            "Epoch 3/40\n",
            "48000/48000 [==============================] - 7s 141us/sample - loss: 0.1764 - categorical_accuracy: 0.9499 - val_loss: 0.1281 - val_categorical_accuracy: 0.9632\n",
            "Epoch 4/40\n",
            "48000/48000 [==============================] - 7s 141us/sample - loss: 0.1335 - categorical_accuracy: 0.9615 - val_loss: 0.1368 - val_categorical_accuracy: 0.9611\n",
            "Epoch 5/40\n",
            "48000/48000 [==============================] - 7s 141us/sample - loss: 0.1071 - categorical_accuracy: 0.9686 - val_loss: 0.1263 - val_categorical_accuracy: 0.9641\n",
            "Epoch 6/40\n",
            "48000/48000 [==============================] - 7s 140us/sample - loss: 0.0911 - categorical_accuracy: 0.9736 - val_loss: 0.1054 - val_categorical_accuracy: 0.9715\n",
            "Epoch 7/40\n",
            "48000/48000 [==============================] - 7s 141us/sample - loss: 0.0728 - categorical_accuracy: 0.9783 - val_loss: 0.1048 - val_categorical_accuracy: 0.9710\n",
            "Epoch 8/40\n",
            "48000/48000 [==============================] - 7s 140us/sample - loss: 0.0645 - categorical_accuracy: 0.9812 - val_loss: 0.1041 - val_categorical_accuracy: 0.9732\n",
            "Epoch 9/40\n",
            "48000/48000 [==============================] - 7s 141us/sample - loss: 0.0549 - categorical_accuracy: 0.9838 - val_loss: 0.0985 - val_categorical_accuracy: 0.9748\n",
            "Epoch 10/40\n",
            "48000/48000 [==============================] - 7s 141us/sample - loss: 0.0460 - categorical_accuracy: 0.9862 - val_loss: 0.0985 - val_categorical_accuracy: 0.9762\n",
            "Epoch 11/40\n",
            "48000/48000 [==============================] - 7s 141us/sample - loss: 0.0400 - categorical_accuracy: 0.9877 - val_loss: 0.1044 - val_categorical_accuracy: 0.9748\n",
            "Epoch 12/40\n",
            "48000/48000 [==============================] - 7s 140us/sample - loss: 0.0345 - categorical_accuracy: 0.9895 - val_loss: 0.0981 - val_categorical_accuracy: 0.9783\n",
            "Epoch 13/40\n",
            "48000/48000 [==============================] - 7s 140us/sample - loss: 0.0307 - categorical_accuracy: 0.9908 - val_loss: 0.0967 - val_categorical_accuracy: 0.9773\n",
            "Epoch 14/40\n",
            "48000/48000 [==============================] - 7s 142us/sample - loss: 0.0259 - categorical_accuracy: 0.9923 - val_loss: 0.1299 - val_categorical_accuracy: 0.9756\n",
            "Epoch 15/40\n",
            "48000/48000 [==============================] - 7s 141us/sample - loss: 0.0207 - categorical_accuracy: 0.9937 - val_loss: 0.1264 - val_categorical_accuracy: 0.9792\n",
            "Epoch 16/40\n",
            "48000/48000 [==============================] - 7s 141us/sample - loss: 0.0217 - categorical_accuracy: 0.9936 - val_loss: 0.1159 - val_categorical_accuracy: 0.9782\n",
            "Epoch 17/40\n",
            "48000/48000 [==============================] - 7s 139us/sample - loss: 0.0215 - categorical_accuracy: 0.9940 - val_loss: 0.1092 - val_categorical_accuracy: 0.9786\n",
            "Epoch 18/40\n",
            "48000/48000 [==============================] - 7s 142us/sample - loss: 0.0154 - categorical_accuracy: 0.9956 - val_loss: 0.1309 - val_categorical_accuracy: 0.9767\n",
            "Epoch 19/40\n",
            "48000/48000 [==============================] - 7s 142us/sample - loss: 0.0165 - categorical_accuracy: 0.9954 - val_loss: 0.1134 - val_categorical_accuracy: 0.9777\n",
            "Epoch 20/40\n",
            "48000/48000 [==============================] - 7s 142us/sample - loss: 0.0163 - categorical_accuracy: 0.9952 - val_loss: 0.1240 - val_categorical_accuracy: 0.9789\n",
            "Epoch 21/40\n",
            "48000/48000 [==============================] - 7s 148us/sample - loss: 0.0146 - categorical_accuracy: 0.9960 - val_loss: 0.1136 - val_categorical_accuracy: 0.9796\n",
            "Epoch 22/40\n",
            "48000/48000 [==============================] - 7s 142us/sample - loss: 0.0120 - categorical_accuracy: 0.9967 - val_loss: 0.1292 - val_categorical_accuracy: 0.9786\n",
            "Epoch 23/40\n",
            "48000/48000 [==============================] - 7s 142us/sample - loss: 0.0109 - categorical_accuracy: 0.9969 - val_loss: 0.1219 - val_categorical_accuracy: 0.9801\n",
            "Epoch 24/40\n",
            "48000/48000 [==============================] - 7s 140us/sample - loss: 0.0104 - categorical_accuracy: 0.9967 - val_loss: 0.1228 - val_categorical_accuracy: 0.9812\n",
            "Epoch 25/40\n",
            "48000/48000 [==============================] - 7s 141us/sample - loss: 0.0104 - categorical_accuracy: 0.9973 - val_loss: 0.1331 - val_categorical_accuracy: 0.9787\n",
            "Epoch 26/40\n",
            "48000/48000 [==============================] - 7s 140us/sample - loss: 0.0080 - categorical_accuracy: 0.9976 - val_loss: 0.1490 - val_categorical_accuracy: 0.9794\n",
            "Epoch 27/40\n",
            "48000/48000 [==============================] - 7s 140us/sample - loss: 0.0111 - categorical_accuracy: 0.9972 - val_loss: 0.1070 - val_categorical_accuracy: 0.9816\n",
            "Epoch 28/40\n",
            "48000/48000 [==============================] - 7s 141us/sample - loss: 0.0104 - categorical_accuracy: 0.9974 - val_loss: 0.1155 - val_categorical_accuracy: 0.9794\n",
            "Epoch 29/40\n",
            "48000/48000 [==============================] - 7s 146us/sample - loss: 0.0083 - categorical_accuracy: 0.9979 - val_loss: 0.1210 - val_categorical_accuracy: 0.9807\n",
            "Epoch 30/40\n",
            "48000/48000 [==============================] - 7s 144us/sample - loss: 0.0079 - categorical_accuracy: 0.9981 - val_loss: 0.1378 - val_categorical_accuracy: 0.9783\n",
            "Epoch 31/40\n",
            "48000/48000 [==============================] - 7s 140us/sample - loss: 0.0075 - categorical_accuracy: 0.9985 - val_loss: 0.1390 - val_categorical_accuracy: 0.9778\n",
            "Epoch 32/40\n",
            "48000/48000 [==============================] - 7s 138us/sample - loss: 0.0080 - categorical_accuracy: 0.9978 - val_loss: 0.1341 - val_categorical_accuracy: 0.9798\n",
            "Epoch 33/40\n",
            "48000/48000 [==============================] - 7s 138us/sample - loss: 0.0069 - categorical_accuracy: 0.9981 - val_loss: 0.1316 - val_categorical_accuracy: 0.9810\n",
            "Epoch 34/40\n",
            "48000/48000 [==============================] - 7s 139us/sample - loss: 0.0060 - categorical_accuracy: 0.9982 - val_loss: 0.1257 - val_categorical_accuracy: 0.9798\n",
            "Epoch 35/40\n",
            "48000/48000 [==============================] - 7s 139us/sample - loss: 0.0073 - categorical_accuracy: 0.9982 - val_loss: 0.1389 - val_categorical_accuracy: 0.9812\n",
            "Epoch 36/40\n",
            "48000/48000 [==============================] - 7s 141us/sample - loss: 0.0037 - categorical_accuracy: 0.9990 - val_loss: 0.1570 - val_categorical_accuracy: 0.9791\n",
            "Epoch 37/40\n",
            "48000/48000 [==============================] - 7s 139us/sample - loss: 0.0090 - categorical_accuracy: 0.9979 - val_loss: 0.1606 - val_categorical_accuracy: 0.9801\n",
            "Epoch 38/40\n",
            "48000/48000 [==============================] - 7s 140us/sample - loss: 0.0071 - categorical_accuracy: 0.9986 - val_loss: 0.1314 - val_categorical_accuracy: 0.9812\n",
            "Epoch 39/40\n",
            "48000/48000 [==============================] - 7s 139us/sample - loss: 0.0051 - categorical_accuracy: 0.9988 - val_loss: 0.1651 - val_categorical_accuracy: 0.9808\n",
            "Epoch 40/40\n",
            "48000/48000 [==============================] - 7s 141us/sample - loss: 0.0054 - categorical_accuracy: 0.9987 - val_loss: 0.1648 - val_categorical_accuracy: 0.9793\n"
          ],
          "name": "stdout"
        },
        {
          "output_type": "display_data",
          "data": {
            "image/png": "[encoded data removed]",
            "text/plain": [
              "<Figure size 748.8x514.8 with 1 Axes>"
            ]
          },
          "metadata": {
            "tags": []
          }
        },
        {
          "output_type": "display_data",
          "data": {
            "image/png": "[encoded data removed]",
            "text/plain": [
              "<Figure size 748.8x514.8 with 1 Axes>"
            ]
          },
          "metadata": {
            "tags": []
          }
        }
      ]
    },
    {
      "cell_type": "markdown",
      "metadata": {
        "id": "C4NwyuQJEWIQ",
        "colab_type": "text"
      },
      "source": [
        "## Exercises\n",
        "\n",
        "* **EXERCISE 1**: Chante the activation function in the model. How does it affect accuracy? What happens if you use linear activation function? What happens if we use the $\\tanh$ function? Does it affect to overfitting?\n",
        " * https://keras.io/activations/\n",
        " \n",
        "Here we see that the accuracy keeps increasing over epochs. An overfitted model would produce a decrease of the validation accuracy at some point. This means that we have found an optimal model. The validation loss is stuck at a minimum, but the accuracy is not affected by the extra epochs.\n",
        "\n",
        "_**EXERCISE 2**_: How is the model accuracy (measured with the test set, see below) affected if we start over and fit for 40 epochs? And for 4? And for 400?\n",
        "\n",
        "_**EXERCISE 4**_: What is the most simple model that you can get that achieves a similar validation performance (accuracy)? (the loss values are not comparable, different networks will have different ranges of values for the loss functions)\n",
        "\n",
        "Now let's check how well the model works with the test dataset. Remember that we don't have used it at all during the training and tuning of the model."
      ]
    },
    {
      "cell_type": "code",
      "metadata": {
        "colab_type": "code",
        "id": "mtj5_hlTmU72",
        "colab": {}
      },
      "source": [
        "from tensorflow.keras.models import Sequential\n",
        "from tensorflow.keras import layers\n",
        "from tensorflow.keras import optimizers\n",
        "from tensorflow.keras import losses\n",
        "from tensorflow.keras import metrics"
      ],
      "execution_count": 0,
      "outputs": []
    },
    {
      "cell_type": "code",
      "metadata": {
        "colab_type": "code",
        "id": "wFJf6ssfmU7-",
        "colab": {}
      },
      "source": [
        "def build_model():\n",
        "  #Creamos el modelo\n",
        "  m = Sequential()\n",
        "  #Aplanamos las imágenes\n",
        "  m.add(layers.Flatten(input_shape=(28,28)))\n",
        "  #Definimos las capas ocultas\n",
        "  m.add(layers.Dense(units=1024,activation='elu'))\n",
        "  m.add(layers.Dense(units=512,activation='elu'))\n",
        "  m.add(layers.Dense(units=256,activation='elu'))\n",
        "  m.add(layers.Dense(units=128,activation='elu'))\n",
        "  m.add(layers.Dropout(rate=0.2))\n",
        "  m.add(layers.Dense(units=64,activation='elu'))\n",
        "  m.add(layers.Dropout(rate=0.2))\n",
        "  m.add(layers.Dense(units=32,activation='elu'))\n",
        "  #Definimos la capa de salida. Esta activación nos permite obtener la probabilidad\n",
        "  #Tenemos que darle la salida del 1-hot\n",
        "  m.add(layers.Dense(units=10,activation='softmax'))\n",
        "  m.summary()  \n",
        "\n",
        "  return m"
      ],
      "execution_count": 0,
      "outputs": []
    },
    {
      "cell_type": "code",
      "metadata": {
        "colab_type": "code",
        "outputId": "50434d61-71f1-42b5-d98c-a890a5f1ce6a",
        "id": "L6AheGJOmU8B",
        "colab": {
          "base_uri": "https://localhost:8080/",
          "height": 1000
        }
      },
      "source": [
        "#Construimos el modelo\n",
        "m=build_model()\n",
        "#Compilamos el modelo\n",
        "m.compile(optimizer=optimizers.Adam(learning_rate=0.0005),loss=losses.categorical_crossentropy,metrics=[metrics.categorical_accuracy])\n",
        "#Entrenamos el modelo\n",
        "h=m.fit(x=train_imgs_n,y=train_labels_1hot,batch_size=50,epochs=40,validation_split=0.2)\n",
        "plot_metric(h,'loss')\n",
        "plot_metric(h,'categorical_accuracy')"
      ],
      "execution_count": 120,
      "outputs": [
        {
          "output_type": "stream",
          "text": [
            "Model: \"sequential_11\"\n",
            "_________________________________________________________________\n",
            "Layer (type)                 Output Shape              Param #   \n",
            "=================================================================\n",
            "flatten_10 (Flatten)         (None, 784)               0         \n",
            "_________________________________________________________________\n",
            "dense_59 (Dense)             (None, 1024)              803840    \n",
            "_________________________________________________________________\n",
            "dense_60 (Dense)             (None, 512)               524800    \n",
            "_________________________________________________________________\n",
            "dense_61 (Dense)             (None, 256)               131328    \n",
            "_________________________________________________________________\n",
            "dense_62 (Dense)             (None, 128)               32896     \n",
            "_________________________________________________________________\n",
            "dropout_7 (Dropout)          (None, 128)               0         \n",
            "_________________________________________________________________\n",
            "dense_63 (Dense)             (None, 64)                8256      \n",
            "_________________________________________________________________\n",
            "dropout_8 (Dropout)          (None, 64)                0         \n",
            "_________________________________________________________________\n",
            "dense_64 (Dense)             (None, 32)                2080      \n",
            "_________________________________________________________________\n",
            "dense_65 (Dense)             (None, 10)                330       \n",
            "=================================================================\n",
            "Total params: 1,503,530\n",
            "Trainable params: 1,503,530\n",
            "Non-trainable params: 0\n",
            "_________________________________________________________________\n",
            "Train on 48000 samples, validate on 12000 samples\n",
            "Epoch 1/40\n",
            "48000/48000 [==============================] - 7s 150us/sample - loss: 0.3311 - categorical_accuracy: 0.8996 - val_loss: 0.1485 - val_categorical_accuracy: 0.9563\n",
            "Epoch 2/40\n",
            "48000/48000 [==============================] - 7s 136us/sample - loss: 0.1721 - categorical_accuracy: 0.9493 - val_loss: 0.1602 - val_categorical_accuracy: 0.9512\n",
            "Epoch 3/40\n",
            "48000/48000 [==============================] - 7s 137us/sample - loss: 0.1259 - categorical_accuracy: 0.9623 - val_loss: 0.1145 - val_categorical_accuracy: 0.9668\n",
            "Epoch 4/40\n",
            "48000/48000 [==============================] - 7s 138us/sample - loss: 0.1009 - categorical_accuracy: 0.9693 - val_loss: 0.0954 - val_categorical_accuracy: 0.9715\n",
            "Epoch 5/40\n",
            "48000/48000 [==============================] - 7s 137us/sample - loss: 0.0858 - categorical_accuracy: 0.9753 - val_loss: 0.1122 - val_categorical_accuracy: 0.9690\n",
            "Epoch 6/40\n",
            "48000/48000 [==============================] - 7s 138us/sample - loss: 0.0796 - categorical_accuracy: 0.9762 - val_loss: 0.1010 - val_categorical_accuracy: 0.9714\n",
            "Epoch 7/40\n",
            "48000/48000 [==============================] - 7s 139us/sample - loss: 0.0645 - categorical_accuracy: 0.9803 - val_loss: 0.0987 - val_categorical_accuracy: 0.9732\n",
            "Epoch 8/40\n",
            "48000/48000 [==============================] - 7s 139us/sample - loss: 0.0586 - categorical_accuracy: 0.9817 - val_loss: 0.0961 - val_categorical_accuracy: 0.9740\n",
            "Epoch 9/40\n",
            "48000/48000 [==============================] - 7s 138us/sample - loss: 0.0540 - categorical_accuracy: 0.9830 - val_loss: 0.0829 - val_categorical_accuracy: 0.9760\n",
            "Epoch 10/40\n",
            "48000/48000 [==============================] - 7s 139us/sample - loss: 0.0441 - categorical_accuracy: 0.9871 - val_loss: 0.0878 - val_categorical_accuracy: 0.9778\n",
            "Epoch 11/40\n",
            "48000/48000 [==============================] - 7s 137us/sample - loss: 0.0437 - categorical_accuracy: 0.9866 - val_loss: 0.0865 - val_categorical_accuracy: 0.9798\n",
            "Epoch 12/40\n",
            "48000/48000 [==============================] - 7s 137us/sample - loss: 0.0363 - categorical_accuracy: 0.9891 - val_loss: 0.0993 - val_categorical_accuracy: 0.9764\n",
            "Epoch 13/40\n",
            "48000/48000 [==============================] - 7s 137us/sample - loss: 0.0358 - categorical_accuracy: 0.9896 - val_loss: 0.0939 - val_categorical_accuracy: 0.9781\n",
            "Epoch 14/40\n",
            "48000/48000 [==============================] - 7s 137us/sample - loss: 0.0310 - categorical_accuracy: 0.9911 - val_loss: 0.1076 - val_categorical_accuracy: 0.9758\n",
            "Epoch 15/40\n",
            "48000/48000 [==============================] - 7s 139us/sample - loss: 0.0310 - categorical_accuracy: 0.9908 - val_loss: 0.1000 - val_categorical_accuracy: 0.9777\n",
            "Epoch 16/40\n",
            "48000/48000 [==============================] - 7s 144us/sample - loss: 0.0278 - categorical_accuracy: 0.9915 - val_loss: 0.0963 - val_categorical_accuracy: 0.9768\n",
            "Epoch 17/40\n",
            "48000/48000 [==============================] - 7s 142us/sample - loss: 0.0247 - categorical_accuracy: 0.9926 - val_loss: 0.1106 - val_categorical_accuracy: 0.9793\n",
            "Epoch 18/40\n",
            "48000/48000 [==============================] - 7s 149us/sample - loss: 0.0264 - categorical_accuracy: 0.9925 - val_loss: 0.1037 - val_categorical_accuracy: 0.9768\n",
            "Epoch 19/40\n",
            "48000/48000 [==============================] - 7s 142us/sample - loss: 0.0231 - categorical_accuracy: 0.9932 - val_loss: 0.1133 - val_categorical_accuracy: 0.9793\n",
            "Epoch 20/40\n",
            "48000/48000 [==============================] - 7s 144us/sample - loss: 0.0238 - categorical_accuracy: 0.9926 - val_loss: 0.1074 - val_categorical_accuracy: 0.9787\n",
            "Epoch 21/40\n",
            "48000/48000 [==============================] - 7s 143us/sample - loss: 0.0209 - categorical_accuracy: 0.9940 - val_loss: 0.1102 - val_categorical_accuracy: 0.9778\n",
            "Epoch 22/40\n",
            "48000/48000 [==============================] - 7s 142us/sample - loss: 0.0176 - categorical_accuracy: 0.9947 - val_loss: 0.1120 - val_categorical_accuracy: 0.9777\n",
            "Epoch 23/40\n",
            "48000/48000 [==============================] - 7s 141us/sample - loss: 0.0207 - categorical_accuracy: 0.9946 - val_loss: 0.1085 - val_categorical_accuracy: 0.9781\n",
            "Epoch 24/40\n",
            "48000/48000 [==============================] - 7s 143us/sample - loss: 0.0179 - categorical_accuracy: 0.9946 - val_loss: 0.1011 - val_categorical_accuracy: 0.9799\n",
            "Epoch 25/40\n",
            "48000/48000 [==============================] - 7s 144us/sample - loss: 0.0148 - categorical_accuracy: 0.9958 - val_loss: 0.1062 - val_categorical_accuracy: 0.9808\n",
            "Epoch 26/40\n",
            "48000/48000 [==============================] - 7s 142us/sample - loss: 0.0178 - categorical_accuracy: 0.9951 - val_loss: 0.1002 - val_categorical_accuracy: 0.9804\n",
            "Epoch 27/40\n",
            "48000/48000 [==============================] - 7s 148us/sample - loss: 0.0183 - categorical_accuracy: 0.9950 - val_loss: 0.1018 - val_categorical_accuracy: 0.9803\n",
            "Epoch 28/40\n",
            "48000/48000 [==============================] - 7s 150us/sample - loss: 0.0169 - categorical_accuracy: 0.9957 - val_loss: 0.1076 - val_categorical_accuracy: 0.9792\n",
            "Epoch 29/40\n",
            "48000/48000 [==============================] - 7s 144us/sample - loss: 0.0176 - categorical_accuracy: 0.9954 - val_loss: 0.0939 - val_categorical_accuracy: 0.9799\n",
            "Epoch 30/40\n",
            "48000/48000 [==============================] - 7s 141us/sample - loss: 0.0126 - categorical_accuracy: 0.9965 - val_loss: 0.1087 - val_categorical_accuracy: 0.9803\n",
            "Epoch 31/40\n",
            "48000/48000 [==============================] - 7s 144us/sample - loss: 0.0137 - categorical_accuracy: 0.9966 - val_loss: 0.0985 - val_categorical_accuracy: 0.9810\n",
            "Epoch 32/40\n",
            "48000/48000 [==============================] - 7s 141us/sample - loss: 0.0154 - categorical_accuracy: 0.9957 - val_loss: 0.1023 - val_categorical_accuracy: 0.9817\n",
            "Epoch 33/40\n",
            "48000/48000 [==============================] - 7s 142us/sample - loss: 0.0125 - categorical_accuracy: 0.9967 - val_loss: 0.1300 - val_categorical_accuracy: 0.9789\n",
            "Epoch 34/40\n",
            "48000/48000 [==============================] - 7s 143us/sample - loss: 0.0137 - categorical_accuracy: 0.9962 - val_loss: 0.1136 - val_categorical_accuracy: 0.9786\n",
            "Epoch 35/40\n",
            "48000/48000 [==============================] - 7s 142us/sample - loss: 0.0111 - categorical_accuracy: 0.9973 - val_loss: 0.1373 - val_categorical_accuracy: 0.9766\n",
            "Epoch 36/40\n",
            "48000/48000 [==============================] - 7s 142us/sample - loss: 0.0121 - categorical_accuracy: 0.9966 - val_loss: 0.1175 - val_categorical_accuracy: 0.9792\n",
            "Epoch 37/40\n",
            "48000/48000 [==============================] - 7s 141us/sample - loss: 0.0098 - categorical_accuracy: 0.9973 - val_loss: 0.1169 - val_categorical_accuracy: 0.9796\n",
            "Epoch 38/40\n",
            "48000/48000 [==============================] - 7s 143us/sample - loss: 0.0145 - categorical_accuracy: 0.9966 - val_loss: 0.1198 - val_categorical_accuracy: 0.9804\n",
            "Epoch 39/40\n",
            "48000/48000 [==============================] - 7s 142us/sample - loss: 0.0093 - categorical_accuracy: 0.9974 - val_loss: 0.1284 - val_categorical_accuracy: 0.9797\n",
            "Epoch 40/40\n",
            "48000/48000 [==============================] - 7s 142us/sample - loss: 0.0152 - categorical_accuracy: 0.9961 - val_loss: 0.1182 - val_categorical_accuracy: 0.9790\n"
          ],
          "name": "stdout"
        },
        {
          "output_type": "display_data",
          "data": {
            "image/png": "[encoded data removed]",
            "text/plain": [
              "<Figure size 748.8x514.8 with 1 Axes>"
            ]
          },
          "metadata": {
            "tags": []
          }
        },
        {
          "output_type": "display_data",
          "data": {
            "image/png": "[encoded data removed]",
            "text/plain": [
              "<Figure size 748.8x514.8 with 1 Axes>"
            ]
          },
          "metadata": {
            "tags": []
          }
        }
      ]
    },
    {
      "cell_type": "markdown",
      "metadata": {
        "id": "Quo6bmKREWIR",
        "colab_type": "text"
      },
      "source": [
        "## Analyze the classification performance"
      ]
    },
    {
      "cell_type": "code",
      "metadata": {
        "id": "UqyN9Yz2EWIS",
        "colab_type": "code",
        "colab": {
          "base_uri": "https://localhost:8080/",
          "height": 71
        },
        "outputId": "5f334878-f19e-45b0-b1b5-f390eecb35ac"
      },
      "source": [
        "m.evaluate(x=test_imgs_n, y=test_labels_1hot)"
      ],
      "execution_count": 121,
      "outputs": [
        {
          "output_type": "stream",
          "text": [
            "10000/10000 [==============================] - 1s 133us/sample - loss: 0.1111 - categorical_accuracy: 0.9793\n"
          ],
          "name": "stdout"
        },
        {
          "output_type": "execute_result",
          "data": {
            "text/plain": [
              "[0.11113440472364346, 0.9793]"
            ]
          },
          "metadata": {
            "tags": []
          },
          "execution_count": 121
        }
      ]
    },
    {
      "cell_type": "markdown",
      "metadata": {
        "id": "NRoE7W5XEWIU",
        "colab_type": "text"
      },
      "source": [
        "That's about a $98\\%$ accuracy on the test set. Not bad.\n",
        "\n",
        "With that accuracy, this is the number of images that are wrongly classified by our model:"
      ]
    },
    {
      "cell_type": "code",
      "metadata": {
        "id": "zYMJ4eFyn3V5",
        "colab_type": "code",
        "colab": {
          "base_uri": "https://localhost:8080/",
          "height": 54
        },
        "outputId": "37dbe2a9-11cc-4141-f887-4ba76143f5ee"
      },
      "source": [
        "loss, acc=m.evaluate(x=test_imgs_n, y=test_labels_1hot)"
      ],
      "execution_count": 122,
      "outputs": [
        {
          "output_type": "stream",
          "text": [
            "10000/10000 [==============================] - 1s 124us/sample - loss: 0.1111 - categorical_accuracy: 0.9793\n"
          ],
          "name": "stdout"
        }
      ]
    },
    {
      "cell_type": "code",
      "metadata": {
        "id": "iYsRcLFcn7D-",
        "colab_type": "code",
        "colab": {
          "base_uri": "https://localhost:8080/",
          "height": 34
        },
        "outputId": "cf267347-e369-413e-8aa7-82b454a58369"
      },
      "source": [
        "n=test_labels_1hot.shape[0]\n",
        "n*(1-acc)"
      ],
      "execution_count": 123,
      "outputs": [
        {
          "output_type": "execute_result",
          "data": {
            "text/plain": [
              "206.9997787475586"
            ]
          },
          "metadata": {
            "tags": []
          },
          "execution_count": 123
        }
      ]
    },
    {
      "cell_type": "markdown",
      "metadata": {
        "id": "HDmoTMDrEWIY",
        "colab_type": "text"
      },
      "source": [
        "Let's see how well it predicts some random items from the test set."
      ]
    },
    {
      "cell_type": "code",
      "metadata": {
        "id": "EM3JhWfTEWIZ",
        "colab_type": "code",
        "colab": {
          "base_uri": "https://localhost:8080/",
          "height": 462
        },
        "outputId": "b883dfd3-c617-4e8a-cae5-9c4a2f7e2ee1"
      },
      "source": [
        "plot_mnist_image(2543, test_imgs, test_labels)"
      ],
      "execution_count": 124,
      "outputs": [
        {
          "output_type": "stream",
          "text": [
            "The image below should show the number 8\n"
          ],
          "name": "stdout"
        },
        {
          "output_type": "display_data",
          "data": {
            "image/png": "[encoded data removed]",
            "text/plain": [
              "<Figure size 748.8x514.8 with 1 Axes>"
            ]
          },
          "metadata": {
            "tags": []
          }
        }
      ]
    },
    {
      "cell_type": "markdown",
      "metadata": {
        "id": "hwwPY3LeEWIf",
        "colab_type": "text"
      },
      "source": [
        "The prediction is a 10-element vector (*1-HOT encoded vector*), with the probability of each class. The location of the max is giving us the predicted class."
      ]
    },
    {
      "cell_type": "code",
      "metadata": {
        "id": "aAVFeg9yEWIh",
        "colab_type": "code",
        "colab": {
          "base_uri": "https://localhost:8080/",
          "height": 68
        },
        "outputId": "6c00e103-93c2-4c10-83e1-328deb0985d2"
      },
      "source": [
        "#El predict está pensado para una matriz de 3 dimensiones. De aquí obtenemos las probabilidades\n",
        "pred=m.predict(np.reshape(test_imgs_n[2543],(1,28,28)))\n",
        "pred"
      ],
      "execution_count": 126,
      "outputs": [
        {
          "output_type": "execute_result",
          "data": {
            "text/plain": [
              "array([[3.5422488e-08, 2.0543298e-06, 5.9976571e-07, 4.6353991e-05,\n",
              "        1.0312800e-06, 3.1198052e-08, 1.4926950e-06, 4.0230012e-07,\n",
              "        9.9994576e-01, 2.2230997e-06]], dtype=float32)"
            ]
          },
          "metadata": {
            "tags": []
          },
          "execution_count": 126
        }
      ]
    },
    {
      "cell_type": "code",
      "metadata": {
        "id": "grDVSGISol6h",
        "colab_type": "code",
        "colab": {
          "base_uri": "https://localhost:8080/",
          "height": 34
        },
        "outputId": "96837adf-066f-4b27-9cd8-af813b93f5d3"
      },
      "source": [
        "# Como tenemos números podemos simplemente conocer la posición\n",
        "np.argmax(pred)"
      ],
      "execution_count": 127,
      "outputs": [
        {
          "output_type": "execute_result",
          "data": {
            "text/plain": [
              "8"
            ]
          },
          "metadata": {
            "tags": []
          },
          "execution_count": 127
        }
      ]
    },
    {
      "cell_type": "code",
      "metadata": {
        "id": "MPCSKR-2o5hV",
        "colab_type": "code",
        "colab": {
          "base_uri": "https://localhost:8080/",
          "height": 34
        },
        "outputId": "5179b448-f23e-48e7-a832-43d5e709ff59"
      },
      "source": [
        "pred=m.predict_classes(np.reshape(test_imgs_n[2543],(1,28,28)))\n",
        "pred"
      ],
      "execution_count": 129,
      "outputs": [
        {
          "output_type": "execute_result",
          "data": {
            "text/plain": [
              "array([8])"
            ]
          },
          "metadata": {
            "tags": []
          },
          "execution_count": 129
        }
      ]
    },
    {
      "cell_type": "markdown",
      "metadata": {
        "id": "DfG5-it1EWIk",
        "colab_type": "text"
      },
      "source": [
        "YES! Our model predicts 8\n",
        "\n",
        "_**EXERCISE 5**_: Can you find a test item that is predicted wrongly? How many images are predicted wrongly? Can you find all the items that are wrongly classified? For instance, the test element with index 3943 is a 3 but we predict a 5\n"
      ]
    },
    {
      "cell_type": "code",
      "metadata": {
        "id": "xkmx8_VeEWIl",
        "colab_type": "code",
        "colab": {
          "base_uri": "https://localhost:8080/",
          "height": 462
        },
        "outputId": "650092ef-a879-4970-bbe8-4a9672c41a65"
      },
      "source": [
        "plot_mnist_image(3943, test_imgs, test_labels)"
      ],
      "execution_count": 130,
      "outputs": [
        {
          "output_type": "stream",
          "text": [
            "The image below should show the number 3\n"
          ],
          "name": "stdout"
        },
        {
          "output_type": "display_data",
          "data": {
            "image/png": "[encoded data removed]",
            "text/plain": [
              "<Figure size 748.8x514.8 with 1 Axes>"
            ]
          },
          "metadata": {
            "tags": []
          }
        }
      ]
    },
    {
      "cell_type": "code",
      "metadata": {
        "id": "g8bHjmgnEWIp",
        "colab_type": "code",
        "colab": {
          "base_uri": "https://localhost:8080/",
          "height": 34
        },
        "outputId": "54b9194a-65bc-4d38-dac3-771c82c5c5b0"
      },
      "source": [
        "np.argmax(m.predict(test_imgs_n[3943:3944,]))"
      ],
      "execution_count": 132,
      "outputs": [
        {
          "output_type": "execute_result",
          "data": {
            "text/plain": [
              "3"
            ]
          },
          "metadata": {
            "tags": []
          },
          "execution_count": 132
        }
      ]
    },
    {
      "cell_type": "markdown",
      "metadata": {
        "id": "xYEOuX_PEWIw",
        "colab_type": "text"
      },
      "source": [
        "Ok, but in which positions can we find all the misclassifications?"
      ]
    },
    {
      "cell_type": "code",
      "metadata": {
        "id": "vMPy9mSMEWIx",
        "colab_type": "code",
        "colab": {
          "base_uri": "https://localhost:8080/",
          "height": 34
        },
        "outputId": "5b002b05-1869-46b3-92a6-d5f7ddd3464f"
      },
      "source": [
        "#Podemos ver cuales están mal predichos\n",
        "prediction=m.predict_classes(test_imgs_n)\n",
        "mask=prediction==test_labels\n",
        "wrong_predicted_mask=prediction!=test_labels\n",
        "test_labels[wrong_predicted_mask].shape"
      ],
      "execution_count": 136,
      "outputs": [
        {
          "output_type": "execute_result",
          "data": {
            "text/plain": [
              "(207,)"
            ]
          },
          "metadata": {
            "tags": []
          },
          "execution_count": 136
        }
      ]
    },
    {
      "cell_type": "code",
      "metadata": {
        "id": "zlwcpk93pr2v",
        "colab_type": "code",
        "colab": {
          "base_uri": "https://localhost:8080/",
          "height": 187
        },
        "outputId": "50b8a815-18e1-4c4b-cfa1-d0d0de626fe2"
      },
      "source": [
        "wrong_predicted=test_labels[wrong_predicted_mask]\n",
        "wrong_predicted"
      ],
      "execution_count": 137,
      "outputs": [
        {
          "output_type": "execute_result",
          "data": {
            "text/plain": [
              "array([9, 4, 4, 8, 7, 5, 5, 6, 8, 8, 1, 9, 8, 2, 5, 7, 7, 0, 7, 9, 8, 1,\n",
              "       5, 5, 6, 7, 4, 7, 4, 6, 7, 9, 9, 5, 8, 7, 5, 5, 8, 7, 7, 7, 4, 2,\n",
              "       9, 7, 2, 5, 2, 3, 7, 4, 2, 8, 0, 8, 9, 7, 9, 7, 7, 5, 7, 5, 4, 6,\n",
              "       4, 1, 5, 9, 7, 5, 9, 2, 8, 5, 7, 6, 5, 9, 7, 3, 3, 5, 9, 3, 5, 8,\n",
              "       1, 5, 5, 7, 8, 7, 2, 6, 7, 4, 9, 6, 5, 7, 8, 8, 7, 8, 2, 5, 7, 2,\n",
              "       6, 8, 5, 1, 9, 4, 9, 9, 7, 7, 0, 8, 9, 2, 7, 2, 2, 9, 5, 5, 5, 9,\n",
              "       7, 8, 6, 4, 8, 6, 2, 2, 3, 9, 8, 9, 0, 2, 7, 8, 1, 1, 7, 2, 7, 7,\n",
              "       4, 3, 7, 4, 5, 3, 5, 3, 8, 5, 3, 9, 8, 2, 0, 0, 8, 1, 6, 0, 1, 5,\n",
              "       5, 3, 3, 0, 7, 8, 4, 7, 7, 7, 1, 8, 2, 9, 9, 1, 9, 0, 9, 2, 6, 2,\n",
              "       5, 4, 2, 5, 9, 2, 0, 6, 2], dtype=uint8)"
            ]
          },
          "metadata": {
            "tags": []
          },
          "execution_count": 137
        }
      ]
    },
    {
      "cell_type": "markdown",
      "metadata": {
        "id": "XLdexmyYEWI1",
        "colab_type": "text"
      },
      "source": [
        "_**EXERCISE 6**_: Some digits are more difficult to recognize than others. Because we know the test labels, we can find out how many times the corresponding test images are misclassified. Could you find what are the top 3 test labels that are more often misclassified?"
      ]
    },
    {
      "cell_type": "markdown",
      "metadata": {
        "id": "rNsM5y0rEWI2",
        "colab_type": "text"
      },
      "source": [
        "Let's check some wrong predictions"
      ]
    },
    {
      "cell_type": "code",
      "metadata": {
        "id": "ImJDrL4cEWI3",
        "colab_type": "code",
        "colab": {
          "base_uri": "https://localhost:8080/",
          "height": 462
        },
        "outputId": "96cb6084-1ee3-4975-8c9a-6adc101fa3dd"
      },
      "source": [
        "plot_mnist_image(4978, test_imgs, test_labels)"
      ],
      "execution_count": 143,
      "outputs": [
        {
          "output_type": "stream",
          "text": [
            "The image below should show the number 8\n"
          ],
          "name": "stdout"
        },
        {
          "output_type": "display_data",
          "data": {
            "image/png": "[encoded data removed]",
            "text/plain": [
              "<Figure size 748.8x514.8 with 1 Axes>"
            ]
          },
          "metadata": {
            "tags": []
          }
        }
      ]
    },
    {
      "cell_type": "code",
      "metadata": {
        "id": "83SipdIgEWI-",
        "colab_type": "code",
        "colab": {
          "base_uri": "https://localhost:8080/",
          "height": 34
        },
        "outputId": "16e163a3-36b3-43a4-8da3-fb89cc4f2b05"
      },
      "source": [
        "prediction[4978]"
      ],
      "execution_count": 144,
      "outputs": [
        {
          "output_type": "execute_result",
          "data": {
            "text/plain": [
              "3"
            ]
          },
          "metadata": {
            "tags": []
          },
          "execution_count": 144
        }
      ]
    },
    {
      "cell_type": "markdown",
      "metadata": {
        "id": "gWx7PLpEEWJF",
        "colab_type": "text"
      },
      "source": [
        "These are the items that are wrongly classified:"
      ]
    },
    {
      "cell_type": "code",
      "metadata": {
        "id": "96JJ118_EWJG",
        "colab_type": "code",
        "colab": {
          "base_uri": "https://localhost:8080/",
          "height": 340
        },
        "outputId": "e0d0e542-4017-4738-9bef-223508f27345"
      },
      "source": [
        "# Si queremos saber los indices de las imágenes mal clasificadas:\n",
        "np.where(wrong_predicted_mask)"
      ],
      "execution_count": 145,
      "outputs": [
        {
          "output_type": "execute_result",
          "data": {
            "text/plain": [
              "(array([ 104,  115,  247,  268,  337,  340,  412,  445,  495,  582,  619,\n",
              "         630,  655,  659,  674,  684,  689,  717,  726,  813,  839,  900,\n",
              "         951, 1003, 1014, 1039, 1112, 1156, 1178, 1182, 1226, 1232, 1247,\n",
              "        1299, 1319, 1328, 1378, 1393, 1464, 1494, 1500, 1522, 1549, 1551,\n",
              "        1553, 1566, 1609, 1670, 1678, 1681, 1721, 1751, 1790, 1813, 1843,\n",
              "        1850, 1901, 1941, 1992, 2016, 2024, 2035, 2070, 2073, 2130, 2135,\n",
              "        2145, 2182, 2291, 2293, 2325, 2369, 2387, 2488, 2512, 2597, 2607,\n",
              "        2654, 2810, 2863, 2915, 2921, 2927, 2930, 2939, 2953, 2970, 3062,\n",
              "        3073, 3115, 3117, 3225, 3289, 3333, 3375, 3422, 3451, 3490, 3503,\n",
              "        3520, 3558, 3604, 3629, 3727, 3751, 3757, 3772, 3776, 3808, 3817,\n",
              "        3853, 3871, 3893, 3906, 3926, 3941, 3985, 4000, 4007, 4027, 4065,\n",
              "        4123, 4163, 4176, 4199, 4205, 4248, 4259, 4271, 4359, 4360, 4369,\n",
              "        4433, 4497, 4536, 4567, 4671, 4699, 4713, 4723, 4740, 4761, 4807,\n",
              "        4823, 4880, 4939, 4966, 4978, 5331, 5457, 5600, 5634, 5649, 5654,\n",
              "        5676, 5734, 5773, 5888, 5937, 5955, 5972, 5973, 6024, 6028, 6059,\n",
              "        6173, 6555, 6574, 6597, 6651, 6755, 6783, 6847, 7216, 7928, 8062,\n",
              "        8160, 8246, 8277, 8325, 8519, 8522, 8527, 9009, 9015, 9024, 9071,\n",
              "        9280, 9490, 9517, 9530, 9540, 9587, 9634, 9642, 9664, 9679, 9700,\n",
              "        9729, 9745, 9768, 9770, 9808, 9847, 9850, 9858, 9980]),)"
            ]
          },
          "metadata": {
            "tags": []
          },
          "execution_count": 145
        }
      ]
    },
    {
      "cell_type": "code",
      "metadata": {
        "id": "0umvhTQUsZW2",
        "colab_type": "code",
        "colab": {
          "base_uri": "https://localhost:8080/",
          "height": 187
        },
        "outputId": "4263da14-213c-4d86-f6ee-5602c2c13118"
      },
      "source": [
        "# Aquí podemos ver las etiquetas en las que fallamos\n",
        "wrong_predicted=test_labels[wrong_predicted_mask]\n",
        "wrong_predicted"
      ],
      "execution_count": 146,
      "outputs": [
        {
          "output_type": "execute_result",
          "data": {
            "text/plain": [
              "array([9, 4, 4, 8, 7, 5, 5, 6, 8, 8, 1, 9, 8, 2, 5, 7, 7, 0, 7, 9, 8, 1,\n",
              "       5, 5, 6, 7, 4, 7, 4, 6, 7, 9, 9, 5, 8, 7, 5, 5, 8, 7, 7, 7, 4, 2,\n",
              "       9, 7, 2, 5, 2, 3, 7, 4, 2, 8, 0, 8, 9, 7, 9, 7, 7, 5, 7, 5, 4, 6,\n",
              "       4, 1, 5, 9, 7, 5, 9, 2, 8, 5, 7, 6, 5, 9, 7, 3, 3, 5, 9, 3, 5, 8,\n",
              "       1, 5, 5, 7, 8, 7, 2, 6, 7, 4, 9, 6, 5, 7, 8, 8, 7, 8, 2, 5, 7, 2,\n",
              "       6, 8, 5, 1, 9, 4, 9, 9, 7, 7, 0, 8, 9, 2, 7, 2, 2, 9, 5, 5, 5, 9,\n",
              "       7, 8, 6, 4, 8, 6, 2, 2, 3, 9, 8, 9, 0, 2, 7, 8, 1, 1, 7, 2, 7, 7,\n",
              "       4, 3, 7, 4, 5, 3, 5, 3, 8, 5, 3, 9, 8, 2, 0, 0, 8, 1, 6, 0, 1, 5,\n",
              "       5, 3, 3, 0, 7, 8, 4, 7, 7, 7, 1, 8, 2, 9, 9, 1, 9, 0, 9, 2, 6, 2,\n",
              "       5, 4, 2, 5, 9, 2, 0, 6, 2], dtype=uint8)"
            ]
          },
          "metadata": {
            "tags": []
          },
          "execution_count": 146
        }
      ]
    },
    {
      "cell_type": "code",
      "metadata": {
        "id": "-9eFgKKmseRR",
        "colab_type": "code",
        "colab": {
          "base_uri": "https://localhost:8080/",
          "height": 34
        },
        "outputId": "645fc96b-a9bf-4a1c-c813-1e3658216e91"
      },
      "source": [
        "# Podemos hacer una agrupación para ver cuales son los más fallados\n",
        "np.bincount(wrong_predicted)"
      ],
      "execution_count": 147,
      "outputs": [
        {
          "output_type": "execute_result",
          "data": {
            "text/plain": [
              "array([10, 11, 23, 11, 15, 32, 13, 39, 26, 27])"
            ]
          },
          "metadata": {
            "tags": []
          },
          "execution_count": 147
        }
      ]
    },
    {
      "cell_type": "code",
      "metadata": {
        "id": "UsSBRbdXsnpf",
        "colab_type": "code",
        "colab": {
          "base_uri": "https://localhost:8080/",
          "height": 480
        },
        "outputId": "7dc8b8fe-8cb6-4762-ac4c-622c8bf3f305"
      },
      "source": [
        "#Otra forma\n",
        "import pandas as pd\n",
        "df=pd.DataFrame({'label':wrong_predicted})\n",
        "df.groupby('label')['label'].count().plot()"
      ],
      "execution_count": 155,
      "outputs": [
        {
          "output_type": "execute_result",
          "data": {
            "text/plain": [
              "<matplotlib.axes._subplots.AxesSubplot at 0x7fa5c736e978>"
            ]
          },
          "metadata": {
            "tags": []
          },
          "execution_count": 155
        },
        {
          "output_type": "display_data",
          "data": {
            "image/png": "[encoded data removed]",
            "text/plain": [
              "<Figure size 748.8x514.8 with 1 Axes>"
            ]
          },
          "metadata": {
            "tags": []
          }
        }
      ]
    },
    {
      "cell_type": "markdown",
      "metadata": {
        "id": "raHdxKOJEWJM",
        "colab_type": "text"
      },
      "source": [
        "So we see that $7$ is wrongly classified more than the rest. But does it mean that our model has more difficulties recognizing 9s?"
      ]
    }
  ]
}