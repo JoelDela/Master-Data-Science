{
  "nbformat": 4,
  "nbformat_minor": 0,
  "metadata": {
    "kernelspec": {
      "name": "python3",
      "display_name": "Python 3"
    },
    "language_info": {
      "codemirror_mode": {
        "name": "ipython",
        "version": 3
      },
      "file_extension": ".py",
      "mimetype": "text/x-python",
      "name": "python",
      "nbconvert_exporter": "python",
      "pygments_lexer": "ipython3",
      "version": "3.6.6"
    },
    "colab": {
      "name": "03_imdb_reviews_orig.ipynb",
      "provenance": [],
      "collapsed_sections": []
    },
    "accelerator": "GPU"
  },
  "cells": [
    {
      "cell_type": "markdown",
      "metadata": {
        "id": "JT_UgsJS9Jle",
        "colab_type": "text"
      },
      "source": [
        "# Working with text\n",
        "\n",
        "In this problem, we will load movie reviews from IMDB, a famous movie database and website, and we will try to predict whether the review is positive or negative."
      ]
    },
    {
      "cell_type": "markdown",
      "metadata": {
        "id": "t9b0echC9Jli",
        "colab_type": "text"
      },
      "source": [
        "First, the function we will use to diagnose the performance of our model"
      ]
    },
    {
      "cell_type": "code",
      "metadata": {
        "id": "YOXPRqwU9hFj",
        "colab_type": "code",
        "colab": {
          "base_uri": "https://localhost:8080/",
          "height": 34
        },
        "outputId": "ca632865-8a11-4f68-eed8-8f21adc27e41"
      },
      "source": [
        "%tensorflow_version 2.x"
      ],
      "execution_count": 1,
      "outputs": [
        {
          "output_type": "stream",
          "text": [
            "TensorFlow 2.x selected.\n"
          ],
          "name": "stdout"
        }
      ]
    },
    {
      "cell_type": "code",
      "metadata": {
        "id": "K_4kKMBU9Jlj",
        "colab_type": "code",
        "colab": {
          "base_uri": "https://localhost:8080/",
          "height": 34
        },
        "outputId": "11e299e6-f08b-4904-9912-b930ea421f91"
      },
      "source": [
        "%pylab inline\n",
        "plt.style.use('seaborn-talk')"
      ],
      "execution_count": 2,
      "outputs": [
        {
          "output_type": "stream",
          "text": [
            "Populating the interactive namespace from numpy and matplotlib\n"
          ],
          "name": "stdout"
        }
      ]
    },
    {
      "cell_type": "code",
      "metadata": {
        "id": "iruuHRch9Jlp",
        "colab_type": "code",
        "colab": {}
      },
      "source": [
        "def plot_metric(history, metric):\n",
        "    history_dict = history.history\n",
        "    values = history_dict[metric]\n",
        "    if 'val_' + metric in history_dict.keys():  \n",
        "        val_values = history_dict['val_' + metric]\n",
        "\n",
        "    epochs = range(1, len(values) + 1)\n",
        "\n",
        "    if 'val_' + metric in history_dict.keys():  \n",
        "        plt.plot(epochs, val_values, label='Validation')\n",
        "    plt.semilogy(epochs, values, label='Training')\n",
        "\n",
        "    if 'val_' + metric in history_dict.keys():  \n",
        "        plt.title('Training and validation %s' % metric)\n",
        "    else:\n",
        "        plt.title('Training %s' % metric)\n",
        "    plt.xlabel('Epochs')\n",
        "    plt.ylabel(metric.capitalize())\n",
        "    plt.legend()\n",
        "    plt.grid()\n",
        "\n",
        "    plt.show()  "
      ],
      "execution_count": 0,
      "outputs": []
    },
    {
      "cell_type": "markdown",
      "metadata": {
        "id": "GrZOn1629Jlt",
        "colab_type": "text"
      },
      "source": [
        "## Input data"
      ]
    },
    {
      "cell_type": "code",
      "metadata": {
        "id": "R5JePrFS9Jlu",
        "colab_type": "code",
        "colab": {}
      },
      "source": [
        "from  tensorflow.keras import datasets"
      ],
      "execution_count": 0,
      "outputs": []
    },
    {
      "cell_type": "code",
      "metadata": {
        "id": "R9i55Z8p9x_k",
        "colab_type": "code",
        "colab": {}
      },
      "source": [
        "from  tensorflow.keras.datasets import imdb"
      ],
      "execution_count": 0,
      "outputs": []
    },
    {
      "cell_type": "code",
      "metadata": {
        "id": "CfFJNpFh9Jly",
        "colab_type": "code",
        "colab": {
          "base_uri": "https://localhost:8080/",
          "height": 52
        },
        "outputId": "7d724f63-d780-46b4-b465-765bbb236a43"
      },
      "source": [
        "train, test = imdb.load_data(num_words=10000)"
      ],
      "execution_count": 8,
      "outputs": [
        {
          "output_type": "stream",
          "text": [
            "Downloading data from https://storage.googleapis.com/tensorflow/tf-keras-datasets/imdb.npz\n",
            "17465344/17464789 [==============================] - 0s 0us/step\n"
          ],
          "name": "stdout"
        }
      ]
    },
    {
      "cell_type": "code",
      "metadata": {
        "id": "r4-L5niE9Jl3",
        "colab_type": "code",
        "colab": {}
      },
      "source": [
        "train_text, train_labels = train\n",
        "test_text, test_labels = test"
      ],
      "execution_count": 0,
      "outputs": []
    },
    {
      "cell_type": "code",
      "metadata": {
        "id": "Vb3rs1019Jl8",
        "colab_type": "code",
        "colab": {
          "base_uri": "https://localhost:8080/",
          "height": 34
        },
        "outputId": "c1f181f6-c966-4032-bdd2-86806b484107"
      },
      "source": [
        "train_labels, train_labels.shape"
      ],
      "execution_count": 11,
      "outputs": [
        {
          "output_type": "execute_result",
          "data": {
            "text/plain": [
              "(array([1, 0, 0, ..., 0, 1, 0]), (25000,))"
            ]
          },
          "metadata": {
            "tags": []
          },
          "execution_count": 11
        }
      ]
    },
    {
      "cell_type": "code",
      "metadata": {
        "id": "zx7Ph-gx9JmB",
        "colab_type": "code",
        "colab": {
          "base_uri": "https://localhost:8080/",
          "height": 34
        },
        "outputId": "5dd4e0b7-a492-4164-d7bd-5356d7186090"
      },
      "source": [
        "train_text.shape"
      ],
      "execution_count": 12,
      "outputs": [
        {
          "output_type": "execute_result",
          "data": {
            "text/plain": [
              "(25000,)"
            ]
          },
          "metadata": {
            "tags": []
          },
          "execution_count": 12
        }
      ]
    },
    {
      "cell_type": "code",
      "metadata": {
        "id": "KU-GTnjL-gy2",
        "colab_type": "code",
        "colab": {
          "base_uri": "https://localhost:8080/",
          "height": 34
        },
        "outputId": "7fde6732-91dc-45e7-8f78-baeb420a09dd"
      },
      "source": [
        "len(train_text[0])"
      ],
      "execution_count": 14,
      "outputs": [
        {
          "output_type": "execute_result",
          "data": {
            "text/plain": [
              "218"
            ]
          },
          "metadata": {
            "tags": []
          },
          "execution_count": 14
        }
      ]
    },
    {
      "cell_type": "markdown",
      "metadata": {
        "id": "L1WY14xN9JmG",
        "colab_type": "text"
      },
      "source": [
        "Why are these *texts* numbers?"
      ]
    },
    {
      "cell_type": "code",
      "metadata": {
        "id": "eACiFav99JmI",
        "colab_type": "code",
        "colab": {
          "base_uri": "https://localhost:8080/",
          "height": 34
        },
        "outputId": "6fdc5e21-d370-4b5a-c396-8cb337ee1309"
      },
      "source": [
        "train_text[4][0:10]  # we show only 10 numbers from this vector for brevity"
      ],
      "execution_count": 15,
      "outputs": [
        {
          "output_type": "execute_result",
          "data": {
            "text/plain": [
              "[1, 249, 1323, 7, 61, 113, 10, 10, 13, 1637]"
            ]
          },
          "metadata": {
            "tags": []
          },
          "execution_count": 15
        }
      ]
    },
    {
      "cell_type": "code",
      "metadata": {
        "id": "0nnsOF-U9JmN",
        "colab_type": "code",
        "colab": {
          "base_uri": "https://localhost:8080/",
          "height": 34
        },
        "outputId": "2a8ca67e-8815-414c-85bd-0a4ab44fb923"
      },
      "source": [
        "max(max(s) for s in train_text)"
      ],
      "execution_count": 16,
      "outputs": [
        {
          "output_type": "execute_result",
          "data": {
            "text/plain": [
              "9999"
            ]
          },
          "metadata": {
            "tags": []
          },
          "execution_count": 16
        }
      ]
    },
    {
      "cell_type": "markdown",
      "metadata": {
        "id": "glsl14Xa9JmQ",
        "colab_type": "text"
      },
      "source": [
        "These are actually indices in a word index"
      ]
    },
    {
      "cell_type": "code",
      "metadata": {
        "id": "Wq4-Kh3T9JmR",
        "colab_type": "code",
        "colab": {
          "base_uri": "https://localhost:8080/",
          "height": 52
        },
        "outputId": "eedfda65-85f5-46e9-d2ec-894c6a30aee3"
      },
      "source": [
        "word_index = imdb.get_word_index()"
      ],
      "execution_count": 17,
      "outputs": [
        {
          "output_type": "stream",
          "text": [
            "Downloading data from https://storage.googleapis.com/tensorflow/tf-keras-datasets/imdb_word_index.json\n",
            "1646592/1641221 [==============================] - 0s 0us/step\n"
          ],
          "name": "stdout"
        }
      ]
    },
    {
      "cell_type": "code",
      "metadata": {
        "id": "yeM5wBzA9JmU",
        "colab_type": "code",
        "colab": {
          "base_uri": "https://localhost:8080/",
          "height": 34
        },
        "outputId": "e16186af-fda3-45e1-fc16-cdd63d9cc8d5"
      },
      "source": [
        "word_index['bad']"
      ],
      "execution_count": 22,
      "outputs": [
        {
          "output_type": "execute_result",
          "data": {
            "text/plain": [
              "75"
            ]
          },
          "metadata": {
            "tags": []
          },
          "execution_count": 22
        }
      ]
    },
    {
      "cell_type": "code",
      "metadata": {
        "id": "Dt5B4UpA9JmZ",
        "colab_type": "code",
        "colab": {}
      },
      "source": [
        "reversed_word_index = dict((value, key) for (key, value) in word_index.items())"
      ],
      "execution_count": 0,
      "outputs": []
    },
    {
      "cell_type": "code",
      "metadata": {
        "id": "XelPESSI9Jmd",
        "colab_type": "code",
        "colab": {}
      },
      "source": [
        "def get_text_from_vector(v):\n",
        "    return ' '.join(reversed_word_index.get(i-3, '?') for i in v)"
      ],
      "execution_count": 0,
      "outputs": []
    },
    {
      "cell_type": "code",
      "metadata": {
        "id": "T5sDNKaF9Jmh",
        "colab_type": "code",
        "colab": {
          "base_uri": "https://localhost:8080/",
          "height": 54
        },
        "outputId": "9a80c676-eaa6-4180-cb1f-3a43a09361ed"
      },
      "source": [
        "idx = np.random.randint(0, 10000, size=1)[0]\n",
        "get_text_from_vector(train_text[idx][0:50])"
      ],
      "execution_count": 28,
      "outputs": [
        {
          "output_type": "execute_result",
          "data": {
            "text/plain": [
              "\"? i am a great fan of david lynch and have everything that he's made on dvd except for hotel room the 2 hour twin peaks movie so when i found out about this i immediately grabbed it and and what is this it's a bunch of ? drawn black\""
            ]
          },
          "metadata": {
            "tags": []
          },
          "execution_count": 28
        }
      ]
    },
    {
      "cell_type": "markdown",
      "metadata": {
        "id": "_xgYJLjk9Jmm",
        "colab_type": "text"
      },
      "source": [
        "### Prepare data for the network\n",
        "\n",
        "We need to prepare the data to be an input to the neural network. The input must be a **tensor**. In our case, all vectors should be of the same length. But not all reviews are of the same size, so the vectors will have different sizes. How can we overcome this problem?\n",
        "\n",
        "* We can zero-pad the vectors, so all of them have the same size, and then combine them in a tensor. We would need to add an *Embedding* layer to learn **word embeddings** (more later)\n",
        "* Or we can use 1-HOT encoding\n",
        "\n",
        "In both cases, we will have vectors of size $10^4$ (the maximum number of words). Let's go with the 1-HOT encoding."
      ]
    },
    {
      "cell_type": "markdown",
      "metadata": {
        "id": "F0Za_puRAmT6",
        "colab_type": "text"
      },
      "source": [
        "supongamos un vocabulario de 10 palabras\n",
        "\n",
        "el 1-hot encoding del indice 3 será:\n",
        "\n",
        "[0, 0, 0, 1, 0, 0, 0, 0, 0, 0]\n",
        "\n",
        "pero tengo una cadena de texto, por ejemplo: [1, 0, 4]\n",
        "\n",
        "Al aplicar el 1-hot nos queda una matriz de tamaño (3, 10):\n",
        "\n",
        "[[0, 1, 0, ...],\n",
        " [1, 0, ....],\n",
        " [0, 0, 0, 0, 1, ...]]\n",
        "\n",
        "La podríamos aplanar, pero eso crece con num_palabra_texto * vocabulary_size.\n",
        "en nuestro caso 100*10000 -> vectores de entrada de 1Millon de elementos!!\n",
        "\n",
        "Una cosa mas sencilla es sumar los 1-hot encoding. Para el texto [1, 0, 4], tendríamos:\n",
        "\n",
        "[1, 1, 0, 0, 1, 0, 0, 0, 0, 0]\n",
        "\n",
        "Con esto nos aseguramos de que el tamaño de los vectores de entrada es fijo!!\n",
        "Pero perdemos el orden.\n",
        "\n",
        "\n"
      ]
    },
    {
      "cell_type": "code",
      "metadata": {
        "id": "gHg5Scho9Jmn",
        "colab_type": "code",
        "colab": {}
      },
      "source": [
        "from tensorflow.keras.preprocessing.text import Tokenizer"
      ],
      "execution_count": 0,
      "outputs": []
    },
    {
      "cell_type": "code",
      "metadata": {
        "id": "9lWYYaR59Jmr",
        "colab_type": "code",
        "colab": {}
      },
      "source": [
        "tokenizer = Tokenizer(num_words=10000)"
      ],
      "execution_count": 0,
      "outputs": []
    },
    {
      "cell_type": "code",
      "metadata": {
        "id": "sMwyUOix9Jmt",
        "colab_type": "code",
        "colab": {}
      },
      "source": [
        "x_train = tokenizer.sequences_to_matrix(train_text, mode='binary')"
      ],
      "execution_count": 0,
      "outputs": []
    },
    {
      "cell_type": "code",
      "metadata": {
        "id": "u4JDxCm89Jmw",
        "colab_type": "code",
        "colab": {
          "base_uri": "https://localhost:8080/",
          "height": 34
        },
        "outputId": "4ce9f5b0-978d-4987-e9ab-c3451ed1b5e7"
      },
      "source": [
        "x_train.shape  # 25k rows, one per review;  and 10k columns, one per word. Cells will be 1 or 0"
      ],
      "execution_count": 32,
      "outputs": [
        {
          "output_type": "execute_result",
          "data": {
            "text/plain": [
              "(25000, 10000)"
            ]
          },
          "metadata": {
            "tags": []
          },
          "execution_count": 32
        }
      ]
    },
    {
      "cell_type": "code",
      "metadata": {
        "id": "5Cc-8Dl99Jmz",
        "colab_type": "code",
        "colab": {
          "base_uri": "https://localhost:8080/",
          "height": 193
        },
        "outputId": "294aa8e8-9af4-4aa7-ee14-1b1cdb5627d2"
      },
      "source": [
        "x_train[0:5,0:20]  # excerpt from the matrix"
      ],
      "execution_count": 34,
      "outputs": [
        {
          "output_type": "execute_result",
          "data": {
            "text/plain": [
              "array([[0., 1., 1., 0., 1., 1., 1., 1., 1., 1., 0., 0., 1., 1., 1., 1.,\n",
              "        1., 1., 1., 1.],\n",
              "       [0., 1., 1., 0., 1., 1., 1., 1., 1., 1., 0., 1., 0., 1., 1., 1.,\n",
              "        1., 0., 1., 1.],\n",
              "       [0., 1., 1., 0., 1., 0., 1., 1., 1., 1., 0., 1., 1., 1., 1., 1.,\n",
              "        1., 0., 1., 1.],\n",
              "       [0., 1., 1., 0., 1., 1., 1., 1., 1., 1., 1., 1., 1., 1., 1., 1.,\n",
              "        1., 1., 0., 1.],\n",
              "       [0., 1., 1., 0., 1., 1., 1., 1., 1., 0., 1., 1., 1., 1., 1., 1.,\n",
              "        1., 0., 1., 1.]])"
            ]
          },
          "metadata": {
            "tags": []
          },
          "execution_count": 34
        }
      ]
    },
    {
      "cell_type": "code",
      "metadata": {
        "id": "qqflTfYh9Jm3",
        "colab_type": "code",
        "colab": {}
      },
      "source": [
        "x_test = tokenizer.sequences_to_matrix(test_text, mode='binary')"
      ],
      "execution_count": 0,
      "outputs": []
    },
    {
      "cell_type": "markdown",
      "metadata": {
        "id": "cEQQK8Ra9Jm7",
        "colab_type": "text"
      },
      "source": [
        "**EXERCISE 1**. Can you see any problem with this approach? How would you solve it?\n",
        "\n",
        "**EXERCISE 2**. Do we need to transform the labels? Why? Or why not?"
      ]
    },
    {
      "cell_type": "markdown",
      "metadata": {
        "id": "RLC5mKVO9Jm8",
        "colab_type": "text"
      },
      "source": [
        "## Let's build the model"
      ]
    },
    {
      "cell_type": "code",
      "metadata": {
        "id": "iq7AAmG59Jm9",
        "colab_type": "code",
        "colab": {}
      },
      "source": [
        "from tensorflow.keras import layers\n",
        "from tensorflow.keras import models"
      ],
      "execution_count": 0,
      "outputs": []
    },
    {
      "cell_type": "code",
      "metadata": {
        "id": "0mI0Vv5s9JnB",
        "colab_type": "code",
        "colab": {}
      },
      "source": [
        "def build_model():\n",
        "    m = models.Sequential()\n",
        "    m.add(layers.Dense(128, activation='relu', input_shape=(10000,)))\n",
        "    m.add(layers.Dropout(0.5))\n",
        "    m.add(layers.Dense(64, activation='relu'))\n",
        "    m.add(layers.Dropout(0.5))\n",
        "    m.add(layers.Dense(32, activation='relu'))\n",
        "    m.add(layers.Dense(16, activation='relu'))\n",
        "    m.add(layers.Dense(1, activation='sigmoid'))\n",
        "    return m"
      ],
      "execution_count": 0,
      "outputs": []
    },
    {
      "cell_type": "code",
      "metadata": {
        "id": "XmJmhjxw9JnD",
        "colab_type": "code",
        "colab": {}
      },
      "source": [
        "from tensorflow.keras import optimizers\n",
        "from tensorflow.keras import losses\n",
        "from tensorflow.keras import metrics"
      ],
      "execution_count": 0,
      "outputs": []
    },
    {
      "cell_type": "code",
      "metadata": {
        "id": "I8tFYlbL9JnG",
        "colab_type": "code",
        "colab": {}
      },
      "source": [
        "m = build_model()"
      ],
      "execution_count": 0,
      "outputs": []
    },
    {
      "cell_type": "code",
      "metadata": {
        "id": "qqUvzv7m9JnK",
        "colab_type": "code",
        "colab": {
          "base_uri": "https://localhost:8080/",
          "height": 404
        },
        "outputId": "2d581e78-fd70-47b8-f426-d4553d56f02b"
      },
      "source": [
        "m.summary()"
      ],
      "execution_count": 48,
      "outputs": [
        {
          "output_type": "stream",
          "text": [
            "Model: \"sequential_1\"\n",
            "_________________________________________________________________\n",
            "Layer (type)                 Output Shape              Param #   \n",
            "=================================================================\n",
            "dense_5 (Dense)              (None, 128)               1280128   \n",
            "_________________________________________________________________\n",
            "dropout (Dropout)            (None, 128)               0         \n",
            "_________________________________________________________________\n",
            "dense_6 (Dense)              (None, 64)                8256      \n",
            "_________________________________________________________________\n",
            "dropout_1 (Dropout)          (None, 64)                0         \n",
            "_________________________________________________________________\n",
            "dense_7 (Dense)              (None, 32)                2080      \n",
            "_________________________________________________________________\n",
            "dense_8 (Dense)              (None, 16)                528       \n",
            "_________________________________________________________________\n",
            "dense_9 (Dense)              (None, 1)                 17        \n",
            "=================================================================\n",
            "Total params: 1,291,009\n",
            "Trainable params: 1,291,009\n",
            "Non-trainable params: 0\n",
            "_________________________________________________________________\n"
          ],
          "name": "stdout"
        }
      ]
    },
    {
      "cell_type": "code",
      "metadata": {
        "id": "9gHek3XP9JnN",
        "colab_type": "code",
        "colab": {}
      },
      "source": [
        "m.compile(\n",
        "    optimizer=optimizers.RMSprop(),\n",
        "    loss=losses.binary_crossentropy,\n",
        "    metrics=[metrics.binary_accuracy]\n",
        ")"
      ],
      "execution_count": 0,
      "outputs": []
    },
    {
      "cell_type": "code",
      "metadata": {
        "id": "KVhVervU9JnP",
        "colab_type": "code",
        "colab": {
          "base_uri": "https://localhost:8080/",
          "height": 738
        },
        "outputId": "a64af1bc-2996-47de-9311-42751b96e611"
      },
      "source": [
        "h = m.fit(x_train, train_labels, epochs=20, batch_size=100, validation_split=.2)"
      ],
      "execution_count": 50,
      "outputs": [
        {
          "output_type": "stream",
          "text": [
            "Train on 20000 samples, validate on 5000 samples\n",
            "Epoch 1/20\n",
            "20000/20000 [==============================] - 3s 138us/sample - loss: 0.4257 - binary_accuracy: 0.8062 - val_loss: 0.2829 - val_binary_accuracy: 0.8898\n",
            "Epoch 2/20\n",
            "20000/20000 [==============================] - 2s 104us/sample - loss: 0.2537 - binary_accuracy: 0.9077 - val_loss: 0.2838 - val_binary_accuracy: 0.8942\n",
            "Epoch 3/20\n",
            "20000/20000 [==============================] - 2s 107us/sample - loss: 0.2038 - binary_accuracy: 0.9278 - val_loss: 0.3090 - val_binary_accuracy: 0.8942\n",
            "Epoch 4/20\n",
            "20000/20000 [==============================] - 2s 105us/sample - loss: 0.1670 - binary_accuracy: 0.9436 - val_loss: 0.3484 - val_binary_accuracy: 0.8884\n",
            "Epoch 5/20\n",
            "20000/20000 [==============================] - 2s 105us/sample - loss: 0.1402 - binary_accuracy: 0.9537 - val_loss: 0.3779 - val_binary_accuracy: 0.8892\n",
            "Epoch 6/20\n",
            "20000/20000 [==============================] - 2s 104us/sample - loss: 0.1205 - binary_accuracy: 0.9621 - val_loss: 0.4315 - val_binary_accuracy: 0.8884\n",
            "Epoch 7/20\n",
            "20000/20000 [==============================] - 2s 105us/sample - loss: 0.1057 - binary_accuracy: 0.9696 - val_loss: 0.4586 - val_binary_accuracy: 0.8824\n",
            "Epoch 8/20\n",
            "20000/20000 [==============================] - 2s 107us/sample - loss: 0.0925 - binary_accuracy: 0.9728 - val_loss: 0.4589 - val_binary_accuracy: 0.8858\n",
            "Epoch 9/20\n",
            "20000/20000 [==============================] - 2s 105us/sample - loss: 0.0801 - binary_accuracy: 0.9765 - val_loss: 0.5587 - val_binary_accuracy: 0.8838\n",
            "Epoch 10/20\n",
            "20000/20000 [==============================] - 2s 105us/sample - loss: 0.0701 - binary_accuracy: 0.9803 - val_loss: 0.5696 - val_binary_accuracy: 0.8842\n",
            "Epoch 11/20\n",
            "20000/20000 [==============================] - 2s 106us/sample - loss: 0.0652 - binary_accuracy: 0.9818 - val_loss: 0.6489 - val_binary_accuracy: 0.8770\n",
            "Epoch 12/20\n",
            "20000/20000 [==============================] - 2s 103us/sample - loss: 0.0653 - binary_accuracy: 0.9814 - val_loss: 0.5899 - val_binary_accuracy: 0.8780\n",
            "Epoch 13/20\n",
            "20000/20000 [==============================] - 2s 106us/sample - loss: 0.0516 - binary_accuracy: 0.9857 - val_loss: 0.7378 - val_binary_accuracy: 0.8796\n",
            "Epoch 14/20\n",
            "20000/20000 [==============================] - 2s 105us/sample - loss: 0.0504 - binary_accuracy: 0.9863 - val_loss: 0.7556 - val_binary_accuracy: 0.8786\n",
            "Epoch 15/20\n",
            "20000/20000 [==============================] - 2s 105us/sample - loss: 0.0533 - binary_accuracy: 0.9850 - val_loss: 0.7827 - val_binary_accuracy: 0.8794\n",
            "Epoch 16/20\n",
            "20000/20000 [==============================] - 2s 105us/sample - loss: 0.0489 - binary_accuracy: 0.9857 - val_loss: 0.8354 - val_binary_accuracy: 0.8720\n",
            "Epoch 17/20\n",
            "20000/20000 [==============================] - 2s 105us/sample - loss: 0.0464 - binary_accuracy: 0.9862 - val_loss: 0.9662 - val_binary_accuracy: 0.8762\n",
            "Epoch 18/20\n",
            "20000/20000 [==============================] - 2s 105us/sample - loss: 0.0531 - binary_accuracy: 0.9868 - val_loss: 0.9329 - val_binary_accuracy: 0.8770\n",
            "Epoch 19/20\n",
            "20000/20000 [==============================] - 2s 106us/sample - loss: 0.0483 - binary_accuracy: 0.9848 - val_loss: 0.9069 - val_binary_accuracy: 0.8780\n",
            "Epoch 20/20\n",
            "20000/20000 [==============================] - 2s 104us/sample - loss: 0.0430 - binary_accuracy: 0.9882 - val_loss: 1.0031 - val_binary_accuracy: 0.8770\n"
          ],
          "name": "stdout"
        }
      ]
    },
    {
      "cell_type": "markdown",
      "metadata": {
        "id": "AaZzYaMG9JnS",
        "colab_type": "text"
      },
      "source": [
        "# Analyze performance"
      ]
    },
    {
      "cell_type": "code",
      "metadata": {
        "id": "Fgi_cI8H9JnT",
        "colab_type": "code",
        "colab": {
          "base_uri": "https://localhost:8080/",
          "height": 481
        },
        "outputId": "b234b055-8524-4eb7-e991-950dc525d961"
      },
      "source": [
        "plot_metric(h, 'loss')"
      ],
      "execution_count": 51,
      "outputs": [
        {
          "output_type": "display_data",
          "data": {
            "image/png": "[encoded data removed]",
            "text/plain": [
              "<Figure size 748.8x514.8 with 1 Axes>"
            ]
          },
          "metadata": {
            "tags": []
          }
        }
      ]
    },
    {
      "cell_type": "code",
      "metadata": {
        "id": "KklpBkym9JnX",
        "colab_type": "code",
        "colab": {
          "base_uri": "https://localhost:8080/",
          "height": 481
        },
        "outputId": "91c723bd-fded-40dd-e406-a7e50bb4bb9c"
      },
      "source": [
        "plot_metric(h, 'binary_accuracy')"
      ],
      "execution_count": 52,
      "outputs": [
        {
          "output_type": "display_data",
          "data": {
            "image/png": "[encoded data removed]",
            "text/plain": [
              "<Figure size 748.8x514.8 with 1 Axes>"
            ]
          },
          "metadata": {
            "tags": []
          }
        }
      ]
    },
    {
      "cell_type": "markdown",
      "metadata": {
        "id": "HDyESeHh9Jnb",
        "colab_type": "text"
      },
      "source": [
        "We cannot find a satisfactory model with what we have learned so far. Is there any way to have a better representation of text that can provide better results?"
      ]
    },
    {
      "cell_type": "code",
      "metadata": {
        "id": "1jOeOTao9Jnc",
        "colab_type": "code",
        "colab": {
          "base_uri": "https://localhost:8080/",
          "height": 52
        },
        "outputId": "e9e5d081-f09c-4e88-9867-00d4a0ae99cd"
      },
      "source": [
        "m.evaluate(x_test, test_labels)"
      ],
      "execution_count": 53,
      "outputs": [
        {
          "output_type": "stream",
          "text": [
            "25000/25000 [==============================] - 3s 127us/sample - loss: 1.0155 - binary_accuracy: 0.8633\n"
          ],
          "name": "stdout"
        },
        {
          "output_type": "execute_result",
          "data": {
            "text/plain": [
              "[1.0154754676580429, 0.86332]"
            ]
          },
          "metadata": {
            "tags": []
          },
          "execution_count": 53
        }
      ]
    },
    {
      "cell_type": "markdown",
      "metadata": {
        "id": "56CRuJjv9Jng",
        "colab_type": "text"
      },
      "source": [
        "# Word embeddings\n",
        "\n",
        "Using 1-HOT encoded vectors produce large and sparse tensors, that are difficult to learn from using a neural network. Word embeddings are compact vectors, representing words in a vector space. These vectors are learnt in a neural network, with a layer of type *Embedding*. We can also even use pre-trained word embeddings, to improve our model\n",
        "\n",
        "![](./imgs/07_embeddings.png)\n",
        "\n",
        "To generate  an embedding, we need to tokenize the text, transforming words into indices, and then we use these lists of numbers to produce the vectorial representation:\n",
        "\n",
        "![](./imgs/08_embeddings.png)\n",
        "\n",
        "More info:\n",
        "* http://www.offconvex.org/2015/12/12/word-embeddings-1/\n",
        "* http://www.offconvex.org/2016/02/14/word-embeddings-2/"
      ]
    },
    {
      "cell_type": "markdown",
      "metadata": {
        "id": "VTn0KUHJ9Jnh",
        "colab_type": "text"
      },
      "source": [
        "## Input data for word embeddings"
      ]
    },
    {
      "cell_type": "code",
      "metadata": {
        "id": "LzAiBOaXFWlz",
        "colab_type": "code",
        "colab": {
          "base_uri": "https://localhost:8080/",
          "height": 462
        },
        "outputId": "7b48adb2-35b7-4f31-fb74-954590572cbe"
      },
      "source": [
        "longitud_textos = [len(text) for text in train_text ]\n",
        "plt.hist(longitud_textos, bins=50);\n",
        "np.median(longitud_textos)"
      ],
      "execution_count": 59,
      "outputs": [
        {
          "output_type": "execute_result",
          "data": {
            "text/plain": [
              "178.0"
            ]
          },
          "metadata": {
            "tags": []
          },
          "execution_count": 59
        },
        {
          "output_type": "display_data",
          "data": {
            "image/png": "[encoded data removed]",
            "text/plain": [
              "<Figure size 748.8x514.8 with 1 Axes>"
            ]
          },
          "metadata": {
            "tags": []
          }
        }
      ]
    },
    {
      "cell_type": "code",
      "metadata": {
        "id": "zMRj6Cex9Jni",
        "colab_type": "code",
        "colab": {}
      },
      "source": [
        "max_words = 10000\n",
        "max_len = 180  # maximum length of the reviews\n",
        "embedding_dim = 32  # number of components of the embedding vector"
      ],
      "execution_count": 0,
      "outputs": []
    },
    {
      "cell_type": "code",
      "metadata": {
        "id": "8BHdY6179Jnk",
        "colab_type": "code",
        "colab": {}
      },
      "source": [
        "from tensorflow.keras import preprocessing"
      ],
      "execution_count": 0,
      "outputs": []
    },
    {
      "cell_type": "code",
      "metadata": {
        "id": "pj_UrlIM9Jno",
        "colab_type": "code",
        "colab": {}
      },
      "source": [
        "x_train = preprocessing.sequence.pad_sequences(train_text, maxlen=max_len)"
      ],
      "execution_count": 0,
      "outputs": []
    },
    {
      "cell_type": "code",
      "metadata": {
        "id": "Z_XxZ0sI9Jnr",
        "colab_type": "code",
        "colab": {
          "base_uri": "https://localhost:8080/",
          "height": 34
        },
        "outputId": "e0c04b20-5ec7-4986-960f-e9f69049b21f"
      },
      "source": [
        "x_train.shape"
      ],
      "execution_count": 65,
      "outputs": [
        {
          "output_type": "execute_result",
          "data": {
            "text/plain": [
              "(25000, 180)"
            ]
          },
          "metadata": {
            "tags": []
          },
          "execution_count": 65
        }
      ]
    },
    {
      "cell_type": "code",
      "metadata": {
        "id": "lTZMZctS9Jnu",
        "colab_type": "code",
        "colab": {
          "base_uri": "https://localhost:8080/",
          "height": 122
        },
        "outputId": "20005bc4-cff5-4fbb-94fd-bfa78d4a3277"
      },
      "source": [
        "x_train[0:5, 0:10]  # we are limiting the reviews to just 100 words, with a vocabulary of 10ˆ4 words"
      ],
      "execution_count": 66,
      "outputs": [
        {
          "output_type": "execute_result",
          "data": {
            "text/plain": [
              "array([[ 336,  385,   39,    4,  172, 4536, 1111,   17,  546,   38],\n",
              "       [1463, 4369, 5012,  134,   26,    4,  715,    8,  118, 1634],\n",
              "       [   0,    0,    0,    0,    0,    0,    0,    0,    0,    0],\n",
              "       [  31,    7,    2,   91,    2, 3987,   70,    4,  882,   30],\n",
              "       [   0,    0,    0,    0,    0,    0,    0,    0,    0,    0]],\n",
              "      dtype=int32)"
            ]
          },
          "metadata": {
            "tags": []
          },
          "execution_count": 66
        }
      ]
    },
    {
      "cell_type": "code",
      "metadata": {
        "id": "Nna80oemGSZO",
        "colab_type": "code",
        "colab": {
          "base_uri": "https://localhost:8080/",
          "height": 316
        },
        "outputId": "d924ae43-beb3-4710-e1c9-a6ec562fd11d"
      },
      "source": [
        "x_train[2]"
      ],
      "execution_count": 69,
      "outputs": [
        {
          "output_type": "execute_result",
          "data": {
            "text/plain": [
              "array([   0,    0,    0,    0,    0,    0,    0,    0,    0,    0,    0,\n",
              "          0,    0,    0,    0,    0,    0,    0,    0,    0,    0,    0,\n",
              "          0,    0,    0,    0,    0,    0,    0,    0,    0,    0,    0,\n",
              "          0,    0,    0,    0,    0,    0,    1,   14,   47,    8,   30,\n",
              "         31,    7,    4,  249,  108,    7,    4, 5974,   54,   61,  369,\n",
              "         13,   71,  149,   14,   22,  112,    4, 2401,  311,   12,   16,\n",
              "       3711,   33,   75,   43, 1829,  296,    4,   86,  320,   35,  534,\n",
              "         19,  263, 4821, 1301,    4, 1873,   33,   89,   78,   12,   66,\n",
              "         16,    4,  360,    7,    4,   58,  316,  334,   11,    4, 1716,\n",
              "         43,  645,  662,    8,  257,   85, 1200,   42, 1228, 2578,   83,\n",
              "         68, 3912,   15,   36,  165, 1539,  278,   36,   69,    2,  780,\n",
              "          8,  106,   14, 6905, 1338,   18,    6,   22,   12,  215,   28,\n",
              "        610,   40,    6,   87,  326,   23, 2300,   21,   23,   22,   12,\n",
              "        272,   40,   57,   31,   11,    4,   22,   47,    6, 2307,   51,\n",
              "          9,  170,   23,  595,  116,  595, 1352,   13,  191,   79,  638,\n",
              "         89,    2,   14,    9,    8,  106,  607,  624,   35,  534,    6,\n",
              "        227,    7,  129,  113], dtype=int32)"
            ]
          },
          "metadata": {
            "tags": []
          },
          "execution_count": 69
        }
      ]
    },
    {
      "cell_type": "code",
      "metadata": {
        "id": "qmI5rhDX9Jnw",
        "colab_type": "code",
        "colab": {}
      },
      "source": [
        "x_test = preprocessing.sequence.pad_sequences(test_text, maxlen=max_len)"
      ],
      "execution_count": 0,
      "outputs": []
    },
    {
      "cell_type": "markdown",
      "metadata": {
        "id": "8ow_VRhJ9Jny",
        "colab_type": "text"
      },
      "source": [
        "## Let's build the model with embeddings"
      ]
    },
    {
      "cell_type": "code",
      "metadata": {
        "id": "7KaAAZBF9Jnz",
        "colab_type": "code",
        "colab": {}
      },
      "source": [
        "# Try first with Dense layers,\n",
        "# Then SimpleRNN without return_sequences\n",
        "# Then with return_sequences\n",
        "# Then several RNN layers\n",
        "# Then show LSTM layers\n",
        "def build_model():\n",
        "    m = models.Sequential()\n",
        "    m.add(layers.Embedding(max_words, embedding_dim))\n",
        "    m.add(layers.LSTM(32))\n",
        "    m.add(layers.Dense(1, activation='sigmoid'))\n",
        "    return m"
      ],
      "execution_count": 0,
      "outputs": []
    },
    {
      "cell_type": "code",
      "metadata": {
        "id": "fZ56B_LI9Jn2",
        "colab_type": "code",
        "colab": {}
      },
      "source": [
        "m = build_model()"
      ],
      "execution_count": 0,
      "outputs": []
    },
    {
      "cell_type": "code",
      "metadata": {
        "id": "G78ZVoSF9Jn5",
        "colab_type": "code",
        "colab": {
          "base_uri": "https://localhost:8080/",
          "height": 263
        },
        "outputId": "3027fb8e-8cf2-499c-d9ab-340b40c890ed"
      },
      "source": [
        "m.summary()"
      ],
      "execution_count": 84,
      "outputs": [
        {
          "output_type": "stream",
          "text": [
            "Model: \"sequential_4\"\n",
            "_________________________________________________________________\n",
            "Layer (type)                 Output Shape              Param #   \n",
            "=================================================================\n",
            "embedding_2 (Embedding)      (None, None, 32)          320000    \n",
            "_________________________________________________________________\n",
            "lstm (LSTM)                  (None, 32)                8320      \n",
            "_________________________________________________________________\n",
            "dense_16 (Dense)             (None, 1)                 33        \n",
            "=================================================================\n",
            "Total params: 328,353\n",
            "Trainable params: 328,353\n",
            "Non-trainable params: 0\n",
            "_________________________________________________________________\n"
          ],
          "name": "stdout"
        }
      ]
    },
    {
      "cell_type": "code",
      "metadata": {
        "id": "2cROnJx79Jn8",
        "colab_type": "code",
        "colab": {}
      },
      "source": [
        "m.compile(\n",
        "    optimizer=optimizers.RMSprop(),\n",
        "    loss=losses.binary_crossentropy,\n",
        "    metrics=[metrics.binary_accuracy]\n",
        ")"
      ],
      "execution_count": 0,
      "outputs": []
    },
    {
      "cell_type": "code",
      "metadata": {
        "id": "2_LLKLee9Jn-",
        "colab_type": "code",
        "colab": {
          "base_uri": "https://localhost:8080/",
          "height": 386
        },
        "outputId": "91f18412-2f01-46a4-94e9-fd57ce84112c"
      },
      "source": [
        "h = m.fit(x_train, train_labels, epochs=10, batch_size=200, validation_split=.2)"
      ],
      "execution_count": 86,
      "outputs": [
        {
          "output_type": "stream",
          "text": [
            "Train on 20000 samples, validate on 5000 samples\n",
            "Epoch 1/10\n",
            "20000/20000 [==============================] - 12s 576us/sample - loss: 0.5427 - binary_accuracy: 0.7388 - val_loss: 0.4848 - val_binary_accuracy: 0.7696\n",
            "Epoch 2/10\n",
            "20000/20000 [==============================] - 6s 302us/sample - loss: 0.3240 - binary_accuracy: 0.8711 - val_loss: 0.3106 - val_binary_accuracy: 0.8710\n",
            "Epoch 3/10\n",
            "20000/20000 [==============================] - 7s 329us/sample - loss: 0.2430 - binary_accuracy: 0.9069 - val_loss: 0.3052 - val_binary_accuracy: 0.8806\n",
            "Epoch 4/10\n",
            "20000/20000 [==============================] - 6s 307us/sample - loss: 0.2096 - binary_accuracy: 0.9227 - val_loss: 0.3088 - val_binary_accuracy: 0.8786\n",
            "Epoch 5/10\n",
            "20000/20000 [==============================] - 7s 325us/sample - loss: 0.1833 - binary_accuracy: 0.9319 - val_loss: 0.3139 - val_binary_accuracy: 0.8720\n",
            "Epoch 6/10\n",
            "20000/20000 [==============================] - 6s 314us/sample - loss: 0.1607 - binary_accuracy: 0.9434 - val_loss: 0.3219 - val_binary_accuracy: 0.8770\n",
            "Epoch 7/10\n",
            "20000/20000 [==============================] - 6s 306us/sample - loss: 0.1450 - binary_accuracy: 0.9488 - val_loss: 0.3775 - val_binary_accuracy: 0.8758\n",
            "Epoch 8/10\n",
            "20000/20000 [==============================] - 7s 326us/sample - loss: 0.1355 - binary_accuracy: 0.9536 - val_loss: 0.3792 - val_binary_accuracy: 0.8484\n",
            "Epoch 9/10\n",
            "20000/20000 [==============================] - 6s 323us/sample - loss: 0.1214 - binary_accuracy: 0.9571 - val_loss: 0.3919 - val_binary_accuracy: 0.8662\n",
            "Epoch 10/10\n",
            "20000/20000 [==============================] - 6s 305us/sample - loss: 0.1160 - binary_accuracy: 0.9604 - val_loss: 0.4466 - val_binary_accuracy: 0.8406\n"
          ],
          "name": "stdout"
        }
      ]
    },
    {
      "cell_type": "markdown",
      "metadata": {
        "id": "zHtarTAs9JoF",
        "colab_type": "text"
      },
      "source": [
        "## Analyze performance"
      ]
    },
    {
      "cell_type": "code",
      "metadata": {
        "id": "bVEvyTF09JoG",
        "colab_type": "code",
        "colab": {},
        "outputId": "502b2158-7ac1-4d17-8dd0-ac051bd0bddc"
      },
      "source": [
        "plot_metric(h, 'loss')"
      ],
      "execution_count": 0,
      "outputs": [
        {
          "output_type": "display_data",
          "data": {
            "image/png": "[encoded data removed]",
            "text/plain": [
              "<Figure size 432x288 with 1 Axes>"
            ]
          },
          "metadata": {
            "tags": []
          }
        }
      ]
    },
    {
      "cell_type": "code",
      "metadata": {
        "id": "pfk-0YBG9JoI",
        "colab_type": "code",
        "colab": {},
        "outputId": "1aaa49d9-52e9-4bbb-bce3-01a977672b3a"
      },
      "source": [
        "plot_metric(h, 'binary_accuracy')"
      ],
      "execution_count": 0,
      "outputs": [
        {
          "output_type": "display_data",
          "data": {
            "image/png": "[encoded data removed]",
            "text/plain": [
              "<Figure size 432x288 with 1 Axes>"
            ]
          },
          "metadata": {
            "tags": []
          }
        }
      ]
    },
    {
      "cell_type": "markdown",
      "metadata": {
        "id": "xq9bsYl39JoM",
        "colab_type": "text"
      },
      "source": [
        "Not bad, with just an embedding layer, we get $75\\%$ accuracy"
      ]
    },
    {
      "cell_type": "code",
      "metadata": {
        "id": "Xc0rbiPW9JoN",
        "colab_type": "code",
        "colab": {},
        "outputId": "5b6032ca-51d9-497b-a306-8e1030a8a6c0"
      },
      "source": [
        "loss, acc = m.evaluate(x_test, test_labels)"
      ],
      "execution_count": 0,
      "outputs": [
        {
          "output_type": "stream",
          "text": [
            "25000/25000 [==============================] - 19s 748us/step\n"
          ],
          "name": "stdout"
        }
      ]
    },
    {
      "cell_type": "code",
      "metadata": {
        "id": "8sRPQhMf9JoP",
        "colab_type": "code",
        "colab": {},
        "outputId": "995f17bc-3051-4b71-d139-bf2174957cfe"
      },
      "source": [
        "loss, acc"
      ],
      "execution_count": 0,
      "outputs": [
        {
          "output_type": "execute_result",
          "data": {
            "text/plain": [
              "(0.43535898880958557, 0.83044)"
            ]
          },
          "metadata": {
            "tags": []
          },
          "execution_count": 44
        }
      ]
    },
    {
      "cell_type": "markdown",
      "metadata": {
        "id": "ODvN2Qs49JoS",
        "colab_type": "text"
      },
      "source": [
        "How many reviews will be misclassified?"
      ]
    },
    {
      "cell_type": "code",
      "metadata": {
        "id": "jhyZB8MQ9JoS",
        "colab_type": "code",
        "colab": {},
        "outputId": "b723d9a8-9f20-426a-e7c6-b2422e98508a"
      },
      "source": [
        "(1-acc)*len(test_labels)"
      ],
      "execution_count": 0,
      "outputs": [
        {
          "output_type": "execute_result",
          "data": {
            "text/plain": [
              "4239.000000000001"
            ]
          },
          "metadata": {
            "tags": []
          },
          "execution_count": 45
        }
      ]
    },
    {
      "cell_type": "markdown",
      "metadata": {
        "id": "ENrtU2Qn9JoV",
        "colab_type": "text"
      },
      "source": [
        "Let's check some of the predictions"
      ]
    },
    {
      "cell_type": "code",
      "metadata": {
        "id": "EIhvXsxy9JoV",
        "colab_type": "code",
        "colab": {}
      },
      "source": [
        "N = 123\n",
        "# N = 2344"
      ],
      "execution_count": 0,
      "outputs": []
    },
    {
      "cell_type": "code",
      "metadata": {
        "id": "PDs_TJiJ9JoY",
        "colab_type": "code",
        "colab": {},
        "outputId": "680cb97a-4f3d-4eff-8361-b8941bd7e89d"
      },
      "source": [
        "m.predict(x_test[N:N+1,])[0][0] >= 0.5"
      ],
      "execution_count": 0,
      "outputs": [
        {
          "output_type": "execute_result",
          "data": {
            "text/plain": [
              "True"
            ]
          },
          "metadata": {
            "tags": []
          },
          "execution_count": 47
        }
      ]
    },
    {
      "cell_type": "code",
      "metadata": {
        "id": "8lMk2coD9Joa",
        "colab_type": "code",
        "colab": {},
        "outputId": "24886372-0894-48ef-e831-5df550b28f97"
      },
      "source": [
        "test_labels[N]"
      ],
      "execution_count": 0,
      "outputs": [
        {
          "output_type": "execute_result",
          "data": {
            "text/plain": [
              "1"
            ]
          },
          "metadata": {
            "tags": []
          },
          "execution_count": 48
        }
      ]
    },
    {
      "cell_type": "markdown",
      "metadata": {
        "id": "ZOIG9BES9Jod",
        "colab_type": "text"
      },
      "source": [
        "So this prediction is correct. It says the review is negative. Let's have a look at the text:"
      ]
    },
    {
      "cell_type": "code",
      "metadata": {
        "id": "CUkflqcC9Joe",
        "colab_type": "code",
        "colab": {},
        "outputId": "75494a1d-2043-4262-cbd6-4215f3e10ec6"
      },
      "source": [
        "get_text_from_vector(test_text[N])"
      ],
      "execution_count": 0,
      "outputs": [
        {
          "output_type": "execute_result",
          "data": {
            "text/plain": [
              "\"? if you believe that any given war movie can make you really feel the war you need to see called the ? are flying in english it tells the story of ? ? and boris who are in love on the verge of wwii they are walking along the ? watching the ? fly by when the war starts boris is promptly sent off to war ? hides out with a family and ends up marrying the son whom she does not love boris meanwhile continues ? through the countryside fighting the nazis and experiencing all the horrors of war until he he runs out of energy when ? working in a military hospital receives this news she refuses to accept it until ? body arrives home on one of the trains simultaneously the radio ? that germany has ? and the allied powers have won the war the soviet union lost 27 million citizens but it's the start of a new era br br this movie did a very good job showing the human impact of the war not only in the battlefield but also how it affected the ? population this is definitely a movie that everyone should see\""
            ]
          },
          "metadata": {
            "tags": []
          },
          "execution_count": 49
        }
      ]
    },
    {
      "cell_type": "markdown",
      "metadata": {
        "id": "Rt5bW0nU9Jog",
        "colab_type": "text"
      },
      "source": [
        "Can we find all the reviews that are wrongly classified?"
      ]
    },
    {
      "cell_type": "code",
      "metadata": {
        "id": "G7_nCmkj9Joi",
        "colab_type": "code",
        "colab": {}
      },
      "source": [
        "preds = m.predict(x_test)"
      ],
      "execution_count": 0,
      "outputs": []
    },
    {
      "cell_type": "code",
      "metadata": {
        "id": "iTlH_-qV9Jok",
        "colab_type": "code",
        "colab": {},
        "outputId": "3241f6a3-22ee-4779-9e31-965beef56043"
      },
      "source": [
        "preds.shape"
      ],
      "execution_count": 0,
      "outputs": [
        {
          "output_type": "execute_result",
          "data": {
            "text/plain": [
              "(25000, 1)"
            ]
          },
          "metadata": {
            "tags": []
          },
          "execution_count": 51
        }
      ]
    },
    {
      "cell_type": "code",
      "metadata": {
        "id": "osfur6XQ9Jom",
        "colab_type": "code",
        "colab": {},
        "outputId": "1e2821ed-9ac7-4d68-fac3-8982f5169465"
      },
      "source": [
        "preds[0:10]"
      ],
      "execution_count": 0,
      "outputs": [
        {
          "output_type": "execute_result",
          "data": {
            "text/plain": [
              "array([[0.16714993],\n",
              "       [0.99078965],\n",
              "       [0.9797499 ],\n",
              "       [0.55139786],\n",
              "       [0.99386793],\n",
              "       [0.7385477 ],\n",
              "       [0.9899457 ],\n",
              "       [0.01698123],\n",
              "       [0.9646337 ],\n",
              "       [0.9895983 ]], dtype=float32)"
            ]
          },
          "metadata": {
            "tags": []
          },
          "execution_count": 52
        }
      ]
    },
    {
      "cell_type": "code",
      "metadata": {
        "id": "5aff-IXL9Joo",
        "colab_type": "code",
        "colab": {}
      },
      "source": [
        "preds_binary = (preds >= 0.5).reshape((len(preds),))"
      ],
      "execution_count": 0,
      "outputs": []
    },
    {
      "cell_type": "code",
      "metadata": {
        "id": "uxwEsI359Joq",
        "colab_type": "code",
        "colab": {},
        "outputId": "48705c07-41c9-4511-ce5b-7d5484d739e1"
      },
      "source": [
        "preds_binary.shape"
      ],
      "execution_count": 0,
      "outputs": [
        {
          "output_type": "execute_result",
          "data": {
            "text/plain": [
              "(25000,)"
            ]
          },
          "metadata": {
            "tags": []
          },
          "execution_count": 54
        }
      ]
    },
    {
      "cell_type": "code",
      "metadata": {
        "id": "l3xwJlj99Jou",
        "colab_type": "code",
        "colab": {},
        "outputId": "7c426c78-2ef9-424e-d6cc-959a6c29df91"
      },
      "source": [
        "test_labels.shape"
      ],
      "execution_count": 0,
      "outputs": [
        {
          "output_type": "execute_result",
          "data": {
            "text/plain": [
              "(25000,)"
            ]
          },
          "metadata": {
            "tags": []
          },
          "execution_count": 55
        }
      ]
    },
    {
      "cell_type": "code",
      "metadata": {
        "id": "6gqf-Uzr9Jow",
        "colab_type": "code",
        "colab": {}
      },
      "source": [
        "wrong_pos = np.where(test_labels != preds_binary)[0]"
      ],
      "execution_count": 0,
      "outputs": []
    },
    {
      "cell_type": "code",
      "metadata": {
        "id": "AIYO00Ra9Joy",
        "colab_type": "code",
        "colab": {},
        "outputId": "5cc3b390-5edd-40e0-d416-204bdded4bf1"
      },
      "source": [
        "wrong_pos.shape"
      ],
      "execution_count": 0,
      "outputs": [
        {
          "output_type": "execute_result",
          "data": {
            "text/plain": [
              "(4239,)"
            ]
          },
          "metadata": {
            "tags": []
          },
          "execution_count": 57
        }
      ]
    },
    {
      "cell_type": "code",
      "metadata": {
        "id": "aUDCclQK9Jo0",
        "colab_type": "code",
        "colab": {},
        "outputId": "b582e031-407f-45ad-a1b5-10c7d8fcb54b"
      },
      "source": [
        "wrong_pos[0:100]"
      ],
      "execution_count": 0,
      "outputs": [
        {
          "output_type": "execute_result",
          "data": {
            "text/plain": [
              "array([  3,   8,  17,  32,  38,  45,  59,  66,  75,  80,  81,  95,  98,\n",
              "       100, 101, 112, 115, 126, 139, 146, 152, 154, 156, 159, 166, 167,\n",
              "       182, 191, 205, 214, 227, 232, 247, 248, 256, 267, 274, 282, 283,\n",
              "       296, 299, 300, 302, 310, 319, 328, 330, 333, 336, 339, 342, 345,\n",
              "       346, 348, 349, 355, 356, 358, 367, 372, 376, 378, 386, 389, 399,\n",
              "       414, 417, 422, 433, 438, 447, 449, 455, 476, 488, 491, 495, 503,\n",
              "       505, 524, 537, 544, 547, 548, 556, 558, 562, 570, 573, 576, 581,\n",
              "       593, 598, 612, 613, 614, 629, 634, 641, 653])"
            ]
          },
          "metadata": {
            "tags": []
          },
          "execution_count": 58
        }
      ]
    },
    {
      "cell_type": "code",
      "metadata": {
        "id": "mYf4BBi99Jo2",
        "colab_type": "code",
        "colab": {},
        "outputId": "e1cce3e1-920c-454c-839e-93d8ddc94e12"
      },
      "source": [
        "preds_binary[3], preds[3][0]"
      ],
      "execution_count": 0,
      "outputs": [
        {
          "output_type": "execute_result",
          "data": {
            "text/plain": [
              "(True, 0.55139786)"
            ]
          },
          "metadata": {
            "tags": []
          },
          "execution_count": 59
        }
      ]
    },
    {
      "cell_type": "code",
      "metadata": {
        "id": "8j6_flqX9Jo4",
        "colab_type": "code",
        "colab": {},
        "outputId": "ca16dd2a-cae9-4b55-a412-27f14f9436e9"
      },
      "source": [
        "test_labels[3]"
      ],
      "execution_count": 0,
      "outputs": [
        {
          "output_type": "execute_result",
          "data": {
            "text/plain": [
              "0"
            ]
          },
          "metadata": {
            "tags": []
          },
          "execution_count": 60
        }
      ]
    },
    {
      "cell_type": "code",
      "metadata": {
        "id": "JaZh4N729Jo5",
        "colab_type": "code",
        "colab": {},
        "outputId": "dc7d0125-14f3-4021-b460-40123fe482cf"
      },
      "source": [
        "get_text_from_vector(test_text[3])"
      ],
      "execution_count": 0,
      "outputs": [
        {
          "output_type": "execute_result",
          "data": {
            "text/plain": [
              "\"? i generally love this type of movie however this time i found myself wanting to kick the screen since i can't do that i will just complain about it this was absolutely idiotic the things that happen with the dead kids are very cool but the alive people are absolute idiots i am a grown man pretty big and i can defend myself well however i would not do half the stuff the little girl does in this movie also the mother in this movie is reckless with her children to the point of neglect i wish i wasn't so angry about her and her actions because i would have otherwise enjoyed the flick what a number she was take my advise and fast forward through everything you see her do until the end also is anyone else getting sick of watching movies that are filmed so dark anymore one can hardly see what is being filmed as an audience we are ? involved with the actions on the screen so then why the hell can't we have night vision\""
            ]
          },
          "metadata": {
            "tags": []
          },
          "execution_count": 61
        }
      ]
    },
    {
      "cell_type": "markdown",
      "metadata": {
        "id": "dfakgR0-9Jo-",
        "colab_type": "text"
      },
      "source": [
        "Is the classifier symmetric?"
      ]
    },
    {
      "cell_type": "code",
      "metadata": {
        "id": "GuBBGpGF9Jo_",
        "colab_type": "code",
        "colab": {}
      },
      "source": [
        "fp_pos = wrong_pos[test_labels[wrong_pos] == 0]"
      ],
      "execution_count": 0,
      "outputs": []
    },
    {
      "cell_type": "code",
      "metadata": {
        "id": "y7o6n3EP9JpB",
        "colab_type": "code",
        "colab": {},
        "outputId": "d9375482-7502-4707-8130-673674cd47a3"
      },
      "source": [
        "fp_pos.shape"
      ],
      "execution_count": 0,
      "outputs": [
        {
          "output_type": "execute_result",
          "data": {
            "text/plain": [
              "(2818,)"
            ]
          },
          "metadata": {
            "tags": []
          },
          "execution_count": 63
        }
      ]
    },
    {
      "cell_type": "code",
      "metadata": {
        "id": "DUnNXFEu9JpE",
        "colab_type": "code",
        "colab": {}
      },
      "source": [
        "fn_pos = wrong_pos[test_labels[wrong_pos] == 1]"
      ],
      "execution_count": 0,
      "outputs": []
    },
    {
      "cell_type": "code",
      "metadata": {
        "id": "XHFTsrwo9JpG",
        "colab_type": "code",
        "colab": {},
        "outputId": "7269629f-1c79-4119-d892-b9b4a21acefd"
      },
      "source": [
        "fn_pos.shape"
      ],
      "execution_count": 0,
      "outputs": [
        {
          "output_type": "execute_result",
          "data": {
            "text/plain": [
              "(1421,)"
            ]
          },
          "metadata": {
            "tags": []
          },
          "execution_count": 65
        }
      ]
    },
    {
      "cell_type": "code",
      "metadata": {
        "id": "V1xlDCg09JpI",
        "colab_type": "code",
        "colab": {},
        "outputId": "baa17072-104f-415d-9396-11ed967f4258"
      },
      "source": [
        "plt.bar(['fp','fn'],[fp_pos.shape[0],fn_pos.shape[0]])"
      ],
      "execution_count": 0,
      "outputs": [
        {
          "output_type": "execute_result",
          "data": {
            "text/plain": [
              "<BarContainer object of 2 artists>"
            ]
          },
          "metadata": {
            "tags": []
          },
          "execution_count": 66
        },
        {
          "output_type": "display_data",
          "data": {
            "image/png": "[encoded data removed]",
            "text/plain": [
              "<Figure size 432x288 with 1 Axes>"
            ]
          },
          "metadata": {
            "tags": []
          }
        }
      ]
    },
    {
      "cell_type": "markdown",
      "metadata": {
        "id": "W1P7W4Xc9JpJ",
        "colab_type": "text"
      },
      "source": [
        "**EXERCISE** Can you construct the confusion matrix for this model? Can you calculate the precision and recall? How does it compare to accuracy?\n",
        "* See https://www.dataschool.io/simple-guide-to-confusion-matrix-terminology/\n",
        "\n",
        "**EXERCISE (more complex)** Keras decided some time ago to remove precision, recall and F1-score from the list of available metrics. Was it a good decision? Why? Why did the Keras' authors did not remove accuracy too?\n",
        "* https://github.com/keras-team/keras/issues/5794\n",
        "* https://github.com/keras-team/keras/issues/4592\n",
        "\n",
        "**EXERCISE** What is the ROC curve? Could you build the ROC curve for this model? How would you use a ROC curve to evaluate a classifier?\n",
        "* https://en.wikipedia.org/wiki/Receiver_operating_characteristic\n",
        "* Help: https://stackoverflow.com/questions/25009284/how-to-plot-roc-curve-in-python"
      ]
    },
    {
      "cell_type": "code",
      "metadata": {
        "id": "9Idglb8T9JpK",
        "colab_type": "code",
        "colab": {}
      },
      "source": [
        "from sklearn import metrics"
      ],
      "execution_count": 0,
      "outputs": []
    },
    {
      "cell_type": "code",
      "metadata": {
        "id": "jNjKUeny9JpM",
        "colab_type": "code",
        "colab": {}
      },
      "source": [
        "roc = metrics.roc_curve(test_labels, preds)"
      ],
      "execution_count": 0,
      "outputs": []
    },
    {
      "cell_type": "code",
      "metadata": {
        "id": "mqjyoPAs9JpO",
        "colab_type": "code",
        "colab": {},
        "outputId": "561c4972-f8ce-4af0-d2f6-1c963e540e68"
      },
      "source": [
        "roc"
      ],
      "execution_count": 0,
      "outputs": [
        {
          "output_type": "execute_result",
          "data": {
            "text/plain": [
              "(array([0.     , 0.     , 0.     , ..., 0.99832, 0.99848, 1.     ]),\n",
              " array([8.00e-05, 4.72e-03, 4.88e-03, ..., 1.00e+00, 1.00e+00, 1.00e+00]),\n",
              " array([0.9956527 , 0.9948921 , 0.9948901 , ..., 0.00601855, 0.00601442,\n",
              "        0.00519402], dtype=float32))"
            ]
          },
          "metadata": {
            "tags": []
          },
          "execution_count": 69
        }
      ]
    },
    {
      "cell_type": "code",
      "metadata": {
        "id": "OVtfhBVA9JpQ",
        "colab_type": "code",
        "colab": {}
      },
      "source": [
        "auc = metrics.roc_auc_score(test_labels, preds)"
      ],
      "execution_count": 0,
      "outputs": []
    },
    {
      "cell_type": "code",
      "metadata": {
        "id": "1Ae8ZZU49JpU",
        "colab_type": "code",
        "colab": {},
        "outputId": "b8f46053-2b0d-4eda-f0ff-197fd116d00c"
      },
      "source": [
        "auc"
      ],
      "execution_count": 0,
      "outputs": [
        {
          "output_type": "execute_result",
          "data": {
            "text/plain": [
              "0.9139120288"
            ]
          },
          "metadata": {
            "tags": []
          },
          "execution_count": 71
        }
      ]
    },
    {
      "cell_type": "code",
      "metadata": {
        "id": "SePjwsdK9JpV",
        "colab_type": "code",
        "colab": {},
        "outputId": "5cb66981-c05a-494e-adc2-e7ff0b01cb2b"
      },
      "source": [
        "fpr, tpr, _ = roc\n",
        "plt.plot(fpr,tpr)\n",
        "plt.plot([0,1], [0,1],'-')\n",
        "plt.xlabel('FPR')\n",
        "plt.ylabel('TPR')\n",
        "plt.grid()"
      ],
      "execution_count": 0,
      "outputs": [
        {
          "output_type": "display_data",
          "data": {
            "image/png": "[encoded data removed]",
            "text/plain": [
              "<Figure size 432x288 with 1 Axes>"
            ]
          },
          "metadata": {
            "tags": []
          }
        }
      ]
    },
    {
      "cell_type": "markdown",
      "metadata": {
        "id": "BJ4QUNp09JpZ",
        "colab_type": "text"
      },
      "source": [
        "Let's analyze wrong positives and wrong negatives separately. Then we will try to find a relationship between the words and the misclassification, both for false positives and negatives."
      ]
    },
    {
      "cell_type": "code",
      "metadata": {
        "id": "WciXLecw9JpZ",
        "colab_type": "code",
        "colab": {},
        "outputId": "e3e31b34-6192-4d86-c430-99cff230222b"
      },
      "source": [
        "fp_pos.shape"
      ],
      "execution_count": 0,
      "outputs": [
        {
          "output_type": "execute_result",
          "data": {
            "text/plain": [
              "(2818,)"
            ]
          },
          "metadata": {
            "tags": []
          },
          "execution_count": 73
        }
      ]
    },
    {
      "cell_type": "code",
      "metadata": {
        "id": "ZomSABmk9Jpb",
        "colab_type": "code",
        "colab": {}
      },
      "source": [
        "def words_hist(pos, texts):\n",
        "    words_hist = {}\n",
        "\n",
        "    for p in pos:\n",
        "        ws = get_text_from_vector(texts[p]).split(' ')\n",
        "        for w in ws:\n",
        "            if w in words_hist.keys():\n",
        "                words_hist[w] += 1\n",
        "            else:\n",
        "                words_hist[w] = 1\n",
        "        \n",
        "    return words_hist"
      ],
      "execution_count": 0,
      "outputs": []
    },
    {
      "cell_type": "code",
      "metadata": {
        "id": "CTodTEdB9Jpd",
        "colab_type": "code",
        "colab": {}
      },
      "source": [
        "fp_words = words_hist(fp_pos, test_text)"
      ],
      "execution_count": 0,
      "outputs": []
    },
    {
      "cell_type": "markdown",
      "metadata": {
        "id": "jVUW4rMP9Jpe",
        "colab_type": "text"
      },
      "source": [
        "Now let's compare with the words of the true positives"
      ]
    },
    {
      "cell_type": "code",
      "metadata": {
        "id": "zlvYTaAl9Jpf",
        "colab_type": "code",
        "colab": {}
      },
      "source": [
        "tp_pos = np.where(test_labels == preds_binary)[0]"
      ],
      "execution_count": 0,
      "outputs": []
    },
    {
      "cell_type": "code",
      "metadata": {
        "id": "f6vWomwC9Jph",
        "colab_type": "code",
        "colab": {},
        "outputId": "3016ea26-04cb-4cda-dbd6-37aa935eb4e5"
      },
      "source": [
        "tp_pos.shape"
      ],
      "execution_count": 0,
      "outputs": [
        {
          "output_type": "execute_result",
          "data": {
            "text/plain": [
              "(20761,)"
            ]
          },
          "metadata": {
            "tags": []
          },
          "execution_count": 77
        }
      ]
    },
    {
      "cell_type": "code",
      "metadata": {
        "id": "Dy-Gfuns9Jpj",
        "colab_type": "code",
        "colab": {}
      },
      "source": [
        "tp_words = words_hist(tp_pos, test_text)"
      ],
      "execution_count": 0,
      "outputs": []
    },
    {
      "cell_type": "code",
      "metadata": {
        "id": "T6EPcTZX9Jpl",
        "colab_type": "code",
        "colab": {}
      },
      "source": [
        "import pandas as pd"
      ],
      "execution_count": 0,
      "outputs": []
    },
    {
      "cell_type": "code",
      "metadata": {
        "id": "Z5A9RNXv9Jpm",
        "colab_type": "code",
        "colab": {}
      },
      "source": [
        "fp_df = pd.DataFrame.from_dict(fp_words, orient='index')\n",
        "tp_df = pd.DataFrame.from_dict(tp_words, orient='index')"
      ],
      "execution_count": 0,
      "outputs": []
    },
    {
      "cell_type": "code",
      "metadata": {
        "id": "SAXh0gpQ9Jpo",
        "colab_type": "code",
        "colab": {},
        "outputId": "85eff9e8-4e98-41eb-e43e-a88ce6f7bc2c"
      },
      "source": [
        "fp_df.head()"
      ],
      "execution_count": 0,
      "outputs": [
        {
          "output_type": "execute_result",
          "data": {
            "text/html": [
              "<div>\n",
              "<style scoped>\n",
              "    .dataframe tbody tr th:only-of-type {\n",
              "        vertical-align: middle;\n",
              "    }\n",
              "\n",
              "    .dataframe tbody tr th {\n",
              "        vertical-align: top;\n",
              "    }\n",
              "\n",
              "    .dataframe thead th {\n",
              "        text-align: right;\n",
              "    }\n",
              "</style>\n",
              "<table border=\"1\" class=\"dataframe\">\n",
              "  <thead>\n",
              "    <tr style=\"text-align: right;\">\n",
              "      <th></th>\n",
              "      <th>0</th>\n",
              "    </tr>\n",
              "  </thead>\n",
              "  <tbody>\n",
              "    <tr>\n",
              "      <th>?</th>\n",
              "      <td>40563</td>\n",
              "    </tr>\n",
              "    <tr>\n",
              "      <th>i</th>\n",
              "      <td>8837</td>\n",
              "    </tr>\n",
              "    <tr>\n",
              "      <th>generally</th>\n",
              "      <td>57</td>\n",
              "    </tr>\n",
              "    <tr>\n",
              "      <th>love</th>\n",
              "      <td>653</td>\n",
              "    </tr>\n",
              "    <tr>\n",
              "      <th>this</th>\n",
              "      <td>8159</td>\n",
              "    </tr>\n",
              "  </tbody>\n",
              "</table>\n",
              "</div>"
            ],
            "text/plain": [
              "               0\n",
              "?          40563\n",
              "i           8837\n",
              "generally     57\n",
              "love         653\n",
              "this        8159"
            ]
          },
          "metadata": {
            "tags": []
          },
          "execution_count": 84
        }
      ]
    },
    {
      "cell_type": "code",
      "metadata": {
        "id": "n2fBKK5_9Jpq",
        "colab_type": "code",
        "colab": {},
        "outputId": "c7aeba08-c74c-484b-c84c-6b237d9d4e2f"
      },
      "source": [
        "fp_df.sort_values(by=0, ascending=False)[0:40].plot.bar()"
      ],
      "execution_count": 0,
      "outputs": [
        {
          "output_type": "execute_result",
          "data": {
            "text/plain": [
              "<matplotlib.axes._subplots.AxesSubplot at 0x12cf3e9e8>"
            ]
          },
          "metadata": {
            "tags": []
          },
          "execution_count": 94
        },
        {
          "output_type": "display_data",
          "data": {
            "image/png": "[encoded data removed]",
            "text/plain": [
              "<Figure size 748.8x514.8 with 1 Axes>"
            ]
          },
          "metadata": {
            "tags": []
          }
        }
      ]
    },
    {
      "cell_type": "code",
      "metadata": {
        "id": "QOupBFhL9Jps",
        "colab_type": "code",
        "colab": {},
        "outputId": "1f1764d1-7209-4b5e-a004-058dcc27aa69"
      },
      "source": [
        "tp_df.sort_values(by=0, ascending=False)[0:40].plot.bar()"
      ],
      "execution_count": 0,
      "outputs": [
        {
          "output_type": "execute_result",
          "data": {
            "text/plain": [
              "<matplotlib.axes._subplots.AxesSubplot at 0x12d14fdd8>"
            ]
          },
          "metadata": {
            "tags": []
          },
          "execution_count": 95
        },
        {
          "output_type": "display_data",
          "data": {
            "image/png": "[encoded data removed]",
            "text/plain": [
              "<Figure size 748.8x514.8 with 1 Axes>"
            ]
          },
          "metadata": {
            "tags": []
          }
        }
      ]
    },
    {
      "cell_type": "markdown",
      "metadata": {
        "id": "ipC6qY8c9Jpu",
        "colab_type": "text"
      },
      "source": [
        "So the most common words are very similar. Not surprising. Let's calculate the relative frequency of each word, and then find what are the words with the highest difference in relative frequency."
      ]
    },
    {
      "cell_type": "code",
      "metadata": {
        "id": "D798Oz1q9Jpv",
        "colab_type": "code",
        "colab": {}
      },
      "source": [
        "tp_df['f'] = tp_df[0]/tp_df[0].sum()*100\n",
        "fp_df['f'] = fp_df[0]/fp_df[0].sum()*100"
      ],
      "execution_count": 0,
      "outputs": []
    },
    {
      "cell_type": "code",
      "metadata": {
        "id": "gIg7nDhQ9Jpy",
        "colab_type": "code",
        "colab": {},
        "outputId": "c1050b9b-96d0-4f14-8a3d-2be0eff83b90"
      },
      "source": [
        "fp_df.head()"
      ],
      "execution_count": 0,
      "outputs": [
        {
          "output_type": "execute_result",
          "data": {
            "text/html": [
              "<div>\n",
              "<style scoped>\n",
              "    .dataframe tbody tr th:only-of-type {\n",
              "        vertical-align: middle;\n",
              "    }\n",
              "\n",
              "    .dataframe tbody tr th {\n",
              "        vertical-align: top;\n",
              "    }\n",
              "\n",
              "    .dataframe thead th {\n",
              "        text-align: right;\n",
              "    }\n",
              "</style>\n",
              "<table border=\"1\" class=\"dataframe\">\n",
              "  <thead>\n",
              "    <tr style=\"text-align: right;\">\n",
              "      <th></th>\n",
              "      <th>0</th>\n",
              "      <th>f</th>\n",
              "    </tr>\n",
              "  </thead>\n",
              "  <tbody>\n",
              "    <tr>\n",
              "      <th>?</th>\n",
              "      <td>40563</td>\n",
              "      <td>5.868142</td>\n",
              "    </tr>\n",
              "    <tr>\n",
              "      <th>i</th>\n",
              "      <td>8837</td>\n",
              "      <td>1.278425</td>\n",
              "    </tr>\n",
              "    <tr>\n",
              "      <th>generally</th>\n",
              "      <td>57</td>\n",
              "      <td>0.008246</td>\n",
              "    </tr>\n",
              "    <tr>\n",
              "      <th>love</th>\n",
              "      <td>653</td>\n",
              "      <td>0.094468</td>\n",
              "    </tr>\n",
              "    <tr>\n",
              "      <th>this</th>\n",
              "      <td>8159</td>\n",
              "      <td>1.180341</td>\n",
              "    </tr>\n",
              "  </tbody>\n",
              "</table>\n",
              "</div>"
            ],
            "text/plain": [
              "               0         f\n",
              "?          40563  5.868142\n",
              "i           8837  1.278425\n",
              "generally     57  0.008246\n",
              "love         653  0.094468\n",
              "this        8159  1.180341"
            ]
          },
          "metadata": {
            "tags": []
          },
          "execution_count": 107
        }
      ]
    },
    {
      "cell_type": "code",
      "metadata": {
        "id": "8Evwj8Jz9Jp1",
        "colab_type": "code",
        "colab": {},
        "outputId": "edf5d181-9ece-4bf5-c3d5-04cce909f244"
      },
      "source": [
        "tp_df.head()"
      ],
      "execution_count": 0,
      "outputs": [
        {
          "output_type": "execute_result",
          "data": {
            "text/html": [
              "<div>\n",
              "<style scoped>\n",
              "    .dataframe tbody tr th:only-of-type {\n",
              "        vertical-align: middle;\n",
              "    }\n",
              "\n",
              "    .dataframe tbody tr th {\n",
              "        vertical-align: top;\n",
              "    }\n",
              "\n",
              "    .dataframe thead th {\n",
              "        text-align: right;\n",
              "    }\n",
              "</style>\n",
              "<table border=\"1\" class=\"dataframe\">\n",
              "  <thead>\n",
              "    <tr style=\"text-align: right;\">\n",
              "      <th></th>\n",
              "      <th>0</th>\n",
              "      <th>f</th>\n",
              "    </tr>\n",
              "  </thead>\n",
              "  <tbody>\n",
              "    <tr>\n",
              "      <th>?</th>\n",
              "      <td>259613</td>\n",
              "      <td>5.497501</td>\n",
              "    </tr>\n",
              "    <tr>\n",
              "      <th>please</th>\n",
              "      <td>871</td>\n",
              "      <td>0.018444</td>\n",
              "    </tr>\n",
              "    <tr>\n",
              "      <th>give</th>\n",
              "      <td>2746</td>\n",
              "      <td>0.058149</td>\n",
              "    </tr>\n",
              "    <tr>\n",
              "      <th>this</th>\n",
              "      <td>62623</td>\n",
              "      <td>1.326089</td>\n",
              "    </tr>\n",
              "    <tr>\n",
              "      <th>one</th>\n",
              "      <td>21991</td>\n",
              "      <td>0.465676</td>\n",
              "    </tr>\n",
              "  </tbody>\n",
              "</table>\n",
              "</div>"
            ],
            "text/plain": [
              "             0         f\n",
              "?       259613  5.497501\n",
              "please     871  0.018444\n",
              "give      2746  0.058149\n",
              "this     62623  1.326089\n",
              "one      21991  0.465676"
            ]
          },
          "metadata": {
            "tags": []
          },
          "execution_count": 108
        }
      ]
    },
    {
      "cell_type": "code",
      "metadata": {
        "id": "ONrkdfGX9Jp3",
        "colab_type": "code",
        "colab": {}
      },
      "source": [
        "diffs = tp_df-fp_df"
      ],
      "execution_count": 0,
      "outputs": []
    },
    {
      "cell_type": "code",
      "metadata": {
        "id": "DjFornNs9Jp4",
        "colab_type": "code",
        "colab": {},
        "outputId": "e245ba02-f088-4dae-a1fb-e7e5bd5821c0"
      },
      "source": [
        "diffs.sort_values(by='f', ascending=False)[0:40]['f'].plot.bar()"
      ],
      "execution_count": 0,
      "outputs": [
        {
          "output_type": "execute_result",
          "data": {
            "text/plain": [
              "<matplotlib.axes._subplots.AxesSubplot at 0x12d6f77f0>"
            ]
          },
          "metadata": {
            "tags": []
          },
          "execution_count": 114
        },
        {
          "output_type": "display_data",
          "data": {
            "image/png": "[encoded data removed]",
            "text/plain": [
              "<Figure size 748.8x514.8 with 1 Axes>"
            ]
          },
          "metadata": {
            "tags": []
          }
        }
      ]
    },
    {
      "cell_type": "markdown",
      "metadata": {
        "id": "Ca7iJeQH9Jp6",
        "colab_type": "text"
      },
      "source": [
        "We see words such as *great*, *best*, *excellent*, which have a large difference between the true and the false positives. So false positives seem to lack some extreme words, and the classifier is having a hard time trying to assign a category to those reviews."
      ]
    },
    {
      "cell_type": "code",
      "metadata": {
        "id": "DK7qO_jD9Jp6",
        "colab_type": "code",
        "colab": {}
      },
      "source": [
        ""
      ],
      "execution_count": 0,
      "outputs": []
    }
  ]
}