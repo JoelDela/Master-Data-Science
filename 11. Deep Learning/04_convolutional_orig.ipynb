{
  "nbformat": 4,
  "nbformat_minor": 0,
  "metadata": {
    "colab": {
      "name": "04_convolutional_orig.ipynb",
      "version": "0.3.2",
      "views": {},
      "default_view": {},
      "provenance": [],
      "collapsed_sections": []
    },
    "kernelspec": {
      "display_name": "Python 3",
      "language": "python",
      "name": "python3"
    },
    "accelerator": "GPU"
  },
  "cells": [
    {
      "metadata": {
        "id": "Tgelvf1_mXmF",
        "colab_type": "text"
      },
      "cell_type": "markdown",
      "source": [
        "# Deep Learning for Computer Vision using Convolutional Neural Networks\n",
        "\n",
        "With dense layers applied to images, we have learnt global patterns that can be exploited to make predictions. The main difference with **convolutional** layers, is that we will now learn local patterns. \n",
        "\n",
        "These local patterns have two important features:\n",
        "* They are translation invariant. It does not matter where in the image we see the pattern, the layer will be able to capture it and exploit it. In contrast, for a dense layer, if the same local pattern appears in two different location in the image, it would interpret them as two different patterns.\n",
        "* Convolutional layers can lear a spatial hierarchy of patterns. Imagine the problem of recognizing a *face*. A first layer would learn something about the *nose*, some other layers about the *eyes*, and so on. The aggregation \n",
        "\n",
        "![](./imgs/09_cnn_hierarchy.png)\n",
        "\n",
        "The input to a convolutional layer is a 3-D tensor: height, width and depth (the channels in the image). For RGB images, depth will be 3, for the *R*ed, *B*lue and *G*reen colors. For a black and white image, depth will be just 1.\n",
        "\n",
        "Each layer recognizes a patch (subset) of the image, with a specific pattern. When applied to the original input, the layer will filter the rest of the image, highlighting the pattern that has learnt. That is, the layer becomes a **features map**.\n",
        "\n",
        "## Convolution operation\n",
        "\n",
        "For a convolutional layer, we need to decide the size of the patches (commonly, 3x3), and the depth of the output of the feature map (it is no longer 3, and in fact, it will be a number larger than that -- 16, 32, 64). The output will be another tensor, that is the input to the next layers. These tensors will no longer be images; that is, 3D tensors with a depth of 3, etc. To transform the output into a spatial tensor, we can use padding (adding additional rows or columns).\n",
        "\n",
        "![](./imgs/10_convolution.png)\n",
        "\n",
        "### Padding\n",
        "\n",
        "The convolution operation will slide through the image, trying to cover different zones, to extract common patterns found in different locations. In the edges of the image, the layer will not be able to extract patches, because the regions will be smaller than the patch size. With padding, we make it possible for the layer to extract patches even in the edges of the image, thus using that part of the image too to try to identify a common pattern.\n",
        "\n",
        "###  Stride\n",
        "\n",
        "Another parameter that we must take into account is *striding*. The patches can overlap with other patches. The distance between two windows used to extract patches is called **stride**. For instance, with a patch size of 3x3, and a stride of 3, patches will not overlap. We will normally will try to avoid overlapping in the windows extracting the patches; unless that during the training and validation process, we need to change the parameters to obtain a better model.\n",
        "\n",
        "### Pooling\n",
        "\n",
        "In a network, we need to partially reduce the dimension of the data, layer after layer, so we can learn at the output layer a number, a vector of a certain size, etc. The convolution operation is in fact increasing the size of the output. How do we do reduce the size of the output learnt in each layer? By **pooling**.\n",
        "\n",
        "The most typical pooling operation is *max pooling*. For each patch learnt in the layer, we apply a window of 2x2 or less (smaller than the striding window), and then apply the max operation. For each 2x2 possible window, we keep the max in that window. This way, we are reducing the size of the patches, and the size of the output of the layer. By doing this reduction in the size of the output, we will also help the network to build a hierarchy of patterns.\n",
        "\n",
        "Other pooling operations are also possible: averaging, in different ways. For full details of what pooling operations are available in Keras see https://keras.io/layers/pooling/\n",
        "\n",
        "## Additional readings/videos\n",
        "\n",
        "* How CNNs work: https://www.youtube.com/watch?v=FmpDIaiMIeA\n",
        "* Deep Learning demystified: http://brohrer.github.io/deep_learning_demystified.html\n",
        "* Hot-dog? No hot-dog? http://mateos.io/blog/getting-some-hotdogs/"
      ]
    },
    {
      "metadata": {
        "id": "NtjRK1XzmXmH",
        "colab_type": "text"
      },
      "cell_type": "markdown",
      "source": [
        "# Common functions and download data\n",
        "\n"
      ]
    },
    {
      "metadata": {
        "id": "lHOFBgd7mgmQ",
        "colab_type": "code",
        "colab": {
          "autoexec": {
            "startup": false,
            "wait_interval": 0
          },
          "base_uri": "https://localhost:8080/",
          "height": 34
        },
        "outputId": "504fffe2-f534-4ef5-e2c7-0f8c3f84b505",
        "executionInfo": {
          "status": "ok",
          "timestamp": 1531944075717,
          "user_tz": -120,
          "elapsed": 532,
          "user": {
            "displayName": "Israel Herraiz",
            "photoUrl": "https://lh3.googleusercontent.com/a/default-user=s128",
            "userId": "114232750363927198683"
          }
        }
      },
      "cell_type": "code",
      "source": [
        "%pylab inline\n",
        "plt.style.use('seaborn-talk')"
      ],
      "execution_count": 107,
      "outputs": [
        {
          "output_type": "stream",
          "text": [
            "Populating the interactive namespace from numpy and matplotlib\n"
          ],
          "name": "stdout"
        }
      ]
    },
    {
      "metadata": {
        "id": "4f4K4QzNmg5b",
        "colab_type": "code",
        "colab": {
          "autoexec": {
            "startup": false,
            "wait_interval": 0
          }
        }
      },
      "cell_type": "code",
      "source": [
        "def plot_metric(history, metric):\n",
        "    history_dict = history.history\n",
        "    values = history_dict[metric]\n",
        "    if 'val_' + metric in history_dict.keys():  \n",
        "        val_values = history_dict['val_' + metric]\n",
        "\n",
        "    epochs = range(1, len(values) + 1)\n",
        "\n",
        "    if 'val_' + metric in history_dict.keys():  \n",
        "        plt.plot(epochs, val_values, label='Validation')\n",
        "    plt.semilogy(epochs, values, label='Training')\n",
        "\n",
        "    if 'val_' + metric in history_dict.keys():  \n",
        "        plt.title('Training and validation %s' % metric)\n",
        "    else:\n",
        "        plt.title('Training %s' % metric)\n",
        "    plt.xlabel('Epochs')\n",
        "    plt.ylabel(metric.capitalize())\n",
        "    plt.legend()\n",
        "    plt.grid()\n",
        "\n",
        "    plt.show()  "
      ],
      "execution_count": 0,
      "outputs": []
    },
    {
      "metadata": {
        "id": "GMyUGqnemkuJ",
        "colab_type": "code",
        "colab": {
          "autoexec": {
            "startup": false,
            "wait_interval": 0
          },
          "base_uri": "https://localhost:8080/",
          "height": 119
        },
        "outputId": "367b755e-6a2f-46ce-f7a3-fbf840661cd8",
        "executionInfo": {
          "status": "ok",
          "timestamp": 1531944080327,
          "user_tz": -120,
          "elapsed": 2598,
          "user": {
            "displayName": "Israel Herraiz",
            "photoUrl": "https://lh3.googleusercontent.com/a/default-user=s128",
            "userId": "114232750363927198683"
          }
        }
      },
      "cell_type": "code",
      "source": [
        "!pip install keras"
      ],
      "execution_count": 109,
      "outputs": [
        {
          "output_type": "stream",
          "text": [
            "Requirement already satisfied: keras in /usr/local/lib/python3.6/dist-packages (2.1.6)\r\n",
            "Requirement already satisfied: six>=1.9.0 in /usr/local/lib/python3.6/dist-packages (from keras) (1.11.0)\r\n",
            "Requirement already satisfied: numpy>=1.9.1 in /usr/local/lib/python3.6/dist-packages (from keras) (1.14.5)\r\n",
            "Requirement already satisfied: h5py in /usr/local/lib/python3.6/dist-packages (from keras) (2.8.0)\r\n",
            "Requirement already satisfied: pyyaml in /usr/local/lib/python3.6/dist-packages (from keras) (3.13)\r\n",
            "Requirement already satisfied: scipy>=0.14 in /usr/local/lib/python3.6/dist-packages (from keras) (0.19.1)\r\n"
          ],
          "name": "stdout"
        }
      ]
    },
    {
      "metadata": {
        "id": "Wm_hQY5dmm0s",
        "colab_type": "code",
        "colab": {
          "autoexec": {
            "startup": false,
            "wait_interval": 0
          }
        }
      },
      "cell_type": "code",
      "source": [
        "# Install the PyDrive wrapper & import libraries.\n",
        "# This only needs to be done once per notebook.\n",
        "!pip install -U -q PyDrive\n",
        "from pydrive.auth import GoogleAuth\n",
        "from pydrive.drive import GoogleDrive\n",
        "from google.colab import auth\n",
        "from oauth2client.client import GoogleCredentials\n",
        "\n",
        "# Authenticate and create the PyDrive client.\n",
        "# This only needs to be done once per notebook.\n",
        "auth.authenticate_user()\n",
        "gauth = GoogleAuth()\n",
        "gauth.credentials = GoogleCredentials.get_application_default()\n",
        "drive = GoogleDrive(gauth)\n",
        "\n",
        "# Download a file based on its file ID.\n",
        "#\n",
        "# A file ID looks like: laggVyWshwcyP6kEI-y_W3P8D26sz"
      ],
      "execution_count": 0,
      "outputs": []
    },
    {
      "metadata": {
        "id": "NEfuwzZumpb4",
        "colab_type": "code",
        "colab": {
          "autoexec": {
            "startup": false,
            "wait_interval": 0
          },
          "base_uri": "https://localhost:8080/",
          "height": 34
        },
        "outputId": "1292b094-e156-4231-f037-e56b4cecfb14",
        "executionInfo": {
          "status": "ok",
          "timestamp": 1531944083355,
          "user_tz": -120,
          "elapsed": 1564,
          "user": {
            "displayName": "Israel Herraiz",
            "photoUrl": "https://lh3.googleusercontent.com/a/default-user=s128",
            "userId": "114232750363927198683"
          }
        }
      },
      "cell_type": "code",
      "source": [
        "!ls"
      ],
      "execution_count": 110,
      "outputs": [
        {
          "output_type": "stream",
          "text": [
            "datalab  dogs_cats  dogs_cats_small  test1.zip\ttrain.zip\r\n"
          ],
          "name": "stdout"
        }
      ]
    },
    {
      "metadata": {
        "id": "q82Bk-IKmq2Y",
        "colab_type": "code",
        "colab": {
          "autoexec": {
            "startup": false,
            "wait_interval": 0
          }
        }
      },
      "cell_type": "code",
      "source": [
        "file_id = '1nL7cgXGkNGS79FORsrCfrfcpzrBtoX8K'\n",
        "downloaded = drive.CreateFile({'id': file_id})\n",
        "downloaded.GetContentFile(\"train.zip\")\n",
        "\n",
        "file_id = '1edO-psKzj7gpYgf5PcDKyPgbFFJN09D3'\n",
        "downloaded = drive.CreateFile({'id': file_id})\n",
        "downloaded.GetContentFile(\"test1.zip\")"
      ],
      "execution_count": 0,
      "outputs": []
    },
    {
      "metadata": {
        "id": "4PPbk1lhnRsY",
        "colab_type": "code",
        "colab": {
          "autoexec": {
            "startup": false,
            "wait_interval": 0
          },
          "base_uri": "https://localhost:8080/",
          "height": 34
        },
        "outputId": "9ceb275b-8b13-4428-cb94-f393c6d5def7",
        "executionInfo": {
          "status": "ok",
          "timestamp": 1531937906361,
          "user_tz": -120,
          "elapsed": 1557,
          "user": {
            "displayName": "Israel Herraiz",
            "photoUrl": "https://lh3.googleusercontent.com/a/default-user=s128",
            "userId": "114232750363927198683"
          }
        }
      },
      "cell_type": "code",
      "source": [
        "!ls"
      ],
      "execution_count": 7,
      "outputs": [
        {
          "output_type": "stream",
          "text": [
            "datalab  test1.zip  train.zip\r\n"
          ],
          "name": "stdout"
        }
      ]
    },
    {
      "metadata": {
        "id": "wwxDIeHenVhf",
        "colab_type": "code",
        "colab": {
          "autoexec": {
            "startup": false,
            "wait_interval": 0
          },
          "base_uri": "https://localhost:8080/",
          "height": 68
        },
        "outputId": "0a7e24bb-78c1-480a-9963-543436f3e02b",
        "executionInfo": {
          "status": "ok",
          "timestamp": 1531937931156,
          "user_tz": -120,
          "elapsed": 15755,
          "user": {
            "displayName": "Israel Herraiz",
            "photoUrl": "https://lh3.googleusercontent.com/a/default-user=s128",
            "userId": "114232750363927198683"
          }
        }
      },
      "cell_type": "code",
      "source": [
        "!mkdir dogs_cats\n",
        "!cd dogs_cats && unzip -q ../train.zip\n",
        "!cd dogs_cats && unzip -q ../test1.zip\n",
        "!ls -hl dogs_cats"
      ],
      "execution_count": 8,
      "outputs": [
        {
          "output_type": "stream",
          "text": [
            "total 1.1M\r\n",
            "drwxr-xr-x 2 root root 292K Sep 20  2013 test1\r\n",
            "drwxr-xr-x 2 root root 764K Sep 20  2013 train\r\n"
          ],
          "name": "stdout"
        }
      ]
    },
    {
      "metadata": {
        "id": "Qw8ybMwLnYHH",
        "colab_type": "code",
        "colab": {
          "autoexec": {
            "startup": false,
            "wait_interval": 0
          }
        }
      },
      "cell_type": "code",
      "source": [
        "original_dataset_dir=\"/content/dogs_cats/train/\"\n",
        "\n",
        "import os, shutil\n",
        "\n",
        "base_dir = \"/content/dogs_cats_small\"\n",
        "\n",
        "\n",
        "train_dir = os.path.join(base_dir, \"train\")\n",
        "validation_dir = os.path.join(base_dir, \"validation\")\n",
        "test_dir = os.path.join(base_dir, \"test\")\n",
        "\n",
        "\n",
        "train_cats_dir = os.path.join(train_dir, \"cats\")\n",
        "train_dogs_dir = os.path.join(train_dir, \"dogs\")\n",
        "\n",
        "validation_dogs_dir = os.path.join(validation_dir, \"dogs\")\n",
        "validation_cats_dir = os.path.join(validation_dir, \"cats\")\n",
        "\n",
        "test_dogs_dir = os.path.join(test_dir, \"dogs\")\n",
        "test_cats_dir = os.path.join(test_dir, \"cats\")"
      ],
      "execution_count": 0,
      "outputs": []
    },
    {
      "metadata": {
        "id": "FiSwnS0koij0",
        "colab_type": "code",
        "colab": {
          "autoexec": {
            "startup": false,
            "wait_interval": 0
          }
        }
      },
      "cell_type": "code",
      "source": [
        "!rm -rf dogs_cats_small/\n",
        "os.mkdir(base_dir)\n",
        "os.mkdir(train_dir)\n",
        "os.mkdir(validation_dir)\n",
        "os.mkdir(test_dir)\n",
        "os.mkdir(train_cats_dir)\n",
        "os.mkdir(train_dogs_dir)\n",
        "os.mkdir(validation_dogs_dir)\n",
        "os.mkdir(validation_cats_dir)\n",
        "os.mkdir(test_dogs_dir)\n",
        "os.mkdir(test_cats_dir)"
      ],
      "execution_count": 0,
      "outputs": []
    },
    {
      "metadata": {
        "id": "lVVMrL-on_Y5",
        "colab_type": "code",
        "colab": {
          "autoexec": {
            "startup": false,
            "wait_interval": 0
          },
          "base_uri": "https://localhost:8080/",
          "height": 187
        },
        "outputId": "0494cc3c-8abc-43cf-89ed-4f03b14edbcc",
        "executionInfo": {
          "status": "ok",
          "timestamp": 1531938247717,
          "user_tz": -120,
          "elapsed": 1481,
          "user": {
            "displayName": "Israel Herraiz",
            "photoUrl": "https://lh3.googleusercontent.com/a/default-user=s128",
            "userId": "114232750363927198683"
          }
        }
      },
      "cell_type": "code",
      "source": [
        "!find dogs_cats_small"
      ],
      "execution_count": 15,
      "outputs": [
        {
          "output_type": "stream",
          "text": [
            "dogs_cats_small\r\n",
            "dogs_cats_small/train\r\n",
            "dogs_cats_small/train/dogs\r\n",
            "dogs_cats_small/train/cats\r\n",
            "dogs_cats_small/validation\r\n",
            "dogs_cats_small/validation/dogs\r\n",
            "dogs_cats_small/validation/cats\r\n",
            "dogs_cats_small/test\r\n",
            "dogs_cats_small/test/dogs\r\n",
            "dogs_cats_small/test/cats\r\n"
          ],
          "name": "stdout"
        }
      ]
    },
    {
      "metadata": {
        "id": "UtdYxWUFoCDN",
        "colab_type": "code",
        "colab": {
          "autoexec": {
            "startup": false,
            "wait_interval": 0
          }
        }
      },
      "cell_type": "code",
      "source": [
        "fnames = ['cat.{}.jpg'.format(i) for i in range(1000)]\n",
        "for fname in fnames:                                                       \n",
        "    src = os.path.join(original_dataset_dir, fname)                        \n",
        "    dst = os.path.join(train_cats_dir, fname)                              \n",
        "    shutil.copyfile(src, dst)                                              \n",
        "\n",
        "fnames = ['cat.{}.jpg'.format(i) for i in range(1000, 1500)]               \n",
        "for fname in fnames:                                                       \n",
        "    src = os.path.join(original_dataset_dir, fname)                        \n",
        "    dst = os.path.join(validation_cats_dir, fname)                         \n",
        "    shutil.copyfile(src, dst)                                              \n",
        "\n",
        "fnames = ['cat.{}.jpg'.format(i) for i in range(1500, 2000)]               \n",
        "for fname in fnames:                                                       \n",
        "    src = os.path.join(original_dataset_dir, fname)                        \n",
        "    dst = os.path.join(test_cats_dir, fname)                               \n",
        "    shutil.copyfile(src, dst)                                              \n",
        "\n",
        "fnames = ['dog.{}.jpg'.format(i) for i in range(1000)]                     \n",
        "for fname in fnames:                                                       \n",
        "    src = os.path.join(original_dataset_dir, fname)                        \n",
        "    dst = os.path.join(train_dogs_dir, fname)                              \n",
        "    shutil.copyfile(src, dst)                                              \n",
        "fnames = ['dog.{}.jpg'.format(i) for i in range(1000, 1500)]               \n",
        "for fname in fnames:                                                       \n",
        "    src = os.path.join(original_dataset_dir, fname)                        \n",
        "    dst = os.path.join(validation_dogs_dir, fname)                         \n",
        "    shutil.copyfile(src, dst)                                              \n",
        "\n",
        "fnames = ['dog.{}.jpg'.format(i) for i in range(1500, 2000)]               \n",
        "for fname in fnames:                                                       \n",
        "    src = os.path.join(original_dataset_dir, fname)                        \n",
        "    dst = os.path.join(test_dogs_dir, fname)                               \n",
        "    shutil.copyfile(src, dst) "
      ],
      "execution_count": 0,
      "outputs": []
    },
    {
      "metadata": {
        "id": "9utma06EoLs0",
        "colab_type": "code",
        "colab": {
          "autoexec": {
            "startup": false,
            "wait_interval": 0
          },
          "base_uri": "https://localhost:8080/",
          "height": 221
        },
        "outputId": "087e27de-3b9d-46d7-f90d-eb8a36ef6c02",
        "executionInfo": {
          "status": "ok",
          "timestamp": 1531938252272,
          "user_tz": -120,
          "elapsed": 1635,
          "user": {
            "displayName": "Israel Herraiz",
            "photoUrl": "https://lh3.googleusercontent.com/a/default-user=s128",
            "userId": "114232750363927198683"
          }
        }
      },
      "cell_type": "code",
      "source": [
        "!find dogs_cats_small/ | head"
      ],
      "execution_count": 17,
      "outputs": [
        {
          "output_type": "stream",
          "text": [
            "dogs_cats_small/\r\n",
            "dogs_cats_small/train\r\n",
            "dogs_cats_small/train/dogs\r\n",
            "dogs_cats_small/train/dogs/dog.775.jpg\r\n",
            "dogs_cats_small/train/dogs/dog.595.jpg\r\n",
            "dogs_cats_small/train/dogs/dog.351.jpg\r\n",
            "dogs_cats_small/train/dogs/dog.795.jpg\r\n",
            "dogs_cats_small/train/dogs/dog.273.jpg\r\n",
            "dogs_cats_small/train/dogs/dog.216.jpg\r\n",
            "dogs_cats_small/train/dogs/dog.750.jpg\r\n",
            "find: ‘standard output’: Broken pipe\r\n",
            "find: write error\r\n"
          ],
          "name": "stdout"
        }
      ]
    },
    {
      "metadata": {
        "id": "P6O6PHuHque2",
        "colab_type": "code",
        "colab": {
          "autoexec": {
            "startup": false,
            "wait_interval": 0
          },
          "base_uri": "https://localhost:8080/",
          "height": 272
        },
        "outputId": "76441c3a-f528-41fb-ce02-4494f4762138",
        "executionInfo": {
          "status": "ok",
          "timestamp": 1531944091857,
          "user_tz": -120,
          "elapsed": 722,
          "user": {
            "displayName": "Israel Herraiz",
            "photoUrl": "https://lh3.googleusercontent.com/a/default-user=s128",
            "userId": "114232750363927198683"
          }
        }
      },
      "cell_type": "code",
      "source": [
        "# Check if we have a GPU\n",
        "from tensorflow.python.client import device_lib\n",
        "device_lib.list_local_devices()"
      ],
      "execution_count": 111,
      "outputs": [
        {
          "output_type": "execute_result",
          "data": {
            "text/plain": [
              "[name: \"/device:CPU:0\"\n",
              " device_type: \"CPU\"\n",
              " memory_limit: 268435456\n",
              " locality {\n",
              " }\n",
              " incarnation: 15103847609512560740, name: \"/device:GPU:0\"\n",
              " device_type: \"GPU\"\n",
              " memory_limit: 11285974221\n",
              " locality {\n",
              "   bus_id: 1\n",
              "   links {\n",
              "   }\n",
              " }\n",
              " incarnation: 7213464691253150237\n",
              " physical_device_desc: \"device: 0, name: Tesla K80, pci bus id: 0000:00:04.0, compute capability: 3.7\"]"
            ]
          },
          "metadata": {
            "tags": []
          },
          "execution_count": 111
        }
      ]
    },
    {
      "metadata": {
        "id": "6udnOjpjoPKp",
        "colab_type": "text"
      },
      "cell_type": "markdown",
      "source": [
        "# Prepare data\n",
        "\n",
        "Because we are dealing with large images, we cannot just read them in a Numpy array. We will use generators, to consume the images as they are needed by the network."
      ]
    },
    {
      "metadata": {
        "id": "yzMRtMsWoeGC",
        "colab_type": "code",
        "colab": {
          "autoexec": {
            "startup": false,
            "wait_interval": 0
          },
          "base_uri": "https://localhost:8080/",
          "height": 68
        },
        "outputId": "3d579e66-fae3-4bb8-c3a7-6d2e5d11caa4",
        "executionInfo": {
          "status": "ok",
          "timestamp": 1531944212934,
          "user_tz": -120,
          "elapsed": 820,
          "user": {
            "displayName": "Israel Herraiz",
            "photoUrl": "https://lh3.googleusercontent.com/a/default-user=s128",
            "userId": "114232750363927198683"
          }
        }
      },
      "cell_type": "code",
      "source": [
        "from keras.preprocessing.image import ImageDataGenerator\n",
        "\n",
        "train_datagen = ImageDataGenerator(rescale=1.0/255)\n",
        "test_datagen = ImageDataGenerator(rescale=1.0/255)\n",
        "validation_datagen = ImageDataGenerator(rescale=1.0/255)\n",
        "\n",
        "train_generator = train_datagen.flow_from_directory(\n",
        "    train_dir,\n",
        "    target_size=(50, 50),\n",
        "    batch_size=200,\n",
        "    class_mode='binary'\n",
        ")\n",
        "\n",
        "test_generator = test_datagen.flow_from_directory(\n",
        "    validation_dir,\n",
        "    target_size=(50, 50),\n",
        "    batch_size=200,\n",
        "    class_mode='binary'\n",
        ")\n",
        "\n",
        "validation_generator = validation_datagen.flow_from_directory(\n",
        "    validation_dir,\n",
        "    target_size=(50, 50),\n",
        "    batch_size=200,\n",
        "    class_mode='binary'\n",
        ")"
      ],
      "execution_count": 125,
      "outputs": [
        {
          "output_type": "stream",
          "text": [
            "Found 2000 images belonging to 2 classes.\n",
            "Found 1000 images belonging to 2 classes.\n",
            "Found 1000 images belonging to 2 classes.\n"
          ],
          "name": "stdout"
        }
      ]
    },
    {
      "metadata": {
        "id": "eGRCGie2o8xi",
        "colab_type": "text"
      },
      "cell_type": "markdown",
      "source": [
        "# Build model"
      ]
    },
    {
      "metadata": {
        "id": "D18mOX_wpIAz",
        "colab_type": "code",
        "colab": {
          "autoexec": {
            "startup": false,
            "wait_interval": 0
          }
        }
      },
      "cell_type": "code",
      "source": [
        "from keras import models\n",
        "from keras import layers"
      ],
      "execution_count": 0,
      "outputs": []
    },
    {
      "metadata": {
        "id": "mLTUa204pJkd",
        "colab_type": "code",
        "colab": {
          "autoexec": {
            "startup": false,
            "wait_interval": 0
          }
        }
      },
      "cell_type": "code",
      "source": [
        "m = models.Sequential()\n",
        "m.add(layers.Conv2D(32, (3, 3), activation='relu', input_shape=(50, 50, 3)))\n",
        "m.add(layers.MaxPooling2D((2, 2)))\n",
        "m.add(layers.Conv2D(64, (3, 3), activation='relu'))\n",
        "m.add(layers.MaxPooling2D((2, 2)))\n",
        "m.add(layers.Conv2D(128, (3, 3), activation='relu'))\n",
        "m.add(layers.MaxPooling2D((2, 2)))\n",
        "m.add(layers.Flatten())\n",
        "m.add(layers.Dense(256, activation='relu'))\n",
        "m.add(layers.Dense(1, activation='sigmoid'))"
      ],
      "execution_count": 0,
      "outputs": []
    },
    {
      "metadata": {
        "id": "PA6OS_Wsq3CC",
        "colab_type": "code",
        "colab": {
          "autoexec": {
            "startup": false,
            "wait_interval": 0
          },
          "base_uri": "https://localhost:8080/",
          "height": 442
        },
        "outputId": "aea6fc9e-6e5f-4b16-9741-b087a6096e2a",
        "executionInfo": {
          "status": "ok",
          "timestamp": 1531944216276,
          "user_tz": -120,
          "elapsed": 601,
          "user": {
            "displayName": "Israel Herraiz",
            "photoUrl": "https://lh3.googleusercontent.com/a/default-user=s128",
            "userId": "114232750363927198683"
          }
        }
      },
      "cell_type": "code",
      "source": [
        "m.summary()"
      ],
      "execution_count": 128,
      "outputs": [
        {
          "output_type": "stream",
          "text": [
            "_________________________________________________________________\n",
            "Layer (type)                 Output Shape              Param #   \n",
            "=================================================================\n",
            "conv2d_13 (Conv2D)           (None, 48, 48, 32)        896       \n",
            "_________________________________________________________________\n",
            "max_pooling2d_13 (MaxPooling (None, 24, 24, 32)        0         \n",
            "_________________________________________________________________\n",
            "conv2d_14 (Conv2D)           (None, 22, 22, 64)        18496     \n",
            "_________________________________________________________________\n",
            "max_pooling2d_14 (MaxPooling (None, 11, 11, 64)        0         \n",
            "_________________________________________________________________\n",
            "conv2d_15 (Conv2D)           (None, 9, 9, 128)         73856     \n",
            "_________________________________________________________________\n",
            "max_pooling2d_15 (MaxPooling (None, 4, 4, 128)         0         \n",
            "_________________________________________________________________\n",
            "flatten_5 (Flatten)          (None, 2048)              0         \n",
            "_________________________________________________________________\n",
            "dense_9 (Dense)              (None, 256)               524544    \n",
            "_________________________________________________________________\n",
            "dense_10 (Dense)             (None, 1)                 257       \n",
            "=================================================================\n",
            "Total params: 618,049\n",
            "Trainable params: 618,049\n",
            "Non-trainable params: 0\n",
            "_________________________________________________________________\n"
          ],
          "name": "stdout"
        }
      ]
    },
    {
      "metadata": {
        "id": "8hK-iL-pqBa2",
        "colab_type": "code",
        "colab": {
          "autoexec": {
            "startup": false,
            "wait_interval": 0
          }
        }
      },
      "cell_type": "code",
      "source": [
        "from keras import losses\n",
        "from keras import optimizers\n",
        "from keras import metrics"
      ],
      "execution_count": 0,
      "outputs": []
    },
    {
      "metadata": {
        "id": "wbyfqfwtqFwh",
        "colab_type": "code",
        "colab": {
          "autoexec": {
            "startup": false,
            "wait_interval": 0
          }
        }
      },
      "cell_type": "code",
      "source": [
        "m.compile(loss=losses.binary_crossentropy, optimizer=optimizers.Adam(), metrics=[metrics.binary_accuracy])"
      ],
      "execution_count": 0,
      "outputs": []
    },
    {
      "metadata": {
        "id": "sfYPN3rpqTT-",
        "colab_type": "code",
        "colab": {
          "autoexec": {
            "startup": false,
            "wait_interval": 0
          },
          "base_uri": "https://localhost:8080/",
          "height": 357
        },
        "outputId": "757c5cc9-a718-4065-9bdf-de9ff725e2f7",
        "executionInfo": {
          "status": "ok",
          "timestamp": 1531944326384,
          "user_tz": -120,
          "elapsed": 225,
          "user": {
            "displayName": "Israel Herraiz",
            "photoUrl": "https://lh3.googleusercontent.com/a/default-user=s128",
            "userId": "114232750363927198683"
          }
        }
      },
      "cell_type": "code",
      "source": [
        "h = m.fit_generator(train_generator, epochs=10, steps_per_epoch=10, validation_data=validation_generator, validation_steps=5)"
      ],
      "execution_count": 131,
      "outputs": [
        {
          "output_type": "stream",
          "text": [
            "Epoch 1/10\n",
            "10/10 [==============================] - 10s 1s/step - loss: 0.7068 - binary_accuracy: 0.5110 - val_loss: 0.6922 - val_binary_accuracy: 0.5170\n",
            "Epoch 2/10\n",
            "10/10 [==============================] - 7s 742ms/step - loss: 0.6914 - binary_accuracy: 0.5315 - val_loss: 0.6989 - val_binary_accuracy: 0.5000\n",
            "Epoch 3/10\n",
            "10/10 [==============================] - 7s 744ms/step - loss: 0.6915 - binary_accuracy: 0.5230 - val_loss: 0.6887 - val_binary_accuracy: 0.5020\n",
            "Epoch 4/10\n",
            "10/10 [==============================] - 7s 740ms/step - loss: 0.6870 - binary_accuracy: 0.5550 - val_loss: 0.6814 - val_binary_accuracy: 0.5670\n",
            "Epoch 5/10\n",
            "10/10 [==============================] - 7s 739ms/step - loss: 0.6667 - binary_accuracy: 0.6230 - val_loss: 0.6863 - val_binary_accuracy: 0.5610\n",
            "Epoch 6/10\n",
            "10/10 [==============================] - 8s 751ms/step - loss: 0.6655 - binary_accuracy: 0.6010 - val_loss: 0.6634 - val_binary_accuracy: 0.5830\n",
            "Epoch 7/10\n",
            "10/10 [==============================] - 7s 730ms/step - loss: 0.6536 - binary_accuracy: 0.6275 - val_loss: 0.6440 - val_binary_accuracy: 0.6390\n",
            "Epoch 8/10\n",
            "10/10 [==============================] - 8s 750ms/step - loss: 0.6169 - binary_accuracy: 0.6770 - val_loss: 0.6467 - val_binary_accuracy: 0.6090\n",
            "Epoch 9/10\n",
            "10/10 [==============================] - 7s 742ms/step - loss: 0.6163 - binary_accuracy: 0.6620 - val_loss: 0.6279 - val_binary_accuracy: 0.6320\n",
            "Epoch 10/10\n",
            "10/10 [==============================] - 7s 743ms/step - loss: 0.5836 - binary_accuracy: 0.7045 - val_loss: 0.5978 - val_binary_accuracy: 0.6730\n"
          ],
          "name": "stdout"
        }
      ]
    },
    {
      "metadata": {
        "id": "9dkvjzuxqiMI",
        "colab_type": "code",
        "colab": {
          "autoexec": {
            "startup": false,
            "wait_interval": 0
          },
          "base_uri": "https://localhost:8080/",
          "height": 477
        },
        "outputId": "38af052b-8907-42b6-e1f9-1d9284f53421",
        "executionInfo": {
          "status": "ok",
          "timestamp": 1531944328649,
          "user_tz": -120,
          "elapsed": 1043,
          "user": {
            "displayName": "Israel Herraiz",
            "photoUrl": "https://lh3.googleusercontent.com/a/default-user=s128",
            "userId": "114232750363927198683"
          }
        }
      },
      "cell_type": "code",
      "source": [
        "plot_metric(h, 'loss')"
      ],
      "execution_count": 132,
      "outputs": [
        {
          "output_type": "display_data",
          "data": {
            "image/png": "[encoded data removed]",
            "text/plain": [
              "<matplotlib.figure.Figure at 0x7f974b0c63c8>"
            ]
          },
          "metadata": {
            "tags": []
          }
        }
      ]
    },
    {
      "metadata": {
        "id": "88UhslJQsUpv",
        "colab_type": "code",
        "colab": {
          "autoexec": {
            "startup": false,
            "wait_interval": 0
          },
          "base_uri": "https://localhost:8080/",
          "height": 477
        },
        "outputId": "69cfbdda-a0ca-4ee3-d947-089f794b9936",
        "executionInfo": {
          "status": "ok",
          "timestamp": 1531944332246,
          "user_tz": -120,
          "elapsed": 1018,
          "user": {
            "displayName": "Israel Herraiz",
            "photoUrl": "https://lh3.googleusercontent.com/a/default-user=s128",
            "userId": "114232750363927198683"
          }
        }
      },
      "cell_type": "code",
      "source": [
        "plot_metric(h, 'binary_accuracy')"
      ],
      "execution_count": 133,
      "outputs": [
        {
          "output_type": "display_data",
          "data": {
            "image/png": "[encoded data removed]",
            "text/plain": [
              "<matplotlib.figure.Figure at 0x7f974b1a4048>"
            ]
          },
          "metadata": {
            "tags": []
          }
        }
      ]
    },
    {
      "metadata": {
        "id": "u9AKGP_XsX-k",
        "colab_type": "code",
        "colab": {
          "autoexec": {
            "startup": false,
            "wait_interval": 0
          },
          "base_uri": "https://localhost:8080/",
          "height": 34
        },
        "outputId": "f031051f-7d44-46bf-e856-09d87c38053e",
        "executionInfo": {
          "status": "ok",
          "timestamp": 1531944339047,
          "user_tz": -120,
          "elapsed": 3235,
          "user": {
            "displayName": "Israel Herraiz",
            "photoUrl": "https://lh3.googleusercontent.com/a/default-user=s128",
            "userId": "114232750363927198683"
          }
        }
      },
      "cell_type": "code",
      "source": [
        "m.evaluate_generator(test_generator)"
      ],
      "execution_count": 134,
      "outputs": [
        {
          "output_type": "execute_result",
          "data": {
            "text/plain": [
              "[0.5978327751159668, 0.6730000019073487]"
            ]
          },
          "metadata": {
            "tags": []
          },
          "execution_count": 134
        }
      ]
    },
    {
      "metadata": {
        "id": "3xZjpkqbsfFL",
        "colab_type": "code",
        "colab": {
          "autoexec": {
            "startup": false,
            "wait_interval": 0
          }
        }
      },
      "cell_type": "code",
      "source": [
        "preds = m.predict_generator(test_generator)"
      ],
      "execution_count": 0,
      "outputs": []
    },
    {
      "metadata": {
        "id": "suaUh0kfsz3p",
        "colab_type": "code",
        "colab": {
          "autoexec": {
            "startup": false,
            "wait_interval": 0
          },
          "base_uri": "https://localhost:8080/",
          "height": 34
        },
        "outputId": "1e84cd8c-9bcd-4538-adc2-8687f2f72860",
        "executionInfo": {
          "status": "ok",
          "timestamp": 1531944345155,
          "user_tz": -120,
          "elapsed": 604,
          "user": {
            "displayName": "Israel Herraiz",
            "photoUrl": "https://lh3.googleusercontent.com/a/default-user=s128",
            "userId": "114232750363927198683"
          }
        }
      },
      "cell_type": "code",
      "source": [
        "preds.shape"
      ],
      "execution_count": 136,
      "outputs": [
        {
          "output_type": "execute_result",
          "data": {
            "text/plain": [
              "(1000, 1)"
            ]
          },
          "metadata": {
            "tags": []
          },
          "execution_count": 136
        }
      ]
    },
    {
      "metadata": {
        "id": "rtaaiXvps1_E",
        "colab_type": "code",
        "colab": {
          "autoexec": {
            "startup": false,
            "wait_interval": 0
          },
          "base_uri": "https://localhost:8080/",
          "height": 34
        },
        "outputId": "a4fff695-1ae5-4756-d2b5-5e53248d22e1",
        "executionInfo": {
          "status": "ok",
          "timestamp": 1531944345934,
          "user_tz": -120,
          "elapsed": 535,
          "user": {
            "displayName": "Israel Herraiz",
            "photoUrl": "https://lh3.googleusercontent.com/a/default-user=s128",
            "userId": "114232750363927198683"
          }
        }
      },
      "cell_type": "code",
      "source": [
        "preds[5]"
      ],
      "execution_count": 137,
      "outputs": [
        {
          "output_type": "execute_result",
          "data": {
            "text/plain": [
              "array([0.45878166], dtype=float32)"
            ]
          },
          "metadata": {
            "tags": []
          },
          "execution_count": 137
        }
      ]
    },
    {
      "metadata": {
        "id": "zzg0yVOWs3KA",
        "colab_type": "code",
        "colab": {
          "autoexec": {
            "startup": false,
            "wait_interval": 0
          }
        }
      },
      "cell_type": "code",
      "source": [
        "preds_binary = preds >= 0.5"
      ],
      "execution_count": 0,
      "outputs": []
    },
    {
      "metadata": {
        "id": "vkwPaTyqs6el",
        "colab_type": "code",
        "colab": {
          "autoexec": {
            "startup": false,
            "wait_interval": 0
          },
          "base_uri": "https://localhost:8080/",
          "height": 317
        },
        "outputId": "a4c30a22-f776-4456-8f96-e204ac9f5543",
        "executionInfo": {
          "status": "error",
          "timestamp": 1531944347263,
          "user_tz": -120,
          "elapsed": 505,
          "user": {
            "displayName": "Israel Herraiz",
            "photoUrl": "https://lh3.googleusercontent.com/a/default-user=s128",
            "userId": "114232750363927198683"
          }
        }
      },
      "cell_type": "code",
      "source": [
        "N = 1\n",
        "plt.imshow(test_generator[23][0][N])\n",
        "test_generator[23][1][N]"
      ],
      "execution_count": 139,
      "outputs": [
        {
          "output_type": "error",
          "ename": "ValueError",
          "evalue": "ignored",
          "traceback": [
            "\u001b[0;31m---------------------------------------------------------------------------\u001b[0m",
            "\u001b[0;31mValueError\u001b[0m                                Traceback (most recent call last)",
            "\u001b[0;32m<ipython-input-139-3fa310ac16a9>\u001b[0m in \u001b[0;36m<module>\u001b[0;34m()\u001b[0m\n\u001b[1;32m      1\u001b[0m \u001b[0mN\u001b[0m \u001b[0;34m=\u001b[0m \u001b[0;36m1\u001b[0m\u001b[0;34m\u001b[0m\u001b[0m\n\u001b[0;32m----> 2\u001b[0;31m \u001b[0mplt\u001b[0m\u001b[0;34m.\u001b[0m\u001b[0mimshow\u001b[0m\u001b[0;34m(\u001b[0m\u001b[0mtest_generator\u001b[0m\u001b[0;34m[\u001b[0m\u001b[0;36m23\u001b[0m\u001b[0;34m]\u001b[0m\u001b[0;34m[\u001b[0m\u001b[0;36m0\u001b[0m\u001b[0;34m]\u001b[0m\u001b[0;34m[\u001b[0m\u001b[0mN\u001b[0m\u001b[0;34m]\u001b[0m\u001b[0;34m)\u001b[0m\u001b[0;34m\u001b[0m\u001b[0m\n\u001b[0m\u001b[1;32m      3\u001b[0m \u001b[0mtest_generator\u001b[0m\u001b[0;34m[\u001b[0m\u001b[0;36m23\u001b[0m\u001b[0;34m]\u001b[0m\u001b[0;34m[\u001b[0m\u001b[0;36m1\u001b[0m\u001b[0;34m]\u001b[0m\u001b[0;34m[\u001b[0m\u001b[0mN\u001b[0m\u001b[0;34m]\u001b[0m\u001b[0;34m\u001b[0m\u001b[0m\n",
            "\u001b[0;32m/usr/local/lib/python3.6/dist-packages/keras/preprocessing/image.py\u001b[0m in \u001b[0;36m__getitem__\u001b[0;34m(self, idx)\u001b[0m\n\u001b[1;32m   1024\u001b[0m                              \u001b[0;34m'but the Sequence '\u001b[0m\u001b[0;34m\u001b[0m\u001b[0m\n\u001b[1;32m   1025\u001b[0m                              'has length {length}'.format(idx=idx,\n\u001b[0;32m-> 1026\u001b[0;31m                                                           length=len(self)))\n\u001b[0m\u001b[1;32m   1027\u001b[0m         \u001b[0;32mif\u001b[0m \u001b[0mself\u001b[0m\u001b[0;34m.\u001b[0m\u001b[0mseed\u001b[0m \u001b[0;32mis\u001b[0m \u001b[0;32mnot\u001b[0m \u001b[0;32mNone\u001b[0m\u001b[0;34m:\u001b[0m\u001b[0;34m\u001b[0m\u001b[0m\n\u001b[1;32m   1028\u001b[0m             \u001b[0mnp\u001b[0m\u001b[0;34m.\u001b[0m\u001b[0mrandom\u001b[0m\u001b[0;34m.\u001b[0m\u001b[0mseed\u001b[0m\u001b[0;34m(\u001b[0m\u001b[0mself\u001b[0m\u001b[0;34m.\u001b[0m\u001b[0mseed\u001b[0m \u001b[0;34m+\u001b[0m \u001b[0mself\u001b[0m\u001b[0;34m.\u001b[0m\u001b[0mtotal_batches_seen\u001b[0m\u001b[0;34m)\u001b[0m\u001b[0;34m\u001b[0m\u001b[0m\n",
            "\u001b[0;31mValueError\u001b[0m: Asked to retrieve element 23, but the Sequence has length 5"
          ]
        }
      ]
    },
    {
      "metadata": {
        "id": "7WQc8lUWtCyR",
        "colab_type": "text"
      },
      "cell_type": "markdown",
      "source": [
        "# Evaluate model\n",
        "\n",
        "Our model is a binary classifier. We can evaluate it as any other classifier.\n",
        "\n",
        "**EXERCISE 1**. Obtain the confusion matrix and associated metrics (precision, recall, F-score) for this classifier.\n",
        "\n",
        "**EXERCISE 2**. Plot the ROC curve and calculate the AUC score.\n",
        "\n",
        "**EXERCISE 3**. What is the best model you can obtain using the above evaluation parameters?\n",
        "\n",
        "\n",
        "In addition to this evaluation, for convolutional layers, we can attempt to plot each layer, applied to a image, to see what are the elements used by the model to find out the class the item belongs to."
      ]
    },
    {
      "metadata": {
        "id": "JrU8PEmnu8wX",
        "colab_type": "code",
        "colab": {
          "autoexec": {
            "startup": false,
            "wait_interval": 0
          },
          "base_uri": "https://localhost:8080/",
          "height": 442
        },
        "outputId": "c90b56d0-d2d6-45b8-f1b3-b14e366e37bd",
        "executionInfo": {
          "status": "ok",
          "timestamp": 1531940275737,
          "user_tz": -120,
          "elapsed": 578,
          "user": {
            "displayName": "Israel Herraiz",
            "photoUrl": "https://lh3.googleusercontent.com/a/default-user=s128",
            "userId": "114232750363927198683"
          }
        }
      },
      "cell_type": "code",
      "source": [
        "m.summary()"
      ],
      "execution_count": 74,
      "outputs": [
        {
          "output_type": "stream",
          "text": [
            "_________________________________________________________________\n",
            "Layer (type)                 Output Shape              Param #   \n",
            "=================================================================\n",
            "conv2d_4 (Conv2D)            (None, 48, 48, 32)        896       \n",
            "_________________________________________________________________\n",
            "max_pooling2d_4 (MaxPooling2 (None, 24, 24, 32)        0         \n",
            "_________________________________________________________________\n",
            "conv2d_5 (Conv2D)            (None, 22, 22, 64)        18496     \n",
            "_________________________________________________________________\n",
            "max_pooling2d_5 (MaxPooling2 (None, 11, 11, 64)        0         \n",
            "_________________________________________________________________\n",
            "conv2d_6 (Conv2D)            (None, 9, 9, 128)         73856     \n",
            "_________________________________________________________________\n",
            "max_pooling2d_6 (MaxPooling2 (None, 4, 4, 128)         0         \n",
            "_________________________________________________________________\n",
            "flatten_2 (Flatten)          (None, 2048)              0         \n",
            "_________________________________________________________________\n",
            "dense_3 (Dense)              (None, 256)               524544    \n",
            "_________________________________________________________________\n",
            "dense_4 (Dense)              (None, 1)                 257       \n",
            "=================================================================\n",
            "Total params: 618,049\n",
            "Trainable params: 618,049\n",
            "Non-trainable params: 0\n",
            "_________________________________________________________________\n"
          ],
          "name": "stdout"
        }
      ]
    },
    {
      "metadata": {
        "id": "d3wXA7YhwXR0",
        "colab_type": "code",
        "colab": {
          "autoexec": {
            "startup": false,
            "wait_interval": 0
          },
          "base_uri": "https://localhost:8080/",
          "height": 170
        },
        "outputId": "fa60b118-3c3f-4dde-ea4a-05c20f857bbb",
        "executionInfo": {
          "status": "ok",
          "timestamp": 1531940278073,
          "user_tz": -120,
          "elapsed": 503,
          "user": {
            "displayName": "Israel Herraiz",
            "photoUrl": "https://lh3.googleusercontent.com/a/default-user=s128",
            "userId": "114232750363927198683"
          }
        }
      },
      "cell_type": "code",
      "source": [
        "m.layers"
      ],
      "execution_count": 75,
      "outputs": [
        {
          "output_type": "execute_result",
          "data": {
            "text/plain": [
              "[<keras.layers.convolutional.Conv2D at 0x7f9753734390>,\n",
              " <keras.layers.pooling.MaxPooling2D at 0x7f97537797f0>,\n",
              " <keras.layers.convolutional.Conv2D at 0x7f9753734208>,\n",
              " <keras.layers.pooling.MaxPooling2D at 0x7f9753733828>,\n",
              " <keras.layers.convolutional.Conv2D at 0x7f9753779fd0>,\n",
              " <keras.layers.pooling.MaxPooling2D at 0x7f9753699c50>,\n",
              " <keras.layers.core.Flatten at 0x7f97536886a0>,\n",
              " <keras.layers.core.Dense at 0x7f97536ac940>,\n",
              " <keras.layers.core.Dense at 0x7f97536ac748>]"
            ]
          },
          "metadata": {
            "tags": []
          },
          "execution_count": 75
        }
      ]
    },
    {
      "metadata": {
        "id": "RhaiUf7Hv76D",
        "colab_type": "code",
        "colab": {
          "autoexec": {
            "startup": false,
            "wait_interval": 0
          },
          "base_uri": "https://localhost:8080/",
          "height": 71
        },
        "outputId": "986218f8-303e-4809-d741-3367bfc18c93",
        "executionInfo": {
          "status": "ok",
          "timestamp": 1531940314446,
          "user_tz": -120,
          "elapsed": 603,
          "user": {
            "displayName": "Israel Herraiz",
            "photoUrl": "https://lh3.googleusercontent.com/a/default-user=s128",
            "userId": "114232750363927198683"
          }
        }
      },
      "cell_type": "code",
      "source": [
        "# Let's keep only the convolutional part, ignore the Flatten layer and posterior layers \n",
        "activation_layer = models.Model(input=m.input, outputs=[l.output for l in m.layers[:6]])"
      ],
      "execution_count": 76,
      "outputs": [
        {
          "output_type": "stream",
          "text": [
            "/usr/local/lib/python3.6/dist-packages/ipykernel_launcher.py:1: UserWarning: Update your `Model` call to the Keras 2 API: `Model(outputs=[<tf.Tenso..., inputs=Tensor(\"co...)`\n",
            "  \"\"\"Entry point for launching an IPython kernel.\n"
          ],
          "name": "stderr"
        }
      ]
    },
    {
      "metadata": {
        "id": "tJbyEXAywLXn",
        "colab_type": "code",
        "colab": {
          "autoexec": {
            "startup": false,
            "wait_interval": 0
          },
          "base_uri": "https://localhost:8080/",
          "height": 458
        },
        "outputId": "eae30eff-b963-46aa-e12e-66139d7cb8ab",
        "executionInfo": {
          "status": "ok",
          "timestamp": 1531940347625,
          "user_tz": -120,
          "elapsed": 869,
          "user": {
            "displayName": "Israel Herraiz",
            "photoUrl": "https://lh3.googleusercontent.com/a/default-user=s128",
            "userId": "114232750363927198683"
          }
        }
      },
      "cell_type": "code",
      "source": [
        "N = 18\n",
        "plt.imshow(test_generator[23][0][N])\n",
        "test_generator[23][1][N]"
      ],
      "execution_count": 77,
      "outputs": [
        {
          "output_type": "execute_result",
          "data": {
            "text/plain": [
              "0.0"
            ]
          },
          "metadata": {
            "tags": []
          },
          "execution_count": 77
        },
        {
          "output_type": "display_data",
          "data": {
            "image/png": "[encoded data removed]",
            "text/plain": [
              "<matplotlib.figure.Figure at 0x7f97522e2588>"
            ]
          },
          "metadata": {
            "tags": []
          }
        }
      ]
    },
    {
      "metadata": {
        "id": "NGSqHbnAwpsr",
        "colab_type": "code",
        "colab": {
          "autoexec": {
            "startup": false,
            "wait_interval": 0
          }
        }
      },
      "cell_type": "code",
      "source": [
        "activations = activation_layer.predict(test_generator[23][0][N].reshape(1,50,50,3))"
      ],
      "execution_count": 0,
      "outputs": []
    },
    {
      "metadata": {
        "id": "ICwIrRpDwwfd",
        "colab_type": "code",
        "colab": {
          "autoexec": {
            "startup": false,
            "wait_interval": 0
          },
          "base_uri": "https://localhost:8080/",
          "height": 34
        },
        "outputId": "0e5d0c6f-aab0-41f9-8b7f-f95519545782",
        "executionInfo": {
          "status": "ok",
          "timestamp": 1531940420942,
          "user_tz": -120,
          "elapsed": 577,
          "user": {
            "displayName": "Israel Herraiz",
            "photoUrl": "https://lh3.googleusercontent.com/a/default-user=s128",
            "userId": "114232750363927198683"
          }
        }
      },
      "cell_type": "code",
      "source": [
        "len(activations)  # same as layers in the model"
      ],
      "execution_count": 82,
      "outputs": [
        {
          "output_type": "execute_result",
          "data": {
            "text/plain": [
              "6"
            ]
          },
          "metadata": {
            "tags": []
          },
          "execution_count": 82
        }
      ]
    },
    {
      "metadata": {
        "id": "HLR-bWE2w6DP",
        "colab_type": "code",
        "colab": {
          "autoexec": {
            "startup": false,
            "wait_interval": 0
          },
          "base_uri": "https://localhost:8080/",
          "height": 34
        },
        "outputId": "99940aa6-b9a8-46ad-ea48-d7601c35144f",
        "executionInfo": {
          "status": "ok",
          "timestamp": 1531940447774,
          "user_tz": -120,
          "elapsed": 632,
          "user": {
            "displayName": "Israel Herraiz",
            "photoUrl": "https://lh3.googleusercontent.com/a/default-user=s128",
            "userId": "114232750363927198683"
          }
        }
      },
      "cell_type": "code",
      "source": [
        "activations[0].shape"
      ],
      "execution_count": 83,
      "outputs": [
        {
          "output_type": "execute_result",
          "data": {
            "text/plain": [
              "(1, 48, 48, 32)"
            ]
          },
          "metadata": {
            "tags": []
          },
          "execution_count": 83
        }
      ]
    },
    {
      "metadata": {
        "id": "4OB_z6rtxCNF",
        "colab_type": "code",
        "colab": {
          "autoexec": {
            "startup": false,
            "wait_interval": 0
          },
          "base_uri": "https://localhost:8080/",
          "height": 458
        },
        "outputId": "424b1eb7-7c19-4947-9b03-5657cb157b33",
        "executionInfo": {
          "status": "ok",
          "timestamp": 1531940611755,
          "user_tz": -120,
          "elapsed": 550,
          "user": {
            "displayName": "Israel Herraiz",
            "photoUrl": "https://lh3.googleusercontent.com/a/default-user=s128",
            "userId": "114232750363927198683"
          }
        }
      },
      "cell_type": "code",
      "source": [
        "plt.imshow(activations[0][0,:,:,20], cmap='viridis')"
      ],
      "execution_count": 93,
      "outputs": [
        {
          "output_type": "execute_result",
          "data": {
            "text/plain": [
              "<matplotlib.image.AxesImage at 0x7f97522d4f28>"
            ]
          },
          "metadata": {
            "tags": []
          },
          "execution_count": 93
        },
        {
          "output_type": "display_data",
          "data": {
            "image/png": "[encoded data removed]",
            "text/plain": [
              "<matplotlib.figure.Figure at 0x7f9752889828>"
            ]
          },
          "metadata": {
            "tags": []
          }
        }
      ]
    },
    {
      "metadata": {
        "id": "2deRCi08xJil",
        "colab_type": "code",
        "colab": {
          "autoexec": {
            "startup": false,
            "wait_interval": 0
          },
          "base_uri": "https://localhost:8080/",
          "height": 34
        },
        "outputId": "1d0a0ba8-fe5c-40f2-9193-a94bf8970770",
        "executionInfo": {
          "status": "ok",
          "timestamp": 1531940622890,
          "user_tz": -120,
          "elapsed": 504,
          "user": {
            "displayName": "Israel Herraiz",
            "photoUrl": "https://lh3.googleusercontent.com/a/default-user=s128",
            "userId": "114232750363927198683"
          }
        }
      },
      "cell_type": "code",
      "source": [
        "activations[5].shape"
      ],
      "execution_count": 94,
      "outputs": [
        {
          "output_type": "execute_result",
          "data": {
            "text/plain": [
              "(1, 4, 4, 128)"
            ]
          },
          "metadata": {
            "tags": []
          },
          "execution_count": 94
        }
      ]
    },
    {
      "metadata": {
        "id": "04NVok5Fxs-4",
        "colab_type": "code",
        "colab": {
          "autoexec": {
            "startup": false,
            "wait_interval": 0
          },
          "base_uri": "https://localhost:8080/",
          "height": 164
        },
        "outputId": "eee77f26-593e-459f-bfe0-024ee83cae46",
        "executionInfo": {
          "status": "error",
          "timestamp": 1531940833004,
          "user_tz": -120,
          "elapsed": 556,
          "user": {
            "displayName": "Israel Herraiz",
            "photoUrl": "https://lh3.googleusercontent.com/a/default-user=s128",
            "userId": "114232750363927198683"
          }
        }
      },
      "cell_type": "code",
      "source": [
        "plt.imshow(activations[6][0,:,:,0:3], cmap='viridis')"
      ],
      "execution_count": 106,
      "outputs": [
        {
          "output_type": "error",
          "ename": "IndexError",
          "evalue": "ignored",
          "traceback": [
            "\u001b[0;31m---------------------------------------------------------------------------\u001b[0m",
            "\u001b[0;31mIndexError\u001b[0m                                Traceback (most recent call last)",
            "\u001b[0;32m<ipython-input-106-8e2649e7da9e>\u001b[0m in \u001b[0;36m<module>\u001b[0;34m()\u001b[0m\n\u001b[0;32m----> 1\u001b[0;31m \u001b[0mplt\u001b[0m\u001b[0;34m.\u001b[0m\u001b[0mimshow\u001b[0m\u001b[0;34m(\u001b[0m\u001b[0mactivations\u001b[0m\u001b[0;34m[\u001b[0m\u001b[0;36m6\u001b[0m\u001b[0;34m]\u001b[0m\u001b[0;34m[\u001b[0m\u001b[0;36m0\u001b[0m\u001b[0;34m,\u001b[0m\u001b[0;34m:\u001b[0m\u001b[0;34m,\u001b[0m\u001b[0;34m:\u001b[0m\u001b[0;34m,\u001b[0m\u001b[0;36m0\u001b[0m\u001b[0;34m:\u001b[0m\u001b[0;36m3\u001b[0m\u001b[0;34m]\u001b[0m\u001b[0;34m,\u001b[0m \u001b[0mcmap\u001b[0m\u001b[0;34m=\u001b[0m\u001b[0;34m'viridis'\u001b[0m\u001b[0;34m)\u001b[0m\u001b[0;34m\u001b[0m\u001b[0m\n\u001b[0m",
            "\u001b[0;31mIndexError\u001b[0m: list index out of range"
          ]
        }
      ]
    },
    {
      "metadata": {
        "id": "vLCvC0jw__3r",
        "colab_type": "text"
      },
      "cell_type": "markdown",
      "source": [
        "# Data augmentation\n",
        "\n",
        "If we don't have enough images to train our model, we can manipulate our images to produce modifications, and to *augment* the training data.\n",
        "\n",
        "Because images are slightly different, this can help the network to learn some of the patterns better.\n",
        "\n",
        "See https://keras.io/preprocessing/image/\n"
      ]
    },
    {
      "metadata": {
        "id": "Z98hWZbiAN_4",
        "colab_type": "code",
        "colab": {
          "autoexec": {
            "startup": false,
            "wait_interval": 0
          },
          "base_uri": "https://localhost:8080/",
          "height": 853
        },
        "outputId": "e3d96093-19dc-47a2-c235-f7db524fb12b",
        "executionInfo": {
          "status": "ok",
          "timestamp": 1531945630040,
          "user_tz": -120,
          "elapsed": 298,
          "user": {
            "displayName": "Israel Herraiz",
            "photoUrl": "https://lh3.googleusercontent.com/a/default-user=s128",
            "userId": "114232750363927198683"
          }
        }
      },
      "cell_type": "code",
      "source": [
        "train_datagen = ImageDataGenerator(\n",
        "    rescale=1.0/255,\n",
        "    rotation_range=40,\n",
        "    width_shift_range=.2,\n",
        "    height_shift_range=.2,\n",
        "    shear_range=.2,\n",
        "    zoom_range=.2,\n",
        "    horizontal_flip=True\n",
        ")\n",
        "\n",
        "\n",
        "test_datagen = ImageDataGenerator(rescale=1.0/255)\n",
        "validation_datagen = ImageDataGenerator(rescale=1.0/255)\n",
        "\n",
        "train_generator = train_datagen.flow_from_directory(\n",
        "    train_dir,\n",
        "    target_size=(50, 50),\n",
        "    batch_size=200,\n",
        "    class_mode='binary'\n",
        ")\n",
        "\n",
        "test_generator = test_datagen.flow_from_directory(\n",
        "    validation_dir,\n",
        "    target_size=(50, 50),\n",
        "    batch_size=200,\n",
        "    class_mode='binary'\n",
        ")\n",
        "\n",
        "validation_generator = validation_datagen.flow_from_directory(\n",
        "    validation_dir,\n",
        "    target_size=(50, 50),\n",
        "    batch_size=200,\n",
        "    class_mode='binary'\n",
        ")\n",
        "\n",
        "m = models.Sequential()\n",
        "m.add(layers.Conv2D(32, (3, 3), activation='relu', input_shape=(50, 50, 3)))\n",
        "m.add(layers.MaxPooling2D((2, 2)))\n",
        "m.add(layers.Conv2D(64, (3, 3), activation='relu'))\n",
        "m.add(layers.MaxPooling2D((2, 2)))\n",
        "m.add(layers.Conv2D(128, (3, 3), activation='relu'))\n",
        "m.add(layers.MaxPooling2D((2, 2)))\n",
        "\n",
        "m.add(layers.Flatten())\n",
        "m.add(layers.Dense(256, activation='relu'))\n",
        "m.add(layers.Dense(1, activation='sigmoid'))\n",
        "\n",
        "m.summary()\n",
        "\n",
        "m.compile(loss=losses.binary_crossentropy, optimizer=optimizers.Adam(), metrics=[metrics.binary_accuracy])\n",
        "\n",
        "h = m.fit_generator(train_generator, epochs=10, steps_per_epoch=10, validation_data=validation_generator, validation_steps=5)"
      ],
      "execution_count": 154,
      "outputs": [
        {
          "output_type": "stream",
          "text": [
            "Found 2000 images belonging to 2 classes.\n",
            "Found 1000 images belonging to 2 classes.\n",
            "Found 1000 images belonging to 2 classes.\n",
            "_________________________________________________________________\n",
            "Layer (type)                 Output Shape              Param #   \n",
            "=================================================================\n",
            "conv2d_19 (Conv2D)           (None, 48, 48, 32)        896       \n",
            "_________________________________________________________________\n",
            "max_pooling2d_19 (MaxPooling (None, 24, 24, 32)        0         \n",
            "_________________________________________________________________\n",
            "conv2d_20 (Conv2D)           (None, 22, 22, 64)        18496     \n",
            "_________________________________________________________________\n",
            "max_pooling2d_20 (MaxPooling (None, 11, 11, 64)        0         \n",
            "_________________________________________________________________\n",
            "conv2d_21 (Conv2D)           (None, 9, 9, 128)         73856     \n",
            "_________________________________________________________________\n",
            "max_pooling2d_21 (MaxPooling (None, 4, 4, 128)         0         \n",
            "_________________________________________________________________\n",
            "flatten_10 (Flatten)         (None, 2048)              0         \n",
            "_________________________________________________________________\n",
            "dense_19 (Dense)             (None, 256)               524544    \n",
            "_________________________________________________________________\n",
            "dense_20 (Dense)             (None, 1)                 257       \n",
            "=================================================================\n",
            "Total params: 618,049\n",
            "Trainable params: 618,049\n",
            "Non-trainable params: 0\n",
            "_________________________________________________________________\n",
            "Epoch 1/10\n",
            "10/10 [==============================] - 12s 1s/step - loss: 0.6985 - binary_accuracy: 0.5020 - val_loss: 0.6893 - val_binary_accuracy: 0.5010\n",
            "Epoch 2/10\n",
            "10/10 [==============================] - 9s 944ms/step - loss: 0.6912 - binary_accuracy: 0.5275 - val_loss: 0.6833 - val_binary_accuracy: 0.5810\n",
            "Epoch 3/10\n",
            "10/10 [==============================] - 10s 953ms/step - loss: 0.6834 - binary_accuracy: 0.5610 - val_loss: 0.6771 - val_binary_accuracy: 0.5350\n",
            "Epoch 4/10\n",
            "10/10 [==============================] - 10s 966ms/step - loss: 0.6767 - binary_accuracy: 0.5705 - val_loss: 0.6596 - val_binary_accuracy: 0.5990\n",
            "Epoch 5/10\n",
            " 8/10 [=======================>......] - ETA: 0s - loss: 0.6804 - binary_accuracy: 0.5631"
          ],
          "name": "stdout"
        },
        {
          "output_type": "stream",
          "text": [
            "10/10 [==============================] - 10s 952ms/step - loss: 0.6775 - binary_accuracy: 0.5700 - val_loss: 0.6679 - val_binary_accuracy: 0.5930\n",
            "Epoch 6/10\n",
            "10/10 [==============================] - 9s 938ms/step - loss: 0.6557 - binary_accuracy: 0.6125 - val_loss: 0.6954 - val_binary_accuracy: 0.5610\n",
            "Epoch 7/10\n",
            "10/10 [==============================] - 10s 958ms/step - loss: 0.6489 - binary_accuracy: 0.6050 - val_loss: 0.6279 - val_binary_accuracy: 0.6340\n",
            "Epoch 8/10\n",
            "10/10 [==============================] - 9s 947ms/step - loss: 0.6486 - binary_accuracy: 0.6210 - val_loss: 0.6987 - val_binary_accuracy: 0.5660\n",
            "Epoch 9/10\n",
            "10/10 [==============================] - 10s 951ms/step - loss: 0.6397 - binary_accuracy: 0.6415 - val_loss: 0.6895 - val_binary_accuracy: 0.5740\n",
            "Epoch 10/10\n",
            "10/10 [==============================] - 10s 980ms/step - loss: 0.6410 - binary_accuracy: 0.6195 - val_loss: 0.6566 - val_binary_accuracy: 0.6250\n"
          ],
          "name": "stdout"
        }
      ]
    },
    {
      "metadata": {
        "id": "LiEl9SZtD6dy",
        "colab_type": "code",
        "colab": {
          "autoexec": {
            "startup": false,
            "wait_interval": 0
          },
          "base_uri": "https://localhost:8080/",
          "height": 477
        },
        "outputId": "2a47cbf7-2e47-4729-fcc1-c379c33eb837",
        "executionInfo": {
          "status": "ok",
          "timestamp": 1531945639150,
          "user_tz": -120,
          "elapsed": 963,
          "user": {
            "displayName": "Israel Herraiz",
            "photoUrl": "https://lh3.googleusercontent.com/a/default-user=s128",
            "userId": "114232750363927198683"
          }
        }
      },
      "cell_type": "code",
      "source": [
        "plot_metric(h, 'loss')"
      ],
      "execution_count": 155,
      "outputs": [
        {
          "output_type": "display_data",
          "data": {
            "image/png": "[encoded data removed]",
            "text/plain": [
              "<matplotlib.figure.Figure at 0x7f9748f09860>"
            ]
          },
          "metadata": {
            "tags": []
          }
        }
      ]
    },
    {
      "metadata": {
        "id": "a9s0b_WXE2cX",
        "colab_type": "code",
        "colab": {
          "autoexec": {
            "startup": false,
            "wait_interval": 0
          },
          "base_uri": "https://localhost:8080/",
          "height": 477
        },
        "outputId": "2a9dfd9f-db7d-4222-d63c-4e78a2504adf",
        "executionInfo": {
          "status": "ok",
          "timestamp": 1531945653534,
          "user_tz": -120,
          "elapsed": 834,
          "user": {
            "displayName": "Israel Herraiz",
            "photoUrl": "https://lh3.googleusercontent.com/a/default-user=s128",
            "userId": "114232750363927198683"
          }
        }
      },
      "cell_type": "code",
      "source": [
        "plot_metric(h, 'binary_accuracy')"
      ],
      "execution_count": 156,
      "outputs": [
        {
          "output_type": "display_data",
          "data": {
            "image/png": "[encoded data removed]",
            "text/plain": [
              "<matplotlib.figure.Figure at 0x7f974344bd68>"
            ]
          },
          "metadata": {
            "tags": []
          }
        }
      ]
    },
    {
      "metadata": {
        "id": "rDr2rqH2E54M",
        "colab_type": "code",
        "colab": {
          "autoexec": {
            "startup": false,
            "wait_interval": 0
          },
          "base_uri": "https://localhost:8080/",
          "height": 34
        },
        "outputId": "eb73a1ae-d1cd-4960-956a-626c2d387042",
        "executionInfo": {
          "status": "ok",
          "timestamp": 1531945670382,
          "user_tz": -120,
          "elapsed": 3436,
          "user": {
            "displayName": "Israel Herraiz",
            "photoUrl": "https://lh3.googleusercontent.com/a/default-user=s128",
            "userId": "114232750363927198683"
          }
        }
      },
      "cell_type": "code",
      "source": [
        "m.evaluate_generator(test_generator)"
      ],
      "execution_count": 157,
      "outputs": [
        {
          "output_type": "execute_result",
          "data": {
            "text/plain": [
              "[0.6565880537033081, 0.625]"
            ]
          },
          "metadata": {
            "tags": []
          },
          "execution_count": 157
        }
      ]
    },
    {
      "metadata": {
        "id": "5_Q3QhtGxy5Z",
        "colab_type": "text"
      },
      "cell_type": "markdown",
      "source": [
        "# Reusing a pre-trained convnet\n",
        "\n",
        "Training a convolutional network is slow and tedious. And if we think of every day objects, some patterns will probably be useful for images of different types.\n",
        "\n",
        "Similarly to word2vec, Glove, and other pre-trained word embeddings, we can use pre-trained convolutional networks, to improve our models."
      ]
    },
    {
      "metadata": {
        "id": "9wGTXQwT__Q0",
        "colab_type": "code",
        "colab": {
          "autoexec": {
            "startup": false,
            "wait_interval": 0
          }
        }
      },
      "cell_type": "code",
      "source": [
        "from keras.applications import VGG16"
      ],
      "execution_count": 0,
      "outputs": []
    },
    {
      "metadata": {
        "id": "0iSsy9X1Ah5e",
        "colab_type": "code",
        "colab": {
          "autoexec": {
            "startup": false,
            "wait_interval": 0
          },
          "base_uri": "https://localhost:8080/",
          "height": 51
        },
        "outputId": "4af4c01d-ac80-4caa-f755-5f7c55b8a1ff",
        "executionInfo": {
          "status": "ok",
          "timestamp": 1531944535357,
          "user_tz": -120,
          "elapsed": 4497,
          "user": {
            "displayName": "Israel Herraiz",
            "photoUrl": "https://lh3.googleusercontent.com/a/default-user=s128",
            "userId": "114232750363927198683"
          }
        }
      },
      "cell_type": "code",
      "source": [
        "conv_base = VGG16(weights='imagenet', include_top=False, input_shape=(50,50,3))"
      ],
      "execution_count": 141,
      "outputs": [
        {
          "output_type": "stream",
          "text": [
            "Downloading data from https://github.com/fchollet/deep-learning-models/releases/download/v0.1/vgg16_weights_tf_dim_ordering_tf_kernels_notop.h5\n",
            "58892288/58889256 [==============================] - 3s 0us/step\n"
          ],
          "name": "stdout"
        }
      ]
    },
    {
      "metadata": {
        "id": "CLh_V09JAnNL",
        "colab_type": "code",
        "colab": {
          "autoexec": {
            "startup": false,
            "wait_interval": 0
          },
          "base_uri": "https://localhost:8080/",
          "height": 782
        },
        "outputId": "249d787a-9a23-4f72-8af0-2e147e23ef9b",
        "executionInfo": {
          "status": "ok",
          "timestamp": 1531944553229,
          "user_tz": -120,
          "elapsed": 554,
          "user": {
            "displayName": "Israel Herraiz",
            "photoUrl": "https://lh3.googleusercontent.com/a/default-user=s128",
            "userId": "114232750363927198683"
          }
        }
      },
      "cell_type": "code",
      "source": [
        "conv_base.summary()"
      ],
      "execution_count": 142,
      "outputs": [
        {
          "output_type": "stream",
          "text": [
            "_________________________________________________________________\n",
            "Layer (type)                 Output Shape              Param #   \n",
            "=================================================================\n",
            "input_1 (InputLayer)         (None, 50, 50, 3)         0         \n",
            "_________________________________________________________________\n",
            "block1_conv1 (Conv2D)        (None, 50, 50, 64)        1792      \n",
            "_________________________________________________________________\n",
            "block1_conv2 (Conv2D)        (None, 50, 50, 64)        36928     \n",
            "_________________________________________________________________\n",
            "block1_pool (MaxPooling2D)   (None, 25, 25, 64)        0         \n",
            "_________________________________________________________________\n",
            "block2_conv1 (Conv2D)        (None, 25, 25, 128)       73856     \n",
            "_________________________________________________________________\n",
            "block2_conv2 (Conv2D)        (None, 25, 25, 128)       147584    \n",
            "_________________________________________________________________\n",
            "block2_pool (MaxPooling2D)   (None, 12, 12, 128)       0         \n",
            "_________________________________________________________________\n",
            "block3_conv1 (Conv2D)        (None, 12, 12, 256)       295168    \n",
            "_________________________________________________________________\n",
            "block3_conv2 (Conv2D)        (None, 12, 12, 256)       590080    \n",
            "_________________________________________________________________\n",
            "block3_conv3 (Conv2D)        (None, 12, 12, 256)       590080    \n",
            "_________________________________________________________________\n",
            "block3_pool (MaxPooling2D)   (None, 6, 6, 256)         0         \n",
            "_________________________________________________________________\n",
            "block4_conv1 (Conv2D)        (None, 6, 6, 512)         1180160   \n",
            "_________________________________________________________________\n",
            "block4_conv2 (Conv2D)        (None, 6, 6, 512)         2359808   \n",
            "_________________________________________________________________\n",
            "block4_conv3 (Conv2D)        (None, 6, 6, 512)         2359808   \n",
            "_________________________________________________________________\n",
            "block4_pool (MaxPooling2D)   (None, 3, 3, 512)         0         \n",
            "_________________________________________________________________\n",
            "block5_conv1 (Conv2D)        (None, 3, 3, 512)         2359808   \n",
            "_________________________________________________________________\n",
            "block5_conv2 (Conv2D)        (None, 3, 3, 512)         2359808   \n",
            "_________________________________________________________________\n",
            "block5_conv3 (Conv2D)        (None, 3, 3, 512)         2359808   \n",
            "_________________________________________________________________\n",
            "block5_pool (MaxPooling2D)   (None, 1, 1, 512)         0         \n",
            "=================================================================\n",
            "Total params: 14,714,688\n",
            "Trainable params: 14,714,688\n",
            "Non-trainable params: 0\n",
            "_________________________________________________________________\n"
          ],
          "name": "stdout"
        }
      ]
    },
    {
      "metadata": {
        "id": "_W6TjsHZAsh_",
        "colab_type": "code",
        "colab": {
          "autoexec": {
            "startup": false,
            "wait_interval": 0
          },
          "base_uri": "https://localhost:8080/",
          "height": 663
        },
        "outputId": "76e8756d-a395-45cf-ded3-28d60e3ebf09",
        "executionInfo": {
          "status": "ok",
          "timestamp": 1531944958275,
          "user_tz": -120,
          "elapsed": 96449,
          "user": {
            "displayName": "Israel Herraiz",
            "photoUrl": "https://lh3.googleusercontent.com/a/default-user=s128",
            "userId": "114232750363927198683"
          }
        }
      },
      "cell_type": "code",
      "source": [
        "train_datagen = ImageDataGenerator(rescale=1.0/255)\n",
        "test_datagen = ImageDataGenerator(rescale=1.0/255)\n",
        "validation_datagen = ImageDataGenerator(rescale=1.0/255)\n",
        "\n",
        "train_generator = train_datagen.flow_from_directory(\n",
        "    train_dir,\n",
        "    target_size=(50, 50),\n",
        "    batch_size=200,\n",
        "    class_mode='binary'\n",
        ")\n",
        "\n",
        "test_generator = test_datagen.flow_from_directory(\n",
        "    validation_dir,\n",
        "    target_size=(50, 50),\n",
        "    batch_size=200,\n",
        "    class_mode='binary'\n",
        ")\n",
        "\n",
        "validation_generator = validation_datagen.flow_from_directory(\n",
        "    validation_dir,\n",
        "    target_size=(50, 50),\n",
        "    batch_size=200,\n",
        "    class_mode='binary'\n",
        ")\n",
        "\n",
        "m = models.Sequential()\n",
        "m.add(conv_base)\n",
        "m.add(layers.Flatten())\n",
        "m.add(layers.Dense(256, activation='relu'))\n",
        "m.add(layers.Dense(1, activation='sigmoid'))\n",
        "\n",
        "m.summary()\n",
        "\n",
        "m.compile(loss=losses.binary_crossentropy, optimizer=optimizers.Adam(), metrics=[metrics.binary_accuracy])\n",
        "\n",
        "h = m.fit_generator(train_generator, epochs=10, steps_per_epoch=10, validation_data=validation_generator, validation_steps=5)"
      ],
      "execution_count": 144,
      "outputs": [
        {
          "output_type": "stream",
          "text": [
            "Found 2000 images belonging to 2 classes.\n",
            "Found 1000 images belonging to 2 classes.\n",
            "Found 1000 images belonging to 2 classes.\n",
            "_________________________________________________________________\n",
            "Layer (type)                 Output Shape              Param #   \n",
            "=================================================================\n",
            "vgg16 (Model)                (None, 1, 1, 512)         14714688  \n",
            "_________________________________________________________________\n",
            "flatten_7 (Flatten)          (None, 512)               0         \n",
            "_________________________________________________________________\n",
            "dense_13 (Dense)             (None, 256)               131328    \n",
            "_________________________________________________________________\n",
            "dense_14 (Dense)             (None, 1)                 257       \n",
            "=================================================================\n",
            "Total params: 14,846,273\n",
            "Trainable params: 14,846,273\n",
            "Non-trainable params: 0\n",
            "_________________________________________________________________\n",
            "Epoch 1/10\n",
            "10/10 [==============================] - 13s 1s/step - loss: 0.6974 - binary_accuracy: 0.5510 - val_loss: 0.6921 - val_binary_accuracy: 0.5220\n",
            "Epoch 2/10\n",
            "10/10 [==============================] - 9s 890ms/step - loss: 0.6397 - binary_accuracy: 0.6185 - val_loss: 0.6137 - val_binary_accuracy: 0.6840\n",
            "Epoch 3/10\n",
            "10/10 [==============================] - 9s 892ms/step - loss: 0.5719 - binary_accuracy: 0.7110 - val_loss: 0.5623 - val_binary_accuracy: 0.7130\n",
            "Epoch 4/10\n",
            "10/10 [==============================] - 9s 897ms/step - loss: 0.4786 - binary_accuracy: 0.7720 - val_loss: 0.5482 - val_binary_accuracy: 0.7230\n",
            "Epoch 5/10\n",
            "10/10 [==============================] - 9s 901ms/step - loss: 0.4461 - binary_accuracy: 0.7940 - val_loss: 0.4967 - val_binary_accuracy: 0.7560\n",
            "Epoch 6/10\n",
            "10/10 [==============================] - 9s 891ms/step - loss: 0.4174 - binary_accuracy: 0.8055 - val_loss: 0.4861 - val_binary_accuracy: 0.7600\n"
          ],
          "name": "stdout"
        },
        {
          "output_type": "stream",
          "text": [
            "Epoch 7/10\n",
            "10/10 [==============================] - 9s 914ms/step - loss: 0.3429 - binary_accuracy: 0.8505 - val_loss: 0.5656 - val_binary_accuracy: 0.7720\n",
            "Epoch 8/10\n",
            "10/10 [==============================] - 9s 889ms/step - loss: 0.2794 - binary_accuracy: 0.8900 - val_loss: 0.5425 - val_binary_accuracy: 0.7710\n",
            "Epoch 9/10\n",
            "10/10 [==============================] - 9s 907ms/step - loss: 0.2273 - binary_accuracy: 0.9155 - val_loss: 0.6071 - val_binary_accuracy: 0.7530\n",
            "Epoch 10/10\n",
            "10/10 [==============================] - 9s 904ms/step - loss: 0.1782 - binary_accuracy: 0.9380 - val_loss: 0.6689 - val_binary_accuracy: 0.7630\n"
          ],
          "name": "stdout"
        }
      ]
    },
    {
      "metadata": {
        "id": "XRUDiVfmB0TH",
        "colab_type": "code",
        "colab": {
          "autoexec": {
            "startup": false,
            "wait_interval": 0
          },
          "base_uri": "https://localhost:8080/",
          "height": 477
        },
        "outputId": "18f5083e-7580-4801-d7bc-100c62baa031",
        "executionInfo": {
          "status": "ok",
          "timestamp": 1531944959561,
          "user_tz": -120,
          "elapsed": 1272,
          "user": {
            "displayName": "Israel Herraiz",
            "photoUrl": "https://lh3.googleusercontent.com/a/default-user=s128",
            "userId": "114232750363927198683"
          }
        }
      },
      "cell_type": "code",
      "source": [
        "plot_metric(h, 'loss')"
      ],
      "execution_count": 145,
      "outputs": [
        {
          "output_type": "display_data",
          "data": {
            "image/png": "[encoded data removed]",
            "text/plain": [
              "<matplotlib.figure.Figure at 0x7f9748bdaf28>"
            ]
          },
          "metadata": {
            "tags": []
          }
        }
      ]
    },
    {
      "metadata": {
        "id": "0ice2hjrB22w",
        "colab_type": "code",
        "colab": {
          "autoexec": {
            "startup": false,
            "wait_interval": 0
          },
          "base_uri": "https://localhost:8080/",
          "height": 477
        },
        "outputId": "a90bb1ef-32c3-4e24-871e-33763192fac7",
        "executionInfo": {
          "status": "ok",
          "timestamp": 1531944962996,
          "user_tz": -120,
          "elapsed": 927,
          "user": {
            "displayName": "Israel Herraiz",
            "photoUrl": "https://lh3.googleusercontent.com/a/default-user=s128",
            "userId": "114232750363927198683"
          }
        }
      },
      "cell_type": "code",
      "source": [
        "plot_metric(h, 'binary_accuracy')"
      ],
      "execution_count": 146,
      "outputs": [
        {
          "output_type": "display_data",
          "data": {
            "image/png": "[encoded data removed]",
            "text/plain": [
              "<matplotlib.figure.Figure at 0x7f97426169b0>"
            ]
          },
          "metadata": {
            "tags": []
          }
        }
      ]
    },
    {
      "metadata": {
        "id": "5nE908jCCR5a",
        "colab_type": "code",
        "colab": {
          "autoexec": {
            "startup": false,
            "wait_interval": 0
          },
          "base_uri": "https://localhost:8080/",
          "height": 34
        },
        "outputId": "28894167-0af3-4e97-aff3-2fe0dfcfa657",
        "executionInfo": {
          "status": "ok",
          "timestamp": 1531944980722,
          "user_tz": -120,
          "elapsed": 3458,
          "user": {
            "displayName": "Israel Herraiz",
            "photoUrl": "https://lh3.googleusercontent.com/a/default-user=s128",
            "userId": "114232750363927198683"
          }
        }
      },
      "cell_type": "code",
      "source": [
        "m.evaluate_generator(test_generator)"
      ],
      "execution_count": 147,
      "outputs": [
        {
          "output_type": "execute_result",
          "data": {
            "text/plain": [
              "[0.6688782393932342, 0.7629999995231629]"
            ]
          },
          "metadata": {
            "tags": []
          },
          "execution_count": 147
        }
      ]
    },
    {
      "metadata": {
        "id": "pawcnoDqBewP",
        "colab_type": "code",
        "colab": {
          "autoexec": {
            "startup": false,
            "wait_interval": 0
          },
          "base_uri": "https://localhost:8080/",
          "height": 683
        },
        "outputId": "87643cc5-4790-4042-8f7b-487a12887ec6",
        "executionInfo": {
          "status": "ok",
          "timestamp": 1531945075421,
          "user_tz": -120,
          "elapsed": 85842,
          "user": {
            "displayName": "Israel Herraiz",
            "photoUrl": "https://lh3.googleusercontent.com/a/default-user=s128",
            "userId": "114232750363927198683"
          }
        }
      },
      "cell_type": "code",
      "source": [
        "train_datagen = ImageDataGenerator(rescale=1.0/255)\n",
        "test_datagen = ImageDataGenerator(rescale=1.0/255)\n",
        "validation_datagen = ImageDataGenerator(rescale=1.0/255)\n",
        "\n",
        "train_generator = train_datagen.flow_from_directory(\n",
        "    train_dir,\n",
        "    target_size=(50, 50),\n",
        "    batch_size=200,\n",
        "    class_mode='binary'\n",
        ")\n",
        "\n",
        "test_generator = test_datagen.flow_from_directory(\n",
        "    validation_dir,\n",
        "    target_size=(50, 50),\n",
        "    batch_size=200,\n",
        "    class_mode='binary'\n",
        ")\n",
        "\n",
        "validation_generator = validation_datagen.flow_from_directory(\n",
        "    validation_dir,\n",
        "    target_size=(50, 50),\n",
        "    batch_size=200,\n",
        "    class_mode='binary'\n",
        ")\n",
        "\n",
        "conv_base.trainable = False\n",
        "\n",
        "m = models.Sequential()\n",
        "m.add(conv_base)\n",
        "m.add(layers.Flatten())\n",
        "m.add(layers.Dense(256, activation='relu'))\n",
        "m.add(layers.Dense(1, activation='sigmoid'))\n",
        "\n",
        "m.summary()\n",
        "\n",
        "m.compile(loss=losses.binary_crossentropy, optimizer=optimizers.Adam(), metrics=[metrics.binary_accuracy])\n",
        "\n",
        "h = m.fit_generator(train_generator, epochs=10, steps_per_epoch=10, validation_data=validation_generator, validation_steps=5)"
      ],
      "execution_count": 148,
      "outputs": [
        {
          "output_type": "stream",
          "text": [
            "Found 2000 images belonging to 2 classes.\n",
            "Found 1000 images belonging to 2 classes.\n",
            "Found 1000 images belonging to 2 classes.\n",
            "_________________________________________________________________\n",
            "Layer (type)                 Output Shape              Param #   \n",
            "=================================================================\n",
            "vgg16 (Model)                (None, 1, 1, 512)         14714688  \n",
            "_________________________________________________________________\n",
            "flatten_8 (Flatten)          (None, 512)               0         \n",
            "_________________________________________________________________\n",
            "dense_15 (Dense)             (None, 256)               131328    \n",
            "_________________________________________________________________\n",
            "dense_16 (Dense)             (None, 1)                 257       \n",
            "=================================================================\n",
            "Total params: 14,846,273\n",
            "Trainable params: 131,585\n",
            "Non-trainable params: 14,714,688\n",
            "_________________________________________________________________\n",
            "Epoch 1/10\n",
            "10/10 [==============================] - 11s 1s/step - loss: 0.2943 - binary_accuracy: 0.8835 - val_loss: 0.5977 - val_binary_accuracy: 0.7780\n",
            "Epoch 2/10\n",
            "10/10 [==============================] - 8s 817ms/step - loss: 0.1291 - binary_accuracy: 0.9560 - val_loss: 0.7820 - val_binary_accuracy: 0.7760\n",
            "Epoch 3/10\n",
            "10/10 [==============================] - 8s 811ms/step - loss: 0.1267 - binary_accuracy: 0.9565 - val_loss: 0.8385 - val_binary_accuracy: 0.7770\n",
            "Epoch 4/10\n",
            "10/10 [==============================] - 8s 810ms/step - loss: 0.1266 - binary_accuracy: 0.9575 - val_loss: 0.8340 - val_binary_accuracy: 0.7770\n",
            "Epoch 5/10\n",
            "10/10 [==============================] - 8s 806ms/step - loss: 0.1257 - binary_accuracy: 0.9570 - val_loss: 0.8068 - val_binary_accuracy: 0.7760\n",
            "Epoch 6/10\n",
            "10/10 [==============================] - 8s 819ms/step - loss: 0.1240 - binary_accuracy: 0.9575 - val_loss: 0.7763 - val_binary_accuracy: 0.7770\n",
            "Epoch 7/10\n",
            " 3/10 [========>.....................] - ETA: 0s - loss: 0.1189 - binary_accuracy: 0.9567"
          ],
          "name": "stdout"
        },
        {
          "output_type": "stream",
          "text": [
            "10/10 [==============================] - 8s 811ms/step - loss: 0.1229 - binary_accuracy: 0.9570 - val_loss: 0.7497 - val_binary_accuracy: 0.7760\n",
            "Epoch 8/10\n",
            "10/10 [==============================] - 8s 801ms/step - loss: 0.1219 - binary_accuracy: 0.9570 - val_loss: 0.7447 - val_binary_accuracy: 0.7760\n",
            "Epoch 9/10\n",
            "10/10 [==============================] - 8s 815ms/step - loss: 0.1216 - binary_accuracy: 0.9570 - val_loss: 0.7355 - val_binary_accuracy: 0.7780\n",
            "Epoch 10/10\n",
            "10/10 [==============================] - 8s 818ms/step - loss: 0.1215 - binary_accuracy: 0.9570 - val_loss: 0.7351 - val_binary_accuracy: 0.7760\n"
          ],
          "name": "stdout"
        }
      ]
    },
    {
      "metadata": {
        "id": "C4oEPv7rCXMb",
        "colab_type": "code",
        "colab": {
          "autoexec": {
            "startup": false,
            "wait_interval": 0
          },
          "base_uri": "https://localhost:8080/",
          "height": 477
        },
        "outputId": "fc72a468-730e-4aa6-cc43-20c5ef78abe6",
        "executionInfo": {
          "status": "ok",
          "timestamp": 1531945103405,
          "user_tz": -120,
          "elapsed": 790,
          "user": {
            "displayName": "Israel Herraiz",
            "photoUrl": "https://lh3.googleusercontent.com/a/default-user=s128",
            "userId": "114232750363927198683"
          }
        }
      },
      "cell_type": "code",
      "source": [
        "plot_metric(h, 'loss')"
      ],
      "execution_count": 149,
      "outputs": [
        {
          "output_type": "display_data",
          "data": {
            "image/png": "[encoded data removed]",
            "text/plain": [
              "<matplotlib.figure.Figure at 0x7f974a2b18d0>"
            ]
          },
          "metadata": {
            "tags": []
          }
        }
      ]
    },
    {
      "metadata": {
        "id": "lDxNEeX_Cyyj",
        "colab_type": "code",
        "colab": {
          "autoexec": {
            "startup": false,
            "wait_interval": 0
          },
          "base_uri": "https://localhost:8080/",
          "height": 477
        },
        "outputId": "828c9e99-e286-43ba-d518-e594b86b4e2c",
        "executionInfo": {
          "status": "ok",
          "timestamp": 1531945126955,
          "user_tz": -120,
          "elapsed": 931,
          "user": {
            "displayName": "Israel Herraiz",
            "photoUrl": "https://lh3.googleusercontent.com/a/default-user=s128",
            "userId": "114232750363927198683"
          }
        }
      },
      "cell_type": "code",
      "source": [
        "plot_metric(h, 'binary_accuracy')"
      ],
      "execution_count": 150,
      "outputs": [
        {
          "output_type": "display_data",
          "data": {
            "image/png": "[encoded data removed]",
            "text/plain": [
              "<matplotlib.figure.Figure at 0x7f97426cf080>"
            ]
          },
          "metadata": {
            "tags": []
          }
        }
      ]
    },
    {
      "metadata": {
        "id": "VLuyFxFvC1Ep",
        "colab_type": "code",
        "colab": {
          "autoexec": {
            "startup": false,
            "wait_interval": 0
          },
          "base_uri": "https://localhost:8080/",
          "height": 34
        },
        "outputId": "4341453c-a349-4b16-9db6-b107f9cf9559",
        "executionInfo": {
          "status": "ok",
          "timestamp": 1531945142498,
          "user_tz": -120,
          "elapsed": 3444,
          "user": {
            "displayName": "Israel Herraiz",
            "photoUrl": "https://lh3.googleusercontent.com/a/default-user=s128",
            "userId": "114232750363927198683"
          }
        }
      },
      "cell_type": "code",
      "source": [
        "m.evaluate_generator(test_generator)"
      ],
      "execution_count": 151,
      "outputs": [
        {
          "output_type": "execute_result",
          "data": {
            "text/plain": [
              "[0.7351065874099731, 0.7760000109672547]"
            ]
          },
          "metadata": {
            "tags": []
          },
          "execution_count": 151
        }
      ]
    },
    {
      "metadata": {
        "id": "OiHYp9ptC7sF",
        "colab_type": "code",
        "colab": {
          "autoexec": {
            "startup": false,
            "wait_interval": 0
          }
        }
      },
      "cell_type": "code",
      "source": [
        ""
      ],
      "execution_count": 0,
      "outputs": []
    }
  ]
}