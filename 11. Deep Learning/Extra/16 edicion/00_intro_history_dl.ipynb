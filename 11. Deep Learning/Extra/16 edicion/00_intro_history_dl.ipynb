{
 "cells": [
  {
   "cell_type": "markdown",
   "metadata": {},
   "source": [
    "# Deep Learning at a Glance #\n",
    "\n",
    "*History, recent advances and challenges.*\n",
    "\n",
    "Based on a similar notebook from Juliacon 2017\n",
    "* https://github.com/ninjin/juliacon2017_dl_workshop"
   ]
  },
  {
   "cell_type": "markdown",
   "metadata": {},
   "source": [
    "## The Deep Learning Timeline\n",
    "\n",
    "![Deep Learning Timeline](../imgs/00_deep_learning_timeline.png)\n",
    "\n",
    "[Source](https://towardsdatascience.com/a-weird-introduction-to-deep-learning-7828803693b0)"
   ]
  },
  {
   "cell_type": "markdown",
   "metadata": {},
   "source": [
    "## The Mark 1 Perceptron ##\n",
    "\n",
    "![The Mark 1 Perceptron](../imgs/00_perceptron_mark_1.jpg)\n",
    "\n",
    "[Source](http://csis.pace.edu/~ctappert/srd2011/rosenblatt-contributions.htm)"
   ]
  },
  {
   "cell_type": "markdown",
   "metadata": {},
   "source": [
    "## Neural ups and downs ##\n",
    "\n",
    "A very rough sketch:\n",
    "* 50s/60s: Biologically inspired computation, the perceptron\n",
    "* 70s: Decline after \"Perceptrons\" (1969)\n",
    "* 80s: Connectionism and backpropagation\n",
    "* 90s: Convolutional networks, but limited depth\n",
    "* 00s: Margin-based model dominance\n",
    "* 10s: Deep Learning"
   ]
  },
  {
   "cell_type": "markdown",
   "metadata": {},
   "source": [
    "## Betting on trends ##\n",
    "\n",
    "![The famous Machine Learning bets of 1995](../imgs/00_ml_bet.jpg)\n",
    "\n",
    "[Source](https://plus.google.com/+YannLeCunPhD/posts/CR18UPiemYB)"
   ]
  },
  {
   "cell_type": "markdown",
   "metadata": {},
   "source": [
    "# Recent Successes #"
   ]
  },
  {
   "cell_type": "markdown",
   "metadata": {},
   "source": [
    "## Convolutional Neural Network ##\n",
    "\n",
    "![Convolutional Neural Network](../imgs/00_typical_cnn.png)\n",
    "\n",
    "[Source: Wikipedia](https://en.wikipedia.org/wiki/File:Typical_cnn.png)"
   ]
  },
  {
   "cell_type": "markdown",
   "metadata": {},
   "source": [
    "## Deep Reinforcement Learning ##"
   ]
  },
  {
   "cell_type": "code",
   "execution_count": 2,
   "metadata": {},
   "outputs": [
    {
     "data": {
      "text/html": [
       "<iframe width=\"560\" height=\"315\" src=\"https://www.youtube.com/embed/V1eYniJ0Rnk\" frameborder=\"0\" allowfullscreen></iframe>"
      ],
      "text/plain": [
       "<IPython.core.display.HTML object>"
      ]
     },
     "metadata": {},
     "output_type": "display_data"
    }
   ],
   "source": [
    "from IPython.display import display, HTML\n",
    "display(HTML(\"\"\"<iframe width=\"560\" height=\"315\" src=\"https://www.youtube.com/embed/V1eYniJ0Rnk\" frameborder=\"0\" allowfullscreen></iframe>\"\"\"))"
   ]
  },
  {
   "cell_type": "markdown",
   "metadata": {},
   "source": [
    "[Source: Two Minute Papers](https://www.youtube.com/watch?v=V1eYniJ0Rnk)"
   ]
  },
  {
   "cell_type": "markdown",
   "metadata": {},
   "source": [
    "## AlphaGo ##\n",
    "\n",
    "![AlphaGo in the news](../imgs/00_alphago_bbc.png)\n",
    "\n",
    "[Source: BBC](http://www.bbc.co.uk/news/technology-35785875)\n",
    "\n",
    "![AlphaGo reasoning about a move](../imgs/00_alphago_paper_fig_5.png)\n",
    "\n",
    "[Source: Silver et al. (2016)](https://www.nature.com/nature/journal/v529/n7587/full/nature16961.html)\n",
    "\n",
    "[Teaches humans new ways to play the game](https://deepmind.com/blog/innovations-alphago/)"
   ]
  },
  {
   "cell_type": "markdown",
   "metadata": {},
   "source": [
    "## WaveNet ##\n",
    "\n",
    "![Dilated layers from the WaveNet paper](../imgs/00_wavenet_fig_3.png)\n",
    "\n",
    "[Source: van den Oord et al. (2016)](https://arxiv.org/abs/1609.03499)\n",
    "\n",
    "*Parametric*\n",
    "<audio src=\"../res/wavenet_parametric-1.wav\" controls=\"controls\">\n",
    "    Your browser does not support HTML5 audio.\n",
    "</audio>\n",
    "<audio src=\"../res/wavenet_parametric-2.wav\" controls=\"controls\">\n",
    "    Your browser does not support HTML5 audio.\n",
    "</audio>\n",
    "\n",
    "*Concatenative*\n",
    "<audio src=\"../res/wavenet_concatenative-1.wav\" controls=\"controls\">\n",
    "    Your browser does not support HTML5 audio.\n",
    "</audio>\n",
    "<audio src=\"../res/wavenet_concatenative-2.wav\" controls=\"controls\">\n",
    "    Your browser does not support HTML5 audio.\n",
    "</audio>\n",
    "\n",
    "*WaveNet*\n",
    "<audio src=\"../res/wavenet_wavenet-1.wav\" controls=\"controls\">\n",
    "    Your browser does not support HTML5 audio.\n",
    "</audio>\n",
    "<audio src=\"../res/wavenet_wavenet-2.wav\" controls=\"controls\">\n",
    "    Your browser does not support HTML5 audio.\n",
    "</audio>\n",
    "\n",
    "[Source](https://deepmind.com/blog/wavenet-generative-model-raw-audio/)"
   ]
  },
  {
   "cell_type": "markdown",
   "metadata": {},
   "source": [
    "## Neural Style ##\n",
    "\n",
    "![Neural styles applied to an image](../imgs/00_neural_style_fig_2.png)\n",
    "\n",
    "[Source: Gatys et al. (2015)](https://arxiv.org/abs/1508.06576)\n",
    "\n",
    "![Neural style filters](../imgs/00_neural_style_fig_1.png)\n",
    "\n",
    "[Source: Gatys et al. (2015)](https://arxiv.org/abs/1508.06576)\n",
    "\n",
    "[Open Source implementation](https://github.com/jcjohnson/neural-style)"
   ]
  },
  {
   "cell_type": "markdown",
   "metadata": {},
   "source": [
    "## Distributed Word Representations ##\n",
    "\n",
    "![Word representations](../imgs/00_word_representations.svg)\n",
    "\n",
    "![Word representations](../imgs/00_word_representations_zoom.svg)"
   ]
  },
  {
   "cell_type": "markdown",
   "metadata": {},
   "source": [
    "## Recurrent Neural Network ##\n",
    "\n",
    "![Encoder Decoder](../imgs/00_rnn_encode_decode.svg)"
   ]
  },
  {
   "cell_type": "markdown",
   "metadata": {},
   "source": [
    "## Generative Adversarial networks"
   ]
  },
  {
   "cell_type": "code",
   "execution_count": 3,
   "metadata": {},
   "outputs": [
    {
     "data": {
      "text/html": [
       "<iframe width=\"560\" height=\"315\" src=\"https://www.youtube.com/embed/PCBTZh41Ris\" frameborder=\"0\" allowfullscreen></iframe>"
      ],
      "text/plain": [
       "<IPython.core.display.HTML object>"
      ]
     },
     "metadata": {},
     "output_type": "display_data"
    }
   ],
   "source": [
    "display(HTML(\"\"\"<iframe width=\"560\" height=\"315\" src=\"https://www.youtube.com/embed/PCBTZh41Ris\" frameborder=\"0\" allowfullscreen></iframe>\"\"\"))"
   ]
  },
  {
   "cell_type": "markdown",
   "metadata": {},
   "source": [
    "# Recent !Successes #\n",
    "\n",
    "[![Google Translate having issues](../imgs/00_mordor_bbc.png)](http://www.bbc.co.uk/news/technology-35251478)\n",
    "\n",
    "Source: [BBC](http://www.bbc.co.uk/news/technology-35251478)\n",
    "\n",
    "[![Tay having personality issues](../imgs/00_tay_bbc.png)](http://www.bbc.co.uk/news/technology-35902104)\n",
    "\n",
    "Source: [BBC](http://www.bbc.co.uk/news/technology-35902104)"
   ]
  },
  {
   "cell_type": "markdown",
   "metadata": {},
   "source": [
    "## Why is this happening now? ##\n",
    "\n",
    "* Theoretical breakthroughs\n",
    "* Computational power\n",
    "* Data availability"
   ]
  },
  {
   "cell_type": "markdown",
   "metadata": {},
   "source": [
    "## Where do we go from here? ##\n",
    "\n",
    "My biases:\n",
    "\n",
    "* Multi-task learning\n",
    "* Reinforcement learning\n",
    "* Explainable model\n",
    "* Hybrid models"
   ]
  },
  {
   "cell_type": "markdown",
   "metadata": {},
   "source": [
    "## Hardware ##\n",
    "\n",
    "### Paas and IaaS\n",
    "\n",
    "<img src=\"https://blogs-images.forbes.com/louiscolumbus/files/2017/04/growth-of-cloud-computing.jpg\" style=\"float:center; width: 800px\"/>\n",
    "\n",
    "\n",
    "\n",
    "Several Cloud providers are tryng to catch up on is  this market (likely, the bigest *war* of the XXI century ;) ):\n",
    "* [Amazon Web Services](https://aws.amazon.com/es/): the oldest and most experienced one. Amazon [SageMaker](https://aws.amazon.com/es/sagemaker/) is providing an easy to use API for building ML/DL models (on top of Tensorflow and others). AWS holds one third of the market approximately.\n",
    "* [Google Cloud Computing](https://cloud.google.com/): a newcomer to the field, that has disrupted it with the release of TensorFlow as an Open Source project. It's also trying to gain market share with the [Tensor Porcessing Units](https://cloud.google.com/tpu/).\n",
    " * TPUs are available for free at [Google Colab](https://colab.research.google.com)\n",
    " * Some GPUs available for free at [Google Colab too](https://colab.research.google.com/notebooks/gpu.ipynb)\n",
    " * Israel Advice: use Google Colab as much as possible. It is free, and it offers the best hardware for deep learning. And Isra works at Google ;)\n",
    "* [Microsoft Azure](https://azure.microsoft.com/): they have a non-negligible market share within corporations. \n",
    "\n",
    "\n",
    "\n",
    "Regarding GPU providers, NVidia is by far the most well known brand, and the only one fully compatible with Tensorflow:\n",
    "\n",
    "* Best GPU overall (by a small margin): Titan Xp\n",
    "* Cost efficient but expensive: GTX 1080 Ti, GTX 1070, GTX 1080\n",
    "* Cost efficient and cheap:  GTX 1060 (6GB)\n",
    "* I work with data sets > 250GB: GTX Titan X (Maxwell), NVIDIA Titan X Pascal, or NVIDIA Titan Xp\n",
    "* I have little money: GTX 1060 (6GB)\n",
    "* I have almost no money: GTX 1050 Ti (4GB)\n",
    "* I am a researcher: GTX 1080 Ti. In some cases, like natural language processing, a GTX 1070 or GTX 1080 might also be a solid choice — check the memory requirements of your current models\n",
    "* I started deep learning and I am serious about it: Start with a GTX 1060 (6GB). Depending of what area you choose next (startup, Kaggle, research, applied deep learning) sell your GTX 1060 and buy something more appropriate\n",
    "* I want to try deep learning, but I am not serious about it: GTX 1050 Ti (4 or 2GB)\n",
    "\n",
    "[Source](http://timdettmers.com/2017/04/09/which-gpu-for-deep-learning/)"
   ]
  },
  {
   "cell_type": "markdown",
   "metadata": {},
   "source": [
    "## Frameworks ##\n",
    "\n",
    "We will use these two\n",
    "\n",
    "* https://keras.io/\n",
    " * Keras works on top of Tensorflow, as a higher level API\n",
    "* https://www.tensorflow.org/\n",
    " * Recent versions of Tensorflow have a Keras module (tf.keras), that includes the Keras high level API\n",
    " * So in most of the situations, you could just use Tensorflow\n",
    "\n",
    "But there are many more:\n",
    "\n",
    "* https://pytorch.org/\n",
    "* http://caffe.berkeleyvision.org/"
   ]
  }
 ],
 "metadata": {
  "kernelspec": {
   "display_name": "Python 3",
   "language": "python",
   "name": "python3"
  },
  "language_info": {
   "codemirror_mode": {
    "name": "ipython",
    "version": 3
   },
   "file_extension": ".py",
   "mimetype": "text/x-python",
   "name": "python",
   "nbconvert_exporter": "python",
   "pygments_lexer": "ipython3",
   "version": "3.6.6"
  }
 },
 "nbformat": 4,
 "nbformat_minor": 2
}
