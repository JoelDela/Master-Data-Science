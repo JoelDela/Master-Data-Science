{
 "cells": [
  {
   "cell_type": "code",
   "execution_count": 1,
   "metadata": {},
   "outputs": [
    {
     "name": "stdout",
     "output_type": "stream",
     "text": [
      "Populating the interactive namespace from numpy and matplotlib\n"
     ]
    }
   ],
   "source": [
    "%pylab inline\n",
    "plt.style.use('seaborn')"
   ]
  },
  {
   "cell_type": "markdown",
   "metadata": {},
   "source": [
    "We will use this function to plot the metrics of our training process, to help in choosing the best model"
   ]
  },
  {
   "cell_type": "code",
   "execution_count": 2,
   "metadata": {},
   "outputs": [],
   "source": [
    "def plot_metric(history, metric):\n",
    "    history_dict = history.history\n",
    "    values = history_dict[metric]\n",
    "    if 'val_' + metric in history_dict.keys():  \n",
    "        val_values = history_dict['val_' + metric]\n",
    "\n",
    "    epochs = range(1, len(values) + 1)\n",
    "\n",
    "    if 'val_' + metric in history_dict.keys():  \n",
    "        plt.plot(epochs, val_values, label='Validation')\n",
    "    plt.semilogy(epochs, values, label='Training')\n",
    "\n",
    "    if 'val_' + metric in history_dict.keys():  \n",
    "        plt.title('Training and validation %s' % metric)\n",
    "    else:\n",
    "        plt.title('Training %s' % metric)\n",
    "    plt.xlabel('Epochs')\n",
    "    plt.ylabel(metric.capitalize())\n",
    "    plt.legend()\n",
    "    plt.grid()\n",
    "\n",
    "    plt.show()  "
   ]
  },
  {
   "cell_type": "markdown",
   "metadata": {},
   "source": [
    "We will use this function to explore the data"
   ]
  },
  {
   "cell_type": "code",
   "execution_count": 3,
   "metadata": {},
   "outputs": [],
   "source": [
    "def plot_mnist_image(N, imgs, labels):\n",
    "    print(\"The image below should show the number %d\" % labels[N])\n",
    "    plt.imshow(imgs[N,], cmap=plt.cm.binary)\n",
    "    plt.grid(True)"
   ]
  },
  {
   "cell_type": "markdown",
   "metadata": {},
   "source": [
    "# The problem\n",
    "\n",
    "We will recognize handwritten digits. For an image containing a number between 0 and 9, we will recognize the number and will produce an int as output"
   ]
  },
  {
   "cell_type": "code",
   "execution_count": 4,
   "metadata": {},
   "outputs": [
    {
     "name": "stderr",
     "output_type": "stream",
     "text": [
      "Using TensorFlow backend.\n"
     ]
    }
   ],
   "source": [
    "from keras.datasets import mnist"
   ]
  },
  {
   "cell_type": "markdown",
   "metadata": {},
   "source": [
    "Load minst images using the method `load_data()`. Be carefull, as it returns a tuple with the image and the lables"
   ]
  },
  {
   "cell_type": "code",
   "execution_count": 5,
   "metadata": {},
   "outputs": [],
   "source": [
    "train_orig_data, test_orig_data = mnist.load_data()"
   ]
  },
  {
   "cell_type": "code",
   "execution_count": 6,
   "metadata": {},
   "outputs": [],
   "source": [
    "train_imgs, train_labels = train_orig_data\n",
    "test_imgs, test_labels = test_orig_data"
   ]
  },
  {
   "cell_type": "code",
   "execution_count": 7,
   "metadata": {},
   "outputs": [
    {
     "name": "stdout",
     "output_type": "stream",
     "text": [
      "The image below should show the number 2\n"
     ]
    },
    {
     "data": {
      "image/png": "[encoded data removed]",
      "text/plain": [
       "<Figure size 432x288 with 1 Axes>"
      ]
     },
     "metadata": {
      "needs_background": "light"
     },
     "output_type": "display_data"
    }
   ],
   "source": [
    "plot_mnist_image(5, train_imgs, train_labels)"
   ]
  },
  {
   "cell_type": "markdown",
   "metadata": {},
   "source": [
    "## A note on the curse of dimensionality"
   ]
  },
  {
   "cell_type": "markdown",
   "metadata": {},
   "source": [
    "Define a similarity measure. For instance, the [cosine similarity](https://en.wikipedia.org/wiki/Cosine_similarity), that is 1 if vectors are parallel (most similar), and zero if they are perpendicular (lack of correlation)."
   ]
  },
  {
   "cell_type": "code",
   "execution_count": 8,
   "metadata": {},
   "outputs": [],
   "source": [
    "from scipy import spatial\n",
    "\n",
    "def cosine_similarity(img1, img2):\n",
    "    # reshape input matrices as vectors\n",
    "    img1_ = img1.reshape((28*28,))\n",
    "    img2_ = img2.reshape((28*28,))\n",
    "    # normalize input vectors\n",
    "    norm1 = np.sqrt(np.sum(img1_*img1_))\n",
    "    norm2 = np.sqrt(np.sum(img2_*img2_))\n",
    "    img1_ = img1_ / norm1\n",
    "    img2_ = img2_ / norm2\n",
    "    sim = 1 - spatial.distance.cosine(img1_, img2_)    \n",
    "    return sim"
   ]
  },
  {
   "cell_type": "markdown",
   "metadata": {},
   "source": [
    "Check the similarity among two random images, and plot them. Does it make sense?"
   ]
  },
  {
   "cell_type": "code",
   "execution_count": 9,
   "metadata": {},
   "outputs": [
    {
     "data": {
      "text/plain": [
       "0.5521001886778967"
      ]
     },
     "execution_count": 9,
     "metadata": {},
     "output_type": "execute_result"
    }
   ],
   "source": [
    "cosine_similarity(train_imgs[0], train_imgs[1])"
   ]
  },
  {
   "cell_type": "code",
   "execution_count": 14,
   "metadata": {},
   "outputs": [
    {
     "name": "stdout",
     "output_type": "stream",
     "text": [
      "The image below should show the number 5\n"
     ]
    },
    {
     "data": {
      "image/png": "[encoded data removed]",
      "text/plain": [
       "<Figure size 432x288 with 1 Axes>"
      ]
     },
     "metadata": {
      "needs_background": "light"
     },
     "output_type": "display_data"
    },
    {
     "name": "stdout",
     "output_type": "stream",
     "text": [
      "The image below should show the number 0\n"
     ]
    },
    {
     "data": {
      "text/plain": [
       "0.5521001886778967"
      ]
     },
     "execution_count": 14,
     "metadata": {},
     "output_type": "execute_result"
    },
    {
     "data": {
      "image/png": "[encoded data removed]",
      "text/plain": [
       "<Figure size 432x288 with 1 Axes>"
      ]
     },
     "metadata": {
      "needs_background": "light"
     },
     "output_type": "display_data"
    }
   ],
   "source": [
    "plot_mnist_image(0, train_imgs, train_labels)\n",
    "plt.show()\n",
    "plot_mnist_image(1, train_imgs, train_labels)\n",
    "cosine_similarity(train_imgs[0], train_imgs[1])"
   ]
  },
  {
   "cell_type": "markdown",
   "metadata": {},
   "source": [
    "What about the similarity among images of numbers 5?"
   ]
  },
  {
   "cell_type": "code",
   "execution_count": 27,
   "metadata": {},
   "outputs": [
    {
     "data": {
      "text/plain": [
       "0.43828223777079506"
      ]
     },
     "execution_count": 27,
     "metadata": {},
     "output_type": "execute_result"
    }
   ],
   "source": [
    "labels_5 = train_labels == 5\n",
    "imgs_5 = train_imgs[labels_5]\n",
    "\n",
    "distance55 = []\n",
    "index = np.random.randint(0, imgs_5.shape[0], size=1000)\n",
    "for i, img1 in enumerate(imgs_5[index]):\n",
    "    for j, img2 in enumerate(imgs_5[index]):\n",
    "        if j>i: # quitar la diagonal principal y la mitad de datos\n",
    "            distance55.append(cosine_similarity(img1, img2))\n",
    "\n",
    "print(np.mean(np.array(distance55)))\n",
    "plt.hist(distance55)"
   ]
  },
  {
   "cell_type": "code",
   "execution_count": 32,
   "metadata": {},
   "outputs": [
    {
     "name": "stdout",
     "output_type": "stream",
     "text": [
      "0.32556726594441926\n"
     ]
    },
    {
     "data": {
      "text/plain": [
       "(array([  6006.,  40271.,  77439.,  98352., 104565.,  90709.,  57964.,\n",
       "         21466.,   2621.,    107.]),\n",
       " array([0.02007687, 0.11806918, 0.21606149, 0.31405381, 0.41204612,\n",
       "        0.51003843, 0.60803075, 0.70602306, 0.80401537, 0.90200769,\n",
       "        1.        ]),\n",
       " <a list of 10 Patch objects>)"
      ]
     },
     "execution_count": 32,
     "metadata": {},
     "output_type": "execute_result"
    },
    {
     "data": {
      "image/png": "[encoded data removed]",
      "text/plain": [
       "<Figure size 432x288 with 1 Axes>"
      ]
     },
     "metadata": {
      "needs_background": "light"
     },
     "output_type": "display_data"
    }
   ],
   "source": [
    "labels_5 = train_labels == 5\n",
    "imgs_5 = train_imgs[labels_5]\n",
    "\n",
    "labels_1 = train_labels == 1\n",
    "imgs_1 = train_imgs[labels_1]\n",
    "\n",
    "distance51 = []\n",
    "index = np.random.randint(0, imgs_5.shape[0], size=1000)\n",
    "for i, img1 in enumerate(imgs_5[index]):\n",
    "    for j, img2 in enumerate(imgs_1[index]):\n",
    "        if j>i: # quitar la diagonal principal y la mitad de datos\n",
    "            distance51.append(cosine_similarity(img1, img2))\n",
    "\n",
    "print(np.mean(np.array(distance51)))\n",
    "plt.hist(distance51, alpha=.4, bins=10)\n",
    "plt.hist(distance55, alpha=.4)"
   ]
  },
  {
   "cell_type": "markdown",
   "metadata": {},
   "source": [
    "<div class=\"alert alert-success\">\n",
    "As the dimension of our input increases, everything starts looking the same. Distances in high dimensions cannot be used! This is a consequence of the curse of dimensionality.\n",
    "</div>"
   ]
  },
  {
   "cell_type": "markdown",
   "metadata": {},
   "source": [
    "We will design a network that will be able to recognize the number shown at the image (for all the images in the test set)"
   ]
  },
  {
   "cell_type": "markdown",
   "metadata": {},
   "source": [
    "## Data transform\n",
    "\n",
    "We need to change the shape of the data, so it can be fed to the network more easily"
   ]
  },
  {
   "cell_type": "markdown",
   "metadata": {},
   "source": [
    "All the images are 28x28 matrices, with values between 0 and 255. Let's normalize the images, to avoid problems in the numerical computations using large numbers.\n",
    "\n",
    "We will convert the matrix to a vector with 28x28 components, stacking columns on top of each other. This will make the design of the network.\n",
    "* Alternatively, we could add a `Flatten(input_shape=(28,28))` layer to the model"
   ]
  },
  {
   "cell_type": "code",
   "execution_count": 46,
   "metadata": {},
   "outputs": [],
   "source": [
    "# normalizar el dato mediante el max \n",
    "\n",
    "train_imgs_t = train_imgs / train_imgs.max()\n",
    "test_imgs_t = test_imgs / test_imgs.max()\n"
   ]
  },
  {
   "cell_type": "markdown",
   "metadata": {},
   "source": [
    "Because we want to assign a *category* to each image, we need to transform the output to categorical format"
   ]
  },
  {
   "cell_type": "code",
   "execution_count": 47,
   "metadata": {},
   "outputs": [],
   "source": [
    "# convertir con one-hot enconding a una variable categórica\n",
    "from keras.utils import to_categorical\n",
    "\n",
    "train_labels_t = to_categorical(train_labels)\n",
    "test_labels_t = to_categorical(test_labels)"
   ]
  },
  {
   "cell_type": "markdown",
   "metadata": {},
   "source": [
    "Initially, our target data is just a set of numbers"
   ]
  },
  {
   "cell_type": "markdown",
   "metadata": {},
   "source": [
    "## Let's build the model"
   ]
  },
  {
   "cell_type": "code",
   "execution_count": 41,
   "metadata": {},
   "outputs": [],
   "source": [
    "from keras import models\n",
    "from keras import layers\n",
    "from keras import metrics\n",
    "from keras import optimizers\n",
    "from keras import losses"
   ]
  },
  {
   "cell_type": "code",
   "execution_count": 37,
   "metadata": {},
   "outputs": [],
   "source": [
    "def build_model():\n",
    "    m = models.Sequential()\n",
    "    m.add(layers.Flatten(input_shape=(28,28)))\n",
    "    m.add(layers.Dense(512, activation='relu'))\n",
    "    m.add(layers.Dense(256, activation='relu'))\n",
    "    m.add(layers.Dense(10, activation='softmax'))\n",
    "    return m\n",
    "\n",
    "m = build_model()"
   ]
  },
  {
   "cell_type": "markdown",
   "metadata": {},
   "source": [
    "Here we will make some decisions about how to train our model.\n",
    "\n",
    "The **objective function**, called also the **loss function** in Machine Learning, will be *categorical crossentropy*. This is because we are trying to predict discrete classes. If we choose a different function, the solution will be different (take a look at [Keras available losses](https://keras.io/losses/)). This is the function that will tell us when we have found the *solution*. Different functions will point to different *solutions*. The categorical crossentropy for a single observation (exmaple in train, for instance) is defined as:\n",
    "\n",
    "$$-\\sum_{{\\rm category} = 1}^M y_{\\rm category} \\log(\\hat{y}_{\\rm category}).$$\n",
    "\n",
    "Have a look at this [cheatsheet](https://ml-cheatsheet.readthedocs.io/en/latest/loss_functions.html).\n",
    "\n",
    "The **optimizer** is the method that we will use to find the minimum of the **loss function**. In general, we will not find the global minimum of the loss function, but a minimum that is good enough. *RMSProp* is one the variants of gradient descent. But there are many more [availbale in Keras](https://keras.io/optimizers/). We will deep dive into the optimization problem later in this course. \n",
    " \n",
    "These two settings will define the family of solutions we will find during the training process.\n",
    "\n",
    "The other parameter, the **metrics**, is only for information purposes. In each step of the training (called **epoch**), Keras will report the value of the metrics. But whether we choose one metric or another will not influence the training process. It is only for reporting how the training is going. That information will be useful for the validation of the model, that is, for the **hyperparameters tuning**.\n"
   ]
  },
  {
   "cell_type": "code",
   "execution_count": 43,
   "metadata": {},
   "outputs": [],
   "source": [
    "# compile the model\n",
    "m.compile(\n",
    "    optimizer=optimizers.rmsprop(),\n",
    "    loss=losses.categorical_crossentropy,\n",
    "    metrics=[metrics.categorical_accuracy]\n",
    ")"
   ]
  },
  {
   "cell_type": "code",
   "execution_count": 44,
   "metadata": {},
   "outputs": [
    {
     "name": "stdout",
     "output_type": "stream",
     "text": [
      "_________________________________________________________________\n",
      "Layer (type)                 Output Shape              Param #   \n",
      "=================================================================\n",
      "flatten_1 (Flatten)          (None, 784)               0         \n",
      "_________________________________________________________________\n",
      "dense_1 (Dense)              (None, 512)               401920    \n",
      "_________________________________________________________________\n",
      "dense_2 (Dense)              (None, 256)               131328    \n",
      "_________________________________________________________________\n",
      "dense_3 (Dense)              (None, 10)                2570      \n",
      "=================================================================\n",
      "Total params: 535,818\n",
      "Trainable params: 535,818\n",
      "Non-trainable params: 0\n",
      "_________________________________________________________________\n"
     ]
    }
   ],
   "source": [
    "# get the summary\n",
    "m.summary()"
   ]
  },
  {
   "cell_type": "code",
   "execution_count": 48,
   "metadata": {},
   "outputs": [
    {
     "name": "stdout",
     "output_type": "stream",
     "text": [
      "Train on 48000 samples, validate on 12000 samples\n",
      "Epoch 1/30\n",
      "48000/48000 [==============================] - 3s 68us/step - loss: 0.4062 - categorical_accuracy: 0.8765 - val_loss: 0.1774 - val_categorical_accuracy: 0.9469\n",
      "Epoch 2/30\n",
      "48000/48000 [==============================] - 2s 51us/step - loss: 0.1510 - categorical_accuracy: 0.9545 - val_loss: 0.1168 - val_categorical_accuracy: 0.9648\n",
      "Epoch 3/30\n",
      "48000/48000 [==============================] - 2s 51us/step - loss: 0.0989 - categorical_accuracy: 0.9699 - val_loss: 0.0942 - val_categorical_accuracy: 0.9709\n",
      "Epoch 4/30\n",
      "48000/48000 [==============================] - 3s 52us/step - loss: 0.0661 - categorical_accuracy: 0.9800 - val_loss: 0.0858 - val_categorical_accuracy: 0.9737\n",
      "Epoch 5/30\n",
      "48000/48000 [==============================] - 3s 53us/step - loss: 0.0483 - categorical_accuracy: 0.9848 - val_loss: 0.0784 - val_categorical_accuracy: 0.9772\n",
      "Epoch 6/30\n",
      "48000/48000 [==============================] - 3s 54us/step - loss: 0.0350 - categorical_accuracy: 0.9893 - val_loss: 0.1068 - val_categorical_accuracy: 0.9683\n",
      "Epoch 7/30\n",
      "48000/48000 [==============================] - 3s 54us/step - loss: 0.0276 - categorical_accuracy: 0.9916 - val_loss: 0.0888 - val_categorical_accuracy: 0.9762\n",
      "Epoch 8/30\n",
      "48000/48000 [==============================] - 3s 55us/step - loss: 0.0207 - categorical_accuracy: 0.9936 - val_loss: 0.0804 - val_categorical_accuracy: 0.9781\n",
      "Epoch 9/30\n",
      "48000/48000 [==============================] - 3s 58us/step - loss: 0.0153 - categorical_accuracy: 0.9947 - val_loss: 0.0779 - val_categorical_accuracy: 0.9797\n",
      "Epoch 10/30\n",
      "48000/48000 [==============================] - 3s 59us/step - loss: 0.0119 - categorical_accuracy: 0.9964 - val_loss: 0.0884 - val_categorical_accuracy: 0.9792\n",
      "Epoch 11/30\n",
      "48000/48000 [==============================] - 3s 56us/step - loss: 0.0098 - categorical_accuracy: 0.9970 - val_loss: 0.1176 - val_categorical_accuracy: 0.9713\n",
      "Epoch 12/30\n",
      "48000/48000 [==============================] - 3s 58us/step - loss: 0.0085 - categorical_accuracy: 0.9974 - val_loss: 0.0875 - val_categorical_accuracy: 0.9816\n",
      "Epoch 13/30\n",
      "48000/48000 [==============================] - 3s 58us/step - loss: 0.0065 - categorical_accuracy: 0.9978 - val_loss: 0.1101 - val_categorical_accuracy: 0.9756\n",
      "Epoch 14/30\n",
      "48000/48000 [==============================] - 3s 59us/step - loss: 0.0058 - categorical_accuracy: 0.9981 - val_loss: 0.0952 - val_categorical_accuracy: 0.9797\n",
      "Epoch 15/30\n",
      "48000/48000 [==============================] - 3s 58us/step - loss: 0.0054 - categorical_accuracy: 0.9985 - val_loss: 0.0960 - val_categorical_accuracy: 0.9801\n",
      "Epoch 16/30\n",
      "48000/48000 [==============================] - 3s 58us/step - loss: 0.0033 - categorical_accuracy: 0.9991 - val_loss: 0.1185 - val_categorical_accuracy: 0.9778\n",
      "Epoch 17/30\n",
      "48000/48000 [==============================] - 3s 59us/step - loss: 0.0041 - categorical_accuracy: 0.9987 - val_loss: 0.0981 - val_categorical_accuracy: 0.9814\n",
      "Epoch 18/30\n",
      "48000/48000 [==============================] - 3s 59us/step - loss: 0.0036 - categorical_accuracy: 0.9987 - val_loss: 0.1066 - val_categorical_accuracy: 0.9808\n",
      "Epoch 19/30\n",
      "48000/48000 [==============================] - 3s 59us/step - loss: 0.0037 - categorical_accuracy: 0.9990 - val_loss: 0.1078 - val_categorical_accuracy: 0.9806\n",
      "Epoch 20/30\n",
      "48000/48000 [==============================] - 3s 59us/step - loss: 0.0023 - categorical_accuracy: 0.9993 - val_loss: 0.1254 - val_categorical_accuracy: 0.9781\n",
      "Epoch 21/30\n",
      "48000/48000 [==============================] - 3s 60us/step - loss: 0.0029 - categorical_accuracy: 0.9992 - val_loss: 0.1112 - val_categorical_accuracy: 0.9817\n",
      "Epoch 22/30\n",
      "48000/48000 [==============================] - 3s 60us/step - loss: 0.0020 - categorical_accuracy: 0.9995 - val_loss: 0.1190 - val_categorical_accuracy: 0.9808\n",
      "Epoch 23/30\n",
      "48000/48000 [==============================] - 3s 59us/step - loss: 0.0016 - categorical_accuracy: 0.9995 - val_loss: 0.1255 - val_categorical_accuracy: 0.9799\n",
      "Epoch 24/30\n",
      "48000/48000 [==============================] - 3s 59us/step - loss: 0.0019 - categorical_accuracy: 0.9995 - val_loss: 0.1194 - val_categorical_accuracy: 0.9809\n",
      "Epoch 25/30\n",
      "48000/48000 [==============================] - 3s 61us/step - loss: 0.0024 - categorical_accuracy: 0.9993 - val_loss: 0.1297 - val_categorical_accuracy: 0.9802\n",
      "Epoch 26/30\n",
      "48000/48000 [==============================] - 3s 59us/step - loss: 0.0025 - categorical_accuracy: 0.9993 - val_loss: 0.1340 - val_categorical_accuracy: 0.9790\n",
      "Epoch 27/30\n",
      "48000/48000 [==============================] - 3s 60us/step - loss: 0.0023 - categorical_accuracy: 0.9992 - val_loss: 0.1363 - val_categorical_accuracy: 0.9799\n",
      "Epoch 28/30\n",
      "48000/48000 [==============================] - 3s 61us/step - loss: 0.0018 - categorical_accuracy: 0.9994 - val_loss: 0.1335 - val_categorical_accuracy: 0.9806\n",
      "Epoch 29/30\n",
      "48000/48000 [==============================] - 3s 60us/step - loss: 0.0024 - categorical_accuracy: 0.9993 - val_loss: 0.1303 - val_categorical_accuracy: 0.9803\n",
      "Epoch 30/30\n",
      "48000/48000 [==============================] - 3s 61us/step - loss: 0.0019 - categorical_accuracy: 0.9994 - val_loss: 0.1295 - val_categorical_accuracy: 0.9806\n"
     ]
    }
   ],
   "source": [
    "h = m.fit(train_imgs_t,\n",
    "          train_labels_t,\n",
    "          epochs=30,\n",
    "          batch_size=500,\n",
    "          validation_split=.2)"
   ]
  },
  {
   "cell_type": "markdown",
   "metadata": {},
   "source": [
    "Now let's fit the neural network. We will keep the results in a *history* object to plot some parameters after the training, and use that information for improving our model (changing layers, activation functions, etc). This process is called **hyperparameters tuning** or hypeparameters search.\n",
    "\n",
    "Here we need to set two parameters: the number of **epochs** and the **batch size**.\n",
    "\n",
    "In previous cells, I have said that the training process is an optimization problem: we try to find the minimum.\n",
    "\n",
    "That's actually not entirely true. In practice, we don't keep searching for a minimum. Instead, we train for a preset number of epochs. Then we analyze the output using the validation set. If we detect overfit, then we reduce the number of epochs. If we don't detect it, then maybe we can keep going for some more epochs to find a better model. The number of epochs is another hyperparameter. In general, we should stop the training as early as possible. Any further epoch can make our model overfit, and therefore generalize poorly.\n",
    "\n",
    "The batch size is another hyperparameter. The network is not updated item by item, vector by vector. We can actually calculate the weights for a batch of several items, forming a matrix or a tensor. The batch size will affect the granularity of the calculations and the performance. A larger batch size will probably result in a slightly worse accuracy, but in a better performance. As long as the batch size is not so huge that it cannot be kept in memory. Because we are running on a GPU, it is a good idea to use a power of 2 for the batch size. It will probably make a better use of the GPU. But again, the effect of the batch size must be tested using the validation set, and adjusted until we find a good value for that parameter.\n",
    "\n",
    "An epoch is a full pass over the training dataset. At the end of each epoch, Keras will calculate the value of the metrics for the training set, and the loss function and metrics for the validation set. The loss and metrics of the validation set are useful for the hyperparameters tuning process.\n",
    "\n"
   ]
  },
  {
   "cell_type": "code",
   "execution_count": 49,
   "metadata": {},
   "outputs": [
    {
     "data": {
      "image/png": "[encoded data removed]",
      "text/plain": [
       "<Figure size 432x288 with 1 Axes>"
      ]
     },
     "metadata": {
      "needs_background": "light"
     },
     "output_type": "display_data"
    }
   ],
   "source": [
    "plot_metric(h, 'loss')"
   ]
  },
  {
   "cell_type": "code",
   "execution_count": 50,
   "metadata": {},
   "outputs": [
    {
     "data": {
      "image/png": "[encoded data removed]",
      "text/plain": [
       "<Figure size 432x288 with 1 Axes>"
      ]
     },
     "metadata": {
      "needs_background": "light"
     },
     "output_type": "display_data"
    }
   ],
   "source": [
    "plot_metric(h, 'categorical_accuracy')"
   ]
  },
  {
   "cell_type": "markdown",
   "metadata": {},
   "source": [
    "\n",
    "Now let's check how well the model works with the test dataset. Remember that we don't have used it at all during the training and tuning of the model."
   ]
  },
  {
   "cell_type": "markdown",
   "metadata": {},
   "source": [
    "## Analyze the classification performance\n",
    "\n",
    "For this, we will use the model's `evaluation` method. "
   ]
  },
  {
   "cell_type": "code",
   "execution_count": null,
   "metadata": {},
   "outputs": [],
   "source": [
    "loss, acc = m.evaluate(<test images>, <test labels>)"
   ]
  },
  {
   "cell_type": "code",
   "execution_count": null,
   "metadata": {},
   "outputs": [],
   "source": [
    "loss, acc"
   ]
  },
  {
   "cell_type": "markdown",
   "metadata": {},
   "source": [
    "Let's see how well it predicts some random items from the test set."
   ]
  },
  {
   "cell_type": "code",
   "execution_count": null,
   "metadata": {},
   "outputs": [],
   "source": [
    "# plot a random image \n"
   ]
  },
  {
   "cell_type": "markdown",
   "metadata": {},
   "source": [
    "The prediction is a 10-element vector (*1-HOT encoded vector*), with (something like) the probability of each class. The location of the max is giving us the predicted class."
   ]
  },
  {
   "cell_type": "code",
   "execution_count": null,
   "metadata": {},
   "outputs": [],
   "source": [
    "# get the prediction of that same image. This process is what it's called **inference**.\n"
   ]
  },
  {
   "cell_type": "code",
   "execution_count": null,
   "metadata": {},
   "outputs": [],
   "source": [
    "np.argmax(<your prediciton>)"
   ]
  },
  {
   "cell_type": "markdown",
   "metadata": {},
   "source": [
    "## Exercises\n",
    "\n",
    "**EXERCISE 1**: Change the [activation function](https://keras.io/activations/) in the model. How does it affect accuracy? What happens if you use linear activation function? What happens if we use the $\\tanh$ function? Does it affect to overfitting?\n",
    "\n",
    " \n",
    "Here we see that the accuracy keeps increasing over epochs. An overfitted model would produce a decrease of the validation accuracy at some point. This means that we have found an optimal model. The validation loss is stuck at a minimum, but the accuracy is not affected by the extra epochs.\n",
    "\n",
    "_**EXERCISE 2**_: How is the model accuracy affected if we start over and fit for 40 epochs? And for 4? And for 400?\n",
    "\n",
    "_**EXERCISE 4**_: What is the most simple model that you can get that achieves a similar validation performance (accuracy)? (Note that the loss values might not be comparable if we use regularization techniques, change the network architecture, etc.)\n",
    "\n",
    "_**EXERCISE 5**_: Can you find a test item that is predicted wrongly? How many images are predicted wrongly? Can you find all the items that are wrongly classified? \n",
    "\n",
    "_**EXERCISE 6**_: Some digits are more difficult to recognize than others. Because we know the test labels, we can find out how many times the corresponding test images are misclassified. Could you find what are the top 3 test labels that are more often misclassified?"
   ]
  }
 ],
 "metadata": {
  "kernelspec": {
   "display_name": "Python [conda env:ks_dl_course]",
   "language": "python",
   "name": "conda-env-ks_dl_course-py"
  },
  "language_info": {
   "codemirror_mode": {
    "name": "ipython",
    "version": 3
   },
   "file_extension": ".py",
   "mimetype": "text/x-python",
   "name": "python",
   "nbconvert_exporter": "python",
   "pygments_lexer": "ipython3",
   "version": "3.6.6"
  }
 },
 "nbformat": 4,
 "nbformat_minor": 2
}
