{
 "cells": [
  {
   "cell_type": "markdown",
   "metadata": {
    "collapsed": true
   },
   "source": [
    "## Convolutional Neural Networks"
   ]
  },
  {
   "cell_type": "markdown",
   "metadata": {},
   "source": [
    "This notebook introduces the concept of Convolutional Neural Networks (CNN or ConvNets)(LeCun, 1989), one of the most important neural networks architecture that have been succesfully applied to solve many grid-like data based problems, such the ones related with image processing (2D grid of pixels) --image recognition, edge detection, etc-- or the analysis of time series (1D grid).\n",
    "\n",
    "CNNs were inspired by how the visual cortex of human brain works when recognizing objects.\n",
    "Our vision is based on multiple cortex levels, each one recognizing more and\n",
    "more structured information. First, we see single pixels; then we can recognize\n",
    "simple geometric forms. And then... more and more sophisticated elements such as objects and so on.\n",
    "In the same way, CNNs learn meaningful representations of the input data in a compositional and hierarchical way -- any abstract concept is based on simpler concepts!\n",
    "\n",
    "To do that, CNNs make use of three main mechanisms:\n",
    "- **Sparse interactions**. CNNs, which replace at least one of the fully connected layers of a neural network by the convolution operation, have less capacity than a fully connected network. As we need to store fewer parameters, the training is more efficient \n",
    "\n",
    "- **Parameter sharing**. This means that rather than learning a separate set of parameters for every location, we learn only one set.\n",
    "\n",
    "- **Equivariant representation**. As a consequence of parameter sharing, CNNs have the ability to detect the same feature independently from the location where it is placed in the input image\n",
    "\n",
    "In this class, we will dive deep in all these concepts, covering the following topics:\n",
    "\n",
    "- Understanding convolution operations. \n",
    "\n",
    "- Learning about the building blocks of CNN architectures\n",
    "\n",
    "- Implementing deep convolutional neural networks in keras\n"
   ]
  },
  {
   "cell_type": "markdown",
   "metadata": {},
   "source": [
    "## Basics"
   ]
  },
  {
   "cell_type": "markdown",
   "metadata": {},
   "source": [
    "ConvNets are simply neural networks that use the convolutional operation in place of general matrix multiplication in at least one of their layers. As we will see in the next section, convolutions aggregate information from a neighborhood and act as a pattern-matching filters, activating more strongly in response to specific local patterns.\n"
   ]
  },
  {
   "cell_type": "markdown",
   "metadata": {},
   "source": [
    "#### Understanding the convolution operation"
   ]
  },
  {
   "cell_type": "markdown",
   "metadata": {},
   "source": [
    "Let us start developing intuition for the convolution operation in one dimension. Given two functions $x(t)$ and $\\omega(t)$, the (discrete) convolution operation is defined as\n",
    "$$ s( t ) = (x\\ast\\omega)(t) = \\sum_a x ( a ) \\omega ( t - a )$$\n",
    "\n",
    "An equivalent form of this operation given the commutativity of the convolution operation is as follows:\n",
    "$$ s( t ) = \\sum_a x ( t - a ) \\omega ( a )$$\n",
    "\n",
    "Furthermore, the negative sign (flipping) can be replaced to get cross-correlation given as follows:\n",
    "$$ s ( t ) = \\sum_a x ( t + a ) \\omega ( a )$$\n",
    "*In the machine learning community, both operators (convolutions and cross-correlations) are used interchangeably.*\n",
    "\n",
    "From the above equations, convolutions can be seen as a weighted sum of $x(t)$, with weights controlled by the $\\omega(t)$ function -- weights depends on the distance between any $t$ and the output point. That is, the output point summarizes information about the value of $x(t)$ across the function’s full domain, but it does so according to how far away these points are from it. \n",
    "\n",
    "![Alt text](../imgs/13_CNN_convgaus.gif)\n",
    "\n",
    "*The green curve shows the convolution of the blue and red curves as a function of t, the position indicated by the vertical green line. The gray region indicates the product g(tau)f(t-tau) as a function of t, so its area as a function of t is precisely the convolution.*\n",
    "\n",
    "Formally, a convolution is an operation on two real functions. The first argument $x$ is referred as the input, and the second argument $\\omega$ as the kernel. The output is referred as the feature map. In two dimensions, we have the following expression::\n",
    "\n",
    "$$ S(i, j) = (X\\ast W)(i, j) = \\sum_m \\sum_n X(m,n) W (i-m, j-n)$$\n",
    "\n",
    "![Alt text](../imgs/13_CNN_convolution.gif)\n",
    "\n",
    "*Note that convolution is equivalent to converting both the input and the kernel to the frequency domain using a Fourier transform, performing point-wise multiplication of the two signals, and converting back to the time domain using an inverseFourier transform.*"
   ]
  },
  {
   "cell_type": "markdown",
   "metadata": {},
   "source": [
    "Ex: Define a function that implements the convolutional operator."
   ]
  },
  {
   "cell_type": "code",
   "execution_count": null,
   "metadata": {},
   "outputs": [],
   "source": [
    "import numpy as np\n",
    "mtx = np.array([[1,2,4],[2,1,0]])\n",
    "r,c = mtx.shape\n",
    "mtx[0,0]"
   ]
  },
  {
   "cell_type": "code",
   "execution_count": null,
   "metadata": {},
   "outputs": [],
   "source": [
    "1//4"
   ]
  },
  {
   "cell_type": "code",
   "execution_count": null,
   "metadata": {},
   "outputs": [],
   "source": [
    "mtx_input[:-2,:-1] * mtx_kernel"
   ]
  },
  {
   "cell_type": "code",
   "execution_count": null,
   "metadata": {},
   "outputs": [],
   "source": [
    "import numpy as np\n",
    "\n",
    "def convolve2d(input_, kernel): \n",
    "    \n",
    "    rows_input, cols_input = input_.shape\n",
    "    rows_kernel, cols_kernel = kernel.shape\n",
    "    cols_out = cols_input - cols_kernel\n",
    "    rows_out = rows_input - rows_kernel\n",
    "    mtx = np.zeros(shape=(rows_out, cols_out))\n",
    "    \n",
    "    print(mtx.shape)\n",
    "    \n",
    "    for i,row in enumerate(range(0,rows_out)):\n",
    "        for j,col in enumerate(range(0,cols_out)):\n",
    "            \n",
    "            mtx_aux = input_[row:row+rows_kernel, col:cols_kernel]\n",
    "            \n",
    "            assert mtx_aux.shape == kernel.shape, 'Different shapes for mtx_aux and kernel'\n",
    "                   \n",
    "            mtx[row,col] = np.sum(mtx_aux * kernel)\n",
    "            \n",
    "    return mtx\n",
    "\n",
    "def convolve2d_stride(input_, kernel, stride):\n",
    "    input_shape = input_.shape\n",
    "    kernel_shape = kernel.shape\n",
    "    output_shape = np.array([input_shape[0] - kernel_shape[0],\n",
    "                    input_shape[1] - kernel_shape[1]]) // stride \n",
    "    output_shape = output_shape + 1 if stride > 1 else output_shape\n",
    "    output = np.zeros(output_shape)  \n",
    "    for i, x in enumerate(range(0, input_shape[0] - kernel_shape[0], stride)):     \n",
    "        for j, y in enumerate(range(0, input_shape[1] - kernel_shape[1], stride)):\n",
    "            m = input_[x:x + kernel_shape[0], \n",
    "                       y:y + kernel_shape[1]]\n",
    "            output[i, j] = np.sum(m * kernel)        \n",
    "    return output\n",
    "\n",
    "mtx_input = np.array([[1,2,3,4],[1,4,2,3],[3,3,4,0],[0,0,3,4]])\n",
    "mtx_kernel = np.array([[1,2],[2,3]])\n",
    "\n",
    "convolve2d_stride(mtx_input, mtx_kernel,2)"
   ]
  },
  {
   "cell_type": "markdown",
   "metadata": {},
   "source": [
    "Import an image:"
   ]
  },
  {
   "cell_type": "code",
   "execution_count": null,
   "metadata": {},
   "outputs": [],
   "source": [
    "%matplotlib inline\n",
    "import matplotlib.pyplot as plt\n",
    "from skimage import io, color\n",
    "from skimage import exposure"
   ]
  },
  {
   "cell_type": "code",
   "execution_count": null,
   "metadata": {},
   "outputs": [],
   "source": [
    "def load_image(path):\n",
    "    # Load the image\n",
    "    img = io.imread(path)    \n",
    "    # Convert the image to grayscale (1 channel)\n",
    "    img = color.rgb2gray(img)      \n",
    "    return img\n",
    "\n",
    "# load_image('./training_input/63400.jpg')"
   ]
  },
  {
   "cell_type": "markdown",
   "metadata": {},
   "source": [
    "Run the convolution. What happens with the figure? Try with other kernels (`np.array([[0,-1,0],[-1,5,-1],[0,-1,0]])`, for example)"
   ]
  },
  {
   "cell_type": "code",
   "execution_count": null,
   "metadata": {},
   "outputs": [],
   "source": [
    "import warnings\n",
    "\n",
    "def run(image_path, stride, kernel=np.array([[-1,-1,-1],[-1,8,-1],[-1,-1,-1]])):\n",
    "    img = load_image(image_path)\n",
    "    edges = convolve2d_stride(img, kernel, stride)\n",
    "    # Adjust the contrast of the filtered image by applying Histogram Equalization\n",
    "    with warnings.catch_warnings():\n",
    "        warnings.simplefilter(\"ignore\")\n",
    "        edges_equalized = exposure.equalize_adapthist(edges/np.max(np.abs(edges)), clip_limit=0.03)\n",
    "        plt.imshow(edges_equalized, cmap=plt.cm.gray)    \n",
    "        plt.axis('off')\n",
    "        plt.show()\n",
    "        \n",
    "run('./training_input/63400.jpg', 2)"
   ]
  },
  {
   "cell_type": "code",
   "execution_count": null,
   "metadata": {},
   "outputs": [],
   "source": [
    "#run with kernel np.array([[-1,-1,-1],[-1,8,-1],[-1,-1,-1]])) "
   ]
  },
  {
   "cell_type": "code",
   "execution_count": null,
   "metadata": {},
   "outputs": [],
   "source": [
    "#run with kernel np.array([[1,1,1],[1,1,1],[1,1,1]])/9.0"
   ]
  },
  {
   "cell_type": "code",
   "execution_count": null,
   "metadata": {},
   "outputs": [],
   "source": [
    "#run with kernel np.array([[0,-1,0],[-1,5,-1],[0,-1,0]])"
   ]
  },
  {
   "cell_type": "markdown",
   "metadata": {},
   "source": [
    "#### Variants of the basic Convolution Function"
   ]
  },
  {
   "cell_type": "markdown",
   "metadata": {},
   "source": [
    "#### Striding"
   ]
  },
  {
   "cell_type": "markdown",
   "metadata": {},
   "source": [
    "Sometimes we could be interested in downsampling the output of the convolution function. In such a case, the computational cost associated with the convolutional operation would be reduced at the expense of not extracting the feature as finely as possible.\n",
    "\n",
    "One way of accomplishing this is by using a stride $s$. The stride means that we are going to sample only every $s$ pixels in each direction in the output:\n",
    "\n",
    "$$ S(i, j) = (X\\ast W)(i, j) = \\sum_m \\sum_n X_{(i-1)s + m, (j-1)s + n} W_{m, n}$$\n",
    "\n",
    "![Alt text](../imgs/13_CNN_striding.gif) \n",
    "\n",
    "\n",
    "For instance, a stride of 2 means picking slides 2 pixels apart, skipping every other slide in the process, downsizing by roughly a factor of 2.\n",
    "\n"
   ]
  },
  {
   "cell_type": "markdown",
   "metadata": {},
   "source": [
    "Ex. Change the convolution function to include the stride parameter."
   ]
  },
  {
   "cell_type": "code",
   "execution_count": null,
   "metadata": {},
   "outputs": [],
   "source": [
    "def convolve2d_stride(input_, kernel, stride): \n",
    "    return "
   ]
  },
  {
   "cell_type": "code",
   "execution_count": null,
   "metadata": {},
   "outputs": [],
   "source": [
    "def run_stride(image_path, kernel=np.array([[-1,-1,-1],[-1,8,-1],[-1,-1,-1]]), stride=2):\n",
    "    return"
   ]
  },
  {
   "cell_type": "code",
   "execution_count": null,
   "metadata": {},
   "outputs": [],
   "source": [
    "# run_stride, with stride = 4"
   ]
  },
  {
   "cell_type": "code",
   "execution_count": null,
   "metadata": {},
   "outputs": [],
   "source": [
    "# run_stride, with stride = 10"
   ]
  },
  {
   "cell_type": "markdown",
   "metadata": {},
   "source": [
    "#### Padding"
   ]
  },
  {
   "cell_type": "markdown",
   "metadata": {
    "collapsed": true
   },
   "source": [
    "Have a look at the following convolution animation:\n",
    "\n",
    "![Alt text](../imgs/13_CNN_conv_.gif)\n",
    "\n",
    "What happens with the dimension of the feature matrix?\n",
    "Yes, she is reduced from a 5×5 dimension to a 3×3 one. This isn’t ideal, as often we’d like the size of the output to equal the input.\n",
    " \n",
    "![Alt text](../imgs/13_CNN_padding.gif) \n",
    " \n",
    " \n",
    "Padding allows us to solve this problem easily. In essence, this technique pad the edges with extra, “fake” pixels (usually of value 0). \n",
    "In other words, padding defines how the border of a sample is handled. A padded convolution will keep the spatial output dimensions equal to the input, whereas unpadded convolutions will crop away some of the borders if the kernel is larger than 1."
   ]
  },
  {
   "cell_type": "markdown",
   "metadata": {},
   "source": [
    "Ex. Add padding funcionality to the prevoius convolve2d_stride function:"
   ]
  },
  {
   "cell_type": "code",
   "execution_count": null,
   "metadata": {},
   "outputs": [],
   "source": [
    "def convolve2d_stride_padding(input_, kernel, stride, padding):   \n",
    "    return "
   ]
  },
  {
   "cell_type": "code",
   "execution_count": null,
   "metadata": {},
   "outputs": [],
   "source": [
    "def run_stride_padding(image_path, kernel=np.array([[-1,-1,-1],[-1,8,-1],[-1,-1,-1]]), \n",
    "                       stride=2, padding=2):\n",
    "    return"
   ]
  },
  {
   "cell_type": "code",
   "execution_count": null,
   "metadata": {},
   "outputs": [],
   "source": [
    "# run_stride_padding"
   ]
  },
  {
   "cell_type": "markdown",
   "metadata": {},
   "source": [
    "### Building Blocks of CNNs"
   ]
  },
  {
   "cell_type": "markdown",
   "metadata": {},
   "source": [
    "After the input layer, Convnets mainly consist of stacks of convolution and max-pooling layers. This two elements are responsible for extracting features from the input and ususally repeats as a block several times to increase the depth of a CNN."
   ]
  },
  {
   "cell_type": "markdown",
   "metadata": {},
   "source": [
    "#### Convolutional layer"
   ]
  },
  {
   "cell_type": "markdown",
   "metadata": {},
   "source": [
    "As it said before, convolutional layers are the key feature layers that makes CNNs different from other ordinary neural networks, and are characterized for applying a convolution operation to the input, passing the result (after activated) to the next layer. In keras, we call a convolutional layer as follows:"
   ]
  },
  {
   "cell_type": "markdown",
   "metadata": {},
   "source": [
    "```\n",
    "keras.layers.Conv2D(filters, kernel_size, strides=(1, 1), padding='valid', data_format=None, dilation_rate=(1, 1), activation=None, use_bias=True, kernel_initializer='glorot_uniform', bias_initializer='zeros', kernel_regularizer=None, bias_regularizer=None, activity_regularizer=None, kernel_constraint=None, bias_constraint=None)\n",
    "```"
   ]
  },
  {
   "cell_type": "markdown",
   "metadata": {},
   "source": [
    "__Note__: In Keras there are two options for padding: same or valid. Same means we pad with the number on the edge and valid means no padding"
   ]
  },
  {
   "cell_type": "markdown",
   "metadata": {},
   "source": [
    "#### Pooling"
   ]
  },
  {
   "cell_type": "markdown",
   "metadata": {
    "collapsed": true
   },
   "source": [
    "Pooling operation replaces the output of the net at a certain location with a summary statistic of the nearby outputs. \n",
    "As a consequence, pooling helps to make the representation approximately invariant to small translations of the input. \n",
    "\n",
    "Mainly there are two types of pooling:\n",
    "\n",
    "- **max-pooling**: returns the maximum output within a rectangular neighborhood. In keras we invoke max-pooling using the next command:\n",
    "```\n",
    "keras.layers.MaxPooling2D(pool_size=(2, 2), strides=None, padding='valid', data_format=None)\n",
    "```\n",
    "\n",
    "- **average-pooling**: computes the average of a neighborhood. Keras implements average pooling in the function:\n",
    "```\n",
    "keras.layers.AveragePooling2D(pool_size=(2, 2), strides=None, padding='valid', data_format=None)\n",
    "```\n",
    "\n",
    "![Alt text](../imgs/13_CNN_pooling_layer_.jpeg)"
   ]
  },
  {
   "cell_type": "markdown",
   "metadata": {},
   "source": [
    "### Implementing CNNs in Keras"
   ]
  },
  {
   "cell_type": "markdown",
   "metadata": {},
   "source": [
    "With all the previous ideas in mind, let's practice and play around with CNNs to solve some common images' problems. Let's start with MNIST."
   ]
  },
  {
   "cell_type": "markdown",
   "metadata": {},
   "source": [
    "#### MNIST"
   ]
  },
  {
   "cell_type": "markdown",
   "metadata": {
    "collapsed": true
   },
   "source": [
    "As all of you probably know, this data set consists of handwritten digits (60,000 training examples and 10,000 test\n",
    "examples). The task at hand is to predict the digit given the image, so this is a multiclassifcation problem with ten classes."
   ]
  },
  {
   "cell_type": "markdown",
   "metadata": {},
   "source": [
    "Ex. Import and load the data using `keras.datasets.mnist.load_data()`."
   ]
  },
  {
   "cell_type": "code",
   "execution_count": 1,
   "metadata": {},
   "outputs": [
    {
     "name": "stderr",
     "output_type": "stream",
     "text": [
      "Using TensorFlow backend.\n"
     ]
    }
   ],
   "source": [
    "#MNIST\n",
    "from keras.datasets import mnist\n",
    "from keras.utils import np_utils\n",
    "\n",
    "#load X_train, y_train, X_test, y_test and plot 4 images using plt.imshow()\n",
    "(x_train, y_train), (x_test, y_test) = mnist.load_data()"
   ]
  },
  {
   "cell_type": "code",
   "execution_count": null,
   "metadata": {},
   "outputs": [],
   "source": []
  },
  {
   "cell_type": "markdown",
   "metadata": {},
   "source": [
    "Do a one-hot encoding and normalize the images:"
   ]
  },
  {
   "cell_type": "code",
   "execution_count": 2,
   "metadata": {},
   "outputs": [],
   "source": [
    "# Normalize X_train, X_test\n",
    "x_train = x_train.reshape(x_train.shape[0], 28, 28, 1)\n",
    "x_train = x_train.astype('float32')\n",
    "x_train /= 255\n",
    "\n",
    "x_test = x_test.reshape(x_test.shape[0], 28, 28, 1)\n",
    "x_test = x_test.astype('float32')\n",
    "x_test /= 255\n",
    "\n",
    "# Convert Ytrain, Y_test to one-hot . Use np_utils.to_categorical\n",
    "num_classes = 10\n",
    "y_train = np_utils.to_categorical(y_train, num_classes)\n",
    "y_test = np_utils.to_categorical(y_test, num_classes)\n"
   ]
  },
  {
   "cell_type": "code",
   "execution_count": 3,
   "metadata": {},
   "outputs": [
    {
     "name": "stdout",
     "output_type": "stream",
     "text": [
      "(60000, 28, 28, 1)\n"
     ]
    }
   ],
   "source": [
    "print(x_train.shape)"
   ]
  },
  {
   "cell_type": "markdown",
   "metadata": {},
   "source": [
    "Implement a CNN following these main points:\n",
    "1.\tnetwork structure: two convolution (RELU) + a max pooling layer + two layer fully connected\n",
    "2.\tkernel' size = 3 × 3.\n",
    "3.\tThe pooling operation is done over sections of dimensionality 2 × 2.\n",
    "4.  Set dropout parameter to 0.25\n",
    "5.\tApply softmax in the output layer; relu in other case\n",
    "6.  Set the loss function as categorical entropy\n",
    "7.\tUse adadelta "
   ]
  },
  {
   "cell_type": "code",
   "execution_count": 4,
   "metadata": {},
   "outputs": [
    {
     "name": "stdout",
     "output_type": "stream",
     "text": [
      "_________________________________________________________________\n",
      "Layer (type)                 Output Shape              Param #   \n",
      "=================================================================\n",
      "conv2d_1 (Conv2D)            (None, 26, 26, 32)        320       \n",
      "_________________________________________________________________\n",
      "max_pooling2d_1 (MaxPooling2 (None, 13, 13, 32)        0         \n",
      "_________________________________________________________________\n",
      "flatten_1 (Flatten)          (None, 5408)              0         \n",
      "_________________________________________________________________\n",
      "dense_1 (Dense)              (None, 128)               692352    \n",
      "_________________________________________________________________\n",
      "dense_2 (Dense)              (None, 10)                1290      \n",
      "=================================================================\n",
      "Total params: 693,962\n",
      "Trainable params: 693,962\n",
      "Non-trainable params: 0\n",
      "_________________________________________________________________\n"
     ]
    }
   ],
   "source": [
    "from keras.models import Sequential\n",
    "from keras.layers import Dense, Dropout, Activation, Flatten\n",
    "from keras.layers import Conv2D, MaxPooling2D\n",
    "\n",
    "#CNN\n",
    "model = Sequential()\n",
    "model.add(Conv2D(filters=32, input_shape=(28,28,1), activation='relu', kernel_size=(3,3)))\n",
    "model.add(MaxPooling2D(pool_size=(2, 2)))\n",
    "model.add(Flatten())\n",
    "model.add(Dense(128, activation='relu'))\n",
    "model.add(Dense(10, activation='softmax'))\n",
    "model.summary()\n"
   ]
  },
  {
   "cell_type": "markdown",
   "metadata": {},
   "source": [
    "Train and evaluate the model:"
   ]
  },
  {
   "cell_type": "code",
   "execution_count": 6,
   "metadata": {},
   "outputs": [
    {
     "name": "stdout",
     "output_type": "stream",
     "text": [
      "Epoch 1/5\n",
      "60000/60000 [==============================] - 18s 308us/step - loss: 0.0100\n",
      "Epoch 2/5\n",
      "60000/60000 [==============================] - 18s 306us/step - loss: 0.0076\n",
      "Epoch 3/5\n",
      "60000/60000 [==============================] - 19s 322us/step - loss: 0.0061\n",
      "Epoch 4/5\n",
      "60000/60000 [==============================] - 19s 318us/step - loss: 0.0046\n",
      "Epoch 5/5\n",
      "60000/60000 [==============================] - 19s 311us/step - loss: 0.0037\n"
     ]
    }
   ],
   "source": [
    "# Compilation\n",
    "model.compile(optimizer='adadelta', loss='categorical_crossentropy')\n",
    "\n",
    "# Training\n",
    "history = model.fit(x_train, y_train, batch_size=128, epochs=5)\n",
    "# Evaluation"
   ]
  },
  {
   "cell_type": "markdown",
   "metadata": {},
   "source": [
    "Plot a random sample of 10 test images, their predicted labels and ground truth\n",
    "\n"
   ]
  },
  {
   "cell_type": "code",
   "execution_count": 11,
   "metadata": {},
   "outputs": [
    {
     "data": {
      "image/png": "[encoded data removed]",
      "text/plain": [
       "<Figure size 1440x576 with 15 Axes>"
      ]
     },
     "metadata": {},
     "output_type": "display_data"
    }
   ],
   "source": [
    "import matplotlib.pyplot as plt\n",
    "import numpy as np\n",
    "%matplotlib inline\n",
    "\n",
    "x_hat = model.predict(x_test)\n",
    "\n",
    "figure = plt.figure(figsize=(20, 8))\n",
    "for i, index in enumerate(np.random.choice(x_test.shape[0], size=15, replace=False)):\n",
    "    ax = figure.add_subplot(3, 5, i + 1, xticks=[], yticks=[])\n",
    "    # Display each image\n",
    "    ax.imshow(np.squeeze(x_test[index]), cmap=plt.get_cmap('gray'))\n",
    "    predict_index = np.argmax(x_hat[index])\n",
    "    true_index = np.argmax(y_test[index])\n",
    "    # Set the title for each image\n",
    "    ax.set_title(\"{} ({})\".format(true_index, predict_index),\n",
    "                                  color=(\"green\" if predict_index == true_index else \"red\"))"
   ]
  },
  {
   "cell_type": "code",
   "execution_count": null,
   "metadata": {},
   "outputs": [],
   "source": []
  },
  {
   "cell_type": "markdown",
   "metadata": {},
   "source": [
    "Ex. Visualize the weights of the first 15 filters of the first layer, and save them in a list called 'filters':"
   ]
  },
  {
   "cell_type": "code",
   "execution_count": 12,
   "metadata": {},
   "outputs": [
    {
     "data": {
      "image/png": "[encoded data removed]",
      "text/plain": [
       "<Figure size 1440x576 with 15 Axes>"
      ]
     },
     "metadata": {},
     "output_type": "display_data"
    }
   ],
   "source": [
    "# Visualize weights\n",
    "figure = plt.figure(figsize=(20, 8))\n",
    "filters = []\n",
    "for i, index in enumerate(range(15)):\n",
    "    ax = figure.add_subplot(3, 5, i + 1, xticks=[], yticks=[])\n",
    "    top_layer = model.layers[0]\n",
    "    plt.imshow(top_layer.get_weights()[0][:, :, :, i].squeeze(), cmap='gray')\n",
    "    filters.append(top_layer.get_weights()[0][:, :, :, i].squeeze())"
   ]
  },
  {
   "cell_type": "code",
   "execution_count": null,
   "metadata": {},
   "outputs": [],
   "source": []
  },
  {
   "cell_type": "markdown",
   "metadata": {},
   "source": [
    "Ex: Apply the filters to a test image using convolve2d function (defined at the beginning of the notebook). What do you observe?"
   ]
  },
  {
   "cell_type": "code",
   "execution_count": null,
   "metadata": {},
   "outputs": [],
   "source": []
  },
  {
   "cell_type": "markdown",
   "metadata": {},
   "source": [
    "As you can see, each filter has learned to activate optimally for different features of the image. In particular they usually act as edge detectors and color filters. We will continue this discussion later on with the VGG16 architecture.\n"
   ]
  },
  {
   "cell_type": "markdown",
   "metadata": {},
   "source": [
    "Ex. Break CAPCTHA system with the help of CNNs (see corresponding notebook).\n"
   ]
  },
  {
   "cell_type": "markdown",
   "metadata": {},
   "source": [
    "#### CIFAR-10"
   ]
  },
  {
   "cell_type": "markdown",
   "metadata": {
    "collapsed": true
   },
   "source": [
    "On the other hand, CIFAR-10 dataset contains 60,000 color images of 32 x 32 pixels in 3 channels divided\n",
    "into 10 classes. Each class contains 6,000 images. The training set contains 50,000 images,\n",
    "while the test sets provides 10,000 images"
   ]
  },
  {
   "cell_type": "markdown",
   "metadata": {},
   "source": [
    "Load CIFAR data set using `keras.datasets.cifar10.load_data()`:"
   ]
  },
  {
   "cell_type": "code",
   "execution_count": null,
   "metadata": {},
   "outputs": [],
   "source": [
    "from keras.datasets import cifar10\n",
    "\n",
    "#load dataset\n",
    "(X_train, y_train), (X_test, y_test) = cifar10.load_data()\n",
    "print('X_train shape:', X_train.shape)\n",
    "print(X_train.shape[0], 'train samples')\n",
    "print(X_test.shape[0], 'test samples')\n",
    "\n",
    "# plot 4 images as gray scale\n",
    "plt.subplot(221)\n",
    "plt.imshow(X_train[0], cmap=plt.get_cmap('gray'))\n",
    "plt.subplot(222)\n",
    "plt.imshow(X_train[1], cmap=plt.get_cmap('gray'))\n",
    "plt.subplot(223)\n",
    "plt.imshow(X_train[2], cmap=plt.get_cmap('gray'))\n",
    "plt.subplot(224)\n",
    "plt.imshow(X_train[3], cmap=plt.get_cmap('gray'))\n",
    "# show the plot\n",
    "plt.show()"
   ]
  },
  {
   "cell_type": "markdown",
   "metadata": {},
   "source": [
    "Do a one-hot encoding and normalize the images:"
   ]
  },
  {
   "cell_type": "code",
   "execution_count": null,
   "metadata": {},
   "outputs": [],
   "source": [
    "#float and normalization (X_train, X_test)\n",
    "#Convert to categorical (Y_train, Y_test)"
   ]
  },
  {
   "cell_type": "markdown",
   "metadata": {},
   "source": [
    "Implement the model according to the following rules:\n",
    "1. Conv layer with 32 filters, each of which with a 3 x 3 size. \n",
    "2. The output dimension is the same one of the input shape, so it will be 32 x 32 and activation is ReLU,\n",
    "3.  After that we have a max-pooling operation with pool size 2 x 2 and a dropout at 25%\n",
    "4. Add a dense network with 512 units and ReLU activation followed by a dropout at 50% and by a softmax layer with 10 classes as output, one for each category"
   ]
  },
  {
   "cell_type": "code",
   "execution_count": null,
   "metadata": {},
   "outputs": [],
   "source": [
    "from keras.optimizers import RMSprop\n",
    "#Network\n"
   ]
  },
  {
   "cell_type": "markdown",
   "metadata": {
    "collapsed": true
   },
   "source": [
    "Train and run the model. What is the accuracy level?"
   ]
  },
  {
   "cell_type": "code",
   "execution_count": null,
   "metadata": {},
   "outputs": [],
   "source": []
  },
  {
   "cell_type": "markdown",
   "metadata": {},
   "source": [
    "Ex. Visualize the feature maps learned by the conv layer"
   ]
  },
  {
   "cell_type": "code",
   "execution_count": null,
   "metadata": {},
   "outputs": [],
   "source": [
    "from keras import backend as K\n",
    "\n",
    "def layer_to_visualize(layer):\n",
    "    inputs = [K.learning_phase()] + model.inputs\n",
    "\n",
    "    _convout1_f = K.function(inputs, [layer.output])\n",
    "    def convout1_f(X):\n",
    "        # The [0] is to disable the training phase flag\n",
    "        return _convout1_f([0] + [X])\n",
    "\n",
    "    convolutions = convout1_f(img_to_visualize)\n",
    "    convolutions = np.squeeze(convolutions)\n",
    "\n",
    "    print ('Shape of conv:', convolutions.shape)\n",
    "    \n",
    "    n = convolutions.shape[0]\n",
    "    n = int(np.ceil(np.sqrt(n)))\n",
    "    \n",
    "    # Visualization of each filter of the layer\n",
    "    fig = plt.figure(figsize=(20,8))\n",
    "    for i in range(len(convolutions)):\n",
    "        ax = fig.add_subplot(n,n,i+1)\n",
    "        ax.imshow(convolutions[i], cmap=plt.get_cmap('gray'))"
   ]
  },
  {
   "cell_type": "code",
   "execution_count": null,
   "metadata": {},
   "outputs": [],
   "source": [
    "index = 2\n",
    "plt.imshow(X_train[index], cmap=plt.get_cmap('gray'))\n",
    "plt.show()\n",
    "img_to_visualize = X_train[index]\n",
    "img_to_visualize = np.expand_dims(img_to_visualize, axis=0)\n",
    "\n",
    "layer_dict = dict([(layer.name, layer) for layer in model.layers])\n",
    "layer_to_visualize(layer_dict['conv2d_3'])"
   ]
  },
  {
   "cell_type": "markdown",
   "metadata": {},
   "source": [
    "### Going Deep"
   ]
  },
  {
   "cell_type": "markdown",
   "metadata": {},
   "source": [
    "In this section we will discuss two classical, commonly used architectures for convolutional networks: VGG16 and LENET5. As you'll see, these deep CNN architectures apply successively convolutional layers to the input, periodically downsampling the spatial dimensions while increasing the number of feature maps. In essence, we can view these deep arquitectures as rich feature extractors and as a schemes that allows for more efficient learning.\n",
    "\n",
    "Find more detail about deep CNN architectures in the following links:"
   ]
  },
  {
   "cell_type": "markdown",
   "metadata": {},
   "source": [
    "#### Deep CNNs Architectures"
   ]
  },
  {
   "cell_type": "markdown",
   "metadata": {},
   "source": [
    "1. [VGG](https://arxiv.org/pdf/1409.1556.pdf)\n",
    "2. [LENET5](http://yann.lecun.com/exdb/publis/pdf/lecun-01a.pdf)\n",
    "3. [AlexNet](https://papers.nips.cc/paper/4824-imagenet-classification-with-deep-convolutional-neural-networks.pdf)\n",
    "4. [GoogleNet/Inceptionv1](https://arxiv.org/pdf/1409.4842.pdf)\n",
    "5. [Inceptionv3](https://arxiv.org/pdf/1512.00567.pdf)\n",
    "6. [ResNet](https://www.cv-foundation.org/openaccess/content_cvpr_2016/papers/He_Deep_Residual_Learning_CVPR_2016_paper.pdf)\n"
   ]
  },
  {
   "cell_type": "markdown",
   "metadata": {},
   "source": [
    "### Use case: Recognizing cats with a VGG-16 net"
   ]
  },
  {
   "cell_type": "markdown",
   "metadata": {},
   "source": [
    "VGG-16 consists of 16 convolutional layers and has a total of about 138 million parameters. All conv layers are 3x3 filters with stride 1 and always use the SAME padding. Max polling layers are 2 by 2 with a strid of 2. \n",
    "\n",
    "Have a look at her architecture:"
   ]
  },
  {
   "cell_type": "markdown",
   "metadata": {},
   "source": [
    "\n",
    "![Alt text](../imgs/13_CNN_vgg16.png)\n",
    "![Alt text](../imgs/13_CNN_vgg_conf.png)\n",
    "*VGGNet achieved excellent results on the ILSVRC-2014 (ImageNet competition) getting the top-5 accuracy (92.3 %) on ImageNet*"
   ]
  },
  {
   "cell_type": "markdown",
   "metadata": {},
   "source": [
    "Ex.- Derive the total number of parameters (take D configuration):"
   ]
  },
  {
   "cell_type": "markdown",
   "metadata": {},
   "source": [
    "Ex: Implement VGG16 architecture:"
   ]
  },
  {
   "cell_type": "code",
   "execution_count": null,
   "metadata": {},
   "outputs": [],
   "source": [
    "from keras.layers import ZeroPadding2D\n",
    "from keras.optimizers import SGD\n",
    "\n",
    "#define a VGG16 network\n",
    "# input \n",
    "input_layer = Input(shape=(224, 224, 3, 1)), dtype='float32')\n",
    "\n",
    "# 3x3\n",
    "c = Conv2D(filters=16, kernel_size=(3,3), padding='same', activation='relu')(c) \n",
    "c = MaxPooling2D(pool_size=(2,2))(c)\n",
    "c = Conv2D(16, (3,3), padding='same', activation='relu')(c) \n",
    "c = MaxPooling2D(pool_size=(2,2))(c)\n",
    "c = Conv2D(16, (3,3), padding='same', activation='relu')(c) \n",
    "c = MaxPooling2D(pool_size=(2,2))(c)\n",
    "c = Dense(16, activation='relu')(c) \n",
    "x0_conc = Dense(10, activation='softmax')(c)"
   ]
  },
  {
   "cell_type": "markdown",
   "metadata": {},
   "source": [
    "Check your implementation with the one provided by keras:"
   ]
  },
  {
   "cell_type": "code",
   "execution_count": null,
   "metadata": {},
   "outputs": [],
   "source": [
    "from keras.applications import vgg16\n",
    "model = vgg16.VGG16(weights='imagenet', include_top=True)\n",
    "model.summary()"
   ]
  },
  {
   "cell_type": "markdown",
   "metadata": {},
   "source": [
    "Let's use the pre-trained VGG-16 model include in keras to train and predict images. Use SGD optimizer and categorical crossentropy loss.\n",
    "Load 'imgs/13_CNN_egyptian_cat.jpeg' using cv2.imread and resize to the dimension (224, 224) with cv2.resize. Is the predicted label equal to 285 (=egyptian cat)?"
   ]
  },
  {
   "cell_type": "code",
   "execution_count": null,
   "metadata": {},
   "outputs": [],
   "source": [
    "import cv2\n",
    "\n",
    "#resize into VGG16 trained images' format\n",
    "im = cv2.resize(cv2.imread('../imgs/13_CNN_egyptian_cat.jpeg'), (224, 224))\n",
    "im = np.swapaxes(np.swapaxes(im, 1, 2), 0, 1)\n",
    "im = np.expand_dims(im, axis=0)\n",
    "\n"
   ]
  },
  {
   "cell_type": "code",
   "execution_count": null,
   "metadata": {},
   "outputs": [],
   "source": [
    "# Compile the model"
   ]
  },
  {
   "cell_type": "code",
   "execution_count": null,
   "metadata": {},
   "outputs": [],
   "source": [
    "#predict the im class"
   ]
  },
  {
   "cell_type": "markdown",
   "metadata": {},
   "source": [
    "Ex: Visualize the filters of the block1_conv1 - block5_conv1 layers via gradient ascent in input space."
   ]
  },
  {
   "cell_type": "code",
   "execution_count": null,
   "metadata": {},
   "outputs": [],
   "source": [
    "from keras.preprocessing.image import save_img\n",
    "import time\n",
    "\n",
    "# dimensions of the generated pictures for each filter.\n",
    "img_width = 128\n",
    "img_height = 128\n",
    "\n",
    "# the name of the layer we want to visualize\n",
    "# (see model definition at keras/applications/vgg16.py)\n",
    "#layer_name = 'block5_conv1'\n",
    "\n",
    "# util function to convert a tensor into a valid image\n",
    "\n",
    "\n",
    "def deprocess_image(x):\n",
    "    # normalize tensor: center on 0., ensure std is 0.1\n",
    "    x -= x.mean()\n",
    "    x /= (x.std() + K.epsilon())\n",
    "    x *= 0.1\n",
    "\n",
    "    # clip to [0, 1]\n",
    "    x += 0.5\n",
    "    x = np.clip(x, 0, 1)\n",
    "\n",
    "    # convert to RGB array\n",
    "    x *= 255\n",
    "    if K.image_data_format() == 'channels_first':\n",
    "        x = x.transpose((1, 2, 0))\n",
    "    x = np.clip(x, 0, 255).astype('uint8')\n",
    "    return x\n",
    "\n",
    "\n",
    "# this is the placeholder for the input images\n",
    "input_img = model.input\n",
    "\n",
    "# get the symbolic outputs of each \"key\" layer (we gave them unique names).\n",
    "layer_dict = dict([(layer.name, layer) for layer in model.layers[1:]])\n",
    "\n",
    "\n",
    "def normalize(x):\n",
    "    # utility function to normalize a tensor by its L2 norm\n",
    "    return x / (K.sqrt(K.mean(K.square(x))) + K.epsilon())\n"
   ]
  },
  {
   "cell_type": "code",
   "execution_count": null,
   "metadata": {
    "scrolled": false
   },
   "outputs": [],
   "source": [
    "for layer_name in ['block1_conv1', 'block2_conv1', 'block3_conv1', 'block4_conv1', 'block5_conv1']:\n",
    "\n",
    "    kept_filters = []\n",
    "    for filter_index in range(64):\n",
    "        # we only scan through the first 200 filters,\n",
    "        # but there are actually 512 of them\n",
    "        #print('Processing filter %d' % filter_index)\n",
    "        start_time = time.time()\n",
    "\n",
    "        # we build a loss function that maximizes the activation\n",
    "        # of the nth filter of the layer considered\n",
    "        layer_output = layer_dict[layer_name].output\n",
    "        if K.image_data_format() == 'channels_first':\n",
    "            loss = K.mean(layer_output[:, filter_index, :, :])\n",
    "        else:\n",
    "            loss = K.mean(layer_output[:, :, :, filter_index])\n",
    "\n",
    "        # we compute the gradient of the input picture wrt this loss\n",
    "        grads = K.gradients(loss, input_img)[0]\n",
    "\n",
    "        # normalization trick: we normalize the gradient\n",
    "        grads = normalize(grads)\n",
    "\n",
    "        # this function returns the loss and grads given the input picture\n",
    "        iterate = K.function([input_img], [loss, grads])\n",
    "\n",
    "        # step size for gradient ascent\n",
    "        step = 1.\n",
    "\n",
    "        # we start from a gray image with some random noise\n",
    "        if K.image_data_format() == 'channels_first':\n",
    "            input_img_data = np.random.random((1, 3, img_width, img_height))\n",
    "        else:\n",
    "            input_img_data = np.random.random((1, img_width, img_height, 3))\n",
    "        input_img_data = (input_img_data - 0.5) * 20 + 128\n",
    "\n",
    "        # we run gradient ascent for 20 steps\n",
    "        for i in range(20):\n",
    "            loss_value, grads_value = iterate([input_img_data])\n",
    "            input_img_data += grads_value * step\n",
    "\n",
    "            #print('Current loss value:', loss_value)\n",
    "            if loss_value <= 0.:\n",
    "                # some filters get stuck to 0, we can skip them\n",
    "                break\n",
    "\n",
    "        # decode the resulting input image\n",
    "        if loss_value > 0:\n",
    "            img = deprocess_image(input_img_data[0])\n",
    "            kept_filters.append((img, loss_value))\n",
    "        end_time = time.time()\n",
    "        #print('Filter %d processed in %ds' % (filter_index, end_time - start_time))\n",
    "\n",
    "    # we will stich the best 64 filters on a 8 x 8 grid.\n",
    "    n = 5\n",
    "\n",
    "    # the filters that have the highest loss are assumed to be better-looking.\n",
    "    # we will only keep the top 64 filters.\n",
    "    kept_filters.sort(key=lambda x: x[1], reverse=True)\n",
    "    kept_filters = kept_filters[:n * n]\n",
    "\n",
    "    figure = plt.figure(figsize=(20, 8))\n",
    "    for i in range(n):\n",
    "        for j in range(n):\n",
    "            img, loss = kept_filters[i * n + j]\n",
    "            ax = figure.add_subplot(n, n, i * n + j + 1, xticks=[], yticks=[])\n",
    "            plt.imshow(img)\n",
    "\n",
    "    print(layer_name)\n",
    "    plt.show()"
   ]
  },
  {
   "cell_type": "markdown",
   "metadata": {},
   "source": [
    "Last figures displayed the patterns each filter maximally responds to or is very active.\n",
    "Note that:\n",
    "\n",
    "- The first layer filters (block1_conv2 and block2_conv2) mostly detect colors, edges and simple shapes.\n",
    "\n",
    "- As we go deeper into the network, the filters build on top of each other, and learn to encode more complex patterns. Can you recognize any of them?\n"
   ]
  },
  {
   "cell_type": "markdown",
   "metadata": {},
   "source": [
    "### Smile Dataset & LENET5"
   ]
  },
  {
   "cell_type": "markdown",
   "metadata": {},
   "source": [
    "In this section we will implement the LeNet-5 architecture, a pioneering 7-level convolutional network developed in 1998 by LeCun et al to identify handwritten digits for zip code recognition in the postal service. "
   ]
  },
  {
   "cell_type": "markdown",
   "metadata": {},
   "source": [
    "\n",
    "![Alt text](../imgs/13_CNN_LENET.png)"
   ]
  },
  {
   "cell_type": "markdown",
   "metadata": {},
   "source": [
    "Lenet-5 consists of 3 convolutional layers (C1, C3 and C5), 2 sub-sampling (pooling) layers (S2 and S4), and 1 fully connected layer (F6), that are followed by the output layer. Convolutional layers use 5 by 5 convolutions with stride 1. Sub-sampling layers are 2 by 2 average pooling layers. Tanh sigmoid activations are used throughout the network."
   ]
  },
  {
   "cell_type": "markdown",
   "metadata": {},
   "source": [
    "Implement LeNet-5 architecture:"
   ]
  },
  {
   "cell_type": "code",
   "execution_count": null,
   "metadata": {},
   "outputs": [],
   "source": [
    "#LeNet"
   ]
  },
  {
   "cell_type": "markdown",
   "metadata": {},
   "source": [
    "Let's test our implementation using the **Smiles dataset**.\n",
    "\n",
    "The SMILES dataset consists of images of faces that are either smiling or not smiling. In total, there are 13,165 grayscale images in the dataset, with each image having a size of 64 × 64 pixels\n"
   ]
  },
  {
   "cell_type": "markdown",
   "metadata": {},
   "source": [
    "Download the data from https://github.com/hromi/SMILEsmileD/archive/master.zip and run the next cell to see the number of positive and negative examples:"
   ]
  },
  {
   "cell_type": "code",
   "execution_count": null,
   "metadata": {},
   "outputs": [],
   "source": [
    "import os\n",
    "\n",
    "smile_path =  '../data/SMILEsmileD-master/'\n",
    "\n",
    "def list_all_files(directory, extensions=None):\n",
    "    for root, dirnames, filenames in os.walk(directory):\n",
    "        for filename in filenames:\n",
    "            base, ext = os.path.splitext(filename)\n",
    "            joined = os.path.join(root, filename)\n",
    "            if extensions is None or ext.lower() in extensions:\n",
    "                yield joined\n",
    "\n",
    "negative_paths = list(list_all_files(os.path.join(smile_path,'SMILEs/negatives/negatives7/'), ['.jpg']))\n",
    "print('loaded', len(negative_paths), 'negative examples')\n",
    "positive_paths = list(list_all_files(os.path.join(smile_path, 'SMILEs/positives/positives7/'), ['.jpg']))\n",
    "print('loaded', len(positive_paths), 'positive examples')\n",
    "examples = [(path, 0) for path in negative_paths] + [(path, 1) for path in positive_paths]"
   ]
  },
  {
   "cell_type": "markdown",
   "metadata": {},
   "source": [
    "Let's show some negative and positive images with the help of the following functions:"
   ]
  },
  {
   "cell_type": "code",
   "execution_count": null,
   "metadata": {},
   "outputs": [],
   "source": [
    "from skimage.measure import block_reduce\n",
    "from skimage.io import imread\n",
    "from io import BytesIO\n",
    "import PIL.Image\n",
    "import IPython.display\n",
    "\n",
    "def show_array(a, fmt='png', filename=None):\n",
    "    a = np.uint8(np.clip(a, 0, 255))\n",
    "    image_data = BytesIO()\n",
    "    PIL.Image.fromarray(a).save(image_data, fmt)\n",
    "    if filename is None:\n",
    "        IPython.display.display(IPython.display.Image(data=image_data.getvalue()))\n",
    "    else:\n",
    "        with open(filename, 'w') as f:\n",
    "            image_data.seek(0)\n",
    "            shutil.copyfileobj(image_data, f)\n",
    "\n",
    "def find_rectangle(n, max_ratio=2):\n",
    "    sides = []\n",
    "    square = int(math.sqrt(n))\n",
    "    for w in range(square, max_ratio * square):\n",
    "        h = n / w\n",
    "        used = w * h\n",
    "        leftover = n - used\n",
    "        sides.append((leftover, (w, h)))\n",
    "    return sorted(sides)[0][1]\n",
    "\n",
    "# should work for 1d and 2d images, assumes images are square but can be overriden\n",
    "def make_mosaic(images, n=None, nx=None, ny=None, w=None, h=None):\n",
    "    if n is None and nx is None and ny is None:\n",
    "        nx, ny = find_rectangle(len(images))\n",
    "    else:\n",
    "        nx = n if nx is None else nx\n",
    "        ny = n if ny is None else ny\n",
    "    images = np.array(images)\n",
    "    if images.ndim == 2:\n",
    "        side = int(np.sqrt(len(images[0])))\n",
    "        h = side if h is None else h\n",
    "        w = side if w is None else w\n",
    "        images = images.reshape(-1, h, w)\n",
    "    else:\n",
    "        h = images.shape[1]\n",
    "        w = images.shape[2]\n",
    "    image_gen = iter(images)\n",
    "    mosaic = np.empty((h*ny, w*nx))\n",
    "    for i in range(ny):\n",
    "        ia = (i)*h\n",
    "        ib = (i+1)*h\n",
    "        for j in range(nx):\n",
    "            ja = j*w\n",
    "            jb = (j+1)*w\n",
    "            mosaic[ia:ib, ja:jb] = next(image_gen)\n",
    "    return mosaic\n",
    "\n",
    "def examples_to_dataset(examples, block_size=2):\n",
    "    X = []\n",
    "    y = []\n",
    "    for path, label in examples:\n",
    "        img = imread(path, as_gray=True)\n",
    "        img = block_reduce(img, block_size=(block_size, block_size), func=np.mean)\n",
    "        img = img.reshape((32*32))\n",
    "        X.append(img)\n",
    "        if(label==0):\n",
    "            y.append((1,0))\n",
    "        else:\n",
    "            y.append((0,1))\n",
    "    return np.asarray(X), np.asarray(y)\n",
    "\n",
    "X, Y = examples_to_dataset(examples)\n",
    "X = np.asarray(X,dtype=np.float32)/ 255.\n",
    "Y = np.asarray(Y,dtype=np.int32)\n",
    "print(X.dtype, X.min(), X.max(), X.shape)"
   ]
  },
  {
   "cell_type": "markdown",
   "metadata": {},
   "source": [
    "Negative images:"
   ]
  },
  {
   "cell_type": "code",
   "execution_count": null,
   "metadata": {},
   "outputs": [],
   "source": [
    "#show Negative images\n",
    "show_array(255 * make_mosaic(X[:len(negative_paths)], 8), fmt='jpeg') # negative at the beginning\n"
   ]
  },
  {
   "cell_type": "markdown",
   "metadata": {},
   "source": [
    "Positive example:"
   ]
  },
  {
   "cell_type": "code",
   "execution_count": null,
   "metadata": {},
   "outputs": [],
   "source": [
    "#show Positive images\n",
    "show_array(255 * make_mosaic(X[-len(positive_paths):], 8), fmt='jpeg') # positive at the end"
   ]
  },
  {
   "cell_type": "markdown",
   "metadata": {},
   "source": [
    "Construct data and labels lists looping over the input images:"
   ]
  },
  {
   "cell_type": "code",
   "execution_count": null,
   "metadata": {},
   "outputs": [],
   "source": [
    "# import the necessary packages\n",
    "from sklearn.preprocessing import LabelEncoder\n",
    "from sklearn.model_selection import train_test_split\n",
    "from sklearn.metrics import classification_report\n",
    "from keras.preprocessing.image import img_to_array\n",
    "from imutils import paths\n",
    "import argparse\n",
    "import imutils\n",
    "\n",
    "# loop over the input images\n",
    "data = []\n",
    "labels = []\n",
    "for imagePath in sorted(list(paths.list_images(smile_path))):\n",
    "  \n",
    "    # load the image, pre-process it, and store it in the data list\n",
    "    image = cv2.imread(imagePath)\n",
    "    image = cv2.cvtColor(image, cv2.COLOR_BGR2GRAY)\n",
    "    image = imutils.resize(image, width=28)\n",
    "    image = img_to_array(image)\n",
    "    data.append(image)\n",
    "    # extract the class label from the image path and update the\n",
    "    # labels list\n",
    "    label = imagePath.split(os.path.sep)[-3]\n",
    "    label = \"smiling\" if label == \"positives\" else \"not_smiling\"\n",
    "    labels.append(label)\n",
    " "
   ]
  },
  {
   "cell_type": "markdown",
   "metadata": {},
   "source": [
    "Now that our data and labels are constructed, we can scale the raw pixel intensities to the range [0, 1] and then apply one-hot encoding to the labels:"
   ]
  },
  {
   "cell_type": "code",
   "execution_count": null,
   "metadata": {},
   "outputs": [],
   "source": [
    "# scale the raw pixel intensities to the range [0, 1]\n",
    "data = np.array(data, dtype=\"float\") / 255.0\n",
    "labels = np.array(labels)\n",
    "# convert the labels from integers to vectors\n",
    "le = LabelEncoder().fit(labels)\n",
    "labels = np_utils.to_categorical(le.transform(labels), 2)\n",
    "# account for skew in the labeled data\n",
    "classTotals = labels.sum(axis=0)\n",
    "classWeight = classTotals.max() / classTotals"
   ]
  },
  {
   "cell_type": "markdown",
   "metadata": {},
   "source": [
    "Now that we’ve computed our class weights, we can move on to partitioning our data into training and testing splits, using 80% of the data for training and 20% for testing:"
   ]
  },
  {
   "cell_type": "code",
   "execution_count": null,
   "metadata": {},
   "outputs": [],
   "source": [
    "# partition the data into training and testing splits using 80% of\n",
    "# the data for training and the remaining 20% for testing\n",
    "(trainX, testX, trainY, testY) = train_test_split(data,\n",
    "labels, test_size=0.20, stratify=labels, random_state=42)"
   ]
  },
  {
   "cell_type": "markdown",
   "metadata": {},
   "source": [
    "Finally, we are ready to train LeNet:"
   ]
  },
  {
   "cell_type": "code",
   "execution_count": null,
   "metadata": {},
   "outputs": [],
   "source": [
    "# train Lenet"
   ]
  },
  {
   "cell_type": "markdown",
   "metadata": {},
   "source": [
    "Evaluate the network:"
   ]
  },
  {
   "cell_type": "code",
   "execution_count": null,
   "metadata": {},
   "outputs": [],
   "source": [
    "# evaluate the network"
   ]
  },
  {
   "cell_type": "markdown",
   "metadata": {},
   "source": [
    "Plot the learning curve using the code:"
   ]
  },
  {
   "cell_type": "code",
   "execution_count": null,
   "metadata": {},
   "outputs": [],
   "source": [
    "# plot the training + testing loss and accuracy\n",
    "plt.style.use(\"ggplot\")\n",
    "plt.figure()\n",
    "plt.plot(np.arange(0,15), H.history['loss'], label='train_loss')\n",
    "plt.plot(np.arange(0,15), H.history['val_loss'], label='val_loss')\n",
    "plt.plot(np.arange(0,15), H.history['acc'], label='acc')\n",
    "plt.plot(np.arange(0,15), H.history['val_acc'], label='val_acc')\n",
    "plt.title('Training Loss and Accuracy')\n",
    "plt.xlabel('Epoch')\n",
    "plt.ylabel('Loss/Accuracy')\n",
    "plt.legend()\n",
    "plt.show()"
   ]
  },
  {
   "cell_type": "markdown",
   "metadata": {},
   "source": [
    "After 15 epochs we can see that our network is obtaining 93% classification accuracy"
   ]
  },
  {
   "cell_type": "markdown",
   "metadata": {},
   "source": [
    "Ex. Fingerprint_Denoising_and_Inpainting.ipynb"
   ]
  },
  {
   "cell_type": "markdown",
   "metadata": {
    "collapsed": true
   },
   "source": [
    "## References"
   ]
  },
  {
   "cell_type": "markdown",
   "metadata": {},
   "source": [
    "https://github.com/DataScienceUB/DeepLearningfromScratch2018\n",
    "\n",
    "Deep Learning for Computer Vision with Python.- Adrian Rosebrock\n",
    "\n",
    "Deep Learning with keras.- Antonio Gulli, Sujit Pal\n",
    "\n",
    "Deep Learning with Python.- Francois Chollet\n",
    "\n",
    "http://colah.github.io/posts/2014-07-Understanding-Convolutions/\n",
    "\n",
    "https://arxiv.org/abs/1603.07285\n",
    "\n",
    "https://blog.keras.io/how-convolutional-neural-networks-see-the-world.html\n",
    "\n",
    "https://github.com/keras-team/keras/blob/master/examples/conv_filter_visualization.py\n",
    "\n"
   ]
  },
  {
   "cell_type": "code",
   "execution_count": null,
   "metadata": {},
   "outputs": [],
   "source": []
  }
 ],
 "metadata": {
  "kernelspec": {
   "display_name": "Python [conda env:ks_dl_course]",
   "language": "python",
   "name": "conda-env-ks_dl_course-py"
  },
  "language_info": {
   "codemirror_mode": {
    "name": "ipython",
    "version": 3
   },
   "file_extension": ".py",
   "mimetype": "text/x-python",
   "name": "python",
   "nbconvert_exporter": "python",
   "pygments_lexer": "ipython3",
   "version": "3.6.6"
  }
 },
 "nbformat": 4,
 "nbformat_minor": 2
}
