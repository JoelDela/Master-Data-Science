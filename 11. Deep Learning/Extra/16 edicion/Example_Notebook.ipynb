{
  "nbformat": 4,
  "nbformat_minor": 0,
  "metadata": {
    "colab": {
      "name": "Example_Notebook.ipynb",
      "provenance": [],
      "include_colab_link": true
    },
    "kernelspec": {
      "name": "python3",
      "display_name": "Python 3"
    }
  },
  "cells": [
    {
      "cell_type": "markdown",
      "metadata": {
        "id": "view-in-github",
        "colab_type": "text"
      },
      "source": [
        "<a href=\"https://colab.research.google.com/github/dgarhdez/Deep_learning_kschool/blob/master/Example_Notebook.ipynb\" target=\"_parent\"><img src=\"https://colab.research.google.com/assets/colab-badge.svg\" alt=\"Open In Colab\"/></a>"
      ]
    },
    {
      "cell_type": "markdown",
      "metadata": {
        "id": "kaC0amrnq8Dw",
        "colab_type": "text"
      },
      "source": [
        "## Example of notebook"
      ]
    },
    {
      "cell_type": "markdown",
      "metadata": {
        "id": "JTbpQzjerRRS",
        "colab_type": "text"
      },
      "source": [
        "### Importing the libraries we need"
      ]
    },
    {
      "cell_type": "code",
      "metadata": {
        "id": "34m5k-0GqaMC",
        "colab_type": "code",
        "colab": {}
      },
      "source": [
        "import numpy as np\n",
        "import matplotlib.pyplot as plt"
      ],
      "execution_count": 0,
      "outputs": []
    },
    {
      "cell_type": "markdown",
      "metadata": {
        "id": "m-kzZya-sQUy",
        "colab_type": "text"
      },
      "source": [
        "### Creating the data to be plotted"
      ]
    },
    {
      "cell_type": "code",
      "metadata": {
        "id": "vKGNWxJUrPl3",
        "colab_type": "code",
        "colab": {}
      },
      "source": [
        "x = np.arange(0, 2*np.pi, 0.01)\n",
        "y = np.sin(x)"
      ],
      "execution_count": 0,
      "outputs": []
    },
    {
      "cell_type": "markdown",
      "metadata": {
        "id": "2J_fO8l0sXuB",
        "colab_type": "text"
      },
      "source": [
        "### Plotting the data"
      ]
    },
    {
      "cell_type": "code",
      "metadata": {
        "id": "xN9o_VmkqwtS",
        "colab_type": "code",
        "colab": {
          "base_uri": "https://localhost:8080/",
          "height": 286
        },
        "outputId": "e7cfc7ac-8617-433d-91eb-25bd97be0ce8"
      },
      "source": [
        "plt.plot(x, y)"
      ],
      "execution_count": 10,
      "outputs": [
        {
          "output_type": "execute_result",
          "data": {
            "text/plain": [
              "[<matplotlib.lines.Line2D at 0x7f3a86db7cf8>]"
            ]
          },
          "metadata": {
            "tags": []
          },
          "execution_count": 10
        },
        {
          "output_type": "display_data",
          "data": {
            "image/png": "[encoded data removed]",
            "text/plain": [
              "<Figure size 432x288 with 1 Axes>"
            ]
          },
          "metadata": {
            "tags": []
          }
        }
      ]
    },
    {
      "cell_type": "code",
      "metadata": {
        "id": "69juATUcr87n",
        "colab_type": "code",
        "colab": {}
      },
      "source": [
        ""
      ],
      "execution_count": 0,
      "outputs": []
    }
  ]
}