{
 "cells": [
  {
   "cell_type": "code",
   "execution_count": 1,
   "metadata": {},
   "outputs": [
    {
     "name": "stderr",
     "output_type": "stream",
     "text": [
      "Using TensorFlow backend.\n"
     ]
    }
   ],
   "source": [
    "from keras.models import Sequential\n",
    "from keras.layers import Dense, Activation"
   ]
  },
  {
   "cell_type": "code",
   "execution_count": 2,
   "metadata": {},
   "outputs": [],
   "source": [
    "model = Sequential()\n",
    "model.add(Dense(32, activation='relu', input_dim=100))\n",
    "model.add(Dense(1, activation='sigmoid'))"
   ]
  },
  {
   "cell_type": "code",
   "execution_count": 3,
   "metadata": {},
   "outputs": [],
   "source": [
    "model.compile(optimizer='rmsprop',\n",
    "              loss='binary_crossentropy',\n",
    "              metrics=['accuracy'])"
   ]
  },
  {
   "cell_type": "code",
   "execution_count": 4,
   "metadata": {},
   "outputs": [],
   "source": [
    "# Generate dummy data\n",
    "import numpy as np\n",
    "data = np.random.random((1000, 100))\n",
    "labels = np.random.randint(2, size=(1000, 1))"
   ]
  },
  {
   "cell_type": "code",
   "execution_count": 5,
   "metadata": {},
   "outputs": [
    {
     "name": "stdout",
     "output_type": "stream",
     "text": [
      "Epoch 1/10\n",
      "1000/1000 [==============================] - 1s 1ms/step - loss: 0.7086 - acc: 0.4900\n",
      "Epoch 2/10\n",
      "1000/1000 [==============================] - 0s 87us/step - loss: 0.6963 - acc: 0.5130\n",
      "Epoch 3/10\n",
      "1000/1000 [==============================] - 0s 84us/step - loss: 0.6897 - acc: 0.5420\n",
      "Epoch 4/10\n",
      "1000/1000 [==============================] - 0s 76us/step - loss: 0.6878 - acc: 0.5580\n",
      "Epoch 5/10\n",
      "1000/1000 [==============================] - 0s 90us/step - loss: 0.6831 - acc: 0.5620\n",
      "Epoch 6/10\n",
      "1000/1000 [==============================] - 0s 85us/step - loss: 0.6830 - acc: 0.5780\n",
      "Epoch 7/10\n",
      "1000/1000 [==============================] - 0s 86us/step - loss: 0.6797 - acc: 0.5670\n",
      "Epoch 8/10\n",
      "1000/1000 [==============================] - 0s 90us/step - loss: 0.6750 - acc: 0.5940\n",
      "Epoch 9/10\n",
      "1000/1000 [==============================] - 0s 101us/step - loss: 0.6729 - acc: 0.5730\n",
      "Epoch 10/10\n",
      "1000/1000 [==============================] - 0s 77us/step - loss: 0.6658 - acc: 0.6130\n"
     ]
    },
    {
     "data": {
      "text/plain": [
       "<keras.callbacks.History at 0x7faefeec3c18>"
      ]
     },
     "execution_count": 5,
     "metadata": {},
     "output_type": "execute_result"
    }
   ],
   "source": [
    "# Train the model, iterating on the data in batches of 32 samples\n",
    "model.fit(data, labels, epochs=10, batch_size=32)"
   ]
  },
  {
   "cell_type": "code",
   "execution_count": null,
   "metadata": {},
   "outputs": [],
   "source": []
  }
 ],
 "metadata": {
  "kernelspec": {
   "display_name": "Python [conda env:dl4ks]",
   "language": "python",
   "name": "conda-env-dl4ks-py"
  },
  "language_info": {
   "codemirror_mode": {
    "name": "ipython",
    "version": 3
   },
   "file_extension": ".py",
   "mimetype": "text/x-python",
   "name": "python",
   "nbconvert_exporter": "python",
   "pygments_lexer": "ipython3",
   "version": "3.6.6"
  }
 },
 "nbformat": 4,
 "nbformat_minor": 2
}
