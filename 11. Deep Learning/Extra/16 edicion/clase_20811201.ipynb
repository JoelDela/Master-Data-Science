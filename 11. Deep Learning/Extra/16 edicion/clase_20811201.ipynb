{
 "cells": [
  {
   "cell_type": "code",
   "execution_count": 1,
   "metadata": {},
   "outputs": [
    {
     "name": "stderr",
     "output_type": "stream",
     "text": [
      "Using TensorFlow backend.\n"
     ]
    }
   ],
   "source": [
    "%matplotlib inline\n",
    "import matplotlib.pyplot as plt\n",
    "import numpy as np\n",
    "from skimage import io, color\n",
    "from skimage import exposure\n",
    "from time import time\n",
    "\n",
    "from keras import backend\n",
    "from keras.models import Sequential\n",
    "from keras import layers\n",
    "from keras import metrics, optimizers, losses\n",
    "from keras.layers import Dense, Dropout, Activation, Flatten, Input, Dense, Conv2D, MaxPooling2D, UpSampling2D\n",
    "from keras.layers import Conv2D, MaxPooling2D, concatenate\n",
    "from keras.models import Model\n",
    "from keras import backend as K\n",
    "from keras.callbacks import TensorBoard"
   ]
  },
  {
   "cell_type": "code",
   "execution_count": 2,
   "metadata": {},
   "outputs": [],
   "source": [
    "from keras.datasets import mnist\n",
    "from keras.utils import np_utils\n",
    "\n",
    "(x_train, y_train), (x_test, y_test) = mnist.load_data()\n",
    "img_rows, img_cols = x_train.shape[1:]"
   ]
  },
  {
   "cell_type": "code",
   "execution_count": null,
   "metadata": {},
   "outputs": [],
   "source": [
    "plt.imshow(x_train[0], cmap=plt.get_cmap('gray'))"
   ]
  },
  {
   "cell_type": "code",
   "execution_count": 3,
   "metadata": {},
   "outputs": [],
   "source": [
    "# metemos una dimension más a cada imagen para darle el canal\n",
    "x_train_ = x_train.reshape(x_train.shape[0], img_rows, img_cols, 1) \n",
    "x_test_ = x_test.reshape(x_test.shape[0], img_rows, img_cols, 1)\n",
    "input_shape = (img_rows, img_cols, 1)\n",
    "\n",
    "# pasar a float\n",
    "x_train_ = x_train_.astype('float32')\n",
    "x_test_ = x_test_.astype('float32')\n",
    "\n",
    "# normalizar\n",
    "x_train_ /= 255\n",
    "x_test_ /= 255\n",
    "\n",
    "# One-hot encoding de los labels\n",
    "nb_classes = 10\n",
    "y_train = np_utils.to_categorical(y_train, nb_classes)\n",
    "y_test = np_utils.to_categorical(y_test, nb_classes)"
   ]
  },
  {
   "cell_type": "code",
   "execution_count": null,
   "metadata": {},
   "outputs": [],
   "source": [
    "input_shape"
   ]
  },
  {
   "cell_type": "code",
   "execution_count": null,
   "metadata": {},
   "outputs": [],
   "source": [
    "# backend.clear_session()"
   ]
  },
  {
   "cell_type": "code",
   "execution_count": null,
   "metadata": {},
   "outputs": [],
   "source": [
    "# Entrenamos red convolucional: conv, pooling y 2 densas\n",
    "\n",
    "model = Sequential()\n",
    "model.add(Conv2D(32, (3,3), padding='same', activation='elu', input_shape=input_shape))\n",
    "model.add(MaxPooling2D(pool_size=(2,2)))\n",
    "model.add(Flatten())\n",
    "model.add(Dense(32, activation='relu'))\n",
    "model.add(Dense(10, activation='softmax')) # 10 clases\n",
    "model.summary()"
   ]
  },
  {
   "cell_type": "code",
   "execution_count": null,
   "metadata": {},
   "outputs": [],
   "source": [
    "# compile\n",
    "model.compile(optimizer='sgd', loss='categorical_crossentropy', metrics=[metrics.categorical_accuracy])"
   ]
  },
  {
   "cell_type": "code",
   "execution_count": 6,
   "metadata": {},
   "outputs": [],
   "source": [
    "# tensorboard: hay que darle un path para los logs\n",
    "\n",
    "pth = './logs/'\n",
    "tensorboard = TensorBoard(log_dir=pth, histogram_freq=1)\n",
    "\n",
    "# en consola nos vamos al directorio donde hemos creado la carpeta logs, metemos tensorboard --logdir logs/ \n",
    "# y copiamos la url que nos devuelve"
   ]
  },
  {
   "cell_type": "code",
   "execution_count": null,
   "metadata": {},
   "outputs": [],
   "source": [
    "# fiteo\n",
    "\n",
    "model.fit(x_train_, y_train, epochs=5, verbose=True, callbacks=[tensorboard], batch_size=128, validation_split=0.2)"
   ]
  },
  {
   "cell_type": "code",
   "execution_count": null,
   "metadata": {},
   "outputs": [],
   "source": []
  },
  {
   "cell_type": "code",
   "execution_count": 3,
   "metadata": {},
   "outputs": [],
   "source": [
    "# backend.clear_session()\n",
    "\n",
    "# metemos una dimension más a cada imagen para darle el canal\n",
    "x_train_ = x_train.reshape(x_train.shape[0], img_rows, img_cols, 1) \n",
    "x_test_ = x_test.reshape(x_test.shape[0], img_rows, img_cols, 1)\n",
    "input_shape = (img_rows, img_cols, 1)\n",
    "\n",
    "# pasar a float\n",
    "x_train_ = x_train_.astype('float32')\n",
    "x_test_ = x_test_.astype('float32')\n",
    "\n",
    "# normalizar\n",
    "x_train_ /= 255\n",
    "x_test_ /= 255\n",
    "\n",
    "# One-hot encoding de los labels\n",
    "nb_classes = 10\n",
    "y_train = np_utils.to_categorical(y_train, nb_classes)\n",
    "y_test = np_utils.to_categorical(y_test, nb_classes)"
   ]
  },
  {
   "cell_type": "code",
   "execution_count": 4,
   "metadata": {},
   "outputs": [
    {
     "name": "stdout",
     "output_type": "stream",
     "text": [
      "__________________________________________________________________________________________________\n",
      "Layer (type)                    Output Shape         Param #     Connected to                     \n",
      "==================================================================================================\n",
      "input_1 (InputLayer)            (None, 28, 28, 1)    0                                            \n",
      "__________________________________________________________________________________________________\n",
      "conv2d_1 (Conv2D)               (None, 28, 28, 16)   160         input_1[0][0]                    \n",
      "__________________________________________________________________________________________________\n",
      "conv2d_4 (Conv2D)               (None, 28, 28, 16)   416         input_1[0][0]                    \n",
      "__________________________________________________________________________________________________\n",
      "conv2d_7 (Conv2D)               (None, 28, 28, 16)   800         input_1[0][0]                    \n",
      "__________________________________________________________________________________________________\n",
      "max_pooling2d_1 (MaxPooling2D)  (None, 14, 14, 16)   0           conv2d_1[0][0]                   \n",
      "__________________________________________________________________________________________________\n",
      "max_pooling2d_4 (MaxPooling2D)  (None, 14, 14, 16)   0           conv2d_4[0][0]                   \n",
      "__________________________________________________________________________________________________\n",
      "max_pooling2d_7 (MaxPooling2D)  (None, 14, 14, 16)   0           conv2d_7[0][0]                   \n",
      "__________________________________________________________________________________________________\n",
      "conv2d_2 (Conv2D)               (None, 14, 14, 16)   2320        max_pooling2d_1[0][0]            \n",
      "__________________________________________________________________________________________________\n",
      "conv2d_5 (Conv2D)               (None, 14, 14, 16)   6416        max_pooling2d_4[0][0]            \n",
      "__________________________________________________________________________________________________\n",
      "conv2d_8 (Conv2D)               (None, 14, 14, 16)   12560       max_pooling2d_7[0][0]            \n",
      "__________________________________________________________________________________________________\n",
      "max_pooling2d_2 (MaxPooling2D)  (None, 7, 7, 16)     0           conv2d_2[0][0]                   \n",
      "__________________________________________________________________________________________________\n",
      "max_pooling2d_5 (MaxPooling2D)  (None, 7, 7, 16)     0           conv2d_5[0][0]                   \n",
      "__________________________________________________________________________________________________\n",
      "max_pooling2d_8 (MaxPooling2D)  (None, 7, 7, 16)     0           conv2d_8[0][0]                   \n",
      "__________________________________________________________________________________________________\n",
      "conv2d_3 (Conv2D)               (None, 7, 7, 16)     2320        max_pooling2d_2[0][0]            \n",
      "__________________________________________________________________________________________________\n",
      "conv2d_6 (Conv2D)               (None, 7, 7, 16)     6416        max_pooling2d_5[0][0]            \n",
      "__________________________________________________________________________________________________\n",
      "conv2d_9 (Conv2D)               (None, 7, 7, 16)     12560       max_pooling2d_8[0][0]            \n",
      "__________________________________________________________________________________________________\n",
      "max_pooling2d_3 (MaxPooling2D)  (None, 3, 3, 16)     0           conv2d_3[0][0]                   \n",
      "__________________________________________________________________________________________________\n",
      "max_pooling2d_6 (MaxPooling2D)  (None, 3, 3, 16)     0           conv2d_6[0][0]                   \n",
      "__________________________________________________________________________________________________\n",
      "max_pooling2d_9 (MaxPooling2D)  (None, 3, 3, 16)     0           conv2d_9[0][0]                   \n",
      "__________________________________________________________________________________________________\n",
      "concatenate_1 (Concatenate)     (None, 3, 3, 48)     0           max_pooling2d_3[0][0]            \n",
      "                                                                 max_pooling2d_6[0][0]            \n",
      "                                                                 max_pooling2d_9[0][0]            \n",
      "__________________________________________________________________________________________________\n",
      "flatten_1 (Flatten)             (None, 432)          0           concatenate_1[0][0]              \n",
      "__________________________________________________________________________________________________\n",
      "dense_1 (Dense)                 (None, 32)           13856       flatten_1[0][0]                  \n",
      "__________________________________________________________________________________________________\n",
      "dense_2 (Dense)                 (None, 10)           330         dense_1[0][0]                    \n",
      "==================================================================================================\n",
      "Total params: 58,154\n",
      "Trainable params: 58,154\n",
      "Non-trainable params: 0\n",
      "__________________________________________________________________________________________________\n"
     ]
    }
   ],
   "source": [
    "# input \n",
    "input_layer = Input(shape=(28, 28, 1)), dtype='float32')\n",
    "\n",
    "# 3x3\n",
    "layer_3x3 = Conv2D(16, (3,3), padding='same', activation='elu')(input_layer) \n",
    "layer_3x3 = MaxPooling2D(pool_size=(2,2))(layer_3x3)\n",
    "layer_3x3 = Conv2D(16, (3,3), padding='same', activation='elu')(layer_3x3) \n",
    "layer_3x3 = MaxPooling2D(pool_size=(2,2))(layer_3x3)\n",
    "layer_3x3 = Conv2D(16, (3,3), padding='same', activation='elu')(layer_3x3) \n",
    "layer_3x3 = MaxPooling2D(pool_size=(2,2))(layer_3x3)\n",
    "\n",
    "\n",
    "# 5x5\n",
    "layer_5x5 = Conv2D(16, (5,5), padding='same', activation='elu')(input_layer) \n",
    "layer_5x5 = MaxPooling2D(pool_size=(2,2))(layer_5x5)\n",
    "layer_5x5 = Conv2D(16, (5,5), padding='same', activation='elu')(layer_5x5) \n",
    "layer_5x5 = MaxPooling2D(pool_size=(2,2))(layer_5x5)\n",
    "layer_5x5 = Conv2D(16, (5,5), padding='same', activation='elu')(layer_5x5) \n",
    "layer_5x5 = MaxPooling2D(pool_size=(2,2))(layer_5x5)\n",
    "\n",
    "\n",
    "# 7x7\n",
    "layer_7x7 = Conv2D(16, (7,7), padding='same', activation='elu')(input_layer) \n",
    "layer_7x7 = MaxPooling2D(pool_size=(2,2))(layer_7x7)\n",
    "layer_7x7 = Conv2D(16, (7,7), padding='same', activation='elu')(layer_7x7) \n",
    "layer_7x7 = MaxPooling2D(pool_size=(2,2))(layer_7x7)\n",
    "layer_7x7 = Conv2D(16, (7,7), padding='same', activation='elu')(layer_7x7) \n",
    "layer_7x7 = MaxPooling2D(pool_size=(2,2))(layer_7x7)\n",
    "\n",
    "# concatenate\n",
    "x0_conc = concatenate([layer_3x3, layer_5x5, layer_7x7])\n",
    "x0_conc = Flatten()(x0_conc)\n",
    "x0_conc = Dense(16, activation='relu')(x0_conc) \n",
    "x0_conc = Dense(10, activation='softmax')(x0_conc)\n",
    "\n",
    "# concatenate\n",
    "m = Model(inputs=[input_layer], outputs=[x0_conc])\n",
    "\n",
    "# compile\n",
    "m.compile(optimizer='sgd', loss='categorical_crossentropy', metrics=[metrics.categorical_accuracy])\n",
    "\n",
    "# summary\n",
    "m.summary()"
   ]
  },
  {
   "cell_type": "code",
   "execution_count": 7,
   "metadata": {},
   "outputs": [
    {
     "name": "stdout",
     "output_type": "stream",
     "text": [
      "Train on 48000 samples, validate on 12000 samples\n",
      "Epoch 1/5\n",
      "48000/48000 [==============================] - 86s 2ms/step - loss: 1.5545 - categorical_accuracy: 0.5915 - val_loss: 0.5019 - val_categorical_accuracy: 0.8625\n",
      "Epoch 2/5\n",
      "48000/48000 [==============================] - 88s 2ms/step - loss: 0.3559 - categorical_accuracy: 0.8962 - val_loss: 0.2293 - val_categorical_accuracy: 0.9343\n",
      "Epoch 3/5\n",
      "48000/48000 [==============================] - 88s 2ms/step - loss: 0.2169 - categorical_accuracy: 0.9352 - val_loss: 0.1742 - val_categorical_accuracy: 0.9474\n",
      "Epoch 4/5\n",
      "48000/48000 [==============================] - 87s 2ms/step - loss: 0.1699 - categorical_accuracy: 0.9487 - val_loss: 0.1429 - val_categorical_accuracy: 0.9573\n",
      "Epoch 5/5\n",
      "48000/48000 [==============================] - 87s 2ms/step - loss: 0.1405 - categorical_accuracy: 0.9566 - val_loss: 0.1289 - val_categorical_accuracy: 0.9608\n"
     ]
    },
    {
     "data": {
      "text/plain": [
       "<keras.callbacks.History at 0x1c558f84e0>"
      ]
     },
     "execution_count": 7,
     "metadata": {},
     "output_type": "execute_result"
    }
   ],
   "source": [
    "m.fit([x_train_],\n",
    "      [y_train],\n",
    "      epochs=5,\n",
    "      verbose=True,\n",
    "      callbacks=[tensorboard],\n",
    "      batch_size=128,\n",
    "      validation_split=0.2)"
   ]
  },
  {
   "cell_type": "code",
   "execution_count": 4,
   "metadata": {},
   "outputs": [],
   "source": [
    "# tensorboard: hay que darle un path para los logs\n",
    "\n",
    "pth = './logs/'\n",
    "tensorboard = TensorBoard(log_dir=pth, histogram_freq=1)"
   ]
  },
  {
   "cell_type": "code",
   "execution_count": 10,
   "metadata": {},
   "outputs": [
    {
     "name": "stdout",
     "output_type": "stream",
     "text": [
      "_________________________________________________________________\n",
      "Layer (type)                 Output Shape              Param #   \n",
      "=================================================================\n",
      "input_3 (InputLayer)         (None, 28, 28, 1)         0         \n",
      "_________________________________________________________________\n",
      "conv2d_7 (Conv2D)            (None, 28, 28, 16)        160       \n",
      "_________________________________________________________________\n",
      "max_pooling2d_3 (MaxPooling2 (None, 14, 14, 16)        0         \n",
      "_________________________________________________________________\n",
      "conv2d_8 (Conv2D)            (None, 14, 14, 8)         1160      \n",
      "_________________________________________________________________\n",
      "max_pooling2d_4 (MaxPooling2 (None, 7, 7, 8)           0         \n",
      "_________________________________________________________________\n",
      "conv2d_9 (Conv2D)            (None, 7, 7, 8)           584       \n",
      "_________________________________________________________________\n",
      "up_sampling2d_3 (UpSampling2 (None, 14, 14, 8)         0         \n",
      "_________________________________________________________________\n",
      "conv2d_10 (Conv2D)           (None, 14, 14, 16)        1168      \n",
      "_________________________________________________________________\n",
      "up_sampling2d_4 (UpSampling2 (None, 28, 28, 16)        0         \n",
      "_________________________________________________________________\n",
      "conv2d_11 (Conv2D)           (None, 28, 28, 1)         145       \n",
      "=================================================================\n",
      "Total params: 3,217\n",
      "Trainable params: 3,217\n",
      "Non-trainable params: 0\n",
      "_________________________________________________________________\n"
     ]
    }
   ],
   "source": [
    "# conv + autoencoder\n",
    "\n",
    "# input \n",
    "input_layer = Input(shape=(28, 28, 1), dtype='float32')\n",
    "\n",
    "# Conv16 - Maxpool - Conv8 - Maxpool - Conv8 - Upsamplig Conv16 - Upsampling\n",
    "c = Conv2D(filters=16, kernel_size=(3,3), padding='same', activation='relu')(input_layer) \n",
    "c = MaxPooling2D(pool_size=(2,2))(c)\n",
    "c = Conv2D(filters=8, kernel_size=(3,3), padding='same', activation='relu')(c) \n",
    "encoded = MaxPooling2D(pool_size=(2,2))(c)\n",
    "\n",
    "c = Conv2D(filters=8, kernel_size=(3,3), padding='same', activation='relu')(encoded) \n",
    "c = UpSampling2D(size=(2,2))(c)\n",
    "c = Conv2D(filters=16, kernel_size=(3,3), padding='same', activation='relu')(c) \n",
    "c = UpSampling2D(size=(2,2))(c)\n",
    "decoded = Conv2D(filters=1, kernel_size=(3,3), padding='same', activation='relu')(c)\n",
    "\n",
    "# concatenate\n",
    "autoencoder = Model(inputs=[input_layer], outputs=[decoded])\n",
    "\n",
    "# compile\n",
    "autoencoder.compile(optimizer='adadelta', loss='binary_crossentropy')\n",
    "\n",
    "# summary\n",
    "autoencoder.summary()"
   ]
  },
  {
   "cell_type": "code",
   "execution_count": 11,
   "metadata": {},
   "outputs": [
    {
     "name": "stdout",
     "output_type": "stream",
     "text": [
      "Train on 48000 samples, validate on 12000 samples\n",
      "Epoch 1/5\n",
      "48000/48000 [==============================] - 97s 2ms/step - loss: 0.1543 - val_loss: 0.1298\n",
      "Epoch 2/5\n",
      "48000/48000 [==============================] - 97s 2ms/step - loss: 0.1230 - val_loss: 0.1151\n",
      "Epoch 3/5\n",
      "48000/48000 [==============================] - 98s 2ms/step - loss: 0.1156 - val_loss: 0.1113\n",
      "Epoch 4/5\n",
      "48000/48000 [==============================] - 96s 2ms/step - loss: 0.1101 - val_loss: 0.1068\n",
      "Epoch 5/5\n",
      "48000/48000 [==============================] - 97s 2ms/step - loss: 0.1061 - val_loss: 0.1063\n"
     ]
    },
    {
     "data": {
      "text/plain": [
       "<keras.callbacks.History at 0x118a012b0>"
      ]
     },
     "execution_count": 11,
     "metadata": {},
     "output_type": "execute_result"
    }
   ],
   "source": [
    "autoencoder.fit(x_train_,\n",
    "                x_train_,\n",
    "                epochs=5,\n",
    "                verbose=True,\n",
    "                callbacks=[tensorboard],\n",
    "                batch_size=128,\n",
    "                validation_split=0.2)"
   ]
  },
  {
   "cell_type": "code",
   "execution_count": 12,
   "metadata": {},
   "outputs": [
    {
     "data": {
      "image/png": "[encoded data removed]",
      "text/plain": [
       "<Figure size 720x144 with 18 Axes>"
      ]
     },
     "metadata": {
      "needs_background": "light"
     },
     "output_type": "display_data"
    }
   ],
   "source": [
    "decoded_imgs = autoencoder.predict(x_test_)\n",
    "\n",
    "import matplotlib.pyplot as plt\n",
    "n = 10\n",
    "plt.figure(figsize=(10, 2))\n",
    "for i in range(1,n):\n",
    "    # display original\n",
    "    ax = plt.subplot(2, n, i)\n",
    "    plt.imshow(x_test[i].reshape(28, 28))\n",
    "    plt.gray()\n",
    "    ax.get_xaxis().set_visible(False)\n",
    "    ax.get_yaxis().set_visible(False)\n",
    "\n",
    "    # display reconstruction\n",
    "    ax = plt.subplot(2, n, i + n)\n",
    "    plt.imshow(decoded_imgs[i].reshape(28, 28))\n",
    "    plt.gray()\n",
    "    ax.get_xaxis().set_visible(False)\n",
    "    ax.get_yaxis().set_visible(False)\n",
    "plt.show()"
   ]
  },
  {
   "cell_type": "code",
   "execution_count": 14,
   "metadata": {},
   "outputs": [
    {
     "data": {
      "text/html": [
       "<div>\n",
       "<style scoped>\n",
       "    .dataframe tbody tr th:only-of-type {\n",
       "        vertical-align: middle;\n",
       "    }\n",
       "\n",
       "    .dataframe tbody tr th {\n",
       "        vertical-align: top;\n",
       "    }\n",
       "\n",
       "    .dataframe thead th {\n",
       "        text-align: right;\n",
       "    }\n",
       "</style>\n",
       "<table border=\"1\" class=\"dataframe\">\n",
       "  <thead>\n",
       "    <tr style=\"text-align: right;\">\n",
       "      <th></th>\n",
       "      <th>sentence</th>\n",
       "      <th>label</th>\n",
       "      <th>source</th>\n",
       "    </tr>\n",
       "  </thead>\n",
       "  <tbody>\n",
       "    <tr>\n",
       "      <th>0</th>\n",
       "      <td>Wow... Loved this place.</td>\n",
       "      <td>1</td>\n",
       "      <td>yelp</td>\n",
       "    </tr>\n",
       "    <tr>\n",
       "      <th>1</th>\n",
       "      <td>Crust is not good.</td>\n",
       "      <td>0</td>\n",
       "      <td>yelp</td>\n",
       "    </tr>\n",
       "    <tr>\n",
       "      <th>2</th>\n",
       "      <td>Not tasty and the texture was just nasty.</td>\n",
       "      <td>0</td>\n",
       "      <td>yelp</td>\n",
       "    </tr>\n",
       "    <tr>\n",
       "      <th>3</th>\n",
       "      <td>Stopped by during the late May bank holiday of...</td>\n",
       "      <td>1</td>\n",
       "      <td>yelp</td>\n",
       "    </tr>\n",
       "    <tr>\n",
       "      <th>4</th>\n",
       "      <td>The selection on the menu was great and so wer...</td>\n",
       "      <td>1</td>\n",
       "      <td>yelp</td>\n",
       "    </tr>\n",
       "  </tbody>\n",
       "</table>\n",
       "</div>"
      ],
      "text/plain": [
       "                                            sentence  label source\n",
       "0                           Wow... Loved this place.      1   yelp\n",
       "1                                 Crust is not good.      0   yelp\n",
       "2          Not tasty and the texture was just nasty.      0   yelp\n",
       "3  Stopped by during the late May bank holiday of...      1   yelp\n",
       "4  The selection on the menu was great and so wer...      1   yelp"
      ]
     },
     "execution_count": 14,
     "metadata": {},
     "output_type": "execute_result"
    }
   ],
   "source": [
    "# SENTIMENT ANALISIS CON CONVOLUTIONAL NN\n",
    "\n",
    "import pandas as pd\n",
    "\n",
    "filepath_dict = {'yelp':'yelp_labelled.txt',\n",
    "                 'amazon':'amazon_cells_labelled.txt',\n",
    "                 'imdb':'imdb_labelled.txt'}\n",
    "\n",
    "df_list = []\n",
    "for source, filepath in filepath_dict.items():\n",
    "    df = pd.read_csv(filepath, names=['sentence', 'label'], sep='\\t')\n",
    "    df['source'] = source  # Add another column filled with the source name\n",
    "    df_list.append(df)\n",
    "\n",
    "df = pd.concat(df_list)\n",
    "df.head()"
   ]
  },
  {
   "cell_type": "code",
   "execution_count": null,
   "metadata": {},
   "outputs": [],
   "source": [
    "from sklearn.feature_extraction.text import CountVectorizer\n",
    "from sklearn.model_selection import train_test_split"
   ]
  },
  {
   "cell_type": "code",
   "execution_count": null,
   "metadata": {},
   "outputs": [],
   "source": [
    "from keras.preprocessing.text import Tokenizer\n",
    "tokenizer = Tokenizer(num_wrods=5000)\n",
    "tokenizer.fit_on_texts(sentences_train)\n",
    "\n",
    "x_train = tokenizer.text_to_sequences(sequences_train)\n",
    "x_test = tokenizer.text_to_sequences(sequences_test)\n",
    "\n",
    "vocagb_size = len(tokenizer.word_index) + 1\n"
   ]
  },
  {
   "cell_type": "code",
   "execution_count": 15,
   "metadata": {},
   "outputs": [
    {
     "name": "stdout",
     "output_type": "stream",
     "text": [
      "Object `Tokenizer` not found.\n"
     ]
    }
   ],
   "source": [
    "Tokenizer??"
   ]
  }
 ],
 "metadata": {
  "kernelspec": {
   "display_name": "Python [conda env:ks_dl_course]",
   "language": "python",
   "name": "conda-env-ks_dl_course-py"
  },
  "language_info": {
   "codemirror_mode": {
    "name": "ipython",
    "version": 3
   },
   "file_extension": ".py",
   "mimetype": "text/x-python",
   "name": "python",
   "nbconvert_exporter": "python",
   "pygments_lexer": "ipython3",
   "version": "3.6.6"
  }
 },
 "nbformat": 4,
 "nbformat_minor": 2
}
