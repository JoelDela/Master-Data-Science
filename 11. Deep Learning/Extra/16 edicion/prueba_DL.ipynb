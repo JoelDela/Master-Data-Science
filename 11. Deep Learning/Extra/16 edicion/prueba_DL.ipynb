{
 "cells": [
  {
   "cell_type": "code",
   "execution_count": 1,
   "metadata": {},
   "outputs": [
    {
     "name": "stderr",
     "output_type": "stream",
     "text": [
      "Using TensorFlow backend.\n"
     ]
    }
   ],
   "source": [
    "from keras import layers\n",
    "from keras import models\n",
    "from keras import optimizers\n",
    "from keras import metrics\n",
    "from keras import losses\n",
    "import numpy as np\n",
    "import matplotlib.pyplot as plt\n",
    "%matplotlib inline\n",
    "\n",
    "plt.style.use('seaborn')"
   ]
  },
  {
   "cell_type": "code",
   "execution_count": 2,
   "metadata": {
    "scrolled": true
   },
   "outputs": [
    {
     "name": "stdout",
     "output_type": "stream",
     "text": [
      "_________________________________________________________________\n",
      "Layer (type)                 Output Shape              Param #   \n",
      "=================================================================\n",
      "dense_1 (Dense)              (None, 512)               1024      \n",
      "_________________________________________________________________\n",
      "dense_2 (Dense)              (None, 256)               131328    \n",
      "_________________________________________________________________\n",
      "dense_3 (Dense)              (None, 512)               131584    \n",
      "_________________________________________________________________\n",
      "dense_4 (Dense)              (None, 56)                28728     \n",
      "_________________________________________________________________\n",
      "dense_5 (Dense)              (None, 512)               29184     \n",
      "_________________________________________________________________\n",
      "dense_6 (Dense)              (None, 4)                 2052      \n",
      "_________________________________________________________________\n",
      "dense_7 (Dense)              (None, 1)                 5         \n",
      "=================================================================\n",
      "Total params: 323,905\n",
      "Trainable params: 323,905\n",
      "Non-trainable params: 0\n",
      "_________________________________________________________________\n"
     ]
    }
   ],
   "source": [
    "# Definido de forma secuencial\n",
    "m = models.Sequential()\n",
    "m.add(layers.Dense(512, input_shape=(1, ), activation='selu'))\n",
    "m.add(layers.Dense(256, activation='selu'))\n",
    "m.add(layers.Dense(128, activation='selu'))\n",
    "m.add(layers.Dense(64, activation='selu'))\n",
    "m.add(layers.Dense(8, activation='selu'))\n",
    "m.add(layers.Dense(4, activation='selu'))\n",
    "m.add(layers.Dense(1))\n",
    "\n",
    "# summary\n",
    "m.summary()\n",
    "\n",
    "# compile\n",
    "m.compile(optimizer=optimizers.rmsprop(), loss=losses.mae)\n",
    "\n",
    "# fit\n",
    "h = m.fit(X_train, y_train, batch_size=500, epochs=100, validation_split=.2)"
   ]
  },
  {
   "cell_type": "code",
   "execution_count": null,
   "metadata": {},
   "outputs": [],
   "source": [
    "# plot loss\n",
    "plt.plot(h.history['val_loss'], c='r')\n",
    "plt.plot(h.history['loss'], c='g')"
   ]
  },
  {
   "cell_type": "code",
   "execution_count": null,
   "metadata": {},
   "outputs": [],
   "source": [
    "data_x_test = (x_test - x_test.mean())/x_test.std()\n",
    "data_x_test = [data_x_test, data_x_test**2, data_x_test**3]\n",
    "\n",
    "plt.plot(x_train, m.predict(data_x) * y_train.std() + y_train.mean(), '--')\n",
    "plt.plot(x_test, m.predict(data_x_test) * y_train.std() + y_train.mean())"
   ]
  }
 ],
 "metadata": {
  "kernelspec": {
   "display_name": "Python 3",
   "language": "python",
   "name": "python3"
  },
  "language_info": {
   "codemirror_mode": {
    "name": "ipython",
    "version": 3
   },
   "file_extension": ".py",
   "mimetype": "text/x-python",
   "name": "python",
   "nbconvert_exporter": "python",
   "pygments_lexer": "ipython3",
   "version": "3.6.6"
  }
 },
 "nbformat": 4,
 "nbformat_minor": 2
}
