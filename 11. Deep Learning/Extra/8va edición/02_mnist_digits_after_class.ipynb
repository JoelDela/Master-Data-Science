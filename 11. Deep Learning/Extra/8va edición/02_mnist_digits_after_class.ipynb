{
 "cells": [
  {
   "cell_type": "code",
   "execution_count": 1,
   "metadata": {
    "colab": {
     "base_uri": "https://localhost:8080/",
     "height": 34
    },
    "colab_type": "code",
    "id": "96-FAN3Jmx8h",
    "outputId": "7220fdde-7e6a-4c5f-fb45-e8af82a2d38d"
   },
   "outputs": [
    {
     "name": "stdout",
     "output_type": "stream",
     "text": [
      "Populating the interactive namespace from numpy and matplotlib\n"
     ]
    }
   ],
   "source": [
    "%pylab inline\n",
    "plt.style.use('seaborn-talk')"
   ]
  },
  {
   "cell_type": "markdown",
   "metadata": {
    "colab_type": "text",
    "id": "gxMyFg8dmx8o"
   },
   "source": [
    "We will use this function to plot the metrics of our training process, to help in choosing the best model"
   ]
  },
  {
   "cell_type": "code",
   "execution_count": 0,
   "metadata": {
    "colab": {},
    "colab_type": "code",
    "id": "icq11Rn3mx8o"
   },
   "outputs": [],
   "source": [
    "def plot_metric(history, metric):\n",
    "    history_dict = history.history\n",
    "    values = history_dict[metric]\n",
    "    if 'val_' + metric in history_dict.keys():  \n",
    "        val_values = history_dict['val_' + metric]\n",
    "\n",
    "    epochs = range(1, len(values) + 1)\n",
    "\n",
    "    if 'val_' + metric in history_dict.keys():  \n",
    "        plt.plot(epochs, val_values, label='Validation')\n",
    "    plt.semilogy(epochs, values, label='Training')\n",
    "\n",
    "    if 'val_' + metric in history_dict.keys():  \n",
    "        plt.title('Training and validation %s' % metric)\n",
    "    else:\n",
    "        plt.title('Training %s' % metric)\n",
    "    plt.xlabel('Epochs')\n",
    "    plt.ylabel(metric.capitalize())\n",
    "    plt.legend()\n",
    "    plt.grid()\n",
    "\n",
    "    plt.show()  "
   ]
  },
  {
   "cell_type": "markdown",
   "metadata": {
    "colab_type": "text",
    "id": "XKA8V1c9mx8r"
   },
   "source": [
    "We will use this function to explore the data"
   ]
  },
  {
   "cell_type": "code",
   "execution_count": 0,
   "metadata": {
    "colab": {},
    "colab_type": "code",
    "id": "htj08u-Smx8r"
   },
   "outputs": [],
   "source": [
    "def plot_mnist_image(N, imgs, labels):\n",
    "  print(\"The image below should show the number %d\" % labels[N])\n",
    "  plt.imshow(imgs[N,], cmap=plt.cm.binary)\n",
    "  plt.grid(True)"
   ]
  },
  {
   "cell_type": "markdown",
   "metadata": {
    "colab_type": "text",
    "id": "755yKXOYmx8s"
   },
   "source": [
    "# The problem\n",
    "\n",
    "We will recognize handwritten digits. For an image containing a number between 0 and 9, we will recognize the number and will produce an int as output"
   ]
  },
  {
   "cell_type": "code",
   "execution_count": 4,
   "metadata": {
    "colab": {
     "base_uri": "https://localhost:8080/",
     "height": 34
    },
    "colab_type": "code",
    "id": "Yv8pXF24mx8u",
    "outputId": "c03bb65c-a26a-4067-e30a-93aa44634012"
   },
   "outputs": [
    {
     "name": "stderr",
     "output_type": "stream",
     "text": [
      "Using TensorFlow backend.\n"
     ]
    }
   ],
   "source": [
    "from keras.datasets import mnist"
   ]
  },
  {
   "cell_type": "code",
   "execution_count": 5,
   "metadata": {
    "colab": {
     "base_uri": "https://localhost:8080/",
     "height": 51
    },
    "colab_type": "code",
    "id": "73RTl2yxmx8w",
    "outputId": "4f5e29d6-f065-4980-fa9a-ecac07034fb2"
   },
   "outputs": [
    {
     "name": "stdout",
     "output_type": "stream",
     "text": [
      "Downloading data from https://s3.amazonaws.com/img-datasets/mnist.npz\n",
      "11493376/11490434 [==============================] - 9s 1us/step\n"
     ]
    }
   ],
   "source": [
    "# Run this to download the data prior to the lecture\n",
    "train_orig_data, test_orig_data = mnist.load_data()"
   ]
  },
  {
   "cell_type": "code",
   "execution_count": 0,
   "metadata": {
    "colab": {},
    "colab_type": "code",
    "id": "SEMdIxwGmx8y"
   },
   "outputs": [],
   "source": [
    "imgs_train_orig, label_train_orig = train_orig_data\n",
    "imgs_test_orig, label_test_orig = test_orig_data"
   ]
  },
  {
   "cell_type": "code",
   "execution_count": 10,
   "metadata": {
    "colab": {
     "base_uri": "https://localhost:8080/",
     "height": 34
    },
    "colab_type": "code",
    "id": "KzJ166WcqqvB",
    "outputId": "dca540fd-5a94-4643-9e0d-5003d72bc5bc"
   },
   "outputs": [
    {
     "data": {
      "text/plain": [
       "(60000, 28, 28)"
      ]
     },
     "execution_count": 10,
     "metadata": {
      "tags": []
     },
     "output_type": "execute_result"
    }
   ],
   "source": [
    "imgs_orig.shape"
   ]
  },
  {
   "cell_type": "code",
   "execution_count": 12,
   "metadata": {
    "colab": {
     "base_uri": "https://localhost:8080/",
     "height": 34
    },
    "colab_type": "code",
    "id": "qjEAklGKq0f8",
    "outputId": "487d3503-1a7e-47bd-bae5-12ef4d90309c"
   },
   "outputs": [
    {
     "data": {
      "text/plain": [
       "(60000,)"
      ]
     },
     "execution_count": 12,
     "metadata": {
      "tags": []
     },
     "output_type": "execute_result"
    }
   ],
   "source": [
    "label_orig.shape"
   ]
  },
  {
   "cell_type": "code",
   "execution_count": 15,
   "metadata": {
    "colab": {
     "base_uri": "https://localhost:8080/",
     "height": 458
    },
    "colab_type": "code",
    "id": "8IgFe8GGq_cE",
    "outputId": "7d69c0f9-3523-4763-dc9e-cd13bef0d1df"
   },
   "outputs": [
    {
     "name": "stdout",
     "output_type": "stream",
     "text": [
      "The image below should show the number 3\n"
     ]
    },
    {
     "data": {
      "image/png": "[encoded data removed]",
      "text/plain": [
       "<matplotlib.figure.Figure at 0x7f9cc96c01d0>"
      ]
     },
     "metadata": {
      "tags": []
     },
     "output_type": "display_data"
    }
   ],
   "source": [
    "plot_mnist_image(25000, imgs_orig, label_orig)"
   ]
  },
  {
   "cell_type": "markdown",
   "metadata": {
    "colab_type": "text",
    "id": "2k6lAQCamx80"
   },
   "source": [
    "We will design a network that will be able to recognize that the image is showing the number 7 (for all the images in the test set)"
   ]
  },
  {
   "cell_type": "markdown",
   "metadata": {
    "colab_type": "text",
    "id": "ZILKd0Exmx81"
   },
   "source": [
    "## Data transform\n",
    "\n",
    "We need to change the shape of the data, so it can be fed to the network more easily"
   ]
  },
  {
   "cell_type": "code",
   "execution_count": 0,
   "metadata": {
    "colab": {},
    "colab_type": "code",
    "id": "h5xfg29gmx82"
   },
   "outputs": [],
   "source": [
    "j = imgs_train_orig[523]"
   ]
  },
  {
   "cell_type": "code",
   "execution_count": 20,
   "metadata": {
    "colab": {
     "base_uri": "https://localhost:8080/",
     "height": 34
    },
    "colab_type": "code",
    "id": "R6Z5VaJBsDIb",
    "outputId": "b6c3e49f-6ee2-408a-bd8e-a8eb263dc5eb"
   },
   "outputs": [
    {
     "data": {
      "text/plain": [
       "(28, 28)"
      ]
     },
     "execution_count": 20,
     "metadata": {
      "tags": []
     },
     "output_type": "execute_result"
    }
   ],
   "source": [
    "j.shape"
   ]
  },
  {
   "cell_type": "code",
   "execution_count": 0,
   "metadata": {
    "colab": {},
    "colab_type": "code",
    "id": "db7cne01sFDZ"
   },
   "outputs": [],
   "source": [
    "t = j.reshape((28*28,))"
   ]
  },
  {
   "cell_type": "code",
   "execution_count": 25,
   "metadata": {
    "colab": {
     "base_uri": "https://localhost:8080/",
     "height": 34
    },
    "colab_type": "code",
    "id": "dlmFlxn5sPuH",
    "outputId": "d362a7e8-5ca1-4d42-dddc-106670c29479"
   },
   "outputs": [
    {
     "data": {
      "text/plain": [
       "(784,)"
      ]
     },
     "execution_count": 25,
     "metadata": {
      "tags": []
     },
     "output_type": "execute_result"
    }
   ],
   "source": [
    "t.shape"
   ]
  },
  {
   "cell_type": "code",
   "execution_count": 26,
   "metadata": {
    "colab": {
     "base_uri": "https://localhost:8080/",
     "height": 34
    },
    "colab_type": "code",
    "id": "yy7w1v2KsQ_d",
    "outputId": "9bd5d970-e757-4f82-f9c5-ef49e98d6f6c"
   },
   "outputs": [
    {
     "data": {
      "text/plain": [
       "array([0, 0, 0, 0, 0, 0, 0, 0, 0, 0], dtype=uint8)"
      ]
     },
     "execution_count": 26,
     "metadata": {
      "tags": []
     },
     "output_type": "execute_result"
    }
   ],
   "source": [
    "t[0:10]"
   ]
  },
  {
   "cell_type": "markdown",
   "metadata": {
    "colab_type": "text",
    "id": "v8QVudZqmx85"
   },
   "source": [
    "All the images are 28x28 matrices, with values between 0 and 255. Let's normalize the images, to avoid problems in the numerical computations using large numbers.\n",
    "\n",
    "We will convert the matrix to a vector with 28x28 components, stacking columns on top of each other. This will make the design of the network.\n",
    "* Alternatively, we could add a `Flatten(input_shape=(28,28))` layer to the model"
   ]
  },
  {
   "cell_type": "code",
   "execution_count": 0,
   "metadata": {
    "colab": {},
    "colab_type": "code",
    "id": "58rw9qqxmx86"
   },
   "outputs": [],
   "source": [
    "imgs_train_t = imgs_train_orig.reshape((60000, 28*28))/255\n",
    "imgs_test_t = imgs_test_orig.reshape((10000, 28*28))/255"
   ]
  },
  {
   "cell_type": "code",
   "execution_count": 34,
   "metadata": {
    "colab": {
     "base_uri": "https://localhost:8080/",
     "height": 34
    },
    "colab_type": "code",
    "id": "iPX72fNxs8tQ",
    "outputId": "300c092d-0ace-4fd2-a392-f84ee5975f78"
   },
   "outputs": [
    {
     "data": {
      "text/plain": [
       "(60000, 784)"
      ]
     },
     "execution_count": 34,
     "metadata": {
      "tags": []
     },
     "output_type": "execute_result"
    }
   ],
   "source": [
    "imgs_train_t.shape"
   ]
  },
  {
   "cell_type": "code",
   "execution_count": 35,
   "metadata": {
    "colab": {
     "base_uri": "https://localhost:8080/",
     "height": 34
    },
    "colab_type": "code",
    "id": "FPHUKvVes5oP",
    "outputId": "4dde1de6-7076-47a6-c3a8-97ad5e97dd1a"
   },
   "outputs": [
    {
     "data": {
      "text/plain": [
       "1.0"
      ]
     },
     "execution_count": 35,
     "metadata": {
      "tags": []
     },
     "output_type": "execute_result"
    }
   ],
   "source": [
    "imgs_train_t[523].max()"
   ]
  },
  {
   "cell_type": "markdown",
   "metadata": {
    "colab_type": "text",
    "id": "cX5ROTi5mx87"
   },
   "source": [
    "Because we want to assign a *category* to each image, we need to transform the output to categorical format"
   ]
  },
  {
   "cell_type": "code",
   "execution_count": 36,
   "metadata": {
    "colab": {
     "base_uri": "https://localhost:8080/",
     "height": 34
    },
    "colab_type": "code",
    "id": "bKB-flVKmx88",
    "outputId": "b0e8d333-6989-4df3-872b-d774ea87b67c"
   },
   "outputs": [
    {
     "data": {
      "text/plain": [
       "array([5, 0, 4, 1, 9, 2, 1, 3, 1, 4], dtype=uint8)"
      ]
     },
     "execution_count": 36,
     "metadata": {
      "tags": []
     },
     "output_type": "execute_result"
    }
   ],
   "source": [
    "label_train_orig[0:10]"
   ]
  },
  {
   "cell_type": "markdown",
   "metadata": {
    "colab_type": "text",
    "id": "JDWtCL9Smx8-"
   },
   "source": [
    "Initially, our target data is just a set of numbers"
   ]
  },
  {
   "cell_type": "code",
   "execution_count": 0,
   "metadata": {
    "colab": {},
    "colab_type": "code",
    "id": "uDEik7W3mx8-"
   },
   "outputs": [],
   "source": []
  },
  {
   "cell_type": "markdown",
   "metadata": {
    "colab_type": "text",
    "id": "BNK_824-mx9A"
   },
   "source": [
    "We are going to transform it to **1-HOT encoding format**"
   ]
  },
  {
   "cell_type": "code",
   "execution_count": 0,
   "metadata": {
    "colab": {},
    "colab_type": "code",
    "id": "SW8YGIb_mx9B"
   },
   "outputs": [],
   "source": [
    "from keras.utils import to_categorical"
   ]
  },
  {
   "cell_type": "code",
   "execution_count": 0,
   "metadata": {
    "colab": {},
    "colab_type": "code",
    "id": "sp6O-siIuokL"
   },
   "outputs": [],
   "source": [
    "label_train_t = to_categorical(label_train_orig)\n",
    "label_test_t = to_categorical(label_test_orig)"
   ]
  },
  {
   "cell_type": "markdown",
   "metadata": {
    "colab_type": "text",
    "id": "WKAONyGdmx9E"
   },
   "source": [
    "We have to repeat the same process with the test data"
   ]
  },
  {
   "cell_type": "code",
   "execution_count": 41,
   "metadata": {
    "colab": {
     "base_uri": "https://localhost:8080/",
     "height": 34
    },
    "colab_type": "code",
    "id": "qBq0Vdg8mx9F",
    "outputId": "c886e270-897f-4028-9dfb-a092375f4e2c"
   },
   "outputs": [
    {
     "data": {
      "text/plain": [
       "7"
      ]
     },
     "execution_count": 41,
     "metadata": {
      "tags": []
     },
     "output_type": "execute_result"
    }
   ],
   "source": [
    "label_train_orig[1523]"
   ]
  },
  {
   "cell_type": "code",
   "execution_count": 42,
   "metadata": {
    "colab": {
     "base_uri": "https://localhost:8080/",
     "height": 34
    },
    "colab_type": "code",
    "id": "UtijH8LTu1ip",
    "outputId": "85af1ca0-4271-4934-f045-c60fee44da3e"
   },
   "outputs": [
    {
     "data": {
      "text/plain": [
       "array([0., 0., 0., 0., 0., 0., 0., 1., 0., 0.], dtype=float32)"
      ]
     },
     "execution_count": 42,
     "metadata": {
      "tags": []
     },
     "output_type": "execute_result"
    }
   ],
   "source": [
    "label_train_t[1523]"
   ]
  },
  {
   "cell_type": "markdown",
   "metadata": {
    "colab_type": "text",
    "id": "00g4LlOXmx9H"
   },
   "source": [
    "## Let's build the model"
   ]
  },
  {
   "cell_type": "code",
   "execution_count": 0,
   "metadata": {
    "colab": {},
    "colab_type": "code",
    "id": "_OxlG18mmx9H"
   },
   "outputs": [],
   "source": [
    "from keras import models\n",
    "from keras import layers"
   ]
  },
  {
   "cell_type": "code",
   "execution_count": 0,
   "metadata": {
    "colab": {},
    "colab_type": "code",
    "id": "2ksyPzNavYfC"
   },
   "outputs": [],
   "source": [
    "m = models.Sequential()"
   ]
  },
  {
   "cell_type": "code",
   "execution_count": 0,
   "metadata": {
    "colab": {},
    "colab_type": "code",
    "id": "mm3GZwqBvcU8"
   },
   "outputs": [],
   "source": [
    "m.add(layers.Dense(128, input_shape=(28*28,), activation='relu'))\n",
    "m.add(layers.Dense(64, activation='relu'))\n",
    "m.add(layers.Dense(10, activation='softmax'))"
   ]
  },
  {
   "cell_type": "code",
   "execution_count": 0,
   "metadata": {
    "colab": {},
    "colab_type": "code",
    "id": "WqyVnqVOwqw2"
   },
   "outputs": [],
   "source": [
    "from keras import optimizers\n",
    "from keras import losses\n",
    "from keras import metrics"
   ]
  },
  {
   "cell_type": "code",
   "execution_count": 0,
   "metadata": {
    "colab": {},
    "colab_type": "code",
    "id": "BIEzWacCwx3d"
   },
   "outputs": [],
   "source": [
    "m.compile(\n",
    "    optimizer=optimizers.rmsprop(),\n",
    "    loss=losses.categorical_crossentropy,\n",
    "    metrics=[metrics.categorical_accuracy]\n",
    ")"
   ]
  },
  {
   "cell_type": "code",
   "execution_count": 57,
   "metadata": {
    "colab": {
     "base_uri": "https://localhost:8080/",
     "height": 1083
    },
    "colab_type": "code",
    "id": "hFQx8vo2yR8q",
    "outputId": "24bc5d2a-80b4-45f8-c0ae-38f452becf9f"
   },
   "outputs": [
    {
     "name": "stdout",
     "output_type": "stream",
     "text": [
      "Train on 48000 samples, validate on 12000 samples\n",
      "Epoch 1/30\n",
      "48000/48000 [==============================] - 1s 15us/step - loss: 0.7687 - categorical_accuracy: 0.7938 - val_loss: 0.3712 - val_categorical_accuracy: 0.8953\n",
      "Epoch 2/30\n",
      "48000/48000 [==============================] - 1s 11us/step - loss: 0.3231 - categorical_accuracy: 0.9085 - val_loss: 0.2725 - val_categorical_accuracy: 0.9205\n",
      "Epoch 3/30\n",
      "48000/48000 [==============================] - 1s 11us/step - loss: 0.2469 - categorical_accuracy: 0.9285 - val_loss: 0.2421 - val_categorical_accuracy: 0.9282\n",
      "Epoch 4/30\n",
      "48000/48000 [==============================] - 0s 10us/step - loss: 0.2019 - categorical_accuracy: 0.9406 - val_loss: 0.1835 - val_categorical_accuracy: 0.9478\n",
      "Epoch 5/30\n",
      "48000/48000 [==============================] - 0s 10us/step - loss: 0.1716 - categorical_accuracy: 0.9493 - val_loss: 0.1721 - val_categorical_accuracy: 0.9504\n",
      "Epoch 6/30\n",
      "48000/48000 [==============================] - 1s 11us/step - loss: 0.1486 - categorical_accuracy: 0.9557 - val_loss: 0.1563 - val_categorical_accuracy: 0.9558\n",
      "Epoch 7/30\n",
      "48000/48000 [==============================] - 0s 10us/step - loss: 0.1304 - categorical_accuracy: 0.9617 - val_loss: 0.1357 - val_categorical_accuracy: 0.9619\n",
      "Epoch 8/30\n",
      "48000/48000 [==============================] - 1s 10us/step - loss: 0.1151 - categorical_accuracy: 0.9664 - val_loss: 0.1247 - val_categorical_accuracy: 0.9641\n",
      "Epoch 9/30\n",
      "48000/48000 [==============================] - 0s 10us/step - loss: 0.1024 - categorical_accuracy: 0.9700 - val_loss: 0.1158 - val_categorical_accuracy: 0.9653\n",
      "Epoch 10/30\n",
      "48000/48000 [==============================] - 0s 10us/step - loss: 0.0904 - categorical_accuracy: 0.9732 - val_loss: 0.1090 - val_categorical_accuracy: 0.9660\n",
      "Epoch 11/30\n",
      "48000/48000 [==============================] - 0s 10us/step - loss: 0.0816 - categorical_accuracy: 0.9760 - val_loss: 0.1273 - val_categorical_accuracy: 0.9617\n",
      "Epoch 12/30\n",
      "48000/48000 [==============================] - 0s 10us/step - loss: 0.0733 - categorical_accuracy: 0.9788 - val_loss: 0.1146 - val_categorical_accuracy: 0.9659\n",
      "Epoch 13/30\n",
      "48000/48000 [==============================] - 0s 10us/step - loss: 0.0661 - categorical_accuracy: 0.9804 - val_loss: 0.1002 - val_categorical_accuracy: 0.9701\n",
      "Epoch 14/30\n",
      "48000/48000 [==============================] - 0s 10us/step - loss: 0.0611 - categorical_accuracy: 0.9817 - val_loss: 0.0955 - val_categorical_accuracy: 0.9717\n",
      "Epoch 15/30\n",
      "48000/48000 [==============================] - 0s 10us/step - loss: 0.0553 - categorical_accuracy: 0.9838 - val_loss: 0.0912 - val_categorical_accuracy: 0.9729\n",
      "Epoch 16/30\n",
      "48000/48000 [==============================] - 1s 11us/step - loss: 0.0499 - categorical_accuracy: 0.9855 - val_loss: 0.0894 - val_categorical_accuracy: 0.9720\n",
      "Epoch 17/30\n",
      "48000/48000 [==============================] - 0s 10us/step - loss: 0.0461 - categorical_accuracy: 0.9864 - val_loss: 0.0960 - val_categorical_accuracy: 0.9713\n",
      "Epoch 18/30\n",
      "48000/48000 [==============================] - 1s 10us/step - loss: 0.0413 - categorical_accuracy: 0.9883 - val_loss: 0.1002 - val_categorical_accuracy: 0.9714\n",
      "Epoch 19/30\n",
      "48000/48000 [==============================] - 0s 10us/step - loss: 0.0391 - categorical_accuracy: 0.9889 - val_loss: 0.0917 - val_categorical_accuracy: 0.9715\n",
      "Epoch 20/30\n",
      "48000/48000 [==============================] - 0s 10us/step - loss: 0.0351 - categorical_accuracy: 0.9899 - val_loss: 0.0910 - val_categorical_accuracy: 0.9731\n",
      "Epoch 21/30\n",
      "48000/48000 [==============================] - 1s 11us/step - loss: 0.0321 - categorical_accuracy: 0.9906 - val_loss: 0.0877 - val_categorical_accuracy: 0.9742\n",
      "Epoch 22/30\n",
      "48000/48000 [==============================] - 0s 10us/step - loss: 0.0282 - categorical_accuracy: 0.9920 - val_loss: 0.0885 - val_categorical_accuracy: 0.9745\n",
      "Epoch 23/30\n",
      "48000/48000 [==============================] - 0s 10us/step - loss: 0.0264 - categorical_accuracy: 0.9930 - val_loss: 0.0931 - val_categorical_accuracy: 0.9729\n",
      "Epoch 24/30\n",
      "48000/48000 [==============================] - 0s 10us/step - loss: 0.0241 - categorical_accuracy: 0.9933 - val_loss: 0.0859 - val_categorical_accuracy: 0.9755\n",
      "Epoch 25/30\n",
      "48000/48000 [==============================] - 0s 10us/step - loss: 0.0220 - categorical_accuracy: 0.9942 - val_loss: 0.0913 - val_categorical_accuracy: 0.9750\n",
      "Epoch 26/30\n",
      "48000/48000 [==============================] - 1s 11us/step - loss: 0.0200 - categorical_accuracy: 0.9949 - val_loss: 0.0860 - val_categorical_accuracy: 0.9750\n",
      "Epoch 27/30\n",
      "48000/48000 [==============================] - 0s 10us/step - loss: 0.0178 - categorical_accuracy: 0.9956 - val_loss: 0.0895 - val_categorical_accuracy: 0.9752\n",
      "Epoch 28/30\n",
      "48000/48000 [==============================] - 1s 11us/step - loss: 0.0165 - categorical_accuracy: 0.9961 - val_loss: 0.0978 - val_categorical_accuracy: 0.9731\n",
      "Epoch 29/30\n",
      "48000/48000 [==============================] - 0s 10us/step - loss: 0.0149 - categorical_accuracy: 0.9963 - val_loss: 0.0932 - val_categorical_accuracy: 0.9757\n",
      "Epoch 30/30\n",
      "48000/48000 [==============================] - 0s 10us/step - loss: 0.0131 - categorical_accuracy: 0.9969 - val_loss: 0.1075 - val_categorical_accuracy: 0.9713\n"
     ]
    }
   ],
   "source": [
    "h = m.fit(imgs_train_t, label_train_t,\n",
    "         epochs=30, batch_size=1024, validation_split=.2\n",
    "         )"
   ]
  },
  {
   "cell_type": "code",
   "execution_count": 58,
   "metadata": {
    "colab": {
     "base_uri": "https://localhost:8080/",
     "height": 477
    },
    "colab_type": "code",
    "id": "huhUulzHyy-4",
    "outputId": "782649ef-82be-4ee1-b552-ddedf32520b8"
   },
   "outputs": [
    {
     "data": {
      "image/png": "[encoded data removed]",
      "text/plain": [
       "<matplotlib.figure.Figure at 0x7f9ca6c94710>"
      ]
     },
     "metadata": {
      "tags": []
     },
     "output_type": "display_data"
    }
   ],
   "source": [
    "plot_metric(h, 'loss')"
   ]
  },
  {
   "cell_type": "code",
   "execution_count": 59,
   "metadata": {
    "colab": {
     "base_uri": "https://localhost:8080/",
     "height": 477
    },
    "colab_type": "code",
    "id": "xtNCybwAzkgD",
    "outputId": "bf17bdcc-74ee-42c6-9977-e27775e2ecf8"
   },
   "outputs": [
    {
     "data": {
      "image/png": "[encoded data removed]",
      "text/plain": [
       "<matplotlib.figure.Figure at 0x7f9ca5b64e48>"
      ]
     },
     "metadata": {
      "tags": []
     },
     "output_type": "display_data"
    }
   ],
   "source": [
    "plot_metric(h, 'categorical_accuracy')"
   ]
  },
  {
   "cell_type": "code",
   "execution_count": 60,
   "metadata": {
    "colab": {
     "base_uri": "https://localhost:8080/",
     "height": 51
    },
    "colab_type": "code",
    "id": "zh80Xhsez6pe",
    "outputId": "7f498aba-23bf-4655-8eaf-1b0c329c10c0"
   },
   "outputs": [
    {
     "name": "stdout",
     "output_type": "stream",
     "text": [
      "10000/10000 [==============================] - 1s 60us/step\n"
     ]
    },
    {
     "data": {
      "text/plain": [
       "[0.10141738080866053, 0.9734]"
      ]
     },
     "execution_count": 60,
     "metadata": {
      "tags": []
     },
     "output_type": "execute_result"
    }
   ],
   "source": [
    "m.evaluate(imgs_test_t, label_test_t)"
   ]
  },
  {
   "cell_type": "markdown",
   "metadata": {
    "colab_type": "text",
    "id": "AMLCQGvRmx9J"
   },
   "source": [
    "Here we will make some decisions about how to train our model.\n",
    "\n",
    "The **objective function**, called **loss function** in Deep Learning, will be *categorical crossentropy*. This is because we are trying to predict discrete classes. If we choose a different function, the solution will be different. This is the function that will tell us when we have found the *solution*. Different functions will point to different *solutions*.\n",
    "\n",
    "The **optimizer** is the method that we will use to find the minimum of the **loss function**. In general, we will not find the global minimum of the loss function, but a minimum that is good enough. *RMSProp* is one the variants of gradient descent. But there are many more:\n",
    " - http://ruder.io/optimizing-gradient-descent/\n",
    " \n",
    "These two settings will define what solution we will find during the training process.\n",
    "\n",
    "The other parameter, the **metrics**, is only for information purposes. In each step of the training (called **epoch**), Keras will report the value of the metrics. But whether we choose one metric or another will not influence the training process. It is only for reporting how the training is going. That information will be useful for the validation of the model, that is, for the **hyperparameters tuning**.\n"
   ]
  },
  {
   "cell_type": "markdown",
   "metadata": {
    "colab_type": "text",
    "id": "y6w27anSmx9K"
   },
   "source": [
    "Now let's fit the neural network. We will keep the results in a *history* object to plot some parameters after the training, and use that information for improving our model (changing layers, activation functions, etc). This process is called **hyperparameters tuning** or hypeparameters search.\n",
    "\n",
    "Here we need to set two parameters: the number of **epochs** and the **batch size**.\n",
    "\n",
    "In previous cells, I have said that the training process is an optimization problem: we try to find the minimum.\n",
    "\n",
    "That's actually not entirely true. In practice, we don't keep searching for a minimum. Instead, we train for a preset number of epochs. Then we analyze the output using the validation set. If we detect overfit, then we reduce the number of epochs. If we don't detect it, then maybe we can keep going for some more epochs to find a better model. The number of epochs is another hyperparameter. In general, we should stop the training as early as possible. Any further epoch can make our model overfit, and therefore generalize poorly.\n",
    "\n",
    "The batch size is another hyperparameter. The network is not updated item by item, vector by vector. We can actually calculate the weights for a batch of several items, forming a matrix or a tensor. The batch size will affect the granularity of the calculations and the performance. A larger batch size will probably result in a slightly worse accuracy, but in a better performance. As long as the batch size is not so huge that it cannot be kept in memory. Because we are running on a GPU, it is a good idea to use a power of 2 for the batch size. It will probably make a better use of the GPU. But again, the effect of the batch size must be tested using the validation set, and adjusted until we find a good value for that parameter.\n",
    "\n",
    "An epoch is a full pass over the training dataset. At the end of each epoch, Keras will calculate the value of the metrics for the training set, and the loss function and metrics for the validation set. The loss and metrics of the validation set are useful for the hyperparameters tuning process.\n",
    "\n"
   ]
  },
  {
   "cell_type": "code",
   "execution_count": 0,
   "metadata": {
    "colab": {},
    "colab_type": "code",
    "id": "8p7rQhJBmx9L"
   },
   "outputs": [],
   "source": []
  },
  {
   "cell_type": "markdown",
   "metadata": {
    "colab_type": "text",
    "id": "NIGyBGDZmx9M"
   },
   "source": [
    "## Exercises\n",
    "\n",
    "_**EXERCISE 1**_: Change the activation function in the model. How does it affect accuracy? What happens if you use linear activation function? What happens if we use the $\\tanh$ function? Does it affect to overfitting?\n",
    " * https://keras.io/activations/\n",
    " \n",
    "Here we see that the accuracy keeps increasing over epochs. An overfitted model would produce a decrease of the validation accuracy at some point. This means that we have found an optimal model. The validation loss is stuck at a minimum, but the accuracy is not affected by the extra epochs.\n",
    "\n",
    "_**EXERCISE 2**_: How is the model accuracy (measured with the test set, see below) affected if we start over and fit for 40 epochs? And for 4? And for 400?\n",
    "\n",
    "_**EXERCISE 4**_: What is the most simple model that you can get that achieves a similar validation performance (accuracy)? (the loss values are not comparable, different networks will have different ranges of values for the loss functions)\n",
    "\n",
    "Now let's check how well the model works with the test dataset. Remember that we don't have used it at all during the training and tuning of the model."
   ]
  },
  {
   "cell_type": "markdown",
   "metadata": {
    "colab_type": "text",
    "id": "lydMEjf9mx9N"
   },
   "source": [
    "## Analyze the classification performance"
   ]
  },
  {
   "cell_type": "code",
   "execution_count": 62,
   "metadata": {
    "colab": {
     "base_uri": "https://localhost:8080/",
     "height": 34
    },
    "colab_type": "code",
    "id": "RkOZ7BGwmx9N",
    "outputId": "ba6e9e12-f359-47ef-ac3e-c7f782a774ec"
   },
   "outputs": [
    {
     "name": "stdout",
     "output_type": "stream",
     "text": [
      "10000/10000 [==============================] - 1s 63us/step\n"
     ]
    }
   ],
   "source": [
    "_, acc = m.evaluate(imgs_test_t, label_test_t)"
   ]
  },
  {
   "cell_type": "code",
   "execution_count": 63,
   "metadata": {
    "colab": {
     "base_uri": "https://localhost:8080/",
     "height": 34
    },
    "colab_type": "code",
    "id": "Loqh6rct1ejg",
    "outputId": "8a400a41-0375-42ee-95ad-1e81e36c2f62"
   },
   "outputs": [
    {
     "data": {
      "text/plain": [
       "0.9734"
      ]
     },
     "execution_count": 63,
     "metadata": {
      "tags": []
     },
     "output_type": "execute_result"
    }
   ],
   "source": [
    "acc"
   ]
  },
  {
   "cell_type": "markdown",
   "metadata": {
    "colab_type": "text",
    "id": "hcejnAKwmx9P"
   },
   "source": [
    "That's about a $98\\%$ accuracy on the test set. Not bad.\n",
    "\n",
    "With that accuracy, this is the number of images that are wrongly classified by our model:"
   ]
  },
  {
   "cell_type": "code",
   "execution_count": 67,
   "metadata": {
    "colab": {
     "base_uri": "https://localhost:8080/",
     "height": 34
    },
    "colab_type": "code",
    "id": "wMG9AqsKmx9P",
    "outputId": "485830f2-b93f-4e4a-9c9b-c8b4ec137200"
   },
   "outputs": [
    {
     "data": {
      "text/plain": [
       "265.99999999999955"
      ]
     },
     "execution_count": 67,
     "metadata": {
      "tags": []
     },
     "output_type": "execute_result"
    }
   ],
   "source": [
    "(1-acc)*imgs_test_t.shape[0]"
   ]
  },
  {
   "cell_type": "markdown",
   "metadata": {
    "colab_type": "text",
    "id": "yoUWbqSPmx9S"
   },
   "source": [
    "Let's see how well it predicts some random items from the test set."
   ]
  },
  {
   "cell_type": "code",
   "execution_count": 68,
   "metadata": {
    "colab": {
     "base_uri": "https://localhost:8080/",
     "height": 458
    },
    "colab_type": "code",
    "id": "7napXDNjmx9T",
    "outputId": "575feea9-c49d-4bc0-d9be-358b049164f3"
   },
   "outputs": [
    {
     "name": "stdout",
     "output_type": "stream",
     "text": [
      "The image below should show the number 8\n"
     ]
    },
    {
     "data": {
      "image/png": "[encoded data removed]",
      "text/plain": [
       "<matplotlib.figure.Figure at 0x7f9caead0b00>"
      ]
     },
     "metadata": {
      "tags": []
     },
     "output_type": "display_data"
    }
   ],
   "source": [
    "plot_mnist_image(2543, imgs_test_orig, label_test_orig)"
   ]
  },
  {
   "cell_type": "markdown",
   "metadata": {
    "colab_type": "text",
    "id": "d7WBpo2pmx9V"
   },
   "source": [
    "The prediction is a 10-element vector (*1-HOT encoded vector*), with the probability of each class. The location of the max is giving us the predicted class."
   ]
  },
  {
   "cell_type": "code",
   "execution_count": 70,
   "metadata": {
    "colab": {
     "base_uri": "https://localhost:8080/",
     "height": 34
    },
    "colab_type": "code",
    "id": "oUAictHDmx9W",
    "outputId": "aa9ebec1-ffe9-4c4e-95dc-1ffad6fd6a64"
   },
   "outputs": [
    {
     "data": {
      "text/plain": [
       "8"
      ]
     },
     "execution_count": 70,
     "metadata": {
      "tags": []
     },
     "output_type": "execute_result"
    }
   ],
   "source": [
    "np.argmax(m.predict(imgs_test_t[2543:2544]))"
   ]
  },
  {
   "cell_type": "markdown",
   "metadata": {
    "colab_type": "text",
    "id": "zCISgAwamx9X"
   },
   "source": [
    "YES! Our model predicts 8\n",
    "\n",
    "_**EXERCISE 5**_: Can you find a test item that is predicted wrongly? How many images are predicted wrongly? Can you find all the items that are wrongly classified? For instance, the test element with index 3943 is a 3 but we predict a 5\n"
   ]
  },
  {
   "cell_type": "code",
   "execution_count": 0,
   "metadata": {
    "colab": {},
    "colab_type": "code",
    "id": "u6om8M2x2wu0"
   },
   "outputs": [],
   "source": [
    "preds = np.argmax(m.predict(imgs_test_t), axis=1)"
   ]
  },
  {
   "cell_type": "code",
   "execution_count": 77,
   "metadata": {
    "colab": {
     "base_uri": "https://localhost:8080/",
     "height": 34
    },
    "colab_type": "code",
    "id": "Drg6SxKH21hX",
    "outputId": "d0b8eacb-aa31-4388-e871-9358ce3178d6"
   },
   "outputs": [
    {
     "data": {
      "text/plain": [
       "(10000,)"
      ]
     },
     "execution_count": 77,
     "metadata": {
      "tags": []
     },
     "output_type": "execute_result"
    }
   ],
   "source": [
    "preds.shape"
   ]
  },
  {
   "cell_type": "code",
   "execution_count": 0,
   "metadata": {
    "colab": {},
    "colab_type": "code",
    "id": "IFdNUtr73Sd3"
   },
   "outputs": [],
   "source": [
    "pos = np.where(preds != label_test_orig)[0]"
   ]
  },
  {
   "cell_type": "code",
   "execution_count": 87,
   "metadata": {
    "colab": {
     "base_uri": "https://localhost:8080/",
     "height": 34
    },
    "colab_type": "code",
    "id": "k_96bwkj3laU",
    "outputId": "4c8120ce-8b6a-4283-8a27-a3dbab7fdb9d"
   },
   "outputs": [
    {
     "data": {
      "text/plain": [
       "(266,)"
      ]
     },
     "execution_count": 87,
     "metadata": {
      "tags": []
     },
     "output_type": "execute_result"
    }
   ],
   "source": [
    "pos.shape"
   ]
  },
  {
   "cell_type": "code",
   "execution_count": 88,
   "metadata": {
    "colab": {
     "base_uri": "https://localhost:8080/",
     "height": 34
    },
    "colab_type": "code",
    "id": "o3AVv_sz4EF-",
    "outputId": "dc3cae5a-d758-4362-b1aa-e99d632b5e87"
   },
   "outputs": [
    {
     "data": {
      "text/plain": [
       "1709"
      ]
     },
     "execution_count": 88,
     "metadata": {
      "tags": []
     },
     "output_type": "execute_result"
    }
   ],
   "source": [
    "pos[56]"
   ]
  },
  {
   "cell_type": "code",
   "execution_count": 89,
   "metadata": {
    "colab": {
     "base_uri": "https://localhost:8080/",
     "height": 458
    },
    "colab_type": "code",
    "id": "J6lI2Qdimx9Y",
    "outputId": "840418cd-29ce-40d1-9a53-a11a1a6c1097"
   },
   "outputs": [
    {
     "name": "stdout",
     "output_type": "stream",
     "text": [
      "The image below should show the number 9\n"
     ]
    },
    {
     "data": {
      "image/png": "[encoded data removed]",
      "text/plain": [
       "<matplotlib.figure.Figure at 0x7f9ca6c77cc0>"
      ]
     },
     "metadata": {
      "tags": []
     },
     "output_type": "display_data"
    }
   ],
   "source": [
    "plot_mnist_image(1709, imgs_test_orig, label_test_orig)"
   ]
  },
  {
   "cell_type": "code",
   "execution_count": 91,
   "metadata": {
    "colab": {
     "base_uri": "https://localhost:8080/",
     "height": 34
    },
    "colab_type": "code",
    "id": "-92reeBymx9b",
    "outputId": "3bc3f4bf-f635-4c98-8338-ba53282c500b"
   },
   "outputs": [
    {
     "data": {
      "text/plain": [
       "3"
      ]
     },
     "execution_count": 91,
     "metadata": {
      "tags": []
     },
     "output_type": "execute_result"
    }
   ],
   "source": [
    "np.argmax(m.predict(imgs_test_t[1709:1710,]))"
   ]
  },
  {
   "cell_type": "code",
   "execution_count": 0,
   "metadata": {
    "colab": {},
    "colab_type": "code",
    "id": "3cOcwOV-mx9d"
   },
   "outputs": [],
   "source": [
    "wrong_preds = preds[pos]"
   ]
  },
  {
   "cell_type": "markdown",
   "metadata": {
    "colab_type": "text",
    "id": "Cg1gkg_Qmx9e"
   },
   "source": [
    "Ok, but in which positions can we find all the misclassifications?"
   ]
  },
  {
   "cell_type": "code",
   "execution_count": 93,
   "metadata": {
    "colab": {
     "base_uri": "https://localhost:8080/",
     "height": 34
    },
    "colab_type": "code",
    "id": "y6M6lTDRmx9f",
    "outputId": "b90c5a97-67d8-490e-beb6-6c22b268146c"
   },
   "outputs": [
    {
     "data": {
      "text/plain": [
       "array([5, 6, 8, 7, 3, 0, 2, 3, 3, 1, 2, 6, 8, 8, 1])"
      ]
     },
     "execution_count": 93,
     "metadata": {
      "tags": []
     },
     "output_type": "execute_result"
    }
   ],
   "source": [
    "wrong_preds[0:15]"
   ]
  },
  {
   "cell_type": "code",
   "execution_count": 0,
   "metadata": {
    "colab": {},
    "colab_type": "code",
    "id": "OtAkntTR5Gsj"
   },
   "outputs": [],
   "source": [
    "import pandas as pd"
   ]
  },
  {
   "cell_type": "code",
   "execution_count": 0,
   "metadata": {
    "colab": {},
    "colab_type": "code",
    "id": "XsesxeAl5Lze"
   },
   "outputs": [],
   "source": [
    "w = pd.Series(np.bincount(wrong_preds))\n",
    "a = pd.Series(np.bincount(label_test_orig))"
   ]
  },
  {
   "cell_type": "code",
   "execution_count": 0,
   "metadata": {
    "colab": {},
    "colab_type": "code",
    "id": "vDINHgFg68ER"
   },
   "outputs": [],
   "source": [
    "p = w/a*100"
   ]
  },
  {
   "cell_type": "code",
   "execution_count": 120,
   "metadata": {
    "colab": {
     "base_uri": "https://localhost:8080/",
     "height": 453
    },
    "colab_type": "code",
    "id": "jKV5RTXz5lNN",
    "outputId": "b450a8e0-eb31-4537-c381-dea58f365f2b"
   },
   "outputs": [
    {
     "data": {
      "text/plain": [
       "<matplotlib.axes._subplots.AxesSubplot at 0x7f9ccbad5f60>"
      ]
     },
     "execution_count": 120,
     "metadata": {
      "tags": []
     },
     "output_type": "execute_result"
    },
    {
     "data": {
      "image/png": "[encoded data removed]",
      "text/plain": [
       "<matplotlib.figure.Figure at 0x7f9ca6c8f940>"
      ]
     },
     "metadata": {
      "tags": []
     },
     "output_type": "display_data"
    }
   ],
   "source": [
    "p.to_frame().plot.bar()"
   ]
  },
  {
   "cell_type": "code",
   "execution_count": 121,
   "metadata": {
    "colab": {
     "base_uri": "https://localhost:8080/",
     "height": 453
    },
    "colab_type": "code",
    "id": "HXQUJFUa7XlT",
    "outputId": "a7f52ea3-085e-437b-d5e2-f2d5e24710f0"
   },
   "outputs": [
    {
     "data": {
      "text/plain": [
       "<matplotlib.axes._subplots.AxesSubplot at 0x7f9ca5ab6978>"
      ]
     },
     "execution_count": 121,
     "metadata": {
      "tags": []
     },
     "output_type": "execute_result"
    },
    {
     "data": {
      "image/png": "[encoded data removed]",
      "text/plain": [
       "<matplotlib.figure.Figure at 0x7f9ca4b8e080>"
      ]
     },
     "metadata": {
      "tags": []
     },
     "output_type": "display_data"
    }
   ],
   "source": [
    "a.to_frame().plot.bar()"
   ]
  },
  {
   "cell_type": "markdown",
   "metadata": {
    "colab_type": "text",
    "id": "i9ZhgFaxmx9g"
   },
   "source": [
    "_**EXERCISE 6**_: Some digits are more difficult to recognize than others. Because we know the test labels, we can find out how many times the corresponding test images are misclassified. Could you find what are the top 3 test labels that are more often misclassified?"
   ]
  },
  {
   "cell_type": "markdown",
   "metadata": {
    "colab_type": "text",
    "id": "ENDznYc7mx9g"
   },
   "source": [
    "Let's check some wrong predictions"
   ]
  },
  {
   "cell_type": "code",
   "execution_count": 0,
   "metadata": {
    "colab": {},
    "colab_type": "code",
    "id": "nYzvEFScmx9h",
    "outputId": "e8f4aa5c-29f0-43bb-da32-20370b43757e"
   },
   "outputs": [
    {
     "name": "stdout",
     "output_type": "stream",
     "text": [
      "The image below should show the number 9\n"
     ]
    },
    {
     "data": {
      "image/png": "[encoded data removed]",
      "text/plain": [
       "<Figure size 748.8x514.8 with 1 Axes>"
      ]
     },
     "metadata": {
      "tags": []
     },
     "output_type": "display_data"
    }
   ],
   "source": [
    "plot_mnist_image(151, test_imgs, test_labels)"
   ]
  },
  {
   "cell_type": "code",
   "execution_count": 0,
   "metadata": {
    "colab": {},
    "colab_type": "code",
    "id": "1sNXwC9Rmx9j",
    "outputId": "8f3ff995-2e55-4e62-a879-d4ac1104e032"
   },
   "outputs": [
    {
     "data": {
      "text/plain": [
       "8"
      ]
     },
     "execution_count": 82,
     "metadata": {
      "tags": []
     },
     "output_type": "execute_result"
    }
   ],
   "source": [
    "preds_labels[151]"
   ]
  },
  {
   "cell_type": "markdown",
   "metadata": {
    "colab_type": "text",
    "id": "JMJDuWJimx9m"
   },
   "source": [
    "These are the items that are wrongly classified:"
   ]
  },
  {
   "cell_type": "code",
   "execution_count": 0,
   "metadata": {
    "colab": {},
    "colab_type": "code",
    "id": "0gfjqSjPmx9n"
   },
   "outputs": [],
   "source": []
  },
  {
   "cell_type": "markdown",
   "metadata": {
    "colab_type": "text",
    "id": "KxmPeJ9Bmx9n"
   },
   "source": [
    "So we see that $9$ is wrongly classified more than the rest. But does it mean that our model has more difficulties recognizing 9s?"
   ]
  },
  {
   "cell_type": "code",
   "execution_count": 0,
   "metadata": {
    "colab": {},
    "colab_type": "code",
    "id": "dm5eU_HMmx9o"
   },
   "outputs": [],
   "source": []
  },
  {
   "cell_type": "markdown",
   "metadata": {
    "colab_type": "text",
    "id": "MVuv6cD3mx9r"
   },
   "source": [
    "Our model has the most difficulties recognizing 9s, 5s and 4s"
   ]
  },
  {
   "cell_type": "code",
   "execution_count": 0,
   "metadata": {
    "colab": {},
    "colab_type": "code",
    "id": "hkBVjVU-mx9r"
   },
   "outputs": [],
   "source": []
  },
  {
   "cell_type": "code",
   "execution_count": 0,
   "metadata": {
    "colab": {},
    "colab_type": "code",
    "id": "nuvx2Xrl77Om"
   },
   "outputs": [],
   "source": []
  },
  {
   "cell_type": "markdown",
   "metadata": {
    "colab_type": "text",
    "id": "aGQcqn_s7803"
   },
   "source": [
    "# Ahora probamos flatten y otras capas para minimizar el tratamiento inicial de datos"
   ]
  },
  {
   "cell_type": "code",
   "execution_count": 122,
   "metadata": {
    "colab": {
     "base_uri": "https://localhost:8080/",
     "height": 34
    },
    "colab_type": "code",
    "id": "Wx3AOP7p8B_U",
    "outputId": "0ee9ceff-dacd-4337-d268-63a279975e4e"
   },
   "outputs": [
    {
     "data": {
      "text/plain": [
       "(60000, 28, 28)"
      ]
     },
     "execution_count": 122,
     "metadata": {
      "tags": []
     },
     "output_type": "execute_result"
    }
   ],
   "source": [
    "imgs_train_orig.shape"
   ]
  },
  {
   "cell_type": "code",
   "execution_count": 123,
   "metadata": {
    "colab": {
     "base_uri": "https://localhost:8080/",
     "height": 34
    },
    "colab_type": "code",
    "id": "mSk1mYRm8ELO",
    "outputId": "a10d43d7-72ba-4481-bc5f-024ff5787ed8"
   },
   "outputs": [
    {
     "data": {
      "text/plain": [
       "(10000, 28, 28)"
      ]
     },
     "execution_count": 123,
     "metadata": {
      "tags": []
     },
     "output_type": "execute_result"
    }
   ],
   "source": [
    "imgs_test_orig.shape"
   ]
  },
  {
   "cell_type": "code",
   "execution_count": 0,
   "metadata": {
    "colab": {},
    "colab_type": "code",
    "id": "J4-LxcaE8GHE"
   },
   "outputs": [],
   "source": [
    "m = models.Sequential()"
   ]
  },
  {
   "cell_type": "code",
   "execution_count": 0,
   "metadata": {
    "colab": {},
    "colab_type": "code",
    "id": "HogTzOZ_8Ask"
   },
   "outputs": [],
   "source": [
    "m.add(layers.Flatten(input_shape=(28,28)))\n",
    "m.add(layers.BatchNormalization())\n",
    "m.add(layers.Dense(128, activation='relu'))\n",
    "m.add(layers.Dense(64, activation='relu'))\n",
    "m.add(layers.Dense(10, activation='softmax'))"
   ]
  },
  {
   "cell_type": "code",
   "execution_count": 149,
   "metadata": {
    "colab": {
     "base_uri": "https://localhost:8080/",
     "height": 308
    },
    "colab_type": "code",
    "id": "Y0k508jQ8rJ6",
    "outputId": "1f3c72df-4da4-4879-dbb7-5461ac825487"
   },
   "outputs": [
    {
     "name": "stdout",
     "output_type": "stream",
     "text": [
      "_________________________________________________________________\n",
      "Layer (type)                 Output Shape              Param #   \n",
      "=================================================================\n",
      "flatten_3 (Flatten)          (None, 784)               0         \n",
      "_________________________________________________________________\n",
      "batch_normalization_1 (Batch (None, 784)               3136      \n",
      "_________________________________________________________________\n",
      "dense_17 (Dense)             (None, 128)               100480    \n",
      "_________________________________________________________________\n",
      "dense_18 (Dense)             (None, 64)                8256      \n",
      "_________________________________________________________________\n",
      "dense_19 (Dense)             (None, 10)                650       \n",
      "=================================================================\n",
      "Total params: 112,522\n",
      "Trainable params: 110,954\n",
      "Non-trainable params: 1,568\n",
      "_________________________________________________________________\n"
     ]
    }
   ],
   "source": [
    "m.summary()"
   ]
  },
  {
   "cell_type": "code",
   "execution_count": 0,
   "metadata": {
    "colab": {},
    "colab_type": "code",
    "id": "ao_-0JCl8Nvf"
   },
   "outputs": [],
   "source": [
    "m.compile(\n",
    "    optimizer=optimizers.rmsprop(),\n",
    "    loss=losses.categorical_crossentropy,\n",
    "    metrics=[metrics.categorical_accuracy]\n",
    ")"
   ]
  },
  {
   "cell_type": "code",
   "execution_count": 151,
   "metadata": {
    "colab": {
     "base_uri": "https://localhost:8080/",
     "height": 1083
    },
    "colab_type": "code",
    "id": "BWegTZUu8XJM",
    "outputId": "97919e79-dd2b-4a00-84d0-d79a1f9621b9"
   },
   "outputs": [
    {
     "name": "stdout",
     "output_type": "stream",
     "text": [
      "Train on 48000 samples, validate on 12000 samples\n",
      "Epoch 1/30\n",
      "48000/48000 [==============================] - 1s 18us/step - loss: 0.5065 - categorical_accuracy: 0.8538 - val_loss: 0.2288 - val_categorical_accuracy: 0.9344\n",
      "Epoch 2/30\n",
      "48000/48000 [==============================] - 1s 10us/step - loss: 0.1862 - categorical_accuracy: 0.9448 - val_loss: 0.1726 - val_categorical_accuracy: 0.9527\n",
      "Epoch 3/30\n",
      "48000/48000 [==============================] - 0s 10us/step - loss: 0.1315 - categorical_accuracy: 0.9607 - val_loss: 0.1490 - val_categorical_accuracy: 0.9600\n",
      "Epoch 4/30\n",
      "48000/48000 [==============================] - 0s 10us/step - loss: 0.0995 - categorical_accuracy: 0.9707 - val_loss: 0.1419 - val_categorical_accuracy: 0.9607\n",
      "Epoch 5/30\n",
      "48000/48000 [==============================] - 0s 10us/step - loss: 0.0786 - categorical_accuracy: 0.9766 - val_loss: 0.1332 - val_categorical_accuracy: 0.9625\n",
      "Epoch 6/30\n",
      "48000/48000 [==============================] - 0s 10us/step - loss: 0.0634 - categorical_accuracy: 0.9808 - val_loss: 0.1262 - val_categorical_accuracy: 0.9647\n",
      "Epoch 7/30\n",
      "48000/48000 [==============================] - 0s 10us/step - loss: 0.0509 - categorical_accuracy: 0.9851 - val_loss: 0.1171 - val_categorical_accuracy: 0.9675\n",
      "Epoch 8/30\n",
      "48000/48000 [==============================] - 0s 10us/step - loss: 0.0421 - categorical_accuracy: 0.9881 - val_loss: 0.1244 - val_categorical_accuracy: 0.9678\n",
      "Epoch 9/30\n",
      "48000/48000 [==============================] - 0s 10us/step - loss: 0.0343 - categorical_accuracy: 0.9903 - val_loss: 0.1230 - val_categorical_accuracy: 0.9683\n",
      "Epoch 10/30\n",
      "48000/48000 [==============================] - 0s 10us/step - loss: 0.0280 - categorical_accuracy: 0.9923 - val_loss: 0.1160 - val_categorical_accuracy: 0.9687\n",
      "Epoch 11/30\n",
      "48000/48000 [==============================] - 0s 10us/step - loss: 0.0230 - categorical_accuracy: 0.9942 - val_loss: 0.1169 - val_categorical_accuracy: 0.9706\n",
      "Epoch 12/30\n",
      "48000/48000 [==============================] - 0s 10us/step - loss: 0.0184 - categorical_accuracy: 0.9955 - val_loss: 0.1196 - val_categorical_accuracy: 0.9700\n",
      "Epoch 13/30\n",
      "48000/48000 [==============================] - 0s 10us/step - loss: 0.0161 - categorical_accuracy: 0.9961 - val_loss: 0.1238 - val_categorical_accuracy: 0.9715\n",
      "Epoch 14/30\n",
      "48000/48000 [==============================] - 0s 10us/step - loss: 0.0123 - categorical_accuracy: 0.9975 - val_loss: 0.1275 - val_categorical_accuracy: 0.9722\n",
      "Epoch 15/30\n",
      "48000/48000 [==============================] - 0s 10us/step - loss: 0.0098 - categorical_accuracy: 0.9982 - val_loss: 0.1312 - val_categorical_accuracy: 0.9703\n",
      "Epoch 16/30\n",
      "48000/48000 [==============================] - 0s 10us/step - loss: 0.0092 - categorical_accuracy: 0.9979 - val_loss: 0.1303 - val_categorical_accuracy: 0.9717\n",
      "Epoch 17/30\n",
      "48000/48000 [==============================] - 0s 10us/step - loss: 0.0071 - categorical_accuracy: 0.9985 - val_loss: 0.1397 - val_categorical_accuracy: 0.9702\n",
      "Epoch 18/30\n",
      "48000/48000 [==============================] - 0s 10us/step - loss: 0.0057 - categorical_accuracy: 0.9991 - val_loss: 0.1364 - val_categorical_accuracy: 0.9700\n",
      "Epoch 19/30\n",
      "48000/48000 [==============================] - 0s 10us/step - loss: 0.0046 - categorical_accuracy: 0.9992 - val_loss: 0.1451 - val_categorical_accuracy: 0.9687\n",
      "Epoch 20/30\n",
      "48000/48000 [==============================] - 0s 10us/step - loss: 0.0049 - categorical_accuracy: 0.9991 - val_loss: 0.1409 - val_categorical_accuracy: 0.9713\n",
      "Epoch 21/30\n",
      "48000/48000 [==============================] - 0s 10us/step - loss: 0.0039 - categorical_accuracy: 0.9992 - val_loss: 0.1429 - val_categorical_accuracy: 0.9721\n",
      "Epoch 22/30\n",
      "48000/48000 [==============================] - 0s 10us/step - loss: 0.0037 - categorical_accuracy: 0.9992 - val_loss: 0.1459 - val_categorical_accuracy: 0.9735\n",
      "Epoch 23/30\n",
      "48000/48000 [==============================] - 0s 10us/step - loss: 0.0033 - categorical_accuracy: 0.9994 - val_loss: 0.1472 - val_categorical_accuracy: 0.9722\n",
      "Epoch 24/30\n",
      "48000/48000 [==============================] - 0s 10us/step - loss: 0.0031 - categorical_accuracy: 0.9994 - val_loss: 0.1474 - val_categorical_accuracy: 0.9733\n",
      "Epoch 25/30\n",
      "48000/48000 [==============================] - 0s 10us/step - loss: 0.0030 - categorical_accuracy: 0.9994 - val_loss: 0.1470 - val_categorical_accuracy: 0.9738\n",
      "Epoch 26/30\n",
      "48000/48000 [==============================] - 0s 10us/step - loss: 0.0018 - categorical_accuracy: 0.9997 - val_loss: 0.1528 - val_categorical_accuracy: 0.9726\n",
      "Epoch 27/30\n",
      "48000/48000 [==============================] - 0s 10us/step - loss: 0.0019 - categorical_accuracy: 0.9997 - val_loss: 0.1565 - val_categorical_accuracy: 0.9728\n",
      "Epoch 28/30\n",
      "48000/48000 [==============================] - 0s 10us/step - loss: 0.0025 - categorical_accuracy: 0.9994 - val_loss: 0.1564 - val_categorical_accuracy: 0.9724\n",
      "Epoch 29/30\n",
      "48000/48000 [==============================] - 0s 10us/step - loss: 0.0015 - categorical_accuracy: 0.9997 - val_loss: 0.1558 - val_categorical_accuracy: 0.9721\n",
      "Epoch 30/30\n",
      "48000/48000 [==============================] - 0s 10us/step - loss: 0.0017 - categorical_accuracy: 0.9996 - val_loss: 0.1699 - val_categorical_accuracy: 0.9703\n"
     ]
    }
   ],
   "source": [
    "h = m.fit(imgs_train_orig, label_train_t, \n",
    "          epochs=30, batch_size=1024, validation_split=.2)"
   ]
  },
  {
   "cell_type": "code",
   "execution_count": 152,
   "metadata": {
    "colab": {
     "base_uri": "https://localhost:8080/",
     "height": 51
    },
    "colab_type": "code",
    "id": "gWQFzrV48jLl",
    "outputId": "7ceb32b0-57f6-40f3-a5e2-83abfd05fcc8"
   },
   "outputs": [
    {
     "name": "stdout",
     "output_type": "stream",
     "text": [
      "10000/10000 [==============================] - 1s 84us/step\n"
     ]
    },
    {
     "data": {
      "text/plain": [
       "[0.16688827389035432, 0.9734]"
      ]
     },
     "execution_count": 152,
     "metadata": {
      "tags": []
     },
     "output_type": "execute_result"
    }
   ],
   "source": [
    "m.evaluate(imgs_test_orig, label_test_t)"
   ]
  },
  {
   "cell_type": "code",
   "execution_count": 153,
   "metadata": {
    "colab": {
     "base_uri": "https://localhost:8080/",
     "height": 477
    },
    "colab_type": "code",
    "id": "-FdK2UkP9tKq",
    "outputId": "6ed1af89-2133-4fbb-82d6-303b5b673591"
   },
   "outputs": [
    {
     "data": {
      "image/png": "[encoded data removed]",
      "text/plain": [
       "<matplotlib.figure.Figure at 0x7f9ca4682080>"
      ]
     },
     "metadata": {
      "tags": []
     },
     "output_type": "display_data"
    }
   ],
   "source": [
    "plot_metric(h, 'categorical_accuracy')"
   ]
  },
  {
   "cell_type": "code",
   "execution_count": 0,
   "metadata": {
    "colab": {},
    "colab_type": "code",
    "id": "9XWptcv295ml"
   },
   "outputs": [],
   "source": []
  }
 ],
 "metadata": {
  "accelerator": "GPU",
  "colab": {
   "collapsed_sections": [],
   "name": "02_mnist_digits_before_class.ipynb",
   "provenance": [],
   "version": "0.3.2"
  },
  "kernelspec": {
   "display_name": "Python 3",
   "language": "python",
   "name": "python3"
  },
  "language_info": {
   "codemirror_mode": {
    "name": "ipython",
    "version": 3
   },
   "file_extension": ".py",
   "mimetype": "text/x-python",
   "name": "python",
   "nbconvert_exporter": "python",
   "pygments_lexer": "ipython3",
   "version": "3.6.6"
  }
 },
 "nbformat": 4,
 "nbformat_minor": 1
}
