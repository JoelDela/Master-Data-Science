{
  "nbformat": 4,
  "nbformat_minor": 0,
  "metadata": {
    "colab": {
      "name": "02_mnist_digits_before_class.ipynb",
      "version": "0.3.2",
      "provenance": [],
      "collapsed_sections": []
    },
    "kernelspec": {
      "display_name": "Python 3",
      "language": "python",
      "name": "python3"
    },
    "accelerator": "GPU"
  },
  "cells": [
    {
      "metadata": {
        "id": "0A78h1HiJf7K",
        "colab_type": "code",
        "colab": {
          "base_uri": "https://localhost:8080/",
          "height": 34
        },
        "outputId": "710794ae-fd34-47f5-d8fb-27cf4b840365"
      },
      "cell_type": "code",
      "source": [
        "%pylab inline\n",
        "plt.style.use('seaborn-talk')"
      ],
      "execution_count": 5,
      "outputs": [
        {
          "output_type": "stream",
          "text": [
            "Populating the interactive namespace from numpy and matplotlib\n"
          ],
          "name": "stdout"
        }
      ]
    },
    {
      "metadata": {
        "id": "PQv8t-iynJYD",
        "colab_type": "text"
      },
      "cell_type": "markdown",
      "source": [
        "En los datos hay imagenes, en blanco y negro (0-255), con una etiqueta con el número que aparece en la imagen etiquetado manualmente.\n",
        "60k imagenes para entrenamiento y 10k para test"
      ]
    },
    {
      "metadata": {
        "id": "VsQmxhFLJf8H",
        "colab_type": "text"
      },
      "cell_type": "markdown",
      "source": [
        "We will use this function to plot the metrics of our training process, to help in choosing the best model"
      ]
    },
    {
      "metadata": {
        "id": "5kcNUmlMJf8b",
        "colab_type": "code",
        "colab": {}
      },
      "cell_type": "code",
      "source": [
        "def plot_metric(history, metric):\n",
        "    history_dict = history.history\n",
        "    values = history_dict[metric]\n",
        "    if 'val_' + metric in history_dict.keys():  \n",
        "        val_values = history_dict['val_' + metric]\n",
        "\n",
        "    epochs = range(1, len(values) + 1)\n",
        "\n",
        "    if 'val_' + metric in history_dict.keys():  \n",
        "        plt.plot(epochs, val_values, label='Validation')\n",
        "    plt.semilogy(epochs, values, label='Training')\n",
        "\n",
        "    if 'val_' + metric in history_dict.keys():  \n",
        "        plt.title('Training and validation %s' % metric)\n",
        "    else:\n",
        "        plt.title('Training %s' % metric)\n",
        "    plt.xlabel('Epochs')\n",
        "    plt.ylabel(metric.capitalize())\n",
        "    plt.legend()\n",
        "    plt.grid()\n",
        "\n",
        "    plt.show()  "
      ],
      "execution_count": 0,
      "outputs": []
    },
    {
      "metadata": {
        "id": "6bkwdQrYJf8-",
        "colab_type": "text"
      },
      "cell_type": "markdown",
      "source": [
        "We will use this function to explore the data"
      ]
    },
    {
      "metadata": {
        "id": "lox5-19zJf9G",
        "colab_type": "code",
        "colab": {}
      },
      "cell_type": "code",
      "source": [
        "def plot_mnist_image(N, imgs, labels):\n",
        "  print(\"The image below should show the number %d\" % labels[N])\n",
        "  plt.imshow(imgs[N,], cmap=plt.cm.binary)\n",
        "  plt.grid(True)"
      ],
      "execution_count": 0,
      "outputs": []
    },
    {
      "metadata": {
        "id": "OuUken2eJf9l",
        "colab_type": "text"
      },
      "cell_type": "markdown",
      "source": [
        "# The problem\n",
        "\n",
        "We will recognize handwritten digits. For an image containing a number between 0 and 9, we will recognize the number and will produce an int as output"
      ]
    },
    {
      "metadata": {
        "id": "crz8EFxgJf9u",
        "colab_type": "code",
        "colab": {
          "base_uri": "https://localhost:8080/",
          "height": 34
        },
        "outputId": "d1020feb-eb58-47fa-a02a-552279318caa"
      },
      "cell_type": "code",
      "source": [
        "from keras.datasets import mnist"
      ],
      "execution_count": 8,
      "outputs": [
        {
          "output_type": "stream",
          "text": [
            "Using TensorFlow backend.\n"
          ],
          "name": "stderr"
        }
      ]
    },
    {
      "metadata": {
        "id": "qKOI2cfHJf-G",
        "colab_type": "code",
        "colab": {
          "base_uri": "https://localhost:8080/",
          "height": 51
        },
        "outputId": "85b237c2-fe79-4957-9c70-80279fc93128"
      },
      "cell_type": "code",
      "source": [
        "# Run this to download the data prior to the lecture\n",
        "train_orig_data, test_orig_data = mnist.load_data()"
      ],
      "execution_count": 9,
      "outputs": [
        {
          "output_type": "stream",
          "text": [
            "Downloading data from https://s3.amazonaws.com/img-datasets/mnist.npz\n",
            "11493376/11490434 [==============================] - 3s 0us/step\n"
          ],
          "name": "stdout"
        }
      ]
    },
    {
      "metadata": {
        "id": "7RY50MkmJf-X",
        "colab_type": "code",
        "colab": {
          "base_uri": "https://localhost:8080/",
          "height": 130
        },
        "outputId": "2147fb55-8866-4dbb-8c31-7c3c702d4b4c"
      },
      "cell_type": "code",
      "source": [
        "En cross validation, suele ser 90-10\n",
        "\n",
        "training -> parametros\n",
        "validación -> hiperparámetros\n",
        "test -> comparacion modelos\n",
        "\n",
        "  trabajo   testeo\n",
        "    90%       10%\n",
        "80% - 20%\n",
        "\n"
      ],
      "execution_count": 10,
      "outputs": [
        {
          "output_type": "error",
          "ename": "SyntaxError",
          "evalue": "ignored",
          "traceback": [
            "\u001b[0;36m  File \u001b[0;32m\"<ipython-input-10-950b710faf67>\"\u001b[0;36m, line \u001b[0;32m1\u001b[0m\n\u001b[0;31m    En cross validation, suele ser 90-10\u001b[0m\n\u001b[0m           ^\u001b[0m\n\u001b[0;31mSyntaxError\u001b[0m\u001b[0;31m:\u001b[0m invalid syntax\n"
          ]
        }
      ]
    },
    {
      "metadata": {
        "id": "fEtDLtMTqhKE",
        "colab_type": "code",
        "colab": {
          "base_uri": "https://localhost:8080/",
          "height": 34
        },
        "outputId": "1c19cf13-a74e-458e-9d0b-b60b5650ed46"
      },
      "cell_type": "code",
      "source": [
        "type(train_orig_data)"
      ],
      "execution_count": 6,
      "outputs": [
        {
          "output_type": "execute_result",
          "data": {
            "text/plain": [
              "tuple"
            ]
          },
          "metadata": {
            "tags": []
          },
          "execution_count": 6
        }
      ]
    },
    {
      "metadata": {
        "id": "CQBfxLz3qrNU",
        "colab_type": "code",
        "colab": {}
      },
      "cell_type": "code",
      "source": [
        ""
      ],
      "execution_count": 0,
      "outputs": []
    },
    {
      "metadata": {
        "id": "igiBBQ_bJf-1",
        "colab_type": "text"
      },
      "cell_type": "markdown",
      "source": [
        "We will design a network that will be able to recognize that the image is showing the number 7 (for all the images in the test set)"
      ]
    },
    {
      "metadata": {
        "id": "U8SOCEcBqqb3",
        "colab_type": "code",
        "colab": {}
      },
      "cell_type": "code",
      "source": [
        "imgs_orig_train, label_orig_train = train_orig_data\n",
        "imgs_orig_test, label_orig_test = test_orig_data"
      ],
      "execution_count": 0,
      "outputs": []
    },
    {
      "metadata": {
        "id": "sitE_o2LqqkE",
        "colab_type": "code",
        "colab": {
          "base_uri": "https://localhost:8080/",
          "height": 34
        },
        "outputId": "2e993a27-53e5-4ce0-e4ac-6fd2e12ffa1c"
      },
      "cell_type": "code",
      "source": [
        "imgs_orig_train.shape"
      ],
      "execution_count": 17,
      "outputs": [
        {
          "output_type": "execute_result",
          "data": {
            "text/plain": [
              "(60000, 28, 28)"
            ]
          },
          "metadata": {
            "tags": []
          },
          "execution_count": 17
        }
      ]
    },
    {
      "metadata": {
        "id": "CEbadWtxq9VY",
        "colab_type": "code",
        "colab": {
          "base_uri": "https://localhost:8080/",
          "height": 34
        },
        "outputId": "f8d337ae-c294-4611-da87-d065c8dbe0b6"
      },
      "cell_type": "code",
      "source": [
        "imgs_orig_test.shape"
      ],
      "execution_count": 18,
      "outputs": [
        {
          "output_type": "execute_result",
          "data": {
            "text/plain": [
              "(10000, 28, 28)"
            ]
          },
          "metadata": {
            "tags": []
          },
          "execution_count": 18
        }
      ]
    },
    {
      "metadata": {
        "id": "I3gRws5priJk",
        "colab_type": "code",
        "colab": {}
      },
      "cell_type": "code",
      "source": [
        ""
      ],
      "execution_count": 0,
      "outputs": []
    },
    {
      "metadata": {
        "id": "0lhiREqVriS9",
        "colab_type": "code",
        "colab": {}
      },
      "cell_type": "code",
      "source": [
        ""
      ],
      "execution_count": 0,
      "outputs": []
    },
    {
      "metadata": {
        "id": "cAmobHsZq9fT",
        "colab_type": "code",
        "colab": {
          "base_uri": "https://localhost:8080/",
          "height": 458
        },
        "outputId": "5c7a443b-3a72-4fc4-84c1-336cea6f3e2d"
      },
      "cell_type": "code",
      "source": [
        "plot_mnist_image(1111, imgs_orig, label_orig)"
      ],
      "execution_count": 14,
      "outputs": [
        {
          "output_type": "stream",
          "text": [
            "The image below should show the number 5\n"
          ],
          "name": "stdout"
        },
        {
          "output_type": "display_data",
          "data": {
            "image/png": "[encoded data removed]",
            "text/plain": [
              "<matplotlib.figure.Figure at 0x7f1c4219e6a0>"
            ]
          },
          "metadata": {
            "tags": []
          }
        }
      ]
    },
    {
      "metadata": {
        "id": "CjC0kD-JJf-9",
        "colab_type": "text"
      },
      "cell_type": "markdown",
      "source": [
        "## Data transform\n",
        "\n",
        "We need to change the shape of the data, so it can be fed to the network more easily"
      ]
    },
    {
      "metadata": {
        "id": "KR43-uKSJf_I",
        "colab_type": "code",
        "colab": {}
      },
      "cell_type": "code",
      "source": [
        "j = imgs_orig_train[523]"
      ],
      "execution_count": 0,
      "outputs": []
    },
    {
      "metadata": {
        "id": "OPDBRmvhsFGB",
        "colab_type": "code",
        "colab": {
          "base_uri": "https://localhost:8080/",
          "height": 34
        },
        "outputId": "f6f7807a-1103-44c0-cef2-0b8a8acdfcce"
      },
      "cell_type": "code",
      "source": [
        "j.shape"
      ],
      "execution_count": 20,
      "outputs": [
        {
          "output_type": "execute_result",
          "data": {
            "text/plain": [
              "(28, 28)"
            ]
          },
          "metadata": {
            "tags": []
          },
          "execution_count": 20
        }
      ]
    },
    {
      "metadata": {
        "id": "pp29MKdxsFOR",
        "colab_type": "code",
        "colab": {}
      },
      "cell_type": "code",
      "source": [
        "t = j.reshape((28*28,)) # copia todas las columnas de izq a derecha una debajo de la otra"
      ],
      "execution_count": 0,
      "outputs": []
    },
    {
      "metadata": {
        "id": "VYztCdNUty6E",
        "colab_type": "text"
      },
      "cell_type": "markdown",
      "source": [
        "Una de las ventajas de deeplearning es que no hay que hacer feature engineer en los datos\n",
        "\n",
        "\n",
        "Vamos a normalizar los datos, para ayudar a la red en el proceso de ajuste. Será mas rápido y mas preciso"
      ]
    },
    {
      "metadata": {
        "id": "74lZHUTYsFL_",
        "colab_type": "code",
        "colab": {}
      },
      "cell_type": "code",
      "source": [
        "imgs_train_t = imgs_orig_train.reshape((60000, 28*28))/255\n",
        "imgs_test_t = imgs_orig_test.reshape((10000, 28*28))/255"
      ],
      "execution_count": 0,
      "outputs": []
    },
    {
      "metadata": {
        "id": "4wOOt1UPsFJw",
        "colab_type": "code",
        "colab": {
          "base_uri": "https://localhost:8080/",
          "height": 34
        },
        "outputId": "f05b575d-c1f8-4439-f177-23b25a2972e4"
      },
      "cell_type": "code",
      "source": [
        "imgs_train_t.shape"
      ],
      "execution_count": 29,
      "outputs": [
        {
          "output_type": "execute_result",
          "data": {
            "text/plain": [
              "(60000, 784)"
            ]
          },
          "metadata": {
            "tags": []
          },
          "execution_count": 29
        }
      ]
    },
    {
      "metadata": {
        "id": "kHAfMuPlt6Xv",
        "colab_type": "code",
        "colab": {
          "base_uri": "https://localhost:8080/",
          "height": 34
        },
        "outputId": "1baa1ffe-303a-4507-d72b-2a40c2d7b032"
      },
      "cell_type": "code",
      "source": [
        "imgs_train_t[233].max()"
      ],
      "execution_count": 30,
      "outputs": [
        {
          "output_type": "execute_result",
          "data": {
            "text/plain": [
              "1.0"
            ]
          },
          "metadata": {
            "tags": []
          },
          "execution_count": 30
        }
      ]
    },
    {
      "metadata": {
        "id": "PYzA_Us7Jf_w",
        "colab_type": "text"
      },
      "cell_type": "markdown",
      "source": [
        "All the images are 28x28 matrices, with values between 0 and 255. Let's normalize the images, to avoid problems in the numerical computations using large numbers.\n",
        "\n",
        "We will convert the matrix to a vector with 28x28 components, stacking columns on top of each other. This will make the design of the network.\n",
        "* Alternatively, we could add a `Flatten(input_shape=(28,28))` layer to the model"
      ]
    },
    {
      "metadata": {
        "id": "SGp9dO4VJf_5",
        "colab_type": "code",
        "colab": {
          "base_uri": "https://localhost:8080/",
          "height": 34
        },
        "outputId": "4959bc3d-b910-4d31-c837-6a73f7983ccc"
      },
      "cell_type": "code",
      "source": [
        "label_orig_train[0:10]"
      ],
      "execution_count": 31,
      "outputs": [
        {
          "output_type": "execute_result",
          "data": {
            "text/plain": [
              "array([5, 0, 4, 1, 9, 2, 1, 3, 1, 4], dtype=uint8)"
            ]
          },
          "metadata": {
            "tags": []
          },
          "execution_count": 31
        }
      ]
    },
    {
      "metadata": {
        "id": "6PfeDtBdJgAc",
        "colab_type": "text"
      },
      "cell_type": "markdown",
      "source": [
        "Because we want to assign a *category* to each image, we need to transform the output to categorical format"
      ]
    },
    {
      "metadata": {
        "id": "hHWzaM6DJgAj",
        "colab_type": "code",
        "colab": {}
      },
      "cell_type": "code",
      "source": [
        "from keras.utils import to_categorical \n",
        "\n",
        "label_train_t = to_categorical(label_orig_train)\n",
        "label_test_t = to_categorical(label_orig_test)"
      ],
      "execution_count": 0,
      "outputs": []
    },
    {
      "metadata": {
        "id": "ftLtSSdmu2qN",
        "colab_type": "code",
        "colab": {
          "base_uri": "https://localhost:8080/",
          "height": 34
        },
        "outputId": "f17c973f-2f07-4d67-80e7-078e6545d32d"
      },
      "cell_type": "code",
      "source": [
        "label_orig_train[5]"
      ],
      "execution_count": 36,
      "outputs": [
        {
          "output_type": "execute_result",
          "data": {
            "text/plain": [
              "2"
            ]
          },
          "metadata": {
            "tags": []
          },
          "execution_count": 36
        }
      ]
    },
    {
      "metadata": {
        "id": "odRZ2_w2u2ns",
        "colab_type": "code",
        "colab": {
          "base_uri": "https://localhost:8080/",
          "height": 34
        },
        "outputId": "cd11c99b-7c41-4780-f90a-ff7bdf6eb044"
      },
      "cell_type": "code",
      "source": [
        "label_train_t[5]"
      ],
      "execution_count": 37,
      "outputs": [
        {
          "output_type": "execute_result",
          "data": {
            "text/plain": [
              "array([0., 0., 1., 0., 0., 0., 0., 0., 0., 0.], dtype=float32)"
            ]
          },
          "metadata": {
            "tags": []
          },
          "execution_count": 37
        }
      ]
    },
    {
      "metadata": {
        "id": "__70LxvqJgA3",
        "colab_type": "text"
      },
      "cell_type": "markdown",
      "source": [
        "Initially, our target data is just a set of numbers"
      ]
    },
    {
      "metadata": {
        "id": "Qx5gkFaYJgA8",
        "colab_type": "code",
        "colab": {}
      },
      "cell_type": "code",
      "source": [
        ""
      ],
      "execution_count": 0,
      "outputs": []
    },
    {
      "metadata": {
        "id": "knXBNrPDJgBR",
        "colab_type": "text"
      },
      "cell_type": "markdown",
      "source": [
        "We are going to transform it to **1-HOT encoding format**"
      ]
    },
    {
      "metadata": {
        "id": "JHuvN7_KJgBZ",
        "colab_type": "code",
        "colab": {}
      },
      "cell_type": "code",
      "source": [
        ""
      ],
      "execution_count": 0,
      "outputs": []
    },
    {
      "metadata": {
        "id": "cMmlvjh7JgB0",
        "colab_type": "text"
      },
      "cell_type": "markdown",
      "source": [
        "We have to repeat the same process with the test data"
      ]
    },
    {
      "metadata": {
        "id": "IfEUWz3SJgB7",
        "colab_type": "code",
        "colab": {}
      },
      "cell_type": "code",
      "source": [
        ""
      ],
      "execution_count": 0,
      "outputs": []
    },
    {
      "metadata": {
        "id": "5n5nErqxJgCL",
        "colab_type": "text"
      },
      "cell_type": "markdown",
      "source": [
        "## Let's build the model"
      ]
    },
    {
      "metadata": {
        "id": "tBG5GQqvJgCQ",
        "colab_type": "code",
        "colab": {}
      },
      "cell_type": "code",
      "source": [
        "from keras import models\n",
        "from keras import layers"
      ],
      "execution_count": 0,
      "outputs": []
    },
    {
      "metadata": {
        "id": "eP1hUcswvZwE",
        "colab_type": "code",
        "colab": {}
      },
      "cell_type": "code",
      "source": [
        "\n",
        "m = models.Sequential()\n",
        "m.add(layers.Dense(128, input_shape=(28*28,), activation = 'relu'))\n",
        "m.add(layers.Dense(64, activation = 'relu'))\n",
        "# los numeros de salida están entre 0 y 1 y fuerza a que la suma sea 1\n",
        "m.add(layers.Dense(10, activation = 'softmax'))\n",
        "      "
      ],
      "execution_count": 0,
      "outputs": []
    },
    {
      "metadata": {
        "id": "OrgfVw2AvZXE",
        "colab_type": "code",
        "colab": {}
      },
      "cell_type": "code",
      "source": [
        "from keras import optimizers\n",
        "from keras import losses\n",
        "from keras import metrics"
      ],
      "execution_count": 0,
      "outputs": []
    },
    {
      "metadata": {
        "id": "o4YLDa_ZvZLV",
        "colab_type": "code",
        "colab": {
          "base_uri": "https://localhost:8080/",
          "height": 34
        },
        "outputId": "ddba1163-8cac-4254-fd1b-879ef2413781"
      },
      "cell_type": "code",
      "source": [
        "losses.categorical_crossentropy"
      ],
      "execution_count": 58,
      "outputs": [
        {
          "output_type": "execute_result",
          "data": {
            "text/plain": [
              "<function keras.losses.categorical_crossentropy>"
            ]
          },
          "metadata": {
            "tags": []
          },
          "execution_count": 58
        }
      ]
    },
    {
      "metadata": {
        "id": "iGE5GFw_xG50",
        "colab_type": "text"
      },
      "cell_type": "markdown",
      "source": [
        "Si usase una funcion de perdidas de minimos cuadrados sería un error. Si usase cualquiera no categórica, seria un error"
      ]
    },
    {
      "metadata": {
        "id": "0bmV7BTwxqm9",
        "colab_type": "text"
      },
      "cell_type": "markdown",
      "source": [
        "El accuracy no es suficiente. \n",
        "Tendríamos que ver la matriz de confusión (dado que los datos de entrada puede ser sesgada), curva ROC"
      ]
    },
    {
      "metadata": {
        "id": "zudetijcvZA-",
        "colab_type": "code",
        "colab": {}
      },
      "cell_type": "code",
      "source": [
        "m.compile(\n",
        "  optimizer = optimizers.rmsprop(),\n",
        "  loss=losses.categorical_crossentropy,\n",
        "  metrics=[metrics.categorical_accuracy])"
      ],
      "execution_count": 0,
      "outputs": []
    },
    {
      "metadata": {
        "id": "0gbjs5AVvYyf",
        "colab_type": "code",
        "colab": {
          "base_uri": "https://localhost:8080/",
          "height": 1074
        },
        "outputId": "9e9e2476-a2f3-41fd-c655-79921d047ea5"
      },
      "cell_type": "code",
      "source": [
        "h = m.fit(imgs_train_t, label_train_t, batch_size=1024, validation_split=.2, epochs=30 )"
      ],
      "execution_count": 60,
      "outputs": [
        {
          "output_type": "stream",
          "text": [
            "Train on 48000 samples, validate on 12000 samples\n",
            "Epoch 1/30\n",
            "48000/48000 [==============================] - 1s 20us/step - loss: 0.7528 - categorical_accuracy: 0.8037 - val_loss: 0.3562 - val_categorical_accuracy: 0.9042\n",
            "Epoch 2/30\n",
            "48000/48000 [==============================] - 1s 17us/step - loss: 0.3196 - categorical_accuracy: 0.9086 - val_loss: 0.2429 - val_categorical_accuracy: 0.9306\n",
            "Epoch 3/30\n",
            "48000/48000 [==============================] - 1s 17us/step - loss: 0.2470 - categorical_accuracy: 0.9283 - val_loss: 0.2118 - val_categorical_accuracy: 0.9395\n",
            "Epoch 4/30\n",
            "48000/48000 [==============================] - 1s 18us/step - loss: 0.2014 - categorical_accuracy: 0.9412 - val_loss: 0.1815 - val_categorical_accuracy: 0.9485\n",
            "Epoch 5/30\n",
            "48000/48000 [==============================] - 1s 18us/step - loss: 0.1730 - categorical_accuracy: 0.9492 - val_loss: 0.1660 - val_categorical_accuracy: 0.9525\n",
            "Epoch 6/30\n",
            "48000/48000 [==============================] - 1s 18us/step - loss: 0.1502 - categorical_accuracy: 0.9560 - val_loss: 0.1479 - val_categorical_accuracy: 0.9580\n",
            "Epoch 7/30\n",
            "48000/48000 [==============================] - 1s 18us/step - loss: 0.1330 - categorical_accuracy: 0.9611 - val_loss: 0.1431 - val_categorical_accuracy: 0.9593\n",
            "Epoch 8/30\n",
            "48000/48000 [==============================] - 1s 18us/step - loss: 0.1184 - categorical_accuracy: 0.9654 - val_loss: 0.1326 - val_categorical_accuracy: 0.9613\n",
            "Epoch 9/30\n",
            "48000/48000 [==============================] - 1s 18us/step - loss: 0.1058 - categorical_accuracy: 0.9692 - val_loss: 0.1232 - val_categorical_accuracy: 0.9643\n",
            "Epoch 10/30\n",
            "48000/48000 [==============================] - 1s 18us/step - loss: 0.0954 - categorical_accuracy: 0.9710 - val_loss: 0.1154 - val_categorical_accuracy: 0.9666\n",
            "Epoch 11/30\n",
            "48000/48000 [==============================] - 1s 17us/step - loss: 0.0859 - categorical_accuracy: 0.9751 - val_loss: 0.1150 - val_categorical_accuracy: 0.9659\n",
            "Epoch 12/30\n",
            "48000/48000 [==============================] - 1s 18us/step - loss: 0.0792 - categorical_accuracy: 0.9761 - val_loss: 0.1129 - val_categorical_accuracy: 0.9659\n",
            "Epoch 13/30\n",
            "48000/48000 [==============================] - 1s 18us/step - loss: 0.0726 - categorical_accuracy: 0.9781 - val_loss: 0.1040 - val_categorical_accuracy: 0.9704\n",
            "Epoch 14/30\n",
            "48000/48000 [==============================] - 1s 17us/step - loss: 0.0653 - categorical_accuracy: 0.9810 - val_loss: 0.1162 - val_categorical_accuracy: 0.9643\n",
            "Epoch 15/30\n",
            "48000/48000 [==============================] - 1s 17us/step - loss: 0.0596 - categorical_accuracy: 0.9822 - val_loss: 0.1153 - val_categorical_accuracy: 0.9669\n",
            "Epoch 16/30\n",
            "48000/48000 [==============================] - 1s 17us/step - loss: 0.0557 - categorical_accuracy: 0.9838 - val_loss: 0.0975 - val_categorical_accuracy: 0.9722\n",
            "Epoch 17/30\n",
            "48000/48000 [==============================] - 1s 17us/step - loss: 0.0487 - categorical_accuracy: 0.9856 - val_loss: 0.1006 - val_categorical_accuracy: 0.9714\n",
            "Epoch 18/30\n",
            "48000/48000 [==============================] - 1s 17us/step - loss: 0.0462 - categorical_accuracy: 0.9872 - val_loss: 0.0958 - val_categorical_accuracy: 0.9721\n",
            "Epoch 19/30\n",
            "48000/48000 [==============================] - 1s 17us/step - loss: 0.0418 - categorical_accuracy: 0.9879 - val_loss: 0.1240 - val_categorical_accuracy: 0.9641\n",
            "Epoch 20/30\n",
            "48000/48000 [==============================] - 1s 17us/step - loss: 0.0396 - categorical_accuracy: 0.9887 - val_loss: 0.0988 - val_categorical_accuracy: 0.9708\n",
            "Epoch 21/30\n",
            "48000/48000 [==============================] - 1s 17us/step - loss: 0.0348 - categorical_accuracy: 0.9904 - val_loss: 0.0953 - val_categorical_accuracy: 0.9727\n",
            "Epoch 22/30\n",
            "48000/48000 [==============================] - 1s 17us/step - loss: 0.0327 - categorical_accuracy: 0.9908 - val_loss: 0.0919 - val_categorical_accuracy: 0.9737\n",
            "Epoch 23/30\n",
            "48000/48000 [==============================] - 1s 17us/step - loss: 0.0296 - categorical_accuracy: 0.9915 - val_loss: 0.1050 - val_categorical_accuracy: 0.9717\n",
            "Epoch 24/30\n",
            "48000/48000 [==============================] - 1s 17us/step - loss: 0.0275 - categorical_accuracy: 0.9926 - val_loss: 0.0934 - val_categorical_accuracy: 0.9740\n",
            "Epoch 25/30\n",
            "48000/48000 [==============================] - 1s 17us/step - loss: 0.0247 - categorical_accuracy: 0.9934 - val_loss: 0.0986 - val_categorical_accuracy: 0.9714\n",
            "Epoch 26/30\n",
            "48000/48000 [==============================] - 1s 17us/step - loss: 0.0243 - categorical_accuracy: 0.9934 - val_loss: 0.1022 - val_categorical_accuracy: 0.9707\n",
            "Epoch 27/30\n",
            "48000/48000 [==============================] - 1s 17us/step - loss: 0.0223 - categorical_accuracy: 0.9939 - val_loss: 0.0912 - val_categorical_accuracy: 0.9754\n",
            "Epoch 28/30\n",
            "48000/48000 [==============================] - 1s 17us/step - loss: 0.0196 - categorical_accuracy: 0.9948 - val_loss: 0.0994 - val_categorical_accuracy: 0.9735\n",
            "Epoch 29/30\n",
            "48000/48000 [==============================] - 1s 17us/step - loss: 0.0178 - categorical_accuracy: 0.9955 - val_loss: 0.0985 - val_categorical_accuracy: 0.9740\n",
            "Epoch 30/30\n",
            "48000/48000 [==============================] - 1s 17us/step - loss: 0.0167 - categorical_accuracy: 0.9960 - val_loss: 0.0976 - val_categorical_accuracy: 0.9744\n"
          ],
          "name": "stdout"
        }
      ]
    },
    {
      "metadata": {
        "id": "JCQYJHyvzbDo",
        "colab_type": "code",
        "colab": {
          "base_uri": "https://localhost:8080/",
          "height": 477
        },
        "outputId": "298b7392-fe49-4496-b496-bb149140714d"
      },
      "cell_type": "code",
      "source": [
        "plot_metric(h, 'categorical_accuracy')"
      ],
      "execution_count": 61,
      "outputs": [
        {
          "output_type": "display_data",
          "data": {
            "image/png": "[encoded data removed]",
            "text/plain": [
              "<matplotlib.figure.Figure at 0x7f1c3f5f4978>"
            ]
          },
          "metadata": {
            "tags": []
          }
        }
      ]
    },
    {
      "metadata": {
        "id": "aAhZcYilzbTS",
        "colab_type": "code",
        "colab": {
          "base_uri": "https://localhost:8080/",
          "height": 51
        },
        "outputId": "d68cd7bd-3669-4c53-cd71-3a37c7808feb"
      },
      "cell_type": "code",
      "source": [
        "m.evaluate(imgs_test_t, label_test_t)"
      ],
      "execution_count": 63,
      "outputs": [
        {
          "output_type": "stream",
          "text": [
            "10000/10000 [==============================] - 0s 34us/step\n"
          ],
          "name": "stdout"
        },
        {
          "output_type": "execute_result",
          "data": {
            "text/plain": [
              "[0.08346933790381299, 0.9759]"
            ]
          },
          "metadata": {
            "tags": []
          },
          "execution_count": 63
        }
      ]
    },
    {
      "metadata": {
        "id": "ArLsgB_I0dPz",
        "colab_type": "text"
      },
      "cell_type": "markdown",
      "source": [
        "el 0.08 es la funcion de coste.\n",
        "la metrica deseada, el accuracy, es 0.975"
      ]
    },
    {
      "metadata": {
        "id": "fH2QpZgC0pg8",
        "colab_type": "text"
      },
      "cell_type": "markdown",
      "source": [
        "El modelo es bueno? Como se predice cada número?"
      ]
    },
    {
      "metadata": {
        "id": "KqKfv6Cez718",
        "colab_type": "code",
        "colab": {}
      },
      "cell_type": "code",
      "source": [
        ""
      ],
      "execution_count": 0,
      "outputs": []
    },
    {
      "metadata": {
        "id": "6CP1HvQizbcm",
        "colab_type": "code",
        "colab": {}
      },
      "cell_type": "code",
      "source": [
        ""
      ],
      "execution_count": 0,
      "outputs": []
    },
    {
      "metadata": {
        "id": "JqDzAEn2JgCc",
        "colab_type": "text"
      },
      "cell_type": "markdown",
      "source": [
        "Here we will make some decisions about how to train our model.\n",
        "\n",
        "The **objective function**, called **loss function** in Deep Learning, will be *categorical crossentropy*. This is because we are trying to predict discrete classes. If we choose a different function, the solution will be different. This is the function that will tell us when we have found the *solution*. Different functions will point to different *solutions*.\n",
        "\n",
        "The **optimizer** is the method that we will use to find the minimum of the **loss function**. In general, we will not find the global minimum of the loss function, but a minimum that is good enough. *RMSProp* is one the variants of gradient descent. But there are many more:\n",
        " - http://ruder.io/optimizing-gradient-descent/\n",
        " \n",
        "These two settings will define what solution we will find during the training process.\n",
        "\n",
        "The other parameter, the **metrics**, is only for information purposes. In each step of the training (called **epoch**), Keras will report the value of the metrics. But whether we choose one metric or another will not influence the training process. It is only for reporting how the training is going. That information will be useful for the validation of the model, that is, for the **hyperparameters tuning**.\n"
      ]
    },
    {
      "metadata": {
        "id": "pr_GX7YOJgCi",
        "colab_type": "text"
      },
      "cell_type": "markdown",
      "source": [
        "Now let's fit the neural network. We will keep the results in a *history* object to plot some parameters after the training, and use that information for improving our model (changing layers, activation functions, etc). This process is called **hyperparameters tuning** or hypeparameters search.\n",
        "\n",
        "Here we need to set two parameters: the number of **epochs** and the **batch size**.\n",
        "\n",
        "In previous cells, I have said that the training process is an optimization problem: we try to find the minimum.\n",
        "\n",
        "That's actually not entirely true. In practice, we don't keep searching for a minimum. Instead, we train for a preset number of epochs. Then we analyze the output using the validation set. If we detect overfit, then we reduce the number of epochs. If we don't detect it, then maybe we can keep going for some more epochs to find a better model. The number of epochs is another hyperparameter. In general, we should stop the training as early as possible. Any further epoch can make our model overfit, and therefore generalize poorly.\n",
        "\n",
        "The batch size is another hyperparameter. The network is not updated item by item, vector by vector. We can actually calculate the weights for a batch of several items, forming a matrix or a tensor. The batch size will affect the granularity of the calculations and the performance. A larger batch size will probably result in a slightly worse accuracy, but in a better performance. As long as the batch size is not so huge that it cannot be kept in memory. Because we are running on a GPU, it is a good idea to use a power of 2 for the batch size. It will probably make a better use of the GPU. But again, the effect of the batch size must be tested using the validation set, and adjusted until we find a good value for that parameter.\n",
        "\n",
        "An epoch is a full pass over the training dataset. At the end of each epoch, Keras will calculate the value of the metrics for the training set, and the loss function and metrics for the validation set. The loss and metrics of the validation set are useful for the hyperparameters tuning process.\n",
        "\n"
      ]
    },
    {
      "metadata": {
        "id": "tsSL7JzzJgCm",
        "colab_type": "code",
        "colab": {}
      },
      "cell_type": "code",
      "source": [
        ""
      ],
      "execution_count": 0,
      "outputs": []
    },
    {
      "metadata": {
        "id": "7g8pvUNyJgDM",
        "colab_type": "text"
      },
      "cell_type": "markdown",
      "source": [
        "## Exercises\n",
        "\n",
        "* **EXERCISE 1**: Chante the activation function in the model. How does it affect accuracy? What happens if you use linear activation function? What happens if we use the $\\tanh$ function? Does it affect to overfitting?\n",
        " * https://keras.io/activations/\n",
        " \n",
        "Here we see that the accuracy keeps increasing over epochs. An overfitted model would produce a decrease of the validation accuracy at some point. This means that we have found an optimal model. The validation loss is stuck at a minimum, but the accuracy is not affected by the extra epochs.\n",
        "\n",
        "_**EXERCISE 2**_: How is the model accuracy (measured with the test set, see below) affected if we start over and fit for 40 epochs? And for 4? And for 400?\n",
        "\n",
        "_**EXERCISE 4**_: What is the most simple model that you can get that achieves a similar validation performance (accuracy)? (the loss values are not comparable, different networks will have different ranges of values for the loss functions)\n",
        "\n",
        "Now let's check how well the model works with the test dataset. Remember that we don't have used it at all during the training and tuning of the model."
      ]
    },
    {
      "metadata": {
        "id": "-hspY9hGJgDT",
        "colab_type": "text"
      },
      "cell_type": "markdown",
      "source": [
        "## Analyze the classification performance"
      ]
    },
    {
      "metadata": {
        "id": "jDOVriUbJgDc",
        "colab_type": "code",
        "colab": {
          "base_uri": "https://localhost:8080/",
          "height": 34
        },
        "outputId": "065811f2-f080-425a-ece2-e6f38fd1e349"
      },
      "cell_type": "code",
      "source": [
        "_, acc = m.evaluate(imgs_test_t, label_test_t)"
      ],
      "execution_count": 68,
      "outputs": [
        {
          "output_type": "stream",
          "text": [
            "10000/10000 [==============================] - 0s 29us/step\n"
          ],
          "name": "stdout"
        }
      ]
    },
    {
      "metadata": {
        "id": "bcWkfLZkJgD_",
        "colab_type": "text"
      },
      "cell_type": "markdown",
      "source": [
        "That's about a $98\\%$ accuracy on the test set. Not bad.\n",
        "\n",
        "With that accuracy, this is the number of images that are wrongly classified by our model:"
      ]
    },
    {
      "metadata": {
        "id": "bO_Qo9pqJgEK",
        "colab_type": "code",
        "colab": {
          "base_uri": "https://localhost:8080/",
          "height": 34
        },
        "outputId": "f628a40a-efd5-44e8-bc93-d878c2aaabab"
      },
      "cell_type": "code",
      "source": [
        "(1-acc)*imgs_test_t.shape[0]"
      ],
      "execution_count": 69,
      "outputs": [
        {
          "output_type": "execute_result",
          "data": {
            "text/plain": [
              "241.0000000000001"
            ]
          },
          "metadata": {
            "tags": []
          },
          "execution_count": 69
        }
      ]
    },
    {
      "metadata": {
        "id": "s1Tuej-T13H1",
        "colab_type": "code",
        "colab": {}
      },
      "cell_type": "code",
      "source": [
        ""
      ],
      "execution_count": 0,
      "outputs": []
    },
    {
      "metadata": {
        "id": "-iYE6WL9JgFD",
        "colab_type": "text"
      },
      "cell_type": "markdown",
      "source": [
        "Let's see how well it predicts some random items from the test set."
      ]
    },
    {
      "metadata": {
        "id": "et8bpIU8JgFH",
        "colab_type": "code",
        "colab": {
          "base_uri": "https://localhost:8080/",
          "height": 164
        },
        "outputId": "f56494ca-7efe-4b33-bee9-6feb4170e14f"
      },
      "cell_type": "code",
      "source": [
        "plot_mnist_image(2543, imgs_test_orig, label_test_orig)"
      ],
      "execution_count": 72,
      "outputs": [
        {
          "output_type": "error",
          "ename": "NameError",
          "evalue": "ignored",
          "traceback": [
            "\u001b[0;31m---------------------------------------------------------------------------\u001b[0m",
            "\u001b[0;31mNameError\u001b[0m                                 Traceback (most recent call last)",
            "\u001b[0;32m<ipython-input-72-db9c2f623fc4>\u001b[0m in \u001b[0;36m<module>\u001b[0;34m()\u001b[0m\n\u001b[0;32m----> 1\u001b[0;31m \u001b[0mplot_mnist_image\u001b[0m\u001b[0;34m(\u001b[0m\u001b[0;36m2543\u001b[0m\u001b[0;34m,\u001b[0m \u001b[0mimgs_test_orig\u001b[0m\u001b[0;34m,\u001b[0m \u001b[0mlabel_test_orig\u001b[0m\u001b[0;34m)\u001b[0m\u001b[0;34m\u001b[0m\u001b[0m\n\u001b[0m",
            "\u001b[0;31mNameError\u001b[0m: name 'imgs_test_orig' is not defined"
          ]
        }
      ]
    },
    {
      "metadata": {
        "id": "9UlNmGi-JgFn",
        "colab_type": "text"
      },
      "cell_type": "markdown",
      "source": [
        "The prediction is a 10-element vector (*1-HOT encoded vector*), with the probability of each class. The location of the max is giving us the predicted class."
      ]
    },
    {
      "metadata": {
        "id": "7ONEmDfkJgFs",
        "colab_type": "code",
        "colab": {}
      },
      "cell_type": "code",
      "source": [
        ""
      ],
      "execution_count": 0,
      "outputs": []
    },
    {
      "metadata": {
        "id": "2DxgNh7lJgF7",
        "colab_type": "text"
      },
      "cell_type": "markdown",
      "source": [
        "YES! Our model predicts 8\n",
        "\n",
        "_**EXERCISE 5**_: Can you find a test item that is predicted wrongly? How many images are predicted wrongly? Can you find all the items that are wrongly classified? For instance, the test element with index 3943 is a 3 but we predict a 5\n"
      ]
    },
    {
      "metadata": {
        "id": "wHhN6AHW2yQW",
        "colab_type": "code",
        "colab": {}
      },
      "cell_type": "code",
      "source": [
        "preds = m.predict(imgs_test_t)"
      ],
      "execution_count": 0,
      "outputs": []
    },
    {
      "metadata": {
        "id": "tEEaV7wn23YB",
        "colab_type": "code",
        "colab": {
          "base_uri": "https://localhost:8080/",
          "height": 34
        },
        "outputId": "b86e32de-4625-4675-b475-9583022ec0b2"
      },
      "cell_type": "code",
      "source": [
        "preds.shape"
      ],
      "execution_count": 76,
      "outputs": [
        {
          "output_type": "execute_result",
          "data": {
            "text/plain": [
              "(10000, 10)"
            ]
          },
          "metadata": {
            "tags": []
          },
          "execution_count": 76
        }
      ]
    },
    {
      "metadata": {
        "id": "zy51BEJw23gW",
        "colab_type": "code",
        "colab": {}
      },
      "cell_type": "code",
      "source": [
        "preds = np.argmax(m.predict(imgs_test_t), axis=1)"
      ],
      "execution_count": 0,
      "outputs": []
    },
    {
      "metadata": {
        "id": "98C42Wk923dT",
        "colab_type": "code",
        "colab": {
          "base_uri": "https://localhost:8080/",
          "height": 34
        },
        "outputId": "9184f362-f046-447e-eacd-cf9c698d54ae"
      },
      "cell_type": "code",
      "source": [
        "preds.shape"
      ],
      "execution_count": 80,
      "outputs": [
        {
          "output_type": "execute_result",
          "data": {
            "text/plain": [
              "(10000,)"
            ]
          },
          "metadata": {
            "tags": []
          },
          "execution_count": 80
        }
      ]
    },
    {
      "metadata": {
        "id": "Rhgz603t3auB",
        "colab_type": "code",
        "colab": {}
      },
      "cell_type": "code",
      "source": [
        "pos = np.where(preds != label_orig_test)[0]"
      ],
      "execution_count": 0,
      "outputs": []
    },
    {
      "metadata": {
        "id": "jL0tsZrR3a2n",
        "colab_type": "code",
        "colab": {
          "base_uri": "https://localhost:8080/",
          "height": 34
        },
        "outputId": "6188fe7c-9027-4494-c669-c6b0aa8921c7"
      },
      "cell_type": "code",
      "source": [
        "pos.shape"
      ],
      "execution_count": 88,
      "outputs": [
        {
          "output_type": "execute_result",
          "data": {
            "text/plain": [
              "(241,)"
            ]
          },
          "metadata": {
            "tags": []
          },
          "execution_count": 88
        }
      ]
    },
    {
      "metadata": {
        "id": "KrbTyAvL3azf",
        "colab_type": "code",
        "colab": {
          "base_uri": "https://localhost:8080/",
          "height": 34
        },
        "outputId": "d3ec4725-ebfc-4f4b-cfaa-ff1668292313"
      },
      "cell_type": "code",
      "source": [
        "pos[56]"
      ],
      "execution_count": 89,
      "outputs": [
        {
          "output_type": "execute_result",
          "data": {
            "text/plain": [
              "1984"
            ]
          },
          "metadata": {
            "tags": []
          },
          "execution_count": 89
        }
      ]
    },
    {
      "metadata": {
        "id": "12MAylcIJgF-",
        "colab_type": "code",
        "colab": {
          "base_uri": "https://localhost:8080/",
          "height": 458
        },
        "outputId": "44e7df27-920d-473f-86b0-f68d7ca0116d"
      },
      "cell_type": "code",
      "source": [
        "plot_mnist_image(1984, imgs_orig_test, label_orig_test)"
      ],
      "execution_count": 90,
      "outputs": [
        {
          "output_type": "stream",
          "text": [
            "The image below should show the number 2\n"
          ],
          "name": "stdout"
        },
        {
          "output_type": "display_data",
          "data": {
            "image/png": "[encoded data removed]",
            "text/plain": [
              "<matplotlib.figure.Figure at 0x7f1c3e95c780>"
            ]
          },
          "metadata": {
            "tags": []
          }
        }
      ]
    },
    {
      "metadata": {
        "id": "hUyDiCgh4g2f",
        "colab_type": "code",
        "colab": {
          "base_uri": "https://localhost:8080/",
          "height": 34
        },
        "outputId": "1631e232-7b41-4bbb-e738-4c6e5ab4ecb5"
      },
      "cell_type": "code",
      "source": [
        "imgs_train_t[1984:1984,]"
      ],
      "execution_count": 92,
      "outputs": [
        {
          "output_type": "execute_result",
          "data": {
            "text/plain": [
              "array([], shape=(0, 784), dtype=float64)"
            ]
          },
          "metadata": {
            "tags": []
          },
          "execution_count": 92
        }
      ]
    },
    {
      "metadata": {
        "id": "Doa0Fe7oJgGX",
        "colab_type": "code",
        "colab": {
          "base_uri": "https://localhost:8080/",
          "height": 34
        },
        "outputId": "9a99250f-b067-4218-c675-b107fb0fd301"
      },
      "cell_type": "code",
      "source": [
        "m.predict(imgs_test_t[1984:1984,])"
      ],
      "execution_count": 95,
      "outputs": [
        {
          "output_type": "execute_result",
          "data": {
            "text/plain": [
              "[]"
            ]
          },
          "metadata": {
            "tags": []
          },
          "execution_count": 95
        }
      ]
    },
    {
      "metadata": {
        "id": "PgjtJqZBJgGn",
        "colab_type": "code",
        "colab": {}
      },
      "cell_type": "code",
      "source": [
        ""
      ],
      "execution_count": 0,
      "outputs": []
    },
    {
      "metadata": {
        "id": "IGtgoUFOJgHN",
        "colab_type": "text"
      },
      "cell_type": "markdown",
      "source": [
        "Ok, but in which positions can we find all the misclassifications?"
      ]
    },
    {
      "metadata": {
        "id": "WnQiQVBgJgHR",
        "colab_type": "code",
        "colab": {}
      },
      "cell_type": "code",
      "source": [
        ""
      ],
      "execution_count": 0,
      "outputs": []
    },
    {
      "metadata": {
        "id": "YS9_Y8sfJgHb",
        "colab_type": "text"
      },
      "cell_type": "markdown",
      "source": [
        "_**EXERCISE 6**_: Some digits are more difficult to recognize than others. Because we know the test labels, we can find out how many times the corresponding test images are misclassified. Could you find what are the top 3 test labels that are more often misclassified?"
      ]
    },
    {
      "metadata": {
        "id": "WKieSgfNJgHn",
        "colab_type": "text"
      },
      "cell_type": "markdown",
      "source": [
        "Let's check some wrong predictions"
      ]
    },
    {
      "metadata": {
        "id": "Y1ut80bnJgHq",
        "colab_type": "code",
        "colab": {},
        "outputId": "df7433f6-2b1b-426e-a63e-7d410eac6246"
      },
      "cell_type": "code",
      "source": [
        "plot_mnist_image(151, test_imgs, test_labels)"
      ],
      "execution_count": 0,
      "outputs": [
        {
          "output_type": "stream",
          "text": [
            "The image below should show the number 9\n"
          ],
          "name": "stdout"
        },
        {
          "output_type": "display_data",
          "data": {
            "image/png": "[encoded data removed]",
            "text/plain": [
              "<Figure size 748.8x514.8 with 1 Axes>"
            ]
          },
          "metadata": {
            "tags": []
          }
        }
      ]
    },
    {
      "metadata": {
        "id": "ncVE-HDiJgH6",
        "colab_type": "code",
        "colab": {},
        "outputId": "b97be30f-fa8e-45d9-eb97-3f5e8fd173b7"
      },
      "cell_type": "code",
      "source": [
        "preds_labels[151]"
      ],
      "execution_count": 0,
      "outputs": [
        {
          "output_type": "execute_result",
          "data": {
            "text/plain": [
              "8"
            ]
          },
          "metadata": {
            "tags": []
          },
          "execution_count": 82
        }
      ]
    },
    {
      "metadata": {
        "id": "G8c92k0OJgIP",
        "colab_type": "text"
      },
      "cell_type": "markdown",
      "source": [
        "These are the items that are wrongly classified:"
      ]
    },
    {
      "metadata": {
        "id": "BdfbQfcDJgIR",
        "colab_type": "code",
        "colab": {}
      },
      "cell_type": "code",
      "source": [
        ""
      ],
      "execution_count": 0,
      "outputs": []
    },
    {
      "metadata": {
        "id": "830WUA2zJgIe",
        "colab_type": "text"
      },
      "cell_type": "markdown",
      "source": [
        "So we see that $9$ is wrongly classified more than the rest. But does it mean that our model has more difficulties recognizing 9s?"
      ]
    },
    {
      "metadata": {
        "id": "wf0LrlXhJgIi",
        "colab_type": "code",
        "colab": {}
      },
      "cell_type": "code",
      "source": [
        ""
      ],
      "execution_count": 0,
      "outputs": []
    },
    {
      "metadata": {
        "id": "wUgxgk-i8EKz",
        "colab_type": "code",
        "colab": {}
      },
      "cell_type": "code",
      "source": [
        ""
      ],
      "execution_count": 0,
      "outputs": []
    },
    {
      "metadata": {
        "id": "fNcQRm8AJgIu",
        "colab_type": "text"
      },
      "cell_type": "markdown",
      "source": [
        "Our model has the most difficulties recognizing 9s, 5s and 4s"
      ]
    },
    {
      "metadata": {
        "id": "0g3zaYUx8Ev0",
        "colab_type": "code",
        "colab": {
          "base_uri": "https://localhost:8080/",
          "height": 164
        },
        "outputId": "618e0e8e-53bd-4ae9-887c-c86791c3323a"
      },
      "cell_type": "code",
      "source": [
        "train_orig_data, test_orig_data = mnist.load_data()"
      ],
      "execution_count": 4,
      "outputs": [
        {
          "output_type": "error",
          "ename": "NameError",
          "evalue": "ignored",
          "traceback": [
            "\u001b[0;31m---------------------------------------------------------------------------\u001b[0m",
            "\u001b[0;31mNameError\u001b[0m                                 Traceback (most recent call last)",
            "\u001b[0;32m<ipython-input-4-ca827ed924cb>\u001b[0m in \u001b[0;36m<module>\u001b[0;34m()\u001b[0m\n\u001b[0;32m----> 1\u001b[0;31m \u001b[0mtrain_orig_data\u001b[0m\u001b[0;34m,\u001b[0m \u001b[0mtest_orig_data\u001b[0m \u001b[0;34m=\u001b[0m \u001b[0mmnist\u001b[0m\u001b[0;34m.\u001b[0m\u001b[0mload_data\u001b[0m\u001b[0;34m(\u001b[0m\u001b[0;34m)\u001b[0m\u001b[0;34m\u001b[0m\u001b[0m\n\u001b[0m",
            "\u001b[0;31mNameError\u001b[0m: name 'mnist' is not defined"
          ]
        }
      ]
    },
    {
      "metadata": {
        "id": "Q9Y0XBZaJgIx",
        "colab_type": "code",
        "colab": {}
      },
      "cell_type": "code",
      "source": [
        "m = models.Sequential()\n",
        "m.add(layers.Dense(128, input_shape=(28*28,), activation = 'relu'))\n",
        "m.add(layers.Dense(64, activation = 'relu'))\n",
        "# los numeros de salida están entre 0 y 1 y fuerza a que la suma sea 1\n",
        "m.add(layers.Dense(10, activation = 'softmax'))"
      ],
      "execution_count": 0,
      "outputs": []
    }
  ]
}