{
 "cells": [
  {
   "cell_type": "code",
   "execution_count": 29,
   "metadata": {},
   "outputs": [
    {
     "name": "stdout",
     "output_type": "stream",
     "text": [
      "Populating the interactive namespace from numpy and matplotlib\n"
     ]
    }
   ],
   "source": [
    "%pylab inline\n",
    "plt.style.use('seaborn-talk')"
   ]
  },
  {
   "cell_type": "markdown",
   "metadata": {},
   "source": [
    "We will use this function to plot the metrics of our training process, to help in choosing the best model"
   ]
  },
  {
   "cell_type": "code",
   "execution_count": 34,
   "metadata": {},
   "outputs": [],
   "source": [
    "def plot_metric(history, metric):\n",
    "    history_dict = history.history\n",
    "    values = history_dict[metric]\n",
    "    if 'val_' + metric in history_dict.keys():  \n",
    "        val_values = history_dict['val_' + metric]\n",
    "\n",
    "    epochs = range(1, len(values) + 1)\n",
    "\n",
    "    if 'val_' + metric in history_dict.keys():  \n",
    "        plt.plot(epochs, val_values, label='Validation')\n",
    "    plt.semilogy(epochs, values, label='Training')\n",
    "\n",
    "    if 'val_' + metric in history_dict.keys():  \n",
    "        plt.title('Training and validation %s' % metric)\n",
    "    else:\n",
    "        plt.title('Training %s' % metric)\n",
    "    plt.xlabel('Epochs')\n",
    "    plt.ylabel(metric.capitalize())\n",
    "    plt.legend()\n",
    "    plt.grid()\n",
    "\n",
    "    plt.show()  "
   ]
  },
  {
   "cell_type": "markdown",
   "metadata": {},
   "source": [
    "We will use this function to explore the data"
   ]
  },
  {
   "cell_type": "code",
   "execution_count": 3,
   "metadata": {},
   "outputs": [],
   "source": [
    "def plot_mnist_image(N, imgs, labels):\n",
    "  print(\"The image below should show the number %d\" % labels[N])\n",
    "  plt.imshow(imgs[N,], cmap=plt.cm.binary)\n",
    "  plt.grid(True)"
   ]
  },
  {
   "cell_type": "markdown",
   "metadata": {},
   "source": [
    "# The problem\n",
    "\n",
    "We will recognize handwritten digits. For an image containing a number between 0 and 9, we will recognize the number and will produce an int as output"
   ]
  },
  {
   "cell_type": "code",
   "execution_count": 4,
   "metadata": {},
   "outputs": [
    {
     "name": "stderr",
     "output_type": "stream",
     "text": [
      "Using TensorFlow backend.\n"
     ]
    }
   ],
   "source": [
    "from keras.datasets import mnist"
   ]
  },
  {
   "cell_type": "code",
   "execution_count": 5,
   "metadata": {},
   "outputs": [],
   "source": [
    "train_orig_data, test_orig_data = mnist.load_data()"
   ]
  },
  {
   "cell_type": "code",
   "execution_count": 6,
   "metadata": {},
   "outputs": [
    {
     "data": {
      "text/plain": [
       "tuple"
      ]
     },
     "execution_count": 6,
     "metadata": {},
     "output_type": "execute_result"
    }
   ],
   "source": [
    "type(train_orig_data)"
   ]
  },
  {
   "cell_type": "code",
   "execution_count": 7,
   "metadata": {},
   "outputs": [],
   "source": [
    "train_imgs, train_labels = train_orig_data\n",
    "test_imgs, test_labels = test_orig_data"
   ]
  },
  {
   "cell_type": "code",
   "execution_count": 8,
   "metadata": {},
   "outputs": [
    {
     "data": {
      "text/plain": [
       "(60000, 28, 28)"
      ]
     },
     "execution_count": 8,
     "metadata": {},
     "output_type": "execute_result"
    }
   ],
   "source": [
    "train_imgs.shape"
   ]
  },
  {
   "cell_type": "code",
   "execution_count": 9,
   "metadata": {},
   "outputs": [
    {
     "data": {
      "text/plain": [
       "(10000, 28, 28)"
      ]
     },
     "execution_count": 9,
     "metadata": {},
     "output_type": "execute_result"
    }
   ],
   "source": [
    "test_imgs.shape"
   ]
  },
  {
   "cell_type": "code",
   "execution_count": 10,
   "metadata": {},
   "outputs": [
    {
     "name": "stdout",
     "output_type": "stream",
     "text": [
      "The image below should show the number 2\n"
     ]
    },
    {
     "data": {
      "image/png": "[encoded data removed]",
      "text/plain": [
       "<Figure size 432x288 with 1 Axes>"
      ]
     },
     "metadata": {},
     "output_type": "display_data"
    }
   ],
   "source": [
    "plot_mnist_image(252, train_imgs, train_labels)"
   ]
  },
  {
   "cell_type": "markdown",
   "metadata": {},
   "source": [
    "We will design a network that will be able to recognize that the image is showing the number 7 (for all the images in the test set)"
   ]
  },
  {
   "cell_type": "markdown",
   "metadata": {},
   "source": [
    "## Data transform\n",
    "\n",
    "We need to change the shape of the data, so it can be fed to the network more easily"
   ]
  },
  {
   "cell_type": "code",
   "execution_count": 11,
   "metadata": {},
   "outputs": [
    {
     "data": {
      "text/plain": [
       "(0, 255, 33.318421449829934, 78.56748998339798)"
      ]
     },
     "execution_count": 11,
     "metadata": {},
     "output_type": "execute_result"
    }
   ],
   "source": [
    "train_imgs.min(), train_imgs.max(), train_imgs.mean(), train_imgs.std()"
   ]
  },
  {
   "cell_type": "markdown",
   "metadata": {},
   "source": [
    "All the images are 28x28 matrices, with values between 0 and 255. Let's normalize the images, to avoid problems in the numerical computations using large numbers.\n",
    "\n",
    "We will convert the matrix to a vector with 28x28 components, stacking columns on top of each other. This will make the design of the network.\n",
    "* Alternatively, we could add a `Flatten(input_shape=(28,28))` layer to the model"
   ]
  },
  {
   "cell_type": "code",
   "execution_count": 12,
   "metadata": {},
   "outputs": [],
   "source": [
    "train_imgs_t = train_imgs/train_imgs.max()"
   ]
  },
  {
   "cell_type": "markdown",
   "metadata": {},
   "source": [
    "Because we want to assign a *category* to each image, we need to transform the output to categorical format"
   ]
  },
  {
   "cell_type": "code",
   "execution_count": 13,
   "metadata": {},
   "outputs": [],
   "source": [
    "from keras.utils import to_categorical"
   ]
  },
  {
   "cell_type": "markdown",
   "metadata": {},
   "source": [
    "Initially, our target data is just a set of numbers"
   ]
  },
  {
   "cell_type": "code",
   "execution_count": 14,
   "metadata": {},
   "outputs": [
    {
     "data": {
      "text/plain": [
       "array([5, 0, 4, 1, 9, 2, 1, 3, 1, 4], dtype=uint8)"
      ]
     },
     "execution_count": 14,
     "metadata": {},
     "output_type": "execute_result"
    }
   ],
   "source": [
    "train_labels[0:10]"
   ]
  },
  {
   "cell_type": "markdown",
   "metadata": {},
   "source": [
    "We are going to transform it to **1-HOT encoding format**"
   ]
  },
  {
   "cell_type": "code",
   "execution_count": 15,
   "metadata": {},
   "outputs": [],
   "source": [
    "train_labels_t = to_categorical(train_labels)"
   ]
  },
  {
   "cell_type": "code",
   "execution_count": 16,
   "metadata": {},
   "outputs": [
    {
     "data": {
      "text/plain": [
       "4"
      ]
     },
     "execution_count": 16,
     "metadata": {},
     "output_type": "execute_result"
    }
   ],
   "source": [
    "train_labels[2]"
   ]
  },
  {
   "cell_type": "code",
   "execution_count": 17,
   "metadata": {},
   "outputs": [
    {
     "data": {
      "text/plain": [
       "array([0., 0., 0., 0., 1., 0., 0., 0., 0., 0.], dtype=float32)"
      ]
     },
     "execution_count": 17,
     "metadata": {},
     "output_type": "execute_result"
    }
   ],
   "source": [
    "train_labels_t[2]  # this represents the number 4, transformed into a 1-HOT encoded vector of 10 components"
   ]
  },
  {
   "cell_type": "markdown",
   "metadata": {},
   "source": [
    "We have to repeat the same process with the test data"
   ]
  },
  {
   "cell_type": "code",
   "execution_count": 18,
   "metadata": {},
   "outputs": [],
   "source": [
    "test_imgs_t = test_imgs/test_imgs.max()\n",
    "test_labels_t = to_categorical(test_labels)"
   ]
  },
  {
   "cell_type": "markdown",
   "metadata": {},
   "source": [
    "## Let's build the model"
   ]
  },
  {
   "cell_type": "code",
   "execution_count": 19,
   "metadata": {},
   "outputs": [],
   "source": [
    "from keras import models\n",
    "from keras import layers"
   ]
  },
  {
   "cell_type": "code",
   "execution_count": 20,
   "metadata": {},
   "outputs": [],
   "source": [
    "def build_model():\n",
    "    m = models.Sequential()\n",
    "    # The first layer will transform our matrices into vectors\n",
    "    m.add(layers.Flatten(input_shape=(28,28)))\n",
    "    # The Dense layer needs vectors as inputs\n",
    "    m.add(layers.Dense(512, activation='relu'))\n",
    "    m.add(layers.Dense(256, activation='relu'))\n",
    "    m.add(layers.Dense(10, activation='softmax'))\n",
    "    return m"
   ]
  },
  {
   "cell_type": "markdown",
   "metadata": {},
   "source": [
    "Here we will make some decisions about how to train our model.\n",
    "\n",
    "The **objective function**, called **loss function** in Deep Learning, will be *categorical crossentropy*. This is because we are trying to predict discrete classes. If we choose a different function, the solution will be different. This is the function that will tell us when we have found the *solution*. Different functions will point to different *solutions*.\n",
    "\n",
    "The **optimizer** is the method that we will use to find the minimum of the **loss function**. In general, we will not find the global minimum of the loss function, but a minimum that is good enough. *RMSProp* is one the variants of gradient descent. But there are many more:\n",
    " - http://ruder.io/optimizing-gradient-descent/\n",
    " \n",
    "These two settings will define what solution we will find during the training process.\n",
    "\n",
    "The other parameter, the **metrics**, is only for information purposes. In each step of the training (called **epoch**), Keras will report the value of the metrics. But whether we choose one metric or another will not influence the training process. It is only for reporting how the training is going. That information will be useful for the validation of the model, that is, for the **hyperparameters tuning**.\n"
   ]
  },
  {
   "cell_type": "code",
   "execution_count": 21,
   "metadata": {},
   "outputs": [],
   "source": [
    "from keras import optimizers\n",
    "from keras import losses\n",
    "from keras import metrics"
   ]
  },
  {
   "cell_type": "code",
   "execution_count": 22,
   "metadata": {},
   "outputs": [],
   "source": [
    "m = build_model()"
   ]
  },
  {
   "cell_type": "code",
   "execution_count": 52,
   "metadata": {},
   "outputs": [],
   "source": [
    "m.compile(\n",
    "    optimizer=optimizers.rmsprop(),\n",
    "    loss=losses.categorical_crossentropy,\n",
    "    metrics=[metrics.categorical_accuracy]      \n",
    "    )"
   ]
  },
  {
   "cell_type": "code",
   "execution_count": 24,
   "metadata": {},
   "outputs": [
    {
     "name": "stdout",
     "output_type": "stream",
     "text": [
      "_________________________________________________________________\n",
      "Layer (type)                 Output Shape              Param #   \n",
      "=================================================================\n",
      "flatten_1 (Flatten)          (None, 784)               0         \n",
      "_________________________________________________________________\n",
      "dense_1 (Dense)              (None, 512)               401920    \n",
      "_________________________________________________________________\n",
      "dense_2 (Dense)              (None, 256)               131328    \n",
      "_________________________________________________________________\n",
      "dense_3 (Dense)              (None, 10)                2570      \n",
      "=================================================================\n",
      "Total params: 535,818\n",
      "Trainable params: 535,818\n",
      "Non-trainable params: 0\n",
      "_________________________________________________________________\n"
     ]
    }
   ],
   "source": [
    "m.summary()"
   ]
  },
  {
   "cell_type": "markdown",
   "metadata": {},
   "source": [
    "Now let's fit the neural network. We will keep the results in a *history* object to plot some parameters after the training, and use that information for improving our model (changing layers, activation functions, etc). This process is called **hyperparameters tuning** or hypeparameters search.\n",
    "\n",
    "Here we need to set two parameters: the number of **epochs** and the **batch size**.\n",
    "\n",
    "In previous cells, I have said that the training process is an optimization problem: we try to find the minimum.\n",
    "\n",
    "That's actually not entirely true. In practice, we don't keep searching for a minimum. Instead, we train for a preset number of epochs. Then we analyze the output using the validation set. If we detect overfit, then we reduce the number of epochs. If we don't detect it, then maybe we can keep going for some more epochs to find a better model. The number of epochs is another hyperparameter. In general, we should stop the training as early as possible. Any further epoch can make our model overfit, and therefore generalize poorly.\n",
    "\n",
    "The batch size is another hyperparameter. The network is not updated item by item, vector by vector. We can actually calculate the weights for a batch of several items, forming a matrix or a tensor. The batch size will affect the granularity of the calculations and the performance. A larger batch size will probably result in a slightly worse accuracy, but in a better performance. As long as the batch size is not so huge that it cannot be kept in memory. Because we are running on a GPU, it is a good idea to use a power of 2 for the batch size. It will probably make a better use of the GPU. But again, the effect of the batch size must be tested using the validation set, and adjusted until we find a good value for that parameter.\n",
    "\n",
    "An epoch is a full pass over the training dataset. At the end of each epoch, Keras will calculate the value of the metrics for the training set, and the loss function and metrics for the validation set. The loss and metrics of the validation set are useful for the hyperparameters tuning process.\n",
    "\n"
   ]
  },
  {
   "cell_type": "code",
   "execution_count": 25,
   "metadata": {},
   "outputs": [
    {
     "name": "stdout",
     "output_type": "stream",
     "text": [
      "Train on 48000 samples, validate on 12000 samples\n",
      "Epoch 1/80\n",
      "48000/48000 [==============================] - 2s 47us/step - loss: 1.1120 - categorical_accuracy: 0.6508 - val_loss: 0.4880 - val_categorical_accuracy: 0.8600\n",
      "Epoch 2/80\n",
      "48000/48000 [==============================] - 2s 45us/step - loss: 0.4517 - categorical_accuracy: 0.8680 - val_loss: 0.3353 - val_categorical_accuracy: 0.9063\n",
      "Epoch 3/80\n",
      "48000/48000 [==============================] - 2s 46us/step - loss: 0.3802 - categorical_accuracy: 0.8846 - val_loss: 0.2668 - val_categorical_accuracy: 0.9279\n",
      "Epoch 4/80\n",
      "48000/48000 [==============================] - 2s 45us/step - loss: 0.2840 - categorical_accuracy: 0.9156 - val_loss: 0.2453 - val_categorical_accuracy: 0.9288\n",
      "Epoch 5/80\n",
      "48000/48000 [==============================] - 2s 45us/step - loss: 0.2406 - categorical_accuracy: 0.9272 - val_loss: 0.2650 - val_categorical_accuracy: 0.9184\n",
      "Epoch 6/80\n",
      "48000/48000 [==============================] - 2s 43us/step - loss: 0.2380 - categorical_accuracy: 0.9283 - val_loss: 0.1828 - val_categorical_accuracy: 0.9481\n",
      "Epoch 7/80\n",
      "48000/48000 [==============================] - 2s 46us/step - loss: 0.1962 - categorical_accuracy: 0.9399 - val_loss: 0.1874 - val_categorical_accuracy: 0.9425\n",
      "Epoch 8/80\n",
      "48000/48000 [==============================] - 2s 46us/step - loss: 0.1667 - categorical_accuracy: 0.9508 - val_loss: 0.1527 - val_categorical_accuracy: 0.9550\n",
      "Epoch 9/80\n",
      "48000/48000 [==============================] - 3s 52us/step - loss: 0.1777 - categorical_accuracy: 0.9445 - val_loss: 0.1322 - val_categorical_accuracy: 0.9610\n",
      "Epoch 10/80\n",
      "48000/48000 [==============================] - 2s 51us/step - loss: 0.1312 - categorical_accuracy: 0.9604 - val_loss: 0.1266 - val_categorical_accuracy: 0.9623\n",
      "Epoch 11/80\n",
      "48000/48000 [==============================] - 2s 48us/step - loss: 0.1319 - categorical_accuracy: 0.9597 - val_loss: 0.1883 - val_categorical_accuracy: 0.9422\n",
      "Epoch 12/80\n",
      "48000/48000 [==============================] - 2s 49us/step - loss: 0.1045 - categorical_accuracy: 0.9694 - val_loss: 0.1267 - val_categorical_accuracy: 0.9609\n",
      "Epoch 13/80\n",
      "48000/48000 [==============================] - 3s 54us/step - loss: 0.1286 - categorical_accuracy: 0.9597 - val_loss: 0.1056 - val_categorical_accuracy: 0.9677\n",
      "Epoch 14/80\n",
      "48000/48000 [==============================] - 2s 46us/step - loss: 0.1086 - categorical_accuracy: 0.9665 - val_loss: 0.1007 - val_categorical_accuracy: 0.9693\n",
      "Epoch 15/80\n",
      "48000/48000 [==============================] - 2s 45us/step - loss: 0.0787 - categorical_accuracy: 0.9768 - val_loss: 0.1215 - val_categorical_accuracy: 0.9642\n",
      "Epoch 16/80\n",
      "48000/48000 [==============================] - 3s 53us/step - loss: 0.0778 - categorical_accuracy: 0.9766 - val_loss: 0.1004 - val_categorical_accuracy: 0.9692\n",
      "Epoch 17/80\n",
      "48000/48000 [==============================] - 2s 49us/step - loss: 0.0716 - categorical_accuracy: 0.9787 - val_loss: 0.1800 - val_categorical_accuracy: 0.9418\n",
      "Epoch 18/80\n",
      "48000/48000 [==============================] - 2s 47us/step - loss: 0.0747 - categorical_accuracy: 0.9774 - val_loss: 0.0943 - val_categorical_accuracy: 0.9717\n",
      "Epoch 19/80\n",
      "48000/48000 [==============================] - 2s 50us/step - loss: 0.0751 - categorical_accuracy: 0.9772 - val_loss: 0.0892 - val_categorical_accuracy: 0.9737\n",
      "Epoch 20/80\n",
      "48000/48000 [==============================] - 2s 49us/step - loss: 0.0526 - categorical_accuracy: 0.9845 - val_loss: 0.0934 - val_categorical_accuracy: 0.9718\n",
      "Epoch 21/80\n",
      "48000/48000 [==============================] - 2s 46us/step - loss: 0.0679 - categorical_accuracy: 0.9784 - val_loss: 0.0812 - val_categorical_accuracy: 0.9760\n",
      "Epoch 22/80\n",
      "48000/48000 [==============================] - 2s 46us/step - loss: 0.0456 - categorical_accuracy: 0.9864 - val_loss: 0.1546 - val_categorical_accuracy: 0.9530\n",
      "Epoch 23/80\n",
      "48000/48000 [==============================] - 2s 45us/step - loss: 0.0535 - categorical_accuracy: 0.9835 - val_loss: 0.1169 - val_categorical_accuracy: 0.9635\n",
      "Epoch 24/80\n",
      "48000/48000 [==============================] - 2s 46us/step - loss: 0.0447 - categorical_accuracy: 0.9871 - val_loss: 0.1099 - val_categorical_accuracy: 0.9664\n",
      "Epoch 25/80\n",
      "48000/48000 [==============================] - 2s 45us/step - loss: 0.0338 - categorical_accuracy: 0.9901 - val_loss: 0.0939 - val_categorical_accuracy: 0.9723\n",
      "Epoch 26/80\n",
      "48000/48000 [==============================] - 2s 50us/step - loss: 0.0429 - categorical_accuracy: 0.9871 - val_loss: 0.0787 - val_categorical_accuracy: 0.9769\n",
      "Epoch 27/80\n",
      "48000/48000 [==============================] - 3s 58us/step - loss: 0.0461 - categorical_accuracy: 0.9866 - val_loss: 0.0762 - val_categorical_accuracy: 0.9773\n",
      "Epoch 28/80\n",
      "48000/48000 [==============================] - 3s 53us/step - loss: 0.0213 - categorical_accuracy: 0.9948 - val_loss: 0.1160 - val_categorical_accuracy: 0.9648\n",
      "Epoch 29/80\n",
      "48000/48000 [==============================] - 3s 65us/step - loss: 0.0397 - categorical_accuracy: 0.9875 - val_loss: 0.0744 - val_categorical_accuracy: 0.9787\n",
      "Epoch 30/80\n",
      "48000/48000 [==============================] - 3s 55us/step - loss: 0.0469 - categorical_accuracy: 0.9858 - val_loss: 0.0825 - val_categorical_accuracy: 0.9756\n",
      "Epoch 31/80\n",
      "48000/48000 [==============================] - 3s 56us/step - loss: 0.0160 - categorical_accuracy: 0.9965 - val_loss: 0.0763 - val_categorical_accuracy: 0.9785\n",
      "Epoch 32/80\n",
      "48000/48000 [==============================] - 2s 51us/step - loss: 0.0210 - categorical_accuracy: 0.9945 - val_loss: 0.1417 - val_categorical_accuracy: 0.9565\n",
      "Epoch 33/80\n",
      "48000/48000 [==============================] - 2s 44us/step - loss: 0.0221 - categorical_accuracy: 0.9941 - val_loss: 0.0866 - val_categorical_accuracy: 0.9754\n",
      "Epoch 34/80\n",
      "48000/48000 [==============================] - 2s 49us/step - loss: 0.0470 - categorical_accuracy: 0.9856 - val_loss: 0.0750 - val_categorical_accuracy: 0.9788\n",
      "Epoch 35/80\n",
      "48000/48000 [==============================] - 2s 45us/step - loss: 0.0125 - categorical_accuracy: 0.9974 - val_loss: 0.0941 - val_categorical_accuracy: 0.9733\n",
      "Epoch 36/80\n",
      "48000/48000 [==============================] - 2s 46us/step - loss: 0.0124 - categorical_accuracy: 0.9972 - val_loss: 0.1076 - val_categorical_accuracy: 0.9715\n",
      "Epoch 37/80\n",
      "48000/48000 [==============================] - 2s 46us/step - loss: 0.0318 - categorical_accuracy: 0.9909 - val_loss: 0.0760 - val_categorical_accuracy: 0.9785\n",
      "Epoch 38/80\n",
      "48000/48000 [==============================] - 2s 45us/step - loss: 0.0230 - categorical_accuracy: 0.9939 - val_loss: 0.1474 - val_categorical_accuracy: 0.9587\n",
      "Epoch 39/80\n",
      "48000/48000 [==============================] - 2s 47us/step - loss: 0.0126 - categorical_accuracy: 0.9972 - val_loss: 0.0769 - val_categorical_accuracy: 0.9792\n",
      "Epoch 40/80\n",
      "48000/48000 [==============================] - 2s 46us/step - loss: 0.0126 - categorical_accuracy: 0.9969 - val_loss: 0.2409 - val_categorical_accuracy: 0.9370\n",
      "Epoch 41/80\n",
      "48000/48000 [==============================] - 2s 49us/step - loss: 0.0209 - categorical_accuracy: 0.9943 - val_loss: 0.0772 - val_categorical_accuracy: 0.9792\n",
      "Epoch 42/80\n",
      "48000/48000 [==============================] - 3s 58us/step - loss: 0.0050 - categorical_accuracy: 0.9995 - val_loss: 0.0842 - val_categorical_accuracy: 0.9787\n",
      "Epoch 43/80\n",
      "48000/48000 [==============================] - 3s 58us/step - loss: 0.0354 - categorical_accuracy: 0.9891 - val_loss: 0.0789 - val_categorical_accuracy: 0.9793\n",
      "Epoch 44/80\n",
      "48000/48000 [==============================] - 3s 53us/step - loss: 0.0042 - categorical_accuracy: 0.9996 - val_loss: 0.0803 - val_categorical_accuracy: 0.9798\n",
      "Epoch 45/80\n",
      "48000/48000 [==============================] - 2s 51us/step - loss: 0.0048 - categorical_accuracy: 0.9993 - val_loss: 0.0842 - val_categorical_accuracy: 0.9787\n",
      "Epoch 46/80\n",
      "48000/48000 [==============================] - 2s 49us/step - loss: 0.0517 - categorical_accuracy: 0.9868 - val_loss: 0.0793 - val_categorical_accuracy: 0.9794\n",
      "Epoch 47/80\n",
      "48000/48000 [==============================] - 2s 46us/step - loss: 0.0034 - categorical_accuracy: 0.9998 - val_loss: 0.0802 - val_categorical_accuracy: 0.9797\n",
      "Epoch 48/80\n",
      "48000/48000 [==============================] - 2s 47us/step - loss: 0.0031 - categorical_accuracy: 0.9997 - val_loss: 0.1017 - val_categorical_accuracy: 0.9749\n",
      "Epoch 49/80\n",
      "48000/48000 [==============================] - 2s 45us/step - loss: 0.0246 - categorical_accuracy: 0.9931 - val_loss: 0.0800 - val_categorical_accuracy: 0.9803\n",
      "Epoch 50/80\n",
      "48000/48000 [==============================] - 2s 46us/step - loss: 0.0025 - categorical_accuracy: 0.9999 - val_loss: 0.0825 - val_categorical_accuracy: 0.9801\n",
      "Epoch 51/80\n",
      "48000/48000 [==============================] - 2s 48us/step - loss: 0.0327 - categorical_accuracy: 0.9919 - val_loss: 0.0806 - val_categorical_accuracy: 0.9791\n",
      "Epoch 52/80\n",
      "48000/48000 [==============================] - 2s 47us/step - loss: 0.0024 - categorical_accuracy: 1.0000 - val_loss: 0.0818 - val_categorical_accuracy: 0.9804\n",
      "Epoch 53/80\n",
      "48000/48000 [==============================] - 2s 48us/step - loss: 0.0019 - categorical_accuracy: 1.0000 - val_loss: 0.0856 - val_categorical_accuracy: 0.9797\n",
      "Epoch 54/80\n",
      "48000/48000 [==============================] - 2s 47us/step - loss: 0.0324 - categorical_accuracy: 0.9912 - val_loss: 0.0826 - val_categorical_accuracy: 0.9797\n",
      "Epoch 55/80\n",
      "48000/48000 [==============================] - 2s 47us/step - loss: 0.0020 - categorical_accuracy: 0.9999 - val_loss: 0.0828 - val_categorical_accuracy: 0.9803\n",
      "Epoch 56/80\n",
      "48000/48000 [==============================] - 2s 46us/step - loss: 0.0015 - categorical_accuracy: 1.0000 - val_loss: 0.0854 - val_categorical_accuracy: 0.9798\n",
      "Epoch 57/80\n",
      "48000/48000 [==============================] - 2s 47us/step - loss: 0.0012 - categorical_accuracy: 1.0000 - val_loss: 0.0949 - val_categorical_accuracy: 0.9784\n",
      "Epoch 58/80\n",
      "48000/48000 [==============================] - 2s 48us/step - loss: 0.0375 - categorical_accuracy: 0.9908 - val_loss: 0.0842 - val_categorical_accuracy: 0.9794\n",
      "Epoch 59/80\n",
      "48000/48000 [==============================] - 2s 45us/step - loss: 0.0013 - categorical_accuracy: 1.0000 - val_loss: 0.0855 - val_categorical_accuracy: 0.9798\n",
      "Epoch 60/80\n",
      "48000/48000 [==============================] - 2s 47us/step - loss: 0.0011 - categorical_accuracy: 1.0000 - val_loss: 0.0877 - val_categorical_accuracy: 0.9802\n",
      "Epoch 61/80\n",
      "48000/48000 [==============================] - 2s 50us/step - loss: 0.0405 - categorical_accuracy: 0.9892 - val_loss: 0.1122 - val_categorical_accuracy: 0.9729\n",
      "Epoch 62/80\n",
      "48000/48000 [==============================] - 2s 50us/step - loss: 0.0037 - categorical_accuracy: 0.9991 - val_loss: 0.0868 - val_categorical_accuracy: 0.9798\n",
      "Epoch 63/80\n",
      "48000/48000 [==============================] - 2s 50us/step - loss: 0.0012 - categorical_accuracy: 0.9999 - val_loss: 0.0874 - val_categorical_accuracy: 0.9802\n",
      "Epoch 64/80\n",
      "48000/48000 [==============================] - 2s 49us/step - loss: 8.7056e-04 - categorical_accuracy: 1.0000 - val_loss: 0.0897 - val_categorical_accuracy: 0.9793\n",
      "Epoch 65/80\n",
      "48000/48000 [==============================] - 2s 47us/step - loss: 6.9863e-04 - categorical_accuracy: 1.0000 - val_loss: 0.0919 - val_categorical_accuracy: 0.9802\n",
      "Epoch 66/80\n",
      "48000/48000 [==============================] - 2s 51us/step - loss: 0.0331 - categorical_accuracy: 0.9923 - val_loss: 0.1032 - val_categorical_accuracy: 0.9780\n",
      "Epoch 67/80\n",
      "48000/48000 [==============================] - 3s 54us/step - loss: 0.0012 - categorical_accuracy: 0.9999 - val_loss: 0.0915 - val_categorical_accuracy: 0.9793\n",
      "Epoch 68/80\n",
      "48000/48000 [==============================] - 2s 50us/step - loss: 6.3441e-04 - categorical_accuracy: 1.0000 - val_loss: 0.0935 - val_categorical_accuracy: 0.9794\n",
      "Epoch 69/80\n",
      "48000/48000 [==============================] - 2s 51us/step - loss: 5.2581e-04 - categorical_accuracy: 1.0000 - val_loss: 0.0965 - val_categorical_accuracy: 0.9793\n",
      "Epoch 70/80\n",
      "48000/48000 [==============================] - 2s 51us/step - loss: 0.0401 - categorical_accuracy: 0.9918 - val_loss: 0.0921 - val_categorical_accuracy: 0.9800\n",
      "Epoch 71/80\n",
      "48000/48000 [==============================] - 3s 55us/step - loss: 7.2807e-04 - categorical_accuracy: 1.0000 - val_loss: 0.0926 - val_categorical_accuracy: 0.9804\n",
      "Epoch 72/80\n",
      "48000/48000 [==============================] - 2s 49us/step - loss: 5.5584e-04 - categorical_accuracy: 1.0000 - val_loss: 0.0946 - val_categorical_accuracy: 0.9800\n",
      "Epoch 73/80\n",
      "48000/48000 [==============================] - 2s 52us/step - loss: 4.3874e-04 - categorical_accuracy: 1.0000 - val_loss: 0.0969 - val_categorical_accuracy: 0.9797\n",
      "Epoch 74/80\n",
      "48000/48000 [==============================] - 2s 50us/step - loss: 0.0332 - categorical_accuracy: 0.9915 - val_loss: 0.0985 - val_categorical_accuracy: 0.9785\n",
      "Epoch 75/80\n",
      "48000/48000 [==============================] - 3s 53us/step - loss: 8.5839e-04 - categorical_accuracy: 1.0000 - val_loss: 0.0942 - val_categorical_accuracy: 0.9802\n",
      "Epoch 76/80\n",
      "48000/48000 [==============================] - 3s 53us/step - loss: 4.8672e-04 - categorical_accuracy: 1.0000 - val_loss: 0.0951 - val_categorical_accuracy: 0.9802\n",
      "Epoch 77/80\n",
      "48000/48000 [==============================] - 3s 62us/step - loss: 3.8299e-04 - categorical_accuracy: 1.0000 - val_loss: 0.0975 - val_categorical_accuracy: 0.9795\n",
      "Epoch 78/80\n",
      "48000/48000 [==============================] - 5s 95us/step - loss: 3.2378e-04 - categorical_accuracy: 1.0000 - val_loss: 0.1010 - val_categorical_accuracy: 0.9793\n",
      "Epoch 79/80\n",
      "48000/48000 [==============================] - 3s 60us/step - loss: 0.0170 - categorical_accuracy: 0.9958 - val_loss: 0.0980 - val_categorical_accuracy: 0.9791\n",
      "Epoch 80/80\n",
      "48000/48000 [==============================] - 2s 49us/step - loss: 5.4309e-04 - categorical_accuracy: 1.0000 - val_loss: 0.0973 - val_categorical_accuracy: 0.9794\n"
     ]
    }
   ],
   "source": [
    "h = m.fit(train_imgs_t, train_labels_t, epochs=80, batch_size=4096, validation_split=.2)"
   ]
  },
  {
   "cell_type": "code",
   "execution_count": 35,
   "metadata": {},
   "outputs": [
    {
     "data": {
      "image/png": "[encoded data removed]",
      "text/plain": [
       "<Figure size 748.8x514.8 with 1 Axes>"
      ]
     },
     "metadata": {},
     "output_type": "display_data"
    }
   ],
   "source": [
    "plot_metric(h, 'loss')"
   ]
  },
  {
   "cell_type": "code",
   "execution_count": 36,
   "metadata": {},
   "outputs": [
    {
     "data": {
      "image/png": "[encoded data removed]",
      "text/plain": [
       "<Figure size 748.8x514.8 with 1 Axes>"
      ]
     },
     "metadata": {},
     "output_type": "display_data"
    }
   ],
   "source": [
    "plot_metric(h, 'categorical_accuracy')"
   ]
  },
  {
   "cell_type": "markdown",
   "metadata": {},
   "source": [
    "## Exercises\n",
    "\n",
    "* **EXERCISE 1**: Chante the activation function in the model. How does it affect accuracy? What happens if you use linear activation function? What happens if we use the $\\tanh$ function? Does it affect to overfitting?\n",
    " * https://keras.io/activations/\n",
    " \n",
    "Here we see that the accuracy keeps increasing over epochs. An overfitted model would produce a decrease of the validation accuracy at some point. This means that we have found an optimal model. The validation loss is stuck at a minimum, but the accuracy is not affected by the extra epochs.\n",
    "\n",
    "_**EXERCISE 2**_: How is the model accuracy (measured with the test set, see below) affected if we start over and fit for 40 epochs? And for 4? And for 400?\n",
    "\n",
    "_**EXERCISE 4**_: What is the most simple model that you can get that achieves a similar validation performance (accuracy)? (the loss values are not comparable, different networks will have different ranges of values for the loss functions)\n",
    "\n",
    "Now let's check how well the model works with the test dataset. Remember that we don't have used it at all during the training and tuning of the model."
   ]
  },
  {
   "cell_type": "markdown",
   "metadata": {},
   "source": [
    "## Analyze the classification performance"
   ]
  },
  {
   "cell_type": "code",
   "execution_count": 40,
   "metadata": {},
   "outputs": [
    {
     "name": "stdout",
     "output_type": "stream",
     "text": [
      "10000/10000 [==============================] - 0s 41us/step\n"
     ]
    }
   ],
   "source": [
    "loss, acc = m.evaluate(test_imgs_t, test_labels_t)"
   ]
  },
  {
   "cell_type": "code",
   "execution_count": 42,
   "metadata": {},
   "outputs": [
    {
     "data": {
      "text/plain": [
       "(0.08764230715819371, 0.9828)"
      ]
     },
     "execution_count": 42,
     "metadata": {},
     "output_type": "execute_result"
    }
   ],
   "source": [
    "loss, acc"
   ]
  },
  {
   "cell_type": "markdown",
   "metadata": {},
   "source": [
    "That's about a $98\\%$ accuracy on the test set. Not bad.\n",
    "\n",
    "With that accuracy, this is the number of images that are wrongly classified by our model:"
   ]
  },
  {
   "cell_type": "code",
   "execution_count": 46,
   "metadata": {},
   "outputs": [
    {
     "data": {
      "text/plain": [
       "171.99999999999994"
      ]
     },
     "execution_count": 46,
     "metadata": {},
     "output_type": "execute_result"
    }
   ],
   "source": [
    "test_imgs.shape[0]*(1-acc)  # number of images that will be missclassified"
   ]
  },
  {
   "cell_type": "markdown",
   "metadata": {},
   "source": [
    "Let's see how well it predicts some random items from the test set."
   ]
  },
  {
   "cell_type": "code",
   "execution_count": 47,
   "metadata": {},
   "outputs": [
    {
     "name": "stdout",
     "output_type": "stream",
     "text": [
      "The image below should show the number 8\n"
     ]
    },
    {
     "data": {
      "image/png": "[encoded data removed]",
      "text/plain": [
       "<Figure size 748.8x514.8 with 1 Axes>"
      ]
     },
     "metadata": {},
     "output_type": "display_data"
    }
   ],
   "source": [
    "plot_mnist_image(2543, test_imgs, test_labels)"
   ]
  },
  {
   "cell_type": "markdown",
   "metadata": {},
   "source": [
    "The prediction is a 10-element vector (*1-HOT encoded vector*), with the probability of each class. The location of the max is giving us the predicted class."
   ]
  },
  {
   "cell_type": "code",
   "execution_count": 50,
   "metadata": {},
   "outputs": [
    {
     "data": {
      "text/plain": [
       "array([[2.2242782e-08, 1.1372434e-10, 5.4053770e-09, 6.1867638e-08,\n",
       "        8.2109815e-15, 3.3417191e-08, 1.2759135e-10, 1.7504320e-10,\n",
       "        9.9999988e-01, 8.3502388e-10]], dtype=float32)"
      ]
     },
     "execution_count": 50,
     "metadata": {},
     "output_type": "execute_result"
    }
   ],
   "source": [
    "m.predict(test_imgs_t[2543:2544,])"
   ]
  },
  {
   "cell_type": "code",
   "execution_count": 51,
   "metadata": {},
   "outputs": [
    {
     "data": {
      "text/plain": [
       "8"
      ]
     },
     "execution_count": 51,
     "metadata": {},
     "output_type": "execute_result"
    }
   ],
   "source": [
    "np.argmax(m.predict(test_imgs_t[2543:2544,]))"
   ]
  },
  {
   "cell_type": "markdown",
   "metadata": {},
   "source": [
    "YES! Our model predicts 8\n",
    "\n",
    "_**EXERCISE 5**_: Can you find a test item that is predicted wrongly? How many images are predicted wrongly? Can you find all the items that are wrongly classified? For instance, the test element with index 3943 is a 3 but we predict a 5\n"
   ]
  },
  {
   "cell_type": "code",
   "execution_count": 83,
   "metadata": {},
   "outputs": [
    {
     "name": "stdout",
     "output_type": "stream",
     "text": [
      "The image below should show the number 3\n"
     ]
    },
    {
     "data": {
      "image/png": "[encoded data removed]",
      "text/plain": [
       "<Figure size 748.8x514.8 with 1 Axes>"
      ]
     },
     "metadata": {},
     "output_type": "display_data"
    }
   ],
   "source": [
    "plot_mnist_image(3943, test_imgs, test_labels)"
   ]
  },
  {
   "cell_type": "code",
   "execution_count": 84,
   "metadata": {},
   "outputs": [
    {
     "data": {
      "text/plain": [
       "5"
      ]
     },
     "execution_count": 84,
     "metadata": {},
     "output_type": "execute_result"
    }
   ],
   "source": [
    "np.argmax(m.predict(test_imgs_t[3943:3944,]))"
   ]
  },
  {
   "cell_type": "code",
   "execution_count": 53,
   "metadata": {},
   "outputs": [],
   "source": [
    "preds = m.predict(test_imgs_t)"
   ]
  },
  {
   "cell_type": "code",
   "execution_count": 54,
   "metadata": {},
   "outputs": [
    {
     "data": {
      "text/plain": [
       "(10000, 10)"
      ]
     },
     "execution_count": 54,
     "metadata": {},
     "output_type": "execute_result"
    }
   ],
   "source": [
    "preds.shape"
   ]
  },
  {
   "cell_type": "code",
   "execution_count": 68,
   "metadata": {},
   "outputs": [
    {
     "data": {
      "text/plain": [
       "array([2.2242782e-08, 1.1372434e-10, 5.4053877e-09, 6.1867638e-08,\n",
       "       8.2109815e-15, 3.3417255e-08, 1.2759135e-10, 1.7504320e-10,\n",
       "       9.9999988e-01, 8.3502227e-10], dtype=float32)"
      ]
     },
     "execution_count": 68,
     "metadata": {},
     "output_type": "execute_result"
    }
   ],
   "source": [
    "preds[2543]"
   ]
  },
  {
   "cell_type": "code",
   "execution_count": 69,
   "metadata": {},
   "outputs": [
    {
     "data": {
      "text/plain": [
       "8"
      ]
     },
     "execution_count": 69,
     "metadata": {},
     "output_type": "execute_result"
    }
   ],
   "source": [
    "np.argmax(preds[2543])"
   ]
  },
  {
   "cell_type": "code",
   "execution_count": 70,
   "metadata": {},
   "outputs": [],
   "source": [
    "preds_labels = preds.argmax(axis=1)  # preds is 10000x10, apply the Max func in every row"
   ]
  },
  {
   "cell_type": "code",
   "execution_count": 71,
   "metadata": {},
   "outputs": [
    {
     "data": {
      "text/plain": [
       "(10000,)"
      ]
     },
     "execution_count": 71,
     "metadata": {},
     "output_type": "execute_result"
    }
   ],
   "source": [
    "preds_labels.shape"
   ]
  },
  {
   "cell_type": "code",
   "execution_count": 72,
   "metadata": {},
   "outputs": [
    {
     "data": {
      "text/plain": [
       "8"
      ]
     },
     "execution_count": 72,
     "metadata": {},
     "output_type": "execute_result"
    }
   ],
   "source": [
    "preds_labels[2543]"
   ]
  },
  {
   "cell_type": "markdown",
   "metadata": {},
   "source": [
    "Ok, but in which positions can we find all the misclassifications?"
   ]
  },
  {
   "cell_type": "code",
   "execution_count": 77,
   "metadata": {},
   "outputs": [],
   "source": [
    "pos = np.where(preds_labels != test_labels)[0]"
   ]
  },
  {
   "cell_type": "code",
   "execution_count": 78,
   "metadata": {},
   "outputs": [
    {
     "data": {
      "text/plain": [
       "array([ 151,  247,  321,  340,  445,  447,  495,  582,  583,  619,  684,\n",
       "        691,  707,  717,  720,  740,  877,  900,  951,  956, 1014, 1039,\n",
       "       1050, 1112, 1156, 1178, 1182, 1226, 1232, 1242, 1247, 1299, 1319,\n",
       "       1328, 1378, 1393, 1522, 1530, 1549, 1553, 1609, 1681, 1709, 1717,\n",
       "       1790, 1800, 1878, 1901, 1984, 2016, 2035, 2043, 2053, 2070, 2109,\n",
       "       2118, 2135, 2182, 2266, 2272, 2291, 2293, 2369, 2387, 2488, 2607,\n",
       "       2648, 2654, 2836, 2921, 2939, 2953, 3073, 3289, 3422, 3503, 3520,\n",
       "       3558, 3727, 3751, 3776, 3780, 3796, 3808, 3811, 3838, 3853, 3869,\n",
       "       3902, 3906, 3941, 3943, 3985, 4027, 4065, 4078, 4140, 4163, 4176,\n",
       "       4199, 4224, 4248, 4289, 4369, 4433, 4497, 4500, 4536, 4547, 4740,\n",
       "       4751, 4807, 4814, 4823, 4879, 4880, 5140, 5331, 5457, 5642, 5676,\n",
       "       5734, 5888, 5936, 5937, 5955, 5973, 5981, 5997, 6011, 6059, 6071,\n",
       "       6166, 6555, 6571, 6574, 6576, 6597, 6651, 6755, 6783, 6847, 7216,\n",
       "       7434, 7921, 8091, 8094, 8325, 8456, 8527, 9009, 9015, 9024, 9280,\n",
       "       9587, 9634, 9642, 9664, 9679, 9698, 9700, 9729, 9742, 9745, 9749,\n",
       "       9768, 9770, 9777, 9792, 9839, 9944, 9982])"
      ]
     },
     "execution_count": 78,
     "metadata": {},
     "output_type": "execute_result"
    }
   ],
   "source": [
    "pos"
   ]
  },
  {
   "cell_type": "code",
   "execution_count": 79,
   "metadata": {},
   "outputs": [
    {
     "data": {
      "text/plain": [
       "172"
      ]
     },
     "execution_count": 79,
     "metadata": {},
     "output_type": "execute_result"
    }
   ],
   "source": [
    "len(pos)"
   ]
  },
  {
   "cell_type": "markdown",
   "metadata": {},
   "source": [
    "_**EXERCISE 6**_: Some digits are more difficult to recognize than others. Because we know the test labels, we can find out how many times the corresponding test images are misclassified. Could you find what are the top 3 test labels that are more often misclassified?"
   ]
  },
  {
   "cell_type": "markdown",
   "metadata": {},
   "source": [
    "Let's check some wrong predictions"
   ]
  },
  {
   "cell_type": "code",
   "execution_count": 80,
   "metadata": {},
   "outputs": [
    {
     "name": "stdout",
     "output_type": "stream",
     "text": [
      "The image below should show the number 9\n"
     ]
    },
    {
     "data": {
      "image/png": "[encoded data removed]",
      "text/plain": [
       "<Figure size 748.8x514.8 with 1 Axes>"
      ]
     },
     "metadata": {},
     "output_type": "display_data"
    }
   ],
   "source": [
    "plot_mnist_image(151, test_imgs, test_labels)"
   ]
  },
  {
   "cell_type": "code",
   "execution_count": 82,
   "metadata": {},
   "outputs": [
    {
     "data": {
      "text/plain": [
       "8"
      ]
     },
     "execution_count": 82,
     "metadata": {},
     "output_type": "execute_result"
    }
   ],
   "source": [
    "preds_labels[151]"
   ]
  },
  {
   "cell_type": "markdown",
   "metadata": {},
   "source": [
    "These are the items that are wrongly classified:"
   ]
  },
  {
   "cell_type": "code",
   "execution_count": 85,
   "metadata": {},
   "outputs": [
    {
     "data": {
      "text/plain": [
       "array([9, 4, 2, 5, 6, 4, 8, 8, 2, 1, 7, 8, 4, 0, 5, 4, 8, 1, 5, 1, 6, 7,\n",
       "       2, 4, 7, 4, 6, 7, 9, 4, 9, 5, 8, 7, 5, 5, 7, 8, 4, 9, 2, 3, 9, 8,\n",
       "       2, 6, 8, 9, 2, 7, 5, 4, 4, 7, 3, 6, 6, 1, 1, 8, 5, 9, 5, 9, 2, 7,\n",
       "       9, 6, 4, 3, 9, 3, 1, 8, 6, 9, 6, 5, 8, 7, 5, 4, 2, 7, 2, 7, 6, 9,\n",
       "       5, 1, 4, 3, 9, 7, 0, 9, 8, 9, 2, 7, 9, 2, 2, 9, 7, 8, 9, 6, 6, 3,\n",
       "       4, 8, 6, 9, 8, 0, 3, 1, 1, 1, 4, 3, 4, 4, 5, 3, 3, 5, 5, 3, 3, 9,\n",
       "       9, 8, 9, 2, 7, 0, 0, 8, 1, 6, 0, 4, 8, 2, 2, 0, 8, 4, 7, 7, 7, 8,\n",
       "       9, 0, 9, 2, 6, 6, 2, 5, 3, 4, 5, 2, 5, 5, 4, 2, 3, 5], dtype=uint8)"
      ]
     },
     "execution_count": 85,
     "metadata": {},
     "output_type": "execute_result"
    }
   ],
   "source": [
    "test_labels[pos]"
   ]
  },
  {
   "cell_type": "code",
   "execution_count": 87,
   "metadata": {},
   "outputs": [],
   "source": [
    "import pandas as pd"
   ]
  },
  {
   "cell_type": "code",
   "execution_count": 88,
   "metadata": {},
   "outputs": [],
   "source": [
    "wrong_class = pd.Series(np.bincount(test_labels[pos]))"
   ]
  },
  {
   "cell_type": "code",
   "execution_count": 89,
   "metadata": {},
   "outputs": [
    {
     "data": {
      "text/plain": [
       "<matplotlib.axes._subplots.AxesSubplot at 0x1458b8f98>"
      ]
     },
     "execution_count": 89,
     "metadata": {},
     "output_type": "execute_result"
    },
    {
     "data": {
      "image/png": "[encoded data removed]",
      "text/plain": [
       "<Figure size 748.8x514.8 with 1 Axes>"
      ]
     },
     "metadata": {},
     "output_type": "display_data"
    }
   ],
   "source": [
    "wrong_class.plot.bar()"
   ]
  },
  {
   "cell_type": "markdown",
   "metadata": {},
   "source": [
    "So we see that $9$ is wrongly classified more than the rest. But does it mean that our model has more difficulties recognizing 9s?"
   ]
  },
  {
   "cell_type": "code",
   "execution_count": 90,
   "metadata": {},
   "outputs": [],
   "source": [
    "all_labels = pd.Series(np.bincount(test_labels))"
   ]
  },
  {
   "cell_type": "code",
   "execution_count": 93,
   "metadata": {},
   "outputs": [],
   "source": [
    "prop_wrong = wrong_class/all_labels*100"
   ]
  },
  {
   "cell_type": "code",
   "execution_count": 94,
   "metadata": {},
   "outputs": [
    {
     "data": {
      "text/plain": [
       "<matplotlib.axes._subplots.AxesSubplot at 0x108083828>"
      ]
     },
     "execution_count": 94,
     "metadata": {},
     "output_type": "execute_result"
    },
    {
     "data": {
      "image/png": "[encoded data removed]",
      "text/plain": [
       "<Figure size 748.8x514.8 with 1 Axes>"
      ]
     },
     "metadata": {},
     "output_type": "display_data"
    }
   ],
   "source": [
    "prop_wrong.plot.bar()"
   ]
  },
  {
   "cell_type": "markdown",
   "metadata": {},
   "source": [
    "Our model has the most difficulties recognizing 9s, 5s and 4s"
   ]
  },
  {
   "cell_type": "code",
   "execution_count": null,
   "metadata": {},
   "outputs": [],
   "source": []
  }
 ],
 "metadata": {
  "kernelspec": {
   "display_name": "Python 3",
   "language": "python",
   "name": "python3"
  },
  "language_info": {
   "codemirror_mode": {
    "name": "ipython",
    "version": 3
   },
   "file_extension": ".py",
   "mimetype": "text/x-python",
   "name": "python",
   "nbconvert_exporter": "python",
   "pygments_lexer": "ipython3",
   "version": "3.6.6"
  }
 },
 "nbformat": 4,
 "nbformat_minor": 2
}
