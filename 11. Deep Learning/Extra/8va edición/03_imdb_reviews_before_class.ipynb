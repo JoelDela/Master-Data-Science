{
  "nbformat": 4,
  "nbformat_minor": 0,
  "metadata": {
    "colab": {
      "name": "03_imdb_reviews_before_class.ipynb",
      "version": "0.3.2",
      "provenance": [],
      "collapsed_sections": []
    },
    "kernelspec": {
      "display_name": "Python 3",
      "language": "python",
      "name": "python3"
    },
    "accelerator": "GPU"
  },
  "cells": [
    {
      "metadata": {
        "id": "4qz58u5qre3M",
        "colab_type": "text"
      },
      "cell_type": "markdown",
      "source": [
        "# Working with text\n",
        "\n",
        "In this problem, we will load movie reviews from IMDB, a famous movie database and website, and we will try to predict whether the review is positive or negative."
      ]
    },
    {
      "metadata": {
        "id": "jOgV26v4re3P",
        "colab_type": "text"
      },
      "cell_type": "markdown",
      "source": [
        "First, the function we will use to diagnose the performance of our model"
      ]
    },
    {
      "metadata": {
        "id": "bP88A3e2re3S",
        "colab_type": "code",
        "colab": {
          "base_uri": "https://localhost:8080/",
          "height": 34
        },
        "outputId": "f181e444-b968-4432-dee6-ee1cd5250dc2"
      },
      "cell_type": "code",
      "source": [
        "%pylab inline\n",
        "plt.style.use('seaborn-talk')"
      ],
      "execution_count": 1,
      "outputs": [
        {
          "output_type": "stream",
          "text": [
            "Populating the interactive namespace from numpy and matplotlib\n"
          ],
          "name": "stdout"
        }
      ]
    },
    {
      "metadata": {
        "id": "0dYZcDDBre3c",
        "colab_type": "code",
        "colab": {}
      },
      "cell_type": "code",
      "source": [
        "def plot_metric(history, metric):\n",
        "    history_dict = history.history\n",
        "    values = history_dict[metric]\n",
        "    if 'val_' + metric in history_dict.keys():  \n",
        "        val_values = history_dict['val_' + metric]\n",
        "\n",
        "    epochs = range(1, len(values) + 1)\n",
        "\n",
        "    if 'val_' + metric in history_dict.keys():  \n",
        "        plt.plot(epochs, val_values, label='Validation')\n",
        "    plt.semilogy(epochs, values, label='Training')\n",
        "\n",
        "    if 'val_' + metric in history_dict.keys():  \n",
        "        plt.title('Training and validation %s' % metric)\n",
        "    else:\n",
        "        plt.title('Training %s' % metric)\n",
        "    plt.xlabel('Epochs')\n",
        "    plt.ylabel(metric.capitalize())\n",
        "    plt.legend()\n",
        "    plt.grid()\n",
        "\n",
        "    plt.show()  "
      ],
      "execution_count": 0,
      "outputs": []
    },
    {
      "metadata": {
        "id": "gj60xTILre3f",
        "colab_type": "text"
      },
      "cell_type": "markdown",
      "source": [
        "## Input data"
      ]
    },
    {
      "metadata": {
        "id": "5bGP8TXgre3g",
        "colab_type": "code",
        "colab": {
          "base_uri": "https://localhost:8080/",
          "height": 34
        },
        "outputId": "832fe0c4-9e71-469f-9e8b-592c446ecf3f"
      },
      "cell_type": "code",
      "source": [
        "from keras.datasets import imdb"
      ],
      "execution_count": 3,
      "outputs": [
        {
          "output_type": "stream",
          "text": [
            "Using TensorFlow backend.\n"
          ],
          "name": "stderr"
        }
      ]
    },
    {
      "metadata": {
        "id": "LWMsRpYTre3l",
        "colab_type": "code",
        "colab": {}
      },
      "cell_type": "code",
      "source": [
        "# Run this to download the data prior to the lecture\n",
        "# Los textos de los user reviews son la entrada. La salida son las estrellas de\n",
        "# la gente\n",
        "train, test = imdb.load_data(num_words=10000)"
      ],
      "execution_count": 0,
      "outputs": []
    },
    {
      "metadata": {
        "id": "YbFhR2T4re3p",
        "colab_type": "code",
        "colab": {
          "base_uri": "https://localhost:8080/",
          "height": 34
        },
        "outputId": "00f07819-f0ba-4f13-e39f-b533a384449d"
      },
      "cell_type": "code",
      "source": [
        "type(train)"
      ],
      "execution_count": 6,
      "outputs": [
        {
          "output_type": "execute_result",
          "data": {
            "text/plain": [
              "tuple"
            ]
          },
          "metadata": {
            "tags": []
          },
          "execution_count": 6
        }
      ]
    },
    {
      "metadata": {
        "id": "3vQylg9zre3t",
        "colab_type": "text"
      },
      "cell_type": "markdown",
      "source": [
        "Why are these *texts* numbers?"
      ]
    },
    {
      "metadata": {
        "id": "KnK8MqDusa4g",
        "colab_type": "code",
        "colab": {
          "base_uri": "https://localhost:8080/",
          "height": 34
        },
        "outputId": "36ad4090-7377-4a06-867f-0162f1746eb1"
      },
      "cell_type": "code",
      "source": [
        "train[1].shape"
      ],
      "execution_count": 7,
      "outputs": [
        {
          "output_type": "execute_result",
          "data": {
            "text/plain": [
              "(25000,)"
            ]
          },
          "metadata": {
            "tags": []
          },
          "execution_count": 7
        }
      ]
    },
    {
      "metadata": {
        "id": "8Yx2Ih46sbTO",
        "colab_type": "code",
        "colab": {
          "base_uri": "https://localhost:8080/",
          "height": 34
        },
        "outputId": "0a969160-7d23-4386-b4cf-bf9d0aba0a68"
      },
      "cell_type": "code",
      "source": [
        "train[0].shape"
      ],
      "execution_count": 8,
      "outputs": [
        {
          "output_type": "execute_result",
          "data": {
            "text/plain": [
              "(25000,)"
            ]
          },
          "metadata": {
            "tags": []
          },
          "execution_count": 8
        }
      ]
    },
    {
      "metadata": {
        "id": "LEKMSM5OsbZi",
        "colab_type": "code",
        "colab": {}
      },
      "cell_type": "code",
      "source": [
        "train_text, train_labels = train\n",
        "test_text, test_labels = test\n",
        "\n"
      ],
      "execution_count": 0,
      "outputs": []
    },
    {
      "metadata": {
        "id": "n1AeNW2ysbdr",
        "colab_type": "code",
        "colab": {
          "base_uri": "https://localhost:8080/",
          "height": 34
        },
        "outputId": "aaa8d3ee-4ad9-4630-c8c1-55ad9bbb8dda"
      },
      "cell_type": "code",
      "source": [
        "train_text[4][0:10]"
      ],
      "execution_count": 10,
      "outputs": [
        {
          "output_type": "execute_result",
          "data": {
            "text/plain": [
              "[1, 249, 1323, 7, 61, 113, 10, 10, 13, 1637]"
            ]
          },
          "metadata": {
            "tags": []
          },
          "execution_count": 10
        }
      ]
    },
    {
      "metadata": {
        "id": "FSfj9H2psbXI",
        "colab_type": "code",
        "colab": {
          "base_uri": "https://localhost:8080/",
          "height": 34
        },
        "outputId": "4348254c-fa15-43cf-e8cb-47a98c490da5"
      },
      "cell_type": "code",
      "source": [
        "train_labels[4]"
      ],
      "execution_count": 11,
      "outputs": [
        {
          "output_type": "execute_result",
          "data": {
            "text/plain": [
              "0"
            ]
          },
          "metadata": {
            "tags": []
          },
          "execution_count": 11
        }
      ]
    },
    {
      "metadata": {
        "id": "0RpGi1vksrv-",
        "colab_type": "code",
        "colab": {}
      },
      "cell_type": "code",
      "source": [
        "# estos indices son una lookuptable del diccionario de las palabras"
      ],
      "execution_count": 0,
      "outputs": []
    },
    {
      "metadata": {
        "id": "VTH7UDtzsr8J",
        "colab_type": "code",
        "colab": {}
      },
      "cell_type": "code",
      "source": [
        "word_index = imdb.get_word_index()"
      ],
      "execution_count": 0,
      "outputs": []
    },
    {
      "metadata": {
        "id": "TV4tS6ZjssGx",
        "colab_type": "code",
        "colab": {
          "base_uri": "https://localhost:8080/",
          "height": 34
        },
        "outputId": "7ef7a0b6-d403-4e0c-8f0f-39ad5199cdc9"
      },
      "cell_type": "code",
      "source": [
        "[word_index[i] for i in ['car', 'phone']]"
      ],
      "execution_count": 15,
      "outputs": [
        {
          "output_type": "execute_result",
          "data": {
            "text/plain": [
              "[516, 1696]"
            ]
          },
          "metadata": {
            "tags": []
          },
          "execution_count": 15
        }
      ]
    },
    {
      "metadata": {
        "id": "J9Wq9blWre3x",
        "colab_type": "text"
      },
      "cell_type": "markdown",
      "source": [
        "These are actually indices in a word index"
      ]
    },
    {
      "metadata": {
        "id": "XthgKfi8re35",
        "colab_type": "code",
        "colab": {}
      },
      "cell_type": "code",
      "source": [
        "reversed_word_index = dict((value, key) for (key, value) in word_index.items())"
      ],
      "execution_count": 0,
      "outputs": []
    },
    {
      "metadata": {
        "id": "Ba_wKFjDre3-",
        "colab_type": "code",
        "colab": {}
      },
      "cell_type": "code",
      "source": [
        "def get_text_from_vector(v):\n",
        "    return ' '.join(reversed_word_index.get(i-3, '?') for i in v)"
      ],
      "execution_count": 0,
      "outputs": []
    },
    {
      "metadata": {
        "id": "WFFcZyqUre4D",
        "colab_type": "code",
        "colab": {
          "base_uri": "https://localhost:8080/",
          "height": 34
        },
        "outputId": "4387ebd0-9107-4446-b80a-92521338e86c"
      },
      "cell_type": "code",
      "source": [
        "get_text_from_vector(train_text[4][0:10])"
      ],
      "execution_count": 18,
      "outputs": [
        {
          "output_type": "execute_result",
          "data": {
            "text/plain": [
              "'? worst mistake of my life br br i picked'"
            ]
          },
          "metadata": {
            "tags": []
          },
          "execution_count": 18
        }
      ]
    },
    {
      "metadata": {
        "id": "QTcfeSu0re4I",
        "colab_type": "text"
      },
      "cell_type": "markdown",
      "source": [
        "### Prepare data for the network\n",
        "\n",
        "We need to prepare the data to be an input to the neural network. The input must be a **tensor**. In our case, all vectors should be of the same length. But not all reviews are of the same size, so the vectors will have different sizes. How can we overcome this problem?\n",
        "\n",
        "* We can zero-pad the vectors, so all of them have the same size, and then combine them in a tensor. We would need to add an *Embedding* layer to learn **word embeddings** (more later)\n",
        "* Or we can use 1-HOT encoding\n",
        "\n",
        "In both cases, we will have vectors of size $10^4$ (the maximum number of words). Let's go with the 1-HOT encoding."
      ]
    },
    {
      "metadata": {
        "id": "YZr0TI9Pre4J",
        "colab_type": "code",
        "colab": {}
      },
      "cell_type": "code",
      "source": [
        "from keras.preprocessing import text\n",
        "# Las sequencias son listas en las que el orden importa, como series temporales."
      ],
      "execution_count": 0,
      "outputs": []
    },
    {
      "metadata": {
        "id": "2_2tmtWAuzSJ",
        "colab_type": "code",
        "colab": {
          "base_uri": "https://localhost:8080/",
          "height": 34
        },
        "outputId": "bf43fe70-8b43-476d-d991-a438b1c71a1d"
      },
      "cell_type": "code",
      "source": [
        "train_text.shape"
      ],
      "execution_count": 22,
      "outputs": [
        {
          "output_type": "execute_result",
          "data": {
            "text/plain": [
              "(25000,)"
            ]
          },
          "metadata": {
            "tags": []
          },
          "execution_count": 22
        }
      ]
    },
    {
      "metadata": {
        "id": "v2IHllkCuzY2",
        "colab_type": "code",
        "colab": {
          "base_uri": "https://localhost:8080/",
          "height": 34
        },
        "outputId": "9cd3676c-5c2f-4843-ac0c-aa3ab57b65d5"
      },
      "cell_type": "code",
      "source": [
        "type(train_text)"
      ],
      "execution_count": 24,
      "outputs": [
        {
          "output_type": "execute_result",
          "data": {
            "text/plain": [
              "numpy.ndarray"
            ]
          },
          "metadata": {
            "tags": []
          },
          "execution_count": 24
        }
      ]
    },
    {
      "metadata": {
        "id": "5CqcE0O8uzWL",
        "colab_type": "code",
        "colab": {
          "base_uri": "https://localhost:8080/",
          "height": 34
        },
        "outputId": "e2d679ae-f861-44a3-f5dd-a7b039931bd2"
      },
      "cell_type": "code",
      "source": [
        "len(train_text[2])"
      ],
      "execution_count": 25,
      "outputs": [
        {
          "output_type": "execute_result",
          "data": {
            "text/plain": [
              "141"
            ]
          },
          "metadata": {
            "tags": []
          },
          "execution_count": 25
        }
      ]
    },
    {
      "metadata": {
        "id": "CrYxO2SauzPX",
        "colab_type": "code",
        "colab": {
          "base_uri": "https://localhost:8080/",
          "height": 34
        },
        "outputId": "86384c16-d924-450a-82e3-bdf293a5a0d9"
      },
      "cell_type": "code",
      "source": [
        "len(train_text[3])"
      ],
      "execution_count": 27,
      "outputs": [
        {
          "output_type": "execute_result",
          "data": {
            "text/plain": [
              "550"
            ]
          },
          "metadata": {
            "tags": []
          },
          "execution_count": 27
        }
      ]
    },
    {
      "metadata": {
        "id": "U0qrmjPxvAe4",
        "colab_type": "code",
        "colab": {}
      },
      "cell_type": "code",
      "source": [
        "# la lngitud es el numero de palabras que tiene esa review. Necesitamos que todas\n",
        "# las reviews tengan el mismo numero de palabras"
      ],
      "execution_count": 0,
      "outputs": []
    },
    {
      "metadata": {
        "id": "R-X3l9vYvA0U",
        "colab_type": "code",
        "colab": {}
      },
      "cell_type": "code",
      "source": [
        "text.Tokenizer.sequences_to_matrix \n",
        "tokenizer = text.Tokenizer(num_words=10000)\n",
        "# con esto le decimos las palabras máximas que puede tener un tokenizador"
      ],
      "execution_count": 0,
      "outputs": []
    },
    {
      "metadata": {
        "id": "_FhUjbaKvAxc",
        "colab_type": "code",
        "colab": {}
      },
      "cell_type": "code",
      "source": [
        "# Los tokenizadores te debiden algo en unidades mas pequeñas. Por ejemplo, frases en palabras.\n",
        "# o verbos a su raiz, o palabras a su raiz (eliminando el genero)\n",
        "\n",
        "train_text_m = tokenizer.sequences_to_matrix (train_text, mode='binary')\n",
        "# el modo binario es one hot encoding"
      ],
      "execution_count": 0,
      "outputs": []
    },
    {
      "metadata": {
        "id": "qMAhpM1lvAuh",
        "colab_type": "code",
        "colab": {
          "base_uri": "https://localhost:8080/",
          "height": 34
        },
        "outputId": "60e303fb-db6d-4f1e-f2e6-c1fe33f385cc"
      },
      "cell_type": "code",
      "source": [
        "train_text_m.shape"
      ],
      "execution_count": 34,
      "outputs": [
        {
          "output_type": "execute_result",
          "data": {
            "text/plain": [
              "(25000, 10000)"
            ]
          },
          "metadata": {
            "tags": []
          },
          "execution_count": 34
        }
      ]
    },
    {
      "metadata": {
        "id": "xBpTXWplvArr",
        "colab_type": "code",
        "colab": {
          "base_uri": "https://localhost:8080/",
          "height": 51
        },
        "outputId": "36185e16-593c-49ed-f033-2f28c6e14d2d"
      },
      "cell_type": "code",
      "source": [
        "# cada fila es un review, cada columna es un one hot encoding, con 0 si no \n",
        "# aparece y 1 si aparece\n",
        "\n",
        "train_text_m[0][0:25]"
      ],
      "execution_count": 35,
      "outputs": [
        {
          "output_type": "execute_result",
          "data": {
            "text/plain": [
              "array([0., 1., 1., 0., 1., 1., 1., 1., 1., 1., 0., 0., 1., 1., 1., 1., 1.,\n",
              "       1., 1., 1., 0., 1., 1., 0., 0.])"
            ]
          },
          "metadata": {
            "tags": []
          },
          "execution_count": 35
        }
      ]
    },
    {
      "metadata": {
        "id": "H76yftUzvAo3",
        "colab_type": "code",
        "colab": {}
      },
      "cell_type": "code",
      "source": [
        "# con este enfoque, no sabes la repetición de las palabras, solo si existen o no\n",
        "# existe. Al igual que el orden"
      ],
      "execution_count": 0,
      "outputs": []
    },
    {
      "metadata": {
        "id": "OJp0oqAovAmF",
        "colab_type": "code",
        "colab": {
          "base_uri": "https://localhost:8080/",
          "height": 34
        },
        "outputId": "8fb32bc6-e000-4c9e-f451-8e25d4050b72"
      },
      "cell_type": "code",
      "source": [
        "train_labels.shape"
      ],
      "execution_count": 37,
      "outputs": [
        {
          "output_type": "execute_result",
          "data": {
            "text/plain": [
              "(25000,)"
            ]
          },
          "metadata": {
            "tags": []
          },
          "execution_count": 37
        }
      ]
    },
    {
      "metadata": {
        "id": "mJOdjCT5vAjO",
        "colab_type": "code",
        "colab": {
          "base_uri": "https://localhost:8080/",
          "height": 34
        },
        "outputId": "de086a3f-8754-4f4a-be11-47654398d65c"
      },
      "cell_type": "code",
      "source": [
        "type(train_labels)"
      ],
      "execution_count": 39,
      "outputs": [
        {
          "output_type": "execute_result",
          "data": {
            "text/plain": [
              "numpy.ndarray"
            ]
          },
          "metadata": {
            "tags": []
          },
          "execution_count": 39
        }
      ]
    },
    {
      "metadata": {
        "id": "jjqcINoUw-m5",
        "colab_type": "code",
        "colab": {}
      },
      "cell_type": "code",
      "source": [
        "# no hay que transformar las etiquetas porque las dimensiones encajan y ademas ya son valores binarios de review positiva o negativa"
      ],
      "execution_count": 0,
      "outputs": []
    },
    {
      "metadata": {
        "id": "VYLtwckfw-tS",
        "colab_type": "code",
        "colab": {}
      },
      "cell_type": "code",
      "source": [
        "# LAs mismas aplicaciones aplicadas al conjunto de training se aplican al de text\n",
        "test_text_m = tokenizer.sequences_to_matrix (test_text, mode='binary')"
      ],
      "execution_count": 0,
      "outputs": []
    },
    {
      "metadata": {
        "id": "UU8Po-hnw-70",
        "colab_type": "code",
        "colab": {}
      },
      "cell_type": "code",
      "source": [
        "# no hacemos feature engineer, solo transformamos los datos para que encajen en la red\n"
      ],
      "execution_count": 0,
      "outputs": []
    },
    {
      "metadata": {
        "id": "VQ_bZqk0ut0U",
        "colab_type": "text"
      },
      "cell_type": "markdown",
      "source": [
        ""
      ]
    },
    {
      "metadata": {
        "id": "26NqhS3Nre4L",
        "colab_type": "text"
      },
      "cell_type": "markdown",
      "source": [
        "**EXERCISE 1**. Can you see any problem with this approach? How would you solve it?\n",
        "\n",
        "**EXERCISE 2**. Do we need to transform the labels? Why? Or why not?"
      ]
    },
    {
      "metadata": {
        "id": "bi2hHKb2re4N",
        "colab_type": "text"
      },
      "cell_type": "markdown",
      "source": [
        "## Let's build the model"
      ]
    },
    {
      "metadata": {
        "id": "Ave3izZ6re4O",
        "colab_type": "code",
        "colab": {}
      },
      "cell_type": "code",
      "source": [
        "from keras import models, layers"
      ],
      "execution_count": 0,
      "outputs": []
    },
    {
      "metadata": {
        "id": "iz71QuQSxzS2",
        "colab_type": "code",
        "colab": {}
      },
      "cell_type": "code",
      "source": [
        "# Recordar que hay que pasar una tupla a la red\n",
        "# Hay que ir reduciendo las dimensiones de las capas porque la salida es sólo un número\n",
        "m1hot = models.Sequential()\n",
        "m1hot.add(layers.Dense(256, activation='relu', input_shape=(10000,)))\n",
        "m1hot.add(layers.Dense(128, activation='relu'))\n",
        "m1hot.add(layers.Dense(64, activation='relu'))\n",
        "# En la salida la función de activación es muy importante, dado que en este caso\n",
        "# debe estár acotada entre 0 y 1, dado que lo queremos predecir es un valor binario\n",
        "# Es bueno que la función de activación esté relacionada con la de pérdidas. En este caso la distancia esta entre 0 y 1\n",
        "m1hot.add(layers.Dense(1, activation='sigmoid'))\n"
      ],
      "execution_count": 0,
      "outputs": []
    },
    {
      "metadata": {
        "id": "TEOq9HTaxzez",
        "colab_type": "code",
        "colab": {}
      },
      "cell_type": "code",
      "source": [
        "from keras import optimizers, losses, metrics\n",
        "m1hot.compile(\n",
        "optimizer=optimizers.rmsprop(),\n",
        "loss=losses.categorical_crossentropy,\n",
        "metrics=[metrics.binary_accuracy]\n",
        ")"
      ],
      "execution_count": 0,
      "outputs": []
    },
    {
      "metadata": {
        "id": "XkNTlvK2xzbY",
        "colab_type": "code",
        "colab": {
          "base_uri": "https://localhost:8080/",
          "height": 767
        },
        "outputId": "53c5dab5-b77b-45b3-f251-b1270ee9e2a3"
      },
      "cell_type": "code",
      "source": [
        "h = m1hot.fit(train_text_m, train_labels, epochs=20, batch_size=1024, validation_split=.2)"
      ],
      "execution_count": 52,
      "outputs": [
        {
          "output_type": "error",
          "ename": "ValueError",
          "evalue": "ignored",
          "traceback": [
            "\u001b[0;31m---------------------------------------------------------------------------\u001b[0m",
            "\u001b[0;31mValueError\u001b[0m                                Traceback (most recent call last)",
            "\u001b[0;32m<ipython-input-52-8e4cffff2970>\u001b[0m in \u001b[0;36m<module>\u001b[0;34m()\u001b[0m\n\u001b[0;32m----> 1\u001b[0;31m \u001b[0mh\u001b[0m \u001b[0;34m=\u001b[0m \u001b[0mm1hot\u001b[0m\u001b[0;34m.\u001b[0m\u001b[0mfit\u001b[0m\u001b[0;34m(\u001b[0m\u001b[0mtrain_text_m\u001b[0m\u001b[0;34m,\u001b[0m \u001b[0mtrain_labels\u001b[0m\u001b[0;34m,\u001b[0m \u001b[0mepochs\u001b[0m\u001b[0;34m=\u001b[0m\u001b[0;36m20\u001b[0m\u001b[0;34m,\u001b[0m \u001b[0mbatch_size\u001b[0m\u001b[0;34m=\u001b[0m\u001b[0;36m1024\u001b[0m\u001b[0;34m,\u001b[0m \u001b[0mvalidation_split\u001b[0m\u001b[0;34m=\u001b[0m\u001b[0;36m.2\u001b[0m\u001b[0;34m)\u001b[0m\u001b[0;34m\u001b[0m\u001b[0m\n\u001b[0m",
            "\u001b[0;32m/usr/local/lib/python3.6/dist-packages/keras/models.py\u001b[0m in \u001b[0;36mfit\u001b[0;34m(self, x, y, batch_size, epochs, verbose, callbacks, validation_split, validation_data, shuffle, class_weight, sample_weight, initial_epoch, steps_per_epoch, validation_steps, **kwargs)\u001b[0m\n\u001b[1;32m   1000\u001b[0m                               \u001b[0minitial_epoch\u001b[0m\u001b[0;34m=\u001b[0m\u001b[0minitial_epoch\u001b[0m\u001b[0;34m,\u001b[0m\u001b[0;34m\u001b[0m\u001b[0m\n\u001b[1;32m   1001\u001b[0m                               \u001b[0msteps_per_epoch\u001b[0m\u001b[0;34m=\u001b[0m\u001b[0msteps_per_epoch\u001b[0m\u001b[0;34m,\u001b[0m\u001b[0;34m\u001b[0m\u001b[0m\n\u001b[0;32m-> 1002\u001b[0;31m                               validation_steps=validation_steps)\n\u001b[0m\u001b[1;32m   1003\u001b[0m \u001b[0;34m\u001b[0m\u001b[0m\n\u001b[1;32m   1004\u001b[0m     def evaluate(self, x=None, y=None,\n",
            "\u001b[0;32m/usr/local/lib/python3.6/dist-packages/keras/engine/training.py\u001b[0m in \u001b[0;36mfit\u001b[0;34m(self, x, y, batch_size, epochs, verbose, callbacks, validation_split, validation_data, shuffle, class_weight, sample_weight, initial_epoch, steps_per_epoch, validation_steps, **kwargs)\u001b[0m\n\u001b[1;32m   1628\u001b[0m             \u001b[0msample_weight\u001b[0m\u001b[0;34m=\u001b[0m\u001b[0msample_weight\u001b[0m\u001b[0;34m,\u001b[0m\u001b[0;34m\u001b[0m\u001b[0m\n\u001b[1;32m   1629\u001b[0m             \u001b[0mclass_weight\u001b[0m\u001b[0;34m=\u001b[0m\u001b[0mclass_weight\u001b[0m\u001b[0;34m,\u001b[0m\u001b[0;34m\u001b[0m\u001b[0m\n\u001b[0;32m-> 1630\u001b[0;31m             batch_size=batch_size)\n\u001b[0m\u001b[1;32m   1631\u001b[0m         \u001b[0;31m# Prepare validation data.\u001b[0m\u001b[0;34m\u001b[0m\u001b[0;34m\u001b[0m\u001b[0m\n\u001b[1;32m   1632\u001b[0m         \u001b[0mdo_validation\u001b[0m \u001b[0;34m=\u001b[0m \u001b[0;32mFalse\u001b[0m\u001b[0;34m\u001b[0m\u001b[0m\n",
            "\u001b[0;32m/usr/local/lib/python3.6/dist-packages/keras/engine/training.py\u001b[0m in \u001b[0;36m_standardize_user_data\u001b[0;34m(self, x, y, sample_weight, class_weight, check_array_lengths, batch_size)\u001b[0m\n\u001b[1;32m   1491\u001b[0m         _check_loss_and_target_compatibility(y,\n\u001b[1;32m   1492\u001b[0m                                              \u001b[0mself\u001b[0m\u001b[0;34m.\u001b[0m\u001b[0m_feed_loss_fns\u001b[0m\u001b[0;34m,\u001b[0m\u001b[0;34m\u001b[0m\u001b[0m\n\u001b[0;32m-> 1493\u001b[0;31m                                              self._feed_output_shapes)\n\u001b[0m\u001b[1;32m   1494\u001b[0m         \u001b[0;32mif\u001b[0m \u001b[0mself\u001b[0m\u001b[0;34m.\u001b[0m\u001b[0mstateful\u001b[0m \u001b[0;32mand\u001b[0m \u001b[0mbatch_size\u001b[0m\u001b[0;34m:\u001b[0m\u001b[0;34m\u001b[0m\u001b[0m\n\u001b[1;32m   1495\u001b[0m             \u001b[0;32mif\u001b[0m \u001b[0mx\u001b[0m\u001b[0;34m[\u001b[0m\u001b[0;36m0\u001b[0m\u001b[0;34m]\u001b[0m\u001b[0;34m.\u001b[0m\u001b[0mshape\u001b[0m\u001b[0;34m[\u001b[0m\u001b[0;36m0\u001b[0m\u001b[0;34m]\u001b[0m \u001b[0;34m%\u001b[0m \u001b[0mbatch_size\u001b[0m \u001b[0;34m!=\u001b[0m \u001b[0;36m0\u001b[0m\u001b[0;34m:\u001b[0m\u001b[0;34m\u001b[0m\u001b[0m\n",
            "\u001b[0;32m/usr/local/lib/python3.6/dist-packages/keras/engine/training.py\u001b[0m in \u001b[0;36m_check_loss_and_target_compatibility\u001b[0;34m(targets, loss_fns, output_shapes)\u001b[0m\n\u001b[1;32m    254\u001b[0m                 raise ValueError(\n\u001b[1;32m    255\u001b[0m                     \u001b[0;34m'You are passing a target array of shape '\u001b[0m \u001b[0;34m+\u001b[0m \u001b[0mstr\u001b[0m\u001b[0;34m(\u001b[0m\u001b[0my\u001b[0m\u001b[0;34m.\u001b[0m\u001b[0mshape\u001b[0m\u001b[0;34m)\u001b[0m \u001b[0;34m+\u001b[0m\u001b[0;34m\u001b[0m\u001b[0m\n\u001b[0;32m--> 256\u001b[0;31m                     \u001b[0;34m' while using as loss `categorical_crossentropy`. '\u001b[0m\u001b[0;34m\u001b[0m\u001b[0m\n\u001b[0m\u001b[1;32m    257\u001b[0m                     \u001b[0;34m'`categorical_crossentropy` expects '\u001b[0m\u001b[0;34m\u001b[0m\u001b[0m\n\u001b[1;32m    258\u001b[0m                     \u001b[0;34m'targets to be binary matrices (1s and 0s) '\u001b[0m\u001b[0;34m\u001b[0m\u001b[0m\n",
            "\u001b[0;31mValueError\u001b[0m: You are passing a target array of shape (25000, 1) while using as loss `categorical_crossentropy`. `categorical_crossentropy` expects targets to be binary matrices (1s and 0s) of shape (samples, classes). If your targets are integer classes, you can convert them to the expected format via:\n```\nfrom keras.utils import to_categorical\ny_binary = to_categorical(y_int)\n```\n\nAlternatively, you can use the loss function `sparse_categorical_crossentropy` instead, which does expect integer targets."
          ]
        }
      ]
    },
    {
      "metadata": {
        "id": "g3GdabZmxzX1",
        "colab_type": "code",
        "colab": {}
      },
      "cell_type": "code",
      "source": [
        "m1hot.evaluate(test_text_m, test_labels,batch_size=1024)"
      ],
      "execution_count": 0,
      "outputs": []
    },
    {
      "metadata": {
        "id": "y9z8SJFCxzPX",
        "colab_type": "code",
        "colab": {}
      },
      "cell_type": "code",
      "source": [
        ""
      ],
      "execution_count": 0,
      "outputs": []
    },
    {
      "metadata": {
        "id": "9aiB_buBre4S",
        "colab_type": "text"
      },
      "cell_type": "markdown",
      "source": [
        "# Analyze performance"
      ]
    },
    {
      "metadata": {
        "id": "JN3X2vE9re4T",
        "colab_type": "code",
        "colab": {}
      },
      "cell_type": "code",
      "source": [
        ""
      ],
      "execution_count": 0,
      "outputs": []
    },
    {
      "metadata": {
        "id": "lMLGkhbsre4X",
        "colab_type": "text"
      },
      "cell_type": "markdown",
      "source": [
        "We cannot find a satisfactory model with what we have learned so far. Is there any way to have a better representation of text that can provide better results?"
      ]
    },
    {
      "metadata": {
        "id": "VhEGXfb4re4Z",
        "colab_type": "code",
        "colab": {}
      },
      "cell_type": "code",
      "source": [
        ""
      ],
      "execution_count": 0,
      "outputs": []
    },
    {
      "metadata": {
        "id": "AcIicNzvre4c",
        "colab_type": "text"
      },
      "cell_type": "markdown",
      "source": [
        "# Word embeddings\n",
        "\n",
        "Using 1-HOT encoded vectors produce large and sparse tensors, that are difficult to learn from using a neural network. Word embeddings are compact vectors, representing words in a vector space. These vectors are learnt in a neural network, with a layer of type *Embedding*. We can also even use pre-trained word embeddings, to improve our model\n",
        "\n",
        "![](./imgs/07_embeddings.png)\n",
        "\n",
        "To generate  an embedding, we need to tokenize the text, transforming words into indices, and then we use these lists of numbers to produce the vectorial representation:\n",
        "\n",
        "![](./imgs/08_embeddings.png)\n",
        "\n",
        "More info:\n",
        "* http://www.offconvex.org/2015/12/12/word-embeddings-1/\n",
        "* http://www.offconvex.org/2016/02/14/word-embeddings-2/"
      ]
    },
    {
      "metadata": {
        "id": "fd21n5kdre4d",
        "colab_type": "text"
      },
      "cell_type": "markdown",
      "source": [
        "## Input data for word embeddings"
      ]
    },
    {
      "metadata": {
        "id": "8rgkhGx2re4e",
        "colab_type": "code",
        "colab": {}
      },
      "cell_type": "code",
      "source": [
        "# rey - reina = principe - princesa\n",
        "# rey + mujer = reina\n",
        "# hay tipos de relaciones que se capturan en los embeddings que podemos aprovechar\n",
        "# se captura tanto la secuencia como la semantica. \n",
        "\n",
        "# Igual que hay embedings de palabras, hay embeddings de cualquier cosa. Por ejemplo,\n",
        "# el client to vec, que transforma las propiedades de un cliente a vectores."
      ],
      "execution_count": 0,
      "outputs": []
    },
    {
      "metadata": {
        "id": "mPt9gdZvre4h",
        "colab_type": "text"
      },
      "cell_type": "markdown",
      "source": [
        "## Let's build the model with embeddings"
      ]
    },
    {
      "metadata": {
        "id": "BT-e6UmHre4i",
        "colab_type": "code",
        "colab": {
          "base_uri": "https://localhost:8080/",
          "height": 34
        },
        "outputId": "bebf7e92-603c-48bd-9cb8-3ff17ad45227"
      },
      "cell_type": "code",
      "source": [
        "train_text.shape"
      ],
      "execution_count": 53,
      "outputs": [
        {
          "output_type": "execute_result",
          "data": {
            "text/plain": [
              "(25000,)"
            ]
          },
          "metadata": {
            "tags": []
          },
          "execution_count": 53
        }
      ]
    },
    {
      "metadata": {
        "id": "kbsArs1b3E-R",
        "colab_type": "code",
        "colab": {
          "base_uri": "https://localhost:8080/",
          "height": 34
        },
        "outputId": "1154ac59-0f4e-4d1d-c352-0f48428b1861"
      },
      "cell_type": "code",
      "source": [
        "train_labels.shape"
      ],
      "execution_count": 54,
      "outputs": [
        {
          "output_type": "execute_result",
          "data": {
            "text/plain": [
              "(25000,)"
            ]
          },
          "metadata": {
            "tags": []
          },
          "execution_count": 54
        }
      ]
    },
    {
      "metadata": {
        "id": "Vodi8HBM3FG7",
        "colab_type": "code",
        "colab": {}
      },
      "cell_type": "code",
      "source": [
        "# Se va a decidir un tamaño máximo de los reviews. Los reviews mas cortos los populamos \n",
        "# con zeros y los mas largos los truncamos.\n",
        "\n",
        "# mapear cosas que no existen a zeros es una decisión arbitraria que puede afectar\n",
        "# a la predicción\n",
        "\n",
        "max_len = 100 # los acotamos a 100 xq estos modelos son mas complejos y tarda mas\n",
        "embedding_dim = 32\n",
        "max_word = 1000"
      ],
      "execution_count": 0,
      "outputs": []
    },
    {
      "metadata": {
        "id": "rpTgWr3v3FVR",
        "colab_type": "code",
        "colab": {}
      },
      "cell_type": "code",
      "source": [
        "from keras.preprocessing import sequence\n",
        "\n",
        "train_text_p = sequence.pad_sequences(train_text, maxlen=max_len)"
      ],
      "execution_count": 0,
      "outputs": []
    },
    {
      "metadata": {
        "id": "L4IzXULG3FDn",
        "colab_type": "code",
        "colab": {}
      },
      "cell_type": "code",
      "source": [
        "test_text_p = sequence.pad_sequences(test_text, maxlen=max_len)"
      ],
      "execution_count": 0,
      "outputs": []
    },
    {
      "metadata": {
        "id": "9kt2S-e25wn7",
        "colab_type": "code",
        "colab": {
          "base_uri": "https://localhost:8080/",
          "height": 272
        },
        "outputId": "47509f15-e998-4527-8cf7-e434a2e1cd19"
      },
      "cell_type": "code",
      "source": [
        ""
      ],
      "execution_count": 61,
      "outputs": [
        {
          "output_type": "stream",
          "text": [
            "_________________________________________________________________\n",
            "Layer (type)                 Output Shape              Param #   \n",
            "=================================================================\n",
            "embedding_1 (Embedding)      (None, None, 32)          3200      \n",
            "_________________________________________________________________\n",
            "dense_13 (Dense)             (None, None, 32)          1056      \n",
            "_________________________________________________________________\n",
            "dense_14 (Dense)             (None, None, 16)          528       \n",
            "_________________________________________________________________\n",
            "dense_15 (Dense)             (None, None, 1)           17        \n",
            "=================================================================\n",
            "Total params: 4,801\n",
            "Trainable params: 4,801\n",
            "Non-trainable params: 0\n",
            "_________________________________________________________________\n"
          ],
          "name": "stdout"
        }
      ]
    },
    {
      "metadata": {
        "id": "II1XgqPL4G-X",
        "colab_type": "code",
        "colab": {}
      },
      "cell_type": "code",
      "source": [
        "# cada 100 palabras se va a convertir en un vector de 32 dimensiones\n"
      ],
      "execution_count": 0,
      "outputs": []
    },
    {
      "metadata": {
        "id": "HqvLVMDj43Ue",
        "colab_type": "code",
        "colab": {}
      },
      "cell_type": "code",
      "source": [
        "tra"
      ],
      "execution_count": 0,
      "outputs": []
    },
    {
      "metadata": {
        "id": "sP5SDdmd4HRm",
        "colab_type": "code",
        "colab": {}
      },
      "cell_type": "code",
      "source": [
        "# las capas densas son multiplicaciones de matrices, pero no tiene capacidad de estado ni de orden en el que llegan los ejemplos\n",
        "# las redes recurrentes si tienen esa memoria y son capaces de modelar la secuencia. Su memoria es corta (adjetivo/nombre) las captura\n",
        "# pero no mucho mas (por ejemplo parrafos)\n",
        "\n",
        "m2emb = models.Sequential()\n",
        "m2emb.add(layers.Embedding(max_len, embedding_dim))\n",
        "m2emb.add(layers.SimpleRNN(32, return_sequences=True))\n",
        "m2emb.add(layers.SimpleRNN(16, return_sequences=True))\n",
        "m2emb.add(layers.SimpleRNN(8)) # con esto retorna un numero, no una secuencia\n",
        "m2emb.add(layers.Dense(1, activation='sigmoid'))"
      ],
      "execution_count": 0,
      "outputs": []
    },
    {
      "metadata": {
        "id": "-zK0k3jQ4HNZ",
        "colab_type": "code",
        "colab": {}
      },
      "cell_type": "code",
      "source": [
        "m2emb.compile(\n",
        "  optimizer=optimizers.rmsprop(),\n",
        "  loss=losses.binary_crossentropy,\n",
        "  metrics=[metrics.binary_accuracy]\n",
        ")"
      ],
      "execution_count": 0,
      "outputs": []
    },
    {
      "metadata": {
        "id": "mUm9YnkX50up",
        "colab_type": "code",
        "colab": {
          "base_uri": "https://localhost:8080/",
          "height": 306
        },
        "outputId": "6a4756f0-c938-4d7d-a97c-50142ef128cd"
      },
      "cell_type": "code",
      "source": [
        "\n",
        "m2emb.summary()"
      ],
      "execution_count": 83,
      "outputs": [
        {
          "output_type": "stream",
          "text": [
            "_________________________________________________________________\n",
            "Layer (type)                 Output Shape              Param #   \n",
            "=================================================================\n",
            "embedding_12 (Embedding)     (None, None, 32)          3200      \n",
            "_________________________________________________________________\n",
            "simple_rnn_9 (SimpleRNN)     (None, None, 32)          2080      \n",
            "_________________________________________________________________\n",
            "simple_rnn_10 (SimpleRNN)    (None, None, 16)          784       \n",
            "_________________________________________________________________\n",
            "simple_rnn_11 (SimpleRNN)    (None, 8)                 200       \n",
            "_________________________________________________________________\n",
            "dense_25 (Dense)             (None, 1)                 9         \n",
            "=================================================================\n",
            "Total params: 6,273\n",
            "Trainable params: 6,273\n",
            "Non-trainable params: 0\n",
            "_________________________________________________________________\n"
          ],
          "name": "stdout"
        }
      ]
    },
    {
      "metadata": {
        "id": "pGHBElJm4HI6",
        "colab_type": "code",
        "colab": {
          "base_uri": "https://localhost:8080/",
          "height": 1005
        },
        "outputId": "298cf97d-c337-4c58-b690-f03cae37703c"
      },
      "cell_type": "code",
      "source": [
        "h = m2emb.fit(train_text_p, train_labels, epochs=20, batch_size=1024, validation_split=.2)"
      ],
      "execution_count": 84,
      "outputs": [
        {
          "output_type": "stream",
          "text": [
            "Train on 20000 samples, validate on 5000 samples\n",
            "Epoch 1/20\n",
            "20000/20000 [==============================] - 5s 229us/step - loss: 6.4548 - binary_accuracy: 0.1034 - val_loss: 8.0700 - val_binary_accuracy: 0.0000e+00\n",
            "Epoch 2/20\n",
            "20000/20000 [==============================] - 4s 194us/step - loss: 7.9465 - binary_accuracy: 0.0000e+00 - val_loss: 8.0700 - val_binary_accuracy: 0.0000e+00\n",
            "Epoch 3/20\n",
            "20000/20000 [==============================] - 4s 194us/step - loss: 7.9465 - binary_accuracy: 0.0000e+00 - val_loss: 8.0700 - val_binary_accuracy: 0.0000e+00\n",
            "Epoch 4/20\n",
            "20000/20000 [==============================] - 4s 196us/step - loss: 7.9465 - binary_accuracy: 0.0000e+00 - val_loss: 8.0700 - val_binary_accuracy: 0.0000e+00\n",
            "Epoch 5/20\n",
            "20000/20000 [==============================] - 4s 197us/step - loss: 7.9465 - binary_accuracy: 0.0000e+00 - val_loss: 8.0700 - val_binary_accuracy: 0.0000e+00\n",
            "Epoch 6/20\n",
            "20000/20000 [==============================] - 4s 194us/step - loss: 7.9465 - binary_accuracy: 0.0000e+00 - val_loss: 8.0700 - val_binary_accuracy: 0.0000e+00\n",
            "Epoch 7/20\n",
            "20000/20000 [==============================] - 4s 192us/step - loss: 7.9465 - binary_accuracy: 0.0000e+00 - val_loss: 8.0700 - val_binary_accuracy: 0.0000e+00\n",
            "Epoch 8/20\n",
            "20000/20000 [==============================] - 4s 193us/step - loss: 7.9465 - binary_accuracy: 0.0000e+00 - val_loss: 8.0700 - val_binary_accuracy: 0.0000e+00\n",
            "Epoch 9/20\n",
            "20000/20000 [==============================] - 4s 194us/step - loss: 7.9465 - binary_accuracy: 0.0000e+00 - val_loss: 8.0700 - val_binary_accuracy: 0.0000e+00\n",
            "Epoch 10/20\n",
            "20000/20000 [==============================] - 4s 193us/step - loss: 7.9465 - binary_accuracy: 0.0000e+00 - val_loss: 8.0700 - val_binary_accuracy: 0.0000e+00\n",
            "Epoch 11/20\n",
            "20000/20000 [==============================] - 4s 193us/step - loss: 7.9465 - binary_accuracy: 0.0000e+00 - val_loss: 8.0700 - val_binary_accuracy: 0.0000e+00\n",
            "Epoch 12/20\n",
            "20000/20000 [==============================] - 4s 195us/step - loss: 7.9465 - binary_accuracy: 0.0000e+00 - val_loss: 8.0700 - val_binary_accuracy: 0.0000e+00\n",
            "Epoch 13/20\n",
            "20000/20000 [==============================] - 4s 193us/step - loss: 7.9465 - binary_accuracy: 0.0000e+00 - val_loss: 8.0700 - val_binary_accuracy: 0.0000e+00\n",
            "Epoch 14/20\n",
            "20000/20000 [==============================] - 4s 193us/step - loss: 7.9465 - binary_accuracy: 0.0000e+00 - val_loss: 8.0700 - val_binary_accuracy: 0.0000e+00\n",
            "Epoch 15/20\n",
            "20000/20000 [==============================] - 4s 194us/step - loss: 7.9465 - binary_accuracy: 0.0000e+00 - val_loss: 8.0700 - val_binary_accuracy: 0.0000e+00\n",
            "Epoch 16/20\n",
            "20000/20000 [==============================] - 4s 193us/step - loss: 7.9465 - binary_accuracy: 0.0000e+00 - val_loss: 8.0700 - val_binary_accuracy: 0.0000e+00\n",
            "Epoch 17/20\n",
            "20000/20000 [==============================] - 4s 193us/step - loss: 7.9465 - binary_accuracy: 0.0000e+00 - val_loss: 8.0700 - val_binary_accuracy: 0.0000e+00\n",
            "Epoch 18/20\n",
            "20000/20000 [==============================] - 4s 194us/step - loss: 7.9465 - binary_accuracy: 0.0000e+00 - val_loss: 8.0700 - val_binary_accuracy: 0.0000e+00\n",
            "Epoch 19/20\n",
            "20000/20000 [==============================] - 4s 194us/step - loss: 7.9465 - binary_accuracy: 0.0000e+00 - val_loss: 8.0700 - val_binary_accuracy: 0.0000e+00\n",
            "Epoch 20/20\n",
            "20000/20000 [==============================] - 4s 191us/step - loss: 7.9465 - binary_accuracy: 0.0000e+00 - val_loss: 8.0700 - val_binary_accuracy: 0.0000e+00\n"
          ],
          "name": "stdout"
        }
      ]
    },
    {
      "metadata": {
        "id": "tp2ts6UD4HEz",
        "colab_type": "code",
        "colab": {
          "base_uri": "https://localhost:8080/",
          "height": 531
        },
        "outputId": "c12befef-8eed-4b11-eff5-97ca02fcf8df"
      },
      "cell_type": "code",
      "source": [
        "plot_metric(h,'binary_accuracy')"
      ],
      "execution_count": 86,
      "outputs": [
        {
          "output_type": "stream",
          "text": [
            "/usr/local/lib/python3.6/dist-packages/matplotlib/ticker.py:2206: UserWarning: Data has no positive values, and therefore cannot be log-scaled.\n",
            "  \"Data has no positive values, and therefore cannot be \"\n"
          ],
          "name": "stderr"
        },
        {
          "output_type": "display_data",
          "data": {
            "image/png": "[encoded data removed]",
            "text/plain": [
              "<matplotlib.figure.Figure at 0x7fb154a40f60>"
            ]
          },
          "metadata": {
            "tags": []
          }
        }
      ]
    },
    {
      "metadata": {
        "id": "urFK-yl_9l1c",
        "colab_type": "text"
      },
      "cell_type": "markdown",
      "source": [
        "LSTM --> Es todo lo que necesitas !\n",
        "\n",
        "Parece ser que funciona muy bien para muchas cosas"
      ]
    },
    {
      "metadata": {
        "id": "tGPGP2xP9x7H",
        "colab_type": "code",
        "colab": {}
      },
      "cell_type": "code",
      "source": [
        "m2emb = models.Sequential()\n",
        "m2emb.add(layers.Embedding(max_word, embedding_dim))\n",
        "m2emb.add(layers.LSTM(32, return_sequences=True))\n",
        "m2emb.add(layers.LSTM(16))\n",
        "m2emb.add(layers.Dense(1, activation='sigmoid'))"
      ],
      "execution_count": 0,
      "outputs": []
    },
    {
      "metadata": {
        "id": "rG3gxwpc-C1W",
        "colab_type": "code",
        "colab": {
          "base_uri": "https://localhost:8080/",
          "height": 272
        },
        "outputId": "6bedb729-89ce-41a6-bc05-bd59512edce0"
      },
      "cell_type": "code",
      "source": [
        "m2emb.summary() # modelo mucho mas complejo que antes"
      ],
      "execution_count": 106,
      "outputs": [
        {
          "output_type": "stream",
          "text": [
            "_________________________________________________________________\n",
            "Layer (type)                 Output Shape              Param #   \n",
            "=================================================================\n",
            "embedding_15 (Embedding)     (None, None, 32)          32000     \n",
            "_________________________________________________________________\n",
            "lstm_5 (LSTM)                (None, None, 32)          8320      \n",
            "_________________________________________________________________\n",
            "lstm_6 (LSTM)                (None, 16)                3136      \n",
            "_________________________________________________________________\n",
            "dense_28 (Dense)             (None, 1)                 17        \n",
            "=================================================================\n",
            "Total params: 43,473\n",
            "Trainable params: 43,473\n",
            "Non-trainable params: 0\n",
            "_________________________________________________________________\n"
          ],
          "name": "stdout"
        }
      ]
    },
    {
      "metadata": {
        "id": "bk3UkaUz9yXz",
        "colab_type": "code",
        "colab": {}
      },
      "cell_type": "code",
      "source": [
        "m2emb.compile(\n",
        "  optimizer=optimizers.rmsprop(),\n",
        "  loss=losses.binary_crossentropy,\n",
        "  metrics=[metrics.binary_accuracy]\n",
        ")"
      ],
      "execution_count": 0,
      "outputs": []
    },
    {
      "metadata": {
        "id": "LWQm_Cfc9yTo",
        "colab_type": "code",
        "colab": {
          "base_uri": "https://localhost:8080/",
          "height": 1005
        },
        "outputId": "14cbd928-238f-42fa-8dd1-6425e87202a2"
      },
      "cell_type": "code",
      "source": [
        "h = m2emb.fit(train_text_p, train_labels, epochs=10, batch_size=1024, validation_split=.2)"
      ],
      "execution_count": 108,
      "outputs": [
        {
          "output_type": "stream",
          "text": [
            "Train on 20000 samples, validate on 5000 samples\n",
            "Epoch 1/10\n",
            "20000/20000 [==============================] - 12s 593us/step - loss: 7.1885 - binary_accuracy: 0.0499 - val_loss: 8.0700 - val_binary_accuracy: 0.0000e+00\n",
            "Epoch 2/10\n",
            "20000/20000 [==============================] - 10s 513us/step - loss: 7.9465 - binary_accuracy: 0.0000e+00 - val_loss: 8.0700 - val_binary_accuracy: 0.0000e+00\n",
            "Epoch 3/10\n",
            "20000/20000 [==============================] - 10s 511us/step - loss: 7.9465 - binary_accuracy: 0.0000e+00 - val_loss: 8.0700 - val_binary_accuracy: 0.0000e+00\n",
            "Epoch 4/10\n",
            "20000/20000 [==============================] - 10s 514us/step - loss: 7.9465 - binary_accuracy: 0.0000e+00 - val_loss: 8.0700 - val_binary_accuracy: 0.0000e+00\n",
            "Epoch 5/10\n",
            "20000/20000 [==============================] - 10s 513us/step - loss: 7.9465 - binary_accuracy: 0.0000e+00 - val_loss: 8.0700 - val_binary_accuracy: 0.0000e+00\n",
            "Epoch 6/10\n",
            "20000/20000 [==============================] - 10s 514us/step - loss: 7.9465 - binary_accuracy: 0.0000e+00 - val_loss: 8.0700 - val_binary_accuracy: 0.0000e+00\n",
            "Epoch 7/10\n",
            "20000/20000 [==============================] - 10s 512us/step - loss: 7.9465 - binary_accuracy: 0.0000e+00 - val_loss: 8.0700 - val_binary_accuracy: 0.0000e+00\n",
            "Epoch 8/10\n",
            "20000/20000 [==============================] - 10s 512us/step - loss: 7.9465 - binary_accuracy: 0.0000e+00 - val_loss: 8.0700 - val_binary_accuracy: 0.0000e+00\n",
            "Epoch 9/10\n",
            "20000/20000 [==============================] - 10s 511us/step - loss: 7.9465 - binary_accuracy: 0.0000e+00 - val_loss: 8.0700 - val_binary_accuracy: 0.0000e+00\n",
            "Epoch 10/10\n",
            "20000/20000 [==============================] - 10s 514us/step - loss: 7.9465 - binary_accuracy: 0.0000e+00 - val_loss: 8.0700 - val_binary_accuracy: 0.0000e+00\n"
          ],
          "name": "stdout"
        }
      ]
    },
    {
      "metadata": {
        "id": "uf3WeMhD9yPY",
        "colab_type": "code",
        "colab": {
          "base_uri": "https://localhost:8080/",
          "height": 531
        },
        "outputId": "983f6003-fdfb-496c-b5a4-eff806fa3682"
      },
      "cell_type": "code",
      "source": [
        "plot_metric(h,'binary_accuracy')"
      ],
      "execution_count": 109,
      "outputs": [
        {
          "output_type": "stream",
          "text": [
            "/usr/local/lib/python3.6/dist-packages/matplotlib/ticker.py:2206: UserWarning: Data has no positive values, and therefore cannot be log-scaled.\n",
            "  \"Data has no positive values, and therefore cannot be \"\n"
          ],
          "name": "stderr"
        },
        {
          "output_type": "display_data",
          "data": {
            "image/png": "[encoded data removed]",
            "text/plain": [
              "<matplotlib.figure.Figure at 0x7fb14b290128>"
            ]
          },
          "metadata": {
            "tags": []
          }
        }
      ]
    },
    {
      "metadata": {
        "id": "Eof4XWw49yLA",
        "colab_type": "code",
        "colab": {}
      },
      "cell_type": "code",
      "source": [
        "m2emb.evaluate(text_text_p, )"
      ],
      "execution_count": 0,
      "outputs": []
    },
    {
      "metadata": {
        "id": "cKoZqLGh9yG6",
        "colab_type": "code",
        "colab": {}
      },
      "cell_type": "code",
      "source": [
        ""
      ],
      "execution_count": 0,
      "outputs": []
    },
    {
      "metadata": {
        "id": "Ev5s3Qvj9yC2",
        "colab_type": "code",
        "colab": {}
      },
      "cell_type": "code",
      "source": [
        ""
      ],
      "execution_count": 0,
      "outputs": []
    },
    {
      "metadata": {
        "id": "mkOufmN7re4k",
        "colab_type": "text"
      },
      "cell_type": "markdown",
      "source": [
        "## Analyze performance"
      ]
    },
    {
      "metadata": {
        "id": "4cetoCIFre4l",
        "colab_type": "text"
      },
      "cell_type": "markdown",
      "source": [
        "Not bad, with just an embedding layer, we get $75\\%$ accuracy"
      ]
    },
    {
      "metadata": {
        "id": "9FVZsquHre4l",
        "colab_type": "code",
        "colab": {}
      },
      "cell_type": "code",
      "source": [
        ""
      ],
      "execution_count": 0,
      "outputs": []
    },
    {
      "metadata": {
        "id": "qf9F49N5re4o",
        "colab_type": "text"
      },
      "cell_type": "markdown",
      "source": [
        "How many reviews will be misclassified?"
      ]
    },
    {
      "metadata": {
        "id": "6HUyW5nTre4p",
        "colab_type": "code",
        "colab": {}
      },
      "cell_type": "code",
      "source": [
        ""
      ],
      "execution_count": 0,
      "outputs": []
    },
    {
      "metadata": {
        "id": "u2CoXDSFre4r",
        "colab_type": "text"
      },
      "cell_type": "markdown",
      "source": [
        "Let's check some of the predictions"
      ]
    },
    {
      "metadata": {
        "id": "rG82rOl8re4s",
        "colab_type": "code",
        "colab": {}
      },
      "cell_type": "code",
      "source": [
        "N = 123\n",
        "# N = 2344"
      ],
      "execution_count": 0,
      "outputs": []
    },
    {
      "metadata": {
        "id": "Ue-bwtZpre4u",
        "colab_type": "code",
        "colab": {}
      },
      "cell_type": "code",
      "source": [
        ""
      ],
      "execution_count": 0,
      "outputs": []
    },
    {
      "metadata": {
        "id": "jShNXTogre4w",
        "colab_type": "text"
      },
      "cell_type": "markdown",
      "source": [
        "So this prediction is correct. It says the review is negative. Let's have a look at the text:"
      ]
    },
    {
      "metadata": {
        "id": "6cJWq_8Vre4x",
        "colab_type": "code",
        "colab": {},
        "outputId": "0ed1ac36-02a4-49f6-a241-5c7c1b004ba5"
      },
      "cell_type": "code",
      "source": [
        "get_text_from_vector(test_text[N])"
      ],
      "execution_count": 0,
      "outputs": [
        {
          "output_type": "execute_result",
          "data": {
            "text/plain": [
              "\"? if you believe that any given war movie can make you really feel the war you need to see called the ? are flying in english it tells the story of ? ? and boris who are in love on the verge of wwii they are walking along the ? watching the ? fly by when the war starts boris is promptly sent off to war ? hides out with a family and ends up marrying the son whom she does not love boris meanwhile continues ? through the countryside fighting the nazis and experiencing all the horrors of war until he he runs out of energy when ? working in a military hospital receives this news she refuses to accept it until ? body arrives home on one of the trains simultaneously the radio ? that germany has ? and the allied powers have won the war the soviet union lost 27 million citizens but it's the start of a new era br br this movie did a very good job showing the human impact of the war not only in the battlefield but also how it affected the ? population this is definitely a movie that everyone should see\""
            ]
          },
          "metadata": {
            "tags": []
          },
          "execution_count": 49
        }
      ]
    },
    {
      "metadata": {
        "id": "weZg46XSre42",
        "colab_type": "text"
      },
      "cell_type": "markdown",
      "source": [
        "Can we find all the reviews that are wrongly classified?"
      ]
    },
    {
      "metadata": {
        "id": "-wTMQfihre43",
        "colab_type": "code",
        "colab": {}
      },
      "cell_type": "code",
      "source": [
        ""
      ],
      "execution_count": 0,
      "outputs": []
    },
    {
      "metadata": {
        "id": "me6hv3sYre46",
        "colab_type": "code",
        "colab": {},
        "outputId": "1e97b24f-02a9-409f-c9bf-8dd277363987"
      },
      "cell_type": "code",
      "source": [
        "get_text_from_vector(test_text[3])"
      ],
      "execution_count": 0,
      "outputs": [
        {
          "output_type": "execute_result",
          "data": {
            "text/plain": [
              "\"? i generally love this type of movie however this time i found myself wanting to kick the screen since i can't do that i will just complain about it this was absolutely idiotic the things that happen with the dead kids are very cool but the alive people are absolute idiots i am a grown man pretty big and i can defend myself well however i would not do half the stuff the little girl does in this movie also the mother in this movie is reckless with her children to the point of neglect i wish i wasn't so angry about her and her actions because i would have otherwise enjoyed the flick what a number she was take my advise and fast forward through everything you see her do until the end also is anyone else getting sick of watching movies that are filmed so dark anymore one can hardly see what is being filmed as an audience we are ? involved with the actions on the screen so then why the hell can't we have night vision\""
            ]
          },
          "metadata": {
            "tags": []
          },
          "execution_count": 61
        }
      ]
    },
    {
      "metadata": {
        "id": "FkKsZArcre4-",
        "colab_type": "text"
      },
      "cell_type": "markdown",
      "source": [
        "Is the classifier symmetric?"
      ]
    },
    {
      "metadata": {
        "id": "z751yhoFre4-",
        "colab_type": "code",
        "colab": {}
      },
      "cell_type": "code",
      "source": [
        ""
      ],
      "execution_count": 0,
      "outputs": []
    },
    {
      "metadata": {
        "id": "AMoFIO9ure5A",
        "colab_type": "text"
      },
      "cell_type": "markdown",
      "source": [
        "**EXERCISE** Can you construct the confusion matrix for this model? Can you calculate the precision and recall? How does it compare to accuracy?\n",
        "* See https://www.dataschool.io/simple-guide-to-confusion-matrix-terminology/\n",
        "\n",
        "**EXERCISE (more complex)** Keras decided some time ago to remove precision, recall and F1-score from the list of available metrics. Was it a good decision? Why? Why did the Keras' authors did not remove accuracy too?\n",
        "* https://github.com/keras-team/keras/issues/5794\n",
        "* https://github.com/keras-team/keras/issues/4592\n",
        "\n",
        "**EXERCISE** What is the ROC curve? Could you build the ROC curve for this model? How would you use a ROC curve to evaluate a classifier?\n",
        "* https://en.wikipedia.org/wiki/Receiver_operating_characteristic\n",
        "* Help: https://stackoverflow.com/questions/25009284/how-to-plot-roc-curve-in-python"
      ]
    },
    {
      "metadata": {
        "id": "2sNzCyHlre5B",
        "colab_type": "code",
        "colab": {}
      },
      "cell_type": "code",
      "source": [
        ""
      ],
      "execution_count": 0,
      "outputs": []
    },
    {
      "metadata": {
        "id": "f1MD2kp8re5D",
        "colab_type": "text"
      },
      "cell_type": "markdown",
      "source": [
        "Let's analyze wrong positives and wrong negatives separately. Then we will try to find a relationship between the words and the misclassification, both for false positives and negatives."
      ]
    },
    {
      "metadata": {
        "id": "TMFbytF9re5E",
        "colab_type": "code",
        "colab": {}
      },
      "cell_type": "code",
      "source": [
        ""
      ],
      "execution_count": 0,
      "outputs": []
    },
    {
      "metadata": {
        "id": "rBp0-o9Ire5F",
        "colab_type": "text"
      },
      "cell_type": "markdown",
      "source": [
        "Now let's compare with the words of the true positives"
      ]
    },
    {
      "metadata": {
        "id": "AA3DSDYgre5G",
        "colab_type": "code",
        "colab": {}
      },
      "cell_type": "code",
      "source": [
        ""
      ],
      "execution_count": 0,
      "outputs": []
    },
    {
      "metadata": {
        "id": "FagGHfEvre5I",
        "colab_type": "text"
      },
      "cell_type": "markdown",
      "source": [
        "So the most common words are very similar. Not surprising. Let's calculate the relative frequency of each word, and then find what are the words with the highest difference in relative frequency."
      ]
    },
    {
      "metadata": {
        "id": "OJs1twGwre5I",
        "colab_type": "code",
        "colab": {}
      },
      "cell_type": "code",
      "source": [
        ""
      ],
      "execution_count": 0,
      "outputs": []
    },
    {
      "metadata": {
        "id": "JAqTX3Ofre5K",
        "colab_type": "text"
      },
      "cell_type": "markdown",
      "source": [
        "We see words such as *great*, *best*, *excellent*, which have a large difference between the true and the false positives. So false positives seem to lack some extreme words, and the classifier is having a hard time trying to assign a category to those reviews."
      ]
    },
    {
      "metadata": {
        "id": "6ASygtpQre5L",
        "colab_type": "code",
        "colab": {}
      },
      "cell_type": "code",
      "source": [
        ""
      ],
      "execution_count": 0,
      "outputs": []
    }
  ]
}