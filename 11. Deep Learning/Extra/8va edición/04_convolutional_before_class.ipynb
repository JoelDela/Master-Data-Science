{
  "nbformat": 4,
  "nbformat_minor": 0,
  "metadata": {
    "colab": {
      "name": "04_convolutional_before_class.ipynb",
      "version": "0.3.2",
      "provenance": [],
      "collapsed_sections": []
    },
    "kernelspec": {
      "display_name": "Python 3",
      "language": "python",
      "name": "python3"
    },
    "accelerator": "GPU"
  },
  "cells": [
    {
      "metadata": {
        "id": "Tgelvf1_mXmF",
        "colab_type": "text"
      },
      "cell_type": "markdown",
      "source": [
        "# Deep Learning for Computer Vision using Convolutional Neural Networks\n",
        "\n",
        "With dense layers applied to images, we have learnt global patterns that can be exploited to make predictions. The main difference with **convolutional** layers, is that we will now learn local patterns. \n",
        "\n",
        "These local patterns have two important features:\n",
        "* They are translation invariant. It does not matter where in the image we see the pattern, the layer will be able to capture it and exploit it. In contrast, for a dense layer, if the same local pattern appears in two different location in the image, it would interpret them as two different patterns.\n",
        "* Convolutional layers can lear a spatial hierarchy of patterns. Imagine the problem of recognizing a *face*. A first layer would learn something about the *nose*, some other layers about the *eyes*, and so on. The aggregation \n",
        "\n",
        "![](./imgs/09_cnn_hierarchy.png)\n",
        "\n",
        "The input to a convolutional layer is a 3-D tensor: height, width and depth (the channels in the image). For RGB images, depth will be 3, for the *R*ed, *B*lue and *G*reen colors. For a black and white image, depth will be just 1.\n",
        "\n",
        "Each layer recognizes a patch (subset) of the image, with a specific pattern. When applied to the original input, the layer will filter the rest of the image, highlighting the pattern that has learnt. That is, the layer becomes a **features map**.\n",
        "\n",
        "## Convolution operation\n",
        "\n",
        "For a convolutional layer, we need to decide the size of the patches (commonly, 3x3), and the depth of the output of the feature map (it is no longer 3, and in fact, it will be a number larger than that -- 16, 32, 64). The output will be another tensor, that is the input to the next layers. These tensors will no longer be images; that is, 3D tensors with a depth of 3, etc. To transform the output into a spatial tensor, we can use padding (adding additional rows or columns).\n",
        "\n",
        "![](./imgs/10_convolution.png)\n",
        "\n",
        "### Padding\n",
        "\n",
        "The convolution operation will slide through the image, trying to cover different zones, to extract common patterns found in different locations. In the edges of the image, the layer will not be able to extract patches, because the regions will be smaller than the patch size. With padding, we make it possible for the layer to extract patches even in the edges of the image, thus using that part of the image too to try to identify a common pattern.\n",
        "\n",
        "###  Stride\n",
        "\n",
        "Another parameter that we must take into account is *striding*. The patches can overlap with other patches. The distance between two windows used to extract patches is called **stride**. For instance, with a patch size of 3x3, and a stride of 3, patches will not overlap. We will normally will try to avoid overlapping in the windows extracting the patches; unless that during the training and validation process, we need to change the parameters to obtain a better model.\n",
        "\n",
        "### Pooling\n",
        "\n",
        "In a network, we need to partially reduce the dimension of the data, layer after layer, so we can learn at the output layer a number, a vector of a certain size, etc. The convolution operation is in fact increasing the size of the output. How do we do reduce the size of the output learnt in each layer? By **pooling**.\n",
        "\n",
        "The most typical pooling operation is *max pooling*. For each patch learnt in the layer, we apply a window of 2x2 or less (smaller than the striding window), and then apply the max operation. For each 2x2 possible window, we keep the max in that window. This way, we are reducing the size of the patches, and the size of the output of the layer. By doing this reduction in the size of the output, we will also help the network to build a hierarchy of patterns.\n",
        "\n",
        "Other pooling operations are also possible: averaging, in different ways. For full details of what pooling operations are available in Keras see https://keras.io/layers/pooling/\n",
        "\n",
        "## Additional readings/videos\n",
        "\n",
        "* How CNNs work: https://www.youtube.com/watch?v=FmpDIaiMIeA\n",
        "* Deep Learning demystified: http://brohrer.github.io/deep_learning_demystified.html\n",
        "* Hot-dog? No hot-dog? http://mateos.io/blog/getting-some-hotdogs/"
      ]
    },
    {
      "metadata": {
        "id": "NtjRK1XzmXmH",
        "colab_type": "text"
      },
      "cell_type": "markdown",
      "source": [
        "# Common functions and download data\n",
        "\n"
      ]
    },
    {
      "metadata": {
        "id": "lHOFBgd7mgmQ",
        "colab_type": "code",
        "colab": {
          "base_uri": "https://localhost:8080/",
          "height": 34
        },
        "outputId": "3f0e8d78-f068-4835-c871-ece20d88fc4e"
      },
      "cell_type": "code",
      "source": [
        "%pylab inline\n",
        "plt.style.use('seaborn-talk')"
      ],
      "execution_count": 1,
      "outputs": [
        {
          "output_type": "stream",
          "text": [
            "Populating the interactive namespace from numpy and matplotlib\n"
          ],
          "name": "stdout"
        }
      ]
    },
    {
      "metadata": {
        "id": "4f4K4QzNmg5b",
        "colab_type": "code",
        "colab": {}
      },
      "cell_type": "code",
      "source": [
        "def plot_metric(history, metric):\n",
        "    history_dict = history.history\n",
        "    values = history_dict[metric]\n",
        "    if 'val_' + metric in history_dict.keys():  \n",
        "        val_values = history_dict['val_' + metric]\n",
        "\n",
        "    epochs = range(1, len(values) + 1)\n",
        "\n",
        "    if 'val_' + metric in history_dict.keys():  \n",
        "        plt.plot(epochs, val_values, label='Validation')\n",
        "    plt.semilogy(epochs, values, label='Training')\n",
        "\n",
        "    if 'val_' + metric in history_dict.keys():  \n",
        "        plt.title('Training and validation %s' % metric)\n",
        "    else:\n",
        "        plt.title('Training %s' % metric)\n",
        "    plt.xlabel('Epochs')\n",
        "    plt.ylabel(metric.capitalize())\n",
        "    plt.legend()\n",
        "    plt.grid()\n",
        "\n",
        "    plt.show()  "
      ],
      "execution_count": 0,
      "outputs": []
    },
    {
      "metadata": {
        "id": "GMyUGqnemkuJ",
        "colab_type": "code",
        "colab": {
          "base_uri": "https://localhost:8080/",
          "height": 150
        },
        "outputId": "05789ae4-fa73-47ee-9156-b360a17c2d70"
      },
      "cell_type": "code",
      "source": [
        "!pip install keras"
      ],
      "execution_count": 3,
      "outputs": [
        {
          "output_type": "stream",
          "text": [
            "Requirement already satisfied: keras in /usr/local/lib/python3.6/dist-packages (2.1.6)\n",
            "Requirement already satisfied: numpy>=1.9.1 in /usr/local/lib/python3.6/dist-packages (from keras) (1.14.5)\n",
            "Requirement already satisfied: h5py in /usr/local/lib/python3.6/dist-packages (from keras) (2.8.0)\n",
            "Requirement already satisfied: six>=1.9.0 in /usr/local/lib/python3.6/dist-packages (from keras) (1.11.0)\n",
            "Requirement already satisfied: pyyaml in /usr/local/lib/python3.6/dist-packages (from keras) (3.13)\n",
            "Requirement already satisfied: scipy>=0.14 in /usr/local/lib/python3.6/dist-packages (from keras) (0.19.1)\n"
          ],
          "name": "stdout"
        }
      ]
    },
    {
      "metadata": {
        "id": "Wm_hQY5dmm0s",
        "colab_type": "code",
        "colab": {}
      },
      "cell_type": "code",
      "source": [
        "# Install the PyDrive wrapper & import libraries.\n",
        "# This only needs to be done once per notebook.\n",
        "!pip install -U -q PyDrive\n",
        "from pydrive.auth import GoogleAuth\n",
        "from pydrive.drive import GoogleDrive\n",
        "from google.colab import auth\n",
        "from oauth2client.client import GoogleCredentials\n",
        "\n",
        "# Authenticate and create the PyDrive client.\n",
        "# This only needs to be done once per notebook.\n",
        "auth.authenticate_user()\n",
        "gauth = GoogleAuth()\n",
        "gauth.credentials = GoogleCredentials.get_application_default()\n",
        "drive = GoogleDrive(gauth)\n",
        "\n",
        "# Download a file based on its file ID.\n",
        "#\n",
        "# A file ID looks like: laggVyWshwcyP6kEI-y_W3P8D26sz"
      ],
      "execution_count": 0,
      "outputs": []
    },
    {
      "metadata": {
        "id": "NEfuwzZumpb4",
        "colab_type": "code",
        "colab": {
          "base_uri": "https://localhost:8080/",
          "height": 65
        },
        "outputId": "56f91bdd-087a-4250-de42-d744ab724d37"
      },
      "cell_type": "code",
      "source": [
        "!ls"
      ],
      "execution_count": 6,
      "outputs": [
        {
          "output_type": "stream",
          "text": [
            "adc.json  sample_data\n"
          ],
          "name": "stdout"
        }
      ]
    },
    {
      "metadata": {
        "id": "q82Bk-IKmq2Y",
        "colab_type": "code",
        "colab": {}
      },
      "cell_type": "code",
      "source": [
        "file_id = '1nL7cgXGkNGS79FORsrCfrfcpzrBtoX8K'\n",
        "downloaded = drive.CreateFile({'id': file_id})\n",
        "downloaded.GetContentFile(\"train.zip\")\n",
        "\n",
        "file_id = '1edO-psKzj7gpYgf5PcDKyPgbFFJN09D3'\n",
        "downloaded = drive.CreateFile({'id': file_id})\n",
        "downloaded.GetContentFile(\"test1.zip\")"
      ],
      "execution_count": 0,
      "outputs": []
    },
    {
      "metadata": {
        "id": "4PPbk1lhnRsY",
        "colab_type": "code",
        "colab": {
          "base_uri": "https://localhost:8080/",
          "height": 82
        },
        "outputId": "ca18177d-e188-4327-adb3-53d0712e4f50"
      },
      "cell_type": "code",
      "source": [
        "!ls -hs"
      ],
      "execution_count": 8,
      "outputs": [
        {
          "output_type": "stream",
          "text": [
            "total 815M\n",
            "4.0K adc.json  4.0K sample_data  272M test1.zip  544M train.zip\n"
          ],
          "name": "stdout"
        }
      ]
    },
    {
      "metadata": {
        "id": "wwxDIeHenVhf",
        "colab_type": "code",
        "colab": {
          "base_uri": "https://localhost:8080/",
          "height": 99
        },
        "outputId": "4a622764-9c04-4b36-9133-091ca83033ad"
      },
      "cell_type": "code",
      "source": [
        "!mkdir dogs_cats\n",
        "!cd dogs_cats && unzip -q ../train.zip\n",
        "!cd dogs_cats && unzip -q ../test1.zip\n",
        "!ls -hl dogs_cats"
      ],
      "execution_count": 9,
      "outputs": [
        {
          "output_type": "stream",
          "text": [
            "total 1.1M\n",
            "drwxr-xr-x 2 root root 288K Sep 20  2013 test1\n",
            "drwxr-xr-x 2 root root 756K Sep 20  2013 train\n"
          ],
          "name": "stdout"
        }
      ]
    },
    {
      "metadata": {
        "id": "Qw8ybMwLnYHH",
        "colab_type": "code",
        "colab": {}
      },
      "cell_type": "code",
      "source": [
        "original_dataset_dir=\"/content/dogs_cats/train/\"\n",
        "\n",
        "import os, shutil\n",
        "\n",
        "base_dir = \"/content/dogs_cats_small\"\n",
        "\n",
        "\n",
        "train_dir = os.path.join(base_dir, \"train\")\n",
        "validation_dir = os.path.join(base_dir, \"validation\")\n",
        "test_dir = os.path.join(base_dir, \"test\")\n",
        "\n",
        "\n",
        "train_cats_dir = os.path.join(train_dir, \"cats\")\n",
        "train_dogs_dir = os.path.join(train_dir, \"dogs\")\n",
        "\n",
        "validation_dogs_dir = os.path.join(validation_dir, \"dogs\")\n",
        "validation_cats_dir = os.path.join(validation_dir, \"cats\")\n",
        "\n",
        "test_dogs_dir = os.path.join(test_dir, \"dogs\")\n",
        "test_cats_dir = os.path.join(test_dir, \"cats\")"
      ],
      "execution_count": 0,
      "outputs": []
    },
    {
      "metadata": {
        "id": "FiSwnS0koij0",
        "colab_type": "code",
        "colab": {}
      },
      "cell_type": "code",
      "source": [
        "!rm -rf dogs_cats_small/\n",
        "os.mkdir(base_dir)\n",
        "os.mkdir(train_dir)\n",
        "os.mkdir(validation_dir)\n",
        "os.mkdir(test_dir)\n",
        "os.mkdir(train_cats_dir)\n",
        "os.mkdir(train_dogs_dir)\n",
        "os.mkdir(validation_dogs_dir)\n",
        "os.mkdir(validation_cats_dir)\n",
        "os.mkdir(test_dogs_dir)\n",
        "os.mkdir(test_cats_dir)"
      ],
      "execution_count": 0,
      "outputs": []
    },
    {
      "metadata": {
        "id": "lVVMrL-on_Y5",
        "colab_type": "code",
        "colab": {
          "base_uri": "https://localhost:8080/",
          "height": 218
        },
        "outputId": "2192fb15-e5f2-4ea0-b8d7-d5acdf93c0af"
      },
      "cell_type": "code",
      "source": [
        "!find dogs_cats_small"
      ],
      "execution_count": 13,
      "outputs": [
        {
          "output_type": "stream",
          "text": [
            "dogs_cats_small\n",
            "dogs_cats_small/test\n",
            "dogs_cats_small/test/cats\n",
            "dogs_cats_small/test/dogs\n",
            "dogs_cats_small/train\n",
            "dogs_cats_small/train/cats\n",
            "dogs_cats_small/train/dogs\n",
            "dogs_cats_small/validation\n",
            "dogs_cats_small/validation/cats\n",
            "dogs_cats_small/validation/dogs\n"
          ],
          "name": "stdout"
        }
      ]
    },
    {
      "metadata": {
        "id": "UtdYxWUFoCDN",
        "colab_type": "code",
        "colab": {}
      },
      "cell_type": "code",
      "source": [
        "fnames = ['cat.{}.jpg'.format(i) for i in range(1000)]\n",
        "for fname in fnames:                                                       \n",
        "    src = os.path.join(original_dataset_dir, fname)                        \n",
        "    dst = os.path.join(train_cats_dir, fname)                              \n",
        "    shutil.copyfile(src, dst)                                              \n",
        "\n",
        "fnames = ['cat.{}.jpg'.format(i) for i in range(1000, 1500)]               \n",
        "for fname in fnames:                                                       \n",
        "    src = os.path.join(original_dataset_dir, fname)                        \n",
        "    dst = os.path.join(validation_cats_dir, fname)                         \n",
        "    shutil.copyfile(src, dst)                                              \n",
        "\n",
        "fnames = ['cat.{}.jpg'.format(i) for i in range(1500, 2000)]               \n",
        "for fname in fnames:                                                       \n",
        "    src = os.path.join(original_dataset_dir, fname)                        \n",
        "    dst = os.path.join(test_cats_dir, fname)                               \n",
        "    shutil.copyfile(src, dst)                                              \n",
        "\n",
        "fnames = ['dog.{}.jpg'.format(i) for i in range(1000)]                     \n",
        "for fname in fnames:                                                       \n",
        "    src = os.path.join(original_dataset_dir, fname)                        \n",
        "    dst = os.path.join(train_dogs_dir, fname)                              \n",
        "    shutil.copyfile(src, dst)                                              \n",
        "fnames = ['dog.{}.jpg'.format(i) for i in range(1000, 1500)]               \n",
        "for fname in fnames:                                                       \n",
        "    src = os.path.join(original_dataset_dir, fname)                        \n",
        "    dst = os.path.join(validation_dogs_dir, fname)                         \n",
        "    shutil.copyfile(src, dst)                                              \n",
        "\n",
        "fnames = ['dog.{}.jpg'.format(i) for i in range(1500, 2000)]               \n",
        "for fname in fnames:                                                       \n",
        "    src = os.path.join(original_dataset_dir, fname)                        \n",
        "    dst = os.path.join(test_dogs_dir, fname)                               \n",
        "    shutil.copyfile(src, dst) "
      ],
      "execution_count": 0,
      "outputs": []
    },
    {
      "metadata": {
        "id": "9utma06EoLs0",
        "colab_type": "code",
        "colab": {
          "base_uri": "https://localhost:8080/",
          "height": 218
        },
        "outputId": "d0b93e4a-96e8-4e30-8eee-2c29677c51e5"
      },
      "cell_type": "code",
      "source": [
        "!find dogs_cats_small/ | head\n",
        "\n",
        "# Esta estructura es la que require keras. Una carpeta por test/train/eval y \n",
        "# tantos subdirectorios como clases a clasificar"
      ],
      "execution_count": 17,
      "outputs": [
        {
          "output_type": "stream",
          "text": [
            "dogs_cats_small/\n",
            "dogs_cats_small/test\n",
            "dogs_cats_small/test/cats\n",
            "dogs_cats_small/test/cats/cat.1831.jpg\n",
            "dogs_cats_small/test/cats/cat.1989.jpg\n",
            "dogs_cats_small/test/cats/cat.1574.jpg\n",
            "dogs_cats_small/test/cats/cat.1564.jpg\n",
            "dogs_cats_small/test/cats/cat.1784.jpg\n",
            "dogs_cats_small/test/cats/cat.1966.jpg\n",
            "dogs_cats_small/test/cats/cat.1516.jpg\n"
          ],
          "name": "stdout"
        }
      ]
    },
    {
      "metadata": {
        "id": "P6O6PHuHque2",
        "colab_type": "code",
        "colab": {
          "base_uri": "https://localhost:8080/",
          "height": 272
        },
        "outputId": "948078c3-12dc-4de6-cf28-3c1604c5bae6"
      },
      "cell_type": "code",
      "source": [
        "# Check if we have a GPU\n",
        "from tensorflow.python.client import device_lib\n",
        "device_lib.list_local_devices()"
      ],
      "execution_count": 16,
      "outputs": [
        {
          "output_type": "execute_result",
          "data": {
            "text/plain": [
              "[name: \"/device:CPU:0\"\n",
              " device_type: \"CPU\"\n",
              " memory_limit: 268435456\n",
              " locality {\n",
              " }\n",
              " incarnation: 11179111808111464063, name: \"/device:GPU:0\"\n",
              " device_type: \"GPU\"\n",
              " memory_limit: 11281989632\n",
              " locality {\n",
              "   bus_id: 1\n",
              "   links {\n",
              "   }\n",
              " }\n",
              " incarnation: 3976611435510723708\n",
              " physical_device_desc: \"device: 0, name: Tesla K80, pci bus id: 0000:00:04.0, compute capability: 3.7\"]"
            ]
          },
          "metadata": {
            "tags": []
          },
          "execution_count": 16
        }
      ]
    },
    {
      "metadata": {
        "id": "6udnOjpjoPKp",
        "colab_type": "text"
      },
      "cell_type": "markdown",
      "source": [
        "# Prepare data\n",
        "\n",
        "Because we are dealing with large images, we cannot just read them in a Numpy array. We will use generators, to consume the images as they are needed by the network."
      ]
    },
    {
      "metadata": {
        "id": "yzMRtMsWoeGC",
        "colab_type": "code",
        "colab": {}
      },
      "cell_type": "code",
      "source": [
        "from keras.preprocessing import image"
      ],
      "execution_count": 0,
      "outputs": []
    },
    {
      "metadata": {
        "id": "lCBu2aRBW1zG",
        "colab_type": "code",
        "colab": {
          "base_uri": "https://localhost:8080/",
          "height": 34
        },
        "outputId": "71f9e3b9-e9b4-4e62-9cec-05e661c20a6f"
      },
      "cell_type": "code",
      "source": [
        "image.ImageDataGenerator "
      ],
      "execution_count": 19,
      "outputs": [
        {
          "output_type": "execute_result",
          "data": {
            "text/plain": [
              "keras.preprocessing.image.ImageDataGenerator"
            ]
          },
          "metadata": {
            "tags": []
          },
          "execution_count": 19
        }
      ]
    },
    {
      "metadata": {
        "id": "46HuJ0IXW12j",
        "colab_type": "code",
        "colab": {}
      },
      "cell_type": "code",
      "source": [
        "train_datagen = image.ImageDataGenerator(rescale=1./255.0)\n",
        "test_datagen = image.ImageDataGenerator(rescale=1./255.0)\n",
        "validation_datagen = image.ImageDataGenerator(rescale=1./255.0)"
      ],
      "execution_count": 0,
      "outputs": []
    },
    {
      "metadata": {
        "id": "G_ps0u_udURy",
        "colab_type": "code",
        "colab": {}
      },
      "cell_type": "code",
      "source": [
        "# Los generadores una vez que se usan se agotan !!!! "
      ],
      "execution_count": 0,
      "outputs": []
    },
    {
      "metadata": {
        "id": "h-lRzQhtW2Jw",
        "colab_type": "code",
        "colab": {
          "base_uri": "https://localhost:8080/",
          "height": 34
        },
        "outputId": "cd7afbed-95b8-46ed-d348-aa8312f24704"
      },
      "cell_type": "code",
      "source": [
        "train_gen = train_datagen.flow_from_directory(\n",
        "  train_dir,\n",
        "  target_size=(100,100), # esto es muy importante. Todas tienen que tener el mismo tamaño\n",
        "   batch_size=100,\n",
        "    class_mode='binary'\n",
        ")"
      ],
      "execution_count": 52,
      "outputs": [
        {
          "output_type": "stream",
          "text": [
            "Found 2000 images belonging to 2 classes.\n"
          ],
          "name": "stdout"
        }
      ]
    },
    {
      "metadata": {
        "id": "tu4Kgnc_YZ-A",
        "colab_type": "code",
        "colab": {
          "base_uri": "https://localhost:8080/",
          "height": 34
        },
        "outputId": "01b29824-ea12-4f5a-fa8d-6da8c9e0eb88"
      },
      "cell_type": "code",
      "source": [
        "test_gen = test_datagen.flow_from_directory(\n",
        "  test_dir,\n",
        "  target_size=(100,100), # esto es muy importante. Todas tienen que tener el mismo tamaño\n",
        "   batch_size=100,\n",
        "    class_mode='binary'\n",
        ")"
      ],
      "execution_count": 53,
      "outputs": [
        {
          "output_type": "stream",
          "text": [
            "Found 1000 images belonging to 2 classes.\n"
          ],
          "name": "stdout"
        }
      ]
    },
    {
      "metadata": {
        "id": "ab3gv-vpYaEk",
        "colab_type": "code",
        "colab": {
          "base_uri": "https://localhost:8080/",
          "height": 34
        },
        "outputId": "fa9ab771-dd49-4e40-a354-33019137d6cc"
      },
      "cell_type": "code",
      "source": [
        "validation_gen = test_datagen.flow_from_directory(\n",
        "  validation_dir,\n",
        "  target_size=(100,100), # esto es muy importante. Todas tienen que tener el mismo tamaño\n",
        "   batch_size=100,\n",
        "    class_mode='binary'\n",
        ")"
      ],
      "execution_count": 54,
      "outputs": [
        {
          "output_type": "stream",
          "text": [
            "Found 1000 images belonging to 2 classes.\n"
          ],
          "name": "stdout"
        }
      ]
    },
    {
      "metadata": {
        "id": "IeD8IfvBYyHR",
        "colab_type": "code",
        "colab": {
          "base_uri": "https://localhost:8080/",
          "height": 34
        },
        "outputId": "d1f95bf3-ebee-4155-9d99-faad55423272"
      },
      "cell_type": "code",
      "source": [
        "type(validation_gen)"
      ],
      "execution_count": 55,
      "outputs": [
        {
          "output_type": "execute_result",
          "data": {
            "text/plain": [
              "keras.preprocessing.image.DirectoryIterator"
            ]
          },
          "metadata": {
            "tags": []
          },
          "execution_count": 55
        }
      ]
    },
    {
      "metadata": {
        "id": "QyDJVQZzYyK1",
        "colab_type": "code",
        "colab": {}
      },
      "cell_type": "code",
      "source": [
        "# sino se dice nada, el padding por defecto hace copias "
      ],
      "execution_count": 0,
      "outputs": []
    },
    {
      "metadata": {
        "id": "eGRCGie2o8xi",
        "colab_type": "text"
      },
      "cell_type": "markdown",
      "source": [
        "# Build model"
      ]
    },
    {
      "metadata": {
        "id": "SpVfDQm2Q9Zr",
        "colab_type": "code",
        "colab": {}
      },
      "cell_type": "code",
      "source": [
        "from keras import models\n",
        "from keras import layers"
      ],
      "execution_count": 0,
      "outputs": []
    },
    {
      "metadata": {
        "id": "9dTtPD-aZve5",
        "colab_type": "code",
        "colab": {}
      },
      "cell_type": "code",
      "source": [
        "m = models.Sequential()\n",
        "m.add(layers.Conv2D(32, (3,3), input_shape=(100,100,3), activation='relu')) # en imágenes el tamaño de los parches de 3x3 es muy típico\n",
        "m.add(layers.MaxPooling2D((2,2)))\n",
        "m.add(layers.Conv2D(64, (3,3), activation='relu')) # la función de convolución es lineal, por eso hace falta la funcion de activacion\n",
        "m.add(layers.MaxPooling2D((2,2)))\n",
        "m.add(layers.Flatten())\n",
        "m.add(layers.Dense(256, activation='relu'))\n",
        "m.add(layers.Dense(64, activation='relu'))\n",
        "m.add(layers.Dense(1, activation='sigmoid'))"
      ],
      "execution_count": 0,
      "outputs": []
    },
    {
      "metadata": {
        "id": "fWanqCESZvl7",
        "colab_type": "code",
        "colab": {}
      },
      "cell_type": "code",
      "source": [
        "# Se suelen usar potencias de 2 por intentar aprovechar al máximo la memoria del GPU"
      ],
      "execution_count": 0,
      "outputs": []
    },
    {
      "metadata": {
        "id": "kCeAxj1MZvix",
        "colab_type": "code",
        "colab": {}
      },
      "cell_type": "code",
      "source": [
        "from keras import optimizers\n",
        "from keras import losses\n",
        "from keras import metrics"
      ],
      "execution_count": 0,
      "outputs": []
    },
    {
      "metadata": {
        "id": "qxf0xeeUbiUB",
        "colab_type": "code",
        "colab": {}
      },
      "cell_type": "code",
      "source": [
        "m.compile (\n",
        "  optimizer=optimizers.rmsprop(),\n",
        "  loss=losses.binary_crossentropy,\n",
        "  metrics=[metrics.binary_accuracy]\n",
        ")"
      ],
      "execution_count": 0,
      "outputs": []
    },
    {
      "metadata": {
        "id": "RGaSsRgwbiqE",
        "colab_type": "code",
        "colab": {
          "base_uri": "https://localhost:8080/",
          "height": 715
        },
        "outputId": "cf03b2fa-f337-4abc-ef11-2472f51008d0"
      },
      "cell_type": "code",
      "source": [
        "h = m.fit_generator(train_gen, epochs=10, steps_per_epoch=20, # cada acceso a disco va a ser steps_per_epoch * batch_size \n",
        "                   validation_data=validation_gen,\n",
        "                   validation_steps=10) # usará 500 imagenes en cada época"
      ],
      "execution_count": 62,
      "outputs": [
        {
          "output_type": "stream",
          "text": [
            "Epoch 1/10\n",
            "20/20 [==============================] - 11s 534ms/step - loss: 0.7861 - binary_accuracy: 0.5085 - val_loss: 0.6835 - val_binary_accuracy: 0.6190\n",
            "Epoch 2/10\n",
            "20/20 [==============================] - 8s 391ms/step - loss: 0.6883 - binary_accuracy: 0.5825 - val_loss: 0.6604 - val_binary_accuracy: 0.6470\n",
            "Epoch 3/10\n",
            "20/20 [==============================] - 8s 406ms/step - loss: 0.6494 - binary_accuracy: 0.6550 - val_loss: 0.8411 - val_binary_accuracy: 0.5280\n",
            "Epoch 4/10\n",
            "20/20 [==============================] - 8s 397ms/step - loss: 0.5911 - binary_accuracy: 0.7045 - val_loss: 0.6153 - val_binary_accuracy: 0.6580\n",
            "Epoch 5/10\n",
            "20/20 [==============================] - 8s 389ms/step - loss: 0.6097 - binary_accuracy: 0.7215 - val_loss: 0.6032 - val_binary_accuracy: 0.6880\n",
            "Epoch 6/10\n",
            "20/20 [==============================] - 8s 388ms/step - loss: 0.4842 - binary_accuracy: 0.7875 - val_loss: 0.6853 - val_binary_accuracy: 0.6490\n",
            "Epoch 7/10\n",
            "20/20 [==============================] - 8s 391ms/step - loss: 0.4680 - binary_accuracy: 0.7950 - val_loss: 0.7255 - val_binary_accuracy: 0.6280\n",
            "Epoch 8/10\n",
            "20/20 [==============================] - 8s 391ms/step - loss: 0.3726 - binary_accuracy: 0.8375 - val_loss: 0.6419 - val_binary_accuracy: 0.6860\n",
            "Epoch 9/10\n",
            "20/20 [==============================] - 8s 389ms/step - loss: 0.3605 - binary_accuracy: 0.8430 - val_loss: 0.7455 - val_binary_accuracy: 0.6830\n",
            "Epoch 10/10\n",
            "20/20 [==============================] - 8s 386ms/step - loss: 0.3304 - binary_accuracy: 0.8745 - val_loss: 1.0248 - val_binary_accuracy: 0.6250\n"
          ],
          "name": "stdout"
        }
      ]
    },
    {
      "metadata": {
        "id": "3zoaAkKZdlj5",
        "colab_type": "code",
        "colab": {
          "base_uri": "https://localhost:8080/",
          "height": 408
        },
        "outputId": "8ade55f0-ae12-4d84-f501-a9f152294fe7"
      },
      "cell_type": "code",
      "source": [
        "m.summary()"
      ],
      "execution_count": 63,
      "outputs": [
        {
          "output_type": "stream",
          "text": [
            "_________________________________________________________________\n",
            "Layer (type)                 Output Shape              Param #   \n",
            "=================================================================\n",
            "conv2d_11 (Conv2D)           (None, 98, 98, 32)        896       \n",
            "_________________________________________________________________\n",
            "max_pooling2d_11 (MaxPooling (None, 49, 49, 32)        0         \n",
            "_________________________________________________________________\n",
            "conv2d_12 (Conv2D)           (None, 47, 47, 64)        18496     \n",
            "_________________________________________________________________\n",
            "max_pooling2d_12 (MaxPooling (None, 23, 23, 64)        0         \n",
            "_________________________________________________________________\n",
            "flatten_3 (Flatten)          (None, 33856)             0         \n",
            "_________________________________________________________________\n",
            "dense_16 (Dense)             (None, 256)               8667392   \n",
            "_________________________________________________________________\n",
            "dense_17 (Dense)             (None, 64)                16448     \n",
            "_________________________________________________________________\n",
            "dense_18 (Dense)             (None, 1)                 65        \n",
            "=================================================================\n",
            "Total params: 8,703,297\n",
            "Trainable params: 8,703,297\n",
            "Non-trainable params: 0\n",
            "_________________________________________________________________\n"
          ],
          "name": "stdout"
        }
      ]
    },
    {
      "metadata": {
        "id": "wg7yj9eoc_jv",
        "colab_type": "code",
        "colab": {
          "base_uri": "https://localhost:8080/",
          "height": 477
        },
        "outputId": "9679eaa2-eecf-4048-be32-f404b8bd4bcf"
      },
      "cell_type": "code",
      "source": [
        "# de 100*100 pasa a 98*98 por el padding (no se multiplo de 3)\n",
        "plot_metric(h, 'binary_accuracy')"
      ],
      "execution_count": 74,
      "outputs": [
        {
          "output_type": "display_data",
          "data": {
            "image/png": "[encoded data removed]",
            "text/plain": [
              "<matplotlib.figure.Figure at 0x7f1919277c50>"
            ]
          },
          "metadata": {
            "tags": []
          }
        }
      ]
    },
    {
      "metadata": {
        "id": "HllmPmuuc_p0",
        "colab_type": "code",
        "colab": {
          "base_uri": "https://localhost:8080/",
          "height": 477
        },
        "outputId": "72215702-d761-4c26-91e7-824636c18964"
      },
      "cell_type": "code",
      "source": [
        "plot_metric(h, 'loss')"
      ],
      "execution_count": 65,
      "outputs": [
        {
          "output_type": "display_data",
          "data": {
            "image/png": "[encoded data removed]",
            "text/plain": [
              "<matplotlib.figure.Figure at 0x7f191a07ab70>"
            ]
          },
          "metadata": {
            "tags": []
          }
        }
      ]
    },
    {
      "metadata": {
        "id": "lpaZbPh3c_3r",
        "colab_type": "code",
        "colab": {
          "base_uri": "https://localhost:8080/",
          "height": 460
        },
        "outputId": "c9231c33-8a20-4fe3-9ecc-fbdce24f2fc8"
      },
      "cell_type": "code",
      "source": [
        "N = 25\n",
        "plt.imshow(test_gen[0][0][N])"
      ],
      "execution_count": 73,
      "outputs": [
        {
          "output_type": "execute_result",
          "data": {
            "text/plain": [
              "<matplotlib.image.AxesImage at 0x7f191a097b70>"
            ]
          },
          "metadata": {
            "tags": []
          },
          "execution_count": 73
        },
        {
          "output_type": "display_data",
          "data": {
            "image/png": "[encoded data removed]",
            "text/plain": [
              "<matplotlib.figure.Figure at 0x7f1915831198>"
            ]
          },
          "metadata": {
            "tags": []
          }
        }
      ]
    },
    {
      "metadata": {
        "id": "4a6EQ0hNe9lm",
        "colab_type": "code",
        "colab": {}
      },
      "cell_type": "code",
      "source": [
        "# 100 imagenes, de 100*100, de 3 colores"
      ],
      "execution_count": 0,
      "outputs": []
    },
    {
      "metadata": {
        "id": "gRElg2H3fWPf",
        "colab_type": "code",
        "colab": {
          "base_uri": "https://localhost:8080/",
          "height": 850
        },
        "outputId": "475395d7-fbcb-4c46-b446-1750e7944550"
      },
      "cell_type": "code",
      "source": [
        "test_gen[0][0][N]"
      ],
      "execution_count": 70,
      "outputs": [
        {
          "output_type": "execute_result",
          "data": {
            "text/plain": [
              "array([[[0.25882354, 0.18431373, 0.1254902 ],\n",
              "        [0.1254902 , 0.07450981, 0.03921569],\n",
              "        [0.38823533, 0.36862746, 0.3529412 ],\n",
              "        ...,\n",
              "        [0.4666667 , 0.50980395, 0.53333336],\n",
              "        [0.4156863 , 0.43529415, 0.41176474],\n",
              "        [0.3803922 , 0.3803922 , 0.3803922 ]],\n",
              "\n",
              "       [[0.53333336, 0.49803925, 0.47058827],\n",
              "        [0.6901961 , 0.67058825, 0.654902  ],\n",
              "        [0.7137255 , 0.7137255 , 0.7058824 ],\n",
              "        ...,\n",
              "        [0.15686275, 0.16470589, 0.16078432],\n",
              "        [0.19215688, 0.15686275, 0.12156864],\n",
              "        [0.3137255 , 0.21568629, 0.227451  ]],\n",
              "\n",
              "       [[0.67058825, 0.69411767, 0.69411767],\n",
              "        [0.67058825, 0.7058824 , 0.7019608 ],\n",
              "        [0.59607846, 0.627451  , 0.63529414],\n",
              "        ...,\n",
              "        [0.08627451, 0.03529412, 0.00392157],\n",
              "        [0.07058824, 0.01176471, 0.        ],\n",
              "        [0.12941177, 0.09803922, 0.08627451]],\n",
              "\n",
              "       ...,\n",
              "\n",
              "       [[0.08235294, 0.17254902, 0.38431376],\n",
              "        [0.07450981, 0.16470589, 0.37647063],\n",
              "        [0.09803922, 0.18823531, 0.40000004],\n",
              "        ...,\n",
              "        [0.6392157 , 0.6784314 , 0.6745098 ],\n",
              "        [0.6392157 , 0.6784314 , 0.6745098 ],\n",
              "        [0.60784316, 0.64705884, 0.6431373 ]],\n",
              "\n",
              "       [[0.07450981, 0.16470589, 0.37647063],\n",
              "        [0.08235294, 0.17254902, 0.38431376],\n",
              "        [0.10196079, 0.19215688, 0.4039216 ],\n",
              "        ...,\n",
              "        [0.6313726 , 0.67058825, 0.6666667 ],\n",
              "        [0.59607846, 0.63529414, 0.6313726 ],\n",
              "        [0.60784316, 0.64705884, 0.6431373 ]],\n",
              "\n",
              "       [[0.06666667, 0.15686275, 0.36862746],\n",
              "        [0.10196079, 0.19215688, 0.4039216 ],\n",
              "        [0.09411766, 0.18431373, 0.39607847],\n",
              "        ...,\n",
              "        [0.62352943, 0.6627451 , 0.65882355],\n",
              "        [0.627451  , 0.6666667 , 0.6627451 ],\n",
              "        [0.6117647 , 0.6509804 , 0.64705884]]], dtype=float32)"
            ]
          },
          "metadata": {
            "tags": []
          },
          "execution_count": 70
        }
      ]
    },
    {
      "metadata": {
        "id": "aaQY5owQfWZi",
        "colab_type": "code",
        "colab": {
          "base_uri": "https://localhost:8080/",
          "height": 34
        },
        "outputId": "b6cf884d-8ade-4cfc-a0a4-e60a49e85f5a"
      },
      "cell_type": "code",
      "source": [
        "m.predict(test_gen[0][0][N:N+1])"
      ],
      "execution_count": 69,
      "outputs": [
        {
          "output_type": "execute_result",
          "data": {
            "text/plain": [
              "array([[0.00796833]], dtype=float32)"
            ]
          },
          "metadata": {
            "tags": []
          },
          "execution_count": 69
        }
      ]
    },
    {
      "metadata": {
        "id": "RHwsEdgHfWWf",
        "colab_type": "code",
        "colab": {}
      },
      "cell_type": "code",
      "source": [
        ""
      ],
      "execution_count": 0,
      "outputs": []
    },
    {
      "metadata": {
        "id": "4KLy-h5kfWTp",
        "colab_type": "code",
        "colab": {}
      },
      "cell_type": "code",
      "source": [
        ""
      ],
      "execution_count": 0,
      "outputs": []
    },
    {
      "metadata": {
        "id": "7WQc8lUWtCyR",
        "colab_type": "text"
      },
      "cell_type": "markdown",
      "source": [
        "# Evaluate model\n",
        "\n",
        "Our model is a binary classifier. We can evaluate it as any other classifier.\n",
        "\n",
        "**EXERCISE 1**. Obtain the confusion matrix and associated metrics (precision, recall, F-score) for this classifier.\n",
        "\n",
        "**EXERCISE 2**. Plot the ROC curve and calculate the AUC score.\n",
        "\n",
        "**EXERCISE 3**. What is the best model you can obtain using the above evaluation parameters?\n",
        "\n",
        "\n",
        "In addition to this evaluation, for convolutional layers, we can attempt to plot each layer, applied to a image, to see what are the elements used by the model to find out the class the item belongs to."
      ]
    },
    {
      "metadata": {
        "id": "xke55IRJc-Xa",
        "colab_type": "code",
        "colab": {}
      },
      "cell_type": "code",
      "source": [
        ""
      ],
      "execution_count": 0,
      "outputs": []
    },
    {
      "metadata": {
        "id": "5iknnIYJQ9Zv",
        "colab_type": "code",
        "colab": {}
      },
      "cell_type": "code",
      "source": [
        ""
      ],
      "execution_count": 0,
      "outputs": []
    },
    {
      "metadata": {
        "id": "vLCvC0jw__3r",
        "colab_type": "text"
      },
      "cell_type": "markdown",
      "source": [
        "# Data augmentation\n",
        "\n",
        "If we don't have enough images to train our model, we can manipulate our images to produce modifications, and to *augment* the training data.\n",
        "\n",
        "Because images are slightly different, this can help the network to learn some of the patterns better.\n",
        "\n",
        "See https://keras.io/preprocessing/image/\n"
      ]
    },
    {
      "metadata": {
        "id": "UxASI1KkQ9Zz",
        "colab_type": "code",
        "colab": {}
      },
      "cell_type": "code",
      "source": [
        ""
      ],
      "execution_count": 0,
      "outputs": []
    },
    {
      "metadata": {
        "id": "5_Q3QhtGxy5Z",
        "colab_type": "text"
      },
      "cell_type": "markdown",
      "source": [
        "# Reusing a pre-trained convnet\n",
        "\n",
        "Training a convolutional network is slow and tedious. And if we think of every day objects, some patterns will probably be useful for images of different types.\n",
        "\n",
        "Similarly to word2vec, Glove, and other pre-trained word embeddings, we can use pre-trained convolutional networks, to improve our models."
      ]
    },
    {
      "metadata": {
        "id": "OiHYp9ptC7sF",
        "colab_type": "code",
        "colab": {}
      },
      "cell_type": "code",
      "source": [
        "from keras.applications import VGG16"
      ],
      "execution_count": 0,
      "outputs": []
    },
    {
      "metadata": {
        "id": "yEq-CCqjjVpP",
        "colab_type": "code",
        "colab": {
          "base_uri": "https://localhost:8080/",
          "height": 646
        },
        "outputId": "ea30754b-d629-4841-ae14-e7579828661e"
      },
      "cell_type": "code",
      "source": [
        "conv_base = VGG16(weights='imagenet', include_top=False, input_shape=(100,100,3))"
      ],
      "execution_count": 76,
      "outputs": [
        {
          "output_type": "stream",
          "text": [
            "Downloading data from https://github.com/fchollet/deep-learning-models/releases/download/v0.1/vgg16_weights_tf_dim_ordering_tf_kernels_notop.h5\n",
            "58892288/58889256 [==============================] - 22s 0us/step\n"
          ],
          "name": "stdout"
        }
      ]
    },
    {
      "metadata": {
        "id": "ncC44sXFjVw2",
        "colab_type": "code",
        "colab": {
          "base_uri": "https://localhost:8080/",
          "height": 782
        },
        "outputId": "91271ecd-e4de-4f99-a641-5e4e62d1eab6"
      },
      "cell_type": "code",
      "source": [
        "conv_base.summary()"
      ],
      "execution_count": 78,
      "outputs": [
        {
          "output_type": "stream",
          "text": [
            "_________________________________________________________________\n",
            "Layer (type)                 Output Shape              Param #   \n",
            "=================================================================\n",
            "input_1 (InputLayer)         (None, 100, 100, 3)       0         \n",
            "_________________________________________________________________\n",
            "block1_conv1 (Conv2D)        (None, 100, 100, 64)      1792      \n",
            "_________________________________________________________________\n",
            "block1_conv2 (Conv2D)        (None, 100, 100, 64)      36928     \n",
            "_________________________________________________________________\n",
            "block1_pool (MaxPooling2D)   (None, 50, 50, 64)        0         \n",
            "_________________________________________________________________\n",
            "block2_conv1 (Conv2D)        (None, 50, 50, 128)       73856     \n",
            "_________________________________________________________________\n",
            "block2_conv2 (Conv2D)        (None, 50, 50, 128)       147584    \n",
            "_________________________________________________________________\n",
            "block2_pool (MaxPooling2D)   (None, 25, 25, 128)       0         \n",
            "_________________________________________________________________\n",
            "block3_conv1 (Conv2D)        (None, 25, 25, 256)       295168    \n",
            "_________________________________________________________________\n",
            "block3_conv2 (Conv2D)        (None, 25, 25, 256)       590080    \n",
            "_________________________________________________________________\n",
            "block3_conv3 (Conv2D)        (None, 25, 25, 256)       590080    \n",
            "_________________________________________________________________\n",
            "block3_pool (MaxPooling2D)   (None, 12, 12, 256)       0         \n",
            "_________________________________________________________________\n",
            "block4_conv1 (Conv2D)        (None, 12, 12, 512)       1180160   \n",
            "_________________________________________________________________\n",
            "block4_conv2 (Conv2D)        (None, 12, 12, 512)       2359808   \n",
            "_________________________________________________________________\n",
            "block4_conv3 (Conv2D)        (None, 12, 12, 512)       2359808   \n",
            "_________________________________________________________________\n",
            "block4_pool (MaxPooling2D)   (None, 6, 6, 512)         0         \n",
            "_________________________________________________________________\n",
            "block5_conv1 (Conv2D)        (None, 6, 6, 512)         2359808   \n",
            "_________________________________________________________________\n",
            "block5_conv2 (Conv2D)        (None, 6, 6, 512)         2359808   \n",
            "_________________________________________________________________\n",
            "block5_conv3 (Conv2D)        (None, 6, 6, 512)         2359808   \n",
            "_________________________________________________________________\n",
            "block5_pool (MaxPooling2D)   (None, 3, 3, 512)         0         \n",
            "=================================================================\n",
            "Total params: 14,714,688\n",
            "Trainable params: 14,714,688\n",
            "Non-trainable params: 0\n",
            "_________________________________________________________________\n"
          ],
          "name": "stdout"
        }
      ]
    },
    {
      "metadata": {
        "id": "aIgrgmCLjVt5",
        "colab_type": "code",
        "colab": {
          "base_uri": "https://localhost:8080/",
          "height": 34
        },
        "outputId": "53cc9c09-ed02-4308-8a33-091f950889c5"
      },
      "cell_type": "code",
      "source": [
        "conv_base.trainable"
      ],
      "execution_count": 79,
      "outputs": [
        {
          "output_type": "execute_result",
          "data": {
            "text/plain": [
              "True"
            ]
          },
          "metadata": {
            "tags": []
          },
          "execution_count": 79
        }
      ]
    },
    {
      "metadata": {
        "id": "M2QrRpdLkIZZ",
        "colab_type": "code",
        "colab": {}
      },
      "cell_type": "code",
      "source": [
        "conv_base.trainable = False"
      ],
      "execution_count": 0,
      "outputs": []
    },
    {
      "metadata": {
        "id": "tCIeOs4pkIeC",
        "colab_type": "code",
        "colab": {}
      },
      "cell_type": "code",
      "source": [
        "m = models.Sequential()\n",
        "m.add(conv_base)\n",
        "m.add(layers.Flatten())\n",
        "m.add(layers.Dense(256, activation='relu'))\n",
        "m.add(layers.Dense(128, activation='relu'))\n",
        "m.add(layers.Dense(64, activation='relu'))\n",
        "m.add(layers.Dense(1, activation='sigmoid'))"
      ],
      "execution_count": 0,
      "outputs": []
    },
    {
      "metadata": {
        "id": "aqRCVUKkk4lM",
        "colab_type": "code",
        "colab": {}
      },
      "cell_type": "code",
      "source": [
        "m.compile(\n",
        "optimizer=optimizers.rmsprop(),\n",
        "loss=losses.binary_crossentropy,\n",
        "metrics=[metrics.binary_accuracy]\n",
        ")"
      ],
      "execution_count": 0,
      "outputs": []
    },
    {
      "metadata": {
        "id": "1iSG2sS6k4qR",
        "colab_type": "code",
        "colab": {}
      },
      "cell_type": "code",
      "source": [
        "h = m.fit_generator(train_gen, epochs=20, steps_per_epoch)"
      ],
      "execution_count": 0,
      "outputs": []
    },
    {
      "metadata": {
        "id": "SBvhQf_UQ9Z6",
        "colab_type": "text"
      },
      "cell_type": "markdown",
      "source": [
        "# Exercise\n",
        "\n",
        "In our classification problem, dogs are the *positive* case, and cats the *negative* (it could not be otherwise...).\n",
        "\n",
        "Obtain the ROC curve for the following classifiers:\n",
        " \n",
        "* Dense network\n",
        "* Convolutional layers\n",
        "* Convolutional layers with training data augmentation\n",
        "* Convolutional layers, using a pre-trained network, letting your network modify the weights\n",
        "* Convolutional layers, using a pre-trained network, with all the weights frozen\n",
        "\n",
        "Which one is the best classifier? Why?"
      ]
    },
    {
      "metadata": {
        "id": "kClqJNhpQ9Z7",
        "colab_type": "code",
        "colab": {}
      },
      "cell_type": "code",
      "source": [
        ""
      ],
      "execution_count": 0,
      "outputs": []
    }
  ]
}