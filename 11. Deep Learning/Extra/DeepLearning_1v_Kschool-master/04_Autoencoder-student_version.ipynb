{
 "cells": [
  {
   "cell_type": "markdown",
   "metadata": {},
   "source": [
    "# Non supervised learning\n",
    "\n",
    "## Autoencoders\n",
    "\n",
    "Suppose we have only a set of unlabeled training examples $x_1,x_2,x_3, \\dots $, where $x_i \\in \\Re^n$. \n",
    "\n",
    "An autoencoder neural network is an *unsupervised learning* algorithm that applies backpropagation and uses a loss function that is optimal when setting the target values to be equal to the inputs, $y_i=x_i$.\n",
    "\n",
    "To build an autoencoder, you need three things: an **encoding function**, a **decoding function**, and a **distance function** between the amount of information loss between the compressed representation of your data and the decompressed representation.\n",
    "\n",
    "<center>\n",
    "<img src=\"https://blog.keras.io/img/ae/autoencoder_schema.jpg\" alt=\"\" style=\"width: 700px;\"/>\n",
    "</center>\n",
    "\n",
    "Two practical applications of autoencoders are data denoising, and dimensionality reduction for data visualization. In addition, it has shown to be an improvement over Matrix Factorization algorithms for Recommender Systems. \n",
    "\n",
    "With appropriate dimensionality and sparsity constraints, autoencoders can learn data projections that are more interesting than PCA or other basic techniques.\n",
    "\n",
    "We'll start simple, with a single fully-connected neural layer as encoder and as decoder:"
   ]
  },
  {
   "cell_type": "markdown",
   "metadata": {},
   "source": [
    "# Let's prepare our input data. "
   ]
  },
  {
   "cell_type": "code",
   "execution_count": 69,
   "metadata": {},
   "outputs": [],
   "source": [
    "from keras.datasets import mnist\n",
    "import numpy as np"
   ]
  },
  {
   "cell_type": "code",
   "execution_count": 70,
   "metadata": {},
   "outputs": [
    {
     "name": "stdout",
     "output_type": "stream",
     "text": [
      "(60000, 784)\n",
      "(10000, 784)\n"
     ]
    }
   ],
   "source": [
    "(x_train, _), (x_test, _) = mnist.load_data()\n",
    "\n",
    "x_train = x_train.astype('float32') / 255.\n",
    "x_test = x_test.astype('float32') / 255.\n",
    "x_train = x_train.reshape((len(x_train), np.prod(x_train.shape[1:])))\n",
    "x_test = x_test.reshape((len(x_test), np.prod(x_test.shape[1:])))\n",
    "print(x_train.shape)\n",
    "print(x_test.shape)"
   ]
  },
  {
   "cell_type": "markdown",
   "metadata": {},
   "source": [
    "# Create a simple 1-hidden layer AE\n",
    "\n",
    "Remember the steps:\n",
    "\n",
    " - build the model\n",
    " - compile\n",
    " - fit"
   ]
  },
  {
   "cell_type": "code",
   "execution_count": 71,
   "metadata": {},
   "outputs": [],
   "source": [
    "from keras import models\n",
    "from keras import layers\n",
    "from keras import losses\n",
    "from keras import optimizers"
   ]
  },
  {
   "cell_type": "code",
   "execution_count": 94,
   "metadata": {},
   "outputs": [],
   "source": [
    "# Autoencoder\n",
    "x0 = layers.Input(shape=(784,), dtype = 'float32')\n",
    "code_layer1 = layers.Dense(20*20, activation='relu')(x0)\n",
    "code_layer = layers.Dense(8*8, activation='relu')\n",
    "code = code_layer(code_layer1)\n",
    "decode_layer1 = layers.Dense(20*20, activation='relu')(code)\n",
    "decode_layer = layers.Dense(784, activation='sigmoid')\n",
    "decode = decode_layer(decode_layer1)\n",
    "\n",
    "m = models.Model(inputs = x0, outputs = decode)\n",
    "m.summary()"
   ]
  },
  {
   "cell_type": "code",
   "execution_count": 99,
   "metadata": {},
   "outputs": [
    {
     "name": "stdout",
     "output_type": "stream",
     "text": [
      "Train on 48000 samples, validate on 12000 samples\n",
      "Epoch 1/100\n",
      "48000/48000 [==============================] - 4s 84us/step - loss: 0.0515 - val_loss: 0.0487\n",
      "Epoch 2/100\n",
      "48000/48000 [==============================] - 3s 69us/step - loss: 0.0443 - val_loss: 0.0434\n",
      "Epoch 3/100\n",
      "48000/48000 [==============================] - 3s 67us/step - loss: 0.0444 - val_loss: 0.0452\n",
      "Epoch 4/100\n",
      "48000/48000 [==============================] - 3s 67us/step - loss: 0.0444 - val_loss: 0.0417\n",
      "Epoch 5/100\n",
      "48000/48000 [==============================] - 3s 69us/step - loss: 0.0443 - val_loss: 0.0462\n",
      "Epoch 6/100\n",
      "48000/48000 [==============================] - 3s 68us/step - loss: 0.0443 - val_loss: 0.0470\n",
      "Epoch 7/100\n",
      "48000/48000 [==============================] - 3s 67us/step - loss: 0.0444 - val_loss: 0.0435\n",
      "Epoch 8/100\n",
      "48000/48000 [==============================] - 3s 69us/step - loss: 0.0442 - val_loss: 0.0448\n",
      "Epoch 9/100\n",
      "48000/48000 [==============================] - 3s 70us/step - loss: 0.0440 - val_loss: 0.0477\n",
      "Epoch 10/100\n",
      "48000/48000 [==============================] - 3s 71us/step - loss: 0.0437 - val_loss: 0.0443\n",
      "Epoch 11/100\n",
      "48000/48000 [==============================] - 3s 68us/step - loss: 0.0435 - val_loss: 0.0434\n",
      "Epoch 12/100\n",
      "48000/48000 [==============================] - 3s 69us/step - loss: 0.0434 - val_loss: 0.0449\n",
      "Epoch 13/100\n",
      "48000/48000 [==============================] - 3s 69us/step - loss: 0.0438 - val_loss: 0.0401\n",
      "Epoch 14/100\n",
      "48000/48000 [==============================] - 3s 69us/step - loss: 0.0434 - val_loss: 0.0422\n",
      "Epoch 15/100\n",
      "48000/48000 [==============================] - 3s 73us/step - loss: 0.0434 - val_loss: 0.0461\n",
      "Epoch 16/100\n",
      "48000/48000 [==============================] - 3s 70us/step - loss: 0.0435 - val_loss: 0.0415\n",
      "Epoch 17/100\n",
      "48000/48000 [==============================] - 3s 70us/step - loss: 0.0432 - val_loss: 0.0440\n",
      "Epoch 18/100\n",
      "48000/48000 [==============================] - 3s 69us/step - loss: 0.0431 - val_loss: 0.0412\n",
      "Epoch 19/100\n",
      "48000/48000 [==============================] - 3s 69us/step - loss: 0.0428 - val_loss: 0.0417\n",
      "Epoch 20/100\n",
      "48000/48000 [==============================] - 3s 70us/step - loss: 0.0433 - val_loss: 0.0436\n",
      "Epoch 21/100\n",
      "48000/48000 [==============================] - 3s 70us/step - loss: 0.0428 - val_loss: 0.0407\n",
      "Epoch 22/100\n",
      "48000/48000 [==============================] - 3s 70us/step - loss: 0.0429 - val_loss: 0.0407\n",
      "Epoch 23/100\n",
      "48000/48000 [==============================] - 3s 69us/step - loss: 0.0430 - val_loss: 0.0449\n",
      "Epoch 24/100\n",
      "48000/48000 [==============================] - 3s 70us/step - loss: 0.0429 - val_loss: 0.0398\n",
      "Epoch 25/100\n",
      "48000/48000 [==============================] - 3s 71us/step - loss: 0.0428 - val_loss: 0.0424\n",
      "Epoch 26/100\n",
      "48000/48000 [==============================] - 3s 70us/step - loss: 0.0429 - val_loss: 0.0411\n",
      "Epoch 27/100\n",
      "48000/48000 [==============================] - 3s 70us/step - loss: 0.0426 - val_loss: 0.0397\n",
      "Epoch 28/100\n",
      "48000/48000 [==============================] - 3s 70us/step - loss: 0.0427 - val_loss: 0.0431\n",
      "Epoch 29/100\n",
      "48000/48000 [==============================] - 3s 70us/step - loss: 0.0428 - val_loss: 0.0418\n",
      "Epoch 30/100\n",
      "48000/48000 [==============================] - 3s 71us/step - loss: 0.0425 - val_loss: 0.0469\n",
      "Epoch 31/100\n",
      "48000/48000 [==============================] - 3s 71us/step - loss: 0.0424 - val_loss: 0.0437\n",
      "Epoch 32/100\n",
      "48000/48000 [==============================] - 3s 69us/step - loss: 0.0426 - val_loss: 0.0396\n",
      "Epoch 33/100\n",
      "48000/48000 [==============================] - 3s 71us/step - loss: 0.0422 - val_loss: 0.0412\n",
      "Epoch 34/100\n",
      "48000/48000 [==============================] - 3s 73us/step - loss: 0.0425 - val_loss: 0.0412\n",
      "Epoch 35/100\n",
      "48000/48000 [==============================] - 3s 70us/step - loss: 0.0424 - val_loss: 0.0386\n",
      "Epoch 36/100\n",
      "48000/48000 [==============================] - 3s 69us/step - loss: 0.0425 - val_loss: 0.0398\n",
      "Epoch 37/100\n",
      "48000/48000 [==============================] - 3s 69us/step - loss: 0.0423 - val_loss: 0.0444\n",
      "Epoch 38/100\n",
      "48000/48000 [==============================] - 3s 71us/step - loss: 0.0425 - val_loss: 0.0440\n",
      "Epoch 39/100\n",
      "48000/48000 [==============================] - 4s 78us/step - loss: 0.0424 - val_loss: 0.0419\n",
      "Epoch 40/100\n",
      "48000/48000 [==============================] - 3s 71us/step - loss: 0.0426 - val_loss: 0.0425\n",
      "Epoch 41/100\n",
      "48000/48000 [==============================] - 3s 70us/step - loss: 0.0425 - val_loss: 0.0407\n",
      "Epoch 42/100\n",
      "48000/48000 [==============================] - 3s 71us/step - loss: 0.0426 - val_loss: 0.0409\n",
      "Epoch 43/100\n",
      "48000/48000 [==============================] - 3s 72us/step - loss: 0.0424 - val_loss: 0.0427\n",
      "Epoch 44/100\n",
      "48000/48000 [==============================] - 3s 71us/step - loss: 0.0424 - val_loss: 0.0409\n",
      "Epoch 45/100\n",
      "48000/48000 [==============================] - 3s 71us/step - loss: 0.0426 - val_loss: 0.0484\n",
      "Epoch 46/100\n",
      "48000/48000 [==============================] - 4s 74us/step - loss: 0.0423 - val_loss: 0.0462\n",
      "Epoch 47/100\n",
      "48000/48000 [==============================] - 3s 70us/step - loss: 0.0426 - val_loss: 0.0414\n",
      "Epoch 48/100\n",
      "48000/48000 [==============================] - 3s 70us/step - loss: 0.0424 - val_loss: 0.0421\n",
      "Epoch 49/100\n",
      "48000/48000 [==============================] - 3s 71us/step - loss: 0.0427 - val_loss: 0.0419\n",
      "Epoch 50/100\n",
      "48000/48000 [==============================] - 3s 71us/step - loss: 0.0426 - val_loss: 0.0407\n",
      "Epoch 51/100\n",
      "48000/48000 [==============================] - 3s 72us/step - loss: 0.0427 - val_loss: 0.0416\n",
      "Epoch 52/100\n",
      "48000/48000 [==============================] - 3s 71us/step - loss: 0.0431 - val_loss: 0.0447\n",
      "Epoch 53/100\n",
      "48000/48000 [==============================] - 3s 69us/step - loss: 0.0425 - val_loss: 0.0421\n",
      "Epoch 54/100\n",
      "48000/48000 [==============================] - 3s 66us/step - loss: 0.0427 - val_loss: 0.0441\n",
      "Epoch 55/100\n",
      "48000/48000 [==============================] - 3s 69us/step - loss: 0.0427 - val_loss: 0.0398\n",
      "Epoch 56/100\n",
      "48000/48000 [==============================] - 3s 68us/step - loss: 0.0430 - val_loss: 0.0422\n",
      "Epoch 57/100\n",
      "48000/48000 [==============================] - 3s 68us/step - loss: 0.0429 - val_loss: 0.0436\n",
      "Epoch 58/100\n",
      "48000/48000 [==============================] - 3s 67us/step - loss: 0.0432 - val_loss: 0.0413\n",
      "Epoch 59/100\n",
      "48000/48000 [==============================] - 3s 69us/step - loss: 0.0428 - val_loss: 0.0445\n",
      "Epoch 60/100\n",
      "48000/48000 [==============================] - 3s 70us/step - loss: 0.0432 - val_loss: 0.0410\n",
      "Epoch 61/100\n",
      "48000/48000 [==============================] - 3s 68us/step - loss: 0.0430 - val_loss: 0.0476\n",
      "Epoch 62/100\n",
      "48000/48000 [==============================] - 3s 70us/step - loss: 0.0429 - val_loss: 0.0417\n",
      "Epoch 63/100\n",
      "48000/48000 [==============================] - 3s 68us/step - loss: 0.0431 - val_loss: 0.0402\n",
      "Epoch 64/100\n",
      "48000/48000 [==============================] - 4s 75us/step - loss: 0.0430 - val_loss: 0.0453\n",
      "Epoch 65/100\n",
      "48000/48000 [==============================] - 4s 82us/step - loss: 0.0431 - val_loss: 0.0439\n",
      "Epoch 66/100\n",
      "48000/48000 [==============================] - 3s 70us/step - loss: 0.0429 - val_loss: 0.0456\n",
      "Epoch 67/100\n",
      "48000/48000 [==============================] - 3s 72us/step - loss: 0.0429 - val_loss: 0.0409\n",
      "Epoch 68/100\n",
      "48000/48000 [==============================] - 3s 71us/step - loss: 0.0429 - val_loss: 0.0438\n",
      "Epoch 69/100\n",
      "48000/48000 [==============================] - 3s 73us/step - loss: 0.0432 - val_loss: 0.0403\n",
      "Epoch 70/100\n",
      "48000/48000 [==============================] - 3s 71us/step - loss: 0.0427 - val_loss: 0.0419\n",
      "Epoch 71/100\n",
      "48000/48000 [==============================] - 3s 70us/step - loss: 0.0432 - val_loss: 0.0444\n",
      "Epoch 72/100\n",
      "48000/48000 [==============================] - 3s 70us/step - loss: 0.0436 - val_loss: 0.0442\n",
      "Epoch 73/100\n",
      "48000/48000 [==============================] - 3s 69us/step - loss: 0.0429 - val_loss: 0.0448\n",
      "Epoch 74/100\n",
      "48000/48000 [==============================] - 3s 70us/step - loss: 0.0434 - val_loss: 0.0415\n",
      "Epoch 75/100\n",
      "48000/48000 [==============================] - 4s 76us/step - loss: 0.0434 - val_loss: 0.0421\n",
      "Epoch 76/100\n",
      "48000/48000 [==============================] - 4s 74us/step - loss: 0.0432 - val_loss: 0.0480\n",
      "Epoch 77/100\n"
     ]
    },
    {
     "name": "stdout",
     "output_type": "stream",
     "text": [
      "48000/48000 [==============================] - 3s 69us/step - loss: 0.0435 - val_loss: 0.0440\n",
      "Epoch 78/100\n",
      "48000/48000 [==============================] - 3s 68us/step - loss: 0.0438 - val_loss: 0.0432\n",
      "Epoch 79/100\n",
      "48000/48000 [==============================] - 3s 70us/step - loss: 0.0434 - val_loss: 0.0404\n",
      "Epoch 80/100\n",
      "48000/48000 [==============================] - 3s 71us/step - loss: 0.0437 - val_loss: 0.0436\n",
      "Epoch 81/100\n",
      "48000/48000 [==============================] - 3s 70us/step - loss: 0.0435 - val_loss: 0.0402\n",
      "Epoch 82/100\n",
      "48000/48000 [==============================] - 3s 69us/step - loss: 0.0434 - val_loss: 0.0473\n",
      "Epoch 83/100\n",
      "48000/48000 [==============================] - 3s 69us/step - loss: 0.0432 - val_loss: 0.0446\n",
      "Epoch 84/100\n",
      "48000/48000 [==============================] - 3s 68us/step - loss: 0.0436 - val_loss: 0.0418\n",
      "Epoch 85/100\n",
      "48000/48000 [==============================] - 3s 69us/step - loss: 0.0436 - val_loss: 0.0428\n",
      "Epoch 86/100\n",
      "48000/48000 [==============================] - 4s 73us/step - loss: 0.0436 - val_loss: 0.0425\n",
      "Epoch 87/100\n",
      "48000/48000 [==============================] - 4s 74us/step - loss: 0.0440 - val_loss: 0.0434\n",
      "Epoch 88/100\n",
      "48000/48000 [==============================] - 3s 71us/step - loss: 0.0439 - val_loss: 0.0429\n",
      "Epoch 89/100\n",
      "48000/48000 [==============================] - 3s 70us/step - loss: 0.0436 - val_loss: 0.0404\n",
      "Epoch 90/100\n",
      "48000/48000 [==============================] - 3s 70us/step - loss: 0.0437 - val_loss: 0.0426\n",
      "Epoch 91/100\n",
      "48000/48000 [==============================] - 3s 70us/step - loss: 0.0438 - val_loss: 0.0440\n",
      "Epoch 92/100\n",
      "48000/48000 [==============================] - 4s 74us/step - loss: 0.0435 - val_loss: 0.0448\n",
      "Epoch 93/100\n",
      "48000/48000 [==============================] - 3s 70us/step - loss: 0.0439 - val_loss: 0.0425\n",
      "Epoch 94/100\n",
      "48000/48000 [==============================] - 3s 72us/step - loss: 0.0437 - val_loss: 0.0403\n",
      "Epoch 95/100\n",
      "48000/48000 [==============================] - 3s 69us/step - loss: 0.0438 - val_loss: 0.0428\n",
      "Epoch 96/100\n",
      "48000/48000 [==============================] - 3s 70us/step - loss: 0.0434 - val_loss: 0.0433\n",
      "Epoch 97/100\n",
      "48000/48000 [==============================] - 3s 71us/step - loss: 0.0436 - val_loss: 0.0473\n",
      "Epoch 98/100\n",
      "48000/48000 [==============================] - 3s 70us/step - loss: 0.0437 - val_loss: 0.0428\n",
      "Epoch 99/100\n",
      "48000/48000 [==============================] - 3s 72us/step - loss: 0.0445 - val_loss: 0.0461\n",
      "Epoch 100/100\n",
      "48000/48000 [==============================] - 3s 72us/step - loss: 0.0436 - val_loss: 0.0472\n"
     ]
    }
   ],
   "source": [
    "m.compile(optimizer=optimizers.rmsprop(), \n",
    "          loss=losses.mean_squared_error)\n",
    "\n",
    "h = m.fit(x_train,x_train,\n",
    "         batch_size = 500, epochs = 100, validation_split = .2)"
   ]
  },
  {
   "cell_type": "markdown",
   "metadata": {
    "collapsed": true
   },
   "source": [
    "## Predict some images\n",
    "\n",
    "Note that here `predict` does not mean to predict a label, but rather a forward pass through the network (i.e. inference)"
   ]
  },
  {
   "cell_type": "code",
   "execution_count": 101,
   "metadata": {},
   "outputs": [
    {
     "data": {
      "image/png": "[encoded data removed]",
      "text/plain": [
       "<Figure size 720x288 with 20 Axes>"
      ]
     },
     "metadata": {
      "needs_background": "light"
     },
     "output_type": "display_data"
    }
   ],
   "source": [
    "decoded_imgs = m.predict(x_test)\n",
    "import matplotlib.pyplot as plt\n",
    "%matplotlib inline\n",
    "\n",
    "n = 10  # how many digits we will display\n",
    "plt.figure(figsize=(10, 4))\n",
    "for i in range(n):\n",
    "    # display original\n",
    "    ax = plt.subplot(2, n, i + 1)\n",
    "    plt.imshow(x_test[i].reshape(28, 28))\n",
    "    plt.gray()\n",
    "    ax.get_xaxis().set_visible(False)\n",
    "    ax.get_yaxis().set_visible(False)\n",
    "    \n",
    "    # display reconstruction\n",
    "    ax = plt.subplot(2, n, i + 1 + n)\n",
    "    plt.imshow(decoded_imgs[i].reshape(28, 28))\n",
    "    plt.gray()\n",
    "    ax.get_xaxis().set_visible(False)\n",
    "    ax.get_yaxis().set_visible(False)\n",
    "plt.show()"
   ]
  },
  {
   "cell_type": "markdown",
   "metadata": {},
   "source": [
    "## Note that we can also create a separate encoder model and a separate decoder model"
   ]
  },
  {
   "cell_type": "code",
   "execution_count": 77,
   "metadata": {},
   "outputs": [],
   "source": [
    "# this model maps an input to its encoded representation\n",
    "encoding_model = models.Model(inputs = x0, outputs = code_layer(x0))\n",
    "\n",
    "# create a placeholder for an encoded input\n",
    "# and create the decoder model\n",
    "decoding_model_input= layers.Input(shape=(8*8,), dtype = 'float32')\n",
    "decoding_model = models.Model(inputs = decoding_model_input, outputs = decode_layer(decoding_model_input))"
   ]
  },
  {
   "cell_type": "code",
   "execution_count": 80,
   "metadata": {},
   "outputs": [],
   "source": [
    "# encode and decode some digits\n",
    "# note that we take them from the *test* set\n",
    "encoded_imgs = encoding_model.predict(x_test)\n",
    "decoded_imgs = decoding_model.predict(encoded_imgs)"
   ]
  },
  {
   "cell_type": "code",
   "execution_count": 81,
   "metadata": {},
   "outputs": [
    {
     "data": {
      "image/png": "[encoded data removed]",
      "text/plain": [
       "<Figure size 720x288 with 20 Axes>"
      ]
     },
     "metadata": {
      "needs_background": "light"
     },
     "output_type": "display_data"
    }
   ],
   "source": [
    "#Plot results\n",
    "n = 10  # how many digits we will display\n",
    "plt.figure(figsize=(10, 4))\n",
    "for i in range(n):\n",
    "    # display original\n",
    "    ax = plt.subplot(2, n, i + 1)\n",
    "    plt.imshow(x_test[i].reshape(28, 28))\n",
    "    plt.gray()\n",
    "    ax.get_xaxis().set_visible(False)\n",
    "    ax.get_yaxis().set_visible(False)\n",
    "    \n",
    "    # display reconstruction\n",
    "    ax = plt.subplot(2, n, i + 1 + n)\n",
    "    plt.imshow(decoded_imgs[i].reshape(28, 28))\n",
    "    plt.gray()\n",
    "    ax.get_xaxis().set_visible(False)\n",
    "    ax.get_yaxis().set_visible(False)\n",
    "plt.show()"
   ]
  },
  {
   "cell_type": "markdown",
   "metadata": {},
   "source": [
    "Try doing the same with larger hidden layers"
   ]
  },
  {
   "cell_type": "code",
   "execution_count": 82,
   "metadata": {},
   "outputs": [
    {
     "data": {
      "image/png": "[encoded data removed]",
      "text/plain": [
       "<Figure size 720x288 with 20 Axes>"
      ]
     },
     "metadata": {
      "needs_background": "light"
     },
     "output_type": "display_data"
    }
   ],
   "source": [
    "#Plot results\n",
    "n = 10  # how many digits we will display\n",
    "plt.figure(figsize=(10, 4))\n",
    "for i in range(n):\n",
    "    # display original\n",
    "    ax = plt.subplot(2, n, i + 1)\n",
    "    plt.imshow(x_test[i].reshape(28, 28))\n",
    "    plt.gray()\n",
    "    ax.get_xaxis().set_visible(False)\n",
    "    ax.get_yaxis().set_visible(False)\n",
    "    \n",
    "    # display reconstruction\n",
    "    ax = plt.subplot(2, n, i + 1 + n)\n",
    "    plt.imshow(encoded_imgs[i].reshape(8, 8))\n",
    "    plt.gray()\n",
    "    ax.get_xaxis().set_visible(False)\n",
    "    ax.get_yaxis().set_visible(False)\n",
    "plt.show()"
   ]
  },
  {
   "cell_type": "markdown",
   "metadata": {},
   "source": [
    "## Adding a sparsity constraint on the encoded representations\n",
    "\n",
    "In the previous example, the representations were only constrained by the size of the hidden layer (32). In such a situation, what typically happens is that the hidden layer is learning an approximation of PCA (principal component analysis). But another way to constrain the representations to be compact is to add a sparsity contraint on the activity of the hidden representations, so fewer units would \"fire\" at a given time. \n",
    "\n",
    "In Keras, this can be done by adding an ``activity_regularizer`` to our Dense layer:"
   ]
  },
  {
   "cell_type": "code",
   "execution_count": 102,
   "metadata": {},
   "outputs": [],
   "source": [
    "from keras import regularizers\n"
   ]
  },
  {
   "cell_type": "code",
   "execution_count": 120,
   "metadata": {},
   "outputs": [
    {
     "name": "stdout",
     "output_type": "stream",
     "text": [
      "_________________________________________________________________\n",
      "Layer (type)                 Output Shape              Param #   \n",
      "=================================================================\n",
      "input_28 (InputLayer)        (None, 784)               0         \n",
      "_________________________________________________________________\n",
      "dense_79 (Dense)             (None, 1296)              1017360   \n",
      "_________________________________________________________________\n",
      "dense_80 (Dense)             (None, 784)               1016848   \n",
      "=================================================================\n",
      "Total params: 2,034,208\n",
      "Trainable params: 2,034,208\n",
      "Non-trainable params: 0\n",
      "_________________________________________________________________\n"
     ]
    }
   ],
   "source": [
    "# Autoencoder with L1 activity regularizer\n",
    "x0 = layers.Input(shape=(784,), dtype = 'float32')\n",
    "code_layer = layers.Dense(36*36, activity_regularizer = regularizers.l1(1e-8), activation='relu')\n",
    "code = code_layer(x0)\n",
    "decode_layer = layers.Dense(784, activation='sigmoid')\n",
    "decode = decode_layer(code)\n",
    "\n",
    "m = models.Model(inputs = x0, outputs = decode)\n",
    "m.summary()"
   ]
  },
  {
   "cell_type": "code",
   "execution_count": 121,
   "metadata": {},
   "outputs": [
    {
     "name": "stdout",
     "output_type": "stream",
     "text": [
      "Train on 48000 samples, validate on 12000 samples\n",
      "Epoch 1/20\n",
      "48000/48000 [==============================] - 8s 168us/step - loss: 0.0343 - val_loss: 0.0211\n",
      "Epoch 2/20\n",
      "48000/48000 [==============================] - 7s 150us/step - loss: 0.0140 - val_loss: 0.0114\n",
      "Epoch 3/20\n",
      "48000/48000 [==============================] - 7s 150us/step - loss: 0.0099 - val_loss: 0.0093\n",
      "Epoch 4/20\n",
      "48000/48000 [==============================] - 8s 164us/step - loss: 0.0079 - val_loss: 0.0079\n",
      "Epoch 5/20\n",
      "48000/48000 [==============================] - 7s 153us/step - loss: 0.0067 - val_loss: 0.0062\n",
      "Epoch 6/20\n",
      "48000/48000 [==============================] - 7s 151us/step - loss: 0.0059 - val_loss: 0.0054\n",
      "Epoch 7/20\n",
      "48000/48000 [==============================] - 7s 151us/step - loss: 0.0052 - val_loss: 0.0051\n",
      "Epoch 8/20\n",
      "48000/48000 [==============================] - 7s 150us/step - loss: 0.0048 - val_loss: 0.0048\n",
      "Epoch 9/20\n",
      "48000/48000 [==============================] - 7s 155us/step - loss: 0.0045 - val_loss: 0.0048\n",
      "Epoch 10/20\n",
      "48000/48000 [==============================] - 7s 151us/step - loss: 0.0042 - val_loss: 0.0043\n",
      "Epoch 11/20\n",
      "48000/48000 [==============================] - 7s 154us/step - loss: 0.0040 - val_loss: 0.0041\n",
      "Epoch 12/20\n",
      "48000/48000 [==============================] - 7s 152us/step - loss: 0.0038 - val_loss: 0.0039\n",
      "Epoch 13/20\n",
      "48000/48000 [==============================] - 7s 152us/step - loss: 0.0036 - val_loss: 0.0038\n",
      "Epoch 14/20\n",
      "48000/48000 [==============================] - 7s 152us/step - loss: 0.0035 - val_loss: 0.0037\n",
      "Epoch 15/20\n",
      "48000/48000 [==============================] - 7s 152us/step - loss: 0.0034 - val_loss: 0.0036\n",
      "Epoch 16/20\n",
      "48000/48000 [==============================] - 7s 154us/step - loss: 0.0033 - val_loss: 0.0036\n",
      "Epoch 17/20\n",
      "48000/48000 [==============================] - 7s 156us/step - loss: 0.0032 - val_loss: 0.0033\n",
      "Epoch 18/20\n",
      "48000/48000 [==============================] - 7s 154us/step - loss: 0.0031 - val_loss: 0.0031\n",
      "Epoch 19/20\n",
      "48000/48000 [==============================] - 7s 156us/step - loss: 0.0030 - val_loss: 0.0031\n",
      "Epoch 20/20\n",
      "48000/48000 [==============================] - 8s 159us/step - loss: 0.0029 - val_loss: 0.0033\n"
     ]
    }
   ],
   "source": [
    "m.compile(optimizer=optimizers.rmsprop(), \n",
    "          loss=losses.mean_squared_error)\n",
    "\n",
    "h = m.fit(x_train,x_train,\n",
    "         batch_size = 500, epochs = 20, validation_split = .2)"
   ]
  },
  {
   "cell_type": "code",
   "execution_count": 122,
   "metadata": {},
   "outputs": [
    {
     "data": {
      "image/png": "[encoded data removed]",
      "text/plain": [
       "<Figure size 720x288 with 20 Axes>"
      ]
     },
     "metadata": {
      "needs_background": "light"
     },
     "output_type": "display_data"
    }
   ],
   "source": [
    "decoded_imgs = m.predict(x_test)\n",
    "import matplotlib.pyplot as plt\n",
    "%matplotlib inline\n",
    "\n",
    "n = 10  # how many digits we will display\n",
    "plt.figure(figsize=(10, 4))\n",
    "for i in range(n):\n",
    "    # display original\n",
    "    ax = plt.subplot(2, n, i + 1)\n",
    "    plt.imshow(x_test[i].reshape(28, 28))\n",
    "    plt.gray()\n",
    "    ax.get_xaxis().set_visible(False)\n",
    "    ax.get_yaxis().set_visible(False)\n",
    "    \n",
    "    # display reconstruction\n",
    "    ax = plt.subplot(2, n, i + 1 + n)\n",
    "    plt.imshow(decoded_imgs[i].reshape(28, 28))\n",
    "    plt.gray()\n",
    "    ax.get_xaxis().set_visible(False)\n",
    "    ax.get_yaxis().set_visible(False)\n",
    "plt.show()"
   ]
  },
  {
   "cell_type": "markdown",
   "metadata": {},
   "source": [
    "## Going deep\n",
    "\n",
    "Compare the loss with the shallow case. Does it get any better?"
   ]
  },
  {
   "cell_type": "code",
   "execution_count": null,
   "metadata": {},
   "outputs": [],
   "source": [
    "# Try 784-128-64-32-64-128-784 architecture with relu activations and sigmoid in the last layer\n"
   ]
  },
  {
   "cell_type": "markdown",
   "metadata": {},
   "source": [
    "## Example: Image denoising\n",
    "\n",
    "It's simple: we will train the autoencoder to map noisy digits images to clean digits images.\n",
    "\n",
    "Here's how we will generate synthetic noisy digits: we just apply a gaussian noise matrix and clip the images between 0 and 1."
   ]
  },
  {
   "cell_type": "code",
   "execution_count": 123,
   "metadata": {},
   "outputs": [
    {
     "data": {
      "image/png": "[encoded data removed]",
      "text/plain": [
       "<Figure size 1440x144 with 10 Axes>"
      ]
     },
     "metadata": {
      "needs_background": "light"
     },
     "output_type": "display_data"
    }
   ],
   "source": [
    "import matplotlib.pyplot as plt\n",
    "import numpy as np\n",
    "from keras.datasets import mnist\n",
    "from keras.layers import Dense\n",
    "from keras.models import Sequential\n",
    "\n",
    "(x_train, _), (x_test, _) = mnist.load_data()\n",
    "\n",
    "x_train = x_train.astype('float32') / 255.\n",
    "x_test = x_test.astype('float32') / 255.\n",
    "x_train = np.reshape(x_train, (len(x_train), 784))\n",
    "x_test = np.reshape(x_test, (len(x_test), 784))\n",
    "\n",
    "noise_factor = 0.5\n",
    "x_train_noisy = x_train + noise_factor * np.random.normal(loc=0.0, scale=1.0, size=x_train.shape) \n",
    "x_test_noisy = x_test + noise_factor * np.random.normal(loc=0.0, scale=1.0, size=x_test.shape) \n",
    "x_train_noisy = np.clip(x_train_noisy, 0., 1.)\n",
    "x_test_noisy = np.clip(x_test_noisy, 0., 1.)\n",
    "\n",
    "n = 10\n",
    "plt.figure(figsize=(20, 2))\n",
    "for i in range(n):\n",
    "    ax = plt.subplot(1, n, i+1)\n",
    "    plt.imshow(x_test_noisy[i].reshape(28, 28))\n",
    "    plt.gray()\n",
    "    ax.get_xaxis().set_visible(False)\n",
    "    ax.get_yaxis().set_visible(False)\n",
    "plt.show()"
   ]
  },
  {
   "cell_type": "code",
   "execution_count": 124,
   "metadata": {},
   "outputs": [
    {
     "name": "stdout",
     "output_type": "stream",
     "text": [
      "_________________________________________________________________\n",
      "Layer (type)                 Output Shape              Param #   \n",
      "=================================================================\n",
      "input_29 (InputLayer)        (None, 784)               0         \n",
      "_________________________________________________________________\n",
      "dense_81 (Dense)             (None, 1296)              1017360   \n",
      "_________________________________________________________________\n",
      "dense_82 (Dense)             (None, 784)               1016848   \n",
      "=================================================================\n",
      "Total params: 2,034,208\n",
      "Trainable params: 2,034,208\n",
      "Non-trainable params: 0\n",
      "_________________________________________________________________\n",
      "Train on 48000 samples, validate on 12000 samples\n",
      "Epoch 1/20\n",
      "48000/48000 [==============================] - 8s 171us/step - loss: 0.0521 - val_loss: 0.0368\n",
      "Epoch 2/20\n",
      "48000/48000 [==============================] - 7s 153us/step - loss: 0.0309 - val_loss: 0.0266\n",
      "Epoch 3/20\n",
      "48000/48000 [==============================] - 8s 156us/step - loss: 0.0248 - val_loss: 0.0242\n",
      "Epoch 4/20\n",
      "48000/48000 [==============================] - 7s 153us/step - loss: 0.0215 - val_loss: 0.0203\n",
      "Epoch 5/20\n",
      "48000/48000 [==============================] - 7s 155us/step - loss: 0.0194 - val_loss: 0.0187\n",
      "Epoch 6/20\n",
      "48000/48000 [==============================] - 8s 156us/step - loss: 0.0180 - val_loss: 0.0176\n",
      "Epoch 7/20\n",
      "48000/48000 [==============================] - 8s 169us/step - loss: 0.0169 - val_loss: 0.0169\n",
      "Epoch 8/20\n",
      "48000/48000 [==============================] - 7s 156us/step - loss: 0.0160 - val_loss: 0.0168\n",
      "Epoch 9/20\n",
      "48000/48000 [==============================] - 7s 153us/step - loss: 0.0153 - val_loss: 0.0161\n",
      "Epoch 10/20\n",
      "48000/48000 [==============================] - 7s 152us/step - loss: 0.0146 - val_loss: 0.0165\n",
      "Epoch 11/20\n",
      "48000/48000 [==============================] - 7s 154us/step - loss: 0.0141 - val_loss: 0.0151\n",
      "Epoch 12/20\n",
      "48000/48000 [==============================] - 7s 153us/step - loss: 0.0136 - val_loss: 0.0160\n",
      "Epoch 13/20\n",
      "48000/48000 [==============================] - 7s 154us/step - loss: 0.0132 - val_loss: 0.0151\n",
      "Epoch 14/20\n",
      "48000/48000 [==============================] - 7s 154us/step - loss: 0.0128 - val_loss: 0.0151\n",
      "Epoch 15/20\n",
      "48000/48000 [==============================] - 7s 154us/step - loss: 0.0125 - val_loss: 0.0145\n",
      "Epoch 16/20\n",
      "48000/48000 [==============================] - 8s 164us/step - loss: 0.0121 - val_loss: 0.0146\n",
      "Epoch 17/20\n",
      "48000/48000 [==============================] - 7s 154us/step - loss: 0.0118 - val_loss: 0.0146\n",
      "Epoch 18/20\n",
      "48000/48000 [==============================] - 7s 155us/step - loss: 0.0116 - val_loss: 0.0142\n",
      "Epoch 19/20\n",
      "48000/48000 [==============================] - 8s 158us/step - loss: 0.0113 - val_loss: 0.0142\n",
      "Epoch 20/20\n",
      "48000/48000 [==============================] - 7s 154us/step - loss: 0.0111 - val_loss: 0.0145\n"
     ]
    }
   ],
   "source": [
    "# Autoencoder with L1 activity regularizer\n",
    "x0 = layers.Input(shape=(784,), dtype = 'float32')\n",
    "code_layer = layers.Dense(36*36, activity_regularizer = regularizers.l1(1e-8), activation='relu')\n",
    "code = code_layer(x0)\n",
    "decode_layer = layers.Dense(784, activation='sigmoid')\n",
    "decode = decode_layer(code)\n",
    "\n",
    "m = models.Model(inputs = x0, outputs = decode)\n",
    "m.summary()\n",
    "\n",
    "m.compile(optimizer=optimizers.rmsprop(), \n",
    "          loss=losses.mean_squared_error)\n",
    "\n",
    "h = m.fit(x_train_noisy,x_train,\n",
    "         batch_size = 500, epochs = 20, validation_split = .2)"
   ]
  },
  {
   "cell_type": "code",
   "execution_count": 125,
   "metadata": {},
   "outputs": [
    {
     "data": {
      "image/png": "[encoded data removed]",
      "text/plain": [
       "<Figure size 720x288 with 20 Axes>"
      ]
     },
     "metadata": {
      "needs_background": "light"
     },
     "output_type": "display_data"
    }
   ],
   "source": [
    "#display original, noisy and reconstruction\n",
    "decoded_imgs = m.predict(x_test_noisy)\n",
    "import matplotlib.pyplot as plt\n",
    "%matplotlib inline\n",
    "\n",
    "n = 10  # how many digits we will display\n",
    "plt.figure(figsize=(10, 4))\n",
    "for i in range(n):\n",
    "    # display original\n",
    "    ax = plt.subplot(2, n, i + 1)\n",
    "    plt.imshow(x_test[i].reshape(28, 28))\n",
    "    plt.gray()\n",
    "    ax.get_xaxis().set_visible(False)\n",
    "    ax.get_yaxis().set_visible(False)\n",
    "    \n",
    "    # display reconstruction\n",
    "    ax = plt.subplot(2, n, i + 1 + n)\n",
    "    plt.imshow(decoded_imgs[i].reshape(28, 28))\n",
    "    plt.gray()\n",
    "    ax.get_xaxis().set_visible(False)\n",
    "    ax.get_yaxis().set_visible(False)\n",
    "plt.show()"
   ]
  },
  {
   "cell_type": "markdown",
   "metadata": {},
   "source": [
    "## Variational Autoencoders"
   ]
  },
  {
   "cell_type": "code",
   "execution_count": null,
   "metadata": {},
   "outputs": [],
   "source": [
    "from IPython.display import display_html\n",
    "def restartkernel():\n",
    "    display_html(\"<script>Jupyter.notebook.kernel.restart()</script>\",raw=True)\n",
    "restartkernel()    "
   ]
  },
  {
   "cell_type": "code",
   "execution_count": null,
   "metadata": {},
   "outputs": [],
   "source": [
    "from keras.datasets import mnist\n",
    "from keras.layers import Input, Dense, Lambda\n",
    "from keras.models import Model\n",
    "from keras.objectives import binary_crossentropy, mse\n",
    "\n",
    "import numpy as np\n",
    "import matplotlib.pyplot as plt\n",
    "import keras.backend as K"
   ]
  },
  {
   "cell_type": "markdown",
   "metadata": {
    "collapsed": true
   },
   "source": [
    "A variational autoencoder is an autoencoder that adds probabilistic constraints on the representations being learned. \n",
    "\n",
    "> When using probabilistic models, **compressed representation** is called **latent variable model**. \n",
    "\n",
    "So, instead of learning a function this model is learning a probabilistic distribution function that models your data.\n",
    "\n",
    "> Why? Standard autoencoders are not suited to work as a generative model. If you pick a random value for your decoder you won't get necessarily a good reconstruction: the value can far away from any previous value the network has seen before! That's why attaching a probabilistic model to the compressed representation is a good idea! \n",
    "\n",
    "For sake of simplicity, let's use a standard normal distribution to define the distribution of inputs ($\\mathbf V$) the decoder will receive. \n",
    "\n",
    "The architecture of a variational autoencoder (VAE) is thus:"
   ]
  },
  {
   "cell_type": "markdown",
   "metadata": {},
   "source": [
    "<center>\n",
    "<img src=\"http://ijdykeman.github.io/assets/cvae_figures/ae_diagram.svg\" alt=\"\" style=\"width: 300px;\"/> \n",
    "(Source: http://ijdykeman.github.io/ml/2016/12/21/cvae.html)\n",
    "</center>"
   ]
  },
  {
   "cell_type": "markdown",
   "metadata": {},
   "source": [
    "We want the decoder to take any point taken from a standard normal distribution to return a reasonable element of our dataset:\n",
    "\n",
    "<center>\n",
    "<img src=\"http://ijdykeman.github.io/assets/cvae_figures/vae_decoder_diagram.svg\" alt=\"\" style=\"width: 500px;\"/> \n",
    "(Source: http://ijdykeman.github.io/ml/2016/12/21/cvae.html)\n",
    "</center>"
   ]
  },
  {
   "cell_type": "markdown",
   "metadata": {},
   "source": [
    "Let's consider the encoder role in this architecture. \n",
    "\n",
    "In a traditional autoencoder, the encoder model takes a sample from data and returns a single point in the latent space, which is then passed to the decoder.\n",
    "\n",
    "> What information is encoded in the latent space?\n",
    "\n",
    "In VAE the encoder instead produces (the parameters of) a probability distribution in the latent space:\n",
    "\n",
    "<center>\n",
    "<img src=\"http://ijdykeman.github.io/assets/cvae_figures/encoder_vae_diagram.svg\" alt=\"\" style=\"width: 500px;\"/> \n",
    "(Source: http://ijdykeman.github.io/ml/2016/12/21/cvae.html)\n",
    "</center>\n",
    "\n",
    "These distributions are (non standard) Gaussians of the same dimensionality as the latent space. "
   ]
  },
  {
   "cell_type": "markdown",
   "metadata": {},
   "source": [
    "First, let’s implement the encoder net, which takes input $X$ and outputs two things: $\\mu(X)$ and $\\Sigma(X)$, the parameters of the Gaussian. Our encoder will be a neural net with one hidden layer. \n",
    "\n",
    "Our latent variable is two dimensional, so that we could easily visualize it."
   ]
  },
  {
   "cell_type": "markdown",
   "metadata": {},
   "source": [
    "Load data with labels for visualization purposes"
   ]
  },
  {
   "cell_type": "code",
   "execution_count": null,
   "metadata": {},
   "outputs": [],
   "source": [
    "# MNIST dataset\n"
   ]
  },
  {
   "cell_type": "code",
   "execution_count": null,
   "metadata": {},
   "outputs": [],
   "source": [
    "# network parameters\n",
    "input_shape = (original_dim, )\n",
    "intermediate_dim = 512\n",
    "batch_size = 100\n",
    "latent_dim = 2\n",
    "epochs = 25\n",
    "epsilon_std=0.05 # This parameter is the most critical one, as it determines the sampling"
   ]
  },
  {
   "cell_type": "raw",
   "metadata": {},
   "source": [
    "Create a decoder architecture"
   ]
  },
  {
   "cell_type": "code",
   "execution_count": null,
   "metadata": {},
   "outputs": [],
   "source": []
  },
  {
   "cell_type": "markdown",
   "metadata": {},
   "source": [
    "Up to now we have an encoder that takes images and produce (the parameters of) a pdf in the latent space.  The decoder takes points in the latent space and return reconstructions.\n",
    "\n",
    "How do we connect both models? By sampling from the produced distribution!\n",
    "\n",
    "\n",
    "<center>\n",
    "<img src=\"http://ijdykeman.github.io/assets/cvae_figures/vae_diagram.svg\" alt=\"\" style=\"width: 400px;\"/> \n",
    "(Source: http://ijdykeman.github.io/ml/2016/12/21/cvae.html)\n",
    "</center>"
   ]
  },
  {
   "cell_type": "markdown",
   "metadata": {},
   "source": [
    "To this end we will implement a *random variate reparameterisation*: the substitution of a random variable by a deterministic transformation of a simpler random variable.\n",
    "\n",
    "There are several methods by which non-uniform random numbers, or random variates, can be generated. The most popular methods are the **one-liners**, which give us the simple tools to generate random variates in one line of code, following the classic paper by Luc Devroye (Luc Devroye, Random variate generation in one line of code, Proceedings of the 28th conference on Winter simulation, 1996).\n",
    "\n",
    "In the case of a Gaussian, we can use the following algorithm:\n",
    "+ Generate $\\epsilon \\sim \\mathcal{N}(0;1)$.\n",
    "+ Compute a sample from $\\mathcal{N}(\\mu; RR^T)$ as $\\mu + R \\epsilon$."
   ]
  },
  {
   "cell_type": "code",
   "execution_count": null,
   "metadata": {},
   "outputs": [],
   "source": [
    "#Implement the above formula\n",
    "\n",
    "def sampling(args):\n",
    "    return \n",
    "\n",
    "# note that \"output_shape\" isn't necessary with the TensorFlow backend\n",
    "# so you could write `Lambda(sampling)([z_mean, z_log_sigma])`\n",
    "z = Lambda(sampling, output_shape=(latent_dim,))([z_mean, z_log_sigma])"
   ]
  },
  {
   "cell_type": "markdown",
   "metadata": {},
   "source": [
    "Now we can create the decoder net:"
   ]
  },
  {
   "cell_type": "code",
   "execution_count": null,
   "metadata": {},
   "outputs": [],
   "source": []
  },
  {
   "cell_type": "markdown",
   "metadata": {},
   "source": [
    "Lastly, from this model, we can do three things: reconstruct inputs, encode inputs into latent variables, and generate data from latent variable. "
   ]
  },
  {
   "cell_type": "code",
   "execution_count": null,
   "metadata": {},
   "outputs": [],
   "source": []
  },
  {
   "cell_type": "markdown",
   "metadata": {},
   "source": [
    "In order to be coherent with our previous definitions, we must assure that points sampled fron the latent space fit a standard normal distribition, but the encoder is producing non standard normal distributions. So, we must add a constraint for getting something like this:\n",
    "\n",
    "<center>\n",
    "<img src=\"http://ijdykeman.github.io/assets/cvae_figures/kl_divergence_diagram.svg\" alt=\"\" style=\"width: 700px;\"/> \n",
    "(Source: http://ijdykeman.github.io/ml/2016/12/21/cvae.html)\n",
    "</center>\n",
    "\n",
    "In order to impose this constraint in the loss function by using the Kullback-Leibler divergence.\n",
    "\n",
    "> The Kullback–Leibler divergence is a measure of how one probability distribution diverges from a second expected probability distribution. \n",
    "For discrete probability distributions $P$ and $Q$, the Kullback–Leibler divergence from $Q$ to $P$ is defined to be\n",
    "$$ D_{\\mathrm {KL} }(P\\|Q)=\\sum _{i}P(i)\\,\\log {\\frac {P(i)}{Q(i)}}. $$\n",
    "\n",
    "The rest of the loss function must take into account the \"reconstruction\" error."
   ]
  },
  {
   "cell_type": "code",
   "execution_count": null,
   "metadata": {},
   "outputs": [],
   "source": [
    "from keras.losses import mse, binary_crossentropy\n",
    "def vae_loss(y_true, y_pred):\n",
    "    \"\"\" \n",
    "    Calculate loss = reconstruction loss + \n",
    "    KL loss for each data in minibatch \n",
    "    \"\"\"\n",
    "    return "
   ]
  },
  {
   "cell_type": "markdown",
   "metadata": {},
   "source": [
    "### Training a VAE\n",
    "\n",
    "How do we train a model that have a sampling step? \n",
    "\n",
    "<center>\n",
    "<img src=\"images/vae_sampling.png\" alt=\"\" style=\"width: 800px;\"/> \n",
    "</center>\n",
    "\n",
    "In fact this is not a problem! By using the *one-linear* method for sampling we have expressed the latent distribution in a way that its parameters are factored out of the parameters of the random variable so that backpropagation can be used to find the optimal parameters of the latent distribution. For this reason this method is called *reparametrization trick*.\n",
    "\n",
    "By using this trick we can train end-to-end a VAE with backpropagation."
   ]
  },
  {
   "cell_type": "code",
   "execution_count": null,
   "metadata": {},
   "outputs": [],
   "source": []
  },
  {
   "cell_type": "markdown",
   "metadata": {},
   "source": [
    "## Visualization"
   ]
  },
  {
   "cell_type": "code",
   "execution_count": null,
   "metadata": {},
   "outputs": [],
   "source": []
  },
  {
   "cell_type": "markdown",
   "metadata": {},
   "source": [
    "# Excercises\n",
    "\n",
    "* Play with the smapling parameter epsilon_std\n",
    "* Create a VAE model with several layers (deep AE)\n",
    "* Change the reconstruction loss to mse or mae"
   ]
  },
  {
   "cell_type": "markdown",
   "metadata": {},
   "source": [
    "## Deeper network"
   ]
  },
  {
   "cell_type": "code",
   "execution_count": null,
   "metadata": {},
   "outputs": [],
   "source": [
    "from IPython.display import display_html\n",
    "def restartkernel():\n",
    "    display_html(\"<script>Jupyter.notebook.kernel.restart()</script>\",raw=True)\n",
    "restartkernel()    "
   ]
  },
  {
   "cell_type": "code",
   "execution_count": null,
   "metadata": {
    "scrolled": true
   },
   "outputs": [],
   "source": [
    "from keras.datasets import mnist\n",
    "from keras.layers import Input, Dense, Lambda\n",
    "from keras.models import Model\n",
    "from keras.objectives import binary_crossentropy\n",
    "\n",
    "import numpy as np\n",
    "import matplotlib.pyplot as plt\n",
    "import keras.backend as K"
   ]
  },
  {
   "cell_type": "code",
   "execution_count": null,
   "metadata": {},
   "outputs": [],
   "source": [
    "# MNIST dataset\n"
   ]
  },
  {
   "cell_type": "code",
   "execution_count": null,
   "metadata": {},
   "outputs": [],
   "source": [
    "# network parameters\n",
    "input_shape = (original_dim, )\n",
    "intermediate_dim = [512, 128, 32]\n",
    "batch_size = 100\n",
    "latent_dim = 2\n",
    "epochs = 30\n",
    "epsilon_std = 1e-3 # This parameter is the most critical one, as it determines the sampling"
   ]
  },
  {
   "cell_type": "code",
   "execution_count": null,
   "metadata": {},
   "outputs": [],
   "source": [
    "# VAE model\n"
   ]
  },
  {
   "cell_type": "code",
   "execution_count": null,
   "metadata": {},
   "outputs": [],
   "source": [
    "# Predict\n"
   ]
  },
  {
   "cell_type": "code",
   "execution_count": null,
   "metadata": {},
   "outputs": [],
   "source": [
    "# Plot results\n"
   ]
  },
  {
   "cell_type": "markdown",
   "metadata": {},
   "source": [
    "## mse error"
   ]
  },
  {
   "cell_type": "code",
   "execution_count": null,
   "metadata": {},
   "outputs": [],
   "source": [
    "from IPython.display import display_html\n",
    "def restartkernel():\n",
    "    display_html(\"<script>Jupyter.notebook.kernel.restart()</script>\",raw=True)\n",
    "restartkernel()    "
   ]
  },
  {
   "cell_type": "code",
   "execution_count": null,
   "metadata": {
    "scrolled": true
   },
   "outputs": [],
   "source": [
    "from keras.datasets import mnist\n",
    "from keras.layers import Input, Dense, Lambda\n",
    "from keras.models import Model\n",
    "from keras.objectives import binary_crossentropy, mse\n",
    "\n",
    "import numpy as np\n",
    "import matplotlib.pyplot as plt\n",
    "import keras.backend as K"
   ]
  },
  {
   "cell_type": "code",
   "execution_count": null,
   "metadata": {},
   "outputs": [],
   "source": [
    "# MNIST dataset\n"
   ]
  },
  {
   "cell_type": "code",
   "execution_count": null,
   "metadata": {},
   "outputs": [],
   "source": [
    "# network parameters\n",
    "input_shape = (original_dim, )\n",
    "intermediate_dim = 512\n",
    "batch_size = 100\n",
    "latent_dim = 2\n",
    "epochs = 25\n",
    "epsilon_std = 5e-4\n",
    "\n"
   ]
  },
  {
   "cell_type": "code",
   "execution_count": null,
   "metadata": {},
   "outputs": [],
   "source": [
    "# VAE model\n"
   ]
  },
  {
   "cell_type": "code",
   "execution_count": null,
   "metadata": {},
   "outputs": [],
   "source": [
    "# Predict\n"
   ]
  },
  {
   "cell_type": "code",
   "execution_count": null,
   "metadata": {},
   "outputs": [],
   "source": [
    "#Plot results\n"
   ]
  },
  {
   "cell_type": "code",
   "execution_count": null,
   "metadata": {},
   "outputs": [],
   "source": []
  }
 ],
 "metadata": {
  "kernelspec": {
   "display_name": "Python [conda env:ks_dl_course]",
   "language": "python",
   "name": "conda-env-ks_dl_course-py"
  },
  "language_info": {
   "codemirror_mode": {
    "name": "ipython",
    "version": 3
   },
   "file_extension": ".py",
   "mimetype": "text/x-python",
   "name": "python",
   "nbconvert_exporter": "python",
   "pygments_lexer": "ipython3",
   "version": "3.6.6"
  }
 },
 "nbformat": 4,
 "nbformat_minor": 1
}
