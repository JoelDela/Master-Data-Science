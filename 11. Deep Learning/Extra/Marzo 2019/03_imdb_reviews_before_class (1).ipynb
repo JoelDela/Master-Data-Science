{
  "nbformat": 4,
  "nbformat_minor": 0,
  "metadata": {
    "colab": {
      "name": "03_imdb_reviews_before_class.ipynb",
      "version": "0.3.2",
      "provenance": []
    },
    "kernelspec": {
      "display_name": "Python 3",
      "language": "python",
      "name": "python3"
    },
    "accelerator": "GPU"
  },
  "cells": [
    {
      "metadata": {
        "id": "TyDo1eaNjGuD",
        "colab_type": "text"
      },
      "cell_type": "markdown",
      "source": [
        "# Working with text\n",
        "\n",
        "In this problem, we will load movie reviews from IMDB, a famous movie database and website, and we will try to predict whether the review is positive or negative."
      ]
    },
    {
      "metadata": {
        "id": "I-NeJwlVjGuE",
        "colab_type": "text"
      },
      "cell_type": "markdown",
      "source": [
        "First, the function we will use to diagnose the performance of our model"
      ]
    },
    {
      "metadata": {
        "id": "fZll7ySYjGuF",
        "colab_type": "code",
        "colab": {
          "base_uri": "https://localhost:8080/",
          "height": 34
        },
        "outputId": "591b674b-3caa-4953-bba1-ebfdfd1440f6"
      },
      "cell_type": "code",
      "source": [
        "%pylab inline\n",
        "plt.style.use('seaborn-talk')"
      ],
      "execution_count": 1,
      "outputs": [
        {
          "output_type": "stream",
          "text": [
            "Populating the interactive namespace from numpy and matplotlib\n"
          ],
          "name": "stdout"
        }
      ]
    },
    {
      "metadata": {
        "id": "t9AOqkoyjGuK",
        "colab_type": "code",
        "colab": {}
      },
      "cell_type": "code",
      "source": [
        "def plot_metric(history, metric):\n",
        "    history_dict = history.history\n",
        "    values = history_dict[metric]\n",
        "    if 'val_' + metric in history_dict.keys():  \n",
        "        val_values = history_dict['val_' + metric]\n",
        "\n",
        "    epochs = range(1, len(values) + 1)\n",
        "\n",
        "    if 'val_' + metric in history_dict.keys():  \n",
        "        plt.plot(epochs, val_values, label='Validation')\n",
        "    plt.semilogy(epochs, values, label='Training')\n",
        "\n",
        "    if 'val_' + metric in history_dict.keys():  \n",
        "        plt.title('Training and validation %s' % metric)\n",
        "    else:\n",
        "        plt.title('Training %s' % metric)\n",
        "    plt.xlabel('Epochs')\n",
        "    plt.ylabel(metric.capitalize())\n",
        "    plt.legend()\n",
        "    plt.grid()\n",
        "\n",
        "    plt.show()  "
      ],
      "execution_count": 0,
      "outputs": []
    },
    {
      "metadata": {
        "id": "dQfLSBUnjGuM",
        "colab_type": "text"
      },
      "cell_type": "markdown",
      "source": [
        "## Input data"
      ]
    },
    {
      "metadata": {
        "id": "FiDvtBkIjGuN",
        "colab_type": "code",
        "colab": {
          "base_uri": "https://localhost:8080/",
          "height": 34
        },
        "outputId": "e2275913-39ef-4912-9e50-f41cb2a84e27"
      },
      "cell_type": "code",
      "source": [
        "from keras.datasets import imdb"
      ],
      "execution_count": 3,
      "outputs": [
        {
          "output_type": "stream",
          "text": [
            "Using TensorFlow backend.\n"
          ],
          "name": "stderr"
        }
      ]
    },
    {
      "metadata": {
        "id": "UQRAzUk_jGuQ",
        "colab_type": "code",
        "colab": {
          "base_uri": "https://localhost:8080/",
          "height": 51
        },
        "outputId": "d05db39a-eed6-4398-d46d-bec1f89be3d0"
      },
      "cell_type": "code",
      "source": [
        "# Run this to download the data prior to the lecture\n",
        "train, test = imdb.load_data(num_words=10000)"
      ],
      "execution_count": 4,
      "outputs": [
        {
          "output_type": "stream",
          "text": [
            "Downloading data from https://s3.amazonaws.com/text-datasets/imdb.npz\n",
            "17465344/17464789 [==============================] - 9s 0us/step\n"
          ],
          "name": "stdout"
        }
      ]
    },
    {
      "metadata": {
        "id": "7xrokeC9jGuS",
        "colab_type": "code",
        "colab": {
          "base_uri": "https://localhost:8080/",
          "height": 34
        },
        "outputId": "c5efa172-764f-4d9a-8243-3221bd6f90ab"
      },
      "cell_type": "code",
      "source": [
        "type(train)"
      ],
      "execution_count": 6,
      "outputs": [
        {
          "output_type": "execute_result",
          "data": {
            "text/plain": [
              "tuple"
            ]
          },
          "metadata": {
            "tags": []
          },
          "execution_count": 6
        }
      ]
    },
    {
      "metadata": {
        "id": "c1ENILxfsXv_",
        "colab_type": "code",
        "colab": {}
      },
      "cell_type": "code",
      "source": [
        "train_text, train_labels = train\n",
        "test_text, test_labels = test"
      ],
      "execution_count": 0,
      "outputs": []
    },
    {
      "metadata": {
        "id": "s9QklYT0skS0",
        "colab_type": "code",
        "colab": {
          "base_uri": "https://localhost:8080/",
          "height": 34
        },
        "outputId": "36234538-a6d3-4d2a-a2e4-e6f61cfb8569"
      },
      "cell_type": "code",
      "source": [
        "train_text[4][0:10]"
      ],
      "execution_count": 11,
      "outputs": [
        {
          "output_type": "execute_result",
          "data": {
            "text/plain": [
              "[1, 249, 1323, 7, 61, 113, 10, 10, 13, 1637]"
            ]
          },
          "metadata": {
            "tags": []
          },
          "execution_count": 11
        }
      ]
    },
    {
      "metadata": {
        "id": "c71fadR-spRw",
        "colab_type": "code",
        "colab": {
          "base_uri": "https://localhost:8080/",
          "height": 34
        },
        "outputId": "42658fd2-9488-4dae-a2d5-e131a94c94b6"
      },
      "cell_type": "code",
      "source": [
        "train_labels[4]"
      ],
      "execution_count": 12,
      "outputs": [
        {
          "output_type": "execute_result",
          "data": {
            "text/plain": [
              "0"
            ]
          },
          "metadata": {
            "tags": []
          },
          "execution_count": 12
        }
      ]
    },
    {
      "metadata": {
        "id": "XQTCGXOgjGuU",
        "colab_type": "text"
      },
      "cell_type": "markdown",
      "source": [
        "Why are these *texts* numbers?"
      ]
    },
    {
      "metadata": {
        "id": "9I8oAxVIjGuV",
        "colab_type": "code",
        "colab": {}
      },
      "cell_type": "code",
      "source": [
        ""
      ],
      "execution_count": 0,
      "outputs": []
    },
    {
      "metadata": {
        "id": "-hId3XxVjGuX",
        "colab_type": "text"
      },
      "cell_type": "markdown",
      "source": [
        "These are actually indices in a word index"
      ]
    },
    {
      "metadata": {
        "id": "mWhsUWjhjGuY",
        "colab_type": "code",
        "colab": {
          "base_uri": "https://localhost:8080/",
          "height": 51
        },
        "outputId": "d7604a70-3a5f-4305-c661-1bbfd60d3bbe"
      },
      "cell_type": "code",
      "source": [
        "word_index = imdb.get_word_index()"
      ],
      "execution_count": 13,
      "outputs": [
        {
          "output_type": "stream",
          "text": [
            "Downloading data from https://s3.amazonaws.com/text-datasets/imdb_word_index.json\n",
            "1646592/1641221 [==============================] - 1s 1us/step\n"
          ],
          "name": "stdout"
        }
      ]
    },
    {
      "metadata": {
        "id": "2TeOqvA0jGuc",
        "colab_type": "code",
        "colab": {
          "base_uri": "https://localhost:8080/",
          "height": 34
        },
        "outputId": "19843a97-0582-4f1d-c041-8f8de69522a4"
      },
      "cell_type": "code",
      "source": [
        "word_index['car']"
      ],
      "execution_count": 14,
      "outputs": [
        {
          "output_type": "execute_result",
          "data": {
            "text/plain": [
              "516"
            ]
          },
          "metadata": {
            "tags": []
          },
          "execution_count": 14
        }
      ]
    },
    {
      "metadata": {
        "id": "VTC4dBFgjGuh",
        "colab_type": "code",
        "colab": {}
      },
      "cell_type": "code",
      "source": [
        "reversed_word_index = dict((value, key) for (key, value) in word_index.items())"
      ],
      "execution_count": 0,
      "outputs": []
    },
    {
      "metadata": {
        "id": "bi2XpvHqjGuj",
        "colab_type": "code",
        "colab": {}
      },
      "cell_type": "code",
      "source": [
        "def get_text_from_vector(v):\n",
        "    return ' '.join(reversed_word_index.get(i-3, '?') for i in v)"
      ],
      "execution_count": 0,
      "outputs": []
    },
    {
      "metadata": {
        "id": "BtHTtwXDjGul",
        "colab_type": "code",
        "colab": {
          "base_uri": "https://localhost:8080/",
          "height": 34
        },
        "outputId": "af5a710a-88dc-4805-8100-9e3a146f00a1"
      },
      "cell_type": "code",
      "source": [
        "get_text_from_vector(train_text[4][0:10])"
      ],
      "execution_count": 17,
      "outputs": [
        {
          "output_type": "execute_result",
          "data": {
            "text/plain": [
              "'? worst mistake of my life br br i picked'"
            ]
          },
          "metadata": {
            "tags": []
          },
          "execution_count": 17
        }
      ]
    },
    {
      "metadata": {
        "id": "VQ0C-r8_jGup",
        "colab_type": "text"
      },
      "cell_type": "markdown",
      "source": [
        "### Prepare data for the network\n",
        "\n",
        "We need to prepare the data to be an input to the neural network. The input must be a **tensor**. In our case, all vectors should be of the same length. But not all reviews are of the same size, so the vectors will have different sizes. How can we overcome this problem?\n",
        "\n",
        "* We can zero-pad the vectors, so all of them have the same size, and then combine them in a tensor. We would need to add an *Embedding* layer to learn **word embeddings** (more later)\n",
        "* Or we can use 1-HOT encoding\n",
        "\n",
        "In both cases, we will have vectors of size $10^4$ (the maximum number of words). Let's go with the 1-HOT encoding."
      ]
    },
    {
      "metadata": {
        "id": "e-El_m4UjGur",
        "colab_type": "code",
        "colab": {}
      },
      "cell_type": "code",
      "source": [
        "from keras.preprocessing import text"
      ],
      "execution_count": 0,
      "outputs": []
    },
    {
      "metadata": {
        "id": "Gsvxs41juvlM",
        "colab_type": "code",
        "colab": {
          "base_uri": "https://localhost:8080/",
          "height": 34
        },
        "outputId": "8f9b9986-6819-4afc-8d2c-c6f658450ed7"
      },
      "cell_type": "code",
      "source": [
        "len(train_text[2])"
      ],
      "execution_count": 25,
      "outputs": [
        {
          "output_type": "execute_result",
          "data": {
            "text/plain": [
              "141"
            ]
          },
          "metadata": {
            "tags": []
          },
          "execution_count": 25
        }
      ]
    },
    {
      "metadata": {
        "id": "H2heB7uquzCy",
        "colab_type": "code",
        "colab": {
          "base_uri": "https://localhost:8080/",
          "height": 34
        },
        "outputId": "c50ce2da-6204-4a8e-cfd2-5b052e80dbe1"
      },
      "cell_type": "code",
      "source": [
        "len(test_text[456])"
      ],
      "execution_count": 28,
      "outputs": [
        {
          "output_type": "execute_result",
          "data": {
            "text/plain": [
              "63"
            ]
          },
          "metadata": {
            "tags": []
          },
          "execution_count": 28
        }
      ]
    },
    {
      "metadata": {
        "id": "yAD5PFS2vpv3",
        "colab_type": "code",
        "colab": {}
      },
      "cell_type": "code",
      "source": [
        "tokenizer = text.Tokenizer(num_words=10000)"
      ],
      "execution_count": 0,
      "outputs": []
    },
    {
      "metadata": {
        "id": "HZA14kvIvESO",
        "colab_type": "code",
        "colab": {}
      },
      "cell_type": "code",
      "source": [
        "train_text_m = tokenizer.sequences_to_matrix(train_text, mode='binary')"
      ],
      "execution_count": 0,
      "outputs": []
    },
    {
      "metadata": {
        "id": "WNcDgRWrwDh6",
        "colab_type": "code",
        "colab": {
          "base_uri": "https://localhost:8080/",
          "height": 34
        },
        "outputId": "89dbf672-163d-49fb-df9e-c4f54a67c39b"
      },
      "cell_type": "code",
      "source": [
        "train_text_m.shape"
      ],
      "execution_count": 32,
      "outputs": [
        {
          "output_type": "execute_result",
          "data": {
            "text/plain": [
              "(25000, 10000)"
            ]
          },
          "metadata": {
            "tags": []
          },
          "execution_count": 32
        }
      ]
    },
    {
      "metadata": {
        "id": "buXb8DUxwNMv",
        "colab_type": "code",
        "colab": {
          "base_uri": "https://localhost:8080/",
          "height": 51
        },
        "outputId": "7ad37d1a-257f-4be0-94be-30d03b271e15"
      },
      "cell_type": "code",
      "source": [
        "train_text_m[0][0:25]"
      ],
      "execution_count": 33,
      "outputs": [
        {
          "output_type": "execute_result",
          "data": {
            "text/plain": [
              "array([0., 1., 1., 0., 1., 1., 1., 1., 1., 1., 0., 0., 1., 1., 1., 1., 1.,\n",
              "       1., 1., 1., 0., 1., 1., 0., 0.])"
            ]
          },
          "metadata": {
            "tags": []
          },
          "execution_count": 33
        }
      ]
    },
    {
      "metadata": {
        "id": "rzemKJ7cwwhL",
        "colab_type": "code",
        "colab": {
          "base_uri": "https://localhost:8080/",
          "height": 34
        },
        "outputId": "be9252b0-3196-4f9c-d475-4a9862ad4ef7"
      },
      "cell_type": "code",
      "source": [
        "train_labels.shape"
      ],
      "execution_count": 34,
      "outputs": [
        {
          "output_type": "execute_result",
          "data": {
            "text/plain": [
              "(25000,)"
            ]
          },
          "metadata": {
            "tags": []
          },
          "execution_count": 34
        }
      ]
    },
    {
      "metadata": {
        "id": "9hK3PL2MwygH",
        "colab_type": "code",
        "colab": {
          "base_uri": "https://localhost:8080/",
          "height": 34
        },
        "outputId": "17e13195-7433-4d44-a55e-550a6962d35a"
      },
      "cell_type": "code",
      "source": [
        "train_labels[0:10]"
      ],
      "execution_count": 35,
      "outputs": [
        {
          "output_type": "execute_result",
          "data": {
            "text/plain": [
              "array([1, 0, 0, 1, 0, 0, 1, 0, 1, 0])"
            ]
          },
          "metadata": {
            "tags": []
          },
          "execution_count": 35
        }
      ]
    },
    {
      "metadata": {
        "id": "KRjjt_2RxaSy",
        "colab_type": "code",
        "colab": {}
      },
      "cell_type": "code",
      "source": [
        "test_text_m = tokenizer.sequences_to_matrix(test_text, mode='binary')"
      ],
      "execution_count": 0,
      "outputs": []
    },
    {
      "metadata": {
        "id": "rCHRXrApjGuu",
        "colab_type": "text"
      },
      "cell_type": "markdown",
      "source": [
        "**EXERCISE 1**. Can you see any problem with this approach? How would you solve it?\n",
        "\n",
        "**EXERCISE 2**. Do we need to transform the labels? Why? Or why not?"
      ]
    },
    {
      "metadata": {
        "id": "h21acSQTjGuv",
        "colab_type": "text"
      },
      "cell_type": "markdown",
      "source": [
        "## Let's build the model"
      ]
    },
    {
      "metadata": {
        "id": "Sq9lNgSyjGuw",
        "colab_type": "code",
        "colab": {}
      },
      "cell_type": "code",
      "source": [
        "from keras import models\n",
        "from keras import layers"
      ],
      "execution_count": 0,
      "outputs": []
    },
    {
      "metadata": {
        "id": "yptEeQNtxxWW",
        "colab_type": "code",
        "colab": {}
      },
      "cell_type": "code",
      "source": [
        "m1hot = models.Sequential()\n",
        "m1hot.add(layers.Dense(256, activation='relu', input_shape=(10000,)))\n",
        "m1hot.add(layers.Dense(128, activation='relu'))\n",
        "m1hot.add(layers.Dense(64, activation='relu'))\n",
        "m1hot.add(layers.Dense(1, activation='sigmoid'))"
      ],
      "execution_count": 0,
      "outputs": []
    },
    {
      "metadata": {
        "id": "KffRW_f1zClc",
        "colab_type": "code",
        "colab": {
          "base_uri": "https://localhost:8080/",
          "height": 274
        },
        "outputId": "a95ea90e-55bf-4efb-cc50-8359abf986fd"
      },
      "cell_type": "code",
      "source": [
        "m1hot.summary()"
      ],
      "execution_count": 41,
      "outputs": [
        {
          "output_type": "stream",
          "text": [
            "_________________________________________________________________\n",
            "Layer (type)                 Output Shape              Param #   \n",
            "=================================================================\n",
            "dense_1 (Dense)              (None, 256)               2560256   \n",
            "_________________________________________________________________\n",
            "dense_2 (Dense)              (None, 128)               32896     \n",
            "_________________________________________________________________\n",
            "dense_3 (Dense)              (None, 64)                8256      \n",
            "_________________________________________________________________\n",
            "dense_4 (Dense)              (None, 1)                 65        \n",
            "=================================================================\n",
            "Total params: 2,601,473\n",
            "Trainable params: 2,601,473\n",
            "Non-trainable params: 0\n",
            "_________________________________________________________________\n"
          ],
          "name": "stdout"
        }
      ]
    },
    {
      "metadata": {
        "id": "XkXI_7kbzLPD",
        "colab_type": "code",
        "colab": {}
      },
      "cell_type": "code",
      "source": [
        "from keras import optimizers\n",
        "from keras import losses\n",
        "from keras import metrics"
      ],
      "execution_count": 0,
      "outputs": []
    },
    {
      "metadata": {
        "id": "oNFJZBwezRZW",
        "colab_type": "code",
        "colab": {}
      },
      "cell_type": "code",
      "source": [
        "m1hot.compile(\n",
        "    optimizer=optimizers.rmsprop(),\n",
        "    loss=losses.binary_crossentropy,\n",
        "    metrics=[metrics.binary_accuracy]\n",
        ")"
      ],
      "execution_count": 0,
      "outputs": []
    },
    {
      "metadata": {
        "id": "NqjDjU4Uz0Ze",
        "colab_type": "code",
        "colab": {
          "base_uri": "https://localhost:8080/",
          "height": 740
        },
        "outputId": "6c83381f-54ab-4b96-8dd3-3f0971299347"
      },
      "cell_type": "code",
      "source": [
        "h = m1hot.fit(train_text_m, train_labels, epochs=20, batch_size=1024,\n",
        "             validation_split=.2)"
      ],
      "execution_count": 44,
      "outputs": [
        {
          "output_type": "stream",
          "text": [
            "Train on 20000 samples, validate on 5000 samples\n",
            "Epoch 1/20\n",
            "20000/20000 [==============================] - 3s 143us/step - loss: 0.5741 - binary_accuracy: 0.7293 - val_loss: 0.4608 - val_binary_accuracy: 0.7776\n",
            "Epoch 2/20\n",
            "20000/20000 [==============================] - 2s 83us/step - loss: 0.3128 - binary_accuracy: 0.8744 - val_loss: 0.3061 - val_binary_accuracy: 0.8754\n",
            "Epoch 3/20\n",
            "20000/20000 [==============================] - 2s 85us/step - loss: 0.2222 - binary_accuracy: 0.9104 - val_loss: 0.2829 - val_binary_accuracy: 0.8900\n",
            "Epoch 4/20\n",
            "20000/20000 [==============================] - 2s 86us/step - loss: 0.1780 - binary_accuracy: 0.9305 - val_loss: 0.2697 - val_binary_accuracy: 0.8928\n",
            "Epoch 5/20\n",
            "20000/20000 [==============================] - 2s 86us/step - loss: 0.1249 - binary_accuracy: 0.9539 - val_loss: 0.3212 - val_binary_accuracy: 0.8904\n",
            "Epoch 6/20\n",
            "20000/20000 [==============================] - 2s 87us/step - loss: 0.1201 - binary_accuracy: 0.9609 - val_loss: 0.3072 - val_binary_accuracy: 0.8902\n",
            "Epoch 7/20\n",
            "20000/20000 [==============================] - 2s 87us/step - loss: 0.0248 - binary_accuracy: 0.9944 - val_loss: 0.4305 - val_binary_accuracy: 0.8888\n",
            "Epoch 8/20\n",
            "20000/20000 [==============================] - 2s 86us/step - loss: 0.1528 - binary_accuracy: 0.9705 - val_loss: 0.3583 - val_binary_accuracy: 0.8852\n",
            "Epoch 9/20\n",
            "20000/20000 [==============================] - 2s 86us/step - loss: 0.0100 - binary_accuracy: 0.9994 - val_loss: 0.4740 - val_binary_accuracy: 0.8860\n",
            "Epoch 10/20\n",
            "20000/20000 [==============================] - 2s 86us/step - loss: 0.0034 - binary_accuracy: 0.9995 - val_loss: 0.5598 - val_binary_accuracy: 0.8858\n",
            "Epoch 11/20\n",
            "20000/20000 [==============================] - 2s 86us/step - loss: 0.0012 - binary_accuracy: 0.9998 - val_loss: 0.6338 - val_binary_accuracy: 0.8838\n",
            "Epoch 12/20\n",
            "20000/20000 [==============================] - 2s 87us/step - loss: 2.8925e-04 - binary_accuracy: 1.0000 - val_loss: 0.7358 - val_binary_accuracy: 0.8862\n",
            "Epoch 13/20\n",
            "20000/20000 [==============================] - 2s 86us/step - loss: 8.2733e-05 - binary_accuracy: 1.0000 - val_loss: 0.8016 - val_binary_accuracy: 0.8842\n",
            "Epoch 14/20\n",
            "20000/20000 [==============================] - 2s 86us/step - loss: 2.4515e-05 - binary_accuracy: 1.0000 - val_loss: 0.8654 - val_binary_accuracy: 0.8846\n",
            "Epoch 15/20\n",
            "20000/20000 [==============================] - 2s 86us/step - loss: 7.6869e-06 - binary_accuracy: 1.0000 - val_loss: 0.9245 - val_binary_accuracy: 0.8860\n",
            "Epoch 16/20\n",
            "20000/20000 [==============================] - 2s 86us/step - loss: 2.7794e-06 - binary_accuracy: 1.0000 - val_loss: 0.9649 - val_binary_accuracy: 0.8822\n",
            "Epoch 17/20\n",
            "20000/20000 [==============================] - 2s 86us/step - loss: 1.0196e-06 - binary_accuracy: 1.0000 - val_loss: 1.0016 - val_binary_accuracy: 0.8832\n",
            "Epoch 18/20\n",
            "20000/20000 [==============================] - 2s 86us/step - loss: 4.6499e-07 - binary_accuracy: 1.0000 - val_loss: 1.0315 - val_binary_accuracy: 0.8856\n",
            "Epoch 19/20\n",
            "20000/20000 [==============================] - 2s 86us/step - loss: 2.6209e-07 - binary_accuracy: 1.0000 - val_loss: 1.0535 - val_binary_accuracy: 0.8844\n",
            "Epoch 20/20\n",
            "20000/20000 [==============================] - 2s 86us/step - loss: 1.7991e-07 - binary_accuracy: 1.0000 - val_loss: 1.0715 - val_binary_accuracy: 0.8840\n"
          ],
          "name": "stdout"
        }
      ]
    },
    {
      "metadata": {
        "id": "G05oKlwyjGux",
        "colab_type": "text"
      },
      "cell_type": "markdown",
      "source": [
        "# Analyze performance"
      ]
    },
    {
      "metadata": {
        "id": "QbfQd3qFjGuz",
        "colab_type": "code",
        "colab": {
          "base_uri": "https://localhost:8080/",
          "height": 477
        },
        "outputId": "ea64c703-dab6-43e5-adf4-d7f729046159"
      },
      "cell_type": "code",
      "source": [
        "plot_metric(h, 'loss')"
      ],
      "execution_count": 45,
      "outputs": [
        {
          "output_type": "display_data",
          "data": {
            "image/png": "[encoded data removed]",
            "text/plain": [
              "<matplotlib.figure.Figure at 0x7ffb64b39f28>"
            ]
          },
          "metadata": {
            "tags": []
          }
        }
      ]
    },
    {
      "metadata": {
        "id": "dYfr-GB90kE7",
        "colab_type": "code",
        "colab": {
          "base_uri": "https://localhost:8080/",
          "height": 477
        },
        "outputId": "03038f80-b71b-4f4c-ab73-dbdf044efac0"
      },
      "cell_type": "code",
      "source": [
        "plot_metric(h, 'binary_accuracy')"
      ],
      "execution_count": 46,
      "outputs": [
        {
          "output_type": "display_data",
          "data": {
            "image/png": "[encoded data removed]",
            "text/plain": [
              "<matplotlib.figure.Figure at 0x7ffb69d1af60>"
            ]
          },
          "metadata": {
            "tags": []
          }
        }
      ]
    },
    {
      "metadata": {
        "id": "xDsmXD-ijGu0",
        "colab_type": "text"
      },
      "cell_type": "markdown",
      "source": [
        "We cannot find a satisfactory model with what we have learned so far. Is there any way to have a better representation of text that can provide better results?"
      ]
    },
    {
      "metadata": {
        "id": "GcmJET9SjGu1",
        "colab_type": "code",
        "colab": {
          "base_uri": "https://localhost:8080/",
          "height": 51
        },
        "outputId": "c8c605d1-eb7b-4a8c-b0b2-4bf01cc912f8"
      },
      "cell_type": "code",
      "source": [
        "m1hot.evaluate(test_text_m, test_labels, batch_size=1024)"
      ],
      "execution_count": 47,
      "outputs": [
        {
          "output_type": "stream",
          "text": [
            "25000/25000 [==============================] - 2s 64us/step\n"
          ],
          "name": "stdout"
        },
        {
          "output_type": "execute_result",
          "data": {
            "text/plain": [
              "[1.163825847644806, 0.8748799996566773]"
            ]
          },
          "metadata": {
            "tags": []
          },
          "execution_count": 47
        }
      ]
    },
    {
      "metadata": {
        "id": "ykGzmuXQjGu3",
        "colab_type": "text"
      },
      "cell_type": "markdown",
      "source": [
        "# Word embeddings\n",
        "\n",
        "Using 1-HOT encoded vectors produce large and sparse tensors, that are difficult to learn from using a neural network. Word embeddings are compact vectors, representing words in a vector space. These vectors are learnt in a neural network, with a layer of type *Embedding*. We can also even use pre-trained word embeddings, to improve our model\n",
        "\n",
        "![](./imgs/07_embeddings.png)\n",
        "\n",
        "To generate  an embedding, we need to tokenize the text, transforming words into indices, and then we use these lists of numbers to produce the vectorial representation:\n",
        "\n",
        "![](./imgs/08_embeddings.png)\n",
        "\n",
        "More info:\n",
        "* http://www.offconvex.org/2015/12/12/word-embeddings-1/\n",
        "* http://www.offconvex.org/2016/02/14/word-embeddings-2/"
      ]
    },
    {
      "metadata": {
        "id": "_xKXm5fLjGu3",
        "colab_type": "text"
      },
      "cell_type": "markdown",
      "source": [
        "## Input data for word embeddings"
      ]
    },
    {
      "metadata": {
        "id": "pgLwzyVfjGu3",
        "colab_type": "code",
        "colab": {
          "base_uri": "https://localhost:8080/",
          "height": 34
        },
        "outputId": "01e320b2-dafd-4d71-91a1-c84bb49cbf56"
      },
      "cell_type": "code",
      "source": [
        "train_text.shape"
      ],
      "execution_count": 48,
      "outputs": [
        {
          "output_type": "execute_result",
          "data": {
            "text/plain": [
              "(25000,)"
            ]
          },
          "metadata": {
            "tags": []
          },
          "execution_count": 48
        }
      ]
    },
    {
      "metadata": {
        "id": "PW63ohWR3AHt",
        "colab_type": "code",
        "colab": {
          "base_uri": "https://localhost:8080/",
          "height": 34
        },
        "outputId": "a0784ee6-add0-42da-8ebf-b0425073815c"
      },
      "cell_type": "code",
      "source": [
        "train_labels.shape"
      ],
      "execution_count": 49,
      "outputs": [
        {
          "output_type": "execute_result",
          "data": {
            "text/plain": [
              "(25000,)"
            ]
          },
          "metadata": {
            "tags": []
          },
          "execution_count": 49
        }
      ]
    },
    {
      "metadata": {
        "id": "Z_1dGXAP3C4v",
        "colab_type": "code",
        "colab": {
          "base_uri": "https://localhost:8080/",
          "height": 34
        },
        "outputId": "cef0f65b-5d8f-4438-8498-287e722d4623"
      },
      "cell_type": "code",
      "source": [
        "train_text[4][0:10]"
      ],
      "execution_count": 50,
      "outputs": [
        {
          "output_type": "execute_result",
          "data": {
            "text/plain": [
              "[1, 249, 1323, 7, 61, 113, 10, 10, 13, 1637]"
            ]
          },
          "metadata": {
            "tags": []
          },
          "execution_count": 50
        }
      ]
    },
    {
      "metadata": {
        "id": "IGP3vydi3dma",
        "colab_type": "code",
        "colab": {}
      },
      "cell_type": "code",
      "source": [
        "max_len = 100\n",
        "embedding_dim = 32\n",
        "max_words = 10000"
      ],
      "execution_count": 0,
      "outputs": []
    },
    {
      "metadata": {
        "id": "eA4x5nyw3pEE",
        "colab_type": "code",
        "colab": {}
      },
      "cell_type": "code",
      "source": [
        "from keras.preprocessing import sequence"
      ],
      "execution_count": 0,
      "outputs": []
    },
    {
      "metadata": {
        "id": "PYfw5CE533P6",
        "colab_type": "code",
        "colab": {}
      },
      "cell_type": "code",
      "source": [
        "train_text_p = sequence.pad_sequences(train_text, maxlen=max_len)\n",
        "test_text_p = sequence.pad_sequences(test_text, maxlen=max_len)"
      ],
      "execution_count": 0,
      "outputs": []
    },
    {
      "metadata": {
        "id": "1K6LHKAV4KSg",
        "colab_type": "code",
        "colab": {
          "base_uri": "https://localhost:8080/",
          "height": 34
        },
        "outputId": "3e7fbd89-7597-436a-f9b4-0c459c1d291c"
      },
      "cell_type": "code",
      "source": [
        "train_text_p.shape"
      ],
      "execution_count": 55,
      "outputs": [
        {
          "output_type": "execute_result",
          "data": {
            "text/plain": [
              "(25000, 100)"
            ]
          },
          "metadata": {
            "tags": []
          },
          "execution_count": 55
        }
      ]
    },
    {
      "metadata": {
        "id": "z6vg6XOkjGu5",
        "colab_type": "text"
      },
      "cell_type": "markdown",
      "source": [
        "## Let's build the model with embeddings"
      ]
    },
    {
      "metadata": {
        "id": "7qvZz0pjjGu6",
        "colab_type": "code",
        "colab": {}
      },
      "cell_type": "code",
      "source": [
        "m2emb = models.Sequential()\n",
        "m2emb.add(layers.Embedding(max_words, embedding_dim))\n",
        "m2emb.add(layers.LSTM(32, return_sequences=True))\n",
        "m2emb.add(layers.LSTM(16))\n",
        "m2emb.add(layers.Dense(1, activation='sigmoid'))"
      ],
      "execution_count": 0,
      "outputs": []
    },
    {
      "metadata": {
        "id": "3g6f3LTL5sQf",
        "colab_type": "code",
        "colab": {
          "base_uri": "https://localhost:8080/",
          "height": 274
        },
        "outputId": "be7e677e-cd4b-4373-a024-f2f2f867f9e6"
      },
      "cell_type": "code",
      "source": [
        "m2emb.summary()"
      ],
      "execution_count": 115,
      "outputs": [
        {
          "output_type": "stream",
          "text": [
            "_________________________________________________________________\n",
            "Layer (type)                 Output Shape              Param #   \n",
            "=================================================================\n",
            "embedding_18 (Embedding)     (None, None, 32)          320000    \n",
            "_________________________________________________________________\n",
            "lstm_16 (LSTM)               (None, None, 32)          8320      \n",
            "_________________________________________________________________\n",
            "lstm_17 (LSTM)               (None, 16)                3136      \n",
            "_________________________________________________________________\n",
            "dense_21 (Dense)             (None, 1)                 17        \n",
            "=================================================================\n",
            "Total params: 331,473\n",
            "Trainable params: 331,473\n",
            "Non-trainable params: 0\n",
            "_________________________________________________________________\n"
          ],
          "name": "stdout"
        }
      ]
    },
    {
      "metadata": {
        "id": "guS5gz0I5ULA",
        "colab_type": "code",
        "colab": {}
      },
      "cell_type": "code",
      "source": [
        "m2emb.compile(\n",
        "    optimizer=optimizers.rmsprop(),\n",
        "    loss=losses.binary_crossentropy,\n",
        "    metrics=[metrics.binary_accuracy]\n",
        ")"
      ],
      "execution_count": 0,
      "outputs": []
    },
    {
      "metadata": {
        "id": "f9eKUHlC5fYS",
        "colab_type": "code",
        "colab": {
          "base_uri": "https://localhost:8080/",
          "height": 397
        },
        "outputId": "7ea06412-cab3-4a9e-f4fa-47b3a911c81e"
      },
      "cell_type": "code",
      "source": [
        "h = m2emb.fit(train_text_p, train_labels, epochs=10, batch_size=1024,\n",
        "             validation_split=.2)"
      ],
      "execution_count": 118,
      "outputs": [
        {
          "output_type": "stream",
          "text": [
            "Train on 20000 samples, validate on 5000 samples\n",
            "Epoch 1/10\n",
            "20000/20000 [==============================] - 13s 671us/step - loss: 0.6575 - binary_accuracy: 0.6138 - val_loss: 0.5398 - val_binary_accuracy: 0.7772\n",
            "Epoch 2/10\n",
            "20000/20000 [==============================] - 10s 497us/step - loss: 0.4833 - binary_accuracy: 0.8009 - val_loss: 0.4525 - val_binary_accuracy: 0.8068\n",
            "Epoch 3/10\n",
            "20000/20000 [==============================] - 10s 497us/step - loss: 0.3942 - binary_accuracy: 0.8488 - val_loss: 0.4693 - val_binary_accuracy: 0.8028\n",
            "Epoch 4/10\n",
            "20000/20000 [==============================] - 10s 497us/step - loss: 0.3490 - binary_accuracy: 0.8674 - val_loss: 0.4025 - val_binary_accuracy: 0.8236\n",
            "Epoch 5/10\n",
            "20000/20000 [==============================] - 10s 497us/step - loss: 0.3077 - binary_accuracy: 0.8882 - val_loss: 0.4211 - val_binary_accuracy: 0.8270\n",
            "Epoch 6/10\n",
            "20000/20000 [==============================] - 10s 497us/step - loss: 0.2876 - binary_accuracy: 0.8973 - val_loss: 0.3958 - val_binary_accuracy: 0.8260\n",
            "Epoch 7/10\n",
            "20000/20000 [==============================] - 10s 497us/step - loss: 0.2520 - binary_accuracy: 0.9102 - val_loss: 0.3873 - val_binary_accuracy: 0.8358\n",
            "Epoch 8/10\n",
            "20000/20000 [==============================] - 10s 497us/step - loss: 0.2300 - binary_accuracy: 0.9195 - val_loss: 0.3846 - val_binary_accuracy: 0.8370\n",
            "Epoch 9/10\n",
            "20000/20000 [==============================] - 10s 495us/step - loss: 0.2206 - binary_accuracy: 0.9236 - val_loss: 0.3840 - val_binary_accuracy: 0.8372\n",
            "Epoch 10/10\n",
            "20000/20000 [==============================] - 10s 496us/step - loss: 0.1890 - binary_accuracy: 0.9392 - val_loss: 0.4560 - val_binary_accuracy: 0.8106\n"
          ],
          "name": "stdout"
        }
      ]
    },
    {
      "metadata": {
        "id": "2bOEetQ8jGu8",
        "colab_type": "text"
      },
      "cell_type": "markdown",
      "source": [
        "## Analyze performance"
      ]
    },
    {
      "metadata": {
        "id": "WYxhzf3e7cZI",
        "colab_type": "code",
        "colab": {
          "base_uri": "https://localhost:8080/",
          "height": 477
        },
        "outputId": "5876566e-233e-4053-a729-fceecd330899"
      },
      "cell_type": "code",
      "source": [
        "plot_metric(h, 'loss')"
      ],
      "execution_count": 119,
      "outputs": [
        {
          "output_type": "display_data",
          "data": {
            "image/png": "[encoded data removed]",
            "text/plain": [
              "<matplotlib.figure.Figure at 0x7ffb2a857128>"
            ]
          },
          "metadata": {
            "tags": []
          }
        }
      ]
    },
    {
      "metadata": {
        "id": "AQALLnnA7lK2",
        "colab_type": "code",
        "colab": {
          "base_uri": "https://localhost:8080/",
          "height": 477
        },
        "outputId": "30ab5c74-49cf-4aca-a6d9-be0a91522ecb"
      },
      "cell_type": "code",
      "source": [
        "plot_metric(h, 'binary_accuracy')"
      ],
      "execution_count": 120,
      "outputs": [
        {
          "output_type": "display_data",
          "data": {
            "image/png": "[encoded data removed]",
            "text/plain": [
              "<matplotlib.figure.Figure at 0x7ffb2a978240>"
            ]
          },
          "metadata": {
            "tags": []
          }
        }
      ]
    },
    {
      "metadata": {
        "id": "RPxfVgTYjGu8",
        "colab_type": "text"
      },
      "cell_type": "markdown",
      "source": [
        "Not bad, with just an embedding layer, we get $75\\%$ accuracy"
      ]
    },
    {
      "metadata": {
        "id": "JTe5QfW8jGu9",
        "colab_type": "code",
        "colab": {
          "base_uri": "https://localhost:8080/",
          "height": 34
        },
        "outputId": "b7c1f6b6-26b8-4265-fb9c-0a380079998c"
      },
      "cell_type": "code",
      "source": [
        "loss, acc = m2emb.evaluate(test_text_p, test_labels, batch_size=1024)"
      ],
      "execution_count": 122,
      "outputs": [
        {
          "output_type": "stream",
          "text": [
            "25000/25000 [==============================] - 3s 116us/step\n"
          ],
          "name": "stdout"
        }
      ]
    },
    {
      "metadata": {
        "id": "n8tUOrD_CGbC",
        "colab_type": "code",
        "colab": {
          "base_uri": "https://localhost:8080/",
          "height": 34
        },
        "outputId": "a7d7b6ab-88bd-4cfe-af21-d38e84588388"
      },
      "cell_type": "code",
      "source": [
        "acc"
      ],
      "execution_count": 123,
      "outputs": [
        {
          "output_type": "execute_result",
          "data": {
            "text/plain": [
              "0.8048400002098084"
            ]
          },
          "metadata": {
            "tags": []
          },
          "execution_count": 123
        }
      ]
    },
    {
      "metadata": {
        "id": "g1zImuOXjGu_",
        "colab_type": "text"
      },
      "cell_type": "markdown",
      "source": [
        "How many reviews will be misclassified?"
      ]
    },
    {
      "metadata": {
        "id": "eqXmCpDQjGvA",
        "colab_type": "code",
        "colab": {
          "base_uri": "https://localhost:8080/",
          "height": 34
        },
        "outputId": "138f513e-d7ff-4165-b7f5-a3439fb90605"
      },
      "cell_type": "code",
      "source": [
        "(1-acc)*test_text.shape[0]"
      ],
      "execution_count": 124,
      "outputs": [
        {
          "output_type": "execute_result",
          "data": {
            "text/plain": [
              "4878.99999475479"
            ]
          },
          "metadata": {
            "tags": []
          },
          "execution_count": 124
        }
      ]
    },
    {
      "metadata": {
        "id": "4Sy2pK9XjGvA",
        "colab_type": "text"
      },
      "cell_type": "markdown",
      "source": [
        "Let's check some of the predictions"
      ]
    },
    {
      "metadata": {
        "id": "gs_kmSS6jGvB",
        "colab_type": "code",
        "colab": {}
      },
      "cell_type": "code",
      "source": [
        "# N = 123\n",
        "N = 2344"
      ],
      "execution_count": 0,
      "outputs": []
    },
    {
      "metadata": {
        "id": "wqk09z6BjGvD",
        "colab_type": "code",
        "colab": {
          "base_uri": "https://localhost:8080/",
          "height": 34
        },
        "outputId": "0fb94f33-9806-4ebd-ac4a-e1415efe4775"
      },
      "cell_type": "code",
      "source": [
        "m2emb.predict(test_text_p[N:N+1])[0][0]"
      ],
      "execution_count": 133,
      "outputs": [
        {
          "output_type": "execute_result",
          "data": {
            "text/plain": [
              "0.04262688"
            ]
          },
          "metadata": {
            "tags": []
          },
          "execution_count": 133
        }
      ]
    },
    {
      "metadata": {
        "id": "m9VGaVnVCkju",
        "colab_type": "code",
        "colab": {
          "base_uri": "https://localhost:8080/",
          "height": 34
        },
        "outputId": "f852edc4-a85f-40b5-f604-75e3c30f9847"
      },
      "cell_type": "code",
      "source": [
        "test_labels[N]"
      ],
      "execution_count": 134,
      "outputs": [
        {
          "output_type": "execute_result",
          "data": {
            "text/plain": [
              "0"
            ]
          },
          "metadata": {
            "tags": []
          },
          "execution_count": 134
        }
      ]
    },
    {
      "metadata": {
        "id": "3_jcBb4fCpYx",
        "colab_type": "code",
        "colab": {
          "base_uri": "https://localhost:8080/",
          "height": 54
        },
        "outputId": "bba28116-7885-4a35-fe9d-b763f0633dae"
      },
      "cell_type": "code",
      "source": [
        "get_text_from_vector(test_text[N])"
      ],
      "execution_count": 135,
      "outputs": [
        {
          "output_type": "execute_result",
          "data": {
            "text/plain": [
              "\"? there is a reason ? of the board got a 2 which is too high this movie flat out is one of the worse movies of all time and i seen my share of rotten films ? of the board stars two of the most annoying actors people today ? top and ? ? smith ? top just isn't funny anymore and wasn't in this piece of trash ? ? smith isn't any better just watch according to jim and you will see a prime example of what i am talking about ? of the board got a 1 from me because that is low as you can go it is that bad i am a little shocked that this piece of junk isn't on the imdb bottom 100 somewhere i would put this in the top 5 on that list but its slowly working its way there\""
            ]
          },
          "metadata": {
            "tags": []
          },
          "execution_count": 135
        }
      ]
    },
    {
      "metadata": {
        "id": "Pm6CW-jdjGvF",
        "colab_type": "text"
      },
      "cell_type": "markdown",
      "source": [
        "So this prediction is correct. It says the review is negative. Let's have a look at the text:"
      ]
    },
    {
      "metadata": {
        "id": "-qd1aNXOjGvG",
        "colab_type": "code",
        "colab": {},
        "outputId": "9e6883ce-b7d8-4b87-d142-06121ea081ba"
      },
      "cell_type": "code",
      "source": [
        "get_text_from_vector(test_text[N])"
      ],
      "execution_count": 0,
      "outputs": [
        {
          "output_type": "execute_result",
          "data": {
            "text/plain": [
              "\"? if you believe that any given war movie can make you really feel the war you need to see called the ? are flying in english it tells the story of ? ? and boris who are in love on the verge of wwii they are walking along the ? watching the ? fly by when the war starts boris is promptly sent off to war ? hides out with a family and ends up marrying the son whom she does not love boris meanwhile continues ? through the countryside fighting the nazis and experiencing all the horrors of war until he he runs out of energy when ? working in a military hospital receives this news she refuses to accept it until ? body arrives home on one of the trains simultaneously the radio ? that germany has ? and the allied powers have won the war the soviet union lost 27 million citizens but it's the start of a new era br br this movie did a very good job showing the human impact of the war not only in the battlefield but also how it affected the ? population this is definitely a movie that everyone should see\""
            ]
          },
          "metadata": {
            "tags": []
          },
          "execution_count": 49
        }
      ]
    },
    {
      "metadata": {
        "id": "SqoirLT4jGvH",
        "colab_type": "text"
      },
      "cell_type": "markdown",
      "source": [
        "Can we find all the reviews that are wrongly classified?"
      ]
    },
    {
      "metadata": {
        "id": "lbAKNr5ijGvJ",
        "colab_type": "code",
        "colab": {}
      },
      "cell_type": "code",
      "source": [
        ""
      ],
      "execution_count": 0,
      "outputs": []
    },
    {
      "metadata": {
        "id": "FjQWqt88jGvL",
        "colab_type": "code",
        "colab": {},
        "outputId": "895ca5e9-79f1-4c55-f2db-f8cddb1141ef"
      },
      "cell_type": "code",
      "source": [
        "get_text_from_vector(test_text[3])"
      ],
      "execution_count": 0,
      "outputs": [
        {
          "output_type": "execute_result",
          "data": {
            "text/plain": [
              "\"? i generally love this type of movie however this time i found myself wanting to kick the screen since i can't do that i will just complain about it this was absolutely idiotic the things that happen with the dead kids are very cool but the alive people are absolute idiots i am a grown man pretty big and i can defend myself well however i would not do half the stuff the little girl does in this movie also the mother in this movie is reckless with her children to the point of neglect i wish i wasn't so angry about her and her actions because i would have otherwise enjoyed the flick what a number she was take my advise and fast forward through everything you see her do until the end also is anyone else getting sick of watching movies that are filmed so dark anymore one can hardly see what is being filmed as an audience we are ? involved with the actions on the screen so then why the hell can't we have night vision\""
            ]
          },
          "metadata": {
            "tags": []
          },
          "execution_count": 61
        }
      ]
    },
    {
      "metadata": {
        "id": "_lcI2RKYjGvP",
        "colab_type": "text"
      },
      "cell_type": "markdown",
      "source": [
        "Is the classifier symmetric?"
      ]
    },
    {
      "metadata": {
        "id": "hrKR07VcjGvP",
        "colab_type": "code",
        "colab": {}
      },
      "cell_type": "code",
      "source": [
        ""
      ],
      "execution_count": 0,
      "outputs": []
    },
    {
      "metadata": {
        "id": "RO2TsdfIjGvR",
        "colab_type": "text"
      },
      "cell_type": "markdown",
      "source": [
        "**EXERCISE** Can you construct the confusion matrix for this model? Can you calculate the precision and recall? How does it compare to accuracy?\n",
        "* See https://www.dataschool.io/simple-guide-to-confusion-matrix-terminology/\n",
        "\n",
        "**EXERCISE (more complex)** Keras decided some time ago to remove precision, recall and F1-score from the list of available metrics. Was it a good decision? Why? Why did the Keras' authors did not remove accuracy too?\n",
        "* https://github.com/keras-team/keras/issues/5794\n",
        "* https://github.com/keras-team/keras/issues/4592\n",
        "\n",
        "**EXERCISE** What is the ROC curve? Could you build the ROC curve for this model? How would you use a ROC curve to evaluate a classifier?\n",
        "* https://en.wikipedia.org/wiki/Receiver_operating_characteristic\n",
        "* Help: https://stackoverflow.com/questions/25009284/how-to-plot-roc-curve-in-python"
      ]
    },
    {
      "metadata": {
        "id": "JhahHMCNjGvS",
        "colab_type": "code",
        "colab": {}
      },
      "cell_type": "code",
      "source": [
        "from sklearn import metrics"
      ],
      "execution_count": 0,
      "outputs": []
    },
    {
      "metadata": {
        "id": "3JxaSBWQEX5Z",
        "colab_type": "code",
        "colab": {}
      },
      "cell_type": "code",
      "source": [
        "preds1 = m1hot.predict(test_text_m)\n",
        "preds2 = m2emb.predict(test_text_p)"
      ],
      "execution_count": 0,
      "outputs": []
    },
    {
      "metadata": {
        "id": "m6IPd18sFdox",
        "colab_type": "code",
        "colab": {}
      },
      "cell_type": "code",
      "source": [
        "c1 = metrics.roc_curve(test_labels, preds1)\n",
        "c2 = metrics.roc_curve(test_labels, preds2)"
      ],
      "execution_count": 0,
      "outputs": []
    },
    {
      "metadata": {
        "id": "7XC_TR28F6o0",
        "colab_type": "code",
        "colab": {}
      },
      "cell_type": "code",
      "source": [
        "fpr1, tpr1, _ = c1\n",
        "fpr2, tpr2, _ = c2"
      ],
      "execution_count": 0,
      "outputs": []
    },
    {
      "metadata": {
        "id": "HNEG2BvyGVwg",
        "colab_type": "code",
        "colab": {
          "base_uri": "https://localhost:8080/",
          "height": 458
        },
        "outputId": "e0835c50-0c99-4ac7-cba6-0a044b3d462d"
      },
      "cell_type": "code",
      "source": [
        "plt.plot(fpr1, tpr1, label='1-HOT')\n",
        "plt.plot(fpr2, tpr2, 'r', label='LSTM')\n",
        "plt.legend()"
      ],
      "execution_count": 149,
      "outputs": [
        {
          "output_type": "execute_result",
          "data": {
            "text/plain": [
              "<matplotlib.legend.Legend at 0x7ffb2826ce10>"
            ]
          },
          "metadata": {
            "tags": []
          },
          "execution_count": 149
        },
        {
          "output_type": "display_data",
          "data": {
            "image/png": "[encoded data removed]",
            "text/plain": [
              "<matplotlib.figure.Figure at 0x7ffb282c5550>"
            ]
          },
          "metadata": {
            "tags": []
          }
        }
      ]
    },
    {
      "metadata": {
        "id": "27K7NsTnjGvU",
        "colab_type": "text"
      },
      "cell_type": "markdown",
      "source": [
        "Let's analyze wrong positives and wrong negatives separately. Then we will try to find a relationship between the words and the misclassification, both for false positives and negatives."
      ]
    },
    {
      "metadata": {
        "id": "oiZtPXdhjGvU",
        "colab_type": "code",
        "colab": {}
      },
      "cell_type": "code",
      "source": [
        ""
      ],
      "execution_count": 0,
      "outputs": []
    },
    {
      "metadata": {
        "id": "7T2IsJepjGvW",
        "colab_type": "text"
      },
      "cell_type": "markdown",
      "source": [
        "Now let's compare with the words of the true positives"
      ]
    },
    {
      "metadata": {
        "id": "35O-l7L9jGvX",
        "colab_type": "code",
        "colab": {}
      },
      "cell_type": "code",
      "source": [
        ""
      ],
      "execution_count": 0,
      "outputs": []
    },
    {
      "metadata": {
        "id": "3fNWdyv9jGvY",
        "colab_type": "text"
      },
      "cell_type": "markdown",
      "source": [
        "So the most common words are very similar. Not surprising. Let's calculate the relative frequency of each word, and then find what are the words with the highest difference in relative frequency."
      ]
    },
    {
      "metadata": {
        "id": "6-DV3UwfjGvZ",
        "colab_type": "code",
        "colab": {}
      },
      "cell_type": "code",
      "source": [
        ""
      ],
      "execution_count": 0,
      "outputs": []
    },
    {
      "metadata": {
        "id": "_5nvsutmjGvb",
        "colab_type": "text"
      },
      "cell_type": "markdown",
      "source": [
        "We see words such as *great*, *best*, *excellent*, which have a large difference between the true and the false positives. So false positives seem to lack some extreme words, and the classifier is having a hard time trying to assign a category to those reviews."
      ]
    },
    {
      "metadata": {
        "id": "kbFyRC0vjGvc",
        "colab_type": "code",
        "colab": {}
      },
      "cell_type": "code",
      "source": [
        ""
      ],
      "execution_count": 0,
      "outputs": []
    }
  ]
}