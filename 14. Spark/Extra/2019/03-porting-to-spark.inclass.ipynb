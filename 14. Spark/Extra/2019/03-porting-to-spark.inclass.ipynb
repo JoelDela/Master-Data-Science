{
 "cells": [
  {
   "cell_type": "markdown",
   "metadata": {},
   "source": [
    "# Porting an analysis from local to distributed\n",
    "\n",
    "<a href = \"http://yogen.io\"><img src=\"http://yogen.io/assets/logo.svg\" alt=\"yogen\" style=\"width: 200px; float: right;\"/></a>"
   ]
  },
  {
   "cell_type": "markdown",
   "metadata": {},
   "source": [
    "Now comes the opportunity to put in practice what we have just learned!"
   ]
  },
  {
   "cell_type": "markdown",
   "metadata": {},
   "source": [
    "# Guided exercise\n",
    "\n",
    "Recreate the boxplot we did in the pandas section, in Spark!\n",
    "\n",
    "Since matplotlib boxplot needs all the data and that would be unfeasible with Big Data, we will calculate the quartiles ourselves.\n",
    "\n",
    "Once the analysis is ported, we will be able to run it on the whole historical series! You can find it at https://transtats.bts.gov (On time performance reporting carrier)."
   ]
  },
  {
   "cell_type": "markdown",
   "metadata": {},
   "source": [
    "##  Workflow\n",
    "\n",
    "The basic idea is the same that we applied in the Amadeus Challenge:\n",
    "\n",
    "* Build prototype with small data: in this section, we will be using `06-intro_to_pandas_practical.ipynb` as our already made prototype\n",
    "\n",
    "* Modify your prototype so that it works with Big Data: In this case, it means porting it to Spark\n",
    "\n",
    "* Test your \"Big Data\" prototype with small data: We will first test it with a sample locally, then upload it to a cluster and test it with Big Data.\n",
    "\n",
    "    * You can run your analyses building your own cluster and storage bucket in Google Cloud Storage. More in notebook #4!\n",
    "\n",
    "* Run your prototype with Big Data.\n",
    "\n",
    "    \n"
   ]
  },
  {
   "cell_type": "markdown",
   "metadata": {},
   "source": [
    "## Modify the prototype so that it works with Big Data"
   ]
  },
  {
   "cell_type": "markdown",
   "metadata": {},
   "source": [
    "## Read csv\n",
    "\n",
    "We'll use the `SparkSession.read.csv` method."
   ]
  },
  {
   "cell_type": "code",
   "execution_count": 4,
   "metadata": {
    "collapsed": true
   },
   "outputs": [
    {
     "data": {
      "text/plain": [
       "DataFrame[Year: int, Quarter: int, Month: int, DayofMonth: int, DayOfWeek: int, FlightDate: timestamp, Reporting_Airline: string, DOT_ID_Reporting_Airline: int, IATA_CODE_Reporting_Airline: string, Tail_Number: string, Flight_Number_Reporting_Airline: int, OriginAirportID: int, OriginAirportSeqID: int, OriginCityMarketID: int, Origin: string, OriginCityName: string, OriginState: string, OriginStateFips: int, OriginStateName: string, OriginWac: int, DestAirportID: int, DestAirportSeqID: int, DestCityMarketID: int, Dest: string, DestCityName: string, DestState: string, DestStateFips: int, DestStateName: string, DestWac: int, CRSDepTime: int, DepTime: int, DepDelay: double, DepDelayMinutes: double, DepDel15: double, DepartureDelayGroups: int, DepTimeBlk: string, TaxiOut: double, WheelsOff: int, WheelsOn: int, TaxiIn: double, CRSArrTime: int, ArrTime: int, ArrDelay: double, ArrDelayMinutes: double, ArrDel15: double, ArrivalDelayGroups: int, ArrTimeBlk: string, Cancelled: double, CancellationCode: string, Diverted: double, CRSElapsedTime: double, ActualElapsedTime: double, AirTime: double, Flights: double, Distance: double, DistanceGroup: int, CarrierDelay: double, WeatherDelay: double, NASDelay: double, SecurityDelay: double, LateAircraftDelay: double, FirstDepTime: int, TotalAddGTime: double, LongestAddGTime: double, DivAirportLandings: int, DivReachedDest: double, DivActualElapsedTime: double, DivArrDelay: double, DivDistance: double, Div1Airport: string, Div1AirportID: int, Div1AirportSeqID: int, Div1WheelsOn: int, Div1TotalGTime: double, Div1LongestGTime: double, Div1WheelsOff: int, Div1TailNum: string, Div2Airport: string, Div2AirportID: int, Div2AirportSeqID: int, Div2WheelsOn: int, Div2TotalGTime: double, Div2LongestGTime: double, Div2WheelsOff: int, Div2TailNum: string, Div3Airport: string, Div3AirportID: string, Div3AirportSeqID: string, Div3WheelsOn: string, Div3TotalGTime: string, Div3LongestGTime: string, Div3WheelsOff: string, Div3TailNum: string, Div4Airport: string, Div4AirportID: string, Div4AirportSeqID: string, Div4WheelsOn: string, Div4TotalGTime: string, Div4LongestGTime: string, Div4WheelsOff: string, Div4TailNum: string, Div5Airport: string, Div5AirportID: string, Div5AirportSeqID: string, Div5WheelsOn: string, Div5TotalGTime: string, Div5LongestGTime: string, Div5WheelsOff: string, Div5TailNum: string, _c109: string]"
      ]
     },
     "execution_count": 4,
     "metadata": {},
     "output_type": "execute_result"
    }
   ],
   "source": [
    "from pyspark.sql import SparkSession\n",
    "\n",
    "spark = SparkSession.builder.getOrCreate()\n",
    "df = spark.read.csv('On_Time_Reporting_Carrier_On_Time_Performance_(1987_present)_2018_12.csv', \n",
    "                    inferSchema=True, \n",
    "                    header=True)\n",
    "df"
   ]
  },
  {
   "cell_type": "code",
   "execution_count": 6,
   "metadata": {},
   "outputs": [
    {
     "data": {
      "text/plain": [
       "StructType(List(StructField(FlightDate,TimestampType,true),StructField(DayOfWeek,IntegerType,true),StructField(Reporting_Airline,StringType,true),StructField(Tail_Number,StringType,true),StructField(Flight_Number_Reporting_Airline,IntegerType,true),StructField(Origin,StringType,true),StructField(OriginCityName,StringType,true),StructField(OriginStateName,StringType,true),StructField(Dest,StringType,true),StructField(DestCityName,StringType,true),StructField(DestStateName,StringType,true),StructField(DepTime,IntegerType,true),StructField(DepDelay,DoubleType,true),StructField(AirTime,DoubleType,true),StructField(Distance,DoubleType,true)))"
      ]
     },
     "execution_count": 6,
     "metadata": {},
     "output_type": "execute_result"
    }
   ],
   "source": [
    "df.schema"
   ]
  },
  {
   "cell_type": "markdown",
   "metadata": {},
   "source": [
    "## Select relevant columns\n",
    "\n",
    "Literally the same syntax as Pandas!\n",
    "\n",
    "```python\n",
    "df = df.select(['FlightDate', 'DayOfWeek', 'Reporting_Airline', 'Tail_Number', 'Flight_Number_Reporting_Airline', 'Origin', \n",
    "                'OriginCityName', 'OriginStateName', 'Dest', 'DestCityName', 'DestStateName',\n",
    "                'DepTime', 'DepDelay', 'AirTime', 'Distance'])\n",
    "\n",
    "df\n",
    "```"
   ]
  },
  {
   "cell_type": "code",
   "execution_count": 5,
   "metadata": {
    "scrolled": false
   },
   "outputs": [
    {
     "data": {
      "text/plain": [
       "DataFrame[FlightDate: timestamp, DayOfWeek: int, Reporting_Airline: string, Tail_Number: string, Flight_Number_Reporting_Airline: int, Origin: string, OriginCityName: string, OriginStateName: string, Dest: string, DestCityName: string, DestStateName: string, DepTime: int, DepDelay: double, AirTime: double, Distance: double]"
      ]
     },
     "execution_count": 5,
     "metadata": {},
     "output_type": "execute_result"
    }
   ],
   "source": [
    "df = df[['FlightDate', 'DayOfWeek', 'Reporting_Airline', 'Tail_Number', 'Flight_Number_Reporting_Airline', 'Origin', \n",
    "                'OriginCityName', 'OriginStateName', 'Dest', 'DestCityName', 'DestStateName',\n",
    "                'DepTime', 'DepDelay', 'AirTime', 'Distance']]\n",
    "\n",
    "df"
   ]
  },
  {
   "cell_type": "markdown",
   "metadata": {},
   "source": [
    "### Extract \"Hour\" variable\n",
    "\n",
    "The DepTimes have been inferred to be ints. We need them as ints, representing each o fthe 24 hours in a day."
   ]
  },
  {
   "cell_type": "code",
   "execution_count": 7,
   "metadata": {},
   "outputs": [
    {
     "name": "stdout",
     "output_type": "stream",
     "text": [
      "+-------+\n",
      "|DepTime|\n",
      "+-------+\n",
      "|   1048|\n",
      "|    638|\n",
      "|   1710|\n",
      "|   1318|\n",
      "|    953|\n",
      "+-------+\n",
      "only showing top 5 rows\n",
      "\n"
     ]
    }
   ],
   "source": [
    "df[['DepTime']].show(5)"
   ]
  },
  {
   "cell_type": "code",
   "execution_count": 17,
   "metadata": {},
   "outputs": [
    {
     "name": "stdout",
     "output_type": "stream",
     "text": [
      "+-------------------+---------+-----------------+-----------+-------------------------------+------+--------------+---------------+----+------------+-------------+-------+--------+-------+--------+----+\n",
      "|         FlightDate|DayOfWeek|Reporting_Airline|Tail_Number|Flight_Number_Reporting_Airline|Origin|OriginCityName|OriginStateName|Dest|DestCityName|DestStateName|DepTime|DepDelay|AirTime|Distance|Hour|\n",
      "+-------------------+---------+-----------------+-----------+-------------------------------+------+--------------+---------------+----+------------+-------------+-------+--------+-------+--------+----+\n",
      "|2018-12-25 00:00:00|        2|               WN|     N566WN|                           1823|   OAK|   Oakland, CA|     California| GEG| Spokane, WA|   Washington|   1048|    18.0|  111.0|   723.0|  10|\n",
      "|2018-12-25 00:00:00|        2|               WN|     N562WN|                            982|   OAK|   Oakland, CA|     California| HOU| Houston, TX|        Texas|    638|    -2.0|  204.0|  1642.0|   6|\n",
      "|2018-12-25 00:00:00|        2|               WN|     N8611F|                           1562|   OAK|   Oakland, CA|     California| HOU| Houston, TX|        Texas|   1710|     0.0|  207.0|  1642.0|  17|\n",
      "|2018-12-25 00:00:00|        2|               WN|     N7721E|                           1687|   OAK|   Oakland, CA|     California| HOU| Houston, TX|        Texas|   1318|    -2.0|  204.0|  1642.0|  13|\n",
      "|2018-12-25 00:00:00|        2|               WN|     N218WN|                           1877|   OAK|   Oakland, CA|     California| HOU| Houston, TX|        Texas|    953|    -2.0|  205.0|  1642.0|   9|\n",
      "+-------------------+---------+-----------------+-----------+-------------------------------+------+--------------+---------------+----+------------+-------------+-------+--------+-------+--------+----+\n",
      "only showing top 5 rows\n",
      "\n"
     ]
    }
   ],
   "source": [
    "from pyspark.sql import types\n",
    "\n",
    "df2 = df.withColumn('Hour', (df['DepTime'] / 100).cast(types.IntegerType()))\n",
    "\n",
    "df2.show(5)"
   ]
  },
  {
   "cell_type": "markdown",
   "metadata": {},
   "source": [
    "## Generate the relative distributions\n",
    "\n",
    "In order to be able to handle the data, we need to reduce its dimensionality. Since we want to describe a discrete distribution, we can just count how many values of each level of the 'DepDelay' variable we find for each hour (24 different discrete distributions). We also want the totals in order to do the relative distribution."
   ]
  },
  {
   "cell_type": "markdown",
   "metadata": {},
   "source": [
    "### Distributions"
   ]
  },
  {
   "cell_type": "code",
   "execution_count": 29,
   "metadata": {},
   "outputs": [
    {
     "name": "stdout",
     "output_type": "stream",
     "text": [
      "+----+--------+-----+\n",
      "|Hour|DepDelay|count|\n",
      "+----+--------+-----+\n",
      "|  17|     8.0|  388|\n",
      "|  13|    19.0|  197|\n",
      "|  22|     9.0|  158|\n",
      "|  16|    76.0|   31|\n",
      "|  17|    72.0|   32|\n",
      "+----+--------+-----+\n",
      "only showing top 5 rows\n",
      "\n"
     ]
    }
   ],
   "source": [
    "distributions = df2.groupby('Hour', 'DepDelay').count()\n",
    "distributions.show(5)"
   ]
  },
  {
   "cell_type": "markdown",
   "metadata": {},
   "source": [
    "### Totals"
   ]
  },
  {
   "cell_type": "markdown",
   "metadata": {},
   "source": [
    "Now we join both and calculate what fraction of the total for each hour each level of DepDelay represents."
   ]
  },
  {
   "cell_type": "code",
   "execution_count": 28,
   "metadata": {},
   "outputs": [
    {
     "name": "stdout",
     "output_type": "stream",
     "text": [
      "+----+----------+\n",
      "|Hour|sum(count)|\n",
      "+----+----------+\n",
      "|  12|     36925|\n",
      "|  22|     15646|\n",
      "|null|      6526|\n",
      "|   1|       846|\n",
      "|  13|     33163|\n",
      "+----+----------+\n",
      "only showing top 5 rows\n",
      "\n"
     ]
    }
   ],
   "source": [
    "totals = distributions.groupby('Hour').sum('count')\n",
    "totals.show(5)"
   ]
  },
  {
   "cell_type": "markdown",
   "metadata": {},
   "source": [
    "### Generate distributions\n",
    "\n",
    "We have to group on the hour. Each group will be a bunch of delays and the corresponding frequencies."
   ]
  },
  {
   "cell_type": "code",
   "execution_count": 33,
   "metadata": {},
   "outputs": [
    {
     "name": "stdout",
     "output_type": "stream",
     "text": [
      "+----+--------+-----+----------+\n",
      "|Hour|DepDelay|count|sum(count)|\n",
      "+----+--------+-----+----------+\n",
      "|  17|     8.0|  388|     36591|\n",
      "|  13|    19.0|  197|     33163|\n",
      "|  22|     9.0|  158|     15646|\n",
      "|  16|    76.0|   31|     34761|\n",
      "|  17|    72.0|   32|     36591|\n",
      "+----+--------+-----+----------+\n",
      "only showing top 5 rows\n",
      "\n"
     ]
    }
   ],
   "source": [
    "joined = distributions.join(totals, on='Hour')\n",
    "\n",
    "joined.show(5)"
   ]
  },
  {
   "cell_type": "code",
   "execution_count": 36,
   "metadata": {},
   "outputs": [
    {
     "name": "stdout",
     "output_type": "stream",
     "text": [
      "+----+--------+-----+----------+--------------------+\n",
      "|Hour|DepDelay|count|sum(count)|            relative|\n",
      "+----+--------+-----+----------+--------------------+\n",
      "|  17|     8.0|  388|     36591|0.010603700363477358|\n",
      "|  13|    19.0|  197|     33163|0.005940355215149...|\n",
      "|  22|     9.0|  158|     15646|0.010098427713153522|\n",
      "|  16|    76.0|   31|     34761|8.918040332556601E-4|\n",
      "|  17|    72.0|   32|     36591|8.745319887404006E-4|\n",
      "|   6|    89.0|    4|     37398|1.069575913150435...|\n",
      "|  23|   108.0|   14|      5835|0.002399314481576692|\n",
      "|  22|    73.0|   24|     15646| 0.00153393838680813|\n",
      "|  16|    84.0|   33|     34761|9.493397773366704E-4|\n",
      "|  18|   -11.0|  435|     33335|0.013049347532623368|\n",
      "|  17|    86.0|   21|     36591| 5.73911617610888E-4|\n",
      "|   0|    95.0|   10|      2283|0.004380201489268506|\n",
      "|  10|    70.0|   18|     34600|5.202312138728323E-4|\n",
      "|  20|   173.0|    9|     28354|3.174155322000423E-4|\n",
      "|   7|    52.0|   22|     35336|6.225945211682137E-4|\n",
      "|  20|   226.0|    4|     28354|1.410735698666854...|\n",
      "|   4|    -8.0|   74|      1374|0.053857350800582245|\n",
      "|   8|   178.0|    2|     36357|5.501003933217812E-5|\n",
      "|  13|   211.0|    2|     33163|6.030817477309049E-5|\n",
      "|  22|   383.0|    1|     15646|6.391409945033875E-5|\n",
      "+----+--------+-----+----------+--------------------+\n",
      "only showing top 20 rows\n",
      "\n"
     ]
    }
   ],
   "source": [
    "freqs = joined.withColumn('relative', joined['count'] / joined['sum(count)']).cache()\n",
    "freqs.show()"
   ]
  },
  {
   "cell_type": "markdown",
   "metadata": {},
   "source": [
    "`functions.collect_list`"
   ]
  },
  {
   "cell_type": "markdown",
   "metadata": {},
   "source": [
    "These groups are definitely manageable: the number of levels will be on the order of a few hundreds to a couple thousands. We can combine them into lists straight away."
   ]
  },
  {
   "cell_type": "code",
   "execution_count": 38,
   "metadata": {},
   "outputs": [
    {
     "name": "stdout",
     "output_type": "stream",
     "text": [
      "Help on function collect_list in module pyspark.sql.functions:\n",
      "\n",
      "collect_list(col)\n",
      "    Aggregate function: returns a list of objects with duplicates.\n",
      "    \n",
      "    .. note:: The function is non-deterministic because the order of collected results depends\n",
      "        on order of rows which may be non-deterministic after a shuffle.\n",
      "    \n",
      "    >>> df2 = spark.createDataFrame([(2,), (5,), (5,)], ('age',))\n",
      "    >>> df2.agg(collect_list('age')).collect()\n",
      "    [Row(collect_list(age)=[2, 5, 5])]\n",
      "    \n",
      "    .. versionadded:: 1.6\n",
      "\n"
     ]
    }
   ],
   "source": [
    "from pyspark.sql import functions\n",
    "\n",
    "help(functions.collect_list)"
   ]
  },
  {
   "cell_type": "code",
   "execution_count": 51,
   "metadata": {},
   "outputs": [
    {
     "name": "stdout",
     "output_type": "stream",
     "text": [
      "+----+--------------------+--------------------+\n",
      "|Hour|           DepDelays|           relatives|\n",
      "+----+--------------------+--------------------+\n",
      "|  12|[1315.0, 280.0, 3...|[2.70819228165199...|\n",
      "|  22|[9.0, 73.0, 383.0...|[0.01009842771315...|\n",
      "|   1|[270.0, 223.0, 30...|[0.00118203309692...|\n",
      "|  13|[19.0, 211.0, -18...|[0.00594035521514...|\n",
      "|  16|[76.0, 84.0, 289....|[8.91804033255660...|\n",
      "+----+--------------------+--------------------+\n",
      "only showing top 5 rows\n",
      "\n"
     ]
    }
   ],
   "source": [
    "rel_dists = freqs.groupby('Hour').agg(functions.collect_list('DepDelay').alias('DepDelays'),\n",
    "                                      functions.collect_list('relative').alias('relatives')).dropna()\n",
    "\n",
    "rel_dists.show(5)"
   ]
  },
  {
   "cell_type": "markdown",
   "metadata": {},
   "source": [
    "Now it's easy to use a UDF to merge the two lists and sort them."
   ]
  },
  {
   "cell_type": "code",
   "execution_count": 52,
   "metadata": {},
   "outputs": [
    {
     "data": {
      "text/plain": [
       "[(-5, 0.2),\n",
       " (-1, 0.05),\n",
       " (0, 0.15),\n",
       " (1, 0.05),\n",
       " (2, 0.1),\n",
       " (3, 0.2),\n",
       " (7, 0.05),\n",
       " (10, 0.2)]"
      ]
     },
     "execution_count": 52,
     "metadata": {},
     "output_type": "execute_result"
    }
   ],
   "source": [
    "values = [7, -5, -1, 0, 1, 2, 3, 10]\n",
    "rels = [.05, .2, .05, .15, .05, .1, .2, .2]\n",
    "\n",
    "sorted(zip(values, rels))"
   ]
  },
  {
   "cell_type": "code",
   "execution_count": 55,
   "metadata": {
    "collapsed": true
   },
   "outputs": [
    {
     "name": "stdout",
     "output_type": "stream",
     "text": [
      "+----+--------------------+--------------------+--------------------+\n",
      "|Hour|           DepDelays|           relatives|               whole|\n",
      "+----+--------------------+--------------------+--------------------+\n",
      "|  12|[1315.0, 280.0, 3...|[2.70819228165199...|[[Ljava.lang.Obje...|\n",
      "|  22|[9.0, 73.0, 383.0...|[0.01009842771315...|[[Ljava.lang.Obje...|\n",
      "|   1|[270.0, 223.0, 30...|[0.00118203309692...|[[Ljava.lang.Obje...|\n",
      "|  13|[19.0, 211.0, -18...|[0.00594035521514...|[[Ljava.lang.Obje...|\n",
      "|  16|[76.0, 84.0, 289....|[8.91804033255660...|[[Ljava.lang.Obje...|\n",
      "|   6|[89.0, 678.0, 540...|[1.06957591315043...|[[Ljava.lang.Obje...|\n",
      "|   3|[157.0, 11.0, 139...|[0.005, 0.01, 0.0...|[[Ljava.lang.Obje...|\n",
      "|  20|[173.0, 226.0, 53...|[3.17415532200042...|[[Ljava.lang.Obje...|\n",
      "|   5|[64.0, 42.0, -19....|[4.42536619905297...|[[Ljava.lang.Obje...|\n",
      "|  19|[131.0, 330.0, 14...|[2.90641348575857...|[[Ljava.lang.Obje...|\n",
      "|  15|[238.0, 47.0, 584...|[2.80182679106777...|[[Ljava.lang.Obje...|\n",
      "|  17|[8.0, 72.0, 86.0,...|[0.01060370036347...|[[Ljava.lang.Obje...|\n",
      "|   9|[170.0, 60.0, 67....|[5.82156891282200...|[[Ljava.lang.Obje...|\n",
      "|   4|[-8.0, 3.0, 24.0,...|[0.05385735080058...|[[Ljava.lang.Obje...|\n",
      "|   8|[178.0, 1236.0, 1...|[5.50100393321781...|[[Ljava.lang.Obje...|\n",
      "|  23|[108.0, 129.0, 23...|[0.00239931448157...|[[Ljava.lang.Obje...|\n",
      "|   7|[52.0, 91.0, 51.0...|[6.22594521168213...|[[Ljava.lang.Obje...|\n",
      "|  10|[70.0, 287.0, 332...|[5.20231213872832...|[[Ljava.lang.Obje...|\n",
      "|  24|[-7.0, 80.0, -5.0...|[0.05, 0.025, 0.0...|[[Ljava.lang.Obje...|\n",
      "|  21|[-21.0, 307.0, 21...|[4.72987176792095...|[[Ljava.lang.Obje...|\n",
      "+----+--------------------+--------------------+--------------------+\n",
      "only showing top 20 rows\n",
      "\n"
     ]
    }
   ],
   "source": [
    "zipsort = functions.udf(lambda a,b: sorted(zip(a, b)))\n",
    "whole_dists = rel_dists.withColumn('whole', zipsort('DepDelays', 'relatives'))\n",
    "whole_dists.show()"
   ]
  },
  {
   "cell_type": "code",
   "execution_count": 60,
   "metadata": {},
   "outputs": [
    {
     "data": {
      "text/plain": [
       "<__main__.Tocoto at 0x7f850c6a6898>"
      ]
     },
     "execution_count": 60,
     "metadata": {},
     "output_type": "execute_result"
    }
   ],
   "source": [
    "class Tocoto:\n",
    "    pass\n",
    "\n",
    "an_object = Tocoto()\n",
    "an_object"
   ]
  },
  {
   "cell_type": "code",
   "execution_count": 57,
   "metadata": {
    "collapsed": true
   },
   "outputs": [
    {
     "data": {
      "text/plain": [
       "Row(whole='[[Ljava.lang.Object;@12eb6aae, [Ljava.lang.Object;@61fcedf2, [Ljava.lang.Object;@7d34187d, [Ljava.lang.Object;@4b28c29f, [Ljava.lang.Object;@25f7f4e, [Ljava.lang.Object;@4ca918a, [Ljava.lang.Object;@59e0969e, [Ljava.lang.Object;@54518b07, [Ljava.lang.Object;@2d0d2bcc, [Ljava.lang.Object;@7d1bb926, [Ljava.lang.Object;@2092947d, [Ljava.lang.Object;@78432adb, [Ljava.lang.Object;@3cd42d54, [Ljava.lang.Object;@1c267161, [Ljava.lang.Object;@28a33fe4, [Ljava.lang.Object;@4957cdd9, [Ljava.lang.Object;@5474f72a, [Ljava.lang.Object;@7bf639bc, [Ljava.lang.Object;@4a1b6539, [Ljava.lang.Object;@3dd550a6, [Ljava.lang.Object;@4e6b2d91, [Ljava.lang.Object;@41ad639, [Ljava.lang.Object;@15b9592e, [Ljava.lang.Object;@2fe6b5f, [Ljava.lang.Object;@156ec934, [Ljava.lang.Object;@47976ebe, [Ljava.lang.Object;@18382f4b, [Ljava.lang.Object;@696d1b80, [Ljava.lang.Object;@aa948f0, [Ljava.lang.Object;@76373585, [Ljava.lang.Object;@2fac0e7f, [Ljava.lang.Object;@2e9cb111, [Ljava.lang.Object;@6e3292fa, [Ljava.lang.Object;@216619a4, [Ljava.lang.Object;@6e762401, [Ljava.lang.Object;@25a904e7, [Ljava.lang.Object;@5ff6f7ea, [Ljava.lang.Object;@4ecc6e89, [Ljava.lang.Object;@11450d7d, [Ljava.lang.Object;@7c26bd8e, [Ljava.lang.Object;@14874c47, [Ljava.lang.Object;@3992d078, [Ljava.lang.Object;@850cd2, [Ljava.lang.Object;@49861b81, [Ljava.lang.Object;@674d8382, [Ljava.lang.Object;@48738e03, [Ljava.lang.Object;@6038f843, [Ljava.lang.Object;@191badd6, [Ljava.lang.Object;@12417ce4, [Ljava.lang.Object;@4696fb39, [Ljava.lang.Object;@614be948, [Ljava.lang.Object;@257a8daa, [Ljava.lang.Object;@3c4573bd, [Ljava.lang.Object;@4dfb183f, [Ljava.lang.Object;@73c4b961, [Ljava.lang.Object;@2227d6e, [Ljava.lang.Object;@156d2e0c, [Ljava.lang.Object;@c2f67e, [Ljava.lang.Object;@569b58b6, [Ljava.lang.Object;@47c38606, [Ljava.lang.Object;@3ba2ddbc, [Ljava.lang.Object;@2c44adb0, [Ljava.lang.Object;@20160e66, [Ljava.lang.Object;@7bbe5fd4, [Ljava.lang.Object;@56dc3222, [Ljava.lang.Object;@5f7c2c64, [Ljava.lang.Object;@4f097cd3, [Ljava.lang.Object;@4640ca19, [Ljava.lang.Object;@713aadd1, [Ljava.lang.Object;@4f9bb09e, [Ljava.lang.Object;@4b70a25a, [Ljava.lang.Object;@b20a92f, [Ljava.lang.Object;@2fd0c9bf, [Ljava.lang.Object;@3ddd939b, [Ljava.lang.Object;@73f18408, [Ljava.lang.Object;@7d163288, [Ljava.lang.Object;@542281a4, [Ljava.lang.Object;@5b281f0, [Ljava.lang.Object;@7a9c848a, [Ljava.lang.Object;@36527b23, [Ljava.lang.Object;@763df3ec, [Ljava.lang.Object;@679141da, [Ljava.lang.Object;@79b72176, [Ljava.lang.Object;@5c99d600, [Ljava.lang.Object;@45a2ecec, [Ljava.lang.Object;@28d0fa13, [Ljava.lang.Object;@682cd2ee, [Ljava.lang.Object;@7a97203d, [Ljava.lang.Object;@2880760f, [Ljava.lang.Object;@72f116e, [Ljava.lang.Object;@99a18c7, [Ljava.lang.Object;@4a4f5701, [Ljava.lang.Object;@61547049, [Ljava.lang.Object;@1e0fa96c, [Ljava.lang.Object;@470ad64a, [Ljava.lang.Object;@774d76f5, [Ljava.lang.Object;@35d9866d, [Ljava.lang.Object;@56fe1d73, [Ljava.lang.Object;@47573960, [Ljava.lang.Object;@5b3105a1, [Ljava.lang.Object;@22a20a44, [Ljava.lang.Object;@4919ee6, [Ljava.lang.Object;@7a733b2d, [Ljava.lang.Object;@29bc25cf, [Ljava.lang.Object;@1b7eea96, [Ljava.lang.Object;@139031b1, [Ljava.lang.Object;@70d9cabd, [Ljava.lang.Object;@38031b34, [Ljava.lang.Object;@54457cf8, [Ljava.lang.Object;@46cac278, [Ljava.lang.Object;@7878643e, [Ljava.lang.Object;@58020abe, [Ljava.lang.Object;@275f0ffa, [Ljava.lang.Object;@3796d06b, [Ljava.lang.Object;@c741b33, [Ljava.lang.Object;@44eba7f9, [Ljava.lang.Object;@1b145041, [Ljava.lang.Object;@1a80dec0, [Ljava.lang.Object;@3601f320, [Ljava.lang.Object;@2fcc4e76, [Ljava.lang.Object;@16638596, [Ljava.lang.Object;@a092f44, [Ljava.lang.Object;@33a845d6, [Ljava.lang.Object;@7e5a022b, [Ljava.lang.Object;@741f7743, [Ljava.lang.Object;@372f058b, [Ljava.lang.Object;@46d8704d, [Ljava.lang.Object;@683d69e7, [Ljava.lang.Object;@6717becc, [Ljava.lang.Object;@285becf8, [Ljava.lang.Object;@2d84aba6, [Ljava.lang.Object;@2ef59da0, [Ljava.lang.Object;@74ceb76c, [Ljava.lang.Object;@305a921, [Ljava.lang.Object;@b54fb7c, [Ljava.lang.Object;@94e7f2b, [Ljava.lang.Object;@83adcb9, [Ljava.lang.Object;@26d8303e, [Ljava.lang.Object;@afbb082, [Ljava.lang.Object;@703621d1, [Ljava.lang.Object;@2e37e47a, [Ljava.lang.Object;@49096842, [Ljava.lang.Object;@1ea1ae41, [Ljava.lang.Object;@5f583ced, [Ljava.lang.Object;@4e5d0748, [Ljava.lang.Object;@4c942db9, [Ljava.lang.Object;@5f5451cc, [Ljava.lang.Object;@41f5b19f, [Ljava.lang.Object;@67b499ae, [Ljava.lang.Object;@aa08904, [Ljava.lang.Object;@778773ad, [Ljava.lang.Object;@1b124d8b, [Ljava.lang.Object;@58a8ceae, [Ljava.lang.Object;@56ce8416, [Ljava.lang.Object;@1a989f79, [Ljava.lang.Object;@13efe7b4, [Ljava.lang.Object;@d2c96d9, [Ljava.lang.Object;@2f605d5e, [Ljava.lang.Object;@715d6c9c, [Ljava.lang.Object;@1d63f744, [Ljava.lang.Object;@7410206f, [Ljava.lang.Object;@59b7091e, [Ljava.lang.Object;@4314b738, [Ljava.lang.Object;@414fa1c9, [Ljava.lang.Object;@34a9e2d7, [Ljava.lang.Object;@55b7f2a5, [Ljava.lang.Object;@337c225c, [Ljava.lang.Object;@f018c13, [Ljava.lang.Object;@7445687e, [Ljava.lang.Object;@1e8d8e89, [Ljava.lang.Object;@4c3121c6, [Ljava.lang.Object;@4f534d47, [Ljava.lang.Object;@108aca4b, [Ljava.lang.Object;@6201f715, [Ljava.lang.Object;@277bd582, [Ljava.lang.Object;@72179d5f, [Ljava.lang.Object;@3489d9c4, [Ljava.lang.Object;@595d391f, [Ljava.lang.Object;@20732073, [Ljava.lang.Object;@6e40ac47, [Ljava.lang.Object;@147d1fb2, [Ljava.lang.Object;@245849e3, [Ljava.lang.Object;@1d1195a3, [Ljava.lang.Object;@765830d2, [Ljava.lang.Object;@a242124, [Ljava.lang.Object;@6c5566d2, [Ljava.lang.Object;@7df85a76, [Ljava.lang.Object;@4a112bbb, [Ljava.lang.Object;@61170edc, [Ljava.lang.Object;@26b397da, [Ljava.lang.Object;@19274290, [Ljava.lang.Object;@5aa8fefc, [Ljava.lang.Object;@3106a9b, [Ljava.lang.Object;@39272064, [Ljava.lang.Object;@1a37d612, [Ljava.lang.Object;@7f594b6, [Ljava.lang.Object;@7317261, [Ljava.lang.Object;@71556e3, [Ljava.lang.Object;@23369755, [Ljava.lang.Object;@84df7a1, [Ljava.lang.Object;@4633eb3, [Ljava.lang.Object;@296cd292, [Ljava.lang.Object;@3ef774d5, [Ljava.lang.Object;@59e06c55, [Ljava.lang.Object;@446b577c, [Ljava.lang.Object;@b5ce521, [Ljava.lang.Object;@e087943, [Ljava.lang.Object;@54d02e13, [Ljava.lang.Object;@4a1e5342, [Ljava.lang.Object;@2607d2cd, [Ljava.lang.Object;@6b08652f, [Ljava.lang.Object;@3efd7eeb, [Ljava.lang.Object;@641be35, [Ljava.lang.Object;@1e48958a, [Ljava.lang.Object;@3641ba71, [Ljava.lang.Object;@639e8074, [Ljava.lang.Object;@68252a24, [Ljava.lang.Object;@321b066f, [Ljava.lang.Object;@932b06f, [Ljava.lang.Object;@1e380c1d, [Ljava.lang.Object;@5f0d61f4, [Ljava.lang.Object;@354f2c04, [Ljava.lang.Object;@2962430a, [Ljava.lang.Object;@7764fadf, [Ljava.lang.Object;@43d23706, [Ljava.lang.Object;@f310c74, [Ljava.lang.Object;@3470648b, [Ljava.lang.Object;@6492d2d8, [Ljava.lang.Object;@36aab34b, [Ljava.lang.Object;@317f4b46, [Ljava.lang.Object;@69c35de, [Ljava.lang.Object;@746a23c7, [Ljava.lang.Object;@1739e6ea, [Ljava.lang.Object;@5c57aa30, [Ljava.lang.Object;@3b8246a1, [Ljava.lang.Object;@1e532e0d, [Ljava.lang.Object;@4605859b, [Ljava.lang.Object;@2762b141, [Ljava.lang.Object;@efc5c42, [Ljava.lang.Object;@9d828d6, [Ljava.lang.Object;@631b4d2b, [Ljava.lang.Object;@514110b0, [Ljava.lang.Object;@3d335896, [Ljava.lang.Object;@75e5497e, [Ljava.lang.Object;@4c2e30fc, [Ljava.lang.Object;@15336d59, [Ljava.lang.Object;@32e36081, [Ljava.lang.Object;@6d92611a, [Ljava.lang.Object;@50061584, [Ljava.lang.Object;@5e51e378, [Ljava.lang.Object;@771f675b, [Ljava.lang.Object;@97b5213, [Ljava.lang.Object;@69b1cc8d, [Ljava.lang.Object;@382aa8e0, [Ljava.lang.Object;@34032501, [Ljava.lang.Object;@673b1258, [Ljava.lang.Object;@96f96, [Ljava.lang.Object;@6d89badf, [Ljava.lang.Object;@400fb142, [Ljava.lang.Object;@7f19d2c9, [Ljava.lang.Object;@34a77763, [Ljava.lang.Object;@14d87c6a, [Ljava.lang.Object;@29e04a12, [Ljava.lang.Object;@18de5a7d, [Ljava.lang.Object;@174d3a6a, [Ljava.lang.Object;@40212fc5, [Ljava.lang.Object;@6bba4d09, [Ljava.lang.Object;@1ddffb1, [Ljava.lang.Object;@7f3d0b8a, [Ljava.lang.Object;@362b5caf, [Ljava.lang.Object;@f408d66, [Ljava.lang.Object;@618ecb48, [Ljava.lang.Object;@7678fda8, [Ljava.lang.Object;@1ada09ec, [Ljava.lang.Object;@117a8c6c, [Ljava.lang.Object;@6b9d180, [Ljava.lang.Object;@371df942, [Ljava.lang.Object;@7dc20324, [Ljava.lang.Object;@381ef91c, [Ljava.lang.Object;@70e30a4e, [Ljava.lang.Object;@28ec3af9, [Ljava.lang.Object;@455ad7e3, [Ljava.lang.Object;@ac3004d, [Ljava.lang.Object;@621ada21, [Ljava.lang.Object;@2be80f69, [Ljava.lang.Object;@381e2038, [Ljava.lang.Object;@2a4d8e1e, [Ljava.lang.Object;@1eb282a4, [Ljava.lang.Object;@754a455c, [Ljava.lang.Object;@3c9ca42d, [Ljava.lang.Object;@7a67e0de, [Ljava.lang.Object;@70cafa94, [Ljava.lang.Object;@570d2174, [Ljava.lang.Object;@e695a74, [Ljava.lang.Object;@4bcd3a77, [Ljava.lang.Object;@6c7477c0, [Ljava.lang.Object;@524cedbb, [Ljava.lang.Object;@1632b77c, [Ljava.lang.Object;@340e294f, [Ljava.lang.Object;@7b8b9279, [Ljava.lang.Object;@4e1f8986, [Ljava.lang.Object;@4d154e6e, [Ljava.lang.Object;@81452d2, [Ljava.lang.Object;@2f2b11f3, [Ljava.lang.Object;@1d4afe29, [Ljava.lang.Object;@7acba5d0, [Ljava.lang.Object;@50e3fa99, [Ljava.lang.Object;@2730ddff, [Ljava.lang.Object;@6dc1d486, [Ljava.lang.Object;@4a8319cb, [Ljava.lang.Object;@5fb0530, [Ljava.lang.Object;@2485ef55, [Ljava.lang.Object;@47836aa7, [Ljava.lang.Object;@151c6edd, [Ljava.lang.Object;@48932bcb, [Ljava.lang.Object;@43678acb, [Ljava.lang.Object;@1fed1652, [Ljava.lang.Object;@69f1e9f4, [Ljava.lang.Object;@386d4a72, [Ljava.lang.Object;@47a3be66, [Ljava.lang.Object;@300b6f46, [Ljava.lang.Object;@56d38efa, [Ljava.lang.Object;@43f7088, [Ljava.lang.Object;@5e35aee7, [Ljava.lang.Object;@35af8b38, [Ljava.lang.Object;@7f416729, [Ljava.lang.Object;@5f379, [Ljava.lang.Object;@73b42708, [Ljava.lang.Object;@3a8b840d, [Ljava.lang.Object;@4e07d45a, [Ljava.lang.Object;@61b668d8, [Ljava.lang.Object;@33689f81, [Ljava.lang.Object;@55a5ce0d, [Ljava.lang.Object;@25f075e7, [Ljava.lang.Object;@77522929, [Ljava.lang.Object;@3124d5, [Ljava.lang.Object;@7b1f4778, [Ljava.lang.Object;@5de65ab1, [Ljava.lang.Object;@3b1b3b45, [Ljava.lang.Object;@3205a77f, [Ljava.lang.Object;@33a002c0, [Ljava.lang.Object;@5c7cf5d7, [Ljava.lang.Object;@3e5f2c0e, [Ljava.lang.Object;@217e5ae5, [Ljava.lang.Object;@127bfa08, [Ljava.lang.Object;@291267dd, [Ljava.lang.Object;@6e6a11ad, [Ljava.lang.Object;@3d90d7f7, [Ljava.lang.Object;@70f6d1f7, [Ljava.lang.Object;@4ae07cbb, [Ljava.lang.Object;@74b9eb33, [Ljava.lang.Object;@4fadb53c, [Ljava.lang.Object;@912bc57, [Ljava.lang.Object;@405e1c6a, [Ljava.lang.Object;@7b858721, [Ljava.lang.Object;@5923d938, [Ljava.lang.Object;@454f364f, [Ljava.lang.Object;@7542cfc0, [Ljava.lang.Object;@22a9e2c6, [Ljava.lang.Object;@658405b2, [Ljava.lang.Object;@5945ba03, [Ljava.lang.Object;@3a9a4224, [Ljava.lang.Object;@57c83863, [Ljava.lang.Object;@12240ebd, [Ljava.lang.Object;@66c53b58, [Ljava.lang.Object;@e26dec6, [Ljava.lang.Object;@183bf441, [Ljava.lang.Object;@2a58401d, [Ljava.lang.Object;@6508a1f5, [Ljava.lang.Object;@5de0937c, [Ljava.lang.Object;@1abefd7d, [Ljava.lang.Object;@720e1e9f, [Ljava.lang.Object;@52291e22, [Ljava.lang.Object;@b0b1c68, [Ljava.lang.Object;@66335d61, [Ljava.lang.Object;@64cb4dde, [Ljava.lang.Object;@7e09976b, [Ljava.lang.Object;@2db22c9e, [Ljava.lang.Object;@5196a41c, [Ljava.lang.Object;@6f0da64d, [Ljava.lang.Object;@5d8dc608, [Ljava.lang.Object;@61e7d7fb, [Ljava.lang.Object;@535299f, [Ljava.lang.Object;@788d8ba, [Ljava.lang.Object;@3486f3c5, [Ljava.lang.Object;@6b81a2a1, [Ljava.lang.Object;@4754079f, [Ljava.lang.Object;@6d85ac7]')"
      ]
     },
     "execution_count": 57,
     "metadata": {},
     "output_type": "execute_result"
    }
   ],
   "source": [
    "whole_dists[['whole']].first()"
   ]
  },
  {
   "cell_type": "markdown",
   "metadata": {},
   "source": [
    "Careful! If we keep that string return type, it might be problematic later."
   ]
  },
  {
   "cell_type": "code",
   "execution_count": 62,
   "metadata": {},
   "outputs": [
    {
     "name": "stdout",
     "output_type": "stream",
     "text": [
      "+----+--------------------+--------------------+--------------------+\n",
      "|Hour|           DepDelays|           relatives|               whole|\n",
      "+----+--------------------+--------------------+--------------------+\n",
      "|  12|[1315.0, 280.0, 3...|[2.70819228165199...|[[-38.0, 2.708192...|\n",
      "|  22|[9.0, 73.0, 383.0...|[0.01009842771315...|[[-39.0, 6.391409...|\n",
      "|   1|[270.0, 223.0, 30...|[0.00118203309692...|[[-22.0, 0.001182...|\n",
      "|  13|[19.0, 211.0, -18...|[0.00594035521514...|[[-32.0, 3.015408...|\n",
      "|  16|[76.0, 84.0, 289....|[8.91804033255660...|[[-37.0, 2.876787...|\n",
      "|   6|[89.0, 678.0, 540...|[1.06957591315043...|[[-32.0, 2.673939...|\n",
      "|   3|[157.0, 11.0, 139...|[0.005, 0.01, 0.0...|[[-19.0, 0.005], ...|\n",
      "|  20|[173.0, 226.0, 53...|[3.17415532200042...|[[-35.0, 3.526839...|\n",
      "|   5|[64.0, 42.0, -19....|[4.42536619905297...|[[-24.0, 4.425366...|\n",
      "|  19|[131.0, 330.0, 14...|[2.90641348575857...|[[-32.0, 3.229348...|\n",
      "|  15|[238.0, 47.0, 584...|[2.80182679106777...|[[-60.0, 2.801826...|\n",
      "|  17|[8.0, 72.0, 86.0,...|[0.01060370036347...|[[-46.0, 2.732912...|\n",
      "|   9|[170.0, 60.0, 67....|[5.82156891282200...|[[-31.0, 2.910784...|\n",
      "|   4|[-8.0, 3.0, 24.0,...|[0.05385735080058...|[[-23.0, 7.278020...|\n",
      "|   8|[178.0, 1236.0, 1...|[5.50100393321781...|[[-72.0, 2.750501...|\n",
      "|  23|[108.0, 129.0, 23...|[0.00239931448157...|[[-30.0, 1.713796...|\n",
      "|   7|[52.0, 91.0, 51.0...|[6.22594521168213...|[[-28.0, 2.829975...|\n",
      "|  10|[70.0, 287.0, 332...|[5.20231213872832...|[[-26.0, 5.780346...|\n",
      "|  24|[-7.0, 80.0, -5.0...|[0.05, 0.025, 0.0...|[[-7.0, 0.05], [-...|\n",
      "|  21|[-21.0, 307.0, 21...|[4.72987176792095...|[[-39.0, 5.255413...|\n",
      "+----+--------------------+--------------------+--------------------+\n",
      "only showing top 20 rows\n",
      "\n"
     ]
    }
   ],
   "source": [
    "zipsort = functions.udf(lambda a,b: sorted(zip(a, b)), \n",
    "                        returnType=types.ArrayType(types.ArrayType(types.DoubleType())))\n",
    "whole_dists = rel_dists.withColumn('whole', zipsort('DepDelays', 'relatives'))\n",
    "whole_dists.show()"
   ]
  },
  {
   "cell_type": "markdown",
   "metadata": {},
   "source": [
    "### Calculating the quartiles\n",
    "\n",
    "We are finally ready to calculate the quartiles! We will use a UDF.\n",
    "\n",
    "The input to our custom function will be one of the distributions coded like we did: as a list of tuples `(value, relative_frequency)`. The quartiles are defined as the values at which we cross the 0.0, .25, .5, .75 and 1.00 relative frequencies. Since the distributions are ordered, we can just iterate over one while keeping track of what portion of the total distribution we have seen, and annotate where we cross the thresholds."
   ]
  },
  {
   "cell_type": "code",
   "execution_count": 72,
   "metadata": {},
   "outputs": [
    {
     "data": {
      "text/plain": [
       "[-5, -1, 2, 3, 10]"
      ]
     },
     "execution_count": 72,
     "metadata": {},
     "output_type": "execute_result"
    }
   ],
   "source": [
    "values = [7, -5, -1, 0, 1, 2, 3, 10]\n",
    "rels = [.05, .2, .05, .15, .05, .1, .2, .2]\n",
    "\n",
    "sorted(zip(values, rels))\n",
    "\n",
    "def quartiles(sorted_freqs):\n",
    "    \n",
    "    cumulative = 0\n",
    "    min_ = sorted_freqs[0][0]\n",
    "    result = [min_]\n",
    "    \n",
    "    for value, rel in sorted_freqs:\n",
    "        prev = cumulative\n",
    "        cumulative += rel\n",
    "        \n",
    "        if cumulative >= 0.25 and prev < 0.25:\n",
    "            result.append(value)\n",
    "        elif cumulative >= 0.5 and prev < 0.5:\n",
    "            result.append(value)\n",
    "        elif cumulative >= 0.75 and prev < 0.75:\n",
    "            result.append(value)\n",
    "            \n",
    "    result.append(value)\n",
    "    \n",
    "    return result\n",
    "    \n",
    "\n",
    "quartiles(sorted(zip(values, rels)))"
   ]
  },
  {
   "cell_type": "code",
   "execution_count": 77,
   "metadata": {},
   "outputs": [],
   "source": [
    "quartiles_udf = functions.udf(quartiles, returnType=types.ArrayType(types.DoubleType()))"
   ]
  },
  {
   "cell_type": "markdown",
   "metadata": {},
   "source": [
    "Apply to the dataframe:"
   ]
  },
  {
   "cell_type": "code",
   "execution_count": 79,
   "metadata": {
    "collapsed": true
   },
   "outputs": [
    {
     "data": {
      "text/html": [
       "<div>\n",
       "<style scoped>\n",
       "    .dataframe tbody tr th:only-of-type {\n",
       "        vertical-align: middle;\n",
       "    }\n",
       "\n",
       "    .dataframe tbody tr th {\n",
       "        vertical-align: top;\n",
       "    }\n",
       "\n",
       "    .dataframe thead th {\n",
       "        text-align: right;\n",
       "    }\n",
       "</style>\n",
       "<table border=\"1\" class=\"dataframe\">\n",
       "  <thead>\n",
       "    <tr style=\"text-align: right;\">\n",
       "      <th></th>\n",
       "      <th>Hour</th>\n",
       "      <th>quartiles(whole)</th>\n",
       "    </tr>\n",
       "  </thead>\n",
       "  <tbody>\n",
       "    <tr>\n",
       "      <th>0</th>\n",
       "      <td>12</td>\n",
       "      <td>[-38.0, -5.0, -2.0, 6.0, 1371.0]</td>\n",
       "    </tr>\n",
       "    <tr>\n",
       "      <th>1</th>\n",
       "      <td>22</td>\n",
       "      <td>[-39.0, -5.0, 0.0, 22.0, 953.0]</td>\n",
       "    </tr>\n",
       "    <tr>\n",
       "      <th>2</th>\n",
       "      <td>1</td>\n",
       "      <td>[-22.0, -3.0, 13.0, 111.0, 1154.0]</td>\n",
       "    </tr>\n",
       "    <tr>\n",
       "      <th>3</th>\n",
       "      <td>13</td>\n",
       "      <td>[-32.0, -5.0, -2.0, 9.0, 1185.0]</td>\n",
       "    </tr>\n",
       "    <tr>\n",
       "      <th>4</th>\n",
       "      <td>16</td>\n",
       "      <td>[-37.0, -5.0, -1.0, 10.0, 672.0]</td>\n",
       "    </tr>\n",
       "    <tr>\n",
       "      <th>5</th>\n",
       "      <td>6</td>\n",
       "      <td>[-32.0, -6.0, -3.0, -1.0, 1229.0]</td>\n",
       "    </tr>\n",
       "    <tr>\n",
       "      <th>6</th>\n",
       "      <td>3</td>\n",
       "      <td>[-19.0, -7.0, -1.0, 30.0, 596.0]</td>\n",
       "    </tr>\n",
       "    <tr>\n",
       "      <th>7</th>\n",
       "      <td>20</td>\n",
       "      <td>[-35.0, -5.0, 0.0, 19.0, 865.0]</td>\n",
       "    </tr>\n",
       "    <tr>\n",
       "      <th>8</th>\n",
       "      <td>5</td>\n",
       "      <td>[-24.0, -7.0, -4.0, -2.0, 1320.0]</td>\n",
       "    </tr>\n",
       "    <tr>\n",
       "      <th>9</th>\n",
       "      <td>19</td>\n",
       "      <td>[-32.0, -5.0, -1.0, 15.0, 847.0]</td>\n",
       "    </tr>\n",
       "    <tr>\n",
       "      <th>10</th>\n",
       "      <td>15</td>\n",
       "      <td>[-60.0, -5.0, -2.0, 10.0, 1339.0]</td>\n",
       "    </tr>\n",
       "    <tr>\n",
       "      <th>11</th>\n",
       "      <td>17</td>\n",
       "      <td>[-46.0, -5.0, -2.0, 10.0, 1789.0]</td>\n",
       "    </tr>\n",
       "    <tr>\n",
       "      <th>12</th>\n",
       "      <td>9</td>\n",
       "      <td>[-31.0, -6.0, -3.0, 2.0, 1415.0]</td>\n",
       "    </tr>\n",
       "    <tr>\n",
       "      <th>13</th>\n",
       "      <td>4</td>\n",
       "      <td>[-23.0, -7.0, -5.0, -3.0, 485.0]</td>\n",
       "    </tr>\n",
       "    <tr>\n",
       "      <th>14</th>\n",
       "      <td>8</td>\n",
       "      <td>[-72.0, -6.0, -3.0, 0.0, 1407.0]</td>\n",
       "    </tr>\n",
       "    <tr>\n",
       "      <th>15</th>\n",
       "      <td>23</td>\n",
       "      <td>[-30.0, -4.0, 14.0, 62.0, 1036.0]</td>\n",
       "    </tr>\n",
       "    <tr>\n",
       "      <th>16</th>\n",
       "      <td>7</td>\n",
       "      <td>[-28.0, -6.0, -3.0, 0.0, 1076.0]</td>\n",
       "    </tr>\n",
       "    <tr>\n",
       "      <th>17</th>\n",
       "      <td>10</td>\n",
       "      <td>[-26.0, -5.0, -2.0, 5.0, 1307.0]</td>\n",
       "    </tr>\n",
       "    <tr>\n",
       "      <th>18</th>\n",
       "      <td>24</td>\n",
       "      <td>[-7.0, 1.0, 21.0, 110.0, 480.0]</td>\n",
       "    </tr>\n",
       "    <tr>\n",
       "      <th>19</th>\n",
       "      <td>21</td>\n",
       "      <td>[-39.0, -5.0, 0.0, 27.0, 954.0]</td>\n",
       "    </tr>\n",
       "    <tr>\n",
       "      <th>20</th>\n",
       "      <td>11</td>\n",
       "      <td>[-45.0, -5.0, -2.0, 5.0, 1317.0]</td>\n",
       "    </tr>\n",
       "    <tr>\n",
       "      <th>21</th>\n",
       "      <td>14</td>\n",
       "      <td>[-32.0, -5.0, -2.0, 10.0, 1435.0]</td>\n",
       "    </tr>\n",
       "    <tr>\n",
       "      <th>22</th>\n",
       "      <td>2</td>\n",
       "      <td>[-24.0, -5.0, 26.0, 136.0, 658.0]</td>\n",
       "    </tr>\n",
       "    <tr>\n",
       "      <th>23</th>\n",
       "      <td>0</td>\n",
       "      <td>[-20.0, -4.0, 11.0, 89.0, 2098.0]</td>\n",
       "    </tr>\n",
       "    <tr>\n",
       "      <th>24</th>\n",
       "      <td>18</td>\n",
       "      <td>[-40.0, -5.0, -1.0, 14.0, 1439.0]</td>\n",
       "    </tr>\n",
       "  </tbody>\n",
       "</table>\n",
       "</div>"
      ],
      "text/plain": [
       "    Hour                    quartiles(whole)\n",
       "0     12    [-38.0, -5.0, -2.0, 6.0, 1371.0]\n",
       "1     22     [-39.0, -5.0, 0.0, 22.0, 953.0]\n",
       "2      1  [-22.0, -3.0, 13.0, 111.0, 1154.0]\n",
       "3     13    [-32.0, -5.0, -2.0, 9.0, 1185.0]\n",
       "4     16    [-37.0, -5.0, -1.0, 10.0, 672.0]\n",
       "5      6   [-32.0, -6.0, -3.0, -1.0, 1229.0]\n",
       "6      3    [-19.0, -7.0, -1.0, 30.0, 596.0]\n",
       "7     20     [-35.0, -5.0, 0.0, 19.0, 865.0]\n",
       "8      5   [-24.0, -7.0, -4.0, -2.0, 1320.0]\n",
       "9     19    [-32.0, -5.0, -1.0, 15.0, 847.0]\n",
       "10    15   [-60.0, -5.0, -2.0, 10.0, 1339.0]\n",
       "11    17   [-46.0, -5.0, -2.0, 10.0, 1789.0]\n",
       "12     9    [-31.0, -6.0, -3.0, 2.0, 1415.0]\n",
       "13     4    [-23.0, -7.0, -5.0, -3.0, 485.0]\n",
       "14     8    [-72.0, -6.0, -3.0, 0.0, 1407.0]\n",
       "15    23   [-30.0, -4.0, 14.0, 62.0, 1036.0]\n",
       "16     7    [-28.0, -6.0, -3.0, 0.0, 1076.0]\n",
       "17    10    [-26.0, -5.0, -2.0, 5.0, 1307.0]\n",
       "18    24     [-7.0, 1.0, 21.0, 110.0, 480.0]\n",
       "19    21     [-39.0, -5.0, 0.0, 27.0, 954.0]\n",
       "20    11    [-45.0, -5.0, -2.0, 5.0, 1317.0]\n",
       "21    14   [-32.0, -5.0, -2.0, 10.0, 1435.0]\n",
       "22     2   [-24.0, -5.0, 26.0, 136.0, 658.0]\n",
       "23     0   [-20.0, -4.0, 11.0, 89.0, 2098.0]\n",
       "24    18   [-40.0, -5.0, -1.0, 14.0, 1439.0]"
      ]
     },
     "execution_count": 79,
     "metadata": {},
     "output_type": "execute_result"
    }
   ],
   "source": [
    "final_result = whole_dists.select('Hour',\n",
    "                                  quartiles_udf('whole'))\n",
    "\n",
    "final_result.toPandas()"
   ]
  },
  {
   "cell_type": "markdown",
   "metadata": {},
   "source": [
    "### Plotting\n",
    "\n",
    "We got it! Let's move this over to Pandas for convenient handling"
   ]
  },
  {
   "cell_type": "code",
   "execution_count": 80,
   "metadata": {
    "collapsed": true
   },
   "outputs": [
    {
     "data": {
      "text/html": [
       "<div>\n",
       "<style scoped>\n",
       "    .dataframe tbody tr th:only-of-type {\n",
       "        vertical-align: middle;\n",
       "    }\n",
       "\n",
       "    .dataframe tbody tr th {\n",
       "        vertical-align: top;\n",
       "    }\n",
       "\n",
       "    .dataframe thead th {\n",
       "        text-align: right;\n",
       "    }\n",
       "</style>\n",
       "<table border=\"1\" class=\"dataframe\">\n",
       "  <thead>\n",
       "    <tr style=\"text-align: right;\">\n",
       "      <th></th>\n",
       "      <th>Hour</th>\n",
       "      <th>quartiles(whole)</th>\n",
       "    </tr>\n",
       "  </thead>\n",
       "  <tbody>\n",
       "    <tr>\n",
       "      <th>0</th>\n",
       "      <td>12</td>\n",
       "      <td>[-38.0, -5.0, -2.0, 6.0, 1371.0]</td>\n",
       "    </tr>\n",
       "    <tr>\n",
       "      <th>1</th>\n",
       "      <td>22</td>\n",
       "      <td>[-39.0, -5.0, 0.0, 22.0, 953.0]</td>\n",
       "    </tr>\n",
       "    <tr>\n",
       "      <th>2</th>\n",
       "      <td>1</td>\n",
       "      <td>[-22.0, -3.0, 13.0, 111.0, 1154.0]</td>\n",
       "    </tr>\n",
       "    <tr>\n",
       "      <th>3</th>\n",
       "      <td>13</td>\n",
       "      <td>[-32.0, -5.0, -2.0, 9.0, 1185.0]</td>\n",
       "    </tr>\n",
       "    <tr>\n",
       "      <th>4</th>\n",
       "      <td>16</td>\n",
       "      <td>[-37.0, -5.0, -1.0, 10.0, 672.0]</td>\n",
       "    </tr>\n",
       "    <tr>\n",
       "      <th>5</th>\n",
       "      <td>6</td>\n",
       "      <td>[-32.0, -6.0, -3.0, -1.0, 1229.0]</td>\n",
       "    </tr>\n",
       "    <tr>\n",
       "      <th>6</th>\n",
       "      <td>3</td>\n",
       "      <td>[-19.0, -7.0, -1.0, 30.0, 596.0]</td>\n",
       "    </tr>\n",
       "    <tr>\n",
       "      <th>7</th>\n",
       "      <td>20</td>\n",
       "      <td>[-35.0, -5.0, 0.0, 19.0, 865.0]</td>\n",
       "    </tr>\n",
       "    <tr>\n",
       "      <th>8</th>\n",
       "      <td>5</td>\n",
       "      <td>[-24.0, -7.0, -4.0, -2.0, 1320.0]</td>\n",
       "    </tr>\n",
       "    <tr>\n",
       "      <th>9</th>\n",
       "      <td>19</td>\n",
       "      <td>[-32.0, -5.0, -1.0, 15.0, 847.0]</td>\n",
       "    </tr>\n",
       "    <tr>\n",
       "      <th>10</th>\n",
       "      <td>15</td>\n",
       "      <td>[-60.0, -5.0, -2.0, 10.0, 1339.0]</td>\n",
       "    </tr>\n",
       "    <tr>\n",
       "      <th>11</th>\n",
       "      <td>17</td>\n",
       "      <td>[-46.0, -5.0, -2.0, 10.0, 1789.0]</td>\n",
       "    </tr>\n",
       "    <tr>\n",
       "      <th>12</th>\n",
       "      <td>9</td>\n",
       "      <td>[-31.0, -6.0, -3.0, 2.0, 1415.0]</td>\n",
       "    </tr>\n",
       "    <tr>\n",
       "      <th>13</th>\n",
       "      <td>4</td>\n",
       "      <td>[-23.0, -7.0, -5.0, -3.0, 485.0]</td>\n",
       "    </tr>\n",
       "    <tr>\n",
       "      <th>14</th>\n",
       "      <td>8</td>\n",
       "      <td>[-72.0, -6.0, -3.0, 0.0, 1407.0]</td>\n",
       "    </tr>\n",
       "    <tr>\n",
       "      <th>15</th>\n",
       "      <td>23</td>\n",
       "      <td>[-30.0, -4.0, 14.0, 62.0, 1036.0]</td>\n",
       "    </tr>\n",
       "    <tr>\n",
       "      <th>16</th>\n",
       "      <td>7</td>\n",
       "      <td>[-28.0, -6.0, -3.0, 0.0, 1076.0]</td>\n",
       "    </tr>\n",
       "    <tr>\n",
       "      <th>17</th>\n",
       "      <td>10</td>\n",
       "      <td>[-26.0, -5.0, -2.0, 5.0, 1307.0]</td>\n",
       "    </tr>\n",
       "    <tr>\n",
       "      <th>18</th>\n",
       "      <td>24</td>\n",
       "      <td>[-7.0, 1.0, 21.0, 110.0, 480.0]</td>\n",
       "    </tr>\n",
       "    <tr>\n",
       "      <th>19</th>\n",
       "      <td>21</td>\n",
       "      <td>[-39.0, -5.0, 0.0, 27.0, 954.0]</td>\n",
       "    </tr>\n",
       "    <tr>\n",
       "      <th>20</th>\n",
       "      <td>11</td>\n",
       "      <td>[-45.0, -5.0, -2.0, 5.0, 1317.0]</td>\n",
       "    </tr>\n",
       "    <tr>\n",
       "      <th>21</th>\n",
       "      <td>14</td>\n",
       "      <td>[-32.0, -5.0, -2.0, 10.0, 1435.0]</td>\n",
       "    </tr>\n",
       "    <tr>\n",
       "      <th>22</th>\n",
       "      <td>2</td>\n",
       "      <td>[-24.0, -5.0, 26.0, 136.0, 658.0]</td>\n",
       "    </tr>\n",
       "    <tr>\n",
       "      <th>23</th>\n",
       "      <td>0</td>\n",
       "      <td>[-20.0, -4.0, 11.0, 89.0, 2098.0]</td>\n",
       "    </tr>\n",
       "    <tr>\n",
       "      <th>24</th>\n",
       "      <td>18</td>\n",
       "      <td>[-40.0, -5.0, -1.0, 14.0, 1439.0]</td>\n",
       "    </tr>\n",
       "  </tbody>\n",
       "</table>\n",
       "</div>"
      ],
      "text/plain": [
       "    Hour                    quartiles(whole)\n",
       "0     12    [-38.0, -5.0, -2.0, 6.0, 1371.0]\n",
       "1     22     [-39.0, -5.0, 0.0, 22.0, 953.0]\n",
       "2      1  [-22.0, -3.0, 13.0, 111.0, 1154.0]\n",
       "3     13    [-32.0, -5.0, -2.0, 9.0, 1185.0]\n",
       "4     16    [-37.0, -5.0, -1.0, 10.0, 672.0]\n",
       "5      6   [-32.0, -6.0, -3.0, -1.0, 1229.0]\n",
       "6      3    [-19.0, -7.0, -1.0, 30.0, 596.0]\n",
       "7     20     [-35.0, -5.0, 0.0, 19.0, 865.0]\n",
       "8      5   [-24.0, -7.0, -4.0, -2.0, 1320.0]\n",
       "9     19    [-32.0, -5.0, -1.0, 15.0, 847.0]\n",
       "10    15   [-60.0, -5.0, -2.0, 10.0, 1339.0]\n",
       "11    17   [-46.0, -5.0, -2.0, 10.0, 1789.0]\n",
       "12     9    [-31.0, -6.0, -3.0, 2.0, 1415.0]\n",
       "13     4    [-23.0, -7.0, -5.0, -3.0, 485.0]\n",
       "14     8    [-72.0, -6.0, -3.0, 0.0, 1407.0]\n",
       "15    23   [-30.0, -4.0, 14.0, 62.0, 1036.0]\n",
       "16     7    [-28.0, -6.0, -3.0, 0.0, 1076.0]\n",
       "17    10    [-26.0, -5.0, -2.0, 5.0, 1307.0]\n",
       "18    24     [-7.0, 1.0, 21.0, 110.0, 480.0]\n",
       "19    21     [-39.0, -5.0, 0.0, 27.0, 954.0]\n",
       "20    11    [-45.0, -5.0, -2.0, 5.0, 1317.0]\n",
       "21    14   [-32.0, -5.0, -2.0, 10.0, 1435.0]\n",
       "22     2   [-24.0, -5.0, 26.0, 136.0, 658.0]\n",
       "23     0   [-20.0, -4.0, 11.0, 89.0, 2098.0]\n",
       "24    18   [-40.0, -5.0, -1.0, 14.0, 1439.0]"
      ]
     },
     "execution_count": 80,
     "metadata": {},
     "output_type": "execute_result"
    }
   ],
   "source": [
    "pd_df = final_result.toPandas()\n",
    "pd_df"
   ]
  },
  {
   "cell_type": "markdown",
   "metadata": {},
   "source": [
    "And we are ready to plot!"
   ]
  },
  {
   "cell_type": "code",
   "execution_count": 84,
   "metadata": {},
   "outputs": [
    {
     "data": {
      "text/plain": [
       "Hour                                              12\n",
       "quartiles(whole)    [-38.0, -5.0, -2.0, 6.0, 1371.0]\n",
       "Name: 0, dtype: object"
      ]
     },
     "execution_count": 84,
     "metadata": {},
     "output_type": "execute_result"
    }
   ],
   "source": [
    "first = pd_df.loc[0]\n",
    "first"
   ]
  },
  {
   "cell_type": "code",
   "execution_count": 87,
   "metadata": {},
   "outputs": [
    {
     "data": {
      "text/plain": [
       "12"
      ]
     },
     "execution_count": 87,
     "metadata": {},
     "output_type": "execute_result"
    }
   ],
   "source": [
    "first['Hour']"
   ]
  },
  {
   "cell_type": "code",
   "execution_count": 86,
   "metadata": {},
   "outputs": [
    {
     "data": {
      "text/plain": [
       "[-38.0, -5.0, -2.0, 6.0, 1371.0]"
      ]
     },
     "execution_count": 86,
     "metadata": {},
     "output_type": "execute_result"
    }
   ],
   "source": [
    "first['quartiles(whole)']"
   ]
  },
  {
   "cell_type": "code",
   "execution_count": 93,
   "metadata": {},
   "outputs": [
    {
     "data": {
      "text/plain": [
       "(-50, 50)"
      ]
     },
     "execution_count": 93,
     "metadata": {},
     "output_type": "execute_result"
    },
    {
     "data": {
      "image/png": "[encoded data removed]",
      "text/plain": [
       "<Figure size 432x288 with 1 Axes>"
      ]
     },
     "metadata": {
      "needs_background": "light"
     },
     "output_type": "display_data"
    }
   ],
   "source": [
    "import matplotlib.pyplot as plt\n",
    "%matplotlib inline\n",
    "\n",
    "plt.scatter([first['Hour']] * 5, first['quartiles(whole)'])\n",
    "plt.ylim(-50, 50)"
   ]
  },
  {
   "cell_type": "code",
   "execution_count": 109,
   "metadata": {},
   "outputs": [
    {
     "data": {
      "text/plain": [
       "(-50, 50)"
      ]
     },
     "execution_count": 109,
     "metadata": {},
     "output_type": "execute_result"
    },
    {
     "data": {
      "image/png": "[encoded data removed]",
      "text/plain": [
       "<Figure size 432x288 with 1 Axes>"
      ]
     },
     "metadata": {
      "needs_background": "light"
     },
     "output_type": "display_data"
    }
   ],
   "source": [
    "for index, hour in enumerate(pd_df['Hour']):\n",
    "    quartiles = pd_df.loc[index]['quartiles(whole)']\n",
    "    plt.scatter([hour] * 5, quartiles)\n",
    "    \n",
    "plt.ylim(-50, 50)"
   ]
  },
  {
   "cell_type": "markdown",
   "metadata": {},
   "source": [
    "## Test your \"Big Data\" prototype with small data"
   ]
  },
  {
   "cell_type": "markdown",
   "metadata": {},
   "source": [
    "### Summary\n",
    "\n",
    "This is the whole process, collected in one place as is:"
   ]
  },
  {
   "cell_type": "code",
   "execution_count": null,
   "metadata": {},
   "outputs": [],
   "source": [
    "from pyspark.sql import SparkSession\n",
    "\n",
    "spark = SparkSession.builder.getOrCreate()\n",
    "df = spark.read.csv('On_Time_Reporting_Carrier_On_Time_Performance_(1987_present)_2018_12.csv', \n",
    "                    inferSchema=True, \n",
    "                    header=True)\n",
    "df\n",
    "\n",
    "df = df[['FlightDate', 'DayOfWeek', 'Reporting_Airline', 'Tail_Number', 'Flight_Number_Reporting_Airline', 'Origin', \n",
    "                'OriginCityName', 'OriginStateName', 'Dest', 'DestCityName', 'DestStateName',\n",
    "                'DepTime', 'DepDelay', 'AirTime', 'Distance']]\n",
    "\n",
    "df\n",
    "\n",
    "from pyspark.sql import types\n",
    "\n",
    "df2 = df.withColumn('Hour', (df['DepTime'] / 100).cast(types.IntegerType()))\n",
    "\n",
    "df2.show(5)\n",
    "\n",
    "\n",
    "distributions = df2.groupby('Hour', 'DepDelay').count()\n",
    "distributions.show(5)\n",
    "\n",
    "totals = distributions.groupby('Hour').sum('count')\n",
    "totals.show(5)\n",
    "\n",
    "joined = distributions.join(totals, on='Hour')\n",
    "\n",
    "joined.show(5)\n",
    "\n",
    "freqs = joined.withColumn('relative', joined['count'] / joined['sum(count)']).cache()\n",
    "freqs.show()\n",
    "\n",
    "from pyspark.sql import functions\n",
    "\n",
    "help(functions.collect_list)\n",
    "\n",
    "rel_dists = freqs.groupby('Hour').agg(functions.collect_list('DepDelay').alias('DepDelays'),\n",
    "                                      functions.collect_list('relative').alias('relatives')).dropna()\n",
    "\n",
    "rel_dists.show(5)\n",
    "\n",
    "zipsort = functions.udf(lambda a,b: sorted(zip(a, b)), \n",
    "                        returnType=types.ArrayType(types.ArrayType(types.DoubleType())))\n",
    "whole_dists = rel_dists.withColumn('whole', zipsort('DepDelays', 'relatives'))\n",
    "whole_dists.show()\n",
    "\n",
    "values = [7, -5, -1, 0, 1, 2, 3, 10]\n",
    "rels = [.05, .2, .05, .15, .05, .1, .2, .2]\n",
    "\n",
    "sorted(zip(values, rels))\n",
    "\n",
    "def quartiles(sorted_freqs):\n",
    "    \n",
    "    cumulative = 0\n",
    "    min_ = sorted_freqs[0][0]\n",
    "    result = [min_]\n",
    "    \n",
    "    for value, rel in sorted_freqs:\n",
    "        prev = cumulative\n",
    "        cumulative += rel\n",
    "        \n",
    "        if cumulative >= 0.25 and prev < 0.25:\n",
    "            result.append(value)\n",
    "        elif cumulative >= 0.5 and prev < 0.5:\n",
    "            result.append(value)\n",
    "        elif cumulative >= 0.75 and prev < 0.75:\n",
    "            result.append(value)\n",
    "            \n",
    "    result.append(value)\n",
    "    \n",
    "    return result\n",
    "    \n",
    "\n",
    "quartiles(sorted(zip(values, rels)))\n",
    "\n",
    "quartiles_udf = functions.udf(quartiles, returnType=types.ArrayType(types.DoubleType()))\n",
    "\n",
    "final_result = whole_dists.select('Hour',\n",
    "                                  quartiles_udf('whole'))\n",
    "\n",
    "final_result.write.json('out.json')"
   ]
  },
  {
   "cell_type": "markdown",
   "metadata": {},
   "source": [
    "Now we have to clean it up"
   ]
  },
  {
   "cell_type": "code",
   "execution_count": null,
   "metadata": {},
   "outputs": [],
   "source": [
    "from __future__ import print_function\n",
    "from pyspark.sql import SparkSession,types, functions\n",
    "import sys\n",
    "\n",
    "def quartiles(sorted_freqs):\n",
    "    \n",
    "    cumulative = 0\n",
    "    min_ = sorted_freqs[0][0]\n",
    "    result = [min_]\n",
    "    \n",
    "    for value, rel in sorted_freqs:\n",
    "        prev = cumulative\n",
    "        cumulative += rel\n",
    "        \n",
    "        if cumulative >= 0.25 and prev < 0.25:\n",
    "            result.append(value)\n",
    "        elif cumulative >= 0.5 and prev < 0.5:\n",
    "            result.append(value)\n",
    "        elif cumulative >= 0.75 and prev < 0.75:\n",
    "            result.append(value)\n",
    "            \n",
    "    result.append(value)\n",
    "    \n",
    "    return result\n",
    "    \n",
    "if __name__=='__main__':\n",
    "    \n",
    "    in_ = sys.argv[1]\n",
    "    out_ = sys.argv[2]\n",
    "    \n",
    "    spark = SparkSession.builder.getOrCreate()\n",
    "\n",
    "    df = spark.read.csv(in_, \n",
    "                        inferSchema=True, \n",
    "                        header=True)\n",
    "    df = df[['FlightDate', 'DayOfWeek', 'Reporting_Airline', 'Tail_Number', 'Flight_Number_Reporting_Airline', 'Origin', \n",
    "                    'OriginCityName', 'OriginStateName', 'Dest', 'DestCityName', 'DestStateName',\n",
    "                    'DepTime', 'DepDelay', 'AirTime', 'Distance']]\n",
    "\n",
    "    df2 = df.withColumn('Hour', (df['DepTime'] / 100).cast(types.IntegerType()))\n",
    "\n",
    "    distributions = df2.groupby('Hour', 'DepDelay').count()\n",
    "    totals = distributions.groupby('Hour').sum('count')\n",
    "    joined = distributions.join(totals, on='Hour')\n",
    "    freqs = joined.withColumn('relative', joined['count'] / joined['sum(count)'])\n",
    "    rel_dists = freqs.groupby('Hour').agg(functions.collect_list('DepDelay').alias('DepDelays'),\n",
    "                                          functions.collect_list('relative').alias('relatives')).dropna()\n",
    "\n",
    "\n",
    "    zipsort = functions.udf(lambda a,b: sorted(zip(a, b)), \n",
    "                            returnType=types.ArrayType(types.ArrayType(types.DoubleType())))\n",
    "    whole_dists = rel_dists.withColumn('whole', zipsort('DepDelays', 'relatives'))\n",
    "    quartiles_udf = functions.udf(quartiles, returnType=types.ArrayType(types.DoubleType()))\n",
    "    final_result = whole_dists.select('Hour',\n",
    "                                      quartiles_udf('whole'))\n",
    "\n",
    "    final_result.write.json(out_)"
   ]
  },
  {
   "cell_type": "code",
   "execution_count": 4,
   "metadata": {},
   "outputs": [
    {
     "data": {
      "text/plain": [
       "'__main__'"
      ]
     },
     "execution_count": 4,
     "metadata": {},
     "output_type": "execute_result"
    }
   ],
   "source": [
    "__name__"
   ]
  },
  {
   "cell_type": "code",
   "execution_count": null,
   "metadata": {},
   "outputs": [],
   "source": []
  },
  {
   "cell_type": "markdown",
   "metadata": {},
   "source": [
    "### Pyspark job\n",
    "\n",
    "In order to run the process in a cluster, we need to transform it into a pyspark job file. \n",
    "\n",
    "We need to tidy up the function definitions, add the relevant imports, and modify the input and output to use command-line arguments.\n",
    "\n",
    "We will put the result in a file called mysparkjob.py:\n",
    "\n",
    "```python\n",
    "from __future__ import print_function\n",
    "from pyspark.sql import types, functions, SparkSession\n",
    "import sys\n",
    "\n",
    "def zipsort(a, b):\n",
    "    return sorted(zip(a, b))\n",
    "\n",
    "def quartiles(histogram):\n",
    "    area = 0\n",
    "    result = []\n",
    "    \n",
    "    for value, percentage in histogram:\n",
    "        if area == 0:\n",
    "            result.append(value)\n",
    "        elif area <= .25 and area + percentage > .25:\n",
    "            result.append(value)\n",
    "        elif area <= .5 and area + percentage > .5:\n",
    "            result.append(value)\n",
    "        elif area <= .75 and area + percentage > .75:\n",
    "            result.append(value)\n",
    "        area += percentage\n",
    "    \n",
    "    result.append(value)\n",
    "    return result\n",
    "\n",
    "if __name__=='__main__':\n",
    "    \n",
    "    file = sys.argv[1]\n",
    "    out = sys.argv[2]\n",
    "    \n",
    "    spark = SparkSession.builder.getOrCreate()\n",
    "    df = spark.read.csv(file, header= True, inferSchema=True)\n",
    "    df = df.select(['FlightDate', 'DayOfWeek', 'Reporting_Airline', 'Tail_Number', 'Flight_Number_Reporting_Airline', 'Origin', \n",
    "                    'OriginCityName', 'OriginStateName', 'Dest', 'DestCityName', 'DestStateName',\n",
    "                    'DepTime', 'DepDelay', 'AirTime', 'Distance'])\n",
    "\n",
    "    df2 = df.withColumn('Hour', (df['DepTime'] / 100).cast(types.IntegerType()))\n",
    "    totals = df2.groupBy('Hour').count()\n",
    "    distributions = df2.groupBy(['Hour', 'DepDelay']).count()\n",
    "    annotated = distributions.join(totals, on='Hour')\n",
    "    frequencies = annotated.withColumn('relative', distributions['count'] / totals['count'])\n",
    "    groups = frequencies.groupBy(totals['Hour'])\\\n",
    "                        .agg(functions.collect_list('DepDelay').alias('delays'),\n",
    "                             functions.collect_list('relative').alias('relatives'))\n",
    "\n",
    "\n",
    "\n",
    "    zipsort_typed = functions.udf(zipsort, types.ArrayType(types.ArrayType(types.FloatType())))\n",
    "    distributions = groups.withColumn('distributions', zipsort_typed('delays', 'relatives'))\n",
    "\n",
    "\n",
    "\n",
    "    quartiles_udf = functions.udf(quartiles, returnType=types.ArrayType(types.FloatType()))\n",
    "\n",
    "    result = distributions.select('Hour',\n",
    "                                  quartiles_udf('distributions').alias('quartiles'))\n",
    "\n",
    "    result.write.json(out)\n",
    "    spark.stop()\n",
    "```"
   ]
  },
  {
   "cell_type": "code",
   "execution_count": 6,
   "metadata": {},
   "outputs": [
    {
     "name": "stdout",
     "output_type": "stream",
     "text": [
      "HOli!\n",
      "Adiosi!\n"
     ]
    }
   ],
   "source": [
    "import modulochachi"
   ]
  },
  {
   "cell_type": "code",
   "execution_count": 7,
   "metadata": {},
   "outputs": [
    {
     "name": "stdout",
     "output_type": "stream",
     "text": [
      "1\n",
      "2\n",
      "3\n"
     ]
    }
   ],
   "source": [
    "modulochachi.cuenta_hasta_3()"
   ]
  },
  {
   "cell_type": "code",
   "execution_count": 1,
   "metadata": {},
   "outputs": [
    {
     "name": "stdout",
     "output_type": "stream",
     "text": [
      "__main__\n"
     ]
    }
   ],
   "source": [
    "print(__name__)"
   ]
  },
  {
   "cell_type": "code",
   "execution_count": 2,
   "metadata": {},
   "outputs": [
    {
     "name": "stdout",
     "output_type": "stream",
     "text": [
      "HOli!\n",
      "Adiosi!\n",
      "modulochachi\n"
     ]
    }
   ],
   "source": [
    "import modulochachi"
   ]
  },
  {
   "cell_type": "code",
   "execution_count": 1,
   "metadata": {},
   "outputs": [],
   "source": [
    "import modulochachi"
   ]
  },
  {
   "cell_type": "code",
   "execution_count": 2,
   "metadata": {},
   "outputs": [
    {
     "name": "stdout",
     "output_type": "stream",
     "text": [
      "1\n",
      "2\n",
      "3\n"
     ]
    }
   ],
   "source": [
    "modulochachi.cuenta_hasta_3()"
   ]
  },
  {
   "cell_type": "markdown",
   "metadata": {},
   "source": [
    "### Running with spark-submit\n",
    "\n",
    "If the following works, we are ready to test it in the cluster!\n",
    "\n",
    "```python\n",
    "unset PYSPARK_DRIVER_PYTHON\n",
    "spark-submit mysparkjob.py On_Time_On_Time_Performance_2015_8.csv out.csv\n",
    "```"
   ]
  }
 ],
 "metadata": {
  "kernelspec": {
   "display_name": "Python 3",
   "language": "python",
   "name": "python3"
  },
  "language_info": {
   "codemirror_mode": {
    "name": "ipython",
    "version": 3
   },
   "file_extension": ".py",
   "mimetype": "text/x-python",
   "name": "python",
   "nbconvert_exporter": "python",
   "pygments_lexer": "ipython3",
   "version": "3.6.8"
  }
 },
 "nbformat": 4,
 "nbformat_minor": 2
}
