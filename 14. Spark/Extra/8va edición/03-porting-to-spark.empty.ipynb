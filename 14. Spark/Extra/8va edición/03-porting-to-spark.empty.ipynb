{
 "cells": [
  {
   "cell_type": "markdown",
   "metadata": {},
   "source": [
    "# Porting an analysis from local to distributed"
   ]
  },
  {
   "cell_type": "markdown",
   "metadata": {},
   "source": [
    "Now comes the opportunity to put in practice what we have just learned!"
   ]
  },
  {
   "cell_type": "markdown",
   "metadata": {},
   "source": [
    "# Guided exercise\n",
    "\n",
    "Recreate the boxplot we did in the pandas section, in Spark!\n",
    "\n",
    "Since matplotlib boxplot needs all the data and that would be unfeasible with Big Data, we will calculate the quartiles ourselves.\n",
    "\n",
    "Once the analysis is ported, we will be able to run it on the whole historical series! You can find it at https://transtats.bts.gov (On time performance reporting carrier)."
   ]
  },
  {
   "cell_type": "markdown",
   "metadata": {},
   "source": [
    "##  Workflow\n",
    "\n",
    "The basic idea is the same that we applied in the Amadeus Challenge:\n",
    "\n",
    "* Build prototype with small data: in this section, we will be using `06-intro_to_pandas_practical.ipynb` as our already made prototype\n",
    "\n",
    "* Modify your prototype so that it works with Big Data: In this case, it means porting it to Spark\n",
    "\n",
    "* Test your \"Big Data\" prototype with small data: We will first test it with a sample locally, then upload it to a cluster and test it with Big Data.\n",
    "\n",
    "    * You can run your analyses building your own cluster and storage bucket in Google Cloud Storage. More in notebook #4!\n",
    "\n",
    "* Run your prototype with Big Data.\n",
    "\n",
    "    \n"
   ]
  },
  {
   "cell_type": "markdown",
   "metadata": {},
   "source": [
    "## Modify the prototype so that it works with Big Data"
   ]
  },
  {
   "cell_type": "code",
   "execution_count": 1,
   "metadata": {},
   "outputs": [
    {
     "name": "stdout",
     "output_type": "stream",
     "text": [
      "Archive:  /home/eduardo/Data/us_dot/On_Time_On_Time_Performance_2015_8.zip\n",
      "  inflating: On_Time_On_Time_Performance_2015_8.csv  \n",
      "  inflating: readme.html             \n"
     ]
    }
   ],
   "source": [
    "folder = '/home/eduardo/Data/us_dot/'\n",
    "filename = 'On_Time_On_Time_Performance_2015_8.zip'\n",
    "!unzip -o {folder+filename}"
   ]
  },
  {
   "cell_type": "code",
   "execution_count": 2,
   "metadata": {},
   "outputs": [
    {
     "name": "stdout",
     "output_type": "stream",
     "text": [
      "total 305M\n",
      "-rw-r--r-- 1 eduardo eduardo  12K oct  5  2015 readme.html\n",
      "-rw-r--r-- 1 eduardo eduardo 220M oct  5  2015 On_Time_On_Time_Performance_2015_8.csv\n",
      "-rw-r--r-- 1 eduardo eduardo  79M may 10 16:55 coupon150720.csv\n",
      "-rw-rw-r-- 1 eduardo eduardo 5,1M may 10 16:56 shakespeare.txt\n",
      "-rw-r--r-- 1 eduardo eduardo  739 may 12 16:48 derby.log\n",
      "-rw-r--r-- 1 eduardo eduardo  96K may 12 16:48 01-first_steps_with_distributed_systems-MapReduce.empty.ipynb\n",
      "drwxr-xr-x 4 eduardo eduardo 4,0K may 12 16:48 metastore_db\n",
      "-rw-r--r-- 1 eduardo eduardo  70K may 17 12:56 02-SparkSQL-DataFrames.empty.ipynb\n",
      "-rw-r--r-- 1 eduardo eduardo 794K may 17 16:50 06-intro_to_pandas_practical.html\n",
      "-rw-r--r-- 1 eduardo eduardo  21K may 17 16:50 04-working_on_cluster.ipynb\n",
      "drwxr-xr-x 2 eduardo eduardo 4,0K may 17 17:10 Class_Notebooks\n",
      "-rw-r--r-- 1 eduardo eduardo  79K may 17 20:26 03-porting-to-spark.empty.ipynb\n"
     ]
    }
   ],
   "source": [
    "!ls -lrth"
   ]
  },
  {
   "cell_type": "code",
   "execution_count": 3,
   "metadata": {},
   "outputs": [
    {
     "name": "stdout",
     "output_type": "stream",
     "text": [
      "\"Year\",\"Quarter\",\"Month\",\"DayofMonth\",\"DayOfWeek\",\"FlightDate\",\"UniqueCarrier\",\"AirlineID\",\"Carrier\",\"TailNum\",\"FlightNum\",\"OriginAirportID\",\"OriginAirportSeqID\",\"OriginCityMarketID\",\"Origin\",\"OriginCityName\",\"OriginState\",\"OriginStateFips\",\"OriginStateName\",\"OriginWac\",\"DestAirportID\",\"DestAirportSeqID\",\"DestCityMarketID\",\"Dest\",\"DestCityName\",\"DestState\",\"DestStateFips\",\"DestStateName\",\"DestWac\",\"CRSDepTime\",\"DepTime\",\"DepDelay\",\"DepDelayMinutes\",\"DepDel15\",\"DepartureDelayGroups\",\"DepTimeBlk\",\"TaxiOut\",\"WheelsOff\",\"WheelsOn\",\"TaxiIn\",\"CRSArrTime\",\"ArrTime\",\"ArrDelay\",\"ArrDelayMinutes\",\"ArrDel15\",\"ArrivalDelayGroups\",\"ArrTimeBlk\",\"Cancelled\",\"CancellationCode\",\"Diverted\",\"CRSElapsedTime\",\"ActualElapsedTime\",\"AirTime\",\"Flights\",\"Distance\",\"DistanceGroup\",\"CarrierDelay\",\"WeatherDelay\",\"NASDelay\",\"SecurityDelay\",\"LateAircraftDelay\",\"FirstDepTime\",\"TotalAddGTime\",\"LongestAddGTime\",\"DivAirportLandings\",\"DivReachedDest\",\"DivActualElapsedTime\",\"DivArrDelay\",\"DivDistance\",\"Div1Airport\",\"Div1AirportID\",\"Div1AirportSeqID\",\"Div1WheelsOn\",\"Div1TotalGTime\",\"Div1LongestGTime\",\"Div1WheelsOff\",\"Div1TailNum\",\"Div2Airport\",\"Div2AirportID\",\"Div2AirportSeqID\",\"Div2WheelsOn\",\"Div2TotalGTime\",\"Div2LongestGTime\",\"Div2WheelsOff\",\"Div2TailNum\",\"Div3Airport\",\"Div3AirportID\",\"Div3AirportSeqID\",\"Div3WheelsOn\",\"Div3TotalGTime\",\"Div3LongestGTime\",\"Div3WheelsOff\",\"Div3TailNum\",\"Div4Airport\",\"Div4AirportID\",\"Div4AirportSeqID\",\"Div4WheelsOn\",\"Div4TotalGTime\",\"Div4LongestGTime\",\"Div4WheelsOff\",\"Div4TailNum\",\"Div5Airport\",\"Div5AirportID\",\"Div5AirportSeqID\",\"Div5WheelsOn\",\"Div5TotalGTime\",\"Div5LongestGTime\",\"Div5WheelsOff\",\"Div5TailNum\",\n",
      "2015,3,8,2,7,2015-08-02,\"AA\",19805,\"AA\",\"N790AA\",\"1\",12478,1247803,31703,\"JFK\",\"New York, NY\",\"NY\",\"36\",\"New York\",22,12892,1289203,32575,\"LAX\",\"Los Angeles, CA\",\"CA\",\"06\",\"California\",91,\"0900\",\"0854\",-6.00,0.00,0.00,-1,\"0900-0959\",25.00,\"0919\",\"1132\",15.00,\"1213\",\"1147\",-26.00,0.00,0.00,-2,\"1200-1259\",0.00,\"\",0.00,373.00,353.00,313.00,1.00,2475.00,10,,,,,,\"\",,,0,,,,,\"\",,,\"\",,,\"\",\"\",\"\",,,\"\",,,\"\",\"\",\"\",,,\"\",,,\"\",\"\",\"\",,,\"\",,,\"\",\"\",\"\",,,\"\",,,\"\",\"\",\n"
     ]
    }
   ],
   "source": [
    "!head -2 On_Time_On_Time_Performance_2015_8.csv"
   ]
  },
  {
   "cell_type": "markdown",
   "metadata": {},
   "source": [
    "## Read csv\n",
    "\n",
    "We'll use the `SparkSession.read.csv` method."
   ]
  },
  {
   "cell_type": "code",
   "execution_count": 4,
   "metadata": {},
   "outputs": [
    {
     "data": {
      "text/html": [
       "\n",
       "            <div>\n",
       "                <p><b>SparkSession - in-memory</b></p>\n",
       "                \n",
       "        <div>\n",
       "            <p><b>SparkContext</b></p>\n",
       "\n",
       "            <p><a href=\"http://10.0.2.15:4040\">Spark UI</a></p>\n",
       "\n",
       "            <dl>\n",
       "              <dt>Version</dt>\n",
       "                <dd><code>v2.4.0</code></dd>\n",
       "              <dt>Master</dt>\n",
       "                <dd><code>local[*]</code></dd>\n",
       "              <dt>AppName</dt>\n",
       "                <dd><code>pyspark-shell</code></dd>\n",
       "            </dl>\n",
       "        </div>\n",
       "        \n",
       "            </div>\n",
       "        "
      ],
      "text/plain": [
       "<pyspark.sql.session.SparkSession at 0x7fc4130a6b00>"
      ]
     },
     "execution_count": 4,
     "metadata": {},
     "output_type": "execute_result"
    }
   ],
   "source": [
    "# Import SparkSession from pyspark.sql\n",
    "from pyspark.sql import SparkSession\n",
    "# Create a Session\n",
    "spark = SparkSession.builder.getOrCreate()\n",
    "# How is my session?\n",
    "spark"
   ]
  },
  {
   "cell_type": "code",
   "execution_count": 5,
   "metadata": {},
   "outputs": [],
   "source": [
    "# inferSchema intenta inferir el Schema en función de los datos\n",
    "df = spark.read.csv('On_Time_On_Time_Performance_2015_8.csv',header=True, inferSchema=True)"
   ]
  },
  {
   "cell_type": "code",
   "execution_count": 6,
   "metadata": {},
   "outputs": [
    {
     "name": "stdout",
     "output_type": "stream",
     "text": [
      "root\n",
      " |-- Year: integer (nullable = true)\n",
      " |-- Quarter: integer (nullable = true)\n",
      " |-- Month: integer (nullable = true)\n",
      " |-- DayofMonth: integer (nullable = true)\n",
      " |-- DayOfWeek: integer (nullable = true)\n",
      " |-- FlightDate: timestamp (nullable = true)\n",
      " |-- UniqueCarrier: string (nullable = true)\n",
      " |-- AirlineID: integer (nullable = true)\n",
      " |-- Carrier: string (nullable = true)\n",
      " |-- TailNum: string (nullable = true)\n",
      " |-- FlightNum: integer (nullable = true)\n",
      " |-- OriginAirportID: integer (nullable = true)\n",
      " |-- OriginAirportSeqID: integer (nullable = true)\n",
      " |-- OriginCityMarketID: integer (nullable = true)\n",
      " |-- Origin: string (nullable = true)\n",
      " |-- OriginCityName: string (nullable = true)\n",
      " |-- OriginState: string (nullable = true)\n",
      " |-- OriginStateFips: integer (nullable = true)\n",
      " |-- OriginStateName: string (nullable = true)\n",
      " |-- OriginWac: integer (nullable = true)\n",
      " |-- DestAirportID: integer (nullable = true)\n",
      " |-- DestAirportSeqID: integer (nullable = true)\n",
      " |-- DestCityMarketID: integer (nullable = true)\n",
      " |-- Dest: string (nullable = true)\n",
      " |-- DestCityName: string (nullable = true)\n",
      " |-- DestState: string (nullable = true)\n",
      " |-- DestStateFips: integer (nullable = true)\n",
      " |-- DestStateName: string (nullable = true)\n",
      " |-- DestWac: integer (nullable = true)\n",
      " |-- CRSDepTime: integer (nullable = true)\n",
      " |-- DepTime: integer (nullable = true)\n",
      " |-- DepDelay: double (nullable = true)\n",
      " |-- DepDelayMinutes: double (nullable = true)\n",
      " |-- DepDel15: double (nullable = true)\n",
      " |-- DepartureDelayGroups: integer (nullable = true)\n",
      " |-- DepTimeBlk: string (nullable = true)\n",
      " |-- TaxiOut: double (nullable = true)\n",
      " |-- WheelsOff: integer (nullable = true)\n",
      " |-- WheelsOn: integer (nullable = true)\n",
      " |-- TaxiIn: double (nullable = true)\n",
      " |-- CRSArrTime: integer (nullable = true)\n",
      " |-- ArrTime: integer (nullable = true)\n",
      " |-- ArrDelay: double (nullable = true)\n",
      " |-- ArrDelayMinutes: double (nullable = true)\n",
      " |-- ArrDel15: double (nullable = true)\n",
      " |-- ArrivalDelayGroups: integer (nullable = true)\n",
      " |-- ArrTimeBlk: string (nullable = true)\n",
      " |-- Cancelled: double (nullable = true)\n",
      " |-- CancellationCode: string (nullable = true)\n",
      " |-- Diverted: double (nullable = true)\n",
      " |-- CRSElapsedTime: double (nullable = true)\n",
      " |-- ActualElapsedTime: double (nullable = true)\n",
      " |-- AirTime: double (nullable = true)\n",
      " |-- Flights: double (nullable = true)\n",
      " |-- Distance: double (nullable = true)\n",
      " |-- DistanceGroup: integer (nullable = true)\n",
      " |-- CarrierDelay: double (nullable = true)\n",
      " |-- WeatherDelay: double (nullable = true)\n",
      " |-- NASDelay: double (nullable = true)\n",
      " |-- SecurityDelay: double (nullable = true)\n",
      " |-- LateAircraftDelay: double (nullable = true)\n",
      " |-- FirstDepTime: integer (nullable = true)\n",
      " |-- TotalAddGTime: double (nullable = true)\n",
      " |-- LongestAddGTime: double (nullable = true)\n",
      " |-- DivAirportLandings: integer (nullable = true)\n",
      " |-- DivReachedDest: double (nullable = true)\n",
      " |-- DivActualElapsedTime: double (nullable = true)\n",
      " |-- DivArrDelay: double (nullable = true)\n",
      " |-- DivDistance: double (nullable = true)\n",
      " |-- Div1Airport: string (nullable = true)\n",
      " |-- Div1AirportID: integer (nullable = true)\n",
      " |-- Div1AirportSeqID: integer (nullable = true)\n",
      " |-- Div1WheelsOn: integer (nullable = true)\n",
      " |-- Div1TotalGTime: double (nullable = true)\n",
      " |-- Div1LongestGTime: double (nullable = true)\n",
      " |-- Div1WheelsOff: integer (nullable = true)\n",
      " |-- Div1TailNum: string (nullable = true)\n",
      " |-- Div2Airport: string (nullable = true)\n",
      " |-- Div2AirportID: integer (nullable = true)\n",
      " |-- Div2AirportSeqID: integer (nullable = true)\n",
      " |-- Div2WheelsOn: integer (nullable = true)\n",
      " |-- Div2TotalGTime: double (nullable = true)\n",
      " |-- Div2LongestGTime: double (nullable = true)\n",
      " |-- Div2WheelsOff: integer (nullable = true)\n",
      " |-- Div2TailNum: string (nullable = true)\n",
      " |-- Div3Airport: string (nullable = true)\n",
      " |-- Div3AirportID: string (nullable = true)\n",
      " |-- Div3AirportSeqID: string (nullable = true)\n",
      " |-- Div3WheelsOn: string (nullable = true)\n",
      " |-- Div3TotalGTime: string (nullable = true)\n",
      " |-- Div3LongestGTime: string (nullable = true)\n",
      " |-- Div3WheelsOff: string (nullable = true)\n",
      " |-- Div3TailNum: string (nullable = true)\n",
      " |-- Div4Airport: string (nullable = true)\n",
      " |-- Div4AirportID: string (nullable = true)\n",
      " |-- Div4AirportSeqID: string (nullable = true)\n",
      " |-- Div4WheelsOn: string (nullable = true)\n",
      " |-- Div4TotalGTime: string (nullable = true)\n",
      " |-- Div4LongestGTime: string (nullable = true)\n",
      " |-- Div4WheelsOff: string (nullable = true)\n",
      " |-- Div4TailNum: string (nullable = true)\n",
      " |-- Div5Airport: string (nullable = true)\n",
      " |-- Div5AirportID: string (nullable = true)\n",
      " |-- Div5AirportSeqID: string (nullable = true)\n",
      " |-- Div5WheelsOn: string (nullable = true)\n",
      " |-- Div5TotalGTime: string (nullable = true)\n",
      " |-- Div5LongestGTime: string (nullable = true)\n",
      " |-- Div5WheelsOff: string (nullable = true)\n",
      " |-- Div5TailNum: string (nullable = true)\n",
      " |-- _c109: string (nullable = true)\n",
      "\n"
     ]
    }
   ],
   "source": [
    "df.printSchema()"
   ]
  },
  {
   "cell_type": "markdown",
   "metadata": {},
   "source": [
    "## Select relevant columns\n",
    "\n",
    "Literally the same syntax as Pandas!"
   ]
  },
  {
   "cell_type": "code",
   "execution_count": 7,
   "metadata": {},
   "outputs": [
    {
     "data": {
      "text/plain": [
       "DataFrame[FlightDate: timestamp, DayOfWeek: int, Carrier: string, FlightNum: int, Origin: string, OriginCityName: string, OriginStateName: string, Dest: string, DestCityName: string, DepTime: int, DepDelay: double, AirTime: double, Distance: double]"
      ]
     },
     "execution_count": 7,
     "metadata": {},
     "output_type": "execute_result"
    }
   ],
   "source": [
    "df = df.select(['FlightDate',\n",
    "                'DayOfWeek',\n",
    "                'Carrier',\n",
    "                'FlightNum',\n",
    "                'Origin',\n",
    "                'OriginCityName',\n",
    "                'OriginStateName',\n",
    "                'Dest',\n",
    "                'DestCityName',\n",
    "                'DepTime',\n",
    "                'DepDelay',\n",
    "                'AirTime',\n",
    "                'Distance'])\n",
    "df"
   ]
  },
  {
   "cell_type": "code",
   "execution_count": 8,
   "metadata": {},
   "outputs": [
    {
     "name": "stdout",
     "output_type": "stream",
     "text": [
      "+-------------------+---------+-------+---------+------+--------------+---------------+----+---------------+-------+--------+-------+--------+\n",
      "|         FlightDate|DayOfWeek|Carrier|FlightNum|Origin|OriginCityName|OriginStateName|Dest|   DestCityName|DepTime|DepDelay|AirTime|Distance|\n",
      "+-------------------+---------+-------+---------+------+--------------+---------------+----+---------------+-------+--------+-------+--------+\n",
      "|2015-08-02 00:00:00|        7|     AA|        1|   JFK|  New York, NY|       New York| LAX|Los Angeles, CA|    854|    -6.0|  313.0|  2475.0|\n",
      "|2015-08-03 00:00:00|        1|     AA|        1|   JFK|  New York, NY|       New York| LAX|Los Angeles, CA|    858|    -2.0|  316.0|  2475.0|\n",
      "|2015-08-04 00:00:00|        2|     AA|        1|   JFK|  New York, NY|       New York| LAX|Los Angeles, CA|    902|     2.0|  326.0|  2475.0|\n",
      "|2015-08-05 00:00:00|        3|     AA|        1|   JFK|  New York, NY|       New York| LAX|Los Angeles, CA|    857|    -3.0|  331.0|  2475.0|\n",
      "|2015-08-06 00:00:00|        4|     AA|        1|   JFK|  New York, NY|       New York| LAX|Los Angeles, CA|    857|    -3.0|  326.0|  2475.0|\n",
      "|2015-08-07 00:00:00|        5|     AA|        1|   JFK|  New York, NY|       New York| LAX|Los Angeles, CA|    854|    -6.0|  311.0|  2475.0|\n",
      "|2015-08-09 00:00:00|        7|     AA|        1|   JFK|  New York, NY|       New York| LAX|Los Angeles, CA|    854|    -6.0|  318.0|  2475.0|\n",
      "|2015-08-10 00:00:00|        1|     AA|        1|   JFK|  New York, NY|       New York| LAX|Los Angeles, CA|    850|   -10.0|  345.0|  2475.0|\n",
      "|2015-08-11 00:00:00|        2|     AA|        1|   JFK|  New York, NY|       New York| LAX|Los Angeles, CA|   1023|    83.0|  317.0|  2475.0|\n",
      "|2015-08-12 00:00:00|        3|     AA|        1|   JFK|  New York, NY|       New York| LAX|Los Angeles, CA|    853|    -7.0|  302.0|  2475.0|\n",
      "|2015-08-13 00:00:00|        4|     AA|        1|   JFK|  New York, NY|       New York| LAX|Los Angeles, CA|    853|    -7.0|  301.0|  2475.0|\n",
      "|2015-08-14 00:00:00|        5|     AA|        1|   JFK|  New York, NY|       New York| LAX|Los Angeles, CA|    853|    -7.0|  301.0|  2475.0|\n",
      "|2015-08-16 00:00:00|        7|     AA|        1|   JFK|  New York, NY|       New York| LAX|Los Angeles, CA|    856|    -4.0|  301.0|  2475.0|\n",
      "|2015-08-17 00:00:00|        1|     AA|        1|   JFK|  New York, NY|       New York| LAX|Los Angeles, CA|    854|    -6.0|  310.0|  2475.0|\n",
      "|2015-08-18 00:00:00|        2|     AA|        1|   JFK|  New York, NY|       New York| LAX|Los Angeles, CA|    908|     8.0|  333.0|  2475.0|\n",
      "|2015-08-19 00:00:00|        3|     AA|        1|   JFK|  New York, NY|       New York| LAX|Los Angeles, CA|    854|    -6.0|  308.0|  2475.0|\n",
      "|2015-08-20 00:00:00|        4|     AA|        1|   JFK|  New York, NY|       New York| LAX|Los Angeles, CA|    856|    -4.0|  324.0|  2475.0|\n",
      "|2015-08-21 00:00:00|        5|     AA|        1|   JFK|  New York, NY|       New York| LAX|Los Angeles, CA|    855|    -5.0|  311.0|  2475.0|\n",
      "|2015-08-22 00:00:00|        6|     AA|        1|   JFK|  New York, NY|       New York| LAX|Los Angeles, CA|    852|    -8.0|  315.0|  2475.0|\n",
      "|2015-08-23 00:00:00|        7|     AA|        1|   JFK|  New York, NY|       New York| LAX|Los Angeles, CA|    851|    -9.0|  326.0|  2475.0|\n",
      "+-------------------+---------+-------+---------+------+--------------+---------------+----+---------------+-------+--------+-------+--------+\n",
      "only showing top 20 rows\n",
      "\n"
     ]
    }
   ],
   "source": [
    "df.show()"
   ]
  },
  {
   "cell_type": "code",
   "execution_count": 9,
   "metadata": {},
   "outputs": [
    {
     "name": "stdout",
     "output_type": "stream",
     "text": [
      "root\n",
      " |-- FlightDate: timestamp (nullable = true)\n",
      " |-- DayOfWeek: integer (nullable = true)\n",
      " |-- Carrier: string (nullable = true)\n",
      " |-- FlightNum: integer (nullable = true)\n",
      " |-- Origin: string (nullable = true)\n",
      " |-- OriginCityName: string (nullable = true)\n",
      " |-- OriginStateName: string (nullable = true)\n",
      " |-- Dest: string (nullable = true)\n",
      " |-- DestCityName: string (nullable = true)\n",
      " |-- DepTime: integer (nullable = true)\n",
      " |-- DepDelay: double (nullable = true)\n",
      " |-- AirTime: double (nullable = true)\n",
      " |-- Distance: double (nullable = true)\n",
      "\n"
     ]
    }
   ],
   "source": [
    "df.printSchema()"
   ]
  },
  {
   "cell_type": "markdown",
   "metadata": {},
   "source": [
    "### Extract \"Hour\" variable\n",
    "\n",
    "The DepTimes have been inferred to be floats. We need them as ints, representing each o fthe 24 hours in a day."
   ]
  },
  {
   "cell_type": "code",
   "execution_count": 10,
   "metadata": {},
   "outputs": [
    {
     "name": "stdout",
     "output_type": "stream",
     "text": [
      "+-------------------+---------+-------+---------+------+--------------+---------------+----+---------------+-------+--------+-------+--------+----+\n",
      "|         FlightDate|DayOfWeek|Carrier|FlightNum|Origin|OriginCityName|OriginStateName|Dest|   DestCityName|DepTime|DepDelay|AirTime|Distance|Hour|\n",
      "+-------------------+---------+-------+---------+------+--------------+---------------+----+---------------+-------+--------+-------+--------+----+\n",
      "|2015-08-02 00:00:00|        7|     AA|        1|   JFK|  New York, NY|       New York| LAX|Los Angeles, CA|    854|    -6.0|  313.0|  2475.0|   8|\n",
      "|2015-08-03 00:00:00|        1|     AA|        1|   JFK|  New York, NY|       New York| LAX|Los Angeles, CA|    858|    -2.0|  316.0|  2475.0|   8|\n",
      "|2015-08-04 00:00:00|        2|     AA|        1|   JFK|  New York, NY|       New York| LAX|Los Angeles, CA|    902|     2.0|  326.0|  2475.0|   9|\n",
      "|2015-08-05 00:00:00|        3|     AA|        1|   JFK|  New York, NY|       New York| LAX|Los Angeles, CA|    857|    -3.0|  331.0|  2475.0|   8|\n",
      "|2015-08-06 00:00:00|        4|     AA|        1|   JFK|  New York, NY|       New York| LAX|Los Angeles, CA|    857|    -3.0|  326.0|  2475.0|   8|\n",
      "|2015-08-07 00:00:00|        5|     AA|        1|   JFK|  New York, NY|       New York| LAX|Los Angeles, CA|    854|    -6.0|  311.0|  2475.0|   8|\n",
      "|2015-08-09 00:00:00|        7|     AA|        1|   JFK|  New York, NY|       New York| LAX|Los Angeles, CA|    854|    -6.0|  318.0|  2475.0|   8|\n",
      "|2015-08-10 00:00:00|        1|     AA|        1|   JFK|  New York, NY|       New York| LAX|Los Angeles, CA|    850|   -10.0|  345.0|  2475.0|   8|\n",
      "|2015-08-11 00:00:00|        2|     AA|        1|   JFK|  New York, NY|       New York| LAX|Los Angeles, CA|   1023|    83.0|  317.0|  2475.0|  10|\n",
      "|2015-08-12 00:00:00|        3|     AA|        1|   JFK|  New York, NY|       New York| LAX|Los Angeles, CA|    853|    -7.0|  302.0|  2475.0|   8|\n",
      "|2015-08-13 00:00:00|        4|     AA|        1|   JFK|  New York, NY|       New York| LAX|Los Angeles, CA|    853|    -7.0|  301.0|  2475.0|   8|\n",
      "|2015-08-14 00:00:00|        5|     AA|        1|   JFK|  New York, NY|       New York| LAX|Los Angeles, CA|    853|    -7.0|  301.0|  2475.0|   8|\n",
      "|2015-08-16 00:00:00|        7|     AA|        1|   JFK|  New York, NY|       New York| LAX|Los Angeles, CA|    856|    -4.0|  301.0|  2475.0|   8|\n",
      "|2015-08-17 00:00:00|        1|     AA|        1|   JFK|  New York, NY|       New York| LAX|Los Angeles, CA|    854|    -6.0|  310.0|  2475.0|   8|\n",
      "|2015-08-18 00:00:00|        2|     AA|        1|   JFK|  New York, NY|       New York| LAX|Los Angeles, CA|    908|     8.0|  333.0|  2475.0|   9|\n",
      "|2015-08-19 00:00:00|        3|     AA|        1|   JFK|  New York, NY|       New York| LAX|Los Angeles, CA|    854|    -6.0|  308.0|  2475.0|   8|\n",
      "|2015-08-20 00:00:00|        4|     AA|        1|   JFK|  New York, NY|       New York| LAX|Los Angeles, CA|    856|    -4.0|  324.0|  2475.0|   8|\n",
      "|2015-08-21 00:00:00|        5|     AA|        1|   JFK|  New York, NY|       New York| LAX|Los Angeles, CA|    855|    -5.0|  311.0|  2475.0|   8|\n",
      "|2015-08-22 00:00:00|        6|     AA|        1|   JFK|  New York, NY|       New York| LAX|Los Angeles, CA|    852|    -8.0|  315.0|  2475.0|   8|\n",
      "|2015-08-23 00:00:00|        7|     AA|        1|   JFK|  New York, NY|       New York| LAX|Los Angeles, CA|    851|    -9.0|  326.0|  2475.0|   8|\n",
      "+-------------------+---------+-------+---------+------+--------------+---------------+----+---------------+-------+--------+-------+--------+----+\n",
      "only showing top 20 rows\n",
      "\n"
     ]
    }
   ],
   "source": [
    "from pyspark.sql import types\n",
    "\n",
    "df3 = df.withColumn('Hour',(df['DepTime']/100).cast(types.IntegerType()))\n",
    "df3.show()"
   ]
  },
  {
   "cell_type": "markdown",
   "metadata": {},
   "source": [
    "## Generate the relative distributions\n",
    "\n",
    "In order to be able to handle the data, we need to reduce its dimensionality. Since we want to describe a discrete distribution, we can just count how many values of each level of the 'DepDelay' variable we find for each hour (24 different discrete distributions). We also want the totals in order to do the relative distribution."
   ]
  },
  {
   "cell_type": "markdown",
   "metadata": {},
   "source": [
    "### Totals"
   ]
  },
  {
   "cell_type": "code",
   "execution_count": 11,
   "metadata": {},
   "outputs": [
    {
     "name": "stdout",
     "output_type": "stream",
     "text": [
      "+----+-----+\n",
      "|Hour|count|\n",
      "+----+-----+\n",
      "|null| 4719|\n",
      "|   0| 2735|\n",
      "|   1|  856|\n",
      "|   2|  212|\n",
      "|   3|  110|\n",
      "|   4| 1086|\n",
      "|   5|17118|\n",
      "|   6|32634|\n",
      "|   7|31069|\n",
      "|   8|31596|\n",
      "|   9|29865|\n",
      "|  10|31678|\n",
      "|  11|29704|\n",
      "|  12|30579|\n",
      "|  13|29727|\n",
      "|  14|27838|\n",
      "|  15|30730|\n",
      "|  16|27991|\n",
      "|  17|31983|\n",
      "|  18|28566|\n",
      "+----+-----+\n",
      "only showing top 20 rows\n",
      "\n"
     ]
    }
   ],
   "source": [
    "totals = df3.groupBy('Hour').count().orderBy('Hour')\n",
    "totals.show()"
   ]
  },
  {
   "cell_type": "markdown",
   "metadata": {},
   "source": [
    "### Distributions"
   ]
  },
  {
   "cell_type": "code",
   "execution_count": 12,
   "metadata": {},
   "outputs": [
    {
     "name": "stdout",
     "output_type": "stream",
     "text": [
      "+----+--------+------+\n",
      "|Hour|DepDelay|count1|\n",
      "+----+--------+------+\n",
      "|null|    null|     0|\n",
      "|   0|   -20.0|     3|\n",
      "|   0|   -19.0|     1|\n",
      "|   0|   -18.0|     3|\n",
      "|   0|   -17.0|     2|\n",
      "|   0|   -16.0|     2|\n",
      "|   0|   -15.0|     3|\n",
      "|   0|   -14.0|     6|\n",
      "|   0|   -13.0|     7|\n",
      "|   0|   -12.0|    13|\n",
      "|   0|   -11.0|    12|\n",
      "|   0|   -10.0|    21|\n",
      "|   0|    -9.0|    31|\n",
      "|   0|    -8.0|    49|\n",
      "|   0|    -7.0|    62|\n",
      "|   0|    -6.0|    72|\n",
      "|   0|    -5.0|    91|\n",
      "|   0|    -4.0|   110|\n",
      "|   0|    -3.0|   123|\n",
      "|   0|    -2.0|   105|\n",
      "+----+--------+------+\n",
      "only showing top 20 rows\n",
      "\n"
     ]
    }
   ],
   "source": [
    "from pyspark.sql import functions as f\n",
    "distributions = df3.groupBy(['Hour','DepDelay']).agg(f.count('Hour').alias('count1'))\n",
    "distributions.orderBy('Hour','DepDelay',ascending=True).show(20)"
   ]
  },
  {
   "cell_type": "code",
   "execution_count": 13,
   "metadata": {},
   "outputs": [
    {
     "name": "stdout",
     "output_type": "stream",
     "text": [
      "<HTML>\n",
      "<HEAD>\n",
      "\t<TITLE> readme.html </TITLE>\n",
      "</HEAD>\n",
      "<BODY>\n",
      "\t<TABLE><TR><TD COLSPAN=2><H4>BACKGROUND</H4></TD></TR>\n",
      "\t<TR><TD COLSPAN=2>The data contained in the compressed file has been extracted from the \n",
      "\tOn-Time Performance data table of the \"On-Time\" database from the TranStats data library. \n",
      "\tThe time period is indicated in the name of the compressed file; \n",
      "\tfor example, XXX_XXXXX_2001_1 contains data of the first month of the year 2001. </TD></TR>\n"
     ]
    }
   ],
   "source": [
    "!head readme.html"
   ]
  },
  {
   "cell_type": "markdown",
   "metadata": {},
   "source": [
    "Now we join both and calculate what fraction of the total for each hour each level of DepDelay represents."
   ]
  },
  {
   "cell_type": "code",
   "execution_count": 14,
   "metadata": {},
   "outputs": [
    {
     "name": "stdout",
     "output_type": "stream",
     "text": [
      "+----+--------+------+-----+\n",
      "|Hour|DepDelay|count1|count|\n",
      "+----+--------+------+-----+\n",
      "|  13|    19.0|   170|29727|\n",
      "|  16|    76.0|    30|27991|\n",
      "|  17|     8.0|   453|31983|\n",
      "|  17|    72.0|    29|31983|\n",
      "|  15|   644.0|     1|30730|\n",
      "|  18|   -11.0|   255|28566|\n",
      "|  16|    84.0|    28|27991|\n",
      "|  22|     9.0|   156|12594|\n",
      "|   4|    -8.0|    92| 1086|\n",
      "|  22|    73.0|    19|12594|\n",
      "|   9|   170.0|     3|29865|\n",
      "|  17|    86.0|    28|31983|\n",
      "|  23|   129.0|     5| 5781|\n",
      "|   7|    91.0|     8|31069|\n",
      "|  21|   -21.0|     3|18255|\n",
      "|  23|   108.0|    10| 5781|\n",
      "|  13|   -18.0|    11|29727|\n",
      "|   7|    52.0|    12|31069|\n",
      "|  10|    70.0|    16|31678|\n",
      "|  22|   165.0|    11|12594|\n",
      "+----+--------+------+-----+\n",
      "only showing top 20 rows\n",
      "\n"
     ]
    }
   ],
   "source": [
    "annotated = distributions.join(totals,on='Hour')\n",
    "annotated.show()"
   ]
  },
  {
   "cell_type": "markdown",
   "metadata": {},
   "source": [
    "### Intermission: OTP15\n",
    "\n",
    "On Time Performance 15 is the standard Key Performance Indicator for airline punctuality. It reflects the proportion of departures that actually took place within 15 minutes of their estimated time of departure.\n",
    "\n",
    "Let's have a quick look at how it behaves through the day."
   ]
  },
  {
   "cell_type": "code",
   "execution_count": 15,
   "metadata": {},
   "outputs": [
    {
     "name": "stdout",
     "output_type": "stream",
     "text": [
      "+----+--------+------+-----+--------------------+\n",
      "|Hour|DepDelay|count1|count|            relative|\n",
      "+----+--------+------+-----+--------------------+\n",
      "|  13|    19.0|   170|29727|0.005718706899451677|\n",
      "|  16|    76.0|    30|27991|0.001071773069915...|\n",
      "|  17|     8.0|   453|31983| 0.01416377450520589|\n",
      "|  17|    72.0|    29|31983|9.067317012162712E-4|\n",
      "|  15|   644.0|     1|30730|3.254149040026033E-5|\n",
      "|  18|   -11.0|   255|28566|0.008926696072253729|\n",
      "|  16|    84.0|    28|27991|0.001000321531920...|\n",
      "|  22|     9.0|   156|12594|0.012386850881372083|\n",
      "|   4|    -8.0|    92| 1086|  0.0847145488029466|\n",
      "|  22|    73.0|    19|12594|0.001508654915038...|\n",
      "|   9|   170.0|     3|29865|1.004520341536916...|\n",
      "|  17|    86.0|    28|31983|8.754650908295032E-4|\n",
      "|  23|   129.0|     5| 5781|8.649022660439371E-4|\n",
      "|   7|    91.0|     8|31069|2.574913901316425E-4|\n",
      "|  21|   -21.0|     3|18255|1.643385373870172...|\n",
      "|  23|   108.0|    10| 5781|0.001729804532087...|\n",
      "|  13|   -18.0|    11|29727|3.700339758468732E-4|\n",
      "|   7|    52.0|    12|31069|3.862370851974637E-4|\n",
      "|  10|    70.0|    16|31678|5.050823915651241E-4|\n",
      "|  22|   165.0|    11|12594|8.734317929172622E-4|\n",
      "+----+--------+------+-----+--------------------+\n",
      "only showing top 20 rows\n",
      "\n"
     ]
    }
   ],
   "source": [
    "frequencies = annotated.withColumn('relative', annotated['count1']/annotated['count'])\n",
    "frequencies.show()"
   ]
  },
  {
   "cell_type": "code",
   "execution_count": 16,
   "metadata": {},
   "outputs": [
    {
     "name": "stdout",
     "output_type": "stream",
     "text": [
      "+----+--------+------+-----+--------------------+\n",
      "|Hour|DepDelay|count1|count|            relative|\n",
      "+----+--------+------+-----+--------------------+\n",
      "|   0|     0.0|    94| 2735| 0.03436928702010969|\n",
      "|   1|     0.0|    13|  856|0.015186915887850467|\n",
      "|   2|     0.0|     6|  212| 0.02830188679245283|\n",
      "|   3|     0.0|     8|  110| 0.07272727272727272|\n",
      "|   4|     0.0|     5| 1086|0.004604051565377533|\n",
      "|   5|     0.0|   760|17118| 0.04439771001285197|\n",
      "|   6|     0.0|  2238|32634| 0.06857878286449715|\n",
      "|   7|     0.0|  2184|31069| 0.07029514950593839|\n",
      "|   8|     0.0|  2138|31596| 0.06766679326497024|\n",
      "|   9|     0.0|  1949|29865| 0.06526033818851498|\n",
      "|  10|     0.0|  2041|31678| 0.06442957257402614|\n",
      "|  11|     0.0|  1828|29704|0.061540533261513604|\n",
      "|  12|     0.0|  1930|30579| 0.06311520978449263|\n",
      "|  13|     0.0|  1997|29727| 0.06717798634238234|\n",
      "|  14|     0.0|  1656|27838| 0.05948703211437603|\n",
      "|  15|     0.0|  1868|30730|  0.0607875040676863|\n",
      "|  16|     0.0|  1644|27991| 0.05873316423136008|\n",
      "|  17|     0.0|  1873|31983| 0.05856236125441641|\n",
      "|  18|     0.0|  1454|28566|0.050899670937478124|\n",
      "|  19|     0.0|  1448|29129| 0.04970991108517285|\n",
      "|  20|     0.0|  1118|23912|  0.0467547674807628|\n",
      "|  21|     0.0|   797|18255| 0.04365927143248425|\n",
      "|  22|     0.0|   585|12594| 0.04645069080514531|\n",
      "|  23|     0.0|   237| 5781| 0.04099636741048261|\n",
      "+----+--------+------+-----+--------------------+\n",
      "\n"
     ]
    }
   ],
   "source": [
    "# Freqcuencia (relative) de vuelos sin retraso por cada hora\n",
    "frequencies.filter(f.col('DepDelay') == 0).orderBy(frequencies['Hour']).show(30)"
   ]
  },
  {
   "cell_type": "code",
   "execution_count": 17,
   "metadata": {},
   "outputs": [
    {
     "name": "stdout",
     "output_type": "stream",
     "text": [
      "+----+--------+------+-----+--------------------+-------------------+\n",
      "|Hour|DepDelay|count1|count|            relative|relative_precentage|\n",
      "+----+--------+------+-----+--------------------+-------------------+\n",
      "|  13|    19.0|   170|29727|0.005718706899451677|              0.006|\n",
      "|  16|    76.0|    30|27991|0.001071773069915...|              0.001|\n",
      "|  17|     8.0|   453|31983| 0.01416377450520589|              0.014|\n",
      "|  17|    72.0|    29|31983|9.067317012162712E-4|              0.001|\n",
      "|  15|   644.0|     1|30730|3.254149040026033E-5|                0.0|\n",
      "|  18|   -11.0|   255|28566|0.008926696072253729|              0.009|\n",
      "|  16|    84.0|    28|27991|0.001000321531920...|              0.001|\n",
      "|  22|     9.0|   156|12594|0.012386850881372083|              0.012|\n",
      "|   4|    -8.0|    92| 1086|  0.0847145488029466|              0.085|\n",
      "|  22|    73.0|    19|12594|0.001508654915038...|              0.002|\n",
      "|   9|   170.0|     3|29865|1.004520341536916...|                0.0|\n",
      "|  17|    86.0|    28|31983|8.754650908295032E-4|              0.001|\n",
      "|  23|   129.0|     5| 5781|8.649022660439371E-4|              0.001|\n",
      "|   7|    91.0|     8|31069|2.574913901316425E-4|                0.0|\n",
      "|  21|   -21.0|     3|18255|1.643385373870172...|                0.0|\n",
      "|  23|   108.0|    10| 5781|0.001729804532087...|              0.002|\n",
      "|  13|   -18.0|    11|29727|3.700339758468732E-4|                0.0|\n",
      "|   7|    52.0|    12|31069|3.862370851974637E-4|                0.0|\n",
      "|  10|    70.0|    16|31678|5.050823915651241E-4|              0.001|\n",
      "|  22|   165.0|    11|12594|8.734317929172622E-4|              0.001|\n",
      "+----+--------+------+-----+--------------------+-------------------+\n",
      "only showing top 20 rows\n",
      "\n"
     ]
    }
   ],
   "source": [
    "frequencies.withColumn('relative_precentage',(f.round(frequencies['relative'],3))).show()"
   ]
  },
  {
   "cell_type": "markdown",
   "metadata": {},
   "source": [
    "### Generate distributions\n",
    "\n",
    "We have to group on the hour. Each group will be a bunch of delays and the corresponding frequencies."
   ]
  },
  {
   "cell_type": "code",
   "execution_count": 18,
   "metadata": {},
   "outputs": [
    {
     "data": {
      "text/plain": [
       "<pyspark.sql.group.GroupedData at 0x7fc41303ae80>"
      ]
     },
     "execution_count": 18,
     "metadata": {},
     "output_type": "execute_result"
    }
   ],
   "source": [
    "groups = frequencies.groupBy(frequencies['Hour'])\n",
    "groups"
   ]
  },
  {
   "cell_type": "markdown",
   "metadata": {},
   "source": [
    "These groups are definitely manageable: the number of levels will be on the order of a few hundreds to a couple thousands. We can combine them into lists straight away."
   ]
  },
  {
   "cell_type": "code",
   "execution_count": 19,
   "metadata": {},
   "outputs": [
    {
     "name": "stdout",
     "output_type": "stream",
     "text": [
      "Help on function collect_list in module pyspark.sql.functions:\n",
      "\n",
      "collect_list(col)\n",
      "    Aggregate function: returns a list of objects with duplicates.\n",
      "    \n",
      "    .. note:: The function is non-deterministic because the order of collected results depends\n",
      "        on order of rows which may be non-deterministic after a shuffle.\n",
      "    \n",
      "    >>> df2 = spark.createDataFrame([(2,), (5,), (5,)], ('age',))\n",
      "    >>> df2.agg(collect_list('age')).collect()\n",
      "    [Row(collect_list(age)=[2, 5, 5])]\n",
      "    \n",
      "    .. versionadded:: 1.6\n",
      "\n"
     ]
    }
   ],
   "source": [
    "help(f.collect_list)"
   ]
  },
  {
   "cell_type": "code",
   "execution_count": 20,
   "metadata": {},
   "outputs": [
    {
     "name": "stdout",
     "output_type": "stream",
     "text": [
      "root\n",
      " |-- Hour: integer (nullable = true)\n",
      " |-- delays: array (nullable = true)\n",
      " |    |-- element: double (containsNull = true)\n",
      " |-- relatives: array (nullable = true)\n",
      " |    |-- element: double (containsNull = true)\n",
      "\n"
     ]
    }
   ],
   "source": [
    "groups = frequencies.groupBy(frequencies['Hour']).agg(f.collect_list('DepDelay').alias('delays'),\n",
    "                                                      f.collect_list('relative').alias('relatives'))\n",
    "groups.printSchema()"
   ]
  },
  {
   "cell_type": "code",
   "execution_count": 21,
   "metadata": {},
   "outputs": [
    {
     "name": "stdout",
     "output_type": "stream",
     "text": [
      "+----+--------------------+--------------------+\n",
      "|Hour|              delays|           relatives|\n",
      "+----+--------------------+--------------------+\n",
      "|  12|[280.0, 167.0, 75...|[3.27021812354884...|\n",
      "|  22|[9.0, 73.0, 165.0...|[0.01238685088137...|\n",
      "|   1|[176.0, 223.0, 30...|[0.00116822429906...|\n",
      "|  13|[19.0, -18.0, 211...|[0.00571870689945...|\n",
      "|  16|[76.0, 84.0, 289....|[0.00107177306991...|\n",
      "|   6|[89.0, 648.0, 62....|[3.06428877857449...|\n",
      "|   3|[-16.0, 108.0, 76...|[0.00909090909090...|\n",
      "|  20|[173.0, 82.0, 218...|[3.76380060220809...|\n",
      "|   5|[42.0, -19.0, -18...|[5.84180394905946...|\n",
      "|  19|[131.0, 140.0, 28...|[6.86600981839404...|\n",
      "|  15|[644.0, 238.0, 47...|[3.25414904002603...|\n",
      "|  17|[8.0, 72.0, 86.0,...|[0.01416377450520...|\n",
      "|   9|[170.0, 67.0, 60....|[1.00452034153691...|\n",
      "|   4|[-8.0, 3.0, -4.0,...|[0.08471454880294...|\n",
      "|   8|[-18.0, 121.0, 15...|[1.89897455374097...|\n",
      "|  23|[129.0, 108.0, 12...|[8.64902266043937...|\n",
      "|   7|[91.0, 52.0, 51.0...|[2.57491390131642...|\n",
      "|  10|[70.0, 261.0, 25....|[5.05082391565124...|\n",
      "|  24|[195.0, 290.0, 65...|[0.01449275362318...|\n",
      "|  21|[-21.0, 212.0, 29...|[1.64338537387017...|\n",
      "+----+--------------------+--------------------+\n",
      "only showing top 20 rows\n",
      "\n"
     ]
    }
   ],
   "source": [
    "# En una misma entrada estamos recogiendo todos los valores agrupados en una lista\n",
    "# Para cada hora guardamos el delay y el porcentaje en una lista con F.COLLECT_LIST('COLUMN')\n",
    "groups.show()"
   ]
  },
  {
   "cell_type": "code",
   "execution_count": 22,
   "metadata": {},
   "outputs": [
    {
     "name": "stdout",
     "output_type": "stream",
     "text": [
      "+----+-----+\n",
      "|Hour|delay|\n",
      "+----+-----+\n",
      "|  12|280.0|\n",
      "|  12|167.0|\n",
      "|  12| 75.0|\n",
      "|  12|-20.0|\n",
      "|  12|-14.0|\n",
      "|  12|186.0|\n",
      "|  12| 31.0|\n",
      "|  12|  1.0|\n",
      "|  12|  4.0|\n",
      "|  12|150.0|\n",
      "|  12|262.0|\n",
      "|  12|345.0|\n",
      "|  12| 28.0|\n",
      "|  12| 76.0|\n",
      "|  12| 58.0|\n",
      "|  12|139.0|\n",
      "|  12|156.0|\n",
      "|  12| -8.0|\n",
      "|  12| 83.0|\n",
      "|  12|371.0|\n",
      "+----+-----+\n",
      "only showing top 20 rows\n",
      "\n"
     ]
    }
   ],
   "source": [
    "# How to unstack the Dataframe - flatten, explode\n",
    "kk = groups.select('Hour',f.explode('delays').alias('delay'))\n",
    "kk.show()"
   ]
  },
  {
   "cell_type": "markdown",
   "metadata": {},
   "source": [
    "Now it's be easy to use a UDF to merge the two lists and sort them."
   ]
  },
  {
   "cell_type": "code",
   "execution_count": 23,
   "metadata": {},
   "outputs": [],
   "source": [
    "def zipsort(a,b):\n",
    "    return sorted(zip(a,b))\n",
    "\n",
    "udf_zipsort = f.udf(zipsort, types.ArrayType(types.ArrayType(types.FloatType())))"
   ]
  },
  {
   "cell_type": "code",
   "execution_count": 24,
   "metadata": {},
   "outputs": [
    {
     "name": "stdout",
     "output_type": "stream",
     "text": [
      "+----+--------------------+--------------------+--------------------+\n",
      "|Hour|              delays|           relatives|       distributions|\n",
      "+----+--------------------+--------------------+--------------------+\n",
      "|  12|[280.0, 167.0, 75...|[3.27021812354884...|[[-30.0, 3.270218...|\n",
      "|  22|[9.0, 73.0, 165.0...|[0.01238685088137...|[[-24.0, 7.940289...|\n",
      "|   1|[176.0, 223.0, 30...|[0.00116822429906...|[[-22.0, 0.001168...|\n",
      "|  13|[19.0, -18.0, 211...|[0.00571870689945...|[[-36.0, 3.363945...|\n",
      "|  16|[76.0, 84.0, 289....|[0.00107177306991...|[[-29.0, 3.572577...|\n",
      "|   6|[89.0, 648.0, 62....|[3.06428877857449...|[[-23.0, 3.064289...|\n",
      "|   3|[-16.0, 108.0, 76...|[0.00909090909090...|[[-20.0, 0.009090...|\n",
      "|  20|[173.0, 82.0, 218...|[3.76380060220809...|[[-39.0, 4.182000...|\n",
      "|   5|[42.0, -19.0, -18...|[5.84180394905946...|[[-30.0, 5.841803...|\n",
      "|  19|[131.0, 140.0, 28...|[6.86600981839404...|[[-27.0, 3.433005...|\n",
      "|  15|[644.0, 238.0, 47...|[3.25414904002603...|[[-26.0, 3.254149...|\n",
      "|  17|[8.0, 72.0, 86.0,...|[0.01416377450520...|[[-28.0, 3.126661...|\n",
      "|   9|[170.0, 67.0, 60....|[1.00452034153691...|[[-24.0, 1.004520...|\n",
      "|   4|[-8.0, 3.0, -4.0,...|[0.08471454880294...|[[-18.0, 9.208103...|\n",
      "|   8|[-18.0, 121.0, 15...|[1.89897455374097...|[[-24.0, 3.164957...|\n",
      "|  23|[129.0, 108.0, 12...|[8.64902266043937...|[[-42.0, 1.729804...|\n",
      "|   7|[91.0, 52.0, 51.0...|[2.57491390131642...|[[-23.0, 3.218642...|\n",
      "|  10|[70.0, 261.0, 25....|[5.05082391565124...|[[-25.0, 3.156764...|\n",
      "|  24|[195.0, 290.0, 65...|[0.01449275362318...|[[-10.0, 0.014492...|\n",
      "|  21|[-21.0, 212.0, 29...|[1.64338537387017...|[[-28.0, 1.095590...|\n",
      "+----+--------------------+--------------------+--------------------+\n",
      "only showing top 20 rows\n",
      "\n"
     ]
    }
   ],
   "source": [
    "dist = groups.withColumn('distributions',udf_zipsort('delays','relatives'))\n",
    "dist.show()"
   ]
  },
  {
   "cell_type": "code",
   "execution_count": 25,
   "metadata": {},
   "outputs": [
    {
     "name": "stdout",
     "output_type": "stream",
     "text": [
      "root\n",
      " |-- Hour: integer (nullable = true)\n",
      " |-- delays: array (nullable = true)\n",
      " |    |-- element: double (containsNull = true)\n",
      " |-- relatives: array (nullable = true)\n",
      " |    |-- element: double (containsNull = true)\n",
      " |-- distributions: array (nullable = true)\n",
      " |    |-- element: array (containsNull = true)\n",
      " |    |    |-- element: float (containsNull = true)\n",
      "\n"
     ]
    }
   ],
   "source": [
    "dist.printSchema()"
   ]
  },
  {
   "cell_type": "markdown",
   "metadata": {},
   "source": [
    "Careful! If we keep that string return type, it might be problematic later."
   ]
  },
  {
   "cell_type": "code",
   "execution_count": 26,
   "metadata": {},
   "outputs": [
    {
     "data": {
      "text/plain": [
       "[[-30.0, 3.2702180760679767e-05],\n",
       " [-24.0, 9.81065459200181e-05],\n",
       " [-23.0, 9.81065459200181e-05],\n",
       " [-22.0, 6.540436152135953e-05],\n",
       " [-21.0, 0.00013080872304271907],\n",
       " [-20.0, 0.00022891526168677956],\n",
       " [-19.0, 0.00016351090744137764],\n",
       " [-18.0, 0.00029431964503601193],\n",
       " [-17.0, 0.0006540436297655106],\n",
       " [-16.0, 0.0008502567070536315]]"
      ]
     },
     "execution_count": 26,
     "metadata": {},
     "output_type": "execute_result"
    }
   ],
   "source": [
    "dist.first()['distributions'][:10]"
   ]
  },
  {
   "cell_type": "code",
   "execution_count": 27,
   "metadata": {},
   "outputs": [
    {
     "data": {
      "text/plain": [
       "list"
      ]
     },
     "execution_count": 27,
     "metadata": {},
     "output_type": "execute_result"
    }
   ],
   "source": [
    "type(dist.first()['distributions'][:100])"
   ]
  },
  {
   "cell_type": "code",
   "execution_count": 28,
   "metadata": {},
   "outputs": [
    {
     "data": {
      "text/plain": [
       "DataFrame[Hour: int, delays: array<double>, relatives: array<double>, distributions: array<array<float>>]"
      ]
     },
     "execution_count": 28,
     "metadata": {},
     "output_type": "execute_result"
    }
   ],
   "source": [
    "dist.cache()"
   ]
  },
  {
   "cell_type": "code",
   "execution_count": 29,
   "metadata": {},
   "outputs": [],
   "source": [
    "first_row = dist.first()"
   ]
  },
  {
   "cell_type": "code",
   "execution_count": 30,
   "metadata": {},
   "outputs": [
    {
     "data": {
      "text/plain": [
       "[[-30.0, 3.2702180760679767e-05],\n",
       " [-24.0, 9.81065459200181e-05],\n",
       " [-23.0, 9.81065459200181e-05],\n",
       " [-22.0, 6.540436152135953e-05],\n",
       " [-21.0, 0.00013080872304271907],\n",
       " [-20.0, 0.00022891526168677956],\n",
       " [-19.0, 0.00016351090744137764],\n",
       " [-18.0, 0.00029431964503601193],\n",
       " [-17.0, 0.0006540436297655106],\n",
       " [-16.0, 0.0008502567070536315],\n",
       " [-15.0, 0.0015370025066658854],\n",
       " [-14.0, 0.0024526636116206646],\n",
       " [-13.0, 0.003858857322484255],\n",
       " [-12.0, 0.005624775309115648],\n",
       " [-11.0, 0.0076196081936359406],\n",
       " [-10.0, 0.015010301023721695],\n",
       " [-9.0, 0.01942509599030018],\n",
       " [-8.0, 0.026488766074180603],\n",
       " [-7.0, 0.03950423374772072],\n",
       " [-6.0, 0.05686909332871437],\n",
       " [-5.0, 0.07498610019683838],\n",
       " [-4.0, 0.07688283175230026],\n",
       " [-3.0, 0.08489486575126648],\n",
       " [-2.0, 0.0813303217291832],\n",
       " [-1.0, 0.07060401141643524],\n",
       " [0.0, 0.0631152093410492],\n",
       " [1.0, 0.03132868930697441],\n",
       " [2.0, 0.023610975593328476],\n",
       " [3.0, 0.020013734698295593],\n",
       " [4.0, 0.017005134373903275],\n",
       " [5.0, 0.01690702699124813],\n",
       " [6.0, 0.015533535741269588],\n",
       " [7.0, 0.01334248948842287],\n",
       " [8.0, 0.012950063683092594],\n",
       " [9.0, 0.011086039245128632],\n",
       " [10.0, 0.010006867349147797],\n",
       " [11.0, 0.0091239083558321],\n",
       " [12.0, 0.009581739082932472],\n",
       " [13.0, 0.007815821096301079],\n",
       " [14.0, 0.007161777466535568],\n",
       " [15.0, 0.007129075471311808],\n",
       " [16.0, 0.0064096273854374886],\n",
       " [17.0, 0.00696556456387043],\n",
       " [18.0, 0.006507733836770058],\n",
       " [19.0, 0.005722881760448217],\n",
       " [20.0, 0.004905327223241329],\n",
       " [21.0, 0.003989666234701872],\n",
       " [22.0, 0.004349390044808388],\n",
       " [23.0, 0.003924261778593063],\n",
       " [24.0, 0.003924261778593063],\n",
       " [25.0, 0.0037607508711516857],\n",
       " [26.0, 0.0031394094694405794],\n",
       " [27.0, 0.0035318355076014996],\n",
       " [28.0, 0.00405507069081068],\n",
       " [29.0, 0.0029104941058903933],\n",
       " [30.0, 0.0025507700629532337],\n",
       " [31.0, 0.0026488767471164465],\n",
       " [32.0, 0.002485365839675069],\n",
       " [33.0, 0.0026161745190620422],\n",
       " [34.0, 0.002387259155511856],\n",
       " [35.0, 0.002518068067729473],\n",
       " [36.0, 0.0016678111860528588],\n",
       " [37.0, 0.0022237482480704784],\n",
       " [38.0, 0.00202753534540534],\n",
       " [39.0, 0.0018640243215486407],\n",
       " [40.0, 0.002191046252846718],\n",
       " [41.0, 0.0014388959389179945],\n",
       " [42.0, 0.002092939568683505],\n",
       " [43.0, 0.0015697047347202897],\n",
       " [44.0, 0.0019294286612421274],\n",
       " [45.0, 0.0016351090744137764],\n",
       " [46.0, 0.0011772785801440477],\n",
       " [47.0, 0.0011445763520896435],\n",
       " [48.0, 0.0013080872595310211],\n",
       " [49.0, 0.001504300395026803],\n",
       " [50.0, 0.0011772785801440477],\n",
       " [51.0, 0.0010791720123961568],\n",
       " [52.0, 0.0012099806917831302],\n",
       " [53.0, 0.0009810654446482658],\n",
       " [54.0, 0.00101376767270267],\n",
       " [55.0, 0.00101376767270267],\n",
       " [56.0, 0.0009483632748015225],\n",
       " [57.0, 0.0008829588769003749],\n",
       " [58.0, 0.0010791720123961568],\n",
       " [59.0, 0.0007194479694589972],\n",
       " [60.0, 0.0008502567070536315],\n",
       " [61.0, 0.0008175545372068882],\n",
       " [62.0, 0.0008175545372068882],\n",
       " [63.0, 0.0006540436297655106],\n",
       " [64.0, 0.0009483632748015225],\n",
       " [65.0, 0.0008502567070536315],\n",
       " [66.0, 0.0009810654446482658],\n",
       " [67.0, 0.0006867457996122539],\n",
       " [68.0, 0.0005559370620176196],\n",
       " [69.0, 0.0008175545372068882],\n",
       " [70.0, 0.0008502567070536315],\n",
       " [71.0, 0.0005886392900720239],\n",
       " [72.0, 0.0006213414599187672],\n",
       " [73.0, 0.0008175545372068882],\n",
       " [74.0, 0.0005232348921708763],\n",
       " [75.0, 0.0006867457996122539],\n",
       " [76.0, 0.0005886392900720239],\n",
       " [77.0, 0.0004578305233735591],\n",
       " [78.0, 0.0005232348921708763],\n",
       " [79.0, 0.0007194479694589972],\n",
       " [80.0, 0.0004578305233735591],\n",
       " [81.0, 0.0003597239847294986],\n",
       " [82.0, 0.0004578305233735591],\n",
       " [83.0, 0.0003924261836800724],\n",
       " [84.0, 0.0005232348921708763],\n",
       " [85.0, 0.0005232348921708763],\n",
       " [86.0, 0.0004578305233735591],\n",
       " [87.0, 0.00042512835352681577],\n",
       " [88.0, 0.0003597239847294986],\n",
       " [89.0, 0.0004905327223241329],\n",
       " [90.0, 0.0003597239847294986],\n",
       " [91.0, 0.00042512835352681577],\n",
       " [92.0, 0.00042512835352681577],\n",
       " [93.0, 0.0004578305233735591],\n",
       " [94.0, 0.0003270218148827553],\n",
       " [95.0, 0.0004905327223241329],\n",
       " [96.0, 0.00026161744608543813],\n",
       " [97.0, 0.00042512835352681577],\n",
       " [98.0, 0.00022891526168677956],\n",
       " [99.0, 0.0004578305233735591],\n",
       " [100.0, 0.00016351090744137764],\n",
       " [101.0, 0.00026161744608543813],\n",
       " [102.0, 0.00016351090744137764],\n",
       " [103.0, 0.0003270218148827553],\n",
       " [104.0, 0.00013080872304271907],\n",
       " [105.0, 0.00042512835352681577],\n",
       " [106.0, 0.0003924261836800724],\n",
       " [107.0, 0.0003924261836800724],\n",
       " [108.0, 0.0004905327223241329],\n",
       " [109.0, 0.00016351090744137764],\n",
       " [110.0, 0.00029431964503601193],\n",
       " [111.0, 0.00026161744608543813],\n",
       " [112.0, 0.0003597239847294986],\n",
       " [113.0, 0.0004905327223241329],\n",
       " [114.0, 0.0003270218148827553],\n",
       " [115.0, 0.00022891526168677956],\n",
       " [116.0, 0.0003270218148827553],\n",
       " [117.0, 0.0003270218148827553],\n",
       " [118.0, 0.00022891526168677956],\n",
       " [119.0, 0.00026161744608543813],\n",
       " [120.0, 0.00013080872304271907],\n",
       " [121.0, 0.00026161744608543813],\n",
       " [122.0, 0.0001962130918400362],\n",
       " [123.0, 9.81065459200181e-05],\n",
       " [124.0, 0.00029431964503601193],\n",
       " [125.0, 9.81065459200181e-05],\n",
       " [126.0, 0.00026161744608543813],\n",
       " [127.0, 0.00029431964503601193],\n",
       " [128.0, 0.00026161744608543813],\n",
       " [129.0, 0.00016351090744137764],\n",
       " [130.0, 6.540436152135953e-05],\n",
       " [131.0, 0.00016351090744137764],\n",
       " [132.0, 0.00029431964503601193],\n",
       " [133.0, 0.00026161744608543813],\n",
       " [134.0, 0.00013080872304271907],\n",
       " [135.0, 0.0001962130918400362],\n",
       " [136.0, 0.00013080872304271907],\n",
       " [137.0, 0.00029431964503601193],\n",
       " [138.0, 0.00016351090744137764],\n",
       " [139.0, 0.00013080872304271907],\n",
       " [140.0, 3.2702180760679767e-05],\n",
       " [141.0, 0.00016351090744137764],\n",
       " [142.0, 0.00016351090744137764],\n",
       " [143.0, 3.2702180760679767e-05],\n",
       " [144.0, 6.540436152135953e-05],\n",
       " [145.0, 6.540436152135953e-05],\n",
       " [146.0, 6.540436152135953e-05],\n",
       " [147.0, 0.00016351090744137764],\n",
       " [148.0, 0.00022891526168677956],\n",
       " [149.0, 3.2702180760679767e-05],\n",
       " [150.0, 9.81065459200181e-05],\n",
       " [151.0, 0.00013080872304271907],\n",
       " [152.0, 3.2702180760679767e-05],\n",
       " [153.0, 6.540436152135953e-05],\n",
       " [154.0, 0.00013080872304271907],\n",
       " [155.0, 0.00016351090744137764],\n",
       " [156.0, 0.00013080872304271907],\n",
       " [157.0, 0.00013080872304271907],\n",
       " [158.0, 9.81065459200181e-05],\n",
       " [159.0, 0.00013080872304271907],\n",
       " [160.0, 9.81065459200181e-05],\n",
       " [161.0, 6.540436152135953e-05],\n",
       " [162.0, 9.81065459200181e-05],\n",
       " [163.0, 9.81065459200181e-05],\n",
       " [164.0, 0.00016351090744137764],\n",
       " [165.0, 9.81065459200181e-05],\n",
       " [166.0, 3.2702180760679767e-05],\n",
       " [167.0, 0.00016351090744137764],\n",
       " [169.0, 3.2702180760679767e-05],\n",
       " [170.0, 0.00013080872304271907],\n",
       " [171.0, 0.00013080872304271907],\n",
       " [172.0, 9.81065459200181e-05],\n",
       " [173.0, 3.2702180760679767e-05],\n",
       " [174.0, 9.81065459200181e-05],\n",
       " [175.0, 6.540436152135953e-05],\n",
       " [176.0, 9.81065459200181e-05],\n",
       " [177.0, 9.81065459200181e-05],\n",
       " [178.0, 3.2702180760679767e-05],\n",
       " [179.0, 3.2702180760679767e-05],\n",
       " [180.0, 3.2702180760679767e-05],\n",
       " [181.0, 3.2702180760679767e-05],\n",
       " [182.0, 6.540436152135953e-05],\n",
       " [183.0, 3.2702180760679767e-05],\n",
       " [184.0, 9.81065459200181e-05],\n",
       " [185.0, 3.2702180760679767e-05],\n",
       " [186.0, 9.81065459200181e-05],\n",
       " [187.0, 6.540436152135953e-05],\n",
       " [188.0, 6.540436152135953e-05],\n",
       " [189.0, 9.81065459200181e-05],\n",
       " [191.0, 3.2702180760679767e-05],\n",
       " [192.0, 6.540436152135953e-05],\n",
       " [193.0, 3.2702180760679767e-05],\n",
       " [196.0, 6.540436152135953e-05],\n",
       " [198.0, 6.540436152135953e-05],\n",
       " [199.0, 3.2702180760679767e-05],\n",
       " [200.0, 3.2702180760679767e-05],\n",
       " [205.0, 3.2702180760679767e-05],\n",
       " [206.0, 6.540436152135953e-05],\n",
       " [207.0, 3.2702180760679767e-05],\n",
       " [208.0, 3.2702180760679767e-05],\n",
       " [209.0, 6.540436152135953e-05],\n",
       " [210.0, 6.540436152135953e-05],\n",
       " [213.0, 9.81065459200181e-05],\n",
       " [214.0, 9.81065459200181e-05],\n",
       " [215.0, 9.81065459200181e-05],\n",
       " [216.0, 3.2702180760679767e-05],\n",
       " [217.0, 3.2702180760679767e-05],\n",
       " [218.0, 3.2702180760679767e-05],\n",
       " [219.0, 6.540436152135953e-05],\n",
       " [220.0, 3.2702180760679767e-05],\n",
       " [221.0, 6.540436152135953e-05],\n",
       " [223.0, 6.540436152135953e-05],\n",
       " [225.0, 6.540436152135953e-05],\n",
       " [226.0, 6.540436152135953e-05],\n",
       " [227.0, 3.2702180760679767e-05],\n",
       " [228.0, 0.00013080872304271907],\n",
       " [229.0, 3.2702180760679767e-05],\n",
       " [230.0, 3.2702180760679767e-05],\n",
       " [231.0, 3.2702180760679767e-05],\n",
       " [232.0, 3.2702180760679767e-05],\n",
       " [233.0, 3.2702180760679767e-05],\n",
       " [235.0, 3.2702180760679767e-05],\n",
       " [236.0, 3.2702180760679767e-05],\n",
       " [237.0, 3.2702180760679767e-05],\n",
       " [239.0, 3.2702180760679767e-05],\n",
       " [240.0, 3.2702180760679767e-05],\n",
       " [245.0, 6.540436152135953e-05],\n",
       " [249.0, 6.540436152135953e-05],\n",
       " [251.0, 3.2702180760679767e-05],\n",
       " [254.0, 6.540436152135953e-05],\n",
       " [262.0, 6.540436152135953e-05],\n",
       " [265.0, 3.2702180760679767e-05],\n",
       " [266.0, 3.2702180760679767e-05],\n",
       " [269.0, 3.2702180760679767e-05],\n",
       " [270.0, 6.540436152135953e-05],\n",
       " [272.0, 3.2702180760679767e-05],\n",
       " [273.0, 6.540436152135953e-05],\n",
       " [275.0, 3.2702180760679767e-05],\n",
       " [276.0, 3.2702180760679767e-05],\n",
       " [277.0, 6.540436152135953e-05],\n",
       " [279.0, 6.540436152135953e-05],\n",
       " [280.0, 3.2702180760679767e-05],\n",
       " [286.0, 9.81065459200181e-05],\n",
       " [288.0, 3.2702180760679767e-05],\n",
       " [289.0, 3.2702180760679767e-05],\n",
       " [291.0, 3.2702180760679767e-05],\n",
       " [292.0, 6.540436152135953e-05],\n",
       " [295.0, 3.2702180760679767e-05],\n",
       " [303.0, 6.540436152135953e-05],\n",
       " [304.0, 9.81065459200181e-05],\n",
       " [309.0, 3.2702180760679767e-05],\n",
       " [313.0, 3.2702180760679767e-05],\n",
       " [322.0, 3.2702180760679767e-05],\n",
       " [327.0, 3.2702180760679767e-05],\n",
       " [331.0, 6.540436152135953e-05],\n",
       " [332.0, 3.2702180760679767e-05],\n",
       " [333.0, 3.2702180760679767e-05],\n",
       " [339.0, 3.2702180760679767e-05],\n",
       " [341.0, 3.2702180760679767e-05],\n",
       " [343.0, 3.2702180760679767e-05],\n",
       " [345.0, 3.2702180760679767e-05],\n",
       " [346.0, 3.2702180760679767e-05],\n",
       " [347.0, 3.2702180760679767e-05],\n",
       " [349.0, 3.2702180760679767e-05],\n",
       " [353.0, 3.2702180760679767e-05],\n",
       " [356.0, 6.540436152135953e-05],\n",
       " [358.0, 3.2702180760679767e-05],\n",
       " [361.0, 3.2702180760679767e-05],\n",
       " [362.0, 6.540436152135953e-05],\n",
       " [364.0, 3.2702180760679767e-05],\n",
       " [365.0, 3.2702180760679767e-05],\n",
       " [371.0, 3.2702180760679767e-05],\n",
       " [373.0, 3.2702180760679767e-05],\n",
       " [385.0, 3.2702180760679767e-05],\n",
       " [388.0, 3.2702180760679767e-05],\n",
       " [389.0, 3.2702180760679767e-05],\n",
       " [392.0, 3.2702180760679767e-05],\n",
       " [399.0, 3.2702180760679767e-05],\n",
       " [401.0, 3.2702180760679767e-05],\n",
       " [405.0, 3.2702180760679767e-05],\n",
       " [410.0, 3.2702180760679767e-05],\n",
       " [413.0, 3.2702180760679767e-05],\n",
       " [415.0, 3.2702180760679767e-05],\n",
       " [430.0, 3.2702180760679767e-05],\n",
       " [436.0, 3.2702180760679767e-05],\n",
       " [438.0, 3.2702180760679767e-05],\n",
       " [446.0, 3.2702180760679767e-05]]"
      ]
     },
     "execution_count": 30,
     "metadata": {},
     "output_type": "execute_result"
    }
   ],
   "source": [
    "histogram = first_row['distributions']\n",
    "histogram"
   ]
  },
  {
   "cell_type": "code",
   "execution_count": 31,
   "metadata": {},
   "outputs": [],
   "source": [
    "import matplotlib.pyplot as plt"
   ]
  },
  {
   "cell_type": "code",
   "execution_count": 32,
   "metadata": {},
   "outputs": [
    {
     "data": {
      "image/png": "[encoded data removed]",
      "text/plain": [
       "<Figure size 432x288 with 1 Axes>"
      ]
     },
     "metadata": {
      "needs_background": "light"
     },
     "output_type": "display_data"
    }
   ],
   "source": [
    "plt.plot(*zip(*histogram));"
   ]
  },
  {
   "cell_type": "markdown",
   "metadata": {},
   "source": [
    "### Calculating the quartiles\n",
    "\n",
    "We are finally ready to calculate the quartiles! We will use a UDF.\n",
    "\n",
    "The input to our custom function will be one of the distributions coded like we did: as a list of tuples `(value, relative_frequency)`. The quartiles are defined as the values at which we cross the 0.0, .25, .5, .75 and 1.00 relative frequencies. Since the distributions are ordered, we can just iterate over one while keeping track of what portion of the total distribution we have seen, and annotate where we cross the thresholds."
   ]
  },
  {
   "cell_type": "code",
   "execution_count": 33,
   "metadata": {},
   "outputs": [
    {
     "data": {
      "text/plain": [
       "[-30.0, -5.0, -1.0, 6.0, 446.0]"
      ]
     },
     "execution_count": 33,
     "metadata": {},
     "output_type": "execute_result"
    }
   ],
   "source": [
    "def quartiles(histogram):\n",
    "    area=0\n",
    "    result=[]\n",
    "    for value, percentage in histogram:\n",
    "        if area == 0:\n",
    "            result.append(value)\n",
    "        elif area <= 0.25 and area+percentage > 0.25:\n",
    "            result.append(value)\n",
    "        elif area <= 0.5 and area+percentage > 0.5:\n",
    "            result.append(value)\n",
    "        elif area <= 0.75 and area+percentage > 0.75:\n",
    "            result.append(value)\n",
    "        area += percentage\n",
    "    result.append(value)\n",
    "    return result\n",
    "\n",
    "quartiles(histogram)    "
   ]
  },
  {
   "cell_type": "code",
   "execution_count": 35,
   "metadata": {},
   "outputs": [
    {
     "name": "stdout",
     "output_type": "stream",
     "text": [
      "+----+--------------------+--------------------+--------------------+\n",
      "|Hour|              delays|           relatives|       distributions|\n",
      "+----+--------------------+--------------------+--------------------+\n",
      "|  12|[280.0, 167.0, 75...|[3.27021812354884...|[[-30.0, 3.270218...|\n",
      "|  22|[9.0, 73.0, 165.0...|[0.01238685088137...|[[-24.0, 7.940289...|\n",
      "+----+--------------------+--------------------+--------------------+\n",
      "only showing top 2 rows\n",
      "\n"
     ]
    }
   ],
   "source": [
    "dist.show(2)"
   ]
  },
  {
   "cell_type": "markdown",
   "metadata": {},
   "source": [
    "### Plotting\n",
    "\n",
    "We got it! Let's move this over to Pandas for convenient handling"
   ]
  },
  {
   "cell_type": "code",
   "execution_count": 42,
   "metadata": {},
   "outputs": [
    {
     "name": "stdout",
     "output_type": "stream",
     "text": [
      "+----+--------------------+\n",
      "|Hour|           quartiles|\n",
      "+----+--------------------+\n",
      "|  12|[-30.0, -5.0, -1....|\n",
      "|  22|[-24.0, -3.0, 6.0...|\n",
      "|   1|[-22.0, -1.0, 19....|\n",
      "|  13|[-36.0, -4.0, -1....|\n",
      "|  16|[-29.0, -4.0, 0.0...|\n",
      "+----+--------------------+\n",
      "only showing top 5 rows\n",
      "\n"
     ]
    }
   ],
   "source": [
    "udf_quartiles = f.udf(quartiles, types.ArrayType(types.FloatType()))\n",
    "\n",
    "result = dist.withColumn('quartiles', udf_quartiles(dist['distributions']))\n",
    "result = result.select('Hour','quartiles')\n",
    "result.show(5)"
   ]
  },
  {
   "cell_type": "code",
   "execution_count": 43,
   "metadata": {},
   "outputs": [],
   "source": [
    "resultPandas = result.toPandas()"
   ]
  },
  {
   "cell_type": "code",
   "execution_count": 44,
   "metadata": {},
   "outputs": [
    {
     "data": {
      "text/html": [
       "<div>\n",
       "<style scoped>\n",
       "    .dataframe tbody tr th:only-of-type {\n",
       "        vertical-align: middle;\n",
       "    }\n",
       "\n",
       "    .dataframe tbody tr th {\n",
       "        vertical-align: top;\n",
       "    }\n",
       "\n",
       "    .dataframe thead th {\n",
       "        text-align: right;\n",
       "    }\n",
       "</style>\n",
       "<table border=\"1\" class=\"dataframe\">\n",
       "  <thead>\n",
       "    <tr style=\"text-align: right;\">\n",
       "      <th></th>\n",
       "      <th>Hour</th>\n",
       "      <th>quartiles</th>\n",
       "    </tr>\n",
       "  </thead>\n",
       "  <tbody>\n",
       "    <tr>\n",
       "      <th>0</th>\n",
       "      <td>12</td>\n",
       "      <td>[-30.0, -5.0, -1.0, 6.0, 446.0]</td>\n",
       "    </tr>\n",
       "    <tr>\n",
       "      <th>1</th>\n",
       "      <td>22</td>\n",
       "      <td>[-24.0, -3.0, 6.0, 39.0, 907.0]</td>\n",
       "    </tr>\n",
       "    <tr>\n",
       "      <th>2</th>\n",
       "      <td>1</td>\n",
       "      <td>[-22.0, -1.0, 19.0, 92.0, 486.0]</td>\n",
       "    </tr>\n",
       "    <tr>\n",
       "      <th>3</th>\n",
       "      <td>13</td>\n",
       "      <td>[-36.0, -4.0, -1.0, 7.0, 1171.0]</td>\n",
       "    </tr>\n",
       "    <tr>\n",
       "      <th>4</th>\n",
       "      <td>16</td>\n",
       "      <td>[-29.0, -4.0, 0.0, 12.0, 687.0]</td>\n",
       "    </tr>\n",
       "  </tbody>\n",
       "</table>\n",
       "</div>"
      ],
      "text/plain": [
       "   Hour                         quartiles\n",
       "0    12   [-30.0, -5.0, -1.0, 6.0, 446.0]\n",
       "1    22   [-24.0, -3.0, 6.0, 39.0, 907.0]\n",
       "2     1  [-22.0, -1.0, 19.0, 92.0, 486.0]\n",
       "3    13  [-36.0, -4.0, -1.0, 7.0, 1171.0]\n",
       "4    16   [-29.0, -4.0, 0.0, 12.0, 687.0]"
      ]
     },
     "execution_count": 44,
     "metadata": {},
     "output_type": "execute_result"
    }
   ],
   "source": [
    "resultPandas.head()"
   ]
  },
  {
   "cell_type": "markdown",
   "metadata": {},
   "source": [
    "And we are ready to plot!"
   ]
  },
  {
   "cell_type": "code",
   "execution_count": 49,
   "metadata": {},
   "outputs": [
    {
     "data": {
      "text/plain": [
       "<matplotlib.collections.PathCollection at 0x7fc40153cf98>"
      ]
     },
     "execution_count": 49,
     "metadata": {},
     "output_type": "execute_result"
    },
    {
     "data": {
      "image/png": "[encoded data removed]",
      "text/plain": [
       "<Figure size 432x288 with 1 Axes>"
      ]
     },
     "metadata": {
      "needs_background": "light"
     },
     "output_type": "display_data"
    }
   ],
   "source": [
    "plt.scatter([0]*5,resultPandas['quartiles'][0])"
   ]
  },
  {
   "cell_type": "code",
   "execution_count": 51,
   "metadata": {},
   "outputs": [
    {
     "data": {
      "image/png": "[encoded data removed]",
      "text/plain": [
       "<Figure size 864x576 with 1 Axes>"
      ]
     },
     "metadata": {
      "needs_background": "light"
     },
     "output_type": "display_data"
    }
   ],
   "source": [
    "xs = []\n",
    "ys = []\n",
    "\n",
    "for ix,hour in enumerate(resultPandas['Hour']):\n",
    "    xs.extend([hour]*5)\n",
    "    ys.extend(resultPandas.loc[ix]['quartiles'])\n",
    "    \n",
    "plt.scatter(xs,ys,c=xs)\n",
    "plt.gca().set_ylim(-100,200)\n",
    "plt.gcf().set_size_inches(12,8)"
   ]
  },
  {
   "cell_type": "markdown",
   "metadata": {},
   "source": [
    "## Test your \"Big Data\" prototype with small data"
   ]
  },
  {
   "cell_type": "markdown",
   "metadata": {},
   "source": [
    "### Summary\n",
    "\n",
    "This is the whole process, collected in one place as is:"
   ]
  },
  {
   "cell_type": "code",
   "execution_count": 58,
   "metadata": {},
   "outputs": [],
   "source": [
    "########################################################### LIBRARIES ###########################################################\n",
    "from __future__ import print_function\n",
    "from pyspark.sql import SparkSession, types\n",
    "from pyspark.sql import functions as f\n",
    "import sys\n",
    "\n",
    "########################################################### FUNCTIONS ###########################################################\n",
    "def zipsort(a,b):\n",
    "    return sorted(zip(a,b))\n",
    "\n",
    "def quartiles(histogram):\n",
    "    area=0\n",
    "    result=[]\n",
    "    for value, percentage in histogram:\n",
    "        if area == 0:\n",
    "            result.append(value)\n",
    "        elif area <= 0.25 and area+percentage > 0.25:\n",
    "            result.append(value)\n",
    "        elif area <= 0.5 and area+percentage > 0.5:\n",
    "            result.append(value)\n",
    "        elif area <= 0.75 and area+percentage > 0.75:\n",
    "            result.append(value)\n",
    "        area += percentage\n",
    "    result.append(value)\n",
    "    return result\n",
    "\n",
    "############################################################## UDFs ##############################################################\n",
    "udf_zipsort = f.udf(zipsort, types.ArrayType(types.ArrayType(types.FloatType())))\n",
    "udf_quartiles = f.udf(quartiles, types.ArrayType(types.FloatType()))\n",
    "\n",
    "\n",
    "####################################################### START THE FLOW ##########################################################\n",
    "if __name__ == \"__main__\": # to convert this in an app. Spark summit needs it\n",
    "\n",
    "    file = sys.argv[1]\n",
    "    out = sys.argv[2]\n",
    "\n",
    "    # Create the SparkSession\n",
    "    spark = SparkSession.builder.getOrCreate()\n",
    "\n",
    "    # Read the file and select desired fields\n",
    "    df = spark.read.csv(file, header=True, inferSchema=True)\\\n",
    "              .select(['FlightDate',\n",
    "                       'DayOfWeek',\n",
    "                       'Carrier',\n",
    "                       'FlightNum',\n",
    "                       'Origin',\n",
    "                       'OriginCityName',\n",
    "                       'OriginStateName',\n",
    "                       'Dest',\n",
    "                       'DestCityName',\n",
    "                       'DepTime',\n",
    "                       'DepDelay',\n",
    "                       'AirTime',\n",
    "                       'Distance'])\n",
    "\n",
    "    # Obtaining counts on hour and hour-delay in order to find relative weight\n",
    "    df2 =  df.withColumn('Hour',(df['DepTime']/100).cast(types.IntegerType()))\n",
    "    totals = df2.groupBy('Hour').agg(f.count('Hour').alias('countTotal'))\n",
    "    distributions = df2.groupBy('Hour','DepDelay').agg(f.count('Hour').alias('countDelay'))\n",
    "    annotated = distributions.join(totals, on='Hour')\n",
    "\n",
    "    # Calculate realtive weight\n",
    "    frequencies = annotated.withColumn('relative', annotated['countDelay']/annotated['countTotal'])\n",
    "\n",
    "    # Collect all DepDelays and relative weights in two new fields (as List/Array)\n",
    "    groups = frequencies.groupBy(frequencies['Hour']).agg(f.collect_list('DepDelay').alias('delays'),\n",
    "                                                          f.collect_list('relative').alias('relatives'))\n",
    "\n",
    "    # UDF Create Zip of delays with relatives in order to create histograms per hour\n",
    "    histograms = groups.withColumn('distributions',udf_zipsort('delays','relatives'))\n",
    "\n",
    "    # UDF Create quartiles\n",
    "    result = histograms.withColumn('quartiles', udf_quartiles(histograms['distributions']))\n",
    "\n",
    "    # # Select Hour and quartiles\n",
    "    # result = result.select('Hour','quartiles')\n",
    "\n",
    "    result.coalesce(1).write.json(out)"
   ]
  },
  {
   "cell_type": "markdown",
   "metadata": {},
   "source": [
    "### Pyspark job\n",
    "\n",
    "In order to run the process in a cluster, we need to transform it into a pyspark job file. \n",
    "\n",
    "We need to tidy up the function definitions, add the relevant imports, and modify the input and output to use command-line arguments.\n",
    "\n",
    "We will put the result in a file called mysparkjob.py:\n",
    "\n",
    "```python\n",
    "\n",
    "from __future__ import print_function\n",
    "from pyspark.sql import SparkSession\n",
    "import sys\n",
    "from pyspark.sql import types, functions\n",
    "\n",
    "\n",
    "def zip_sort(delays, fractions):\n",
    "    return sorted(zip(delays, fractions))\n",
    "\n",
    "\n",
    "def quartiles(distribution):\n",
    "    cumulative = 0.0\n",
    "    result = []\n",
    "    for delay, percentage in distribution:\n",
    "        next_cumulative = cumulative + percentage\n",
    "        if cumulative == 0.0:\n",
    "            # minimum\n",
    "            result.append(delay) \n",
    "        if cumulative < .25 and next_cumulative > .25:\n",
    "            # 1st quartile\n",
    "            result.append(delay) \n",
    "        if cumulative < .5 and next_cumulative > .5:\n",
    "            # median\n",
    "            result.append(delay) \n",
    "        if cumulative < .75 and next_cumulative > .75:\n",
    "            # 3rd quartile\n",
    "            result.append(delay) \n",
    "            \n",
    "        cumulative = next_cumulative\n",
    "    \n",
    "    # maximum\n",
    "    result.append(delay) \n",
    "    \n",
    "    return result\n",
    "\n",
    "\n",
    "if __name__ == \"__main__\": # Para que sea un programa\n",
    "    \n",
    "    file = sys.argv[1]\n",
    "    out = sys.argv[2]\n",
    "    \n",
    "    spark = SparkSession.builder.getOrCreate()\n",
    "    df = spark.read.csv(file, header=True, inferSchema=True)\n",
    "    timesdelays = df[['DepTime', 'DepDelay']]\n",
    "\n",
    "    hoursdelays = timesdelays.select((timesdelays['DepTime'] / 100).cast(types.IntegerType()).alias(\"Hour\"),\n",
    "                                      'DepDelay')\n",
    "    totals_per_hour = hoursdelays.groupBy('Hour').count()\n",
    "    totals_per_hourdelay = hoursdelays.groupBy(['Hour', 'DepDelay']).count()\n",
    "    frequencies = totals_per_hourdelay.join(totals_per_hour, on=\"Hour\")\\\n",
    "                                      .select(totals_per_hourdelay['Hour'],\n",
    "                                              'DepDelay',\n",
    "                                              totals_per_hourdelay['count'].alias('count'),\n",
    "                                              totals_per_hour['count'].alias('total'),\n",
    "                                              (totals_per_hourdelay['count'] / totals_per_hour['count']).alias('fraction'))\n",
    "\n",
    "    groups = frequencies.groupBy('Hour')\n",
    "    distributions = groups.agg(functions.collect_list('DepDelay').alias('delays'), \n",
    "                               functions.collect_list('fraction').alias('fractions'),\n",
    "                               functions.count('fraction').alias('len')).cache()\n",
    "\n",
    "    zip_sort_udf = functions.udf(zip_sort, \n",
    "\t                     returnType=types.ArrayType(\n",
    "\t                                  types.ArrayType(\n",
    "\t                                    types.FloatType()\n",
    "\t                                  )\n",
    "\t                                )\n",
    "\t                    )\n",
    "    merged_distributions = distributions.select('Hour',\n",
    "                                     zip_sort_udf(distributions['delays'], distributions['fractions']).alias('density_function'))\n",
    "\n",
    "\n",
    "    quartiles_udf = functions.udf(quartiles, types.ArrayType(types.FloatType()))\n",
    "\n",
    "    stats = merged_distributions.withColumn('quartiles', \n",
    "                                            quartiles_udf('density_function').cast(types.StringType()))\n",
    "\n",
    "    stats.write.json(out)\n",
    "\n",
    "```"
   ]
  },
  {
   "cell_type": "markdown",
   "metadata": {},
   "source": [
    "### Running with spark-submit\n",
    "\n",
    "If the following works, we are ready to test it in the cluster!\n",
    "\n",
    "```python\n",
    "unset PYSPARK_DRIVER_PYTHON # para que una máquina local pueda correr como un cluster\n",
    "spark-submit mysparkjob.py On_Time_On_Time_Performance_2015_8.csv out.csv\n",
    "```"
   ]
  },
  {
   "cell_type": "markdown",
   "metadata": {},
   "source": [
    "## Prepare our script to run on our google cloud cluster"
   ]
  },
  {
   "cell_type": "code",
   "execution_count": null,
   "metadata": {},
   "outputs": [],
   "source": [
    "########################################################### LIBRARIES ###########################################################\n",
    "from __future__ import print_function\n",
    "from pyspark.sql import SparkSession, types\n",
    "from pyspark.sql import functions as f\n",
    "import sys\n",
    "\n",
    "########################################################### FUNCTIONS ###########################################################\n",
    "def zipsort(a,b):\n",
    "    return sorted(zip(a,b))\n",
    "\n",
    "def quartiles(histogram):\n",
    "    area=0\n",
    "    result=[]\n",
    "    for value, percentage in histogram:\n",
    "        if area == 0:\n",
    "            result.append(value)\n",
    "        elif area <= 0.25 and area+percentage > 0.25:\n",
    "            result.append(value)\n",
    "        elif area <= 0.5 and area+percentage > 0.5:\n",
    "            result.append(value)\n",
    "        elif area <= 0.75 and area+percentage > 0.75:\n",
    "            result.append(value)\n",
    "        area += percentage\n",
    "    result.append(value)\n",
    "    return result\n",
    "\n",
    "############################################################## UDFs ##############################################################\n",
    "udf_zipsort = f.udf(zipsort, types.ArrayType(types.ArrayType(types.FloatType())))\n",
    "udf_quartiles = f.udf(quartiles, types.ArrayType(types.FloatType()))\n",
    "\n",
    "\n",
    "####################################################### START THE FLOW ##########################################################\n",
    "\n",
    "# Take input and output paths\n",
    "#if __name__ == \"__main__\": # to convert this in an app. Spark summit needs it\n",
    "\n",
    "file = sys.argv[1]\n",
    "out = sys.argv[2]\n",
    "\n",
    "# Create the SparkSession\n",
    "spark = SparkSession.builder.getOrCreate()\n",
    "\n",
    "# Read the file and select desired fields\n",
    "df = spark.read.csv(file, header=True, inferSchema=True)\\\n",
    "          .select(['FlightDate',\n",
    "                   'DayOfWeek',\n",
    "                   'Carrier',\n",
    "                   'FlightNum',\n",
    "                   'Origin',\n",
    "                   'OriginCityName',\n",
    "                   'OriginStateName',\n",
    "                   'Dest',\n",
    "                   'DestCityName',\n",
    "                   'DepTime',\n",
    "                   'DepDelay',\n",
    "                   'AirTime',\n",
    "                   'Distance'])\n",
    "\n",
    "# Obtaining counts on hour and hour-delay in order to find relative weight\n",
    "df2 =  df.withColumn('Hour',(df['DepTime']/100).cast(types.IntegerType()))\n",
    "totals = df2.groupBy('Hour').agg(f.count('Hour').alias('countTotal'))\n",
    "distributions = df2.groupBy('Hour','DepDelay').agg(f.count('Hour').alias('countDelay'))\n",
    "annotated = distributions.join(totals, on='Hour')\n",
    "\n",
    "# Calculate realtive weight\n",
    "frequencies = annotated.withColumn('relative', annotated['countDelay']/annotated['countTotal'])\n",
    "\n",
    "# Collect all DepDelays and relative weights in two new fields (as List/Array)\n",
    "groups = frequencies.groupBy(frequencies['Hour']).agg(f.collect_list('DepDelay').alias('delays'),\n",
    "                                                      f.collect_list('relative').alias('relatives'))\n",
    "\n",
    "# UDF Create Zip of delays with relatives in order to create histograms per hour\n",
    "histograms = groups.withColumn('distributions',udf_zipsort('delays','relatives'))\n",
    "\n",
    "# UDF Create quartiles\n",
    "result = histograms.withColumn('quartiles', udf_quartiles(histograms['distributions']).alias('quartiles'))\n",
    "\n",
    "# # Select Hour and quartiles\n",
    "# result = result.select('Hour','quartiles')\n",
    "\n",
    "result.write.json(out)"
   ]
  },
  {
   "cell_type": "markdown",
   "metadata": {},
   "source": [
    "1. Creamos el script. En este caso lo he llamado excited2.py\n",
    "2. gsutil cp excited2.py gs://kschool-edition14/EdML/  # Copiando script en un bucket\n",
    "3. gcloud dataproc jobs submit pyspark --cluster cluster-kschool-12 --region europe-west1 gs://kschool-edition14/EdML/excited2.py -- gs://kschool-edition14/On_Time_On_Time_Performance_2015_8.csv gs://kschool-edition14/EdML/out.csv # ejecutando cluster\n",
    "4. gsutil ls gs://kschool-edition14/EdML/ # Para ver que hay dentro del bucket y saber que se ha creado y ejecutado bien el script y sus salidas\n",
    "5. gsutil cp -r gs://kschool-edition14/EdML/out.csv ~/Repos/ # Mandar archivo de salida a nuestro pc "
   ]
  }
 ],
 "metadata": {
  "kernelspec": {
   "display_name": "Python 3",
   "language": "python",
   "name": "python3"
  },
  "language_info": {
   "codemirror_mode": {
    "name": "ipython",
    "version": 3
   },
   "file_extension": ".py",
   "mimetype": "text/x-python",
   "name": "python",
   "nbconvert_exporter": "python",
   "pygments_lexer": "ipython3",
   "version": "3.6.7"
  }
 },
 "nbformat": 4,
 "nbformat_minor": 2
}
