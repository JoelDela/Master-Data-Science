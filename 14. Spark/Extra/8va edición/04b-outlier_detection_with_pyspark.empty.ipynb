{
 "cells": [
  {
   "cell_type": "markdown",
   "metadata": {},
   "source": [
    "# Porting an analysis from local to distributed\n",
    "\n",
    "In this pair of notebooks, we will develop a prototype unsupervised analysis with sklearn and then port it to use Spark, as we might in real life.\n",
    "\n",
    "<a href = \"http://yogen.io\"><img src=\"http://yogen.io/assets/logo.svg\" alt=\"yogen\" style=\"width: 200px; float: right;\"/></a>"
   ]
  },
  {
   "cell_type": "markdown",
   "metadata": {},
   "source": [
    "## Porting our analysis to a distributed setting using Spark DataFrames\n",
    "\n",
    "First, read the input file"
   ]
  },
  {
   "cell_type": "code",
   "execution_count": 1,
   "metadata": {
    "collapsed": true
   },
   "outputs": [],
   "source": [
    "from pyspark.sql import SparkSession\n"
   ]
  },
  {
   "cell_type": "code",
   "execution_count": 2,
   "metadata": {},
   "outputs": [],
   "source": [
    "session = SparkSession.builder.getOrCreate()"
   ]
  },
  {
   "cell_type": "markdown",
   "metadata": {},
   "source": [
    "We can specify `.read` options in two equivalent ways:"
   ]
  },
  {
   "cell_type": "code",
   "execution_count": 4,
   "metadata": {},
   "outputs": [],
   "source": [
    "df = session.read.csv('sales_segments.csv.gz', sep = '^', header=True, inferSchema=True)"
   ]
  },
  {
   "cell_type": "code",
   "execution_count": 6,
   "metadata": {},
   "outputs": [
    {
     "data": {
      "text/plain": [
       "DataFrame[rloc: string, departure_date_seg: timestamp, booking_date: timestamp, freq_flyer_flag: boolean, creator_office_id: string, creator_iata_number: int, creator_gds_code: string, creator_city_code: string, creator_lat: double, creator_lon: double, creator_country_code: string, creator_continent_code: string, creator_channel_code: string, booking_status_code: string, cabin_code: string, booking_class_code: string, pos_office_id: string, pos_iata_number: int, pos_gds_code: string, pos_city_code: string, pos_lat: double, pos_lon: double, pos_country_code: string, pos_continent_code: string, pos_channel_code: string, board_point_seg: string, board_lat: double, board_lon: double, board_country_code: string, board_continent_code: string, off_point_seg: string, off_lat: double, off_lon: double, off_country_code: string, off_continent_code: string, num_legs: int, distance_seg: double, route: string, network: string, airline_code: string, flight_number: string, flight_type: string, revenue_source: string, estimated_flag: boolean, usage_board_point_seg: string, usage_off_point_seg: string, usage_flight_number: int, usage_date: timestamp, non_currency_type: string, bookings_seg: int, rpk_seg: int, revenue_amount_seg: double, currency_code: string, fuel_surcharge_amount_seg: double, fuel_surcharge_currency_code: string, emd_count: int, emd_amount: double, emd_currency_code: string, total_outliers: double]"
      ]
     },
     "execution_count": 6,
     "metadata": {},
     "output_type": "execute_result"
    }
   ],
   "source": [
    "df"
   ]
  },
  {
   "cell_type": "markdown",
   "metadata": {},
   "source": [
    "### Extract KPIs\n",
    "\n",
    "A direct transliteration of what we did with sklearn: columnwise arithmetic"
   ]
  },
  {
   "cell_type": "code",
   "execution_count": 8,
   "metadata": {
    "collapsed": true
   },
   "outputs": [],
   "source": [
    "df2 = df.select(\n",
    "    (df['revenue_amount_seg'] / df ['bookings_seg']).alias('revenue'),\n",
    "    (df['fuel_surcharge_amount_seg'] / df ['bookings_seg']).alias('tax')\n",
    ")"
   ]
  },
  {
   "cell_type": "code",
   "execution_count": 11,
   "metadata": {},
   "outputs": [
    {
     "data": {
      "text/plain": [
       "[Row(revenue=33.56, tax=7.3),\n",
       " Row(revenue=61.2, tax=25.5),\n",
       " Row(revenue=71.86842105263158, tax=12.31578947368421)]"
      ]
     },
     "execution_count": 11,
     "metadata": {},
     "output_type": "execute_result"
    }
   ],
   "source": [
    "df2.head(3)"
   ]
  },
  {
   "cell_type": "markdown",
   "metadata": {},
   "source": [
    "## Machine Learning in Spark\n",
    "\n",
    "### `spark.mllib` and `spark.ml`\n",
    "\n",
    "`spark.mllib` was the original Spark Machine Learning package. It is based on RDDs. It's now on maintenance mode.\n",
    "\n",
    "Since the focus on DataFrames, `spark.ml` is the primary ML package. It's designed around DataFrames. \n",
    "\n",
    "Somewhat confusingly, \"Spark MLLIB\" is the name of the library, and it comprises both.\n",
    "\n",
    "https://spark.apache.org/docs/2.2.1/ml-guide.html\n",
    "https://spark.apache.org/docs/2.2.1/api/python/pyspark.ml.html"
   ]
  },
  {
   "cell_type": "markdown",
   "metadata": {},
   "source": [
    "### Transformers, Estimators and Models\n",
    "\n",
    "In Spark ML, a Transformer is an object that represents a transformation from a DataFrame into another DataFrame.\n",
    "\n",
    "Many preprocessing and feature extraction steps are represented by Transformers. In general, this happens when they don't have to learn anything from the dataset itself, which means they implement the `transform` but not the `fit` method.\n",
    "\n",
    "When the transformation does depend on the dataset, the transformation is represented by an Estimator. An Estimator implements a `fit` method that generates a Model, which is a Transformer.\n",
    "\n",
    "All Machine Learning models are Estimators, and many feature extraction steps are as well.\n",
    "\n",
    "https://spark.apache.org/docs/2.2.0/ml-pipeline.html"
   ]
  },
  {
   "cell_type": "markdown",
   "metadata": {},
   "source": [
    "Hay algunas transformaciones, como minmaxscaler, que requieren información de los datos para poder ejecutarse. En el minmaxscaler necesita saber los valores de los datos para poder escalarlos todos entre 0 y 1.\n",
    "\n",
    "Como en spark todo es inmutable, no se puede hacer lo mismo que en sklearn, xq el método no puede aprender con el fit.\n",
    "\n",
    "```\n",
    "RDD -------------- (transformer) ------------>  RDD\n",
    " |                      |\n",
    " |                     /|\\\n",
    " |                      |\n",
    " |                      |\n",
    " |------- (estimator) -- \n",
    "\n",
    "```"
   ]
  },
  {
   "cell_type": "markdown",
   "metadata": {},
   "source": [
    "### Assemble features"
   ]
  },
  {
   "cell_type": "code",
   "execution_count": 13,
   "metadata": {
    "collapsed": true
   },
   "outputs": [],
   "source": [
    "from pyspark.ml.feature import VectorAssembler\n",
    "\n",
    "va = VectorAssembler(inputCols=['revenue', 'tax'], outputCol='features')\n",
    "\n",
    "# Es interesante llamar a la columna de salida 'features', xq así los pipelines de mas abajo funcionan directamente"
   ]
  },
  {
   "cell_type": "code",
   "execution_count": 14,
   "metadata": {},
   "outputs": [],
   "source": [
    "assembled_df = va.transform(df2)"
   ]
  },
  {
   "cell_type": "code",
   "execution_count": 15,
   "metadata": {},
   "outputs": [
    {
     "name": "stdout",
     "output_type": "stream",
     "text": [
      "+------------------+-----------------+--------------------+\n",
      "|           revenue|              tax|            features|\n",
      "+------------------+-----------------+--------------------+\n",
      "|             33.56|              7.3|         [33.56,7.3]|\n",
      "|              61.2|             25.5|         [61.2,25.5]|\n",
      "| 71.86842105263158|12.31578947368421|[71.8684210526315...|\n",
      "|27.116666666666664|            13.31|[27.1166666666666...|\n",
      "|               0.0|            15.91|         [0.0,15.91]|\n",
      "+------------------+-----------------+--------------------+\n",
      "only showing top 5 rows\n",
      "\n"
     ]
    }
   ],
   "source": [
    "assembled_df.show(5)"
   ]
  },
  {
   "cell_type": "code",
   "execution_count": 19,
   "metadata": {},
   "outputs": [],
   "source": [
    "from pyspark.ml.clustering import KMeans\n",
    "\n",
    "kmeans = KMeans(predictionCol='cluster', k=8) # si el outputCol no se llamara 'features', tendríamos que decirle por argumento el nombre\n",
    "kmeans_model = kmeans.fit(assembled_df)"
   ]
  },
  {
   "cell_type": "code",
   "execution_count": 20,
   "metadata": {},
   "outputs": [],
   "source": [
    "predicted = kmeans_model.transform(assembled_df)\n"
   ]
  },
  {
   "cell_type": "code",
   "execution_count": 21,
   "metadata": {},
   "outputs": [
    {
     "name": "stdout",
     "output_type": "stream",
     "text": [
      "+------------------+-----------------+--------------------+-------+\n",
      "|           revenue|              tax|            features|cluster|\n",
      "+------------------+-----------------+--------------------+-------+\n",
      "|             33.56|              7.3|         [33.56,7.3]|      0|\n",
      "|              61.2|             25.5|         [61.2,25.5]|      0|\n",
      "| 71.86842105263158|12.31578947368421|[71.8684210526315...|      0|\n",
      "|27.116666666666664|            13.31|[27.1166666666666...|      0|\n",
      "|               0.0|            15.91|         [0.0,15.91]|      0|\n",
      "+------------------+-----------------+--------------------+-------+\n",
      "only showing top 5 rows\n",
      "\n"
     ]
    }
   ],
   "source": [
    "predicted.show(5)"
   ]
  },
  {
   "cell_type": "markdown",
   "metadata": {},
   "source": [
    "### Training our model\n",
    "\n",
    "Just like in sklearn, we use a `.fit` method. The difference is that Estimators are stateless: the software object we call kmeans doesn't learn, that is, it doesn't change its state like sklearn models do (remember the underscore-suffixed attributes of sklearn models, which are generated from the data). \n",
    "\n",
    "What it does is generate a new object, the one we call model, which is a Transformer. This object contains the information necessary to `.transform` our data, which is the method name spark.ml uses in place of `.predict`."
   ]
  },
  {
   "cell_type": "code",
   "execution_count": null,
   "metadata": {},
   "outputs": [],
   "source": []
  },
  {
   "cell_type": "code",
   "execution_count": null,
   "metadata": {},
   "outputs": [],
   "source": []
  },
  {
   "cell_type": "code",
   "execution_count": null,
   "metadata": {},
   "outputs": [],
   "source": []
  },
  {
   "cell_type": "code",
   "execution_count": null,
   "metadata": {},
   "outputs": [],
   "source": []
  },
  {
   "cell_type": "code",
   "execution_count": null,
   "metadata": {
    "collapsed": true
   },
   "outputs": [],
   "source": []
  },
  {
   "cell_type": "markdown",
   "metadata": {},
   "source": [
    "### Assigning clusters\n",
    "\n"
   ]
  },
  {
   "cell_type": "code",
   "execution_count": null,
   "metadata": {
    "collapsed": true
   },
   "outputs": [],
   "source": []
  },
  {
   "cell_type": "markdown",
   "metadata": {},
   "source": [
    "### Z scores\n",
    "\n",
    "Now we only need to calculate a z-score, so that we can score points as outliers or not outliers.\n",
    "\n",
    "For that, we need the per-cluster mean and stddev for each of the variables."
   ]
  },
  {
   "cell_type": "markdown",
   "metadata": {},
   "source": [
    "Group by cluster and extract mean and stddev for each revenue and tax"
   ]
  },
  {
   "cell_type": "code",
   "execution_count": 30,
   "metadata": {},
   "outputs": [
    {
     "data": {
      "text/plain": [
       "DataFrame[cluster: int, rev_avg: double, rev_std: double, tax_avg: double, tax_std: double]"
      ]
     },
     "execution_count": 30,
     "metadata": {},
     "output_type": "execute_result"
    }
   ],
   "source": [
    "from pyspark.sql import functions\n",
    "\n",
    "stats = predicted.groupby('cluster')\\\n",
    "    .agg(\n",
    "        functions.mean('revenue').alias('rev_avg'),\n",
    "        functions.stddev('revenue').alias('rev_std'),\n",
    "        functions.mean('tax').alias('tax_avg'),\n",
    "        functions.stddev('tax').alias('tax_std'),\n",
    "        )\n",
    "\n",
    "stats"
   ]
  },
  {
   "cell_type": "markdown",
   "metadata": {},
   "source": [
    "Join the aggregated results with the original DataFrame"
   ]
  },
  {
   "cell_type": "code",
   "execution_count": 31,
   "metadata": {},
   "outputs": [
    {
     "name": "stdout",
     "output_type": "stream",
     "text": [
      "+-------+-----------------+------------------+------------------+------------------+\n",
      "|cluster|          rev_avg|           rev_std|           tax_avg|           tax_std|\n",
      "+-------+-----------------+------------------+------------------+------------------+\n",
      "|      1|       877500.428|50236.153381033546|            30.302|1.8088228216163138|\n",
      "|      6|312163.4388888889|29522.398235525106|116.97555555555556| 80.08069915889708|\n",
      "|      3|157159.5146153846| 34389.33242227877|135.56846153846158|127.81706672990073|\n",
      "|      5|615206.9512499999| 53170.30007189312|29.731249999999996|1.5420991028001862|\n",
      "+-------+-----------------+------------------+------------------+------------------+\n",
      "only showing top 4 rows\n",
      "\n"
     ]
    }
   ],
   "source": [
    "stats.show(4)"
   ]
  },
  {
   "cell_type": "markdown",
   "metadata": {},
   "source": [
    "And we are ready to do the arithmetic!"
   ]
  },
  {
   "cell_type": "code",
   "execution_count": 32,
   "metadata": {},
   "outputs": [
    {
     "name": "stdout",
     "output_type": "stream",
     "text": [
      "+-------+-------+---+-----------+------------------+------------------+-----------------+-----------------+\n",
      "|cluster|revenue|tax|   features|           rev_avg|           rev_std|          tax_avg|          tax_std|\n",
      "+-------+-------+---+-----------+------------------+------------------+-----------------+-----------------+\n",
      "|      0|  33.56|7.3|[33.56,7.3]|208.24115779042765|313.15001943458503|95.18280931147355|86.66315898365448|\n",
      "+-------+-------+---+-----------+------------------+------------------+-----------------+-----------------+\n",
      "only showing top 1 row\n",
      "\n"
     ]
    }
   ],
   "source": [
    "annotated = predicted.join(stats, on='cluster', how='left')\n",
    "annotated.show(1)"
   ]
  },
  {
   "cell_type": "code",
   "execution_count": 33,
   "metadata": {},
   "outputs": [],
   "source": [
    "calculated = annotated.select('revenue', \\\n",
    "                              'tax', \\\n",
    "                              'cluster', \\\n",
    "                              ((annotated['revenue'] - annotated['rev_avg']) / annotated['rev_std']).alias('z_rev'), \\\n",
    "                              ((annotated['tax'] - annotated['tax_avg']) / annotated['tax_std']).alias('z_tax'))"
   ]
  },
  {
   "cell_type": "code",
   "execution_count": 34,
   "metadata": {},
   "outputs": [],
   "source": [
    "calculated_outlier = calculated\\\n",
    "    .withColumn('zsquare_square', calculated['z_rev'] ** 2 + calculated['z_tax'] ** 2  )\\\n",
    "    .withColumn('outlier', calculated['z_rev'] ** 2 + calculated['z_tax'] ** 2 > 9  )\n"
   ]
  },
  {
   "cell_type": "code",
   "execution_count": 35,
   "metadata": {},
   "outputs": [
    {
     "name": "stderr",
     "output_type": "stream",
     "text": [
      "/anaconda3/lib/python3.6/importlib/_bootstrap.py:219: RuntimeWarning: numpy.dtype size changed, may indicate binary incompatibility. Expected 96, got 88\n",
      "  return f(*args, **kwds)\n",
      "/anaconda3/lib/python3.6/importlib/_bootstrap.py:219: RuntimeWarning: numpy.dtype size changed, may indicate binary incompatibility. Expected 96, got 88\n",
      "  return f(*args, **kwds)\n"
     ]
    }
   ],
   "source": [
    "pd_df = calculated_outlier.select('revenue', 'tax', 'zsquare_square', 'outlier').toPandas()"
   ]
  },
  {
   "cell_type": "code",
   "execution_count": 36,
   "metadata": {},
   "outputs": [
    {
     "data": {
      "text/html": [
       "<div>\n",
       "<style scoped>\n",
       "    .dataframe tbody tr th:only-of-type {\n",
       "        vertical-align: middle;\n",
       "    }\n",
       "\n",
       "    .dataframe tbody tr th {\n",
       "        vertical-align: top;\n",
       "    }\n",
       "\n",
       "    .dataframe thead th {\n",
       "        text-align: right;\n",
       "    }\n",
       "</style>\n",
       "<table border=\"1\" class=\"dataframe\">\n",
       "  <thead>\n",
       "    <tr style=\"text-align: right;\">\n",
       "      <th></th>\n",
       "      <th>revenue</th>\n",
       "      <th>tax</th>\n",
       "      <th>zsquare_square</th>\n",
       "      <th>outlier</th>\n",
       "    </tr>\n",
       "  </thead>\n",
       "  <tbody>\n",
       "    <tr>\n",
       "      <th>0</th>\n",
       "      <td>33.560000</td>\n",
       "      <td>7.300000</td>\n",
       "      <td>1.339507</td>\n",
       "      <td>False</td>\n",
       "    </tr>\n",
       "    <tr>\n",
       "      <th>1</th>\n",
       "      <td>61.200000</td>\n",
       "      <td>25.500000</td>\n",
       "      <td>0.867002</td>\n",
       "      <td>False</td>\n",
       "    </tr>\n",
       "    <tr>\n",
       "      <th>2</th>\n",
       "      <td>71.868421</td>\n",
       "      <td>12.315789</td>\n",
       "      <td>1.103961</td>\n",
       "      <td>False</td>\n",
       "    </tr>\n",
       "    <tr>\n",
       "      <th>3</th>\n",
       "      <td>27.116667</td>\n",
       "      <td>13.310000</td>\n",
       "      <td>1.227045</td>\n",
       "      <td>False</td>\n",
       "    </tr>\n",
       "    <tr>\n",
       "      <th>4</th>\n",
       "      <td>0.000000</td>\n",
       "      <td>15.910000</td>\n",
       "      <td>1.278928</td>\n",
       "      <td>False</td>\n",
       "    </tr>\n",
       "  </tbody>\n",
       "</table>\n",
       "</div>"
      ],
      "text/plain": [
       "     revenue        tax  zsquare_square  outlier\n",
       "0  33.560000   7.300000        1.339507    False\n",
       "1  61.200000  25.500000        0.867002    False\n",
       "2  71.868421  12.315789        1.103961    False\n",
       "3  27.116667  13.310000        1.227045    False\n",
       "4   0.000000  15.910000        1.278928    False"
      ]
     },
     "execution_count": 36,
     "metadata": {},
     "output_type": "execute_result"
    }
   ],
   "source": [
    "pd_df.head()"
   ]
  },
  {
   "cell_type": "code",
   "execution_count": 38,
   "metadata": {},
   "outputs": [
    {
     "data": {
      "text/plain": [
       "(-50, 750)"
      ]
     },
     "execution_count": 38,
     "metadata": {},
     "output_type": "execute_result"
    },
    {
     "data": {
      "image/png": "[encoded data removed]",
      "text/plain": [
       "<Figure size 432x288 with 1 Axes>"
      ]
     },
     "metadata": {},
     "output_type": "display_data"
    }
   ],
   "source": [
    "import matplotlib.pyplot as plt\n",
    "%matplotlib inline\n",
    "\n",
    "sample = pd_df.sample(50000, random_state=42)\n",
    "only_outlier = sample[sample['outlier']]\n",
    "\n",
    "plt.scatter(sample['revenue'], sample['tax'], alpha=0.01)\n",
    "plt.scatter(only_outlier['revenue'], only_outlier['tax'], c='Red')\n",
    "plt.xlim((-50, 1500))\n",
    "plt.ylim((-50, 750))"
   ]
  },
  {
   "cell_type": "markdown",
   "metadata": {},
   "source": [
    "### Plot the results\n",
    "\n",
    "We use the standard Python scientific stack to plot"
   ]
  },
  {
   "cell_type": "code",
   "execution_count": null,
   "metadata": {},
   "outputs": [],
   "source": []
  },
  {
   "cell_type": "markdown",
   "metadata": {},
   "source": [
    "Looks just the same!"
   ]
  },
  {
   "cell_type": "markdown",
   "metadata": {},
   "source": [
    "### Appendix: saving models\n",
    "\n",
    "Just like in sklearn, we can save learned models so that we can share, import or deploy them. In this case we have an additional perk over sklearn: we can use the saved models in pyspark, but also in Scala or Java-based Spark applications. R is trickier, but it should be coming at some point."
   ]
  },
  {
   "cell_type": "code",
   "execution_count": 39,
   "metadata": {
    "collapsed": true
   },
   "outputs": [],
   "source": [
    "kmeans_model.save('my_trained_kmeans')"
   ]
  },
  {
   "cell_type": "code",
   "execution_count": 40,
   "metadata": {},
   "outputs": [],
   "source": [
    "from pyspark.ml.clustering import KMeansModel\n",
    "\n",
    "rehydrated = KMeansModel.load('my_trained_kmeans')"
   ]
  },
  {
   "cell_type": "code",
   "execution_count": 41,
   "metadata": {},
   "outputs": [
    {
     "data": {
      "text/plain": [
       "DataFrame[revenue: double, tax: double, features: vector, cluster: int]"
      ]
     },
     "execution_count": 41,
     "metadata": {},
     "output_type": "execute_result"
    }
   ],
   "source": [
    "rehydrated.transform(assembled_df)"
   ]
  },
  {
   "cell_type": "markdown",
   "metadata": {},
   "source": [
    "Esto nos permite desacoplar la predicción del training.\n",
    "Un training es extremadamente caro con respecto a la predicción. Podemos entrenar nuestro modelo en python, salvarlo a fichero, y pasarselo al equpo de deployment para que lo ponga en producción"
   ]
  },
  {
   "cell_type": "markdown",
   "metadata": {},
   "source": [
    "#### Exercise\n",
    "\n",
    "Turn this analysis into a Spark job (you can find an example in notebook 03).\n",
    "\n",
    "Upload it to the cluster and run it."
   ]
  }
 ],
 "metadata": {
  "anaconda-cloud": {},
  "kernelspec": {
   "display_name": "Python 3",
   "language": "python",
   "name": "python3"
  },
  "language_info": {
   "codemirror_mode": {
    "name": "ipython",
    "version": 3
   },
   "file_extension": ".py",
   "mimetype": "text/x-python",
   "name": "python",
   "nbconvert_exporter": "python",
   "pygments_lexer": "ipython3",
   "version": "3.6.5"
  }
 },
 "nbformat": 4,
 "nbformat_minor": 2
}
