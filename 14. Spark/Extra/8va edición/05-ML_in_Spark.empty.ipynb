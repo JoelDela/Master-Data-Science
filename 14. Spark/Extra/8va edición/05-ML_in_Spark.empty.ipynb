{
 "cells": [
  {
   "cell_type": "markdown",
   "metadata": {},
   "source": [
    "# Tuning Machine Learning models in Spark"
   ]
  },
  {
   "cell_type": "markdown",
   "metadata": {},
   "source": [
    "## ML Pipelines in Spark\n",
    "\n",
    "ML model training and tuning often represents running the same steps once and again. Often, we run the same steps with small variations in order to evaluate combinations of parameters. \n",
    "\n",
    "In order to make this use case a lot easier, Spark provides the [Pipeline](https://spark.apache.org/docs/2.3.0/ml-pipeline.html) abstraction.\n",
    "\n",
    "A Pipeline represents a series of steps in the processing of a dataset. Each step is a Transformer or an Estimator. The whole Pipeline is an Estimator, so we can .fit the whole pipeline in one step. When we do that, the steps'  .fit and .transform methods will be called in turn."
   ]
  },
  {
   "cell_type": "markdown",
   "metadata": {},
   "source": [
    "![pipelineestimator](https://spark.apache.org/docs/2.3.0/img/ml-Pipeline.png)"
   ]
  },
  {
   "cell_type": "markdown",
   "metadata": {},
   "source": [
    "![PipelineModel](https://spark.apache.org/docs/2.3.0/img/ml-PipelineModel.png)"
   ]
  },
  {
   "cell_type": "markdown",
   "metadata": {},
   "source": [
    "### Basic Example of ML"
   ]
  },
  {
   "cell_type": "code",
   "execution_count": 4,
   "metadata": {},
   "outputs": [],
   "source": [
    "##################################################\n",
    "## Libraries\n",
    "##################################################\n",
    "from pyspark.sql import SparkSession\n",
    "spark = SparkSession.builder.getOrCreate()\n",
    "\n",
    "from pyspark.ml.linalg import Vectors\n",
    "from pyspark.ml.classification import LogisticRegression"
   ]
  },
  {
   "cell_type": "code",
   "execution_count": 5,
   "metadata": {},
   "outputs": [
    {
     "name": "stdout",
     "output_type": "stream",
     "text": [
      "+--------------+-----+\n",
      "|      features|label|\n",
      "+--------------+-----+\n",
      "| [0.0,1.1,0.1]|  1.0|\n",
      "|[2.0,1.0,-1.0]|  0.0|\n",
      "| [2.0,1.3,1.0]|  0.0|\n",
      "|[0.0,1.2,-0.5]|  1.0|\n",
      "+--------------+-----+\n",
      "\n"
     ]
    }
   ],
   "source": [
    "##################################################\n",
    "## Create or Load a DataFrame\n",
    "##################################################\n",
    "\n",
    "# Prepare training data from a list of (label, features) tuples.\n",
    "training = spark.createDataFrame([\n",
    "    (Vectors.dense([0.0, 1.1, 0.1]),1.0),\n",
    "    (Vectors.dense([2.0, 1.0, -1.0]),0.0),\n",
    "    (Vectors.dense([2.0, 1.3, 1.0]),0.0),\n",
    "    (Vectors.dense([0.0, 1.2, -0.5]),1.0)], [\"features\",\"label\"])\n",
    "\n",
    "training.show()"
   ]
  },
  {
   "cell_type": "code",
   "execution_count": 6,
   "metadata": {},
   "outputs": [
    {
     "name": "stdout",
     "output_type": "stream",
     "text": [
      "LogisticRegression parameters:\n",
      "aggregationDepth: suggested depth for treeAggregate (>= 2). (default: 2)\n",
      "elasticNetParam: the ElasticNet mixing parameter, in range [0, 1]. For alpha = 0, the penalty is an L2 penalty. For alpha = 1, it is an L1 penalty. (default: 0.0)\n",
      "family: The name of family which is a description of the label distribution to be used in the model. Supported options: auto, binomial, multinomial (default: auto)\n",
      "featuresCol: features column name. (default: features)\n",
      "fitIntercept: whether to fit an intercept term. (default: True)\n",
      "labelCol: label column name. (default: label)\n",
      "lowerBoundsOnCoefficients: The lower bounds on coefficients if fitting under bound constrained optimization. The bound matrix must be compatible with the shape (1, number of features) for binomial regression, or (number of classes, number of features) for multinomial regression. (undefined)\n",
      "lowerBoundsOnIntercepts: The lower bounds on intercepts if fitting under bound constrained optimization. The bounds vector size must beequal with 1 for binomial regression, or the number oflasses for multinomial regression. (undefined)\n",
      "maxIter: max number of iterations (>= 0). (default: 100, current: 10)\n",
      "predictionCol: prediction column name. (default: prediction)\n",
      "probabilityCol: Column name for predicted class conditional probabilities. Note: Not all models output well-calibrated probability estimates! These probabilities should be treated as confidences, not precise probabilities. (default: probability)\n",
      "rawPredictionCol: raw prediction (a.k.a. confidence) column name. (default: rawPrediction)\n",
      "regParam: regularization parameter (>= 0). (default: 0.0, current: 0.01)\n",
      "standardization: whether to standardize the training features before fitting the model. (default: True)\n",
      "threshold: Threshold in binary classification prediction, in range [0, 1]. If threshold and thresholds are both set, they must match.e.g. if threshold is p, then thresholds must be equal to [1-p, p]. (default: 0.5)\n",
      "thresholds: Thresholds in multi-class classification to adjust the probability of predicting each class. Array must have length equal to the number of classes, with values > 0, excepting that at most one value may be 0. The class with largest value p/t is predicted, where p is the original probability of that class and t is the class's threshold. (undefined)\n",
      "tol: the convergence tolerance for iterative algorithms (>= 0). (default: 1e-06)\n",
      "upperBoundsOnCoefficients: The upper bounds on coefficients if fitting under bound constrained optimization. The bound matrix must be compatible with the shape (1, number of features) for binomial regression, or (number of classes, number of features) for multinomial regression. (undefined)\n",
      "upperBoundsOnIntercepts: The upper bounds on intercepts if fitting under bound constrained optimization. The bound vector size must be equal with 1 for binomial regression, or the number of classes for multinomial regression. (undefined)\n",
      "weightCol: weight column name. If this is not set or empty, we treat all instance weights as 1.0. (undefined)\n",
      "\n"
     ]
    }
   ],
   "source": [
    "##################################################\n",
    "## Model\n",
    "##################################################\n",
    "\n",
    "# Create a LogisticRegression instance. This instance is an Estimator.\n",
    "lr = LogisticRegression(maxIter=10, regParam=0.01)\n",
    "# Print out the parameters, documentation, and any default values.\n",
    "print(\"LogisticRegression parameters:\\n\" + lr.explainParams() + \"\\n\")"
   ]
  },
  {
   "cell_type": "code",
   "execution_count": 7,
   "metadata": {},
   "outputs": [],
   "source": [
    "# Learn a LogisticRegression model. This uses the parameters stored in lr.\n",
    "# Now, model1 is a TRANSFORMER\n",
    "model1 = lr.fit(training)"
   ]
  },
  {
   "cell_type": "code",
   "execution_count": 8,
   "metadata": {},
   "outputs": [
    {
     "name": "stdout",
     "output_type": "stream",
     "text": [
      "Model 1 was fit using parameters: \n",
      "{Param(parent='LogisticRegression_4f83c81941d0', name='aggregationDepth', doc='suggested depth for treeAggregate (>= 2)'): 2, Param(parent='LogisticRegression_4f83c81941d0', name='elasticNetParam', doc='the ElasticNet mixing parameter, in range [0, 1]. For alpha = 0, the penalty is an L2 penalty. For alpha = 1, it is an L1 penalty'): 0.0, Param(parent='LogisticRegression_4f83c81941d0', name='family', doc='The name of family which is a description of the label distribution to be used in the model. Supported options: auto, binomial, multinomial.'): 'auto', Param(parent='LogisticRegression_4f83c81941d0', name='featuresCol', doc='features column name'): 'features', Param(parent='LogisticRegression_4f83c81941d0', name='fitIntercept', doc='whether to fit an intercept term'): True, Param(parent='LogisticRegression_4f83c81941d0', name='labelCol', doc='label column name'): 'label', Param(parent='LogisticRegression_4f83c81941d0', name='maxIter', doc='maximum number of iterations (>= 0)'): 10, Param(parent='LogisticRegression_4f83c81941d0', name='predictionCol', doc='prediction column name'): 'prediction', Param(parent='LogisticRegression_4f83c81941d0', name='probabilityCol', doc='Column name for predicted class conditional probabilities. Note: Not all models output well-calibrated probability estimates! These probabilities should be treated as confidences, not precise probabilities'): 'probability', Param(parent='LogisticRegression_4f83c81941d0', name='rawPredictionCol', doc='raw prediction (a.k.a. confidence) column name'): 'rawPrediction', Param(parent='LogisticRegression_4f83c81941d0', name='regParam', doc='regularization parameter (>= 0)'): 0.01, Param(parent='LogisticRegression_4f83c81941d0', name='standardization', doc='whether to standardize the training features before fitting the model'): True, Param(parent='LogisticRegression_4f83c81941d0', name='threshold', doc='threshold in binary classification prediction, in range [0, 1]'): 0.5, Param(parent='LogisticRegression_4f83c81941d0', name='tol', doc='the convergence tolerance for iterative algorithms (>= 0)'): 1e-06}\n"
     ]
    }
   ],
   "source": [
    "# Since model1 is a Model (i.e., a transformer produced by an Estimator),\n",
    "# we can view the parameters it used during fit().\n",
    "# This prints the parameter (name: value) pairs, where names are unique IDs for this\n",
    "# LogisticRegression instance.\n",
    "print(\"Model 1 was fit using parameters: \")\n",
    "print(model1.extractParamMap())"
   ]
  },
  {
   "cell_type": "code",
   "execution_count": 11,
   "metadata": {},
   "outputs": [
    {
     "name": "stdout",
     "output_type": "stream",
     "text": [
      "Model 2 was fit using parameters: \n",
      "{Param(parent='LogisticRegression_4f83c81941d0', name='aggregationDepth', doc='suggested depth for treeAggregate (>= 2)'): 2, Param(parent='LogisticRegression_4f83c81941d0', name='elasticNetParam', doc='the ElasticNet mixing parameter, in range [0, 1]. For alpha = 0, the penalty is an L2 penalty. For alpha = 1, it is an L1 penalty'): 0.0, Param(parent='LogisticRegression_4f83c81941d0', name='family', doc='The name of family which is a description of the label distribution to be used in the model. Supported options: auto, binomial, multinomial.'): 'auto', Param(parent='LogisticRegression_4f83c81941d0', name='featuresCol', doc='features column name'): 'features', Param(parent='LogisticRegression_4f83c81941d0', name='fitIntercept', doc='whether to fit an intercept term'): True, Param(parent='LogisticRegression_4f83c81941d0', name='labelCol', doc='label column name'): 'label', Param(parent='LogisticRegression_4f83c81941d0', name='maxIter', doc='maximum number of iterations (>= 0)'): 30, Param(parent='LogisticRegression_4f83c81941d0', name='predictionCol', doc='prediction column name'): 'prediction', Param(parent='LogisticRegression_4f83c81941d0', name='probabilityCol', doc='Column name for predicted class conditional probabilities. Note: Not all models output well-calibrated probability estimates! These probabilities should be treated as confidences, not precise probabilities'): 'myProbability', Param(parent='LogisticRegression_4f83c81941d0', name='rawPredictionCol', doc='raw prediction (a.k.a. confidence) column name'): 'rawPrediction', Param(parent='LogisticRegression_4f83c81941d0', name='regParam', doc='regularization parameter (>= 0)'): 0.1, Param(parent='LogisticRegression_4f83c81941d0', name='standardization', doc='whether to standardize the training features before fitting the model'): True, Param(parent='LogisticRegression_4f83c81941d0', name='threshold', doc='threshold in binary classification prediction, in range [0, 1]'): 0.55, Param(parent='LogisticRegression_4f83c81941d0', name='tol', doc='the convergence tolerance for iterative algorithms (>= 0)'): 1e-06}\n",
      "features=[-1.0,1.5,1.3], label=1.0 -> prob=[0.05707304171034112,0.9429269582896589], prediction=1.0\n",
      "features=[3.0,2.0,-0.1], label=0.0 -> prob=[0.9238522311704136,0.07614776882958636], prediction=0.0\n",
      "features=[0.0,2.2,-1.5], label=1.0 -> prob=[0.10972776114780082,0.8902722388521992], prediction=1.0\n"
     ]
    }
   ],
   "source": [
    "# We may alternatively specify parameters using a Python dictionary as a paramMap\n",
    "paramMap = {lr.maxIter: 20}\n",
    "paramMap[lr.maxIter] = 30  # Specify 1 Param, overwriting the original maxIter.\n",
    "paramMap.update({lr.regParam: 0.1, lr.threshold: 0.55})  # Specify multiple Params.\n",
    "\n",
    "# You can combine paramMaps, which are python dictionaries.\n",
    "paramMap2 = {lr.probabilityCol: \"myProbability\"}  # Change output column name\n",
    "paramMapCombined = paramMap.copy()\n",
    "paramMapCombined.update(paramMap2)\n",
    "\n",
    "# Now learn a new model using the paramMapCombined parameters.\n",
    "# paramMapCombined overrides all parameters set earlier via lr.set* methods.\n",
    "model2 = lr.fit(training, paramMapCombined)\n",
    "print(\"Model 2 was fit using parameters: \")\n",
    "print(model2.extractParamMap())\n",
    "\n",
    "# Prepare test data\n",
    "test = spark.createDataFrame([\n",
    "    (1.0, Vectors.dense([-1.0, 1.5, 1.3])),\n",
    "    (0.0, Vectors.dense([3.0, 2.0, -0.1])),\n",
    "    (1.0, Vectors.dense([0.0, 2.2, -1.5]))], [\"label\", \"features\"])\n",
    "\n",
    "# Make predictions on test data using the Transformer.transform() method.\n",
    "# LogisticRegression.transform will only use the 'features' column.\n",
    "# Note that model2.transform() outputs a \"myProbability\" column instead of the usual\n",
    "# 'probability' column since we renamed the lr.probabilityCol parameter previously.\n",
    "prediction = model2.transform(test)\n",
    "result = prediction.select(\"features\", \"label\", \"myProbability\", \"prediction\") \\\n",
    "    .collect()\n",
    "\n",
    "for row in result:\n",
    "    print(\"features=%s, label=%s -> prob=%s, prediction=%s\"\n",
    "          % (row.features, row.label, row.myProbability, row.prediction))"
   ]
  },
  {
   "cell_type": "code",
   "execution_count": 13,
   "metadata": {},
   "outputs": [
    {
     "name": "stdout",
     "output_type": "stream",
     "text": [
      "+-----+--------------+--------------------+--------------------+----------+\n",
      "|label|      features|       rawPrediction|       myProbability|prediction|\n",
      "+-----+--------------+--------------------+--------------------+----------+\n",
      "|  1.0|[-1.0,1.5,1.3]|[-2.8046569418746...|[0.05707304171034...|       1.0|\n",
      "|  0.0|[3.0,2.0,-0.1]|[2.49587635664210...|[0.92385223117041...|       0.0|\n",
      "|  1.0|[0.0,2.2,-1.5]|[-2.0935249027913...|[0.10972776114780...|       1.0|\n",
      "+-----+--------------+--------------------+--------------------+----------+\n",
      "\n"
     ]
    }
   ],
   "source": [
    "result = prediction.select(\"*\") \\\n",
    "    .show()"
   ]
  },
  {
   "cell_type": "markdown",
   "metadata": {},
   "source": [
    "### Basic example of Pipeline"
   ]
  },
  {
   "cell_type": "code",
   "execution_count": 14,
   "metadata": {},
   "outputs": [],
   "source": [
    "##################################################\n",
    "## Libraries\n",
    "##################################################\n",
    "from pyspark.ml import Pipeline\n",
    "from pyspark.ml.classification import LogisticRegression\n",
    "from pyspark.ml.feature import HashingTF, Tokenizer"
   ]
  },
  {
   "cell_type": "code",
   "execution_count": 15,
   "metadata": {},
   "outputs": [
    {
     "name": "stdout",
     "output_type": "stream",
     "text": [
      "+---+----------------+-----+\n",
      "| id|            text|label|\n",
      "+---+----------------+-----+\n",
      "|  0| a b c d e spark|  1.0|\n",
      "|  1|             b d|  0.0|\n",
      "|  2|     spark f g h|  1.0|\n",
      "|  3|hadoop mapreduce|  0.0|\n",
      "+---+----------------+-----+\n",
      "\n"
     ]
    }
   ],
   "source": [
    "##################################################\n",
    "## Create or Load a DataFrame\n",
    "##################################################\n",
    "\n",
    "# Prepare training documents from a list of (id, text, label) tuples.\n",
    "training = spark.createDataFrame([\n",
    "    (0, \"a b c d e spark\", 1.0),\n",
    "    (1, \"b d\", 0.0),\n",
    "    (2, \"spark f g h\", 1.0),\n",
    "    (3, \"hadoop mapreduce\", 0.0)\n",
    "], [\"id\", \"text\", \"label\"])\n",
    "\n",
    "training.show()"
   ]
  },
  {
   "cell_type": "code",
   "execution_count": 16,
   "metadata": {},
   "outputs": [],
   "source": [
    "# Configure an ML pipeline, which consists of three stages: tokenizer, hashingTF, and lr.\n",
    "tokenizer = Tokenizer(inputCol=\"text\", outputCol=\"words\")                                    # Separar Texto en Palabras\n",
    "hashingTF = HashingTF(inputCol=tokenizer.getOutputCol(), outputCol=\"features\")               # Convierte en vector  los recogido de tokenizer con frecuencia de registros....\n",
    "lr = LogisticRegression(maxIter=10, regParam=0.001)\n",
    "pipeline = Pipeline(stages=[tokenizer, hashingTF, lr])\n",
    "\n",
    "# Fit the pipeline to training documents.\n",
    "model = pipeline.fit(training)"
   ]
  },
  {
   "cell_type": "code",
   "execution_count": 17,
   "metadata": {},
   "outputs": [
    {
     "name": "stdout",
     "output_type": "stream",
     "text": [
      "(4, spark i j k) --> prob=[0.15964077387874745,0.8403592261212527], prediction=1.000000\n",
      "(5, l m n) --> prob=[0.8378325685476744,0.16216743145232562], prediction=0.000000\n",
      "(6, spark hadoop spark) --> prob=[0.06926633132976037,0.9307336686702395], prediction=1.000000\n",
      "(7, apache hadoop) --> prob=[0.9821575333444218,0.01784246665557808], prediction=0.000000\n"
     ]
    }
   ],
   "source": [
    "# Prepare test documents, which are unlabeled (id, text) tuples.\n",
    "test = spark.createDataFrame([\n",
    "    (4, \"spark i j k\"),\n",
    "    (5, \"l m n\"),\n",
    "    (6, \"spark hadoop spark\"),\n",
    "    (7, \"apache hadoop\")\n",
    "], [\"id\", \"text\"])\n",
    "\n",
    "# Make predictions on test documents and print columns of interest.\n",
    "prediction = model.transform(test)\n",
    "selected = prediction.select(\"id\", \"text\", \"probability\", \"prediction\")\n",
    "for row in selected.collect():\n",
    "    rid, text, prob, prediction = row\n",
    "    print(\"(%d, %s) --> prob=%s, prediction=%f\" % (rid, text, str(prob), prediction))"
   ]
  },
  {
   "cell_type": "code",
   "execution_count": 20,
   "metadata": {},
   "outputs": [
    {
     "name": "stdout",
     "output_type": "stream",
     "text": [
      "+---+------------------+--------------------+----------+\n",
      "| id|              text|         probability|prediction|\n",
      "+---+------------------+--------------------+----------+\n",
      "|  4|       spark i j k|[0.15964077387874...|       1.0|\n",
      "|  5|             l m n|[0.83783256854767...|       0.0|\n",
      "|  6|spark hadoop spark|[0.06926633132976...|       1.0|\n",
      "|  7|     apache hadoop|[0.98215753334442...|       0.0|\n",
      "+---+------------------+--------------------+----------+\n",
      "\n"
     ]
    }
   ],
   "source": [
    "selected.show()"
   ]
  },
  {
   "cell_type": "code",
   "execution_count": 21,
   "metadata": {},
   "outputs": [
    {
     "name": "stdout",
     "output_type": "stream",
     "text": [
      "+---+------------------+--------------------+--------------------+\n",
      "| id|              text|               words|            features|\n",
      "+---+------------------+--------------------+--------------------+\n",
      "|  4|       spark i j k|    [spark, i, j, k]|(262144,[20197,24...|\n",
      "|  5|             l m n|           [l, m, n]|(262144,[18910,10...|\n",
      "|  6|spark hadoop spark|[spark, hadoop, s...|(262144,[155117,2...|\n",
      "|  7|     apache hadoop|    [apache, hadoop]|(262144,[66695,15...|\n",
      "+---+------------------+--------------------+--------------------+\n",
      "\n"
     ]
    }
   ],
   "source": [
    "after_hashing = model.stages[1].transform(model.stages[0].transform(test)).show()"
   ]
  },
  {
   "cell_type": "markdown",
   "metadata": {},
   "source": [
    "## Example: predicting flight delays\n",
    "\n",
    "We'll be using the same [Transtats'](https://www.transtats.bts.gov/) OTP performance data] from way back when. Remember it?\n",
    "\n",
    "It's a table that contains all domestic departures by US air air carriers that represent at least one percent of domestic scheduled passenger revenues, with data on each individual departure including [Tail Number](https://en.wikipedia.org/wiki/Tail_number), departure delay, origin, destination and carrier.\n"
   ]
  },
  {
   "cell_type": "markdown",
   "metadata": {},
   "source": [
    "### Load the data\n",
    "\n",
    "Opening .zip files in Spark is a bit of a pain. For now, let's just decompress the file we want to read. When we are ready to expand the processing to the cluster, we will need to do [this](https://stackoverflow.com/questions/28569788/how-to-open-stream-zip-files-through-spark)."
   ]
  },
  {
   "cell_type": "code",
   "execution_count": 44,
   "metadata": {
    "scrolled": false
   },
   "outputs": [],
   "source": [
    "file = 'On_Time_On_Time_Performance_2015_8.csv'\n",
    "df = spark.read.csv(file,header=True, inferSchema=True)"
   ]
  },
  {
   "cell_type": "code",
   "execution_count": 45,
   "metadata": {},
   "outputs": [
    {
     "name": "stdout",
     "output_type": "stream",
     "text": [
      "+-------------------+---------+----+-----+----------+---------+-------+-------+---------+------+--------------+---------------+----+---------------+-------------+-------+--------+-------+--------+\n",
      "|         FlightDate|DayOfWeek|Year|Month|DayofMonth|DayOfWeek|Carrier|TailNum|FlightNum|Origin|OriginCityName|OriginStateName|Dest|   DestCityName|DestStateName|DepTime|DepDelay|AirTime|Distance|\n",
      "+-------------------+---------+----+-----+----------+---------+-------+-------+---------+------+--------------+---------------+----+---------------+-------------+-------+--------+-------+--------+\n",
      "|2015-08-02 00:00:00|        7|2015|    8|         2|        7|     AA| N790AA|        1|   JFK|  New York, NY|       New York| LAX|Los Angeles, CA|   California|    854|    -6.0|  313.0|  2475.0|\n",
      "|2015-08-03 00:00:00|        1|2015|    8|         3|        1|     AA| N784AA|        1|   JFK|  New York, NY|       New York| LAX|Los Angeles, CA|   California|    858|    -2.0|  316.0|  2475.0|\n",
      "|2015-08-04 00:00:00|        2|2015|    8|         4|        2|     AA| N793AA|        1|   JFK|  New York, NY|       New York| LAX|Los Angeles, CA|   California|    902|     2.0|  326.0|  2475.0|\n",
      "|2015-08-05 00:00:00|        3|2015|    8|         5|        3|     AA| N787AA|        1|   JFK|  New York, NY|       New York| LAX|Los Angeles, CA|   California|    857|    -3.0|  331.0|  2475.0|\n",
      "|2015-08-06 00:00:00|        4|2015|    8|         6|        4|     AA| N790AA|        1|   JFK|  New York, NY|       New York| LAX|Los Angeles, CA|   California|    857|    -3.0|  326.0|  2475.0|\n",
      "|2015-08-07 00:00:00|        5|2015|    8|         7|        5|     AA| N788AA|        1|   JFK|  New York, NY|       New York| LAX|Los Angeles, CA|   California|    854|    -6.0|  311.0|  2475.0|\n",
      "|2015-08-09 00:00:00|        7|2015|    8|         9|        7|     AA| N798AA|        1|   JFK|  New York, NY|       New York| LAX|Los Angeles, CA|   California|    854|    -6.0|  318.0|  2475.0|\n",
      "|2015-08-10 00:00:00|        1|2015|    8|        10|        1|     AA| N799AA|        1|   JFK|  New York, NY|       New York| LAX|Los Angeles, CA|   California|    850|   -10.0|  345.0|  2475.0|\n",
      "|2015-08-11 00:00:00|        2|2015|    8|        11|        2|     AA| N796AA|        1|   JFK|  New York, NY|       New York| LAX|Los Angeles, CA|   California|   1023|    83.0|  317.0|  2475.0|\n",
      "|2015-08-12 00:00:00|        3|2015|    8|        12|        3|     AA| N787AA|        1|   JFK|  New York, NY|       New York| LAX|Los Angeles, CA|   California|    853|    -7.0|  302.0|  2475.0|\n",
      "|2015-08-13 00:00:00|        4|2015|    8|        13|        4|     AA| N784AA|        1|   JFK|  New York, NY|       New York| LAX|Los Angeles, CA|   California|    853|    -7.0|  301.0|  2475.0|\n",
      "|2015-08-14 00:00:00|        5|2015|    8|        14|        5|     AA| N784AA|        1|   JFK|  New York, NY|       New York| LAX|Los Angeles, CA|   California|    853|    -7.0|  301.0|  2475.0|\n",
      "|2015-08-16 00:00:00|        7|2015|    8|        16|        7|     AA| N783AA|        1|   JFK|  New York, NY|       New York| LAX|Los Angeles, CA|   California|    856|    -4.0|  301.0|  2475.0|\n",
      "|2015-08-17 00:00:00|        1|2015|    8|        17|        1|     AA| N791AA|        1|   JFK|  New York, NY|       New York| LAX|Los Angeles, CA|   California|    854|    -6.0|  310.0|  2475.0|\n",
      "|2015-08-18 00:00:00|        2|2015|    8|        18|        2|     AA| N794AA|        1|   JFK|  New York, NY|       New York| LAX|Los Angeles, CA|   California|    908|     8.0|  333.0|  2475.0|\n",
      "|2015-08-19 00:00:00|        3|2015|    8|        19|        3|     AA| N789AA|        1|   JFK|  New York, NY|       New York| LAX|Los Angeles, CA|   California|    854|    -6.0|  308.0|  2475.0|\n",
      "|2015-08-20 00:00:00|        4|2015|    8|        20|        4|     AA| N799AA|        1|   JFK|  New York, NY|       New York| LAX|Los Angeles, CA|   California|    856|    -4.0|  324.0|  2475.0|\n",
      "|2015-08-21 00:00:00|        5|2015|    8|        21|        5|     AA| N794AA|        1|   JFK|  New York, NY|       New York| LAX|Los Angeles, CA|   California|    855|    -5.0|  311.0|  2475.0|\n",
      "|2015-08-22 00:00:00|        6|2015|    8|        22|        6|     AA| N797AA|        1|   JFK|  New York, NY|       New York| LAX|Los Angeles, CA|   California|    852|    -8.0|  315.0|  2475.0|\n",
      "|2015-08-23 00:00:00|        7|2015|    8|        23|        7|     AA| N784AA|        1|   JFK|  New York, NY|       New York| LAX|Los Angeles, CA|   California|    851|    -9.0|  326.0|  2475.0|\n",
      "+-------------------+---------+----+-----+----------+---------+-------+-------+---------+------+--------------+---------------+----+---------------+-------------+-------+--------+-------+--------+\n",
      "only showing top 20 rows\n",
      "\n"
     ]
    }
   ],
   "source": [
    "df2 = df.select('FlightDate', 'DayOfWeek', 'Year', 'Month', 'DayofMonth', 'DayOfWeek',\n",
    "                 'Carrier', \n",
    "                 'TailNum', \n",
    "                 'FlightNum', \n",
    "                 'Origin', 'OriginCityName', 'OriginStateName', \n",
    "                 'Dest', 'DestCityName', 'DestStateName',\n",
    "                 'DepTime', 'DepDelay', 'AirTime', 'Distance')\n",
    "\n",
    "df2.show()"
   ]
  },
  {
   "cell_type": "code",
   "execution_count": 46,
   "metadata": {},
   "outputs": [
    {
     "data": {
      "text/plain": [
       "510536"
      ]
     },
     "execution_count": 46,
     "metadata": {},
     "output_type": "execute_result"
    }
   ],
   "source": [
    "df2.count()"
   ]
  },
  {
   "cell_type": "markdown",
   "metadata": {},
   "source": [
    "### Drop nas\n",
    "\n",
    "There are only a few departures for which any of the columns of interest contains null values. The most expedient way to handle them is to just drop them, since they won't make much of a difference."
   ]
  },
  {
   "cell_type": "code",
   "execution_count": 47,
   "metadata": {},
   "outputs": [],
   "source": [
    "df3 = df2.dropna()"
   ]
  },
  {
   "cell_type": "markdown",
   "metadata": {},
   "source": [
    "NA-related functions are grouped in a .na attribute of DataFrames."
   ]
  },
  {
   "cell_type": "code",
   "execution_count": 48,
   "metadata": {},
   "outputs": [
    {
     "data": {
      "text/plain": [
       "503956"
      ]
     },
     "execution_count": 48,
     "metadata": {},
     "output_type": "execute_result"
    }
   ],
   "source": [
    "df3.count()"
   ]
  },
  {
   "cell_type": "markdown",
   "metadata": {},
   "source": [
    "## Feature extraction and generation of target variable\n",
    "\n",
    "The departing hour is the most important factor in delays, so we need to calculate it from the departure time. Since the input file uses a funny format for times, Spark has interpreted them as floats:"
   ]
  },
  {
   "cell_type": "code",
   "execution_count": 49,
   "metadata": {},
   "outputs": [],
   "source": [
    "from pyspark.sql import types\n",
    "from pyspark.sql import functions as f\n",
    "flights = (df3.withColumn('DepHour',(df3['DepTime']/100).cast(types.IntegerType()))\n",
    "              .withColumn('Delayed',f.when(df[\"DepDelay\"] > 15, 1).otherwise(0)))"
   ]
  },
  {
   "cell_type": "code",
   "execution_count": 52,
   "metadata": {},
   "outputs": [
    {
     "name": "stdout",
     "output_type": "stream",
     "text": [
      "+-------------------+---------+----+-----+----------+---------+-------+-------+---------+------+--------------+---------------+----+---------------+-------------+-------+--------+-------+--------+-------+-------+\n",
      "|         FlightDate|DayOfWeek|Year|Month|DayofMonth|DayOfWeek|Carrier|TailNum|FlightNum|Origin|OriginCityName|OriginStateName|Dest|   DestCityName|DestStateName|DepTime|DepDelay|AirTime|Distance|DepHour|Delayed|\n",
      "+-------------------+---------+----+-----+----------+---------+-------+-------+---------+------+--------------+---------------+----+---------------+-------------+-------+--------+-------+--------+-------+-------+\n",
      "|2015-08-02 00:00:00|        7|2015|    8|         2|        7|     AA| N790AA|        1|   JFK|  New York, NY|       New York| LAX|Los Angeles, CA|   California|    854|    -6.0|  313.0|  2475.0|      8|      0|\n",
      "|2015-08-03 00:00:00|        1|2015|    8|         3|        1|     AA| N784AA|        1|   JFK|  New York, NY|       New York| LAX|Los Angeles, CA|   California|    858|    -2.0|  316.0|  2475.0|      8|      0|\n",
      "|2015-08-04 00:00:00|        2|2015|    8|         4|        2|     AA| N793AA|        1|   JFK|  New York, NY|       New York| LAX|Los Angeles, CA|   California|    902|     2.0|  326.0|  2475.0|      9|      0|\n",
      "|2015-08-05 00:00:00|        3|2015|    8|         5|        3|     AA| N787AA|        1|   JFK|  New York, NY|       New York| LAX|Los Angeles, CA|   California|    857|    -3.0|  331.0|  2475.0|      8|      0|\n",
      "|2015-08-06 00:00:00|        4|2015|    8|         6|        4|     AA| N790AA|        1|   JFK|  New York, NY|       New York| LAX|Los Angeles, CA|   California|    857|    -3.0|  326.0|  2475.0|      8|      0|\n",
      "|2015-08-07 00:00:00|        5|2015|    8|         7|        5|     AA| N788AA|        1|   JFK|  New York, NY|       New York| LAX|Los Angeles, CA|   California|    854|    -6.0|  311.0|  2475.0|      8|      0|\n",
      "|2015-08-09 00:00:00|        7|2015|    8|         9|        7|     AA| N798AA|        1|   JFK|  New York, NY|       New York| LAX|Los Angeles, CA|   California|    854|    -6.0|  318.0|  2475.0|      8|      0|\n",
      "|2015-08-10 00:00:00|        1|2015|    8|        10|        1|     AA| N799AA|        1|   JFK|  New York, NY|       New York| LAX|Los Angeles, CA|   California|    850|   -10.0|  345.0|  2475.0|      8|      0|\n",
      "|2015-08-11 00:00:00|        2|2015|    8|        11|        2|     AA| N796AA|        1|   JFK|  New York, NY|       New York| LAX|Los Angeles, CA|   California|   1023|    83.0|  317.0|  2475.0|     10|      1|\n",
      "|2015-08-12 00:00:00|        3|2015|    8|        12|        3|     AA| N787AA|        1|   JFK|  New York, NY|       New York| LAX|Los Angeles, CA|   California|    853|    -7.0|  302.0|  2475.0|      8|      0|\n",
      "|2015-08-13 00:00:00|        4|2015|    8|        13|        4|     AA| N784AA|        1|   JFK|  New York, NY|       New York| LAX|Los Angeles, CA|   California|    853|    -7.0|  301.0|  2475.0|      8|      0|\n",
      "|2015-08-14 00:00:00|        5|2015|    8|        14|        5|     AA| N784AA|        1|   JFK|  New York, NY|       New York| LAX|Los Angeles, CA|   California|    853|    -7.0|  301.0|  2475.0|      8|      0|\n",
      "|2015-08-16 00:00:00|        7|2015|    8|        16|        7|     AA| N783AA|        1|   JFK|  New York, NY|       New York| LAX|Los Angeles, CA|   California|    856|    -4.0|  301.0|  2475.0|      8|      0|\n",
      "|2015-08-17 00:00:00|        1|2015|    8|        17|        1|     AA| N791AA|        1|   JFK|  New York, NY|       New York| LAX|Los Angeles, CA|   California|    854|    -6.0|  310.0|  2475.0|      8|      0|\n",
      "|2015-08-18 00:00:00|        2|2015|    8|        18|        2|     AA| N794AA|        1|   JFK|  New York, NY|       New York| LAX|Los Angeles, CA|   California|    908|     8.0|  333.0|  2475.0|      9|      0|\n",
      "|2015-08-19 00:00:00|        3|2015|    8|        19|        3|     AA| N789AA|        1|   JFK|  New York, NY|       New York| LAX|Los Angeles, CA|   California|    854|    -6.0|  308.0|  2475.0|      8|      0|\n",
      "|2015-08-20 00:00:00|        4|2015|    8|        20|        4|     AA| N799AA|        1|   JFK|  New York, NY|       New York| LAX|Los Angeles, CA|   California|    856|    -4.0|  324.0|  2475.0|      8|      0|\n",
      "|2015-08-21 00:00:00|        5|2015|    8|        21|        5|     AA| N794AA|        1|   JFK|  New York, NY|       New York| LAX|Los Angeles, CA|   California|    855|    -5.0|  311.0|  2475.0|      8|      0|\n",
      "|2015-08-22 00:00:00|        6|2015|    8|        22|        6|     AA| N797AA|        1|   JFK|  New York, NY|       New York| LAX|Los Angeles, CA|   California|    852|    -8.0|  315.0|  2475.0|      8|      0|\n",
      "|2015-08-23 00:00:00|        7|2015|    8|        23|        7|     AA| N784AA|        1|   JFK|  New York, NY|       New York| LAX|Los Angeles, CA|   California|    851|    -9.0|  326.0|  2475.0|      8|      0|\n",
      "+-------------------+---------+----+-----+----------+---------+-------+-------+---------+------+--------------+---------------+----+---------------+-------------+-------+--------+-------+--------+-------+-------+\n",
      "only showing top 20 rows\n",
      "\n"
     ]
    }
   ],
   "source": [
    "flights.show()"
   ]
  },
  {
   "cell_type": "markdown",
   "metadata": {},
   "source": [
    "#### Exercise\n",
    "\n",
    "Calculated the 'DepHour' column that represents the hour as an int."
   ]
  },
  {
   "cell_type": "markdown",
   "metadata": {},
   "source": [
    "We will also generate a binary target variable. The aviation industry considers a flight delayed when it departs more than 15 minutes after its scheduled departure time, so we will use that. We will create it as an integer, since that is what the learning algorithms expect."
   ]
  },
  {
   "cell_type": "markdown",
   "metadata": {},
   "source": [
    "In order to make the training times manageable, let's pick only 10% of the data to train."
   ]
  },
  {
   "cell_type": "code",
   "execution_count": 54,
   "metadata": {},
   "outputs": [],
   "source": [
    "samples = flights.sample(fraction=0.2,withReplacement=False,seed=42)"
   ]
  },
  {
   "cell_type": "markdown",
   "metadata": {},
   "source": [
    "## Handle different fields in different ways IMPORTANTE!!!!\n",
    "\n",
    "We have features of at least three kinds:\n",
    "\n",
    "* Numeric continuous fields, which we can use as input to many algorithms as they are. In particular, decision trees can take continuous variables with any value as input, since they only look for the cutoff point that most increases the homogeneity of the resulting groups. In contrast, if we were using a logistic regression with regularization, for example, we would need to first scale the variables to have comparable magnitudes.\n",
    "\n",
    "* There are fields which we will treat as categorical variables, but which are already integers. These need to be one-hot encoded.\n",
    "\n",
    "* Finally, there are several categorical variables that are encoded as strings. These need to be one-hot encoded, but OneHotEncoder requires numeric input. Therefore, we will need to apply a StringIndexer to each of them before one-hot encoding."
   ]
  },
  {
   "cell_type": "markdown",
   "metadata": {},
   "source": [
    "We have generated the list of names of columns that have dataType string with a list comprehension, rather than hard-coding it, but it is just like the other ones."
   ]
  },
  {
   "cell_type": "markdown",
   "metadata": {},
   "source": [
    "## Handling categorical fields\n",
    "\n",
    "Let's do the processing of just one field first, as an example. Then we will process the rest."
   ]
  },
  {
   "cell_type": "markdown",
   "metadata": {},
   "source": [
    "### StringIndexer \n",
    "\n",
    "A [StringIndexer](https://spark.apache.org/docs/2.2.0/ml-features.html#stringindexer) is an estimator that takes a single string field, then produces a transformer that codifies said field as numeric labels that are fit for feeding to a one-hot encoding. \n",
    "\n",
    "We need to specify an input column, an output column, and a way to handle invalids. In this case, invalids are values that the indexer has not seen during fitting but that the transformer finds during processing. Its values are 'error' (the default), which is pretty self-explanatory, 'skip', which drops them, and 'keep', which is what we want. It will assign all unseen labels to a single category index."
   ]
  },
  {
   "cell_type": "code",
   "execution_count": 55,
   "metadata": {},
   "outputs": [
    {
     "data": {
      "text/plain": [
       "StringIndexer_3ae5a4a9214e"
      ]
     },
     "execution_count": 55,
     "metadata": {},
     "output_type": "execute_result"
    }
   ],
   "source": [
    "from pyspark.ml.feature import StringIndexer\n",
    "\n",
    "carrier_indexer = StringIndexer(inputCol= 'Carrier',outputCol= 'CarrierIndex')\n",
    "carrier_indexer"
   ]
  },
  {
   "cell_type": "code",
   "execution_count": 57,
   "metadata": {},
   "outputs": [
    {
     "data": {
      "text/plain": [
       "<bound method Transformer.transform of StringIndexer_3ae5a4a9214e>"
      ]
     },
     "execution_count": 57,
     "metadata": {},
     "output_type": "execute_result"
    }
   ],
   "source": [
    "carrier_transformer = carrier_indexer.fit(samples)\n",
    "carrier_transformer.transform"
   ]
  },
  {
   "cell_type": "code",
   "execution_count": 58,
   "metadata": {},
   "outputs": [
    {
     "data": {
      "text/plain": [
       "DataFrame[FlightDate: timestamp, DayOfWeek: int, Year: int, Month: int, DayofMonth: int, DayOfWeek: int, Carrier: string, TailNum: string, FlightNum: int, Origin: string, OriginCityName: string, OriginStateName: string, Dest: string, DestCityName: string, DestStateName: string, DepTime: int, DepDelay: double, AirTime: double, Distance: double, DepHour: int, Delayed: int, CarrierIndex: double]"
      ]
     },
     "execution_count": 58,
     "metadata": {},
     "output_type": "execute_result"
    }
   ],
   "source": [
    "carrier_transformer.transform(samples)"
   ]
  },
  {
   "cell_type": "code",
   "execution_count": 64,
   "metadata": {},
   "outputs": [
    {
     "name": "stdout",
     "output_type": "stream",
     "text": [
      "+-------+------------+\n",
      "|Carrier|CarrierIndex|\n",
      "+-------+------------+\n",
      "|     AA|         2.0|\n",
      "|     AA|         2.0|\n",
      "|     AA|         2.0|\n",
      "|     AA|         2.0|\n",
      "|     AA|         2.0|\n",
      "+-------+------------+\n",
      "only showing top 5 rows\n",
      "\n"
     ]
    }
   ],
   "source": [
    "carrier_transformer.transform(samples).select(['Carrier','CarrierIndex']).show(5)"
   ]
  },
  {
   "cell_type": "code",
   "execution_count": 66,
   "metadata": {},
   "outputs": [
    {
     "name": "stdout",
     "output_type": "stream",
     "text": [
      "+-------------------+---------+----+-----+----------+---------+-------+-------+---------+------+--------------+---------------+----+---------------+-------------+-------+--------+-------+--------+-------+-------+\n",
      "|         FlightDate|DayOfWeek|Year|Month|DayofMonth|DayOfWeek|Carrier|TailNum|FlightNum|Origin|OriginCityName|OriginStateName|Dest|   DestCityName|DestStateName|DepTime|DepDelay|AirTime|Distance|DepHour|Delayed|\n",
      "+-------------------+---------+----+-----+----------+---------+-------+-------+---------+------+--------------+---------------+----+---------------+-------------+-------+--------+-------+--------+-------+-------+\n",
      "|2015-08-02 00:00:00|        7|2015|    8|         2|        7|     AA| N790AA|        1|   JFK|  New York, NY|       New York| LAX|Los Angeles, CA|   California|    854|    -6.0|  313.0|  2475.0|      8|      0|\n",
      "+-------------------+---------+----+-----+----------+---------+-------+-------+---------+------+--------------+---------------+----+---------------+-------------+-------+--------+-------+--------+-------+-------+\n",
      "only showing top 1 row\n",
      "\n"
     ]
    }
   ],
   "source": [
    "flights.show(1)"
   ]
  },
  {
   "cell_type": "code",
   "execution_count": 92,
   "metadata": {},
   "outputs": [],
   "source": [
    "categorical_fields = ['Year','Month','DepHour','DayofMonth','DayOfWeek']\n",
    "\n",
    "string_fields = [field.name for field in samples.schema.fields if field.dataType == types.StringType()]\n",
    "\n",
    "continuous_fields = ['Distance']\n",
    "\n",
    "target_field = 'Delayed'"
   ]
  },
  {
   "cell_type": "code",
   "execution_count": 93,
   "metadata": {},
   "outputs": [
    {
     "data": {
      "text/plain": [
       "['Carrier',\n",
       " 'TailNum',\n",
       " 'Origin',\n",
       " 'OriginCityName',\n",
       " 'OriginStateName',\n",
       " 'Dest',\n",
       " 'DestCityName',\n",
       " 'DestStateName']"
      ]
     },
     "execution_count": 93,
     "metadata": {},
     "output_type": "execute_result"
    }
   ],
   "source": [
    "string_fields"
   ]
  },
  {
   "cell_type": "code",
   "execution_count": 94,
   "metadata": {},
   "outputs": [],
   "source": [
    "string_indexers =[StringIndexer(inputCol=field,outputCol=field+'index',handleInvalid='keep') for field in string_fields] # Si no hay valor crea una categoría para vacíos"
   ]
  },
  {
   "cell_type": "markdown",
   "metadata": {},
   "source": [
    "### OneHotEncoder\n",
    "\n",
    "A [OneHotEncoder](https://spark.apache.org/docs/2.2.0/ml-features.html#onehotencoder) generates a n-1 length vector column for an n-category column of category indices. \n",
    "\n",
    "We need to specify an input and an output column."
   ]
  },
  {
   "cell_type": "code",
   "execution_count": 95,
   "metadata": {},
   "outputs": [
    {
     "data": {
      "text/plain": [
       "DataFrame[FlightDate: timestamp, DayOfWeek: int, Year: int, Month: int, DayofMonth: int, DayOfWeek: int, Carrier: string, TailNum: string, FlightNum: int, Origin: string, OriginCityName: string, OriginStateName: string, Dest: string, DestCityName: string, DestStateName: string, DepTime: int, DepDelay: double, AirTime: double, Distance: double, DepHour: int, Delayed: int, CarrierIndex: double, CarrierOneHOt: vector]"
      ]
     },
     "execution_count": 95,
     "metadata": {},
     "output_type": "execute_result"
    }
   ],
   "source": [
    "from pyspark.ml.feature import OneHotEncoder\n",
    "\n",
    "transformed = carrier_transformer.transform(samples)\n",
    "oh = OneHotEncoder(inputCol='CarrierIndex', outputCol='CarrierOneHOt')\n",
    "oh_encoded = oh.transform(transformed)\n",
    "oh_encoded"
   ]
  },
  {
   "cell_type": "code",
   "execution_count": 96,
   "metadata": {},
   "outputs": [
    {
     "name": "stdout",
     "output_type": "stream",
     "text": [
      "+------------+--------------+\n",
      "|CarrierIndex| CarrierOneHOt|\n",
      "+------------+--------------+\n",
      "|         2.0|(12,[2],[1.0])|\n",
      "|         2.0|(12,[2],[1.0])|\n",
      "|         2.0|(12,[2],[1.0])|\n",
      "|         2.0|(12,[2],[1.0])|\n",
      "|         2.0|(12,[2],[1.0])|\n",
      "|         2.0|(12,[2],[1.0])|\n",
      "|         2.0|(12,[2],[1.0])|\n",
      "|         2.0|(12,[2],[1.0])|\n",
      "|         2.0|(12,[2],[1.0])|\n",
      "|         2.0|(12,[2],[1.0])|\n",
      "|         2.0|(12,[2],[1.0])|\n",
      "|         2.0|(12,[2],[1.0])|\n",
      "|         2.0|(12,[2],[1.0])|\n",
      "|         2.0|(12,[2],[1.0])|\n",
      "|         2.0|(12,[2],[1.0])|\n",
      "|         2.0|(12,[2],[1.0])|\n",
      "|         2.0|(12,[2],[1.0])|\n",
      "|         2.0|(12,[2],[1.0])|\n",
      "|         2.0|(12,[2],[1.0])|\n",
      "|         2.0|(12,[2],[1.0])|\n",
      "+------------+--------------+\n",
      "only showing top 20 rows\n",
      "\n"
     ]
    }
   ],
   "source": [
    "oh_encoded.select('CarrierIndex','CarrierOneHOt').show()"
   ]
  },
  {
   "cell_type": "markdown",
   "metadata": {},
   "source": [
    "### SparseVectors\n",
    "\n",
    "The vectors produced by OneHotEncoder will each have only one non-zero value, but can potentially be very long. An efficient way to represent them is therefore a SparseVector, and that is what OneHotEncoder generates. \n",
    "\n",
    "A SparseVector is a data structure that only stores the length of the vector, a list of positions, and a list of values. All other values are assumed to be 0s.\n",
    "\n",
    "This way, a vector like the following, with lenght 15 and non-zero values only on positions 3 and 9:\n",
    "\n",
    "```python\n",
    "[0.0, 0.0, 0.0, 6.0, 0.0, 0.0, 0.0, 0.0, 0.0, 4.0, 0.0, 0.0, 0.0, 0.0, 0.0]\n",
    "```\n",
    "\n",
    "can be compactly expressed as\n",
    "\n",
    "```python\n",
    "(15, [3, 9], [6.0, 4.0])\n",
    "```"
   ]
  },
  {
   "cell_type": "markdown",
   "metadata": {},
   "source": [
    "## Let's build our first Pipeline!\n",
    "\n",
    "Our pipeline consists of a number of StringIndexers, followed by one OneHotEncoder, followed by a VectorAssembler, with a RandomForestClassifier at the end.\n",
    "\n",
    "A Spark Pipeline is a single Estimator. We build it secifying the stages it comprises, and then we are ready to .fit it in one go. This will save us a lot of trouble, since we don't need to fit and transform each stage individually."
   ]
  },
  {
   "cell_type": "markdown",
   "metadata": {},
   "source": [
    "### StringIndexer stages\n",
    "\n",
    "We only need to StringIndex some of the fields. We are going to build the input and output column names programatically.\n"
   ]
  },
  {
   "cell_type": "code",
   "execution_count": 97,
   "metadata": {},
   "outputs": [],
   "source": [
    "string_indexers =[StringIndexer(inputCol=field,outputCol=field+'index',handleInvalid='keep') for field in string_fields] # Si no hay valor crea una categoría para vacíos"
   ]
  },
  {
   "cell_type": "markdown",
   "metadata": {},
   "source": [
    "### OneHotEncoder\n",
    "\n",
    "One OneHotEncoder per categorical column. We are also going to build these stages programatically"
   ]
  },
  {
   "cell_type": "code",
   "execution_count": 98,
   "metadata": {},
   "outputs": [],
   "source": [
    "encoders_cat =[OneHotEncoder(inputCol=field,outputCol=field+'OneHot') for field in categorical_fields if field not in string_indexers] \n",
    "encoders_str =[OneHotEncoder(inputCol=field+'index',outputCol=field+'OneHot') for field in string_fields] "
   ]
  },
  {
   "cell_type": "markdown",
   "metadata": {},
   "source": [
    "### VectorAssembler\n",
    "\n",
    "Once we have generated our features, we can assemble them into a single features column, together with the continuous_fields."
   ]
  },
  {
   "cell_type": "code",
   "execution_count": 99,
   "metadata": {},
   "outputs": [
    {
     "data": {
      "text/plain": [
       "['YearOneHot',\n",
       " 'MonthOneHot',\n",
       " 'DepHourOneHot',\n",
       " 'DayofMonthOneHot',\n",
       " 'DayOfWeekOneHot',\n",
       " 'Distance',\n",
       " 'CarrierOneHot',\n",
       " 'TailNumOneHot',\n",
       " 'OriginOneHot',\n",
       " 'OriginCityNameOneHot',\n",
       " 'OriginStateNameOneHot',\n",
       " 'DestOneHot',\n",
       " 'DestCityNameOneHot',\n",
       " 'DestStateNameOneHot']"
      ]
     },
     "execution_count": 99,
     "metadata": {},
     "output_type": "execute_result"
    }
   ],
   "source": [
    "from pyspark.ml.feature import VectorAssembler\n",
    "\n",
    "cols_to_concatenate = [ field + 'OneHot' for field in categorical_fields] + continuous_fields + [field+'OneHot' for field in string_fields]\n",
    "cols_to_concatenate"
   ]
  },
  {
   "cell_type": "code",
   "execution_count": 100,
   "metadata": {},
   "outputs": [],
   "source": [
    "assembler = VectorAssembler(inputCols=cols_to_concatenate, outputCol='features')"
   ]
  },
  {
   "cell_type": "markdown",
   "metadata": {},
   "source": [
    "### RandomForestClassifier\n",
    "\n",
    "Aaaaand we are ready to do some Machine Learning! We'll use a RandomForestClassifier to try to predict delayed versus non delayed flights, a binary classification task."
   ]
  },
  {
   "cell_type": "code",
   "execution_count": 101,
   "metadata": {},
   "outputs": [],
   "source": [
    "from pyspark.ml.classification import RandomForestClassifier\n",
    "\n",
    "rf = RandomForestClassifier(featuresCol='features',labelCol='Delayed')"
   ]
  },
  {
   "cell_type": "markdown",
   "metadata": {},
   "source": [
    "### Pipeline!\n",
    "\n",
    "Now that we have all the stages, we are finally ready to put them together into a single Estimator, our Pipeline."
   ]
  },
  {
   "cell_type": "code",
   "execution_count": 102,
   "metadata": {},
   "outputs": [
    {
     "data": {
      "text/plain": [
       "Pipeline_13ee26ca1baf"
      ]
     },
     "execution_count": 102,
     "metadata": {},
     "output_type": "execute_result"
    }
   ],
   "source": [
    "from pyspark.ml.pipeline import Pipeline\n",
    "\n",
    "pipeline = Pipeline(stages= string_indexers +\n",
    "                            encoders_str +\n",
    "                            encoders_cat +\n",
    "                            [assembler] +\n",
    "                            [rf])\n",
    "pipeline"
   ]
  },
  {
   "cell_type": "markdown",
   "metadata": {},
   "source": [
    "Now that we have gone to the trouble of building our Pipeline, fitting it and using it to predict the probabilty of delay on unseen data is as easy as using a single Estimator:"
   ]
  },
  {
   "cell_type": "code",
   "execution_count": 103,
   "metadata": {},
   "outputs": [],
   "source": [
    "model = pipeline.fit(samples)"
   ]
  },
  {
   "cell_type": "markdown",
   "metadata": {},
   "source": [
    "## Evaluating and tuning our Pipeline\n",
    "\n",
    "Probably the most interesting use of Spark Pipelines is quickly (in terms of coding time) evaluating many combinations of hyperparameters to feed our model and choosing the best ones. For that, we can use a TrainValidationSplit or a CrossValidator. The CrossValidator will generally perform better, but it will take several times as much. I'm using here the TrainValidationSplit because the API is the same."
   ]
  },
  {
   "cell_type": "code",
   "execution_count": 107,
   "metadata": {},
   "outputs": [
    {
     "data": {
      "text/plain": [
       "DataFrame[FlightDate: timestamp, DayOfWeek: int, Year: int, Month: int, DayofMonth: int, DayOfWeek: int, Carrier: string, TailNum: string, FlightNum: int, Origin: string, OriginCityName: string, OriginStateName: string, Dest: string, DestCityName: string, DestStateName: string, DepTime: int, DepDelay: double, AirTime: double, Distance: double, DepHour: int, Delayed: int, Carrierindex: double, TailNumindex: double, Originindex: double, OriginCityNameindex: double, OriginStateNameindex: double, Destindex: double, DestCityNameindex: double, DestStateNameindex: double, CarrierOneHot: vector, TailNumOneHot: vector, OriginOneHot: vector, OriginCityNameOneHot: vector, OriginStateNameOneHot: vector, DestOneHot: vector, DestCityNameOneHot: vector, DestStateNameOneHot: vector, YearOneHot: vector, MonthOneHot: vector, DepHourOneHot: vector, DayofMonthOneHot: vector, DayOfWeekOneHot: vector, features: vector, rawPrediction: vector, probability: vector, prediction: double]"
      ]
     },
     "execution_count": 107,
     "metadata": {},
     "output_type": "execute_result"
    }
   ],
   "source": [
    "predictions = model.transform(flights.sample(fraction=0.03))\n",
    "predictions"
   ]
  },
  {
   "cell_type": "code",
   "execution_count": 108,
   "metadata": {},
   "outputs": [
    {
     "name": "stdout",
     "output_type": "stream",
     "text": [
      "+--------------------+--------------------+----------+-------+\n",
      "|       rawPrediction|         probability|prediction|Delayed|\n",
      "+--------------------+--------------------+----------+-------+\n",
      "|[16.5459158689967...|[0.82729579344983...|       0.0|      0|\n",
      "|[16.3265125259951...|[0.81632562629975...|       0.0|      0|\n",
      "|[16.4937711266524...|[0.82468855633262...|       0.0|      0|\n",
      "|[16.4676313895743...|[0.82338156947872...|       0.0|      1|\n",
      "|[16.3265125259951...|[0.81632562629975...|       0.0|      0|\n",
      "|[16.3265125259951...|[0.81632562629975...|       0.0|      0|\n",
      "|[16.2961169198362...|[0.81480584599181...|       0.0|      0|\n",
      "|[16.5459158689967...|[0.82729579344983...|       0.0|      0|\n",
      "|[16.3195291143789...|[0.81597645571894...|       0.0|      0|\n",
      "|[16.2961169198362...|[0.81480584599181...|       0.0|      0|\n",
      "|[16.3265125259951...|[0.81632562629975...|       0.0|      0|\n",
      "|[16.2961169198362...|[0.81480584599181...|       0.0|      0|\n",
      "|[16.5718593128017...|[0.82859296564008...|       0.0|      0|\n",
      "|[16.2961169198362...|[0.81480584599181...|       0.0|      0|\n",
      "|[16.2961169198362...|[0.81480584599181...|       0.0|      0|\n",
      "|[16.3265125259951...|[0.81632562629975...|       0.0|      0|\n",
      "|[16.4676313895743...|[0.82338156947872...|       0.0|      0|\n",
      "|[16.4676313895743...|[0.82338156947872...|       0.0|      0|\n",
      "|[16.1389500219569...|[0.80694750109784...|       0.0|      0|\n",
      "|[16.2905324912187...|[0.81452662456093...|       0.0|      0|\n",
      "|[16.0708701744435...|[0.80354350872217...|       0.0|      0|\n",
      "|[16.0947284405911...|[0.80473642202955...|       0.0|      0|\n",
      "|[16.4525364049158...|[0.82262682024579...|       0.0|      0|\n",
      "|[16.7282787978814...|[0.83641393989407...|       0.0|      0|\n",
      "|[16.4221407987569...|[0.82110703993784...|       0.0|      0|\n",
      "|[16.1933742997520...|[0.80966871498760...|       0.0|      0|\n",
      "|[16.1933742997520...|[0.80966871498760...|       0.0|      0|\n",
      "|[16.5380796927591...|[0.82690398463795...|       0.0|      0|\n",
      "|[16.3456688514570...|[0.81728344257285...|       0.0|      0|\n",
      "|[16.3561341426759...|[0.81780670713379...|       0.0|      0|\n",
      "|[16.3265125259951...|[0.81632562629975...|       0.0|      0|\n",
      "|[16.4676313895743...|[0.82338156947872...|       0.0|      0|\n",
      "|[16.5936552684950...|[0.82968276342475...|       0.0|      0|\n",
      "|[16.4495101638419...|[0.82247550819209...|       0.0|      1|\n",
      "|[16.1823674213419...|[0.80911837106709...|       0.0|      0|\n",
      "|[16.2961169198362...|[0.81480584599181...|       0.0|      0|\n",
      "|[16.2905324912187...|[0.81452662456093...|       0.0|      0|\n",
      "|[16.2905324912187...|[0.81452662456093...|       0.0|      0|\n",
      "|[16.4021916943126...|[0.82010958471563...|       0.0|      0|\n",
      "|[16.3644513525602...|[0.81822256762801...|       0.0|      0|\n",
      "|[16.3561341426759...|[0.81780670713379...|       0.0|      0|\n",
      "|[16.7104469271187...|[0.83552234635593...|       0.0|      1|\n",
      "|[16.3991654532387...|[0.81995827266193...|       0.0|      1|\n",
      "|[16.6870347325760...|[0.83435173662880...|       0.0|      0|\n",
      "|[16.2380901495959...|[0.81190450747979...|       0.0|      0|\n",
      "|[16.3265125259951...|[0.81632562629975...|       0.0|      1|\n",
      "|[16.1389500219569...|[0.80694750109784...|       0.0|      1|\n",
      "|[16.3176205311273...|[0.81588102655636...|       0.0|      0|\n",
      "|[16.2162298004930...|[0.81081149002465...|       0.0|      0|\n",
      "|[16.3603749051461...|[0.81801874525731...|       0.0|      0|\n",
      "+--------------------+--------------------+----------+-------+\n",
      "only showing top 50 rows\n",
      "\n"
     ]
    }
   ],
   "source": [
    "predictions[['rawPrediction','probability','prediction','Delayed']].show(50)"
   ]
  },
  {
   "cell_type": "markdown",
   "metadata": {},
   "source": [
    "### Params and Evaluators\n",
    "\n",
    "In order to evaluate different sets of parameters, we need a) the set of parameters to iterate through and b) a metric to compare the results. \n",
    "\n",
    "The first element is represented by ParamMaps, which we build with a ParamGridBuilder, and the second by an Evaluator that needs to be specific to the relevant task."
   ]
  },
  {
   "cell_type": "code",
   "execution_count": 109,
   "metadata": {},
   "outputs": [],
   "source": [
    "from pyspark.ml.tuning import TrainValidationSplit, CrossValidator"
   ]
  },
  {
   "cell_type": "markdown",
   "metadata": {},
   "source": [
    "We now have all the elements in place to perform our fit:"
   ]
  },
  {
   "cell_type": "code",
   "execution_count": null,
   "metadata": {},
   "outputs": [],
   "source": []
  },
  {
   "cell_type": "markdown",
   "metadata": {},
   "source": [
    "And now we can predict on the rest of the flights and compare them with reality:"
   ]
  },
  {
   "cell_type": "code",
   "execution_count": null,
   "metadata": {},
   "outputs": [],
   "source": []
  },
  {
   "cell_type": "markdown",
   "metadata": {},
   "source": [
    "### Let's have a look\n",
    "\n",
    "We are now ready to compare our predictions with reality. Do these features have any predictive power at all?"
   ]
  },
  {
   "cell_type": "code",
   "execution_count": null,
   "metadata": {},
   "outputs": [],
   "source": []
  },
  {
   "cell_type": "markdown",
   "metadata": {},
   "source": [
    "Not bad, considering we have not performed any feature engineering at all!"
   ]
  },
  {
   "cell_type": "markdown",
   "metadata": {},
   "source": [
    "### Further Reading\n",
    "\n",
    "https://spark.apache.org/docs/2.3.0/ml-tuning.html\n",
    "\n",
    "https://stackoverflow.com/questions/28569788/how-to-open-stream-zip-files-through-spark"
   ]
  },
  {
   "cell_type": "code",
   "execution_count": null,
   "metadata": {},
   "outputs": [],
   "source": []
  }
 ],
 "metadata": {
  "kernelspec": {
   "display_name": "Python 3",
   "language": "python",
   "name": "python3"
  },
  "language_info": {
   "codemirror_mode": {
    "name": "ipython",
    "version": 3
   },
   "file_extension": ".py",
   "mimetype": "text/x-python",
   "name": "python",
   "nbconvert_exporter": "python",
   "pygments_lexer": "ipython3",
   "version": "3.6.7"
  }
 },
 "nbformat": 4,
 "nbformat_minor": 2
}
