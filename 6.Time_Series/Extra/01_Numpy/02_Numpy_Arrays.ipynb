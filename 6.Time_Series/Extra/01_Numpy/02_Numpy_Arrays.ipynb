{
 "cells": [
  {
   "cell_type": "markdown",
   "metadata": {},
   "source": [
    "# Numpy Arrays"
   ]
  },
  {
   "cell_type": "code",
   "execution_count": 5,
   "metadata": {},
   "outputs": [],
   "source": [
    "import numpy as np\n",
    "import matplotlib.pyplot as plt\n",
    "%matplotlib inline"
   ]
  },
  {
   "cell_type": "markdown",
   "metadata": {},
   "source": [
    "### Uniform Distribution "
   ]
  },
  {
   "cell_type": "markdown",
   "metadata": {},
   "source": [
    "#### Vector"
   ]
  },
  {
   "cell_type": "code",
   "execution_count": 8,
   "metadata": {},
   "outputs": [
    {
     "data": {
      "text/plain": [
       "array([4.10743839e-01, 8.35031246e-01, 3.55553959e-01, 1.91514103e-01,\n",
       "       1.97383791e-01, 3.43154194e-01, 5.54809500e-01, 5.14235034e-01,\n",
       "       5.82636553e-01, 8.35201577e-01, 6.70949904e-02, 5.44996781e-01,\n",
       "       3.39895652e-01, 9.04536942e-01, 7.72438950e-01, 1.80492542e-01,\n",
       "       9.21667633e-01, 6.59526092e-01, 4.07839096e-01, 7.25605956e-01,\n",
       "       5.80357202e-01, 7.57522409e-01, 1.27179442e-01, 7.81709363e-02,\n",
       "       5.33945041e-01, 1.62270598e-01, 1.55528577e-01, 8.78961907e-03,\n",
       "       7.87542763e-01, 3.02370732e-01, 4.86709654e-01, 5.80076137e-01,\n",
       "       8.75961501e-01, 6.87063017e-01, 6.56569203e-01, 6.74681124e-01,\n",
       "       9.97775967e-02, 3.09645516e-01, 9.16628746e-02, 6.58680437e-01,\n",
       "       1.16994114e-01, 7.56977944e-02, 3.67183032e-01, 3.13907397e-01,\n",
       "       7.36656562e-01, 7.75221319e-01, 8.86655695e-03, 3.25476327e-01,\n",
       "       1.33247829e-01, 7.39859400e-01, 1.93788849e-01, 9.12051001e-01,\n",
       "       4.57748971e-01, 3.39572392e-01, 6.35461926e-01, 3.43941284e-01,\n",
       "       2.62371858e-01, 9.82130587e-01, 6.86962907e-02, 3.00534425e-01,\n",
       "       8.80291772e-01, 5.06472567e-01, 6.38952010e-01, 1.54350417e-01,\n",
       "       9.08641759e-01, 8.12083128e-01, 6.51830737e-01, 9.64247308e-01,\n",
       "       3.26897877e-01, 5.38282185e-01, 9.90827837e-01, 2.50602121e-01,\n",
       "       3.87196963e-01, 7.07406337e-01, 7.50797083e-01, 7.72137698e-01,\n",
       "       6.43024116e-01, 4.53719554e-01, 4.63955387e-02, 6.20036594e-01,\n",
       "       6.48874993e-02, 9.90612894e-01, 5.69687939e-01, 3.64031641e-01,\n",
       "       8.92360768e-01, 1.28519799e-01, 3.42746030e-01, 5.53895284e-02,\n",
       "       2.19684195e-01, 1.31555720e-01, 2.36121275e-01, 6.18630106e-01,\n",
       "       3.57978777e-01, 5.98807547e-01, 6.85269208e-01, 5.85525201e-01,\n",
       "       3.18008681e-01, 7.52623622e-01, 6.02043470e-01, 3.36170357e-01,\n",
       "       1.46246829e-01, 7.34481296e-01, 9.23769379e-01, 3.07552831e-01,\n",
       "       5.92951713e-01, 7.22388059e-01, 1.76724752e-01, 2.79152134e-01,\n",
       "       6.00084393e-01, 9.33443742e-02, 1.29194029e-01, 3.68479683e-01,\n",
       "       8.30386685e-02, 5.30943453e-01, 1.15482036e-01, 3.65809087e-01,\n",
       "       8.30954919e-01, 6.99107218e-01, 1.77691224e-01, 1.82092049e-01,\n",
       "       3.28612627e-01, 2.11491589e-01, 1.69836950e-01, 3.80185190e-02,\n",
       "       9.26468260e-02, 8.65236011e-01, 7.63016947e-01, 8.48066565e-02,\n",
       "       9.17576015e-02, 1.27906109e-02, 8.16577254e-01, 9.12547021e-01,\n",
       "       5.51127648e-01, 3.00959276e-01, 4.18398996e-01, 3.70105361e-01,\n",
       "       7.50517613e-02, 5.15102708e-01, 5.38100120e-01, 1.80206732e-01,\n",
       "       9.53908674e-01, 3.79982801e-01, 7.61662312e-01, 5.74876807e-01,\n",
       "       9.75005607e-01, 5.17301904e-01, 8.51397003e-01, 3.39114592e-01,\n",
       "       7.38096016e-01, 8.25181665e-01, 9.52496459e-01, 3.33293349e-01,\n",
       "       2.33055738e-02, 1.75786627e-01, 7.73974911e-01, 9.90463209e-01,\n",
       "       6.22636087e-02, 7.87047112e-01, 4.26751054e-01, 7.64726753e-01,\n",
       "       7.50319305e-01, 2.50804287e-01, 1.42548637e-01, 1.69928802e-01,\n",
       "       9.52418989e-01, 5.54504426e-01, 5.11858057e-01, 5.42561245e-01,\n",
       "       4.75892895e-03, 7.48565566e-01, 8.22724076e-01, 1.59193710e-02,\n",
       "       2.52267673e-01, 5.48592258e-01, 3.93636653e-02, 1.00997214e-01,\n",
       "       1.61601128e-02, 1.38567955e-01, 2.59810312e-01, 6.48035721e-01,\n",
       "       1.39639128e-01, 2.28115671e-01, 3.44699404e-01, 8.95080488e-01,\n",
       "       4.54847635e-01, 6.82139907e-01, 8.61339604e-01, 6.51274988e-01,\n",
       "       9.92220473e-01, 4.38377214e-01, 9.92315327e-02, 4.54265842e-01,\n",
       "       6.45054903e-01, 8.52794748e-01, 3.40968522e-02, 7.50300359e-01,\n",
       "       8.32277583e-01, 6.22370192e-01, 2.00323805e-02, 7.97378512e-01,\n",
       "       6.96834493e-01, 1.79023710e-01, 5.81177719e-01, 6.87419567e-01,\n",
       "       9.35920662e-01, 7.09987899e-01, 1.04567700e-01, 3.91739528e-01,\n",
       "       4.62469928e-01, 1.22585612e-01, 4.55084904e-01, 9.27682249e-01,\n",
       "       7.12233072e-01, 9.12758092e-02, 3.37968910e-01, 5.68416655e-01,\n",
       "       7.89883024e-01, 3.27044395e-01, 4.23185897e-01, 1.31511621e-01,\n",
       "       9.80576097e-01, 7.54251292e-01, 5.06231552e-01, 4.88469969e-01,\n",
       "       7.48772739e-02, 8.85378905e-01, 9.92726519e-02, 6.80324291e-01,\n",
       "       3.62086387e-01, 3.79734127e-01, 3.01688550e-01, 2.23951708e-01,\n",
       "       3.89380161e-01, 2.42112265e-01, 8.31499509e-01, 7.62761465e-01,\n",
       "       8.02163345e-01, 2.26172109e-01, 1.51424638e-01, 8.79647966e-01,\n",
       "       7.55346529e-01, 7.11426951e-01, 2.62411058e-01, 5.95083757e-01,\n",
       "       1.79210778e-02, 8.09518409e-01, 4.61634947e-02, 1.70111641e-01,\n",
       "       9.32304602e-01, 7.83263347e-01, 7.08577087e-01, 9.97165769e-01,\n",
       "       6.29924664e-01, 4.06149033e-01, 2.71610278e-01, 7.52851777e-01,\n",
       "       8.86965616e-01, 5.44467640e-01, 8.85546658e-01, 9.16986560e-01,\n",
       "       6.56107717e-02, 8.07711327e-01, 7.82750723e-01, 1.83085900e-01,\n",
       "       5.49691203e-01, 3.07317400e-01, 6.14216401e-01, 8.28417929e-02,\n",
       "       1.73925251e-01, 7.40845849e-01, 9.09790875e-01, 2.70299180e-01,\n",
       "       7.53901658e-01, 8.01479116e-01, 5.05249350e-01, 3.27678761e-01,\n",
       "       9.95057559e-01, 7.60723418e-01, 5.08744799e-01, 6.85037162e-01,\n",
       "       7.59280570e-01, 5.32801763e-02, 7.40794438e-01, 4.05279804e-01,\n",
       "       8.06507645e-01, 5.37211116e-01, 6.42267290e-01, 1.37995808e-01,\n",
       "       9.75554393e-01, 5.01148292e-01, 4.84291579e-01, 8.98425426e-01,\n",
       "       6.29512352e-01, 1.89251214e-01, 5.87122381e-01, 8.68684934e-01,\n",
       "       8.51805455e-01, 8.51012226e-01, 3.36985207e-01, 6.66703846e-01,\n",
       "       8.55399469e-01, 9.44883326e-01, 1.05311026e-01, 2.79305970e-01,\n",
       "       8.41924423e-01, 7.91774639e-01, 8.83038023e-02, 2.30907072e-01,\n",
       "       4.80914985e-01, 5.03042020e-03, 1.70475831e-01, 6.40203985e-01,\n",
       "       5.35793644e-01, 6.56789958e-01, 3.90241692e-01, 9.38927219e-01,\n",
       "       4.10705349e-01, 9.18644848e-01, 5.76877279e-01, 7.03276689e-01,\n",
       "       5.83279895e-02, 2.01038021e-01, 7.82705132e-01, 3.21037811e-01,\n",
       "       1.22040845e-01, 1.36127883e-01, 9.08150549e-01, 4.98406504e-01,\n",
       "       6.48394161e-02, 3.97757690e-01, 5.46898752e-01, 5.19313906e-01,\n",
       "       5.30489425e-01, 6.53978732e-01, 8.44781397e-01, 6.97023424e-01,\n",
       "       1.44320080e-01, 4.25757898e-01, 8.13627198e-01, 3.13432172e-01,\n",
       "       6.53273689e-01, 5.77036633e-01, 6.62197305e-01, 7.16406885e-01,\n",
       "       1.80772421e-01, 2.00800817e-01, 3.07028378e-01, 6.50889655e-01,\n",
       "       7.21233274e-02, 4.05958417e-01, 4.68794443e-01, 9.67673436e-01,\n",
       "       8.52499224e-01, 4.34284132e-01, 6.69538908e-01, 3.29432463e-01,\n",
       "       9.48486531e-02, 7.63210055e-01, 6.23380725e-01, 9.95088593e-02,\n",
       "       1.14254652e-01, 2.28239608e-02, 3.57007438e-01, 3.08075031e-01,\n",
       "       3.83637843e-01, 5.62338392e-01, 6.21924154e-01, 6.92405123e-01,\n",
       "       9.13263774e-01, 7.78490586e-01, 6.90661856e-01, 9.07516308e-01,\n",
       "       6.71935302e-01, 7.99576344e-01, 6.83376451e-01, 2.71887467e-01,\n",
       "       1.58326120e-01, 9.84773773e-01, 4.45984105e-01, 2.87030921e-01,\n",
       "       6.74990921e-01, 5.09149643e-01, 6.36955021e-01, 9.38220657e-01,\n",
       "       4.19954908e-01, 9.96039947e-01, 3.08823762e-01, 6.99028347e-04,\n",
       "       7.26340061e-01, 6.74196521e-01, 2.33794870e-01, 6.17161496e-02,\n",
       "       9.99368524e-01, 6.29006051e-01, 4.39005425e-01, 3.77295009e-01,\n",
       "       5.04486251e-01, 9.14334972e-01, 8.76736477e-01, 3.03142047e-01,\n",
       "       2.58630281e-02, 8.54607612e-01, 1.81997566e-01, 1.95529185e-01,\n",
       "       9.19112604e-01, 5.19510867e-01, 1.65038044e-01, 1.51329086e-01,\n",
       "       7.86343345e-01, 7.15459661e-01, 5.57796488e-02, 8.50110132e-01,\n",
       "       1.95061976e-01, 1.32725957e-01, 5.66894150e-01, 8.68437833e-01,\n",
       "       2.33428411e-01, 2.47224381e-01, 9.63117992e-01, 1.02490103e-01,\n",
       "       4.74274441e-01, 9.50661920e-02, 8.47607848e-01, 2.64105820e-01,\n",
       "       1.64121354e-02, 7.85801636e-01, 4.26680953e-01, 6.68014599e-01,\n",
       "       1.67572970e-01, 8.33559485e-01, 3.15338003e-01, 2.97892424e-01,\n",
       "       7.60003028e-02, 8.01773232e-01, 6.24551242e-01, 9.69202199e-02,\n",
       "       6.30137131e-01, 1.52801333e-01, 3.21785208e-01, 9.20193634e-01,\n",
       "       9.75342857e-01, 7.49249528e-02, 9.46194679e-01, 3.16472933e-01,\n",
       "       2.01263381e-02, 8.37441056e-01, 8.97907201e-01, 3.03376222e-02,\n",
       "       2.99119732e-01, 9.02582061e-01, 1.05738829e-01, 7.44368980e-02,\n",
       "       6.66859312e-01, 7.88136011e-01, 3.96584835e-01, 8.27220250e-02,\n",
       "       9.44159049e-01, 4.95603314e-01, 2.86021127e-02, 5.21487978e-01,\n",
       "       9.12814390e-01, 2.81732392e-02, 3.18263418e-01, 9.52323886e-01,\n",
       "       5.02063261e-01, 2.42864523e-01, 7.22806280e-01, 8.66893435e-01,\n",
       "       2.98776336e-01, 2.19317040e-01, 5.25929495e-01, 9.34275591e-01,\n",
       "       9.71939007e-01, 3.03759492e-01, 9.57661583e-01, 5.11945013e-01,\n",
       "       4.29793668e-01, 1.43578378e-01, 2.84200561e-01, 9.74358881e-01,\n",
       "       7.57299774e-02, 4.27375882e-01, 4.83515094e-01, 4.74439847e-01,\n",
       "       2.11822659e-01, 1.82686764e-01, 4.70713708e-01, 7.12156715e-01,\n",
       "       7.11302372e-01, 2.06611619e-01, 2.25229027e-01, 1.78342205e-01,\n",
       "       2.52041408e-02, 5.45297308e-01, 3.56444144e-01, 4.67488255e-01,\n",
       "       3.25077234e-01, 1.35221879e-01, 5.03829713e-01, 7.69859075e-02,\n",
       "       4.63954039e-01, 5.07766020e-01, 9.88465600e-02, 3.14546086e-01,\n",
       "       8.75323219e-01, 1.61771811e-01, 2.58579324e-01, 3.19993526e-01,\n",
       "       7.14431095e-01, 1.22088417e-01, 5.89539397e-01, 1.32463548e-01,\n",
       "       9.32668933e-01, 8.99655826e-01, 1.56276668e-01, 5.49585553e-01,\n",
       "       4.20619773e-01, 7.40086881e-01, 3.59360847e-01, 8.53090109e-03,\n",
       "       5.03082812e-01, 2.27070473e-01, 8.44838596e-01, 9.21125083e-01,\n",
       "       4.89140649e-02, 8.39956114e-01, 4.97221735e-01, 4.53221865e-01,\n",
       "       9.16105972e-01, 8.51030791e-01, 5.75144098e-01, 9.91300834e-01,\n",
       "       9.93837231e-01, 1.59904082e-01, 3.48093853e-01, 5.37838781e-01,\n",
       "       4.18787344e-01, 4.78514852e-02, 6.63729825e-01, 5.05687382e-02,\n",
       "       6.59227489e-01, 8.05890877e-01, 7.26396603e-01, 8.94439995e-01,\n",
       "       4.64199086e-01, 2.96778240e-01, 9.89381012e-01, 9.73945826e-01,\n",
       "       5.25232947e-01, 5.97008726e-01, 6.15244101e-01, 8.34655050e-01,\n",
       "       8.84655922e-01, 9.53862750e-01, 8.96167792e-01, 5.33481555e-01,\n",
       "       3.58571473e-01, 4.25820910e-02, 6.86635233e-01, 1.49965559e-01,\n",
       "       3.75551831e-01, 4.45392430e-01, 9.00741592e-01, 7.31079285e-01,\n",
       "       3.55918472e-01, 9.36028792e-01, 9.27005979e-01, 6.45405082e-01,\n",
       "       9.31796327e-01, 5.16116851e-01, 8.30037772e-01, 3.46219050e-01,\n",
       "       9.11615628e-01, 1.70139503e-01, 1.64862781e-01, 5.88967321e-01,\n",
       "       7.34681563e-01, 5.25812122e-01, 5.52302638e-01, 1.34517433e-02,\n",
       "       5.60029298e-01, 2.82944971e-01, 4.92161892e-01, 9.45001336e-01,\n",
       "       1.70999925e-02, 8.35052149e-01, 5.79699267e-01, 1.62035154e-01,\n",
       "       3.37789695e-02, 3.92608850e-01, 9.67169396e-01, 3.04451941e-01,\n",
       "       4.03070272e-01, 6.72372714e-01, 9.60938255e-02, 5.29574769e-02,\n",
       "       1.53607237e-01, 5.98428572e-01, 2.30195276e-01, 8.40462887e-01,\n",
       "       8.38071457e-01, 6.39671319e-01, 3.19749181e-01, 8.48374194e-01,\n",
       "       3.21608387e-01, 1.23033188e-01, 5.20640201e-01, 4.09595948e-01,\n",
       "       3.60688810e-01, 4.36554383e-01, 6.86635618e-01, 8.19631467e-01,\n",
       "       5.42626199e-01, 1.62928984e-02, 2.50193808e-02, 9.45629597e-01,\n",
       "       2.98822678e-01, 5.79155822e-01, 3.00334661e-03, 5.19932873e-01,\n",
       "       6.87054180e-01, 1.73841769e-01, 2.42319956e-01, 3.11600661e-01,\n",
       "       1.29055953e-01, 6.73582776e-01, 4.53391885e-01, 2.62326462e-01,\n",
       "       3.64975977e-01, 3.38994638e-01, 6.47067247e-01, 1.89496546e-02,\n",
       "       8.47669218e-01, 2.45042985e-01, 7.55184747e-01, 3.20562567e-01,\n",
       "       5.39103172e-01, 6.33073331e-01, 1.39675789e-01, 8.29038799e-01,\n",
       "       9.73108093e-01, 6.80003871e-01, 4.39441858e-01, 1.34204749e-01,\n",
       "       5.32749759e-01, 5.91755556e-01, 3.64575808e-01, 4.62829014e-01,\n",
       "       2.27103009e-01, 8.11248502e-01, 9.64153627e-01, 2.04419463e-01,\n",
       "       5.88662337e-01, 6.09433004e-01, 4.46645611e-01, 1.18920887e-01,\n",
       "       9.64644153e-01, 8.50505120e-01, 2.62398328e-01, 7.56743715e-01,\n",
       "       8.66293866e-01, 3.17195165e-01, 3.62259455e-01, 7.95127041e-01,\n",
       "       7.88638137e-01, 3.33740167e-01, 5.63508551e-01, 1.32088639e-01,\n",
       "       9.91134885e-01, 3.43055657e-01, 1.83578814e-01, 3.15185958e-01,\n",
       "       8.04201032e-01, 7.96856616e-02, 6.40908168e-01, 9.29923975e-01,\n",
       "       8.48905057e-01, 5.93849123e-01, 8.54397366e-01, 9.23776742e-01,\n",
       "       3.30651548e-01, 1.71221699e-02, 9.27221145e-01, 9.03919719e-01,\n",
       "       4.07585673e-01, 4.11402796e-01, 5.62984594e-01, 9.80722267e-01,\n",
       "       4.79689190e-01, 5.60341434e-01, 5.75589956e-01, 4.70064753e-01,\n",
       "       6.88842923e-01, 5.18680202e-01, 1.64772607e-01, 4.54232105e-02,\n",
       "       5.18179328e-01, 6.34465217e-01, 3.50760705e-01, 7.88805153e-01,\n",
       "       2.78941098e-02, 5.40408031e-01, 1.10340274e-01, 5.22801404e-01,\n",
       "       3.77405296e-01, 2.07363292e-01, 8.43071410e-01, 7.92721680e-01,\n",
       "       6.60907780e-01, 4.95360937e-01, 5.13875914e-01, 3.06424222e-01,\n",
       "       2.96755278e-01, 9.20700508e-01, 5.22538016e-01, 7.12675084e-02,\n",
       "       2.79513224e-01, 6.88076637e-01, 3.46427872e-01, 2.47575221e-01,\n",
       "       3.17624143e-01, 4.97478908e-02, 9.06565715e-01, 7.13092280e-01,\n",
       "       9.91690118e-01, 3.51759723e-03, 9.84093612e-01, 5.57094043e-01,\n",
       "       7.99800414e-01, 6.47605911e-01, 3.90795259e-01, 3.70751716e-01,\n",
       "       2.49537552e-01, 1.33001432e-01, 3.17587700e-01, 7.48231720e-02,\n",
       "       2.81200990e-01, 2.64243036e-01, 6.33365087e-01, 3.63839687e-01,\n",
       "       2.28676184e-01, 1.00389613e-01, 7.31502792e-01, 4.62304528e-01,\n",
       "       8.02292157e-01, 2.59671591e-01, 6.91109220e-01, 3.66041140e-01,\n",
       "       2.61383558e-02, 3.14257263e-01, 1.84556228e-02, 1.70504754e-01,\n",
       "       6.48067684e-01, 4.85992127e-01, 1.78232744e-01, 3.33653110e-02,\n",
       "       1.51565002e-01, 7.79945127e-01, 4.71253758e-01, 9.87487410e-01,\n",
       "       3.55501103e-01, 8.19429958e-01, 3.32556675e-01, 9.73381249e-01,\n",
       "       3.14282717e-01, 3.52665595e-01, 3.73501787e-01, 4.29061477e-01,\n",
       "       2.32140615e-01, 8.70944176e-01, 6.26416407e-01, 6.11660581e-01,\n",
       "       2.54024044e-01, 2.96718833e-01, 5.46683599e-01, 2.50271785e-01,\n",
       "       3.07194060e-02, 5.42155371e-01, 1.70564672e-01, 5.52741610e-01,\n",
       "       6.74055207e-01, 4.55921218e-01, 5.54980701e-01, 5.51758595e-01,\n",
       "       4.16839240e-02, 1.99434637e-01, 4.19166517e-01, 8.12019103e-01,\n",
       "       5.90558373e-01, 3.94423274e-01, 1.01271161e-01, 4.16280414e-01,\n",
       "       8.63940230e-01, 7.73083437e-01, 1.08423471e-01, 3.76046444e-02,\n",
       "       2.55094582e-01, 2.26609917e-01, 4.57891633e-01, 4.60026176e-05,\n",
       "       7.01663876e-01, 2.89463865e-01, 8.37801318e-01, 3.43604404e-01,\n",
       "       6.42215673e-01, 2.75707447e-01, 6.58512438e-01, 4.63780907e-01,\n",
       "       5.72838102e-01, 7.16926977e-01, 3.36883862e-01, 4.10338881e-01,\n",
       "       1.41430909e-01, 3.38998132e-01, 1.14476895e-01, 1.22366566e-01,\n",
       "       2.45997738e-02, 1.62672882e-01, 4.95970178e-01, 9.52639758e-01,\n",
       "       5.29550603e-01, 3.77463016e-01, 9.75206295e-01, 3.02725233e-01,\n",
       "       9.67664085e-01, 4.25428238e-01, 9.01651543e-01, 5.38696902e-01,\n",
       "       1.99485501e-01, 4.78181888e-01, 4.56126828e-01, 6.35457435e-01,\n",
       "       5.50714007e-01, 3.91499424e-01, 5.47864322e-01, 8.36865125e-01,\n",
       "       9.14289285e-01, 6.13030873e-01, 2.38500417e-01, 6.33703358e-01,\n",
       "       9.38982220e-01, 7.76758436e-01, 4.12499303e-01, 7.44932811e-02,\n",
       "       8.54831209e-01, 1.97766203e-01, 8.10322930e-01, 2.26206438e-01,\n",
       "       7.34859628e-01, 8.03255782e-01, 5.44823463e-01, 8.86422777e-01,\n",
       "       3.48435348e-01, 6.73447612e-01, 9.48526324e-01, 3.00762802e-01,\n",
       "       4.20521455e-01, 1.62988340e-01, 4.28281923e-01, 3.83649044e-01,\n",
       "       5.91270864e-01, 6.27020085e-01, 5.05435793e-01, 5.47569226e-01,\n",
       "       9.59115393e-01, 7.10157977e-01, 5.72821660e-02, 4.72640492e-01,\n",
       "       6.15704165e-01, 3.68009008e-02, 3.26369133e-01, 4.66976274e-01,\n",
       "       1.74768009e-02, 2.70440232e-01, 7.63166695e-02, 3.29191181e-01,\n",
       "       2.06718655e-01, 2.19260025e-01, 5.62249038e-01, 9.02566691e-01,\n",
       "       8.10669204e-01, 1.58685164e-01, 1.74883331e-01, 6.18843496e-01,\n",
       "       1.45206611e-01, 6.41623048e-01, 6.22890705e-01, 7.99432637e-01,\n",
       "       1.84184861e-01, 4.05514252e-01, 8.12163973e-01, 2.51202759e-01,\n",
       "       5.37189961e-01, 4.21911661e-01, 5.21483931e-01, 5.85116573e-01,\n",
       "       2.68041248e-01, 6.90512710e-02, 2.89770215e-01, 2.72631962e-01,\n",
       "       7.32392436e-01, 4.92217494e-01, 9.70059907e-01, 5.38041817e-01,\n",
       "       4.99594669e-01, 3.95764880e-01, 1.11919595e-01, 4.00113123e-01,\n",
       "       9.14949306e-01, 7.74840842e-01, 8.63011372e-02, 6.00152640e-01,\n",
       "       4.03656590e-02, 1.61072423e-01, 8.86491101e-01, 5.46194715e-01,\n",
       "       4.89282493e-01, 7.35374149e-01, 9.66020085e-01, 3.54554614e-01,\n",
       "       1.22442715e-01, 5.99701404e-01, 1.50452783e-01, 2.23130885e-01,\n",
       "       5.60221166e-01, 7.33069546e-01, 8.83748151e-02, 8.49410248e-01,\n",
       "       7.83619500e-01, 4.29935533e-01, 2.82120506e-01, 2.63278278e-01,\n",
       "       6.78364666e-01, 3.03339762e-02, 4.79334488e-01, 1.37450246e-02,\n",
       "       3.86743704e-01, 4.56029067e-01, 7.54852561e-01, 2.32953035e-01,\n",
       "       4.06808921e-01, 5.41267858e-01, 3.26790836e-02, 2.49878004e-01,\n",
       "       1.17239802e-01, 9.38729651e-01, 3.81613486e-01, 5.84802175e-02,\n",
       "       2.48723702e-01, 5.55687500e-01, 7.90283503e-02, 8.50920623e-01,\n",
       "       6.19714854e-01, 5.30134986e-01, 8.42366512e-01, 1.80493287e-01,\n",
       "       1.37954019e-01, 5.91064384e-01, 5.14308369e-01, 5.49580355e-01,\n",
       "       4.12120753e-01, 7.99620276e-01, 2.91488930e-01, 3.87767394e-01,\n",
       "       9.46017243e-01, 4.03201248e-01, 8.10953447e-01, 3.63639901e-01,\n",
       "       4.50044493e-01, 5.87761484e-01, 9.01406746e-01, 7.54395446e-02,\n",
       "       4.15895466e-01, 7.80619303e-01, 2.94579674e-01, 9.77610335e-02,\n",
       "       1.03823296e-01, 5.54596422e-01, 4.07800057e-01, 8.29102565e-01,\n",
       "       3.71750334e-01, 1.23634523e-01, 4.71301975e-01, 1.94065927e-01,\n",
       "       4.67637523e-02, 9.12327581e-01, 2.36899909e-02, 4.99913801e-01,\n",
       "       4.75541272e-01, 8.18010215e-01, 2.62374336e-01, 5.19639095e-01,\n",
       "       4.08318904e-01, 2.42230675e-01, 8.62346615e-01, 6.96808384e-01,\n",
       "       6.25521947e-01, 8.34029138e-03, 2.24570435e-01, 2.24333464e-01])"
      ]
     },
     "execution_count": 8,
     "metadata": {},
     "output_type": "execute_result"
    }
   ],
   "source": [
    "np.random.rand(1000)"
   ]
  },
  {
   "cell_type": "code",
   "execution_count": 16,
   "metadata": {},
   "outputs": [
    {
     "data": {
      "image/png": "[encoded data removed]",
      "text/plain": [
       "<Figure size 432x288 with 1 Axes>"
      ]
     },
     "metadata": {
      "needs_background": "light"
     },
     "output_type": "display_data"
    }
   ],
   "source": [
    "plt.hist(np.random.rand(1000));"
   ]
  },
  {
   "cell_type": "markdown",
   "metadata": {},
   "source": [
    "#### Matrix"
   ]
  },
  {
   "cell_type": "code",
   "execution_count": 10,
   "metadata": {},
   "outputs": [
    {
     "data": {
      "text/plain": [
       "array([[0.72029703, 0.86959438, 0.68604487, 0.89109018, 0.99063143],\n",
       "       [0.01491042, 0.62917321, 0.71944187, 0.44100088, 0.6508538 ],\n",
       "       [0.84606088, 0.09252999, 0.10130008, 0.23485891, 0.99674127],\n",
       "       [0.92066216, 0.42703722, 0.19340302, 0.28183106, 0.94128719],\n",
       "       [0.59520283, 0.56477454, 0.16117335, 0.42980734, 0.45939519]])"
      ]
     },
     "execution_count": 10,
     "metadata": {},
     "output_type": "execute_result"
    }
   ],
   "source": [
    "np.random.rand(5,5)"
   ]
  },
  {
   "cell_type": "markdown",
   "metadata": {},
   "source": [
    "### Normal Distribution"
   ]
  },
  {
   "cell_type": "markdown",
   "metadata": {},
   "source": [
    "#### Vector"
   ]
  },
  {
   "cell_type": "code",
   "execution_count": 11,
   "metadata": {},
   "outputs": [
    {
     "data": {
      "text/plain": [
       "array([ 1.14574337,  0.41812154, -1.59134009, -0.98647351,  0.75736535,\n",
       "        1.19351083, -0.69729637, -0.35072719, -0.47872791,  0.65678559,\n",
       "       -1.06043958,  0.38596673,  1.80199238,  0.11908856, -1.34736855,\n",
       "        1.48551281, -0.23153277,  0.10042631, -0.68850038, -0.41473339,\n",
       "        1.41723533, -1.97492536, -1.6842138 , -2.62142629, -1.42203956,\n",
       "       -1.70212784, -0.75513676,  0.148004  , -2.47656542, -0.27885467,\n",
       "        1.35351288, -0.24524447, -0.03171678, -1.28274287, -0.12204773,\n",
       "        0.4077711 , -1.51787831, -1.60747332, -0.37247605, -1.24802962,\n",
       "        2.73102453, -0.57565757,  0.61700155, -0.41494996, -0.45330706,\n",
       "       -0.20478222,  0.31673941, -0.10719974, -0.00882149, -0.12852975,\n",
       "        0.54907381, -0.14064144,  0.66265695,  1.0296471 , -0.88730334,\n",
       "       -2.82786794,  0.51690481, -0.57001844,  0.82702318, -0.18142572,\n",
       "        1.0772513 , -0.93799356,  0.29888478,  1.74440816,  1.76823696,\n",
       "        1.61130459, -0.36425683, -1.52024179,  1.17312929,  0.43083651,\n",
       "       -0.5871283 , -0.14415361,  0.32488531,  0.33206697,  0.53295872,\n",
       "        0.30761466,  0.29107752,  0.29133188, -1.05236428, -1.98355014,\n",
       "        0.33388623, -3.72486158,  1.38000813,  0.68177921,  0.57049598,\n",
       "       -0.3841595 , -1.64979373, -0.43857313,  0.23700337, -0.64642218,\n",
       "       -1.9859994 ,  0.37568095, -1.42348359, -0.35808517,  0.89032423,\n",
       "       -2.07223411, -0.53853874, -1.28752599,  0.81634552, -0.35595151])"
      ]
     },
     "execution_count": 11,
     "metadata": {},
     "output_type": "execute_result"
    }
   ],
   "source": [
    "np.random.randn(100)"
   ]
  },
  {
   "cell_type": "code",
   "execution_count": 17,
   "metadata": {},
   "outputs": [
    {
     "data": {
      "image/png": "[encoded data removed]",
      "text/plain": [
       "<Figure size 432x288 with 1 Axes>"
      ]
     },
     "metadata": {
      "needs_background": "light"
     },
     "output_type": "display_data"
    }
   ],
   "source": [
    "plt.hist(np.random.randn(1000));"
   ]
  },
  {
   "cell_type": "code",
   "execution_count": 18,
   "metadata": {},
   "outputs": [
    {
     "data": {
      "text/plain": [
       "array([[ 0.27328087,  1.92551641,  0.37030885,  0.15838713, -2.7763123 ],\n",
       "       [-0.92775664,  2.00609147, -0.60716594,  0.48570695, -1.35380871],\n",
       "       [ 0.27899981,  0.70864598,  0.10423062,  0.37925684, -1.22447353],\n",
       "       [ 1.1011939 ,  0.28815119, -0.54561904,  0.21422031,  0.29421653],\n",
       "       [ 0.67729049, -2.4727297 , -0.23440869,  1.61532329,  0.40104785]])"
      ]
     },
     "execution_count": 18,
     "metadata": {},
     "output_type": "execute_result"
    }
   ],
   "source": [
    "np.random.randn(5,5)"
   ]
  },
  {
   "cell_type": "code",
   "execution_count": 19,
   "metadata": {},
   "outputs": [
    {
     "data": {
      "text/plain": [
       "array([-1.95218064e-03, -5.62220224e-02,  1.02053058e+00,  8.90598373e-01,\n",
       "        6.99413734e-01,  2.74822807e+00,  6.80706576e-01,  6.82820519e-02,\n",
       "        8.61479025e-01,  1.08108849e+00, -8.43892308e-02,  3.03402248e+00,\n",
       "        1.49105504e-01,  6.93050032e-01,  4.28624421e-03,  1.29039941e+00,\n",
       "        6.61545764e-01, -9.31242748e-02,  1.44096518e+00,  3.00300006e-01,\n",
       "        1.23962596e-01,  2.68031311e+00,  8.97992792e-01,  2.35367911e-01,\n",
       "        1.65496021e+00,  6.84436031e-01,  2.53600420e+00, -3.47428184e-01,\n",
       "        6.97225078e-01, -2.73982820e-01,  2.30675550e+00,  8.97567957e-01,\n",
       "        8.70592522e-01,  4.70132219e-01,  1.35998749e+00,  2.12861763e+00,\n",
       "       -1.55983886e-01,  8.61185161e-01,  5.82673052e-02,  3.85646498e-01,\n",
       "        3.84271477e-01,  6.99634457e-01,  3.51024526e-01,  6.48592501e-01,\n",
       "        5.99308766e-01,  1.22186989e+00,  1.76028884e+00,  2.51716719e+00,\n",
       "        1.35820485e+00,  9.11127004e-01,  1.60760386e+00,  8.13257316e-01,\n",
       "       -7.67983643e-01,  3.36248907e-01, -1.68344457e-01,  5.14979081e-01,\n",
       "        6.13098693e-01, -2.36698521e+00,  1.67313957e+00,  1.96454092e+00,\n",
       "        2.15252581e+00,  3.33792677e-01,  1.26731042e+00,  2.36566221e+00,\n",
       "        2.12404595e-01,  2.95283606e+00, -9.88789626e-01,  8.28630733e-01,\n",
       "        9.79211041e-01,  1.64388050e+00,  9.51141392e-01,  2.17372996e+00,\n",
       "        1.24705514e+00,  1.23662623e+00, -2.70938303e-01, -5.59181051e-01,\n",
       "        1.33173863e-01,  3.48730736e-01,  2.04074135e+00,  2.38036356e+00,\n",
       "        8.19770329e-01, -3.50695650e-01,  7.70907779e-01,  1.13762683e+00,\n",
       "        1.90336119e+00,  3.10413969e-01, -1.41686846e-01,  1.22811153e+00,\n",
       "        1.98722886e+00,  1.65236296e+00,  9.17662065e-01,  5.83540872e-01,\n",
       "        1.19816894e+00,  2.28962271e+00, -7.87489460e-02,  6.01403575e-01,\n",
       "        1.39272228e+00,  1.85570292e+00,  1.40623673e+00,  1.73575402e+00])"
      ]
     },
     "execution_count": 19,
     "metadata": {},
     "output_type": "execute_result"
    }
   ],
   "source": [
    "# loc: mean\n",
    "# scale: standar deviation\n",
    "np.random.normal(loc=1,scale=1,size=100)"
   ]
  },
  {
   "cell_type": "code",
   "execution_count": 23,
   "metadata": {},
   "outputs": [
    {
     "data": {
      "image/png": "[encoded data removed]",
      "text/plain": [
       "<Figure size 432x288 with 1 Axes>"
      ]
     },
     "metadata": {
      "needs_background": "light"
     },
     "output_type": "display_data"
    }
   ],
   "source": [
    "plt.hist(np.random.normal(loc=1,scale=1,size=1000));"
   ]
  },
  {
   "cell_type": "markdown",
   "metadata": {},
   "source": [
    "### Random Integers"
   ]
  },
  {
   "cell_type": "code",
   "execution_count": 25,
   "metadata": {},
   "outputs": [
    {
     "data": {
      "text/plain": [
       "array([3, 8, 1, 7, 6, 2, 3, 8, 1, 8, 4, 5, 7, 1, 2, 6, 1, 6, 0, 6, 8, 4,\n",
       "       9, 7, 8, 3, 3, 7, 7, 6, 5, 5, 0, 5, 2, 8, 6, 5, 5, 8, 6, 3, 6, 6,\n",
       "       5, 8, 4, 7, 4, 8])"
      ]
     },
     "execution_count": 25,
     "metadata": {},
     "output_type": "execute_result"
    }
   ],
   "source": [
    "np.random.randint(low=0,high=10,size=50)"
   ]
  },
  {
   "cell_type": "markdown",
   "metadata": {},
   "source": [
    "### Seed"
   ]
  },
  {
   "cell_type": "code",
   "execution_count": 26,
   "metadata": {},
   "outputs": [],
   "source": [
    "np.random.seed(42)"
   ]
  },
  {
   "cell_type": "code",
   "execution_count": 27,
   "metadata": {},
   "outputs": [
    {
     "data": {
      "text/plain": [
       "array([0.37454012, 0.95071431, 0.73199394, 0.59865848])"
      ]
     },
     "execution_count": 27,
     "metadata": {},
     "output_type": "execute_result"
    }
   ],
   "source": [
    "np.random.rand(4)"
   ]
  },
  {
   "cell_type": "markdown",
   "metadata": {},
   "source": [
    "### Reshape"
   ]
  },
  {
   "cell_type": "code",
   "execution_count": 29,
   "metadata": {},
   "outputs": [
    {
     "data": {
      "text/plain": [
       "array([ 0,  1,  2,  3,  4,  5,  6,  7,  8,  9, 10, 11, 12, 13, 14, 15, 16,\n",
       "       17, 18, 19, 20, 21, 22, 23, 24])"
      ]
     },
     "execution_count": 29,
     "metadata": {},
     "output_type": "execute_result"
    }
   ],
   "source": [
    "arr = np.arange(0,25)\n",
    "arr"
   ]
  },
  {
   "cell_type": "code",
   "execution_count": 30,
   "metadata": {},
   "outputs": [
    {
     "data": {
      "text/plain": [
       "(25,)"
      ]
     },
     "execution_count": 30,
     "metadata": {},
     "output_type": "execute_result"
    }
   ],
   "source": [
    "arr.shape"
   ]
  },
  {
   "cell_type": "code",
   "execution_count": 33,
   "metadata": {},
   "outputs": [
    {
     "data": {
      "text/plain": [
       "array([[ 0,  1,  2,  3,  4],\n",
       "       [ 5,  6,  7,  8,  9],\n",
       "       [10, 11, 12, 13, 14],\n",
       "       [15, 16, 17, 18, 19],\n",
       "       [20, 21, 22, 23, 24]])"
      ]
     },
     "execution_count": 33,
     "metadata": {},
     "output_type": "execute_result"
    }
   ],
   "source": [
    "arr.reshape(5,5)"
   ]
  }
 ],
 "metadata": {
  "kernelspec": {
   "display_name": "Python 3",
   "language": "python",
   "name": "python3"
  },
  "language_info": {
   "codemirror_mode": {
    "name": "ipython",
    "version": 3
   },
   "file_extension": ".py",
   "mimetype": "text/x-python",
   "name": "python",
   "nbconvert_exporter": "python",
   "pygments_lexer": "ipython3",
   "version": "3.6.7"
  }
 },
 "nbformat": 4,
 "nbformat_minor": 2
}
