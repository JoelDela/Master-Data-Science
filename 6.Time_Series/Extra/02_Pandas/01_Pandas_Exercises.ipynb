{
 "cells": [
  {
   "cell_type": "markdown",
   "metadata": {},
   "source": [
    "# Pandas"
   ]
  },
  {
   "cell_type": "code",
   "execution_count": 1,
   "metadata": {},
   "outputs": [],
   "source": [
    "import pandas as pd"
   ]
  },
  {
   "cell_type": "markdown",
   "metadata": {},
   "source": [
    "### Import Data"
   ]
  },
  {
   "cell_type": "code",
   "execution_count": 4,
   "metadata": {},
   "outputs": [],
   "source": [
    "data = pd.read_csv('../UPDATE_TSA_NOTEBOOKS/Data/population_by_county.csv')"
   ]
  },
  {
   "cell_type": "markdown",
   "metadata": {},
   "source": [
    "### Show the head of the DataFrame"
   ]
  },
  {
   "cell_type": "code",
   "execution_count": 5,
   "metadata": {},
   "outputs": [
    {
     "data": {
      "text/html": [
       "<div>\n",
       "<style scoped>\n",
       "    .dataframe tbody tr th:only-of-type {\n",
       "        vertical-align: middle;\n",
       "    }\n",
       "\n",
       "    .dataframe tbody tr th {\n",
       "        vertical-align: top;\n",
       "    }\n",
       "\n",
       "    .dataframe thead th {\n",
       "        text-align: right;\n",
       "    }\n",
       "</style>\n",
       "<table border=\"1\" class=\"dataframe\">\n",
       "  <thead>\n",
       "    <tr style=\"text-align: right;\">\n",
       "      <th></th>\n",
       "      <th>County</th>\n",
       "      <th>State</th>\n",
       "      <th>2010Census</th>\n",
       "      <th>2017PopEstimate</th>\n",
       "    </tr>\n",
       "  </thead>\n",
       "  <tbody>\n",
       "    <tr>\n",
       "      <th>0</th>\n",
       "      <td>Abbeville County</td>\n",
       "      <td>South Carolina</td>\n",
       "      <td>25417</td>\n",
       "      <td>24722</td>\n",
       "    </tr>\n",
       "    <tr>\n",
       "      <th>1</th>\n",
       "      <td>Acadia Parish</td>\n",
       "      <td>Louisiana</td>\n",
       "      <td>61773</td>\n",
       "      <td>62590</td>\n",
       "    </tr>\n",
       "    <tr>\n",
       "      <th>2</th>\n",
       "      <td>Accomack County</td>\n",
       "      <td>Virginia</td>\n",
       "      <td>33164</td>\n",
       "      <td>32545</td>\n",
       "    </tr>\n",
       "    <tr>\n",
       "      <th>3</th>\n",
       "      <td>Ada County</td>\n",
       "      <td>Idaho</td>\n",
       "      <td>392365</td>\n",
       "      <td>456849</td>\n",
       "    </tr>\n",
       "    <tr>\n",
       "      <th>4</th>\n",
       "      <td>Adair County</td>\n",
       "      <td>Iowa</td>\n",
       "      <td>7682</td>\n",
       "      <td>7054</td>\n",
       "    </tr>\n",
       "  </tbody>\n",
       "</table>\n",
       "</div>"
      ],
      "text/plain": [
       "             County           State  2010Census  2017PopEstimate\n",
       "0  Abbeville County  South Carolina       25417            24722\n",
       "1     Acadia Parish       Louisiana       61773            62590\n",
       "2   Accomack County        Virginia       33164            32545\n",
       "3        Ada County           Idaho      392365           456849\n",
       "4      Adair County            Iowa        7682             7054"
      ]
     },
     "execution_count": 5,
     "metadata": {},
     "output_type": "execute_result"
    }
   ],
   "source": [
    "data.head()"
   ]
  },
  {
   "cell_type": "markdown",
   "metadata": {},
   "source": [
    "### What are the column names?"
   ]
  },
  {
   "cell_type": "code",
   "execution_count": 6,
   "metadata": {},
   "outputs": [
    {
     "data": {
      "text/plain": [
       "array(['County', 'State', '2010Census', '2017PopEstimate'], dtype=object)"
      ]
     },
     "execution_count": 6,
     "metadata": {},
     "output_type": "execute_result"
    }
   ],
   "source": [
    "data.columns.values"
   ]
  },
  {
   "cell_type": "code",
   "execution_count": 10,
   "metadata": {},
   "outputs": [
    {
     "data": {
      "text/plain": [
       "51"
      ]
     },
     "execution_count": 10,
     "metadata": {},
     "output_type": "execute_result"
    }
   ],
   "source": [
    "data['State'].nunique()"
   ]
  },
  {
   "cell_type": "markdown",
   "metadata": {},
   "source": [
    "### How many States are represented in this dataset?"
   ]
  },
  {
   "cell_type": "code",
   "execution_count": 9,
   "metadata": {},
   "outputs": [
    {
     "data": {
      "text/plain": [
       "51"
      ]
     },
     "execution_count": 9,
     "metadata": {},
     "output_type": "execute_result"
    }
   ],
   "source": [
    "len(data['State'].unique())"
   ]
  },
  {
   "cell_type": "markdown",
   "metadata": {},
   "source": [
    "### Get a list or array of all states in the dataset"
   ]
  },
  {
   "cell_type": "code",
   "execution_count": 16,
   "metadata": {},
   "outputs": [
    {
     "data": {
      "text/plain": [
       "['South Carolina',\n",
       " 'Louisiana',\n",
       " 'Virginia',\n",
       " 'Idaho',\n",
       " 'Iowa',\n",
       " 'Kentucky',\n",
       " 'Missouri',\n",
       " 'Oklahoma',\n",
       " 'Colorado',\n",
       " 'Illinois',\n",
       " 'Indiana',\n",
       " 'Mississippi',\n",
       " 'Nebraska',\n",
       " 'North Dakota',\n",
       " 'Ohio',\n",
       " 'Pennsylvania',\n",
       " 'Washington',\n",
       " 'Wisconsin',\n",
       " 'Vermont',\n",
       " 'Minnesota',\n",
       " 'Florida',\n",
       " 'North Carolina',\n",
       " 'California',\n",
       " 'New York',\n",
       " 'Wyoming',\n",
       " 'Michigan',\n",
       " 'Alaska',\n",
       " 'Maryland',\n",
       " 'Kansas',\n",
       " 'Tennessee',\n",
       " 'Texas',\n",
       " 'Maine',\n",
       " 'Arizona',\n",
       " 'Georgia',\n",
       " 'Arkansas',\n",
       " 'New Jersey',\n",
       " 'South Dakota',\n",
       " 'Alabama',\n",
       " 'Oregon',\n",
       " 'West Virginia',\n",
       " 'Massachusetts',\n",
       " 'Utah',\n",
       " 'Montana',\n",
       " 'New Hampshire',\n",
       " 'New Mexico',\n",
       " 'Rhode Island',\n",
       " 'Nevada',\n",
       " 'District of Columbia',\n",
       " 'Connecticut',\n",
       " 'Hawaii',\n",
       " 'Delaware']"
      ]
     },
     "execution_count": 16,
     "metadata": {},
     "output_type": "execute_result"
    }
   ],
   "source": [
    "states_list = data['State'].unique().tolist()\n",
    "states_list"
   ]
  },
  {
   "cell_type": "markdown",
   "metadata": {},
   "source": [
    "### What are the five most common County names in the U.S?"
   ]
  },
  {
   "cell_type": "code",
   "execution_count": 19,
   "metadata": {},
   "outputs": [
    {
     "data": {
      "text/plain": [
       "Washington County    30\n",
       "Jefferson County     25\n",
       "Franklin County      24\n",
       "Lincoln County       23\n",
       "Jackson County       23\n",
       "Name: County, dtype: int64"
      ]
     },
     "execution_count": 19,
     "metadata": {},
     "output_type": "execute_result"
    }
   ],
   "source": [
    "data['County'].value_counts().head()"
   ]
  },
  {
   "cell_type": "markdown",
   "metadata": {},
   "source": [
    "### What are the top 5 most populated Counties according to the 2010 Census?"
   ]
  },
  {
   "cell_type": "code",
   "execution_count": 21,
   "metadata": {},
   "outputs": [
    {
     "data": {
      "text/html": [
       "<div>\n",
       "<style scoped>\n",
       "    .dataframe tbody tr th:only-of-type {\n",
       "        vertical-align: middle;\n",
       "    }\n",
       "\n",
       "    .dataframe tbody tr th {\n",
       "        vertical-align: top;\n",
       "    }\n",
       "\n",
       "    .dataframe thead th {\n",
       "        text-align: right;\n",
       "    }\n",
       "</style>\n",
       "<table border=\"1\" class=\"dataframe\">\n",
       "  <thead>\n",
       "    <tr style=\"text-align: right;\">\n",
       "      <th></th>\n",
       "      <th>County</th>\n",
       "      <th>State</th>\n",
       "      <th>2010Census</th>\n",
       "      <th>2017PopEstimate</th>\n",
       "    </tr>\n",
       "  </thead>\n",
       "  <tbody>\n",
       "    <tr>\n",
       "      <th>1713</th>\n",
       "      <td>Los Angeles County</td>\n",
       "      <td>California</td>\n",
       "      <td>9818605</td>\n",
       "      <td>10163507</td>\n",
       "    </tr>\n",
       "    <tr>\n",
       "      <th>628</th>\n",
       "      <td>Cook County</td>\n",
       "      <td>Illinois</td>\n",
       "      <td>5194675</td>\n",
       "      <td>5211263</td>\n",
       "    </tr>\n",
       "    <tr>\n",
       "      <th>1209</th>\n",
       "      <td>Harris County</td>\n",
       "      <td>Texas</td>\n",
       "      <td>4092459</td>\n",
       "      <td>4652980</td>\n",
       "    </tr>\n",
       "    <tr>\n",
       "      <th>1784</th>\n",
       "      <td>Maricopa County</td>\n",
       "      <td>Arizona</td>\n",
       "      <td>3817117</td>\n",
       "      <td>4307033</td>\n",
       "    </tr>\n",
       "    <tr>\n",
       "      <th>2501</th>\n",
       "      <td>San Diego County</td>\n",
       "      <td>California</td>\n",
       "      <td>3095313</td>\n",
       "      <td>3337685</td>\n",
       "    </tr>\n",
       "  </tbody>\n",
       "</table>\n",
       "</div>"
      ],
      "text/plain": [
       "                  County       State  2010Census  2017PopEstimate\n",
       "1713  Los Angeles County  California     9818605         10163507\n",
       "628          Cook County    Illinois     5194675          5211263\n",
       "1209       Harris County       Texas     4092459          4652980\n",
       "1784     Maricopa County     Arizona     3817117          4307033\n",
       "2501    San Diego County  California     3095313          3337685"
      ]
     },
     "execution_count": 21,
     "metadata": {},
     "output_type": "execute_result"
    }
   ],
   "source": [
    "data.sort_values(by='2010Census', ascending=False).head()"
   ]
  },
  {
   "cell_type": "markdown",
   "metadata": {},
   "source": [
    "### What are the top 5 most populated States according to the 2010 Census?"
   ]
  },
  {
   "cell_type": "code",
   "execution_count": 33,
   "metadata": {},
   "outputs": [
    {
     "data": {
      "text/html": [
       "<div>\n",
       "<style scoped>\n",
       "    .dataframe tbody tr th:only-of-type {\n",
       "        vertical-align: middle;\n",
       "    }\n",
       "\n",
       "    .dataframe tbody tr th {\n",
       "        vertical-align: top;\n",
       "    }\n",
       "\n",
       "    .dataframe thead th {\n",
       "        text-align: right;\n",
       "    }\n",
       "</style>\n",
       "<table border=\"1\" class=\"dataframe\">\n",
       "  <thead>\n",
       "    <tr style=\"text-align: right;\">\n",
       "      <th></th>\n",
       "      <th>2010Census</th>\n",
       "      <th>2017PopEstimate</th>\n",
       "    </tr>\n",
       "    <tr>\n",
       "      <th>State</th>\n",
       "      <th></th>\n",
       "      <th></th>\n",
       "    </tr>\n",
       "  </thead>\n",
       "  <tbody>\n",
       "    <tr>\n",
       "      <th>California</th>\n",
       "      <td>37253956</td>\n",
       "      <td>39536653</td>\n",
       "    </tr>\n",
       "    <tr>\n",
       "      <th>Texas</th>\n",
       "      <td>25145561</td>\n",
       "      <td>28304596</td>\n",
       "    </tr>\n",
       "    <tr>\n",
       "      <th>New York</th>\n",
       "      <td>19378102</td>\n",
       "      <td>19849399</td>\n",
       "    </tr>\n",
       "    <tr>\n",
       "      <th>Florida</th>\n",
       "      <td>18801310</td>\n",
       "      <td>20984400</td>\n",
       "    </tr>\n",
       "    <tr>\n",
       "      <th>Illinois</th>\n",
       "      <td>12830632</td>\n",
       "      <td>12802023</td>\n",
       "    </tr>\n",
       "  </tbody>\n",
       "</table>\n",
       "</div>"
      ],
      "text/plain": [
       "            2010Census  2017PopEstimate\n",
       "State                                  \n",
       "California    37253956         39536653\n",
       "Texas         25145561         28304596\n",
       "New York      19378102         19849399\n",
       "Florida       18801310         20984400\n",
       "Illinois      12830632         12802023"
      ]
     },
     "execution_count": 33,
     "metadata": {},
     "output_type": "execute_result"
    }
   ],
   "source": [
    "data.groupby('State').sum().sort_values('2010Census', ascending=False).head()"
   ]
  },
  {
   "cell_type": "markdown",
   "metadata": {},
   "source": [
    "### How many Counties have 2010 populations greater than 1 million?"
   ]
  },
  {
   "cell_type": "code",
   "execution_count": 38,
   "metadata": {},
   "outputs": [
    {
     "data": {
      "text/plain": [
       "39"
      ]
     },
     "execution_count": 38,
     "metadata": {},
     "output_type": "execute_result"
    }
   ],
   "source": [
    "len(data[data['2010Census'] > 1000000])"
   ]
  },
  {
   "cell_type": "markdown",
   "metadata": {},
   "source": [
    "### How many Counties don't have the word County in their name?"
   ]
  },
  {
   "cell_type": "code",
   "execution_count": 41,
   "metadata": {},
   "outputs": [
    {
     "data": {
      "text/html": [
       "<div>\n",
       "<style scoped>\n",
       "    .dataframe tbody tr th:only-of-type {\n",
       "        vertical-align: middle;\n",
       "    }\n",
       "\n",
       "    .dataframe tbody tr th {\n",
       "        vertical-align: top;\n",
       "    }\n",
       "\n",
       "    .dataframe thead th {\n",
       "        text-align: right;\n",
       "    }\n",
       "</style>\n",
       "<table border=\"1\" class=\"dataframe\">\n",
       "  <thead>\n",
       "    <tr style=\"text-align: right;\">\n",
       "      <th></th>\n",
       "      <th>County</th>\n",
       "      <th>State</th>\n",
       "      <th>2010Census</th>\n",
       "      <th>2017PopEstimate</th>\n",
       "    </tr>\n",
       "  </thead>\n",
       "  <tbody>\n",
       "    <tr>\n",
       "      <th>0</th>\n",
       "      <td>Abbeville County</td>\n",
       "      <td>South Carolina</td>\n",
       "      <td>25417</td>\n",
       "      <td>24722</td>\n",
       "    </tr>\n",
       "    <tr>\n",
       "      <th>1</th>\n",
       "      <td>Acadia Parish</td>\n",
       "      <td>Louisiana</td>\n",
       "      <td>61773</td>\n",
       "      <td>62590</td>\n",
       "    </tr>\n",
       "    <tr>\n",
       "      <th>2</th>\n",
       "      <td>Accomack County</td>\n",
       "      <td>Virginia</td>\n",
       "      <td>33164</td>\n",
       "      <td>32545</td>\n",
       "    </tr>\n",
       "    <tr>\n",
       "      <th>3</th>\n",
       "      <td>Ada County</td>\n",
       "      <td>Idaho</td>\n",
       "      <td>392365</td>\n",
       "      <td>456849</td>\n",
       "    </tr>\n",
       "    <tr>\n",
       "      <th>4</th>\n",
       "      <td>Adair County</td>\n",
       "      <td>Iowa</td>\n",
       "      <td>7682</td>\n",
       "      <td>7054</td>\n",
       "    </tr>\n",
       "  </tbody>\n",
       "</table>\n",
       "</div>"
      ],
      "text/plain": [
       "             County           State  2010Census  2017PopEstimate\n",
       "0  Abbeville County  South Carolina       25417            24722\n",
       "1     Acadia Parish       Louisiana       61773            62590\n",
       "2   Accomack County        Virginia       33164            32545\n",
       "3        Ada County           Idaho      392365           456849\n",
       "4      Adair County            Iowa        7682             7054"
      ]
     },
     "execution_count": 41,
     "metadata": {},
     "output_type": "execute_result"
    }
   ],
   "source": [
    "data.head()"
   ]
  },
  {
   "cell_type": "code",
   "execution_count": 66,
   "metadata": {},
   "outputs": [
    {
     "data": {
      "text/plain": [
       "True     3007\n",
       "False     135\n",
       "Name: County, dtype: int64"
      ]
     },
     "execution_count": 66,
     "metadata": {},
     "output_type": "execute_result"
    }
   ],
   "source": [
    "def check_county(name):\n",
    "    if 'County' not in name:\n",
    "        return False\n",
    "    else: \n",
    "        return True\n",
    "my_series = data['County'].apply(check_county)\n",
    "my_series.value_counts()"
   ]
  },
  {
   "cell_type": "markdown",
   "metadata": {},
   "source": [
    "### Add a column that calculates the percent change between the 2010 Census and the 2017 Population Estimate"
   ]
  },
  {
   "cell_type": "code",
   "execution_count": 68,
   "metadata": {},
   "outputs": [
    {
     "data": {
      "text/html": [
       "<div>\n",
       "<style scoped>\n",
       "    .dataframe tbody tr th:only-of-type {\n",
       "        vertical-align: middle;\n",
       "    }\n",
       "\n",
       "    .dataframe tbody tr th {\n",
       "        vertical-align: top;\n",
       "    }\n",
       "\n",
       "    .dataframe thead th {\n",
       "        text-align: right;\n",
       "    }\n",
       "</style>\n",
       "<table border=\"1\" class=\"dataframe\">\n",
       "  <thead>\n",
       "    <tr style=\"text-align: right;\">\n",
       "      <th></th>\n",
       "      <th>County</th>\n",
       "      <th>State</th>\n",
       "      <th>2010Census</th>\n",
       "      <th>2017PopEstimate</th>\n",
       "      <th>percentChange</th>\n",
       "    </tr>\n",
       "  </thead>\n",
       "  <tbody>\n",
       "    <tr>\n",
       "      <th>0</th>\n",
       "      <td>Abbeville County</td>\n",
       "      <td>South Carolina</td>\n",
       "      <td>25417</td>\n",
       "      <td>24722</td>\n",
       "      <td>-2.734390</td>\n",
       "    </tr>\n",
       "    <tr>\n",
       "      <th>1</th>\n",
       "      <td>Acadia Parish</td>\n",
       "      <td>Louisiana</td>\n",
       "      <td>61773</td>\n",
       "      <td>62590</td>\n",
       "      <td>1.322584</td>\n",
       "    </tr>\n",
       "    <tr>\n",
       "      <th>2</th>\n",
       "      <td>Accomack County</td>\n",
       "      <td>Virginia</td>\n",
       "      <td>33164</td>\n",
       "      <td>32545</td>\n",
       "      <td>-1.866482</td>\n",
       "    </tr>\n",
       "    <tr>\n",
       "      <th>3</th>\n",
       "      <td>Ada County</td>\n",
       "      <td>Idaho</td>\n",
       "      <td>392365</td>\n",
       "      <td>456849</td>\n",
       "      <td>16.434697</td>\n",
       "    </tr>\n",
       "    <tr>\n",
       "      <th>4</th>\n",
       "      <td>Adair County</td>\n",
       "      <td>Iowa</td>\n",
       "      <td>7682</td>\n",
       "      <td>7054</td>\n",
       "      <td>-8.174954</td>\n",
       "    </tr>\n",
       "  </tbody>\n",
       "</table>\n",
       "</div>"
      ],
      "text/plain": [
       "             County           State  2010Census  2017PopEstimate  \\\n",
       "0  Abbeville County  South Carolina       25417            24722   \n",
       "1     Acadia Parish       Louisiana       61773            62590   \n",
       "2   Accomack County        Virginia       33164            32545   \n",
       "3        Ada County           Idaho      392365           456849   \n",
       "4      Adair County            Iowa        7682             7054   \n",
       "\n",
       "   percentChange  \n",
       "0      -2.734390  \n",
       "1       1.322584  \n",
       "2      -1.866482  \n",
       "3      16.434697  \n",
       "4      -8.174954  "
      ]
     },
     "execution_count": 68,
     "metadata": {},
     "output_type": "execute_result"
    }
   ],
   "source": [
    "data['percentChange'] = ((data['2017PopEstimate']*100)/data['2010Census']) - 100\n",
    "data.head()"
   ]
  },
  {
   "cell_type": "markdown",
   "metadata": {},
   "source": [
    "### Bonus: What States have the highest estimated percent change between the 2010 Census and the 2017 Population Estimate?"
   ]
  },
  {
   "cell_type": "code",
   "execution_count": 74,
   "metadata": {},
   "outputs": [
    {
     "data": {
      "text/html": [
       "<div>\n",
       "<style scoped>\n",
       "    .dataframe tbody tr th:only-of-type {\n",
       "        vertical-align: middle;\n",
       "    }\n",
       "\n",
       "    .dataframe tbody tr th {\n",
       "        vertical-align: top;\n",
       "    }\n",
       "\n",
       "    .dataframe thead th {\n",
       "        text-align: right;\n",
       "    }\n",
       "</style>\n",
       "<table border=\"1\" class=\"dataframe\">\n",
       "  <thead>\n",
       "    <tr style=\"text-align: right;\">\n",
       "      <th></th>\n",
       "      <th>2010Census</th>\n",
       "      <th>2017PopEstimate</th>\n",
       "      <th>percentChange</th>\n",
       "      <th>totalChange</th>\n",
       "    </tr>\n",
       "    <tr>\n",
       "      <th>State</th>\n",
       "      <th></th>\n",
       "      <th></th>\n",
       "      <th></th>\n",
       "      <th></th>\n",
       "    </tr>\n",
       "  </thead>\n",
       "  <tbody>\n",
       "    <tr>\n",
       "      <th>District of Columbia</th>\n",
       "      <td>601723</td>\n",
       "      <td>693972</td>\n",
       "      <td>15.330808</td>\n",
       "      <td>15.330808</td>\n",
       "    </tr>\n",
       "    <tr>\n",
       "      <th>Texas</th>\n",
       "      <td>25145561</td>\n",
       "      <td>28304596</td>\n",
       "      <td>955.535377</td>\n",
       "      <td>12.562993</td>\n",
       "    </tr>\n",
       "    <tr>\n",
       "      <th>North Dakota</th>\n",
       "      <td>672591</td>\n",
       "      <td>755393</td>\n",
       "      <td>308.640607</td>\n",
       "      <td>12.310899</td>\n",
       "    </tr>\n",
       "    <tr>\n",
       "      <th>Utah</th>\n",
       "      <td>2763885</td>\n",
       "      <td>3101833</td>\n",
       "      <td>216.823276</td>\n",
       "      <td>12.227282</td>\n",
       "    </tr>\n",
       "    <tr>\n",
       "      <th>Florida</th>\n",
       "      <td>18801310</td>\n",
       "      <td>20984400</td>\n",
       "      <td>511.173992</td>\n",
       "      <td>11.611372</td>\n",
       "    </tr>\n",
       "  </tbody>\n",
       "</table>\n",
       "</div>"
      ],
      "text/plain": [
       "                      2010Census  2017PopEstimate  percentChange  totalChange\n",
       "State                                                                        \n",
       "District of Columbia      601723           693972      15.330808    15.330808\n",
       "Texas                   25145561         28304596     955.535377    12.562993\n",
       "North Dakota              672591           755393     308.640607    12.310899\n",
       "Utah                     2763885          3101833     216.823276    12.227282\n",
       "Florida                 18801310         20984400     511.173992    11.611372"
      ]
     },
     "execution_count": 74,
     "metadata": {},
     "output_type": "execute_result"
    }
   ],
   "source": [
    "data_state = data.groupby('State').sum()\n",
    "data_state['totalChange'] = ((data_state['2017PopEstimate']*100)/data_state['2010Census']) - 100\n",
    "data_state.sort_values(by='totalChange', ascending=False).head()"
   ]
  }
 ],
 "metadata": {
  "kernelspec": {
   "display_name": "Python 3",
   "language": "python",
   "name": "python3"
  },
  "language_info": {
   "codemirror_mode": {
    "name": "ipython",
    "version": 3
   },
   "file_extension": ".py",
   "mimetype": "text/x-python",
   "name": "python",
   "nbconvert_exporter": "python",
   "pygments_lexer": "ipython3",
   "version": "3.6.7"
  }
 },
 "nbformat": 4,
 "nbformat_minor": 2
}
