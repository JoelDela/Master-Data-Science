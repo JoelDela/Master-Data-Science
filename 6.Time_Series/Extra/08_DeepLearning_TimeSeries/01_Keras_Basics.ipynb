{
 "cells": [
  {
   "cell_type": "markdown",
   "metadata": {},
   "source": [
    "# Keras"
   ]
  },
  {
   "cell_type": "code",
   "execution_count": 1,
   "metadata": {},
   "outputs": [],
   "source": [
    "import pandas as pd\n",
    "import numpy as np\n",
    "import matplotlib.pyplot as plt\n",
    "%matplotlib inline"
   ]
  },
  {
   "cell_type": "code",
   "execution_count": 9,
   "metadata": {},
   "outputs": [],
   "source": [
    "import keras"
   ]
  },
  {
   "cell_type": "markdown",
   "metadata": {},
   "source": [
    "### Linear Function\n",
    "$$ y = m*x + b + noise $$"
   ]
  },
  {
   "cell_type": "code",
   "execution_count": 10,
   "metadata": {},
   "outputs": [],
   "source": [
    "m = 2\n",
    "b = 3\n",
    "x = np.linspace(0,50,100)\n",
    "np.random.seed(101)\n",
    "noise = np.random.normal(loc=0,scale=4,size=len(x))"
   ]
  },
  {
   "cell_type": "code",
   "execution_count": 11,
   "metadata": {},
   "outputs": [],
   "source": [
    "y = m*x + b + noise"
   ]
  },
  {
   "cell_type": "code",
   "execution_count": 12,
   "metadata": {},
   "outputs": [
    {
     "data": {
      "image/png": "[encoded data removed]",
      "text/plain": [
       "<Figure size 432x288 with 1 Axes>"
      ]
     },
     "metadata": {
      "needs_background": "light"
     },
     "output_type": "display_data"
    }
   ],
   "source": [
    "plt.plot(x,y,'*')\n",
    "plt.grid(True);"
   ]
  },
  {
   "cell_type": "markdown",
   "metadata": {},
   "source": [
    "### Neuronal Network"
   ]
  },
  {
   "cell_type": "markdown",
   "metadata": {},
   "source": [
    "#### Define the Sequential model object and add the layers"
   ]
  },
  {
   "cell_type": "code",
   "execution_count": 13,
   "metadata": {},
   "outputs": [],
   "source": [
    "from keras import layers, models"
   ]
  },
  {
   "cell_type": "code",
   "execution_count": 15,
   "metadata": {},
   "outputs": [
    {
     "name": "stdout",
     "output_type": "stream",
     "text": [
      "WARNING:tensorflow:From /home/eduardo/.local/lib/python3.6/site-packages/tensorflow/python/framework/op_def_library.py:263: colocate_with (from tensorflow.python.framework.ops) is deprecated and will be removed in a future version.\n",
      "Instructions for updating:\n",
      "Colocations handled automatically by placer.\n",
      "_________________________________________________________________\n",
      "Layer (type)                 Output Shape              Param #   \n",
      "=================================================================\n",
      "dense_1 (Dense)              (None, 4)                 8         \n",
      "_________________________________________________________________\n",
      "dense_2 (Dense)              (None, 4)                 20        \n",
      "_________________________________________________________________\n",
      "dense_3 (Dense)              (None, 1)                 5         \n",
      "=================================================================\n",
      "Total params: 33\n",
      "Trainable params: 33\n",
      "Non-trainable params: 0\n",
      "_________________________________________________________________\n"
     ]
    }
   ],
   "source": [
    "# units = number of neurons, activation = activation function, input_shape, input_dim es la dimensión de la entrada ya que x es un vector\n",
    "# for instance we create three layers, the third one has just one nueron, because we want to solve a regression problem which give us a value in each register\n",
    "model = models.Sequential()\n",
    "# First Layer\n",
    "model.add(layers.Dense(units=4,input_dim=1,activation='relu'))\n",
    "# Second Layer\n",
    "model.add(layers.Dense(units=4,activation='relu'))\n",
    "# Output Layer\n",
    "model.add(layers.Dense(units=1,activation='linear'))\n",
    "# Compile\n",
    "model.compile(loss='mse',optimizer='adam')\n",
    "\n",
    "model.summary()"
   ]
  },
  {
   "cell_type": "markdown",
   "metadata": {},
   "source": [
    "#### Fit the model"
   ]
  },
  {
   "cell_type": "code",
   "execution_count": 16,
   "metadata": {},
   "outputs": [
    {
     "name": "stdout",
     "output_type": "stream",
     "text": [
      "WARNING:tensorflow:From /home/eduardo/.local/lib/python3.6/site-packages/tensorflow/python/ops/math_ops.py:3066: to_int32 (from tensorflow.python.ops.math_ops) is deprecated and will be removed in a future version.\n",
      "Instructions for updating:\n",
      "Use tf.cast instead.\n",
      "Epoch 1/200\n",
      "100/100 [==============================] - 1s 12ms/step - loss: 3628.6337\n",
      "Epoch 2/200\n",
      "100/100 [==============================] - 0s 137us/step - loss: 3621.6870\n",
      "Epoch 3/200\n",
      "100/100 [==============================] - 0s 272us/step - loss: 3613.8580\n",
      "Epoch 4/200\n",
      "100/100 [==============================] - 0s 201us/step - loss: 3605.7286\n",
      "Epoch 5/200\n",
      "100/100 [==============================] - 0s 202us/step - loss: 3597.7736\n",
      "Epoch 6/200\n",
      "100/100 [==============================] - 0s 179us/step - loss: 3588.7965\n",
      "Epoch 7/200\n",
      "100/100 [==============================] - 0s 187us/step - loss: 3579.8384\n",
      "Epoch 8/200\n",
      "100/100 [==============================] - 0s 202us/step - loss: 3570.9738\n",
      "Epoch 9/200\n",
      "100/100 [==============================] - 0s 266us/step - loss: 3561.7076\n",
      "Epoch 10/200\n",
      "100/100 [==============================] - 0s 217us/step - loss: 3551.9321\n",
      "Epoch 11/200\n",
      "100/100 [==============================] - 0s 206us/step - loss: 3542.2863\n",
      "Epoch 12/200\n",
      "100/100 [==============================] - 0s 243us/step - loss: 3531.6062\n",
      "Epoch 13/200\n",
      "100/100 [==============================] - 0s 179us/step - loss: 3520.8671\n",
      "Epoch 14/200\n",
      "100/100 [==============================] - 0s 108us/step - loss: 3510.7089\n",
      "Epoch 15/200\n",
      "100/100 [==============================] - 0s 143us/step - loss: 3500.0959\n",
      "Epoch 16/200\n",
      "100/100 [==============================] - 0s 108us/step - loss: 3488.4694\n",
      "Epoch 17/200\n",
      "100/100 [==============================] - 0s 162us/step - loss: 3477.3309\n",
      "Epoch 18/200\n",
      "100/100 [==============================] - 0s 89us/step - loss: 3465.5640\n",
      "Epoch 19/200\n",
      "100/100 [==============================] - 0s 111us/step - loss: 3452.8826\n",
      "Epoch 20/200\n",
      "100/100 [==============================] - 0s 132us/step - loss: 3439.6746\n",
      "Epoch 21/200\n",
      "100/100 [==============================] - 0s 149us/step - loss: 3427.2613\n",
      "Epoch 22/200\n",
      "100/100 [==============================] - 0s 83us/step - loss: 3412.7627\n",
      "Epoch 23/200\n",
      "100/100 [==============================] - 0s 188us/step - loss: 3398.2919\n",
      "Epoch 24/200\n",
      "100/100 [==============================] - 0s 117us/step - loss: 3384.0914\n",
      "Epoch 25/200\n",
      "100/100 [==============================] - 0s 113us/step - loss: 3369.0686\n",
      "Epoch 26/200\n",
      "100/100 [==============================] - 0s 97us/step - loss: 3353.8171\n",
      "Epoch 27/200\n",
      "100/100 [==============================] - 0s 70us/step - loss: 3338.4204\n",
      "Epoch 28/200\n",
      "100/100 [==============================] - 0s 167us/step - loss: 3322.2664\n",
      "Epoch 29/200\n",
      "100/100 [==============================] - 0s 143us/step - loss: 3305.3640\n",
      "Epoch 30/200\n",
      "100/100 [==============================] - 0s 315us/step - loss: 3289.4517\n",
      "Epoch 31/200\n",
      "100/100 [==============================] - 0s 167us/step - loss: 3272.4703\n",
      "Epoch 32/200\n",
      "100/100 [==============================] - 0s 185us/step - loss: 3255.0311\n",
      "Epoch 33/200\n",
      "100/100 [==============================] - 0s 90us/step - loss: 3236.8454\n",
      "Epoch 34/200\n",
      "100/100 [==============================] - 0s 137us/step - loss: 3219.7133\n",
      "Epoch 35/200\n",
      "100/100 [==============================] - 0s 195us/step - loss: 3201.3431\n",
      "Epoch 36/200\n",
      "100/100 [==============================] - 0s 170us/step - loss: 3182.5937\n",
      "Epoch 37/200\n",
      "100/100 [==============================] - 0s 97us/step - loss: 3164.1713\n",
      "Epoch 38/200\n",
      "100/100 [==============================] - 0s 166us/step - loss: 3144.4956\n",
      "Epoch 39/200\n",
      "100/100 [==============================] - 0s 106us/step - loss: 3125.4650\n",
      "Epoch 40/200\n",
      "100/100 [==============================] - 0s 108us/step - loss: 3106.2544\n",
      "Epoch 41/200\n",
      "100/100 [==============================] - 0s 261us/step - loss: 3085.1231\n",
      "Epoch 42/200\n",
      "100/100 [==============================] - 0s 100us/step - loss: 3063.2575\n",
      "Epoch 43/200\n",
      "100/100 [==============================] - 0s 124us/step - loss: 3042.5150\n",
      "Epoch 44/200\n",
      "100/100 [==============================] - 0s 142us/step - loss: 3020.1005\n",
      "Epoch 45/200\n",
      "100/100 [==============================] - 0s 130us/step - loss: 2998.5608\n",
      "Epoch 46/200\n",
      "100/100 [==============================] - 0s 167us/step - loss: 2974.3105\n",
      "Epoch 47/200\n",
      "100/100 [==============================] - 0s 77us/step - loss: 2952.6520\n",
      "Epoch 48/200\n",
      "100/100 [==============================] - 0s 156us/step - loss: 2929.5804\n",
      "Epoch 49/200\n",
      "100/100 [==============================] - 0s 129us/step - loss: 2906.7390\n",
      "Epoch 50/200\n",
      "100/100 [==============================] - 0s 250us/step - loss: 2882.7602\n",
      "Epoch 51/200\n",
      "100/100 [==============================] - 0s 124us/step - loss: 2859.1622\n",
      "Epoch 52/200\n",
      "100/100 [==============================] - 0s 105us/step - loss: 2833.8748\n",
      "Epoch 53/200\n",
      "100/100 [==============================] - 0s 94us/step - loss: 2808.6219\n",
      "Epoch 54/200\n",
      "100/100 [==============================] - 0s 77us/step - loss: 2783.4277\n",
      "Epoch 55/200\n",
      "100/100 [==============================] - 0s 66us/step - loss: 2756.3230\n",
      "Epoch 56/200\n",
      "100/100 [==============================] - 0s 104us/step - loss: 2730.1233\n",
      "Epoch 57/200\n",
      "100/100 [==============================] - 0s 100us/step - loss: 2704.4189\n",
      "Epoch 58/200\n",
      "100/100 [==============================] - 0s 111us/step - loss: 2675.6728\n",
      "Epoch 59/200\n",
      "100/100 [==============================] - 0s 105us/step - loss: 2649.1481\n",
      "Epoch 60/200\n",
      "100/100 [==============================] - 0s 146us/step - loss: 2619.8968\n",
      "Epoch 61/200\n",
      "100/100 [==============================] - 0s 96us/step - loss: 2591.6493\n",
      "Epoch 62/200\n",
      "100/100 [==============================] - 0s 95us/step - loss: 2563.2257\n",
      "Epoch 63/200\n",
      "100/100 [==============================] - 0s 132us/step - loss: 2536.1478\n",
      "Epoch 64/200\n",
      "100/100 [==============================] - 0s 155us/step - loss: 2507.0480\n",
      "Epoch 65/200\n",
      "100/100 [==============================] - 0s 145us/step - loss: 2478.2484\n",
      "Epoch 66/200\n",
      "100/100 [==============================] - 0s 101us/step - loss: 2448.5335\n",
      "Epoch 67/200\n",
      "100/100 [==============================] - 0s 99us/step - loss: 2419.3064\n",
      "Epoch 68/200\n",
      "100/100 [==============================] - 0s 176us/step - loss: 2390.1083\n",
      "Epoch 69/200\n",
      "100/100 [==============================] - 0s 105us/step - loss: 2360.1128\n",
      "Epoch 70/200\n",
      "100/100 [==============================] - 0s 180us/step - loss: 2330.0332\n",
      "Epoch 71/200\n",
      "100/100 [==============================] - 0s 76us/step - loss: 2299.5845\n",
      "Epoch 72/200\n",
      "100/100 [==============================] - 0s 196us/step - loss: 2267.4522\n",
      "Epoch 73/200\n",
      "100/100 [==============================] - 0s 115us/step - loss: 2234.1356\n",
      "Epoch 74/200\n",
      "100/100 [==============================] - 0s 115us/step - loss: 2200.9270\n",
      "Epoch 75/200\n",
      "100/100 [==============================] - 0s 181us/step - loss: 2167.2220\n",
      "Epoch 76/200\n",
      "100/100 [==============================] - 0s 109us/step - loss: 2133.7338\n",
      "Epoch 77/200\n",
      "100/100 [==============================] - 0s 158us/step - loss: 2103.1874\n",
      "Epoch 78/200\n",
      "100/100 [==============================] - 0s 200us/step - loss: 2069.5269\n",
      "Epoch 79/200\n",
      "100/100 [==============================] - 0s 104us/step - loss: 2037.8892\n",
      "Epoch 80/200\n",
      "100/100 [==============================] - 0s 92us/step - loss: 2004.7856\n",
      "Epoch 81/200\n",
      "100/100 [==============================] - 0s 167us/step - loss: 1973.0430\n",
      "Epoch 82/200\n",
      "100/100 [==============================] - 0s 148us/step - loss: 1938.0871\n",
      "Epoch 83/200\n",
      "100/100 [==============================] - 0s 138us/step - loss: 1903.4759\n",
      "Epoch 84/200\n",
      "100/100 [==============================] - 0s 264us/step - loss: 1867.6733\n",
      "Epoch 85/200\n",
      "100/100 [==============================] - 0s 159us/step - loss: 1833.4892\n",
      "Epoch 86/200\n",
      "100/100 [==============================] - 0s 89us/step - loss: 1798.6223\n",
      "Epoch 87/200\n",
      "100/100 [==============================] - 0s 111us/step - loss: 1763.9321\n",
      "Epoch 88/200\n",
      "100/100 [==============================] - 0s 234us/step - loss: 1731.3280\n",
      "Epoch 89/200\n",
      "100/100 [==============================] - 0s 144us/step - loss: 1696.5436\n",
      "Epoch 90/200\n",
      "100/100 [==============================] - 0s 130us/step - loss: 1664.0180\n",
      "Epoch 91/200\n",
      "100/100 [==============================] - 0s 131us/step - loss: 1629.4904\n",
      "Epoch 92/200\n",
      "100/100 [==============================] - 0s 76us/step - loss: 1595.1605\n",
      "Epoch 93/200\n",
      "100/100 [==============================] - 0s 212us/step - loss: 1560.9164\n",
      "Epoch 94/200\n",
      "100/100 [==============================] - 0s 118us/step - loss: 1527.2636\n",
      "Epoch 95/200\n",
      "100/100 [==============================] - 0s 173us/step - loss: 1495.1656\n",
      "Epoch 96/200\n",
      "100/100 [==============================] - 0s 263us/step - loss: 1460.7698\n",
      "Epoch 97/200\n",
      "100/100 [==============================] - 0s 152us/step - loss: 1428.7762\n",
      "Epoch 98/200\n",
      "100/100 [==============================] - 0s 206us/step - loss: 1397.0376\n",
      "Epoch 99/200\n",
      "100/100 [==============================] - 0s 212us/step - loss: 1364.6600\n",
      "Epoch 100/200\n",
      "100/100 [==============================] - 0s 100us/step - loss: 1331.3610\n",
      "Epoch 101/200\n",
      "100/100 [==============================] - 0s 215us/step - loss: 1298.6721\n",
      "Epoch 102/200\n",
      "100/100 [==============================] - 0s 126us/step - loss: 1267.8361\n",
      "Epoch 103/200\n",
      "100/100 [==============================] - 0s 276us/step - loss: 1235.4044\n",
      "Epoch 104/200\n",
      "100/100 [==============================] - 0s 139us/step - loss: 1204.4147\n",
      "Epoch 105/200\n",
      "100/100 [==============================] - 0s 99us/step - loss: 1172.3068\n",
      "Epoch 106/200\n",
      "100/100 [==============================] - 0s 160us/step - loss: 1141.9788\n",
      "Epoch 107/200\n",
      "100/100 [==============================] - 0s 148us/step - loss: 1112.7961\n",
      "Epoch 108/200\n",
      "100/100 [==============================] - 0s 85us/step - loss: 1083.2245\n",
      "Epoch 109/200\n",
      "100/100 [==============================] - 0s 122us/step - loss: 1056.1414\n",
      "Epoch 110/200\n",
      "100/100 [==============================] - 0s 151us/step - loss: 1027.2921\n",
      "Epoch 111/200\n",
      "100/100 [==============================] - 0s 230us/step - loss: 998.4297\n",
      "Epoch 112/200\n",
      "100/100 [==============================] - 0s 153us/step - loss: 970.9364\n",
      "Epoch 113/200\n",
      "100/100 [==============================] - 0s 237us/step - loss: 941.7215\n",
      "Epoch 114/200\n",
      "100/100 [==============================] - 0s 329us/step - loss: 913.7038\n",
      "Epoch 115/200\n",
      "100/100 [==============================] - 0s 135us/step - loss: 886.3017\n",
      "Epoch 116/200\n",
      "100/100 [==============================] - 0s 155us/step - loss: 857.4149\n",
      "Epoch 117/200\n",
      "100/100 [==============================] - 0s 128us/step - loss: 829.6650\n",
      "Epoch 118/200\n",
      "100/100 [==============================] - 0s 180us/step - loss: 802.6020\n",
      "Epoch 119/200\n",
      "100/100 [==============================] - 0s 224us/step - loss: 776.4926\n",
      "Epoch 120/200\n",
      "100/100 [==============================] - 0s 162us/step - loss: 748.7714\n",
      "Epoch 121/200\n",
      "100/100 [==============================] - 0s 162us/step - loss: 721.1260\n",
      "Epoch 122/200\n",
      "100/100 [==============================] - 0s 114us/step - loss: 693.4213\n",
      "Epoch 123/200\n",
      "100/100 [==============================] - 0s 217us/step - loss: 667.7844\n",
      "Epoch 124/200\n",
      "100/100 [==============================] - 0s 134us/step - loss: 642.2468\n",
      "Epoch 125/200\n",
      "100/100 [==============================] - 0s 92us/step - loss: 617.5312\n",
      "Epoch 126/200\n",
      "100/100 [==============================] - 0s 203us/step - loss: 592.1028\n",
      "Epoch 127/200\n",
      "100/100 [==============================] - 0s 124us/step - loss: 567.6823\n",
      "Epoch 128/200\n",
      "100/100 [==============================] - 0s 156us/step - loss: 544.7075\n",
      "Epoch 129/200\n",
      "100/100 [==============================] - 0s 205us/step - loss: 522.5271\n",
      "Epoch 130/200\n",
      "100/100 [==============================] - 0s 156us/step - loss: 501.1502\n",
      "Epoch 131/200\n",
      "100/100 [==============================] - 0s 193us/step - loss: 481.2450\n",
      "Epoch 132/200\n",
      "100/100 [==============================] - 0s 88us/step - loss: 462.1936\n",
      "Epoch 133/200\n",
      "100/100 [==============================] - 0s 106us/step - loss: 442.6990\n",
      "Epoch 134/200\n",
      "100/100 [==============================] - 0s 284us/step - loss: 424.0180\n",
      "Epoch 135/200\n",
      "100/100 [==============================] - 0s 93us/step - loss: 405.4126\n",
      "Epoch 136/200\n",
      "100/100 [==============================] - 0s 167us/step - loss: 387.8079\n",
      "Epoch 137/200\n",
      "100/100 [==============================] - 0s 101us/step - loss: 370.8014\n",
      "Epoch 138/200\n",
      "100/100 [==============================] - 0s 180us/step - loss: 353.3033\n",
      "Epoch 139/200\n",
      "100/100 [==============================] - 0s 165us/step - loss: 337.2535\n",
      "Epoch 140/200\n",
      "100/100 [==============================] - 0s 117us/step - loss: 322.2824\n",
      "Epoch 141/200\n",
      "100/100 [==============================] - 0s 164us/step - loss: 308.7151\n",
      "Epoch 142/200\n",
      "100/100 [==============================] - 0s 161us/step - loss: 295.3668\n",
      "Epoch 143/200\n",
      "100/100 [==============================] - 0s 135us/step - loss: 282.7982\n",
      "Epoch 144/200\n",
      "100/100 [==============================] - 0s 145us/step - loss: 270.0902\n",
      "Epoch 145/200\n",
      "100/100 [==============================] - 0s 126us/step - loss: 258.8934\n",
      "Epoch 146/200\n",
      "100/100 [==============================] - 0s 102us/step - loss: 247.1151\n",
      "Epoch 147/200\n",
      "100/100 [==============================] - 0s 86us/step - loss: 235.0340\n",
      "Epoch 148/200\n",
      "100/100 [==============================] - 0s 180us/step - loss: 223.2712\n",
      "Epoch 149/200\n",
      "100/100 [==============================] - 0s 85us/step - loss: 212.3768\n",
      "Epoch 150/200\n",
      "100/100 [==============================] - 0s 215us/step - loss: 201.5378\n",
      "Epoch 151/200\n",
      "100/100 [==============================] - 0s 182us/step - loss: 190.9673\n",
      "Epoch 152/200\n",
      "100/100 [==============================] - 0s 165us/step - loss: 180.8608\n",
      "Epoch 153/200\n",
      "100/100 [==============================] - 0s 77us/step - loss: 171.8754\n",
      "Epoch 154/200\n",
      "100/100 [==============================] - 0s 125us/step - loss: 163.7521\n",
      "Epoch 155/200\n",
      "100/100 [==============================] - 0s 160us/step - loss: 155.6396\n",
      "Epoch 156/200\n",
      "100/100 [==============================] - 0s 87us/step - loss: 148.1182\n",
      "Epoch 157/200\n",
      "100/100 [==============================] - 0s 116us/step - loss: 140.7398\n",
      "Epoch 158/200\n",
      "100/100 [==============================] - 0s 100us/step - loss: 134.1636\n",
      "Epoch 159/200\n",
      "100/100 [==============================] - 0s 171us/step - loss: 127.7245\n",
      "Epoch 160/200\n",
      "100/100 [==============================] - 0s 103us/step - loss: 121.4584\n",
      "Epoch 161/200\n",
      "100/100 [==============================] - 0s 99us/step - loss: 114.9834\n",
      "Epoch 162/200\n",
      "100/100 [==============================] - 0s 70us/step - loss: 108.9730\n",
      "Epoch 163/200\n",
      "100/100 [==============================] - 0s 72us/step - loss: 103.2975\n",
      "Epoch 164/200\n",
      "100/100 [==============================] - 0s 106us/step - loss: 97.6952\n",
      "Epoch 165/200\n",
      "100/100 [==============================] - 0s 142us/step - loss: 92.4046\n",
      "Epoch 166/200\n",
      "100/100 [==============================] - 0s 68us/step - loss: 87.7944\n",
      "Epoch 167/200\n",
      "100/100 [==============================] - 0s 93us/step - loss: 83.0822\n",
      "Epoch 168/200\n",
      "100/100 [==============================] - 0s 124us/step - loss: 78.6979\n",
      "Epoch 169/200\n",
      "100/100 [==============================] - 0s 114us/step - loss: 74.4504\n",
      "Epoch 170/200\n",
      "100/100 [==============================] - 0s 77us/step - loss: 70.4424\n",
      "Epoch 171/200\n",
      "100/100 [==============================] - 0s 142us/step - loss: 66.6953\n",
      "Epoch 172/200\n",
      "100/100 [==============================] - 0s 72us/step - loss: 63.3054\n",
      "Epoch 173/200\n",
      "100/100 [==============================] - 0s 184us/step - loss: 59.8118\n",
      "Epoch 174/200\n",
      "100/100 [==============================] - 0s 159us/step - loss: 56.7459\n",
      "Epoch 175/200\n",
      "100/100 [==============================] - 0s 286us/step - loss: 53.7357\n",
      "Epoch 176/200\n",
      "100/100 [==============================] - 0s 133us/step - loss: 50.9408\n",
      "Epoch 177/200\n",
      "100/100 [==============================] - 0s 132us/step - loss: 48.3056\n",
      "Epoch 178/200\n",
      "100/100 [==============================] - 0s 139us/step - loss: 46.0571\n",
      "Epoch 179/200\n",
      "100/100 [==============================] - 0s 91us/step - loss: 43.8795\n",
      "Epoch 180/200\n",
      "100/100 [==============================] - 0s 192us/step - loss: 42.0140\n",
      "Epoch 181/200\n",
      "100/100 [==============================] - 0s 282us/step - loss: 40.1016\n",
      "Epoch 182/200\n",
      "100/100 [==============================] - 0s 246us/step - loss: 38.3551\n",
      "Epoch 183/200\n",
      "100/100 [==============================] - 0s 108us/step - loss: 36.7423\n",
      "Epoch 184/200\n",
      "100/100 [==============================] - 0s 213us/step - loss: 35.2635\n",
      "Epoch 185/200\n",
      "100/100 [==============================] - 0s 149us/step - loss: 33.8409\n",
      "Epoch 186/200\n",
      "100/100 [==============================] - 0s 222us/step - loss: 32.6193\n",
      "Epoch 187/200\n",
      "100/100 [==============================] - 0s 192us/step - loss: 31.5008\n",
      "Epoch 188/200\n",
      "100/100 [==============================] - 0s 204us/step - loss: 30.4738\n",
      "Epoch 189/200\n",
      "100/100 [==============================] - 0s 134us/step - loss: 29.5225\n",
      "Epoch 190/200\n",
      "100/100 [==============================] - 0s 107us/step - loss: 28.5931\n",
      "Epoch 191/200\n",
      "100/100 [==============================] - 0s 161us/step - loss: 27.7565\n",
      "Epoch 192/200\n",
      "100/100 [==============================] - 0s 210us/step - loss: 26.9637\n",
      "Epoch 193/200\n",
      "100/100 [==============================] - 0s 220us/step - loss: 26.1520\n",
      "Epoch 194/200\n",
      "100/100 [==============================] - 0s 100us/step - loss: 25.4117\n",
      "Epoch 195/200\n",
      "100/100 [==============================] - 0s 61us/step - loss: 24.7328\n",
      "Epoch 196/200\n",
      "100/100 [==============================] - 0s 81us/step - loss: 24.1385\n",
      "Epoch 197/200\n",
      "100/100 [==============================] - 0s 105us/step - loss: 23.6003\n",
      "Epoch 198/200\n",
      "100/100 [==============================] - 0s 173us/step - loss: 23.0978\n",
      "Epoch 199/200\n",
      "100/100 [==============================] - 0s 100us/step - loss: 22.6904\n",
      "Epoch 200/200\n",
      "100/100 [==============================] - 0s 136us/step - loss: 22.3208\n"
     ]
    }
   ],
   "source": [
    "# epochs really depends on how large your dataset is...and how much training data you have....\n",
    "h = model.fit(x,y,epochs=200)"
   ]
  },
  {
   "cell_type": "code",
   "execution_count": 33,
   "metadata": {},
   "outputs": [],
   "source": [
    "# model.history.history"
   ]
  },
  {
   "cell_type": "code",
   "execution_count": 17,
   "metadata": {},
   "outputs": [
    {
     "data": {
      "image/png": "[encoded data removed]",
      "text/plain": [
       "<Figure size 432x288 with 1 Axes>"
      ]
     },
     "metadata": {
      "needs_background": "light"
     },
     "output_type": "display_data"
    }
   ],
   "source": [
    "def plot_metric(history, metric):\n",
    "    history_dict = history.history\n",
    "    values = history_dict[metric]\n",
    "    if 'val_' + metric in history_dict.keys():  \n",
    "        val_values = history_dict['val_' + metric]\n",
    "\n",
    "    epochs = range(1, len(values) + 1)\n",
    "\n",
    "    if 'val_' + metric in history_dict.keys():  \n",
    "        plt.plot(epochs, val_values, label='Validation')\n",
    "    plt.semilogy(epochs, values, label='Training')\n",
    "\n",
    "    if 'val_' + metric in history_dict.keys():  \n",
    "        plt.title('Training and validation %s' % metric)\n",
    "    else:\n",
    "        plt.title('Training %s' % metric)\n",
    "    plt.xlabel('Epochs')\n",
    "    plt.ylabel(metric.capitalize())\n",
    "    plt.legend()\n",
    "\n",
    "    plt.show()  \n",
    "\n",
    "plot_metric(h,'loss')"
   ]
  },
  {
   "cell_type": "code",
   "execution_count": 18,
   "metadata": {},
   "outputs": [
    {
     "data": {
      "image/png": "[encoded data removed]",
      "text/plain": [
       "<Figure size 432x288 with 1 Axes>"
      ]
     },
     "metadata": {
      "needs_background": "light"
     },
     "output_type": "display_data"
    }
   ],
   "source": [
    "loss = model.history.history['loss']\n",
    "epochs = range(len(loss))\n",
    "plt.plot(epochs,loss);"
   ]
  },
  {
   "cell_type": "markdown",
   "metadata": {},
   "source": [
    "#### Predictions"
   ]
  },
  {
   "cell_type": "code",
   "execution_count": 19,
   "metadata": {},
   "outputs": [],
   "source": [
    "x_for_predictions = np.linspace(0,50,100)\n",
    "y_pred = model.predict(x_for_predictions)"
   ]
  },
  {
   "cell_type": "code",
   "execution_count": 23,
   "metadata": {},
   "outputs": [
    {
     "data": {
      "image/png": "[encoded data removed]",
      "text/plain": [
       "<Figure size 432x288 with 1 Axes>"
      ]
     },
     "metadata": {
      "needs_background": "light"
     },
     "output_type": "display_data"
    }
   ],
   "source": [
    "plt.plot(x,y,'*')\n",
    "plt.plot(x_for_predictions,y_pred,'r')\n",
    "plt.grid(True);"
   ]
  },
  {
   "cell_type": "markdown",
   "metadata": {},
   "source": [
    "#### Evaluate the Model"
   ]
  },
  {
   "cell_type": "code",
   "execution_count": 24,
   "metadata": {},
   "outputs": [
    {
     "data": {
      "text/plain": [
       "22.033154387138378"
      ]
     },
     "execution_count": 24,
     "metadata": {},
     "output_type": "execute_result"
    }
   ],
   "source": [
    "from sklearn.metrics import mean_squared_error\n",
    "mean_squared_error(y,y_pred)"
   ]
  }
 ],
 "metadata": {
  "kernelspec": {
   "display_name": "Python 3",
   "language": "python",
   "name": "python3"
  },
  "language_info": {
   "codemirror_mode": {
    "name": "ipython",
    "version": 3
   },
   "file_extension": ".py",
   "mimetype": "text/x-python",
   "name": "python",
   "nbconvert_exporter": "python",
   "pygments_lexer": "ipython3",
   "version": "3.6.7"
  }
 },
 "nbformat": 4,
 "nbformat_minor": 2
}
