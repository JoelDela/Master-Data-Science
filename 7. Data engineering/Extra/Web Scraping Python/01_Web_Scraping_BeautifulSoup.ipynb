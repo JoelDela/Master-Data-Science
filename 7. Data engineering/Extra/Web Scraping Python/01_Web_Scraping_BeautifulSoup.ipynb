{
 "cells": [
  {
   "cell_type": "markdown",
   "metadata": {},
   "source": [
    "# Web Scraping"
   ]
  },
  {
   "cell_type": "markdown",
   "metadata": {},
   "source": [
    "![alt](http://www.web-scraping-crawler.com/wp-content/uploads/2017/04/Web-Scraping-Process-Image.png)"
   ]
  },
  {
   "cell_type": "markdown",
   "metadata": {},
   "source": [
    "Based on [Kevin Markham Practises](https://github.com/justmarkham/trump-lies)"
   ]
  },
  {
   "cell_type": "markdown",
   "metadata": {},
   "source": [
    "Scenario:\n",
    "- You find a webpage that contains data you want to analyse\n",
    "- These info is not presented in a right format for easly downloading and reading in your notebook\n",
    "- Web Scraping: Automate the process of extracting info from a webpage by taking advantage of patterns in the webpages underlying code"
   ]
  },
  {
   "cell_type": "markdown",
   "metadata": {},
   "source": [
    "__New York Times article:__ [President Trump's Lies, the Definitive List](https://www.nytimes.com/interactive/2017/06/23/opinion/trumps-lies.html)\n",
    "- Each lie can have __4 fields__\n",
    "    1. Date of the lie: __Date is bold red text__\n",
    "    2. The lie as a quotation: __Lie is regular text__\n",
    "    3. Writers Brief Explanation of why it is a lie: __Grey italics text__\n",
    "    4. URL of the article that substantiates that claim: __It's linked from that grey italics text__"
   ]
  },
  {
   "cell_type": "markdown",
   "metadata": {},
   "source": [
    "View Page Source to watch HTML code\n",
    "\n",
    "__FACT 1:__ \n",
    "- HTML consits on TAGS\n",
    "- There are __opening__ ___<>___ and __closing__ ___</>___ tags\n",
    "\n",
    "__FACT 2:__\n",
    "- HTML __TAGS__ can have __attributes__\n",
    "\n",
    "__FACT 3:__\n",
    "- __TAGS__ can be __nested__\n",
    "- Ex: `Hi <strong><em>Planet</em> Earth</strong>` Hi ___Planet___ __Earth__"
   ]
  },
  {
   "cell_type": "markdown",
   "metadata": {},
   "source": [
    "## Reading the webpage into Python\n",
    "\n",
    "pip install requests"
   ]
  },
  {
   "cell_type": "code",
   "execution_count": 2,
   "metadata": {},
   "outputs": [],
   "source": [
    "import requests\n",
    "r = requests.get('https://www.nytimes.com/interactive/2017/06/23/opinion/trumps-lies.html')"
   ]
  },
  {
   "cell_type": "code",
   "execution_count": 8,
   "metadata": {},
   "outputs": [
    {
     "name": "stdout",
     "output_type": "stream",
     "text": [
      "<!DOCTYPE html>\n",
      "<!--[if (gt IE 9)|!(IE)]> <!--><html lang=\"en\" class=\"no-js page-interactive section-opinion page-theme-standard tone-opinion page-interactive-default limit-small layout-xlarge app-interactive\" itemid=\"https://www.nytimes.com/interactive/2017/06/23/opinion/trumps-lies.html\" itemtype=\"http://schema.org/NewsArticle\" itemscope xmlns:og=\"http://opengraphprotocol.org/schema/\"><!--<![endif]-->\n",
      "<!--[if IE 9]> <html lang=\"en\" class=\"no-js ie9 lt-ie10 page-interactive section-opinion page-theme-standard tone-opinion page-interactive-default limit-small layout-xlarge app-interactive\" xmlns:og=\"http://opengraphprotocol.org/schema/\"> <![endif]-->\n",
      "<!--[if IE 8]> <html lang=\"en\" class=\"no-js ie8 lt-ie10 lt-ie9 page-interactive section-opinion page-theme-standard tone-opinion page-interactive-default limit-small layout-xlarge app-interactive\" xmlns:og=\"http://opengraphprotocol.org/schema/\"> <![endif]-->\n",
      "<!--[if (lt IE 8)]> <html lang=\"en\" class=\"no-js lt-ie10 lt-ie9 lt-ie8 page-intera\n"
     ]
    }
   ],
   "source": [
    "# Printing the first 1000 characters of the HTML\n",
    "\n",
    "print(r.text[0:1000])"
   ]
  },
  {
   "cell_type": "markdown",
   "metadata": {},
   "source": [
    "## Parsing the HTML using Beautiful Soup\n",
    "\n",
    "pip install beautifulsoup4 or conda ..."
   ]
  },
  {
   "cell_type": "code",
   "execution_count": 24,
   "metadata": {},
   "outputs": [],
   "source": [
    "from bs4 import BeautifulSoup\n",
    "soup = BeautifulSoup(r.text,'html.parser')"
   ]
  },
  {
   "cell_type": "markdown",
   "metadata": {},
   "source": [
    "## Collecting all of the records\n",
    "\n",
    "___First Lie___\n",
    "\n",
    "`\n",
    "<span class=\"short-desc\"><strong>Jan. 21&nbsp;</strong>“I wasn't a fan of Iraq. I didn't want to go into Iraq.” <span class=\"short-truth\"><a href=\"https://www.buzzfeed.com/andrewkaczynski/in-2002-donald-trump-said-he-supported-invading-iraq-on-the\" target=\"_blank\">(He was for an invasion before he was against it.)</a></span></span>&nbsp;&nbsp;\n",
    "`\n",
    "\n",
    "___Format___\n",
    "\n",
    "`<span class=\"short-desc\"><strong>` __DATE__ `</strong>` __LIE__ `<span class=\"short-truth\"><a href=\"`__URL__`\" target=\"_blank\">(`__EXPLANATION__`)</a></span></span>&nbsp;&nbsp;`"
   ]
  },
  {
   "cell_type": "code",
   "execution_count": 25,
   "metadata": {},
   "outputs": [],
   "source": [
    "results = soup.find_all('span', attrs={'class':'short-desc'})"
   ]
  },
  {
   "cell_type": "code",
   "execution_count": 26,
   "metadata": {},
   "outputs": [
    {
     "data": {
      "text/plain": [
       "180"
      ]
     },
     "execution_count": 26,
     "metadata": {},
     "output_type": "execute_result"
    }
   ],
   "source": [
    "len(results)"
   ]
  },
  {
   "cell_type": "code",
   "execution_count": 27,
   "metadata": {},
   "outputs": [
    {
     "data": {
      "text/plain": [
       "[<span class=\"short-desc\"><strong>Jan. 21 </strong>“I wasn't a fan of Iraq. I didn't want to go into Iraq.” <span class=\"short-truth\"><a href=\"https://www.buzzfeed.com/andrewkaczynski/in-2002-donald-trump-said-he-supported-invading-iraq-on-the\" target=\"_blank\">(He was for an invasion before he was against it.)</a></span></span>,\n",
       " <span class=\"short-desc\"><strong>Jan. 21 </strong>“A reporter for Time magazine — and I have been on their cover 14 or 15 times. I think we have the all-time record in the history of Time magazine.” <span class=\"short-truth\"><a href=\"http://nation.time.com/2013/11/06/10-things-you-didnt-know-about-time/\" target=\"_blank\">(Trump was on the cover 11 times and Nixon appeared 55 times.)</a></span></span>,\n",
       " <span class=\"short-desc\"><strong>Jan. 23 </strong>“Between 3 million and 5 million illegal votes caused me to lose the popular vote.” <span class=\"short-truth\"><a href=\"https://www.nytimes.com/2017/01/23/us/politics/donald-trump-congress-democrats.html\" target=\"_blank\">(There's no evidence of illegal voting.)</a></span></span>]"
      ]
     },
     "execution_count": 27,
     "metadata": {},
     "output_type": "execute_result"
    }
   ],
   "source": [
    "# Print the first 3 Lies. It's a list! each element it's a lie\n",
    "\n",
    "results[0:3]"
   ]
  },
  {
   "cell_type": "code",
   "execution_count": 28,
   "metadata": {},
   "outputs": [
    {
     "data": {
      "text/plain": [
       "<span class=\"short-desc\"><strong>Nov. 11 </strong>“I'd rather have him  – you know, work with him on the Ukraine than standing and arguing about whether or not  – because that whole thing was set up by the Democrats.” <span class=\"short-truth\"><a href=\"https://www.nytimes.com/interactive/2017/12/10/us/politics/trump-and-russia.html\" target=\"_blank\">(There is no evidence that Democrats \"set up\" Russian interference in the election.)</a></span></span>"
      ]
     },
     "execution_count": 28,
     "metadata": {},
     "output_type": "execute_result"
    }
   ],
   "source": [
    "# Print the last one\n",
    "\n",
    "results[-1]"
   ]
  },
  {
   "cell_type": "markdown",
   "metadata": {},
   "source": [
    "## Extracting the DATE"
   ]
  },
  {
   "cell_type": "code",
   "execution_count": 30,
   "metadata": {},
   "outputs": [
    {
     "data": {
      "text/plain": [
       "<span class=\"short-desc\"><strong>Jan. 21 </strong>“I wasn't a fan of Iraq. I didn't want to go into Iraq.” <span class=\"short-truth\"><a href=\"https://www.buzzfeed.com/andrewkaczynski/in-2002-donald-trump-said-he-supported-invading-iraq-on-the\" target=\"_blank\">(He was for an invasion before he was against it.)</a></span></span>"
      ]
     },
     "execution_count": 30,
     "metadata": {},
     "output_type": "execute_result"
    }
   ],
   "source": [
    "first_result = results[0]\n",
    "first_result"
   ]
  },
  {
   "cell_type": "code",
   "execution_count": 31,
   "metadata": {},
   "outputs": [
    {
     "data": {
      "text/plain": [
       "<strong>Jan. 21 </strong>"
      ]
     },
     "execution_count": 31,
     "metadata": {},
     "output_type": "execute_result"
    }
   ],
   "source": [
    "first_result.find('strong')"
   ]
  },
  {
   "cell_type": "code",
   "execution_count": 33,
   "metadata": {},
   "outputs": [
    {
     "data": {
      "text/plain": [
       "'Jan. 21\\xa0'"
      ]
     },
     "execution_count": 33,
     "metadata": {},
     "output_type": "execute_result"
    }
   ],
   "source": [
    "# \\xa0 represents the nbsp character. IT'S A SINGLE CHARACTER!!!\n",
    "\n",
    "first_result.find('strong').text"
   ]
  },
  {
   "cell_type": "code",
   "execution_count": 34,
   "metadata": {},
   "outputs": [
    {
     "data": {
      "text/plain": [
       "'Jan. 21'"
      ]
     },
     "execution_count": 34,
     "metadata": {},
     "output_type": "execute_result"
    }
   ],
   "source": [
    "first_result.find('strong').text[0:-1]"
   ]
  },
  {
   "cell_type": "code",
   "execution_count": 35,
   "metadata": {},
   "outputs": [
    {
     "data": {
      "text/plain": [
       "'Jan. 21, 2017'"
      ]
     },
     "execution_count": 35,
     "metadata": {},
     "output_type": "execute_result"
    }
   ],
   "source": [
    "first_result.find('strong').text[0:-1] + ', 2017'"
   ]
  },
  {
   "cell_type": "markdown",
   "metadata": {},
   "source": [
    "## Extracting the LIE"
   ]
  },
  {
   "cell_type": "code",
   "execution_count": 36,
   "metadata": {},
   "outputs": [
    {
     "data": {
      "text/plain": [
       "<span class=\"short-desc\"><strong>Jan. 21 </strong>“I wasn't a fan of Iraq. I didn't want to go into Iraq.” <span class=\"short-truth\"><a href=\"https://www.buzzfeed.com/andrewkaczynski/in-2002-donald-trump-said-he-supported-invading-iraq-on-the\" target=\"_blank\">(He was for an invasion before he was against it.)</a></span></span>"
      ]
     },
     "execution_count": 36,
     "metadata": {},
     "output_type": "execute_result"
    }
   ],
   "source": [
    "first_result"
   ]
  },
  {
   "cell_type": "code",
   "execution_count": 37,
   "metadata": {},
   "outputs": [
    {
     "data": {
      "text/plain": [
       "[<strong>Jan. 21 </strong>,\n",
       " \"“I wasn't a fan of Iraq. I didn't want to go into Iraq.” \",\n",
       " <span class=\"short-truth\"><a href=\"https://www.buzzfeed.com/andrewkaczynski/in-2002-donald-trump-said-he-supported-invading-iraq-on-the\" target=\"_blank\">(He was for an invasion before he was against it.)</a></span>]"
      ]
     },
     "execution_count": 37,
     "metadata": {},
     "output_type": "execute_result"
    }
   ],
   "source": [
    "first_result.contents"
   ]
  },
  {
   "cell_type": "code",
   "execution_count": 38,
   "metadata": {},
   "outputs": [
    {
     "data": {
      "text/plain": [
       "\"“I wasn't a fan of Iraq. I didn't want to go into Iraq.” \""
      ]
     },
     "execution_count": 38,
     "metadata": {},
     "output_type": "execute_result"
    }
   ],
   "source": [
    "first_result.contents[1]"
   ]
  },
  {
   "cell_type": "code",
   "execution_count": 39,
   "metadata": {},
   "outputs": [
    {
     "data": {
      "text/plain": [
       "\"I wasn't a fan of Iraq. I didn't want to go into Iraq.\""
      ]
     },
     "execution_count": 39,
     "metadata": {},
     "output_type": "execute_result"
    }
   ],
   "source": [
    "first_result.contents[1][1:-2]"
   ]
  },
  {
   "cell_type": "markdown",
   "metadata": {},
   "source": [
    "## Extracting the EXPLANATION"
   ]
  },
  {
   "cell_type": "code",
   "execution_count": 40,
   "metadata": {},
   "outputs": [
    {
     "data": {
      "text/plain": [
       "<span class=\"short-truth\"><a href=\"https://www.buzzfeed.com/andrewkaczynski/in-2002-donald-trump-said-he-supported-invading-iraq-on-the\" target=\"_blank\">(He was for an invasion before he was against it.)</a></span>"
      ]
     },
     "execution_count": 40,
     "metadata": {},
     "output_type": "execute_result"
    }
   ],
   "source": [
    "# First Way To Do This\n",
    "\n",
    "first_result.contents[2]"
   ]
  },
  {
   "cell_type": "code",
   "execution_count": 41,
   "metadata": {},
   "outputs": [
    {
     "data": {
      "text/plain": [
       "<a href=\"https://www.buzzfeed.com/andrewkaczynski/in-2002-donald-trump-said-he-supported-invading-iraq-on-the\" target=\"_blank\">(He was for an invasion before he was against it.)</a>"
      ]
     },
     "execution_count": 41,
     "metadata": {},
     "output_type": "execute_result"
    }
   ],
   "source": [
    "# Second Way To Do This\n",
    "\n",
    "first_result.find('a')"
   ]
  },
  {
   "cell_type": "code",
   "execution_count": 42,
   "metadata": {},
   "outputs": [
    {
     "data": {
      "text/plain": [
       "'(He was for an invasion before he was against it.)'"
      ]
     },
     "execution_count": 42,
     "metadata": {},
     "output_type": "execute_result"
    }
   ],
   "source": [
    "first_result.find('a').text"
   ]
  },
  {
   "cell_type": "code",
   "execution_count": 45,
   "metadata": {},
   "outputs": [
    {
     "data": {
      "text/plain": [
       "'He was for an invasion before he was against it.'"
      ]
     },
     "execution_count": 45,
     "metadata": {},
     "output_type": "execute_result"
    }
   ],
   "source": [
    "first_result.find('a').text[1:-1]"
   ]
  },
  {
   "cell_type": "markdown",
   "metadata": {},
   "source": [
    "## Extracting the URL\n",
    "\n",
    "URL is located within the TAG"
   ]
  },
  {
   "cell_type": "code",
   "execution_count": 49,
   "metadata": {},
   "outputs": [
    {
     "data": {
      "text/plain": [
       "'https://www.buzzfeed.com/andrewkaczynski/in-2002-donald-trump-said-he-supported-invading-iraq-on-the'"
      ]
     },
     "execution_count": 49,
     "metadata": {},
     "output_type": "execute_result"
    }
   ],
   "source": [
    "first_result.find('a')['href']"
   ]
  },
  {
   "cell_type": "markdown",
   "metadata": {},
   "source": [
    "## Building a Dataset"
   ]
  },
  {
   "cell_type": "code",
   "execution_count": 50,
   "metadata": {},
   "outputs": [],
   "source": [
    "records = []\n",
    "for result in results:\n",
    "    date = result.find('strong').text[0:-1] + ', 2017'\n",
    "    lie = result.contents[1][1:-2]\n",
    "    explanation = result.find('a').text[1:-1]\n",
    "    url = result.find('a')['href']\n",
    "    records.append((date,lie,explanation,url))"
   ]
  },
  {
   "cell_type": "code",
   "execution_count": 51,
   "metadata": {},
   "outputs": [
    {
     "data": {
      "text/plain": [
       "180"
      ]
     },
     "execution_count": 51,
     "metadata": {},
     "output_type": "execute_result"
    }
   ],
   "source": [
    "len(records)"
   ]
  },
  {
   "cell_type": "code",
   "execution_count": 52,
   "metadata": {},
   "outputs": [
    {
     "data": {
      "text/plain": [
       "[('Jan. 21, 2017',\n",
       "  \"I wasn't a fan of Iraq. I didn't want to go into Iraq.\",\n",
       "  'He was for an invasion before he was against it.',\n",
       "  'https://www.buzzfeed.com/andrewkaczynski/in-2002-donald-trump-said-he-supported-invading-iraq-on-the'),\n",
       " ('Jan. 21, 2017',\n",
       "  'A reporter for Time magazine — and I have been on their cover 14 or 15 times. I think we have the all-time record in the history of Time magazine.',\n",
       "  'Trump was on the cover 11 times and Nixon appeared 55 times.',\n",
       "  'http://nation.time.com/2013/11/06/10-things-you-didnt-know-about-time/'),\n",
       " ('Jan. 23, 2017',\n",
       "  'Between 3 million and 5 million illegal votes caused me to lose the popular vote.',\n",
       "  \"There's no evidence of illegal voting.\",\n",
       "  'https://www.nytimes.com/2017/01/23/us/politics/donald-trump-congress-democrats.html')]"
      ]
     },
     "execution_count": 52,
     "metadata": {},
     "output_type": "execute_result"
    }
   ],
   "source": [
    "records[0:3]"
   ]
  },
  {
   "cell_type": "markdown",
   "metadata": {},
   "source": [
    "## Applying a Tabular Data Structure"
   ]
  },
  {
   "cell_type": "code",
   "execution_count": 56,
   "metadata": {},
   "outputs": [
    {
     "data": {
      "text/html": [
       "<div>\n",
       "<style scoped>\n",
       "    .dataframe tbody tr th:only-of-type {\n",
       "        vertical-align: middle;\n",
       "    }\n",
       "\n",
       "    .dataframe tbody tr th {\n",
       "        vertical-align: top;\n",
       "    }\n",
       "\n",
       "    .dataframe thead th {\n",
       "        text-align: right;\n",
       "    }\n",
       "</style>\n",
       "<table border=\"1\" class=\"dataframe\">\n",
       "  <thead>\n",
       "    <tr style=\"text-align: right;\">\n",
       "      <th></th>\n",
       "      <th>date</th>\n",
       "      <th>lie</th>\n",
       "      <th>explanation</th>\n",
       "      <th>url</th>\n",
       "    </tr>\n",
       "  </thead>\n",
       "  <tbody>\n",
       "    <tr>\n",
       "      <th>0</th>\n",
       "      <td>Jan. 21, 2017</td>\n",
       "      <td>I wasn't a fan of Iraq. I didn't want to go in...</td>\n",
       "      <td>He was for an invasion before he was against it.</td>\n",
       "      <td>https://www.buzzfeed.com/andrewkaczynski/in-20...</td>\n",
       "    </tr>\n",
       "    <tr>\n",
       "      <th>1</th>\n",
       "      <td>Jan. 21, 2017</td>\n",
       "      <td>A reporter for Time magazine — and I have been...</td>\n",
       "      <td>Trump was on the cover 11 times and Nixon appe...</td>\n",
       "      <td>http://nation.time.com/2013/11/06/10-things-yo...</td>\n",
       "    </tr>\n",
       "    <tr>\n",
       "      <th>2</th>\n",
       "      <td>Jan. 23, 2017</td>\n",
       "      <td>Between 3 million and 5 million illegal votes ...</td>\n",
       "      <td>There's no evidence of illegal voting.</td>\n",
       "      <td>https://www.nytimes.com/2017/01/23/us/politics...</td>\n",
       "    </tr>\n",
       "    <tr>\n",
       "      <th>3</th>\n",
       "      <td>Jan. 25, 2017</td>\n",
       "      <td>Now, the audience was the biggest ever. But th...</td>\n",
       "      <td>Official aerial photos show Obama's 2009 inaug...</td>\n",
       "      <td>https://www.nytimes.com/2017/01/21/us/politics...</td>\n",
       "    </tr>\n",
       "    <tr>\n",
       "      <th>4</th>\n",
       "      <td>Jan. 25, 2017</td>\n",
       "      <td>Take a look at the Pew reports (which show vot...</td>\n",
       "      <td>The report never mentioned voter fraud.</td>\n",
       "      <td>https://www.nytimes.com/2017/01/24/us/politics...</td>\n",
       "    </tr>\n",
       "  </tbody>\n",
       "</table>\n",
       "</div>"
      ],
      "text/plain": [
       "            date                                                lie  \\\n",
       "0  Jan. 21, 2017  I wasn't a fan of Iraq. I didn't want to go in...   \n",
       "1  Jan. 21, 2017  A reporter for Time magazine — and I have been...   \n",
       "2  Jan. 23, 2017  Between 3 million and 5 million illegal votes ...   \n",
       "3  Jan. 25, 2017  Now, the audience was the biggest ever. But th...   \n",
       "4  Jan. 25, 2017  Take a look at the Pew reports (which show vot...   \n",
       "\n",
       "                                         explanation  \\\n",
       "0   He was for an invasion before he was against it.   \n",
       "1  Trump was on the cover 11 times and Nixon appe...   \n",
       "2             There's no evidence of illegal voting.   \n",
       "3  Official aerial photos show Obama's 2009 inaug...   \n",
       "4            The report never mentioned voter fraud.   \n",
       "\n",
       "                                                 url  \n",
       "0  https://www.buzzfeed.com/andrewkaczynski/in-20...  \n",
       "1  http://nation.time.com/2013/11/06/10-things-yo...  \n",
       "2  https://www.nytimes.com/2017/01/23/us/politics...  \n",
       "3  https://www.nytimes.com/2017/01/21/us/politics...  \n",
       "4  https://www.nytimes.com/2017/01/24/us/politics...  "
      ]
     },
     "execution_count": 56,
     "metadata": {},
     "output_type": "execute_result"
    }
   ],
   "source": [
    "import pandas as pd\n",
    "\n",
    "df = pd.DataFrame(records, columns=['date','lie','explanation','url'])\n",
    "df.head()"
   ]
  },
  {
   "cell_type": "code",
   "execution_count": 58,
   "metadata": {},
   "outputs": [],
   "source": [
    "df['date'] = pd.to_datetime(df['date'])"
   ]
  },
  {
   "cell_type": "code",
   "execution_count": 59,
   "metadata": {},
   "outputs": [
    {
     "data": {
      "text/html": [
       "<div>\n",
       "<style scoped>\n",
       "    .dataframe tbody tr th:only-of-type {\n",
       "        vertical-align: middle;\n",
       "    }\n",
       "\n",
       "    .dataframe tbody tr th {\n",
       "        vertical-align: top;\n",
       "    }\n",
       "\n",
       "    .dataframe thead th {\n",
       "        text-align: right;\n",
       "    }\n",
       "</style>\n",
       "<table border=\"1\" class=\"dataframe\">\n",
       "  <thead>\n",
       "    <tr style=\"text-align: right;\">\n",
       "      <th></th>\n",
       "      <th>date</th>\n",
       "      <th>lie</th>\n",
       "      <th>explanation</th>\n",
       "      <th>url</th>\n",
       "    </tr>\n",
       "  </thead>\n",
       "  <tbody>\n",
       "    <tr>\n",
       "      <th>0</th>\n",
       "      <td>2017-01-21</td>\n",
       "      <td>I wasn't a fan of Iraq. I didn't want to go in...</td>\n",
       "      <td>He was for an invasion before he was against it.</td>\n",
       "      <td>https://www.buzzfeed.com/andrewkaczynski/in-20...</td>\n",
       "    </tr>\n",
       "    <tr>\n",
       "      <th>1</th>\n",
       "      <td>2017-01-21</td>\n",
       "      <td>A reporter for Time magazine — and I have been...</td>\n",
       "      <td>Trump was on the cover 11 times and Nixon appe...</td>\n",
       "      <td>http://nation.time.com/2013/11/06/10-things-yo...</td>\n",
       "    </tr>\n",
       "    <tr>\n",
       "      <th>2</th>\n",
       "      <td>2017-01-23</td>\n",
       "      <td>Between 3 million and 5 million illegal votes ...</td>\n",
       "      <td>There's no evidence of illegal voting.</td>\n",
       "      <td>https://www.nytimes.com/2017/01/23/us/politics...</td>\n",
       "    </tr>\n",
       "    <tr>\n",
       "      <th>3</th>\n",
       "      <td>2017-01-25</td>\n",
       "      <td>Now, the audience was the biggest ever. But th...</td>\n",
       "      <td>Official aerial photos show Obama's 2009 inaug...</td>\n",
       "      <td>https://www.nytimes.com/2017/01/21/us/politics...</td>\n",
       "    </tr>\n",
       "    <tr>\n",
       "      <th>4</th>\n",
       "      <td>2017-01-25</td>\n",
       "      <td>Take a look at the Pew reports (which show vot...</td>\n",
       "      <td>The report never mentioned voter fraud.</td>\n",
       "      <td>https://www.nytimes.com/2017/01/24/us/politics...</td>\n",
       "    </tr>\n",
       "  </tbody>\n",
       "</table>\n",
       "</div>"
      ],
      "text/plain": [
       "        date                                                lie  \\\n",
       "0 2017-01-21  I wasn't a fan of Iraq. I didn't want to go in...   \n",
       "1 2017-01-21  A reporter for Time magazine — and I have been...   \n",
       "2 2017-01-23  Between 3 million and 5 million illegal votes ...   \n",
       "3 2017-01-25  Now, the audience was the biggest ever. But th...   \n",
       "4 2017-01-25  Take a look at the Pew reports (which show vot...   \n",
       "\n",
       "                                         explanation  \\\n",
       "0   He was for an invasion before he was against it.   \n",
       "1  Trump was on the cover 11 times and Nixon appe...   \n",
       "2             There's no evidence of illegal voting.   \n",
       "3  Official aerial photos show Obama's 2009 inaug...   \n",
       "4            The report never mentioned voter fraud.   \n",
       "\n",
       "                                                 url  \n",
       "0  https://www.buzzfeed.com/andrewkaczynski/in-20...  \n",
       "1  http://nation.time.com/2013/11/06/10-things-yo...  \n",
       "2  https://www.nytimes.com/2017/01/23/us/politics...  \n",
       "3  https://www.nytimes.com/2017/01/21/us/politics...  \n",
       "4  https://www.nytimes.com/2017/01/24/us/politics...  "
      ]
     },
     "execution_count": 59,
     "metadata": {},
     "output_type": "execute_result"
    }
   ],
   "source": [
    "df.head()"
   ]
  },
  {
   "cell_type": "code",
   "execution_count": 60,
   "metadata": {},
   "outputs": [
    {
     "data": {
      "text/html": [
       "<div>\n",
       "<style scoped>\n",
       "    .dataframe tbody tr th:only-of-type {\n",
       "        vertical-align: middle;\n",
       "    }\n",
       "\n",
       "    .dataframe tbody tr th {\n",
       "        vertical-align: top;\n",
       "    }\n",
       "\n",
       "    .dataframe thead th {\n",
       "        text-align: right;\n",
       "    }\n",
       "</style>\n",
       "<table border=\"1\" class=\"dataframe\">\n",
       "  <thead>\n",
       "    <tr style=\"text-align: right;\">\n",
       "      <th></th>\n",
       "      <th>date</th>\n",
       "      <th>lie</th>\n",
       "      <th>explanation</th>\n",
       "      <th>url</th>\n",
       "    </tr>\n",
       "  </thead>\n",
       "  <tbody>\n",
       "    <tr>\n",
       "      <th>175</th>\n",
       "      <td>2017-10-25</td>\n",
       "      <td>We have trade deficits with almost everybody.</td>\n",
       "      <td>We have trade surpluses with more than 100 cou...</td>\n",
       "      <td>https://www.bea.gov/newsreleases/international...</td>\n",
       "    </tr>\n",
       "    <tr>\n",
       "      <th>176</th>\n",
       "      <td>2017-10-27</td>\n",
       "      <td>Wacky &amp; totally unhinged Tom Steyer, who has b...</td>\n",
       "      <td>Steyer has financially supported many winning ...</td>\n",
       "      <td>https://www.opensecrets.org/donor-lookup/resul...</td>\n",
       "    </tr>\n",
       "    <tr>\n",
       "      <th>177</th>\n",
       "      <td>2017-11-01</td>\n",
       "      <td>Again, we're the highest-taxed nation, just ab...</td>\n",
       "      <td>We're not.</td>\n",
       "      <td>http://www.politifact.com/truth-o-meter/statem...</td>\n",
       "    </tr>\n",
       "    <tr>\n",
       "      <th>178</th>\n",
       "      <td>2017-11-07</td>\n",
       "      <td>When you look at the city with the strongest g...</td>\n",
       "      <td>Several other cities, including New York and L...</td>\n",
       "      <td>http://www.politifact.com/truth-o-meter/statem...</td>\n",
       "    </tr>\n",
       "    <tr>\n",
       "      <th>179</th>\n",
       "      <td>2017-11-11</td>\n",
       "      <td>I'd rather have him  – you know, work with him...</td>\n",
       "      <td>There is no evidence that Democrats \"set up\" R...</td>\n",
       "      <td>https://www.nytimes.com/interactive/2017/12/10...</td>\n",
       "    </tr>\n",
       "  </tbody>\n",
       "</table>\n",
       "</div>"
      ],
      "text/plain": [
       "          date                                                lie  \\\n",
       "175 2017-10-25      We have trade deficits with almost everybody.   \n",
       "176 2017-10-27  Wacky & totally unhinged Tom Steyer, who has b...   \n",
       "177 2017-11-01  Again, we're the highest-taxed nation, just ab...   \n",
       "178 2017-11-07  When you look at the city with the strongest g...   \n",
       "179 2017-11-11  I'd rather have him  – you know, work with him...   \n",
       "\n",
       "                                           explanation  \\\n",
       "175  We have trade surpluses with more than 100 cou...   \n",
       "176  Steyer has financially supported many winning ...   \n",
       "177                                         We're not.   \n",
       "178  Several other cities, including New York and L...   \n",
       "179  There is no evidence that Democrats \"set up\" R...   \n",
       "\n",
       "                                                   url  \n",
       "175  https://www.bea.gov/newsreleases/international...  \n",
       "176  https://www.opensecrets.org/donor-lookup/resul...  \n",
       "177  http://www.politifact.com/truth-o-meter/statem...  \n",
       "178  http://www.politifact.com/truth-o-meter/statem...  \n",
       "179  https://www.nytimes.com/interactive/2017/12/10...  "
      ]
     },
     "execution_count": 60,
     "metadata": {},
     "output_type": "execute_result"
    }
   ],
   "source": [
    "df.tail()"
   ]
  },
  {
   "cell_type": "markdown",
   "metadata": {},
   "source": [
    "### Exporting the Dataset to a CSV file"
   ]
  },
  {
   "cell_type": "code",
   "execution_count": 61,
   "metadata": {},
   "outputs": [],
   "source": [
    "df.to_csv('trump_lies.csv', index=False, encoding='utf-8')"
   ]
  },
  {
   "cell_type": "code",
   "execution_count": 65,
   "metadata": {},
   "outputs": [
    {
     "data": {
      "text/html": [
       "<div>\n",
       "<style scoped>\n",
       "    .dataframe tbody tr th:only-of-type {\n",
       "        vertical-align: middle;\n",
       "    }\n",
       "\n",
       "    .dataframe tbody tr th {\n",
       "        vertical-align: top;\n",
       "    }\n",
       "\n",
       "    .dataframe thead th {\n",
       "        text-align: right;\n",
       "    }\n",
       "</style>\n",
       "<table border=\"1\" class=\"dataframe\">\n",
       "  <thead>\n",
       "    <tr style=\"text-align: right;\">\n",
       "      <th></th>\n",
       "      <th>date</th>\n",
       "      <th>lie</th>\n",
       "      <th>explanation</th>\n",
       "      <th>url</th>\n",
       "    </tr>\n",
       "  </thead>\n",
       "  <tbody>\n",
       "    <tr>\n",
       "      <th>0</th>\n",
       "      <td>2017-01-21</td>\n",
       "      <td>I wasn't a fan of Iraq. I didn't want to go in...</td>\n",
       "      <td>He was for an invasion before he was against it.</td>\n",
       "      <td>https://www.buzzfeed.com/andrewkaczynski/in-20...</td>\n",
       "    </tr>\n",
       "    <tr>\n",
       "      <th>1</th>\n",
       "      <td>2017-01-21</td>\n",
       "      <td>A reporter for Time magazine — and I have been...</td>\n",
       "      <td>Trump was on the cover 11 times and Nixon appe...</td>\n",
       "      <td>http://nation.time.com/2013/11/06/10-things-yo...</td>\n",
       "    </tr>\n",
       "    <tr>\n",
       "      <th>2</th>\n",
       "      <td>2017-01-23</td>\n",
       "      <td>Between 3 million and 5 million illegal votes ...</td>\n",
       "      <td>There's no evidence of illegal voting.</td>\n",
       "      <td>https://www.nytimes.com/2017/01/23/us/politics...</td>\n",
       "    </tr>\n",
       "    <tr>\n",
       "      <th>3</th>\n",
       "      <td>2017-01-25</td>\n",
       "      <td>Now, the audience was the biggest ever. But th...</td>\n",
       "      <td>Official aerial photos show Obama's 2009 inaug...</td>\n",
       "      <td>https://www.nytimes.com/2017/01/21/us/politics...</td>\n",
       "    </tr>\n",
       "    <tr>\n",
       "      <th>4</th>\n",
       "      <td>2017-01-25</td>\n",
       "      <td>Take a look at the Pew reports (which show vot...</td>\n",
       "      <td>The report never mentioned voter fraud.</td>\n",
       "      <td>https://www.nytimes.com/2017/01/24/us/politics...</td>\n",
       "    </tr>\n",
       "    <tr>\n",
       "      <th>5</th>\n",
       "      <td>2017-01-25</td>\n",
       "      <td>You had millions of people that now aren't ins...</td>\n",
       "      <td>The real number is less than 1 million, accord...</td>\n",
       "      <td>https://www.nytimes.com/2017/03/13/us/politics...</td>\n",
       "    </tr>\n",
       "    <tr>\n",
       "      <th>6</th>\n",
       "      <td>2017-01-25</td>\n",
       "      <td>So, look, when President Obama was there two w...</td>\n",
       "      <td>There were no gun homicide victims in Chicago ...</td>\n",
       "      <td>https://www.dnainfo.com/chicago/2017-chicago-m...</td>\n",
       "    </tr>\n",
       "    <tr>\n",
       "      <th>7</th>\n",
       "      <td>2017-01-26</td>\n",
       "      <td>We've taken in tens of thousands of people. We...</td>\n",
       "      <td>Vetting lasts up to two years.</td>\n",
       "      <td>https://www.nytimes.com/interactive/2017/01/29...</td>\n",
       "    </tr>\n",
       "    <tr>\n",
       "      <th>8</th>\n",
       "      <td>2017-01-26</td>\n",
       "      <td>I cut off hundreds of millions of dollars off ...</td>\n",
       "      <td>Most of the cuts were already planned.</td>\n",
       "      <td>https://www.washingtonpost.com/news/fact-check...</td>\n",
       "    </tr>\n",
       "    <tr>\n",
       "      <th>9</th>\n",
       "      <td>2017-01-28</td>\n",
       "      <td>The coverage about me in the @nytimes and the ...</td>\n",
       "      <td>It never apologized.</td>\n",
       "      <td>https://www.nytimes.com/2016/11/13/us/election...</td>\n",
       "    </tr>\n",
       "    <tr>\n",
       "      <th>10</th>\n",
       "      <td>2017-01-29</td>\n",
       "      <td>The Cuban-Americans, I got 84 percent of that ...</td>\n",
       "      <td>There is no support for this.</td>\n",
       "      <td>http://www.pewresearch.org/fact-tank/2016/11/1...</td>\n",
       "    </tr>\n",
       "    <tr>\n",
       "      <th>11</th>\n",
       "      <td>2017-01-30</td>\n",
       "      <td>Only 109 people out of 325,000 were detained a...</td>\n",
       "      <td>At least 746 people were detained and processe...</td>\n",
       "      <td>http://markets.on.nytimes.com/research/stocks/...</td>\n",
       "    </tr>\n",
       "    <tr>\n",
       "      <th>12</th>\n",
       "      <td>2017-02-03</td>\n",
       "      <td>Professional anarchists, thugs and paid protes...</td>\n",
       "      <td>There is no evidence of paid protesters.</td>\n",
       "      <td>https://www.nytimes.com/2017/01/28/nyregion/jf...</td>\n",
       "    </tr>\n",
       "    <tr>\n",
       "      <th>13</th>\n",
       "      <td>2017-02-04</td>\n",
       "      <td>After being forced to apologize for its bad an...</td>\n",
       "      <td>It never apologized.</td>\n",
       "      <td>https://www.nytimes.com/2016/11/13/us/election...</td>\n",
       "    </tr>\n",
       "    <tr>\n",
       "      <th>14</th>\n",
       "      <td>2017-02-05</td>\n",
       "      <td>We had 109 people out of hundreds of thousands...</td>\n",
       "      <td>About 60,000 people were affected.</td>\n",
       "      <td>http://www.politifact.com/truth-o-meter/statem...</td>\n",
       "    </tr>\n",
       "    <tr>\n",
       "      <th>15</th>\n",
       "      <td>2017-02-06</td>\n",
       "      <td>I have already saved more than $700 million wh...</td>\n",
       "      <td>Much of the price drop was projected before Tr...</td>\n",
       "      <td>https://www.washingtonpost.com/news/fact-check...</td>\n",
       "    </tr>\n",
       "    <tr>\n",
       "      <th>16</th>\n",
       "      <td>2017-02-06</td>\n",
       "      <td>It's gotten to a point where it is not even be...</td>\n",
       "      <td>Terrorism has been reported on, often in detail.</td>\n",
       "      <td>https://www.nytimes.com/2017/02/07/us/politics...</td>\n",
       "    </tr>\n",
       "    <tr>\n",
       "      <th>17</th>\n",
       "      <td>2017-02-06</td>\n",
       "      <td>The failing @nytimes was forced to apologize t...</td>\n",
       "      <td>It didn't apologize.</td>\n",
       "      <td>https://www.nytimes.com/2016/11/13/us/election...</td>\n",
       "    </tr>\n",
       "    <tr>\n",
       "      <th>18</th>\n",
       "      <td>2017-02-06</td>\n",
       "      <td>And the previous administration allowed it to ...</td>\n",
       "      <td>The group’s origins date to 2004.</td>\n",
       "      <td>https://www.nytimes.com/2015/11/19/world/middl...</td>\n",
       "    </tr>\n",
       "    <tr>\n",
       "      <th>19</th>\n",
       "      <td>2017-02-07</td>\n",
       "      <td>And yet the murder rate in our country is the ...</td>\n",
       "      <td>It was higher in the 1980s and '90s.</td>\n",
       "      <td>http://www.politifact.com/truth-o-meter/statem...</td>\n",
       "    </tr>\n",
       "    <tr>\n",
       "      <th>20</th>\n",
       "      <td>2017-02-07</td>\n",
       "      <td>I saved more than $600 million. I got involved...</td>\n",
       "      <td>The Defense Department projected this price dr...</td>\n",
       "      <td>https://www.washingtonpost.com/news/fact-check...</td>\n",
       "    </tr>\n",
       "    <tr>\n",
       "      <th>21</th>\n",
       "      <td>2017-02-09</td>\n",
       "      <td>Chris Cuomo, in his interview with Sen. Blumen...</td>\n",
       "      <td>It was part of Cuomo's first question.</td>\n",
       "      <td>http://transcripts.cnn.com/TRANSCRIPTS/1702/09...</td>\n",
       "    </tr>\n",
       "    <tr>\n",
       "      <th>22</th>\n",
       "      <td>2017-02-09</td>\n",
       "      <td>Sen. Richard Blumenthal now misrepresents what...</td>\n",
       "      <td>The Gorsuch comments were later corroborated.</td>\n",
       "      <td>https://www.washingtonpost.com/news/fact-check...</td>\n",
       "    </tr>\n",
       "    <tr>\n",
       "      <th>23</th>\n",
       "      <td>2017-02-10</td>\n",
       "      <td>I don’t know about it. I haven’t seen it. What...</td>\n",
       "      <td>Trump knew about Flynn's actions for weeks.</td>\n",
       "      <td>http://www.factcheck.org/2017/02/trump-spins-f...</td>\n",
       "    </tr>\n",
       "    <tr>\n",
       "      <th>24</th>\n",
       "      <td>2017-02-12</td>\n",
       "      <td>Just leaving Florida. Big crowds of enthusiast...</td>\n",
       "      <td>The media did cover it.</td>\n",
       "      <td>http://www.palmbeachpost.com/news/national-gov...</td>\n",
       "    </tr>\n",
       "    <tr>\n",
       "      <th>25</th>\n",
       "      <td>2017-02-16</td>\n",
       "      <td>We got 306 because people came out and voted l...</td>\n",
       "      <td>George H.W. Bush, Bill Clinton and Barack Obam...</td>\n",
       "      <td>https://www.nytimes.com/2017/02/16/us/politics...</td>\n",
       "    </tr>\n",
       "    <tr>\n",
       "      <th>26</th>\n",
       "      <td>2017-02-16</td>\n",
       "      <td>That’s the other thing that was wrong with the...</td>\n",
       "      <td>Delta's problems happened two days later.</td>\n",
       "      <td>https://www.washingtonpost.com/news/fact-check...</td>\n",
       "    </tr>\n",
       "    <tr>\n",
       "      <th>27</th>\n",
       "      <td>2017-02-16</td>\n",
       "      <td>Walmart announced it will create 10,000 jobs i...</td>\n",
       "      <td>The jobs are a result of its investment plans ...</td>\n",
       "      <td>https://www.nytimes.com/interactive/2017/busin...</td>\n",
       "    </tr>\n",
       "    <tr>\n",
       "      <th>28</th>\n",
       "      <td>2017-02-16</td>\n",
       "      <td>When WikiLeaks, which I had nothing to do with...</td>\n",
       "      <td>Not always. They have released classified info...</td>\n",
       "      <td>http://www.politifact.com/truth-o-meter/articl...</td>\n",
       "    </tr>\n",
       "    <tr>\n",
       "      <th>29</th>\n",
       "      <td>2017-02-16</td>\n",
       "      <td>We had a very smooth rollout of the travel ban...</td>\n",
       "      <td>The rollout was chaotic.</td>\n",
       "      <td>https://www.washingtonpost.com/news/fact-check...</td>\n",
       "    </tr>\n",
       "    <tr>\n",
       "      <th>...</th>\n",
       "      <td>...</td>\n",
       "      <td>...</td>\n",
       "      <td>...</td>\n",
       "      <td>...</td>\n",
       "    </tr>\n",
       "    <tr>\n",
       "      <th>150</th>\n",
       "      <td>2017-10-03</td>\n",
       "      <td>But that's an expensive plane that you can't s...</td>\n",
       "      <td>The cost cuts were planned before he became pr...</td>\n",
       "      <td>https://www.washingtonpost.com/news/fact-check...</td>\n",
       "    </tr>\n",
       "    <tr>\n",
       "      <th>151</th>\n",
       "      <td>2017-10-06</td>\n",
       "      <td>I was able to reduce the price of the Lockheed...</td>\n",
       "      <td>The cost cuts were planned before he became pr...</td>\n",
       "      <td>https://www.washingtonpost.com/news/fact-check...</td>\n",
       "    </tr>\n",
       "    <tr>\n",
       "      <th>152</th>\n",
       "      <td>2017-10-06</td>\n",
       "      <td>We're the highest-taxed developed nation in th...</td>\n",
       "      <td>We're not.</td>\n",
       "      <td>http://www.politifact.com/truth-o-meter/statem...</td>\n",
       "    </tr>\n",
       "    <tr>\n",
       "      <th>153</th>\n",
       "      <td>2017-10-06</td>\n",
       "      <td>They also just said that there has been absolu...</td>\n",
       "      <td>The Senate didn't say that.</td>\n",
       "      <td>http://www.cnn.com/TRANSCRIPTS/1710/04/ip.02.html</td>\n",
       "    </tr>\n",
       "    <tr>\n",
       "      <th>154</th>\n",
       "      <td>2017-10-06</td>\n",
       "      <td>This tax cut and tax reform is going very well...</td>\n",
       "      <td>We're not.</td>\n",
       "      <td>http://www.politifact.com/truth-o-meter/statem...</td>\n",
       "    </tr>\n",
       "    <tr>\n",
       "      <th>155</th>\n",
       "      <td>2017-10-07</td>\n",
       "      <td>We're the highest-taxed nation in the world.</td>\n",
       "      <td>We're not.</td>\n",
       "      <td>http://www.politifact.com/truth-o-meter/statem...</td>\n",
       "    </tr>\n",
       "    <tr>\n",
       "      <th>156</th>\n",
       "      <td>2017-10-07</td>\n",
       "      <td>The Coast Guard, in Texas, and all over, but w...</td>\n",
       "      <td>The real number is smaller.</td>\n",
       "      <td>https://content.govdelivery.com/accounts/USDHS...</td>\n",
       "    </tr>\n",
       "    <tr>\n",
       "      <th>157</th>\n",
       "      <td>2017-10-07</td>\n",
       "      <td>Obama should have never gotten out the way he ...</td>\n",
       "      <td>The group’s origins date to 2004.</td>\n",
       "      <td>https://www.nytimes.com/2015/11/19/world/middl...</td>\n",
       "    </tr>\n",
       "    <tr>\n",
       "      <th>158</th>\n",
       "      <td>2017-10-10</td>\n",
       "      <td>The Failing @nytimes set Liddle' Bob Corker up...</td>\n",
       "      <td>Corker asked the Times reporter to record the ...</td>\n",
       "      <td>https://www.nytimes.com/2017/10/10/reader-cent...</td>\n",
       "    </tr>\n",
       "    <tr>\n",
       "      <th>159</th>\n",
       "      <td>2017-10-10</td>\n",
       "      <td>We're the highest-taxed nation in the world.</td>\n",
       "      <td>We're not.</td>\n",
       "      <td>http://www.politifact.com/truth-o-meter/statem...</td>\n",
       "    </tr>\n",
       "    <tr>\n",
       "      <th>160</th>\n",
       "      <td>2017-10-11</td>\n",
       "      <td>We have missiles that can knock out a missile ...</td>\n",
       "      <td>The effectiveness rate is about 60 percent.</td>\n",
       "      <td>https://warontherocks.com/2017/10/deadly-overc...</td>\n",
       "    </tr>\n",
       "    <tr>\n",
       "      <th>161</th>\n",
       "      <td>2017-10-16</td>\n",
       "      <td>We're the highest-taxed country in the world.</td>\n",
       "      <td>We're not.</td>\n",
       "      <td>http://www.politifact.com/truth-o-meter/statem...</td>\n",
       "    </tr>\n",
       "    <tr>\n",
       "      <th>162</th>\n",
       "      <td>2017-10-16</td>\n",
       "      <td>I hear that Ireland is going to be reducing th...</td>\n",
       "      <td>Ireland has no plans to cut its tax rate.</td>\n",
       "      <td>https://www.snopes.com/trump-ireland-tax/</td>\n",
       "    </tr>\n",
       "    <tr>\n",
       "      <th>163</th>\n",
       "      <td>2017-10-16</td>\n",
       "      <td>If you look at President Obama and other presi...</td>\n",
       "      <td>They did call families of soldiers killed in a...</td>\n",
       "      <td>https://www.nytimes.com/2017/10/16/us/politics...</td>\n",
       "    </tr>\n",
       "    <tr>\n",
       "      <th>164</th>\n",
       "      <td>2017-10-16</td>\n",
       "      <td>All I can say is it's totally fake news, just ...</td>\n",
       "      <td>Trump himself has bragged about groping women.</td>\n",
       "      <td>https://www.washingtonpost.com/news/fact-check...</td>\n",
       "    </tr>\n",
       "    <tr>\n",
       "      <th>165</th>\n",
       "      <td>2017-10-17</td>\n",
       "      <td>We're the highest taxed nation in the world.</td>\n",
       "      <td>We're not.</td>\n",
       "      <td>http://www.politifact.com/truth-o-meter/statem...</td>\n",
       "    </tr>\n",
       "    <tr>\n",
       "      <th>166</th>\n",
       "      <td>2017-10-17</td>\n",
       "      <td>Right now, we are the highest-taxed nation any...</td>\n",
       "      <td>We're not.</td>\n",
       "      <td>http://www.politifact.com/truth-o-meter/statem...</td>\n",
       "    </tr>\n",
       "    <tr>\n",
       "      <th>167</th>\n",
       "      <td>2017-10-17</td>\n",
       "      <td>As far as I'm concerned, I think we're really ...</td>\n",
       "      <td>Taxes in the U.S. are lower than in most devel...</td>\n",
       "      <td>http://www.politifact.com/truth-o-meter/statem...</td>\n",
       "    </tr>\n",
       "    <tr>\n",
       "      <th>168</th>\n",
       "      <td>2017-10-17</td>\n",
       "      <td>We're the highest-taxed nation in the world. W...</td>\n",
       "      <td>We're not.</td>\n",
       "      <td>http://www.politifact.com/truth-o-meter/statem...</td>\n",
       "    </tr>\n",
       "    <tr>\n",
       "      <th>169</th>\n",
       "      <td>2017-10-17</td>\n",
       "      <td>Well, we're the highest-taxed nation in the wo...</td>\n",
       "      <td>We're not.</td>\n",
       "      <td>http://www.politifact.com/truth-o-meter/statem...</td>\n",
       "    </tr>\n",
       "    <tr>\n",
       "      <th>170</th>\n",
       "      <td>2017-10-17</td>\n",
       "      <td>I wish President Obama didn't get out the way ...</td>\n",
       "      <td>The group’s origins date to 2004.</td>\n",
       "      <td>https://www.nytimes.com/2015/11/19/world/middl...</td>\n",
       "    </tr>\n",
       "    <tr>\n",
       "      <th>171</th>\n",
       "      <td>2017-10-18</td>\n",
       "      <td>Democrat Congresswoman totally fabricated what...</td>\n",
       "      <td>The wife confirmed Representative Frederica Wi...</td>\n",
       "      <td>http://time.com/4993045/myeshia-johnson-donald...</td>\n",
       "    </tr>\n",
       "    <tr>\n",
       "      <th>172</th>\n",
       "      <td>2017-10-18</td>\n",
       "      <td>The Coast Guard in Texas saved 16,000 lives.</td>\n",
       "      <td>The real number was smaller.</td>\n",
       "      <td>https://content.govdelivery.com/accounts/USDHS...</td>\n",
       "    </tr>\n",
       "    <tr>\n",
       "      <th>173</th>\n",
       "      <td>2017-10-18</td>\n",
       "      <td>Nobody has ever heard of a five hitting land.</td>\n",
       "      <td>Category 5 storms have hit land before.</td>\n",
       "      <td>http://www.cnn.com/2017/09/07/us/three-categor...</td>\n",
       "    </tr>\n",
       "    <tr>\n",
       "      <th>174</th>\n",
       "      <td>2017-10-24</td>\n",
       "      <td>Under our plan, more than 30 million Americans...</td>\n",
       "      <td>The real number is estimated to be less than 1...</td>\n",
       "      <td>http://www.businessinsider.com/trump-small-bus...</td>\n",
       "    </tr>\n",
       "    <tr>\n",
       "      <th>175</th>\n",
       "      <td>2017-10-25</td>\n",
       "      <td>We have trade deficits with almost everybody.</td>\n",
       "      <td>We have trade surpluses with more than 100 cou...</td>\n",
       "      <td>https://www.bea.gov/newsreleases/international...</td>\n",
       "    </tr>\n",
       "    <tr>\n",
       "      <th>176</th>\n",
       "      <td>2017-10-27</td>\n",
       "      <td>Wacky &amp; totally unhinged Tom Steyer, who has b...</td>\n",
       "      <td>Steyer has financially supported many winning ...</td>\n",
       "      <td>https://www.opensecrets.org/donor-lookup/resul...</td>\n",
       "    </tr>\n",
       "    <tr>\n",
       "      <th>177</th>\n",
       "      <td>2017-11-01</td>\n",
       "      <td>Again, we're the highest-taxed nation, just ab...</td>\n",
       "      <td>We're not.</td>\n",
       "      <td>http://www.politifact.com/truth-o-meter/statem...</td>\n",
       "    </tr>\n",
       "    <tr>\n",
       "      <th>178</th>\n",
       "      <td>2017-11-07</td>\n",
       "      <td>When you look at the city with the strongest g...</td>\n",
       "      <td>Several other cities, including New York and L...</td>\n",
       "      <td>http://www.politifact.com/truth-o-meter/statem...</td>\n",
       "    </tr>\n",
       "    <tr>\n",
       "      <th>179</th>\n",
       "      <td>2017-11-11</td>\n",
       "      <td>I'd rather have him  – you know, work with him...</td>\n",
       "      <td>There is no evidence that Democrats \"set up\" R...</td>\n",
       "      <td>https://www.nytimes.com/interactive/2017/12/10...</td>\n",
       "    </tr>\n",
       "  </tbody>\n",
       "</table>\n",
       "<p>180 rows × 4 columns</p>\n",
       "</div>"
      ],
      "text/plain": [
       "          date                                                lie  \\\n",
       "0   2017-01-21  I wasn't a fan of Iraq. I didn't want to go in...   \n",
       "1   2017-01-21  A reporter for Time magazine — and I have been...   \n",
       "2   2017-01-23  Between 3 million and 5 million illegal votes ...   \n",
       "3   2017-01-25  Now, the audience was the biggest ever. But th...   \n",
       "4   2017-01-25  Take a look at the Pew reports (which show vot...   \n",
       "5   2017-01-25  You had millions of people that now aren't ins...   \n",
       "6   2017-01-25  So, look, when President Obama was there two w...   \n",
       "7   2017-01-26  We've taken in tens of thousands of people. We...   \n",
       "8   2017-01-26  I cut off hundreds of millions of dollars off ...   \n",
       "9   2017-01-28  The coverage about me in the @nytimes and the ...   \n",
       "10  2017-01-29  The Cuban-Americans, I got 84 percent of that ...   \n",
       "11  2017-01-30  Only 109 people out of 325,000 were detained a...   \n",
       "12  2017-02-03  Professional anarchists, thugs and paid protes...   \n",
       "13  2017-02-04  After being forced to apologize for its bad an...   \n",
       "14  2017-02-05  We had 109 people out of hundreds of thousands...   \n",
       "15  2017-02-06  I have already saved more than $700 million wh...   \n",
       "16  2017-02-06  It's gotten to a point where it is not even be...   \n",
       "17  2017-02-06  The failing @nytimes was forced to apologize t...   \n",
       "18  2017-02-06  And the previous administration allowed it to ...   \n",
       "19  2017-02-07  And yet the murder rate in our country is the ...   \n",
       "20  2017-02-07  I saved more than $600 million. I got involved...   \n",
       "21  2017-02-09  Chris Cuomo, in his interview with Sen. Blumen...   \n",
       "22  2017-02-09  Sen. Richard Blumenthal now misrepresents what...   \n",
       "23  2017-02-10  I don’t know about it. I haven’t seen it. What...   \n",
       "24  2017-02-12  Just leaving Florida. Big crowds of enthusiast...   \n",
       "25  2017-02-16  We got 306 because people came out and voted l...   \n",
       "26  2017-02-16  That’s the other thing that was wrong with the...   \n",
       "27  2017-02-16  Walmart announced it will create 10,000 jobs i...   \n",
       "28  2017-02-16  When WikiLeaks, which I had nothing to do with...   \n",
       "29  2017-02-16  We had a very smooth rollout of the travel ban...   \n",
       "..         ...                                                ...   \n",
       "150 2017-10-03  But that's an expensive plane that you can't s...   \n",
       "151 2017-10-06  I was able to reduce the price of the Lockheed...   \n",
       "152 2017-10-06  We're the highest-taxed developed nation in th...   \n",
       "153 2017-10-06  They also just said that there has been absolu...   \n",
       "154 2017-10-06  This tax cut and tax reform is going very well...   \n",
       "155 2017-10-07       We're the highest-taxed nation in the world.   \n",
       "156 2017-10-07  The Coast Guard, in Texas, and all over, but w...   \n",
       "157 2017-10-07  Obama should have never gotten out the way he ...   \n",
       "158 2017-10-10  The Failing @nytimes set Liddle' Bob Corker up...   \n",
       "159 2017-10-10       We're the highest-taxed nation in the world.   \n",
       "160 2017-10-11  We have missiles that can knock out a missile ...   \n",
       "161 2017-10-16      We're the highest-taxed country in the world.   \n",
       "162 2017-10-16  I hear that Ireland is going to be reducing th...   \n",
       "163 2017-10-16  If you look at President Obama and other presi...   \n",
       "164 2017-10-16  All I can say is it's totally fake news, just ...   \n",
       "165 2017-10-17       We're the highest taxed nation in the world.   \n",
       "166 2017-10-17  Right now, we are the highest-taxed nation any...   \n",
       "167 2017-10-17  As far as I'm concerned, I think we're really ...   \n",
       "168 2017-10-17  We're the highest-taxed nation in the world. W...   \n",
       "169 2017-10-17  Well, we're the highest-taxed nation in the wo...   \n",
       "170 2017-10-17  I wish President Obama didn't get out the way ...   \n",
       "171 2017-10-18  Democrat Congresswoman totally fabricated what...   \n",
       "172 2017-10-18       The Coast Guard in Texas saved 16,000 lives.   \n",
       "173 2017-10-18      Nobody has ever heard of a five hitting land.   \n",
       "174 2017-10-24  Under our plan, more than 30 million Americans...   \n",
       "175 2017-10-25      We have trade deficits with almost everybody.   \n",
       "176 2017-10-27  Wacky & totally unhinged Tom Steyer, who has b...   \n",
       "177 2017-11-01  Again, we're the highest-taxed nation, just ab...   \n",
       "178 2017-11-07  When you look at the city with the strongest g...   \n",
       "179 2017-11-11  I'd rather have him  – you know, work with him...   \n",
       "\n",
       "                                           explanation  \\\n",
       "0     He was for an invasion before he was against it.   \n",
       "1    Trump was on the cover 11 times and Nixon appe...   \n",
       "2               There's no evidence of illegal voting.   \n",
       "3    Official aerial photos show Obama's 2009 inaug...   \n",
       "4              The report never mentioned voter fraud.   \n",
       "5    The real number is less than 1 million, accord...   \n",
       "6    There were no gun homicide victims in Chicago ...   \n",
       "7                       Vetting lasts up to two years.   \n",
       "8               Most of the cuts were already planned.   \n",
       "9                                 It never apologized.   \n",
       "10                       There is no support for this.   \n",
       "11   At least 746 people were detained and processe...   \n",
       "12            There is no evidence of paid protesters.   \n",
       "13                                It never apologized.   \n",
       "14                  About 60,000 people were affected.   \n",
       "15   Much of the price drop was projected before Tr...   \n",
       "16    Terrorism has been reported on, often in detail.   \n",
       "17                                It didn't apologize.   \n",
       "18                   The group’s origins date to 2004.   \n",
       "19                It was higher in the 1980s and '90s.   \n",
       "20   The Defense Department projected this price dr...   \n",
       "21              It was part of Cuomo's first question.   \n",
       "22       The Gorsuch comments were later corroborated.   \n",
       "23         Trump knew about Flynn's actions for weeks.   \n",
       "24                             The media did cover it.   \n",
       "25   George H.W. Bush, Bill Clinton and Barack Obam...   \n",
       "26           Delta's problems happened two days later.   \n",
       "27   The jobs are a result of its investment plans ...   \n",
       "28   Not always. They have released classified info...   \n",
       "29                            The rollout was chaotic.   \n",
       "..                                                 ...   \n",
       "150  The cost cuts were planned before he became pr...   \n",
       "151  The cost cuts were planned before he became pr...   \n",
       "152                                         We're not.   \n",
       "153                        The Senate didn't say that.   \n",
       "154                                         We're not.   \n",
       "155                                         We're not.   \n",
       "156                        The real number is smaller.   \n",
       "157                  The group’s origins date to 2004.   \n",
       "158  Corker asked the Times reporter to record the ...   \n",
       "159                                         We're not.   \n",
       "160        The effectiveness rate is about 60 percent.   \n",
       "161                                         We're not.   \n",
       "162          Ireland has no plans to cut its tax rate.   \n",
       "163  They did call families of soldiers killed in a...   \n",
       "164     Trump himself has bragged about groping women.   \n",
       "165                                         We're not.   \n",
       "166                                         We're not.   \n",
       "167  Taxes in the U.S. are lower than in most devel...   \n",
       "168                                         We're not.   \n",
       "169                                         We're not.   \n",
       "170                  The group’s origins date to 2004.   \n",
       "171  The wife confirmed Representative Frederica Wi...   \n",
       "172                       The real number was smaller.   \n",
       "173            Category 5 storms have hit land before.   \n",
       "174  The real number is estimated to be less than 1...   \n",
       "175  We have trade surpluses with more than 100 cou...   \n",
       "176  Steyer has financially supported many winning ...   \n",
       "177                                         We're not.   \n",
       "178  Several other cities, including New York and L...   \n",
       "179  There is no evidence that Democrats \"set up\" R...   \n",
       "\n",
       "                                                   url  \n",
       "0    https://www.buzzfeed.com/andrewkaczynski/in-20...  \n",
       "1    http://nation.time.com/2013/11/06/10-things-yo...  \n",
       "2    https://www.nytimes.com/2017/01/23/us/politics...  \n",
       "3    https://www.nytimes.com/2017/01/21/us/politics...  \n",
       "4    https://www.nytimes.com/2017/01/24/us/politics...  \n",
       "5    https://www.nytimes.com/2017/03/13/us/politics...  \n",
       "6    https://www.dnainfo.com/chicago/2017-chicago-m...  \n",
       "7    https://www.nytimes.com/interactive/2017/01/29...  \n",
       "8    https://www.washingtonpost.com/news/fact-check...  \n",
       "9    https://www.nytimes.com/2016/11/13/us/election...  \n",
       "10   http://www.pewresearch.org/fact-tank/2016/11/1...  \n",
       "11   http://markets.on.nytimes.com/research/stocks/...  \n",
       "12   https://www.nytimes.com/2017/01/28/nyregion/jf...  \n",
       "13   https://www.nytimes.com/2016/11/13/us/election...  \n",
       "14   http://www.politifact.com/truth-o-meter/statem...  \n",
       "15   https://www.washingtonpost.com/news/fact-check...  \n",
       "16   https://www.nytimes.com/2017/02/07/us/politics...  \n",
       "17   https://www.nytimes.com/2016/11/13/us/election...  \n",
       "18   https://www.nytimes.com/2015/11/19/world/middl...  \n",
       "19   http://www.politifact.com/truth-o-meter/statem...  \n",
       "20   https://www.washingtonpost.com/news/fact-check...  \n",
       "21   http://transcripts.cnn.com/TRANSCRIPTS/1702/09...  \n",
       "22   https://www.washingtonpost.com/news/fact-check...  \n",
       "23   http://www.factcheck.org/2017/02/trump-spins-f...  \n",
       "24   http://www.palmbeachpost.com/news/national-gov...  \n",
       "25   https://www.nytimes.com/2017/02/16/us/politics...  \n",
       "26   https://www.washingtonpost.com/news/fact-check...  \n",
       "27   https://www.nytimes.com/interactive/2017/busin...  \n",
       "28   http://www.politifact.com/truth-o-meter/articl...  \n",
       "29   https://www.washingtonpost.com/news/fact-check...  \n",
       "..                                                 ...  \n",
       "150  https://www.washingtonpost.com/news/fact-check...  \n",
       "151  https://www.washingtonpost.com/news/fact-check...  \n",
       "152  http://www.politifact.com/truth-o-meter/statem...  \n",
       "153  http://www.cnn.com/TRANSCRIPTS/1710/04/ip.02.html  \n",
       "154  http://www.politifact.com/truth-o-meter/statem...  \n",
       "155  http://www.politifact.com/truth-o-meter/statem...  \n",
       "156  https://content.govdelivery.com/accounts/USDHS...  \n",
       "157  https://www.nytimes.com/2015/11/19/world/middl...  \n",
       "158  https://www.nytimes.com/2017/10/10/reader-cent...  \n",
       "159  http://www.politifact.com/truth-o-meter/statem...  \n",
       "160  https://warontherocks.com/2017/10/deadly-overc...  \n",
       "161  http://www.politifact.com/truth-o-meter/statem...  \n",
       "162          https://www.snopes.com/trump-ireland-tax/  \n",
       "163  https://www.nytimes.com/2017/10/16/us/politics...  \n",
       "164  https://www.washingtonpost.com/news/fact-check...  \n",
       "165  http://www.politifact.com/truth-o-meter/statem...  \n",
       "166  http://www.politifact.com/truth-o-meter/statem...  \n",
       "167  http://www.politifact.com/truth-o-meter/statem...  \n",
       "168  http://www.politifact.com/truth-o-meter/statem...  \n",
       "169  http://www.politifact.com/truth-o-meter/statem...  \n",
       "170  https://www.nytimes.com/2015/11/19/world/middl...  \n",
       "171  http://time.com/4993045/myeshia-johnson-donald...  \n",
       "172  https://content.govdelivery.com/accounts/USDHS...  \n",
       "173  http://www.cnn.com/2017/09/07/us/three-categor...  \n",
       "174  http://www.businessinsider.com/trump-small-bus...  \n",
       "175  https://www.bea.gov/newsreleases/international...  \n",
       "176  https://www.opensecrets.org/donor-lookup/resul...  \n",
       "177  http://www.politifact.com/truth-o-meter/statem...  \n",
       "178  http://www.politifact.com/truth-o-meter/statem...  \n",
       "179  https://www.nytimes.com/interactive/2017/12/10...  \n",
       "\n",
       "[180 rows x 4 columns]"
      ]
     },
     "execution_count": 65,
     "metadata": {},
     "output_type": "execute_result"
    }
   ],
   "source": [
    "df = pd.read_csv('trump_lies.csv', parse_dates=['date'], encoding='utf-8')\n",
    "df"
   ]
  },
  {
   "cell_type": "code",
   "execution_count": 66,
   "metadata": {},
   "outputs": [
    {
     "name": "stdout",
     "output_type": "stream",
     "text": [
      "<class 'pandas.core.frame.DataFrame'>\n",
      "RangeIndex: 180 entries, 0 to 179\n",
      "Data columns (total 4 columns):\n",
      "date           180 non-null datetime64[ns]\n",
      "lie            180 non-null object\n",
      "explanation    180 non-null object\n",
      "url            180 non-null object\n",
      "dtypes: datetime64[ns](1), object(3)\n",
      "memory usage: 5.7+ KB\n"
     ]
    }
   ],
   "source": [
    "df.info()"
   ]
  },
  {
   "cell_type": "markdown",
   "metadata": {},
   "source": [
    "\n",
    "## Alternative syntax for Beautiful Soup\n",
    "It's worth noting that Beautiful Soup actually offers multiple ways to express the same command. I tend to use the most verbose option, since I think it makes the code readable, but it's useful to be able to recognize the alternative syntax since you might see it used elsewhere.\n",
    "\n",
    "For example, you can search for a tag by accessing it like an attribute:"
   ]
  },
  {
   "cell_type": "code",
   "execution_count": 67,
   "metadata": {},
   "outputs": [
    {
     "data": {
      "text/plain": [
       "<strong>Jan. 21 </strong>"
      ]
     },
     "execution_count": 67,
     "metadata": {},
     "output_type": "execute_result"
    }
   ],
   "source": [
    "# search for a tag by name\n",
    "first_result.find('strong')\n",
    "\n",
    "# shorter alternative: access it like an attribute\n",
    "first_result.strong"
   ]
  },
  {
   "cell_type": "markdown",
   "metadata": {},
   "source": [
    "You can also search for multiple tags a few different ways:"
   ]
  },
  {
   "cell_type": "code",
   "execution_count": 69,
   "metadata": {},
   "outputs": [],
   "source": [
    "# search for multiple tags by name and attribute\n",
    "results = soup.find_all('span', attrs={'class':'short-desc'})\n",
    "\n",
    "# shorter alternative: if you don't specify a method, it's assumed to be find_all()\n",
    "results = soup('span', attrs={'class':'short-desc'})\n",
    "\n",
    "# even shorter alternative: you can specify the attribute as if it's a parameter\n",
    "results = soup('span', class_='short-desc')"
   ]
  }
 ],
 "metadata": {
  "kernelspec": {
   "display_name": "Python 3",
   "language": "python",
   "name": "python3"
  },
  "language_info": {
   "codemirror_mode": {
    "name": "ipython",
    "version": 3
   },
   "file_extension": ".py",
   "mimetype": "text/x-python",
   "name": "python",
   "nbconvert_exporter": "python",
   "pygments_lexer": "ipython3",
   "version": "3.6.8"
  }
 },
 "nbformat": 4,
 "nbformat_minor": 2
}
