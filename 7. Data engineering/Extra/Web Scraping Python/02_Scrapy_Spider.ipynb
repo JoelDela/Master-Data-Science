{
 "cells": [
  {
   "cell_type": "markdown",
   "metadata": {},
   "source": [
    "# Scrapy\n",
    "### Proceso\n",
    "1. URL: Tener una Url semilla\n",
    "2. Request: Realizo los requerimientos\n",
    "3. Response: Obtengo una respuesta\n",
    "4. Populate Items: Obtengo la información que deseo de la respuesta\n",
    "5. More Urls: Ir a más Urls a partir de la Url semilla\n",
    "6. Repetimos proceso\n",
    "\n",
    "### Tipos\n",
    "\n",
    "- A uno sola página web: scrapy.spiders.Spider\n",
    "- A varias páginas web: scrapy.spiders.CrawlSpider\n",
    "    - Crawling Horizontal: pag 1, pag 2, pag 3....\n",
    "    - Crawling Vertical: items en pag 1, items en pag 2, items en pag 3..."
   ]
  },
  {
   "cell_type": "code",
   "execution_count": 4,
   "metadata": {},
   "outputs": [],
   "source": [
    "# Importing Libraries\n",
    "from scrapy.item import Field\n",
    "from scrapy.item import Item\n",
    "from scrapy.spiders import Spider\n",
    "from scrapy.selector import Selector\n",
    "from scrapy.loader import ItemLoader"
   ]
  },
  {
   "cell_type": "markdown",
   "metadata": {},
   "source": [
    "### Extraer Información de StackOverFlow: Preguntas"
   ]
  },
  {
   "cell_type": "code",
   "execution_count": null,
   "metadata": {},
   "outputs": [],
   "source": [
    "# First of all: We have to define the Item structure\n",
    "class Pregunta(Item):\n",
    "    # Definimos Atributos: Campos de nuestro Item. Pregunta y id (id para las preguntas que vamos a definir)\n",
    "    pregunta = Field()\n",
    "    id = Field()\n",
    "    \n",
    "# Vamos a implementar el Spider\n",
    "class StackOverFlowSpider(Spider):\n",
    "    # Definimos Atributos. Nombre, url semilla\n",
    "    name = 'MiprimerSpider'\n",
    "    start_urls = ['https://stackoverflow.com/']\n",
    "    # Definimos método Parse: con la response de la semilla en formato xml\n",
    "    def parse(self, response):\n",
    "        sel = Selector(response)\n",
    "        preguntas = sel.xpath('//div[@id=\"question-mini-list\"]/div/div') # Es una lista de las preguntas\n",
    "        \n",
    "        # Iterar sobre todas las preguntas\n",
    "        for i, elem in enumerate(preguntas):\n",
    "            # Por cada pregunta tengo que crear mi item\n",
    "            item = ItemLoader(Pregunta(),elem)\n",
    "            item.add_xpath('pregunta','.//h3/a/text()')\n",
    "            item.add_value('id',i)\n",
    "            yield item.load_item()"
   ]
  },
  {
   "cell_type": "code",
   "execution_count": 10,
   "metadata": {},
   "outputs": [
    {
     "data": {
      "text/html": [
       "<div>\n",
       "<style scoped>\n",
       "    .dataframe tbody tr th:only-of-type {\n",
       "        vertical-align: middle;\n",
       "    }\n",
       "\n",
       "    .dataframe tbody tr th {\n",
       "        vertical-align: top;\n",
       "    }\n",
       "\n",
       "    .dataframe thead th {\n",
       "        text-align: right;\n",
       "    }\n",
       "</style>\n",
       "<table border=\"1\" class=\"dataframe\">\n",
       "  <thead>\n",
       "    <tr style=\"text-align: right;\">\n",
       "      <th></th>\n",
       "      <th>author</th>\n",
       "      <th>id</th>\n",
       "      <th>pregunta</th>\n",
       "    </tr>\n",
       "  </thead>\n",
       "  <tbody>\n",
       "    <tr>\n",
       "      <th>0</th>\n",
       "      <td>NaN</td>\n",
       "      <td>[0]</td>\n",
       "      <td>Angular 7 - Trigger FormControl validation man...</td>\n",
       "    </tr>\n",
       "    <tr>\n",
       "      <th>1</th>\n",
       "      <td>NaN</td>\n",
       "      <td>[1]</td>\n",
       "      <td>Change Mouse Wheel event on Window Object to p...</td>\n",
       "    </tr>\n",
       "    <tr>\n",
       "      <th>2</th>\n",
       "      <td>NaN</td>\n",
       "      <td>[2]</td>\n",
       "      <td>How to create a single-window GUI</td>\n",
       "    </tr>\n",
       "    <tr>\n",
       "      <th>3</th>\n",
       "      <td>NaN</td>\n",
       "      <td>[3]</td>\n",
       "      <td>Image cannot be set with ImageSource.FromStream</td>\n",
       "    </tr>\n",
       "    <tr>\n",
       "      <th>4</th>\n",
       "      <td>NaN</td>\n",
       "      <td>[4]</td>\n",
       "      <td>Allocating a Type so it Matches a Variables Type</td>\n",
       "    </tr>\n",
       "  </tbody>\n",
       "</table>\n",
       "</div>"
      ],
      "text/plain": [
       "   author   id                                           pregunta\n",
       "0     NaN  [0]  Angular 7 - Trigger FormControl validation man...\n",
       "1     NaN  [1]  Change Mouse Wheel event on Window Object to p...\n",
       "2     NaN  [2]                  How to create a single-window GUI\n",
       "3     NaN  [3]    Image cannot be set with ImageSource.FromStream\n",
       "4     NaN  [4]   Allocating a Type so it Matches a Variables Type"
      ]
     },
     "execution_count": 10,
     "metadata": {},
     "output_type": "execute_result"
    }
   ],
   "source": [
    "import pandas as pd\n",
    "df = pd.read_csv('./stackoverflow.csv')\n",
    "df.head()"
   ]
  },
  {
   "cell_type": "code",
   "execution_count": null,
   "metadata": {},
   "outputs": [],
   "source": []
  }
 ],
 "metadata": {
  "kernelspec": {
   "display_name": "Python 3",
   "language": "python",
   "name": "python3"
  },
  "language_info": {
   "codemirror_mode": {
    "name": "ipython",
    "version": 3
   },
   "file_extension": ".py",
   "mimetype": "text/x-python",
   "name": "python",
   "nbconvert_exporter": "python",
   "pygments_lexer": "ipython3",
   "version": "3.6.8"
  }
 },
 "nbformat": 4,
 "nbformat_minor": 2
}
