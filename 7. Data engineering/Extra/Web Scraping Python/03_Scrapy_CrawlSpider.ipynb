{
 "cells": [
  {
   "cell_type": "markdown",
   "metadata": {},
   "source": [
    "# CrawlSpider"
   ]
  },
  {
   "cell_type": "code",
   "execution_count": 2,
   "metadata": {},
   "outputs": [],
   "source": [
    "# Importing Libraries\n",
    "from scrapy.item import Field\n",
    "from scrapy.item import Item\n",
    "from scrapy.spiders import CrawlSpider, Rule\n",
    "from scrapy.loader import ItemLoader\n",
    "from scrapy.linkextractors import LinkExtractor\n",
    "from scrapy.loader.processors import MapCompose"
   ]
  },
  {
   "cell_type": "code",
   "execution_count": null,
   "metadata": {},
   "outputs": [],
   "source": [
    "# Definimos Items\n",
    "class AirbnbItem(Item):\n",
    "    # Definimos Atributos\n",
    "    tipo = Field()\n",
    "    capacidad = Field()\n",
    "    \n",
    "class AirbnbCrawler(CrawlSpider):\n",
    "    name = 'MiprimerCrawler'\n",
    "    start_urls = 'https://www.airbnb.com/s/Londres--Reino-Unido/homes?refinement_paths%5B%5D=%2Fhomes&query=Londres%2C%20Reino%20Unido&allow_override%5B%5D=&map_toggle=true&s_tag=I4p1k64_'\n",
    "    allowed_domains = ['airbnb.com'] # para evitar que spider salga de este dominio\n",
    "    \n",
    "    # Atributo Rules para hacer scraping vertical y horizontal\n",
    "    rules = (\n",
    "        Rule(LinkExtractor(allow=r'&section_offset=8&items_offset=')),\n",
    "        Rule(LinkExtractor(allow=r'/rooms'), callback= 'parse_items')\n",
    "    )\n",
    "    \n",
    "    def parse_items(self,response):\n",
    "        item = ItemLoader(AirbnbItem(),response)\n",
    "        item.add_xpath('tipo', '/html/body/div[3]/div/main/div/section/div/div[2]/div/div[2]/div[1]/div/div/div[3]/div/div/div[1]/div[2]/div[1]/text()')\n",
    "        item.add_xpath('capacidad','/html/body/div[3]/div/main/div/section/div/div[2]/div/div[2]/div[1]/div/div/div[3]/div/div/div[1]/div[2]/div[2]/div[1]/text()', MapCompose(lambda i: i[0:2]))\n",
    "        yield item.load_item()\n",
    "    \n"
   ]
  }
 ],
 "metadata": {
  "kernelspec": {
   "display_name": "Python 3",
   "language": "python",
   "name": "python3"
  },
  "language_info": {
   "codemirror_mode": {
    "name": "ipython",
    "version": 3
   },
   "file_extension": ".py",
   "mimetype": "text/x-python",
   "name": "python",
   "nbconvert_exporter": "python",
   "pygments_lexer": "ipython3",
   "version": "3.6.8"
  }
 },
 "nbformat": 4,
 "nbformat_minor": 2
}
