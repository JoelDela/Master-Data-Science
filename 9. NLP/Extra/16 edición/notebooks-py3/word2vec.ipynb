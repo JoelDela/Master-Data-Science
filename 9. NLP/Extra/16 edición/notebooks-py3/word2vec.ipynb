{
 "cells": [
  {
   "cell_type": "markdown",
   "metadata": {},
   "source": [
    "# Ejemplo de `word2vec` con `gensim`\n",
    "\n",
    "\n",
    "En la siguiente celda, importamos las librerías necesarias y configuramos los mensajes de los logs."
   ]
  },
  {
   "cell_type": "code",
   "execution_count": null,
   "metadata": {
    "collapsed": true
   },
   "outputs": [],
   "source": [
    "import gensim, logging, os\n",
    "logging.basicConfig(format='%(asctime)s : %(levelname)s : %(message)s', level=logging.INFO)"
   ]
  },
  {
   "cell_type": "markdown",
   "metadata": {},
   "source": [
    "## Entrenamiento de un modelo\n",
    "\n",
    "Implemento una clase `Corpus` con un iterador sobre un directorio que contiene ficheros de texto. Utilizaré una instancia de `Corpus` para poder procesar de manera más eficiente una colección, sin necesidad de cargarlo previamente en memoria."
   ]
  },
  {
   "cell_type": "code",
   "execution_count": null,
   "metadata": {
    "collapsed": true
   },
   "outputs": [],
   "source": [
    "class Corpus(object):\n",
    "    '''Clase Corpus que permite leer de manera secuencial un directorio de documentos de texto'''\n",
    "    \n",
    "    def __init__(self, directorio):\n",
    "        self.directory = directorio\n",
    "\n",
    "    def __iter__(self):\n",
    "        for fichero in os.listdir(self.directory):\n",
    "            for linea in open(os.path.join(self.directory, fichero)):\n",
    "                yield linea.split()\n"
   ]
  },
  {
   "cell_type": "markdown",
   "metadata": {},
   "source": [
    "`CORPUSDIR` contiene una colección de noticias en español (normalizada previamente a minúsculas y sin signos de puntuación) con alrededor de 150 millones de palabras. Entrenamos un modelo en un solo paso, ignorando aquellos tokens que aparecen menos de 10 veces, para descartar erratas. "
   ]
  },
  {
   "cell_type": "code",
   "execution_count": null,
   "metadata": {
    "collapsed": true,
    "scrolled": true
   },
   "outputs": [],
   "source": [
    "CORPUSDIR = 'PATH_TO_YOUR_CORPUS_DIRECTORY'\n",
    "oraciones = Corpus(CORPUSDIR)\n",
    "model = gensim.models.Word2Vec(oraciones, min_count=10, size=150, workers=2)\n",
    "\n",
    "# el modelo puede entrenarse en dos pasos sucesivos pero por separado\n",
    "#model = gensim.models.Word2Vec() # modelo vacío\n",
    "#model.build_vocab(oraciones)  # primera pasada para crear la lista de vocabulario\n",
    "#model.train(other_sentences)  # segunda pasada para calcula vectores"
   ]
  },
  {
   "cell_type": "markdown",
   "metadata": {},
   "source": [
    "Una vez completado el entrenamiento (después de casi 30 minutos), guardamos el modelo en disco. "
   ]
  },
  {
   "cell_type": "code",
   "execution_count": null,
   "metadata": {
    "collapsed": true
   },
   "outputs": [],
   "source": [
    "model.save('PATH_TO_YOUR_MODEL.w2v')"
   ]
  },
  {
   "cell_type": "markdown",
   "metadata": {},
   "source": [
    "En el futuro, podremos utilizar este modelo cargándolo en memoria con la instrucción:"
   ]
  },
  {
   "cell_type": "code",
   "execution_count": 10,
   "metadata": {},
   "outputs": [
    {
     "name": "stderr",
     "output_type": "stream",
     "text": [
      "2017-07-15 13:16:21,646 : INFO : loading Word2Vec object from /data/w2v/efe.model.w2v\n",
      "2017-07-15 13:16:24,352 : INFO : loading syn1 from /data/w2v/efe.model.w2v.syn1.npy with mmap=None\n",
      "2017-07-15 13:16:24,485 : INFO : loading syn0 from /data/w2v/efe.model.w2v.syn0.npy with mmap=None\n",
      "2017-07-15 13:16:24,603 : INFO : setting ignored attribute syn0norm to None\n",
      "2017-07-15 13:16:24,607 : INFO : setting ignored attribute cum_table to None\n",
      "2017-07-15 13:16:24,609 : INFO : loaded /data/w2v/efe.model.w2v\n"
     ]
    }
   ],
   "source": [
    "#model = gensim.models.Word2Vec.load('PATH_TO_YOUR_MODEL.w2v')\n",
    "#model = gensim.models.Word2Vec.load('/data/w2v/eswiki-280.w2v')\n",
    "model = gensim.models.Word2Vec.load('/data/w2v/efe.model.w2v')\n"
   ]
  },
  {
   "cell_type": "markdown",
   "metadata": {},
   "source": [
    "## Probando nuestro modelo\n",
    "\n",
    "El objeto `model` contiene una enorme matriz de números: una tabla, donde cada fila es uno de los términos del vocabulario reconocido y cada columna es una de las características que permiten modelar el significado de dicho término.\n",
    "\n",
    "En nuestro modelo, tal y como está entrenado, tenemos más de 26 millones de términos:"
   ]
  },
  {
   "cell_type": "code",
   "execution_count": 11,
   "metadata": {},
   "outputs": [
    {
     "name": "stdout",
     "output_type": "stream",
     "text": [
      "26522244\n"
     ]
    }
   ],
   "source": [
    "print(model.corpus_count)"
   ]
  },
  {
   "cell_type": "markdown",
   "metadata": {},
   "source": [
    "Cada término del vocabulario está representado como un vector con 150 dimensiones: 105 características. Podemos acceder al vector de un término concreto:"
   ]
  },
  {
   "cell_type": "code",
   "execution_count": 4,
   "metadata": {},
   "outputs": [
    {
     "name": "stdout",
     "output_type": "stream",
     "text": [
      "[  4.96991217e-01   8.55721772e-01   6.82879806e-01  -4.14421827e-01\n",
      "   1.72151077e+00  -8.15706775e-02  -3.84779096e-01   2.39795947e+00\n",
      "  -1.08219063e+00   2.05436572e-01  -1.08851862e+00  -1.52230406e+00\n",
      "  -3.02234702e-02   1.71446276e+00   9.03053999e-01   5.00934906e-02\n",
      "  -2.77492136e-01   6.52989566e-01   2.99589902e-01  -1.67158830e+00\n",
      "   7.22501874e-01   1.72892824e-01   2.41062713e+00  -1.96764266e+00\n",
      "  -2.54679441e+00   3.38947445e-01   3.77230197e-01  -2.00717807e+00\n",
      "  -1.37975141e-01   1.50688481e+00   9.42857385e-01   1.03348625e+00\n",
      "  -3.24400783e+00   3.71784419e-01  -9.88212645e-01  -1.13850737e+00\n",
      "   1.25355625e+00  -1.97994685e+00  -1.87854564e+00   1.29538226e+00\n",
      "  -7.06246436e-01   1.55038989e+00   3.01234293e+00   7.06765711e-01\n",
      "  -4.44420457e-01  -1.43686986e+00  -2.71735215e+00   1.69624233e+00\n",
      "   1.35413718e+00   6.97062194e-01   1.51717079e+00   1.42068231e+00\n",
      "   4.78212088e-01   2.25567269e+00   6.34011805e-01   1.51526082e+00\n",
      "  -5.22151649e-01  -1.78797102e+00   2.67135262e-01   4.13583934e-01\n",
      "  -4.50551808e-01   6.93174958e-01  -1.65855992e+00   8.05867791e-01\n",
      "   2.53558803e+00   3.06102812e-01   5.20848148e-02   1.36924529e+00\n",
      "  -8.45425546e-01   1.96513891e+00   2.80132622e-01   2.21849516e-01\n",
      "   1.12463725e+00   8.14197063e-01  -2.10576463e+00   4.66058195e-01\n",
      "   2.19719434e+00   5.51253676e-01  -9.81268764e-01  -2.64374167e-01\n",
      "   1.27511704e+00  -1.13489783e+00   1.19162738e+00  -4.54581119e-02\n",
      "   4.74716336e-01   5.78215301e-01   2.44886112e+00   9.24993217e-01\n",
      "   1.05074549e+00  -2.73456454e+00  -1.75041723e+00  -1.53888178e+00\n",
      "  -3.51678282e-01   4.07668889e-01   1.90377271e+00  -2.78565502e+00\n",
      "   5.74852645e-01   2.36479878e+00  -1.49805129e-01  -1.52760565e+00\n",
      "  -1.30133772e+00   1.62422800e+00   2.08130097e+00  -9.64287639e-01\n",
      "   1.65830684e+00  -5.42273343e-01  -7.04023540e-02   9.05722797e-01\n",
      "  -3.10603589e-01  -3.77792329e-01   1.42540264e+00   1.74704969e+00\n",
      "  -6.55371666e-01   1.42730403e+00   1.44485354e+00   1.74002934e+00\n",
      "   1.39791489e+00  -1.25632310e+00  -9.13827538e-01   1.34520769e+00\n",
      "  -1.65143058e-01  -4.02599394e-01   2.75821507e-01   1.58071411e+00\n",
      "  -8.49993110e-01   4.09272134e-01  -1.40257072e+00   8.64413261e-01\n",
      "  -2.09131733e-01   5.63809931e-01  -1.71220779e+00   1.09295905e-01\n",
      "  -1.07902062e+00   8.14720020e-02  -1.28595591e+00   2.05299139e+00\n",
      "  -6.69551253e-01  -8.83290529e-01  -7.54983664e-01  -1.42850518e+00\n",
      "  -2.54760194e+00  -1.89726686e+00   1.96262747e-01   1.00061989e+00\n",
      "   4.44453210e-01  -7.16516495e-01  -9.08774018e-01   1.02682400e+00\n",
      "   1.06130445e+00   3.10547066e+00   6.23249710e-01   1.37432861e+00\n",
      "  -2.50440955e+00  -1.30821122e-02   2.23066783e+00  -6.19417131e-01\n",
      "  -4.39483136e-01   8.61078978e-01   1.16741931e+00  -1.91686857e+00\n",
      "  -1.12106609e+00   8.88204932e-01   2.18334818e+00   1.34172833e+00\n",
      "   3.10149298e-05  -6.37912691e-01   4.26502228e-01   7.85322070e-01\n",
      "  -1.52376068e+00   7.25557029e-01   5.66918433e-01  -7.01802075e-02\n",
      "  -1.25080332e-01  -1.31516889e-01   2.33044267e+00   1.82258439e+00\n",
      "  -9.44441795e-01  -1.41360641e+00  -1.65404224e+00  -3.95735204e-01\n",
      "  -1.16740286e+00   2.25534344e+00   1.33185431e-01   1.47077978e-01\n",
      "   2.70642304e+00   1.74204504e+00  -2.05660880e-01   8.88655543e-01\n",
      "   3.29894513e-01   2.48002481e+00   1.17316115e+00   2.60945082e+00\n",
      "  -2.07123184e+00   1.24204040e+00   8.52463186e-01   4.80000108e-01\n",
      "   3.00313085e-01   2.25717735e+00  -8.24206114e-01  -2.09410405e+00\n",
      "   1.04212487e+00  -1.19745660e+00   2.50189471e+00  -2.76461339e+00\n",
      "   1.37050998e+00   9.17944610e-01   2.89679694e+00  -8.60246062e-01\n",
      "  -1.94543362e+00   9.37175304e-02  -1.31540954e+00  -1.55714595e+00\n",
      "   1.10156322e+00  -3.48867059e+00  -3.95604759e-01  -1.18974113e+00\n",
      "  -2.12003469e+00  -1.46774018e+00  -2.66937077e-01   7.96494961e-01\n",
      "  -2.08358622e+00   5.41066408e-01   5.17057240e-01  -1.21265340e+00\n",
      "  -8.58839333e-01   2.47152805e-01   3.52757722e-01   2.67588663e+00\n",
      "   2.10674644e+00   1.80575967e+00   3.67384225e-01   7.39208877e-01\n",
      "  -1.56317040e-01  -6.45037413e-01   8.80338490e-01   1.67190409e+00\n",
      "  -7.97831595e-01   1.61903000e+00  -5.73429227e-01   6.40661478e-01\n",
      "  -5.58784008e-01   2.45420361e+00   9.17948961e-01  -6.08584762e-01\n",
      "  -1.21432394e-01   1.27063751e+00   2.12258667e-01   6.54593825e-01\n",
      "   2.81759930e+00  -2.94222295e-01  -1.21580386e+00  -1.42220899e-01\n",
      "   1.65898204e+00  -2.27588750e-02   8.30889285e-01   1.27719477e-01\n",
      "  -3.41600925e-01   2.17948413e+00   1.74517751e-01  -3.30126047e-01\n",
      "  -5.42337835e-01   4.98016506e-01  -1.42445564e-01   1.06210744e+00\n",
      "   1.82828212e+00   9.10052359e-01   8.17385197e-01   7.00760424e-01\n",
      "   5.48933685e-01   1.71558726e+00  -8.76980603e-01   1.15512788e+00\n",
      "  -9.47628498e-01  -5.19615412e-01  -1.24835658e+00   9.39480901e-01\n",
      "  -6.70368731e-01   3.25832278e-01  -1.47121894e+00  -4.69515026e-02] \n",
      "\n",
      "[  9.27958786e-01   4.74648058e-01   5.29486299e-01   4.76318508e-01\n",
      "  -1.34141698e-01  -9.44554925e-01  -5.79860747e-01   2.11218452e+00\n",
      "  -1.90899026e+00   1.38061631e+00  -4.33145672e-01  -1.05902421e+00\n",
      "  -1.81311023e+00   8.89128923e-01   6.97204232e-01  -6.80938423e-01\n",
      "  -2.97885239e-01   1.20582545e+00   2.24903083e+00  -1.20832419e+00\n",
      "  -8.73681307e-01  -1.08755898e+00   1.24867809e+00  -1.50230336e+00\n",
      "  -1.76099825e+00   4.38176095e-02   7.10470527e-02  -1.37114668e+00\n",
      "   2.30365875e-03   1.72743630e+00  -6.54775381e-01   5.53066134e-01\n",
      "  -2.93264627e+00  -5.58381915e-01   4.73555893e-01  -1.50108647e+00\n",
      "  -1.28146172e+00  -1.60986471e+00  -1.60210419e+00   2.79216623e+00\n",
      "  -7.24131644e-01   1.49314177e+00   3.18134570e+00   5.85208416e-01\n",
      "  -1.06200600e+00  -3.28554225e+00  -9.78333950e-01  -2.34913558e-01\n",
      "   8.49159718e-01   5.85165247e-02   1.01245487e+00  -9.61979628e-02\n",
      "   1.97930843e-01   2.14000797e+00   1.83424687e+00   8.92797470e-01\n",
      "   7.46026099e-01  -6.85585260e-01  -3.43435168e-01  -6.25111610e-02\n",
      "   9.45053518e-01   3.24040711e-01   1.82580218e-01   5.40071845e-01\n",
      "   1.70339203e+00  -1.35483956e+00  -5.71927190e-01   2.01375365e+00\n",
      "   9.89673555e-01   6.07523978e-01   3.58266622e-01   6.32750213e-01\n",
      "  -7.83909410e-02   1.42666268e+00  -2.05568790e+00   6.61846220e-01\n",
      "   9.02229071e-01  -1.28024364e+00   7.17603564e-01   2.50369310e-01\n",
      "   2.06085995e-01  -7.00318992e-01   3.11469531e+00   1.20253849e+00\n",
      "   2.63729000e+00   1.63166595e+00   1.83836639e+00   5.01099348e-01\n",
      "   2.02016973e+00  -7.26986170e-01  -2.16470933e+00  -2.72684515e-01\n",
      "  -1.86498725e+00   6.92537010e-01   8.27462494e-01  -2.58318090e+00\n",
      "   1.76665914e+00   1.64405954e+00  -4.63453889e-01   2.14099959e-02\n",
      "  -1.75803936e+00   2.69136238e+00   1.91699195e+00  -2.09610796e+00\n",
      "   3.54644477e-01  -1.92359149e+00  -6.34521008e-01  -1.44217163e-01\n",
      "  -1.48839700e+00   1.08562255e+00   3.04130614e-01   4.16317225e-01\n",
      "   1.19695127e+00   1.84888554e+00   9.33767080e-01   1.97695684e+00\n",
      "   1.00746250e+00   4.18322198e-02   1.17448688e+00   6.02791607e-01\n",
      "  -4.87290651e-01   1.92509055e-01   9.23438668e-01   7.18964696e-01\n",
      "  -8.30342472e-01   6.64118230e-01  -8.76467347e-01  -2.06585616e-01\n",
      "  -3.32697965e-02  -2.10247505e-02  -1.40477681e+00   4.44231600e-01\n",
      "  -1.62875915e+00  -1.24589241e+00  -4.24450010e-01  -6.17018975e-02\n",
      "  -5.53541005e-01  -2.65065789e+00  -1.27068233e+00  -1.39160335e-01\n",
      "  -1.27559447e+00  -1.04896033e+00   7.35019088e-01  -1.43161267e-01\n",
      "   8.26078773e-01  -2.58950174e-01  -1.01276898e+00   1.24025702e+00\n",
      "   1.41061187e+00   1.44265378e+00  -4.96579021e-01  -1.60055026e-01\n",
      "  -3.38075638e+00   1.81963116e-01   1.08934832e+00  -4.27053899e-01\n",
      "  -1.72059983e-01   1.74450919e-01   1.67202759e+00  -2.31612229e+00\n",
      "  -1.22789395e+00  -3.15681398e-02   1.98901486e+00   6.00340903e-01\n",
      "   2.30864242e-01   1.10394287e+00   2.47513354e-01   1.53635645e+00\n",
      "  -5.79098761e-01   8.40793490e-01   1.25464809e+00  -1.04156029e+00\n",
      "  -6.48667991e-01   2.13920414e-01   1.72339380e+00   2.86709642e+00\n",
      "   1.86938688e-01  -2.29951310e+00   1.43232662e-02   1.95393860e+00\n",
      "  -1.54321596e-01   1.93052149e+00   8.65881860e-01   1.22225583e+00\n",
      "  -1.34055927e-01   1.30149090e+00  -4.56553429e-01   1.41535676e+00\n",
      "   2.23136330e+00   1.22233069e+00   1.33151293e-01   1.73304200e+00\n",
      "  -2.34160617e-01   1.96795416e+00   4.58180666e-01  -9.08939064e-01\n",
      "  -3.74975391e-02   2.30980325e+00  -1.16229570e+00  -1.22738695e+00\n",
      "   2.31510788e-01  -1.33288443e+00   5.42419314e-01  -2.17953587e+00\n",
      "   6.34368122e-01   1.74735224e+00   1.69719577e+00  -8.37631047e-01\n",
      "  -1.72895825e+00   2.08347178e+00  -8.95421803e-01  -1.24523759e+00\n",
      "   4.91167307e-01  -1.88344800e+00   1.02726829e+00  -1.22615528e+00\n",
      "  -1.01762307e+00  -1.94357073e+00   1.02731645e-01   1.58828485e+00\n",
      "  -1.79826951e+00   8.19342673e-01   9.60712790e-01  -1.23454809e+00\n",
      "   1.12180986e-01  -1.66853237e+00  -3.00076544e-01   2.72890830e+00\n",
      "   2.07834506e+00   1.38917804e+00   1.47876680e+00   5.14369011e-01\n",
      "   1.14324033e+00  -7.42973685e-01  -4.16718662e-01   5.67247212e-01\n",
      "  -7.65210330e-01  -6.56637192e-01   5.10379314e-01  -9.90294874e-01\n",
      "  -3.35872561e-01   2.88504839e-01   6.18427038e-01  -5.41460872e-01\n",
      "  -1.22583413e+00   1.84355474e+00   1.22716272e+00   2.18410641e-01\n",
      "   1.62711644e+00   1.89614221e-01  -1.12466909e-01  -1.79682148e+00\n",
      "   2.05876207e+00   1.41633344e+00   9.46542993e-02  -5.26346982e-01\n",
      "  -6.69912457e-01   2.28454947e+00  -2.75312215e-01  -1.63047284e-01\n",
      "   6.01496100e-01   2.86876500e-01  -3.10327895e-02   1.59901738e+00\n",
      "   7.69278169e-01  -5.65404117e-01   2.67629480e+00  -1.13935244e+00\n",
      "   1.40737534e+00   1.45465088e+00  -1.06402671e+00   2.18748999e+00\n",
      "   3.22091430e-01  -2.67288923e-01  -1.24693537e+00  -4.32694107e-01\n",
      "  -3.32873821e-01   2.23877501e+00  -1.77963626e+00   1.46378255e+00] \n",
      "\n",
      "[ -9.98469412e-01   2.54053426e+00  -6.89399123e-01  -7.68824458e-01\n",
      "  -9.71999764e-01   6.27394438e-01  -6.43513024e-01   7.57545710e-01\n",
      "  -1.48655033e+00   2.43140817e-01   3.40682054e+00   1.17447686e+00\n",
      "  -1.86228752e+00  -3.66622746e-01   1.26862705e-01  -2.90751410e+00\n",
      "   1.76917577e+00   4.11348104e-01  -5.98356962e-01  -2.39397860e+00\n",
      "  -1.60754287e+00   3.77417296e-01   1.56404841e+00   2.10000515e+00\n",
      "  -6.59892559e-01   3.44015026e+00  -1.14705491e+00   2.59640574e+00\n",
      "   7.00594425e-01  -3.59340161e-01  -3.89107615e-02  -6.94428086e-02\n",
      "  -5.26293099e-01   2.02447519e-01  -2.96686202e-01  -7.18464375e-01\n",
      "  -7.52743721e-01  -1.46895909e+00   1.37218785e+00   1.78975558e+00\n",
      "  -2.00355387e+00  -3.87100101e-01   2.84364676e+00  -1.50577962e+00\n",
      "   1.73150808e-01  -1.88157439e+00  -5.32612614e-02   7.31293380e-01\n",
      "   4.63619828e-01   9.47258353e-01  -1.67993462e+00  -2.83590611e-03\n",
      "   1.30365539e+00   1.35351866e-01  -9.37223077e-01  -8.96280929e-02\n",
      "  -9.75783944e-01   8.04690480e-01   2.06725478e+00  -1.94989467e+00\n",
      "  -1.52959740e-02  -1.54428995e+00  -3.73260081e-01  -3.35960984e+00\n",
      "   8.56978595e-01  -3.30725849e-01  -1.73233771e+00   5.40073037e-01\n",
      "  -2.94726700e-01  -2.38485193e+00  -3.03394842e+00  -1.20025325e+00\n",
      "   7.15702415e-01   9.69515920e-01  -2.08142257e+00   3.20265293e-01\n",
      "  -1.11563861e+00  -4.03043091e-01  -1.84212342e-01  -1.51438463e+00\n",
      "  -1.37384832e+00  -7.92476773e-01  -1.02642648e-01  -1.18248773e+00\n",
      "  -1.90442121e+00   1.11298740e-01   2.87539268e+00   5.90684652e-01\n",
      "   1.34920597e+00   1.59133911e-01   1.15314233e+00   1.35933244e+00\n",
      "   9.45889175e-01  -1.49276388e+00  -1.56946361e+00  -8.67284358e-01\n",
      "  -7.12503135e-01  -1.35781574e+00   1.34772491e+00   1.45142829e+00\n",
      "   1.79912508e+00   7.57735610e-01  -1.99474120e+00   1.62540913e+00\n",
      "  -1.30117369e+00  -3.38704491e+00  -9.91839111e-01  -5.84630847e-01\n",
      "  -1.35925043e+00   7.90705621e-01   1.11981225e+00   1.41022587e+00\n",
      "   4.10954297e-01  -2.00478315e-01  -1.01912177e+00   9.05995905e-01\n",
      "  -3.91346097e-01   4.31291938e-01   1.04576969e+00  -5.12482285e-01\n",
      "  -1.37071836e+00   1.81869185e+00  -4.77431267e-01   8.38463485e-01\n",
      "   6.85251057e-01  -2.18965292e+00  -7.08518982e-01  -5.65096974e-01\n",
      "   2.22757962e-02  -3.74893594e+00  -1.50995100e+00  -1.98309767e+00\n",
      "  -1.85925686e+00   1.51520923e-01   1.67556190e+00   4.55980971e-02\n",
      "   2.80326754e-01   1.09826601e+00  -8.91715884e-01  -1.49918151e+00\n",
      "   8.24422657e-01   1.22694397e+00  -2.69988012e+00  -1.97069979e+00\n",
      "   9.48071897e-01   1.36328959e+00   1.04539528e-01  -1.55405319e+00\n",
      "  -7.18714178e-01  -6.96677744e-01   1.54768080e-01  -7.55761415e-02\n",
      "  -2.06440711e+00  -8.40250611e-01   6.71683013e-01  -2.87448019e-01\n",
      "   7.63185501e-01   2.10020685e+00   1.69184542e+00   1.44094872e+00\n",
      "  -2.54010618e-01   1.76116300e+00   2.52416062e+00  -1.74704921e+00\n",
      "  -1.18393731e+00   1.13589130e-02  -4.76886421e-01  -1.44955623e+00\n",
      "   7.60297418e-01   6.97600484e-01  -2.12851405e+00   4.20924544e-01\n",
      "  -2.59998274e+00   4.75737691e-01  -1.26959786e-01  -5.97617567e-01\n",
      "   2.18453217e+00   1.22596994e-01  -5.83524644e-01  -1.18468201e+00\n",
      "   2.58628041e-01   2.63048023e-01   1.78714061e+00  -7.62023866e-01\n",
      "   1.23184644e-01  -4.87428337e-01   2.08543468e+00   7.86076128e-01\n",
      "  -4.35066670e-01   1.49198878e+00  -7.29876637e-01  -1.11838865e+00\n",
      "  -1.75899491e-01   4.22553897e-01   1.05677485e+00   6.21158242e-01\n",
      "  -4.52921331e-01   2.14459062e+00   1.58148098e+00  -1.85786569e+00\n",
      "  -1.16407740e+00  -1.22101641e+00  -2.50390816e+00  -3.72348785e-01\n",
      "  -1.36292601e+00   4.96432394e-01   7.59359539e-01   5.36727428e-01\n",
      "   4.27607536e-01   1.19093513e+00  -7.32608140e-01  -1.37839091e+00\n",
      "  -1.36602700e+00  -1.97167802e+00   1.81250072e+00  -5.60119867e-01\n",
      "   1.51391840e+00   2.87521809e-01   9.80112478e-02   7.87615597e-01\n",
      "  -2.27851510e+00   1.02600336e-01  -1.21737313e+00   5.09628832e-01\n",
      "  -6.98119938e-01   9.80994940e-01   1.56687140e+00  -3.30645323e+00\n",
      "  -1.27914107e+00   1.27140141e+00   3.07214928e+00  -4.27085459e-01\n",
      "  -1.86330640e+00   8.27435911e-01  -2.00390816e+00   1.04407382e+00\n",
      "  -2.24894196e-01  -2.06098270e+00  -1.03919470e+00   7.62384593e-01\n",
      "  -2.20980123e-01  -3.04018795e-01   1.80769181e+00   1.57381201e+00\n",
      "  -3.52720380e+00   1.50607765e+00  -2.10946751e+00   5.57462335e-01\n",
      "   9.82917070e-01  -2.08332872e+00   1.16825390e+00  -6.68568194e-01\n",
      "   2.93911910e+00  -2.56159902e+00  -1.66872168e+00   1.80792856e+00\n",
      "  -1.29347217e+00  -3.83824408e-01   4.45444196e-01  -1.19595873e+00\n",
      "   1.18186998e+00   9.30768907e-01   2.18790698e+00   1.62981832e+00\n",
      "   2.55411953e-01   9.48779941e-01  -1.35807920e+00   9.97449875e-01\n",
      "  -1.16225386e+00   4.73042339e-01  -1.46402073e+00  -1.01887989e+00\n",
      "   1.49249887e+00  -1.12011373e+00   2.37455428e-01   8.93526852e-01\n",
      "  -3.12329626e+00  -3.32517654e-01   1.25593102e+00  -1.53301191e+00]\n"
     ]
    }
   ],
   "source": [
    "print(model['azul'], '\\n')\n",
    "\n",
    "print(model['verde'], '\\n')\n",
    "\n",
    "print(model['microsoft'])"
   ]
  },
  {
   "cell_type": "markdown",
   "metadata": {
    "collapsed": true
   },
   "source": [
    "Estos vectores no nos dicen mucho, salvo que contienen números muy pequeños :-/\n",
    "\n",
    "El mismo objeto `model` permite acceder a una serie de funcionalidades ya implementadas que nos van a permitir evaluar formal e informalmente el modelo. Por el momento, nos contentamos con los segundo: vamos a revisar visualmente los significados que nuestro modelo ha aprendido por su cuenta. \n",
    "\n",
    "Podemos calcular la similitud semántica entre dos términos usando el método `similarity`, que nos devuelve un número entre 0 y 1:"
   ]
  },
  {
   "cell_type": "code",
   "execution_count": 12,
   "metadata": {},
   "outputs": [
    {
     "name": "stdout",
     "output_type": "stream",
     "text": [
      "hombre - mujer 0.473325617835\n",
      "madrid - parís 0.649728730699\n",
      "perro - gato 0.631910988958\n",
      "gato - periódico 0.180082365746\n"
     ]
    }
   ],
   "source": [
    "print('hombre - mujer', model.similarity('hombre', 'mujer'))\n",
    "\n",
    "print('madrid - parís', model.similarity('madrid', 'parís'))\n",
    "\n",
    "print('perro - gato', model.similarity('perro', 'gato'))\n",
    "\n",
    "print('gato - periódico', model.similarity('gato', 'periódico'))"
   ]
  },
  {
   "cell_type": "markdown",
   "metadata": {},
   "source": [
    "Podemos seleccionar el término que no encaja a partir de una determinada lista de términos usando el método `doesnt_match`:"
   ]
  },
  {
   "cell_type": "code",
   "execution_count": 13,
   "metadata": {},
   "outputs": [
    {
     "name": "stderr",
     "output_type": "stream",
     "text": [
      "2017-07-15 13:17:38,255 : INFO : precomputing L2-norms of word weight vectors\n"
     ]
    },
    {
     "name": "stdout",
     "output_type": "stream",
     "text": [
      "en la lista madrid barcelona gonzález washington sobra: gonzález\n",
      "en la lista psoe pp ciu epi sobra: epi\n",
      "en la lista publicaron declararon soy negaron sobra: soy\n",
      "en la lista homero saturno cervantes shakespeare cela sobra: saturno\n"
     ]
    }
   ],
   "source": [
    "lista1 = 'madrid barcelona gonzález washington'.split()\n",
    "print('en la lista', ' '.join(lista1), 'sobra:', model.doesnt_match(lista1))\n",
    "\n",
    "lista2 = 'psoe pp ciu epi'.split()\n",
    "print('en la lista', ' '.join(lista2), 'sobra:', model.doesnt_match(lista2))\n",
    "\n",
    "lista3 = 'publicaron declararon soy negaron'.split()\n",
    "print('en la lista', ' '.join(lista3), 'sobra:', model.doesnt_match(lista3))\n",
    "\n",
    "lista3 = 'homero saturno cervantes shakespeare cela'.split()\n",
    "print('en la lista', ' '.join(lista3), 'sobra:', model.doesnt_match(lista3))"
   ]
  },
  {
   "cell_type": "markdown",
   "metadata": {},
   "source": [
    "Podemos buscar los términos más similares usando el método `most_similar` de nuestro modelo:"
   ]
  },
  {
   "cell_type": "code",
   "execution_count": 16,
   "metadata": {},
   "outputs": [
    {
     "name": "stdout",
     "output_type": "stream",
     "text": [
      "microsoft ==> [('apple', 0.7117506861686707), ('toshiba', 0.7028107047080994), ('sony', 0.6914273500442505), ('chevron', 0.678649365901947), ('mci', 0.6718457937240601), ('corp', 0.6699045896530151), ('att', 0.667290210723877), ('mccaw', 0.6616576313972473), ('westinghouse', 0.6602280139923096), ('communications', 0.6471770405769348)] \n",
      "\n",
      "ibm ==> [('ecd', 0.7653704881668091), ('inf', 0.7394723892211914), ('ixc', 0.6570380330085754), ('ibs', 0.6323965787887573), ('ief', 0.6096996665000916), ('tfb', 0.597407877445221), ('nis', 0.55487060546875), ('icx', 0.5465259552001953), ('bnm', 0.5369136929512024), ('wsh', 0.5276572704315186)] \n",
      "\n",
      "iberia ==> [('aviaco', 0.8360572457313538), ('seat', 0.6662347316741943), ('sepla', 0.6475242376327515), ('spanair', 0.6450983285903931), ('gte', 0.6450628638267517), ('binter', 0.6434944868087769), ('renfe', 0.6096404790878296), ('viasa', 0.6077329516410828), ('pluna', 0.6002950072288513), ('trasmediterránea', 0.5986974835395813)] \n",
      "\n",
      "repsol ==> [('endesa', 0.7762077450752258), ('fecsa', 0.7659704685211182), ('iberdrola', 0.7642984390258789), ('enagas', 0.7609094977378845), ('tabacalera', 0.7467269897460938), ('indelec', 0.7371048331260681), ('agromán', 0.7186607122421265), ('gesa', 0.7154784202575684), ('enagás', 0.7127583026885986), ('enher', 0.7105879187583923)] \n",
      "\n"
     ]
    }
   ],
   "source": [
    "terminos = 'psoe chicago sevilla aznar podemos estuvieron'.split()\n",
    "terminos = 'microsoft ibm iberia repsol'.split()\n",
    "\n",
    "for t in terminos:\n",
    "    print(t, '==>', model.most_similar(t), '\\n')"
   ]
  },
  {
   "cell_type": "markdown",
   "metadata": {},
   "source": [
    "Con el mismo método `most_similar` podemos combinar vectores de palabras tratando de jugar con los rasgos semánticos de cada una de ellas para descubrir nuevas relaciones."
   ]
  },
  {
   "cell_type": "code",
   "execution_count": 15,
   "metadata": {},
   "outputs": [
    {
     "name": "stdout",
     "output_type": "stream",
     "text": [
      "==> alcalde + mujer - hombre\n",
      "('alcaldesa', 0.5925700068473816)\n",
      "('consellera', 0.5343092679977417)\n",
      "('concejala', 0.5338941812515259)\n",
      "==> madrid + filipinas - españa\n",
      "('manila', 0.5159924030303955)\n",
      "('pekín', 0.5065802335739136)\n",
      "('hanoi', 0.49402812123298645)\n"
     ]
    }
   ],
   "source": [
    "print('==> alcalde + mujer - hombre')\n",
    "most_similar = model.most_similar(positive=['alcalde', 'mujer'], negative=['hombre'], topn=3)\n",
    "for item in most_similar:\n",
    "    print(item)\n",
    "\n",
    "print('==> madrid + filipinas - españa')\n",
    "most_similar = model.most_similar(positive=['madrid', 'filipinas'], negative=['españa'], topn=3)\n",
    "for item in most_similar:\n",
    "    print(item)\n",
    "\n",
    "    \n",
    "    "
   ]
  }
 ],
 "metadata": {
  "kernelspec": {
   "display_name": "Python 3",
   "language": "python",
   "name": "python3"
  },
  "language_info": {
   "codemirror_mode": {
    "name": "ipython",
    "version": 3
   },
   "file_extension": ".py",
   "mimetype": "text/x-python",
   "name": "python",
   "nbconvert_exporter": "python",
   "pygments_lexer": "ipython3",
   "version": "3.5.3"
  }
 },
 "nbformat": 4,
 "nbformat_minor": 1
}
