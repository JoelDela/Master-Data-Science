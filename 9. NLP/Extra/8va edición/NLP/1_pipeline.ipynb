{
  "nbformat": 4,
  "nbformat_minor": 0,
  "metadata": {
    "colab": {
      "name": "1_pipeline.ipynb",
      "version": "0.3.2",
      "views": {},
      "default_view": {},
      "provenance": [],
      "collapsed_sections": []
    },
    "kernelspec": {
      "name": "python3",
      "display_name": "Python 3"
    }
  },
  "cells": [
    {
      "metadata": {
        "id": "Ctq67iWDRcTI",
        "colab_type": "code",
        "colab": {
          "autoexec": {
            "startup": false,
            "wait_interval": 0
          },
          "base_uri": "https://localhost:8080/",
          "height": 1235
        },
        "outputId": "1d021893-48e0-4bb6-953f-da9f9d077658",
        "executionInfo": {
          "status": "ok",
          "timestamp": 1533045813001,
          "user_tz": -120,
          "elapsed": 349545,
          "user": {
            "displayName": "Elena del Olmo",
            "photoUrl": "//lh5.googleusercontent.com/-vGldiq9ESB8/AAAAAAAAAAI/AAAAAAAAAxw/Yb8_nlM8V-g/s50-c-k-no/photo.jpg",
            "userId": "112120734031415552045"
          }
        }
      },
      "cell_type": "code",
      "source": [
        "!pip3 install -U spacy"
      ],
      "execution_count": 1,
      "outputs": [
        {
          "output_type": "stream",
          "text": [
            "Collecting spacy\n",
            "\u001b[?25l  Downloading https://files.pythonhosted.org/packages/24/de/ac14cd453c98656d6738a5669f96a4ac7f668493d5e6b78227ac933c5fd4/spacy-2.0.12.tar.gz (22.0MB)\n",
            "\u001b[K    100% |████████████████████████████████| 22.0MB 1.3MB/s \n",
            "\u001b[?25hRequirement already satisfied, skipping upgrade: numpy>=1.7 in /usr/local/lib/python3.6/dist-packages (from spacy) (1.14.5)\n",
            "Collecting murmurhash<0.29,>=0.28 (from spacy)\n",
            "  Downloading https://files.pythonhosted.org/packages/5e/31/c8c1ecafa44db30579c8c457ac7a0f819e8b1dbc3e58308394fff5ff9ba7/murmurhash-0.28.0.tar.gz\n",
            "Collecting cymem<1.32,>=1.30 (from spacy)\n",
            "  Downloading https://files.pythonhosted.org/packages/f8/9e/273fbea507de99166c11cd0cb3fde1ac01b5bc724d9a407a2f927ede91a1/cymem-1.31.2.tar.gz\n",
            "Collecting preshed<2.0.0,>=1.0.0 (from spacy)\n",
            "\u001b[?25l  Downloading https://files.pythonhosted.org/packages/be/fc/09684555ce0ee7086675e6be698e4efeb6d9b315fd5aa96bed347572282b/preshed-1.0.1.tar.gz (112kB)\n",
            "\u001b[K    100% |████████████████████████████████| 122kB 21.7MB/s \n",
            "\u001b[?25hCollecting thinc<6.11.0,>=6.10.3 (from spacy)\n",
            "\u001b[?25l  Downloading https://files.pythonhosted.org/packages/94/b1/47a88072d0a38b3594c0a638a62f9ef7c742b8b8a87f7b105f7ed720b14b/thinc-6.10.3.tar.gz (1.2MB)\n",
            "\u001b[K    100% |████████████████████████████████| 1.2MB 10.3MB/s \n",
            "\u001b[?25hCollecting plac<1.0.0,>=0.9.6 (from spacy)\n",
            "  Downloading https://files.pythonhosted.org/packages/9e/9b/62c60d2f5bc135d2aa1d8c8a86aaf84edb719a59c7f11a4316259e61a298/plac-0.9.6-py2.py3-none-any.whl\n",
            "Collecting ujson>=1.35 (from spacy)\n",
            "\u001b[?25l  Downloading https://files.pythonhosted.org/packages/16/c4/79f3409bc710559015464e5f49b9879430d8f87498ecdc335899732e5377/ujson-1.35.tar.gz (192kB)\n",
            "\u001b[K    100% |████████████████████████████████| 194kB 22.7MB/s \n",
            "\u001b[?25hCollecting dill<0.3,>=0.2 (from spacy)\n",
            "\u001b[?25l  Downloading https://files.pythonhosted.org/packages/6f/78/8b96476f4ae426db71c6e86a8e6a81407f015b34547e442291cd397b18f3/dill-0.2.8.2.tar.gz (150kB)\n",
            "\u001b[K    100% |████████████████████████████████| 153kB 25.2MB/s \n",
            "\u001b[?25hCollecting regex==2017.4.5 (from spacy)\n",
            "\u001b[?25l  Downloading https://files.pythonhosted.org/packages/36/62/c0c0d762ffd4ffaf39f372eb8561b8d491a11ace5a7884610424a8b40f95/regex-2017.04.05.tar.gz (601kB)\n",
            "\u001b[K    100% |████████████████████████████████| 604kB 15.0MB/s \n",
            "\u001b[?25hRequirement already satisfied, skipping upgrade: requests<3.0.0,>=2.13.0 in /usr/local/lib/python3.6/dist-packages (from spacy) (2.18.4)\n",
            "Collecting msgpack<1.0.0,>=0.5.6 (from thinc<6.11.0,>=6.10.3->spacy)\n",
            "\u001b[?25l  Downloading https://files.pythonhosted.org/packages/22/4e/dcf124fd97e5f5611123d6ad9f40ffd6eb979d1efdc1049e28a795672fcd/msgpack-0.5.6-cp36-cp36m-manylinux1_x86_64.whl (315kB)\n",
            "\u001b[K    100% |████████████████████████████████| 317kB 15.2MB/s \n",
            "\u001b[?25hCollecting msgpack-numpy<1.0.0,>=0.4.1 (from thinc<6.11.0,>=6.10.3->spacy)\n",
            "  Downloading https://files.pythonhosted.org/packages/84/09/fc890664a7a1dd0a88f46c93fb9340d0a27a69e82095a4a54aef2ed94a6d/msgpack_numpy-0.4.3.1-py2.py3-none-any.whl\n",
            "Collecting cytoolz<0.10,>=0.9.0 (from thinc<6.11.0,>=6.10.3->spacy)\n",
            "\u001b[?25l  Downloading https://files.pythonhosted.org/packages/36/f4/9728ba01ccb2f55df9a5af029b48ba0aaca1081bbd7823ea2ee223ba7a42/cytoolz-0.9.0.1.tar.gz (443kB)\n",
            "\u001b[K    100% |████████████████████████████████| 450kB 12.8MB/s \n",
            "\u001b[?25hCollecting wrapt<1.11.0,>=1.10.0 (from thinc<6.11.0,>=6.10.3->spacy)\n",
            "  Downloading https://files.pythonhosted.org/packages/a0/47/66897906448185fcb77fc3c2b1bc20ed0ecca81a0f2f88eda3fc5a34fc3d/wrapt-1.10.11.tar.gz\n",
            "Collecting tqdm<5.0.0,>=4.10.0 (from thinc<6.11.0,>=6.10.3->spacy)\n",
            "\u001b[?25l  Downloading https://files.pythonhosted.org/packages/7d/e6/19dfaff08fcbee7f3453e5b537e65a8364f1945f921a36d08be1e2ff3475/tqdm-4.24.0-py2.py3-none-any.whl (43kB)\n",
            "\u001b[K    100% |████████████████████████████████| 51kB 14.9MB/s \n",
            "\u001b[?25hRequirement already satisfied, skipping upgrade: six<2.0.0,>=1.10.0 in /usr/local/lib/python3.6/dist-packages (from thinc<6.11.0,>=6.10.3->spacy) (1.11.0)\n",
            "Requirement already satisfied, skipping upgrade: certifi>=2017.4.17 in /usr/local/lib/python3.6/dist-packages (from requests<3.0.0,>=2.13.0->spacy) (2018.4.16)\n",
            "Requirement already satisfied, skipping upgrade: chardet<3.1.0,>=3.0.2 in /usr/local/lib/python3.6/dist-packages (from requests<3.0.0,>=2.13.0->spacy) (3.0.4)\n",
            "Requirement already satisfied, skipping upgrade: idna<2.7,>=2.5 in /usr/local/lib/python3.6/dist-packages (from requests<3.0.0,>=2.13.0->spacy) (2.6)\n",
            "Requirement already satisfied, skipping upgrade: urllib3<1.23,>=1.21.1 in /usr/local/lib/python3.6/dist-packages (from requests<3.0.0,>=2.13.0->spacy) (1.22)\n",
            "Requirement already satisfied, skipping upgrade: toolz>=0.8.0 in /usr/local/lib/python3.6/dist-packages (from cytoolz<0.10,>=0.9.0->thinc<6.11.0,>=6.10.3->spacy) (0.9.0)\n",
            "Building wheels for collected packages: spacy, murmurhash, cymem, preshed, thinc, ujson, dill, regex, cytoolz, wrapt\n",
            "  Running setup.py bdist_wheel for spacy ... \u001b[?25l-\b \b\\\b \b|\b \b/\b \b-\b \b\\"
          ],
          "name": "stdout"
        },
        {
          "output_type": "stream",
          "text": [
            "\b \b|\b \b/\b \b-\b \b\\\b \b|\b \b/\b \b-\b \b\\\b \b|\b \b/\b \b-\b \b\\\b \b|\b \b/\b \b-\b \b\\\b \b|\b \b/\b \b-\b \b\\\b \b|\b \b/\b \b-\b \b\\\b \b|\b \b/\b \b-\b \b\\\b \b|\b \b/\b \b-\b \b\\\b \b|\b \b/\b \b-\b \b\\\b \b|\b \b/\b \b-\b \b\\\b \b|\b \b/\b \b-\b \b\\\b \b|\b \b/\b \b-\b \b\\\b \b|\b \b/\b \b-\b \b\\\b \b|\b \b/\b \b-\b \b\\\b \b|\b \b/\b \b-\b \b\\\b \b|\b \b/\b \b-\b \b\\\b \b|\b \b/\b \b-\b \b\\\b \b|\b \b/\b \b-\b \b\\\b \b|\b \b/\b \b-\b \b\\\b \b|\b \b/\b \b-\b \b\\\b \b|\b \b/\b \b-\b \b\\\b \b|\b \bdone\n",
            "\u001b[?25h  Stored in directory: /content/.cache/pip/wheels/60/0b/bb/7c2e28db574dbb2358176934eddd32a1c5f838ba0bc23eaaab\n",
            "  Running setup.py bdist_wheel for murmurhash ... \u001b[?25l-\b \b\\\b \b|\b \b/\b \bdone\n",
            "\u001b[?25h  Stored in directory: /content/.cache/pip/wheels/b8/94/a4/f69f8664cdc1098603df44771b7fec5fd1b3d8364cdd83f512\n",
            "  Running setup.py bdist_wheel for cymem ... \u001b[?25l-\b \b\\\b \b|\b \bdone\n",
            "\u001b[?25h  Stored in directory: /content/.cache/pip/wheels/55/8d/4a/f6328252aa2aaec0b1cb906fd96a1566d77f0f67701071ad13\n",
            "  Running setup.py bdist_wheel for preshed ... \u001b[?25l-\b \b\\\b \b|\b \b/\b \b-\b \b\\\b \b|\b \bdone\n",
            "\u001b[?25h  Stored in directory: /content/.cache/pip/wheels/ca/e5/8b/73706d7232da301838e0bc564367a2f7b2fc8f834228fc8a4b\n",
            "  Running setup.py bdist_wheel for thinc ... \u001b[?25l-\b \b\\\b \b|\b \b/\b \b-\b \b\\\b \b|\b \b/\b \b-\b \b\\\b \b|\b \b/\b \b-\b \b\\\b \b|\b \b/\b \b-\b \b\\\b \b|\b \b/\b \b-\b \b\\\b \b|\b \b/\b \b-\b \b\\\b \b|\b \bdone\n",
            "\u001b[?25h  Stored in directory: /content/.cache/pip/wheels/db/bc/e1/9b321b6b203288cf636a56e668ed5700076af4ed66062278ca\n",
            "  Running setup.py bdist_wheel for ujson ... \u001b[?25l-\b \b\\\b \b|\b \b/\b \b-\b \b\\\b \bdone\n",
            "\u001b[?25h  Stored in directory: /content/.cache/pip/wheels/28/77/e4/0311145b9c2e2f01470e744855131f9e34d6919687550f87d1\n",
            "  Running setup.py bdist_wheel for dill ... \u001b[?25l-\b \b\\\b \bdone\n",
            "\u001b[?25h  Stored in directory: /content/.cache/pip/wheels/e2/5d/17/f87cb7751896ac629b435a8696f83ee75b11029f5d6f6bda72\n",
            "  Running setup.py bdist_wheel for regex ... \u001b[?25l-\b \b\\\b \b|\b \b/\b \b-\b \b\\\b \b|\b \bdone\n",
            "\u001b[?25h  Stored in directory: /content/.cache/pip/wheels/75/07/38/3c16b529d50cb4e0cd3dbc7b75cece8a09c132692c74450b01\n",
            "  Running setup.py bdist_wheel for cytoolz ... \u001b[?25l-\b \b\\\b \b|\b \b/\b \b-"
          ],
          "name": "stdout"
        },
        {
          "output_type": "stream",
          "text": [
            "\b \b\\\b \b|\b \b/\b \bdone\n",
            "\u001b[?25h  Stored in directory: /content/.cache/pip/wheels/88/f3/11/9817b001e59ab04889e8cffcbd9087e2e2155b9ebecfc8dd38\n",
            "  Running setup.py bdist_wheel for wrapt ... \u001b[?25l-\b \b\\\b \bdone\n",
            "\u001b[?25h  Stored in directory: /content/.cache/pip/wheels/48/5d/04/22361a593e70d23b1f7746d932802efe1f0e523376a74f321e\n",
            "Successfully built spacy murmurhash cymem preshed thinc ujson dill regex cytoolz wrapt\n",
            "Installing collected packages: murmurhash, cymem, preshed, msgpack, msgpack-numpy, cytoolz, wrapt, plac, tqdm, dill, thinc, ujson, regex, spacy\n",
            "Successfully installed cymem-1.31.2 cytoolz-0.9.0.1 dill-0.2.8.2 msgpack-0.5.6 msgpack-numpy-0.4.3.1 murmurhash-0.28.0 plac-0.9.6 preshed-1.0.1 regex-2017.4.5 spacy-2.0.12 thinc-6.10.3 tqdm-4.24.0 ujson-1.35 wrapt-1.10.11\n"
          ],
          "name": "stdout"
        }
      ]
    },
    {
      "metadata": {
        "id": "Qk9KAKFMRju7",
        "colab_type": "code",
        "colab": {
          "autoexec": {
            "startup": false,
            "wait_interval": 0
          },
          "base_uri": "https://localhost:8080/",
          "height": 176
        },
        "outputId": "f9749b3d-f806-4405-89ae-e48acba9ec38",
        "executionInfo": {
          "status": "ok",
          "timestamp": 1533046254763,
          "user_tz": -120,
          "elapsed": 3288,
          "user": {
            "displayName": "Elena del Olmo",
            "photoUrl": "//lh5.googleusercontent.com/-vGldiq9ESB8/AAAAAAAAAAI/AAAAAAAAAxw/Yb8_nlM8V-g/s50-c-k-no/photo.jpg",
            "userId": "112120734031415552045"
          }
        }
      },
      "cell_type": "code",
      "source": [
        "!python3 -m spacy download es"
      ],
      "execution_count": 3,
      "outputs": [
        {
          "output_type": "stream",
          "text": [
            "Requirement already satisfied: es_core_news_sm==2.0.0 from https://github.com/explosion/spacy-models/releases/download/es_core_news_sm-2.0.0/es_core_news_sm-2.0.0.tar.gz#egg=es_core_news_sm==2.0.0 in /usr/local/lib/python3.6/dist-packages (2.0.0)\n",
            "\n",
            "\u001b[93m    Linking successful\u001b[0m\n",
            "    /usr/local/lib/python3.6/dist-packages/es_core_news_sm -->\n",
            "    /usr/local/lib/python3.6/dist-packages/spacy/data/es\n",
            "\n",
            "    You can now load the model via spacy.load('es')\n",
            "\n"
          ],
          "name": "stdout"
        }
      ]
    },
    {
      "metadata": {
        "id": "A_kTK7w0R2Ff",
        "colab_type": "code",
        "colab": {
          "autoexec": {
            "startup": false,
            "wait_interval": 0
          },
          "base_uri": "https://localhost:8080/",
          "height": 1096
        },
        "outputId": "990e0bfb-3b5b-447e-bcdf-c24535a776bd",
        "executionInfo": {
          "status": "ok",
          "timestamp": 1533046273710,
          "user_tz": -120,
          "elapsed": 16238,
          "user": {
            "displayName": "Elena del Olmo",
            "photoUrl": "//lh5.googleusercontent.com/-vGldiq9ESB8/AAAAAAAAAAI/AAAAAAAAAxw/Yb8_nlM8V-g/s50-c-k-no/photo.jpg",
            "userId": "112120734031415552045"
          }
        }
      },
      "cell_type": "code",
      "source": [
        "!pip3 install -U textacy"
      ],
      "execution_count": 4,
      "outputs": [
        {
          "output_type": "stream",
          "text": [
            "Collecting textacy\n",
            "\u001b[?25l  Downloading https://files.pythonhosted.org/packages/f7/13/77612f4393d9c8a55e53924f13b2cf8b835cbf4a5e69e288613ed2de9eca/textacy-0.6.2-py2.py3-none-any.whl (142kB)\n",
            "\u001b[K    100% |████████████████████████████████| 143kB 7.4MB/s \n",
            "\u001b[?25hCollecting pyemd>=0.3.0 (from textacy)\n",
            "\u001b[?25l  Downloading https://files.pythonhosted.org/packages/c0/c5/7fea8e7a71cd026b30ed3c40e4c5ea13a173e28f8855da17e25271e8f545/pyemd-0.5.1.tar.gz (91kB)\n",
            "\u001b[K    100% |████████████████████████████████| 92kB 7.4MB/s \n",
            "\u001b[?25hCollecting pyphen>=0.9.4 (from textacy)\n",
            "\u001b[?25l  Downloading https://files.pythonhosted.org/packages/dd/c4/74859f895e2361d92cfbb6208ea7afd06c2f1f05c491da71cbd7ce3887be/Pyphen-0.9.4-py2.py3-none-any.whl (1.9MB)\n",
            "\u001b[K    100% |████████████████████████████████| 2.0MB 9.1MB/s \n",
            "\u001b[?25hRequirement already satisfied, skipping upgrade: numpy<2.0.0,>=1.9.0 in /usr/local/lib/python3.6/dist-packages (from textacy) (1.14.5)\n",
            "Requirement already satisfied, skipping upgrade: requests>=2.10.0 in /usr/local/lib/python3.6/dist-packages (from textacy) (2.18.4)\n",
            "Requirement already satisfied, skipping upgrade: scipy>=0.17.0 in /usr/local/lib/python3.6/dist-packages (from textacy) (0.19.1)\n",
            "Requirement already satisfied, skipping upgrade: cachetools>=2.0.0 in /usr/local/lib/python3.6/dist-packages (from textacy) (2.1.0)\n",
            "Requirement already satisfied, skipping upgrade: spacy>=2.0.0 in /usr/local/lib/python3.6/dist-packages (from textacy) (2.0.12)\n",
            "Collecting ijson>=2.3 (from textacy)\n",
            "  Downloading https://files.pythonhosted.org/packages/7f/e9/8508c5f4987ba238a2b169e582c1f70a47272b22a2f1fb06b9318201bb9e/ijson-2.3-py2.py3-none-any.whl\n",
            "Collecting unidecode>=0.04.19 (from textacy)\n",
            "\u001b[?25l  Downloading https://files.pythonhosted.org/packages/59/ef/67085e30e8bbcdd76e2f0a4ad8151c13a2c5bce77c85f8cad6e1f16fb141/Unidecode-1.0.22-py2.py3-none-any.whl (235kB)\n",
            "\u001b[K    100% |████████████████████████████████| 235kB 14.7MB/s \n",
            "\u001b[?25hRequirement already satisfied, skipping upgrade: tqdm>=4.11.1 in /usr/local/lib/python3.6/dist-packages (from textacy) (4.24.0)\n",
            "Collecting ftfy<5.0.0,>=4.2.0 (from textacy)\n",
            "\u001b[?25l  Downloading https://files.pythonhosted.org/packages/21/5d/9385540977b00df1f3a0c0f07b7e6c15b5e7a3109d7f6ae78a0a764dab22/ftfy-4.4.3.tar.gz (50kB)\n",
            "\u001b[K    100% |████████████████████████████████| 51kB 13.7MB/s \n",
            "\u001b[?25hRequirement already satisfied, skipping upgrade: scikit-learn>=0.17.0 in /usr/local/lib/python3.6/dist-packages (from textacy) (0.19.2)\n",
            "Collecting python-levenshtein>=0.12.0 (from textacy)\n",
            "\u001b[?25l  Downloading https://files.pythonhosted.org/packages/42/a9/d1785c85ebf9b7dfacd08938dd028209c34a0ea3b1bcdb895208bd40a67d/python-Levenshtein-0.12.0.tar.gz (48kB)\n",
            "\u001b[K    100% |████████████████████████████████| 51kB 9.7MB/s \n",
            "\u001b[?25hRequirement already satisfied, skipping upgrade: cytoolz>=0.8.0 in /usr/local/lib/python3.6/dist-packages (from textacy) (0.9.0.1)\n",
            "Requirement already satisfied, skipping upgrade: networkx>=1.11 in /usr/local/lib/python3.6/dist-packages (from textacy) (2.1)\n",
            "Requirement already satisfied, skipping upgrade: idna<2.7,>=2.5 in /usr/local/lib/python3.6/dist-packages (from requests>=2.10.0->textacy) (2.6)\n",
            "Requirement already satisfied, skipping upgrade: certifi>=2017.4.17 in /usr/local/lib/python3.6/dist-packages (from requests>=2.10.0->textacy) (2018.4.16)\n",
            "Requirement already satisfied, skipping upgrade: chardet<3.1.0,>=3.0.2 in /usr/local/lib/python3.6/dist-packages (from requests>=2.10.0->textacy) (3.0.4)\n",
            "Requirement already satisfied, skipping upgrade: urllib3<1.23,>=1.21.1 in /usr/local/lib/python3.6/dist-packages (from requests>=2.10.0->textacy) (1.22)\n",
            "Requirement already satisfied, skipping upgrade: thinc<6.11.0,>=6.10.3 in /usr/local/lib/python3.6/dist-packages (from spacy>=2.0.0->textacy) (6.10.3)\n",
            "Requirement already satisfied, skipping upgrade: plac<1.0.0,>=0.9.6 in /usr/local/lib/python3.6/dist-packages (from spacy>=2.0.0->textacy) (0.9.6)\n",
            "Requirement already satisfied, skipping upgrade: cymem<1.32,>=1.30 in /usr/local/lib/python3.6/dist-packages (from spacy>=2.0.0->textacy) (1.31.2)\n",
            "Requirement already satisfied, skipping upgrade: dill<0.3,>=0.2 in /usr/local/lib/python3.6/dist-packages (from spacy>=2.0.0->textacy) (0.2.8.2)\n",
            "Requirement already satisfied, skipping upgrade: ujson>=1.35 in /usr/local/lib/python3.6/dist-packages (from spacy>=2.0.0->textacy) (1.35)\n",
            "Requirement already satisfied, skipping upgrade: regex==2017.4.5 in /usr/local/lib/python3.6/dist-packages (from spacy>=2.0.0->textacy) (2017.4.5)\n",
            "Requirement already satisfied, skipping upgrade: preshed<2.0.0,>=1.0.0 in /usr/local/lib/python3.6/dist-packages (from spacy>=2.0.0->textacy) (1.0.1)\n",
            "Requirement already satisfied, skipping upgrade: murmurhash<0.29,>=0.28 in /usr/local/lib/python3.6/dist-packages (from spacy>=2.0.0->textacy) (0.28.0)\n",
            "Requirement already satisfied, skipping upgrade: html5lib in /usr/local/lib/python3.6/dist-packages (from ftfy<5.0.0,>=4.2.0->textacy) (1.0.1)\n",
            "Requirement already satisfied, skipping upgrade: wcwidth in /usr/local/lib/python3.6/dist-packages (from ftfy<5.0.0,>=4.2.0->textacy) (0.1.7)\n",
            "Requirement already satisfied, skipping upgrade: setuptools in /usr/local/lib/python3.6/dist-packages (from python-levenshtein>=0.12.0->textacy) (39.1.0)\n",
            "Requirement already satisfied, skipping upgrade: toolz>=0.8.0 in /usr/local/lib/python3.6/dist-packages (from cytoolz>=0.8.0->textacy) (0.9.0)\n",
            "Requirement already satisfied, skipping upgrade: decorator>=4.1.0 in /usr/local/lib/python3.6/dist-packages (from networkx>=1.11->textacy) (4.3.0)\n",
            "Requirement already satisfied, skipping upgrade: wrapt<1.11.0,>=1.10.0 in /usr/local/lib/python3.6/dist-packages (from thinc<6.11.0,>=6.10.3->spacy>=2.0.0->textacy) (1.10.11)\n",
            "Requirement already satisfied, skipping upgrade: six<2.0.0,>=1.10.0 in /usr/local/lib/python3.6/dist-packages (from thinc<6.11.0,>=6.10.3->spacy>=2.0.0->textacy) (1.11.0)\n",
            "Requirement already satisfied, skipping upgrade: msgpack<1.0.0,>=0.5.6 in /usr/local/lib/python3.6/dist-packages (from thinc<6.11.0,>=6.10.3->spacy>=2.0.0->textacy) (0.5.6)\n",
            "Requirement already satisfied, skipping upgrade: msgpack-numpy<1.0.0,>=0.4.1 in /usr/local/lib/python3.6/dist-packages (from thinc<6.11.0,>=6.10.3->spacy>=2.0.0->textacy) (0.4.3.1)\n",
            "Requirement already satisfied, skipping upgrade: webencodings in /usr/local/lib/python3.6/dist-packages (from html5lib->ftfy<5.0.0,>=4.2.0->textacy) (0.5.1)\n",
            "Building wheels for collected packages: pyemd, ftfy, python-levenshtein\n",
            "  Running setup.py bdist_wheel for pyemd ... \u001b[?25l-\b \b\\\b \b|\b \b/\b \b-\b \b\\\b \b|\b \b/\b \b-"
          ],
          "name": "stdout"
        },
        {
          "output_type": "stream",
          "text": [
            "\b \bdone\r\n",
            "\u001b[?25h  Stored in directory: /content/.cache/pip/wheels/e4/ba/b0/1f4178a35c916b22fc51dc56f278125d4b8cfb0592e5f0cc24\n",
            "  Running setup.py bdist_wheel for ftfy ... \u001b[?25l-\b \b\\\b \bdone\n",
            "\u001b[?25h  Stored in directory: /content/.cache/pip/wheels/37/54/00/d320239bfc8aad1455314f302dd82a75253fc585e17b81704e\n",
            "  Running setup.py bdist_wheel for python-levenshtein ... \u001b[?25l-\b \b\\\b \b|\b \bdone\n",
            "\u001b[?25h  Stored in directory: /content/.cache/pip/wheels/de/c2/93/660fd5f7559049268ad2dc6d81c4e39e9e36518766eaf7e342\n",
            "Successfully built pyemd ftfy python-levenshtein\n",
            "Installing collected packages: pyemd, pyphen, ijson, unidecode, ftfy, python-levenshtein, textacy\n",
            "Successfully installed ftfy-4.4.3 ijson-2.3 pyemd-0.5.1 pyphen-0.9.4 python-levenshtein-0.12.0 textacy-0.6.2 unidecode-1.0.22\n"
          ],
          "name": "stdout"
        }
      ]
    },
    {
      "metadata": {
        "id": "kRIcyif0R58e",
        "colab_type": "code",
        "colab": {
          "autoexec": {
            "startup": false,
            "wait_interval": 0
          }
        }
      },
      "cell_type": "code",
      "source": [
        "import spacy"
      ],
      "execution_count": 0,
      "outputs": []
    },
    {
      "metadata": {
        "id": "h6tl8brAR91d",
        "colab_type": "code",
        "colab": {
          "autoexec": {
            "startup": false,
            "wait_interval": 0
          }
        }
      },
      "cell_type": "code",
      "source": [
        "nlp = spacy.load('es')"
      ],
      "execution_count": 0,
      "outputs": []
    },
    {
      "metadata": {
        "id": "r6tx_4UiSGY6",
        "colab_type": "code",
        "colab": {
          "autoexec": {
            "startup": false,
            "wait_interval": 0
          }
        }
      },
      "cell_type": "code",
      "source": [
        "text = \"Madrid es la capital de España y de la Comunidad de Madrid. Es la ciudad más poblada de España. En su área metropolitana viven más de seis millones de personas, lo que la convierte en la tercera o cuarta área metropolitana de la Unión Europea, por detrás de las de París y Londres. La capital de España es también la tercera ciudad más poblada de la Unión Europea, por detrás de Berlín y Londres.\""
      ],
      "execution_count": 0,
      "outputs": []
    },
    {
      "metadata": {
        "id": "AoZxZbrISQee",
        "colab_type": "code",
        "colab": {
          "autoexec": {
            "startup": false,
            "wait_interval": 0
          }
        }
      },
      "cell_type": "code",
      "source": [
        "doc = nlp(text)"
      ],
      "execution_count": 0,
      "outputs": []
    },
    {
      "metadata": {
        "id": "YOtLv-enSVAA",
        "colab_type": "code",
        "colab": {
          "autoexec": {
            "startup": false,
            "wait_interval": 0
          },
          "base_uri": "https://localhost:8080/",
          "height": 208
        },
        "outputId": "4da2e737-6ae4-45bf-f59d-334543d7ce8a",
        "executionInfo": {
          "status": "ok",
          "timestamp": 1533046285310,
          "user_tz": -120,
          "elapsed": 531,
          "user": {
            "displayName": "Elena del Olmo",
            "photoUrl": "//lh5.googleusercontent.com/-vGldiq9ESB8/AAAAAAAAAAI/AAAAAAAAAxw/Yb8_nlM8V-g/s50-c-k-no/photo.jpg",
            "userId": "112120734031415552045"
          }
        }
      },
      "cell_type": "code",
      "source": [
        "for entity in doc.ents:\n",
        "  print(f\"{entity.text} ({entity.label_})\")"
      ],
      "execution_count": 9,
      "outputs": [
        {
          "output_type": "stream",
          "text": [
            "Madrid (LOC)\n",
            "España (LOC)\n",
            "Comunidad de Madrid (LOC)\n",
            "España (LOC)\n",
            "Unión Europea (ORG)\n",
            "París (LOC)\n",
            "Londres (LOC)\n",
            "La capital de España (LOC)\n",
            "Unión Europea (ORG)\n",
            "Berlín (LOC)\n",
            "Londres (LOC)\n"
          ],
          "name": "stdout"
        }
      ]
    },
    {
      "metadata": {
        "id": "RNfEmmLyuyta",
        "colab_type": "code",
        "colab": {
          "autoexec": {
            "startup": false,
            "wait_interval": 0
          }
        }
      },
      "cell_type": "code",
      "source": [
        "def replace_name_with_placeholder(token):\n",
        "    if token.ent_iob != 0 and token.ent_type_ == \"PER\":\n",
        "        return \"[REDACTED] \"\n",
        "    else:\n",
        "        return token.string\n"
      ],
      "execution_count": 0,
      "outputs": []
    },
    {
      "metadata": {
        "id": "fvlF2rTSvVhk",
        "colab_type": "code",
        "colab": {
          "autoexec": {
            "startup": false,
            "wait_interval": 0
          }
        }
      },
      "cell_type": "code",
      "source": [
        "def anon(text):\n",
        "    doc = nlp(text)\n",
        "    for ent in doc.ents:\n",
        "        ent.merge()\n",
        "    tokens = map(replace_name_with_placeholder, doc)\n",
        "    return \"\".join(tokens)"
      ],
      "execution_count": 0,
      "outputs": []
    },
    {
      "metadata": {
        "id": "3VoaRTfTvy4B",
        "colab_type": "code",
        "colab": {
          "autoexec": {
            "startup": false,
            "wait_interval": 0
          }
        }
      },
      "cell_type": "code",
      "source": [
        "textoAnon = \"Noam Chomsky nació el 7 de diciembre de 1928 en Filadelfia (Pensilvania), hijo del doctor William (Zev) Chomsky (estudioso de la lengua hebrea y uno de sus más distinguidos gramáticos) y de Elsie Simonofsky, maestra de hebreo. Ambos eran inmigrantes judeo-ucranianos. Desde 1945, estudió filosofía, lingüística y matemática en la Universidad de Pensilvania. Allí estuvo bajo la tutela del profesor Zellig Harris.\""
      ],
      "execution_count": 0,
      "outputs": []
    },
    {
      "metadata": {
        "id": "ktvwQrpcv7wd",
        "colab_type": "code",
        "colab": {
          "autoexec": {
            "startup": false,
            "wait_interval": 0
          },
          "base_uri": "https://localhost:8080/",
          "height": 54
        },
        "outputId": "852b7009-fca8-46ba-ecd2-3fefb5d151d8",
        "executionInfo": {
          "status": "ok",
          "timestamp": 1533046298481,
          "user_tz": -120,
          "elapsed": 590,
          "user": {
            "displayName": "Elena del Olmo",
            "photoUrl": "//lh5.googleusercontent.com/-vGldiq9ESB8/AAAAAAAAAAI/AAAAAAAAAxw/Yb8_nlM8V-g/s50-c-k-no/photo.jpg",
            "userId": "112120734031415552045"
          }
        }
      },
      "cell_type": "code",
      "source": [
        "print(anon(textoAnon))"
      ],
      "execution_count": 13,
      "outputs": [
        {
          "output_type": "stream",
          "text": [
            "[REDACTED] nació el 7 de diciembre de 1928 en Filadelfia (Pensilvania), hijo del doctor [REDACTED] ([REDACTED] ) [REDACTED] (estudioso de la lengua hebrea y uno de sus más distinguidos gramáticos) y de [REDACTED] , maestra de hebreo. [REDACTED] eran inmigrantes judeo-ucranianos. Desde 1945, estudió filosofía, lingüística y matemática en la Universidad de Pensilvania. [REDACTED] estuvo bajo la tutela del profesor [REDACTED] .\n"
          ],
          "name": "stdout"
        }
      ]
    },
    {
      "metadata": {
        "id": "Cdcb5goy01yo",
        "colab_type": "code",
        "colab": {
          "autoexec": {
            "startup": false,
            "wait_interval": 0
          }
        }
      },
      "cell_type": "code",
      "source": [
        "import textacy.extract"
      ],
      "execution_count": 0,
      "outputs": []
    },
    {
      "metadata": {
        "id": "K0i6wKoE2mUj",
        "colab_type": "code",
        "colab": {
          "autoexec": {
            "startup": false,
            "wait_interval": 0
          },
          "base_uri": "https://localhost:8080/",
          "height": 263
        },
        "outputId": "730702de-8b05-47de-f1b8-0422d1aa903e",
        "executionInfo": {
          "status": "ok",
          "timestamp": 1533046320447,
          "user_tz": -120,
          "elapsed": 9941,
          "user": {
            "displayName": "Elena del Olmo",
            "photoUrl": "//lh5.googleusercontent.com/-vGldiq9ESB8/AAAAAAAAAAI/AAAAAAAAAxw/Yb8_nlM8V-g/s50-c-k-no/photo.jpg",
            "userId": "112120734031415552045"
          }
        }
      },
      "cell_type": "code",
      "source": [
        "!python3 -m spacy download en"
      ],
      "execution_count": 15,
      "outputs": [
        {
          "output_type": "stream",
          "text": [
            "Collecting en_core_web_sm==2.0.0 from https://github.com/explosion/spacy-models/releases/download/en_core_web_sm-2.0.0/en_core_web_sm-2.0.0.tar.gz#egg=en_core_web_sm==2.0.0\n",
            "\u001b[?25l  Downloading https://github.com/explosion/spacy-models/releases/download/en_core_web_sm-2.0.0/en_core_web_sm-2.0.0.tar.gz (37.4MB)\n",
            "\u001b[K    100% |████████████████████████████████| 37.4MB 60.6MB/s \n",
            "\u001b[?25hInstalling collected packages: en-core-web-sm\n",
            "  Running setup.py install for en-core-web-sm ... \u001b[?25l-\b \b\\\b \b|\b \bdone\n",
            "\u001b[?25hSuccessfully installed en-core-web-sm-2.0.0\n",
            "\n",
            "\u001b[93m    Linking successful\u001b[0m\n",
            "    /usr/local/lib/python3.6/dist-packages/en_core_web_sm -->\n",
            "    /usr/local/lib/python3.6/dist-packages/spacy/data/en\n",
            "\n",
            "    You can now load the model via spacy.load('en')\n",
            "\n"
          ],
          "name": "stdout"
        }
      ]
    },
    {
      "metadata": {
        "id": "BQh2_bos2fiE",
        "colab_type": "code",
        "colab": {
          "autoexec": {
            "startup": false,
            "wait_interval": 0
          }
        }
      },
      "cell_type": "code",
      "source": [
        "nlp = spacy.load('en')"
      ],
      "execution_count": 0,
      "outputs": []
    },
    {
      "metadata": {
        "id": "UmDpiyON2jZJ",
        "colab_type": "code",
        "colab": {
          "autoexec": {
            "startup": false,
            "wait_interval": 0
          }
        }
      },
      "cell_type": "code",
      "source": [
        "text = \"\"\"London is the capital and most populous city of England and  the United Kingdom.  \n",
        "Standing on the River Thames in the south east of the island of Great Britain, \n",
        "London has been a major settlement  for two millennia.  It was founded by the Romans, \n",
        "who named it Londinium.\n",
        "\"\"\""
      ],
      "execution_count": 0,
      "outputs": []
    },
    {
      "metadata": {
        "id": "JaN88PzY2z07",
        "colab_type": "code",
        "colab": {
          "autoexec": {
            "startup": false,
            "wait_interval": 0
          }
        }
      },
      "cell_type": "code",
      "source": [
        "doc = nlp(text)"
      ],
      "execution_count": 0,
      "outputs": []
    },
    {
      "metadata": {
        "id": "eBMUlZO822Cz",
        "colab_type": "code",
        "colab": {
          "autoexec": {
            "startup": false,
            "wait_interval": 0
          }
        }
      },
      "cell_type": "code",
      "source": [
        "statements = textacy.extract.semistructured_statements(doc, \"London\")"
      ],
      "execution_count": 0,
      "outputs": []
    },
    {
      "metadata": {
        "id": "peCK6iuB24SD",
        "colab_type": "code",
        "colab": {
          "autoexec": {
            "startup": false,
            "wait_interval": 0
          },
          "base_uri": "https://localhost:8080/",
          "height": 69
        },
        "outputId": "cc57599d-ceb0-49de-8f75-7e7070e884fb",
        "executionInfo": {
          "status": "ok",
          "timestamp": 1533046331292,
          "user_tz": -120,
          "elapsed": 553,
          "user": {
            "displayName": "Elena del Olmo",
            "photoUrl": "//lh5.googleusercontent.com/-vGldiq9ESB8/AAAAAAAAAAI/AAAAAAAAAxw/Yb8_nlM8V-g/s50-c-k-no/photo.jpg",
            "userId": "112120734031415552045"
          }
        }
      },
      "cell_type": "code",
      "source": [
        "for statement in statements:\n",
        "  subject, verb, fact = statement\n",
        "  print(f\" - {fact}\")"
      ],
      "execution_count": 20,
      "outputs": [
        {
          "output_type": "stream",
          "text": [
            " - the capital and most populous city of England and  the United Kingdom.  \n",
            "\n",
            " - a major settlement  for two millennia.  \n"
          ],
          "name": "stdout"
        }
      ]
    },
    {
      "metadata": {
        "id": "EGIlZv0V45P_",
        "colab_type": "code",
        "colab": {
          "autoexec": {
            "startup": false,
            "wait_interval": 0
          }
        }
      },
      "cell_type": "code",
      "source": [
        "textoLargo = \"\"\"\n",
        "{{Ficha de persona\n",
        "|conocido = [[Gramática generativa]], [[gramática universal]], [[gramática transformacional]], [[rección y ligamiento]], [[teoría de la X']], [[jerarquía de Chomsky]], [[gramática libre de contexto]], [[principios y parámetros]], [[dispositivo de adquisición del lenguaje]], [[programa minimalista]], [[pobreza del estímulo]], [[teorema de Chomsky-Schützenberger]], [[forma normal de Chomsky]], [[modelo de Propaganda de los medios de comunicación]]<ref name=\"Letters to the Editor in ''Journal of Palestine Studies''\">Kanan Makiya, Fouad Moughrabi, Adel Safty, Rex Brynen, [http://links.jstor.org/sici?sici=0377-919X(199422)23%3A4%3C196%3AL%3E2.0.CO%3B2-3 \"Letters to the Editor\" in ''Journal of Palestine Studies,''] ''Journal of Palestine Studies'' via [[JSTOR]] (Vol. 23, No. 4, verano de 1994, pp. 196–200), visto 4 de diciembre de 2007. Relevant quotation: \"On page 146 of my book, I clearly adopt ''the propaganda model developed by Noam Chomsky'' and Edward Herman...\"</ref>\n",
        "}}\n",
        "'''Avram Noam Chomsky''' ([[Filadelfia]], [[7 de diciembre]] de [[1928]]) es un [[lingüista]], [[filósofo]], [[Ciencia política|politólogo]] y [[activista]] [[Estados Unidos|estadounidense]]. Es [[profesor emérito]] de [[lingüística]] en el [[Instituto Tecnológico de Massachusetts]] (MIT) y una de las figuras más destacadas de la lingüística del [[siglo XX]], gracias a sus trabajos en teoría lingüística y [[ciencia cognitiva]]. También es reconocido por su activismo político, caracterizado por una fuerte crítica del [[capitalismo]] contemporáneo y de la política exterior de los Estados Unidos. Se le considera de pensamiento [[socialista libertario]].<ref name=\"chomskylibertariansocialist\">{{Cita web |url=http://www.chomsky.info/onchomsky/1999----.pdf |título=Chomsky's Libertarian Socialism |autor=Edgley, Alison |fecha=1999 |idioma=inglés |urlarchivo=https://web.archive.org/web/20090627155151/http://www.chomsky.info/onchomsky/1999----.pdf |fechaarchivo=27 de junio de 2009 }}</ref>\n",
        "El ''[[New York Times]]'' lo ha señalado como «el más importante de los pensadores contemporáneos».<ref>''[http://select.nytimes.com/gst/abstract.html?res=F50B1EFE3B5511728DDDAC0A94DA405B898BF1D3&scp=1&sq=arguably%20the%20most%20important%20intellectual%20alive&st=cse The Chomsky Problem]'' (en inglés). The New York Times (25-2-1979).</ref>\n",
        "\n",
        "Propuso la [[gramática generativa]], disciplina que situó la [[sintaxis]] en el centro de la investigación lingüística. Con ésta cambió la perspectiva, los programas y métodos de investigación en el estudio del lenguaje. Su lingüística es una teoría de la adquisición individual del lenguaje e intenta explicar las estructuras y principios más profundos del lenguaje. Postuló un aspecto bien definido de innatismo en la adquisición del lenguaje y la autonomía de la gramática (sobre los otros sistemas cognitivos), así como la existencia de un «órgano del lenguaje» y de una [[gramática universal]]. Se opuso con dureza al [[empirismo]] filosófico y científico y al funcionalismo, en favor del [[racionalismo]] [[Cartesianismo|cartesiano]]. Todas estas ideas chocaban frontalmente con las tradicionales de las ciencias humanas, lo que concitó múltiples adhesiones, críticas y polémicas que le han acabado convirtiendo en uno de los autores más citados.<ref name=\"chomskycitado\">{{Cita publicación |apellido=Sáenz |nombre=Mauricio |título=Noam Chomsky |url=http://books.google.es/books?id=-2UEAAAAMBAJ&lpg=PP1&pg=PT34#v=onepage&q&f=false|publicación=Arcadia |fecha=Diciembre de 2006 |número=15 |fechaacceso=13 de junio de 2011 }}, citando a {{Cita libro|apellidos=Barsky |nombre=Robert F |título=Noam Chomsky, una vida de discrepancia |año=2005 |editorial=Península|isbn=9788483076767}}</ref>\n",
        "\n",
        "Destaca su contribución al establecimiento de las ciencias cognitivas a partir de su crítica del [[conductismo]] de [[Burrhus Frederic Skinner|Skinner]] y de las gramáticas de estados finitos, que puso en tela de juicio el método basado en el comportamiento del estudio de la mente y el lenguaje que dominaba en los años cincuenta. Su enfoque naturalista en el estudio del lenguaje ha influido en la filosofía del lenguaje y de la mente (ver a [[Gilbert Harman|Harman]] y a [[Jerry Fodor|Fodor]]). Es el descubridor de la [[jerarquía de Chomsky]], una clasificación de [[lenguaje formal|lenguajes formales]] de gran importancia en [[teoría de la computación]].\n",
        "\n",
        "También es conocido por su [[Activismo|activismo político]] y por sus [[Crítica social|críticas]] a la política exterior de Estados Unidos y de otros países, como [[Israel]]. Chomsky, que desvincula completamente su actividad científica de su activismo político, se describe a sí mismo como simpatizante del [[anarcosindicalismo]] (es miembro del sindicato [[Industrial Workers of the World|IWW]]). Chomsky es considerado una figura influyente en su país de origen y en el mundo.\n",
        "\n",
        "== Biografía ==\n",
        "Noam Chomsky nació el [[7 de diciembre]] de [[1928]] en [[Filadelfia]] ([[Pensilvania]]), hijo del doctor [[William Chomsky|William (Zev) Chomsky]] (estudioso de la [[idioma hebreo|lengua hebrea]] y uno de sus más distinguidos [[gramática|gramáticos]]) y de Elsie Simonofsky, maestra de hebreo. Ambos eran inmigrantes [[judaísmo|judeo]]-[[ucrania]]nos. Desde 1945, estudió [[filosofía]], [[lingüística]] y [[matemática]] en la [[Universidad de Pensilvania]]. Allí estuvo bajo la tutela del profesor [[Zellig Harris]] (también inmigrante judeo-ucraniano, fundador del primer departamento especializado en lingüística en [[Norteamérica]]). Harris y Elsie influyeron más que Zev en la formación de su ideología política. También por influencia de Zellig Harris, Chomsky comenzó a tomar clases de matemáticas y filosofía. Uno de sus maestros fue el filósofo Nelson Goodman, quien más tarde los presentaría en la Society of Fellows de Harvard. Recibió su doctorado en 1955, después de llevar a cabo la mayor parte de sus investigaciones en la [[Universidad de Harvard]] durante los cuatro años anteriores. En 1998 recibió el [[Doctorado honoris causa]] (lingüística) de la [[Universidad Rovira i Virgili]].<ref>{{Cita web |título=Chomsky reclama una Universidad subversiva en su discurso de investidura |url=http://elpais.com/diario/1998/10/31/catalunya/909799650_850215.html |sitioweb=EL PAÍS |fecha=31 de octubre de 1998 |fechaacceso=5 de febrero de 2016|nombre=Ediciones El |apellido=País}}</ref>  Recibió esta misma distinción por parte de la [[Universidad Nacional de Colombia]]<ref>[http://www.unal.edu.co/secretaria/normas/csu/2002/R0034_02S.pdf Resolución número 34 de 2002 del Consejo Superior Universitario de la [[Universidad Nacional de Colombia]]]</ref> en 2002, de la [[Universidad de Chile]]<ref>http://www.lanacion.cl/noticias/site/artic/20061018/pags/20061018174006.html</ref> y de la [[Universidad de la Frontera]]<ref>{{Cita noticia|apellidos=Noticias.universia.cl |título=Universidad de La Frontera condecora con Honoris Causa a Noam Chomsky |url=http://noticias.universia.cl/vida-universitaria/noticia/2006/10/18/327528/universidad-frontera-condecora-honoris-causa-noam-chomsky.html |fechaacceso=10 de diciembre de 2016|periódico=Noticias Universia Chile}}</ref> en 2006 y de la [[Universidad Nacional Autónoma de México]]<ref>{{Cita noticia |título=UNAM otorga doctorados honoris causa a figuras de la ciencia y humanidad |url=http://mexico.cnn.com/nacional/2010/09/23/unam-otorga-doctorados-honoris-causa-a-figuras-de-la-ciencia-y-humanidad |fechaacceso=10 de diciembre de 2016|periódico=Expansión |idioma=es-MX}}</ref> en 2010.\n",
        "\n",
        "En su [[tesis]] doctoral comenzó a desarrollar algunas de sus ideas en lingüística, elaborándolas luego en su libro ''Estructuras sintácticas'', posiblemente su trabajo más conocido en este campo. Sus planteamientos lingüísticos han revolucionado muchos puntos clave del estudio del lenguaje humano, que se han plasmado en la teoría de la [[Gramática generativa transformacional]].\n",
        "\n",
        "Es profesor del [[Massachusetts Institute of Technology]] (MIT) desde 1961, donde ocupó la cátedra [[Ferrari P. Ward]] de Lenguaje Moderno y Lingüística de 1966 a 1976.\n",
        "\n",
        "Su cónyuge fue [[Carol Chomsky|Carol Schatz]], quien murió el 20 de diciembre de 2008.<ref>[http://www.nytimes.com/2008/12/21/us/21chomsky-carol.html?_r=1 «Carol Chomsky, 78, linguist and educator, dies»], artículo del 21 de diciembre de 2008 en el diario ''New York Times'' (Estados Unidos).</ref>\n",
        "Tiene dos hijas y un hijo.\n",
        "\n",
        "== Contribuciones a la lingüística ==\n",
        "\n",
        "En 1957, con solo 29 años, Chomsky revolucionó el campo de la lingüística teórica con la publicación de la obra ''Estructuras sintácticas'', basada en su tesis doctoral ―''Estructura lógica de la teoría lingüística''―, que no se publicaría hasta 1975. Su efecto sobre las teorías lingüísticas y psicológicas entonces en boga fue demoledor, ya que atacaba los presupuestos centrales tanto del [[Estructuralismo (lingüística)|estructuralismo]] como de la [[psicología conductista]]. Hasta entonces, se creía que la adquisición del lenguaje, como cualquier otra destreza humana, se producía por medio del aprendizaje y de la asociación. Sin embargo, Chomsky postulaba la existencia de un dispositivo cerebral innato (el «órgano del lenguaje»), que permite aprender y utilizar el lenguaje de forma casi instintiva. Comprobó además que los principios generales abstractos de la gramática son universales en la especie humana y postuló la existencia de una [[Gramática Universal]].\n",
        "\n",
        "La [[Gramática universal|Gramática Universal]] de Chomsky asegura que el fundamento común de la lenguas humanas es su [[Recursión|recursividad]], un proceso, habitualmente asociado a la subordinación, que posibilita a un hablante a introducir oraciones en otras oraciones sin límite. Este principio sería el que permitiría a los seres humanos establecer una comunicación rica y compleja para distanciarse, por ejemplo, de los animales. Sin embargo, la teoría de la recursividad de Chomsky se puso en entredicho en el momento en el que el profesor [[Daniel Everett]], después de convivir con la tribu indígena de los [[pirahã]], descubrió presuntamente un idioma nuevo que contradice dicha teoría: [[Idioma pirahã|el idioma pirahã]]. Este nuevo idioma, que carecería de numeración, tiempos verbales y colores, se caracterizaría por su simplicidad aunque, a pesar de que tendría una percepción simple y reducida del mundo, cumpliría con las necesidades comunicativas de la tribu. Este descubrimiento es muy controvertido, ya que el propio Everett es la única persona fuera de la tribu capaz de entenderlo.\n",
        "\n",
        "Chomsky denominó [[gramática generativa]] al conjunto de reglas innatas que permite traducir combinaciones de ideas a combinaciones de un código. Fundamentó la hipótesis, ya existente, de que la gramática es un sistema combinatorio discreto que permite construir infinitas frases a partir de un número finito de elementos mediante reglas diversas que pueden formalizarse. La nueva teoría consideraba que las expresiones (secuencias de palabras) tienen una sintaxis que puede caracterizarse (globalmente) por una [[gramática formal]]; en particular, una gramática extendida por normas de transformación. A los niños se les supone un conocimiento innato de la gramática elemental común a todas las lenguas humanas (lo que supone que toda lengua existente es una clase de restricción). Se sostiene que la modelización del conocimiento de la lengua a través de una gramática formal explica la «productividad» de la lengua: con un juego reducido de reglas gramaticales y un conjunto finito de términos, los humanos pueden producir un número infinito de frases, incluidas frases que nadie haya dicho anteriormente.\n",
        "\n",
        "''The Principles and Parameters approach'' (P&P) (''Aproximación por principios y parámetros''), desarrollada en las ''Conferencias'' de Pisa (1979) y publicada más tarde bajo el título ''Lectures on Government and Binding'' (LGB), retoma mucho de la gramática universal: los principios gramaticales en los que se basan las lenguas son innatos y fijos; las diferencias entre las distintas lenguas en el mundo se pueden caracterizar en términos de parámetros programados en el cerebro (como el [[parámetro de elisión]], ''pro drop param'', que indica cuándo un tema explícito es siempre requerido, como en inglés, o si este puede elidirse, como en español) a menudo comparados a interruptores (de ahí el término de [[principios y parámetros]] utilizado para calificar este enfoque). Según esta teoría, un niño que aprende una lengua solo necesita adquirir los elementos léxicos básicos (palabras, [[morfema]]s gramaticales y [[Proverbio|refranes]]) y fijar los valores convenientes en los parámetros, lo que puede efectuarse sobre algunos ejemplos clave.\n",
        "\n",
        "Los partidarios de esta concepción ponen como ejemplo que la velocidad con la cual los niños aprenden lenguas es inexplicablemente rápida, algo no posible a menos que tengan una capacidad innata para aprenderlas. La similaridad de las etapas que siguen todos los niños a través del mundo cuando aprenden una lengua, y el hecho de que cometan errores característicos cuando adquieren su primera lengua, mientras que otros tipos de error al parecer lógicos no se producen nunca (y, según Chomsky, estos deberían darse si el mecanismo de aprendizaje utilizado fuese general más que específico de una lengua), se postulan también como un argumento a favor de dicho innatismo.\n",
        "\n",
        "Más recientemente, en su ''Programa minimalista'' (1995), conservando al mismo tiempo el concepto central de «principios y parámetros», Chomsky intenta una revisión importante de las máquinas lingüísticas implicadas en el modelo de LGB, despojándolos de todo excepto de los elementos estrictamente necesarios. Al mismo tiempo, preconiza un enfoque general de la arquitectura de la facultad de la lengua humana, destaca los principios de la economía y la concepción óptima y retorna al enfoque ''derivacional'' de la generación, en oposición con la mayor parte del enfoque ''representativo'' clásico del P&P.\n",
        "\n",
        "Chomsky caracterizó la tarea del lingüista mucho mejor que ninguno de sus predecesores y fijó con todo rigor el campo para el estudio científico del lenguaje. Su objetivo nunca fue establecer una teoría especulativa más sobre el lenguaje, sino una explicación rigurosa de su complejidad. La intención era por tanto pasar de una pre-ciencia meramente descriptiva a una ciencia con poder explicativo y predictivo falsable y con construcciones abstractas que permitiesen un riguroso sistema axiomático. Nada ha sido igual desde entonces en el campo del estudio del lenguaje y, por extensión, de la mente humana. La gramática generativa de Chomsky fue la primera evidencia sólida de que la inteligencia humana está basada en dispositivos cerebrales especializados e innatos y eso ha permitido agrupar las ciencias cognitivas. También provocó una enorme escisión epistemológica, que todavía se mantiene, frente a quienes rechazan la concepción modular e innata de la mente y siguen siendo partidarios de un modelo de cerebro como ''tabla rasa'', como por ejemplo los psicólogos que trabajan con procesos de [[emergencia (filosofía)|emergencia]] o las teorías [[conexionismo|conexionistas]], que consideran la lengua como un caso particular de los procesos generales del cerebro.\n",
        "\n",
        "\n",
        "\n",
        "=== Teoría de principios y parámetros ===\n",
        "{{ap|Principios y parámetros|Rección y ligamiento}}\n",
        "Chomsky se ocupa de las [[lengua natural|lenguas naturales]] partiendo de una [[gramática universal]] propia de todos los seres humanos, de raíz biológica, de la cual derivan las distintas lenguas de las diversas culturas que han existido en la historia del hombre y que existen aún.\n",
        "\n",
        "La diferencia entre la gramática universal (GU) y las distintas gramáticas particulares (GGPP) radica en que la primera se relaciona con la disposición de un conjunto de principios ―como el «[[Teoría-θ#Principio de proyección|principio de proyección]]», el «[[principio de dependencia de la estructura]]», el «[[rección y ligamiento|principio de ligamiento]]», la «[[Caso (gramática)#Teoría del caso abstracto|teoría del caso]]», el «[[criterio temático]]» y algunos otros―, mientras que las GGPP se vinculan a las múltiples variaciones que pueden hacer las lenguas de los parámetros de esos principios. Un ejemplo de esta variación se da en el «parámetro de los sujetos nulos», que en [[idioma español|español]] se puede presentar mientras que en [[idioma inglés|inglés]] no, como muestra el siguiente ejemplo:\n",
        "* En español: «caminó mucho y está muy cansado». En esta oración el sujeto aparece implícito o es de sujeto nulo.\n",
        "* En inglés: «''he walked a lot and he is very tired''». El sujeto nulo no se permite en inglés y es necesario que el sujeto («''he''») aparezca explicitado dos veces en la oración.\n",
        "Así, las GGPP no son más que combinaciones de elementos finitos que pueden dar lugar a múltiples lenguas e idiomas que en esta teoría son llamadas [[lengua-I]].\n",
        "\n",
        "El sistema encargado de articular estos principios y variar los parámetros es el [[cerebro humano]] con su capacidad de [[sintaxis]], que en su sentido amplio adquiere la forma de un [[sistema computacional]] que opera en [[módulos]]. Los módulos responden a una estructura matriz compuesta por tres componentes, dentro de los cuales actúan los [[principios y parámetros]] definidos como una serie de teorías de lenguaje, conectadas con cuatro módulos centrales: la [[estructura-P]], la [[estructura-S]], la [[forma fonológica]] (FF) y la [[Forma lógica (generativismo)|forma lógica]] (FL). La estructura-P conecta las oraciones con principios, mientras que la estructura-S apela a la transformación o variabilidad que pueden presentar dichas conexiones; además, la FF se vincula con la entonación y sonido de las expresiones lingüísticas o [[fonología]] y la FL se encarga de la [[Semántica lingüística|semántica]] de estas expresiones en relación a su interpretación de sentido y significado.\n",
        "\n",
        "En la [[estructura-P]] se encuentran las primeras relaciones entre [[léxico]] y [[sintaxis]], como las relaciones [[sintagma|sintagmáticas]] que establecen qué es [[sintagma verbal]], [[sintagma nominal]], [[sintagma adjetival]] o [[sintagma preposicional]], entre otras relaciones categoriales.\n",
        "\n",
        "La [[estructura-S]] señala acciones transformacionales o de parámetro, no solamente de principio como en la estructura-P. Un ejemplo es la operación ''muévase α'', en la que un elemento se mueve en la oración a otra posición. La estructura-S también sirve como conector entre dos módulos que no se relacionan directamente. El primero es la [[forma fonológica]] (FF), que se encarga de articular sonidos con formas léxicas a partir de fonemas definidos, como también de establecer las entonaciones de una pregunta o una afirmación, una suposición entre otras acciones ligadas a lo mismo.\n",
        "\n",
        "Por último, la forma lógica, quizás la más compleja de todas, conecta con el ejercicio semántico de [[interpretación]] y [[significado]] en el [[Sentido lingüístico|sentido]] de un oración en la cual se encuentran a nivel [[léxico]] las redes temáticas y las selecciones S, como modos de organizar la oración según papeles temáticos (tales como ''agente'', ''tema'', ''experimentante'' o ''benefactivo'') y [[categorías gramaticales]] (tales como ''animado'' o ''humano'') respectivamente, para luego dibujar la estructura morfológica de la oración a nivel sintáctico.\n",
        "\n",
        "Estos cuatro módulos entregan una salida (''output'') que sirve como entrada (''input'') del siguiente módulo hasta entregar una realización [[lingüística]] u oración en un acto comunicativo.<ref>Fernández Lagunilla, Marina; Anula Rebollo, Alberto (2004). ''Sintaxis y cognición: introducción a la gramática generativa''. Madrid: Síntesis. ISBN 84-9756-170-8.</ref>\n",
        "\n",
        "{{VT|Principios y parámetros|Rección y ligamiento}}\n",
        "\n",
        "== Activismo político y posicionamientos ==\n",
        "[[Archivo:Noam Chomsky WSF - 2003.jpg|thumb|300px|Noam Chomsky en el [[Foro Social Mundial]] de 2003.]]\n",
        "Noam Chomsky se interesó por la política a muy temprana edad, estimulado por las lecturas en las librerías de los anarquistas españoles exiliados en Nueva York. A los once años publicó su primer artículo sobre la caída de Barcelona y la expansión del fascismo en Europa.<ref>[http://www.huffingtonpost.es/jorge-majfud/sin-azucar-conversaciones_b_10025878.html “Sin azúcar: conversacipnes con Noam Chomslky] El Huffington Post, [[Jorge Majfud]] mayo 2016</ref>\n",
        "\n",
        "Su activismo político arranca de la movilización popular contra la [[Guerra del Vietnam]]. La participación de Chomsky en esta movilización fue particularmente sorprendente considerando que su propia universidad, MIT,  estaba investigando helicópteros, bombas inteligentes y técnicas de contrainsurgencia para la guerra en Vietnam. Y, como dice Chomsky,  \"se desarrolló una buena cantidad de tecnología de orientación de misiles [nucleares] en el campus del MIT\".<ref>[https://books.google.co.uk/books?id=x3ertj1IcaAC&printsec=frontcover&source=gbs_ge_summary_r&cad=0#v=onepage&q&f=false Michael Albert, ‘’Remembering Tomorrow’’], p97-99; C.P.Otero, ‘’Noam Chomsky: Language and Politics’’, p247; [http://tech.mit.edu/V92/PDF/V92-N21.pdf 'MIT may be dangerous to the world'], ‘’The Tech’’, 28/4/72, p5.</ref> Como Chomsky también dice, \"aproximadamente el 90% [del MIT] estaba financiado por el Pentágono en ese momento.  Y yo personalmente estaba justo en el medio de eso. Estaba en un laboratorio militar.”<ref>G.D.White, ‘’Campus Inc.’’, p445.</ref> La oposición de Chomsky a la guerra de Vietnam lo llevó a analizar el papel del mundo académico en la implicación de Estados Unidos en esta guerra. Fruto de este esfuerzo fueron varios artículos compilados en el libro ''American Power and the New Mandarins'' (El poder estadounidense y los nuevos mandarines) [[1969]], de entre los cuales destaca ''La responsabilidad de los intelectuales'' (publicado inicialmente en febrero de 1967 en ''The New York Review of Books''). Desde entonces, ha sido muy conocido por sus ideas políticas de [[Izquierda política|izquierda]], que se centran en la lucha por superar el déficit democrático existente de Estados Unidos —es decir, la gran distancia entre las decisiones políticas y la opinión pública—, y en denunciar las ''ambiciones imperiales'' del gobierno de este país en el mundo. En general, se le considera un crítico del [[capitalismo]] y también ha hablado en contra del [[darwinismo social]] de [[Herbert Spencer]].\n",
        "\n",
        "Se define a sí mismo como partidario de la tradición [[anarquismo|anarquista]], especialmente de la corriente de orientación laboral del anarquismo, el [[anarcosindicalismo]], y es miembro del célebre [[sindicalismo revolucionario|sindicato revolucionario]] estadounidense [[Industrial Workers of the World|IWW]], al que también perteneció su padre. Pese a ello, no se opone totalmente a la política electoral, al menos en el ámbito de la estrategia: su postura en las elecciones de Estados Unidos es que los ciudadanos deberían votar por los [[Partido Demócrata de los Estados Unidos|demócratas]] locales si con ello se consigue sacar del poder a los [[Partido Republicano de los Estados Unidos|republicanos]], mientras que en las situaciones donde las victorias republicana o demócrata están claras ha pedido el voto para candidaturas más a la izquierda, como las del [[Partido Verde (Estados Unidos)|Partido Verde]]. Es uno de los más importantes colaboradores del grupo mediático independiente [[Z Communications]]. Esta actuación se inscribe claramente dentro de la tradicional táctica anarcosindicalista de impulsar movilizaciones populares que coaccionen la acción de los poderes públicos y fácticos hasta conseguir cambios concretos y reales (véase el prefacio de Chomsky al libro de [[Rudolf Rocker]], ''Anarcho-Syndicalism: Theory and Practice'', 1989).\n",
        "\n",
        "Desde un punto de vista más personal y filosófico, también se considera un conservador de la variante [[liberalismo clásico|liberal clásica]] (''Chomsky's Politics'', pp. 188) y se ha definido como un [[sionismo|sionista]]; aunque observa que la mayoría considera como [[antisionista|antisionista su definición de sionismo.]] Percibe un cambio en el significado del sionismo (''Chomsky Reader'') desde la década de [[años 1940|1940]]. En la misma línea y rescatando su contenido libertario, Chomsky ha declarado su admiración y adhesión al [[kibutz]] como forma social alternativa.\n",
        "\n",
        "Con el tiempo, se ha convertido en una de las principales figuras de la política radical estadounidense. Junto a [[José Saramago]] o [[Leonardo Boff]], entre otros, es uno de los principales intelectuales de la izquierda en el mundo, pese a lo cual, a diferencia de su actividad científica, su aportación teórica en el ámbito político no es demasiado relevante. Nunca se ha considerado un teórico en política, sino simplemente un ciudadano informado que mantiene una actitud muy [[Crítica social|crítica]] hacia la ideología dominante. Chomsky cree que, mientras la actividad científica no está al alcance de cualquiera (ya que exige una formación y una abstracción conceptual muy elevada), para la actividad de crítica política basta una cierta apertura de espíritu. Ha reiterado a menudo que la política debería ser cosa de todos y no dejarse en manos de la ''[[intelligentsia]]'', ni mucho menos aceptar que solo los profesionales de la política (sean periodistas, intelectuales o políticos) sean los únicos capacitados para opinar sobre política.\n",
        "\n",
        "Uno de sus principales aportes intelectuales ha sido el análisis de los medios de comunicación. En sus estudios sobre el tema se ha ocupado de los enfoques sesgados, o incluso engañosos, que hay detrás de la supuesta neutralidad de los medios más prestigiosos. Se trata de un trabajo de «[[Contrainformación alternativa|contrainformación]]» que ha obtenido gran difusión y que muchos otros han continuado. Fruto de este esfuerzo es el libro ''Los guardianes de la libertad,'' escrito junto con [[Edward S. Herman]], profesor de la [[Universidad de Pensilvania]].\n",
        "\n",
        "Su denuncia de la política exterior de [[Estados Unidos]], de las deficiencias democráticas de su maquinaria política, y de los engaños de los grandes medios de comunicación en este país, supone poner en duda tres de los pilares del nacionalismo estadounidense. Por otro lado, su visión sobre la política del estado israelí en Oriente Medio es parte de su crítica a la política exterior de Estados Unidos. Chomsky señala que desde hace años la maquinaria militar israelí depende enormemente del apoyo material y diplomático de Estados Unidos, y que ambos estados realizan sistemáticamente acciones violentas al margen de las leyes internacionales. Esta última circunstancia ha motivado que Chomsky declare que según los criterios internacionales actuales, ambos estados ejercen el terrorismo. En concreto en su libro ''11/09/2001'', afirma que los Estados Unidos es «uno de los principales estados terroristas» («''a leading terrorist state''»). Noam Chomsky lo publicó en diciembre del 2001, tres meses después de lo sucedido en Nueva York. Es un ensayo sobre los hechos y las consecuencias de los atentados del 11 de septiembre. Se basa en una estructura de siete largas entrevistas de periodistas extranjeros durante el primer mes y medio posterior a los ataques al World Trade Center y al Pentágono. No analiza únicamente las causas, las consecuencias de los atentados y la reacción del pueblo norteamericano, sino que cuestiona las razones de la guerra y los bombardeos. En este libro Chomsky refleja de nuevo su visión crítica con el poder y la industria militar.\n",
        "\n",
        "A raíz de estas denuncias, varios detractores de Chomsky lo han tildado de antiestadounidense. Algunos incluso han comprendido sus críticas como una supuesta obsesión antiestadounidense y antisionista. Para algunos nacionalistas, es especialmente controvertida su crítica a la política del gobierno de Israel, por su origen judío. También ha sido polémico su apoyo a la libertad de expresión en los que se conoce como el [[escándalo Faurisson]]. En la década de 1970, [[Robert Faurisson]] realizaría un estudio y escribiría un libro en el cual concluye que muchos de los acontecimientos del holocausto ( como las cámaras de gas) no existieron realmente. Chomsky firmaría una petición para garantizar a las autoridades la libertad de expresión, aclarando que él mismo no compartía el punto de vista [[negación del Holocausto|negacionista]], pero que no reconocía expresiones antisemitas en el trabajo de Faurisson. Chomsky califica al holocausto como ''la peor muestra de locura colectiva en la historia de la humanidad'', pero considera fundamental garantizar la defensa de la libertad de expresión, incluso para aquellas ideas popularmente mal vistas. Por último, destaca la crítica que hace de la izquierda [[posmoderna]] y de su entusiasmo por el [[relativismo cultural]] que, al ''deconstruir'' la noción de verdad, ha invalidado también la posibilidad de la crítica.{{cita requerida}}\n",
        "\n",
        "Chomsky ha pedido a EE. UU. y a Canadá levantar sanciones económicas impuestas a Venezuela <ref>César Levano. En su columna de ''Uno'', diario de Lima, 25 de marzo de 2018</ref> .\n",
        "\n",
        "== Antiglobalización económica de Chomsky ==\n",
        "\n",
        "Chomsky es uno de los detractores de la globalización, y esto se debe a su forma de entender la hegemonía del capitalismo moderno. Para Chomsky, Estados Unidos no cree en el libre comercio sino que lo utiliza como un método mediante el cual los países más fuertes imponen a los países pobres la obligación de cumplir unas normas coercitivas y rígidas (la [[ley del embudo]]).\n",
        "\n",
        "El objetivo básico de la globalización económica es globalizar toda la economía mundial, y Estados Unidos controlaría la economía mundial con el apoyo de los organismos satélites (Fondo Monetario, Banco Mundial, Organización Mundial del Comercio).\n",
        "El argumento habitual a favor del libre comercio liberalizado es que conducirá a un aumento generalizado de los niveles de vida. La experiencia ha demostrado que con la apertura de los mercados comerciales y financieros los inversores y empresarios han ganado mucho más dinero, pero gran parte de los países más pobres han sido las víctimas de un descenso pronunciado de sus niveles de vida.\n",
        "\n",
        "Según precisa Noam Chomsky:\n",
        "{{cita| Para la mayor parte de la población, incluso en un país tan rico como EE.&nbsp;UU., los sueldos se han estancado o han descendido a lo largo de los últimos 25 años, mientras que el horario y la inseguridad laboral han crecido mucho [...] La economía mundial ha descendido en el mismo periodo de tiempo (de forma considerable) [...] para una gran parte de la población mundial, las condiciones son horrorosas y a menudo se deterioran, y, lo que es más importante,[...] la correlación entre el crecimiento económico y el bienestar social que a menudo se ha dado (por ejemplo, durante la posguerra o la preliberalización) se ha truncado.<ref>[https://web.archive.org/web/20130729213802/http://transnationaljustice.com/publications/journlas/derechoypoder/736-entrevista-a-chomsky.html Véase Video en Transnational Justice Center]</ref>}}\n",
        "\n",
        "Sus afirmaciones políticas le han concitado un gran número de simpatizantes, en amplios sectores de la [[izquierda política|izquierda]], especialmente europea y latinoamericana, y también algunos detractores. Su libro ''11 de septiembre'' (''9/11'') tuvo una gran difusión, pese a haber sido publicado por una pequeña editorial. Solo la edición de este libro en inglés vendió centenares de miles ejemplares, y ha sido traducido a varias lenguas. Posteriormente, su libro ''Hegemonía o supervivencia: la búsqueda estadounidense del dominio global'' fue recomendado por el presidente de [[Venezuela]] [[Hugo Chávez]] en su discurso frente a la asamblea general de la [[ONU]] el día 20 de septiembre de 2006, lo que ocasionó que dicho libro, en aproximadamente dos días, pasase del puesto 160.772, al número 2 de los libros más vendidos en [[Amazon.com|Amazon]].<ref>[http://www.amazon.com/exec/obidos/tg/new-for-you/top-sellers/-/books/all/ref=pd_dp_ts_b_1/002-2021933-2978445 The most popular items on Amazon.com] (en inglés)</ref>\n",
        "\n",
        "En cuanto a España,  en 2009, firmó un manifiesto de apoyo a la candidatura a las elecciones europeas de la formación política [[Izquierda Anticapitalista]],<ref>Público.es: Elecciones al Parlamente europeo. Chomsky, Loach y Zizek: arietes anticapitalistas.[http://www.publico.es/espana/229703/chomsky-loach-y-zizek-arietes-anticapitalistas]</ref> y en 2014 en apoyo de la formación política [[Podemos (partido político)|Podemos]].<ref>[http://www.20minutos.es/noticia/2167651/0/intelectuales/manifiesto-apoyo/podemos/ Chomsky, Galeano, Negri y otros intelectuales firman un manifiesto de apoyo a Podemos]</ref>\n",
        "\n",
        "Desde 2009 es miembro honorario de [[AIPTI]].<ref>[http://www.aipti.org/miembros_honorarios/ Noam Chomsky, miembro honorario de AIPTI]</ref>\n",
        "\n",
        "=== Perspectiva sobre el ateísmo, la ciencia y la religión ===\n",
        "En diversas ocasiones se le ha preguntado a Chomsky si tiene una [[religión|postura religiosa]] o es [[ateo]], a lo cual él respondió en una ocasión:\n",
        "\n",
        "{{Cita|Soy lo que aquí se llama un «ateo secular», excepto que ni siquiera puedo decir que soy un «ateo» porque no está del todo claro lo que se me pide negar.<ref name=\"edge.org\">http://www.edge.org/discourse/bb.html#chomsky</ref>|}}\n",
        "\n",
        "En una discusión con [[Lawrence Krauss]] y [[w:Sean M. Carroll|Sean M. Carroll]] en el 2006, Chomsky dio una respuesta similar:\n",
        "{{Cita|De hecho, yo ni siquiera sé lo que es un ateo. Cuando la gente me pregunta si soy ateo, tengo que preguntarles a qué se refieren. ¿Qué es lo que se supone que no tengo que creer? Hasta que no puedas responder a esa pregunta, no puedo decir si soy ateo, y la cuestión no se plantea. [...] No veo cómo uno puede ser un agnóstico cuando uno no sabe qué es lo que se supone que uno cree, o rechaza [creer]».|Chomsky (2006), ''Science in the Dock''<ref>Science in the Dock. Discusión con Noam Chomsky, Lawrence Krauss & Sean M. Carroll Science & Technology News, 1 de marzo, 2006</ref>}}\n",
        "\n",
        "Adicionalmente, Chomsky ha reconocido los límites de la [[razón|razón humana]],<ref>http://www.chomsky.info/interviews/198311--.htm Entrevista a Chomsky por John Gliedman Omni, 6:11, Noviembre 1983</ref> y claramente ha rechazado el [[cientificismo]] (la idea de que la ciencia lo puede explicar todo):\n",
        "{{cita|En los problemas comunes de la vida humana, la ciencia nos dice muy poco, y los científicos, como personas, sin duda no son ninguna guía. De hecho, son a menudo la peor guía, ya que a menudo tienden a concentrarse, como un láser, en sus propios intereses profesionales, y saben muy poco sobre el mundo.|<small>The Reality Club: Beyond Belief</small><ref name=\"edge.org\"/>}}\n",
        "\n",
        "{{Cita|La ciencia estudia lo que está al margen de la comprensión, y lo que al margen de la comprensión suele ser bastante simple. Y rara vez llega a los asuntos humanos. Los asuntos humanos son demasiado complicados [...] así que las ciencias reales nos dicen casi nada sobre los asuntos humanos.|<small>Science in the Dock (2006)<ref>http://www.chomsky.info/debates/20060301.htm</ref></small>}}\n",
        "\n",
        "Por otra parte, Chomsky ha dejado claro que su postura no es [[antirreligión|antirreligiosa]], pues como analista social, al igual que muchos otros autores, ha reconocido que hay una diferenciación radical entre el [[Evangelios|cristianismo de los evangelios]] en contraste con el de la mayor parte de los gobiernos y organizaciones religiosas:\n",
        "{{Cita|Hay una [[historia del cristianismo]]; los tres primeros siglos del cristianismo: era una religión [[pacifista]] [[Radicalismo|radical]], razón por la cual fue [[persecusión religiosa|perseguida]]: era la [[religión]] de los [[pobreza|pobres]] y los que sufrían; [[Jesús]] era el símbolo de los [[pobreza|pobres]] y los que sufrían, y ahí está la encrucijada. En el siglo IV fue tomada por el [[Imperio romano]]... que convirtió a la [[Iglesia (organización)|Iglesia]] en la religión de los persecutores.|Chomsky (2010)<ref name=\"youtube.com\">http://www.youtube.com/watch?v=SNDG7ErY-k4&feature=related Chomsky on Religion (2010)</ref>}}\n",
        "\n",
        "{{Cita|[[Jesús]] mismo, y la mayor parte del mensaje de los Evangelios, es un mensaje de servicio a los [[pobreza|pobres]], una crítica de los ricos y los poderosos, y una doctrina [[paz|pacifista]], y se mantuvo así, así es como el cristianismo estaba... hasta Constantino.: Constantino lo cambió, así que la cruz, que era el símbolo de la persecución de alguien que trabaja para los pobres, se puso en el escudo del [[Imperio Romano]]. Se convirtió en el símbolo de la violencia y la opresión, que es más o menos lo que la Iglesia ha sido hasta el presente.|<small>[http://www.chomsky.info/debates/20060301.htm Science & Technology News, marzo 1, 2006]</small>}}\n",
        "\n",
        "Además, ha hablado favorablemente de la [[teología de la liberación]]<ref name=\"youtube.com\"/> y ha reconocido la labor de movimientos que han tratado de restaurar y rescatar los principios del [[cristianismo primitivo]]:\n",
        "{{Cita|De hecho, es bastante notable en los últimos años, que elementos de la Iglesia, en particular obispos latinoamericanos, pero no sólo ellos, han tratado de volver a los Evangelios.|<ref>Ídem</ref>}}\n",
        "\n",
        "== Libros publicados ==\n",
        "\n",
        "=== Lingüística ===\n",
        "* [[1955]]: ''Logical Structure of Linguistic Theory'' (es su tesis doctoral, inédita hasta 1975).\n",
        "* [[1957]]: ''Syntactic Structures'' (''Estructuras sintácticas'', Buenos Aires, Siglo XXI, 1999).\n",
        "* [[1965]]: ''Aspects of the Theory of Syntax'' (''Aspectos de la teoría de la sintaxis'', Barcelona, Gedisa, 1999).\n",
        "* 1965: ''Cartesian Linguistics'' (''Lingüística cartesiana'', Madrid, Gredos, 1972).\n",
        "* [[1968]]: ''Language and Mind'' (''El lenguaje y el entendimiento'', Barcelona, Seix-Barral, 1977).\n",
        "* 1968: ''Sound Pattern of English'' (con Morris Halle).\n",
        "* [[1970]]: ''Current Issues in Linguistic Theory''.\n",
        "* [[1972]]: ''Studies in Semantics in Generative Grammar''.\n",
        "* [[1975]]: ''Reflections on Language'' (''Reflexiones sobre el lenguaje'', Barcelona, Ariel, 1979).\n",
        "* [[1977]]: ''Langue, linguistique, politique: dialogues avec Mitsou Ronat'' (''Conversaciones con Noam Chomsky'', Barcelona, Gedisa, 1999). Presentación ordenada temática y cronológicamente de las ideas científicas y políticas de Chomsky.\n",
        "* 1977: ''Essays on Form and Interpretation'' (''Ensayos sobre forma e interpretación'', Madrid, Cátedra, 1982).\n",
        "* [[1980]]: ''Rules and Representations'' (''Reglas y representaciones'', México, [[Fondo de Cultura Económica|FCE]], 1983).\n",
        "* [[1981]]: ''Lectures on Government and Binding: The Pisa Lectures''.\n",
        "* [[1984]]: ''Modular Approaches to the Study of Mind''.\n",
        "* [[1986]]: ''Barriers'' (''Barreras'', Barcelona, Paidós, 1990).\n",
        "* 1986: ''Knowledge of Language: Its Nature, Origin, and Use''. (''El conocimiento del lenguaje, su naturaleza, origen y uso'', Madrid, Alianza, 1989).\n",
        "* [[1995]]: ''The Minimalist Program'' (''El programa minimalista'', Madrid, Alianza, 1999).\n",
        "\n",
        "=== Política ===\n",
        "* [[1969]]: ''American Power and the New Mandarins'' (New York, Vintage Books-Random House. Segunda edición revisada: New York, New Press, 2002).\n",
        "* [[1970]]: ''[[El Gobierno en el Futuro]]''.\n",
        "* [[1984]]: ''La segunda guerra fría'' (Barcelona, Crítica, 1984).\n",
        "* [[1988]]: ''La quinta libertad'' (Barcelona, Crítica, 1988).\n",
        "* [[1987]]: ''On Power and Ideology. The Managua Lectures''.\n",
        "* [[1990]]: ''[[Los guardianes de la libertad]]'' (Noam Chomsky; Edward S. Herman, Barcelona, Crítica, 1990, 1995, 2000).\n",
        "* [[1992]]: ''La conquista continúa: 500 años de genocidio imperialista'' (28020 Madrid 1992 / (C) Terramar Ediciones. Plaza Italia 187. 1900 La Plata, Argentina. Nov. 2007).\n",
        "* 1992: ''El miedo a la democracia'' (Barcelona, Crítica, 1992, 1997, 2001).\n",
        "* 1992: ''Ilusiones necesarias.Control del pensamiento en las sociedades democráticas'' ((C) Libertarias/Prodbufi, S.A. C. Lérida, 80-82, 28020 Madrid, Tetuán, 1992).\n",
        "* [[1995]]: ''Cómo nos venden la moto'' (Noam Chomsky e [[Ignacio Ramonet]], Barcelona, Icaria, 1995).\n",
        "* [[1996]]: ''Cómo se reparte la tarta. Políticas USA al final del milenio'' (Barcelona, Icaria, 1996).\n",
        "* [[1997]]: ''La Aldea Global'' (Noam Chomsky y [[Heinz Dieterich]], Nafarroa, Txalaparta, 1997).\n",
        "* 1997: ''Lucha de clases'' (Barcelona, Crítica, 1997).\n",
        "* 1997: ''El nuevo Orden mundial (y el viejo)'' (Barcelona, Crítica, 1997, 2002).\n",
        "* [[2000]]: ''Actos de agresión'' (Barcelona, Crítica, 2000).\n",
        "* 2000: ''El beneficio es lo que cuenta'' (Barcelona, Crítica, 2000).\n",
        "* [[2001]]: ''Perspectivas sobre el poder'' (Barcelona, El Roure Ciencia, 2001).\n",
        "* 2001: ''La (Des)Educación'' (Barcelona, Crítica, 2001).\n",
        "* [[2002]]: ''11/09/2001'' (Barcelona, RBA, 2002) 142p.\n",
        "* 2002: ''La Propaganda y la opinión pública'' (Barcelona, Crítica, 2002).\n",
        "* [[2003]]: ''El triángulo fatal'' (Madrid, Editorial Popular, 2003).\n",
        "* 2003: ''Lucha de clases'' (Barcelona, Editorial Crítica, 2003).\n",
        "* 2003: ''La cultura del terrorismo'' (Madrid, Editorial Popular, 2003).\n",
        "* [[2004]]: ''Ilusiones de Oriente Medio'' (Madrid, Editorial Popular, 2004).\n",
        "* 2004: ''Piratas y emperadores'' (Madrid, Ediciones B, 2004).\n",
        "* [[2005]]: ''Hegemonía o supervivencia. La estrategia imperialista de EEUU'' (Barcelona, Ediciones B, 2005).\n",
        "* [[2006]]: ''La naturaleza humana: justicia versus poder'', debate con [[Michel Foucault]] (Buenos Aires y Madrid, Katz Barpal Editores, 2006, ISBN 84-935187-2-7).\n",
        "* [[2007]]: ''Estados fallidos. El abuso de poder y el ataque a la democracia'' (Barcelona, Ediciones B, 2007).\n",
        "* [[2008]]: ''Intervenciones'' (Haymarket Books, 2008).\n",
        "* 2008: ''Sobre el anarquismo'' (Editorial Laetoli, 2008).\n",
        "* 2008: ''Líbano, desde dentro'' (Barcelona, Editorial Hacer, 2008).\n",
        "* [[2010]]: ''Esperanzas y realidades'' (Barcelona, Tendencias, 2010).\n",
        "* [[2011]]: ''Gaza en crisis. Reflexiones sobre la guerra de Israel contra los palestinos'' (con [[Ilan Pappé]]) (Madrid, Taurus, 2011).\n",
        "* [[2012]]: ''[[Ilusionistas]]''. (Madrid, Irreverentes, 2012, ISBN 978-84-15353-46-1).\n",
        "* [[2013]]: ''Razones para la anarquía'' (Barcelona, Editorial Malpaso, 2013, ISBN 978-84-15996-47-7).\n",
        "* [[2016]]: ''[[¿Quién domina el mundo?]]'' (Barcelona, Ediciones B, 2016, ISBN 978-84-666-5988-8).\n",
        "* [[2017]]: ''[[Réquiem por el sueño americano]]'' (Madrid, Editorial Sexto Piso, 2017, ISBN 978-84-16677-50-4)\n",
        "\n",
        "=== Artículos en línea ===\n",
        "\n",
        "* Chomsky, Noam (2010): [http://blogs.publico.es/noam-chomsky/30/china-y-el-nuevo-orden-mundial-i/ «China y el nuevo orden mundial»] [1], artículo publicado en el diario ''Público'' (Madrid).\n",
        "* Chomsky, Noam (2010): [http://blogs.publico.es/noam-chomsky/38/china-y-el-nuevo-orden-mundial-y-ii/ «China y el nuevo orden mundial»] [2], artículo publicado en el diario ''Público'' (Madrid).\n",
        "* Chomsky, Noam (2010): [http://blogs.publico.es/noam-chomsky/44/indignacion-erronea-en-las-elecciones-de-eeuu/ «Indignación errónea en las elecciones de Estados Unidos»], artículo publicado en el diario ''Público'' (Madrid).\n",
        "* Chomsky, Noam: [http://www.ultimasnoticias.com.ve/opinion/firmas/noam-chomsky.aspx Diversos artículos de opinión] publicados en el diario venezolano ''Últimas Noticias''.\n",
        "\n",
        "== Obra sobre Chomsky ==\n",
        "\n",
        "* {{Cita libro|apellidos=Calvin |nombre=William H |enlaceautor=William H. Calvin|coautores=[[Derek Bickerton|Bickerton, Derek]] |editorial=Gedisa|otros=[[Tomás Fernández Aúz|Fernández Aúz, Tomás]] (trad.) |título=Lingua ex machina: la conciliación de las teorías de Darwin y Chomsky sobre el cerebro humano (Lingua ex machina, 2000) |edición=1ª ed, |año=2001 |ubicación=Barcelona |isbn=84-7432-849-7 |páginas=359 págs.}}\n",
        "* {{Cita libro|apellidos=Cogswell |nombre=David |enlaceautor=David Cogswell|coautores=[[Paul Gordon|Gordon, Paul]] |editorial=Longseller|otros=[[Leandro Wolfson]] (trad.) |título=Chomsky para principiantes |edición=2ª ed, |año=2003 |isbn=9789879065389 |páginas=160 págs. |url=[http://books.google.es/books?id=6p8LE_hfMT0C Vista incompleta en google books]}}\n",
        "* {{Cita libro|apellidos=Miranda Alonso |nombre=Tomás |enlaceautor=Tomás Miranda Alonso |editorial=Siglo XXI |título=Arquitectura de la mente según Noam Chomsky |año=2006 |isbn=9788432312205 |páginas=200 págs.}}\n",
        "* {{Cita libro|apellidos=Smith |nombre=Neil |enlaceautor=Neil Smith |editorial=[[Cambridge University Press]]|otros=[[Izaskun Fuentes|Fuentes, Izaskun]] (trad.) |título=Chomsky: Ideas e ideales |año=2001 |ubicación=Barcelona |isbn=9788483231203 |páginas=368 págs.}}\n",
        "* {{Cita libro|apellidos=Lorenzo González |nombre=Guillermo |enlaceautor=Guillermo Lorenzo González |editorial=A. Machado Libros |título=Comprender a Chomsky: introducción y comentarios a la filosofía chomskyana sobre el lenguaje y la mente |año=2001 |isbn=84-7774-883-7 |páginas=201 págs.}}\n",
        "* {{Cita libro|apellidos=Barsky |nombre=Robert F. |enlaceautor=Robert F. Barsky |editorial=Península |título=[http://web.archive.org/web/http://cognet.mit.edu/library/books/chomsky/chomsky/contents.html Noam Chomsky: una vida de discrepancia] |año=2005 |isbn=9788483076767 |páginas=286 págs |url=http://cognet.mit.edu/library/books/chomsky/chomsky/contents.html}}\n",
        "* {{Cita libro|apellidos=Knight |nombre=Chris |enlaceautor=Chris Knight |editorial=Yale University Press |título=Decoding Chomsky: Science and revolutionary politics |año=2016 |isbn=|páginas= |url=http://cognet.mit.edu/library/books/chomsky/chomsky/contents.html}}\n",
        "\n",
        "== Véase también ==\n",
        "{{lista de columnas|2|\n",
        "* [[Attac]]\n",
        "* [[Jerarquía de Chomsky]]\n",
        "* [[Gramática transformacional]]\n",
        "* [[Problema de Orwell]]\n",
        "* [[Escándalo Faurisson]]\n",
        "* [[Modelo de Propaganda de los medios de comunicación]]\n",
        "* [[Consenso manufacturado]]\n",
        "* [[Anarquismo en Estados Unidos]]\n",
        "* [[Colorless green ideas sleep furiously]]\n",
        "}}\n",
        "\n",
        "== Notas ==\n",
        "{{listaref|2 Noam Chomsky es presidente de honor del Consejo Editorial de CTXT desde 2015 (http://www.ctxt.es)}}\n",
        "\n",
        "== Enlaces externos ==\n",
        "{{commonscat|Noam Chomsky}}\n",
        "{{wikiquote|Noam Chomsky}}\n",
        "\n",
        "=== En inglés ===\n",
        "* De Chomsky:\n",
        "** [http://www.chomsky.info/ Sitio web] {{en idioma|en}}.\n",
        "{{The Guardian|noamchomsky}}\n",
        "** [http://web.mit.edu/linguistics/www/chomsky.home.html Perfil] en el MIT. {{en idioma|en}}.\n",
        "* [https://web.archive.org/web/20070713051903/http://cognet.mit.edu/library/books/chomsky/chomsky/contents.html ''Noam Chomsky: A life of dissent''], biografía completa {{en idioma|en}}.\n",
        "* [https://web.archive.org/web/20080807174030/http://zmag.org/Chomsky The Noam Chomsky Archive] {{en idioma|en}}.\n",
        "\n",
        "=== En español ===\n",
        "* Noam Chomsky es Presidente de honor del Consejo Editorial de la revista de prensa digital CTXT. [http://www.ctxt.es/es/20150115/redaccion/36/?tpl=11]\n",
        "* [http://www.ctxt.es/es/20150205/politica/293/Chomsky-Obama-Mora-MIT-Podemos-Syriza.htm]\n",
        "* [http://www.ctxt.es/es/20150205/politica/293/Chomsky-Obama-Mora-MIT-Podemos-Syriza.htm]\n",
        "* [http://www.ctxt.es/es/20150423/culturas/870/]\n",
        "* [http://www.ctxt.es/es/20150923/Politica/2395/Chomsky-Syriza-Grecia-Sanders-Corbyn.htm]\n",
        "* [http://www.ctxt.es/es/20150205/politica/286/Chomsky-Obama-Halle-syriza-Podemos-pol%C3%ADtica-Espa%C3%B1a-Cuba-Estados-Unidos-EE-UU.htm]\n",
        "* [http://www.ctxt.es/es/20160113/Politica/3648/Noam-Chomsky-entrevista-Siria-Estado-Islamico-intervencionismo-America-Latina-Grecia-socialismo.htm]\n",
        "* [http://www.ctxt.es/es/20160713/Politica/7188/jeremy-corbyn-medios-de-comunicacion-noam-chomsky.htm]\n",
        "* [http://www.ctxt.es/es/20160525/Politica/6133/Chomsky-Who-rules-the-world-Estados-Unidos-OTAN-China-Rusia.htm]\n",
        "* [http://www.infoamerica.org/teoria/chomsky1.htm Noam Chomsky - Biografía]\n",
        "* [http://www.infoamerica.org/teoria/chomsky2.htm Noam Chomsky – El pensamiento]\n",
        "* [http://www.lafogata.org/recopilacion/listadochomsky.htm Documentos de Noam Chomsky]\n",
        "* [http://www.liberalismo.org/articulos/14/ Artículos y libros críticos hacia el autor]\n",
        "* [https://web.archive.org/web/20080410013338/http://www.dosorillas.org/spip.php?article1390 Entrevista en Señales de Humo]\n",
        "* [https://web.archive.org/web/20100103033114/http://www.conducta.org/articulos/chomsky_skinner.htm Respuestas a Chomsky en relación al lenguaje]\n",
        "* «Noam Chomsky, el incómodo susurro de la conciencia occidental», reseña de ''Ilusionistas'' en el periódico ''The Huffington Post'', y adelanto de un capítulo del libro en castellano [http://www.huffingtonpost.es/jorge-majfud/noam-chomsky-el-incomodo-_b_1954595.html]\n",
        "* [http://www.clarin.com/mundo/Noam-Chomsky-advertencia-Donald-Trump_0_1688231248.html Noam Chomsky tiene una aterradora advertencia sobre Donald Trump], sitio digital 'Clarín', 16 de noviembre de 2016\n",
        "\n",
        "{{NF|1928||Chomsky, Noam}}\n",
        "[[Categoría:Noam Chomsky|Noam Chomsky]]\n",
        "[[Categoría:Doctores honoris causa de la Universidad de Chile]]\n",
        "[[Categoría:Miembros de la Leopoldina]]\n",
        "[[Categoría:Doctores honorarios por la Universidad de Upsala]]\n",
        "[[Categoría:Doctores honoris causa por la Universidad Rovira i Virgili]]\n",
        "[[Categoría:Graduados honorarios de la Universidad de Ontario Occidental]]\n",
        "[[Categoría:Judíos antisionistas]]\n",
        "\n",
        "\"\"\""
      ],
      "execution_count": 0,
      "outputs": []
    },
    {
      "metadata": {
        "id": "M3hWxapw5NlC",
        "colab_type": "code",
        "colab": {
          "autoexec": {
            "startup": false,
            "wait_interval": 0
          }
        }
      },
      "cell_type": "code",
      "source": [
        "nlp = spacy.load('es')"
      ],
      "execution_count": 0,
      "outputs": []
    },
    {
      "metadata": {
        "id": "wpfYMgQQ5QSE",
        "colab_type": "code",
        "colab": {
          "autoexec": {
            "startup": false,
            "wait_interval": 0
          }
        }
      },
      "cell_type": "code",
      "source": [
        "doc = nlp(textoLargo)"
      ],
      "execution_count": 0,
      "outputs": []
    },
    {
      "metadata": {
        "id": "QEUt7MzY4rbi",
        "colab_type": "code",
        "colab": {
          "autoexec": {
            "startup": false,
            "wait_interval": 0
          }
        }
      },
      "cell_type": "code",
      "source": [
        "noun_chunks = textacy.extract.noun_chunks(doc, min_freq=2)"
      ],
      "execution_count": 0,
      "outputs": []
    },
    {
      "metadata": {
        "id": "yViqHcrx5m1V",
        "colab_type": "code",
        "colab": {
          "autoexec": {
            "startup": false,
            "wait_interval": 0
          },
          "base_uri": "https://localhost:8080/",
          "height": 34
        },
        "outputId": "6a785238-46eb-4131-ee99-54ca16a6ca3b",
        "executionInfo": {
          "status": "ok",
          "timestamp": 1533046353778,
          "user_tz": -120,
          "elapsed": 533,
          "user": {
            "displayName": "Elena del Olmo",
            "photoUrl": "//lh5.googleusercontent.com/-vGldiq9ESB8/AAAAAAAAAAI/AAAAAAAAAxw/Yb8_nlM8V-g/s50-c-k-no/photo.jpg",
            "userId": "112120734031415552045"
          }
        }
      },
      "cell_type": "code",
      "source": [
        "type(noun_chunks)"
      ],
      "execution_count": 25,
      "outputs": [
        {
          "output_type": "execute_result",
          "data": {
            "text/plain": [
              "generator"
            ]
          },
          "metadata": {
            "tags": []
          },
          "execution_count": 25
        }
      ]
    },
    {
      "metadata": {
        "id": "u_N-vZPX5k_U",
        "colab_type": "code",
        "colab": {
          "autoexec": {
            "startup": false,
            "wait_interval": 0
          }
        }
      },
      "cell_type": "code",
      "source": [
        "noun_chunks = map(str, noun_chunks)"
      ],
      "execution_count": 0,
      "outputs": []
    },
    {
      "metadata": {
        "id": "R8sCeMlU5bG9",
        "colab_type": "code",
        "colab": {
          "autoexec": {
            "startup": false,
            "wait_interval": 0
          }
        }
      },
      "cell_type": "code",
      "source": [
        "noun_chunks = map(str.lower, noun_chunks)"
      ],
      "execution_count": 0,
      "outputs": []
    },
    {
      "metadata": {
        "id": "8ReWN9bv5ePV",
        "colab_type": "code",
        "colab": {
          "autoexec": {
            "startup": false,
            "wait_interval": 0
          },
          "base_uri": "https://localhost:8080/",
          "height": 451
        },
        "outputId": "cc35e390-6d5d-4e11-a48b-4b62de55f7ba",
        "executionInfo": {
          "status": "ok",
          "timestamp": 1533046360026,
          "user_tz": -120,
          "elapsed": 595,
          "user": {
            "displayName": "Elena del Olmo",
            "photoUrl": "//lh5.googleusercontent.com/-vGldiq9ESB8/AAAAAAAAAAI/AAAAAAAAAxw/Yb8_nlM8V-g/s50-c-k-no/photo.jpg",
            "userId": "112120734031415552045"
          }
        }
      },
      "cell_type": "code",
      "source": [
        "for noun_chunk in set(noun_chunks):\n",
        "    if len(noun_chunk.split(\" \")) > 1:\n",
        "        print(noun_chunk)"
      ],
      "execution_count": 28,
      "outputs": [
        {
          "output_type": "stream",
          "text": [
            "frente a\n",
            "editorial popular\n",
            "mayor parte\n",
            "estados unidos\n",
            "ediciones b\n",
            "american power and the new mandarins''\n",
            "edward s. herman\n",
            "journal of palestine studies\n",
            "chomsky =\n",
            "doctores honoris\n",
            "universidad de pensilvania\n",
            "universidad rovira\n",
            "distintas lenguas\n",
            "industrial workers of the\n",
            "pese a\n",
            "new york times\n",
            "noam chomsky\n",
            "the dock\n",
            "estructuras sintácticas\n",
            "lucha de clases''\n",
            "nuevo orden\n",
            "new york\n",
            "28020 madrid\n",
            "buenos aires\n",
            "nueva york\n"
          ],
          "name": "stdout"
        }
      ]
    },
    {
      "metadata": {
        "id": "xmDXjsHVkItY",
        "colab_type": "code",
        "colab": {
          "autoexec": {
            "startup": false,
            "wait_interval": 0
          }
        }
      },
      "cell_type": "code",
      "source": [
        "from bs4 import BeautifulSoup"
      ],
      "execution_count": 0,
      "outputs": []
    },
    {
      "metadata": {
        "id": "AOsUYefYkLQx",
        "colab_type": "code",
        "colab": {
          "autoexec": {
            "startup": false,
            "wait_interval": 0
          }
        }
      },
      "cell_type": "code",
      "source": [
        "import urllib.request"
      ],
      "execution_count": 0,
      "outputs": []
    },
    {
      "metadata": {
        "id": "ygizqQ-rkPwd",
        "colab_type": "code",
        "colab": {
          "autoexec": {
            "startup": false,
            "wait_interval": 0
          }
        }
      },
      "cell_type": "code",
      "source": [
        "response = urllib.request.urlopen('https://es.wikipedia.org/wiki/Noam_Chomsky')"
      ],
      "execution_count": 0,
      "outputs": []
    },
    {
      "metadata": {
        "id": "C87Gwb4VkYLc",
        "colab_type": "code",
        "colab": {
          "autoexec": {
            "startup": false,
            "wait_interval": 0
          }
        }
      },
      "cell_type": "code",
      "source": [
        "html = response.read()"
      ],
      "execution_count": 0,
      "outputs": []
    },
    {
      "metadata": {
        "id": "dOBQ5WT8kbUh",
        "colab_type": "code",
        "colab": {
          "autoexec": {
            "startup": false,
            "wait_interval": 0
          }
        }
      },
      "cell_type": "code",
      "source": [
        "soup = BeautifulSoup(html,\"html5lib\")"
      ],
      "execution_count": 0,
      "outputs": []
    },
    {
      "metadata": {
        "id": "A4My7vIfkiGm",
        "colab_type": "code",
        "colab": {
          "autoexec": {
            "startup": false,
            "wait_interval": 0
          }
        }
      },
      "cell_type": "code",
      "source": [
        "text = soup.get_text(strip=True)"
      ],
      "execution_count": 0,
      "outputs": []
    },
    {
      "metadata": {
        "id": "fr3_T66Fkj4h",
        "colab_type": "code",
        "colab": {
          "autoexec": {
            "startup": false,
            "wait_interval": 0
          },
          "base_uri": "https://localhost:8080/",
          "height": 159
        },
        "outputId": "68c123ce-c7c9-4481-ec69-2377be2fbe4c",
        "executionInfo": {
          "status": "ok",
          "timestamp": 1533046375262,
          "user_tz": -120,
          "elapsed": 885,
          "user": {
            "displayName": "Elena del Olmo",
            "photoUrl": "//lh5.googleusercontent.com/-vGldiq9ESB8/AAAAAAAAAAI/AAAAAAAAAxw/Yb8_nlM8V-g/s50-c-k-no/photo.jpg",
            "userId": "112120734031415552045"
          }
        }
      },
      "cell_type": "code",
      "source": [
        "print(text)"
      ],
      "execution_count": 35,
      "outputs": [
        {
          "output_type": "stream",
          "text": [
            "Noam Chomsky - Wikipedia, la enciclopedia libredocument.documentElement.className = document.documentElement.className.replace( /(^|\\s)client-nojs(\\s|$)/, \"$1client-js$2\" );(window.RLQ=window.RLQ||[]).push(function(){mw.config.set({\"wgCanonicalNamespace\":\"\",\"wgCanonicalSpecialPageName\":false,\"wgNamespaceNumber\":0,\"wgPageName\":\"Noam_Chomsky\",\"wgTitle\":\"Noam Chomsky\",\"wgCurRevisionId\":109581837,\"wgRevisionId\":109581837,\"wgArticleId\":15409,\"wgIsArticle\":true,\"wgIsRedirect\":false,\"wgAction\":\"view\",\"wgUserName\":null,\"wgUserGroups\":[\"*\"],\"wgCategories\":[\"Wikipedia:Páginas con enlaces mágicos de ISBN\",\"Wikipedia:Artículos destacados en la Wikipedia en búlgaro\",\"Wikipedia:Artículos destacados en la Wikipedia en francés\",\"Wikipedia:Artículos destacados en la Wikipedia en latín\",\"Personas vivas\",\"Wikipedia:Artículos con pasajes que requieren referencias\",\"Wikipedia:Páginas con referencias con parámetros obsoletos\",\"Wikipedia:Artículos con plantilla The Guardian\",\"Wikipedia:Control de autoridades con 23 elementos\",\"Wikipedia:Artículos con identificadores VIAF\",\"Wikipedia:Artículos con identificadores ISNI\",\"Wikipedia:Artículos con identificadores BNA\",\"Wikipedia:Artículos con identificadores BNE\",\"Wikipedia:Artículos con identificadores BNF\",\"Wikipedia:Artículos con identificadores CANTIC\",\"Wikipedia:Artículos con identificadores GND\",\"Wikipedia:Artículos con identificadores LCCN\",\"Wikipedia:Artículos con identificadores SNAC\",\"Wikipedia:Artículos con identificadores ULAN\",\"Wikipedia:Artículos con identificadores BIBSYS\",\"Wikipedia:Artículos con identificadores SBN\",\"Wikipedia:Artículos con identificadores Leopoldina\",\"Wikipedia:Artículos con identificadores Open Library\",\"Wikipedia:Artículos con identificadores Persée\",\"Wikipedia:Artículos con identificadores Dialnet\",\"Wikipedia:Artículos con identificadores Google Académico\",\"Hombres\",\"Nacidos en 1928\",\"Noam Chomsky\",\"Doctores honoris causa de la Universidad de Chile\",\"Miembros de la Leopoldina\",\"Doctores honorarios por la Universidad de Upsala\",\"Doctores honoris causa por la Universidad Rovira i Virgili\",\"Graduados honorarios de la Universidad de Ontario Occidental\",\"Judíos antisionistas\"],\"wgBreakFrames\":false,\"wgPageContentLanguage\":\"es\",\"wgPageContentModel\":\"wikitext\",\"wgSeparatorTransformTable\":[\",\\t.\",\" \\t,\"],\"wgDigitTransformTable\":[\"\",\"\"],\"wgDefaultDateFormat\":\"dmy\",\"wgMonthNames\":[\"\",\"enero\",\"febrero\",\"marzo\",\"abril\",\"mayo\",\"junio\",\"julio\",\"agosto\",\"septiembre\",\"octubre\",\"noviembre\",\"diciembre\"],\"wgMonthNamesShort\":[\"\",\"ene\",\"feb\",\"mar\",\"abr\",\"may\",\"jun\",\"jul\",\"ago\",\"sep\",\"oct\",\"nov\",\"dic\"],\"wgRelevantPageName\":\"Noam_Chomsky\",\"wgRelevantArticleId\":15409,\"wgRequestId\":\"W15Q4QpAIC4AAFK@7-cAAAAR\",\"wgIsProbablyEditable\":true,\"wgRelevantPageIsProbablyEditable\":true,\"wgRestrictionEdit\":[],\"wgRestrictionMove\":[],\"wgCategoryTreePageCategoryOptions\":\"{\\\"mode\\\":0,\\\"hideprefix\\\":20,\\\"showcount\\\":true,\\\"namespaces\\\":false}\",\"wgWikiEditorEnabledModules\":[],\"wgBetaFeaturesFeatures\":[],\"wgMediaViewerOnClick\":true,\"wgMediaViewerEnabledByDefault\":true,\"wgPopupsShouldSendModuleToUser\":true,\"wgPopupsConflictsWithNavPopupGadget\":false,\"wgVisualEditor\":{\"pageLanguageCode\":\"es\",\"pageLanguageDir\":\"ltr\",\"pageVariantFallbacks\":\"es\",\"usePageImages\":true,\"usePageDescriptions\":true},\"wgMFExpandAllSectionsUserOption\":true,\"wgMFEnableFontChanger\":true,\"wgMFDisplayWikibaseDescriptions\":{\"search\":true,\"nearby\":true,\"watchlist\":true,\"tagline\":true},\"wgRelatedArticles\":null,\"wgRelatedArticlesUseCirrusSearch\":true,\"wgRelatedArticlesOnlyUseCirrusSearch\":false,\"wgULSCurrentAutonym\":\"español\",\"wgNoticeProject\":\"wikipedia\",\"wgCentralNoticeCookiesToDelete\":[],\"wgCentralNoticeCategoriesUsingLegacy\":[\"Fundraising\",\"fundraising\"],\"wgWikibaseItemId\":\"Q9049\",\"wgScoreNoteLanguages\":{\"arabic\":\"العربية\",\"catalan\":\"català\",\"deutsch\":\"Deutsch\",\"english\":\"English\",\"espanol\":\"español\",\"italiano\":\"italiano\",\"nederlands\":\"Nederlands\",\"norsk\":\"norsk\",\"portugues\":\"português\",\"suomi\":\"suomi\",\"svenska\":\"svenska\",\"vlaams\":\"West-Vlams\"},\"wgScoreDefaultNoteLanguage\":\"nederlands\",\"wgCentralAuthMobileDomain\":false,\"wgCodeMirrorEnabled\":true,\"wgVisualEditorToolbarScrollOffset\":0,\"wgVisualEditorUnsupportedEditParams\":[\"undo\",\"undoafter\",\"veswitched\"],\"wgEditSubmitButtonLabelPublish\":true});mw.loader.state({\"ext.gadget.imagenesinfobox\":\"ready\",\"ext.globalCssJs.user.styles\":\"ready\",\"ext.globalCssJs.site.styles\":\"ready\",\"site.styles\":\"ready\",\"noscript\":\"ready\",\"user.styles\":\"ready\",\"ext.globalCssJs.user\":\"ready\",\"ext.globalCssJs.site\":\"ready\",\"user\":\"ready\",\"user.options\":\"loading\",\"user.tokens\":\"loading\",\"ext.cite.styles\":\"ready\",\"mediawiki.legacy.shared\":\"ready\",\"mediawiki.legacy.commonPrint\":\"ready\",\"mediawiki.toc.styles\":\"ready\",\"wikibase.client.init\":\"ready\",\"ext.visualEditor.desktopArticleTarget.noscript\":\"ready\",\"ext.uls.interlanguage\":\"ready\",\"ext.wikimediaBadges\":\"ready\",\"mediawiki.skinning.interface\":\"ready\",\"skins.vector.styles\":\"ready\"});mw.loader.implement(\"user.options@00wq302\",function($,jQuery,require,module){/*@nomin*/mw.user.options.set({\"variant\":\"es\"});\n",
            "});mw.loader.implement(\"user.tokens@1dqfd7l\",function($,jQuery,require,module){/*@nomin*/mw.user.tokens.set({\"editToken\":\"+\\\\\",\"patrolToken\":\"+\\\\\",\"watchToken\":\"+\\\\\",\"csrfToken\":\"+\\\\\"});\n",
            "});mw.loader.load([\"ext.cite.a11y\",\"site\",\"mediawiki.page.startup\",\"mediawiki.user\",\"mediawiki.page.ready\",\"mediawiki.toc\",\"mediawiki.searchSuggest\",\"ext.gadget.a-commons-directo\",\"ext.gadget.refToolbar\",\"ext.centralauth.centralautologin\",\"mmv.head\",\"mmv.bootstrap.autostart\",\"ext.popups\",\"ext.visualEditor.desktopArticleTarget.init\",\"ext.visualEditor.targetLoader\",\"ext.eventLogging.subscriber\",\"ext.wikimediaEvents\",\"ext.navigationTiming\",\"ext.uls.eventlogger\",\"ext.uls.init\",\"ext.uls.compactlinks\",\"ext.uls.interface\",\"ext.3d\",\"ext.centralNotice.geoIP\",\"ext.centralNotice.startUp\",\"skins.vector.js\"]);});Noam ChomskyDe Wikipedia, la enciclopedia libreIr a la navegaciónIr a la búsquedaNoam ChomskyNoam Chomsky en 2015Información personalNombre de nacimientoAvram Noam ChomskyNacimiento7 de diciembrede1928(89 años)East Oak Lane,Filadelfia,Estados UnidosResidenciaLexingtonNacionalidadEstadounidenseLengua maternaInglésReligiónIgnosticismoFamiliaPadreWilliam ChomskyCónyugeCarol Chomsky(1949–2008)EducaciónEducaciónPh.D.Educado enInstituto Tecnológico de MassachusettsUniversidad de Pensilvania(B.A.; 1945–1949)Central High School(hasta 1945)Universidad de Pensilvania(M.A.; 1949–1951)Universidad de Harvard(Lingüística; 1951–1955)Alumno deZellig HarrisInformación profesionalOcupaciónFilósofo, lingüista, escritor político, pedagogo, crítico de medios, profesor universitario,escritor,publicista,periodistaeinformático teóricoÁreaGramática generativa, lingüística yTeoría de comunicaciónConocido porGramática generativa,gramática universal,gramática transformacional,rección y ligamiento,teoría de la X',jerarquía de Chomsky,gramática libre de contexto,principios y parámetros,dispositivo de adquisición del lenguaje,programa minimalista,pobreza del estímulo,teorema de Chomsky-Schützenberger,forma normal de Chomsky,modelo de Propaganda de los medios de comunicación[1]​EmpleadorInstituto Tecnológico de MassachusettsMovimientoateísmoyanarcosindicalismoObras notablesLos guardianes de la libertadMiembro deAcademia Alemana de las Ciencias Naturales LeopoldinaAcademia Nacional de CienciasAcademia Estadounidense de las Artes y las CienciasAcademia Tunecina de Ciencias, Letras y Artes «Beit al-Hikma»Sociedad Filosófica EstadounidenseAsociación Estadounidense para el Avance de la CienciaAcademia EuropæaAcademia de las Artes y de las Ciencias de Serbia(desde 2003)DistincionesBeca GuggenheimOrden de SretenjskiPremio James JoyceAPA Award for Distinguished Scientific Contributions to Psychology(1984)Premio Orwell(1987)Kyoto Prize in Basic Sciences(1988)Premio William James(1989)Medalla Helmholtz(1996)Medalla Benjamin Franklin(1999)Erich-Fromm-Preis(2010)Premio Thomas Merton(2010)Albertus-Magnus professorate(2011)FirmaWebSitio webwww.chomsky.infoFacebook294468630182[editar datos en Wikidata]Avram Noam Chomsky(Filadelfia,7 de diciembrede1928) es unlingüista,filósofo,politólogoyactivistaestadounidense. Esprofesor eméritodelingüísticaen elInstituto Tecnológico de Massachusetts(MIT) y una de las figuras más destacadas de la lingüística delsiglo XX, gracias a sus trabajos en teoría lingüística yciencia cognitiva. También es reconocido por su activismo político, caracterizado por una fuerte crítica delcapitalismocontemporáneo y de la política exterior de los Estados Unidos. Se le considera de pensamientosocialista libertario.[2]​\n",
            "ElNew York Timeslo ha señalado como «el más importante de los pensadores contemporáneos».[3]​Propuso lagramática generativa, disciplina que situó lasintaxisen el centro de la investigación lingüística. Con ésta cambió la perspectiva, los programas y métodos de investigación en el estudio del lenguaje. Su lingüística es una teoría de la adquisición individual del lenguaje e intenta explicar las estructuras y principios más profundos del lenguaje. Postuló un aspecto bien definido de innatismo en la adquisición del lenguaje y la autonomía de la gramática (sobre los otros sistemas cognitivos), así como la existencia de un «órgano del lenguaje» y de unagramática universal. Se opuso con dureza alempirismofilosófico y científico y al funcionalismo, en favor delracionalismocartesiano. Todas estas ideas chocaban frontalmente con las tradicionales de las ciencias humanas, lo que concitó múltiples adhesiones, críticas y polémicas que le han acabado convirtiendo en uno de los autores más citados.[4]​Destaca su contribución al establecimiento de las ciencias cognitivas a partir de su crítica delconductismodeSkinnery de las gramáticas de estados finitos, que puso en tela de juicio el método basado en el comportamiento del estudio de la mente y el lenguaje que dominaba en los años cincuenta. Su enfoque naturalista en el estudio del lenguaje ha influido en la filosofía del lenguaje y de la mente (ver aHarmany aFodor). Es el descubridor de lajerarquía de Chomsky, una clasificación delenguajes formalesde gran importancia enteoría de la computación.También es conocido por suactivismo políticoy por suscríticasa la política exterior de Estados Unidos y de otros países, comoIsrael. Chomsky, que desvincula completamente su actividad científica de su activismo político, se describe a sí mismo como simpatizante delanarcosindicalismo(es miembro del sindicatoIWW). Chomsky es considerado una figura influyente en su país de origen y en el mundo.Índice1Biografía2Contribuciones a la lingüística2.1Teoría de principios y parámetros3Activismo político y posicionamientos4Antiglobalización económica de Chomsky4.1Perspectiva sobre el ateísmo, la ciencia y la religión5Libros publicados5.1Lingüística5.2Política5.3Artículos en línea6Obra sobre Chomsky7Véase también8Notas9Enlaces externos9.1En inglés9.2En españolBiografía[editar]Noam Chomsky nació el7 de diciembrede1928enFiladelfia(Pensilvania), hijo del doctorWilliam (Zev) Chomsky(estudioso de lalengua hebreay uno de sus más distinguidosgramáticos) y de Elsie Simonofsky, maestra de hebreo. Ambos eran inmigrantesjudeo-ucranianos. Desde 1945, estudiófilosofía,lingüísticaymatemáticaen laUniversidad de Pensilvania. Allí estuvo bajo la tutela del profesorZellig Harris(también inmigrante judeo-ucraniano, fundador del primer departamento especializado en lingüística enNorteamérica). Harris y Elsie influyeron más que Zev en la formación de su ideología política. También por influencia de Zellig Harris, Chomsky comenzó a tomar clases de matemáticas y filosofía. Uno de sus maestros fue el filósofo Nelson Goodman, quien más tarde los presentaría en la Society of Fellows de Harvard. Recibió su doctorado en 1955, después de llevar a cabo la mayor parte de sus investigaciones en laUniversidad de Harvarddurante los cuatro años anteriores. En 1998 recibió elDoctorado honoris causa(lingüística) de laUniversidad Rovira i Virgili.[5]​  Recibió esta misma distinción por parte de laUniversidad Nacional de Colombia[6]​ en 2002, de laUniversidad de Chile[7]​ y de laUniversidad de la Frontera[8]​ en 2006 y de laUniversidad Nacional Autónoma de México[9]​ en 2010.En sutesisdoctoral comenzó a desarrollar algunas de sus ideas en lingüística, elaborándolas luego en su libroEstructuras sintácticas, posiblemente su trabajo más conocido en este campo. Sus planteamientos lingüísticos han revolucionado muchos puntos clave del estudio del lenguaje humano, que se han plasmado en la teoría de laGramática generativa transformacional.Es profesor delMassachusetts Institute of Technology(MIT) desde 1961, donde ocupó la cátedraFerrari P. Wardde Lenguaje Moderno y Lingüística de 1966 a 1976.Su cónyuge fueCarol Schatz, quien murió el 20 de diciembre de 2008.[10]​\n",
            "Tiene dos hijas y un hijo.Contribuciones a la lingüística[editar]En 1957, con solo 29 años, Chomsky revolucionó el campo de la lingüística teórica con la publicación de la obraEstructuras sintácticas, basada en su tesis doctoral ―Estructura lógica de la teoría lingüística―, que no se publicaría hasta 1975. Su efecto sobre las teorías lingüísticas y psicológicas entonces en boga fue demoledor, ya que atacaba los presupuestos centrales tanto delestructuralismocomo de lapsicología conductista. Hasta entonces, se creía que la adquisición del lenguaje, como cualquier otra destreza humana, se producía por medio del aprendizaje y de la asociación. Sin embargo, Chomsky postulaba la existencia de un dispositivo cerebral innato (el «órgano del lenguaje»), que permite aprender y utilizar el lenguaje de forma casi instintiva. Comprobó además que los principios generales abstractos de la gramática son universales en la especie humana y postuló la existencia de unaGramática Universal.LaGramática Universalde Chomsky asegura que el fundamento común de la lenguas humanas es surecursividad, un proceso, habitualmente asociado a la subordinación, que posibilita a un hablante a introducir oraciones en otras oraciones sin límite. Este principio sería el que permitiría a los seres humanos establecer una comunicación rica y compleja para distanciarse, por ejemplo, de los animales. Sin embargo, la teoría de la recursividad de Chomsky se puso en entredicho en el momento en el que el profesorDaniel Everett, después de convivir con la tribu indígena de lospirahã, descubrió presuntamente un idioma nuevo que contradice dicha teoría:el idioma pirahã. Este nuevo idioma, que carecería de numeración, tiempos verbales y colores, se caracterizaría por su simplicidad aunque, a pesar de que tendría una percepción simple y reducida del mundo, cumpliría con las necesidades comunicativas de la tribu. Este descubrimiento es muy controvertido, ya que el propio Everett es la única persona fuera de la tribu capaz de entenderlo.Chomsky denominógramática generativaal conjunto de reglas innatas que permite traducir combinaciones de ideas a combinaciones de un código. Fundamentó la hipótesis, ya existente, de que la gramática es un sistema combinatorio discreto que permite construir infinitas frases a partir de un número finito de elementos mediante reglas diversas que pueden formalizarse. La nueva teoría consideraba que las expresiones (secuencias de palabras) tienen una sintaxis que puede caracterizarse (globalmente) por unagramática formal; en particular, una gramática extendida por normas de transformación. A los niños se les supone un conocimiento innato de la gramática elemental común a todas las lenguas humanas (lo que supone que toda lengua existente es una clase de restricción). Se sostiene que la modelización del conocimiento de la lengua a través de una gramática formal explica la «productividad» de la lengua: con un juego reducido de reglas gramaticales y un conjunto finito de términos, los humanos pueden producir un número infinito de frases, incluidas frases que nadie haya dicho anteriormente.The Principles and Parameters approach(P&P) (Aproximación por principios y parámetros), desarrollada en lasConferenciasde Pisa (1979) y publicada más tarde bajo el títuloLectures on Government and Binding(LGB), retoma mucho de la gramática universal: los principios gramaticales en los que se basan las lenguas son innatos y fijos; las diferencias entre las distintas lenguas en el mundo se pueden caracterizar en términos de parámetros programados en el cerebro (como elparámetro de elisión,pro drop param, que indica cuándo un tema explícito es siempre requerido, como en inglés, o si este puede elidirse, como en español) a menudo comparados a interruptores (de ahí el término deprincipios y parámetrosutilizado para calificar este enfoque). Según esta teoría, un niño que aprende una lengua solo necesita adquirir los elementos léxicos básicos (palabras,morfemasgramaticales yrefranes) y fijar los valores convenientes en los parámetros, lo que puede efectuarse sobre algunos ejemplos clave.Los partidarios de esta concepción ponen como ejemplo que la velocidad con la cual los niños aprenden lenguas es inexplicablemente rápida, algo no posible a menos que tengan una capacidad innata para aprenderlas. La similaridad de las etapas que siguen todos los niños a través del mundo cuando aprenden una lengua, y el hecho de que cometan errores característicos cuando adquieren su primera lengua, mientras que otros tipos de error al parecer lógicos no se producen nunca (y, según Chomsky, estos deberían darse si el mecanismo de aprendizaje utilizado fuese general más que específico de una lengua), se postulan también como un argumento a favor de dicho innatismo.Más recientemente, en suPrograma minimalista(1995), conservando al mismo tiempo el concepto central de «principios y parámetros», Chomsky intenta una revisión importante de las máquinas lingüísticas implicadas en el modelo de LGB, despojándolos de todo excepto de los elementos estrictamente necesarios. Al mismo tiempo, preconiza un enfoque general de la arquitectura de la facultad de la lengua humana, destaca los principios de la economía y la concepción óptima y retorna al enfoquederivacionalde la generación, en oposición con la mayor parte del enfoquerepresentativoclásico del P&P.Chomsky caracterizó la tarea del lingüista mucho mejor que ninguno de sus predecesores y fijó con todo rigor el campo para el estudio científico del lenguaje. Su objetivo nunca fue establecer una teoría especulativa más sobre el lenguaje, sino una explicación rigurosa de su complejidad. La intención era por tanto pasar de una pre-ciencia meramente descriptiva a una ciencia con poder explicativo y predictivo falsable y con construcciones abstractas que permitiesen un riguroso sistema axiomático. Nada ha sido igual desde entonces en el campo del estudio del lenguaje y, por extensión, de la mente humana. La gramática generativa de Chomsky fue la primera evidencia sólida de que la inteligencia humana está basada en dispositivos cerebrales especializados e innatos y eso ha permitido agrupar las ciencias cognitivas. También provocó una enorme escisión epistemológica, que todavía se mantiene, frente a quienes rechazan la concepción modular e innata de la mente y siguen siendo partidarios de un modelo de cerebro comotabla rasa, como por ejemplo los psicólogos que trabajan con procesos deemergenciao las teoríasconexionistas, que consideran la lengua como un caso particular de los procesos generales del cerebro.Teoría de principios y parámetros[editar]Artículos principales:Principios y parámetrosyRección y ligamiento.Chomsky se ocupa de laslenguas naturalespartiendo de unagramática universalpropia de todos los seres humanos, de raíz biológica, de la cual derivan las distintas lenguas de las diversas culturas que han existido en la historia del hombre y que existen aún.La diferencia entre la gramática universal (GU) y las distintas gramáticas particulares (GGPP) radica en que la primera se relaciona con la disposición de un conjunto de principios ―como el «principio de proyección», el «principio de dependencia de la estructura», el «principio de ligamiento», la «teoría del caso», el «criterio temático» y algunos otros―, mientras que las GGPP se vinculan a las múltiples variaciones que pueden hacer las lenguas de los parámetros de esos principios. Un ejemplo de esta variación se da en el «parámetro de los sujetos nulos», que enespañolse puede presentar mientras que eninglésno, como muestra el siguiente ejemplo:En español: «caminó mucho y está muy cansado». En esta oración el sujeto aparece implícito o es de sujeto nulo.En inglés: «he walked a lot and he is very tired». El sujeto nulo no se permite en inglés y es necesario que el sujeto («he») aparezca explicitado dos veces en la oración.Así, las GGPP no son más que combinaciones de elementos finitos que pueden dar lugar a múltiples lenguas e idiomas que en esta teoría son llamadaslengua-I.El sistema encargado de articular estos principios y variar los parámetros es elcerebro humanocon su capacidad desintaxis, que en su sentido amplio adquiere la forma de unsistema computacionalque opera enmódulos. Los módulos responden a una estructura matriz compuesta por tres componentes, dentro de los cuales actúan losprincipios y parámetrosdefinidos como una serie de teorías de lenguaje, conectadas con cuatro módulos centrales: laestructura-P, laestructura-S, laforma fonológica(FF) y laforma lógica(FL). La estructura-P conecta las oraciones con principios, mientras que la estructura-S apela a la transformación o variabilidad que pueden presentar dichas conexiones; además, la FF se vincula con la entonación y sonido de las expresiones lingüísticas ofonologíay la FL se encarga de lasemánticade estas expresiones en relación a su interpretación de sentido y significado.En laestructura-Pse encuentran las primeras relaciones entreléxicoysintaxis, como las relacionessintagmáticasque establecen qué essintagma verbal,sintagma nominal,sintagma adjetivalosintagma preposicional, entre otras relaciones categoriales.Laestructura-Sseñala acciones transformacionales o de parámetro, no solamente de principio como en la estructura-P. Un ejemplo es la operaciónmuévase α, en la que un elemento se mueve en la oración a otra posición. La estructura-S también sirve como conector entre dos módulos que no se relacionan directamente. El primero es laforma fonológica(FF), que se encarga de articular sonidos con formas léxicas a partir de fonemas definidos, como también de establecer las entonaciones de una pregunta o una afirmación, una suposición entre otras acciones ligadas a lo mismo.Por último, la forma lógica, quizás la más compleja de todas, conecta con el ejercicio semántico deinterpretaciónysignificadoen elsentidode un oración en la cual se encuentran a nivelléxicolas redes temáticas y las selecciones S, como modos de organizar la oración según papeles temáticos (tales comoagente,tema,experimentanteobenefactivo) ycategorías gramaticales(tales comoanimadoohumano) respectivamente, para luego dibujar la estructura morfológica de la oración a nivel sintáctico.Estos cuatro módulos entregan una salida (output) que sirve como entrada (input) del siguiente módulo hasta entregar una realizaciónlingüísticau oración en un acto comunicativo.[11]​Véanse también:Principios y parámetrosyRección y ligamiento.Activismo político y posicionamientos[editar]Noam Chomsky en elForo Social Mundialde 2003.Noam Chomsky se interesó por la política a muy temprana edad, estimulado por las lecturas en las librerías de los anarquistas españoles exiliados en Nueva York. A los once años publicó su primer artículo sobre la caída de Barcelona y la expansión del fascismo en Europa.[12]​Su activismo político arranca de la movilización popular contra laGuerra del Vietnam. La participación de Chomsky en esta movilización fue particularmente sorprendente considerando que su propia universidad, MIT,  estaba investigando helicópteros, bombas inteligentes y técnicas de contrainsurgencia para la guerra en Vietnam. Y, como dice Chomsky,  \"se desarrolló una buena cantidad de tecnología de orientación de misiles [nucleares] en el campus del MIT\".[13]​ Como Chomsky también dice, \"aproximadamente el 90% [del MIT] estaba financiado por el Pentágono en ese momento.  Y yo personalmente estaba justo en el medio de eso. Estaba en un laboratorio militar.”[14]​ La oposición de Chomsky a la guerra de Vietnam lo llevó a analizar el papel del mundo académico en la implicación de Estados Unidos en esta guerra. Fruto de este esfuerzo fueron varios artículos compilados en el libroAmerican Power and the New Mandarins(El poder estadounidense y los nuevos mandarines)1969, de entre los cuales destacaLa responsabilidad de los intelectuales(publicado inicialmente en febrero de 1967 enThe New York Review of Books). Desde entonces, ha sido muy conocido por sus ideas políticas deizquierda, que se centran en la lucha por superar el déficit democrático existente de Estados Unidos —es decir, la gran distancia entre las decisiones políticas y la opinión pública—, y en denunciar lasambiciones imperialesdel gobierno de este país en el mundo. En general, se le considera un crítico delcapitalismoy también ha hablado en contra deldarwinismo socialdeHerbert Spencer.Se define a sí mismo como partidario de la tradiciónanarquista, especialmente de la corriente de orientación laboral del anarquismo, elanarcosindicalismo, y es miembro del célebresindicato revolucionarioestadounidenseIWW, al que también perteneció su padre. Pese a ello, no se opone totalmente a la política electoral, al menos en el ámbito de la estrategia: su postura en las elecciones de Estados Unidos es que los ciudadanos deberían votar por losdemócrataslocales si con ello se consigue sacar del poder a losrepublicanos, mientras que en las situaciones donde las victorias republicana o demócrata están claras ha pedido el voto para candidaturas más a la izquierda, como las delPartido Verde. Es uno de los más importantes colaboradores del grupo mediático independienteZ Communications. Esta actuación se inscribe claramente dentro de la tradicional táctica anarcosindicalista de impulsar movilizaciones populares que coaccionen la acción de los poderes públicos y fácticos hasta conseguir cambios concretos y reales (véase el prefacio de Chomsky al libro deRudolf Rocker,Anarcho-Syndicalism: Theory and Practice, 1989).Desde un punto de vista más personal y filosófico, también se considera un conservador de la varianteliberal clásica(Chomsky's Politics, pp. 188) y se ha definido como unsionista; aunque observa que la mayoría considera comoantisionista su definición de sionismo.Percibe un cambio en el significado del sionismo (Chomsky Reader) desde la década de1940. En la misma línea y rescatando su contenido libertario, Chomsky ha declarado su admiración y adhesión alkibutzcomo forma social alternativa.Con el tiempo, se ha convertido en una de las principales figuras de la política radical estadounidense. Junto aJosé SaramagooLeonardo Boff, entre otros, es uno de los principales intelectuales de la izquierda en el mundo, pese a lo cual, a diferencia de su actividad científica, su aportación teórica en el ámbito político no es demasiado relevante. Nunca se ha considerado un teórico en política, sino simplemente un ciudadano informado que mantiene una actitud muycríticahacia la ideología dominante. Chomsky cree que, mientras la actividad científica no está al alcance de cualquiera (ya que exige una formación y una abstracción conceptual muy elevada), para la actividad de crítica política basta una cierta apertura de espíritu. Ha reiterado a menudo que la política debería ser cosa de todos y no dejarse en manos de laintelligentsia, ni mucho menos aceptar que solo los profesionales de la política (sean periodistas, intelectuales o políticos) sean los únicos capacitados para opinar sobre política.Uno de sus principales aportes intelectuales ha sido el análisis de los medios de comunicación. En sus estudios sobre el tema se ha ocupado de los enfoques sesgados, o incluso engañosos, que hay detrás de la supuesta neutralidad de los medios más prestigiosos. Se trata de un trabajo de «contrainformación» que ha obtenido gran difusión y que muchos otros han continuado. Fruto de este esfuerzo es el libroLos guardianes de la libertad,escrito junto conEdward S. Herman, profesor de laUniversidad de Pensilvania.Su denuncia de la política exterior deEstados Unidos, de las deficiencias democráticas de su maquinaria política, y de los engaños de los grandes medios de comunicación en este país, supone poner en duda tres de los pilares del nacionalismo estadounidense. Por otro lado, su visión sobre la política del estado israelí en Oriente Medio es parte de su crítica a la política exterior de Estados Unidos. Chomsky señala que desde hace años la maquinaria militar israelí depende enormemente del apoyo material y diplomático de Estados Unidos, y que ambos estados realizan sistemáticamente acciones violentas al margen de las leyes internacionales. Esta última circunstancia ha motivado que Chomsky declare que según los criterios internacionales actuales, ambos estados ejercen el terrorismo. En concreto en su libro11/09/2001, afirma que los Estados Unidos es «uno de los principales estados terroristas» («a leading terrorist state»). Noam Chomsky lo publicó en diciembre del 2001, tres meses después de lo sucedido en Nueva York. Es un ensayo sobre los hechos y las consecuencias de los atentados del 11 de septiembre. Se basa en una estructura de siete largas entrevistas de periodistas extranjeros durante el primer mes y medio posterior a los ataques al World Trade Center y al Pentágono. No analiza únicamente las causas, las consecuencias de los atentados y la reacción del pueblo norteamericano, sino que cuestiona las razones de la guerra y los bombardeos. En este libro Chomsky refleja de nuevo su visión crítica con el poder y la industria militar.A raíz de estas denuncias, varios detractores de Chomsky lo han tildado de antiestadounidense. Algunos incluso han comprendido sus críticas como una supuesta obsesión antiestadounidense y antisionista. Para algunos nacionalistas, es especialmente controvertida su crítica a la política del gobierno de Israel, por su origen judío. También ha sido polémico su apoyo a la libertad de expresión en los que se conoce como elescándalo Faurisson. En la década de 1970,Robert Faurissonrealizaría un estudio y escribiría un libro en el cual concluye que muchos de los acontecimientos del holocausto ( como las cámaras de gas) no existieron realmente. Chomsky firmaría una petición para garantizar a las autoridades la libertad de expresión, aclarando que él mismo no compartía el punto de vistanegacionista, pero que no reconocía expresiones antisemitas en el trabajo de Faurisson. Chomsky califica al holocausto comola peor muestra de locura colectiva en la historia de la humanidad, pero considera fundamental garantizar la defensa de la libertad de expresión, incluso para aquellas ideas popularmente mal vistas. Por último, destaca la crítica que hace de la izquierdaposmodernay de su entusiasmo por elrelativismo culturalque, aldeconstruirla noción de verdad, ha invalidado también la posibilidad de la crítica.[cita requerida]Chomsky ha pedido a EE. UU. y a Canadá levantar sanciones económicas impuestas a Venezuela[15]​ .En cuanto a España, en 2009 firmó un manifiesto de apoyo a la candidatura a las elecciones europeas de la formación políticaIzquierda Anticapitalista,[16]​ y en 2014 en apoyo de la formación políticaPodemos.[17]​ En el 2018, Chomsky, junto con más de 100 académicos de 19 países, pidió en una carta la \"puesta en libertad inmediata\" de los políticos catalanes encarcelados en España por participar en la declaración de independencia de Cataluña.Desde 2009 es miembro honorario deAIPTI.[18]​Antiglobalización económica de Chomsky[editar]Chomsky es uno de los detractores de la globalización, y esto se debe a su forma de entender la hegemonía del capitalismo moderno. Para Chomsky, Estados Unidos no cree en el libre comercio sino que lo utiliza como un método mediante el cual los países más fuertes imponen a los países pobres la obligación de cumplir unas normas coercitivas y rígidas (laley del embudo).El objetivo básico de la globalización económica es globalizar toda la economía mundial, y Estados Unidos controlaría la economía mundial con el apoyo de los organismos satélites (Fondo Monetario, Banco Mundial, Organización Mundial del Comercio).\n",
            "El argumento habitual a favor del libre comercio liberalizado es que conducirá a un aumento generalizado de los niveles de vida. La experiencia ha demostrado que con la apertura de los mercados comerciales y financieros los inversores y empresarios han ganado mucho más dinero, pero gran parte de los países más pobres han sido las víctimas de un descenso pronunciado de sus niveles de vida.Según precisa Noam Chomsky:Para la mayor parte de la población, incluso en un país tan rico como EE. UU., los sueldos se han estancado o han descendido a lo largo de los últimos 25 años, mientras que el horario y la inseguridad laboral han crecido mucho [...] La economía mundial ha descendido en el mismo periodo de tiempo (de forma considerable) [...] para una gran parte de la población mundial, las condiciones son horrorosas y a menudo se deterioran, y, lo que es más importante,[...] la correlación entre el crecimiento económico y el bienestar social que a menudo se ha dado (por ejemplo, durante la posguerra o la preliberalización) se ha truncado.[19]​Sus afirmaciones políticas le han concitado un gran número de simpatizantes, en amplios sectores de laizquierda, especialmente europea y latinoamericana, y también algunos detractores. Su libro11 de septiembre(9/11) tuvo una gran difusión, pese a haber sido publicado por una pequeña editorial. Solo la edición de este libro en inglés vendió centenares de miles ejemplares, y ha sido traducido a varias lenguas. Posteriormente, su libroHegemonía o supervivencia: la búsqueda estadounidense del dominio globalfue recomendado por el presidente deVenezuelaHugo Chávezen su discurso frente a la asamblea general de laONUel día 20 de septiembre de 2006, lo que ocasionó que dicho libro, en aproximadamente dos días, pasase del puesto 160.772, al número 2 de los libros más vendidos enAmazon.[20]​Perspectiva sobre el ateísmo, la ciencia y la religión[editar]En diversas ocasiones se le ha preguntado a Chomsky si tiene unapostura religiosao esateo, a lo cual él respondió en una ocasión:Soy lo que aquí se llama un «ateo secular», excepto que ni siquiera puedo decir que soy un «ateo» porque no está del todo claro lo que se me pide negar.[21]​En una discusión conLawrence KraussySean M. Carrollen el 2006, Chomsky dio una respuesta similar:De hecho, yo ni siquiera sé lo que es un ateo. Cuando la gente me pregunta si soy ateo, tengo que preguntarles a qué se refieren. ¿Qué es lo que se supone que no tengo que creer? Hasta que no puedas responder a esa pregunta, no puedo decir si soy ateo, y la cuestión no se plantea. [...] No veo cómo uno puede ser un agnóstico cuando uno no sabe qué es lo que se supone que uno cree, o rechaza [creer]».Chomsky (2006),Science in the Dock[22]​Adicionalmente, Chomsky ha reconocido los límites de larazón humana,[23]​ y claramente ha rechazado elcientificismo(la idea de que la ciencia lo puede explicar todo):En los problemas comunes de la vida humana, la ciencia nos dice muy poco, y los científicos, como personas, sin duda no son ninguna guía. De hecho, son a menudo la peor guía, ya que a menudo tienden a concentrarse, como un láser, en sus propios intereses profesionales, y saben muy poco sobre el mundo.The Reality Club: Beyond Belief[21]​La ciencia estudia lo que está al margen de la comprensión, y lo que al margen de la comprensión suele ser bastante simple. Y rara vez llega a los asuntos humanos. Los asuntos humanos son demasiado complicados [...] así que las ciencias reales nos dicen casi nada sobre los asuntos humanos.Science in the Dock (2006)[24]​Por otra parte, Chomsky ha dejado claro que su postura no esantirreligiosa, pues como analista social, al igual que muchos otros autores, ha reconocido que hay una diferenciación radical entre elcristianismo de los evangeliosen contraste con el de la mayor parte de los gobiernos y organizaciones religiosas:Hay unahistoria del cristianismo; los tres primeros siglos del cristianismo: era una religiónpacifistaradical, razón por la cual fueperseguida: era lareligiónde lospobresy los que sufrían;Jesúsera el símbolo de lospobresy los que sufrían, y ahí está la encrucijada. En el siglo IV fue tomada por elImperio romano... que convirtió a laIglesiaen la religión de los persecutores.Chomsky (2010)[25]​Jesúsmismo, y la mayor parte del mensaje de los Evangelios, es un mensaje de servicio a lospobres, una crítica de los ricos y los poderosos, y una doctrinapacifista, y se mantuvo así, así es como el cristianismo estaba... hasta Constantino.: Constantino lo cambió, así que la cruz, que era el símbolo de la persecución de alguien que trabaja para los pobres, se puso en el escudo delImperio Romano. Se convirtió en el símbolo de la violencia y la opresión, que es más o menos lo que la Iglesia ha sido hasta el presente.Science & Technology News, marzo 1, 2006Además, ha hablado favorablemente de lateología de la liberación[25]​ y ha reconocido la labor de movimientos que han tratado de restaurar y rescatar los principios delcristianismo primitivo:De hecho, es bastante notable en los últimos años, que elementos de la Iglesia, en particular obispos latinoamericanos, pero no sólo ellos, han tratado de volver a los Evangelios.[26]​Libros publicados[editar]Lingüística[editar]1955:Logical Structure of Linguistic Theory(es su tesis doctoral, inédita hasta 1975).1957:Syntactic Structures(Estructuras sintácticas, Buenos Aires, Siglo XXI, 1999).1965:Aspects of the Theory of Syntax(Aspectos de la teoría de la sintaxis, Barcelona, Gedisa, 1999).1965:Cartesian Linguistics(Lingüística cartesiana, Madrid, Gredos, 1972).1968:Language and Mind(El lenguaje y el entendimiento, Barcelona, Seix-Barral, 1977).1968:Sound Pattern of English(con Morris Halle).1970:Current Issues in Linguistic Theory.1972:Studies in Semantics in Generative Grammar.1975:Reflections on Language(Reflexiones sobre el lenguaje, Barcelona, Ariel, 1979).1977:Langue, linguistique, politique: dialogues avec Mitsou Ronat(Conversaciones con Noam Chomsky, Barcelona, Gedisa, 1999). Presentación ordenada temática y cronológicamente de las ideas científicas y políticas de Chomsky.1977:Essays on Form and Interpretation(Ensayos sobre forma e interpretación, Madrid, Cátedra, 1982).1980:Rules and Representations(Reglas y representaciones, México,FCE, 1983).1981:Lectures on Government and Binding: The Pisa Lectures.1984:Modular Approaches to the Study of Mind.1986:Barriers(Barreras, Barcelona, Paidós, 1990).1986:Knowledge of Language: Its Nature, Origin, and Use. (El conocimiento del lenguaje, su naturaleza, origen y uso, Madrid, Alianza, 1989).1995:The Minimalist Program(El programa minimalista, Madrid, Alianza, 1999).Política[editar]1969:American Power and the New Mandarins(New York, Vintage Books-Random House. Segunda edición revisada: New York, New Press, 2002).1970:El Gobierno en el Futuro.1984:La segunda guerra fría(Barcelona, Crítica, 1984).1988:La quinta libertad(Barcelona, Crítica, 1988).1987:On Power and Ideology. The Managua Lectures.1990:Los guardianes de la libertad(Noam Chomsky; Edward S. Herman, Barcelona, Crítica, 1990, 1995, 2000).1992:La conquista continúa: 500 años de genocidio imperialista(28020 Madrid 1992 / (C) Terramar Ediciones. Plaza Italia 187. 1900 La Plata, Argentina. Nov. 2007).1992:El miedo a la democracia(Barcelona, Crítica, 1992, 1997, 2001).1992:Ilusiones necesarias.Control del pensamiento en las sociedades democráticas((C) Libertarias/Prodbufi, S.A. C. Lérida, 80-82, 28020 Madrid, Tetuán, 1992).1995:Cómo nos venden la moto(Noam Chomsky eIgnacio Ramonet, Barcelona, Icaria, 1995).1996:Cómo se reparte la tarta. Políticas USA al final del milenio(Barcelona, Icaria, 1996).1997:La Aldea Global(Noam Chomsky yHeinz Dieterich, Nafarroa, Txalaparta, 1997).1997:Lucha de clases(Barcelona, Crítica, 1997).1997:El nuevo Orden mundial (y el viejo)(Barcelona, Crítica, 1997, 2002).2000:Actos de agresión(Barcelona, Crítica, 2000).2000:El beneficio es lo que cuenta(Barcelona, Crítica, 2000).2001:Perspectivas sobre el poder(Barcelona, El Roure Ciencia, 2001).2001:La (Des)Educación(Barcelona, Crítica, 2001).2002:11/09/2001(Barcelona, RBA, 2002) 142p.2002:La Propaganda y la opinión pública(Barcelona, Crítica, 2002).2003:El triángulo fatal(Madrid, Editorial Popular, 2003).2003:Lucha de clases(Barcelona, Editorial Crítica, 2003).2003:La cultura del terrorismo(Madrid, Editorial Popular, 2003).2004:Ilusiones de Oriente Medio(Madrid, Editorial Popular, 2004).2004:Piratas y emperadores(Madrid, Ediciones B, 2004).2005:Hegemonía o supervivencia. La estrategia imperialista de EEUU(Barcelona, Ediciones B, 2005).2006:La naturaleza humana: justicia versus poder, debate conMichel Foucault(Buenos Aires y Madrid, Katz Barpal Editores, 2006,ISBN 84-935187-2-7).2007:Estados fallidos. El abuso de poder y el ataque a la democracia(Barcelona, Ediciones B, 2007).2008:Intervenciones(Haymarket Books, 2008).2008:Sobre el anarquismo(Editorial Laetoli, 2008).2008:Líbano, desde dentro(Barcelona, Editorial Hacer, 2008).2010:Esperanzas y realidades(Barcelona, Tendencias, 2010).2011:Gaza en crisis. Reflexiones sobre la guerra de Israel contra los palestinos(conIlan Pappé) (Madrid, Taurus, 2011).2012:Ilusionistas. (Madrid, Irreverentes, 2012,ISBN 978-84-15353-46-1).2013:Razones para la anarquía(Barcelona, Editorial Malpaso, 2013,ISBN 978-84-15996-47-7).2016:¿Quién domina el mundo?(Barcelona, Ediciones B, 2016,ISBN 978-84-666-5988-8).2017:Réquiem por el sueño americano(Madrid, Editorial Sexto Piso, 2017,ISBN 978-84-16677-50-4)Artículos en línea[editar]Chomsky, Noam (2010):«China y el nuevo orden mundial»[1], artículo publicado en el diarioPúblico(Madrid).Chomsky, Noam (2010):«China y el nuevo orden mundial»[2], artículo publicado en el diarioPúblico(Madrid).Chomsky, Noam (2010):«Indignación errónea en las elecciones de Estados Unidos», artículo publicado en el diarioPúblico(Madrid).Chomsky, Noam:Diversos artículos de opiniónpublicados en el diario venezolanoÚltimas Noticias.Obra sobre Chomsky[editar]Calvin, William H;Bickerton, Derek(2001).Lingua ex machina: la conciliación de las teorías de Darwin y Chomsky sobre el cerebro humano (Lingua ex machina, 2000).Fernández Aúz, Tomás(trad.) (1ª ed, edición). Barcelona: Gedisa. pp. 359 págs.ISBN84-7432-849-7.La referencia utiliza el parámetro obsoleto|coautores=(ayuda)Cogswell, David;Gordon, Paul(2003). [Vista incompleta en google booksChomsky para principiantes].Leandro Wolfson(trad.) (2ª ed, edición). Longseller. pp. 160 págs.ISBN9789879065389.La referencia utiliza el parámetro obsoleto|coautores=(ayuda)Miranda Alonso, Tomás(2006).Arquitectura de la mente según Noam Chomsky. Siglo XXI. pp. 200 págs.ISBN9788432312205.Smith, Neil(2001).Chomsky: Ideas e ideales.Fuentes, Izaskun(trad.). Barcelona:Cambridge University Press. pp. 368 págs.ISBN9788483231203.Lorenzo González, Guillermo(2001).Comprender a Chomsky: introducción y comentarios a la filosofía chomskyana sobre el lenguaje y la mente. A. Machado Libros. pp. 201 págs.ISBN84-7774-883-7.Barsky, Robert F.(2005).[http://web.archive.org/web/http://cognet.mit.edu/library/books/chomsky/chomsky/contents.html Noam Chomsky: una vida de discrepancia]. Península. pp. 286 págs.ISBN9788483076767.Knight, Chris(2016).Decoding Chomsky: Science and revolutionary politics. Yale University Press.Véase también[editar]AttacJerarquía de ChomskyGramática transformacionalProblema de OrwellEscándalo FaurissonModelo de Propaganda de los medios de comunicaciónConsenso manufacturadoAnarquismo en Estados UnidosColorless green ideas sleep furiouslyNotas[editar]↑Kanan Makiya, Fouad Moughrabi, Adel Safty, Rex Brynen,\"Letters to the Editor\" inJournal of Palestine Studies,Journal of Palestine StudiesviaJSTOR(Vol. 23, No. 4, verano de 1994, pp. 196–200), visto 4 de diciembre de 2007. Relevant quotation: \"On page 146 of my book, I clearly adoptthe propaganda model developed by Noam Chomskyand Edward Herman...\"↑Edgley, Alison (1999).«Chomsky's Libertarian Socialism»(en inglés). Archivado desdeel originalel 27 de junio de 2009.↑The Chomsky Problem(en inglés). The New York Times (25-2-1979).↑Sáenz, Mauricio (Diciembre de 2006).«Noam Chomsky».Arcadia(15). Consultado el 13 de junio de 2011., citando aBarsky, Robert F (2005).Noam Chomsky, una vida de discrepancia. Península.ISBN9788483076767.↑País, Ediciones El (31 de octubre de 1998).«Chomsky reclama una Universidad subversiva en su discurso de investidura».EL PAÍS. Consultado el 5 de febrero de 2016.↑Resolución número 34 de 2002 del Consejo Superior Universitario de laUniversidad Nacional de Colombia↑http://www.lanacion.cl/noticias/site/artic/20061018/pags/20061018174006.html↑Noticias.universia.cl.«Universidad de La Frontera condecora con Honoris Causa a Noam Chomsky».Noticias Universia Chile. Consultado el 10 de diciembre de 2016.↑«UNAM otorga doctorados honoris causa a figuras de la ciencia y humanidad».Expansión. Consultado el 10 de diciembre de 2016.↑«Carol Chomsky, 78, linguist and educator, dies», artículo del 21 de diciembre de 2008 en el diarioNew York Times(Estados Unidos).↑Fernández Lagunilla, Marina; Anula Rebollo, Alberto (2004).Sintaxis y cognición: introducción a la gramática generativa. Madrid: Síntesis.ISBN 84-9756-170-8.↑“Sin azúcar: conversacipnes con Noam ChomslkyEl Huffington Post,Jorge Majfudmayo 2016↑Michael Albert, ‘’Remembering Tomorrow’’, p97-99; C.P.Otero, ‘’Noam Chomsky: Language and Politics’’, p247;'MIT may be dangerous to the world', ‘’The Tech’’, 28/4/72, p5.↑G.D.White, ‘’Campus Inc.’’, p445.↑César Levano. En su columna deUno, diario de Lima, 25 de marzo de 2018↑Público.es: Elecciones al Parlamente europeo. Chomsky, Loach y Zizek: arietes anticapitalistas.[1]↑Chomsky, Galeano, Negri y otros intelectuales firman un manifiesto de apoyo a Podemos↑Noam Chomsky, miembro honorario de AIPTI↑Véase Video en Transnational Justice Center↑The most popular items on Amazon.com(en inglés)↑abhttp://www.edge.org/discourse/bb.html#chomsky↑Science in the Dock. Discusión con Noam Chomsky, Lawrence Krauss & Sean M. Carroll Science & Technology News, 1 de marzo, 2006↑http://www.chomsky.info/interviews/198311--.htmEntrevista a Chomsky por John Gliedman Omni, 6:11, Noviembre 1983↑http://www.chomsky.info/debates/20060301.htm↑abhttp://www.youtube.com/watch?v=SNDG7ErY-k4&feature=relatedChomsky on Religion (2010)↑ÍdemEnlaces externos[editar]Wikimedia Commonsalberga una categoría multimedia sobreNoam Chomsky.Wikiquotealberga frases célebres de o sobreNoam Chomsky.En inglés[editar]De Chomsky:Sitio web(en inglés).Artículos de Noam ChomskyenThe Guardian.Perfilen el MIT.(en inglés).Noam Chomsky: A life of dissent, biografía completa(en inglés).The Noam Chomsky Archive(en inglés).En español[editar]Noam Chomsky es Presidente de honor del Consejo Editorial de la revista de prensa digital CTXT.[2][3][4][5][6][7][8][9][10]Noam Chomsky - BiografíaNoam Chomsky – El pensamientoDocumentos de Noam ChomskyArtículos y libros críticos hacia el autorEntrevista en Señales de HumoRespuestas a Chomsky en relación al lenguaje«Noam Chomsky, el incómodo susurro de la conciencia occidental», reseña deIlusionistasen el periódicoThe Huffington Post, y adelanto de un capítulo del libro en castellano[11]Noam Chomsky tiene una aterradora advertencia sobre Donald Trump, sitio digital 'Clarín', 16 de noviembre de 2016Control de autoridades:Q9049WorldCatVIAF:89803084ISNI:0000 0001 2143 0999BNA:000047047BNE:XX849732BNF:11896756j(data)CANTIC:a10065660GND:118520520LCCN:n79104267NDL:00435949NKC:jn19990003846CiNii:DA0040532XSNAC:w6gb266jSUDOC:026787865ULAN:500288286BIBSYS:90052767MGP:82231ICCU:IT\\ICCU\\CFIV\\103508Leopoldina:145Open Library:OL31676APersée:180651Dialnet:269259Google Académico:rbgNVw0AAAAJObtenido de «https://es.wikipedia.org/w/index.php?title=Noam_Chomsky&oldid=109581837»Categorías:HombresNacidos en 1928Noam ChomskyDoctores honoris causa de la Universidad de ChileMiembros de la LeopoldinaDoctores honorarios por la Universidad de UpsalaDoctores honoris causa por la Universidad Rovira i VirgiliGraduados honorarios de la Universidad de Ontario OccidentalJudíos antisionistasCategorías ocultas:Wikipedia:Páginas con enlaces mágicos de ISBNWikipedia:Artículos destacados en la Wikipedia en búlgaroWikipedia:Artículos destacados en la Wikipedia en francésWikipedia:Artículos destacados en la Wikipedia en latínPersonas vivasWikipedia:Artículos con pasajes que requieren referenciasWikipedia:Páginas con referencias con parámetros obsoletosWikipedia:Artículos con plantilla The GuardianWikipedia:Control de autoridades con 23 elementosWikipedia:Artículos con identificadores VIAFWikipedia:Artículos con identificadores ISNIWikipedia:Artículos con identificadores BNAWikipedia:Artículos con identificadores BNEWikipedia:Artículos con identificadores BNFWikipedia:Artículos con identificadores CANTICWikipedia:Artículos con identificadores GNDWikipedia:Artículos con identificadores LCCNWikipedia:Artículos con identificadores SNACWikipedia:Artículos con identificadores ULANWikipedia:Artículos con identificadores BIBSYSWikipedia:Artículos con identificadores SBNWikipedia:Artículos con identificadores LeopoldinaWikipedia:Artículos con identificadores Open LibraryWikipedia:Artículos con identificadores PerséeWikipedia:Artículos con identificadores DialnetWikipedia:Artículos con identificadores Google AcadémicoMenú de navegaciónHerramientas personalesNo has accedidoDiscusiónContribucionesCrear una cuentaAccederEspacios de nombresArtículoDiscusiónVariantesVistasLeerEditarVer historialMásBuscarNavegaciónPortadaPortal de la comunidadActualidadCambios recientesPáginas nuevasPágina aleatoriaAyudaDonacionesNotificar un errorImprimir/exportarCrear un libroDescargar como PDFVersión para imprimirEn otros proyectosWikimedia CommonsWikiquoteHerramientasLo que enlaza aquíCambios en enlazadasSubir archivoPáginas especialesEnlace permanenteInformación de la páginaElemento de WikidataCitar esta páginaEn otros idiomasAfrikaansAlemannischአማርኛAragonésÆngliscالعربيةمصرىAsturianuAzərbaycancaتۆرکجهБашҡортсаŽemaitėškaБеларускаяБеларуская (тарашкевіца)‎Българскиभोजपुरीবাংলাབོད་ཡིགBrezhonegBosanskiБуряадCatalàНохчийнکوردیČeštinaСловѣньскъ / ⰔⰎⰑⰂⰡⰐⰠⰔⰍⰟCymraegDanskDeutschΕλληνικάEnglishEsperantoEestiEuskaraEstremeñuفارسیSuomiFrançaisGaeilgeGàidhligGalegoگیلکیગુજરાતીעבריתहिन्दीFiji HindiHrvatskiMagyarՀայերենInterlinguaBahasa IndonesiaIlokanoIdoÍslenskaItaliano日本語La .lojban.Basa JawaქართულიҚазақшаಕನ್ನಡ한국어कॉशुर / کٲشُرKurdîLatinaLëtzebuergeschLimburgsLietuviųLatviešuMalagasyМакедонскиമലയാളംМонголमराठीBahasa MelayuNederlandsNorsk nynorskNorskOccitanИронਪੰਜਾਬੀPolskiPiemontèisپنجابیپښتوPortuguêsRomânăРусскийРусиньскыйSarduScotsDavvisámegiellaSrpskohrvatski / српскохрватскиSimple EnglishSlovenčinaSlovenščinaShqipСрпски / srpskiBasa SundaSvenskaKiswahiliதமிழ்తెలుగుไทยTürkçeТатарча/tatarçaУкраїнськаاردوOʻzbekcha/ўзбекчаTiếng ViệtVolapükWinaray吴语მარგალურიייִדישYorùbá中文Bân-lâm-gú粵語Editar enlacesSe editó esta página por última vez el 28 jul 2018 a las 10:46.El texto está disponible bajo laLicencia Creative Commons Atribución Compartir Igual 3.0;\n",
            "pueden aplicarse cláusulas adicionales. Al usar este sitio, usted acepta nuestrostérminos de usoy nuestrapolítica de privacidad.Wikipedia® es una marca registrada de laFundación Wikimedia, Inc., una organización sin ánimo de lucro.Normativa de privacidadAcerca de WikipediaLimitación de responsabilidadDesarrolladoresDeclaración de cookiesVersión para móviles(window.RLQ=window.RLQ||[]).push(function(){mw.config.set({\"wgPageParseReport\":{\"limitreport\":{\"cputime\":\"0.692\",\"walltime\":\"0.845\",\"ppvisitednodes\":{\"value\":2979,\"limit\":1000000},\"ppgeneratednodes\":{\"value\":0,\"limit\":1500000},\"postexpandincludesize\":{\"value\":75440,\"limit\":2097152},\"templateargumentsize\":{\"value\":9936,\"limit\":2097152},\"expansiondepth\":{\"value\":19,\"limit\":40},\"expensivefunctioncount\":{\"value\":22,\"limit\":500},\"unstrip-depth\":{\"value\":0,\"limit\":20},\"unstrip-size\":{\"value\":20800,\"limit\":5000000},\"entityaccesscount\":{\"value\":23,\"limit\":400},\"timingprofile\":[\"100.00%  683.187      1 -total\",\" 49.30%  336.839      1 Plantilla:Ficha_de_persona\",\" 26.32%  179.832      1 Plantilla:NF\",\" 25.02%  170.938      1 Plantilla:Control_de_autoridades\",\"  7.37%   50.366      1 Plantilla:Listaref\",\"  6.75%   46.088      8 Plantilla:Cita_libro\",\"  3.60%   24.606      5 Plantilla:Y-e\",\"  3.39%   23.148      9 Plantilla:Reemplazar\",\"  3.38%   23.119      1 Plantilla:Gentilicio\",\"  2.54%   17.347      3 Plantilla:Desenlazar\"]},\"scribunto\":{\"limitreport-timeusage\":{\"value\":\"0.419\",\"limit\":\"10.000\"},\"limitreport-memusage\":{\"value\":7323849,\"limit\":52428800}},\"cachereport\":{\"origin\":\"mw1296\",\"timestamp\":\"20180729233433\",\"ttl\":1900800,\"transientcontent\":false}}});mw.config.set({\"wgBackendResponseTime\":102,\"wgHostname\":\"mw1325\"});});\n"
          ],
          "name": "stdout"
        }
      ]
    },
    {
      "metadata": {
        "id": "ABrjKBXYkwSg",
        "colab_type": "code",
        "colab": {
          "autoexec": {
            "startup": false,
            "wait_interval": 0
          }
        }
      },
      "cell_type": "code",
      "source": [
        "import textacy.extract"
      ],
      "execution_count": 0,
      "outputs": []
    },
    {
      "metadata": {
        "id": "8SHhA7yxk7Fi",
        "colab_type": "code",
        "colab": {
          "autoexec": {
            "startup": false,
            "wait_interval": 0
          }
        }
      },
      "cell_type": "code",
      "source": [
        "tokens = nlp(text)"
      ],
      "execution_count": 0,
      "outputs": []
    },
    {
      "metadata": {
        "id": "hGY1tsQ8lF7L",
        "colab_type": "code",
        "colab": {
          "autoexec": {
            "startup": false,
            "wait_interval": 0
          }
        }
      },
      "cell_type": "code",
      "source": [
        "bigramas = textacy.extract.noun_chunks(tokens, min_freq=1)"
      ],
      "execution_count": 0,
      "outputs": []
    },
    {
      "metadata": {
        "id": "BbiEAJnGlawL",
        "colab_type": "code",
        "colab": {
          "autoexec": {
            "startup": false,
            "wait_interval": 0
          },
          "base_uri": "https://localhost:8080/",
          "height": 34
        },
        "outputId": "a052cd4f-6254-4813-cbf7-f6abb206c9a0",
        "executionInfo": {
          "status": "ok",
          "timestamp": 1533046389826,
          "user_tz": -120,
          "elapsed": 560,
          "user": {
            "displayName": "Elena del Olmo",
            "photoUrl": "//lh5.googleusercontent.com/-vGldiq9ESB8/AAAAAAAAAAI/AAAAAAAAAxw/Yb8_nlM8V-g/s50-c-k-no/photo.jpg",
            "userId": "112120734031415552045"
          }
        }
      },
      "cell_type": "code",
      "source": [
        "type(bigramas)"
      ],
      "execution_count": 39,
      "outputs": [
        {
          "output_type": "execute_result",
          "data": {
            "text/plain": [
              "generator"
            ]
          },
          "metadata": {
            "tags": []
          },
          "execution_count": 39
        }
      ]
    },
    {
      "metadata": {
        "id": "M3xZpRE3lfn1",
        "colab_type": "code",
        "colab": {
          "autoexec": {
            "startup": false,
            "wait_interval": 0
          }
        }
      },
      "cell_type": "code",
      "source": [
        "bigramas_text = map(str, bigramas)"
      ],
      "execution_count": 0,
      "outputs": []
    },
    {
      "metadata": {
        "id": "apOVzDuCl5KX",
        "colab_type": "code",
        "colab": {
          "autoexec": {
            "startup": false,
            "wait_interval": 0
          }
        }
      },
      "cell_type": "code",
      "source": [
        "bigramas_text = map(str.lower, bigramas_text)"
      ],
      "execution_count": 0,
      "outputs": []
    },
    {
      "metadata": {
        "id": "ayHR54cfltHS",
        "colab_type": "code",
        "colab": {
          "autoexec": {
            "startup": false,
            "wait_interval": 0
          },
          "base_uri": "https://localhost:8080/",
          "height": 4344
        },
        "outputId": "98241d02-c13e-4f83-87c8-a5d4e59764ef",
        "executionInfo": {
          "status": "ok",
          "timestamp": 1533046398489,
          "user_tz": -120,
          "elapsed": 511,
          "user": {
            "displayName": "Elena del Olmo",
            "photoUrl": "//lh5.googleusercontent.com/-vGldiq9ESB8/AAAAAAAAAAI/AAAAAAAAAxw/Yb8_nlM8V-g/s50-c-k-no/photo.jpg",
            "userId": "112120734031415552045"
          }
        }
      },
      "cell_type": "code",
      "source": [
        "for bigrama in set(bigramas_text):\n",
        "  if len(bigrama.split(\" \")) > 1:\n",
        "    print(bigrama)"
      ],
      "execution_count": 42,
      "outputs": [
        {
          "output_type": "stream",
          "text": [
            "cuatro módulos\n",
            "kraussysean m. carrollen\n",
            "noam chomsky archive(en\n",
            "que la iglesia ha sido hasta el presente\n",
            "mitsou ronat(conversaciones\n",
            "of language\n",
            "nelson goodman\n",
            "lagramática universalde chomsky\n",
            "primera lengua\n",
            "x',jerarquía de chomsky\n",
            "terramar ediciones\n",
            "morfemasgramaticales yrefranes\n",
            "universidad de upsala\",\"doctores\n",
            "riguroso sistema\n",
            "lingüística[editar]en 1957\n",
            "universidad de chilemiembros de la leopoldinadoctores\n",
            "más importantes colaboradores\n",
            "zellig harris\n",
            "chomsky.1977:essays on form and interpretation(ensayos\n",
            "biografíanoam chomsky\n",
            "palestine studies\n",
            "cuatro años\n",
            "oriente medio\n",
            "universidad rovira\n",
            "pequeña editorial\n",
            "siguiente ejemplo\n",
            "fuerte crítica\n",
            "contents.html noam chomsky\n",
            "the theory of\n",
            "siglo iv\n",
            "s apela\n",
            "saramagooleonardo boff\n",
            "anarquismo(editorial laetoli\n",
            "beyond belief[21]​la\n",
            "consejo editorial de la revista de prensa digital ctxt.[2][3][4][5][6][7][8][9][10]noam chomsky\n",
            "random house\n",
            "honoris causa\n",
            "gran distancia\n",
            "últimos años\n",
            "primera evidencia\n",
            "william h;bickerton\n",
            "mit.(en inglés).noam chomsky\n",
            "language and politics\n",
            "it\\iccu\\cfiv\\103508leopoldina:145open library\n",
            "orwellescándalo faurissonmodelo de propaganda\n",
            "nuevo orden\n",
            "2010.en sutesisdoctoral\n",
            "robert f.(2005).[http://web.archive.org\n",
            "isbn9788483231203.lorenzo gonzález\n",
            "chomsky reader\n",
            "organización mundial del comercio\n",
            "universidad de ontario occidentaljudíos\n",
            "chomsky7véase también8notas9enlaces\n",
            "pattern of english(con morris halle).1970:current issues in linguistic theory.1972:studies in semantics in generative grammar.1975:reflections on\n",
            "buenos aires\n",
            "enorme escisión\n",
            "nacional autónoma\n",
            "gran número\n",
            "única persona\n",
            "lafundación wikimedia\n",
            "to the world\n",
            "open librarywikipedia\n",
            "editorial popular\n",
            "editorial sexto piso\n",
            "principales figuras\n",
            "diarionew york\n",
            "robert f\n",
            "s.a. c. lérida\n",
            "p. un ejemplo\n",
            "lingüística delsiglo xx\n",
            "william james(1989)medalla helmholtz(1996)medalla benjamin franklin(1999)erich\n",
            "gracias a\n",
            "open library\",\"wikipedia\n",
            "universidad de chile\",\"miembros\n",
            "cierta apertura\n",
            "the managua lectures.1990:los\n",
            "power and the new mandarins(new york\n",
            "primer artículo\n",
            "deinterpretaciónysignificadoen elsentidode\n",
            "editorial hacer\n",
            "the reality club\n",
            "día 20 de septiembre de 2006\n",
            "nuevos mandarines)1969\n",
            "que es un ateo\n",
            "society of fellows de harvard\n",
            "plaza italia\n",
            "elnew york timeslo\n",
            "elsie simonofsky\n",
            "once años\n",
            "jorge majfudmayo\n",
            "evangelios.[26]​libros publicados[editar]lingüística[editar]1955:logical structure of linguistic theory(es\n",
            "suprograma minimalista(1995\n",
            "foucault(buenos aires\n",
            "p. wardde lenguaje moderno\n",
            "lingua ex machina\n",
            "nuevo idioma\n",
            "theory and practice\n",
            "siglo xxi\n",
            "oriente medio(madrid\n",
            "ⱄⰾⱁⰲⱑⱀⱐⱄⰽⱏcymraegdanskdeutschελληνικάenglishesperantoeestieuskaraestremeñuفارسیsuomifrançaisgaeilgegàidhliggalegoگیلکیગુજરાતીעבריתहिन्दीfiji hindihrvatskimagyarհայերենinterlinguabahasa indonesiailokanoidoíslenskaitaliano日本語la\n",
            "’noam chomsky\n",
            "gran parte\n",
            "que puede efectuarse\n",
            "venezuela[15]​ .en\n",
            "múltiples variaciones\n",
            "misma línea\n",
            "my book\n",
            "privacidadacerca de wikipedialimitación\n",
            "propio everett\n",
            "febrero de 1967\n",
            "on page\n",
            "government and binding(lgb\n",
            "social mundialde 2003.noam chomsky\n",
            "science & technology news\n",
            "aipti↑véase video\n",
            "chomsky yheinz dieterich\n",
            "28020 madrid\n",
            "nueva york\n",
            "s. herman\n",
            "consejo superior universitario de launiversidad nacional de colombia↑http://www.lanacion.cl\n",
            "frente a\n",
            "diversas culturas\n",
            "propia universidad\n",
            "noam chomskyartículos\n",
            "nueva teoría\n",
            "truncado.[19]​sus afirmaciones\n",
            "señales de humorespuestas\n",
            "mayor parte\n",
            "estados unidosresidencialexingtonnacionalidadestadounidenselengua\n",
            "hikma»sociedad filosófica estadounidenseasociación estadounidense\n",
            "power and the new mandarins(el poder\n",
            "ediciones b\n",
            "políticas usa\n",
            "editorial malpaso\n",
            "donald trump\n",
            "primer mes\n",
            "principales aportes\n",
            "supuesta neutralidad\n",
            "high school(hasta\n",
            "2000).fernández aúz\n",
            "edward s. herman\n",
            "tres primeros siglos\n",
            "fouad moughrabi\n",
            "incómodo susurro\n",
            "times(estados unidos).↑fernández lagunilla\n",
            "otra destreza\n",
            "banco mundial\n",
            "estados unidos»\n",
            "enthe new york review of books\n",
            "cienciaacademia europæaacademia de las artes\n",
            "grandes medios\n",
            "launiversidad nacional\n",
            "distintas lenguas\n",
            "diciembre del 2001\n",
            "aterradora advertencia\n",
            "comunicación[1]​empleadorinstituto tecnológico\n",
            "gran difusión\n",
            "jul 2018\n",
            "nacimientoavram noam chomskynacimiento7\n",
            "véase también[editar]attacjerarquía\n",
            "transnational justice\n",
            "tecnológico de massachusetts(mit\n",
            "varianteliberal clásica(chomsky\n",
            "a. machado libros\n",
            "principales estados\n",
            "buena cantidad\n",
            "oak lane\n",
            "noam chomskyand edward herman\n",
            "creative commons atribución compartir igual\n",
            "the dock\n",
            "sitio web(en inglés).artículos de noam chomskyenthe guardian\n",
            "distintas gramáticas\n",
            "muchos otros\n",
            "the principles and parameters approach(p&p\n",
            "the pisa lectures.1984:modular approaches to the study of mind.1986:barriers(barreras\n",
            "otros idiomasafrikaansalemannischአማርኛaragonésængliscالعربيةمصرىasturianuazərbaycancaتۆرکجهбашҡортсаžemaitėškaбеларускаябеларуская\n",
            "preis(2010)premio thomas merton(2010)albertus\n",
            "vintage books\n",
            "cambridge university press\n",
            "institute of technology(mit\n",
            "periódicothe huffington post\n",
            "fondo monetario\n",
            "otros sistemas\n",
            "años cincuenta\n",
            "new york\n",
            "otros autores\n",
            "sundasvenskakiswahiliதமிழ்తెలుగుไทยtürkçeтатарча/tatarçaукраїнськаاردوoʻzbekcha/ўзбекчаtiếng việtvolapükwinaray吴语მარგალურიייִדישyorùbá中文bân\n",
            "lawrence krauss & sean m. carroll science & technology news\n",
            "última circunstancia\n",
            "mucho [\n",
            "artes «beit\n",
            "chomskyde wikipedia\n",
            "primeras relaciones\n",
            "artículos con identificadores bnawikipedia\n",
            "estados unidos\n",
            "universidad de ontario occidental\",\"judíos\n",
            "’the tech\n",
            "elecciones al parlamente\n",
            "que está al margen de la comprensión\n",
            "profesordaniel everett\n",
            "chris(2016).decoding chomsky\n",
            "adel safty\n",
            "mismo periodo\n",
            "harrisinformación profesionalocupaciónfilósofo\n",
            "rex brynen,\"letters to the editor\n",
            "estados unidoscolorless\n",
            "noam chomsky».noticias universia chile\n",
            "libre comercio\n",
            "the guardian\",\"wikipedia\n",
            "roure ciencia\n",
            "supuesta obsesión\n",
            "its nature\n",
            "chomsky problem(en inglés\n",
            "government and binding\n",
            "futuro.1984:la segunda guerra\n",
            "chomsky eignacio ramonet\n",
            "yale university press\n",
            "basa jawaქართულიқазақшаಕನ್ನಡ한국어कॉशुर\n",
            "کٲشُرkurdîlatinalëtzebuergeschlimburgslietuviųlatviešumalagasyмакедонскиമലയാളംмонголमराठीbahasa melayunederlandsnorsk nynorsknorskoccitanиронਪੰਜਾਬੀpolskipiemontèisپنجابیپښتوportuguêsromânăрусскийрусиньскыйsarduscotsdavvisámegiellasrpskohrvatski\n",
            "wikidata]avram noam chomsky(filadelfia,7\n",
            "anula rebollo\n",
            "pese a\n",
            "the new york times\n",
            "ciencias naturales leopoldinaacademia nacional de cienciasacademia estadounidense de las artes\n",
            "noam chomslkyel huffington post\n",
            "tradicional táctica\n",
            "principales intelectuales\n",
            "editorial crítica\n",
            "world trade center\n",
            "noam chomsky\n",
            "the guardianwikipedia\n",
            "misma distinción\n",
            "journal of palestine\n",
            "tecnológico de massachusettsuniversidad de pensilvania(b.a.\n",
            "ciencias de serbia(desde 2003)distincionesbeca guggenheimorden de sretenjskipremio james joyceapa award for distinguished scientific contributions to psychology(1984)premio\n",
            "propios intereses\n",
            "john gliedman omni\n",
            "mismo tiempo\n",
            "ediciones el\n",
            "new press\n",
            "katz barpal editores\n",
            "google académicomenú de navegaciónherramientas\n",
            "peor guía\n",
            "cienciasacademia tunecina de ciencias\n",
            "venezolanoúltimas noticias\n",
            "and use\n",
            "universidad de upsaladoctores honoris\n",
            "lot and\n"
          ],
          "name": "stdout"
        }
      ]
    }
  ]
}