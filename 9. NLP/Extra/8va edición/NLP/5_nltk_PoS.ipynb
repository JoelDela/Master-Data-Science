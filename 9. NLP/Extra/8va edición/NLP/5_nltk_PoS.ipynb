{
  "nbformat": 4,
  "nbformat_minor": 0,
  "metadata": {
    "colab": {
      "name": "5_nltk_PoS.ipynb",
      "version": "0.3.2",
      "views": {},
      "default_view": {},
      "provenance": [],
      "collapsed_sections": []
    },
    "kernelspec": {
      "name": "python3",
      "display_name": "Python 3"
    }
  },
  "cells": [
    {
      "metadata": {
        "id": "8B5rEXNI73Es",
        "colab_type": "code",
        "colab": {
          "autoexec": {
            "startup": false,
            "wait_interval": 0
          },
          "base_uri": "https://localhost:8080/",
          "height": 52
        },
        "outputId": "66f24aff-b6b4-4c3d-e58b-7f4291565ede",
        "executionInfo": {
          "status": "ok",
          "timestamp": 1532776885969,
          "user_tz": -120,
          "elapsed": 3031,
          "user": {
            "displayName": "Elena del Olmo Suárez",
            "photoUrl": "//lh3.googleusercontent.com/-OWs8c836oNo/AAAAAAAAAAI/AAAAAAAAAE0/L46P9i6P3FY/s50-c-k-no/photo.jpg",
            "userId": "113665824736403216826"
          }
        }
      },
      "cell_type": "code",
      "source": [
        "!pip3 install nltk"
      ],
      "execution_count": 1,
      "outputs": [
        {
          "output_type": "stream",
          "text": [
            "Requirement already satisfied: nltk in /usr/local/lib/python3.6/dist-packages (3.2.5)\r\n",
            "Requirement already satisfied: six in /usr/local/lib/python3.6/dist-packages (from nltk) (1.11.0)\r\n"
          ],
          "name": "stdout"
        }
      ]
    },
    {
      "metadata": {
        "id": "e8Z8vVQY79vy",
        "colab_type": "code",
        "colab": {
          "autoexec": {
            "startup": false,
            "wait_interval": 0
          }
        }
      },
      "cell_type": "code",
      "source": [
        "import nltk"
      ],
      "execution_count": 0,
      "outputs": []
    },
    {
      "metadata": {
        "id": "_n-YLAsl88YZ",
        "colab_type": "code",
        "colab": {
          "autoexec": {
            "startup": false,
            "wait_interval": 0
          }
        }
      },
      "cell_type": "code",
      "source": [
        "nltk.download()"
      ],
      "execution_count": 0,
      "outputs": []
    },
    {
      "metadata": {
        "id": "EJZ_Q-gs94XA",
        "colab_type": "code",
        "colab": {
          "autoexec": {
            "startup": false,
            "wait_interval": 0
          },
          "base_uri": "https://localhost:8080/",
          "height": 86
        },
        "outputId": "2cd60560-fcb0-40b8-a546-abf25dbe46dc",
        "executionInfo": {
          "status": "ok",
          "timestamp": 1532776965850,
          "user_tz": -120,
          "elapsed": 1136,
          "user": {
            "displayName": "Elena del Olmo Suárez",
            "photoUrl": "//lh3.googleusercontent.com/-OWs8c836oNo/AAAAAAAAAAI/AAAAAAAAAE0/L46P9i6P3FY/s50-c-k-no/photo.jpg",
            "userId": "113665824736403216826"
          }
        }
      },
      "cell_type": "code",
      "source": [
        "nltk.download('averaged_perceptron_tagger')"
      ],
      "execution_count": 4,
      "outputs": [
        {
          "output_type": "stream",
          "text": [
            "[nltk_data] Downloading package averaged_perceptron_tagger to\n",
            "[nltk_data]     /content/nltk_data...\n",
            "[nltk_data]   Unzipping taggers/averaged_perceptron_tagger.zip.\n"
          ],
          "name": "stdout"
        },
        {
          "output_type": "execute_result",
          "data": {
            "text/plain": [
              "True"
            ]
          },
          "metadata": {
            "tags": []
          },
          "execution_count": 4
        }
      ]
    },
    {
      "metadata": {
        "id": "XIIDW0YW8ClD",
        "colab_type": "code",
        "colab": {
          "autoexec": {
            "startup": false,
            "wait_interval": 0
          }
        }
      },
      "cell_type": "code",
      "source": [
        "oracion1 = \"This is the lost dog I found at the park\".split()\n",
        "oracion2 = \"The progress of the humankind as I progress\".split()"
      ],
      "execution_count": 0,
      "outputs": []
    },
    {
      "metadata": {
        "id": "B3-evGfR8H7l",
        "colab_type": "code",
        "colab": {
          "autoexec": {
            "startup": false,
            "wait_interval": 0
          },
          "base_uri": "https://localhost:8080/",
          "height": 54
        },
        "outputId": "5e4913e6-0c06-486b-8116-6a87cbd50055",
        "executionInfo": {
          "status": "ok",
          "timestamp": 1532777065039,
          "user_tz": -120,
          "elapsed": 922,
          "user": {
            "displayName": "Elena del Olmo Suárez",
            "photoUrl": "//lh3.googleusercontent.com/-OWs8c836oNo/AAAAAAAAAAI/AAAAAAAAAE0/L46P9i6P3FY/s50-c-k-no/photo.jpg",
            "userId": "113665824736403216826"
          }
        }
      },
      "cell_type": "code",
      "source": [
        "print(nltk.pos_tag(oracion1))"
      ],
      "execution_count": 8,
      "outputs": [
        {
          "output_type": "stream",
          "text": [
            "[('This', 'DT'), ('is', 'VBZ'), ('the', 'DT'), ('lost', 'JJ'), ('dog', 'NN'), ('I', 'PRP'), ('found', 'VBD'), ('at', 'IN'), ('the', 'DT'), ('park', 'NN')]\n"
          ],
          "name": "stdout"
        }
      ]
    },
    {
      "metadata": {
        "id": "a22VrCZE-HQM",
        "colab_type": "code",
        "colab": {
          "autoexec": {
            "startup": false,
            "wait_interval": 0
          },
          "base_uri": "https://localhost:8080/",
          "height": 34
        },
        "outputId": "56b23740-3715-49ed-b160-18c0cbd1291e",
        "executionInfo": {
          "status": "ok",
          "timestamp": 1532777113578,
          "user_tz": -120,
          "elapsed": 781,
          "user": {
            "displayName": "Elena del Olmo Suárez",
            "photoUrl": "//lh3.googleusercontent.com/-OWs8c836oNo/AAAAAAAAAAI/AAAAAAAAAE0/L46P9i6P3FY/s50-c-k-no/photo.jpg",
            "userId": "113665824736403216826"
          }
        }
      },
      "cell_type": "code",
      "source": [
        "print(nltk.pos_tag(oracion2))"
      ],
      "execution_count": 9,
      "outputs": [
        {
          "output_type": "stream",
          "text": [
            "[('The', 'DT'), ('progress', 'NN'), ('of', 'IN'), ('the', 'DT'), ('humankind', 'NN'), ('as', 'IN'), ('I', 'PRP'), ('progress', 'VBP')]\n"
          ],
          "name": "stdout"
        }
      ]
    },
    {
      "metadata": {
        "id": "pIavZb4i-VZI",
        "colab_type": "code",
        "colab": {
          "autoexec": {
            "startup": false,
            "wait_interval": 0
          },
          "base_uri": "https://localhost:8080/",
          "height": 69
        },
        "outputId": "9b0ecae6-7751-4a78-bf9e-f9767aeb97e8",
        "executionInfo": {
          "status": "ok",
          "timestamp": 1532777161102,
          "user_tz": -120,
          "elapsed": 1228,
          "user": {
            "displayName": "Elena del Olmo Suárez",
            "photoUrl": "//lh3.googleusercontent.com/-OWs8c836oNo/AAAAAAAAAAI/AAAAAAAAAE0/L46P9i6P3FY/s50-c-k-no/photo.jpg",
            "userId": "113665824736403216826"
          }
        }
      },
      "cell_type": "code",
      "source": [
        "nltk.download('brown')"
      ],
      "execution_count": 10,
      "outputs": [
        {
          "output_type": "stream",
          "text": [
            "[nltk_data] Downloading package brown to /content/nltk_data...\n",
            "[nltk_data]   Unzipping corpora/brown.zip.\n"
          ],
          "name": "stdout"
        },
        {
          "output_type": "execute_result",
          "data": {
            "text/plain": [
              "True"
            ]
          },
          "metadata": {
            "tags": []
          },
          "execution_count": 10
        }
      ]
    },
    {
      "metadata": {
        "id": "b6LDOF-Y-MDF",
        "colab_type": "code",
        "colab": {
          "autoexec": {
            "startup": false,
            "wait_interval": 0
          }
        }
      },
      "cell_type": "code",
      "source": [
        "from nltk.corpus import brown"
      ],
      "execution_count": 0,
      "outputs": []
    },
    {
      "metadata": {
        "id": "HIBPiZWg-PBq",
        "colab_type": "code",
        "colab": {
          "autoexec": {
            "startup": false,
            "wait_interval": 0
          }
        }
      },
      "cell_type": "code",
      "source": [
        "brown_sents = brown.sents(categories=\"news\")\n",
        "brown_tagged_sents = brown.tagged_sents(categories=\"news\")"
      ],
      "execution_count": 0,
      "outputs": []
    },
    {
      "metadata": {
        "id": "QlrH1-rB-a8_",
        "colab_type": "code",
        "colab": {
          "autoexec": {
            "startup": false,
            "wait_interval": 0
          },
          "base_uri": "https://localhost:8080/",
          "height": 72
        },
        "outputId": "aca5d8a6-a1c4-4209-8518-e1d46942b09b",
        "executionInfo": {
          "status": "ok",
          "timestamp": 1532564729355,
          "user_tz": -120,
          "elapsed": 577,
          "user": {
            "displayName": "Elena del Olmo Suárez",
            "photoUrl": "//lh3.googleusercontent.com/-OWs8c836oNo/AAAAAAAAAAI/AAAAAAAAAE0/L46P9i6P3FY/s50-c-k-no/photo.jpg",
            "userId": "113665824736403216826"
          }
        }
      },
      "cell_type": "code",
      "source": [
        "print(brown_sents[0])\n",
        "print(brown_tagged_sents[0])"
      ],
      "execution_count": 24,
      "outputs": [
        {
          "output_type": "stream",
          "text": [
            "['The', 'Fulton', 'County', 'Grand', 'Jury', 'said', 'Friday', 'an', 'investigation', 'of', \"Atlanta's\", 'recent', 'primary', 'election', 'produced', '``', 'no', 'evidence', \"''\", 'that', 'any', 'irregularities', 'took', 'place', '.']\n",
            "[('The', 'AT'), ('Fulton', 'NP-TL'), ('County', 'NN-TL'), ('Grand', 'JJ-TL'), ('Jury', 'NN-TL'), ('said', 'VBD'), ('Friday', 'NR'), ('an', 'AT'), ('investigation', 'NN'), ('of', 'IN'), (\"Atlanta's\", 'NP$'), ('recent', 'JJ'), ('primary', 'NN'), ('election', 'NN'), ('produced', 'VBD'), ('``', '``'), ('no', 'AT'), ('evidence', 'NN'), (\"''\", \"''\"), ('that', 'CS'), ('any', 'DTI'), ('irregularities', 'NNS'), ('took', 'VBD'), ('place', 'NN'), ('.', '.')]\n"
          ],
          "name": "stdout"
        }
      ]
    },
    {
      "metadata": {
        "id": "K1iUH1Rh-hrS",
        "colab_type": "code",
        "colab": {
          "autoexec": {
            "startup": false,
            "wait_interval": 0
          },
          "base_uri": "https://localhost:8080/",
          "height": 54
        },
        "outputId": "691624ec-e1f4-490b-fdaa-f46084e4c0ea",
        "executionInfo": {
          "status": "ok",
          "timestamp": 1532564754397,
          "user_tz": -120,
          "elapsed": 749,
          "user": {
            "displayName": "Elena del Olmo Suárez",
            "photoUrl": "//lh3.googleusercontent.com/-OWs8c836oNo/AAAAAAAAAAI/AAAAAAAAAE0/L46P9i6P3FY/s50-c-k-no/photo.jpg",
            "userId": "113665824736403216826"
          }
        }
      },
      "cell_type": "code",
      "source": [
        "defaultTagger = nltk.DefaultTagger('NN')\n",
        "print(defaultTagger.tag(oracion1))"
      ],
      "execution_count": 26,
      "outputs": [
        {
          "output_type": "stream",
          "text": [
            "[('This', 'NN'), ('is', 'NN'), ('the', 'NN'), ('lost', 'NN'), ('dog', 'NN'), ('I', 'NN'), ('found', 'NN'), ('at', 'NN'), ('the', 'NN'), ('park', 'NN')]\n"
          ],
          "name": "stdout"
        }
      ]
    },
    {
      "metadata": {
        "id": "OWOhvxSF-m5s",
        "colab_type": "code",
        "colab": {
          "autoexec": {
            "startup": false,
            "wait_interval": 0
          },
          "base_uri": "https://localhost:8080/",
          "height": 34
        },
        "outputId": "b16e0ea7-a96b-41fa-c622-77ef31a016de",
        "executionInfo": {
          "status": "ok",
          "timestamp": 1532564765914,
          "user_tz": -120,
          "elapsed": 1614,
          "user": {
            "displayName": "Elena del Olmo Suárez",
            "photoUrl": "//lh3.googleusercontent.com/-OWs8c836oNo/AAAAAAAAAAI/AAAAAAAAAE0/L46P9i6P3FY/s50-c-k-no/photo.jpg",
            "userId": "113665824736403216826"
          }
        }
      },
      "cell_type": "code",
      "source": [
        "defaultTagger.evaluate(brown_tagged_sents)"
      ],
      "execution_count": 27,
      "outputs": [
        {
          "output_type": "execute_result",
          "data": {
            "text/plain": [
              "0.13089484257215028"
            ]
          },
          "metadata": {
            "tags": []
          },
          "execution_count": 27
        }
      ]
    },
    {
      "metadata": {
        "id": "u5WSNuZE-rYm",
        "colab_type": "code",
        "colab": {
          "autoexec": {
            "startup": false,
            "wait_interval": 0
          }
        }
      },
      "cell_type": "code",
      "source": [
        "patrones = [ \n",
        "\n",
        "(r'am$', 'VBP'),\n",
        "(r'are$', 'VBP'),\n",
        "(r'is$', 'VBZ'),\n",
        "(r'was$', 'VBD'),\n",
        "(r'were$', 'VBD'),\n",
        "(r'been$', 'VBN'),\n",
        "(r'have$', 'VBP'),\n",
        "(r'has$', 'VBZ'),\n",
        "(r'had$', 'VBD'),\n",
        "(r'I$', 'PRP'),\n",
        "(r'[Yy]ou$', 'PRP'),\n",
        "(r'[Hh]e$', 'PRP'),\n",
        "(r'[Ss]he$', 'PRP'),\n",
        "(r'[Ii]i$', 'PRP'),\n",
        "(r'[Tt]ey$', 'PRP'),\n",
        "(r'[Aa]n?$', 'AT'),\n",
        "(r'[Tt]he$', 'AT'),\n",
        "(r'wh.+$', 'WP'),\n",
        "(r'.*ing$', 'VBG'),\n",
        "(r'.*ed$', 'VBD'),\n",
        "(r'.*es$', 'VBZ'),\n",
        "(r'.can$', 'MD'),\n",
        "(r'.might$', 'MD'),\n",
        "(r'.may$', 'MD'),\n",
        "(r'.can$', 'MD'),\n",
        "(r'.*ould$', 'MD'),\n",
        "(r'.*ly$', 'RB'),\n",
        "(r'.*\\'s$', 'NN$'),\n",
        "(r'.*s$', 'NNS'),\n",
        "(r'^-?[0-9]+(.[0-9]+)?$', 'CD'),\n",
        "(r'^to$', 'TO'),\n",
        "(r'^in$', 'IN'),\n",
        "(r'^[A-Z]+([a-z])*$', 'NNP'),\n",
        "(r'.*', 'NN')\n",
        "\n",
        "]"
      ],
      "execution_count": 0,
      "outputs": []
    },
    {
      "metadata": {
        "id": "8UHmBQ-5BEir",
        "colab_type": "code",
        "colab": {
          "autoexec": {
            "startup": false,
            "wait_interval": 0
          },
          "base_uri": "https://localhost:8080/",
          "height": 34
        },
        "outputId": "4728a93b-f9f6-4caf-a6fe-f57e9ddb8a97",
        "executionInfo": {
          "status": "ok",
          "timestamp": 1532565415775,
          "user_tz": -120,
          "elapsed": 616,
          "user": {
            "displayName": "Elena del Olmo Suárez",
            "photoUrl": "//lh3.googleusercontent.com/-OWs8c836oNo/AAAAAAAAAAI/AAAAAAAAAE0/L46P9i6P3FY/s50-c-k-no/photo.jpg",
            "userId": "113665824736403216826"
          }
        }
      },
      "cell_type": "code",
      "source": [
        "type(patrones)"
      ],
      "execution_count": 35,
      "outputs": [
        {
          "output_type": "execute_result",
          "data": {
            "text/plain": [
              "list"
            ]
          },
          "metadata": {
            "tags": []
          },
          "execution_count": 35
        }
      ]
    },
    {
      "metadata": {
        "id": "77vuW5K5A9qq",
        "colab_type": "code",
        "colab": {
          "autoexec": {
            "startup": false,
            "wait_interval": 0
          }
        }
      },
      "cell_type": "code",
      "source": [
        "regexTagger = nltk.RegexpTagger(patrones)"
      ],
      "execution_count": 0,
      "outputs": []
    },
    {
      "metadata": {
        "id": "H63Cb62fBbwu",
        "colab_type": "code",
        "colab": {
          "autoexec": {
            "startup": false,
            "wait_interval": 0
          },
          "base_uri": "https://localhost:8080/",
          "height": 34
        },
        "outputId": "431be3a2-9269-4261-ac7a-53b4087e0427",
        "executionInfo": {
          "status": "ok",
          "timestamp": 1532565535561,
          "user_tz": -120,
          "elapsed": 581,
          "user": {
            "displayName": "Elena del Olmo Suárez",
            "photoUrl": "//lh3.googleusercontent.com/-OWs8c836oNo/AAAAAAAAAAI/AAAAAAAAAE0/L46P9i6P3FY/s50-c-k-no/photo.jpg",
            "userId": "113665824736403216826"
          }
        }
      },
      "cell_type": "code",
      "source": [
        "type(regexTagger)"
      ],
      "execution_count": 40,
      "outputs": [
        {
          "output_type": "execute_result",
          "data": {
            "text/plain": [
              "nltk.tag.sequential.RegexpTagger"
            ]
          },
          "metadata": {
            "tags": []
          },
          "execution_count": 40
        }
      ]
    },
    {
      "metadata": {
        "id": "VxmjvJuIAw1o",
        "colab_type": "code",
        "colab": {
          "autoexec": {
            "startup": false,
            "wait_interval": 0
          },
          "base_uri": "https://localhost:8080/",
          "height": 72
        },
        "outputId": "ccbfbb66-eb56-4239-cecb-3492fe03949a",
        "executionInfo": {
          "status": "ok",
          "timestamp": 1532565711904,
          "user_tz": -120,
          "elapsed": 592,
          "user": {
            "displayName": "Elena del Olmo Suárez",
            "photoUrl": "//lh3.googleusercontent.com/-OWs8c836oNo/AAAAAAAAAAI/AAAAAAAAAE0/L46P9i6P3FY/s50-c-k-no/photo.jpg",
            "userId": "113665824736403216826"
          }
        }
      },
      "cell_type": "code",
      "source": [
        "print(regexTagger.tag(u\"I was taking a sunbath in Alpedrete\".split()))\n",
        "print(regexTagger.tag(u\"She would have found 100 dollars in the bag\".split()))"
      ],
      "execution_count": 44,
      "outputs": [
        {
          "output_type": "stream",
          "text": [
            "[('I', 'PRP'), ('was', 'VBD'), ('taking', 'VBG'), ('a', 'AT'), ('sunbath', 'NN'), ('in', 'IN'), ('Alpedrete', 'NNP')]\n",
            "[('She', 'PRP'), ('would', 'MD'), ('have', 'VBP'), ('found', 'NN'), ('100', 'CD'), ('dollars', 'NNS'), ('in', 'IN'), ('the', 'AT'), ('bag', 'NN')]\n"
          ],
          "name": "stdout"
        }
      ]
    },
    {
      "metadata": {
        "id": "prgRJXTgCVCM",
        "colab_type": "code",
        "colab": {
          "autoexec": {
            "startup": false,
            "wait_interval": 0
          },
          "base_uri": "https://localhost:8080/",
          "height": 34
        },
        "outputId": "89d1bc7f-06ad-4f12-d833-5440204376c0",
        "executionInfo": {
          "status": "ok",
          "timestamp": 1532565744147,
          "user_tz": -120,
          "elapsed": 4806,
          "user": {
            "displayName": "Elena del Olmo Suárez",
            "photoUrl": "//lh3.googleusercontent.com/-OWs8c836oNo/AAAAAAAAAAI/AAAAAAAAAE0/L46P9i6P3FY/s50-c-k-no/photo.jpg",
            "userId": "113665824736403216826"
          }
        }
      },
      "cell_type": "code",
      "source": [
        "regexTagger.evaluate(brown_tagged_sents)"
      ],
      "execution_count": 45,
      "outputs": [
        {
          "output_type": "execute_result",
          "data": {
            "text/plain": [
              "0.32413429600015914"
            ]
          },
          "metadata": {
            "tags": []
          },
          "execution_count": 45
        }
      ]
    },
    {
      "metadata": {
        "id": "MnGa6W5TCeGc",
        "colab_type": "code",
        "colab": {
          "autoexec": {
            "startup": false,
            "wait_interval": 0
          }
        }
      },
      "cell_type": "code",
      "source": [
        "size = int(len(brown_tagged_sents) * 0.9)"
      ],
      "execution_count": 0,
      "outputs": []
    },
    {
      "metadata": {
        "id": "cJg2MIZ8CgTl",
        "colab_type": "code",
        "colab": {
          "autoexec": {
            "startup": false,
            "wait_interval": 0
          }
        }
      },
      "cell_type": "code",
      "source": [
        "corpusEntrenamiento = brown_tagged_sents[:size]\n",
        "corpusTest = brown_tagged_sents[size:]"
      ],
      "execution_count": 0,
      "outputs": []
    },
    {
      "metadata": {
        "id": "4MQGM4B2Cm-B",
        "colab_type": "code",
        "colab": {
          "autoexec": {
            "startup": false,
            "wait_interval": 0
          },
          "base_uri": "https://localhost:8080/",
          "height": 34
        },
        "outputId": "15374efe-5c85-4423-c1f5-7be4b7081f6b",
        "executionInfo": {
          "status": "ok",
          "timestamp": 1532565818792,
          "user_tz": -120,
          "elapsed": 1518,
          "user": {
            "displayName": "Elena del Olmo Suárez",
            "photoUrl": "//lh3.googleusercontent.com/-OWs8c836oNo/AAAAAAAAAAI/AAAAAAAAAE0/L46P9i6P3FY/s50-c-k-no/photo.jpg",
            "userId": "113665824736403216826"
          }
        }
      },
      "cell_type": "code",
      "source": [
        "unigramTagger = nltk.UnigramTagger(corpusEntrenamiento)\n",
        "unigramTagger.evaluate(corpusTest)"
      ],
      "execution_count": 49,
      "outputs": [
        {
          "output_type": "execute_result",
          "data": {
            "text/plain": [
              "0.8121200039868434"
            ]
          },
          "metadata": {
            "tags": []
          },
          "execution_count": 49
        }
      ]
    },
    {
      "metadata": {
        "id": "ELId_OJgCu_8",
        "colab_type": "code",
        "colab": {
          "autoexec": {
            "startup": false,
            "wait_interval": 0
          },
          "base_uri": "https://localhost:8080/",
          "height": 34
        },
        "outputId": "73d4619d-99d3-44e0-c5dd-661d99dcfbf6",
        "executionInfo": {
          "status": "ok",
          "timestamp": 1532565850186,
          "user_tz": -120,
          "elapsed": 636,
          "user": {
            "displayName": "Elena del Olmo Suárez",
            "photoUrl": "//lh3.googleusercontent.com/-OWs8c836oNo/AAAAAAAAAAI/AAAAAAAAAE0/L46P9i6P3FY/s50-c-k-no/photo.jpg",
            "userId": "113665824736403216826"
          }
        }
      },
      "cell_type": "code",
      "source": [
        "print(unigramTagger.tag(oracion2))"
      ],
      "execution_count": 50,
      "outputs": [
        {
          "output_type": "stream",
          "text": [
            "[('The', 'AT'), ('progress', 'NN'), ('of', 'IN'), ('the', 'AT'), ('humankind', None), ('as', 'CS'), ('I', 'PPSS'), ('progress', 'NN')]\n"
          ],
          "name": "stdout"
        }
      ]
    },
    {
      "metadata": {
        "id": "QygPPcx_Cy-H",
        "colab_type": "code",
        "colab": {
          "autoexec": {
            "startup": false,
            "wait_interval": 0
          }
        }
      },
      "cell_type": "code",
      "source": [
        "bigramTagger = nltk.BigramTagger(corpusEntrenamiento)\n",
        "trigramTagger = nltk.TrigramTagger(corpusEntrenamiento)"
      ],
      "execution_count": 0,
      "outputs": []
    },
    {
      "metadata": {
        "id": "8o3ArMwnC2Zn",
        "colab_type": "code",
        "colab": {
          "autoexec": {
            "startup": false,
            "wait_interval": 0
          },
          "base_uri": "https://localhost:8080/",
          "height": 52
        },
        "outputId": "eb1150bd-1a78-45b1-9bf3-6ee100012aa2",
        "executionInfo": {
          "status": "ok",
          "timestamp": 1532565895820,
          "user_tz": -120,
          "elapsed": 538,
          "user": {
            "displayName": "Elena del Olmo Suárez",
            "photoUrl": "//lh3.googleusercontent.com/-OWs8c836oNo/AAAAAAAAAAI/AAAAAAAAAE0/L46P9i6P3FY/s50-c-k-no/photo.jpg",
            "userId": "113665824736403216826"
          }
        }
      },
      "cell_type": "code",
      "source": [
        "print(bigramTagger.tag(oracion2))\n",
        "print(trigramTagger.tag(oracion2))"
      ],
      "execution_count": 53,
      "outputs": [
        {
          "output_type": "stream",
          "text": [
            "[('The', 'AT'), ('progress', None), ('of', None), ('the', None), ('humankind', None), ('as', None), ('I', None), ('progress', None)]\n",
            "[('The', 'AT'), ('progress', None), ('of', None), ('the', None), ('humankind', None), ('as', None), ('I', None), ('progress', None)]\n"
          ],
          "name": "stdout"
        }
      ]
    },
    {
      "metadata": {
        "id": "YUBla4GdC-tz",
        "colab_type": "code",
        "colab": {
          "autoexec": {
            "startup": false,
            "wait_interval": 0
          },
          "base_uri": "https://localhost:8080/",
          "height": 52
        },
        "outputId": "b9eca962-0730-4450-df5c-e362297d4058",
        "executionInfo": {
          "status": "ok",
          "timestamp": 1532565931251,
          "user_tz": -120,
          "elapsed": 575,
          "user": {
            "displayName": "Elena del Olmo Suárez",
            "photoUrl": "//lh3.googleusercontent.com/-OWs8c836oNo/AAAAAAAAAAI/AAAAAAAAAE0/L46P9i6P3FY/s50-c-k-no/photo.jpg",
            "userId": "113665824736403216826"
          }
        }
      },
      "cell_type": "code",
      "source": [
        "print(bigramTagger.evaluate(corpusTest))\n",
        "print(trigramTagger.evaluate(corpusTest))"
      ],
      "execution_count": 55,
      "outputs": [
        {
          "output_type": "stream",
          "text": [
            "0.10206319146815508\n",
            "0.0626931127279976\n"
          ],
          "name": "stdout"
        }
      ]
    },
    {
      "metadata": {
        "id": "5gOxdXaTDIS0",
        "colab_type": "code",
        "colab": {
          "autoexec": {
            "startup": false,
            "wait_interval": 0
          },
          "base_uri": "https://localhost:8080/",
          "height": 34
        },
        "outputId": "3fa9275b-c078-497b-e19b-234a30c1c8b3",
        "executionInfo": {
          "status": "ok",
          "timestamp": 1532565993453,
          "user_tz": -120,
          "elapsed": 9285,
          "user": {
            "displayName": "Elena del Olmo Suárez",
            "photoUrl": "//lh3.googleusercontent.com/-OWs8c836oNo/AAAAAAAAAAI/AAAAAAAAAE0/L46P9i6P3FY/s50-c-k-no/photo.jpg",
            "userId": "113665824736403216826"
          }
        }
      },
      "cell_type": "code",
      "source": [
        "unigramTagger = nltk.UnigramTagger(corpusEntrenamiento, backoff=regexTagger)\n",
        "bigramTagger = nltk.BigramTagger(corpusEntrenamiento, backoff=unigramTagger)\n",
        "trigramTagger = nltk.TrigramTagger(corpusEntrenamiento, backoff=bigramTagger)\n",
        "print(trigramTagger.evaluate(corpusTest))"
      ],
      "execution_count": 56,
      "outputs": [
        {
          "output_type": "stream",
          "text": [
            "0.8656433768563739\n"
          ],
          "name": "stdout"
        }
      ]
    }
  ]
}