{
 "cells": [
  {
   "cell_type": "markdown",
   "metadata": {},
   "source": [
    "# Count the number of lines in Python for each file"
   ]
  },
  {
   "cell_type": "raw",
   "metadata": {},
   "source": [
    "1. first make a sample\n",
    "\n",
    "Options:\n",
    "    1) Command line\n",
    "    2) python"
   ]
  },
  {
   "cell_type": "code",
   "execution_count": 1,
   "metadata": {},
   "outputs": [
    {
     "data": {
      "text/plain": [
       "'/home/dsc/Data/challenge'"
      ]
     },
     "execution_count": 1,
     "metadata": {},
     "output_type": "execute_result"
    }
   ],
   "source": [
    "pwd"
   ]
  },
  {
   "cell_type": "code",
   "execution_count": 2,
   "metadata": {},
   "outputs": [
    {
     "name": "stdout",
     "output_type": "stream",
     "text": [
      "total 1013912\r\n",
      "-rw-rw-r-- 1 dsc dsc 554970628 may 31  2019 \u001b[0m\u001b[01;31mbookings.csv.bz2\u001b[0m\r\n",
      "-rw-rw-r-- 1 dsc dsc      3654 nov 30 09:13 ch_01-Empty.ipynb\r\n",
      "-rw-rw-r-- 1 dsc dsc     12930 may 31  2019 ch_02-Empty.ipynb\r\n",
      "-rw-rw-r-- 1 dsc dsc     10832 may 31  2019 ch_03-Empty.ipynb\r\n",
      "-rw-rw-r-- 1 dsc dsc      8019 may 31  2019 ch_04-Empty.ipynb\r\n",
      "-rw-rw-r-- 1 dsc dsc       962 may 31  2019 ch_05b-empty.ipynb\r\n",
      "-rw-rw-r-- 1 dsc dsc     24953 may 31  2019 ch_05-empty.ipynb\r\n",
      "-rw-rw-r-- 1 dsc dsc 483188920 may 31  2019 \u001b[01;31msearches.csv.bz2\u001b[0m\r\n"
     ]
    }
   ],
   "source": [
    "ls -l"
   ]
  },
  {
   "cell_type": "code",
   "execution_count": 3,
   "metadata": {},
   "outputs": [
    {
     "name": "stdout",
     "output_type": "stream",
     "text": [
      "\r\n",
      "bzcat: I/O or other error, bailing out.  Possible reason follows.\r\n",
      "bzcat: Broken pipe\r\n",
      "\tInput file = bookings.csv.bz2, output file = (stdout)\r\n"
     ]
    }
   ],
   "source": [
    "! bzcat bookings.csv.bz2 | head -10000 > bookings.sample.csv"
   ]
  },
  {
   "cell_type": "code",
   "execution_count": 4,
   "metadata": {},
   "outputs": [
    {
     "name": "stdout",
     "output_type": "stream",
     "text": [
      "\u001b[0m\u001b[01;31mbookings.csv.bz2\u001b[0m     ch_02-Empty.ipynb  ch_05b-empty.ipynb\r\n",
      "bookings.sample.csv  ch_03-Empty.ipynb  ch_05-empty.ipynb\r\n",
      "ch_01-Empty.ipynb    ch_04-Empty.ipynb  \u001b[01;31msearches.csv.bz2\u001b[0m\r\n"
     ]
    }
   ],
   "source": [
    "ls"
   ]
  },
  {
   "cell_type": "code",
   "execution_count": 5,
   "metadata": {},
   "outputs": [],
   "source": [
    "!bzip2 -f ./bookings.sample.csv"
   ]
  },
  {
   "cell_type": "code",
   "execution_count": 6,
   "metadata": {},
   "outputs": [
    {
     "name": "stdout",
     "output_type": "stream",
     "text": [
      "total 1014440\r\n",
      "-rw-rw-r-- 1 dsc dsc 554970628 may 31  2019 \u001b[0m\u001b[01;31mbookings.csv.bz2\u001b[0m\r\n",
      "-rw-rw-r-- 1 dsc dsc    535893 nov 30 09:15 \u001b[01;31mbookings.sample.csv.bz2\u001b[0m\r\n",
      "-rw-rw-r-- 1 dsc dsc      5050 nov 30 09:15 ch_01-Empty.ipynb\r\n",
      "-rw-rw-r-- 1 dsc dsc     12930 may 31  2019 ch_02-Empty.ipynb\r\n",
      "-rw-rw-r-- 1 dsc dsc     10832 may 31  2019 ch_03-Empty.ipynb\r\n",
      "-rw-rw-r-- 1 dsc dsc      8019 may 31  2019 ch_04-Empty.ipynb\r\n",
      "-rw-rw-r-- 1 dsc dsc       962 may 31  2019 ch_05b-empty.ipynb\r\n",
      "-rw-rw-r-- 1 dsc dsc     24953 may 31  2019 ch_05-empty.ipynb\r\n",
      "-rw-rw-r-- 1 dsc dsc 483188920 may 31  2019 \u001b[01;31msearches.csv.bz2\u001b[0m\r\n"
     ]
    }
   ],
   "source": [
    "ls -l"
   ]
  },
  {
   "cell_type": "code",
   "execution_count": 10,
   "metadata": {},
   "outputs": [],
   "source": [
    "%%bash\n",
    "bzcat bookings.csv.bz2 | head -10000 > bookings.sample.csv\n",
    "bzip2 -f ./bookings.sample.csv"
   ]
  },
  {
   "cell_type": "code",
   "execution_count": 11,
   "metadata": {},
   "outputs": [],
   "source": [
    "%%bash\n",
    "bzcat searches.csv.bz2 | head -10000 > searches.sample.csv\n",
    "bzip2 -f ./searches.sample.csv"
   ]
  },
  {
   "cell_type": "code",
   "execution_count": 12,
   "metadata": {},
   "outputs": [
    {
     "name": "stdout",
     "output_type": "stream",
     "text": [
      "total 1014680\r\n",
      "-rw-rw-r-- 1 dsc dsc 554970628 may 31  2019 \u001b[0m\u001b[01;31mbookings.csv.bz2\u001b[0m\r\n",
      "-rw-rw-r-- 1 dsc dsc    535893 nov 30 09:18 \u001b[01;31mbookings.sample.csv.bz2\u001b[0m\r\n",
      "-rw-rw-r-- 1 dsc dsc      7119 nov 30 09:17 ch_01-Empty.ipynb\r\n",
      "-rw-rw-r-- 1 dsc dsc     12930 may 31  2019 ch_02-Empty.ipynb\r\n",
      "-rw-rw-r-- 1 dsc dsc     10832 may 31  2019 ch_03-Empty.ipynb\r\n",
      "-rw-rw-r-- 1 dsc dsc      8019 may 31  2019 ch_04-Empty.ipynb\r\n",
      "-rw-rw-r-- 1 dsc dsc       962 may 31  2019 ch_05b-empty.ipynb\r\n",
      "-rw-rw-r-- 1 dsc dsc     24953 may 31  2019 ch_05-empty.ipynb\r\n",
      "-rw-rw-r-- 1 dsc dsc 483188920 may 31  2019 \u001b[01;31msearches.csv.bz2\u001b[0m\r\n",
      "-rw-rw-r-- 1 dsc dsc    244720 nov 30 09:18 \u001b[01;31msearches.sample.csv.bz2\u001b[0m\r\n"
     ]
    }
   ],
   "source": [
    "ls -l"
   ]
  },
  {
   "cell_type": "markdown",
   "metadata": {},
   "source": [
    "## 1) Command Line"
   ]
  },
  {
   "cell_type": "code",
   "execution_count": 13,
   "metadata": {},
   "outputs": [
    {
     "name": "stdout",
     "output_type": "stream",
     "text": [
      "10000\r\n"
     ]
    }
   ],
   "source": [
    "! bzcat searches.sample.csv.bz2 | wc -l"
   ]
  },
  {
   "cell_type": "code",
   "execution_count": null,
   "metadata": {
    "collapsed": true
   },
   "outputs": [],
   "source": []
  },
  {
   "cell_type": "markdown",
   "metadata": {},
   "source": [
    "## 2) Python:"
   ]
  },
  {
   "cell_type": "raw",
   "metadata": {},
   "source": [
    "Options:\n",
    "    a) without uncompressing\n",
    "    b) using row uncompressed files (so that we can calculate size of not just bz2 files)"
   ]
  },
  {
   "cell_type": "markdown",
   "metadata": {},
   "source": [
    "#### 2a) Python without uncompressing"
   ]
  },
  {
   "cell_type": "code",
   "execution_count": 14,
   "metadata": {},
   "outputs": [],
   "source": [
    "import bz2"
   ]
  },
  {
   "cell_type": "code",
   "execution_count": 15,
   "metadata": {},
   "outputs": [],
   "source": [
    "filename='./bookings.sample.csv.bz2'"
   ]
  },
  {
   "cell_type": "code",
   "execution_count": 16,
   "metadata": {},
   "outputs": [],
   "source": [
    "fileBz2=bz2.BZ2File(filename)"
   ]
  },
  {
   "cell_type": "code",
   "execution_count": 17,
   "metadata": {},
   "outputs": [
    {
     "data": {
      "text/plain": [
       "bz2.BZ2File"
      ]
     },
     "execution_count": 17,
     "metadata": {},
     "output_type": "execute_result"
    }
   ],
   "source": [
    "type(fileBz2)"
   ]
  },
  {
   "cell_type": "code",
   "execution_count": 19,
   "metadata": {},
   "outputs": [
    {
     "data": {
      "text/plain": [
       "10000"
      ]
     },
     "execution_count": 19,
     "metadata": {},
     "output_type": "execute_result"
    }
   ],
   "source": [
    "len(fileBz2.readlines())"
   ]
  },
  {
   "cell_type": "code",
   "execution_count": 21,
   "metadata": {},
   "outputs": [
    {
     "name": "stdout",
     "output_type": "stream",
     "text": [
      "10000\n"
     ]
    }
   ],
   "source": [
    "fileBz2=bz2.BZ2File(filename)\n",
    "k=0\n",
    "for line in fileBz2:\n",
    "    k+=1\n",
    "    \n",
    "print(k)"
   ]
  },
  {
   "cell_type": "code",
   "execution_count": 22,
   "metadata": {},
   "outputs": [
    {
     "name": "stdout",
     "output_type": "stream",
     "text": [
      "Variable   Type       Data/Info\n",
      "-------------------------------\n",
      "bz2        module     <module 'bz2' from '/home<...>a3/lib/python3.7/bz2.py'>\n",
      "fileBz2    BZ2File    <bz2.BZ2File object at 0x7f8af6cf32b0>\n",
      "filename   str        ./bookings.sample.csv.bz2\n",
      "k          int        10000\n",
      "line       bytes      b'2013-03-12 00:00:00^1A <...>:39^2^2013^3^NULL     \\n'\n"
     ]
    }
   ],
   "source": [
    "%whos"
   ]
  },
  {
   "cell_type": "code",
   "execution_count": 23,
   "metadata": {},
   "outputs": [
    {
     "data": {
      "text/plain": [
       "False"
      ]
     },
     "execution_count": 23,
     "metadata": {},
     "output_type": "execute_result"
    }
   ],
   "source": [
    "fileBz2.closed"
   ]
  },
  {
   "cell_type": "code",
   "execution_count": 24,
   "metadata": {},
   "outputs": [],
   "source": [
    "fileBz2.close()"
   ]
  },
  {
   "cell_type": "code",
   "execution_count": 27,
   "metadata": {},
   "outputs": [
    {
     "data": {
      "text/plain": [
       "True"
      ]
     },
     "execution_count": 27,
     "metadata": {},
     "output_type": "execute_result"
    }
   ],
   "source": [
    "fileBz2.closed"
   ]
  },
  {
   "cell_type": "code",
   "execution_count": 29,
   "metadata": {},
   "outputs": [
    {
     "name": "stdout",
     "output_type": "stream",
     "text": [
      "10000\n"
     ]
    },
    {
     "data": {
      "text/plain": [
       "True"
      ]
     },
     "execution_count": 29,
     "metadata": {},
     "output_type": "execute_result"
    }
   ],
   "source": [
    "with bz2.BZ2File(filename) as fileBz2:\n",
    "    k=0\n",
    "    for line in fileBz2:\n",
    "        k+=1\n",
    "    \n",
    "print(k)\n",
    "fileBz2.closed"
   ]
  },
  {
   "cell_type": "code",
   "execution_count": 30,
   "metadata": {},
   "outputs": [
    {
     "name": "stdout",
     "output_type": "stream",
     "text": [
      "10\n"
     ]
    },
    {
     "data": {
      "text/plain": [
       "True"
      ]
     },
     "execution_count": 30,
     "metadata": {},
     "output_type": "execute_result"
    }
   ],
   "source": [
    "with bz2.BZ2File(filename) as fileBz2:\n",
    "    k=0\n",
    "  \n",
    "    for line in fileBz2:\n",
    "        k+=1\n",
    "        if k==10:\n",
    "            break\n",
    "    \n",
    "print(k)\n",
    "fileBz2.closed"
   ]
  },
  {
   "cell_type": "code",
   "execution_count": null,
   "metadata": {},
   "outputs": [],
   "source": []
  },
  {
   "cell_type": "markdown",
   "metadata": {},
   "source": [
    "#### 2b) Python on row uncompressed file"
   ]
  },
  {
   "cell_type": "code",
   "execution_count": 32,
   "metadata": {},
   "outputs": [
    {
     "name": "stdout",
     "output_type": "stream",
     "text": [
      "9999\n"
     ]
    },
    {
     "data": {
      "text/plain": [
       "True"
      ]
     },
     "execution_count": 32,
     "metadata": {},
     "output_type": "execute_result"
    }
   ],
   "source": [
    "with bz2.BZ2File(filename) as fileBz2:\n",
    "    for k, line in enumerate(fileBz2):\n",
    "        pass\n",
    "    \n",
    "print(k)\n",
    "fileBz2.closed"
   ]
  },
  {
   "cell_type": "code",
   "execution_count": 33,
   "metadata": {},
   "outputs": [
    {
     "name": "stdout",
     "output_type": "stream",
     "text": [
      "10000\n"
     ]
    },
    {
     "data": {
      "text/plain": [
       "True"
      ]
     },
     "execution_count": 33,
     "metadata": {},
     "output_type": "execute_result"
    }
   ],
   "source": [
    "with bz2.BZ2File(filename) as fileBz2:\n",
    "    k=sum([1 for line in fileBz2])    \n",
    "print(k)\n",
    "fileBz2.closed"
   ]
  },
  {
   "cell_type": "markdown",
   "metadata": {},
   "source": [
    "## 3) What if the file didnt exist? Use Try-except..."
   ]
  },
  {
   "cell_type": "code",
   "execution_count": 39,
   "metadata": {},
   "outputs": [
    {
     "name": "stdout",
     "output_type": "stream",
     "text": [
      "10000\n"
     ]
    }
   ],
   "source": [
    "try:\n",
    "    with bz2.BZ2File(filename) as fileBz2:\n",
    "        for k, line in enumerate(fileBz2):\n",
    "            pass\n",
    "        print(k+1)\n",
    "except:\n",
    "    print(\"unexcepted error\")\n"
   ]
  },
  {
   "cell_type": "code",
   "execution_count": 45,
   "metadata": {},
   "outputs": [
    {
     "name": "stdout",
     "output_type": "stream",
     "text": [
      "Value error\n"
     ]
    }
   ],
   "source": [
    "filename='./khkjhkj'\n",
    "filename='./bookings.sample.csv.bz2'\n",
    "try:\n",
    "    with bz2.BZ2File(filename) as fileBz2:\n",
    "        for k, line in enumerate(fileBz2):\n",
    "            pass\n",
    "        c=int('dfgfg')\n",
    "        print(k+1)\n",
    "except ValueError:\n",
    "    print('Value error')\n",
    "except FileNotFoundError:\n",
    "    print('File not Found')\n",
    "except:\n",
    "    print(\"unexcepted error\")"
   ]
  },
  {
   "cell_type": "code",
   "execution_count": 41,
   "metadata": {},
   "outputs": [
    {
     "ename": "FileNotFoundError",
     "evalue": "[Errno 2] No such file or directory: './khkjhkj'",
     "output_type": "error",
     "traceback": [
      "\u001b[0;31m---------------------------------------------------------------------------\u001b[0m",
      "\u001b[0;31mFileNotFoundError\u001b[0m                         Traceback (most recent call last)",
      "\u001b[0;32m<ipython-input-41-19064d770ff0>\u001b[0m in \u001b[0;36m<module>\u001b[0;34m\u001b[0m\n\u001b[1;32m      1\u001b[0m \u001b[0mfilename\u001b[0m\u001b[0;34m=\u001b[0m\u001b[0;34m'./khkjhkj'\u001b[0m\u001b[0;34m\u001b[0m\u001b[0;34m\u001b[0m\u001b[0m\n\u001b[1;32m      2\u001b[0m \u001b[0;34m\u001b[0m\u001b[0m\n\u001b[0;32m----> 3\u001b[0;31m \u001b[0;32mwith\u001b[0m \u001b[0mbz2\u001b[0m\u001b[0;34m.\u001b[0m\u001b[0mBZ2File\u001b[0m\u001b[0;34m(\u001b[0m\u001b[0mfilename\u001b[0m\u001b[0;34m)\u001b[0m \u001b[0;32mas\u001b[0m \u001b[0mfileBz2\u001b[0m\u001b[0;34m:\u001b[0m\u001b[0;34m\u001b[0m\u001b[0;34m\u001b[0m\u001b[0m\n\u001b[0m\u001b[1;32m      4\u001b[0m         \u001b[0;32mfor\u001b[0m \u001b[0mk\u001b[0m\u001b[0;34m,\u001b[0m \u001b[0mline\u001b[0m \u001b[0;32min\u001b[0m \u001b[0menumerate\u001b[0m\u001b[0;34m(\u001b[0m\u001b[0mfileBz2\u001b[0m\u001b[0;34m)\u001b[0m\u001b[0;34m:\u001b[0m\u001b[0;34m\u001b[0m\u001b[0;34m\u001b[0m\u001b[0m\n\u001b[1;32m      5\u001b[0m             \u001b[0;32mpass\u001b[0m\u001b[0;34m\u001b[0m\u001b[0;34m\u001b[0m\u001b[0m\n",
      "\u001b[0;32m~/anaconda3/lib/python3.7/bz2.py\u001b[0m in \u001b[0;36m__init__\u001b[0;34m(self, filename, mode, buffering, compresslevel)\u001b[0m\n\u001b[1;32m     90\u001b[0m \u001b[0;34m\u001b[0m\u001b[0m\n\u001b[1;32m     91\u001b[0m         \u001b[0;32mif\u001b[0m \u001b[0misinstance\u001b[0m\u001b[0;34m(\u001b[0m\u001b[0mfilename\u001b[0m\u001b[0;34m,\u001b[0m \u001b[0;34m(\u001b[0m\u001b[0mstr\u001b[0m\u001b[0;34m,\u001b[0m \u001b[0mbytes\u001b[0m\u001b[0;34m,\u001b[0m \u001b[0mos\u001b[0m\u001b[0;34m.\u001b[0m\u001b[0mPathLike\u001b[0m\u001b[0;34m)\u001b[0m\u001b[0;34m)\u001b[0m\u001b[0;34m:\u001b[0m\u001b[0;34m\u001b[0m\u001b[0;34m\u001b[0m\u001b[0m\n\u001b[0;32m---> 92\u001b[0;31m             \u001b[0mself\u001b[0m\u001b[0;34m.\u001b[0m\u001b[0m_fp\u001b[0m \u001b[0;34m=\u001b[0m \u001b[0m_builtin_open\u001b[0m\u001b[0;34m(\u001b[0m\u001b[0mfilename\u001b[0m\u001b[0;34m,\u001b[0m \u001b[0mmode\u001b[0m\u001b[0;34m)\u001b[0m\u001b[0;34m\u001b[0m\u001b[0;34m\u001b[0m\u001b[0m\n\u001b[0m\u001b[1;32m     93\u001b[0m             \u001b[0mself\u001b[0m\u001b[0;34m.\u001b[0m\u001b[0m_closefp\u001b[0m \u001b[0;34m=\u001b[0m \u001b[0;32mTrue\u001b[0m\u001b[0;34m\u001b[0m\u001b[0;34m\u001b[0m\u001b[0m\n\u001b[1;32m     94\u001b[0m             \u001b[0mself\u001b[0m\u001b[0;34m.\u001b[0m\u001b[0m_mode\u001b[0m \u001b[0;34m=\u001b[0m \u001b[0mmode_code\u001b[0m\u001b[0;34m\u001b[0m\u001b[0;34m\u001b[0m\u001b[0m\n",
      "\u001b[0;31mFileNotFoundError\u001b[0m: [Errno 2] No such file or directory: './khkjhkj'"
     ]
    }
   ],
   "source": [
    "filename='./khkjhkj'\n",
    "\n",
    "with bz2.BZ2File(filename) as fileBz2:\n",
    "        for k, line in enumerate(fileBz2):\n",
    "            pass\n",
    "        print(k+1)\n"
   ]
  },
  {
   "cell_type": "code",
   "execution_count": 43,
   "metadata": {},
   "outputs": [
    {
     "ename": "ValueError",
     "evalue": "invalid literal for int() with base 10: 'sgdsfg'",
     "output_type": "error",
     "traceback": [
      "\u001b[0;31m---------------------------------------------------------------------------\u001b[0m",
      "\u001b[0;31mValueError\u001b[0m                                Traceback (most recent call last)",
      "\u001b[0;32m<ipython-input-43-43d9108ac9b9>\u001b[0m in \u001b[0;36m<module>\u001b[0;34m\u001b[0m\n\u001b[0;32m----> 1\u001b[0;31m \u001b[0mk\u001b[0m\u001b[0;34m=\u001b[0m\u001b[0mint\u001b[0m\u001b[0;34m(\u001b[0m\u001b[0;34m'sgdsfg'\u001b[0m\u001b[0;34m)\u001b[0m\u001b[0;34m\u001b[0m\u001b[0;34m\u001b[0m\u001b[0m\n\u001b[0m",
      "\u001b[0;31mValueError\u001b[0m: invalid literal for int() with base 10: 'sgdsfg'"
     ]
    }
   ],
   "source": [
    "k=int('sgdsfg')"
   ]
  },
  {
   "cell_type": "code",
   "execution_count": null,
   "metadata": {
    "collapsed": true
   },
   "outputs": [],
   "source": []
  },
  {
   "cell_type": "code",
   "execution_count": null,
   "metadata": {
    "collapsed": true
   },
   "outputs": [],
   "source": []
  },
  {
   "cell_type": "code",
   "execution_count": null,
   "metadata": {
    "collapsed": true
   },
   "outputs": [],
   "source": []
  },
  {
   "cell_type": "code",
   "execution_count": null,
   "metadata": {
    "collapsed": true
   },
   "outputs": [],
   "source": []
  },
  {
   "cell_type": "code",
   "execution_count": null,
   "metadata": {
    "collapsed": true
   },
   "outputs": [],
   "source": []
  },
  {
   "cell_type": "code",
   "execution_count": null,
   "metadata": {
    "collapsed": true
   },
   "outputs": [],
   "source": []
  }
 ],
 "metadata": {
  "kernelspec": {
   "display_name": "Python 3",
   "language": "python",
   "name": "python3"
  },
  "language_info": {
   "codemirror_mode": {
    "name": "ipython",
    "version": 3
   },
   "file_extension": ".py",
   "mimetype": "text/x-python",
   "name": "python",
   "nbconvert_exporter": "python",
   "pygments_lexer": "ipython3",
   "version": "3.7.1"
  }
 },
 "nbformat": 4,
 "nbformat_minor": 1
}
