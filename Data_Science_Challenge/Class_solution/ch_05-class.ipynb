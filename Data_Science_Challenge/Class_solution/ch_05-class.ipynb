{
 "cells": [
  {
   "cell_type": "markdown",
   "metadata": {
    "collapsed": true
   },
   "source": [
    "## Write a Web Service\n",
    "\n",
    "Wrap the output of the second exercise in a web service that returns the data in JSON format (instead of printing to the standard output).\n",
    "\n",
    "The web service should accept a parameter n>0. For the top 10 airports, n is 10. For the X top airports, n is X \n"
   ]
  },
  {
   "cell_type": "markdown",
   "metadata": {},
   "source": [
    "## Web Service"
   ]
  },
  {
   "cell_type": "raw",
   "metadata": {},
   "source": [
    "http://flask.pocoo.org/docs/0.10/quickstart/"
   ]
  },
  {
   "cell_type": "code",
   "execution_count": 1,
   "metadata": {},
   "outputs": [],
   "source": [
    "from flask import Flask"
   ]
  },
  {
   "cell_type": "code",
   "execution_count": 2,
   "metadata": {},
   "outputs": [],
   "source": [
    "app = Flask(\"My first web service\")\n",
    "@app.route('/hello', methods=['GET'])\n",
    "#GET    The browser tells the server to just get the information stored on that page and send it. \n",
    "def get_hello():\n",
    "    return \"Hello DS from the service!\""
   ]
  },
  {
   "cell_type": "code",
   "execution_count": 4,
   "metadata": {},
   "outputs": [
    {
     "name": "stdout",
     "output_type": "stream",
     "text": [
      " * Serving Flask app \"My first web service\" (lazy loading)\n",
      " * Environment: production\n",
      "   WARNING: Do not use the development server in a production environment.\n",
      "   Use a production WSGI server instead.\n",
      " * Debug mode: off\n"
     ]
    },
    {
     "name": "stderr",
     "output_type": "stream",
     "text": [
      " * Running on http://127.0.0.1:5000/ (Press CTRL+C to quit)\n"
     ]
    }
   ],
   "source": [
    "app.run()\n",
    "#Running on http://127.0.0.1:5000/"
   ]
  },
  {
   "cell_type": "raw",
   "metadata": {},
   "source": [
    "http://127.0.0.1:5000/hello"
   ]
  },
  {
   "cell_type": "raw",
   "metadata": {},
   "source": [
    "HTTP (the protocol web applications are speaking) knows different methods for accessing URLs. By default, a route only answers to GET requests, but that can be changed by providing the methods argument to the route() decorator. "
   ]
  },
  {
   "cell_type": "raw",
   "metadata": {},
   "source": [
    "The HTTP method (also often called “the verb”) tells the server what the clients wants to do with the requested page."
   ]
  },
  {
   "cell_type": "raw",
   "metadata": {},
   "source": [
    "GET\n",
    "    The browser tells the server to just get the information stored on that page and send it. This is probably the most common method.\n",
    "\n",
    "HEAD\n",
    "    The browser tells the server to get the information, but it is only interested in the headers, not the content of the page. An application is supposed to handle that as if a GET request was received but to not deliver the actual content.\n",
    "    \n",
    "POST\n",
    "    The browser tells the server that it wants to post some new information to that URL and that the server must ensure the data is stored and only stored once. This is how HTML forms usually transmit data to the server.\n",
    "\n",
    "PUT\n",
    "    Similar to POST but the server might trigger the store procedure multiple times by overwriting the old values more than once. Now you might be asking why this is useful, but there are some good reasons to do it this way. Consider that the connection is lost during transmission: in this situation a system between the browser and the server might receive the request safely a second time without breaking things. With POST that would not be possible because it must only be triggered once.\n",
    "\n",
    "DELETE\n",
    "    Remove the information at the given location.\n",
    "\n",
    "OPTIONS\n",
    "    Provides a quick way for a client to figure out which methods are supported by this URL. Starting with Flask 0.6, this is implemented for you automatically. "
   ]
  },
  {
   "cell_type": "code",
   "execution_count": 9,
   "metadata": {},
   "outputs": [],
   "source": [
    "app = Flask(\"My first web service\")\n",
    "@app.route('/hello', methods=['GET'])\n",
    "#GET    The browser tells the server to just get the information stored on that page and send it. \n",
    "def get_hello():\n",
    "    return \"Hello DS from the service!\"\n",
    "\n",
    "@app.route('/ret_number/<int:n>', methods=['GET'])\n",
    "def get_number(n):\n",
    "    return \"I will return you a number. It was %d !!!!\" % n"
   ]
  },
  {
   "cell_type": "code",
   "execution_count": 10,
   "metadata": {
    "scrolled": true
   },
   "outputs": [
    {
     "name": "stdout",
     "output_type": "stream",
     "text": [
      " * Serving Flask app \"My first web service\" (lazy loading)\n",
      " * Environment: production\n",
      "   WARNING: Do not use the development server in a production environment.\n",
      "   Use a production WSGI server instead.\n",
      " * Debug mode: off\n"
     ]
    },
    {
     "name": "stderr",
     "output_type": "stream",
     "text": [
      " * Running on http://127.0.0.1:5000/ (Press CTRL+C to quit)\n",
      "127.0.0.1 - - [30/Nov/2019 13:57:59] \"\u001b[37mGET /ret_number/5 HTTP/1.1\u001b[0m\" 200 -\n"
     ]
    }
   ],
   "source": [
    "app.run()"
   ]
  },
  {
   "cell_type": "code",
   "execution_count": 4,
   "metadata": {},
   "outputs": [],
   "source": [
    "\n",
    "\n",
    "app = Flask(\"My first web service\")\n",
    "@app.route('/hello', methods=['GET'])\n",
    "#GET    The browser tells the server to just get the information stored on that page and send it. \n",
    "def get_hello():\n",
    "    return \"Hello DS from the service!\"\n",
    "\n",
    "@app.route('/ret_number/<n>', methods=['GET'])\n",
    "def get_number(n):\n",
    "    try:\n",
    "        numb=int(n)\n",
    "        return \"I will return you a number. It was %d !!!!\" % numb\n",
    "    except:\n",
    "        return \"This was not a number\""
   ]
  },
  {
   "cell_type": "code",
   "execution_count": 5,
   "metadata": {},
   "outputs": [
    {
     "name": "stdout",
     "output_type": "stream",
     "text": [
      " * Serving Flask app \"My first web service\" (lazy loading)\n",
      " * Environment: production\n",
      "   WARNING: Do not use the development server in a production environment.\n",
      "   Use a production WSGI server instead.\n",
      " * Debug mode: off\n"
     ]
    },
    {
     "name": "stderr",
     "output_type": "stream",
     "text": [
      " * Running on http://127.0.0.1:5000/ (Press CTRL+C to quit)\n",
      "127.0.0.1 - - [13/Dec/2019 17:08:20] \"\u001b[33mGET /ret_number/-10 HTTP/1.1\u001b[0m\" 404 -\n"
     ]
    }
   ],
   "source": [
    "app.run()"
   ]
  },
  {
   "cell_type": "code",
   "execution_count": null,
   "metadata": {},
   "outputs": [],
   "source": []
  },
  {
   "cell_type": "raw",
   "metadata": {},
   "source": [
    "JavaScript Object Notation, es un formato de texto ligero para el intercambio de datos\n",
    "JSON is text, written with JavaScript object notation.\n",
    "    JSON is data exchange format. You convert to it when you need to make the data available externally. \n",
    "var myObj = { \"name\":\"John\", \"age\":31, \"city\":\"New York\" };"
   ]
  },
  {
   "cell_type": "code",
   "execution_count": 6,
   "metadata": {},
   "outputs": [],
   "source": [
    "import json"
   ]
  },
  {
   "cell_type": "code",
   "execution_count": 7,
   "metadata": {},
   "outputs": [
    {
     "data": {
      "text/plain": [
       "'[\"a\", \"b\", \"c\", \"d\"]'"
      ]
     },
     "execution_count": 7,
     "metadata": {},
     "output_type": "execute_result"
    }
   ],
   "source": [
    "json.dumps(list(\"abcd\"))"
   ]
  },
  {
   "cell_type": "code",
   "execution_count": 9,
   "metadata": {},
   "outputs": [
    {
     "data": {
      "text/plain": [
       "list"
      ]
     },
     "execution_count": 9,
     "metadata": {},
     "output_type": "execute_result"
    }
   ],
   "source": [
    "type([\"a\", \"b\", \"c\", \"d\"])"
   ]
  },
  {
   "cell_type": "code",
   "execution_count": 8,
   "metadata": {},
   "outputs": [],
   "source": [
    "my_Dict={\"name\":\"Igor\", \"age\":\"42\", \"ciudad\":\"Madrid\"}"
   ]
  },
  {
   "cell_type": "code",
   "execution_count": 10,
   "metadata": {},
   "outputs": [
    {
     "data": {
      "text/plain": [
       "'{\"name\": \"Igor\", \"age\": \"42\", \"ciudad\": \"Madrid\"}'"
      ]
     },
     "execution_count": 10,
     "metadata": {},
     "output_type": "execute_result"
    }
   ],
   "source": [
    "json.dumps(my_Dict)"
   ]
  },
  {
   "cell_type": "code",
   "execution_count": 20,
   "metadata": {},
   "outputs": [],
   "source": [
    "my_Dict={\"name\":[\"Igor\", \"Luka\"], \"age\":[\"42\",\"34\"], \"ciudad\":[\"Madrid\", \"Madrid\"]}"
   ]
  },
  {
   "cell_type": "code",
   "execution_count": 21,
   "metadata": {},
   "outputs": [
    {
     "data": {
      "text/plain": [
       "'{\"name\": [\"Igor\", \"Luka\"], \"age\": [\"42\", \"34\"], \"ciudad\": [\"Madrid\", \"Madrid\"]}'"
      ]
     },
     "execution_count": 21,
     "metadata": {},
     "output_type": "execute_result"
    }
   ],
   "source": [
    "json.dumps(my_Dict)"
   ]
  },
  {
   "cell_type": "code",
   "execution_count": 18,
   "metadata": {},
   "outputs": [],
   "source": [
    "import pandas as pd"
   ]
  },
  {
   "cell_type": "code",
   "execution_count": 22,
   "metadata": {},
   "outputs": [],
   "source": [
    "df_from_dict=pd.DataFrame.from_dict(my_Dict)"
   ]
  },
  {
   "cell_type": "code",
   "execution_count": 23,
   "metadata": {},
   "outputs": [
    {
     "data": {
      "text/html": [
       "<div>\n",
       "<style scoped>\n",
       "    .dataframe tbody tr th:only-of-type {\n",
       "        vertical-align: middle;\n",
       "    }\n",
       "\n",
       "    .dataframe tbody tr th {\n",
       "        vertical-align: top;\n",
       "    }\n",
       "\n",
       "    .dataframe thead th {\n",
       "        text-align: right;\n",
       "    }\n",
       "</style>\n",
       "<table border=\"1\" class=\"dataframe\">\n",
       "  <thead>\n",
       "    <tr style=\"text-align: right;\">\n",
       "      <th></th>\n",
       "      <th>name</th>\n",
       "      <th>age</th>\n",
       "      <th>ciudad</th>\n",
       "    </tr>\n",
       "  </thead>\n",
       "  <tbody>\n",
       "    <tr>\n",
       "      <th>0</th>\n",
       "      <td>Igor</td>\n",
       "      <td>42</td>\n",
       "      <td>Madrid</td>\n",
       "    </tr>\n",
       "    <tr>\n",
       "      <th>1</th>\n",
       "      <td>Luka</td>\n",
       "      <td>34</td>\n",
       "      <td>Madrid</td>\n",
       "    </tr>\n",
       "  </tbody>\n",
       "</table>\n",
       "</div>"
      ],
      "text/plain": [
       "   name age  ciudad\n",
       "0  Igor  42  Madrid\n",
       "1  Luka  34  Madrid"
      ]
     },
     "execution_count": 23,
     "metadata": {},
     "output_type": "execute_result"
    }
   ],
   "source": [
    "df_from_dict"
   ]
  },
  {
   "cell_type": "markdown",
   "metadata": {},
   "source": [
    "https://jsonformatter.org/json-pretty-print #says if it is valid or not  \n",
    "https://jsonformatter.curiousconcept.com/ # you can drill down"
   ]
  },
  {
   "cell_type": "code",
   "execution_count": null,
   "metadata": {},
   "outputs": [],
   "source": []
  },
  {
   "cell_type": "code",
   "execution_count": 25,
   "metadata": {},
   "outputs": [
    {
     "name": "stdout",
     "output_type": "stream",
     "text": [
      "total 1019052\r\n",
      "-rw-rw-r-- 1 dsc dsc 554970628 may 31  2019 \u001b[0m\u001b[01;31mbookings.csv.bz2\u001b[0m\r\n",
      "-rw-rw-r-- 1 dsc dsc    535893 nov 30 09:18 \u001b[01;31mbookings.sample.csv.bz2\u001b[0m\r\n",
      "-rw-rw-r-- 1 dsc dsc     18340 nov 30 14:00 ch_01-clase.ipynb\r\n",
      "-rw-rw-r-- 1 dsc dsc    144634 dic  1 09:10 ch_02-clase.ipynb\r\n",
      "-rw-rw-r-- 1 dsc dsc     10832 may 31  2019 ch_03-Empty.ipynb\r\n",
      "-rw-rw-r-- 1 dsc dsc      8019 may 31  2019 ch_04-Empty.ipynb\r\n",
      "-rw-rw-r-- 1 dsc dsc       962 may 31  2019 ch_05b-empty.ipynb\r\n",
      "-rw-rw-r-- 1 dsc dsc      8629 dic  1 09:14 ch_05-clase.ipynb\r\n",
      "-rw-rw-r-- 1 dsc dsc     29010 dic 13 17:19 ch_05-empty.ipynb\r\n",
      "-rwxrwxrwx 1 dsc dsc   4232732 nov 30 09:54 \u001b[01;32msample.csv\u001b[0m*\r\n",
      "-rw-rw-r-- 1 dsc dsc 483188920 may 31  2019 \u001b[01;31msearches.csv.bz2\u001b[0m\r\n",
      "-rw-rw-r-- 1 dsc dsc    244720 nov 30 09:18 \u001b[01;31msearches.sample.csv.bz2\u001b[0m\r\n",
      "-rw-rw-r-- 1 dsc dsc     77871 nov 30 13:29 top_airports.csv\r\n"
     ]
    }
   ],
   "source": [
    "ls -l"
   ]
  },
  {
   "cell_type": "code",
   "execution_count": 26,
   "metadata": {},
   "outputs": [],
   "source": [
    "import pandas as pd\n",
    "top_airports=pd.read_csv('./top_airports.csv', sep=\"^\")"
   ]
  },
  {
   "cell_type": "code",
   "execution_count": null,
   "metadata": {},
   "outputs": [],
   "source": []
  },
  {
   "cell_type": "code",
   "execution_count": 29,
   "metadata": {
    "collapsed": true
   },
   "outputs": [
    {
     "data": {
      "text/plain": [
       "'{\"arr_port\":{\"0\":\"LHR\",\"1\":\"MCO\",\"2\":\"LAX\",\"3\":\"LAS\",\"4\":\"JFK\",\"5\":\"CDG\",\"6\":\"BKK\",\"7\":\"MIA\",\"8\":\"SFO\",\"9\":\"DXB\",\"10\":\"ORD\",\"11\":\"FCO\",\"12\":\"IST\",\"13\":\"DFW\",\"14\":\"CUN\",\"15\":\"MAD\",\"16\":\"BCN\",\"17\":\"LGA\",\"18\":\"ATL\",\"19\":\"EWR\",\"20\":\"BOS\",\"21\":\"DEL\",\"22\":\"SYD\",\"23\":\"BOM\",\"24\":\"MUC\",\"25\":\"DEN\",\"26\":\"MNL\",\"27\":\"HKG\",\"28\":\"FRA\",\"29\":\"ORY\",\"30\":\"SEA\",\"31\":\"FLL\",\"32\":\"TXL\",\"33\":\"AMS\",\"34\":\"PHX\",\"35\":\"DCA\",\"36\":\"MEX\",\"37\":\"IAH\",\"38\":\"JED\",\"39\":\"PVG\",\"40\":\"YYZ\",\"41\":\"VIE\",\"42\":\"LIS\",\"43\":\"SIN\",\"44\":\"CAI\",\"45\":\"HNL\",\"46\":\"ATH\",\"47\":\"MEL\",\"48\":\"SAN\",\"49\":\"JNB\",\"50\":\"PEK\",\"51\":\"BOG\",\"52\":\"PHL\",\"53\":\"ARN\",\"54\":\"TPA\",\"55\":\"SVO\",\"56\":\"BRU\",\"57\":\"ZRH\",\"58\":\"TLV\",\"59\":\"LIM\",\"60\":\"MSP\",\"61\":\"CPH\",\"62\":\"BNE\",\"63\":\"RUH\",\"64\":\"IAD\",\"65\":\"ICN\",\"66\":\"DUS\",\"67\":\"KUL\",\"68\":\"DTW\",\"69\":\"OSL\",\"70\":\"MXP\",\"71\":\"CLT\",\"72\":\"NRT\",\"73\":\"LED\",\"74\":\"YVR\",\"75\":\"CPT\",\"76\":\"MSY\",\"77\":\"HAM\",\"78\":\"PUJ\",\"79\":\"AKL\",\"80\":\"MAA\",\"81\":\"NCE\",\"82\":\"GVA\",\"83\":\"TPE\",\"84\":\"YUL\",\"85\":\"HKT\",\"86\":\"LIN\",\"87\":\"PRG\",\"88\":\"GRU\",\"89\":\"PMI\",\"90\":\"TUN\",\"91\":\"SJU\",\"92\":\"DME\",\"93\":\"BWI\",\"94\":\"SLC\",\"95\":\"BLR\",\"96\":\"PER\",\"97\":\"DUB\",\"98\":\"STL\",\"99\":\"DPS\"},\"pax\":{\"0\":88809,\"1\":70930,\"2\":70530,\"3\":69630,\"4\":66270,\"5\":64490,\"6\":59460,\"7\":58150,\"8\":58000,\"9\":55590,\"10\":53200,\"11\":45120,\"12\":43850,\"13\":42420,\"14\":42000,\"15\":41410,\"16\":41200,\"17\":40712,\"18\":39780,\"19\":36890,\"20\":35840,\"21\":35680,\"22\":33690,\"23\":33440,\"24\":33180,\"25\":32630,\"26\":32400,\"27\":32020,\"28\":31970,\"29\":31800,\"30\":31530,\"31\":31170,\"32\":30590,\"33\":30580,\"34\":29730,\"35\":29000,\"36\":28120,\"37\":28090,\"38\":27090,\"39\":26630,\"40\":26070,\"41\":25750,\"42\":25050,\"43\":24874,\"44\":24640,\"45\":24140,\"46\":24100,\"47\":23830,\"48\":23720,\"49\":23710,\"50\":23680,\"51\":23090,\"52\":22210,\"53\":21800,\"54\":21530,\"55\":21292,\"56\":20940,\"57\":20190,\"58\":20190,\"59\":20150,\"60\":20030,\"61\":19740,\"62\":19480,\"63\":19440,\"64\":19170,\"65\":18560,\"66\":18250,\"67\":18200,\"68\":17800,\"69\":17000,\"70\":16950,\"71\":16862,\"72\":16570,\"73\":15960,\"74\":15920,\"75\":15840,\"76\":15820,\"77\":15640,\"78\":14960,\"79\":14940,\"80\":14940,\"81\":14880,\"82\":14720,\"83\":14450,\"84\":14040,\"85\":14040,\"86\":14020,\"87\":13990,\"88\":13850,\"89\":13840,\"90\":13830,\"91\":13730,\"92\":13600,\"93\":13590,\"94\":13530,\"95\":13490,\"96\":13300,\"97\":12900,\"98\":12760,\"99\":12740},\"AirportName\":{\"0\":\"London Heathrow Airport\",\"1\":\"Orlando International Airport\",\"2\":\"Los Angeles International Airport\",\"3\":\"McCarran International Airport\",\"4\":\"John F. Kennedy International Airport\",\"5\":\"Paris Charles de Gaulle Airport\",\"6\":\"Suvarnabhumi Airport\",\"7\":\"Miami International Airport\",\"8\":\"San Francisco International Airport\",\"9\":\"Dubai International Airport\",\"10\":\"Chicago O\\'Hare International Airport\",\"11\":\"Leonardo da Vinci\\\\u2013Fiumicino Airport\",\"12\":\"Istanbul Airport\",\"13\":\"Dallas\\\\/Fort Worth International Airport\",\"14\":\"Canc\\\\u00fan International Airport\",\"15\":\"Adolfo Su\\\\u00e1rez Madrid\\\\u2013Barajas Airport\",\"16\":\"Barcelona\\\\u2013El Prat Airport\",\"17\":\"La Guardia Airport\",\"18\":\"Hartsfield-Jackson Atlanta International Airport\",\"19\":\"Newark Liberty International Airport\",\"20\":\"Logan International Airport\",\"21\":\"Indira Gandhi International Airport\",\"22\":\"Sydney International Airport\",\"23\":\"Chhatrapati Shivaji Maharaj International Airport\",\"24\":\"Munich International Airport\",\"25\":\"Denver International Airport\",\"26\":\"Ninoy Aquino Manila International Airport\",\"27\":\"Hong Kong International Airport\",\"28\":\"Frankfurt Airport\",\"29\":\"Paris Orly Airport\",\"30\":\"Seattle-Tacoma International Airport\",\"31\":\"Fort Lauderdale\\\\/Hollywood International Airport\",\"32\":\"Berlin Tegel Airport\",\"33\":\"Amsterdam Airport Schiphol\",\"34\":\"Phoenix Sky Harbor International Airport\",\"35\":\"Ronald Reagan Washington National Airport\",\"36\":\"Benito Ju\\\\u00e1rez International Airport\",\"37\":\"George Bush Intercontinental Airport\",\"38\":\"Jeddah King Abdul Aziz International Airport\",\"39\":\"Shanghai Pudong International Airport\",\"40\":\"Toronto Pearson International Airport\",\"41\":\"Vienna International Airport\",\"42\":\"Lisbon Humberto Delgado Airport\",\"43\":\"Singapore Changi Airport\",\"44\":\"Cairo International Airport\",\"45\":\"Daniel K. Inouye International Airport\",\"46\":\"Athens Eleftherios Venizelos International Airport\",\"47\":\"Melbourne Airport\",\"48\":\"San Diego International Airport\",\"49\":\"O.R. Tambo International Airport\",\"50\":\"Beijing Capital International Airport\",\"51\":\"El Dorado International Airport\",\"52\":\"Philadelphia International Airport\",\"53\":\"Stockholm Arlanda Airport\",\"54\":\"Tampa International Airport\",\"55\":\"Sheremetyevo International Airport\",\"56\":\"Brussels Airport\",\"57\":\"Zurich Airport\",\"58\":\"Ben Gurion Airport\",\"59\":\"Jorge Ch\\\\u00e1vez International Airport\",\"60\":\"Minneapolis-St Paul International Airport\",\"61\":\"Copenhagen Airport\",\"62\":\"Brisbane Airport\",\"63\":\"King Khalid International\",\"64\":\"Washington Dulles International Airport\",\"65\":\"Incheon International Airport\",\"66\":\"D\\\\u00fcsseldorf International Airport\",\"67\":\"Kuala Lumpur International Airport\",\"68\":\"Detroit Metropolitan Wayne County Airport\",\"69\":\"Oslo Airport, Gardermoen\",\"70\":\"Milano Malpensa Airport\",\"71\":\"Charlotte Douglas International Airport\",\"72\":\"Narita International Airport\",\"73\":\"Pulkovo Airport\",\"74\":\"Vancouver International Airport\",\"75\":\"Cape Town International Airport\",\"76\":\"Louis Armstrong New Orleans International Airport\",\"77\":\"Hamburg Airport\",\"78\":\"Punta Cana International Airport\",\"79\":\"Auckland International Airport\",\"80\":\"Chennai International Airport\",\"81\":\"Nice C\\\\u00f4te d\\'Azur International Airport\",\"82\":\"A\\\\u00e9roport Gen\\\\u00e8ve-Cointrin\",\"83\":\"Taiwan Taoyuan International Airport\",\"84\":\"Montr\\\\u00e9al-Pierre Elliott Trudeau International Airport\",\"85\":\"Phuket International Airport\",\"86\":\"Milano Linate Airport\",\"87\":\"Prague V\\\\u00e1clav Havel Airport\",\"88\":\"S\\\\u00e3o Paulo\\\\u2013Guarulhos International Airport\",\"89\":\"Palma de Mallorca Airport\",\"90\":\"Tunis-Carthage Airport\",\"91\":\"Luis Mu\\\\u00f1oz Mar\\\\u00edn International Airport\",\"92\":\"Domodedovo International Airport\",\"93\":\"Baltimore-Washington International Airport\",\"94\":\"Salt Lake City International Airport\",\"95\":\"Kempegowda International Airport\",\"96\":\"Perth Airport\",\"97\":\"Dublin Airport\",\"98\":\"Lambert\\\\u2013St. Louis International Airport\",\"99\":\"Ngurah Rai International Airport\"}}'"
      ]
     },
     "execution_count": 29,
     "metadata": {},
     "output_type": "execute_result"
    }
   ],
   "source": [
    "top_airports.head(100).to_json()"
   ]
  },
  {
   "cell_type": "code",
   "execution_count": 30,
   "metadata": {},
   "outputs": [],
   "source": [
    "app = Flask(\"My first web service\")\n",
    "@app.route('/hello', methods=['GET'])\n",
    "#GET    The browser tells the server to just get the information stored on that page and send it. \n",
    "def get_hello():\n",
    "    return \"Hello DS from the service!\"\n",
    "\n",
    "@app.route('/ret_number/<n>', methods=['GET'])\n",
    "def get_number(n):\n",
    "    try:\n",
    "        numb=int(n)\n",
    "        top_n=top_airports.head(numb)\n",
    "        return top_n.to_json()\n",
    "    except:\n",
    "        return \"This was not a number\"\n",
    "    "
   ]
  },
  {
   "cell_type": "code",
   "execution_count": 31,
   "metadata": {},
   "outputs": [
    {
     "name": "stdout",
     "output_type": "stream",
     "text": [
      " * Serving Flask app \"My first web service\" (lazy loading)\n",
      " * Environment: production\n",
      "   WARNING: Do not use the development server in a production environment.\n",
      "   Use a production WSGI server instead.\n",
      " * Debug mode: off\n"
     ]
    },
    {
     "name": "stderr",
     "output_type": "stream",
     "text": [
      " * Running on http://127.0.0.1:5000/ (Press CTRL+C to quit)\n",
      "127.0.0.1 - - [13/Dec/2019 17:29:13] \"\u001b[37mGET /ret_number/10 HTTP/1.1\u001b[0m\" 200 -\n",
      "127.0.0.1 - - [13/Dec/2019 17:29:25] \"\u001b[37mGET /ret_number/100 HTTP/1.1\u001b[0m\" 200 -\n",
      "127.0.0.1 - - [13/Dec/2019 17:31:38] \"\u001b[37mGET /ret_number/100 HTTP/1.1\u001b[0m\" 200 -\n"
     ]
    }
   ],
   "source": [
    "app.run()"
   ]
  },
  {
   "cell_type": "code",
   "execution_count": null,
   "metadata": {},
   "outputs": [],
   "source": []
  },
  {
   "cell_type": "code",
   "execution_count": null,
   "metadata": {},
   "outputs": [],
   "source": []
  }
 ],
 "metadata": {
  "kernelspec": {
   "display_name": "Python 3",
   "language": "python",
   "name": "python3"
  },
  "language_info": {
   "codemirror_mode": {
    "name": "ipython",
    "version": 3
   },
   "file_extension": ".py",
   "mimetype": "text/x-python",
   "name": "python",
   "nbconvert_exporter": "python",
   "pygments_lexer": "ipython3",
   "version": "3.7.1"
  }
 },
 "nbformat": 4,
 "nbformat_minor": 1
}
