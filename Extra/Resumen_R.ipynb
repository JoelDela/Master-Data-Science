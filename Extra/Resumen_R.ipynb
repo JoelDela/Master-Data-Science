{
 "cells": [
  {
   "cell_type": "markdown",
   "metadata": {},
   "source": [
    "# BASICS"
   ]
  },
  {
   "cell_type": "markdown",
   "metadata": {},
   "source": [
    "Proyecto R: https://www.r-project.org/\n",
    "\n",
    "Existen instaladores binarios para Windows, Linux y Mac: http://cran.es.r-project.org/\n",
    "\n",
    "En Linux, lo más cómodo es utilizar el gestor de paquetes:\n",
    "\n",
    "`\n",
    " sudo apt-get install r-base\n",
    " sudo yum install r-base\n",
    "`\n",
    "\n",
    "En conda \n",
    "`\n",
    "conda install -c r r-irkernel\n",
    "`"
   ]
  },
  {
   "cell_type": "code",
   "execution_count": null,
   "metadata": {},
   "outputs": [],
   "source": [
    "install.packages('readr', repos = 'https://cloud.r-project.org')"
   ]
  },
  {
   "cell_type": "code",
   "execution_count": null,
   "metadata": {},
   "outputs": [],
   "source": [
    "# para ver que hace un comando\n",
    "?history"
   ]
  },
  {
   "cell_type": "code",
   "execution_count": null,
   "metadata": {},
   "outputs": [],
   "source": [
    "# si escribes el nombre de una funcion, te devuelve el codigo fuente\n",
    "history"
   ]
  },
  {
   "cell_type": "code",
   "execution_count": null,
   "metadata": {},
   "outputs": [],
   "source": [
    "# Creación y asignacoin de un vector de enteros\n",
    "edades <- c(43, 42, 12, 8, 5)"
   ]
  },
  {
   "cell_type": "code",
   "execution_count": null,
   "metadata": {},
   "outputs": [],
   "source": [
    "#algunas funciones\n",
    "sum(edades)\n",
    "mean(edades)\n",
    "range(edades)\n",
    "1:20 # del 1 al 20\n",
    "length(edades)"
   ]
  },
  {
   "cell_type": "code",
   "execution_count": null,
   "metadata": {},
   "outputs": [],
   "source": [
    "5 %in% c(1, 2, 3, 5) # inclusion"
   ]
  },
  {
   "cell_type": "code",
   "execution_count": null,
   "metadata": {},
   "outputs": [],
   "source": [
    "TRUE < FALSE # TRUE coerciona a 1 y FALSE a 0"
   ]
  },
  {
   "cell_type": "code",
   "execution_count": null,
   "metadata": {},
   "outputs": [],
   "source": [
    "c(TRUE, TRUE, FALSE) & c(TRUE, FALSE, FALSE) # elemento a elemento (AND VECTORIZADO)\n",
    "c(TRUE, TRUE, FALSE) && c(TRUE, FALSE, FALSE) # compara solo el primer elemento de cada vector"
   ]
  },
  {
   "cell_type": "code",
   "execution_count": null,
   "metadata": {},
   "outputs": [],
   "source": [
    "seq(0, 1, length.out = 11)\n",
    "seq(stats::rnorm(20)) # effectively 'along'\n",
    "seq(1, 9, by = 2)     # matches 'end'\n",
    "seq(1, 9, by = pi)    # stays below 'end'\n",
    "seq(1, 6, by = 3)\n",
    "seq(1.575, 5.125, by = 0.05)\n",
    "seq(17) # same as 1:17, or even better seq_len(17)"
   ]
  },
  {
   "cell_type": "code",
   "execution_count": null,
   "metadata": {},
   "outputs": [],
   "source": [
    "#######################\n",
    "# Constantes built-in #\n",
    "#######################\n",
    "LETTERS #26 letras en mayusculas\n",
    "letters #26 letras en minisculas\n",
    "month.abb # las tres primeras letas de los nombres de los meses en ingles\n",
    "month.name # nombres de los meses en ingles\n",
    "pi"
   ]
  },
  {
   "cell_type": "code",
   "execution_count": null,
   "metadata": {},
   "outputs": [],
   "source": [
    "#coherenecia automatica de R\n",
    "a <- c(1, 2, 3)\n",
    "b <- 'A'\n",
    "c <- c(a,b) \n",
    "c # lo trasforma todo a string para que haya coherencia de datos"
   ]
  },
  {
   "cell_type": "code",
   "execution_count": null,
   "metadata": {},
   "outputs": [],
   "source": [
    "runif(2) # valores aleatorios de una distribucion uniforme"
   ]
  },
  {
   "cell_type": "code",
   "execution_count": null,
   "metadata": {},
   "outputs": [],
   "source": [
    "set.seed(10) # si pongo esto, siempre va a salir el mismo numero aleatorio\n",
    "runif(2) "
   ]
  },
  {
   "cell_type": "code",
   "execution_count": null,
   "metadata": {},
   "outputs": [],
   "source": [
    "sample(5) # baraja una lista"
   ]
  },
  {
   "cell_type": "markdown",
   "metadata": {},
   "source": [
    "# IF & LOOPS"
   ]
  },
  {
   "cell_type": "code",
   "execution_count": null,
   "metadata": {},
   "outputs": [],
   "source": [
    "x <- 5\n",
    "if (x < 0) {print(\"x es un número negativo\")} \n",
    "else if (x == 0) {print(\"x es cero\")} \n",
    "else {print(\"x es un número postivo\")}"
   ]
  },
  {
   "cell_type": "code",
   "execution_count": null,
   "metadata": {},
   "outputs": [],
   "source": [
    "x <- \"size\" # evalua una expresion en una lista\n",
    "y <- \"red\"\n",
    "switch(x, red = \"cloth\", size = 5, name = \"table\")\n",
    "switch(y, red = \"cloth\", size = 5, name = \"table\")"
   ]
  },
  {
   "cell_type": "code",
   "execution_count": null,
   "metadata": {},
   "outputs": [],
   "source": [
    "ctr <- 1\n",
    "while (ctr <= 7) {\n",
    "  if (ctr %% 5 == 0)\n",
    "    break\n",
    "  print(paste(\"ctr vale\", ctr))\n",
    "  ctr <- ctr + 1\n",
    "}"
   ]
  },
  {
   "cell_type": "code",
   "execution_count": null,
   "metadata": {},
   "outputs": [],
   "source": [
    "cities <- c(\"New York\", \"Paris\", \"London\", \"Tokyo\", \"Rio de Janeiro\", \"Cape Town\")\n",
    "for (city in cities) {\n",
    "  if (nchar(city) == 6)\n",
    "    next\n",
    "  print(city)\n",
    "}"
   ]
  },
  {
   "cell_type": "code",
   "execution_count": null,
   "metadata": {},
   "outputs": [],
   "source": [
    "cities <- c(\"New York\", \"Paris\", \"London\", \"Tokyo\", \"Rio de Janeiro\", \"Cape Town\")\n",
    "for (i in 1:length(cities)) {\n",
    "  print(paste(cities[i], \"está en la posición\", i, \"del vector de ciudades.\"))\n",
    "}"
   ]
  },
  {
   "cell_type": "markdown",
   "metadata": {},
   "source": [
    "# CONTROL ERRORES"
   ]
  },
  {
   "cell_type": "code",
   "execution_count": null,
   "metadata": {},
   "outputs": [],
   "source": [
    "for(input in inputs) {\n",
    "  tryCatch(print(paste(\"log of\", input, \"=\", log(input))),\n",
    "           warning = function(w) { print(paste(\"negative argument\", log(-input))) },\n",
    "           error = function(e) { print(paste(\"non-numeric argument\", NaN))})\n",
    "}"
   ]
  },
  {
   "cell_type": "markdown",
   "metadata": {
    "toc-hr-collapsed": true
   },
   "source": [
    "# VECTORES"
   ]
  },
  {
   "cell_type": "code",
   "execution_count": null,
   "metadata": {},
   "outputs": [],
   "source": [
    "# los indices empiezan en 1\n",
    "a <- c(10,20,30)\n",
    "length(a) # los vectores solo tienen longitud\n",
    "nrow(a)\n",
    "ncol(a)"
   ]
  },
  {
   "cell_type": "code",
   "execution_count": null,
   "metadata": {},
   "outputs": [],
   "source": [
    "#Si los vectores no tienen el mismo tamaño, R repite el menor de ellos tantas veces como sea necesario.\n",
    "a_vector <- c(1, 2, 3)\n",
    "total_vector <- a_vector + c(1, 1)\n",
    "total_vector"
   ]
  },
  {
   "cell_type": "markdown",
   "metadata": {},
   "source": [
    "#### Names"
   ]
  },
  {
   "cell_type": "code",
   "execution_count": null,
   "metadata": {},
   "outputs": [],
   "source": [
    "# Creación de vector nombres\n",
    "v10 <- c(a = 1, b = 2, c = 3)"
   ]
  },
  {
   "cell_type": "code",
   "execution_count": null,
   "metadata": {},
   "outputs": [],
   "source": [
    "names(a)= c('uno','dos')"
   ]
  },
  {
   "cell_type": "code",
   "execution_count": null,
   "metadata": {},
   "outputs": [],
   "source": [
    "names(a)"
   ]
  },
  {
   "cell_type": "markdown",
   "metadata": {},
   "source": [
    "#### Indexación"
   ]
  },
  {
   "cell_type": "code",
   "execution_count": null,
   "metadata": {},
   "outputs": [],
   "source": [
    "v <- 101:200\n",
    "v[c(1, 1, 4, 5)] # Seleccionamos el primero dos veces, el cuarto y el quinto\n",
    "v[20:23] # Obtenemos los elementos entre el índice 20 y 30. A diferencia de python, aqui se incluye el ultimo"
   ]
  },
  {
   "cell_type": "code",
   "execution_count": null,
   "metadata": {},
   "outputs": [],
   "source": [
    "# Indexando por nombre\n",
    "v0 <- c(101,102,103,104,105)\n",
    "names(v0) <- c(\"alpha\", \"alpha\", \"gamma\", \"delta\", \"omega\")\n",
    "v0[\"alpha\"]"
   ]
  },
  {
   "cell_type": "code",
   "execution_count": null,
   "metadata": {},
   "outputs": [],
   "source": [
    "v0[names(v0) == \"alpha\"]"
   ]
  },
  {
   "cell_type": "code",
   "execution_count": null,
   "metadata": {},
   "outputs": [],
   "source": [
    "v0[\"beta\"] <- 500"
   ]
  },
  {
   "cell_type": "code",
   "execution_count": null,
   "metadata": {},
   "outputs": [],
   "source": [
    "v0[c(\"delta\", \"omega\")]"
   ]
  },
  {
   "cell_type": "code",
   "execution_count": null,
   "metadata": {},
   "outputs": [],
   "source": [
    "v0[!(names(v0) %in% c(\"alpha\", \"omega\"))]"
   ]
  },
  {
   "cell_type": "markdown",
   "metadata": {},
   "source": [
    "#### Filtros"
   ]
  },
  {
   "cell_type": "code",
   "execution_count": null,
   "metadata": {},
   "outputs": [],
   "source": [
    "v[which(v < 103)] # valores menores 103, indexados por indice, si solo pongo v[v < 103] se indexa por valor"
   ]
  },
  {
   "cell_type": "code",
   "execution_count": null,
   "metadata": {},
   "outputs": [],
   "source": [
    "which(v < 103) # devuelve los indices"
   ]
  },
  {
   "cell_type": "code",
   "execution_count": null,
   "metadata": {},
   "outputs": [],
   "source": [
    "v<103 #vector booleano"
   ]
  },
  {
   "cell_type": "code",
   "execution_count": null,
   "metadata": {},
   "outputs": [],
   "source": [
    "v[-2] # quita el elemento con indice 2"
   ]
  },
  {
   "cell_type": "code",
   "execution_count": null,
   "metadata": {},
   "outputs": [],
   "source": [
    "v[v == 0] # se resetean los indices solitos"
   ]
  },
  {
   "cell_type": "markdown",
   "metadata": {},
   "source": [
    "### Información sobre vectores\n",
    "\n",
    "![image.png](attachment:R_Funciones_Vectores.png)"
   ]
  },
  {
   "cell_type": "markdown",
   "metadata": {},
   "source": [
    "#### Factores"
   ]
  },
  {
   "cell_type": "code",
   "execution_count": null,
   "metadata": {},
   "outputs": [],
   "source": [
    "# Creación de factor especificando etiquetas\n",
    "gender_levels_2 <- c('M', 'F', '-') # Como se leen los datos a la entrada\n",
    "gender_labels_2 <- c('Male', 'Female', NA) # Como se etiquetan\n",
    "gender_vector_2 <- c('M', 'F', 'F', 'M', 'M', '-')\n",
    "gender_factor_2 <- factor(gender_vector_2, levels = gender_levels_2, labels = gender_labels_2, ordered =TRUE)\n",
    "gender_factor_2"
   ]
  },
  {
   "cell_type": "markdown",
   "metadata": {
    "toc-hr-collapsed": false
   },
   "source": [
    "# DATAFRAME"
   ]
  },
  {
   "cell_type": "code",
   "execution_count": null,
   "metadata": {},
   "outputs": [],
   "source": [
    "empty <- data.frame()"
   ]
  },
  {
   "cell_type": "code",
   "execution_count": null,
   "metadata": {},
   "outputs": [],
   "source": [
    "# A partir de dos vectores\n",
    "c1 <- 1:5 # vector de enteros\n",
    "c2 <- letters[1:5] # vector de strings\n",
    "df <- data.frame(col1 = c1, col2 = c2)\n",
    "df"
   ]
  },
  {
   "cell_type": "code",
   "execution_count": null,
   "metadata": {},
   "outputs": [],
   "source": [
    "# Lectura desde fichero\n",
    "df <- read.csv(\"./dat/wine.csv\", header = T)"
   ]
  },
  {
   "cell_type": "markdown",
   "metadata": {},
   "source": [
    "* head(df)\n",
    "    * head(df, -10) --> todas menos las 10 ultimas\n",
    "* tail(df)"
   ]
  },
  {
   "cell_type": "markdown",
   "metadata": {},
   "source": [
    "__str(df)__: muestra de forma rápida la estructura de la información almacenada.\n",
    "* Número total de observaciones.\n",
    "* Número total de variables.\n",
    "* Lista con todos los nombres de las variables.\n",
    "* El tipo de cada variable.\n",
    "* Las primeras observaciones de cada variable.\n"
   ]
  },
  {
   "cell_type": "code",
   "execution_count": null,
   "metadata": {},
   "outputs": [],
   "source": [
    "str(df)"
   ]
  },
  {
   "cell_type": "code",
   "execution_count": null,
   "metadata": {},
   "outputs": [],
   "source": [
    "summary(df)"
   ]
  },
  {
   "cell_type": "code",
   "execution_count": null,
   "metadata": {},
   "outputs": [],
   "source": [
    "df$col1 # para acceder a las columnas o a los atributos se pone $"
   ]
  },
  {
   "cell_type": "code",
   "execution_count": null,
   "metadata": {},
   "outputs": [],
   "source": [
    "df <-- data.frame(mtcars)"
   ]
  },
  {
   "cell_type": "markdown",
   "metadata": {},
   "source": [
    "#### Añadir filas"
   ]
  },
  {
   "cell_type": "code",
   "execution_count": null,
   "metadata": {},
   "outputs": [],
   "source": [
    "df2 <- rbind(mtcars, df)"
   ]
  },
  {
   "cell_type": "markdown",
   "metadata": {},
   "source": [
    "#### Añadir columnas"
   ]
  },
  {
   "cell_type": "code",
   "execution_count": null,
   "metadata": {},
   "outputs": [],
   "source": [
    "v<- 1:nrow(df)\n",
    "cbind(df,v)"
   ]
  },
  {
   "cell_type": "code",
   "execution_count": null,
   "metadata": {},
   "outputs": [],
   "source": [
    "df2$newcolumn <- rep(1, nrow(df)) "
   ]
  },
  {
   "cell_type": "code",
   "execution_count": null,
   "metadata": {},
   "outputs": [],
   "source": [
    "df2[,'copycolumn'] <- df2$hp"
   ]
  },
  {
   "cell_type": "code",
   "execution_count": null,
   "metadata": {},
   "outputs": [],
   "source": [
    "df2[1,'copycolum']<- 333"
   ]
  },
  {
   "cell_type": "code",
   "execution_count": null,
   "metadata": {},
   "outputs": [],
   "source": [
    "df2"
   ]
  },
  {
   "cell_type": "markdown",
   "metadata": {},
   "source": [
    "#### Indexacion\n",
    "__df [filas, columnas]__"
   ]
  },
  {
   "cell_type": "code",
   "execution_count": null,
   "metadata": {},
   "outputs": [],
   "source": [
    "df <- data.frame(mtcars)\n",
    "str(df)\n",
    "df[5, 2] # Obtiene una única celda\n",
    "df[1:5, 1:2] # Obtiene varias celdas\n",
    "df[1:2, c(\"gear\", \"am\")]\n",
    "df[1:2, c(\"gear\", \"am\")] <- 0 # Asignación de celdas\n",
    "df[1:2, c(\"gear\", \"am\")]"
   ]
  },
  {
   "cell_type": "code",
   "execution_count": null,
   "metadata": {},
   "outputs": [],
   "source": [
    "# Indexando filas (siempre devuelve data frames)\n",
    "df[1, ]\n",
    "df[-nrow(df), ]\n",
    "df[1:5, ]\n",
    "df[(df$hp > 150 & df$hp < 200), ]\n",
    "subset(df, hp > 150 & hp < 200)\n",
    "\n",
    "vrow <- as.numeric(as.vector(df[1, ])) # Convertimos el resultados de la indexación en vector"
   ]
  },
  {
   "cell_type": "code",
   "execution_count": null,
   "metadata": {},
   "outputs": [],
   "source": [
    "# Indexando columnas\n",
    "df$hp # Devuelve un vector\n",
    "df[, \"hp\"] # Devuelve un vector\n",
    "df[, 4] # Devuelve un vector\n",
    "df[\"hp\"] # Devuelve un data frame con una columna\n",
    "df[4] # Devuelve un data frame con una columna\n",
    "df[[\"hp\"]] # Devuelve un vector\n",
    "df[ , c(4, 6)] # Devuelve un data frame\n",
    "df[ , c(\"hp\", \"wt\")] # Devuelve un data frame"
   ]
  },
  {
   "cell_type": "markdown",
   "metadata": {},
   "source": [
    "#### Merge \n",
    "Recibe los siguientes parámetros:\n",
    "+ `x, y`: data frames a combinar.\n",
    "+ `by, by.x, by.y`: permiten especificar las columnas por las que se combinarán ambos data  frames.\n",
    "+ `all, all.x, all.y`: permite seleccionar si queremos obtener todas las filas de ambos data  frames (FULL JOIN), todas las del data frame x (LEFT JOIN) o todas las del data frame  y (RIGHT JOIN)."
   ]
  },
  {
   "cell_type": "code",
   "execution_count": null,
   "metadata": {},
   "outputs": [],
   "source": [
    "c1 <- 1:10\n",
    "c2 <- letters[1:10]\n",
    "c3 <- 5:20\n",
    "c4 <- letters[5:20]\n",
    "df.x <- data.frame(col1 = c1, col2 = c2)\n",
    "df.y <- data.frame(col1 = c3, col2 = c4)\n",
    "df.x\n",
    "df.y\n",
    "\n",
    "join <- merge(df.x, df.y, by = c(\"col1\")) #join\n",
    "left.join <- merge(df.x, df.y, by = c(\"col1\"), all.x = T) #left join\n",
    "right.join <- merge(df.x, df.y, by = c(\"col1\"), all.y = T) #right join\n",
    "full.join <- merge(df.x, df.y, by = c(\"col1\"), all = T) #full join"
   ]
  },
  {
   "cell_type": "markdown",
   "metadata": {},
   "source": [
    "## Información sobre data frames\n",
    "\n",
    "![info_df](imgs/04_01.png)"
   ]
  },
  {
   "cell_type": "markdown",
   "metadata": {},
   "source": [
    "#### Order"
   ]
  },
  {
   "cell_type": "code",
   "execution_count": null,
   "metadata": {},
   "outputs": [],
   "source": [
    "a <- c(4, 10, 3)\n",
    "order(a)\n",
    "a[order(a)]"
   ]
  },
  {
   "cell_type": "markdown",
   "metadata": {},
   "source": [
    "# Trucos sobre data frames\n",
    "\n",
    "Al leer data frames desde ficheros normalmente se emplea el argumento `stringsAsFactors = FALSE` para evitar la coerción a factores.\n",
    "\n",
    "Se suele evitar emplear nombres en filas y utilizarlos sólo en columnas.\n",
    "\n",
    "No utilizar `rbind(df1, df2, …)` con factores, ya que algunas veces puede dar problemas\n",
    "(coerción)."
   ]
  },
  {
   "cell_type": "markdown",
   "metadata": {},
   "source": [
    "# LEER FICHEROS "
   ]
  },
  {
   "cell_type": "markdown",
   "metadata": {},
   "source": [
    "La función más importante del paquete es __read.table(fileName)__. Dicha función tiene una enorme cantidad de parámetros que nos permitirán configurar la carga según el fichero. Los más importantes:\n",
    "\n",
    "* header: para indicar si el fichero tiene cabeceras.\n",
    "* sep: para indicar el separador de nuestro fichero.\n",
    "* stringsAsFactors: para indicar si las cadenas de caracteres se convertirán en factores."
   ]
  },
  {
   "cell_type": "markdown",
   "metadata": {},
   "source": [
    "Existen otras funciones para leer directamente ficheros csv (**coma como separador**) o tsv\n",
    "(**tabulador como separador**):\n",
    "\n",
    "+ Con punto como separador decimal\n",
    "    + csv: `read.csv`\n",
    "    + tsv: `read.delim`"
   ]
  },
  {
   "cell_type": "markdown",
   "metadata": {},
   "source": [
    "+ Con coma como separador decimal\n",
    "    + csv: `read.csv2`\n",
    "    + tsv: `read.delim2`\n",
    "\n",
    "Son variantes de `read.table` pero con distintos valores por defecto."
   ]
  },
  {
   "cell_type": "code",
   "execution_count": null,
   "metadata": {},
   "outputs": [],
   "source": [
    "# Con read.table\n",
    "mun_tsv_1 <- read.table(\"dat/municipios2.tsv\",\n",
    "                   header = TRUE, \n",
    "                   sep = \"\\t\", \n",
    "                   stringsAsFactors = FALSE,\n",
    "                   dec = \",\",\n",
    "                   quote = \"\")\n",
    "str(mun_tsv_1)"
   ]
  },
  {
   "cell_type": "code",
   "execution_count": null,
   "metadata": {},
   "outputs": [],
   "source": [
    "# Con readr\n",
    "library(readr)\n",
    "mun_csv_3 <- read_delim(\"dat/municipios1.csv\",\n",
    "                     delim = \",\",\n",
    "                     col_types = \"ci\") #c: characters, d: double, i: integer, l: logical, _: ignore\n",
    "str(mun_csv_3)"
   ]
  },
  {
   "cell_type": "markdown",
   "metadata": {
    "toc-hr-collapsed": true
   },
   "source": [
    "# SCRACHING\n",
    "Mirar libreria selenium"
   ]
  },
  {
   "cell_type": "code",
   "execution_count": null,
   "metadata": {},
   "outputs": [],
   "source": [
    "library(rvest)\n",
    "library(magrittr)"
   ]
  },
  {
   "cell_type": "code",
   "execution_count": null,
   "metadata": {},
   "outputs": [],
   "source": [
    "url.root <- \"http://elpais.com/especiales/2014/tarjetas-opacas-caja-madrid/apuntes/\"\n",
    "url.names <- c('sanchezbarcojildefonsojose/', 'moralsantinjoseantonio/',\n",
    "               'moradoiglesiasricardo/', 'blesadelaparramiguel/',\n",
    "               'amatrocamatias/', 'ferrazricarteramon/',\n",
    "               'perezclavermariano/', 'torremartinezenriquedela/',\n",
    "               'astorquiporterajuanmanuel/', 'delamercedmongemariamercedes/')\n",
    "\n",
    "abbr.names <- substr(url.names, 1,5)\n"
   ]
  },
  {
   "cell_type": "code",
   "execution_count": null,
   "metadata": {},
   "outputs": [],
   "source": [
    "bnames <- c('Sánchez', 'Moral', 'Morado', 'Blesa', 'Amat', \n",
    "            'Ferraz', 'Pérez', 'Torre', 'Astorqui', 'DeLaMerced')\n",
    "\n",
    "urls <- paste(url.root, url.names, sep = '')"
   ]
  },
  {
   "cell_type": "code",
   "execution_count": null,
   "metadata": {},
   "outputs": [],
   "source": [
    "black <- c()\n",
    "for (i in 1:10){\n",
    "  tmp <- urls[i] %>%\n",
    "    read_html() %>%\n",
    "    html_nodes(xpath='//*[@id=\"tabla_datos\"]') %>%\n",
    "    html_table() # PARA TABLAS, PARA TEXTO USAR html_text\n",
    "  tmp <- tmp[[1]]  \n",
    "  black <- rbind(black, cbind(bnames[i],tmp))\n",
    "}"
   ]
  },
  {
   "cell_type": "code",
   "execution_count": null,
   "metadata": {},
   "outputs": [],
   "source": [
    "url_blesa <- \"http://elpais.com/especiales/2014/tarjetas-opacas-caja-madrid/apuntes/\"\n",
    "web_blesa <- \"http://elpais.com/especiales/2014/tarjetas-opacas-caja-madrid/apuntes/blesadelaparramiguel/\"\n",
    "\n",
    "Fecha_v <-  read_html(web_blesa) %>%\n",
    "            html_nodes(xpath='//*[(@id = \"tabla_datos\")]//*[contains(concat( \" \", @class, \" \" ), concat( \" \", \"fecha\", \" \" ))]') \n",
    "\n",
    "head(html_text(Fecha_v)) # para una fila o columna"
   ]
  },
  {
   "cell_type": "code",
   "execution_count": null,
   "metadata": {},
   "outputs": [],
   "source": [
    "library('magrittr')\n",
    "library('rvest')"
   ]
  },
  {
   "cell_type": "code",
   "execution_count": null,
   "metadata": {},
   "outputs": [],
   "source": [
    "url =1&numReg=486&d_fecha=2017-11-01&h_fecha=2018-11-14&desc=\""
   ]
  },
  {
   "cell_type": "code",
   "execution_count": null,
   "metadata": {},
   "outputs": [],
   "source": [
    "library ('plyr')\n",
    "library ('dplyr')\n",
    "library('tidyr')\n",
    "\n",
    "dataframefinal <- data.frame()\n",
    "\n",
    "for (i in 1:25) {\n",
    "    url =paste(\"http://pagina.jccm.es/justicia/112/ultima_hora/busqueda.php?pagina=\", i ,\"&numReg=486&d_fecha=2017-11-01&h_fecha=2018-11-14&desc=\", sep=\"\")\n",
    "    tmp <- url %>% read_html() %>% html_nodes(\"table.incidencias\") %>% html_table()\n",
    "    \n",
    "    tmpdf <- ldply (tmp, data.frame)\n",
    "    names(tmpdf) <- c(\"Fecha\", \"Incidente\")\n",
    "    tmpdf <- tmpdf[-c(1), ]\n",
    "    \n",
    "    dataframefinal <- rbind(dataframefinal, tmpdf)\n",
    "}\n",
    "rownames(dataframefinal) <- seq(length=nrow(dataframefinal))\n",
    "\n",
    "dataframefinal <- dataframefinal %>%  separate( Incidente, c(\"tipo\", \"borrador\"), sep='\\\\.' ) %>% \n",
    "separate( borrador, c(\"pueblo\", \"provincia\"), sep='\\\\(' )\n",
    "dataframefinal$provincia <- gsub('\\\\)', '', dataframefinal$provincia )\n",
    "unique(dataframefinal$provincia)"
   ]
  },
  {
   "cell_type": "code",
   "execution_count": null,
   "metadata": {},
   "outputs": [],
   "source": [
    "dataframefinal <- dataframefinal[(dataframefinal$provincia != \"C\"),]\n",
    "dataframefinal <- dataframefinal[(dataframefinal$provincia != \"U\"),]"
   ]
  },
  {
   "cell_type": "code",
   "execution_count": null,
   "metadata": {},
   "outputs": [],
   "source": [
    "dataframefinal <- separate(dataframefinal, Fecha, c(\"dia\", \"hora\") , sep = \" \")"
   ]
  },
  {
   "cell_type": "code",
   "execution_count": null,
   "metadata": {},
   "outputs": [],
   "source": [
    "df <- dataframefinal[c(\"dia\", \"tipo\")]"
   ]
  },
  {
   "cell_type": "code",
   "execution_count": null,
   "metadata": {},
   "outputs": [],
   "source": [
    "df <- group_by(dataframefinal, dia) %>% summarise(num = n()) "
   ]
  },
  {
   "cell_type": "code",
   "execution_count": null,
   "metadata": {},
   "outputs": [],
   "source": [
    "library('ggplot2')"
   ]
  },
  {
   "cell_type": "code",
   "execution_count": null,
   "metadata": {},
   "outputs": [],
   "source": [
    "df$dia <- as.Date(df$dia, format='%d-%m-%Y')"
   ]
  },
  {
   "cell_type": "code",
   "execution_count": null,
   "metadata": {},
   "outputs": [],
   "source": [
    "ggplot(df, aes(x=dia, y=num)) + geom_line(aes(group=1))"
   ]
  },
  {
   "cell_type": "code",
   "execution_count": null,
   "metadata": {},
   "outputs": [],
   "source": [
    "test <- df[200:236,]\n",
    "x_test = test[,1:1]\n",
    "y_test = test[,2:2]\n",
    "train <- df[1:199,]\n",
    "x_train = test[,1:1]\n",
    "y_train = test[,2:2]"
   ]
  },
  {
   "cell_type": "code",
   "execution_count": null,
   "metadata": {},
   "outputs": [],
   "source": [
    "#REGRESION LINEAL\n",
    "#Identify feature and response variable(s) and values must be numeric and numpy arrays\n",
    "x <- cbind(x_train,y_train)"
   ]
  },
  {
   "cell_type": "code",
   "execution_count": null,
   "metadata": {},
   "outputs": [],
   "source": [
    "# Train the model using the training sets and check score\n",
    "linear <- lm(num~dia, data = train)"
   ]
  },
  {
   "cell_type": "code",
   "execution_count": null,
   "metadata": {},
   "outputs": [],
   "source": [
    "#Predict Output\n",
    "predicted= predict(linear,x_test) "
   ]
  },
  {
   "cell_type": "code",
   "execution_count": null,
   "metadata": {},
   "outputs": [],
   "source": [
    "predicted\n"
   ]
  },
  {
   "cell_type": "markdown",
   "metadata": {
    "toc-hr-collapsed": true
   },
   "source": [
    "# EJERCICIO LIMPIEZA DE DATOS"
   ]
  },
  {
   "cell_type": "code",
   "execution_count": null,
   "metadata": {},
   "outputs": [],
   "source": [
    "# Cargamos el dataset\n",
    "vinos <- read.csv(\"dat/wine.csv\", \n",
    "                  header = T, stringsAsFactors = FALSE)"
   ]
  },
  {
   "cell_type": "code",
   "execution_count": null,
   "metadata": {},
   "outputs": [],
   "source": [
    "class(vinos)\n",
    "dim(vinos)"
   ]
  },
  {
   "cell_type": "code",
   "execution_count": null,
   "metadata": {},
   "outputs": [],
   "source": [
    "names(vinos)"
   ]
  },
  {
   "cell_type": "code",
   "execution_count": null,
   "metadata": {},
   "outputs": [],
   "source": [
    "str(vinos)"
   ]
  },
  {
   "cell_type": "code",
   "execution_count": null,
   "metadata": {},
   "outputs": [],
   "source": [
    "summary(vinos)"
   ]
  },
  {
   "cell_type": "code",
   "execution_count": null,
   "metadata": {},
   "outputs": [],
   "source": [
    "summary(vinos)"
   ]
  },
  {
   "cell_type": "code",
   "execution_count": null,
   "metadata": {},
   "outputs": [],
   "source": [
    "head(vinos)"
   ]
  },
  {
   "cell_type": "code",
   "execution_count": null,
   "metadata": {},
   "outputs": [],
   "source": [
    "unique(vinos$class)"
   ]
  },
  {
   "cell_type": "markdown",
   "metadata": {},
   "source": [
    "#### Dibujar "
   ]
  },
  {
   "cell_type": "code",
   "execution_count": null,
   "metadata": {},
   "outputs": [],
   "source": [
    "# Visualizando los datos\n",
    "hist(vinos$alcohol)"
   ]
  },
  {
   "cell_type": "code",
   "execution_count": null,
   "metadata": {},
   "outputs": [],
   "source": [
    "plot(vinos$alcohol, vinos$proline)"
   ]
  },
  {
   "cell_type": "code",
   "execution_count": null,
   "metadata": {},
   "outputs": [],
   "source": [
    "#Outliers\n",
    "set.seed(10)\n",
    "x <- c(rnorm(30, mean = 15, sd = 5), -5, 28, 35)\n",
    "\n",
    "boxplot(x, horizontal = T)"
   ]
  },
  {
   "cell_type": "code",
   "execution_count": null,
   "metadata": {},
   "outputs": [],
   "source": [
    "#matriz correlaciones --> cuanto mas cerca de 1 o -1, mas correlacion. Si es -1 la linea de regresion tiene pendiente negativa\n",
    "cor(vinos[,-1])"
   ]
  },
  {
   "cell_type": "markdown",
   "metadata": {},
   "source": [
    "#### de filas a columnas"
   ]
  },
  {
   "cell_type": "code",
   "execution_count": null,
   "metadata": {},
   "outputs": [],
   "source": [
    "library(tidyr)\n",
    "# De pequeño a grande\n",
    "wide_df <- data.frame(col = c(\"X\", \"Y\"), A = c(1, 4), B = c(2, 5), C = c(3, 6))\n",
    "gather(wide_df, my_key, my_val, -col) # -col es para que no tenga en cuenta la columna col"
   ]
  },
  {
   "cell_type": "code",
   "execution_count": null,
   "metadata": {},
   "outputs": [],
   "source": [
    "# De grande a pequeño\n",
    "long_df <- gather(wide_df, my_key, my_val, -col)\n",
    "spread(long_df, my_key, my_val) #Obtenemos el data.frame original"
   ]
  },
  {
   "cell_type": "code",
   "execution_count": null,
   "metadata": {},
   "outputs": [],
   "source": [
    "library(reshape2)"
   ]
  },
  {
   "cell_type": "code",
   "execution_count": null,
   "metadata": {},
   "outputs": [],
   "source": [
    "# de pequeño a grande\n",
    "melt(wide_df, id.vars = c(\"col\"), variable.name = \"my_key\", value.name = \"my_val\")"
   ]
  },
  {
   "cell_type": "code",
   "execution_count": null,
   "metadata": {},
   "outputs": [],
   "source": [
    "# de grande a pequeño\n",
    "long_df <- melt(wide_df, id.vars = c(\"col\"), variable.name = \"my_key\", value.name = \"my_val\")\n",
    "dcast(long_df, col ~ my_key, value.var = \"my_val\")"
   ]
  },
  {
   "cell_type": "code",
   "execution_count": null,
   "metadata": {},
   "outputs": [],
   "source": [
    "treatments <- data.frame(patient = c(\"X\", \"Y\", \"X\"), \n",
    "                         treatment = c(\"A\", \"A\", \"B\"), \n",
    "                         year_mo = c(\"2010-10\", \"2010-10\", \"2012-08\"), \n",
    "                         responde = c(1, 4, 2))"
   ]
  },
  {
   "cell_type": "code",
   "execution_count": null,
   "metadata": {},
   "outputs": [],
   "source": [
    "# Separate\n",
    "separate(treatments, year_mo, c(\"year\", \"month\"))"
   ]
  },
  {
   "cell_type": "code",
   "execution_count": null,
   "metadata": {},
   "outputs": [],
   "source": [
    "# Unite\n",
    "treatments_sep <- separate(treatments, year_mo, c(\"year\", \"month\"))\n",
    "unite(treatments_sep, year_mo, year, month, sep = \"-\")"
   ]
  },
  {
   "cell_type": "markdown",
   "metadata": {},
   "source": [
    "### transformacion de datos"
   ]
  },
  {
   "cell_type": "markdown",
   "metadata": {},
   "source": [
    "#### fechas --> library(lubridate)"
   ]
  },
  {
   "cell_type": "markdown",
   "metadata": {},
   "source": [
    "#### Strings"
   ]
  },
  {
   "cell_type": "code",
   "execution_count": null,
   "metadata": {},
   "outputs": [],
   "source": [
    "library(stringr)\n",
    "str_trim(\"    this is a test    \")\n",
    "str_pad(\"244493\", width = 7, side = \"left\", pad = \"0\")\n",
    "names <- c(\"Sarah\", \"Tom\", \"Alice\")\n",
    "str_detect(names, \"Alice\")\n",
    "str_replace(names, \"Alice\", \"David\")"
   ]
  },
  {
   "cell_type": "code",
   "execution_count": null,
   "metadata": {},
   "outputs": [],
   "source": [
    "#DELETE NAs -DROP -REMOVE -BORRAR\n",
    "df <- data.frame(A = c(1, NA, 8, NA),\n",
    "                 B = c(3, NA, 88, 23),\n",
    "                 C = c(2, 45, 3, 1))\n",
    "#Eliminación\n",
    "df[complete.cases(df), ]\n",
    "na.omit(df)\n",
    "df[!is.na(df$B), ]"
   ]
  },
  {
   "cell_type": "markdown",
   "metadata": {},
   "source": [
    "Smote --> libreria para valores faltantes, remplaza los NA por un valor que no desvie la distribucion de los datos"
   ]
  },
  {
   "cell_type": "markdown",
   "metadata": {},
   "source": [
    "# DPLYR"
   ]
  },
  {
   "cell_type": "code",
   "execution_count": null,
   "metadata": {},
   "outputs": [],
   "source": [
    "library(hflights) #install.packages('hflights',  repos =\"https://cloud.r-project.org\")\n",
    "library(dplyr) # Instalar dplyr PERO CON CONDA SIEMPRE"
   ]
  },
  {
   "cell_type": "code",
   "execution_count": null,
   "metadata": {},
   "outputs": [],
   "source": [
    "hflights.tbl <- tbl_df(hflights)"
   ]
  },
  {
   "cell_type": "code",
   "execution_count": null,
   "metadata": {},
   "outputs": [],
   "source": [
    "glimpse(hflights.tbl) "
   ]
  },
  {
   "cell_type": "code",
   "execution_count": null,
   "metadata": {},
   "outputs": [],
   "source": [
    "#selecciona columnas\n",
    "select(hflights.tbl, ActualElapsedTime, AirTime, ArrDelay, DepDelay) %>% head(1)"
   ]
  },
  {
   "cell_type": "code",
   "execution_count": null,
   "metadata": {},
   "outputs": [],
   "source": [
    "#añade nuevas variables\n",
    "select(hflights.tbl, ActualElapsedTime, AirTime, ArrDelay, DepDelay) %>% mutate( loss = ArrDelay - DepDelay) %>% head(1)"
   ]
  },
  {
   "cell_type": "code",
   "execution_count": null,
   "metadata": {},
   "outputs": [],
   "source": [
    "#Filtar\n",
    "select(hflights.tbl, starts_with(\"Cancel\"), DepDelay) %>% filter(Cancelled == 1) %>% head(1)"
   ]
  },
  {
   "cell_type": "code",
   "execution_count": null,
   "metadata": {},
   "outputs": [],
   "source": [
    "#ordenar de mayor a menor\n",
    "select(hflights.tbl, TailNum, contains(\"Delay\")) %>% arrange(DepDelay) %>% head(1)"
   ]
  },
  {
   "cell_type": "markdown",
   "metadata": {},
   "source": [
    "__GROUP BY__\n",
    "La función `summarise` permite utilizar funciones de agregación de R:\n",
    "+ `min(x)`: valor mínimo del vector x.\n",
    "+ `max(x)`: valor máximo del vector x.\n",
    "+ `mean(x)`: valor medio del vector x.\n",
    "+ `median(x)`: valor mediano del vector x.\n",
    "+ `quantile(x, p)`: el cuantil p del vector x.\n",
    "+ `sd(x)`: la desviación estándar del vector x.\n",
    "+ `var(x)`: la varianza del vector x.\n",
    "+ `IQR(x)`: el rango intercuartílico del vector x.\n",
    "\n",
    "El paquete `dplyr` completa la lista de funciones anteriores con algunas propias:\n",
    "+ `first(x)`: primer elemento del vector x.\n",
    "+ `last(x)`: último elemento del vector x.\n",
    "+ `nth(x, n)`: el enésimo elemento del vector x.\n",
    "+ `n()`: número de filas del data frame, tabla o grupo.\n",
    "+ `n_distinct(x)`: número de valores únicos del vector x."
   ]
  },
  {
   "cell_type": "code",
   "execution_count": null,
   "metadata": {},
   "outputs": [],
   "source": [
    "# Summarise\n",
    "select(hflights.tbl, TailNum, contains(\"Delay\")) %>% \n",
    "filter(!is.na(DepDelay)) %>%\n",
    "summarise(min = min(DepDelay), max = max(DepDelay), mean = mean(DepDelay), meanarr= mean(ArrDelay, na.rm=T),median = median(DepDelay)) "
   ]
  },
  {
   "cell_type": "code",
   "execution_count": null,
   "metadata": {},
   "outputs": [],
   "source": [
    "# Group by\n",
    "group_by(hflights.tbl, UniqueCarrier) %>% \n",
    "summarise(avgDep = mean(DepDelay, na.rm = T), \n",
    "          avgArr = mean(ArrDelay, na.rm = T)) %>% head(2)"
   ]
  },
  {
   "cell_type": "markdown",
   "metadata": {},
   "source": [
    "# DIBUJAR"
   ]
  },
  {
   "cell_type": "code",
   "execution_count": null,
   "metadata": {},
   "outputs": [],
   "source": [
    "n=5000\n",
    "edades = sample(30:70,n,replace = TRUE)"
   ]
  },
  {
   "cell_type": "code",
   "execution_count": null,
   "metadata": {},
   "outputs": [],
   "source": [
    "sexos = sample(c('hombre','mujer'),n,replace = TRUE)"
   ]
  },
  {
   "cell_type": "code",
   "execution_count": null,
   "metadata": {},
   "outputs": [],
   "source": [
    "datos = data.frame(edad = edades, sexo=sexos)"
   ]
  },
  {
   "cell_type": "code",
   "execution_count": null,
   "metadata": {},
   "outputs": [],
   "source": [
    "eps = rnorm(n,0,5)"
   ]
  },
  {
   "cell_type": "code",
   "execution_count": null,
   "metadata": {},
   "outputs": [],
   "source": [
    "datos$sueldo = 40*datos$edad + 200*(datos$sexo=='hombre') +eps"
   ]
  },
  {
   "cell_type": "code",
   "execution_count": null,
   "metadata": {},
   "outputs": [],
   "source": [
    "datos$edad.gr=cut(datos$edad, breaks = seq(30,70,5), include.lowest = TRUE)"
   ]
  },
  {
   "cell_type": "markdown",
   "metadata": {},
   "source": [
    "conda install -c r r-tidyverse "
   ]
  },
  {
   "cell_type": "code",
   "execution_count": null,
   "metadata": {},
   "outputs": [],
   "source": [
    "library('ggplot2')"
   ]
  },
  {
   "cell_type": "code",
   "execution_count": null,
   "metadata": {},
   "outputs": [],
   "source": [
    "mpg <- mpg %>% mutate(consumo=235/hwy)"
   ]
  },
  {
   "cell_type": "code",
   "execution_count": null,
   "metadata": {},
   "outputs": [],
   "source": [
    "qplot(edad.gr,sueldo,data=datos,geom=\"boxplot\",fill=sexo)"
   ]
  },
  {
   "cell_type": "markdown",
   "metadata": {},
   "source": [
    "Transparencia de puntos"
   ]
  },
  {
   "cell_type": "code",
   "execution_count": null,
   "metadata": {},
   "outputs": [],
   "source": [
    "qplot(displ,consumo,data=mpg,alpha=I(.1),size=I(.5))"
   ]
  },
  {
   "cell_type": "code",
   "execution_count": null,
   "metadata": {},
   "outputs": [],
   "source": [
    "datos <- mpg %>% group_by(model) %>% mutate(media=mean(consumo))"
   ]
  },
  {
   "cell_type": "code",
   "execution_count": null,
   "metadata": {},
   "outputs": [],
   "source": [
    "# ordena por media de consumo, aunque muestra modelo/Consumo\n",
    "qplot(consumo,reorder(model,media),data=datos)"
   ]
  },
  {
   "cell_type": "code",
   "execution_count": null,
   "metadata": {},
   "outputs": [],
   "source": [
    "qplot(islands,names(islands),log=\"x\")"
   ]
  },
  {
   "cell_type": "code",
   "execution_count": null,
   "metadata": {},
   "outputs": [],
   "source": [
    "library(ggmap)"
   ]
  },
  {
   "cell_type": "code",
   "execution_count": null,
   "metadata": {},
   "outputs": [],
   "source": [
    "ggplot(cancer) +\n",
    "  aes(x = periodo, y = tasa, col = sexo) +\n",
    "  geom_line(size=1) + scale_y_log10() + geom_line(aes(group=grupo)) +\n",
    "  facet_wrap( ~ tumor) "
   ]
  },
  {
   "cell_type": "markdown",
   "metadata": {},
   "source": [
    "* Datos: siempre un “data.frame”\n",
    "* Estéticas: elementos representables gráficamente (la posición x e y, el color, la forma, …) en columnas del data.frame.\n",
    "* Geometrías (o capas): puntos, rectas, histogramas, densidades, etc. También se llaman capas porque pueden superponerse.\n",
    "* Facetas: parten un gráfico en sublienzos preservando las escalas (pequeños múltiplos)"
   ]
  },
  {
   "cell_type": "code",
   "execution_count": null,
   "metadata": {},
   "outputs": [],
   "source": [
    "load('/data/cancer.RDA')"
   ]
  },
  {
   "cell_type": "markdown",
   "metadata": {},
   "source": [
    "theme_grey() --> Si escribes esto, aparecen todos los atributos del tema de estilo que se usa"
   ]
  },
  {
   "cell_type": "code",
   "execution_count": null,
   "metadata": {},
   "outputs": [],
   "source": [
    "ggplot(paro) \n",
    "+ aes(x=Año,y=Tasa.paro,color=Trimestre, linetype=Sexo) \n",
    "+ geom_smooth(se=FALSE)"
   ]
  },
  {
   "cell_type": "code",
   "execution_count": null,
   "metadata": {},
   "outputs": [],
   "source": [
    "> ggplot(mortalidad) \n",
    "+ aes (x=edad,y=tasa,fill=sexo,label=round(tasa), color=sexo) \n",
    "+ geom_bar(stat=\"identity\") \n",
    "+ facet_grid(sexo~ambito) \n",
    "+ geom_text(nudge_y = 3)\n",
    "+ ggtitle(\"Relación entre (IMC) y renta\") \n",
    "+ labs(x = \"Renta\", y = \"IMC (kg/m2)\", color = \"Continente\")\n",
    "+ scale_x_log10()+scale_y_continuous(breaks=seq(10,50,10),trans=\"log\")\n",
    "+ scale_color_manual(\"Continente\",values=c(\"green4\",\"red4\"),limits=c(\"Europa\",\"Asia\"))"
   ]
  },
  {
   "cell_type": "code",
   "execution_count": null,
   "metadata": {},
   "outputs": [],
   "source": [
    "ggsave(\"obesidad.pdf\")"
   ]
  },
  {
   "cell_type": "code",
   "execution_count": null,
   "metadata": {},
   "outputs": [],
   "source": [
    "library(shiny)"
   ]
  },
  {
   "cell_type": "code",
   "execution_count": null,
   "metadata": {},
   "outputs": [],
   "source": [
    "library(ISLR)"
   ]
  },
  {
   "cell_type": "code",
   "execution_count": null,
   "metadata": {},
   "outputs": [],
   "source": [
    "library(openintro)"
   ]
  },
  {
   "cell_type": "code",
   "execution_count": null,
   "metadata": {},
   "outputs": [],
   "source": [
    "library(glmnet)"
   ]
  },
  {
   "cell_type": "code",
   "execution_count": null,
   "metadata": {},
   "outputs": [],
   "source": [
    "library(caret)"
   ]
  },
  {
   "cell_type": "code",
   "execution_count": null,
   "metadata": {},
   "outputs": [],
   "source": [
    "library(tidyverse)"
   ]
  }
 ],
 "metadata": {
  "kernelspec": {
   "display_name": "R",
   "language": "R",
   "name": "ir"
  },
  "language_info": {
   "codemirror_mode": "r",
   "file_extension": ".r",
   "mimetype": "text/x-r-source",
   "name": "R",
   "pygments_lexer": "r",
   "version": "3.5.1"
  },
  "varInspector": {
   "cols": {
    "lenName": 16,
    "lenType": 16,
    "lenVar": 40
   },
   "kernels_config": {
    "python": {
     "delete_cmd_postfix": "",
     "delete_cmd_prefix": "del ",
     "library": "var_list.py",
     "varRefreshCmd": "print(var_dic_list())"
    },
    "r": {
     "delete_cmd_postfix": ") ",
     "delete_cmd_prefix": "rm(",
     "library": "var_list.r",
     "varRefreshCmd": "cat(var_dic_list()) "
    }
   },
   "types_to_exclude": [
    "module",
    "function",
    "builtin_function_or_method",
    "instance",
    "_Feature"
   ],
   "window_display": false
  }
 },
 "nbformat": 4,
 "nbformat_minor": 2
}
