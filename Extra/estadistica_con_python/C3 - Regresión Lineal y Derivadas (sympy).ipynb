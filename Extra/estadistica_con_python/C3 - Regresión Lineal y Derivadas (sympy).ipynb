{
 "cells": [
  {
   "cell_type": "code",
   "execution_count": 1,
   "metadata": {},
   "outputs": [
    {
     "name": "stdout",
     "output_type": "stream",
     "text": [
      "Populating the interactive namespace from numpy and matplotlib\n"
     ]
    }
   ],
   "source": [
    "%pylab inline"
   ]
  },
  {
   "cell_type": "markdown",
   "metadata": {},
   "source": [
    "__variables__"
   ]
  },
  {
   "cell_type": "code",
   "execution_count": 2,
   "metadata": {},
   "outputs": [],
   "source": [
    "precios = np.array([  4.9176,   5.0208,   4.5429,   4.5573,   5.0597,   3.891 ,\n",
    "         5.898 ,   5.6039,  16.4202,  14.4598,   5.8282,   5.3003,\n",
    "         6.2712,   5.9592,   5.05  ,   5.6039,   8.2464,   6.6969,\n",
    "         7.7841,   9.0384,   5.9894,   7.5422,   8.7951,   6.0931,\n",
    "         8.3607,   8.14  ,   9.1416,  12.    ])\n",
    "area = np.array([  3.472 ,   3.531 ,   2.275 ,   4.05  ,   4.455 ,   4.455 ,\n",
    "         5.85  ,   9.52  ,   9.8   ,  12.8   ,   6.435 ,   4.9883,\n",
    "         5.52  ,   6.666 ,   5.    ,   9.52  ,   5.15  ,   6.902 ,\n",
    "         7.102 ,   7.8   ,   5.52  ,   4.    ,   9.89  ,   6.7265,\n",
    "         9.15  ,   8.    ,   7.3262,   5.    ])"
   ]
  },
  {
   "cell_type": "markdown",
   "metadata": {},
   "source": [
    "__Relación entre dos variables__"
   ]
  },
  {
   "cell_type": "code",
   "execution_count": 3,
   "metadata": {},
   "outputs": [
    {
     "data": {
      "text/plain": [
       "<matplotlib.collections.PathCollection at 0x20573fd5780>"
      ]
     },
     "execution_count": 3,
     "metadata": {},
     "output_type": "execute_result"
    },
    {
     "data": {
      "image/png": "[encoded data removed]",
      "text/plain": [
       "<Figure size 432x288 with 1 Axes>"
      ]
     },
     "metadata": {
      "needs_background": "light"
     },
     "output_type": "display_data"
    }
   ],
   "source": [
    "plt.scatter(area,precios)"
   ]
  },
  {
   "cell_type": "markdown",
   "metadata": {},
   "source": [
    "# Regresión lineal\n",
    "Un modelo de regresión es un modelo que permite describir cómo influye una variable X sobre otra variable Y .\n",
    "* X: Variable independiente \n",
    "* Y: Variable dependiente \n",
    "El objetivo es obtener estimaciones razonables de Y para distintos valores de X a partir de una muestra de n pares de valores (x1, y1), . . . ,(xn, yn).\n",
    "\n",
    "La regresión es lineal cuando la función que relaciona X e Y es una función lineal: y = f (x) = β0 + β1x\n"
   ]
  },
  {
   "cell_type": "code",
   "execution_count": 4,
   "metadata": {},
   "outputs": [],
   "source": [
    "from scipy import stats"
   ]
  },
  {
   "cell_type": "code",
   "execution_count": 5,
   "metadata": {},
   "outputs": [],
   "source": [
    "result = stats.linregress(area,precios)"
   ]
  },
  {
   "cell_type": "markdown",
   "metadata": {},
   "source": [
    "__Coeficiente de correlación__: cuantifica la dependencia lineal entre dos variables, es decir, si se representan en un diagrama de dispersión los valores que toman dos variables, el coeficiente de correlación lineal señalará lo bien o lo mal que el conjunto de puntos representados se aproxima a una recta."
   ]
  },
  {
   "cell_type": "code",
   "execution_count": 6,
   "metadata": {},
   "outputs": [
    {
     "name": "stderr",
     "output_type": "stream",
     "text": [
      "C:\\Users\\hvillarr\\AppData\\Local\\Continuum\\anaconda3\\lib\\site-packages\\ipykernel_launcher.py:1: DeprecationWarning: bias and ddof have no effect and are deprecated\n",
      "  \"\"\"Entry point for launching an IPython kernel.\n"
     ]
    },
    {
     "data": {
      "text/plain": [
       "array([[1.        , 0.62804593],\n",
       "       [0.62804593, 1.        ]])"
      ]
     },
     "execution_count": 6,
     "metadata": {},
     "output_type": "execute_result"
    }
   ],
   "source": [
    "np.corrcoef(area,precios, bias=True) "
   ]
  },
  {
   "cell_type": "code",
   "execution_count": 7,
   "metadata": {},
   "outputs": [],
   "source": [
    "x = np.array([2,12])\n",
    "yp = result.slope * x + result.intercept #función de regresión lineal"
   ]
  },
  {
   "cell_type": "code",
   "execution_count": 8,
   "metadata": {},
   "outputs": [
    {
     "data": {
      "image/png": "[encoded data removed]",
      "text/plain": [
       "<Figure size 432x288 with 1 Axes>"
      ]
     },
     "metadata": {
      "needs_background": "light"
     },
     "output_type": "display_data"
    }
   ],
   "source": [
    "plt.scatter(area,precios)\n",
    "plt.plot (x,yp);"
   ]
  },
  {
   "cell_type": "code",
   "execution_count": 9,
   "metadata": {},
   "outputs": [
    {
     "data": {
      "image/png": "[encoded data removed]",
      "text/plain": [
       "<Figure size 432x288 with 1 Axes>"
      ]
     },
     "metadata": {
      "needs_background": "light"
     },
     "output_type": "display_data"
    }
   ],
   "source": [
    "error = precios -(result.slope * area + result.intercept)\n",
    "plt.hist(error);"
   ]
  },
  {
   "cell_type": "markdown",
   "metadata": {},
   "source": [
    "## Derivadas con python"
   ]
  },
  {
   "cell_type": "markdown",
   "metadata": {},
   "source": [
    "$$f(u,v)=(−𝑢−𝑣𝑥𝑖+𝑦𝑖)^2$$\n",
    "\n",
    "$$\\nabla f(u,v)= \\left( \\frac{\\partial f}{\\partial u}(u,v), \\frac{\\partial f}{\\partial v}(u,v)\\right)$$\n",
    "\n",
    "\n",
    "$$\\left\\{ \\begin{array}{ll}  \\frac{\\partial f}{\\partial u}(u,v)=-2\\bar{y}+2u+2v\\bar{x} \\\\\n",
    " \\frac{\\partial f}{\\partial v}(u,v)=-\\frac{2}{n}\\sum_{i=1}^nx_iy_i+2u \\bar{x}+\\frac{2v}{n}\\sum_{i=1}^nx_i^2 \\end{array} \\right.$$ "
   ]
  },
  {
   "cell_type": "code",
   "execution_count": 10,
   "metadata": {},
   "outputs": [],
   "source": [
    "# We are going to use a symbolic library\n",
    "from sympy import *"
   ]
  },
  {
   "cell_type": "code",
   "execution_count": 11,
   "metadata": {},
   "outputs": [],
   "source": [
    "init_printing()"
   ]
  },
  {
   "cell_type": "code",
   "execution_count": 12,
   "metadata": {},
   "outputs": [],
   "source": [
    "yi = Symbol(\"y_i\")\n",
    "xi = Symbol(\"x_i\")\n",
    "u = Symbol(\"u\")\n",
    "v = Symbol(\"v\")"
   ]
  },
  {
   "cell_type": "code",
   "execution_count": 13,
   "metadata": {},
   "outputs": [
    {
     "data": {
      "image/png": "[encoded data removed]",
      "text/latex": [
       "$$\\left(- u - v x_{i} + y_{i}\\right)^{2}$$"
      ],
      "text/plain": [
       "                2\n",
       "(-u - v⋅xᵢ + yᵢ) "
      ]
     },
     "execution_count": 13,
     "metadata": {},
     "output_type": "execute_result"
    }
   ],
   "source": [
    "expr=expand((yi - (v*xi+u))**2)\n",
    "exp\n",
    "(yi - (v*xi+u))**2"
   ]
  },
  {
   "cell_type": "code",
   "execution_count": 14,
   "metadata": {},
   "outputs": [
    {
     "data": {
      "image/png": "[encoded data removed]",
      "text/latex": [
       "$$2 u + 2 v x_{i} - 2 y_{i}$$"
      ],
      "text/plain": [
       "2⋅u + 2⋅v⋅xᵢ - 2⋅yᵢ"
      ]
     },
     "execution_count": 14,
     "metadata": {},
     "output_type": "execute_result"
    }
   ],
   "source": [
    "# Derivada de la expresion por u\n",
    "diff(expr,u)"
   ]
  },
  {
   "cell_type": "code",
   "execution_count": 15,
   "metadata": {},
   "outputs": [
    {
     "data": {
      "image/png": "[encoded data removed]",
      "text/latex": [
       "$$2 u x_{i} + 2 v x_{i}^{2} - 2 x_{i} y_{i}$$"
      ],
      "text/plain": [
       "               2          \n",
       "2⋅u⋅xᵢ + 2⋅v⋅xᵢ  - 2⋅xᵢ⋅yᵢ"
      ]
     },
     "execution_count": 15,
     "metadata": {},
     "output_type": "execute_result"
    }
   ],
   "source": [
    "# Derivada de la expresion por v\n",
    "diff(expr,v)"
   ]
  }
 ],
 "metadata": {
  "kernelspec": {
   "display_name": "Python 3",
   "language": "python",
   "name": "python3"
  },
  "language_info": {
   "codemirror_mode": {
    "name": "ipython",
    "version": 3
   },
   "file_extension": ".py",
   "mimetype": "text/x-python",
   "name": "python",
   "nbconvert_exporter": "python",
   "pygments_lexer": "ipython3",
   "version": "3.7.1"
  }
 },
 "nbformat": 4,
 "nbformat_minor": 2
}
