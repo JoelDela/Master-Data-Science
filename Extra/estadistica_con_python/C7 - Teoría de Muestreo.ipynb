{
 "cells": [
  {
   "cell_type": "code",
   "execution_count": 1,
   "metadata": {},
   "outputs": [
    {
     "name": "stdout",
     "output_type": "stream",
     "text": [
      "Populating the interactive namespace from numpy and matplotlib\n"
     ]
    }
   ],
   "source": [
    "%pylab inline"
   ]
  },
  {
   "cell_type": "markdown",
   "metadata": {},
   "source": [
    "# Teoría de muestreo\n",
    "\n",
    "Sea X una población y (X1,X2,···,Xn) una muestra aleatoria de dicha población. \n",
    "\n",
    "Un estadístico T = T(X1,X2,···,Xn) es una función real de la la muestra aleatoria. Los estadísticos más utilizados asociados a esta muestra aleatoria son __Media muestral y Varianza muestral__.\n",
    "\n",
    "En la sigiente tabla, que se basa en el __Teorema Central del Límite__ podemos ver las funciones de distribución de estos estadisticos cuando X sigue una distribución normal:\n",
    "\n",
    "<img src=\"C7 - Teoria de Muestreo.png\">"
   ]
  },
  {
   "cell_type": "code",
   "execution_count": 2,
   "metadata": {},
   "outputs": [],
   "source": [
    "from scipy import stats"
   ]
  },
  {
   "cell_type": "markdown",
   "metadata": {},
   "source": [
    "## Ejercicio \n",
    "\n",
    "Consideramos una población $X$ normal $N(0;1)$. Se toma una muestra aleatoria de tamaño $10$. Calcule la probabilidad del suceso \n",
    "* $\\{\\overline{X}<0.2\\}$\n",
    "* $ \\{ S^2<1.9\\}$.\n",
    "\n",
    "Como la muestra tiene tamaño < 30, entonces __la media de la muestra__ sigue una distribucion __t student con 10-1 grados de libetad__"
   ]
  },
  {
   "cell_type": "code",
   "execution_count": 3,
   "metadata": {},
   "outputs": [
    {
     "data": {
      "text/plain": [
       "0.7285895213199196"
      ]
     },
     "execution_count": 3,
     "metadata": {},
     "output_type": "execute_result"
    }
   ],
   "source": [
    "#media de la muestra\n",
    "mi_t=stats.t(10-1)\n",
    "t0 = (0.2-0)/(1/np.sqrt(10))\n",
    "mi_t.cdf(t0)"
   ]
  },
  {
   "cell_type": "code",
   "execution_count": 4,
   "metadata": {},
   "outputs": [
    {
     "data": {
      "image/png": "[encoded data removed]",
      "text/plain": [
       "<Figure size 432x288 with 1 Axes>"
      ]
     },
     "metadata": {
      "needs_background": "light"
     },
     "output_type": "display_data"
    }
   ],
   "source": [
    "x = np.linspace(0,5,100)\n",
    "y = list(map(mi_t.pdf,((x-0)/(1/np.sqrt(10))) ))\n",
    "plt.plot(x,y)\n",
    "plt.axvline(x=0.2,color=\"red\");"
   ]
  },
  {
   "cell_type": "markdown",
   "metadata": {},
   "source": [
    "Como la población sigue una distribución Normal, entonces __la varianza de la muestra__ sigue una distribución __Chi cuadrado con 10-1 grados de libertad__"
   ]
  },
  {
   "cell_type": "code",
   "execution_count": 5,
   "metadata": {},
   "outputs": [],
   "source": [
    "mi_c = stats.chi2(10-1)"
   ]
  },
  {
   "cell_type": "code",
   "execution_count": 6,
   "metadata": {},
   "outputs": [],
   "source": [
    "k0 = 10*1.9/(1**2)"
   ]
  },
  {
   "cell_type": "code",
   "execution_count": 7,
   "metadata": {},
   "outputs": [
    {
     "data": {
      "text/plain": [
       "0.974807104918331"
      ]
     },
     "execution_count": 7,
     "metadata": {},
     "output_type": "execute_result"
    }
   ],
   "source": [
    "mi_c.cdf(k0)"
   ]
  },
  {
   "cell_type": "code",
   "execution_count": 8,
   "metadata": {
    "scrolled": true
   },
   "outputs": [
    {
     "data": {
      "image/png": "[encoded data removed]",
      "text/plain": [
       "<Figure size 432x288 with 1 Axes>"
      ]
     },
     "metadata": {
      "needs_background": "light"
     },
     "output_type": "display_data"
    }
   ],
   "source": [
    "x = np.linspace(0,100,100)\n",
    "y = list(map(mi_c.pdf,x))\n",
    "plt.plot(x,y)\n",
    "plt.axvline(x=10*1.9,color=\"red\");"
   ]
  },
  {
   "cell_type": "markdown",
   "metadata": {},
   "source": [
    "__Otra forma de resolverlo__ con funciones"
   ]
  },
  {
   "cell_type": "code",
   "execution_count": 9,
   "metadata": {},
   "outputs": [
    {
     "data": {
      "text/plain": [
       "0.7285895213199196"
      ]
     },
     "execution_count": 9,
     "metadata": {},
     "output_type": "execute_result"
    }
   ],
   "source": [
    "def MediaMuestral(x,m,s,n):\n",
    "    return (x-m)/(s/np.sqrt(n))\n",
    "\n",
    "stats.t(9).cdf(MediaMuestral(0.2,0,1,10))"
   ]
  },
  {
   "cell_type": "code",
   "execution_count": 10,
   "metadata": {},
   "outputs": [
    {
     "data": {
      "text/plain": [
       "1.0"
      ]
     },
     "execution_count": 10,
     "metadata": {},
     "output_type": "execute_result"
    }
   ],
   "source": [
    "def VarianzaMuestral(x,n,s):\n",
    "    return (x*n/s)\n",
    "stats.chi(9).cdf(VarianzaMuestral(1.9,10,1))"
   ]
  }
 ],
 "metadata": {
  "kernelspec": {
   "display_name": "Python 3",
   "language": "python",
   "name": "python3"
  },
  "language_info": {
   "codemirror_mode": {
    "name": "ipython",
    "version": 3
   },
   "file_extension": ".py",
   "mimetype": "text/x-python",
   "name": "python",
   "nbconvert_exporter": "python",
   "pygments_lexer": "ipython3",
   "version": "3.7.1"
  }
 },
 "nbformat": 4,
 "nbformat_minor": 2
}
