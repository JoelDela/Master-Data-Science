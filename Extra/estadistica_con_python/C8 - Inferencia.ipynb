{
 "cells": [
  {
   "cell_type": "code",
   "execution_count": 1,
   "metadata": {},
   "outputs": [
    {
     "name": "stdout",
     "output_type": "stream",
     "text": [
      "Populating the interactive namespace from numpy and matplotlib\n"
     ]
    }
   ],
   "source": [
    "%pylab inline"
   ]
  },
  {
   "cell_type": "code",
   "execution_count": 2,
   "metadata": {},
   "outputs": [],
   "source": [
    "import pandas as pd"
   ]
  },
  {
   "cell_type": "code",
   "execution_count": 3,
   "metadata": {},
   "outputs": [],
   "source": [
    "from scipy import stats"
   ]
  },
  {
   "cell_type": "markdown",
   "metadata": {},
   "source": [
    "# Inferencia\n",
    "\n",
    "La inferencia estadística estudia como sacar conclusiones generales para toda la población a partir del estudio de una muestra, y el grado de fiabilidad de los resultados obtenidos."
   ]
  },
  {
   "cell_type": "markdown",
   "metadata": {},
   "source": [
    "## Método de los momentos\n",
    "\n",
    "La idea de este método se basa en que, dada una muestra (x1,...,xn) de la variable X que sigue una distribución dada por $f(x,\\Theta )$, la media muestral $\\bar{x}$ “debe parecerse” a la media poblacional $E_\\Theta(X)$ "
   ]
  },
  {
   "cell_type": "code",
   "execution_count": 4,
   "metadata": {},
   "outputs": [],
   "source": [
    "## tomo una muestra de tamaño 10 de una poblacion que sigue una distribucion normal(10,4)\n",
    "muestra = stats.norm(10,4).rvs(10)"
   ]
  },
  {
   "cell_type": "code",
   "execution_count": 5,
   "metadata": {},
   "outputs": [
    {
     "data": {
      "text/plain": [
       "9.39975982185057"
      ]
     },
     "execution_count": 5,
     "metadata": {},
     "output_type": "execute_result"
    }
   ],
   "source": [
    "muestra.mean()"
   ]
  },
  {
   "cell_type": "code",
   "execution_count": 6,
   "metadata": {},
   "outputs": [
    {
     "data": {
      "text/plain": [
       "3.787488241706161"
      ]
     },
     "execution_count": 6,
     "metadata": {},
     "output_type": "execute_result"
    }
   ],
   "source": [
    "muestra.std()"
   ]
  },
  {
   "cell_type": "markdown",
   "metadata": {},
   "source": [
    "Tambien se puede definir la distribución dandole datos de entrenamiento en lugar de la media y la varianza,"
   ]
  },
  {
   "cell_type": "code",
   "execution_count": 7,
   "metadata": {},
   "outputs": [],
   "source": [
    "s=[ 2.50894018,  1.27903325,  5.03029373,  4.01108373,  4.10059168,\n",
    "       12.22369783, 10.02783681,  5.24698163,  0.22345874,  8.96049011]"
   ]
  },
  {
   "cell_type": "code",
   "execution_count": 8,
   "metadata": {},
   "outputs": [
    {
     "data": {
      "text/plain": [
       "(5.361240769, 3.6953567303761825)"
      ]
     },
     "execution_count": 8,
     "metadata": {},
     "output_type": "execute_result"
    }
   ],
   "source": [
    "stats.norm.fit(s)"
   ]
  },
  {
   "cell_type": "code",
   "execution_count": 9,
   "metadata": {},
   "outputs": [
    {
     "data": {
      "text/plain": [
       "(6.03022743, 0.7810611020000007)"
      ]
     },
     "execution_count": 9,
     "metadata": {},
     "output_type": "execute_result"
    }
   ],
   "source": [
    "s=np.array([7.34606809, 6.03022743, 6.9555633 , 6.94775404, 8.58099473,\n",
    "       6.30417826, 6.36653388, 6.76947531, 6.54903626, 6.26305402])\n",
    "stats.expon.fit(s)"
   ]
  },
  {
   "cell_type": "markdown",
   "metadata": {},
   "source": [
    "#### Ejercicio\n",
    "Una población $X$ sigue una exponencial\n",
    "$Exp(\\lambda)$ de parámetro desconocido. Calcular el estimador\n",
    "de $\\theta=\\lambda$ por el método de los momentos.\n",
    "\n",
    "$X$ es continua con función de densidad \n",
    "$$f_\\lambda(x)=\\left\\{\n",
    "\\begin{array}{ll} 0 \\hspace{1cm} \\\\ \\lambda e^{- \\lambda x}\n",
    "\\hspace{0.5cm} \\end{array} \\right. $$"
   ]
  },
  {
   "cell_type": "code",
   "execution_count": 10,
   "metadata": {},
   "outputs": [],
   "source": [
    "from sympy import *"
   ]
  },
  {
   "cell_type": "code",
   "execution_count": 11,
   "metadata": {},
   "outputs": [],
   "source": [
    "init_printing()"
   ]
  },
  {
   "cell_type": "code",
   "execution_count": 12,
   "metadata": {},
   "outputs": [
    {
     "data": {
      "image/png": "[encoded data removed]",
      "text/latex": [
       "$$\\lambda x e^{- \\lambda x}$$"
      ],
      "text/plain": [
       "     -λ⋅x\n",
       "λ⋅x⋅ℯ    "
      ]
     },
     "execution_count": 12,
     "metadata": {},
     "output_type": "execute_result"
    }
   ],
   "source": [
    "l = Symbol(\"lambda\",positive=True,nonzero=True)\n",
    "x = Symbol(\"x\")\n",
    "expresion = x*l*exp(-l*x)\n",
    "expresion"
   ]
  },
  {
   "cell_type": "code",
   "execution_count": 13,
   "metadata": {},
   "outputs": [
    {
     "data": {
      "image/png": "[encoded data removed]",
      "text/latex": [
       "$$\\left(- x - 1\\right) e^{- x}$$"
      ],
      "text/plain": [
       "          -x\n",
       "(-x - 1)⋅ℯ  "
      ]
     },
     "execution_count": 13,
     "metadata": {},
     "output_type": "execute_result"
    }
   ],
   "source": [
    "E=integrate(x*1*exp(-1*x))\n",
    "E"
   ]
  },
  {
   "cell_type": "code",
   "execution_count": 14,
   "metadata": {},
   "outputs": [
    {
     "data": {
      "image/png": "[encoded data removed]",
      "text/latex": [
       "$$1$$"
      ],
      "text/plain": [
       "1"
      ]
     },
     "execution_count": 14,
     "metadata": {},
     "output_type": "execute_result"
    }
   ],
   "source": [
    "limit(E,x,+oo)-limit(E,x,0)"
   ]
  },
  {
   "cell_type": "markdown",
   "metadata": {},
   "source": [
    "## Método de Máxima Verosimilitud\n",
    "\n",
    "Sea X una población con función de masa $P_{\\Theta}$, o de densidad $f_{\\Theta}$, \n",
    "\n",
    "$\\Theta$ = ($\\theta_{1}$,$\\theta_{2}$,···,$\\theta_{k}$)  ∈$\\varTheta$,y (X1,X2,···,Xn) una muestra aleatoria simple.\n",
    "\n",
    "El estimador de máxima verosimilitud de θ es el formado por los valores ($\\hat{\\theta_{1}}$,$\\hat{\\theta_{2}}$,···,$\\hat{\\theta_{k}}$) que maximiza lo que llamamos función de verosimilitud de la muestra (x1,x2,···,xn) obtenida \n",
    "\n",
    "$$L(\\Theta) = L(\\Theta;x_{1, x{2},...,x{n}}) = \\left\\{\\begin{matrix}\n",
    "P_{\\Theta}(x_{1}) \\cdot P_{\\Theta}(x_{2}) \\cdot ..... \\cdot P_{\\Theta}(x_{n}) \\rightarrow Discreta\\\\ \n",
    "f_{\\Theta}(x_{1}) \\cdot f_{\\Theta}(x_{2}) \\cdot ..... \\cdot f_{\\Theta}(x_{n}) \\rightarrow Continua\n",
    "\\end{matrix}\\right.$$\n",
    "\n"
   ]
  },
  {
   "cell_type": "markdown",
   "metadata": {},
   "source": [
    "## Ejercicio - Máxima Verosimilitud Discreta\n",
    "\n",
    "El parámetro de una distribución de Poisson\n",
    "puede tomar uno de los cuatro valores siguientes: $\\lambda = 4;\\;\n",
    "4,5;\\; 5,5;\\; 6$. Decida cual de ellos puede ser, considerando una\n",
    "muestra aleatoria simple de tamaño dos $(X_1,X_2)$, con\n",
    "realización $(x_1,x_2)=(3,7)$, y basándose en el principio de\n",
    "máxima verosimilitud.\n",
    "\n",
    "Buscamos el $\\lambda$ que maximice la funcion de verosimilitud P(X=3)*P(X=7)"
   ]
  },
  {
   "cell_type": "code",
   "execution_count": 15,
   "metadata": {},
   "outputs": [
    {
     "data": {
      "image/png": "[encoded data removed]",
      "text/latex": [
       "$$0.011632210995883064$$"
      ],
      "text/plain": [
       "0.011632210995883064"
      ]
     },
     "execution_count": 15,
     "metadata": {},
     "output_type": "execute_result"
    }
   ],
   "source": [
    "#lambda = 4\n",
    "mi_poisson = stats.poisson(4)\n",
    "#P(X=3)*P(X=7)\n",
    "vero = mi_poisson.pmf(3)*mi_poisson.pmf(7)\n",
    "vero"
   ]
  },
  {
   "cell_type": "code",
   "execution_count": 16,
   "metadata": {},
   "outputs": [],
   "source": [
    "def vero(l):\n",
    "    mi_poisson = stats.poisson(l)\n",
    "    return mi_poisson.pmf(3)*mi_poisson.pmf(7)"
   ]
  },
  {
   "cell_type": "code",
   "execution_count": 17,
   "metadata": {},
   "outputs": [
    {
     "data": {
      "image/png": "[encoded data removed]",
      "text/latex": [
       "$$0.014661332311070295$$"
      ],
      "text/plain": [
       "0.014661332311070295"
      ]
     },
     "execution_count": 17,
     "metadata": {},
     "output_type": "execute_result"
    }
   ],
   "source": [
    "vero(5)"
   ]
  },
  {
   "cell_type": "code",
   "execution_count": 18,
   "metadata": {},
   "outputs": [
    {
     "name": "stdout",
     "output_type": "stream",
     "text": [
      "0.011632210995883064\n",
      "0.013896102657254342\n",
      "0.013989616432971738\n",
      "0.012285615923866327\n"
     ]
    }
   ],
   "source": [
    "for i in [4,4.5,5.5,6]:\n",
    "    print(vero(i))"
   ]
  },
  {
   "cell_type": "markdown",
   "metadata": {},
   "source": [
    "## Ejercicio - Máxima Verosimilitud Discreta\n",
    "\n",
    "En una gran piscifactoría hay una proporción desconocida de  peces de una especia A.\n",
    "  Para obtener información sobre esa proporción, vamos a ir sacando peces al azar.\n",
    "\n",
    "* Si la proporción de peces de la especie A es $p$, ¿cuál es la probabilidad de que el primer pez de la especie A sea el décimo que extraemos? \n",
    "* Tres personas realizan, independientemente unas de otras, el proceso de sacar peces al azar hasta encontrarse con el primero del tipo A:\n",
    "\n",
    "    * La primera persona obtiene el primer pez tipo A en la décima exacción. \n",
    "    * La segunda persona obtiene el primer pez tipo A en la decimoquinta extracción. \n",
    "    * La tercera persona obtiene el primer pez tipo A en la decimoctava extracción.\n",
    "\n",
    "Escribir la función de verosimilitud y obtener la estimación de máxima verosimilitud de $p$."
   ]
  },
  {
   "cell_type": "code",
   "execution_count": 19,
   "metadata": {},
   "outputs": [],
   "source": [
    "## ## 1\n",
    "# Binomial de 10 intentos y 1 exito. pexito = p"
   ]
  },
  {
   "cell_type": "code",
   "execution_count": 20,
   "metadata": {},
   "outputs": [],
   "source": [
    "from sympy import *"
   ]
  },
  {
   "cell_type": "code",
   "execution_count": 21,
   "metadata": {},
   "outputs": [],
   "source": [
    "p=Symbol(\"p\")"
   ]
  },
  {
   "cell_type": "code",
   "execution_count": 22,
   "metadata": {},
   "outputs": [],
   "source": [
    "Lc = p**3*(1-p)**40"
   ]
  },
  {
   "cell_type": "code",
   "execution_count": 23,
   "metadata": {},
   "outputs": [
    {
     "data": {
      "image/png": "[encoded data removed]",
      "text/latex": [
       "$$\\left [ 0, \\quad \\frac{3}{43}, \\quad 1\\right ]$$"
      ],
      "text/plain": [
       "[0, 3/43, 1]"
      ]
     },
     "execution_count": 23,
     "metadata": {},
     "output_type": "execute_result"
    }
   ],
   "source": [
    "solve(diff(Lc,p),p)"
   ]
  },
  {
   "cell_type": "markdown",
   "metadata": {},
   "source": [
    "## Ejercicio - Máxima Verosimilitud  Continua\n",
    "\n",
    "La duración en minutos de un determinado viaje\n",
    "es una variable aleatoria con distribución normal de media\n",
    "desconocida y desviacion tipica desconocida. En una muestra\n",
    "aleatoria de diez realizaciones del viaje en cuestión se\n",
    "obtuvieron los siguientes tiempos\n",
    "$$x_1=10,1 \\;\\; x_2=6,5 \\;\\; x_3=5,5 \\;\\; x_4=7,9 \\;\\; x_5=8,2\n",
    "\\;\\; x_6=6,5$$ $$  x_7=7,0\\;\\; x_8=8,1 \\;\\; x_9=6,9 \\;\\\n",
    "x_{10}=7,7.$$ Se pide:\n",
    "\n",
    "* Estimar por máxima verosimilitud la duración media del viaje.  \n",
    "* Calcular la probabilidad de que, en valor absoluto, la diferencia entre la estimación media estimada y la real sea menor que un minuto."
   ]
  },
  {
   "cell_type": "code",
   "execution_count": 24,
   "metadata": {},
   "outputs": [
    {
     "data": {
      "image/png": "[encoded data removed]",
      "text/latex": [
       "$$\\left ( 7.44375, \\quad 1.3176535726434317\\right )$$"
      ],
      "text/plain": [
       "(7.44375, 1.3176535726434317)"
      ]
     },
     "execution_count": 24,
     "metadata": {},
     "output_type": "execute_result"
    }
   ],
   "source": [
    "datos = np.array([10.1,6.5,5.5,7.9,8.2,6.5,10.1,6.5,5.5,7.9,8.2,6.5,7.0,8.1,6.9,7.7])\n",
    "stats.norm.fit(datos)"
   ]
  },
  {
   "cell_type": "code",
   "execution_count": 25,
   "metadata": {},
   "outputs": [
    {
     "data": {
      "image/png": "[encoded data removed]",
      "text/latex": [
       "$$7.44375$$"
      ],
      "text/plain": [
       "7.44375"
      ]
     },
     "execution_count": 25,
     "metadata": {},
     "output_type": "execute_result"
    }
   ],
   "source": [
    "datos.mean()"
   ]
  },
  {
   "cell_type": "code",
   "execution_count": 26,
   "metadata": {},
   "outputs": [
    {
     "data": {
      "image/png": "[encoded data removed]",
      "text/latex": [
       "$$1.3176535726434317$$"
      ],
      "text/plain": [
       "1.3176535726434317"
      ]
     },
     "execution_count": 26,
     "metadata": {},
     "output_type": "execute_result"
    }
   ],
   "source": [
    "datos.var()**0.5"
   ]
  },
  {
   "cell_type": "markdown",
   "metadata": {},
   "source": [
    "## Maxima Verosimilitud para un estimador Gausiano"
   ]
  },
  {
   "cell_type": "code",
   "execution_count": 27,
   "metadata": {},
   "outputs": [],
   "source": [
    "from scipy.optimize import minimize\n",
    "\n",
    "sample=stats.norm(100,20).rvs(1000)\n",
    "sample=np.array([10.1,6.5,5.5,7.9,8.2,6.5,10.1,6.5,5.5,7.9,8.2,6.5,7.0,8.1,6.9,7.7])"
   ]
  },
  {
   "cell_type": "code",
   "execution_count": 28,
   "metadata": {
    "scrolled": true
   },
   "outputs": [
    {
     "data": {
      "image/png": "[encoded data removed]",
      "text/plain": [
       "<Figure size 432x288 with 1 Axes>"
      ]
     },
     "metadata": {
      "needs_background": "light"
     },
     "output_type": "display_data"
    }
   ],
   "source": [
    "plt.hist(sample)\n",
    "plt.show()"
   ]
  },
  {
   "cell_type": "code",
   "execution_count": 29,
   "metadata": {},
   "outputs": [],
   "source": [
    "from sympy import *"
   ]
  },
  {
   "cell_type": "code",
   "execution_count": 30,
   "metadata": {},
   "outputs": [],
   "source": [
    "init_printing()"
   ]
  },
  {
   "cell_type": "code",
   "execution_count": 31,
   "metadata": {},
   "outputs": [],
   "source": [
    "u = Symbol(\"mu\")\n",
    "s = Symbol(\"sigma\")\n",
    "x = Symbol(\"x\")"
   ]
  },
  {
   "cell_type": "code",
   "execution_count": 32,
   "metadata": {},
   "outputs": [],
   "source": [
    "Gaussian_Formula = exp( (-1/2)*( (x-u)/s )**2 )/(s*sqrt(2*pi))"
   ]
  },
  {
   "cell_type": "code",
   "execution_count": 33,
   "metadata": {},
   "outputs": [
    {
     "data": {
      "image/png": "[encoded data removed]",
      "text/latex": [
       "$$\\frac{\\sqrt{2} e^{- \\frac{0.5 \\left(- \\mu + x\\right)^{2}}{\\sigma^{2}}}}{2 \\sqrt{\\pi} \\sigma}$$"
      ],
      "text/plain": [
       "                 2 \n",
       "    -0.5⋅(-μ + x)  \n",
       "    ───────────────\n",
       "            2      \n",
       "           σ       \n",
       "√2⋅ℯ               \n",
       "───────────────────\n",
       "       2⋅√π⋅σ      "
      ]
     },
     "execution_count": 33,
     "metadata": {},
     "output_type": "execute_result"
    }
   ],
   "source": [
    "Gaussian_Formula"
   ]
  },
  {
   "cell_type": "code",
   "execution_count": 34,
   "metadata": {},
   "outputs": [],
   "source": [
    "def log_likelihood_individual(x, mu, sig):\n",
    "    \"\"\"\"\"\"\n",
    "    #Do not use Math\n",
    "    return np.log(np.exp(-np.power(x - mu, 2.) / (2 * np.power(sig, 2.))))-np.log( np.sqrt(2*math.pi)*sig  )"
   ]
  },
  {
   "cell_type": "code",
   "execution_count": 35,
   "metadata": {},
   "outputs": [],
   "source": [
    "def sum_logs(u, s, sample=sample):\n",
    "    return sum([log_likelihood_individual(x, u, s) for x in sample])"
   ]
  },
  {
   "cell_type": "code",
   "execution_count": 36,
   "metadata": {},
   "outputs": [],
   "source": [
    "def maximize(sample):\n",
    "    negative_ll = lambda params: -sum_logs(*params, sample=sample)\n",
    "    params0 = np.array([10, 10])\n",
    "    res = minimize(negative_ll, params0, method='nelder-mead', options={'xtol': 1e-8})\n",
    "    return res"
   ]
  },
  {
   "cell_type": "code",
   "execution_count": 37,
   "metadata": {},
   "outputs": [],
   "source": [
    "def fit(sample):\n",
    "    res = maximize(sample)\n",
    "    if res.status != 0:\n",
    "        raise Exception(res.message)\n",
    "    return res.x"
   ]
  },
  {
   "cell_type": "code",
   "execution_count": 38,
   "metadata": {},
   "outputs": [],
   "source": [
    "res = fit(sample)"
   ]
  },
  {
   "cell_type": "code",
   "execution_count": 39,
   "metadata": {},
   "outputs": [
    {
     "data": {
      "image/png": "[encoded data removed]",
      "text/latex": [
       "$$7.443749992684401$$"
      ],
      "text/plain": [
       "7.443749992684401"
      ]
     },
     "execution_count": 39,
     "metadata": {},
     "output_type": "execute_result"
    }
   ],
   "source": [
    "res[0]"
   ]
  },
  {
   "cell_type": "code",
   "execution_count": 40,
   "metadata": {},
   "outputs": [
    {
     "data": {
      "image/png": "[encoded data removed]",
      "text/latex": [
       "$$1.3176535669556217$$"
      ],
      "text/plain": [
       "1.3176535669556217"
      ]
     },
     "execution_count": 40,
     "metadata": {},
     "output_type": "execute_result"
    }
   ],
   "source": [
    "res[1]"
   ]
  },
  {
   "cell_type": "code",
   "execution_count": null,
   "metadata": {},
   "outputs": [],
   "source": []
  }
 ],
 "metadata": {
  "kernelspec": {
   "display_name": "Python 3",
   "language": "python",
   "name": "python3"
  },
  "language_info": {
   "codemirror_mode": {
    "name": "ipython",
    "version": 3
   },
   "file_extension": ".py",
   "mimetype": "text/x-python",
   "name": "python",
   "nbconvert_exporter": "python",
   "pygments_lexer": "ipython3",
   "version": "3.7.1"
  }
 },
 "nbformat": 4,
 "nbformat_minor": 2
}
