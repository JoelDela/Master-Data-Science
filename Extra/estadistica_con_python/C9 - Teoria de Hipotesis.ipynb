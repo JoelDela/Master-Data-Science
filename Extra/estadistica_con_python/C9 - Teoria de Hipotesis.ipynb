{
 "cells": [
  {
   "cell_type": "code",
   "execution_count": 1,
   "metadata": {},
   "outputs": [
    {
     "name": "stdout",
     "output_type": "stream",
     "text": [
      "Populating the interactive namespace from numpy and matplotlib\n"
     ]
    }
   ],
   "source": [
    "%pylab inline\n",
    "import pandas as pd\n",
    "from scipy import stats\n",
    "from sympy import *"
   ]
  },
  {
   "cell_type": "markdown",
   "metadata": {},
   "source": [
    "# Teoría de Hipótesis\n",
    "Otra manera de hacer inferencia es haciendo pruebas de hipótesis, esto es, intentar corroborar una afirmación acerca de una población bajo estudio. Esta afirmación puede estar basada en alguna creencia o experiencia pasada y la contrastamos la evidencia que nosotros obtengamos de la muestra.\n",
    "\n",
    "Una prueba de hipótesis comprende cuatro componentes principales:\n",
    "* __Hipótesis Nula__ $H_{0}$, es lo que queremos desacreditar. \n",
    "$\\boxed{ H_{0}:\\mu = \\mu_{0}}  \\;   \\boxed{ H_{0}:\\mu \\leq  \\mu_{0}}  \\;   \\boxed{ H_{0}:\\mu \\geq  \\mu_{0}}$\n",
    "* __Hipótesis Alternativa__ $H_{1}$, es la que responde nuestra pregunta, la que se establece en base a la evidencia que tenemos. Puede tener cuatro formas: $\\boxed{ H_{1}:\\mu = \\mu_{0}}  \\; \\boxed{ H_{1}:\\mu < \\mu_{0}}  \\;  \\boxed{ H_{1}:\\mu >  \\mu_{0}}  \\;   \\boxed{ H_{1}:\\mu \\neq   \\mu_{0}}$\n",
    "* __Estadístico de Prueba__, son los estadisticos de nuestra muestra y en él basamos nuestra decisión acerca de si rechazar o no rechazar $H_{0}$\n",
    "* __Región de Rechazo__, es el conjunto de valores tales que si la prueba estadística cae dentro de este rango, decidimos rechazar $H_{0}$"
   ]
  },
  {
   "cell_type": "markdown",
   "metadata": {},
   "source": [
    "## Vamos a verlo con un ejemplo\n",
    "\n",
    "Unos estudiantes sacan las siguientes notas: [ 109.4, 76.2, 128.7, 93.7, 85.6,117.7, 117.2, 87.3, 100.3, 55.1]. \n",
    "\n",
    "Son peores estudiantes que los estudiantes de todo el pais que tienen una media de 110 ?\n",
    "\n",
    "* __$H_{0}$__ = Los estudiantes de la muestra están en la media nacional. $\\boxed{ H_{0}:\\mu = \\mu_{0}}$\n",
    "* __$H_{1}$__ = Los estudiantes de la muestra están por debajo la media nacional. $\\boxed{ H_{1}:\\mu \\leq \\mu_{0}}$\n",
    "* __Estadístico de prueba__ = usaremos la media muestral que como hemos visto en Teoría de muestreo sigue una distribución t de Student con n-1 grados de liberta"
   ]
  },
  {
   "cell_type": "code",
   "execution_count": 2,
   "metadata": {},
   "outputs": [],
   "source": [
    "muestra = np.array([109.4, 76.2, 128.7, 93.7, 85.6, 117.7, 117.2, 87.3, 100.3, 55.1])"
   ]
  },
  {
   "cell_type": "code",
   "execution_count": 3,
   "metadata": {},
   "outputs": [
    {
     "data": {
      "text/plain": [
       "97.11999999999999"
      ]
     },
     "execution_count": 3,
     "metadata": {},
     "output_type": "execute_result"
    }
   ],
   "source": [
    "mediapoblacion=110\n",
    "mediamuestra = muestra.mean()\n",
    "mediamuestra"
   ]
  },
  {
   "cell_type": "code",
   "execution_count": 4,
   "metadata": {},
   "outputs": [
    {
     "data": {
      "text/plain": [
       "21.045465069700885"
      ]
     },
     "execution_count": 4,
     "metadata": {},
     "output_type": "execute_result"
    }
   ],
   "source": [
    "varianzamuestra = muestra.std()\n",
    "varianzamuestra"
   ]
  },
  {
   "cell_type": "code",
   "execution_count": 5,
   "metadata": {},
   "outputs": [
    {
     "data": {
      "text/plain": [
       "12.900000000000006"
      ]
     },
     "execution_count": 5,
     "metadata": {},
     "output_type": "execute_result"
    }
   ],
   "source": [
    "110 - 97.1 "
   ]
  },
  {
   "cell_type": "code",
   "execution_count": 6,
   "metadata": {},
   "outputs": [],
   "source": [
    "#Estadístico\n",
    "def VarTStudent(x,m,s,n):\n",
    "    return (x-m)/(s/np.sqrt(n))\n",
    "\n",
    "mi_t=stats.t(9)"
   ]
  },
  {
   "cell_type": "markdown",
   "metadata": {},
   "source": [
    "Como las conclusiones a las que lleguemos se basan en una muestra, hay posibilidades de que nos equivoquemos. Estos son todos los posibles casos.\n",
    "\n",
    "<table>\n",
    "  <tr>\n",
    "    <th></th>\n",
    "    <th><center>$H_{0}$ Verdadera</center></th>\n",
    "    <th><center>$H_{0}$ Falsa</center></th>\n",
    "  </tr>\n",
    "  <tr>\n",
    "      <td><b><center>Rechazamos H 0</center></b></td>\n",
    "      <td><center>Error Tipo I<br>P(error Tipo I) = $\\alpha$</center></td>\n",
    "      <td><center>Decisión Correcta</center></td>\n",
    "  </tr>\n",
    "  <tr>\n",
    "    <td><center><b>No Rechazamos H 0</b></center></td>\n",
    "    <td><center>Decisión Correcta</center></td>\n",
    "    <td><center>Error Tipo II<br>P(error Tipo II) = $\\beta$</center></td>\n",
    "  </tr>\n",
    "</table>\n",
    "\n",
    "La Probabilidad de cometer un error Tipo I se conoce como __Nivel de Significancia__, se denota como $\\alpha$ y es el tamaño de la __región de rechazo__.\n",
    "El complemento de la región de rechazo es $1−\\alpha$ y es conocido como el __Coeficiente de Confianza__\n",
    "\n",
    "En algunos casos la hipótesis se rechaza cuando  $\\alpha < 0.05$ y en otros cuando $\\alpha < 0.01$"
   ]
  },
  {
   "cell_type": "code",
   "execution_count": 7,
   "metadata": {},
   "outputs": [
    {
     "data": {
      "text/plain": [
       "<matplotlib.collections.PolyCollection at 0x20bafd256a0>"
      ]
     },
     "execution_count": 7,
     "metadata": {},
     "output_type": "execute_result"
    },
    {
     "data": {
      "image/png": "[encoded data removed]",
      "text/plain": [
       "<Figure size 432x288 with 1 Axes>"
      ]
     },
     "metadata": {
      "needs_background": "light"
     },
     "output_type": "display_data"
    }
   ],
   "source": [
    "x=np.linspace(90,130,1000)\n",
    "d=list(map(mi_t.pdf,VarTStudent(x,mediapoblacion,varianzamuestra,9)))\n",
    "plt.plot(x,d)\n",
    "\n",
    "x1=np.linspace(90,97.12,1000)\n",
    "d1=list(map(mi_t.pdf,VarTStudent(x1,mediapoblacion,varianzamuestra,9)))\n",
    "plt.fill_between(x=x1,y1=d1,facecolor=\"red\")\n",
    "\n",
    "x2=np.linspace(123,130,1000)\n",
    "d2=list(map(mi_t.pdf,VarTStudent(x2,mediapoblacion,varianzamuestra,9)))\n",
    "plt.fill_between(x=x2,y1=d2,facecolor=\"red\")"
   ]
  },
  {
   "cell_type": "markdown",
   "metadata": {},
   "source": [
    "En esta gráfica la __región de rechazo__ es la zona roja.\n",
    "\n",
    "Calculo la probabilidad de que la media muestral no esté en la región de rechazo, esto es P(97.1 < X < 122,9) = $\\alpha$\n",
    "\n",
    "Para mas detalle http://lcolladotor.github.io/courses/Courses/MEyAdDG/day2/Pruebas%20de%20Hip%C3%B3tesis.pdf"
   ]
  },
  {
   "cell_type": "code",
   "execution_count": 8,
   "metadata": {},
   "outputs": [
    {
     "data": {
      "text/plain": [
       "0.0990132880795348"
      ]
     },
     "execution_count": 8,
     "metadata": {},
     "output_type": "execute_result"
    }
   ],
   "source": [
    "stats.t(9).cdf(VarTStudent(97.1,110,21.04,9))  + 1 - stats.t(9).cdf(VarTStudent(122.9,110,21.04,9))"
   ]
  },
  {
   "cell_type": "markdown",
   "metadata": {},
   "source": [
    "Como $\\alpha$ es mayor de 5%, no se rechaza la hipotesis inicial. Es decir los alumnos seleccionados no son peores de la media nacional con un nivel de confianza de 90%"
   ]
  },
  {
   "cell_type": "code",
   "execution_count": 9,
   "metadata": {
    "scrolled": true
   },
   "outputs": [
    {
     "name": "stderr",
     "output_type": "stream",
     "text": [
      "C:\\Users\\hvillarr\\AppData\\Local\\Continuum\\anaconda3\\lib\\site-packages\\numpy\\core\\fromnumeric.py:3157: RuntimeWarning: Degrees of freedom <= 0 for slice\n",
      "  **kwargs)\n",
      "C:\\Users\\hvillarr\\AppData\\Local\\Continuum\\anaconda3\\lib\\site-packages\\numpy\\core\\_methods.py:132: RuntimeWarning: invalid value encountered in double_scalars\n",
      "  ret = ret.dtype.type(ret / rcount)\n",
      "C:\\Users\\hvillarr\\AppData\\Local\\Continuum\\anaconda3\\lib\\site-packages\\scipy\\stats\\_distn_infrastructure.py:879: RuntimeWarning: invalid value encountered in greater\n",
      "  return (self.a < x) & (x < self.b)\n",
      "C:\\Users\\hvillarr\\AppData\\Local\\Continuum\\anaconda3\\lib\\site-packages\\scipy\\stats\\_distn_infrastructure.py:879: RuntimeWarning: invalid value encountered in less\n",
      "  return (self.a < x) & (x < self.b)\n",
      "C:\\Users\\hvillarr\\AppData\\Local\\Continuum\\anaconda3\\lib\\site-packages\\scipy\\stats\\_distn_infrastructure.py:1821: RuntimeWarning: invalid value encountered in less_equal\n",
      "  cond2 = cond0 & (x <= self.a)\n"
     ]
    },
    {
     "data": {
      "text/plain": [
       "Ttest_1sampResult(statistic=nan, pvalue=nan)"
      ]
     },
     "execution_count": 9,
     "metadata": {},
     "output_type": "execute_result"
    }
   ],
   "source": [
    "#Esto mismo se puede hacer con el test de Student\n",
    "stats.ttest_1samp(varianzamuestra,110)"
   ]
  },
  {
   "cell_type": "markdown",
   "metadata": {},
   "source": [
    "statistic = es el valor de la media muestral normalizado para la t Student \n",
    "            * La funcion que utiliza para normalizar es \n",
    "              def VarTStudent(x,m,s,n): $\n",
    "                return (x-m)/(s/np.sqrt(n-1)) \n",
    "\n",
    "pvalue = es la probabilidad de que ese estadistico este cerca"
   ]
  },
  {
   "cell_type": "markdown",
   "metadata": {},
   "source": [
    "### Two-Sample T-Test\n",
    "\n",
    "Hipotesis nula: La media de ambas distribuciones es la misma"
   ]
  },
  {
   "cell_type": "markdown",
   "metadata": {},
   "source": [
    "#### Ejemplo\n",
    "\n",
    "2 pizzerias envian pizzas a casa y queremos saber si hay una diferencia en el envio medio de pizzas entre la empresa A o B"
   ]
  },
  {
   "cell_type": "code",
   "execution_count": 10,
   "metadata": {},
   "outputs": [],
   "source": [
    "pizzeriaA = [20.4,24.2,15.4,21.4,20.2,18.5,21.5]\n",
    "pizzeriaB = [20.2,16.9,18.5,17.3,20.5]"
   ]
  },
  {
   "cell_type": "code",
   "execution_count": 11,
   "metadata": {},
   "outputs": [
    {
     "data": {
      "text/plain": [
       "Ttest_indResult(statistic=1.1193627069386796, pvalue=0.28915100822275147)"
      ]
     },
     "execution_count": 11,
     "metadata": {},
     "output_type": "execute_result"
    }
   ],
   "source": [
    "stats.ttest_ind(pizzeriaA,pizzeriaB)"
   ]
  },
  {
   "cell_type": "markdown",
   "metadata": {},
   "source": [
    "La diferencia de las 2 muestras sigue una variable de Student: $t=\\frac{(\\bar{X}_1-\\bar{X}_2)}{\\sigma_{\\bar{X}_1-\\bar{X}_2}}$"
   ]
  },
  {
   "cell_type": "markdown",
   "metadata": {},
   "source": [
    "La varianza es calculada con la siguiente formula: Sp = $\\sqrt{\\frac{(n_1-1)s_1^2+(n_2-1)s_2^2}{n_1+n_2-2}}$ $\\sigma_{\\bar{X}_1-\\bar{X}_2}=Sp\\sqrt{1/n_1+1/n_2}$"
   ]
  },
  {
   "cell_type": "markdown",
   "metadata": {},
   "source": [
    "### Paired T-test\n",
    "\n",
    "Se utiliza para ver la variacion de una poblacion normal en el tiempo (2 muestras que provienen de la misma poblacion y con la misma varianza).\n",
    "Es equivalente al test con una muestra comparando con una media de cero."
   ]
  },
  {
   "cell_type": "markdown",
   "metadata": {},
   "source": [
    "#### Ejercicio"
   ]
  },
  {
   "cell_type": "markdown",
   "metadata": {},
   "source": [
    "Las notas de un conjunto de 8 estudiantes en un test de fisica es: 60, 62, 67, 69, 70, 72, 75, and 78\n",
    "Testear si la media es significativamente distinta de 65.\n",
    "El investigador se da cuenta de que accidentalmente ha puesta 76 en vez de 67. Son las notas corregidas significativamente distintas de 65 ahora ?"
   ]
  },
  {
   "cell_type": "markdown",
   "metadata": {},
   "source": [
    "Se realiza un experimento sobre los efectos del alcohol con respecto a las abilidades motoras. 10 sujetos son testeados 2 veces, una vez tomando 2 copas de alcohol y otra tomando 2 copas de agua. A mayor nota, mejor es la abilidad motora. Comparar ambas distribuciones para ver si el alcohol hace efecto o no."
   ]
  },
  {
   "cell_type": "code",
   "execution_count": 12,
   "metadata": {},
   "outputs": [],
   "source": [
    "water = np.array([16.0, 15.0, 11.0, 20.0, 19.0, 14.0, 13.0, 15.0, 14.0, 16.0])\n",
    "alcohol = np.array([13.0, 13.0, 10.0, 18.0, 17.0, 11.0, 10.0, 15.0, 11.0, 16.0])"
   ]
  },
  {
   "cell_type": "code",
   "execution_count": 13,
   "metadata": {},
   "outputs": [
    {
     "data": {
      "text/plain": [
       "Ttest_relResult(statistic=5.018570166056055, pvalue=0.0007204913385455332)"
      ]
     },
     "execution_count": 13,
     "metadata": {},
     "output_type": "execute_result"
    }
   ],
   "source": [
    "stats.ttest_rel(water,alcohol)"
   ]
  },
  {
   "cell_type": "code",
   "execution_count": 14,
   "metadata": {},
   "outputs": [],
   "source": [
    "dif=water-alcohol"
   ]
  },
  {
   "cell_type": "code",
   "execution_count": 15,
   "metadata": {},
   "outputs": [
    {
     "data": {
      "text/plain": [
       "Ttest_1sampResult(statistic=5.018570166056055, pvalue=0.0007204913385455332)"
      ]
     },
     "execution_count": 15,
     "metadata": {},
     "output_type": "execute_result"
    }
   ],
   "source": [
    "stats.ttest_1samp(dif,0)"
   ]
  },
  {
   "cell_type": "markdown",
   "metadata": {},
   "source": [
    "### Test de Normalidad\n",
    "\n",
    "Cuando establece una hipotesis nula si los datos siguen una distribucion normal. Hay una gran cantidad de tests para aceptar o rechazar esa hipotesis:\n",
    "\n",
    "* Tests basados en comparaciones (best fit, casi siempre con un cdf)\n",
    "    * Kolmogorov–Smirnov test\n",
    "    * Lilliefors test\n",
    "    * Anderson–Darling test\n",
    "    * Cramer–von Mises criterion\n",
    "    * Shapiro–Francia tests.\n",
    "\n",
    "\n",
    "* Tests basados en estadisticos de la muestra\n",
    "    * Skewness test\n",
    "    * Kurtosis test\n",
    "    * Shapiro–Wilk\n",
    "    * D’Agostino–Pearson omnibus test\n",
    "    * Jarque–Bera test"
   ]
  },
  {
   "cell_type": "markdown",
   "metadata": {},
   "source": [
    "### Aproximacion de la variable normal con la variable de Poisson"
   ]
  },
  {
   "cell_type": "code",
   "execution_count": 16,
   "metadata": {},
   "outputs": [],
   "source": [
    "### Crear una variable de poisson\n",
    "poisson_50 = stats.poisson(20)"
   ]
  },
  {
   "cell_type": "code",
   "execution_count": 17,
   "metadata": {},
   "outputs": [
    {
     "data": {
      "text/plain": [
       "[<matplotlib.lines.Line2D at 0x20bb0113ac8>]"
      ]
     },
     "execution_count": 17,
     "metadata": {},
     "output_type": "execute_result"
    },
    {
     "data": {
      "image/png": "[encoded data removed]",
      "text/plain": [
       "<Figure size 432x288 with 1 Axes>"
      ]
     },
     "metadata": {
      "needs_background": "light"
     },
     "output_type": "display_data"
    }
   ],
   "source": [
    "x=np.arange(0,100,0.1)\n",
    "y=list(map(poisson_50.pmf,x))\n",
    "plt.plot(x,y)"
   ]
  },
  {
   "cell_type": "code",
   "execution_count": 18,
   "metadata": {},
   "outputs": [],
   "source": [
    "# Sacar unas muestras y hacer los tests de normalidad"
   ]
  },
  {
   "cell_type": "code",
   "execution_count": 19,
   "metadata": {},
   "outputs": [
    {
     "name": "stdout",
     "output_type": "stream",
     "text": [
      "43.000112\n",
      "39.26\n"
     ]
    }
   ],
   "source": [
    "np.random.seed(6)\n",
    "\n",
    "population_ages1 = stats.poisson.rvs(loc=18, mu=35, size=150000)\n",
    "population_ages2 = stats.poisson.rvs(loc=18, mu=10, size=100000)\n",
    "population_ages = np.concatenate((population_ages1, population_ages2))\n",
    "\n",
    "minnesota_ages1 = stats.poisson.rvs(loc=18, mu=30, size=30)\n",
    "minnesota_ages2 = stats.poisson.rvs(loc=18, mu=10, size=20)\n",
    "minnesota_ages = np.concatenate((minnesota_ages1, minnesota_ages2))\n",
    "\n",
    "print( population_ages.mean() )\n",
    "print( minnesota_ages.mean() )"
   ]
  },
  {
   "cell_type": "code",
   "execution_count": 20,
   "metadata": {},
   "outputs": [
    {
     "data": {
      "text/plain": [
       "[<matplotlib.lines.Line2D at 0x20bafd14278>]"
      ]
     },
     "execution_count": 20,
     "metadata": {},
     "output_type": "execute_result"
    },
    {
     "data": {
      "image/png": "[encoded data removed]",
      "text/plain": [
       "<Figure size 432x288 with 1 Axes>"
      ]
     },
     "metadata": {
      "needs_background": "light"
     },
     "output_type": "display_data"
    }
   ],
   "source": [
    "x=np.arange(0,100,0.1)\n",
    "y=list(map(stats.poisson(loc=18, mu=35).pmf,x))\n",
    "plt.plot(x,y)"
   ]
  },
  {
   "cell_type": "code",
   "execution_count": 21,
   "metadata": {},
   "outputs": [
    {
     "data": {
      "text/plain": [
       "Ttest_1sampResult(statistic=-2.5742714883655027, pvalue=0.013118685425061678)"
      ]
     },
     "execution_count": 21,
     "metadata": {},
     "output_type": "execute_result"
    }
   ],
   "source": [
    "stats.ttest_1samp(a= minnesota_ages,               # Sample data\n",
    "                 popmean= population_ages.mean())  # Pop mean"
   ]
  },
  {
   "cell_type": "code",
   "execution_count": null,
   "metadata": {},
   "outputs": [],
   "source": []
  }
 ],
 "metadata": {
  "kernelspec": {
   "display_name": "Python 3",
   "language": "python",
   "name": "python3"
  },
  "language_info": {
   "codemirror_mode": {
    "name": "ipython",
    "version": 3
   },
   "file_extension": ".py",
   "mimetype": "text/x-python",
   "name": "python",
   "nbconvert_exporter": "python",
   "pygments_lexer": "ipython3",
   "version": "3.7.1"
  }
 },
 "nbformat": 4,
 "nbformat_minor": 2
}
