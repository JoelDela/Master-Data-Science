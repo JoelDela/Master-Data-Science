{
 "cells": [
  {
   "cell_type": "markdown",
   "metadata": {},
   "source": [
    "# _In this document I will do some exercises about command lines in Shell._\n",
    "## <font color=grey>This exercises are part of the content of the Master as a reinforcement for the knowledge acquired.</font>\n",
    "***"
   ]
  },
  {
   "cell_type": "markdown",
   "metadata": {},
   "source": [
    "### File utilities"
   ]
  },
  {
   "cell_type": "markdown",
   "metadata": {},
   "source": [
    "#### Exercise 1: Create a directory \"first_dir\" in your home folder"
   ]
  },
  {
   "cell_type": "code",
   "execution_count": 4,
   "metadata": {},
   "outputs": [
    {
     "name": "stdout",
     "output_type": "stream",
     "text": [
      "/home/joeldela\n"
     ]
    }
   ],
   "source": [
    "cd"
   ]
  },
  {
   "cell_type": "code",
   "execution_count": 9,
   "metadata": {},
   "outputs": [],
   "source": [
    "mkdir first_dir"
   ]
  },
  {
   "cell_type": "markdown",
   "metadata": {},
   "source": [
    "#### Exercise 2: Create an empty file \"text_file.txt\" inside \"first_dir\" directory"
   ]
  },
  {
   "cell_type": "code",
   "execution_count": 11,
   "metadata": {},
   "outputs": [
    {
     "name": "stdout",
     "output_type": "stream",
     "text": [
      "/home/joeldela/first_dir\n"
     ]
    }
   ],
   "source": [
    "cd first_dir/"
   ]
  },
  {
   "cell_type": "code",
   "execution_count": 15,
   "metadata": {},
   "outputs": [],
   "source": [
    "!touch text_file.txt"
   ]
  },
  {
   "cell_type": "markdown",
   "metadata": {},
   "source": [
    "#### Exercise 3: Add execute permissions to group users, and write permissions to other user to \"text_file.txt\""
   ]
  },
  {
   "cell_type": "code",
   "execution_count": 20,
   "metadata": {},
   "outputs": [],
   "source": [
    "!chmod u+x,o+w text_file.txt"
   ]
  },
  {
   "cell_type": "markdown",
   "metadata": {},
   "source": [
    "#### Exercise 4: Create 3 subdirectories inside \"first_dir\". \"sub1\", \"sub2\", \"text_file\""
   ]
  },
  {
   "cell_type": "code",
   "execution_count": 22,
   "metadata": {},
   "outputs": [],
   "source": [
    "mkdir sub1 sub2 text_file"
   ]
  },
  {
   "cell_type": "markdown",
   "metadata": {},
   "source": [
    "#### Exercise 5: Copy the \"text_file.txt\" file into \"sub1\" directory"
   ]
  },
  {
   "cell_type": "code",
   "execution_count": 55,
   "metadata": {},
   "outputs": [],
   "source": [
    "cp text_file.txt sub1/"
   ]
  },
  {
   "cell_type": "markdown",
   "metadata": {},
   "source": [
    "#### Exercise 6: Move the \"text_file.txt\" into sub2 under name \"text_file.txt.2\""
   ]
  },
  {
   "cell_type": "code",
   "execution_count": 56,
   "metadata": {},
   "outputs": [],
   "source": [
    "mv sub1/text_file.txt sub2/text_file.txt.2"
   ]
  },
  {
   "cell_type": "markdown",
   "metadata": {},
   "source": [
    "#### Exercise 7: Copy the whole directory \"sub1\" to \"sub3\" directory"
   ]
  },
  {
   "cell_type": "code",
   "execution_count": 35,
   "metadata": {},
   "outputs": [],
   "source": [
    "cp -r sub1 sub3/"
   ]
  },
  {
   "cell_type": "markdown",
   "metadata": {},
   "source": [
    "#### Exercise 8: Change file name of \"fist_dir/sub2/text_file.txt.2\" to fist_dir/sub2/text_file.txt.backup\""
   ]
  },
  {
   "cell_type": "code",
   "execution_count": 57,
   "metadata": {},
   "outputs": [],
   "source": [
    "mv sub2/text_file.txt.2 sub2/text_file.txt.backup"
   ]
  },
  {
   "cell_type": "markdown",
   "metadata": {},
   "source": [
    "#### Exercise 9: Move \"first_dir/sub2/text_file.txt.backup\" to \"first_dir\" directory as hidden file"
   ]
  },
  {
   "cell_type": "code",
   "execution_count": 61,
   "metadata": {},
   "outputs": [],
   "source": [
    "mv sub2/text_file.txt.backup ./.text_file.txt.backup"
   ]
  },
  {
   "cell_type": "code",
   "execution_count": 63,
   "metadata": {
    "scrolled": true
   },
   "outputs": [
    {
     "name": "stdout",
     "output_type": "stream",
     "text": [
      "total 0\r\n",
      "drwxrwxrwx 1 joeldela joeldela 512 Nov  3 18:24 \u001b[0m\u001b[34;42m.\u001b[0m/\r\n",
      "drwxr-xr-x 1 joeldela joeldela 512 Nov  3 18:04 \u001b[01;34m..\u001b[0m/\r\n",
      "-rwxrw-rw- 1 joeldela joeldela   0 Nov  3 18:23 \u001b[01;32m.text_file.txt.backup\u001b[0m*\r\n",
      "drwxrwxrwx 1 joeldela joeldela 512 Nov  3 18:23 \u001b[34;42msub1\u001b[0m/\r\n",
      "drwxrwxrwx 1 joeldela joeldela 512 Nov  3 18:24 \u001b[34;42msub2\u001b[0m/\r\n",
      "drwxrwxrwx 1 joeldela joeldela 512 Nov  3 18:17 \u001b[34;42msub3\u001b[0m/\r\n",
      "drwxrwxrwx 1 joeldela joeldela 512 Nov  3 18:12 \u001b[34;42mtext_file\u001b[0m/\r\n",
      "-rwxrw-rw- 1 joeldela joeldela   0 Nov  3 18:06 \u001b[01;32mtext_file.txt\u001b[0m*\r\n"
     ]
    }
   ],
   "source": [
    "ls -al"
   ]
  },
  {
   "cell_type": "markdown",
   "metadata": {},
   "source": [
    "#### Exercise 10: Delete the \"sub2\" directory"
   ]
  },
  {
   "cell_type": "code",
   "execution_count": 64,
   "metadata": {},
   "outputs": [],
   "source": [
    "rm -r sub2"
   ]
  },
  {
   "cell_type": "markdown",
   "metadata": {},
   "source": [
    "### Content utilities"
   ]
  },
  {
   "cell_type": "markdown",
   "metadata": {},
   "source": [
    "#### Exercise 1: go to data/shell/ directory and use less to open Finn.txt\n",
    "#### a) locate the lines starting with 'The'\n",
    "#### b) locate the lines ending with 'works'"
   ]
  },
  {
   "cell_type": "code",
   "execution_count": 2,
   "metadata": {},
   "outputs": [
    {
     "name": "stdout",
     "output_type": "stream",
     "text": [
      "/home/joeldela\n"
     ]
    }
   ],
   "source": [
    "cd"
   ]
  },
  {
   "cell_type": "code",
   "execution_count": 3,
   "metadata": {},
   "outputs": [
    {
     "name": "stdout",
     "output_type": "stream",
     "text": [
      "/home/joeldela/Repos/DS_CL_files/shell\n"
     ]
    }
   ],
   "source": [
    "cd Repos/DS_CL_files/shell"
   ]
  },
  {
   "cell_type": "code",
   "execution_count": 4,
   "metadata": {},
   "outputs": [],
   "source": [
    "less Finn.txt"
   ]
  },
  {
   "cell_type": "markdown",
   "metadata": {},
   "source": [
    "a) /^The"
   ]
  },
  {
   "cell_type": "markdown",
   "metadata": {},
   "source": [
    "b) /works$"
   ]
  },
  {
   "cell_type": "code",
   "execution_count": null,
   "metadata": {},
   "outputs": [],
   "source": []
  }
 ],
 "metadata": {
  "kernelspec": {
   "display_name": "Python 3",
   "language": "python",
   "name": "python3"
  },
  "language_info": {
   "codemirror_mode": {
    "name": "ipython",
    "version": 3
   },
   "file_extension": ".py",
   "mimetype": "text/x-python",
   "name": "python",
   "nbconvert_exporter": "python",
   "pygments_lexer": "ipython3",
   "version": "3.7.4"
  }
 },
 "nbformat": 4,
 "nbformat_minor": 2
}
