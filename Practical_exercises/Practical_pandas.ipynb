{
 "cells": [
  {
   "cell_type": "markdown",
   "metadata": {},
   "source": [
    "#### Take home project\n",
    "\n",
    "If we wanted to do some machine learning, we would need to create as many informative features as we thought could be useful. This is called Feature Engineering.\n",
    "\n",
    "Discrete data would most often be transformed by [one-hot encoding](https://hackernoon.com/what-is-one-hot-encoding-why-and-when-do-you-have-to-use-it-e3c6186d008f), which is [very easy to do in pandas](https://pandas.pydata.org/pandas-docs/stable/reference/api/pandas.get_dummies.html).\n",
    "\n",
    "![One Hot Encoding](https://hackernoon.com/photos/4HK5qyMbWfetPhAavzyTZrEb90N2-3o23tie)\n",
    "\n",
    "With high cardinality discrete data such as airports or, especially, tail numbers, we would be left with many variables, most of which would not be very informative. There are [several options](https://www.datacamp.com/community/tutorials/encoding-methodologies) to deal with this. The most sophisticated is probably vector encoding, but we can do with a very simple approach: [target encoding](https://maxhalford.github.io/blog/target-encoding-done-the-right-way/).\n",
    "\n",
    "This means that we substitute each value of the discrete variable by the average or median value of the target variable for that value of the independent discrete variable. However! if we want to use this in machine learning for predictions, we would need to use only the previous values.\n",
    "\n",
    "Target encode the variable 'Origin' and the 'Tail_Number' variable, using for each cell only the values that were available the previous day. In other words: create a `median_delay_origin` variable that contains, for each record, the median delay at that airport _up to the previous day_. Create another one, `median_delay_plane`, with Tail_Number."
   ]
  },
  {
   "cell_type": "code",
   "execution_count": 1,
   "metadata": {},
   "outputs": [],
   "source": [
    "import pandas as pd\n",
    "import numpy as np\n",
    "import matplotlib.pyplot as plt\n",
    "\n",
    "%matplotlib inline"
   ]
  },
  {
   "cell_type": "code",
   "execution_count": 2,
   "metadata": {},
   "outputs": [],
   "source": [
    "from zipfile import ZipFile\n",
    "\n",
    "zip_path='On_Time_Reporting_Carrier_On_Time_Performance_1987_present_2019_9.zip'\n",
    "zf=ZipFile(zip_path)    #Actuará como un iter\n",
    "csv=zf.open(zf.filelist[0])   #Elegirá leer el archivo 1 del fichero zip"
   ]
  },
  {
   "cell_type": "code",
   "execution_count": 3,
   "metadata": {},
   "outputs": [],
   "source": [
    "interesting_columns= ['DayOfWeek', 'Reporting_Airline', 'Tail_Number', 'Flight_Number_Reporting_Airline', \n",
    "                      'Origin', 'OriginCityName', 'OriginStateName', 'OriginCityMarketID',\n",
    "                      'Dest', 'DestCityName', 'DestStateName', 'DestCityMarketID',\n",
    "                      'DepTime', 'DepDelay', 'AirTime', 'Distance']"
   ]
  },
  {
   "cell_type": "code",
   "execution_count": 4,
   "metadata": {},
   "outputs": [],
   "source": [
    "def cum_median_int(df,series,objective,by):\n",
    "    new_df=pd.DataFrame()\n",
    "    for dataframe in df:\n",
    "        dataframe[series].dropna(inplace=True)\n",
    "        dataframe[objective]=np.nan\n",
    "        for i in range(dataframe.shape[0]):\n",
    "            median_df=dataframe[[by,series]][:i].groupby(by).median()\n",
    "            median=median_df.to_dict()\n",
    "            if dataframe[by].iloc[i] not in median[series].keys():\n",
    "                continue\n",
    "            else:\n",
    "                dataframe[objective].iloc[i]=median[series][dataframe[by].iloc[i]]\n",
    "        new_df=new_df.append(dataframe)\n",
    "    return new_df"
   ]
  },
  {
   "cell_type": "code",
   "execution_count": 5,
   "metadata": {},
   "outputs": [],
   "source": [
    "csv.seek(0)\n",
    "df = pd.read_csv(csv,usecols=interesting_columns,chunksize=10000)"
   ]
  },
  {
   "cell_type": "code",
   "execution_count": 6,
   "metadata": {
    "scrolled": true
   },
   "outputs": [
    {
     "name": "stderr",
     "output_type": "stream",
     "text": [
      "/home/joeldela/anaconda3/lib/python3.7/site-packages/pandas/core/indexing.py:205: SettingWithCopyWarning: \n",
      "A value is trying to be set on a copy of a slice from a DataFrame\n",
      "\n",
      "See the caveats in the documentation: http://pandas.pydata.org/pandas-docs/stable/user_guide/indexing.html#returning-a-view-versus-a-copy\n",
      "  self._setitem_with_indexer(indexer, value)\n"
     ]
    },
    {
     "name": "stdout",
     "output_type": "stream",
     "text": [
      "CPU times: user 26min 25s, sys: 11.4 s, total: 26min 36s\n",
      "Wall time: 26min 41s\n"
     ]
    }
   ],
   "source": [
    "%%time\n",
    "df1=cum_median_int(df,'DepDelay','median_delay_origin',by='Origin')"
   ]
  },
  {
   "cell_type": "code",
   "execution_count": 7,
   "metadata": {},
   "outputs": [],
   "source": [
    "csv.seek(0)\n",
    "df = pd.read_csv(csv,usecols=interesting_columns,chunksize=10000)"
   ]
  },
  {
   "cell_type": "code",
   "execution_count": 8,
   "metadata": {
    "scrolled": false
   },
   "outputs": [
    {
     "name": "stdout",
     "output_type": "stream",
     "text": [
      "CPU times: user 34min 7s, sys: 11.1 s, total: 34min 19s\n",
      "Wall time: 34min 56s\n"
     ]
    }
   ],
   "source": [
    "%%time\n",
    "df2=cum_median_int(df,'DepDelay','median_delay_plane',by='Tail_Number')"
   ]
  },
  {
   "cell_type": "code",
   "execution_count": 9,
   "metadata": {},
   "outputs": [],
   "source": [
    "df_delay=pd.concat([df1,df2['median_delay_plane']],axis=1)"
   ]
  },
  {
   "cell_type": "code",
   "execution_count": 11,
   "metadata": {},
   "outputs": [
    {
     "name": "stdout",
     "output_type": "stream",
     "text": [
      "<class 'pandas.core.frame.DataFrame'>\n",
      "RangeIndex: 605979 entries, 0 to 605978\n",
      "Data columns (total 18 columns):\n",
      "DayOfWeek                          605979 non-null int64\n",
      "Reporting_Airline                  605979 non-null object\n",
      "Tail_Number                        604122 non-null object\n",
      "Flight_Number_Reporting_Airline    605979 non-null int64\n",
      "OriginCityMarketID                 605979 non-null int64\n",
      "Origin                             605979 non-null object\n",
      "OriginCityName                     605979 non-null object\n",
      "OriginStateName                    605979 non-null object\n",
      "DestCityMarketID                   605979 non-null int64\n",
      "Dest                               605979 non-null object\n",
      "DestCityName                       605979 non-null object\n",
      "DestStateName                      605979 non-null object\n",
      "DepTime                            596198 non-null float64\n",
      "DepDelay                           596198 non-null float64\n",
      "AirTime                            594716 non-null float64\n",
      "Distance                           605979 non-null float64\n",
      "median_delay_origin                598347 non-null float64\n",
      "median_delay_plane                 570391 non-null float64\n",
      "dtypes: float64(6), int64(4), object(8)\n",
      "memory usage: 83.2+ MB\n"
     ]
    }
   ],
   "source": [
    "df_delay.info()"
   ]
  },
  {
   "cell_type": "code",
   "execution_count": null,
   "metadata": {},
   "outputs": [],
   "source": []
  }
 ],
 "metadata": {
  "kernelspec": {
   "display_name": "Python 3",
   "language": "python",
   "name": "python3"
  },
  "language_info": {
   "codemirror_mode": {
    "name": "ipython",
    "version": 3
   },
   "file_extension": ".py",
   "mimetype": "text/x-python",
   "name": "python",
   "nbconvert_exporter": "python",
   "pygments_lexer": "ipython3",
   "version": "3.7.4"
  }
 },
 "nbformat": 4,
 "nbformat_minor": 2
}
