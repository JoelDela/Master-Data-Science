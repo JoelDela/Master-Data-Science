{
 "cells": [
  {
   "cell_type": "code",
   "execution_count": 12,
   "metadata": {},
   "outputs": [],
   "source": [
    "import numpy as np\n",
    "import matplotlib.pyplot as plt\n",
    "import matplotlib\n",
    "import pandas as pd\n",
    "from numpy import linalg as la\n",
    "\n",
    "matplotlib.style.use('ggplot')\n",
    "%matplotlib inline \n",
    "# Sirve para que el plot se dibuje debajo de la celda. En las últimas versiones viene por defecto."
   ]
  },
  {
   "cell_type": "markdown",
   "metadata": {},
   "source": [
    "__EJERCICIO__: Create a sample of points that follow the equation Y=AX+B where A=2.5 and B=20. Then, plot it as a cloud of points and a line"
   ]
  },
  {
   "cell_type": "code",
   "execution_count": 3,
   "metadata": {},
   "outputs": [
    {
     "data": {
      "text/plain": [
       "<matplotlib.collections.PathCollection at 0x7fd5a3e1e050>"
      ]
     },
     "execution_count": 3,
     "metadata": {},
     "output_type": "execute_result"
    },
    {
     "data": {
      "image/png": "[encoded data removed]",
      "text/plain": [
       "<Figure size 432x288 with 4 Axes>"
      ]
     },
     "metadata": {
      "needs_background": "light"
     },
     "output_type": "display_data"
    }
   ],
   "source": [
    "X=np.linspace(-1.5,1.5,26)\n",
    "A=2.5\n",
    "B=20\n",
    "\n",
    "x=np.random.uniform(-1.5,1.5,25)\n",
    "\n",
    "plt.subplot(2,2,1)\n",
    "plt.xlim(-1.5,1.5)\n",
    "plt.ylim(16,25)\n",
    "plt.plot(X,A*X+B,'r')\n",
    "plt.subplot(2,2,2)\n",
    "plt.xlim(-1.5,1.5)\n",
    "plt.ylim(16,25)\n",
    "plt.scatter(X,A*X+B,color='blue')\n",
    "plt.subplot(2,2,3)\n",
    "plt.xlim(-1.5,1.5)\n",
    "plt.ylim(16,25)\n",
    "plt.plot(x,A*x+B,'g')\n",
    "plt.subplot(2,2,4)\n",
    "plt.xlim(-1.5,1.5)\n",
    "plt.ylim(16,25)\n",
    "plt.scatter(x,A*x+B,color='yellow')"
   ]
  },
  {
   "attachments": {
    "image.png": {
     "image/png": "[encoded data removed]"
    }
   },
   "cell_type": "markdown",
   "metadata": {},
   "source": [
    "__EJERCICIO__: Represent the logistic, or sigmoid, function between -20 and 20. Remember:\n",
    "![image.png](attachment:image.png)\n",
    "(Hint: np.exp)"
   ]
  },
  {
   "cell_type": "code",
   "execution_count": 4,
   "metadata": {},
   "outputs": [
    {
     "data": {
      "text/plain": [
       "<matplotlib.collections.PathCollection at 0x7fd5a3d9aa50>"
      ]
     },
     "execution_count": 4,
     "metadata": {},
     "output_type": "execute_result"
    },
    {
     "data": {
      "image/png": "[encoded data removed]",
      "text/plain": [
       "<Figure size 432x288 with 1 Axes>"
      ]
     },
     "metadata": {
      "needs_background": "light"
     },
     "output_type": "display_data"
    }
   ],
   "source": [
    "n=np.random.uniform(0,100)\n",
    "l=np.random.uniform(0,100)\n",
    "x=np.linspace(-l,l,n)\n",
    "\n",
    "plt.scatter(x,1/(1+np.exp(-x)),color='y')\n"
   ]
  },
  {
   "cell_type": "code",
   "execution_count": 5,
   "metadata": {},
   "outputs": [],
   "source": [
    "def sigmoid(x):\n",
    "    return plt.plot(x,1/(1+np.exp(-x)),'r')"
   ]
  },
  {
   "cell_type": "code",
   "execution_count": 6,
   "metadata": {},
   "outputs": [
    {
     "data": {
      "text/plain": [
       "[<matplotlib.lines.Line2D at 0x7fd5a3c2bf10>]"
      ]
     },
     "execution_count": 6,
     "metadata": {},
     "output_type": "execute_result"
    },
    {
     "data": {
      "image/png": "[encoded data removed]",
      "text/plain": [
       "<Figure size 432x288 with 1 Axes>"
      ]
     },
     "metadata": {
      "needs_background": "light"
     },
     "output_type": "display_data"
    }
   ],
   "source": [
    "sigmoid(x)"
   ]
  },
  {
   "cell_type": "markdown",
   "metadata": {},
   "source": [
    "__EJERCICIO__: In a chicken and rabbit there are 35 heads and 94 legs. How many chickens and how many rabbits do we have?"
   ]
  },
  {
   "cell_type": "markdown",
   "metadata": {},
   "source": [
    "Each chicken will have 1 head and 2 legs. Each rabbit will have 1 head and 4 legs\n",
    "\n",
    "The equations will be:\n",
    "\n",
    "$ head*chicken+head*rabbit=35$\n",
    "\n",
    "$ legs*chicken+legs*rabbit=94$\n",
    "\n",
    "It can be passed to a matrix distribution and solved:\n"
   ]
  },
  {
   "cell_type": "code",
   "execution_count": 7,
   "metadata": {},
   "outputs": [
    {
     "name": "stdout",
     "output_type": "stream",
     "text": [
      "12 23\n"
     ]
    }
   ],
   "source": [
    "A=np.mat([(1,1),(4,2)])\n",
    "B=np.mat([(35),(94)]).reshape(2,1)\n",
    "\n",
    "X=A.I*B\n",
    "a,b=X\n",
    "print(int(a),int(b))"
   ]
  },
  {
   "cell_type": "code",
   "execution_count": 13,
   "metadata": {},
   "outputs": [
    {
     "data": {
      "text/plain": [
       "matrix([[12.],\n",
       "        [23.]])"
      ]
     },
     "execution_count": 13,
     "metadata": {},
     "output_type": "execute_result"
    }
   ],
   "source": [
    "la.solve(A,B)"
   ]
  },
  {
   "cell_type": "markdown",
   "metadata": {},
   "source": [
    "También se puede hacer con arrays"
   ]
  },
  {
   "cell_type": "code",
   "execution_count": 14,
   "metadata": {},
   "outputs": [
    {
     "data": {
      "text/plain": [
       "array([12., 23.])"
      ]
     },
     "execution_count": 14,
     "metadata": {},
     "output_type": "execute_result"
    }
   ],
   "source": [
    "A=np.array([(1,1),(4,2)])\n",
    "B=np.array([(35),(94)])\n",
    "\n",
    "la.solve(A,B)"
   ]
  }
 ],
 "metadata": {
  "kernelspec": {
   "display_name": "Python 3",
   "language": "python",
   "name": "python3"
  },
  "language_info": {
   "codemirror_mode": {
    "name": "ipython",
    "version": 3
   },
   "file_extension": ".py",
   "mimetype": "text/x-python",
   "name": "python",
   "nbconvert_exporter": "python",
   "pygments_lexer": "ipython3",
   "version": "3.7.4"
  }
 },
 "nbformat": 4,
 "nbformat_minor": 2
}
