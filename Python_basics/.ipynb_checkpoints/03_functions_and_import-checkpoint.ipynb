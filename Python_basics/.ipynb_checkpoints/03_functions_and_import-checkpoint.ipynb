{
 "cells": [
  {
   "cell_type": "code",
   "execution_count": 24,
   "metadata": {},
   "outputs": [],
   "source": [
    "def distance(point_1,point_2=(0,0)):\n",
    "    \"\"\"This functions returns the minimum \n",
    "    euclidian distance between two points\"\"\"\n",
    "    x=point_2[0]-point_1[0]\n",
    "    y=point_2[1]-point_1[1]\n",
    "    return (x**2+y**2)**0.5"
   ]
  },
  {
   "cell_type": "code",
   "execution_count": 25,
   "metadata": {},
   "outputs": [
    {
     "name": "stdout",
     "output_type": "stream",
     "text": [
      "Help on function distance in module __main__:\n",
      "\n",
      "distance(point_1, point_2=(0, 0))\n",
      "    This functions returns the minimum \n",
      "    euclidian distance between two points\n",
      "\n"
     ]
    }
   ],
   "source": [
    "help(distance)"
   ]
  },
  {
   "cell_type": "code",
   "execution_count": 26,
   "metadata": {},
   "outputs": [
    {
     "data": {
      "text/plain": [
       "<function __main__.distance(point_1, point_2=(0, 0))>"
      ]
     },
     "execution_count": 26,
     "metadata": {},
     "output_type": "execute_result"
    }
   ],
   "source": [
    "distance"
   ]
  },
  {
   "cell_type": "code",
   "execution_count": 27,
   "metadata": {
    "scrolled": false
   },
   "outputs": [
    {
     "data": {
      "text/plain": [
       "85.0235261559999"
      ]
     },
     "execution_count": 27,
     "metadata": {},
     "output_type": "execute_result"
    }
   ],
   "source": [
    "distance([85,2])"
   ]
  },
  {
   "cell_type": "code",
   "execution_count": 28,
   "metadata": {
    "scrolled": false
   },
   "outputs": [
    {
     "data": {
      "text/plain": [
       "405.9605892201853"
      ]
     },
     "execution_count": 28,
     "metadata": {},
     "output_type": "execute_result"
    }
   ],
   "source": [
    "distance([85,2],(5,400))"
   ]
  },
  {
   "cell_type": "code",
   "execution_count": 31,
   "metadata": {},
   "outputs": [],
   "source": [
    "def add_and_maybe_multiply(a,b,c=None):\n",
    "    result=a+b\n",
    "    if c is not None:\n",
    "        result*=c\n",
    "    return result"
   ]
  },
  {
   "cell_type": "code",
   "execution_count": 32,
   "metadata": {},
   "outputs": [
    {
     "data": {
      "text/plain": [
       "10"
      ]
     },
     "execution_count": 32,
     "metadata": {},
     "output_type": "execute_result"
    }
   ],
   "source": [
    "add_and_maybe_multiply(2,3,2)"
   ]
  },
  {
   "cell_type": "code",
   "execution_count": 33,
   "metadata": {},
   "outputs": [],
   "source": [
    "def noreturn():\n",
    "    x=2\n"
   ]
  },
  {
   "cell_type": "code",
   "execution_count": 35,
   "metadata": {
    "scrolled": true
   },
   "outputs": [
    {
     "name": "stdout",
     "output_type": "stream",
     "text": [
      "None\n"
     ]
    }
   ],
   "source": [
    "#Nos devuelve None ya que no tiene el comando return\n",
    "print(noreturn())"
   ]
  },
  {
   "cell_type": "code",
   "execution_count": 36,
   "metadata": {},
   "outputs": [
    {
     "name": "stdout",
     "output_type": "stream",
     "text": [
      "None\n"
     ]
    }
   ],
   "source": [
    "def noreturn2():\n",
    "    x=2\n",
    "    \n",
    "print(noreturn2())\n"
   ]
  },
  {
   "cell_type": "code",
   "execution_count": 37,
   "metadata": {},
   "outputs": [],
   "source": [
    "#El comando pass no hace nada, te permite dejarlo ahí para el futuro\n",
    "def my_super_function():\n",
    "    pass"
   ]
  },
  {
   "cell_type": "code",
   "execution_count": 57,
   "metadata": {},
   "outputs": [
    {
     "name": "stdout",
     "output_type": "stream",
     "text": [
      "(2, 3) 9\n"
     ]
    }
   ],
   "source": [
    "def multiple():\n",
    "    x=2\n",
    "    y=3\n",
    "    return x,y\n",
    "x=9\n",
    "print(multiple(),x)"
   ]
  },
  {
   "cell_type": "code",
   "execution_count": 59,
   "metadata": {},
   "outputs": [
    {
     "name": "stdout",
     "output_type": "stream",
     "text": [
      "2\n",
      "6\n"
     ]
    }
   ],
   "source": [
    "def multiple():\n",
    "    x=2\n",
    "    y=3\n",
    "    print(x)\n",
    "x=6\n",
    "multiple()\n",
    "print(x)"
   ]
  },
  {
   "cell_type": "code",
   "execution_count": 61,
   "metadata": {},
   "outputs": [
    {
     "name": "stdout",
     "output_type": "stream",
     "text": [
      "2\n",
      "2\n"
     ]
    }
   ],
   "source": [
    "#Ahora vemos que pasa cuando usamos variables globales\n",
    "def multiple():\n",
    "    global x\n",
    "    x=2\n",
    "    y=3\n",
    "    print(x)\n",
    "x=6\n",
    "multiple()\n",
    "print(x)"
   ]
  },
  {
   "cell_type": "code",
   "execution_count": 49,
   "metadata": {},
   "outputs": [
    {
     "name": "stdout",
     "output_type": "stream",
     "text": [
      "((4, 9), 6)\n"
     ]
    }
   ],
   "source": [
    "#Vemos como las funciones, por defecto, nos devuelve los valores en una tupla\n",
    "def f():\n",
    "    a=4;b=9;c=6\n",
    "    return (a,b),c\n",
    "\n",
    "print(f())"
   ]
  },
  {
   "cell_type": "code",
   "execution_count": 54,
   "metadata": {},
   "outputs": [],
   "source": [
    "#Podemos asignar variables a cada valor pero habrá que ajustarlo al objeto de salida\n",
    "((d,e),f)=f()"
   ]
  },
  {
   "cell_type": "code",
   "execution_count": 55,
   "metadata": {
    "scrolled": true
   },
   "outputs": [
    {
     "data": {
      "text/plain": [
       "(4, 9, 6)"
      ]
     },
     "execution_count": 55,
     "metadata": {},
     "output_type": "execute_result"
    }
   ],
   "source": [
    "d,e,f"
   ]
  },
  {
   "cell_type": "code",
   "execution_count": 65,
   "metadata": {},
   "outputs": [],
   "source": [
    "#Importamos la librería random\n",
    "import random as rnd"
   ]
  },
  {
   "cell_type": "code",
   "execution_count": 66,
   "metadata": {
    "scrolled": true
   },
   "outputs": [
    {
     "data": {
      "text/plain": [
       "['In',\n",
       " 'Out',\n",
       " '_',\n",
       " '_10',\n",
       " '_11',\n",
       " '_12',\n",
       " '_2',\n",
       " '_20',\n",
       " '_21',\n",
       " '_22',\n",
       " '_23',\n",
       " '_26',\n",
       " '_27',\n",
       " '_28',\n",
       " '_32',\n",
       " '_42',\n",
       " '_45',\n",
       " '_47',\n",
       " '_48',\n",
       " '_51',\n",
       " '_52',\n",
       " '_53',\n",
       " '_55',\n",
       " '_63',\n",
       " '_64',\n",
       " '_8',\n",
       " '_9',\n",
       " '__',\n",
       " '___',\n",
       " '__builtin__',\n",
       " '__builtins__',\n",
       " '__doc__',\n",
       " '__loader__',\n",
       " '__name__',\n",
       " '__package__',\n",
       " '__spec__',\n",
       " '_dh',\n",
       " '_i',\n",
       " '_i1',\n",
       " '_i10',\n",
       " '_i11',\n",
       " '_i12',\n",
       " '_i13',\n",
       " '_i14',\n",
       " '_i15',\n",
       " '_i16',\n",
       " '_i17',\n",
       " '_i18',\n",
       " '_i19',\n",
       " '_i2',\n",
       " '_i20',\n",
       " '_i21',\n",
       " '_i22',\n",
       " '_i23',\n",
       " '_i24',\n",
       " '_i25',\n",
       " '_i26',\n",
       " '_i27',\n",
       " '_i28',\n",
       " '_i29',\n",
       " '_i3',\n",
       " '_i30',\n",
       " '_i31',\n",
       " '_i32',\n",
       " '_i33',\n",
       " '_i34',\n",
       " '_i35',\n",
       " '_i36',\n",
       " '_i37',\n",
       " '_i38',\n",
       " '_i39',\n",
       " '_i4',\n",
       " '_i40',\n",
       " '_i41',\n",
       " '_i42',\n",
       " '_i43',\n",
       " '_i44',\n",
       " '_i45',\n",
       " '_i46',\n",
       " '_i47',\n",
       " '_i48',\n",
       " '_i49',\n",
       " '_i5',\n",
       " '_i50',\n",
       " '_i51',\n",
       " '_i52',\n",
       " '_i53',\n",
       " '_i54',\n",
       " '_i55',\n",
       " '_i56',\n",
       " '_i57',\n",
       " '_i58',\n",
       " '_i59',\n",
       " '_i6',\n",
       " '_i60',\n",
       " '_i61',\n",
       " '_i62',\n",
       " '_i63',\n",
       " '_i64',\n",
       " '_i65',\n",
       " '_i66',\n",
       " '_i7',\n",
       " '_i8',\n",
       " '_i9',\n",
       " '_ih',\n",
       " '_ii',\n",
       " '_iii',\n",
       " '_oh',\n",
       " 'add_and_maybe_multiply',\n",
       " 'd',\n",
       " 'distance',\n",
       " 'e',\n",
       " 'exit',\n",
       " 'f',\n",
       " 'get_ipython',\n",
       " 'multiple',\n",
       " 'my_super_function',\n",
       " 'noreturn',\n",
       " 'noreturn2',\n",
       " 'quit',\n",
       " 'random',\n",
       " 'rnd',\n",
       " 'x']"
      ]
     },
     "execution_count": 66,
     "metadata": {},
     "output_type": "execute_result"
    }
   ],
   "source": [
    "dir()"
   ]
  },
  {
   "cell_type": "code",
   "execution_count": 68,
   "metadata": {},
   "outputs": [
    {
     "data": {
      "text/plain": [
       "10"
      ]
     },
     "execution_count": 68,
     "metadata": {},
     "output_type": "execute_result"
    }
   ],
   "source": [
    "rnd.randint(1,10)"
   ]
  },
  {
   "cell_type": "code",
   "execution_count": 70,
   "metadata": {},
   "outputs": [],
   "source": [
    "#Podemos descargar solo un módulo\n",
    "from math import sin as seno"
   ]
  },
  {
   "cell_type": "code",
   "execution_count": null,
   "metadata": {},
   "outputs": [],
   "source": [
    "# Si hacemos esto pierde el origen, por lo que ya no se pondria math.__ o np.__\n",
    "# from math import *\n",
    "# from numpy import *"
   ]
  },
  {
   "cell_type": "markdown",
   "metadata": {},
   "source": [
    "A continuación vamos a hacer dos ejercicios:\n",
    "    \n",
    "1. Implement a\tfunction\tthat\ttakes\tas\tinput\tthree\tvariables,\tand\treturns\tthe\tlargest\tof\tthe\tthree.\t\tDo\tthis\twithout\tusing\tthe\tPython\tmax()\tfunction!\tMake\tone\tversion\twithout\tany\tlocal\tvariable\tand\tanother\twith\tone\tlocal\tvariable.\t(hint:\tit\tmight\tbe\teasier\tto\tuse\tedit) \n",
    "    \n",
    "2. Write\ta\tfunction\t“centenario”\tthat\twill\ttake\tName,\tand\tyear\tof\tbirth\t\tas\tinputs,\tcheck\tif\tyear\tof\tbirth\tis\tintand\tcast\tit\tto\tintif\tnot,\tand\tprint\tname\ttogether\twith\tthe\ttext\texplaining\twhen\tthe\tperson\tis\tto\thave\t100\tyears\t(hint:\tuse\tisinstance) call\tto\tfunction:\tcentenario(Antonio,\t1967) output:\tAntonio\twill\treach\t100\tyears\tin\t2067."
   ]
  },
  {
   "cell_type": "code",
   "execution_count": 79,
   "metadata": {},
   "outputs": [],
   "source": [
    "#Resolución ejercicio 1\n",
    "def g_largest_variable(a,b,c):\n",
    "    if len(str(a))>len(str(b)) and len(str(a))<len(str(c)):\n",
    "        return a\n",
    "    elif len(str(b))>len(str(a)) and len(str(b))>len(str(c)):\n",
    "        return b\n",
    "    else:\n",
    "        return c"
   ]
  },
  {
   "cell_type": "code",
   "execution_count": 80,
   "metadata": {
    "scrolled": true
   },
   "outputs": [
    {
     "data": {
      "text/plain": [
       "'jdskdonfosfdnfs'"
      ]
     },
     "execution_count": 80,
     "metadata": {},
     "output_type": "execute_result"
    }
   ],
   "source": [
    "g_largest_variable(\"kanddf\",4989846,\"jdskdonfosfdnfs\")"
   ]
  },
  {
   "cell_type": "code",
   "execution_count": 81,
   "metadata": {},
   "outputs": [],
   "source": [
    "#Resolución ejercicio 1\n",
    "def g_largest_variable(a,b,c):\n",
    "    if len(str(a))>len(str(b)) and len(str(a))<len(str(c)):\n",
    "        return a\n",
    "    elif len(str(b))>len(str(a)) and len(str(b))>len(str(c)):\n",
    "        return b\n",
    "    else:\n",
    "        return c"
   ]
  },
  {
   "cell_type": "code",
   "execution_count": 92,
   "metadata": {},
   "outputs": [],
   "source": [
    "#Resolvemos el ejercicio 2\n",
    "def centenario (name,year):\n",
    "    if not isinstance(year,int):\n",
    "        int(year)\n",
    "    year_plus_100=year+100\n",
    "    print(name+' will reach 100 years in '+str(year_plus_100))"
   ]
  },
  {
   "cell_type": "code",
   "execution_count": 93,
   "metadata": {},
   "outputs": [
    {
     "name": "stdout",
     "output_type": "stream",
     "text": [
      "Antonio will reach 100 years in 2067\n"
     ]
    }
   ],
   "source": [
    "centenario('Antonio',1967)"
   ]
  },
  {
   "cell_type": "code",
   "execution_count": null,
   "metadata": {},
   "outputs": [],
   "source": []
  }
 ],
 "metadata": {
  "kernelspec": {
   "display_name": "Python 3",
   "language": "python",
   "name": "python3"
  },
  "language_info": {
   "codemirror_mode": {
    "name": "ipython",
    "version": 3
   },
   "file_extension": ".py",
   "mimetype": "text/x-python",
   "name": "python",
   "nbconvert_exporter": "python",
   "pygments_lexer": "ipython3",
   "version": "3.7.4"
  }
 },
 "nbformat": 4,
 "nbformat_minor": 2
}
